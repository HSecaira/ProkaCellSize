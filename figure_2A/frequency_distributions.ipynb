{
 "cells": [
  {
   "cell_type": "markdown",
   "metadata": {},
   "source": [
    "# Distribution of cell size (volume, surface, and volume-to-surface ratio)"
   ]
  },
  {
   "cell_type": "code",
   "execution_count": 1,
   "metadata": {},
   "outputs": [],
   "source": [
    "import numpy as np\n",
    "import pandas as pd\n",
    "import matplotlib.pyplot as plt\n",
    "from mpl_toolkits import mplot3d\n",
    "import matplotlib.patches as mpatches\n",
    "import matplotlib.lines as mlines\n",
    "from matplotlib.legend import Legend"
   ]
  },
  {
   "cell_type": "code",
   "execution_count": 2,
   "metadata": {},
   "outputs": [],
   "source": [
    "from scipy.stats import norm, kstest, probplot, mode, kurtosis, skew"
   ]
  },
  {
   "cell_type": "code",
   "execution_count": 3,
   "metadata": {},
   "outputs": [],
   "source": [
    "from sklearn.neighbors import KernelDensity\n",
    "from sklearn.model_selection import GridSearchCV"
   ]
  },
  {
   "cell_type": "code",
   "execution_count": 4,
   "metadata": {},
   "outputs": [],
   "source": [
    "from statsmodels.stats.multitest import multipletests\n",
    "import statsmodels.api as sm"
   ]
  },
  {
   "cell_type": "code",
   "execution_count": 5,
   "metadata": {},
   "outputs": [],
   "source": [
    "#%matplotlib widget\n",
    "# %matplotlib notebook"
   ]
  },
  {
   "cell_type": "code",
   "execution_count": 6,
   "metadata": {},
   "outputs": [],
   "source": [
    "plt.rcParams.update({\n",
    "    'figure.autolayout': True,\n",
    "    'savefig.bbox': 'tight',\n",
    "    'svg.fonttype': 'none',\n",
    "    'font.sans-serif': 'Arial',\n",
    "    'font.size': 11,\n",
    "    'boxplot.medianprops.linewidth': 2,\n",
    "    'boxplot.flierprops.markeredgecolor': 'none',\n",
    "    'boxplot.flierprops.markersize': 5})"
   ]
  },
  {
   "cell_type": "code",
   "execution_count": 7,
   "metadata": {},
   "outputs": [],
   "source": [
    "# Function for kernel density estimation\n",
    "def kde(x, x_grid, bandwidth = 0.2, **kwargs):\n",
    "    kde_skl = KernelDensity(bandwidth = bandwidth, **kwargs)\n",
    "    kde_skl.fit(x[:, np.newaxis])\n",
    "    # Returns the log-likelihood of the samples\n",
    "    log_pdf = kde_skl.score_samples(x_grid[:, np.newaxis])\n",
    "    return np.exp(log_pdf)\n",
    "#     return log_pdf"
   ]
  },
  {
   "cell_type": "code",
   "execution_count": 8,
   "metadata": {},
   "outputs": [],
   "source": [
    "# Function to adjust hyperparameter by cross-validation\n",
    "def hyperp(x, mn, mx, cv):\n",
    "    bandwidths = 10 ** np.linspace(mn, mx, 50)\n",
    "    grid = GridSearchCV(KernelDensity(), {'bandwidth': bandwidths}, cv = cv)\n",
    "    grid.fit(x[:, np.newaxis])\n",
    "    return grid.best_params_"
   ]
  },
  {
   "cell_type": "code",
   "execution_count": 9,
   "metadata": {},
   "outputs": [],
   "source": [
    "def hypo_testing(test_statistic, n):\n",
    "    '''\n",
    "    Functions that performs hypothesis testing and calculate the critical value\n",
    "    of the K-S test\n",
    "    Inputs:\n",
    "        test_statistic: float containing the value of the test statistic\n",
    "        n: integer containg the sample size. \n",
    "    '''\n",
    "    if n > 50:\n",
    "        critical_value = 1.63 / np.sqrt(n)\n",
    "    \n",
    "    if test_statistic > critical_value:\n",
    "        return 'Reject Ho'\n",
    "    else:\n",
    "        return 'Not enough evidence to reject Ho'"
   ]
  },
  {
   "cell_type": "code",
   "execution_count": 10,
   "metadata": {},
   "outputs": [],
   "source": [
    "def pdf_normal(mean, std, x):\n",
    "    return 1 / (std * np.sqrt(2 * np.pi)) * np.exp(- (x - mean)**2 / (2 * std**2))"
   ]
  },
  {
   "cell_type": "markdown",
   "metadata": {},
   "source": [
    "Load data"
   ]
  },
  {
   "cell_type": "code",
   "execution_count": 11,
   "metadata": {},
   "outputs": [
    {
     "data": {
      "text/html": [
       "<div>\n",
       "<style scoped>\n",
       "    .dataframe tbody tr th:only-of-type {\n",
       "        vertical-align: middle;\n",
       "    }\n",
       "\n",
       "    .dataframe tbody tr th {\n",
       "        vertical-align: top;\n",
       "    }\n",
       "\n",
       "    .dataframe thead th {\n",
       "        text-align: right;\n",
       "    }\n",
       "</style>\n",
       "<table border=\"1\" class=\"dataframe\">\n",
       "  <thead>\n",
       "    <tr style=\"text-align: right;\">\n",
       "      <th></th>\n",
       "      <th>length</th>\n",
       "      <th>width</th>\n",
       "      <th>volume</th>\n",
       "      <th>surface</th>\n",
       "      <th>shape</th>\n",
       "      <th>species</th>\n",
       "      <th>genus</th>\n",
       "      <th>family</th>\n",
       "      <th>order</th>\n",
       "      <th>class</th>\n",
       "      <th>...</th>\n",
       "      <th>rank</th>\n",
       "      <th>node</th>\n",
       "      <th>genome</th>\n",
       "      <th>gc</th>\n",
       "      <th>proteins</th>\n",
       "      <th>coding</th>\n",
       "      <th>rrnas</th>\n",
       "      <th>MILC</th>\n",
       "      <th>ENCprime</th>\n",
       "      <th>hash</th>\n",
       "    </tr>\n",
       "    <tr>\n",
       "      <th>taxid</th>\n",
       "      <th></th>\n",
       "      <th></th>\n",
       "      <th></th>\n",
       "      <th></th>\n",
       "      <th></th>\n",
       "      <th></th>\n",
       "      <th></th>\n",
       "      <th></th>\n",
       "      <th></th>\n",
       "      <th></th>\n",
       "      <th></th>\n",
       "      <th></th>\n",
       "      <th></th>\n",
       "      <th></th>\n",
       "      <th></th>\n",
       "      <th></th>\n",
       "      <th></th>\n",
       "      <th></th>\n",
       "      <th></th>\n",
       "      <th></th>\n",
       "      <th></th>\n",
       "    </tr>\n",
       "  </thead>\n",
       "  <tbody>\n",
       "    <tr>\n",
       "      <th>taxid11</th>\n",
       "      <td>2.371708</td>\n",
       "      <td>1.060660</td>\n",
       "      <td>1.783187</td>\n",
       "      <td>7.902917</td>\n",
       "      <td>rod-shaped</td>\n",
       "      <td>Cellulomonas gilvus</td>\n",
       "      <td>Cellulomonas</td>\n",
       "      <td>Cellulomonadaceae</td>\n",
       "      <td>Micrococcales</td>\n",
       "      <td>Actinomycetia</td>\n",
       "      <td>...</td>\n",
       "      <td>species</td>\n",
       "      <td>G000218545</td>\n",
       "      <td>3526441.0</td>\n",
       "      <td>73.81</td>\n",
       "      <td>3206.0</td>\n",
       "      <td>91.772782</td>\n",
       "      <td>2.0</td>\n",
       "      <td>-0.262005</td>\n",
       "      <td>0.100836</td>\n",
       "      <td>1.88</td>\n",
       "    </tr>\n",
       "    <tr>\n",
       "      <th>taxid14</th>\n",
       "      <td>10.000000</td>\n",
       "      <td>0.489898</td>\n",
       "      <td>1.854174</td>\n",
       "      <td>15.390598</td>\n",
       "      <td>rod-shaped</td>\n",
       "      <td>Dictyoglomus thermophilum</td>\n",
       "      <td>Dictyoglomus</td>\n",
       "      <td>Dictyoglomaceae</td>\n",
       "      <td>Dictyoglomales</td>\n",
       "      <td>Dictyoglomia</td>\n",
       "      <td>...</td>\n",
       "      <td>species</td>\n",
       "      <td>G000020965</td>\n",
       "      <td>1959987.0</td>\n",
       "      <td>33.74</td>\n",
       "      <td>1890.0</td>\n",
       "      <td>93.777255</td>\n",
       "      <td>2.0</td>\n",
       "      <td>-0.064429</td>\n",
       "      <td>0.030205</td>\n",
       "      <td>0.58</td>\n",
       "    </tr>\n",
       "    <tr>\n",
       "      <th>taxid23</th>\n",
       "      <td>1.500000</td>\n",
       "      <td>0.700000</td>\n",
       "      <td>0.487470</td>\n",
       "      <td>3.298672</td>\n",
       "      <td>rod-shaped</td>\n",
       "      <td>Shewanella colwelliana</td>\n",
       "      <td>Shewanella</td>\n",
       "      <td>Shewanellaceae</td>\n",
       "      <td>Alteromonadales</td>\n",
       "      <td>Gammaproteobacteria</td>\n",
       "      <td>...</td>\n",
       "      <td>species</td>\n",
       "      <td>G000518705</td>\n",
       "      <td>4575622.0</td>\n",
       "      <td>45.39</td>\n",
       "      <td>4094.0</td>\n",
       "      <td>87.383136</td>\n",
       "      <td>0.0</td>\n",
       "      <td>-0.653363</td>\n",
       "      <td>0.248987</td>\n",
       "      <td>1.25</td>\n",
       "    </tr>\n",
       "    <tr>\n",
       "      <th>taxid104</th>\n",
       "      <td>1.039230</td>\n",
       "      <td>0.346410</td>\n",
       "      <td>0.087062</td>\n",
       "      <td>1.130973</td>\n",
       "      <td>ring-shaped</td>\n",
       "      <td>Cyclobacterium marinum</td>\n",
       "      <td>Cyclobacterium</td>\n",
       "      <td>Cyclobacteriaceae</td>\n",
       "      <td>Cytophagales</td>\n",
       "      <td>Cytophagia</td>\n",
       "      <td>...</td>\n",
       "      <td>species</td>\n",
       "      <td>G000222485</td>\n",
       "      <td>6221273.0</td>\n",
       "      <td>38.15</td>\n",
       "      <td>5114.0</td>\n",
       "      <td>87.121317</td>\n",
       "      <td>3.0</td>\n",
       "      <td>-0.200638</td>\n",
       "      <td>0.102722</td>\n",
       "      <td>1.33</td>\n",
       "    </tr>\n",
       "    <tr>\n",
       "      <th>taxid114</th>\n",
       "      <td>2.049390</td>\n",
       "      <td>2.049390</td>\n",
       "      <td>4.506844</td>\n",
       "      <td>13.194689</td>\n",
       "      <td>spherical</td>\n",
       "      <td>Gemmata obscuriglobus</td>\n",
       "      <td>Gemmata</td>\n",
       "      <td>Gemmataceae</td>\n",
       "      <td>Gemmatales</td>\n",
       "      <td>Planctomycetia</td>\n",
       "      <td>...</td>\n",
       "      <td>species</td>\n",
       "      <td>G000171775</td>\n",
       "      <td>9161841.0</td>\n",
       "      <td>67.18</td>\n",
       "      <td>8067.0</td>\n",
       "      <td>84.083188</td>\n",
       "      <td>3.0</td>\n",
       "      <td>-0.154188</td>\n",
       "      <td>0.056476</td>\n",
       "      <td>1.00</td>\n",
       "    </tr>\n",
       "  </tbody>\n",
       "</table>\n",
       "<p>5 rows × 22 columns</p>\n",
       "</div>"
      ],
      "text/plain": [
       "             length     width    volume    surface        shape  \\\n",
       "taxid                                                             \n",
       "taxid11    2.371708  1.060660  1.783187   7.902917   rod-shaped   \n",
       "taxid14   10.000000  0.489898  1.854174  15.390598   rod-shaped   \n",
       "taxid23    1.500000  0.700000  0.487470   3.298672   rod-shaped   \n",
       "taxid104   1.039230  0.346410  0.087062   1.130973  ring-shaped   \n",
       "taxid114   2.049390  2.049390  4.506844  13.194689    spherical   \n",
       "\n",
       "                            species           genus             family  \\\n",
       "taxid                                                                    \n",
       "taxid11         Cellulomonas gilvus    Cellulomonas  Cellulomonadaceae   \n",
       "taxid14   Dictyoglomus thermophilum    Dictyoglomus    Dictyoglomaceae   \n",
       "taxid23      Shewanella colwelliana      Shewanella     Shewanellaceae   \n",
       "taxid104     Cyclobacterium marinum  Cyclobacterium  Cyclobacteriaceae   \n",
       "taxid114      Gemmata obscuriglobus         Gemmata        Gemmataceae   \n",
       "\n",
       "                    order                class  ...     rank        node  \\\n",
       "taxid                                           ...                        \n",
       "taxid11     Micrococcales        Actinomycetia  ...  species  G000218545   \n",
       "taxid14    Dictyoglomales         Dictyoglomia  ...  species  G000020965   \n",
       "taxid23   Alteromonadales  Gammaproteobacteria  ...  species  G000518705   \n",
       "taxid104     Cytophagales           Cytophagia  ...  species  G000222485   \n",
       "taxid114       Gemmatales       Planctomycetia  ...  species  G000171775   \n",
       "\n",
       "             genome     gc  proteins     coding  rrnas      MILC  ENCprime  \\\n",
       "taxid                                                                        \n",
       "taxid11   3526441.0  73.81    3206.0  91.772782    2.0 -0.262005  0.100836   \n",
       "taxid14   1959987.0  33.74    1890.0  93.777255    2.0 -0.064429  0.030205   \n",
       "taxid23   4575622.0  45.39    4094.0  87.383136    0.0 -0.653363  0.248987   \n",
       "taxid104  6221273.0  38.15    5114.0  87.121317    3.0 -0.200638  0.102722   \n",
       "taxid114  9161841.0  67.18    8067.0  84.083188    3.0 -0.154188  0.056476   \n",
       "\n",
       "          hash  \n",
       "taxid           \n",
       "taxid11   1.88  \n",
       "taxid14   0.58  \n",
       "taxid23   1.25  \n",
       "taxid104  1.33  \n",
       "taxid114  1.00  \n",
       "\n",
       "[5 rows x 22 columns]"
      ]
     },
     "execution_count": 11,
     "metadata": {},
     "output_type": "execute_result"
    }
   ],
   "source": [
    "df = pd.read_table('../phylogeny/place/fine_all.tsv', index_col = 0)\n",
    "df.head()"
   ]
  },
  {
   "cell_type": "code",
   "execution_count": 12,
   "metadata": {},
   "outputs": [],
   "source": [
    "# Reformat shape column\n",
    "def refShape(s):\n",
    "    if 'shaped' in str(s):\n",
    "        return s.split('-')[0]\n",
    "    # Cyanobacteira - modeled as sphere\n",
    "    elif str(s) == 'sphere/spheroid':\n",
    "        return 'sphere'\n",
    "    elif str(s) in ['rods']:\n",
    "        return 'rod'\n",
    "    elif '/' in str(s):\n",
    "        return '-'.join(s.split('/'))\n",
    "    else:\n",
    "        return s"
   ]
  },
  {
   "cell_type": "code",
   "execution_count": 13,
   "metadata": {},
   "outputs": [],
   "source": [
    "def refShape1(s):\n",
    "    if str(s) in ['ovoid', 'oval', 'ellipsoidal']:\n",
    "        return 'ovoid'\n",
    "    elif str(s) == 'pear':\n",
    "        return 'sphere'\n",
    "    elif str(s) in ['sphere', 'spherical']:\n",
    "        return 'sphere'\n",
    "    else:\n",
    "        return s"
   ]
  },
  {
   "cell_type": "code",
   "execution_count": 14,
   "metadata": {},
   "outputs": [],
   "source": [
    "def assignColor(p):\n",
    "    if p == 'Proteobacteria':\n",
    "        return '#c05761'\n",
    "    elif p == 'Bacteroidetes':\n",
    "        return '#ff924c'\n",
    "    elif p == 'Firmicutes':\n",
    "        return '#ffca3a'\n",
    "    elif p == 'Actinobacteria':\n",
    "        return '#8ac926'\n",
    "    elif p == 'Tenericutes':\n",
    "        return '#52a675'\n",
    "    elif p == 'Euryarchaeota':\n",
    "        return '#1982c4'\n",
    "    elif p == 'Spirochaetes':\n",
    "        return '#4267ac'\n",
    "    elif p == 'Cyanobacteria':\n",
    "        return '#6a4c93'\n",
    "    else:\n",
    "        return '#495057'"
   ]
  },
  {
   "cell_type": "code",
   "execution_count": 15,
   "metadata": {},
   "outputs": [],
   "source": [
    "df['shape'] = df['shape'].map(refShape)\n",
    "df['shape'] = df['shape'].map(refShape1)"
   ]
  },
  {
   "cell_type": "code",
   "execution_count": 16,
   "metadata": {},
   "outputs": [],
   "source": [
    "df['color'] = df['phylum'].map(assignColor)"
   ]
  },
  {
   "cell_type": "markdown",
   "metadata": {},
   "source": [
    "Frequency distribution of cell size"
   ]
  },
  {
   "cell_type": "code",
   "execution_count": 17,
   "metadata": {},
   "outputs": [],
   "source": [
    "df['svratio'] = df['volume'] / df['surface']"
   ]
  },
  {
   "cell_type": "code",
   "execution_count": 18,
   "metadata": {},
   "outputs": [],
   "source": [
    "dimensions = ['volume', 'surface', 'svratio']"
   ]
  },
  {
   "cell_type": "code",
   "execution_count": 19,
   "metadata": {},
   "outputs": [
    {
     "data": {
      "image/png": "[encoded data removed]",
      "text/plain": [
       "<Figure size 864x432 with 3 Axes>"
      ]
     },
     "metadata": {
      "needs_background": "light"
     },
     "output_type": "display_data"
    }
   ],
   "source": [
    "fig, ax = plt.subplots(3, 1, figsize = (12, 6))\n",
    "for i, dim in enumerate(dimensions):\n",
    "    data = np.log10(df[dim])\n",
    "        \n",
    "    ax[i].boxplot(data, widths = 0.75, vert = False, sym = 'ko')\n",
    "    ax[i].set_xlabel(f'{dim} ($\\\\mu m^x$)')\n",
    "    \n",
    "plt.show()"
   ]
  },
  {
   "cell_type": "code",
   "execution_count": 20,
   "metadata": {},
   "outputs": [
    {
     "name": "stdout",
     "output_type": "stream",
     "text": [
      "('Reject Ho', KstestResult(statistic=0.06350617701765093, pvalue=2.630678177941848e-19), (-0.3186729569186747, 0.6563171751093615))\n",
      "\n",
      "('Reject Ho', KstestResult(statistic=0.06171139769741052, pvalue=2.9688188510961023e-18), (0.5692915533672656, 0.4512385529769969))\n",
      "\n",
      "('Reject Ho', KstestResult(statistic=0.062361473172684034, pvalue=1.2440966946415658e-18), (-0.8879645102859404, 0.2342495792347394))\n",
      "\n"
     ]
    },
    {
     "data": {
      "image/png": "[encoded data removed]",
      "text/plain": [
       "<Figure size 432x432 with 3 Axes>"
      ]
     },
     "metadata": {
      "needs_background": "light"
     },
     "output_type": "display_data"
    }
   ],
   "source": [
    "log = False\n",
    "\n",
    "fig, ax = plt.subplots(3, 1, figsize = (6, 6), sharey = False)\n",
    "\n",
    "for i, dim in enumerate(dimensions):\n",
    "    \n",
    "    data = np.log10(df[dim])\n",
    "    label = f'{dim} ($\\\\mu m^x$) (log)'\n",
    "        \n",
    "    n = data.shape[0]\n",
    "    # Fit a normal distribution to data\n",
    "    parameters = norm.fit(data)\n",
    "    # Perform Kolmogorov-Smirnov test (goodness of fit)\n",
    "    gft = kstest(data, 'norm', parameters)\n",
    "    # Hypothesis testing (Ho: normal)\n",
    "    print(f'{hypo_testing(gft[0], n), gft, parameters}\\n')\n",
    "    \n",
    "    # Plot\n",
    "    count, bins, ignore = ax[i].hist(data, bins = 'auto', density = True, color = '#8d99ae', edgecolor = None)\n",
    "    ax[i].plot(bins, pdf_normal(parameters[0], parameters[1], bins), color = '#d62839', linewidth = 1,\n",
    "              linestyle = 'solid')\n",
    "    ax[i].fill_between(bins, pdf_normal(parameters[0], parameters[1], bins), \n",
    "                       color = '#d62839', linewidth = 1, alpha = 0.2)\n",
    "    ax[i].axvline(x = parameters[0], color = '#d62828', linestyle = 'dashed', linewidth = 1)\n",
    "    \n",
    "    ax[i].set_ylabel(f'Frequency')\n",
    "    ax[i].set_xlabel(label)\n",
    "    if log:\n",
    "        ax[i].set_yscale('log')\n",
    "        ax[i].set_xscale('log')\n",
    "\n",
    "plt.show()"
   ]
  },
  {
   "cell_type": "markdown",
   "metadata": {},
   "source": [
    "## Statistical test"
   ]
  },
  {
   "cell_type": "markdown",
   "metadata": {},
   "source": [
    "Testing normality"
   ]
  },
  {
   "cell_type": "code",
   "execution_count": 21,
   "metadata": {},
   "outputs": [],
   "source": [
    "res = []\n",
    "for dim in ['volume', 'surface', 'svratio']:\n",
    "    data = np.log10(df[dim])  \n",
    "    # Fit a normal distribution to data\n",
    "    parameters = norm.fit(data)\n",
    "    # Perform Kolmogorov-Smirnov test (goodness of fit)\n",
    "    gft = kstest(data, 'norm', parameters)\n",
    "    res.append([dim, parameters[0], parameters[1], 10 ** parameters[0], 10 ** parameters[1], gft[0], gft[1]])"
   ]
  },
  {
   "cell_type": "code",
   "execution_count": 22,
   "metadata": {},
   "outputs": [
    {
     "data": {
      "text/plain": [
       "(3, 6)"
      ]
     },
     "execution_count": 22,
     "metadata": {},
     "output_type": "execute_result"
    }
   ],
   "source": [
    "dfr_norm = pd.DataFrame(res, \n",
    "        columns = ['metric', 'mean', 'std', 'mean_lin', 'std_lin', 'KS_statistic', 'pvalue']).set_index('metric')\n",
    "dfr_norm.shape"
   ]
  },
  {
   "cell_type": "markdown",
   "metadata": {},
   "source": [
    "## Correct p-values due to multiple testing using Benjamini/Hochberg"
   ]
  },
  {
   "cell_type": "code",
   "execution_count": 23,
   "metadata": {},
   "outputs": [],
   "source": [
    "pvals_corrected = multipletests(dfr_norm['pvalue'], alpha = 0.05, method = 'fdr_bh')[1]"
   ]
  },
  {
   "cell_type": "code",
   "execution_count": 24,
   "metadata": {},
   "outputs": [],
   "source": [
    "dfr_norm['pvalue_corrected'] = pvals_corrected"
   ]
  },
  {
   "cell_type": "code",
   "execution_count": 25,
   "metadata": {},
   "outputs": [
    {
     "data": {
      "text/html": [
       "<div>\n",
       "<style scoped>\n",
       "    .dataframe tbody tr th:only-of-type {\n",
       "        vertical-align: middle;\n",
       "    }\n",
       "\n",
       "    .dataframe tbody tr th {\n",
       "        vertical-align: top;\n",
       "    }\n",
       "\n",
       "    .dataframe thead th {\n",
       "        text-align: right;\n",
       "    }\n",
       "</style>\n",
       "<table border=\"1\" class=\"dataframe\">\n",
       "  <thead>\n",
       "    <tr style=\"text-align: right;\">\n",
       "      <th></th>\n",
       "      <th>mean</th>\n",
       "      <th>std</th>\n",
       "      <th>mean_lin</th>\n",
       "      <th>std_lin</th>\n",
       "      <th>KS_statistic</th>\n",
       "      <th>pvalue</th>\n",
       "      <th>pvalue_corrected</th>\n",
       "    </tr>\n",
       "    <tr>\n",
       "      <th>metric</th>\n",
       "      <th></th>\n",
       "      <th></th>\n",
       "      <th></th>\n",
       "      <th></th>\n",
       "      <th></th>\n",
       "      <th></th>\n",
       "      <th></th>\n",
       "    </tr>\n",
       "  </thead>\n",
       "  <tbody>\n",
       "    <tr>\n",
       "      <th>volume</th>\n",
       "      <td>-0.318673</td>\n",
       "      <td>0.656317</td>\n",
       "      <td>0.480095</td>\n",
       "      <td>4.532285</td>\n",
       "      <td>0.063506</td>\n",
       "      <td>2.630678e-19</td>\n",
       "      <td>7.892035e-19</td>\n",
       "    </tr>\n",
       "    <tr>\n",
       "      <th>surface</th>\n",
       "      <td>0.569292</td>\n",
       "      <td>0.451239</td>\n",
       "      <td>3.709297</td>\n",
       "      <td>2.826432</td>\n",
       "      <td>0.061711</td>\n",
       "      <td>2.968819e-18</td>\n",
       "      <td>2.968819e-18</td>\n",
       "    </tr>\n",
       "    <tr>\n",
       "      <th>svratio</th>\n",
       "      <td>-0.887965</td>\n",
       "      <td>0.234250</td>\n",
       "      <td>0.129430</td>\n",
       "      <td>1.714943</td>\n",
       "      <td>0.062361</td>\n",
       "      <td>1.244097e-18</td>\n",
       "      <td>1.866145e-18</td>\n",
       "    </tr>\n",
       "  </tbody>\n",
       "</table>\n",
       "</div>"
      ],
      "text/plain": [
       "             mean       std  mean_lin   std_lin  KS_statistic        pvalue  \\\n",
       "metric                                                                        \n",
       "volume  -0.318673  0.656317  0.480095  4.532285      0.063506  2.630678e-19   \n",
       "surface  0.569292  0.451239  3.709297  2.826432      0.061711  2.968819e-18   \n",
       "svratio -0.887965  0.234250  0.129430  1.714943      0.062361  1.244097e-18   \n",
       "\n",
       "         pvalue_corrected  \n",
       "metric                     \n",
       "volume       7.892035e-19  \n",
       "surface      2.968819e-18  \n",
       "svratio      1.866145e-18  "
      ]
     },
     "execution_count": 25,
     "metadata": {},
     "output_type": "execute_result"
    }
   ],
   "source": [
    "dfr_norm"
   ]
  },
  {
   "cell_type": "code",
   "execution_count": 26,
   "metadata": {},
   "outputs": [],
   "source": [
    "dfr_norm.to_csv('cellsize_distribution_normal.csv', sep = '\\t')"
   ]
  },
  {
   "cell_type": "markdown",
   "metadata": {},
   "source": [
    "## Only volume-to-surface ratio"
   ]
  },
  {
   "cell_type": "code",
   "execution_count": 27,
   "metadata": {},
   "outputs": [],
   "source": [
    "data = np.log10(df['svratio'])\n",
    "n = data.shape[0]\n",
    "parameters = norm.fit(data)"
   ]
  },
  {
   "cell_type": "code",
   "execution_count": 28,
   "metadata": {},
   "outputs": [],
   "source": [
    "mu = np.mean(data)\n",
    "std = np.std(data)\n",
    "med = np.median(data)\n",
    "mod = mode(data)[0][0] "
   ]
  },
  {
   "cell_type": "code",
   "execution_count": 30,
   "metadata": {},
   "outputs": [
    {
     "name": "stdout",
     "output_type": "stream",
     "text": [
      "The mean is -0.8879645102859404, 0.1294301604979106\n",
      "The sd is 0.2342495792347394, 1.7149425631561783\n",
      "The median is -0.8872528464376179, 0.12964242724456923\n",
      "The mode is -1.4525220893459427, 0.035275884393106166\n"
     ]
    }
   ],
   "source": [
    "print(f'The mean is {mu}, {10 ** mu}')\n",
    "print(f'The sd is {std}, {10 ** std}')\n",
    "print(f'The median is {med}, {10 ** med}')\n",
    "print(f'The mode is {mod}, {10 ** mod}')"
   ]
  },
  {
   "cell_type": "markdown",
   "metadata": {},
   "source": [
    "The value of the mode does not make sense. The mode takes the value of the peak of the distribution!"
   ]
  },
  {
   "cell_type": "markdown",
   "metadata": {},
   "source": [
    "Number of species within 2 sd deviations"
   ]
  },
  {
   "cell_type": "code",
   "execution_count": 31,
   "metadata": {},
   "outputs": [
    {
     "data": {
      "text/plain": [
       "(5380,)"
      ]
     },
     "execution_count": 31,
     "metadata": {},
     "output_type": "execute_result"
    }
   ],
   "source": [
    "data.shape"
   ]
  },
  {
   "cell_type": "code",
   "execution_count": 32,
   "metadata": {},
   "outputs": [
    {
     "data": {
      "text/plain": [
       "(5069,)"
      ]
     },
     "execution_count": 32,
     "metadata": {},
     "output_type": "execute_result"
    }
   ],
   "source": [
    "data[(data > mu - 2 * std) & (data < mu + 2 * std)].shape"
   ]
  },
  {
   "cell_type": "code",
   "execution_count": 33,
   "metadata": {},
   "outputs": [
    {
     "data": {
      "text/plain": [
       "0.9421933085501859"
      ]
     },
     "execution_count": 33,
     "metadata": {},
     "output_type": "execute_result"
    }
   ],
   "source": [
    "5069 / 5380"
   ]
  },
  {
   "cell_type": "markdown",
   "metadata": {},
   "source": [
    "Number of species outside 2 sd deviations"
   ]
  },
  {
   "cell_type": "code",
   "execution_count": 34,
   "metadata": {},
   "outputs": [
    {
     "data": {
      "text/plain": [
       "(195,)"
      ]
     },
     "execution_count": 34,
     "metadata": {},
     "output_type": "execute_result"
    }
   ],
   "source": [
    "data[data <= mu - 2 * std].shape"
   ]
  },
  {
   "cell_type": "code",
   "execution_count": 35,
   "metadata": {},
   "outputs": [
    {
     "data": {
      "text/plain": [
       "(116,)"
      ]
     },
     "execution_count": 35,
     "metadata": {},
     "output_type": "execute_result"
    }
   ],
   "source": [
    "data[data >= mu + 2 * std].shape"
   ]
  },
  {
   "cell_type": "code",
   "execution_count": 36,
   "metadata": {},
   "outputs": [
    {
     "data": {
      "text/plain": [
       "311"
      ]
     },
     "execution_count": 36,
     "metadata": {},
     "output_type": "execute_result"
    }
   ],
   "source": [
    "data[data <= mu - 2 * std].shape[0] + data[data >= mu + 2 * std].shape[0]"
   ]
  },
  {
   "cell_type": "code",
   "execution_count": 37,
   "metadata": {},
   "outputs": [
    {
     "data": {
      "text/plain": [
       "0.057806691449814124"
      ]
     },
     "execution_count": 37,
     "metadata": {},
     "output_type": "execute_result"
    }
   ],
   "source": [
    "311 / 5380"
   ]
  },
  {
   "cell_type": "markdown",
   "metadata": {},
   "source": [
    "Number of species outsie 3 sd deviations"
   ]
  },
  {
   "cell_type": "code",
   "execution_count": 38,
   "metadata": {},
   "outputs": [
    {
     "data": {
      "text/plain": [
       "(19,)"
      ]
     },
     "execution_count": 38,
     "metadata": {},
     "output_type": "execute_result"
    }
   ],
   "source": [
    "data[data <= mu - 3 * std].shape"
   ]
  },
  {
   "cell_type": "code",
   "execution_count": 39,
   "metadata": {},
   "outputs": [
    {
     "data": {
      "text/plain": [
       "(56,)"
      ]
     },
     "execution_count": 39,
     "metadata": {},
     "output_type": "execute_result"
    }
   ],
   "source": [
    "data[data >= mu + 3 * std].shape"
   ]
  },
  {
   "cell_type": "markdown",
   "metadata": {},
   "source": [
    "**Assesing kurtosis**"
   ]
  },
  {
   "cell_type": "code",
   "execution_count": 40,
   "metadata": {},
   "outputs": [
    {
     "data": {
      "text/plain": [
       "7.949412311768244"
      ]
     },
     "execution_count": 40,
     "metadata": {},
     "output_type": "execute_result"
    }
   ],
   "source": [
    "kurtosis(data)"
   ]
  },
  {
   "cell_type": "markdown",
   "metadata": {},
   "source": [
    "**Assesing skewness**"
   ]
  },
  {
   "cell_type": "code",
   "execution_count": 41,
   "metadata": {},
   "outputs": [
    {
     "data": {
      "text/plain": [
       "0.9509431291358605"
      ]
     },
     "execution_count": 41,
     "metadata": {},
     "output_type": "execute_result"
    }
   ],
   "source": [
    "skew(data)"
   ]
  },
  {
   "cell_type": "code",
   "execution_count": 42,
   "metadata": {},
   "outputs": [],
   "source": [
    "count, bins = np.histogram(data, bins = 'auto', density = True)"
   ]
  },
  {
   "cell_type": "code",
   "execution_count": 43,
   "metadata": {},
   "outputs": [],
   "source": [
    "count_normal = pdf_normal(parameters[0], parameters[1], bins[1:])"
   ]
  },
  {
   "cell_type": "markdown",
   "metadata": {},
   "source": [
    "QQ plot"
   ]
  },
  {
   "cell_type": "code",
   "execution_count": 44,
   "metadata": {},
   "outputs": [],
   "source": [
    "qq = probplot(data, sparams = (parameters[0], parameters[1]), dist = 'norm')"
   ]
  },
  {
   "cell_type": "code",
   "execution_count": 45,
   "metadata": {},
   "outputs": [
    {
     "data": {
      "image/png": "[encoded data removed]",
      "text/plain": [
       "<Figure size 432x288 with 1 Axes>"
      ]
     },
     "metadata": {
      "needs_background": "light"
     },
     "output_type": "display_data"
    }
   ],
   "source": [
    "plt.figure()\n",
    "plt.scatter(qq[0][0], qq[0][1], alpha = 0.2, color = 'black', s = 10)\n",
    "plt.plot(qq[0][0], qq[0][0], color = 'blue', alpha = 0.9, linestyle = (5, (10, 3)))\n",
    "plt.xlabel('Theoretical quantiles')\n",
    "plt.ylabel('Sample quantiles')\n",
    "plt.tick_params(top = True, right = True, direction = 'in', which = 'both')\n",
    "plt.savefig('../figures_all/qqplot_svratio_new.svg') \n",
    "plt.show()"
   ]
  },
  {
   "cell_type": "markdown",
   "metadata": {},
   "source": [
    "By default the density is calculated as. `density = counts / (n_samples * bin_width)`. However the returned values are not normalized to be considered actual probability values. [Normalize](https://stackoverflow.com/questions/21532667/numpy-histogram-cumulative-density-does-not-sum-to-1) `density` such that it represents the probablity density (i.e. area under the curve of the PDF) at the bin (i.e. at the range of values given by the bin)"
   ]
  },
  {
   "cell_type": "code",
   "execution_count": 46,
   "metadata": {},
   "outputs": [
    {
     "data": {
      "image/png": "[encoded data removed]",
      "text/plain": [
       "<Figure size 576x360 with 4 Axes>"
      ]
     },
     "metadata": {
      "needs_background": "light"
     },
     "output_type": "display_data"
    }
   ],
   "source": [
    "density, bins = np.histogram(data, bins = 'auto', density = True)\n",
    "widths = bins[:-1] - bins[1:]\n",
    "\n",
    "fig, ((ax1, ax2), (ax3, ax4)) = plt.subplots(nrows=2, ncols=2, sharex=True, figsize=(8,5))\n",
    "\n",
    "ax1.bar(bins[1:], density, width = widths, color = '#8d99ae')\n",
    "ax2.bar(bins[1:], density.cumsum(), width = widths, color = '#8d99ae')\n",
    "\n",
    "ax3.bar(bins[1:], density / density.sum(), width = widths, color = '#8d99ae')\n",
    "ax4.bar(bins[1:], (density / density.sum()).cumsum(), width = widths, color = '#8d99ae')\n",
    "\n",
    "plt.xlabel('Log (Volume-to-surface ratio, $\\\\mu m$)')\n",
    "# plt.ylabel('Number of species')\n",
    "plt.show()"
   ]
  },
  {
   "cell_type": "markdown",
   "metadata": {},
   "source": [
    "Using number of species instead of density for easier interpretability"
   ]
  },
  {
   "cell_type": "code",
   "execution_count": 47,
   "metadata": {},
   "outputs": [
    {
     "data": {
      "image/png": "[encoded data removed]",
      "text/plain": [
       "<Figure size 432x288 with 1 Axes>"
      ]
     },
     "metadata": {
      "needs_background": "light"
     },
     "output_type": "display_data"
    }
   ],
   "source": [
    "counts, bins = np.histogram(data, bins = 'auto')\n",
    "widths = bins[:-1] - bins[1:]\n",
    "\n",
    "plt.figure(figsize = (6, 4))\n",
    "# plt.hist(data, bins = 'auto', color = '#8d99ae', edgecolor = None)\n",
    "plt.bar(bins[1:], counts, width = widths, color = '#8d99ae')\n",
    "\n",
    "# Add fitted normal distribution, normalized such that the area under the curve represents the \n",
    "# number of species per cell size\n",
    "y_fitted = norm.pdf(bins[1:], parameters[0], parameters[1]) * len(data) * np.diff(bins[1:])[0]\n",
    "plt.plot(bins[1:], y_fitted, color = '#d62839', linewidth = 1,\n",
    "              linestyle = 'solid')\n",
    "plt.fill_between(bins[1:], y_fitted, \n",
    "                 color = '#d62839', linewidth = 1, alpha = 0.2)\n",
    "\n",
    "# Mean and std\n",
    "plt.axvline(x = mu, color = '#457b9d', linestyle = 'dashdot', alpha = 0.9)\n",
    "for i in range(0, 4):\n",
    "    low_r = mu + std * i\n",
    "    up_r = mu + std * (i + 1)\n",
    "    low_l = mu - std * i\n",
    "    up_l = mu - std * (i + 1)\n",
    "    if i == 3:\n",
    "        up_r = 1.8\n",
    "        up_l = -1.8\n",
    "    plt.axvspan(low_r, up_r, alpha = 0.35 - i * 0.1, color = '#457b9d', lw = 0)\n",
    "    plt.axvspan(low_l, up_l, alpha = 0.35 - i * 0.1, color = '#457b9d', lw = 0)\n",
    "\n",
    "plt.tick_params(top = True, right = True, direction = 'in', which = 'both')\n",
    "plt.xlim(-1.8, 1.8)\n",
    "plt.xlabel('Log (Volume-to-surface ratio, $\\\\mu m$)')\n",
    "plt.ylabel('Number of species')\n",
    "\n",
    "plt.savefig('../figures_all/attractor_hist.svg') \n",
    "plt.show()"
   ]
  },
  {
   "cell_type": "code",
   "execution_count": 48,
   "metadata": {},
   "outputs": [
    {
     "data": {
      "image/png": "[encoded data removed]",
      "text/plain": [
       "<Figure size 432x288 with 1 Axes>"
      ]
     },
     "metadata": {
      "needs_background": "light"
     },
     "output_type": "display_data"
    }
   ],
   "source": [
    "counts, bins = np.histogram(data, bins = 'auto')\n",
    "widths = bins[:-1] - bins[1:]\n",
    "\n",
    "plt.figure(figsize = (6, 4))\n",
    "# plt.hist(data, bins = 'auto', color = '#8d99ae', edgecolor = None)\n",
    "plt.bar(bins[1:], counts, width = widths, color = '#8d99ae')\n",
    "\n",
    "# Add fitted normal distribution, normalized such that the area under the curve represents the \n",
    "# number of species per cell size\n",
    "y_fitted = norm.pdf(bins[1:], parameters[0], parameters[1]) * len(data) * np.diff(bins[1:])[0]\n",
    "plt.plot(bins[1:], y_fitted, color = '#d62839', linewidth = 1,\n",
    "              linestyle = 'solid')\n",
    "plt.fill_between(bins[1:], y_fitted, \n",
    "                 color = '#d62839', linewidth = 1, alpha = 0.2)\n",
    "\n",
    "# Mean and std\n",
    "plt.axvline(x = mu, color = '#457b9d', linestyle = 'dashdot', alpha = 0.9)\n",
    "for i in range(0, 4):\n",
    "    low_r = mu + std * i\n",
    "    up_r = mu + std * (i + 1)\n",
    "    low_l = mu - std * i\n",
    "    up_l = mu - std * (i + 1)\n",
    "    if i == 3:\n",
    "        up_r = 1.8\n",
    "        up_l = -1.8\n",
    "    plt.axvspan(low_r, up_r, alpha = 0.35 - i * 0.1, color = '#457b9d', lw = 0)\n",
    "    plt.axvspan(low_l, up_l, alpha = 0.35 - i * 0.1, color = '#457b9d', lw = 0)\n",
    "\n",
    "\n",
    "plt.tick_params(top = True, right = True, direction = 'in', which = 'both')\n",
    "plt.xlim(mu + std * 3, 1.8)\n",
    "plt.ylim(0, 8)\n",
    "plt.xlabel('Log (Volume-to-surface ratio, $\\\\mu m$)')\n",
    "plt.ylabel('Number of species')\n",
    "\n",
    "plt.savefig('../figures_all/attractor_hist_inset.svg')  \n",
    "plt.show()"
   ]
  },
  {
   "cell_type": "markdown",
   "metadata": {},
   "source": [
    "Stability landscape"
   ]
  },
  {
   "cell_type": "code",
   "execution_count": 52,
   "metadata": {},
   "outputs": [
    {
     "name": "stderr",
     "output_type": "stream",
     "text": [
      "<ipython-input-8-a91e6193a18d>:5: FutureWarning: Support for multi-dimensional indexing (e.g. `obj[:, None]`) is deprecated and will be removed in a future version.  Convert to a numpy array before indexing instead.\n",
      "  grid.fit(x[:, np.newaxis])\n",
      "<ipython-input-7-d0027057d745>:4: FutureWarning: Support for multi-dimensional indexing (e.g. `obj[:, None]`) is deprecated and will be removed in a future version.  Convert to a numpy array before indexing instead.\n",
      "  kde_skl.fit(x[:, np.newaxis])\n"
     ]
    }
   ],
   "source": [
    "x_grid = np.linspace(data.min(), data.max(), data.shape[0])\n",
    "bw = hyperp(data, -1, 1, 5)\n",
    "pdf = kde(data, x_grid, bandwidth = bw['bandwidth'])"
   ]
  },
  {
   "cell_type": "code",
   "execution_count": 53,
   "metadata": {},
   "outputs": [],
   "source": [
    "pdf_n = norm.pdf(x_grid, parameters[0], parameters[1])"
   ]
  },
  {
   "cell_type": "code",
   "execution_count": 54,
   "metadata": {},
   "outputs": [
    {
     "data": {
      "text/plain": [
       "(5380,)"
      ]
     },
     "execution_count": 54,
     "metadata": {},
     "output_type": "execute_result"
    }
   ],
   "source": [
    "pdf.shape"
   ]
  },
  {
   "cell_type": "code",
   "execution_count": 55,
   "metadata": {},
   "outputs": [
    {
     "data": {
      "text/plain": [
       "(5380,)"
      ]
     },
     "execution_count": 55,
     "metadata": {},
     "output_type": "execute_result"
    }
   ],
   "source": [
    "pdf_n.shape"
   ]
  },
  {
   "cell_type": "code",
   "execution_count": 56,
   "metadata": {},
   "outputs": [
    {
     "data": {
      "image/png": "[encoded data removed]",
      "text/plain": [
       "<Figure size 432x288 with 1 Axes>"
      ]
     },
     "metadata": {
      "needs_background": "light"
     },
     "output_type": "display_data"
    }
   ],
   "source": [
    "plt.figure(figsize = (6, 4))\n",
    "    \n",
    "# Values of PDF are normalized, such that they are tru probabilities\n",
    "# and their sum gives one (i.e. a true probability!)\n",
    "plt.plot(x_grid, pdf / pdf.sum(), color = '#8d99ae', lw = 1)\n",
    "plt.fill_between(x_grid, pdf / pdf.sum(), color = '#8d99ae', alpha = 0.5)\n",
    "plt.plot(x_grid, pdf_n / pdf_n.sum(), color = '#d62839', linewidth = 1,\n",
    "               linestyle = 'solid')\n",
    "plt.fill_between(x_grid, pdf_n / pdf_n.sum(), \n",
    "                 color = '#d62839', linewidth = 1, alpha = 0.1)\n",
    "\n",
    "# plt.plot(data, np.full_like(data, -0.04), color = 'black', marker = '|',\n",
    "#                      alpha = 0.2)\n",
    "    \n",
    "plt.xlabel('Log (Volume-to-surface ratio, $\\\\mu m$)')\n",
    "plt.ylabel('Probability density')\n",
    "\n",
    "# Mean and std\n",
    "plt.axvline(x = mu, color = '#457b9d', linestyle = 'dashdot', alpha = 0.9)\n",
    "for i in range(0, 4):\n",
    "    low_r = mu + std * i\n",
    "    up_r = mu + std * (i + 1)\n",
    "    low_l = mu - std * i\n",
    "    up_l = mu - std * (i + 1)\n",
    "    if i == 3:\n",
    "        up_r = 1.8\n",
    "        up_l = -1.8\n",
    "    plt.axvspan(low_r, up_r, alpha = 0.35 - i * 0.1, color = '#457b9d', lw = 0)\n",
    "    plt.axvspan(low_l, up_l, alpha = 0.35 - i * 0.1, color = '#457b9d', lw = 0)\n",
    "\n",
    "plt.tick_params(top = True, right = True, direction = 'in', which = 'both')\n",
    "plt.xlim(-1.8, 1.8)\n",
    "# plt.savefig('figures_all/attractor_kde.svg') \n",
    "plt.show()"
   ]
  },
  {
   "cell_type": "code",
   "execution_count": 57,
   "metadata": {},
   "outputs": [
    {
     "data": {
      "image/png": "[encoded data removed]",
      "text/plain": [
       "<Figure size 864x360 with 1 Axes>"
      ]
     },
     "metadata": {
      "needs_background": "light"
     },
     "output_type": "display_data"
    }
   ],
   "source": [
    "plt.figure(figsize = (12, 5))\n",
    "plt.plot(x_grid, ((pdf_n / pdf_n.sum()) - (pdf / pdf.sum())), color = 'k',\n",
    "        linewidth = 2)\n",
    "\n",
    "# If both distributions were the same \n",
    "plt.axhline(y = 0, linestyle = (0, (5, 5)), linewidth = 1, color = 'k')\n",
    "# Mean and std\n",
    "plt.axvline(x = -0.93, color = '#bf0603', linestyle = 'solid', alpha = 1.0, linewidth = 2)\n",
    "for i in range(0, 4):\n",
    "    low_r = mu + std * i\n",
    "    up_r = mu + std * (i + 1)\n",
    "    low_l = mu - std * i\n",
    "    up_l = mu - std * (i + 1)\n",
    "    if i == 3:\n",
    "        up_r = 1.8\n",
    "        up_l = -1.8\n",
    "    plt.axvspan(low_r, up_r, alpha = 0.35 - i * 0.1, color = '#457b9d', lw = 0)\n",
    "    plt.axvspan(low_l, up_l, alpha = 0.35 - i * 0.1, color = '#457b9d', lw = 0)\n",
    "\n",
    "plt.tick_params(top = True, right = True, direction = 'in', which = 'both')\n",
    "plt.xlim(-1.8, 1.8)\n",
    "\n",
    "plt.xlabel('Log (Volume-to-surface ratio, $\\\\mu m$)', fontsize = 13)\n",
    "plt.ylabel(f'Stability\\n($\\\\Delta$ density)', fontsize = 13)\n",
    "\n",
    "plt.savefig('../figures_all/attractor_final.svg')   \n",
    "plt.show()"
   ]
  },
  {
   "cell_type": "markdown",
   "metadata": {},
   "source": [
    "## Distributions for other metrics of cell size"
   ]
  },
  {
   "cell_type": "code",
   "execution_count": 58,
   "metadata": {},
   "outputs": [],
   "source": [
    "df['survol'] = df['surface'] / df['volume']\n",
    "metrics = ['length', 'width', 'volume', 'surface', 'survol', 'svratio']\n",
    "xlabels = ['Log (Length, $\\\\mu m$)', 'Log (Width, $\\\\mu m$)',\n",
    "          'Log (Volume, $\\\\mu m^3$)', 'Log (Surface area, $\\\\mu m^2$)',\n",
    "          'Log (Surface-to-volume ratio, $1 / \\\\mu m$)',\n",
    "          'Log (Volume-to-surface ratio, $\\\\mu m$)']"
   ]
  },
  {
   "cell_type": "code",
   "execution_count": 59,
   "metadata": {},
   "outputs": [
    {
     "name": "stdout",
     "output_type": "stream",
     "text": [
      "Metric: length\n",
      "\tMean: 0.29, 1.97\n",
      "\tStd: 0.31, 2.06\n",
      "\tMedian: 0.28, 1.90\n",
      "\tNormality: 0.08, p-value: 1.692363889609173e-27. p-value_cor: 1.692363889609173e-27\n",
      "\tKurtosis: 6.13\n",
      "\tSkewness: 1.09\n",
      "Metric: width\n",
      "\tMean: -0.22, 0.60\n",
      "\tStd: 0.25, 1.80\n",
      "\tMedian: -0.22, 0.60\n",
      "\tNormality: 0.08, p-value: 4.160505418148137e-31. p-value_cor: 4.160505418148137e-31\n",
      "\tKurtosis: 7.17\n",
      "\tSkewness: 1.01\n",
      "Metric: volume\n",
      "\tMean: -0.32, 0.48\n",
      "\tStd: 0.66, 4.53\n",
      "\tMedian: -0.33, 0.47\n",
      "\tNormality: 0.06, p-value: 2.630678177941848e-19. p-value_cor: 2.630678177941848e-19\n",
      "\tKurtosis: 10.38\n",
      "\tSkewness: 1.15\n",
      "Metric: surface\n",
      "\tMean: 0.57, 3.71\n",
      "\tStd: 0.45, 2.83\n",
      "\tMedian: 0.55, 3.55\n",
      "\tNormality: 0.06, p-value: 2.9688188510961023e-18. p-value_cor: 2.9688188510961023e-18\n",
      "\tKurtosis: 10.03\n",
      "\tSkewness: 1.09\n",
      "Metric: survol\n",
      "\tMean: 0.89, 7.73\n",
      "\tStd: 0.23, 1.71\n",
      "\tMedian: 0.89, 7.71\n",
      "\tNormality: 0.06, p-value: 1.2440966946415194e-18. p-value_cor: 1.2440966946415194e-18\n",
      "\tKurtosis: 7.95\n",
      "\tSkewness: -0.95\n",
      "Metric: svratio\n",
      "\tMean: -0.89, 0.13\n",
      "\tStd: 0.23, 1.71\n",
      "\tMedian: -0.89, 0.13\n",
      "\tNormality: 0.06, p-value: 1.2440966946415658e-18. p-value_cor: 1.2440966946415658e-18\n",
      "\tKurtosis: 7.95\n",
      "\tSkewness: 0.95\n"
     ]
    },
    {
     "data": {
      "image/png": "[encoded data removed]",
      "text/plain": [
       "<Figure size 720x864 with 6 Axes>"
      ]
     },
     "metadata": {
      "needs_background": "light"
     },
     "output_type": "display_data"
    }
   ],
   "source": [
    "fig, ax = plt.subplots(len(metrics), 1, figsize = (10, 12), sharey = False, sharex = False)\n",
    "for i, metric in enumerate(metrics):\n",
    "    data = np.log10(df[metric])\n",
    "    n = data.shape[0]\n",
    "    parameters = norm.fit(data)\n",
    "    # Basic statistics\n",
    "    mu, std, med, kurt, skw = np.mean(data), np.std(data), np.median(data), kurtosis(data), skew(data)\n",
    "    # Perform Kolmogorov-Smirnov test (goodness of fit)\n",
    "    gft = kstest(data, 'norm', parameters)\n",
    "    # Correct p-value due to multiple testing\n",
    "    p_val_cor = multipletests(gft[1], alpha = 0.05, method = 'fdr_bh')[1]\n",
    "    # Plot\n",
    "    counts, bins = np.histogram(data, bins = 'auto')\n",
    "    widths = bins[:-1] - bins[1:]\n",
    "    ax[i].bar(bins[1:], counts, width = widths, color = '#8d99ae')\n",
    "    # Add fitted normal distributio\n",
    "    y_fitted = norm.pdf(bins[1:], parameters[0], parameters[1]) * len(data) * np.diff(bins[1:])[0]\n",
    "    ax[i].plot(bins[1:], y_fitted, color = '#d62839', linewidth = 1,\n",
    "                  linestyle = 'solid')\n",
    "    ax[i].fill_between(bins[1:], y_fitted, \n",
    "                     color = '#d62839', linewidth = 1, alpha = 0.2)\n",
    "    # Mean and std\n",
    "    ax[i].axvline(x = mu, color = '#457b9d', linestyle = 'dashdot', alpha = 0.9)\n",
    "    for i_ in range(0, 4):\n",
    "        low_r = mu + std * i_\n",
    "        up_r = mu + std * (i_ + 1)\n",
    "        low_l = mu - std * i_\n",
    "        up_l = mu - std * (i_ + 1)\n",
    "        if i_ == 3:\n",
    "            up_r = np.max(data) + 0.5\n",
    "            up_l = np.min(data) - 0.5\n",
    "        ax[i].axvspan(low_r, up_r, alpha = 0.35 - i_ * 0.1, color = '#457b9d', lw = 0)\n",
    "        ax[i].axvspan(low_l, up_l, alpha = 0.35 - i_ * 0.1, color = '#457b9d', lw = 0)\n",
    "    ax[i].tick_params(top = True, right = True, direction = 'in', which = 'both')\n",
    "    ax[i].set_xlabel(xlabels[i])\n",
    "    ax[i].set_ylabel('Number of species')\n",
    "    ax[i].set_xlim(np.min(data) - 0.1, np.max(data) + 0.1)\n",
    "    print(f'Metric: {metric}')\n",
    "    print(f'\\tMean: {mu:.2f}, {(10 ** mu):.2f}')\n",
    "    print(f'\\tStd: {std:.2f}, {(10 ** std):.2f}')\n",
    "    print(f'\\tMedian: {med:.2f}, {(10 ** med):.2f}')\n",
    "    print(f'\\tNormality: {gft[0]:.2f}, p-value: {gft[1]}. p-value_cor: {p_val_cor[0]}')\n",
    "    print(f'\\tKurtosis: {kurt:.2f}')\n",
    "    print(f'\\tSkewness: {skw:.2f}')\n",
    "\n",
    "plt.savefig('../figures_all/all_distributions.svg')\n",
    "plt.show()"
   ]
  },
  {
   "cell_type": "markdown",
   "metadata": {},
   "source": [
    "### Comparison between V/S, length, and width"
   ]
  },
  {
   "cell_type": "code",
   "execution_count": 60,
   "metadata": {},
   "outputs": [],
   "source": [
    "for metric in ['svratio', 'length', 'width']:\n",
    "    df[f'log_{metric}'] = np.log10(df[metric])"
   ]
  },
  {
   "cell_type": "code",
   "execution_count": 61,
   "metadata": {},
   "outputs": [
    {
     "name": "stdout",
     "output_type": "stream",
     "text": [
      "-1.67, log_svratio: -1.67, length: -0.61, width: -1.00\n",
      "-1.44, log_svratio: -1.44, length: 0.18, width: -0.82\n",
      "-1.22, log_svratio: -1.22, length: 0.37, width: -0.60\n",
      "-1.00, log_svratio: -1.00, length: -0.05, width: -0.31\n",
      "-0.77, log_svratio: -0.77, length: 0.16, width: -0.08\n",
      "-0.55, log_svratio: -0.55, length: 0.38, width: 0.15\n",
      "-0.33, log_svratio: -0.33, length: 0.45, width: 0.45\n",
      "-0.10, log_svratio: -0.10, length: 0.68, width: 0.68\n",
      "0.12, log_svratio: 0.10, length: 0.87, width: 0.87\n",
      "0.34, log_svratio: 0.31, length: 1.09, width: 1.09\n",
      "0.57, log_svratio: 0.61, length: 1.39, width: 1.39\n",
      "0.79, log_svratio: 0.87, length: 3.99, width: 1.48\n",
      "1.01, log_svratio: 1.02, length: 1.80, width: 1.80\n",
      "1.24, log_svratio: 1.10, length: 2.39, width: 1.74\n",
      "1.46, log_svratio: 1.46, length: 2.24, width: 2.24\n"
     ]
    }
   ],
   "source": [
    "data = df['log_svratio']\n",
    "annot = np.linspace(data.min(), data.max(), 15)\n",
    "for a in annot:\n",
    "    closest = df.iloc[(df['log_svratio'] - a).abs().argsort()[:1]]\n",
    "    print(f'{a:.2f}, log_svratio: {closest[\"log_svratio\"][0]:.2f}, length: {closest[\"log_length\"][0]:.2f}, width: {closest[\"log_width\"][0]:.2f}')"
   ]
  },
  {
   "cell_type": "markdown",
   "metadata": {},
   "source": [
    "Plots"
   ]
  },
  {
   "cell_type": "code",
   "execution_count": 62,
   "metadata": {},
   "outputs": [
    {
     "data": {
      "image/png": "[encoded data removed]",
      "text/plain": [
       "<Figure size 1008x288 with 1 Axes>"
      ]
     },
     "metadata": {
      "needs_background": "light"
     },
     "output_type": "display_data"
    }
   ],
   "source": [
    "plt.figure(figsize = (14, 4))\n",
    "data = np.sort(df['log_svratio'])\n",
    "annot = np.linspace(data.min(), data.max(), 15)\n",
    "\n",
    "plt.plot(data, np.full_like(data, 0), alpha = 1.0, color = 'k')\n",
    "plt.scatter(annot, np.full_like(annot, 0), marker = '|', color = 'k', s = 200, alpha = 0.8)\n",
    "\n",
    "plt.plot(data, np.full_like(data, -0.02), alpha = 1.0, color = 'b')\n",
    "plt.scatter(annot, np.full_like(annot, -0.02), marker = '|', color = 'b', s = 200)\n",
    "\n",
    "plt.plot(data, np.full_like(data, -0.04), alpha = 1.0, color = 'r')\n",
    "plt.scatter(annot, np.full_like(annot, -0.04), marker = '|', color = 'r', s = 200)\n",
    "\n",
    "for a in annot:\n",
    "    closest = df.iloc[(df['log_svratio'] - a).abs().argsort()[:1]]\n",
    "    plt.annotate(f'{closest[\"log_svratio\"][0]:.2f}', xy = (a, -0.01), ha = 'center', fontsize = 13)\n",
    "    plt.annotate(f'{closest[\"log_length\"][0]:.2f}', xy = (a, -0.02 - 0.01), \n",
    "                 ha = 'center', fontsize = 13)\n",
    "    plt.annotate(f'{closest[\"log_width\"][0]:.2f}', xy = (a, -0.04 - 0.01), \n",
    "                 ha = 'center', fontsize = 13)\n",
    "    \n",
    "# # Common bacteria --The mapping between length and width is clearly non-linear\n",
    "# datum = dfs['log_svratio'].values\n",
    "# plt.scatter(datum, np.full_like(datum, 0.02), color='k')\n",
    "    \n",
    "\n",
    "plt.ylim(-0.06, 0.02)\n",
    "\n",
    "plt.savefig('../figures_all/rule_all.svg')\n",
    "plt.show()"
   ]
  },
  {
   "cell_type": "code",
   "execution_count": 65,
   "metadata": {},
   "outputs": [],
   "source": [
    "sh_keys = [['coccus', 'sphere', 'ovoid'], ['rod'], ['filament'], ['helical', 'spiral', 'vibrio']]"
   ]
  },
  {
   "cell_type": "markdown",
   "metadata": {},
   "source": [
    "Perfect spheres"
   ]
  },
  {
   "cell_type": "code",
   "execution_count": 66,
   "metadata": {},
   "outputs": [
    {
     "data": {
      "image/png": "[encoded data removed]",
      "text/plain": [
       "<Figure size 1008x288 with 1 Axes>"
      ]
     },
     "metadata": {
      "needs_background": "light"
     },
     "output_type": "display_data"
    }
   ],
   "source": [
    "plt.figure(figsize = (14, 4))\n",
    "data = df[df['length'] == df['width']]\n",
    "annot = np.linspace(data['log_svratio'].min(), data['log_svratio'].max(), 15)\n",
    "\n",
    "plt.plot(data['log_svratio'], np.full_like(data['log_svratio'], 0), alpha = 1.0, color = 'k')\n",
    "plt.scatter(annot, np.full_like(annot, 0), marker = '|', color = 'k', s = 200, alpha = 0.8)\n",
    "\n",
    "plt.plot(data['log_svratio'], np.full_like(data['log_svratio'], -0.02), alpha = 1.0, color = 'b')\n",
    "plt.scatter(annot, np.full_like(annot, -0.02), marker = '|', color = 'b', s = 200)\n",
    "\n",
    "plt.plot(data['log_svratio'], np.full_like(data['log_svratio'], -0.04), alpha = 1.0, color = 'r')\n",
    "plt.scatter(annot, np.full_like(annot, -0.04), marker = '|', color = 'r', s = 200)\n",
    "\n",
    "for a in annot:\n",
    "    closest = data.iloc[(data['log_svratio'] - a).abs().argsort()[:1]]\n",
    "    plt.annotate(f'{10 ** closest[\"log_svratio\"][0]:.2f}', xy = (a, -0.01), ha = 'center', fontsize = 13)\n",
    "    plt.annotate(f'{10 ** closest[\"log_length\"][0]:.2f}', xy = (a, -0.02 - 0.01), \n",
    "                 ha = 'center', fontsize = 13)\n",
    "    plt.annotate(f'{10 ** closest[\"log_width\"][0]:.2f}', xy = (a, -0.04 - 0.01), \n",
    "                 ha = 'center', fontsize = 13)\n",
    "    \n",
    "\n",
    "plt.ylim(-0.06, 0.01)\n",
    "plt.savefig('../figures_all/rule_spheres_all.svg')\n",
    "plt.show()"
   ]
  },
  {
   "cell_type": "code",
   "execution_count": 67,
   "metadata": {},
   "outputs": [
    {
     "data": {
      "image/png": "[encoded data removed]",
      "text/plain": [
       "<Figure size 1008x288 with 1 Axes>"
      ]
     },
     "metadata": {
      "needs_background": "light"
     },
     "output_type": "display_data"
    }
   ],
   "source": [
    "plt.figure(figsize = (14, 4))\n",
    "data = df.query('shape == @sh_keys[1]')\n",
    "annot = np.linspace(data['log_svratio'].min(), data['log_svratio'].max(), 15)\n",
    "\n",
    "plt.plot(data['log_svratio'], np.full_like(data['log_svratio'], 0), alpha = 1.0, color = 'k')\n",
    "plt.scatter(annot, np.full_like(annot, 0), marker = '|', color = 'k', s = 200, alpha = 0.8)\n",
    "\n",
    "plt.plot(data['log_svratio'], np.full_like(data['log_svratio'], -0.02), alpha = 1.0, color = 'b')\n",
    "plt.scatter(annot, np.full_like(annot, -0.02), marker = '|', color = 'b', s = 200)\n",
    "\n",
    "plt.plot(data['log_svratio'], np.full_like(data['log_svratio'], -0.04), alpha = 1.0, color = 'r')\n",
    "plt.scatter(annot, np.full_like(annot, -0.04), marker = '|', color = 'r', s = 200)\n",
    "\n",
    "for a in annot:\n",
    "    closest = data.iloc[(data['log_svratio'] - a).abs().argsort()[:1]]\n",
    "    plt.annotate(f'{10 ** closest[\"log_svratio\"][0]:.2f}', xy = (a, -0.01), ha = 'center', fontsize = 13)\n",
    "    plt.annotate(f'{10 ** closest[\"log_length\"][0]:.2f}', xy = (a, -0.02 - 0.01), \n",
    "                 ha = 'center', fontsize = 13)\n",
    "    plt.annotate(f'{10 ** closest[\"log_width\"][0]:.2f}', xy = (a, -0.04 - 0.01), \n",
    "                 ha = 'center', fontsize = 13)\n",
    "    \n",
    "\n",
    "plt.ylim(-0.06, 0.01)\n",
    "plt.savefig('../figures_all/rule_rods_all.svg')\n",
    "plt.show()"
   ]
  },
  {
   "cell_type": "markdown",
   "metadata": {},
   "source": [
    "Test your values"
   ]
  },
  {
   "cell_type": "code",
   "execution_count": 68,
   "metadata": {},
   "outputs": [
    {
     "name": "stdout",
     "output_type": "stream",
     "text": [
      "-0.12867049297194488\n"
     ]
    }
   ],
   "source": [
    "length, width = 0.91, 0.54\n",
    "vol = np.pi * ((10 ** width) / 2) ** 2 * ((4 / 3) * ((10 ** width) / 2) + ((10 ** length) - (10 ** width)))\n",
    "sur = 2 * np.pi * ((10 ** width) / 2) * (2 * ((10 ** width) / 2) + ((10 ** length) - (10 ** width)))\n",
    "print(np.log10(vol/sur))"
   ]
  },
  {
   "cell_type": "code",
   "execution_count": null,
   "metadata": {},
   "outputs": [],
   "source": []
  },
  {
   "cell_type": "code",
   "execution_count": null,
   "metadata": {},
   "outputs": [],
   "source": []
  },
  {
   "cell_type": "code",
   "execution_count": null,
   "metadata": {},
   "outputs": [],
   "source": []
  },
  {
   "cell_type": "code",
   "execution_count": null,
   "metadata": {},
   "outputs": [],
   "source": []
  }
 ],
 "metadata": {
  "kernelspec": {
   "display_name": "Python 3 (ipykernel)",
   "language": "python",
   "name": "python3"
  },
  "language_info": {
   "codemirror_mode": {
    "name": "ipython",
    "version": 3
   },
   "file_extension": ".py",
   "mimetype": "text/x-python",
   "name": "python",
   "nbconvert_exporter": "python",
   "pygments_lexer": "ipython3",
   "version": "3.9.18"
  }
 },
 "nbformat": 4,
 "nbformat_minor": 4
}
