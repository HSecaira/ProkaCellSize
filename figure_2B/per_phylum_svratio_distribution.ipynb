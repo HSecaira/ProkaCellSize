{
 "cells": [
  {
   "cell_type": "markdown",
   "metadata": {},
   "source": [
    "# Comparing distributions"
   ]
  },
  {
   "cell_type": "code",
   "execution_count": 1,
   "metadata": {},
   "outputs": [],
   "source": [
    "import numpy as np\n",
    "import pandas as pd\n",
    "import matplotlib.pyplot as plt\n",
    "from mpl_toolkits import mplot3d\n",
    "import matplotlib.patches as mpatches\n",
    "import matplotlib.lines as mlines\n",
    "from matplotlib.legend import Legend\n",
    "import matplotlib.gridspec as grid_spec"
   ]
  },
  {
   "cell_type": "code",
   "execution_count": 2,
   "metadata": {},
   "outputs": [],
   "source": [
    "from sklearn.neighbors import KernelDensity\n",
    "from sklearn.model_selection import GridSearchCV"
   ]
  },
  {
   "cell_type": "code",
   "execution_count": 3,
   "metadata": {},
   "outputs": [],
   "source": [
    "from scipy.stats import norm, kstest, probplot, levene, mannwhitneyu, ttest_ind, kruskal, kurtosis, skew\n",
    "from itertools import combinations"
   ]
  },
  {
   "cell_type": "code",
   "execution_count": 4,
   "metadata": {},
   "outputs": [],
   "source": [
    "from statsmodels.stats.multitest import multipletests"
   ]
  },
  {
   "cell_type": "code",
   "execution_count": 5,
   "metadata": {},
   "outputs": [],
   "source": [
    "# %matplotlib notebook"
   ]
  },
  {
   "cell_type": "code",
   "execution_count": 6,
   "metadata": {},
   "outputs": [],
   "source": [
    "plt.rcParams.update({\n",
    "    'figure.autolayout': True,\n",
    "    'savefig.bbox': 'tight',\n",
    "    'svg.fonttype': 'none',\n",
    "    'font.sans-serif': 'Arial',\n",
    "    'font.size': 11,\n",
    "    'boxplot.medianprops.linewidth': 2,\n",
    "    'boxplot.flierprops.markeredgecolor': 'none',\n",
    "    'boxplot.flierprops.markersize': 5})"
   ]
  },
  {
   "cell_type": "code",
   "execution_count": 7,
   "metadata": {},
   "outputs": [],
   "source": [
    "def hypo_testing(test_statistic, n):\n",
    "    '''\n",
    "    Functions that performs hypothesis testing and calculate the critical value\n",
    "    of the K-S test\n",
    "    Inputs:\n",
    "        test_statistic: float containing the value of the test statistic\n",
    "        n: integer containg the sample size. \n",
    "    '''\n",
    "    if n > 50:\n",
    "        critical_value = 1.63 / np.sqrt(n)\n",
    "    \n",
    "    if test_statistic > critical_value:\n",
    "        return 'Reject Ho'\n",
    "    else:\n",
    "        return 'Not enough evidence to reject Ho'"
   ]
  },
  {
   "cell_type": "code",
   "execution_count": 8,
   "metadata": {},
   "outputs": [],
   "source": [
    "def pdf_normal(mean, std, x):\n",
    "    return 1 / (std * np.sqrt(2 * np.pi)) * np.exp(- (x - mean)**2 / (2 * std**2))"
   ]
  },
  {
   "cell_type": "markdown",
   "metadata": {},
   "source": [
    "Load data"
   ]
  },
  {
   "cell_type": "code",
   "execution_count": 9,
   "metadata": {},
   "outputs": [
    {
     "data": {
      "text/plain": [
       "(5380, 22)"
      ]
     },
     "execution_count": 9,
     "metadata": {},
     "output_type": "execute_result"
    }
   ],
   "source": [
    "df = pd.read_table('../phylogeny/place/fine_all.tsv', index_col = 0)\n",
    "df.shape"
   ]
  },
  {
   "cell_type": "code",
   "execution_count": 10,
   "metadata": {},
   "outputs": [],
   "source": [
    "# Reformat shape column\n",
    "def refShape(s):\n",
    "    if 'shaped' in str(s):\n",
    "        return s.split('-')[0]\n",
    "    # Cyanobacteira - modeled as sphere\n",
    "    elif str(s) == 'sphere/spheroid':\n",
    "        return 'sphere'\n",
    "    elif str(s) in ['rods']:\n",
    "        return 'rod'\n",
    "    elif '/' in str(s):\n",
    "        return '-'.join(s.split('/'))\n",
    "    else:\n",
    "        return s"
   ]
  },
  {
   "cell_type": "code",
   "execution_count": 11,
   "metadata": {},
   "outputs": [],
   "source": [
    "def refShape1(s):\n",
    "    if str(s) in ['ovoid', 'oval', 'ellipsoidal']:\n",
    "        return 'ovoid'\n",
    "    elif str(s) == 'pear':\n",
    "        return 'sphere'\n",
    "    elif str(s) in ['sphere', 'spherical']:\n",
    "        return 'sphere'\n",
    "    else:\n",
    "        return s"
   ]
  },
  {
   "cell_type": "code",
   "execution_count": 12,
   "metadata": {},
   "outputs": [],
   "source": [
    "df['shape'] = df['shape'].map(refShape)"
   ]
  },
  {
   "cell_type": "code",
   "execution_count": 13,
   "metadata": {},
   "outputs": [],
   "source": [
    "df['shape'] = df['shape'].map(refShape1)"
   ]
  },
  {
   "cell_type": "code",
   "execution_count": 14,
   "metadata": {},
   "outputs": [],
   "source": [
    "df['svratio'] = df['volume'] / df['surface']"
   ]
  },
  {
   "cell_type": "markdown",
   "metadata": {},
   "source": [
    "# Per phylum distribution of surface to volume ratio\n",
    "\n",
    "Of the phyla with the highest number of points"
   ]
  },
  {
   "cell_type": "code",
   "execution_count": 15,
   "metadata": {},
   "outputs": [
    {
     "data": {
      "text/plain": [
       "Proteobacteria           2048\n",
       "Bacteroidetes             963\n",
       "Firmicutes                801\n",
       "Actinobacteria            755\n",
       "Tenericutes               173\n",
       "Euryarchaeota             135\n",
       "Spirochaetes              114\n",
       "Cyanobacteria              97\n",
       "Verrucomicrobia            43\n",
       "Crenarchaeota              34\n",
       "Acidobacteria              32\n",
       "Deinococcus-Thermus        31\n",
       "Fusobacteria               28\n",
       "Planctomycetes             18\n",
       "Chlamydiae                 16\n",
       "Thermotogae                15\n",
       "Aquificae                  14\n",
       "Balneolaeota               14\n",
       "Chloroflexi                13\n",
       "Synergistetes               9\n",
       "Thermodesulfobacteria       6\n",
       "Deferribacteres             6\n",
       "Nitrospirae                 2\n",
       "Ignavibacteriae             2\n",
       "Thaumarchaeota              2\n",
       "Dictyoglomi                 2\n",
       "Gemmatimonadetes            1\n",
       "Lentisphaerae               1\n",
       "Armatimonadetes             1\n",
       "Chrysiogenetes              1\n",
       "Caldiserica                 1\n",
       "Fibrobacteres               1\n",
       "Calditrichaeota             1\n",
       "Name: phylum, dtype: int64"
      ]
     },
     "execution_count": 15,
     "metadata": {},
     "output_type": "execute_result"
    }
   ],
   "source": [
    "df['phylum'].value_counts()"
   ]
  },
  {
   "cell_type": "code",
   "execution_count": 16,
   "metadata": {},
   "outputs": [],
   "source": [
    "phyla = ['Tenericutes', 'Spirochaetes', 'Bacteroidetes', 'Actinobacteria', 'Proteobacteria',\n",
    "       'Firmicutes', 'Euryarchaeota', 'Cyanobacteria']\n",
    "colors = ['#52a675', '#4267ac', '#ff924c', '#8ac926', '#c05761', '#ffca3a', '#1982c4', '#6a4c93']\n",
    "features = ['svratio']"
   ]
  },
  {
   "cell_type": "markdown",
   "metadata": {},
   "source": [
    "### Boxplot"
   ]
  },
  {
   "cell_type": "code",
   "execution_count": 17,
   "metadata": {},
   "outputs": [],
   "source": [
    "data = [df[df['phylum'] == phy]['svratio'].apply(np.log10).to_numpy() for phy in phyla]"
   ]
  },
  {
   "cell_type": "code",
   "execution_count": 18,
   "metadata": {},
   "outputs": [
    {
     "data": {
      "image/png": "[encoded data removed]",
      "text/plain": [
       "<Figure size 432x288 with 1 Axes>"
      ]
     },
     "metadata": {
      "needs_background": "light"
     },
     "output_type": "display_data"
    }
   ],
   "source": [
    "fig, ax = plt.subplots()\n",
    "ax.boxplot(data, widths = 0.75, sym = 'k.')\n",
    "ax.set_ylabel('Log Surface-to-volume ratio ($\\\\mu m$)')\n",
    "plt.xticks([i + 1 for i in range(len(phyla))], phyla, rotation = 90)\n",
    "plt.show()"
   ]
  },
  {
   "cell_type": "markdown",
   "metadata": {},
   "source": [
    "### Kernel density estimation of svratio using `sklearn`"
   ]
  },
  {
   "cell_type": "code",
   "execution_count": 19,
   "metadata": {},
   "outputs": [],
   "source": [
    "# Function for kernel density estimation\n",
    "def kde(x, x_grid, bandwidth = 0.2, **kwargs):\n",
    "    kde_skl = KernelDensity(bandwidth = bandwidth, **kwargs)\n",
    "    kde_skl.fit(x[:, np.newaxis])\n",
    "    # Returns the log-likelihood of the samples\n",
    "    log_pdf = kde_skl.score_samples(x_grid[:, np.newaxis])\n",
    "    return np.exp(log_pdf)"
   ]
  },
  {
   "cell_type": "code",
   "execution_count": 20,
   "metadata": {},
   "outputs": [],
   "source": [
    "# Function to adjust hyperparameter by cross-validation\n",
    "def hyperp(x, mn, mx, cv):\n",
    "    bandwidths = 10 ** np.linspace(mn, mx, 50)\n",
    "    grid = GridSearchCV(KernelDensity(), {'bandwidth': bandwidths}, cv = cv)\n",
    "    grid.fit(x[:, np.newaxis])\n",
    "    return grid.best_params_"
   ]
  },
  {
   "cell_type": "markdown",
   "metadata": {},
   "source": [
    "Values of PDF are normalized, such that they are true probabilities and their sum gives one (i.e. a true probability!)"
   ]
  },
  {
   "cell_type": "code",
   "execution_count": 21,
   "metadata": {},
   "outputs": [
    {
     "name": "stdout",
     "output_type": "stream",
     "text": [
      "('Reject Ho', KstestResult(statistic=0.43573963334464666, pvalue=2.1516511814039476e-30), (-1.3815329901009918, 0.1385108345764097))\n",
      "\n",
      "('Not enough evidence to reject Ho', KstestResult(statistic=0.12440356560526433, pvalue=0.05371796995358195), (-1.199614733188428, 0.21642649747837978))\n",
      "\n",
      "('Not enough evidence to reject Ho', KstestResult(statistic=0.030456016110205764, pvalue=0.3269225780968321), (-0.9366865617157114, 0.16294276903109664))\n",
      "\n",
      "('Not enough evidence to reject Ho', KstestResult(statistic=0.03686682218530235, pvalue=0.2501372779111911), (-0.9172451764507469, 0.17529382079420874))\n",
      "\n",
      "('Reject Ho', KstestResult(statistic=0.03647665099252251, pvalue=0.008378243836978917), (-0.8642589340104183, 0.18191181405787313))\n",
      "\n",
      "('Reject Ho', KstestResult(statistic=0.059847615749215155, pvalue=0.006172110956304181), (-0.8217029876390534, 0.17421156111840366))\n",
      "\n",
      "('Not enough evidence to reject Ho', KstestResult(statistic=0.08656379950865412, pvalue=0.2491380179224047), (-0.8059983676675774, 0.2080823455598989))\n",
      "\n",
      "('Not enough evidence to reject Ho', KstestResult(statistic=0.09328673238497176, pvalue=0.345807148085925), (-0.17736225836997213, 0.3793157622793624))\n",
      "\n"
     ]
    },
    {
     "data": {
      "image/png": "[encoded data removed]",
      "text/plain": [
       "<Figure size 432x720 with 8 Axes>"
      ]
     },
     "metadata": {
      "needs_background": "light"
     },
     "output_type": "display_data"
    }
   ],
   "source": [
    "fig, ax = plt.subplots(len(phyla), 1, figsize = (6, 10), \n",
    "                       sharey = False, sharex = True)\n",
    "\n",
    "for i, phy in enumerate(phyla):\n",
    "    for j, f in enumerate(features):\n",
    "        if phy == 'all':\n",
    "            data = df[f].apply(np.log10).to_numpy()\n",
    "        else:\n",
    "            data = df[df['phylum'] == phy][f].apply(np.log10).to_numpy()\n",
    "        \n",
    "        # Compare with a normal distribution\n",
    "        n = data.shape[0]    \n",
    "        # Fit a normal distribution to data\n",
    "        parameters = norm.fit(data)\n",
    "        # Perform Kolmogorov-Smirnov test (goodness of fit)\n",
    "        gft = kstest(data, 'norm', parameters)\n",
    "        # Hypothesis testing (Ho: normal)\n",
    "        print(f'{hypo_testing(gft[0], n), gft, parameters}\\n')\n",
    "        \n",
    "        x_grid = np.linspace(data.min(), data.max(), data.shape[0])\n",
    "        bw = hyperp(data, -1, 1, 5)\n",
    "        pdf = kde(data, x_grid, bandwidth = bw['bandwidth'])\n",
    "        \n",
    "        counts, bins = np.histogram(data, bins = 'auto')\n",
    "        widths = widths = bins[:-1] - bins[1:] \n",
    "        \n",
    "        ax[i].plot(x_grid, pdf * len(data) * np.diff(bins[1:])[0], color = colors[i], lw = 2, \n",
    "                      label = f'{phy}\\n(n = {data.shape[0]})')\n",
    "        ax[i].fill_between(x_grid, pdf * len(data) * np.diff(bins[1:])[0], color = colors[i], alpha = 0.3)\n",
    "        ax[i].plot(data, np.full_like(data, -0.0001), color = 'black', marker = '|',\n",
    "                     alpha = 0.2)\n",
    "        ax[i].axvline(x = np.median(data), color = colors[i], linestyle = 'dashed', linewidth = 2)\n",
    "        \n",
    "        ax[i].legend()\n",
    "            \n",
    "        ax[i].set_ylabel(f'Number of\\nspecies')\n",
    "        ax[i].tick_params(top = True, right = True, direction = 'in', which = 'both')\n",
    "        \n",
    "        if i == len(phyla) - 1:\n",
    "            ax[i].set_xlabel(f'Log (Volume-to-surface ratio, $\\\\mu m$)')\n",
    "\n",
    "# plt.tick_params(top = True, right = True, direction = 'in', which = 'both')\n",
    "plt.savefig('../figures_all/fig3.svg')   \n",
    "plt.show()"
   ]
  },
  {
   "cell_type": "markdown",
   "metadata": {},
   "source": [
    "[Ridge plot](https://matplotlib.org/matplotblog/posts/create-ridgeplots-in-matplotlib/)"
   ]
  },
  {
   "cell_type": "code",
   "execution_count": 22,
   "metadata": {},
   "outputs": [
    {
     "name": "stderr",
     "output_type": "stream",
     "text": [
      "<ipython-input-22-4690ebe1017e>:62: UserWarning: This figure includes Axes that are not compatible with tight_layout, so results might be incorrect.\n",
      "  plt.savefig('../figures_all/fig3_ridge.svg')\n",
      "/home/hsecaira/miniconda/envs/CellSize/lib/python3.8/site-packages/IPython/core/pylabtools.py:132: UserWarning: This figure includes Axes that are not compatible with tight_layout, so results might be incorrect.\n",
      "  fig.canvas.print_figure(bytes_io, **kw)\n"
     ]
    },
    {
     "data": {
      "image/png": "[encoded data removed]",
      "text/plain": [
       "<Figure size 576x288 with 8 Axes>"
      ]
     },
     "metadata": {
      "needs_background": "light"
     },
     "output_type": "display_data"
    }
   ],
   "source": [
    "gs = grid_spec.GridSpec(len(phyla), 1)\n",
    "fig = plt.figure(figsize = (8, 4))\n",
    "ax_objs = []\n",
    "\n",
    "for i, phy in enumerate(phyla):\n",
    "    for j, f in enumerate(features):\n",
    "        if phy == 'all':\n",
    "            data = df[f].apply(np.log10).to_numpy()\n",
    "        else:\n",
    "            data = df[df['phylum'] == phy][f].apply(np.log10).to_numpy()\n",
    "\n",
    "        x_grid = np.linspace(data.min(), data.max(), data.shape[0])\n",
    "        bw = hyperp(data, -1, 1, 5)\n",
    "        pdf = kde(data, x_grid, bandwidth=bw['bandwidth'])\n",
    "\n",
    "        counts, bins = np.histogram(data, bins='auto')\n",
    "        widths = bins[:-1] - bins[1:]\n",
    "\n",
    "        # Create new axes object and append to the list\n",
    "        ax_objs.append(fig.add_subplot(gs[i:i + 1, 0]))\n",
    "        # Plot distribution\n",
    "        plot = ax_objs[-1].plot(x_grid, pdf * len(data) * np.diff(bins[1:])[0], \n",
    "                                color = 'k', lw = 2)[0]\n",
    "        \n",
    "        # Access the x and y data from the Line2D object\n",
    "        x = plot.get_xdata()\n",
    "        y = plot.get_ydata()\n",
    "\n",
    "        # Fill the space beneath the distributions\n",
    "        ax_objs[-1].fill_between(x, y, color = colors[i], alpha = 0.75)\n",
    "        \n",
    "        # Set uniform x and y limits\n",
    "        ax_objs[-1].set_xlim(-1.65, 1.6)\n",
    "\n",
    "        # Text\n",
    "        ax_objs[-1].text(-1.68, 0, f'{phy}\\n(n = {data.shape[0]})', ha = 'right')\n",
    "        ax_objs[-1].grid(visible = True, axis = 'y', which = 'major', linestyle = 'solid', color = 'b')\n",
    "\n",
    "        # Make the background transparent\n",
    "        rect = ax_objs[-1].patch\n",
    "        rect.set_alpha(0)\n",
    "        # Remove borders, axis ticks, and labels\n",
    "        ax_objs[-1].set_yticks([])\n",
    "        ax_objs[-1].set_yticklabels([])\n",
    "            \n",
    "        spines = [\"top\", \"right\", 'bottom']\n",
    "        for s in spines:\n",
    "            ax_objs[-1].spines[s].set_visible(False)\n",
    "            \n",
    "        # Labels\n",
    "        if i == len(phyla) - 1:\n",
    "            ax_objs[-1].set_xlabel(f'Log (Volume-to-surface ratio, $\\\\mu m$)')\n",
    "            ax_objs[-1].spines['bottom'].set_visible(True)\n",
    "        else:\n",
    "            ax_objs[-1].set_xticklabels([])\n",
    "            ax_objs[-1].set_xticks([])\n",
    "            \n",
    "        ax_objs[-1].axvline(x = np.median(data), color = 'k', linestyle = 'dashed', linewidth = 2)\n",
    "        \n",
    "            \n",
    "gs.update(hspace = -0.35)\n",
    "plt.savefig('../figures_all/fig3_ridge.svg') \n",
    "plt.show()"
   ]
  },
  {
   "cell_type": "markdown",
   "metadata": {},
   "source": [
    "### Statistical tests"
   ]
  },
  {
   "cell_type": "markdown",
   "metadata": {},
   "source": [
    "Comparison between phyla"
   ]
  },
  {
   "cell_type": "code",
   "execution_count": 23,
   "metadata": {},
   "outputs": [],
   "source": [
    "res = []\n",
    "for i, j in combinations(phyla[1:], 2):\n",
    "    phylum_i = df[df['phylum'] == i]['svratio'].apply(np.log10)\n",
    "    phylum_j = df[df['phylum'] == j]['svratio'].apply(np.log10)\n",
    "    stat, pval = kstest(phylum_i, phylum_j)\n",
    "    res.append([f'{i}_{j}', stat, pval])\n",
    "    #print(f'KS test statistic: {stat}, p-value: {pval}, {hypo_testing(stat, phylum_i.shape[0])}, {i}, {j}')"
   ]
  },
  {
   "cell_type": "code",
   "execution_count": 24,
   "metadata": {},
   "outputs": [
    {
     "data": {
      "text/plain": [
       "(21, 2)"
      ]
     },
     "execution_count": 24,
     "metadata": {},
     "output_type": "execute_result"
    }
   ],
   "source": [
    "dfr = pd.DataFrame(res, columns = ['pair', 'KS_statistic', 'pvalue']).set_index('pair')\n",
    "dfr.shape"
   ]
  },
  {
   "cell_type": "markdown",
   "metadata": {},
   "source": [
    "Comparison of each phylum against a normal distribution"
   ]
  },
  {
   "cell_type": "code",
   "execution_count": 25,
   "metadata": {},
   "outputs": [],
   "source": [
    "res = []\n",
    "for phy in phyla:\n",
    "    data = df[df['phylum'] == phy]['svratio'].apply(np.log10).to_numpy()\n",
    "    # Fit a normal distribution to data\n",
    "    parameters = norm.fit(data)\n",
    "    # Perform Kolmogorov-Smirnov test (goodness of fit)\n",
    "    gft = kstest(data, 'norm', parameters)\n",
    "    # Kurtosis test\n",
    "    kurt = kurtosis(data)\n",
    "    # Skewness test\n",
    "    skw = skew(data)\n",
    "    # Append results\n",
    "    res.append([phy, parameters[0], parameters[1], 10 ** (parameters[0]), 10 ** (parameters[1]), gft[0], gft[1], kurt, skw])"
   ]
  },
  {
   "cell_type": "code",
   "execution_count": 26,
   "metadata": {},
   "outputs": [
    {
     "data": {
      "text/plain": [
       "(8, 8)"
      ]
     },
     "execution_count": 26,
     "metadata": {},
     "output_type": "execute_result"
    }
   ],
   "source": [
    "dfr_norm = pd.DataFrame(res, \n",
    "        columns = ['phylum', 'mean', 'std', 'mean_lin', 'std_lin', \n",
    "                   'KS_statistic', 'pvalue', 'kurtosis', 'skewness']).set_index('phylum')\n",
    "dfr_norm.shape"
   ]
  },
  {
   "cell_type": "code",
   "execution_count": 27,
   "metadata": {},
   "outputs": [
    {
     "data": {
      "text/html": [
       "<div>\n",
       "<style scoped>\n",
       "    .dataframe tbody tr th:only-of-type {\n",
       "        vertical-align: middle;\n",
       "    }\n",
       "\n",
       "    .dataframe tbody tr th {\n",
       "        vertical-align: top;\n",
       "    }\n",
       "\n",
       "    .dataframe thead th {\n",
       "        text-align: right;\n",
       "    }\n",
       "</style>\n",
       "<table border=\"1\" class=\"dataframe\">\n",
       "  <thead>\n",
       "    <tr style=\"text-align: right;\">\n",
       "      <th></th>\n",
       "      <th>mean</th>\n",
       "      <th>std</th>\n",
       "      <th>mean_lin</th>\n",
       "      <th>std_lin</th>\n",
       "      <th>KS_statistic</th>\n",
       "      <th>pvalue</th>\n",
       "      <th>kurtosis</th>\n",
       "      <th>skewness</th>\n",
       "    </tr>\n",
       "    <tr>\n",
       "      <th>phylum</th>\n",
       "      <th></th>\n",
       "      <th></th>\n",
       "      <th></th>\n",
       "      <th></th>\n",
       "      <th></th>\n",
       "      <th></th>\n",
       "      <th></th>\n",
       "      <th></th>\n",
       "    </tr>\n",
       "  </thead>\n",
       "  <tbody>\n",
       "    <tr>\n",
       "      <th>Tenericutes</th>\n",
       "      <td>-1.381533</td>\n",
       "      <td>0.138511</td>\n",
       "      <td>0.041540</td>\n",
       "      <td>1.375659</td>\n",
       "      <td>0.435740</td>\n",
       "      <td>2.151651e-30</td>\n",
       "      <td>1.241478</td>\n",
       "      <td>1.598409</td>\n",
       "    </tr>\n",
       "    <tr>\n",
       "      <th>Spirochaetes</th>\n",
       "      <td>-1.199615</td>\n",
       "      <td>0.216426</td>\n",
       "      <td>0.063152</td>\n",
       "      <td>1.645987</td>\n",
       "      <td>0.124404</td>\n",
       "      <td>5.371797e-02</td>\n",
       "      <td>-0.051643</td>\n",
       "      <td>-0.306595</td>\n",
       "    </tr>\n",
       "    <tr>\n",
       "      <th>Bacteroidetes</th>\n",
       "      <td>-0.936687</td>\n",
       "      <td>0.162943</td>\n",
       "      <td>0.115695</td>\n",
       "      <td>1.455267</td>\n",
       "      <td>0.030456</td>\n",
       "      <td>3.269226e-01</td>\n",
       "      <td>0.289687</td>\n",
       "      <td>0.156241</td>\n",
       "    </tr>\n",
       "    <tr>\n",
       "      <th>Actinobacteria</th>\n",
       "      <td>-0.917245</td>\n",
       "      <td>0.175294</td>\n",
       "      <td>0.120991</td>\n",
       "      <td>1.497248</td>\n",
       "      <td>0.036867</td>\n",
       "      <td>2.501373e-01</td>\n",
       "      <td>4.331611</td>\n",
       "      <td>0.757359</td>\n",
       "    </tr>\n",
       "    <tr>\n",
       "      <th>Proteobacteria</th>\n",
       "      <td>-0.864259</td>\n",
       "      <td>0.181912</td>\n",
       "      <td>0.136691</td>\n",
       "      <td>1.520239</td>\n",
       "      <td>0.036477</td>\n",
       "      <td>8.378244e-03</td>\n",
       "      <td>17.312277</td>\n",
       "      <td>1.396966</td>\n",
       "    </tr>\n",
       "    <tr>\n",
       "      <th>Firmicutes</th>\n",
       "      <td>-0.821703</td>\n",
       "      <td>0.174212</td>\n",
       "      <td>0.150764</td>\n",
       "      <td>1.493522</td>\n",
       "      <td>0.059848</td>\n",
       "      <td>6.172111e-03</td>\n",
       "      <td>18.359688</td>\n",
       "      <td>1.501847</td>\n",
       "    </tr>\n",
       "    <tr>\n",
       "      <th>Euryarchaeota</th>\n",
       "      <td>-0.805998</td>\n",
       "      <td>0.208082</td>\n",
       "      <td>0.156315</td>\n",
       "      <td>1.614665</td>\n",
       "      <td>0.086564</td>\n",
       "      <td>2.491380e-01</td>\n",
       "      <td>1.286800</td>\n",
       "      <td>-0.803439</td>\n",
       "    </tr>\n",
       "    <tr>\n",
       "      <th>Cyanobacteria</th>\n",
       "      <td>-0.177362</td>\n",
       "      <td>0.379316</td>\n",
       "      <td>0.664718</td>\n",
       "      <td>2.395056</td>\n",
       "      <td>0.093287</td>\n",
       "      <td>3.458071e-01</td>\n",
       "      <td>0.379855</td>\n",
       "      <td>0.491791</td>\n",
       "    </tr>\n",
       "  </tbody>\n",
       "</table>\n",
       "</div>"
      ],
      "text/plain": [
       "                    mean       std  mean_lin   std_lin  KS_statistic  \\\n",
       "phylum                                                                 \n",
       "Tenericutes    -1.381533  0.138511  0.041540  1.375659      0.435740   \n",
       "Spirochaetes   -1.199615  0.216426  0.063152  1.645987      0.124404   \n",
       "Bacteroidetes  -0.936687  0.162943  0.115695  1.455267      0.030456   \n",
       "Actinobacteria -0.917245  0.175294  0.120991  1.497248      0.036867   \n",
       "Proteobacteria -0.864259  0.181912  0.136691  1.520239      0.036477   \n",
       "Firmicutes     -0.821703  0.174212  0.150764  1.493522      0.059848   \n",
       "Euryarchaeota  -0.805998  0.208082  0.156315  1.614665      0.086564   \n",
       "Cyanobacteria  -0.177362  0.379316  0.664718  2.395056      0.093287   \n",
       "\n",
       "                      pvalue   kurtosis  skewness  \n",
       "phylum                                             \n",
       "Tenericutes     2.151651e-30   1.241478  1.598409  \n",
       "Spirochaetes    5.371797e-02  -0.051643 -0.306595  \n",
       "Bacteroidetes   3.269226e-01   0.289687  0.156241  \n",
       "Actinobacteria  2.501373e-01   4.331611  0.757359  \n",
       "Proteobacteria  8.378244e-03  17.312277  1.396966  \n",
       "Firmicutes      6.172111e-03  18.359688  1.501847  \n",
       "Euryarchaeota   2.491380e-01   1.286800 -0.803439  \n",
       "Cyanobacteria   3.458071e-01   0.379855  0.491791  "
      ]
     },
     "execution_count": 27,
     "metadata": {},
     "output_type": "execute_result"
    }
   ],
   "source": [
    "dfr_norm"
   ]
  },
  {
   "cell_type": "code",
   "execution_count": 28,
   "metadata": {},
   "outputs": [
    {
     "data": {
      "text/html": [
       "<div>\n",
       "<style scoped>\n",
       "    .dataframe tbody tr th:only-of-type {\n",
       "        vertical-align: middle;\n",
       "    }\n",
       "\n",
       "    .dataframe tbody tr th {\n",
       "        vertical-align: top;\n",
       "    }\n",
       "\n",
       "    .dataframe thead th {\n",
       "        text-align: right;\n",
       "    }\n",
       "</style>\n",
       "<table border=\"1\" class=\"dataframe\">\n",
       "  <thead>\n",
       "    <tr style=\"text-align: right;\">\n",
       "      <th></th>\n",
       "      <th>mean</th>\n",
       "      <th>std</th>\n",
       "      <th>mean_lin</th>\n",
       "      <th>std_lin</th>\n",
       "      <th>KS_statistic</th>\n",
       "      <th>pvalue</th>\n",
       "      <th>kurtosis</th>\n",
       "      <th>skewness</th>\n",
       "    </tr>\n",
       "    <tr>\n",
       "      <th>phylum</th>\n",
       "      <th></th>\n",
       "      <th></th>\n",
       "      <th></th>\n",
       "      <th></th>\n",
       "      <th></th>\n",
       "      <th></th>\n",
       "      <th></th>\n",
       "      <th></th>\n",
       "    </tr>\n",
       "  </thead>\n",
       "  <tbody>\n",
       "    <tr>\n",
       "      <th>Tenericutes</th>\n",
       "      <td>-1.381533</td>\n",
       "      <td>0.138511</td>\n",
       "      <td>0.041540</td>\n",
       "      <td>1.375659</td>\n",
       "      <td>0.435740</td>\n",
       "      <td>2.151651e-30</td>\n",
       "      <td>1.241478</td>\n",
       "      <td>1.598409</td>\n",
       "    </tr>\n",
       "    <tr>\n",
       "      <th>Spirochaetes</th>\n",
       "      <td>-1.199615</td>\n",
       "      <td>0.216426</td>\n",
       "      <td>0.063152</td>\n",
       "      <td>1.645987</td>\n",
       "      <td>0.124404</td>\n",
       "      <td>5.371797e-02</td>\n",
       "      <td>-0.051643</td>\n",
       "      <td>-0.306595</td>\n",
       "    </tr>\n",
       "    <tr>\n",
       "      <th>Bacteroidetes</th>\n",
       "      <td>-0.936687</td>\n",
       "      <td>0.162943</td>\n",
       "      <td>0.115695</td>\n",
       "      <td>1.455267</td>\n",
       "      <td>0.030456</td>\n",
       "      <td>3.269226e-01</td>\n",
       "      <td>0.289687</td>\n",
       "      <td>0.156241</td>\n",
       "    </tr>\n",
       "    <tr>\n",
       "      <th>Actinobacteria</th>\n",
       "      <td>-0.917245</td>\n",
       "      <td>0.175294</td>\n",
       "      <td>0.120991</td>\n",
       "      <td>1.497248</td>\n",
       "      <td>0.036867</td>\n",
       "      <td>2.501373e-01</td>\n",
       "      <td>4.331611</td>\n",
       "      <td>0.757359</td>\n",
       "    </tr>\n",
       "    <tr>\n",
       "      <th>Proteobacteria</th>\n",
       "      <td>-0.864259</td>\n",
       "      <td>0.181912</td>\n",
       "      <td>0.136691</td>\n",
       "      <td>1.520239</td>\n",
       "      <td>0.036477</td>\n",
       "      <td>8.378244e-03</td>\n",
       "      <td>17.312277</td>\n",
       "      <td>1.396966</td>\n",
       "    </tr>\n",
       "    <tr>\n",
       "      <th>Firmicutes</th>\n",
       "      <td>-0.821703</td>\n",
       "      <td>0.174212</td>\n",
       "      <td>0.150764</td>\n",
       "      <td>1.493522</td>\n",
       "      <td>0.059848</td>\n",
       "      <td>6.172111e-03</td>\n",
       "      <td>18.359688</td>\n",
       "      <td>1.501847</td>\n",
       "    </tr>\n",
       "    <tr>\n",
       "      <th>Euryarchaeota</th>\n",
       "      <td>-0.805998</td>\n",
       "      <td>0.208082</td>\n",
       "      <td>0.156315</td>\n",
       "      <td>1.614665</td>\n",
       "      <td>0.086564</td>\n",
       "      <td>2.491380e-01</td>\n",
       "      <td>1.286800</td>\n",
       "      <td>-0.803439</td>\n",
       "    </tr>\n",
       "    <tr>\n",
       "      <th>Cyanobacteria</th>\n",
       "      <td>-0.177362</td>\n",
       "      <td>0.379316</td>\n",
       "      <td>0.664718</td>\n",
       "      <td>2.395056</td>\n",
       "      <td>0.093287</td>\n",
       "      <td>3.458071e-01</td>\n",
       "      <td>0.379855</td>\n",
       "      <td>0.491791</td>\n",
       "    </tr>\n",
       "  </tbody>\n",
       "</table>\n",
       "</div>"
      ],
      "text/plain": [
       "                    mean       std  mean_lin   std_lin  KS_statistic  \\\n",
       "phylum                                                                 \n",
       "Tenericutes    -1.381533  0.138511  0.041540  1.375659      0.435740   \n",
       "Spirochaetes   -1.199615  0.216426  0.063152  1.645987      0.124404   \n",
       "Bacteroidetes  -0.936687  0.162943  0.115695  1.455267      0.030456   \n",
       "Actinobacteria -0.917245  0.175294  0.120991  1.497248      0.036867   \n",
       "Proteobacteria -0.864259  0.181912  0.136691  1.520239      0.036477   \n",
       "Firmicutes     -0.821703  0.174212  0.150764  1.493522      0.059848   \n",
       "Euryarchaeota  -0.805998  0.208082  0.156315  1.614665      0.086564   \n",
       "Cyanobacteria  -0.177362  0.379316  0.664718  2.395056      0.093287   \n",
       "\n",
       "                      pvalue   kurtosis  skewness  \n",
       "phylum                                             \n",
       "Tenericutes     2.151651e-30   1.241478  1.598409  \n",
       "Spirochaetes    5.371797e-02  -0.051643 -0.306595  \n",
       "Bacteroidetes   3.269226e-01   0.289687  0.156241  \n",
       "Actinobacteria  2.501373e-01   4.331611  0.757359  \n",
       "Proteobacteria  8.378244e-03  17.312277  1.396966  \n",
       "Firmicutes      6.172111e-03  18.359688  1.501847  \n",
       "Euryarchaeota   2.491380e-01   1.286800 -0.803439  \n",
       "Cyanobacteria   3.458071e-01   0.379855  0.491791  "
      ]
     },
     "execution_count": 28,
     "metadata": {},
     "output_type": "execute_result"
    }
   ],
   "source": [
    "dfr_norm.sort_values(['mean'])"
   ]
  },
  {
   "cell_type": "code",
   "execution_count": 29,
   "metadata": {},
   "outputs": [],
   "source": [
    "med = {}\n",
    "for phy in phyla[1:]:\n",
    "    data = df[df['phylum'] == phy]['svratio'].apply(np.log10).to_numpy()\n",
    "#     print(f'Phylum {phy}, median {np.median(data)}')\n",
    "    med[phy] = np.median(data)"
   ]
  },
  {
   "cell_type": "code",
   "execution_count": 30,
   "metadata": {},
   "outputs": [
    {
     "data": {
      "text/plain": [
       "[('Spirochaetes', -1.1628679368480896),\n",
       " ('Proteobacteria', -0.864262482552089),\n",
       " ('Firmicutes', -0.816899703257433),\n",
       " ('Euryarchaeota', -0.7781512503836436),\n",
       " ('Cyanobacteria', -0.16636174254808891),\n",
       " ('Bacteroidetes', -0.9465556807730339),\n",
       " ('Actinobacteria', -0.9263198277104184)]"
      ]
     },
     "execution_count": 30,
     "metadata": {},
     "output_type": "execute_result"
    }
   ],
   "source": [
    "sorted(med.items(), reverse = True)"
   ]
  },
  {
   "cell_type": "markdown",
   "metadata": {},
   "source": [
    "### Correct p-values due to multiple testing using Benjamini/Hochberg"
   ]
  },
  {
   "cell_type": "markdown",
   "metadata": {},
   "source": [
    "Comparison between phyla"
   ]
  },
  {
   "cell_type": "code",
   "execution_count": 31,
   "metadata": {},
   "outputs": [],
   "source": [
    "pvals_corrected = multipletests(dfr['pvalue'], alpha = 0.05, method = 'fdr_bh')[1]"
   ]
  },
  {
   "cell_type": "code",
   "execution_count": 32,
   "metadata": {},
   "outputs": [],
   "source": [
    "dfr['pvalue_corrected'] = pvals_corrected"
   ]
  },
  {
   "cell_type": "code",
   "execution_count": 33,
   "metadata": {},
   "outputs": [
    {
     "data": {
      "text/html": [
       "<div>\n",
       "<style scoped>\n",
       "    .dataframe tbody tr th:only-of-type {\n",
       "        vertical-align: middle;\n",
       "    }\n",
       "\n",
       "    .dataframe tbody tr th {\n",
       "        vertical-align: top;\n",
       "    }\n",
       "\n",
       "    .dataframe thead th {\n",
       "        text-align: right;\n",
       "    }\n",
       "</style>\n",
       "<table border=\"1\" class=\"dataframe\">\n",
       "  <thead>\n",
       "    <tr style=\"text-align: right;\">\n",
       "      <th></th>\n",
       "      <th>KS_statistic</th>\n",
       "      <th>pvalue</th>\n",
       "      <th>pvalue_corrected</th>\n",
       "    </tr>\n",
       "    <tr>\n",
       "      <th>pair</th>\n",
       "      <th></th>\n",
       "      <th></th>\n",
       "      <th></th>\n",
       "    </tr>\n",
       "  </thead>\n",
       "  <tbody>\n",
       "    <tr>\n",
       "      <th>Spirochaetes_Bacteroidetes</th>\n",
       "      <td>0.571842</td>\n",
       "      <td>4.338649e-32</td>\n",
       "      <td>1.138895e-31</td>\n",
       "    </tr>\n",
       "    <tr>\n",
       "      <th>Spirochaetes_Actinobacteria</th>\n",
       "      <td>0.592146</td>\n",
       "      <td>1.268991e-33</td>\n",
       "      <td>3.806972e-33</td>\n",
       "    </tr>\n",
       "    <tr>\n",
       "      <th>Spirochaetes_Proteobacteria</th>\n",
       "      <td>0.682754</td>\n",
       "      <td>1.221245e-15</td>\n",
       "      <td>1.831868e-15</td>\n",
       "    </tr>\n",
       "    <tr>\n",
       "      <th>Spirochaetes_Firmicutes</th>\n",
       "      <td>0.790131</td>\n",
       "      <td>4.012012e-67</td>\n",
       "      <td>2.808408e-66</td>\n",
       "    </tr>\n",
       "    <tr>\n",
       "      <th>Spirochaetes_Euryarchaeota</th>\n",
       "      <td>0.766862</td>\n",
       "      <td>1.083925e-38</td>\n",
       "      <td>3.793738e-38</td>\n",
       "    </tr>\n",
       "  </tbody>\n",
       "</table>\n",
       "</div>"
      ],
      "text/plain": [
       "                             KS_statistic        pvalue  pvalue_corrected\n",
       "pair                                                                     \n",
       "Spirochaetes_Bacteroidetes       0.571842  4.338649e-32      1.138895e-31\n",
       "Spirochaetes_Actinobacteria      0.592146  1.268991e-33      3.806972e-33\n",
       "Spirochaetes_Proteobacteria      0.682754  1.221245e-15      1.831868e-15\n",
       "Spirochaetes_Firmicutes          0.790131  4.012012e-67      2.808408e-66\n",
       "Spirochaetes_Euryarchaeota       0.766862  1.083925e-38      3.793738e-38"
      ]
     },
     "execution_count": 33,
     "metadata": {},
     "output_type": "execute_result"
    }
   ],
   "source": [
    "dfr.head()"
   ]
  },
  {
   "cell_type": "code",
   "execution_count": 34,
   "metadata": {},
   "outputs": [],
   "source": [
    "dfr.to_csv('per_phylum_distribution.csv', sep = '\\t')"
   ]
  },
  {
   "cell_type": "code",
   "execution_count": 35,
   "metadata": {},
   "outputs": [
    {
     "data": {
      "text/html": [
       "<div>\n",
       "<style scoped>\n",
       "    .dataframe tbody tr th:only-of-type {\n",
       "        vertical-align: middle;\n",
       "    }\n",
       "\n",
       "    .dataframe tbody tr th {\n",
       "        vertical-align: top;\n",
       "    }\n",
       "\n",
       "    .dataframe thead th {\n",
       "        text-align: right;\n",
       "    }\n",
       "</style>\n",
       "<table border=\"1\" class=\"dataframe\">\n",
       "  <thead>\n",
       "    <tr style=\"text-align: right;\">\n",
       "      <th></th>\n",
       "      <th>KS_statistic</th>\n",
       "      <th>pvalue</th>\n",
       "      <th>pvalue_corrected</th>\n",
       "    </tr>\n",
       "    <tr>\n",
       "      <th>pair</th>\n",
       "      <th></th>\n",
       "      <th></th>\n",
       "      <th></th>\n",
       "    </tr>\n",
       "  </thead>\n",
       "  <tbody>\n",
       "    <tr>\n",
       "      <th>Bacteroidetes_Actinobacteria</th>\n",
       "      <td>0.063443</td>\n",
       "      <td>0.062724</td>\n",
       "      <td>0.062724</td>\n",
       "    </tr>\n",
       "  </tbody>\n",
       "</table>\n",
       "</div>"
      ],
      "text/plain": [
       "                              KS_statistic    pvalue  pvalue_corrected\n",
       "pair                                                                  \n",
       "Bacteroidetes_Actinobacteria      0.063443  0.062724          0.062724"
      ]
     },
     "execution_count": 35,
     "metadata": {},
     "output_type": "execute_result"
    }
   ],
   "source": [
    "dfr[dfr['pvalue_corrected'] > 0.05]"
   ]
  },
  {
   "cell_type": "code",
   "execution_count": 36,
   "metadata": {},
   "outputs": [
    {
     "data": {
      "text/plain": [
       "(19, 3)"
      ]
     },
     "execution_count": 36,
     "metadata": {},
     "output_type": "execute_result"
    }
   ],
   "source": [
    "dfr[dfr['pvalue_corrected'] < 0.01].shape"
   ]
  },
  {
   "cell_type": "markdown",
   "metadata": {},
   "source": [
    "Comparison of each phylum against a normal distribution"
   ]
  },
  {
   "cell_type": "code",
   "execution_count": 37,
   "metadata": {},
   "outputs": [],
   "source": [
    "pvals_corrected = multipletests(dfr_norm['pvalue'], alpha = 0.05, method = 'fdr_bh')[1]"
   ]
  },
  {
   "cell_type": "code",
   "execution_count": 38,
   "metadata": {},
   "outputs": [],
   "source": [
    "dfr_norm['pvalue_corrected'] = pvals_corrected"
   ]
  },
  {
   "cell_type": "code",
   "execution_count": 39,
   "metadata": {},
   "outputs": [
    {
     "data": {
      "text/html": [
       "<div>\n",
       "<style scoped>\n",
       "    .dataframe tbody tr th:only-of-type {\n",
       "        vertical-align: middle;\n",
       "    }\n",
       "\n",
       "    .dataframe tbody tr th {\n",
       "        vertical-align: top;\n",
       "    }\n",
       "\n",
       "    .dataframe thead th {\n",
       "        text-align: right;\n",
       "    }\n",
       "</style>\n",
       "<table border=\"1\" class=\"dataframe\">\n",
       "  <thead>\n",
       "    <tr style=\"text-align: right;\">\n",
       "      <th></th>\n",
       "      <th>mean</th>\n",
       "      <th>std</th>\n",
       "      <th>mean_lin</th>\n",
       "      <th>std_lin</th>\n",
       "      <th>KS_statistic</th>\n",
       "      <th>pvalue</th>\n",
       "      <th>kurtosis</th>\n",
       "      <th>skewness</th>\n",
       "      <th>pvalue_corrected</th>\n",
       "    </tr>\n",
       "    <tr>\n",
       "      <th>phylum</th>\n",
       "      <th></th>\n",
       "      <th></th>\n",
       "      <th></th>\n",
       "      <th></th>\n",
       "      <th></th>\n",
       "      <th></th>\n",
       "      <th></th>\n",
       "      <th></th>\n",
       "      <th></th>\n",
       "    </tr>\n",
       "  </thead>\n",
       "  <tbody>\n",
       "    <tr>\n",
       "      <th>Tenericutes</th>\n",
       "      <td>-1.381533</td>\n",
       "      <td>0.138511</td>\n",
       "      <td>0.041540</td>\n",
       "      <td>1.375659</td>\n",
       "      <td>0.435740</td>\n",
       "      <td>2.151651e-30</td>\n",
       "      <td>1.241478</td>\n",
       "      <td>1.598409</td>\n",
       "      <td>1.721321e-29</td>\n",
       "    </tr>\n",
       "    <tr>\n",
       "      <th>Spirochaetes</th>\n",
       "      <td>-1.199615</td>\n",
       "      <td>0.216426</td>\n",
       "      <td>0.063152</td>\n",
       "      <td>1.645987</td>\n",
       "      <td>0.124404</td>\n",
       "      <td>5.371797e-02</td>\n",
       "      <td>-0.051643</td>\n",
       "      <td>-0.306595</td>\n",
       "      <td>1.074359e-01</td>\n",
       "    </tr>\n",
       "    <tr>\n",
       "      <th>Bacteroidetes</th>\n",
       "      <td>-0.936687</td>\n",
       "      <td>0.162943</td>\n",
       "      <td>0.115695</td>\n",
       "      <td>1.455267</td>\n",
       "      <td>0.030456</td>\n",
       "      <td>3.269226e-01</td>\n",
       "      <td>0.289687</td>\n",
       "      <td>0.156241</td>\n",
       "      <td>3.458071e-01</td>\n",
       "    </tr>\n",
       "    <tr>\n",
       "      <th>Actinobacteria</th>\n",
       "      <td>-0.917245</td>\n",
       "      <td>0.175294</td>\n",
       "      <td>0.120991</td>\n",
       "      <td>1.497248</td>\n",
       "      <td>0.036867</td>\n",
       "      <td>2.501373e-01</td>\n",
       "      <td>4.331611</td>\n",
       "      <td>0.757359</td>\n",
       "      <td>3.335164e-01</td>\n",
       "    </tr>\n",
       "    <tr>\n",
       "      <th>Proteobacteria</th>\n",
       "      <td>-0.864259</td>\n",
       "      <td>0.181912</td>\n",
       "      <td>0.136691</td>\n",
       "      <td>1.520239</td>\n",
       "      <td>0.036477</td>\n",
       "      <td>8.378244e-03</td>\n",
       "      <td>17.312277</td>\n",
       "      <td>1.396966</td>\n",
       "      <td>2.234198e-02</td>\n",
       "    </tr>\n",
       "    <tr>\n",
       "      <th>Firmicutes</th>\n",
       "      <td>-0.821703</td>\n",
       "      <td>0.174212</td>\n",
       "      <td>0.150764</td>\n",
       "      <td>1.493522</td>\n",
       "      <td>0.059848</td>\n",
       "      <td>6.172111e-03</td>\n",
       "      <td>18.359688</td>\n",
       "      <td>1.501847</td>\n",
       "      <td>2.234198e-02</td>\n",
       "    </tr>\n",
       "    <tr>\n",
       "      <th>Euryarchaeota</th>\n",
       "      <td>-0.805998</td>\n",
       "      <td>0.208082</td>\n",
       "      <td>0.156315</td>\n",
       "      <td>1.614665</td>\n",
       "      <td>0.086564</td>\n",
       "      <td>2.491380e-01</td>\n",
       "      <td>1.286800</td>\n",
       "      <td>-0.803439</td>\n",
       "      <td>3.335164e-01</td>\n",
       "    </tr>\n",
       "    <tr>\n",
       "      <th>Cyanobacteria</th>\n",
       "      <td>-0.177362</td>\n",
       "      <td>0.379316</td>\n",
       "      <td>0.664718</td>\n",
       "      <td>2.395056</td>\n",
       "      <td>0.093287</td>\n",
       "      <td>3.458071e-01</td>\n",
       "      <td>0.379855</td>\n",
       "      <td>0.491791</td>\n",
       "      <td>3.458071e-01</td>\n",
       "    </tr>\n",
       "  </tbody>\n",
       "</table>\n",
       "</div>"
      ],
      "text/plain": [
       "                    mean       std  mean_lin   std_lin  KS_statistic  \\\n",
       "phylum                                                                 \n",
       "Tenericutes    -1.381533  0.138511  0.041540  1.375659      0.435740   \n",
       "Spirochaetes   -1.199615  0.216426  0.063152  1.645987      0.124404   \n",
       "Bacteroidetes  -0.936687  0.162943  0.115695  1.455267      0.030456   \n",
       "Actinobacteria -0.917245  0.175294  0.120991  1.497248      0.036867   \n",
       "Proteobacteria -0.864259  0.181912  0.136691  1.520239      0.036477   \n",
       "Firmicutes     -0.821703  0.174212  0.150764  1.493522      0.059848   \n",
       "Euryarchaeota  -0.805998  0.208082  0.156315  1.614665      0.086564   \n",
       "Cyanobacteria  -0.177362  0.379316  0.664718  2.395056      0.093287   \n",
       "\n",
       "                      pvalue   kurtosis  skewness  pvalue_corrected  \n",
       "phylum                                                               \n",
       "Tenericutes     2.151651e-30   1.241478  1.598409      1.721321e-29  \n",
       "Spirochaetes    5.371797e-02  -0.051643 -0.306595      1.074359e-01  \n",
       "Bacteroidetes   3.269226e-01   0.289687  0.156241      3.458071e-01  \n",
       "Actinobacteria  2.501373e-01   4.331611  0.757359      3.335164e-01  \n",
       "Proteobacteria  8.378244e-03  17.312277  1.396966      2.234198e-02  \n",
       "Firmicutes      6.172111e-03  18.359688  1.501847      2.234198e-02  \n",
       "Euryarchaeota   2.491380e-01   1.286800 -0.803439      3.335164e-01  \n",
       "Cyanobacteria   3.458071e-01   0.379855  0.491791      3.458071e-01  "
      ]
     },
     "execution_count": 39,
     "metadata": {},
     "output_type": "execute_result"
    }
   ],
   "source": [
    "dfr_norm"
   ]
  },
  {
   "cell_type": "code",
   "execution_count": 40,
   "metadata": {},
   "outputs": [],
   "source": [
    "dfr_norm.to_csv('per_phylum_distribution_normal.csv', sep = '\\t')"
   ]
  },
  {
   "cell_type": "code",
   "execution_count": 41,
   "metadata": {},
   "outputs": [
    {
     "data": {
      "text/html": [
       "<div>\n",
       "<style scoped>\n",
       "    .dataframe tbody tr th:only-of-type {\n",
       "        vertical-align: middle;\n",
       "    }\n",
       "\n",
       "    .dataframe tbody tr th {\n",
       "        vertical-align: top;\n",
       "    }\n",
       "\n",
       "    .dataframe thead th {\n",
       "        text-align: right;\n",
       "    }\n",
       "</style>\n",
       "<table border=\"1\" class=\"dataframe\">\n",
       "  <thead>\n",
       "    <tr style=\"text-align: right;\">\n",
       "      <th></th>\n",
       "      <th>mean</th>\n",
       "      <th>std</th>\n",
       "      <th>mean_lin</th>\n",
       "      <th>std_lin</th>\n",
       "      <th>KS_statistic</th>\n",
       "      <th>pvalue</th>\n",
       "      <th>kurtosis</th>\n",
       "      <th>skewness</th>\n",
       "      <th>pvalue_corrected</th>\n",
       "    </tr>\n",
       "    <tr>\n",
       "      <th>phylum</th>\n",
       "      <th></th>\n",
       "      <th></th>\n",
       "      <th></th>\n",
       "      <th></th>\n",
       "      <th></th>\n",
       "      <th></th>\n",
       "      <th></th>\n",
       "      <th></th>\n",
       "      <th></th>\n",
       "    </tr>\n",
       "  </thead>\n",
       "  <tbody>\n",
       "    <tr>\n",
       "      <th>Tenericutes</th>\n",
       "      <td>-1.381533</td>\n",
       "      <td>0.138511</td>\n",
       "      <td>0.041540</td>\n",
       "      <td>1.375659</td>\n",
       "      <td>0.435740</td>\n",
       "      <td>2.151651e-30</td>\n",
       "      <td>1.241478</td>\n",
       "      <td>1.598409</td>\n",
       "      <td>1.721321e-29</td>\n",
       "    </tr>\n",
       "    <tr>\n",
       "      <th>Proteobacteria</th>\n",
       "      <td>-0.864259</td>\n",
       "      <td>0.181912</td>\n",
       "      <td>0.136691</td>\n",
       "      <td>1.520239</td>\n",
       "      <td>0.036477</td>\n",
       "      <td>8.378244e-03</td>\n",
       "      <td>17.312277</td>\n",
       "      <td>1.396966</td>\n",
       "      <td>2.234198e-02</td>\n",
       "    </tr>\n",
       "    <tr>\n",
       "      <th>Firmicutes</th>\n",
       "      <td>-0.821703</td>\n",
       "      <td>0.174212</td>\n",
       "      <td>0.150764</td>\n",
       "      <td>1.493522</td>\n",
       "      <td>0.059848</td>\n",
       "      <td>6.172111e-03</td>\n",
       "      <td>18.359688</td>\n",
       "      <td>1.501847</td>\n",
       "      <td>2.234198e-02</td>\n",
       "    </tr>\n",
       "  </tbody>\n",
       "</table>\n",
       "</div>"
      ],
      "text/plain": [
       "                    mean       std  mean_lin   std_lin  KS_statistic  \\\n",
       "phylum                                                                 \n",
       "Tenericutes    -1.381533  0.138511  0.041540  1.375659      0.435740   \n",
       "Proteobacteria -0.864259  0.181912  0.136691  1.520239      0.036477   \n",
       "Firmicutes     -0.821703  0.174212  0.150764  1.493522      0.059848   \n",
       "\n",
       "                      pvalue   kurtosis  skewness  pvalue_corrected  \n",
       "phylum                                                               \n",
       "Tenericutes     2.151651e-30   1.241478  1.598409      1.721321e-29  \n",
       "Proteobacteria  8.378244e-03  17.312277  1.396966      2.234198e-02  \n",
       "Firmicutes      6.172111e-03  18.359688  1.501847      2.234198e-02  "
      ]
     },
     "execution_count": 41,
     "metadata": {},
     "output_type": "execute_result"
    }
   ],
   "source": [
    "dfr_norm[dfr_norm['pvalue_corrected'] < 0.05]"
   ]
  },
  {
   "cell_type": "markdown",
   "metadata": {},
   "source": [
    "QQ plots"
   ]
  },
  {
   "cell_type": "code",
   "execution_count": 42,
   "metadata": {},
   "outputs": [],
   "source": [
    "phyla = ['Tenericutes', 'Spirochaetes', 'Bacteroidetes', 'Actinobacteria', 'Proteobacteria',\n",
    "       'Firmicutes', 'Euryarchaeota', 'Cyanobacteria']"
   ]
  },
  {
   "cell_type": "code",
   "execution_count": 43,
   "metadata": {},
   "outputs": [
    {
     "data": {
      "image/png": "[encoded data removed]",
      "text/plain": [
       "<Figure size 576x1008 with 8 Axes>"
      ]
     },
     "metadata": {
      "needs_background": "light"
     },
     "output_type": "display_data"
    }
   ],
   "source": [
    "fig, ax = plt.subplots(len(phyla), 1, figsize = (8, 14), \n",
    "                       sharey = False, sharex = True)\n",
    "for i, phy in enumerate(phyla):\n",
    "    if phy == 'all':\n",
    "        data = df['svratio'].apply(np.log10).to_numpy()\n",
    "    else:\n",
    "        data = df[df['phylum'] == phy]['svratio'].apply(np.log10).to_numpy()\n",
    "    # Fit a normal distribution to data\n",
    "    parameters = norm.fit(data)\n",
    "    # Calculate quantiles for QQ plot\n",
    "    qq = probplot(data, sparams = (parameters[0], parameters[1]), dist = 'norm')\n",
    "    ax[i].scatter(qq[0][0], qq[0][1], alpha = 0.2, color = 'black', s = 10)\n",
    "    ax[i].plot(qq[0][0], qq[0][0], color = 'blue', alpha = 0.4)\n",
    "    ax[i].set_xlabel('Theoretical quantiles')\n",
    "    ax[i].set_ylabel('Sample quantiles')\n",
    "    ax[i].set_title(f'{phy}')\n",
    "    ax[i].tick_params(top = True, right = True, direction = 'in', which = 'both')\n",
    "    \n",
    "plt.savefig('../figures_all/qqplot_phylum_all.svg') \n",
    "plt.show()"
   ]
  },
  {
   "cell_type": "markdown",
   "metadata": {},
   "source": [
    "Removing the giant bacteria from Proteobacteria and Firmicutes"
   ]
  },
  {
   "cell_type": "code",
   "execution_count": 44,
   "metadata": {},
   "outputs": [],
   "source": [
    "df_proteo = df[df['phylum'] == 'Proteobacteria']\n",
    "df_prote_removed = df_proteo[~df_proteo['genus'].isin(['Thiomargarita'])]"
   ]
  },
  {
   "cell_type": "code",
   "execution_count": 45,
   "metadata": {},
   "outputs": [],
   "source": [
    "df_firmi = df[df['phylum'] == 'Firmicutes']\n",
    "df_firmi_removed = df_firmi[~df_firmi['genus'].isin(['Epulopiscium'])]"
   ]
  },
  {
   "cell_type": "code",
   "execution_count": 46,
   "metadata": {},
   "outputs": [],
   "source": [
    "data_removed = [df_prote_removed, df_firmi_removed]"
   ]
  },
  {
   "cell_type": "code",
   "execution_count": 47,
   "metadata": {},
   "outputs": [],
   "source": [
    "colors = ['#c05761', '#ffca3a']"
   ]
  },
  {
   "cell_type": "code",
   "execution_count": 48,
   "metadata": {},
   "outputs": [
    {
     "name": "stdout",
     "output_type": "stream",
     "text": [
      "('Not enough evidence to reject Ho', KstestResult(statistic=0.020249691126699942, pvalue=0.3662228645189983), (-0.8662450246621146, 0.17029729995847578))\n",
      "\n",
      "('Not enough evidence to reject Ho', KstestResult(statistic=0.04594541866382712, pvalue=0.06615520589458879), (-0.8241086918157431, 0.1604739468922164))\n",
      "\n"
     ]
    },
    {
     "data": {
      "image/png": "[encoded data removed]",
      "text/plain": [
       "<Figure size 432x216 with 2 Axes>"
      ]
     },
     "metadata": {
      "needs_background": "light"
     },
     "output_type": "display_data"
    }
   ],
   "source": [
    "fig, ax = plt.subplots(2, 1, figsize = (6, 3), \n",
    "                       sharey = False, sharex = True)\n",
    "\n",
    "for i, phy in enumerate(['Proteobacteria', 'Firmicutes']):\n",
    "    for j, f in enumerate(features):\n",
    "        data = data_removed[i][f].apply(np.log10).to_numpy()\n",
    "        \n",
    "        # Compare with a normal distribution\n",
    "        n = data.shape[0]    \n",
    "        # Fit a normal distribution to data\n",
    "        parameters = norm.fit(data)\n",
    "        # Perform Kolmogorov-Smirnov test (goodness of fit)\n",
    "        gft = kstest(data, 'norm', parameters)\n",
    "        # Hypothesis testing (Ho: normal)\n",
    "        print(f'{hypo_testing(gft[0], n), gft, parameters}\\n')\n",
    "        \n",
    "        x_grid = np.linspace(data.min(), data.max(), data.shape[0])\n",
    "        bw = hyperp(data, -1, 1, 5)\n",
    "        counts, bins = np.histogram(data, bins = 'auto')\n",
    "        widths = widths = bins[:-1] - bins[1:] \n",
    "        pdf = kde(data, x_grid, bandwidth = bw['bandwidth'])\n",
    "        \n",
    "        ax[i].plot(x_grid, pdf * len(data) * np.diff(bins[1:])[0], color = colors[i], lw = 2, \n",
    "                      label = f'{phy}\\n(n = {data.shape[0]})')\n",
    "        ax[i].fill_between(x_grid, pdf * len(data) * np.diff(bins[1:])[0], color = colors[i], alpha = 0.3)\n",
    "        ax[i].plot(data, np.full_like(data, -0.0001), color = 'black', marker = '|',\n",
    "                     alpha = 0.2)\n",
    "        ax[i].axvline(x = np.mean(data), color = colors[i], linestyle = 'dashed', linewidth = 2)\n",
    "            \n",
    "        ax[i].set_ylabel(f'Number of\\nspecies')\n",
    "        ax[i].tick_params(top = True, right = True, direction = 'in', which = 'both')\n",
    "        \n",
    "        if i == len(phyla) - 1:\n",
    "            ax[i].set_xlabel(f'Log (Volume-to-surface ratio, $\\\\mu m$)')\n",
    "\n",
    "plt.savefig('../figures_all/fig3_removed_outliers.svg')   \n",
    "plt.show()"
   ]
  },
  {
   "cell_type": "markdown",
   "metadata": {},
   "source": [
    "## Kruskal-Wallis test - per phylum"
   ]
  },
  {
   "cell_type": "markdown",
   "metadata": {},
   "source": [
    "Assumptions: similar shape and equal variance among groups:\n",
    "\n",
    "* Empricial distributions have a similar shape: bell-shape\n",
    "* Test equality of variance with Levene's test"
   ]
  },
  {
   "cell_type": "markdown",
   "metadata": {},
   "source": [
    "Levene's test"
   ]
  },
  {
   "cell_type": "code",
   "execution_count": 49,
   "metadata": {},
   "outputs": [],
   "source": [
    "phyla = ['Tenericutes', 'Spirochaetes', 'Bacteroidetes', 'Actinobacteria', 'Proteobacteria',\n",
    "       'Firmicutes', 'Euryarchaeota', 'Cyanobacteria']\n",
    "phylas = []\n",
    "for phy in phyla:\n",
    "    phylas.append(df[df['phylum'] == phy]['svratio'].apply(np.log10).to_numpy())\n",
    "    "
   ]
  },
  {
   "cell_type": "code",
   "execution_count": 50,
   "metadata": {},
   "outputs": [
    {
     "data": {
      "text/plain": [
       "LeveneResult(statistic=33.41581947111851, pvalue=8.947085517017739e-46)"
      ]
     },
     "execution_count": 50,
     "metadata": {},
     "output_type": "execute_result"
    }
   ],
   "source": [
    "levene(phylas[0], phylas[1], phylas[2], phylas[3], phylas[4], phylas[5], phylas[6], phylas[7])"
   ]
  },
  {
   "cell_type": "markdown",
   "metadata": {},
   "source": [
    "Variance is different among groups!"
   ]
  },
  {
   "cell_type": "markdown",
   "metadata": {},
   "source": [
    "Kruskal-Wallis test"
   ]
  },
  {
   "cell_type": "code",
   "execution_count": 51,
   "metadata": {},
   "outputs": [
    {
     "data": {
      "text/plain": [
       "KruskalResult(statistic=1133.5119985596039, pvalue=1.6781376313775432e-240)"
      ]
     },
     "execution_count": 51,
     "metadata": {},
     "output_type": "execute_result"
    }
   ],
   "source": [
    "kruskal(phylas[0], phylas[1], phylas[2], phylas[3], phylas[4], phylas[5], phylas[6], phylas[7])"
   ]
  },
  {
   "cell_type": "markdown",
   "metadata": {},
   "source": [
    "Mann-Whitney test (non-parametric) to test differences in the location between distribution"
   ]
  },
  {
   "cell_type": "code",
   "execution_count": 52,
   "metadata": {},
   "outputs": [],
   "source": [
    "res = []\n",
    "for i, j in combinations(phyla, 2):\n",
    "    phylum_i = df[df['phylum'] == i]['svratio'].apply(np.log10)\n",
    "    phylum_j = df[df['phylum'] == j]['svratio'].apply(np.log10)\n",
    "    stat, pval = mannwhitneyu(phylum_i, phylum_j)\n",
    "#     stat, pval = ttest_ind(phylum_i, phylum_j, equal_var = False)\n",
    "    res.append([f'{i}_{j}', stat, pval])"
   ]
  },
  {
   "cell_type": "code",
   "execution_count": 53,
   "metadata": {},
   "outputs": [
    {
     "data": {
      "text/plain": [
       "(28, 2)"
      ]
     },
     "execution_count": 53,
     "metadata": {},
     "output_type": "execute_result"
    }
   ],
   "source": [
    "dfr_mw = pd.DataFrame(res, columns = ['pair', 'MW_statistic', 'pvalue']).set_index('pair')\n",
    "dfr_mw.shape"
   ]
  },
  {
   "cell_type": "markdown",
   "metadata": {},
   "source": [
    "Correct p-values using Benjamini-Hochberg"
   ]
  },
  {
   "cell_type": "code",
   "execution_count": 54,
   "metadata": {},
   "outputs": [],
   "source": [
    "pvals_corrected = multipletests(dfr_mw['pvalue'], alpha = 0.05, method = 'fdr_bh')[1]\n",
    "dfr_mw['pvalue_corrected'] = pvals_corrected"
   ]
  },
  {
   "cell_type": "code",
   "execution_count": 55,
   "metadata": {},
   "outputs": [],
   "source": [
    "dfr_mw.to_csv('per_phylum_distribution_mw.csv', sep = '\\t')"
   ]
  },
  {
   "cell_type": "code",
   "execution_count": 56,
   "metadata": {},
   "outputs": [
    {
     "data": {
      "text/html": [
       "<div>\n",
       "<style scoped>\n",
       "    .dataframe tbody tr th:only-of-type {\n",
       "        vertical-align: middle;\n",
       "    }\n",
       "\n",
       "    .dataframe tbody tr th {\n",
       "        vertical-align: top;\n",
       "    }\n",
       "\n",
       "    .dataframe thead th {\n",
       "        text-align: right;\n",
       "    }\n",
       "</style>\n",
       "<table border=\"1\" class=\"dataframe\">\n",
       "  <thead>\n",
       "    <tr style=\"text-align: right;\">\n",
       "      <th></th>\n",
       "      <th>MW_statistic</th>\n",
       "      <th>pvalue</th>\n",
       "      <th>pvalue_corrected</th>\n",
       "    </tr>\n",
       "    <tr>\n",
       "      <th>pair</th>\n",
       "      <th></th>\n",
       "      <th></th>\n",
       "      <th></th>\n",
       "    </tr>\n",
       "  </thead>\n",
       "  <tbody>\n",
       "    <tr>\n",
       "      <th>Tenericutes_Spirochaetes</th>\n",
       "      <td>4914.0</td>\n",
       "      <td>9.528264e-14</td>\n",
       "      <td>1.159963e-13</td>\n",
       "    </tr>\n",
       "    <tr>\n",
       "      <th>Tenericutes_Bacteroidetes</th>\n",
       "      <td>5243.5</td>\n",
       "      <td>2.715803e-86</td>\n",
       "      <td>2.534750e-85</td>\n",
       "    </tr>\n",
       "    <tr>\n",
       "      <th>Tenericutes_Actinobacteria</th>\n",
       "      <td>3810.5</td>\n",
       "      <td>9.839135e-84</td>\n",
       "      <td>6.887395e-83</td>\n",
       "    </tr>\n",
       "    <tr>\n",
       "      <th>Tenericutes_Proteobacteria</th>\n",
       "      <td>6782.5</td>\n",
       "      <td>1.569223e-98</td>\n",
       "      <td>4.393824e-97</td>\n",
       "    </tr>\n",
       "    <tr>\n",
       "      <th>Tenericutes_Firmicutes</th>\n",
       "      <td>1525.5</td>\n",
       "      <td>4.369576e-91</td>\n",
       "      <td>6.117406e-90</td>\n",
       "    </tr>\n",
       "    <tr>\n",
       "      <th>Tenericutes_Euryarchaeota</th>\n",
       "      <td>786.5</td>\n",
       "      <td>1.080533e-46</td>\n",
       "      <td>2.521243e-46</td>\n",
       "    </tr>\n",
       "    <tr>\n",
       "      <th>Tenericutes_Cyanobacteria</th>\n",
       "      <td>4.5</td>\n",
       "      <td>8.060054e-45</td>\n",
       "      <td>1.736012e-44</td>\n",
       "    </tr>\n",
       "    <tr>\n",
       "      <th>Spirochaetes_Bacteroidetes</th>\n",
       "      <td>17589.5</td>\n",
       "      <td>7.713281e-33</td>\n",
       "      <td>1.349824e-32</td>\n",
       "    </tr>\n",
       "    <tr>\n",
       "      <th>Spirochaetes_Actinobacteria</th>\n",
       "      <td>12235.0</td>\n",
       "      <td>3.132825e-35</td>\n",
       "      <td>5.847940e-35</td>\n",
       "    </tr>\n",
       "    <tr>\n",
       "      <th>Spirochaetes_Proteobacteria</th>\n",
       "      <td>23225.0</td>\n",
       "      <td>2.090815e-47</td>\n",
       "      <td>5.322073e-47</td>\n",
       "    </tr>\n",
       "    <tr>\n",
       "      <th>Spirochaetes_Firmicutes</th>\n",
       "      <td>6298.0</td>\n",
       "      <td>1.464216e-50</td>\n",
       "      <td>5.124757e-50</td>\n",
       "    </tr>\n",
       "    <tr>\n",
       "      <th>Spirochaetes_Euryarchaeota</th>\n",
       "      <td>1333.0</td>\n",
       "      <td>1.323985e-29</td>\n",
       "      <td>1.951135e-29</td>\n",
       "    </tr>\n",
       "    <tr>\n",
       "      <th>Spirochaetes_Cyanobacteria</th>\n",
       "      <td>51.0</td>\n",
       "      <td>1.316984e-35</td>\n",
       "      <td>2.633969e-35</td>\n",
       "    </tr>\n",
       "    <tr>\n",
       "      <th>Bacteroidetes_Actinobacteria</th>\n",
       "      <td>340779.0</td>\n",
       "      <td>1.289070e-02</td>\n",
       "      <td>1.336813e-02</td>\n",
       "    </tr>\n",
       "    <tr>\n",
       "      <th>Bacteroidetes_Proteobacteria</th>\n",
       "      <td>741085.5</td>\n",
       "      <td>1.657756e-28</td>\n",
       "      <td>2.320859e-28</td>\n",
       "    </tr>\n",
       "    <tr>\n",
       "      <th>Bacteroidetes_Firmicutes</th>\n",
       "      <td>231321.5</td>\n",
       "      <td>6.824650e-48</td>\n",
       "      <td>1.910902e-47</td>\n",
       "    </tr>\n",
       "    <tr>\n",
       "      <th>Bacteroidetes_Euryarchaeota</th>\n",
       "      <td>37087.5</td>\n",
       "      <td>2.986161e-16</td>\n",
       "      <td>3.981547e-16</td>\n",
       "    </tr>\n",
       "    <tr>\n",
       "      <th>Bacteroidetes_Cyanobacteria</th>\n",
       "      <td>2066.0</td>\n",
       "      <td>1.040900e-54</td>\n",
       "      <td>5.829042e-54</td>\n",
       "    </tr>\n",
       "    <tr>\n",
       "      <th>Actinobacteria_Proteobacteria</th>\n",
       "      <td>626973.5</td>\n",
       "      <td>7.434168e-15</td>\n",
       "      <td>9.461668e-15</td>\n",
       "    </tr>\n",
       "    <tr>\n",
       "      <th>Actinobacteria_Firmicutes</th>\n",
       "      <td>198319.0</td>\n",
       "      <td>3.651593e-32</td>\n",
       "      <td>6.014389e-32</td>\n",
       "    </tr>\n",
       "    <tr>\n",
       "      <th>Actinobacteria_Euryarchaeota</th>\n",
       "      <td>31379.5</td>\n",
       "      <td>5.459287e-13</td>\n",
       "      <td>6.369168e-13</td>\n",
       "    </tr>\n",
       "    <tr>\n",
       "      <th>Actinobacteria_Cyanobacteria</th>\n",
       "      <td>2034.0</td>\n",
       "      <td>3.389856e-52</td>\n",
       "      <td>1.355942e-51</td>\n",
       "    </tr>\n",
       "    <tr>\n",
       "      <th>Proteobacteria_Firmicutes</th>\n",
       "      <td>687059.0</td>\n",
       "      <td>7.574858e-12</td>\n",
       "      <td>8.483841e-12</td>\n",
       "    </tr>\n",
       "    <tr>\n",
       "      <th>Proteobacteria_Euryarchaeota</th>\n",
       "      <td>105942.5</td>\n",
       "      <td>2.644632e-06</td>\n",
       "      <td>2.848066e-06</td>\n",
       "    </tr>\n",
       "    <tr>\n",
       "      <th>Proteobacteria_Cyanobacteria</th>\n",
       "      <td>7550.5</td>\n",
       "      <td>8.463602e-54</td>\n",
       "      <td>3.949681e-53</td>\n",
       "    </tr>\n",
       "    <tr>\n",
       "      <th>Firmicutes_Euryarchaeota</th>\n",
       "      <td>48497.0</td>\n",
       "      <td>2.762679e-02</td>\n",
       "      <td>2.762679e-02</td>\n",
       "    </tr>\n",
       "    <tr>\n",
       "      <th>Firmicutes_Cyanobacteria</th>\n",
       "      <td>3648.0</td>\n",
       "      <td>1.628084e-48</td>\n",
       "      <td>5.065151e-48</td>\n",
       "    </tr>\n",
       "    <tr>\n",
       "      <th>Euryarchaeota_Cyanobacteria</th>\n",
       "      <td>801.5</td>\n",
       "      <td>2.213372e-30</td>\n",
       "      <td>3.443023e-30</td>\n",
       "    </tr>\n",
       "  </tbody>\n",
       "</table>\n",
       "</div>"
      ],
      "text/plain": [
       "                               MW_statistic        pvalue  pvalue_corrected\n",
       "pair                                                                       \n",
       "Tenericutes_Spirochaetes             4914.0  9.528264e-14      1.159963e-13\n",
       "Tenericutes_Bacteroidetes            5243.5  2.715803e-86      2.534750e-85\n",
       "Tenericutes_Actinobacteria           3810.5  9.839135e-84      6.887395e-83\n",
       "Tenericutes_Proteobacteria           6782.5  1.569223e-98      4.393824e-97\n",
       "Tenericutes_Firmicutes               1525.5  4.369576e-91      6.117406e-90\n",
       "Tenericutes_Euryarchaeota             786.5  1.080533e-46      2.521243e-46\n",
       "Tenericutes_Cyanobacteria               4.5  8.060054e-45      1.736012e-44\n",
       "Spirochaetes_Bacteroidetes          17589.5  7.713281e-33      1.349824e-32\n",
       "Spirochaetes_Actinobacteria         12235.0  3.132825e-35      5.847940e-35\n",
       "Spirochaetes_Proteobacteria         23225.0  2.090815e-47      5.322073e-47\n",
       "Spirochaetes_Firmicutes              6298.0  1.464216e-50      5.124757e-50\n",
       "Spirochaetes_Euryarchaeota           1333.0  1.323985e-29      1.951135e-29\n",
       "Spirochaetes_Cyanobacteria             51.0  1.316984e-35      2.633969e-35\n",
       "Bacteroidetes_Actinobacteria       340779.0  1.289070e-02      1.336813e-02\n",
       "Bacteroidetes_Proteobacteria       741085.5  1.657756e-28      2.320859e-28\n",
       "Bacteroidetes_Firmicutes           231321.5  6.824650e-48      1.910902e-47\n",
       "Bacteroidetes_Euryarchaeota         37087.5  2.986161e-16      3.981547e-16\n",
       "Bacteroidetes_Cyanobacteria          2066.0  1.040900e-54      5.829042e-54\n",
       "Actinobacteria_Proteobacteria      626973.5  7.434168e-15      9.461668e-15\n",
       "Actinobacteria_Firmicutes          198319.0  3.651593e-32      6.014389e-32\n",
       "Actinobacteria_Euryarchaeota        31379.5  5.459287e-13      6.369168e-13\n",
       "Actinobacteria_Cyanobacteria         2034.0  3.389856e-52      1.355942e-51\n",
       "Proteobacteria_Firmicutes          687059.0  7.574858e-12      8.483841e-12\n",
       "Proteobacteria_Euryarchaeota       105942.5  2.644632e-06      2.848066e-06\n",
       "Proteobacteria_Cyanobacteria         7550.5  8.463602e-54      3.949681e-53\n",
       "Firmicutes_Euryarchaeota            48497.0  2.762679e-02      2.762679e-02\n",
       "Firmicutes_Cyanobacteria             3648.0  1.628084e-48      5.065151e-48\n",
       "Euryarchaeota_Cyanobacteria           801.5  2.213372e-30      3.443023e-30"
      ]
     },
     "execution_count": 56,
     "metadata": {},
     "output_type": "execute_result"
    }
   ],
   "source": [
    "dfr_mw"
   ]
  },
  {
   "cell_type": "code",
   "execution_count": 57,
   "metadata": {},
   "outputs": [
    {
     "data": {
      "text/html": [
       "<div>\n",
       "<style scoped>\n",
       "    .dataframe tbody tr th:only-of-type {\n",
       "        vertical-align: middle;\n",
       "    }\n",
       "\n",
       "    .dataframe tbody tr th {\n",
       "        vertical-align: top;\n",
       "    }\n",
       "\n",
       "    .dataframe thead th {\n",
       "        text-align: right;\n",
       "    }\n",
       "</style>\n",
       "<table border=\"1\" class=\"dataframe\">\n",
       "  <thead>\n",
       "    <tr style=\"text-align: right;\">\n",
       "      <th></th>\n",
       "      <th>MW_statistic</th>\n",
       "      <th>pvalue</th>\n",
       "      <th>pvalue_corrected</th>\n",
       "    </tr>\n",
       "    <tr>\n",
       "      <th>pair</th>\n",
       "      <th></th>\n",
       "      <th></th>\n",
       "      <th></th>\n",
       "    </tr>\n",
       "  </thead>\n",
       "  <tbody>\n",
       "  </tbody>\n",
       "</table>\n",
       "</div>"
      ],
      "text/plain": [
       "Empty DataFrame\n",
       "Columns: [MW_statistic, pvalue, pvalue_corrected]\n",
       "Index: []"
      ]
     },
     "execution_count": 57,
     "metadata": {},
     "output_type": "execute_result"
    }
   ],
   "source": [
    "dfr_mw[dfr_mw['pvalue_corrected'] > 0.05]"
   ]
  },
  {
   "cell_type": "code",
   "execution_count": null,
   "metadata": {},
   "outputs": [],
   "source": []
  },
  {
   "cell_type": "code",
   "execution_count": null,
   "metadata": {},
   "outputs": [],
   "source": []
  }
 ],
 "metadata": {
  "kernelspec": {
   "display_name": "Python 3 (ipykernel)",
   "language": "python",
   "name": "python3"
  },
  "language_info": {
   "codemirror_mode": {
    "name": "ipython",
    "version": 3
   },
   "file_extension": ".py",
   "mimetype": "text/x-python",
   "name": "python",
   "nbconvert_exporter": "python",
   "pygments_lexer": "ipython3",
   "version": "3.9.18"
  }
 },
 "nbformat": 4,
 "nbformat_minor": 4
}
