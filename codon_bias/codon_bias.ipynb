{
 "cells": [
  {
   "cell_type": "markdown",
   "metadata": {},
   "source": [
    "# Codon Bias"
   ]
  },
  {
   "cell_type": "code",
   "execution_count": 1,
   "metadata": {},
   "outputs": [],
   "source": [
    "library(coRdon)"
   ]
  },
  {
   "cell_type": "markdown",
   "metadata": {},
   "source": [
    "### Load data"
   ]
  },
  {
   "cell_type": "code",
   "execution_count": 2,
   "metadata": {},
   "outputs": [
    {
     "data": {
      "text/html": [
       "<table class=\"dataframe\">\n",
       "<caption>A data.frame: 5 × 1</caption>\n",
       "<thead>\n",
       "\t<tr><th></th><th scope=col>genomes</th></tr>\n",
       "\t<tr><th></th><th scope=col>&lt;chr&gt;</th></tr>\n",
       "</thead>\n",
       "<tbody>\n",
       "\t<tr><th scope=row>1</th><td>G000005825</td></tr>\n",
       "\t<tr><th scope=row>2</th><td>G000006175</td></tr>\n",
       "\t<tr><th scope=row>3</th><td>G000006605</td></tr>\n",
       "\t<tr><th scope=row>4</th><td>G000006725</td></tr>\n",
       "\t<tr><th scope=row>5</th><td>G000006745</td></tr>\n",
       "</tbody>\n",
       "</table>\n"
      ],
      "text/latex": [
       "A data.frame: 5 × 1\n",
       "\\begin{tabular}{r|l}\n",
       "  & genomes\\\\\n",
       "  & <chr>\\\\\n",
       "\\hline\n",
       "\t1 & G000005825\\\\\n",
       "\t2 & G000006175\\\\\n",
       "\t3 & G000006605\\\\\n",
       "\t4 & G000006725\\\\\n",
       "\t5 & G000006745\\\\\n",
       "\\end{tabular}\n"
      ],
      "text/markdown": [
       "\n",
       "A data.frame: 5 × 1\n",
       "\n",
       "| <!--/--> | genomes &lt;chr&gt; |\n",
       "|---|---|\n",
       "| 1 | G000005825 |\n",
       "| 2 | G000006175 |\n",
       "| 3 | G000006605 |\n",
       "| 4 | G000006725 |\n",
       "| 5 | G000006745 |\n",
       "\n"
      ],
      "text/plain": [
       "  genomes   \n",
       "1 G000005825\n",
       "2 G000006175\n",
       "3 G000006605\n",
       "4 G000006725\n",
       "5 G000006745"
      ]
     },
     "metadata": {},
     "output_type": "display_data"
    }
   ],
   "source": [
    "genomes <- read.table(\"codBias/list.txt\", header = FALSE, quote=\"\", col.names = 'genomes')\n",
    "head(genomes, 5)"
   ]
  },
  {
   "cell_type": "code",
   "execution_count": 3,
   "metadata": {},
   "outputs": [
    {
     "data": {
      "text/html": [
       "<style>\n",
       ".list-inline {list-style: none; margin:0; padding: 0}\n",
       ".list-inline>li {display: inline-block}\n",
       ".list-inline>li:not(:last-child)::after {content: \"\\00b7\"; padding: 0 .5ex}\n",
       "</style>\n",
       "<ol class=list-inline><li>10575</li><li>1</li></ol>\n"
      ],
      "text/latex": [
       "\\begin{enumerate*}\n",
       "\\item 10575\n",
       "\\item 1\n",
       "\\end{enumerate*}\n"
      ],
      "text/markdown": [
       "1. 10575\n",
       "2. 1\n",
       "\n",
       "\n"
      ],
      "text/plain": [
       "[1] 10575     1"
      ]
     },
     "metadata": {},
     "output_type": "display_data"
    }
   ],
   "source": [
    "dim(genomes)"
   ]
  },
  {
   "cell_type": "markdown",
   "metadata": {},
   "source": [
    "### Demo"
   ]
  },
  {
   "cell_type": "code",
   "execution_count": 4,
   "metadata": {},
   "outputs": [
    {
     "data": {
      "text/html": [
       "'G000005825'"
      ],
      "text/latex": [
       "'G000005825'"
      ],
      "text/markdown": [
       "'G000005825'"
      ],
      "text/plain": [
       "[1] \"G000005825\""
      ]
     },
     "metadata": {},
     "output_type": "display_data"
    }
   ],
   "source": [
    "genomes[1, 'genomes']"
   ]
  },
  {
   "cell_type": "markdown",
   "metadata": {},
   "source": [
    "Load cds and hegs (concatenated)"
   ]
  },
  {
   "cell_type": "code",
   "execution_count": 5,
   "metadata": {},
   "outputs": [],
   "source": [
    "seqs <- readSet(file = paste('codBias/concatenated/', genomes[1, 'genomes'], '.fa', sep = ''))"
   ]
  },
  {
   "cell_type": "markdown",
   "metadata": {},
   "source": [
    "Convert to codon table"
   ]
  },
  {
   "cell_type": "code",
   "execution_count": 6,
   "metadata": {},
   "outputs": [],
   "source": [
    "ct <- codonTable(seqs)"
   ]
  },
  {
   "cell_type": "markdown",
   "metadata": {},
   "source": [
    "Calculate [ENCprime](https://academic.oup.com/mbe/article/19/8/1390/997706?login=true) (codon bias measure) for all the cds and hegs."
   ]
  },
  {
   "cell_type": "code",
   "execution_count": 7,
   "metadata": {},
   "outputs": [],
   "source": [
    "cub <- ENCprime(ct, filtering = 'hard', id_or_name2 = '11')"
   ]
  },
  {
   "cell_type": "markdown",
   "metadata": {},
   "source": [
    "Calculate $\\Delta$ENCprime as described by [Vieira-SIlva (2010)](https://journals.plos.org/plosgenetics/article?id=10.1371/journal.pgen.1000808)."
   ]
  },
  {
   "cell_type": "code",
   "execution_count": 8,
   "metadata": {},
   "outputs": [
    {
     "data": {
      "text/html": [
       "0.29417154771518"
      ],
      "text/latex": [
       "0.29417154771518"
      ],
      "text/markdown": [
       "0.29417154771518"
      ],
      "text/plain": [
       "[1] 0.2941715"
      ]
     },
     "metadata": {},
     "output_type": "display_data"
    },
    {
     "name": "stdout",
     "output_type": "stream",
     "text": [
      "Time difference of 0.008624792 secs\n"
     ]
    }
   ],
   "source": [
    "startTime <- Sys.time()\n",
    "delta <- 1 - (cub[2]/ cub[1])\n",
    "delta\n",
    "endTime <- Sys.time()\n",
    "print(endTime - startTime)"
   ]
  },
  {
   "cell_type": "code",
   "execution_count": 9,
   "metadata": {},
   "outputs": [],
   "source": [
    "delta_cub <- function(g){\n",
    "    # Load concatenated cds and hegs\n",
    "    seqs <- readSet(file = paste('codBias/concatenated/', g, '.fa', sep = ''))\n",
    "    \n",
    "    # Convert to codon tables\n",
    "    ct <- codonTable(seqs)\n",
    "    \n",
    "    # MILC\n",
    "    cub_milc <- MILC(ct, filtering = 'hard', id_or_name2 = '11')\n",
    "    # ENCprime\n",
    "    cub_encp <- ENCprime(ct, filtering = 'hard', id_or_name2 = '11')\n",
    "    \n",
    "    # Calculate delta\n",
    "    delta_milc <- 1 - (cub_milc[2]/ cub_milc[1])\n",
    "    delta_encp <- 1 - (cub_encp[2]/ cub_encp[1])\n",
    "    \n",
    "    return(c(delta_milc, delta_encp))\n",
    "}"
   ]
  },
  {
   "cell_type": "code",
   "execution_count": 11,
   "metadata": {},
   "outputs": [
    {
     "name": "stdout",
     "output_type": "stream",
     "text": [
      "Time difference of 58.41703 mins\n"
     ]
    }
   ],
   "source": [
    "startTime <- Sys.time()\n",
    "deltas <- sapply(genomes$genomes, delta_cub)\n",
    "endTime <- Sys.time()\n",
    "print(endTime - startTime)"
   ]
  },
  {
   "cell_type": "markdown",
   "metadata": {},
   "source": [
    "Reformat output"
   ]
  },
  {
   "cell_type": "code",
   "execution_count": 12,
   "metadata": {},
   "outputs": [
    {
     "data": {
      "text/html": [
       "<style>\n",
       ".list-inline {list-style: none; margin:0; padding: 0}\n",
       ".list-inline>li {display: inline-block}\n",
       ".list-inline>li:not(:last-child)::after {content: \"\\00b7\"; padding: 0 .5ex}\n",
       "</style>\n",
       "<ol class=list-inline><li>10575</li><li>2</li></ol>\n"
      ],
      "text/latex": [
       "\\begin{enumerate*}\n",
       "\\item 10575\n",
       "\\item 2\n",
       "\\end{enumerate*}\n"
      ],
      "text/markdown": [
       "1. 10575\n",
       "2. 2\n",
       "\n",
       "\n"
      ],
      "text/plain": [
       "[1] 10575     2"
      ]
     },
     "metadata": {},
     "output_type": "display_data"
    }
   ],
   "source": [
    "deltas <- matrix(deltas, nrow = length(genomes$genomes), byrow = TRUE)\n",
    "dim(deltas)"
   ]
  },
  {
   "cell_type": "markdown",
   "metadata": {},
   "source": [
    "Write table"
   ]
  },
  {
   "cell_type": "code",
   "execution_count": 13,
   "metadata": {},
   "outputs": [],
   "source": [
    "write.table(data.frame(x = genomes$genomes, y = deltas), \"cbias_corrected.tsv\", sep= \"\\t\", col.names = FALSE, \n",
    "            row.names = FALSE, quote = FALSE)"
   ]
  },
  {
   "cell_type": "code",
   "execution_count": null,
   "metadata": {},
   "outputs": [],
   "source": []
  },
  {
   "cell_type": "code",
   "execution_count": null,
   "metadata": {},
   "outputs": [],
   "source": []
  }
 ],
 "metadata": {
  "kernelspec": {
   "display_name": "R",
   "language": "R",
   "name": "ir"
  },
  "language_info": {
   "codemirror_mode": "r",
   "file_extension": ".r",
   "mimetype": "text/x-r-source",
   "name": "R",
   "pygments_lexer": "r",
   "version": "4.1.2"
  }
 },
 "nbformat": 4,
 "nbformat_minor": 4
}
