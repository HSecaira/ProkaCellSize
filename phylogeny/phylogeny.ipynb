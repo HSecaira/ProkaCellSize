{
 "cells": [
  {
   "cell_type": "markdown",
   "metadata": {},
   "source": [
    "# Match cell size data with phylogeny"
   ]
  },
  {
   "cell_type": "markdown",
   "metadata": {},
   "source": [
    "### Preparation"
   ]
  },
  {
   "cell_type": "code",
   "execution_count": 1,
   "metadata": {},
   "outputs": [],
   "source": [
    "import numpy as np\n",
    "import pandas as pd"
   ]
  },
  {
   "cell_type": "code",
   "execution_count": 2,
   "metadata": {},
   "outputs": [],
   "source": [
    "from skbio import TreeNode"
   ]
  },
  {
   "cell_type": "code",
   "execution_count": 3,
   "metadata": {},
   "outputs": [],
   "source": [
    "#!mkdir -p place"
   ]
  },
  {
   "cell_type": "markdown",
   "metadata": {},
   "source": [
    "### Cell size data"
   ]
  },
  {
   "cell_type": "code",
   "execution_count": 4,
   "metadata": {},
   "outputs": [
    {
     "data": {
      "text/html": [
       "<div>\n",
       "<style scoped>\n",
       "    .dataframe tbody tr th:only-of-type {\n",
       "        vertical-align: middle;\n",
       "    }\n",
       "\n",
       "    .dataframe tbody tr th {\n",
       "        vertical-align: top;\n",
       "    }\n",
       "\n",
       "    .dataframe thead th {\n",
       "        text-align: right;\n",
       "    }\n",
       "</style>\n",
       "<table border=\"1\" class=\"dataframe\">\n",
       "  <thead>\n",
       "    <tr style=\"text-align: right;\">\n",
       "      <th></th>\n",
       "      <th>length</th>\n",
       "      <th>width</th>\n",
       "      <th>volume</th>\n",
       "      <th>surface</th>\n",
       "      <th>shape</th>\n",
       "      <th>species</th>\n",
       "      <th>genus</th>\n",
       "      <th>family</th>\n",
       "      <th>order</th>\n",
       "      <th>class</th>\n",
       "      <th>phylum</th>\n",
       "      <th>superkingdom</th>\n",
       "    </tr>\n",
       "    <tr>\n",
       "      <th>taxid</th>\n",
       "      <th></th>\n",
       "      <th></th>\n",
       "      <th></th>\n",
       "      <th></th>\n",
       "      <th></th>\n",
       "      <th></th>\n",
       "      <th></th>\n",
       "      <th></th>\n",
       "      <th></th>\n",
       "      <th></th>\n",
       "      <th></th>\n",
       "      <th></th>\n",
       "    </tr>\n",
       "  </thead>\n",
       "  <tbody>\n",
       "    <tr>\n",
       "      <th>11</th>\n",
       "      <td>2.371708</td>\n",
       "      <td>1.060660</td>\n",
       "      <td>1.783187</td>\n",
       "      <td>7.902917</td>\n",
       "      <td>rod-shaped</td>\n",
       "      <td>Cellulomonas gilvus</td>\n",
       "      <td>Cellulomonas</td>\n",
       "      <td>Cellulomonadaceae</td>\n",
       "      <td>Micrococcales</td>\n",
       "      <td>Actinomycetia</td>\n",
       "      <td>Actinobacteria</td>\n",
       "      <td>Bacteria</td>\n",
       "    </tr>\n",
       "    <tr>\n",
       "      <th>14</th>\n",
       "      <td>10.000000</td>\n",
       "      <td>0.489898</td>\n",
       "      <td>1.854174</td>\n",
       "      <td>15.390598</td>\n",
       "      <td>rod-shaped</td>\n",
       "      <td>Dictyoglomus thermophilum</td>\n",
       "      <td>Dictyoglomus</td>\n",
       "      <td>Dictyoglomaceae</td>\n",
       "      <td>Dictyoglomales</td>\n",
       "      <td>Dictyoglomia</td>\n",
       "      <td>Dictyoglomi</td>\n",
       "      <td>Bacteria</td>\n",
       "    </tr>\n",
       "    <tr>\n",
       "      <th>23</th>\n",
       "      <td>1.500000</td>\n",
       "      <td>0.700000</td>\n",
       "      <td>0.487470</td>\n",
       "      <td>3.298672</td>\n",
       "      <td>rod-shaped</td>\n",
       "      <td>Shewanella colwelliana</td>\n",
       "      <td>Shewanella</td>\n",
       "      <td>Shewanellaceae</td>\n",
       "      <td>Alteromonadales</td>\n",
       "      <td>Gammaproteobacteria</td>\n",
       "      <td>Proteobacteria</td>\n",
       "      <td>Bacteria</td>\n",
       "    </tr>\n",
       "    <tr>\n",
       "      <th>104</th>\n",
       "      <td>1.039230</td>\n",
       "      <td>0.346410</td>\n",
       "      <td>0.087062</td>\n",
       "      <td>1.130973</td>\n",
       "      <td>ring-shaped</td>\n",
       "      <td>Cyclobacterium marinum</td>\n",
       "      <td>Cyclobacterium</td>\n",
       "      <td>Cyclobacteriaceae</td>\n",
       "      <td>Cytophagales</td>\n",
       "      <td>Cytophagia</td>\n",
       "      <td>Bacteroidetes</td>\n",
       "      <td>Bacteria</td>\n",
       "    </tr>\n",
       "    <tr>\n",
       "      <th>148</th>\n",
       "      <td>67.082039</td>\n",
       "      <td>0.244949</td>\n",
       "      <td>3.157319</td>\n",
       "      <td>51.621635</td>\n",
       "      <td>NaN</td>\n",
       "      <td>Sediminispirochaeta bajacaliforniensis</td>\n",
       "      <td>Sediminispirochaeta</td>\n",
       "      <td>Spirochaetaceae</td>\n",
       "      <td>Spirochaetales</td>\n",
       "      <td>Spirochaetia</td>\n",
       "      <td>Spirochaetes</td>\n",
       "      <td>Bacteria</td>\n",
       "    </tr>\n",
       "  </tbody>\n",
       "</table>\n",
       "</div>"
      ],
      "text/plain": [
       "          length     width    volume    surface        shape  \\\n",
       "taxid                                                          \n",
       "11      2.371708  1.060660  1.783187   7.902917   rod-shaped   \n",
       "14     10.000000  0.489898  1.854174  15.390598   rod-shaped   \n",
       "23      1.500000  0.700000  0.487470   3.298672   rod-shaped   \n",
       "104     1.039230  0.346410  0.087062   1.130973  ring-shaped   \n",
       "148    67.082039  0.244949  3.157319  51.621635          NaN   \n",
       "\n",
       "                                      species                genus  \\\n",
       "taxid                                                                \n",
       "11                        Cellulomonas gilvus         Cellulomonas   \n",
       "14                  Dictyoglomus thermophilum         Dictyoglomus   \n",
       "23                     Shewanella colwelliana           Shewanella   \n",
       "104                    Cyclobacterium marinum       Cyclobacterium   \n",
       "148    Sediminispirochaeta bajacaliforniensis  Sediminispirochaeta   \n",
       "\n",
       "                  family            order                class  \\\n",
       "taxid                                                            \n",
       "11     Cellulomonadaceae    Micrococcales        Actinomycetia   \n",
       "14       Dictyoglomaceae   Dictyoglomales         Dictyoglomia   \n",
       "23        Shewanellaceae  Alteromonadales  Gammaproteobacteria   \n",
       "104    Cyclobacteriaceae     Cytophagales           Cytophagia   \n",
       "148      Spirochaetaceae   Spirochaetales         Spirochaetia   \n",
       "\n",
       "               phylum superkingdom  \n",
       "taxid                               \n",
       "11     Actinobacteria     Bacteria  \n",
       "14        Dictyoglomi     Bacteria  \n",
       "23     Proteobacteria     Bacteria  \n",
       "104     Bacteroidetes     Bacteria  \n",
       "148      Spirochaetes     Bacteria  "
      ]
     },
     "execution_count": 4,
     "metadata": {},
     "output_type": "execute_result"
    }
   ],
   "source": [
    "df = pd.read_table('../preprocess/annot/species.tsv', index_col=0)\n",
    "df.head()"
   ]
  },
  {
   "cell_type": "code",
   "execution_count": 5,
   "metadata": {},
   "outputs": [
    {
     "data": {
      "text/plain": [
       "4875"
      ]
     },
     "execution_count": 5,
     "metadata": {},
     "output_type": "execute_result"
    }
   ],
   "source": [
    "df.shape[0]"
   ]
  },
  {
   "cell_type": "code",
   "execution_count": 6,
   "metadata": {},
   "outputs": [],
   "source": [
    "df.index = 'txid' + df.index.astype(str)"
   ]
  },
  {
   "cell_type": "markdown",
   "metadata": {},
   "source": [
    "### Reference taxa"
   ]
  },
  {
   "cell_type": "markdown",
   "metadata": {},
   "source": [
    "Taxonomy (tax2tree-curated)"
   ]
  },
  {
   "cell_type": "code",
   "execution_count": 7,
   "metadata": {},
   "outputs": [
    {
     "data": {
      "text/html": [
       "<div>\n",
       "<style scoped>\n",
       "    .dataframe tbody tr th:only-of-type {\n",
       "        vertical-align: middle;\n",
       "    }\n",
       "\n",
       "    .dataframe tbody tr th {\n",
       "        vertical-align: top;\n",
       "    }\n",
       "\n",
       "    .dataframe thead th {\n",
       "        text-align: right;\n",
       "    }\n",
       "</style>\n",
       "<table border=\"1\" class=\"dataframe\">\n",
       "  <thead>\n",
       "    <tr style=\"text-align: right;\">\n",
       "      <th></th>\n",
       "      <th>kingdom</th>\n",
       "      <th>phylum</th>\n",
       "      <th>class</th>\n",
       "      <th>order</th>\n",
       "      <th>family</th>\n",
       "      <th>genus</th>\n",
       "      <th>species</th>\n",
       "    </tr>\n",
       "  </thead>\n",
       "  <tbody>\n",
       "    <tr>\n",
       "      <th>G000005825</th>\n",
       "      <td>Bacteria</td>\n",
       "      <td>Firmicutes_1</td>\n",
       "      <td>Bacilli_1</td>\n",
       "      <td>Bacillales_1</td>\n",
       "      <td>Bacillaceae_3</td>\n",
       "      <td>Alkalihalobacillus</td>\n",
       "      <td>Alkalihalobacillus pseudofirmus</td>\n",
       "    </tr>\n",
       "    <tr>\n",
       "      <th>G000006175</th>\n",
       "      <td>Archaea</td>\n",
       "      <td>Euryarchaeota_2</td>\n",
       "      <td>Methanococci</td>\n",
       "      <td>Methanococcales</td>\n",
       "      <td>Methanococcaceae</td>\n",
       "      <td>Methanococcus</td>\n",
       "      <td>Methanococcus voltae</td>\n",
       "    </tr>\n",
       "    <tr>\n",
       "      <th>G000006605</th>\n",
       "      <td>Bacteria</td>\n",
       "      <td>Actinobacteria</td>\n",
       "      <td>Actinomycetia</td>\n",
       "      <td>Corynebacteriales</td>\n",
       "      <td>Corynebacteriaceae</td>\n",
       "      <td>Corynebacterium</td>\n",
       "      <td>Corynebacterium falsenii</td>\n",
       "    </tr>\n",
       "    <tr>\n",
       "      <th>G000006725</th>\n",
       "      <td>Bacteria</td>\n",
       "      <td>Proteobacteria_1</td>\n",
       "      <td>Gammaproteobacteria</td>\n",
       "      <td>Xanthomonadales</td>\n",
       "      <td>Xanthomonadaceae</td>\n",
       "      <td>Xylella</td>\n",
       "      <td>Xylella fastidiosa</td>\n",
       "    </tr>\n",
       "    <tr>\n",
       "      <th>G000006745</th>\n",
       "      <td>Bacteria</td>\n",
       "      <td>Proteobacteria_1</td>\n",
       "      <td>Gammaproteobacteria</td>\n",
       "      <td>Vibrionales</td>\n",
       "      <td>Vibrionaceae</td>\n",
       "      <td>NaN</td>\n",
       "      <td>Vibrio cholerae</td>\n",
       "    </tr>\n",
       "  </tbody>\n",
       "</table>\n",
       "</div>"
      ],
      "text/plain": [
       "             kingdom            phylum                class  \\\n",
       "G000005825  Bacteria      Firmicutes_1            Bacilli_1   \n",
       "G000006175   Archaea   Euryarchaeota_2         Methanococci   \n",
       "G000006605  Bacteria    Actinobacteria        Actinomycetia   \n",
       "G000006725  Bacteria  Proteobacteria_1  Gammaproteobacteria   \n",
       "G000006745  Bacteria  Proteobacteria_1  Gammaproteobacteria   \n",
       "\n",
       "                        order              family               genus  \\\n",
       "G000005825       Bacillales_1       Bacillaceae_3  Alkalihalobacillus   \n",
       "G000006175    Methanococcales    Methanococcaceae       Methanococcus   \n",
       "G000006605  Corynebacteriales  Corynebacteriaceae     Corynebacterium   \n",
       "G000006725    Xanthomonadales    Xanthomonadaceae             Xylella   \n",
       "G000006745        Vibrionales        Vibrionaceae                 NaN   \n",
       "\n",
       "                                    species  \n",
       "G000005825  Alkalihalobacillus pseudofirmus  \n",
       "G000006175             Methanococcus voltae  \n",
       "G000006605         Corynebacterium falsenii  \n",
       "G000006725               Xylella fastidiosa  \n",
       "G000006745                  Vibrio cholerae  "
      ]
     },
     "execution_count": 7,
     "metadata": {},
     "output_type": "execute_result"
    }
   ],
   "source": [
    "dft = pd.read_table('tax2tree/filled_ranks.tsv', index_col=0)\n",
    "dft.head()"
   ]
  },
  {
   "cell_type": "code",
   "execution_count": 8,
   "metadata": {},
   "outputs": [
    {
     "data": {
      "text/plain": [
       "10575"
      ]
     },
     "execution_count": 8,
     "metadata": {},
     "output_type": "execute_result"
    }
   ],
   "source": [
    "dft.shape[0]"
   ]
  },
  {
   "cell_type": "markdown",
   "metadata": {},
   "source": [
    "Genome metadata"
   ]
  },
  {
   "cell_type": "code",
   "execution_count": 9,
   "metadata": {},
   "outputs": [
    {
     "data": {
      "text/html": [
       "<div>\n",
       "<style scoped>\n",
       "    .dataframe tbody tr th:only-of-type {\n",
       "        vertical-align: middle;\n",
       "    }\n",
       "\n",
       "    .dataframe tbody tr th {\n",
       "        vertical-align: top;\n",
       "    }\n",
       "\n",
       "    .dataframe thead th {\n",
       "        text-align: right;\n",
       "    }\n",
       "</style>\n",
       "<table border=\"1\" class=\"dataframe\">\n",
       "  <thead>\n",
       "    <tr style=\"text-align: right;\">\n",
       "      <th></th>\n",
       "      <th>scope</th>\n",
       "      <th>assembly_level</th>\n",
       "      <th>total_length</th>\n",
       "      <th>gc</th>\n",
       "      <th>proteins</th>\n",
       "      <th>protein_length</th>\n",
       "      <th>coding_density</th>\n",
       "      <th>completeness</th>\n",
       "      <th>contamination</th>\n",
       "      <th>strain_heterogeneity</th>\n",
       "      <th>16s_copies</th>\n",
       "    </tr>\n",
       "    <tr>\n",
       "      <th>#genome</th>\n",
       "      <th></th>\n",
       "      <th></th>\n",
       "      <th></th>\n",
       "      <th></th>\n",
       "      <th></th>\n",
       "      <th></th>\n",
       "      <th></th>\n",
       "      <th></th>\n",
       "      <th></th>\n",
       "      <th></th>\n",
       "      <th></th>\n",
       "    </tr>\n",
       "  </thead>\n",
       "  <tbody>\n",
       "    <tr>\n",
       "      <th>G000005825</th>\n",
       "      <td>Monoisolate</td>\n",
       "      <td>Complete Genome</td>\n",
       "      <td>4249248</td>\n",
       "      <td>39.86</td>\n",
       "      <td>4260</td>\n",
       "      <td>1228222</td>\n",
       "      <td>85.144124</td>\n",
       "      <td>98.68</td>\n",
       "      <td>1.32</td>\n",
       "      <td>0.0</td>\n",
       "      <td>7</td>\n",
       "    </tr>\n",
       "    <tr>\n",
       "      <th>G000006175</th>\n",
       "      <td>Multispecies</td>\n",
       "      <td>Complete Genome</td>\n",
       "      <td>1936387</td>\n",
       "      <td>28.59</td>\n",
       "      <td>1727</td>\n",
       "      <td>526927</td>\n",
       "      <td>80.167033</td>\n",
       "      <td>99.05</td>\n",
       "      <td>0.00</td>\n",
       "      <td>0.0</td>\n",
       "      <td>2</td>\n",
       "    </tr>\n",
       "    <tr>\n",
       "      <th>G000006605</th>\n",
       "      <td>Monoisolate</td>\n",
       "      <td>Complete Genome</td>\n",
       "      <td>2476822</td>\n",
       "      <td>61.35</td>\n",
       "      <td>2137</td>\n",
       "      <td>751284</td>\n",
       "      <td>89.378688</td>\n",
       "      <td>100.00</td>\n",
       "      <td>0.68</td>\n",
       "      <td>0.0</td>\n",
       "      <td>3</td>\n",
       "    </tr>\n",
       "    <tr>\n",
       "      <th>G000006725</th>\n",
       "      <td>Monoisolate</td>\n",
       "      <td>Complete Genome</td>\n",
       "      <td>2731750</td>\n",
       "      <td>52.62</td>\n",
       "      <td>2664</td>\n",
       "      <td>765931</td>\n",
       "      <td>82.592990</td>\n",
       "      <td>99.59</td>\n",
       "      <td>0.18</td>\n",
       "      <td>0.0</td>\n",
       "      <td>2</td>\n",
       "    </tr>\n",
       "    <tr>\n",
       "      <th>G000006745</th>\n",
       "      <td>Monoisolate</td>\n",
       "      <td>Complete Genome</td>\n",
       "      <td>4033464</td>\n",
       "      <td>47.49</td>\n",
       "      <td>3594</td>\n",
       "      <td>1184587</td>\n",
       "      <td>86.533164</td>\n",
       "      <td>99.86</td>\n",
       "      <td>0.03</td>\n",
       "      <td>0.0</td>\n",
       "      <td>8</td>\n",
       "    </tr>\n",
       "  </tbody>\n",
       "</table>\n",
       "</div>"
      ],
      "text/plain": [
       "                   scope   assembly_level  total_length     gc  proteins  \\\n",
       "#genome                                                                    \n",
       "G000005825   Monoisolate  Complete Genome       4249248  39.86      4260   \n",
       "G000006175  Multispecies  Complete Genome       1936387  28.59      1727   \n",
       "G000006605   Monoisolate  Complete Genome       2476822  61.35      2137   \n",
       "G000006725   Monoisolate  Complete Genome       2731750  52.62      2664   \n",
       "G000006745   Monoisolate  Complete Genome       4033464  47.49      3594   \n",
       "\n",
       "            protein_length  coding_density  completeness  contamination  \\\n",
       "#genome                                                                   \n",
       "G000005825         1228222       85.144124         98.68           1.32   \n",
       "G000006175          526927       80.167033         99.05           0.00   \n",
       "G000006605          751284       89.378688        100.00           0.68   \n",
       "G000006725          765931       82.592990         99.59           0.18   \n",
       "G000006745         1184587       86.533164         99.86           0.03   \n",
       "\n",
       "            strain_heterogeneity  16s_copies  \n",
       "#genome                                       \n",
       "G000005825                   0.0           7  \n",
       "G000006175                   0.0           2  \n",
       "G000006605                   0.0           3  \n",
       "G000006725                   0.0           2  \n",
       "G000006745                   0.0           8  "
      ]
     },
     "execution_count": 9,
     "metadata": {},
     "output_type": "execute_result"
    }
   ],
   "source": [
    "dfg = pd.read_table('genome.tsv', index_col=0)\n",
    "dfg.head()"
   ]
  },
  {
   "cell_type": "markdown",
   "metadata": {},
   "source": [
    "Correct genome length by completeness / contamination."
   ]
  },
  {
   "cell_type": "code",
   "execution_count": 10,
   "metadata": {},
   "outputs": [],
   "source": [
    "# dfg['effective_length'] = dfg['total_length'] / (dfg['completeness'] - dfg['contamination']) * 100"
   ]
  },
  {
   "cell_type": "code",
   "execution_count": 11,
   "metadata": {},
   "outputs": [],
   "source": [
    "dfg = dfg[['total_length', 'gc', 'proteins', 'coding_density', '16s_copies']]"
   ]
  },
  {
   "cell_type": "code",
   "execution_count": 12,
   "metadata": {},
   "outputs": [],
   "source": [
    "dfg.columns = ['genome', 'gc', 'proteins', 'coding', 'rrnas']"
   ]
  },
  {
   "cell_type": "markdown",
   "metadata": {},
   "source": [
    "### Reference phylogeny"
   ]
  },
  {
   "cell_type": "code",
   "execution_count": 13,
   "metadata": {},
   "outputs": [],
   "source": [
    "tree = TreeNode.read('tree.nwk')"
   ]
  },
  {
   "cell_type": "code",
   "execution_count": 14,
   "metadata": {},
   "outputs": [
    {
     "data": {
      "text/plain": [
       "10575"
      ]
     },
     "execution_count": 14,
     "metadata": {},
     "output_type": "execute_result"
    }
   ],
   "source": [
    "tree.count(tips=True)"
   ]
  },
  {
   "cell_type": "markdown",
   "metadata": {},
   "source": [
    "Calculate median node depths"
   ]
  },
  {
   "cell_type": "code",
   "execution_count": 15,
   "metadata": {},
   "outputs": [],
   "source": [
    "for node in tree.postorder(include_self=True):\n",
    "    if node.length is None:\n",
    "        node.length = 0.0\n",
    "    if node.is_tip():\n",
    "        node.taxa = set([node.name])\n",
    "        node.depths = [0.0]\n",
    "        node.median = 0.0\n",
    "    else:\n",
    "        node.taxa = set().union(*[x.taxa for x in node.children])\n",
    "        node.depths = [y + x.length for x in node.children for y in x.depths]\n",
    "        node.median = np.median(node.depths)"
   ]
  },
  {
   "cell_type": "markdown",
   "metadata": {},
   "source": [
    "Calculate node properties"
   ]
  },
  {
   "cell_type": "code",
   "execution_count": 16,
   "metadata": {},
   "outputs": [],
   "source": [
    "keys = ['genome', 'gc', 'proteins', 'coding', 'rrnas']"
   ]
  },
  {
   "cell_type": "code",
   "execution_count": 17,
   "metadata": {},
   "outputs": [],
   "source": [
    "meta_ = []"
   ]
  },
  {
   "cell_type": "code",
   "execution_count": 18,
   "metadata": {},
   "outputs": [],
   "source": [
    "for node in tree.postorder(include_self=True):\n",
    "    meta_.append([node.name])\n",
    "    if node.is_tip():\n",
    "        row = dfg.loc[node.name]\n",
    "        for key in keys:\n",
    "            val = row[key]\n",
    "            setattr(node, key, [val])\n",
    "            meta_[-1].append(val)\n",
    "    else:\n",
    "        for key in keys:\n",
    "            vals = [y + x.length for x in node.children for y in getattr(x, key)]\n",
    "            setattr(node, key, vals)\n",
    "            meta_[-1].append(np.mean(vals))"
   ]
  },
  {
   "cell_type": "code",
   "execution_count": 19,
   "metadata": {},
   "outputs": [],
   "source": [
    "dfm = pd.DataFrame(meta_, columns=['ID'] + keys).set_index('ID')"
   ]
  },
  {
   "cell_type": "code",
   "execution_count": 20,
   "metadata": {},
   "outputs": [],
   "source": [
    "dfm = pd.concat([dfg[keys], dfm], axis=0)"
   ]
  },
  {
   "cell_type": "code",
   "execution_count": 21,
   "metadata": {},
   "outputs": [
    {
     "data": {
      "text/html": [
       "<div>\n",
       "<style scoped>\n",
       "    .dataframe tbody tr th:only-of-type {\n",
       "        vertical-align: middle;\n",
       "    }\n",
       "\n",
       "    .dataframe tbody tr th {\n",
       "        vertical-align: top;\n",
       "    }\n",
       "\n",
       "    .dataframe thead th {\n",
       "        text-align: right;\n",
       "    }\n",
       "</style>\n",
       "<table border=\"1\" class=\"dataframe\">\n",
       "  <thead>\n",
       "    <tr style=\"text-align: right;\">\n",
       "      <th></th>\n",
       "      <th>genome</th>\n",
       "      <th>gc</th>\n",
       "      <th>proteins</th>\n",
       "      <th>coding</th>\n",
       "      <th>rrnas</th>\n",
       "    </tr>\n",
       "  </thead>\n",
       "  <tbody>\n",
       "    <tr>\n",
       "      <th>G000005825</th>\n",
       "      <td>4249248.0</td>\n",
       "      <td>39.86</td>\n",
       "      <td>4260.0</td>\n",
       "      <td>85.144124</td>\n",
       "      <td>7.0</td>\n",
       "    </tr>\n",
       "    <tr>\n",
       "      <th>G000006175</th>\n",
       "      <td>1936387.0</td>\n",
       "      <td>28.59</td>\n",
       "      <td>1727.0</td>\n",
       "      <td>80.167033</td>\n",
       "      <td>2.0</td>\n",
       "    </tr>\n",
       "    <tr>\n",
       "      <th>G000006605</th>\n",
       "      <td>2476822.0</td>\n",
       "      <td>61.35</td>\n",
       "      <td>2137.0</td>\n",
       "      <td>89.378688</td>\n",
       "      <td>3.0</td>\n",
       "    </tr>\n",
       "    <tr>\n",
       "      <th>G000006725</th>\n",
       "      <td>2731750.0</td>\n",
       "      <td>52.62</td>\n",
       "      <td>2664.0</td>\n",
       "      <td>82.592990</td>\n",
       "      <td>2.0</td>\n",
       "    </tr>\n",
       "    <tr>\n",
       "      <th>G000006745</th>\n",
       "      <td>4033464.0</td>\n",
       "      <td>47.49</td>\n",
       "      <td>3594.0</td>\n",
       "      <td>86.533164</td>\n",
       "      <td>8.0</td>\n",
       "    </tr>\n",
       "  </tbody>\n",
       "</table>\n",
       "</div>"
      ],
      "text/plain": [
       "               genome     gc  proteins     coding  rrnas\n",
       "G000005825  4249248.0  39.86    4260.0  85.144124    7.0\n",
       "G000006175  1936387.0  28.59    1727.0  80.167033    2.0\n",
       "G000006605  2476822.0  61.35    2137.0  89.378688    3.0\n",
       "G000006725  2731750.0  52.62    2664.0  82.592990    2.0\n",
       "G000006745  4033464.0  47.49    3594.0  86.533164    8.0"
      ]
     },
     "execution_count": 21,
     "metadata": {},
     "output_type": "execute_result"
    }
   ],
   "source": [
    "dfm.head()"
   ]
  },
  {
   "cell_type": "markdown",
   "metadata": {},
   "source": [
    "### Analysis - fine resolution (species)"
   ]
  },
  {
   "cell_type": "code",
   "execution_count": 22,
   "metadata": {},
   "outputs": [
    {
     "data": {
      "text/plain": [
       "['species', 'genus', 'family', 'order', 'class', 'phylum']"
      ]
     },
     "execution_count": 22,
     "metadata": {},
     "output_type": "execute_result"
    }
   ],
   "source": [
    "ranks = dft.columns[::-1].tolist()[:-1]\n",
    "ranks"
   ]
  },
  {
   "cell_type": "code",
   "execution_count": 23,
   "metadata": {},
   "outputs": [],
   "source": [
    "df['rank'] = None\n",
    "df['node'] = None"
   ]
  },
  {
   "cell_type": "markdown",
   "metadata": {},
   "source": [
    "Get lowest common ancestor"
   ]
  },
  {
   "cell_type": "code",
   "execution_count": 24,
   "metadata": {},
   "outputs": [],
   "source": [
    "def lca2(tree, taxa):\n",
    "    for child in tree.children:\n",
    "        if taxa.issubset(child.taxa):\n",
    "            return lca2(child, taxa)\n",
    "    return tree"
   ]
  },
  {
   "cell_type": "markdown",
   "metadata": {},
   "source": [
    "Determine placements"
   ]
  },
  {
   "cell_type": "code",
   "execution_count": 25,
   "metadata": {},
   "outputs": [],
   "source": [
    "for idx, row in df.iterrows():\n",
    "    for rank in ranks:\n",
    "        taxa = set(dft[dft[rank] == row[rank]].index)\n",
    "        if not taxa:\n",
    "            continue\n",
    "        node = lca2(tree, taxa)\n",
    "        if node.taxa.difference(taxa):\n",
    "            continue\n",
    "        df.at[idx, 'node'] = node.name\n",
    "        df.at[idx, 'rank'] = rank\n",
    "        break"
   ]
  },
  {
   "cell_type": "markdown",
   "metadata": {},
   "source": [
    "Check results"
   ]
  },
  {
   "cell_type": "code",
   "execution_count": 26,
   "metadata": {},
   "outputs": [
    {
     "data": {
      "text/html": [
       "<div>\n",
       "<style scoped>\n",
       "    .dataframe tbody tr th:only-of-type {\n",
       "        vertical-align: middle;\n",
       "    }\n",
       "\n",
       "    .dataframe tbody tr th {\n",
       "        vertical-align: top;\n",
       "    }\n",
       "\n",
       "    .dataframe thead th {\n",
       "        text-align: right;\n",
       "    }\n",
       "</style>\n",
       "<table border=\"1\" class=\"dataframe\">\n",
       "  <thead>\n",
       "    <tr style=\"text-align: right;\">\n",
       "      <th></th>\n",
       "      <th>length</th>\n",
       "      <th>width</th>\n",
       "      <th>volume</th>\n",
       "      <th>surface</th>\n",
       "      <th>shape</th>\n",
       "      <th>species</th>\n",
       "      <th>genus</th>\n",
       "      <th>family</th>\n",
       "      <th>order</th>\n",
       "      <th>class</th>\n",
       "      <th>phylum</th>\n",
       "      <th>superkingdom</th>\n",
       "      <th>rank</th>\n",
       "      <th>node</th>\n",
       "    </tr>\n",
       "    <tr>\n",
       "      <th>taxid</th>\n",
       "      <th></th>\n",
       "      <th></th>\n",
       "      <th></th>\n",
       "      <th></th>\n",
       "      <th></th>\n",
       "      <th></th>\n",
       "      <th></th>\n",
       "      <th></th>\n",
       "      <th></th>\n",
       "      <th></th>\n",
       "      <th></th>\n",
       "      <th></th>\n",
       "      <th></th>\n",
       "      <th></th>\n",
       "    </tr>\n",
       "  </thead>\n",
       "  <tbody>\n",
       "    <tr>\n",
       "      <th>txid11</th>\n",
       "      <td>2.371708</td>\n",
       "      <td>1.060660</td>\n",
       "      <td>1.783187</td>\n",
       "      <td>7.902917</td>\n",
       "      <td>rod-shaped</td>\n",
       "      <td>Cellulomonas gilvus</td>\n",
       "      <td>Cellulomonas</td>\n",
       "      <td>Cellulomonadaceae</td>\n",
       "      <td>Micrococcales</td>\n",
       "      <td>Actinomycetia</td>\n",
       "      <td>Actinobacteria</td>\n",
       "      <td>Bacteria</td>\n",
       "      <td>species</td>\n",
       "      <td>G000218545</td>\n",
       "    </tr>\n",
       "    <tr>\n",
       "      <th>txid14</th>\n",
       "      <td>10.000000</td>\n",
       "      <td>0.489898</td>\n",
       "      <td>1.854174</td>\n",
       "      <td>15.390598</td>\n",
       "      <td>rod-shaped</td>\n",
       "      <td>Dictyoglomus thermophilum</td>\n",
       "      <td>Dictyoglomus</td>\n",
       "      <td>Dictyoglomaceae</td>\n",
       "      <td>Dictyoglomales</td>\n",
       "      <td>Dictyoglomia</td>\n",
       "      <td>Dictyoglomi</td>\n",
       "      <td>Bacteria</td>\n",
       "      <td>species</td>\n",
       "      <td>G000020965</td>\n",
       "    </tr>\n",
       "    <tr>\n",
       "      <th>txid23</th>\n",
       "      <td>1.500000</td>\n",
       "      <td>0.700000</td>\n",
       "      <td>0.487470</td>\n",
       "      <td>3.298672</td>\n",
       "      <td>rod-shaped</td>\n",
       "      <td>Shewanella colwelliana</td>\n",
       "      <td>Shewanella</td>\n",
       "      <td>Shewanellaceae</td>\n",
       "      <td>Alteromonadales</td>\n",
       "      <td>Gammaproteobacteria</td>\n",
       "      <td>Proteobacteria</td>\n",
       "      <td>Bacteria</td>\n",
       "      <td>species</td>\n",
       "      <td>G000518705</td>\n",
       "    </tr>\n",
       "    <tr>\n",
       "      <th>txid104</th>\n",
       "      <td>1.039230</td>\n",
       "      <td>0.346410</td>\n",
       "      <td>0.087062</td>\n",
       "      <td>1.130973</td>\n",
       "      <td>ring-shaped</td>\n",
       "      <td>Cyclobacterium marinum</td>\n",
       "      <td>Cyclobacterium</td>\n",
       "      <td>Cyclobacteriaceae</td>\n",
       "      <td>Cytophagales</td>\n",
       "      <td>Cytophagia</td>\n",
       "      <td>Bacteroidetes</td>\n",
       "      <td>Bacteria</td>\n",
       "      <td>species</td>\n",
       "      <td>G000222485</td>\n",
       "    </tr>\n",
       "    <tr>\n",
       "      <th>txid148</th>\n",
       "      <td>67.082039</td>\n",
       "      <td>0.244949</td>\n",
       "      <td>3.157319</td>\n",
       "      <td>51.621635</td>\n",
       "      <td>NaN</td>\n",
       "      <td>Sediminispirochaeta bajacaliforniensis</td>\n",
       "      <td>Sediminispirochaeta</td>\n",
       "      <td>Spirochaetaceae</td>\n",
       "      <td>Spirochaetales</td>\n",
       "      <td>Spirochaetia</td>\n",
       "      <td>Spirochaetes</td>\n",
       "      <td>Bacteria</td>\n",
       "      <td>genus</td>\n",
       "      <td>G000143985</td>\n",
       "    </tr>\n",
       "  </tbody>\n",
       "</table>\n",
       "</div>"
      ],
      "text/plain": [
       "            length     width    volume    surface        shape  \\\n",
       "taxid                                                            \n",
       "txid11    2.371708  1.060660  1.783187   7.902917   rod-shaped   \n",
       "txid14   10.000000  0.489898  1.854174  15.390598   rod-shaped   \n",
       "txid23    1.500000  0.700000  0.487470   3.298672   rod-shaped   \n",
       "txid104   1.039230  0.346410  0.087062   1.130973  ring-shaped   \n",
       "txid148  67.082039  0.244949  3.157319  51.621635          NaN   \n",
       "\n",
       "                                        species                genus  \\\n",
       "taxid                                                                  \n",
       "txid11                      Cellulomonas gilvus         Cellulomonas   \n",
       "txid14                Dictyoglomus thermophilum         Dictyoglomus   \n",
       "txid23                   Shewanella colwelliana           Shewanella   \n",
       "txid104                  Cyclobacterium marinum       Cyclobacterium   \n",
       "txid148  Sediminispirochaeta bajacaliforniensis  Sediminispirochaeta   \n",
       "\n",
       "                    family            order                class  \\\n",
       "taxid                                                              \n",
       "txid11   Cellulomonadaceae    Micrococcales        Actinomycetia   \n",
       "txid14     Dictyoglomaceae   Dictyoglomales         Dictyoglomia   \n",
       "txid23      Shewanellaceae  Alteromonadales  Gammaproteobacteria   \n",
       "txid104  Cyclobacteriaceae     Cytophagales           Cytophagia   \n",
       "txid148    Spirochaetaceae   Spirochaetales         Spirochaetia   \n",
       "\n",
       "                 phylum superkingdom     rank        node  \n",
       "taxid                                                      \n",
       "txid11   Actinobacteria     Bacteria  species  G000218545  \n",
       "txid14      Dictyoglomi     Bacteria  species  G000020965  \n",
       "txid23   Proteobacteria     Bacteria  species  G000518705  \n",
       "txid104   Bacteroidetes     Bacteria  species  G000222485  \n",
       "txid148    Spirochaetes     Bacteria    genus  G000143985  "
      ]
     },
     "execution_count": 26,
     "metadata": {},
     "output_type": "execute_result"
    }
   ],
   "source": [
    "df.head()"
   ]
  },
  {
   "cell_type": "code",
   "execution_count": 27,
   "metadata": {},
   "outputs": [
    {
     "data": {
      "text/plain": [
       "4875"
      ]
     },
     "execution_count": 27,
     "metadata": {},
     "output_type": "execute_result"
    }
   ],
   "source": [
    "df.shape[0]"
   ]
  },
  {
   "cell_type": "code",
   "execution_count": 28,
   "metadata": {},
   "outputs": [
    {
     "data": {
      "text/plain": [
       "4746"
      ]
     },
     "execution_count": 28,
     "metadata": {},
     "output_type": "execute_result"
    }
   ],
   "source": [
    "df.dropna(subset=['node']).shape[0]"
   ]
  },
  {
   "cell_type": "code",
   "execution_count": 29,
   "metadata": {},
   "outputs": [
    {
     "name": "stdout",
     "output_type": "stream",
     "text": [
      "species 1140\n",
      "genus 2718\n",
      "family 719\n",
      "order 58\n",
      "class 102\n",
      "phylum 9\n"
     ]
    }
   ],
   "source": [
    "for rank in ranks:\n",
    "    print(rank, df.query(f'rank == \"{rank}\"').shape[0])"
   ]
  },
  {
   "cell_type": "markdown",
   "metadata": {},
   "source": [
    "### Last three ranks"
   ]
  },
  {
   "cell_type": "markdown",
   "metadata": {},
   "source": [
    "Valid ranks would be species, genus and family."
   ]
  },
  {
   "cell_type": "code",
   "execution_count": 30,
   "metadata": {},
   "outputs": [],
   "source": [
    "valid_ranks = ('species', 'genus', 'family')"
   ]
  },
  {
   "cell_type": "markdown",
   "metadata": {},
   "source": [
    "Make a copy of the tree."
   ]
  },
  {
   "cell_type": "code",
   "execution_count": 31,
   "metadata": {},
   "outputs": [],
   "source": [
    "placed = tree.copy()"
   ]
  },
  {
   "cell_type": "markdown",
   "metadata": {},
   "source": [
    "Insert leaves into the tree."
   ]
  },
  {
   "cell_type": "code",
   "execution_count": 32,
   "metadata": {},
   "outputs": [],
   "source": [
    "inserted = []"
   ]
  },
  {
   "cell_type": "code",
   "execution_count": 33,
   "metadata": {},
   "outputs": [],
   "source": [
    "for idx, row in df.iterrows():\n",
    "    if row['rank'] in valid_ranks:\n",
    "        node = placed.find(row['node'])\n",
    "        leaf = TreeNode(name=idx, length=node.length + node.median)\n",
    "        node.parent.append(leaf)\n",
    "        inserted.append(idx)"
   ]
  },
  {
   "cell_type": "markdown",
   "metadata": {},
   "source": [
    "Prune the tree to contain only insertions."
   ]
  },
  {
   "cell_type": "code",
   "execution_count": 34,
   "metadata": {},
   "outputs": [],
   "source": [
    "placed = placed.shear(inserted)"
   ]
  },
  {
   "cell_type": "code",
   "execution_count": 35,
   "metadata": {},
   "outputs": [],
   "source": [
    "placed.prune()"
   ]
  },
  {
   "cell_type": "markdown",
   "metadata": {},
   "source": [
    "Export tree."
   ]
  },
  {
   "cell_type": "code",
   "execution_count": 36,
   "metadata": {},
   "outputs": [
    {
     "data": {
      "text/plain": [
       "'place/fine.nwk'"
      ]
     },
     "execution_count": 36,
     "metadata": {},
     "output_type": "execute_result"
    }
   ],
   "source": [
    "placed.write('place/fine.nwk')"
   ]
  },
  {
   "cell_type": "code",
   "execution_count": 37,
   "metadata": {},
   "outputs": [
    {
     "data": {
      "text/plain": [
       "4577"
      ]
     },
     "execution_count": 37,
     "metadata": {},
     "output_type": "execute_result"
    }
   ],
   "source": [
    "placed.count(tips = True)"
   ]
  },
  {
   "cell_type": "markdown",
   "metadata": {},
   "source": [
    "Filter data."
   ]
  },
  {
   "cell_type": "code",
   "execution_count": 38,
   "metadata": {},
   "outputs": [],
   "source": [
    "df_ = df.loc[inserted].copy()"
   ]
  },
  {
   "cell_type": "code",
   "execution_count": 39,
   "metadata": {},
   "outputs": [],
   "source": [
    "for key in keys:\n",
    "    df_[key] = df_['node'].map(dfm[key].to_dict())"
   ]
  },
  {
   "cell_type": "code",
   "execution_count": 40,
   "metadata": {},
   "outputs": [
    {
     "data": {
      "text/plain": [
       "(4577, 19)"
      ]
     },
     "execution_count": 40,
     "metadata": {},
     "output_type": "execute_result"
    }
   ],
   "source": [
    "df_.shape"
   ]
  },
  {
   "cell_type": "markdown",
   "metadata": {},
   "source": [
    "Export data."
   ]
  },
  {
   "cell_type": "code",
   "execution_count": 41,
   "metadata": {},
   "outputs": [],
   "source": [
    "df_.to_csv('place/fine.tsv', sep='\\t')"
   ]
  },
  {
   "cell_type": "markdown",
   "metadata": {},
   "source": [
    "### Small tree"
   ]
  },
  {
   "cell_type": "markdown",
   "metadata": {},
   "source": [
    "For test purpose."
   ]
  },
  {
   "cell_type": "code",
   "execution_count": 42,
   "metadata": {},
   "outputs": [
    {
     "data": {
      "text/plain": [
       "'place/100.nwk'"
      ]
     },
     "execution_count": 42,
     "metadata": {},
     "output_type": "execute_result"
    }
   ],
   "source": [
    "df_ = df_.sample(100, random_state=42)\n",
    "df_.to_csv('place/100.tsv', sep='\\t')\n",
    "placed_ = placed.shear(df_.index.tolist())\n",
    "placed_.prune()\n",
    "placed_.write('place/100.nwk')"
   ]
  },
  {
   "cell_type": "markdown",
   "metadata": {},
   "source": [
    "### Just species level"
   ]
  },
  {
   "cell_type": "code",
   "execution_count": 43,
   "metadata": {},
   "outputs": [],
   "source": [
    "placed = tree.copy()\n",
    "inserted = []\n",
    "for idx, row in df.query('rank == \"species\"').iterrows():\n",
    "    node = placed.find(row['node'])\n",
    "    leaf = TreeNode(name=idx, length=node.length + node.median)\n",
    "    node.parent.append(leaf)\n",
    "    inserted.append(idx)\n",
    "placed = placed.shear(inserted)\n",
    "placed.prune()\n",
    "placed.write('place/species.nwk')\n",
    "df_ = df.loc[inserted].copy()\n",
    "for key in keys:\n",
    "    df_[key] = df_['node'].map(dfm[key].to_dict())\n",
    "df_.to_csv('place/species.tsv', sep='\\t')"
   ]
  },
  {
   "cell_type": "markdown",
   "metadata": {},
   "source": [
    "### Higher ranks"
   ]
  },
  {
   "cell_type": "code",
   "execution_count": 45,
   "metadata": {},
   "outputs": [
    {
     "name": "stdout",
     "output_type": "stream",
     "text": [
      "genus: 1027\n",
      "family: 300\n",
      "order: 122\n",
      "class: 55\n",
      "phylum: 25\n"
     ]
    }
   ],
   "source": [
    "for rank in 'genus', 'family', 'order', 'class', 'phylum':\n",
    "    df = pd.read_table(f'../preprocess/annot/{rank}.tsv', index_col=0)\n",
    "    df.index = 'txid' + df.index.astype(str)\n",
    "    df['rank'] = None\n",
    "    df['node'] = None\n",
    "    for idx, row in df.iterrows():\n",
    "        taxa = set(dft[dft[rank] == row[rank]].index)\n",
    "        if not taxa:\n",
    "            continue\n",
    "        node = lca2(tree, taxa)\n",
    "        if node.taxa.difference(taxa):\n",
    "            continue\n",
    "        df.at[idx, 'node'] = node.name\n",
    "        df.at[idx, 'rank'] = rank\n",
    "    df = df.dropna(subset=['node'])\n",
    "    placed = tree.copy()\n",
    "    inserted = []\n",
    "    for idx, row in df.iterrows():\n",
    "        node = placed.find(row['node'])\n",
    "        leaf = TreeNode(name=idx, length=node.length + node.median)\n",
    "        node.parent.append(leaf)\n",
    "        inserted.append(idx)\n",
    "    placed = placed.shear(inserted)\n",
    "    placed.prune()\n",
    "    placed.write(f'place/{rank}.nwk')\n",
    "    df = df.loc[inserted]\n",
    "    for key in keys:\n",
    "        df[key] = df['node'].map(dfm[key].to_dict())\n",
    "    df.to_csv(f'place/{rank}.tsv', sep='\\t')\n",
    "    print(f'{rank}: {df.shape[0]}')"
   ]
  },
  {
   "cell_type": "code",
   "execution_count": null,
   "metadata": {},
   "outputs": [],
   "source": []
  }
 ],
 "metadata": {
  "kernelspec": {
   "display_name": "Python 3",
   "language": "python",
   "name": "python3"
  },
  "language_info": {
   "codemirror_mode": {
    "name": "ipython",
    "version": 3
   },
   "file_extension": ".py",
   "mimetype": "text/x-python",
   "name": "python",
   "nbconvert_exporter": "python",
   "pygments_lexer": "ipython3",
   "version": "3.8.5"
  }
 },
 "nbformat": 4,
 "nbformat_minor": 5
}
