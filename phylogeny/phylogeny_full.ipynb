{
 "cells": [
  {
   "cell_type": "markdown",
   "metadata": {},
   "source": [
    "# Match cell size data with phylogeny"
   ]
  },
  {
   "cell_type": "markdown",
   "metadata": {},
   "source": [
    "### Preparation"
   ]
  },
  {
   "cell_type": "code",
   "execution_count": 1,
   "metadata": {},
   "outputs": [],
   "source": [
    "import numpy as np\n",
    "import pandas as pd"
   ]
  },
  {
   "cell_type": "code",
   "execution_count": 2,
   "metadata": {},
   "outputs": [],
   "source": [
    "from skbio import TreeNode"
   ]
  },
  {
   "cell_type": "markdown",
   "metadata": {},
   "source": [
    "### Cell size data"
   ]
  },
  {
   "cell_type": "code",
   "execution_count": 3,
   "metadata": {},
   "outputs": [
    {
     "data": {
      "text/html": [
       "<div>\n",
       "<style scoped>\n",
       "    .dataframe tbody tr th:only-of-type {\n",
       "        vertical-align: middle;\n",
       "    }\n",
       "\n",
       "    .dataframe tbody tr th {\n",
       "        vertical-align: top;\n",
       "    }\n",
       "\n",
       "    .dataframe thead th {\n",
       "        text-align: right;\n",
       "    }\n",
       "</style>\n",
       "<table border=\"1\" class=\"dataframe\">\n",
       "  <thead>\n",
       "    <tr style=\"text-align: right;\">\n",
       "      <th></th>\n",
       "      <th>length</th>\n",
       "      <th>width</th>\n",
       "      <th>volume</th>\n",
       "      <th>surface</th>\n",
       "      <th>shape</th>\n",
       "      <th>species</th>\n",
       "      <th>genus</th>\n",
       "      <th>family</th>\n",
       "      <th>order</th>\n",
       "      <th>class</th>\n",
       "      <th>phylum</th>\n",
       "      <th>kingdom</th>\n",
       "    </tr>\n",
       "    <tr>\n",
       "      <th>taxid</th>\n",
       "      <th></th>\n",
       "      <th></th>\n",
       "      <th></th>\n",
       "      <th></th>\n",
       "      <th></th>\n",
       "      <th></th>\n",
       "      <th></th>\n",
       "      <th></th>\n",
       "      <th></th>\n",
       "      <th></th>\n",
       "      <th></th>\n",
       "      <th></th>\n",
       "    </tr>\n",
       "  </thead>\n",
       "  <tbody>\n",
       "    <tr>\n",
       "      <th>11</th>\n",
       "      <td>2.371708</td>\n",
       "      <td>1.060660</td>\n",
       "      <td>1.783187</td>\n",
       "      <td>7.902917</td>\n",
       "      <td>rod-shaped</td>\n",
       "      <td>Cellulomonas gilvus</td>\n",
       "      <td>Cellulomonas</td>\n",
       "      <td>Cellulomonadaceae</td>\n",
       "      <td>Micrococcales</td>\n",
       "      <td>Actinomycetia</td>\n",
       "      <td>Actinobacteria</td>\n",
       "      <td>Bacteria</td>\n",
       "    </tr>\n",
       "    <tr>\n",
       "      <th>14</th>\n",
       "      <td>10.000000</td>\n",
       "      <td>0.489898</td>\n",
       "      <td>1.854174</td>\n",
       "      <td>15.390598</td>\n",
       "      <td>rod-shaped</td>\n",
       "      <td>Dictyoglomus thermophilum</td>\n",
       "      <td>Dictyoglomus</td>\n",
       "      <td>Dictyoglomaceae</td>\n",
       "      <td>Dictyoglomales</td>\n",
       "      <td>Dictyoglomia</td>\n",
       "      <td>Dictyoglomi</td>\n",
       "      <td>Bacteria</td>\n",
       "    </tr>\n",
       "    <tr>\n",
       "      <th>23</th>\n",
       "      <td>1.500000</td>\n",
       "      <td>0.700000</td>\n",
       "      <td>0.487470</td>\n",
       "      <td>3.298672</td>\n",
       "      <td>rod-shaped</td>\n",
       "      <td>Shewanella colwelliana</td>\n",
       "      <td>Shewanella</td>\n",
       "      <td>Shewanellaceae</td>\n",
       "      <td>Alteromonadales</td>\n",
       "      <td>Gammaproteobacteria</td>\n",
       "      <td>Proteobacteria</td>\n",
       "      <td>Bacteria</td>\n",
       "    </tr>\n",
       "    <tr>\n",
       "      <th>104</th>\n",
       "      <td>1.039230</td>\n",
       "      <td>0.346410</td>\n",
       "      <td>0.087062</td>\n",
       "      <td>1.130973</td>\n",
       "      <td>ring-shaped</td>\n",
       "      <td>Cyclobacterium marinum</td>\n",
       "      <td>Cyclobacterium</td>\n",
       "      <td>Cyclobacteriaceae</td>\n",
       "      <td>Cytophagales</td>\n",
       "      <td>Cytophagia</td>\n",
       "      <td>Bacteroidetes</td>\n",
       "      <td>Bacteria</td>\n",
       "    </tr>\n",
       "    <tr>\n",
       "      <th>114</th>\n",
       "      <td>2.049390</td>\n",
       "      <td>2.049390</td>\n",
       "      <td>4.506844</td>\n",
       "      <td>13.194689</td>\n",
       "      <td>spherical</td>\n",
       "      <td>Gemmata obscuriglobus</td>\n",
       "      <td>Gemmata</td>\n",
       "      <td>Gemmataceae</td>\n",
       "      <td>Gemmatales</td>\n",
       "      <td>Planctomycetia</td>\n",
       "      <td>Planctomycetes</td>\n",
       "      <td>Bacteria</td>\n",
       "    </tr>\n",
       "  </tbody>\n",
       "</table>\n",
       "</div>"
      ],
      "text/plain": [
       "          length     width    volume    surface        shape  \\\n",
       "taxid                                                          \n",
       "11      2.371708  1.060660  1.783187   7.902917   rod-shaped   \n",
       "14     10.000000  0.489898  1.854174  15.390598   rod-shaped   \n",
       "23      1.500000  0.700000  0.487470   3.298672   rod-shaped   \n",
       "104     1.039230  0.346410  0.087062   1.130973  ring-shaped   \n",
       "114     2.049390  2.049390  4.506844  13.194689    spherical   \n",
       "\n",
       "                         species           genus             family  \\\n",
       "taxid                                                                 \n",
       "11           Cellulomonas gilvus    Cellulomonas  Cellulomonadaceae   \n",
       "14     Dictyoglomus thermophilum    Dictyoglomus    Dictyoglomaceae   \n",
       "23        Shewanella colwelliana      Shewanella     Shewanellaceae   \n",
       "104       Cyclobacterium marinum  Cyclobacterium  Cyclobacteriaceae   \n",
       "114        Gemmata obscuriglobus         Gemmata        Gemmataceae   \n",
       "\n",
       "                 order                class          phylum   kingdom  \n",
       "taxid                                                                  \n",
       "11       Micrococcales        Actinomycetia  Actinobacteria  Bacteria  \n",
       "14      Dictyoglomales         Dictyoglomia     Dictyoglomi  Bacteria  \n",
       "23     Alteromonadales  Gammaproteobacteria  Proteobacteria  Bacteria  \n",
       "104       Cytophagales           Cytophagia   Bacteroidetes  Bacteria  \n",
       "114         Gemmatales       Planctomycetia  Planctomycetes  Bacteria  "
      ]
     },
     "execution_count": 3,
     "metadata": {},
     "output_type": "execute_result"
    }
   ],
   "source": [
    "df = pd.read_table('../preprocess/annot/species_all.tsv', index_col = 0)\n",
    "df.rename(columns = {'superkingdom': 'kingdom'}, inplace = True)\n",
    "df.head()"
   ]
  },
  {
   "cell_type": "code",
   "execution_count": 4,
   "metadata": {},
   "outputs": [
    {
     "data": {
      "text/plain": [
       "(5702, 12)"
      ]
     },
     "execution_count": 4,
     "metadata": {},
     "output_type": "execute_result"
    }
   ],
   "source": [
    "df.shape"
   ]
  },
  {
   "cell_type": "code",
   "execution_count": 5,
   "metadata": {},
   "outputs": [],
   "source": [
    "df.index = 'taxid' + df.index.astype(str)"
   ]
  },
  {
   "cell_type": "markdown",
   "metadata": {},
   "source": [
    "### Reference taxa\n",
    "\n",
    "Taxonomy (tax2tree-curated)"
   ]
  },
  {
   "cell_type": "code",
   "execution_count": 6,
   "metadata": {},
   "outputs": [
    {
     "data": {
      "text/html": [
       "<div>\n",
       "<style scoped>\n",
       "    .dataframe tbody tr th:only-of-type {\n",
       "        vertical-align: middle;\n",
       "    }\n",
       "\n",
       "    .dataframe tbody tr th {\n",
       "        vertical-align: top;\n",
       "    }\n",
       "\n",
       "    .dataframe thead th {\n",
       "        text-align: right;\n",
       "    }\n",
       "</style>\n",
       "<table border=\"1\" class=\"dataframe\">\n",
       "  <thead>\n",
       "    <tr style=\"text-align: right;\">\n",
       "      <th></th>\n",
       "      <th>kingdom</th>\n",
       "      <th>phylum</th>\n",
       "      <th>class</th>\n",
       "      <th>order</th>\n",
       "      <th>family</th>\n",
       "      <th>genus</th>\n",
       "      <th>species</th>\n",
       "    </tr>\n",
       "  </thead>\n",
       "  <tbody>\n",
       "    <tr>\n",
       "      <th>G000005825</th>\n",
       "      <td>Bacteria</td>\n",
       "      <td>Firmicutes_1</td>\n",
       "      <td>Bacilli_1</td>\n",
       "      <td>Bacillales_1</td>\n",
       "      <td>Bacillaceae_3</td>\n",
       "      <td>Alkalihalobacillus</td>\n",
       "      <td>Alkalihalobacillus pseudofirmus</td>\n",
       "    </tr>\n",
       "    <tr>\n",
       "      <th>G000006175</th>\n",
       "      <td>Archaea</td>\n",
       "      <td>Euryarchaeota_2</td>\n",
       "      <td>Methanococci</td>\n",
       "      <td>Methanococcales</td>\n",
       "      <td>Methanococcaceae</td>\n",
       "      <td>Methanococcus</td>\n",
       "      <td>Methanococcus voltae</td>\n",
       "    </tr>\n",
       "    <tr>\n",
       "      <th>G000006605</th>\n",
       "      <td>Bacteria</td>\n",
       "      <td>Actinobacteria</td>\n",
       "      <td>Actinomycetia</td>\n",
       "      <td>Corynebacteriales</td>\n",
       "      <td>Corynebacteriaceae</td>\n",
       "      <td>Corynebacterium</td>\n",
       "      <td>Corynebacterium falsenii</td>\n",
       "    </tr>\n",
       "    <tr>\n",
       "      <th>G000006725</th>\n",
       "      <td>Bacteria</td>\n",
       "      <td>Proteobacteria_1</td>\n",
       "      <td>Gammaproteobacteria</td>\n",
       "      <td>Xanthomonadales</td>\n",
       "      <td>Xanthomonadaceae</td>\n",
       "      <td>Xylella</td>\n",
       "      <td>Xylella fastidiosa</td>\n",
       "    </tr>\n",
       "    <tr>\n",
       "      <th>G000006745</th>\n",
       "      <td>Bacteria</td>\n",
       "      <td>Proteobacteria_1</td>\n",
       "      <td>Gammaproteobacteria</td>\n",
       "      <td>Vibrionales</td>\n",
       "      <td>Vibrionaceae</td>\n",
       "      <td>NaN</td>\n",
       "      <td>Vibrio cholerae</td>\n",
       "    </tr>\n",
       "  </tbody>\n",
       "</table>\n",
       "</div>"
      ],
      "text/plain": [
       "             kingdom            phylum                class  \\\n",
       "G000005825  Bacteria      Firmicutes_1            Bacilli_1   \n",
       "G000006175   Archaea   Euryarchaeota_2         Methanococci   \n",
       "G000006605  Bacteria    Actinobacteria        Actinomycetia   \n",
       "G000006725  Bacteria  Proteobacteria_1  Gammaproteobacteria   \n",
       "G000006745  Bacteria  Proteobacteria_1  Gammaproteobacteria   \n",
       "\n",
       "                        order              family               genus  \\\n",
       "G000005825       Bacillales_1       Bacillaceae_3  Alkalihalobacillus   \n",
       "G000006175    Methanococcales    Methanococcaceae       Methanococcus   \n",
       "G000006605  Corynebacteriales  Corynebacteriaceae     Corynebacterium   \n",
       "G000006725    Xanthomonadales    Xanthomonadaceae             Xylella   \n",
       "G000006745        Vibrionales        Vibrionaceae                 NaN   \n",
       "\n",
       "                                    species  \n",
       "G000005825  Alkalihalobacillus pseudofirmus  \n",
       "G000006175             Methanococcus voltae  \n",
       "G000006605         Corynebacterium falsenii  \n",
       "G000006725               Xylella fastidiosa  \n",
       "G000006745                  Vibrio cholerae  "
      ]
     },
     "execution_count": 6,
     "metadata": {},
     "output_type": "execute_result"
    }
   ],
   "source": [
    "dft = pd.read_table('tax2tree/filled_ranks.tsv', index_col = 0)\n",
    "dft.head()"
   ]
  },
  {
   "cell_type": "code",
   "execution_count": 7,
   "metadata": {},
   "outputs": [
    {
     "data": {
      "text/plain": [
       "10575"
      ]
     },
     "execution_count": 7,
     "metadata": {},
     "output_type": "execute_result"
    }
   ],
   "source": [
    "dft.shape[0]"
   ]
  },
  {
   "cell_type": "markdown",
   "metadata": {},
   "source": [
    "Genome metadata"
   ]
  },
  {
   "cell_type": "code",
   "execution_count": 8,
   "metadata": {},
   "outputs": [
    {
     "data": {
      "text/html": [
       "<div>\n",
       "<style scoped>\n",
       "    .dataframe tbody tr th:only-of-type {\n",
       "        vertical-align: middle;\n",
       "    }\n",
       "\n",
       "    .dataframe tbody tr th {\n",
       "        vertical-align: top;\n",
       "    }\n",
       "\n",
       "    .dataframe thead th {\n",
       "        text-align: right;\n",
       "    }\n",
       "</style>\n",
       "<table border=\"1\" class=\"dataframe\">\n",
       "  <thead>\n",
       "    <tr style=\"text-align: right;\">\n",
       "      <th></th>\n",
       "      <th>scope</th>\n",
       "      <th>assembly_level</th>\n",
       "      <th>total_length</th>\n",
       "      <th>gc</th>\n",
       "      <th>proteins</th>\n",
       "      <th>protein_length</th>\n",
       "      <th>coding_density</th>\n",
       "      <th>completeness</th>\n",
       "      <th>contamination</th>\n",
       "      <th>strain_heterogeneity</th>\n",
       "      <th>16s_copies</th>\n",
       "    </tr>\n",
       "    <tr>\n",
       "      <th>#genome</th>\n",
       "      <th></th>\n",
       "      <th></th>\n",
       "      <th></th>\n",
       "      <th></th>\n",
       "      <th></th>\n",
       "      <th></th>\n",
       "      <th></th>\n",
       "      <th></th>\n",
       "      <th></th>\n",
       "      <th></th>\n",
       "      <th></th>\n",
       "    </tr>\n",
       "  </thead>\n",
       "  <tbody>\n",
       "    <tr>\n",
       "      <th>G000005825</th>\n",
       "      <td>Monoisolate</td>\n",
       "      <td>Complete Genome</td>\n",
       "      <td>4249248</td>\n",
       "      <td>39.86</td>\n",
       "      <td>4260</td>\n",
       "      <td>1228222</td>\n",
       "      <td>85.144124</td>\n",
       "      <td>98.68</td>\n",
       "      <td>1.32</td>\n",
       "      <td>0.0</td>\n",
       "      <td>7</td>\n",
       "    </tr>\n",
       "    <tr>\n",
       "      <th>G000006175</th>\n",
       "      <td>Multispecies</td>\n",
       "      <td>Complete Genome</td>\n",
       "      <td>1936387</td>\n",
       "      <td>28.59</td>\n",
       "      <td>1727</td>\n",
       "      <td>526927</td>\n",
       "      <td>80.167033</td>\n",
       "      <td>99.05</td>\n",
       "      <td>0.00</td>\n",
       "      <td>0.0</td>\n",
       "      <td>2</td>\n",
       "    </tr>\n",
       "    <tr>\n",
       "      <th>G000006605</th>\n",
       "      <td>Monoisolate</td>\n",
       "      <td>Complete Genome</td>\n",
       "      <td>2476822</td>\n",
       "      <td>61.35</td>\n",
       "      <td>2137</td>\n",
       "      <td>751284</td>\n",
       "      <td>89.378688</td>\n",
       "      <td>100.00</td>\n",
       "      <td>0.68</td>\n",
       "      <td>0.0</td>\n",
       "      <td>3</td>\n",
       "    </tr>\n",
       "    <tr>\n",
       "      <th>G000006725</th>\n",
       "      <td>Monoisolate</td>\n",
       "      <td>Complete Genome</td>\n",
       "      <td>2731750</td>\n",
       "      <td>52.62</td>\n",
       "      <td>2664</td>\n",
       "      <td>765931</td>\n",
       "      <td>82.592990</td>\n",
       "      <td>99.59</td>\n",
       "      <td>0.18</td>\n",
       "      <td>0.0</td>\n",
       "      <td>2</td>\n",
       "    </tr>\n",
       "    <tr>\n",
       "      <th>G000006745</th>\n",
       "      <td>Monoisolate</td>\n",
       "      <td>Complete Genome</td>\n",
       "      <td>4033464</td>\n",
       "      <td>47.49</td>\n",
       "      <td>3594</td>\n",
       "      <td>1184587</td>\n",
       "      <td>86.533164</td>\n",
       "      <td>99.86</td>\n",
       "      <td>0.03</td>\n",
       "      <td>0.0</td>\n",
       "      <td>8</td>\n",
       "    </tr>\n",
       "  </tbody>\n",
       "</table>\n",
       "</div>"
      ],
      "text/plain": [
       "                   scope   assembly_level  total_length     gc  proteins  \\\n",
       "#genome                                                                    \n",
       "G000005825   Monoisolate  Complete Genome       4249248  39.86      4260   \n",
       "G000006175  Multispecies  Complete Genome       1936387  28.59      1727   \n",
       "G000006605   Monoisolate  Complete Genome       2476822  61.35      2137   \n",
       "G000006725   Monoisolate  Complete Genome       2731750  52.62      2664   \n",
       "G000006745   Monoisolate  Complete Genome       4033464  47.49      3594   \n",
       "\n",
       "            protein_length  coding_density  completeness  contamination  \\\n",
       "#genome                                                                   \n",
       "G000005825         1228222       85.144124         98.68           1.32   \n",
       "G000006175          526927       80.167033         99.05           0.00   \n",
       "G000006605          751284       89.378688        100.00           0.68   \n",
       "G000006725          765931       82.592990         99.59           0.18   \n",
       "G000006745         1184587       86.533164         99.86           0.03   \n",
       "\n",
       "            strain_heterogeneity  16s_copies  \n",
       "#genome                                       \n",
       "G000005825                   0.0           7  \n",
       "G000006175                   0.0           2  \n",
       "G000006605                   0.0           3  \n",
       "G000006725                   0.0           2  \n",
       "G000006745                   0.0           8  "
      ]
     },
     "execution_count": 8,
     "metadata": {},
     "output_type": "execute_result"
    }
   ],
   "source": [
    "dfg = pd.read_table('genome.tsv', index_col=0)\n",
    "dfg.head()"
   ]
  },
  {
   "cell_type": "code",
   "execution_count": 9,
   "metadata": {},
   "outputs": [],
   "source": [
    "dfg = dfg[['total_length', 'gc', 'proteins', 'coding_density', '16s_copies']]"
   ]
  },
  {
   "cell_type": "code",
   "execution_count": 10,
   "metadata": {},
   "outputs": [],
   "source": [
    "dfg.columns = ['genome', 'gc', 'proteins', 'coding', 'rrnas']"
   ]
  },
  {
   "cell_type": "markdown",
   "metadata": {},
   "source": [
    "Add codon bias values"
   ]
  },
  {
   "cell_type": "code",
   "execution_count": 11,
   "metadata": {},
   "outputs": [
    {
     "data": {
      "text/plain": [
       "(10575, 3)"
      ]
     },
     "execution_count": 11,
     "metadata": {},
     "output_type": "execute_result"
    }
   ],
   "source": [
    "cb = pd.read_table('../codon_bias/cbias_corrected.tsv', header = None)\n",
    "cb.shape"
   ]
  },
  {
   "cell_type": "code",
   "execution_count": 12,
   "metadata": {},
   "outputs": [],
   "source": [
    "# Reformat data frame\n",
    "cb.columns = ['#genome', 'MILC', 'ENCprime']\n",
    "cb.set_index('#genome', inplace = True)"
   ]
  },
  {
   "cell_type": "code",
   "execution_count": 13,
   "metadata": {},
   "outputs": [
    {
     "data": {
      "text/html": [
       "<div>\n",
       "<style scoped>\n",
       "    .dataframe tbody tr th:only-of-type {\n",
       "        vertical-align: middle;\n",
       "    }\n",
       "\n",
       "    .dataframe tbody tr th {\n",
       "        vertical-align: top;\n",
       "    }\n",
       "\n",
       "    .dataframe thead th {\n",
       "        text-align: right;\n",
       "    }\n",
       "</style>\n",
       "<table border=\"1\" class=\"dataframe\">\n",
       "  <thead>\n",
       "    <tr style=\"text-align: right;\">\n",
       "      <th></th>\n",
       "      <th>MILC</th>\n",
       "      <th>ENCprime</th>\n",
       "    </tr>\n",
       "    <tr>\n",
       "      <th>#genome</th>\n",
       "      <th></th>\n",
       "      <th></th>\n",
       "    </tr>\n",
       "  </thead>\n",
       "  <tbody>\n",
       "    <tr>\n",
       "      <th>G000005825</th>\n",
       "      <td>-0.800480</td>\n",
       "      <td>0.294172</td>\n",
       "    </tr>\n",
       "    <tr>\n",
       "      <th>G000006175</th>\n",
       "      <td>-0.536149</td>\n",
       "      <td>0.224257</td>\n",
       "    </tr>\n",
       "    <tr>\n",
       "      <th>G000006605</th>\n",
       "      <td>-0.622788</td>\n",
       "      <td>0.203396</td>\n",
       "    </tr>\n",
       "    <tr>\n",
       "      <th>G000006725</th>\n",
       "      <td>-0.404945</td>\n",
       "      <td>0.187888</td>\n",
       "    </tr>\n",
       "    <tr>\n",
       "      <th>G000006745</th>\n",
       "      <td>-0.965386</td>\n",
       "      <td>0.334472</td>\n",
       "    </tr>\n",
       "  </tbody>\n",
       "</table>\n",
       "</div>"
      ],
      "text/plain": [
       "                MILC  ENCprime\n",
       "#genome                       \n",
       "G000005825 -0.800480  0.294172\n",
       "G000006175 -0.536149  0.224257\n",
       "G000006605 -0.622788  0.203396\n",
       "G000006725 -0.404945  0.187888\n",
       "G000006745 -0.965386  0.334472"
      ]
     },
     "execution_count": 13,
     "metadata": {},
     "output_type": "execute_result"
    }
   ],
   "source": [
    "cb.head()"
   ]
  },
  {
   "cell_type": "code",
   "execution_count": 14,
   "metadata": {},
   "outputs": [],
   "source": [
    "dfg = dfg.join(cb)"
   ]
  },
  {
   "cell_type": "markdown",
   "metadata": {},
   "source": [
    "### Reference phylogeny"
   ]
  },
  {
   "cell_type": "code",
   "execution_count": 15,
   "metadata": {},
   "outputs": [],
   "source": [
    "tree = TreeNode.read('tree.nwk')"
   ]
  },
  {
   "cell_type": "code",
   "execution_count": 16,
   "metadata": {},
   "outputs": [
    {
     "data": {
      "text/plain": [
       "10575"
      ]
     },
     "execution_count": 16,
     "metadata": {},
     "output_type": "execute_result"
    }
   ],
   "source": [
    "tree.count(tips=True)"
   ]
  },
  {
   "cell_type": "markdown",
   "metadata": {},
   "source": [
    "Calculate median node depths"
   ]
  },
  {
   "cell_type": "code",
   "execution_count": 17,
   "metadata": {},
   "outputs": [],
   "source": [
    "for node in tree.postorder(include_self=True):\n",
    "    if node.length is None:\n",
    "        node.length = 0.0\n",
    "    if node.is_tip():\n",
    "        node.taxa = set([node.name])\n",
    "        node.depths = [0.0]\n",
    "        node.median = 0.0\n",
    "    else:\n",
    "        node.taxa = set().union(*[x.taxa for x in node.children])\n",
    "        node.depths = [y + x.length for x in node.children for y in x.depths]   \n",
    "        node.median = np.median(node.depths)"
   ]
  },
  {
   "cell_type": "markdown",
   "metadata": {},
   "source": [
    "Calculate node properties, i.e., match tips and internal nodes"
   ]
  },
  {
   "cell_type": "code",
   "execution_count": 18,
   "metadata": {},
   "outputs": [],
   "source": [
    "keys = ['genome', 'gc', 'proteins', 'coding', 'rrnas', 'MILC', 'ENCprime']"
   ]
  },
  {
   "cell_type": "code",
   "execution_count": 19,
   "metadata": {},
   "outputs": [],
   "source": [
    "meta_ = []"
   ]
  },
  {
   "cell_type": "code",
   "execution_count": 20,
   "metadata": {},
   "outputs": [],
   "source": [
    "for node in tree.postorder(include_self=True):\n",
    "    meta_.append([node.name])\n",
    "    if node.is_tip():\n",
    "        row = dfg.loc[node.name]\n",
    "        # Keys of row\n",
    "        for key in keys:\n",
    "            val = row[key]\n",
    "            setattr(node, key, [val])\n",
    "            meta_[-1].append(val)\n",
    "    else:\n",
    "        for key in keys:\n",
    "            #vals = [y + x.length for x in node.children for y in getattr(x, key)]\n",
    "            vals = [y for x in node.children for y in getattr(x, key)]\n",
    "            setattr(node, key, vals)\n",
    "            meta_[-1].append(np.median(vals))"
   ]
  },
  {
   "cell_type": "code",
   "execution_count": 21,
   "metadata": {},
   "outputs": [],
   "source": [
    "# Create new data frame\n",
    "dfm = pd.DataFrame(meta_, columns = ['ID'] + keys).set_index('ID')"
   ]
  },
  {
   "cell_type": "code",
   "execution_count": 22,
   "metadata": {},
   "outputs": [
    {
     "data": {
      "text/html": [
       "<div>\n",
       "<style scoped>\n",
       "    .dataframe tbody tr th:only-of-type {\n",
       "        vertical-align: middle;\n",
       "    }\n",
       "\n",
       "    .dataframe tbody tr th {\n",
       "        vertical-align: top;\n",
       "    }\n",
       "\n",
       "    .dataframe thead th {\n",
       "        text-align: right;\n",
       "    }\n",
       "</style>\n",
       "<table border=\"1\" class=\"dataframe\">\n",
       "  <thead>\n",
       "    <tr style=\"text-align: right;\">\n",
       "      <th></th>\n",
       "      <th>genome</th>\n",
       "      <th>gc</th>\n",
       "      <th>proteins</th>\n",
       "      <th>coding</th>\n",
       "      <th>rrnas</th>\n",
       "      <th>MILC</th>\n",
       "      <th>ENCprime</th>\n",
       "    </tr>\n",
       "    <tr>\n",
       "      <th>ID</th>\n",
       "      <th></th>\n",
       "      <th></th>\n",
       "      <th></th>\n",
       "      <th></th>\n",
       "      <th></th>\n",
       "      <th></th>\n",
       "      <th></th>\n",
       "    </tr>\n",
       "  </thead>\n",
       "  <tbody>\n",
       "    <tr>\n",
       "      <th>G000830275</th>\n",
       "      <td>1241428.0</td>\n",
       "      <td>43.060</td>\n",
       "      <td>1341.0</td>\n",
       "      <td>90.880744</td>\n",
       "      <td>1.0</td>\n",
       "      <td>-0.054780</td>\n",
       "      <td>0.016435</td>\n",
       "    </tr>\n",
       "    <tr>\n",
       "      <th>G000402355</th>\n",
       "      <td>1098042.0</td>\n",
       "      <td>47.390</td>\n",
       "      <td>1206.0</td>\n",
       "      <td>90.408017</td>\n",
       "      <td>1.0</td>\n",
       "      <td>-0.138561</td>\n",
       "      <td>0.055310</td>\n",
       "    </tr>\n",
       "    <tr>\n",
       "      <th>N8</th>\n",
       "      <td>1169735.0</td>\n",
       "      <td>45.225</td>\n",
       "      <td>1273.5</td>\n",
       "      <td>90.644380</td>\n",
       "      <td>1.0</td>\n",
       "      <td>-0.096671</td>\n",
       "      <td>0.035872</td>\n",
       "    </tr>\n",
       "    <tr>\n",
       "      <th>G000830295</th>\n",
       "      <td>1157790.0</td>\n",
       "      <td>42.490</td>\n",
       "      <td>1309.0</td>\n",
       "      <td>92.968155</td>\n",
       "      <td>1.0</td>\n",
       "      <td>-0.176630</td>\n",
       "      <td>0.082367</td>\n",
       "    </tr>\n",
       "    <tr>\n",
       "      <th>G001871415</th>\n",
       "      <td>1534662.0</td>\n",
       "      <td>57.090</td>\n",
       "      <td>1517.0</td>\n",
       "      <td>88.962065</td>\n",
       "      <td>1.0</td>\n",
       "      <td>-0.105850</td>\n",
       "      <td>0.047840</td>\n",
       "    </tr>\n",
       "  </tbody>\n",
       "</table>\n",
       "</div>"
      ],
      "text/plain": [
       "               genome      gc  proteins     coding  rrnas      MILC  ENCprime\n",
       "ID                                                                           \n",
       "G000830275  1241428.0  43.060    1341.0  90.880744    1.0 -0.054780  0.016435\n",
       "G000402355  1098042.0  47.390    1206.0  90.408017    1.0 -0.138561  0.055310\n",
       "N8          1169735.0  45.225    1273.5  90.644380    1.0 -0.096671  0.035872\n",
       "G000830295  1157790.0  42.490    1309.0  92.968155    1.0 -0.176630  0.082367\n",
       "G001871415  1534662.0  57.090    1517.0  88.962065    1.0 -0.105850  0.047840"
      ]
     },
     "execution_count": 22,
     "metadata": {},
     "output_type": "execute_result"
    }
   ],
   "source": [
    "dfm.head()"
   ]
  },
  {
   "cell_type": "code",
   "execution_count": 23,
   "metadata": {},
   "outputs": [
    {
     "data": {
      "text/plain": [
       "(20603, 7)"
      ]
     },
     "execution_count": 23,
     "metadata": {},
     "output_type": "execute_result"
    }
   ],
   "source": [
    "dfm.shape"
   ]
  },
  {
   "cell_type": "code",
   "execution_count": 24,
   "metadata": {},
   "outputs": [],
   "source": [
    "dfm = pd.concat([dfg[keys], dfm], axis=0)"
   ]
  },
  {
   "cell_type": "code",
   "execution_count": 25,
   "metadata": {},
   "outputs": [
    {
     "data": {
      "text/html": [
       "<div>\n",
       "<style scoped>\n",
       "    .dataframe tbody tr th:only-of-type {\n",
       "        vertical-align: middle;\n",
       "    }\n",
       "\n",
       "    .dataframe tbody tr th {\n",
       "        vertical-align: top;\n",
       "    }\n",
       "\n",
       "    .dataframe thead th {\n",
       "        text-align: right;\n",
       "    }\n",
       "</style>\n",
       "<table border=\"1\" class=\"dataframe\">\n",
       "  <thead>\n",
       "    <tr style=\"text-align: right;\">\n",
       "      <th></th>\n",
       "      <th>genome</th>\n",
       "      <th>gc</th>\n",
       "      <th>proteins</th>\n",
       "      <th>coding</th>\n",
       "      <th>rrnas</th>\n",
       "      <th>MILC</th>\n",
       "      <th>ENCprime</th>\n",
       "    </tr>\n",
       "  </thead>\n",
       "  <tbody>\n",
       "    <tr>\n",
       "      <th>G000005825</th>\n",
       "      <td>4249248.0</td>\n",
       "      <td>39.86</td>\n",
       "      <td>4260.0</td>\n",
       "      <td>85.144124</td>\n",
       "      <td>7.0</td>\n",
       "      <td>-0.800480</td>\n",
       "      <td>0.294172</td>\n",
       "    </tr>\n",
       "    <tr>\n",
       "      <th>G000006175</th>\n",
       "      <td>1936387.0</td>\n",
       "      <td>28.59</td>\n",
       "      <td>1727.0</td>\n",
       "      <td>80.167033</td>\n",
       "      <td>2.0</td>\n",
       "      <td>-0.536149</td>\n",
       "      <td>0.224257</td>\n",
       "    </tr>\n",
       "    <tr>\n",
       "      <th>G000006605</th>\n",
       "      <td>2476822.0</td>\n",
       "      <td>61.35</td>\n",
       "      <td>2137.0</td>\n",
       "      <td>89.378688</td>\n",
       "      <td>3.0</td>\n",
       "      <td>-0.622788</td>\n",
       "      <td>0.203396</td>\n",
       "    </tr>\n",
       "    <tr>\n",
       "      <th>G000006725</th>\n",
       "      <td>2731750.0</td>\n",
       "      <td>52.62</td>\n",
       "      <td>2664.0</td>\n",
       "      <td>82.592990</td>\n",
       "      <td>2.0</td>\n",
       "      <td>-0.404945</td>\n",
       "      <td>0.187888</td>\n",
       "    </tr>\n",
       "    <tr>\n",
       "      <th>G000006745</th>\n",
       "      <td>4033464.0</td>\n",
       "      <td>47.49</td>\n",
       "      <td>3594.0</td>\n",
       "      <td>86.533164</td>\n",
       "      <td>8.0</td>\n",
       "      <td>-0.965386</td>\n",
       "      <td>0.334472</td>\n",
       "    </tr>\n",
       "  </tbody>\n",
       "</table>\n",
       "</div>"
      ],
      "text/plain": [
       "               genome     gc  proteins     coding  rrnas      MILC  ENCprime\n",
       "G000005825  4249248.0  39.86    4260.0  85.144124    7.0 -0.800480  0.294172\n",
       "G000006175  1936387.0  28.59    1727.0  80.167033    2.0 -0.536149  0.224257\n",
       "G000006605  2476822.0  61.35    2137.0  89.378688    3.0 -0.622788  0.203396\n",
       "G000006725  2731750.0  52.62    2664.0  82.592990    2.0 -0.404945  0.187888\n",
       "G000006745  4033464.0  47.49    3594.0  86.533164    8.0 -0.965386  0.334472"
      ]
     },
     "execution_count": 25,
     "metadata": {},
     "output_type": "execute_result"
    }
   ],
   "source": [
    "dfm.head()"
   ]
  },
  {
   "cell_type": "code",
   "execution_count": 26,
   "metadata": {},
   "outputs": [
    {
     "data": {
      "text/plain": [
       "(31178, 7)"
      ]
     },
     "execution_count": 26,
     "metadata": {},
     "output_type": "execute_result"
    }
   ],
   "source": [
    "dfm.shape"
   ]
  },
  {
   "cell_type": "markdown",
   "metadata": {},
   "source": [
    "### Analysis - fine resolution (species)"
   ]
  },
  {
   "cell_type": "code",
   "execution_count": 27,
   "metadata": {},
   "outputs": [
    {
     "data": {
      "text/plain": [
       "['species', 'genus', 'family', 'order', 'class', 'phylum']"
      ]
     },
     "execution_count": 27,
     "metadata": {},
     "output_type": "execute_result"
    }
   ],
   "source": [
    "ranks = dft.columns[::-1].tolist()[:-1]\n",
    "ranks"
   ]
  },
  {
   "cell_type": "code",
   "execution_count": 28,
   "metadata": {},
   "outputs": [],
   "source": [
    "df['rank'] = None\n",
    "df['node'] = None"
   ]
  },
  {
   "cell_type": "markdown",
   "metadata": {},
   "source": [
    "Get lowest common ancestor"
   ]
  },
  {
   "cell_type": "code",
   "execution_count": 29,
   "metadata": {},
   "outputs": [],
   "source": [
    "def lca2(tree, taxa):\n",
    "    for child in tree.children:\n",
    "        if taxa.issubset(child.taxa):\n",
    "            return lca2(child, taxa)\n",
    "    return tree"
   ]
  },
  {
   "cell_type": "markdown",
   "metadata": {},
   "source": [
    "Determine placements in tree"
   ]
  },
  {
   "cell_type": "code",
   "execution_count": 30,
   "metadata": {},
   "outputs": [],
   "source": [
    "for idx, row in df.iterrows():\n",
    "    # Match by ranks\n",
    "    for rank in ranks:\n",
    "        # Match taxa and get genome ID\n",
    "        taxa = set(dft[dft[rank] == row[rank]].index)\n",
    "        if not taxa:\n",
    "            continue\n",
    "        # Get LCA\n",
    "        node = lca2(tree, taxa)\n",
    "        if node.taxa.difference(taxa):\n",
    "            continue\n",
    "        df.at[idx, 'node'] = node.name\n",
    "        df.at[idx, 'rank'] = rank\n",
    "        # If placement found, exit\n",
    "        break"
   ]
  },
  {
   "cell_type": "markdown",
   "metadata": {},
   "source": [
    "Check results"
   ]
  },
  {
   "cell_type": "code",
   "execution_count": 31,
   "metadata": {},
   "outputs": [
    {
     "data": {
      "text/html": [
       "<div>\n",
       "<style scoped>\n",
       "    .dataframe tbody tr th:only-of-type {\n",
       "        vertical-align: middle;\n",
       "    }\n",
       "\n",
       "    .dataframe tbody tr th {\n",
       "        vertical-align: top;\n",
       "    }\n",
       "\n",
       "    .dataframe thead th {\n",
       "        text-align: right;\n",
       "    }\n",
       "</style>\n",
       "<table border=\"1\" class=\"dataframe\">\n",
       "  <thead>\n",
       "    <tr style=\"text-align: right;\">\n",
       "      <th></th>\n",
       "      <th>length</th>\n",
       "      <th>width</th>\n",
       "      <th>volume</th>\n",
       "      <th>surface</th>\n",
       "      <th>shape</th>\n",
       "      <th>species</th>\n",
       "      <th>genus</th>\n",
       "      <th>family</th>\n",
       "      <th>order</th>\n",
       "      <th>class</th>\n",
       "      <th>phylum</th>\n",
       "      <th>kingdom</th>\n",
       "      <th>rank</th>\n",
       "      <th>node</th>\n",
       "    </tr>\n",
       "    <tr>\n",
       "      <th>taxid</th>\n",
       "      <th></th>\n",
       "      <th></th>\n",
       "      <th></th>\n",
       "      <th></th>\n",
       "      <th></th>\n",
       "      <th></th>\n",
       "      <th></th>\n",
       "      <th></th>\n",
       "      <th></th>\n",
       "      <th></th>\n",
       "      <th></th>\n",
       "      <th></th>\n",
       "      <th></th>\n",
       "      <th></th>\n",
       "    </tr>\n",
       "  </thead>\n",
       "  <tbody>\n",
       "    <tr>\n",
       "      <th>taxid11</th>\n",
       "      <td>2.371708</td>\n",
       "      <td>1.060660</td>\n",
       "      <td>1.783187</td>\n",
       "      <td>7.902917</td>\n",
       "      <td>rod-shaped</td>\n",
       "      <td>Cellulomonas gilvus</td>\n",
       "      <td>Cellulomonas</td>\n",
       "      <td>Cellulomonadaceae</td>\n",
       "      <td>Micrococcales</td>\n",
       "      <td>Actinomycetia</td>\n",
       "      <td>Actinobacteria</td>\n",
       "      <td>Bacteria</td>\n",
       "      <td>species</td>\n",
       "      <td>G000218545</td>\n",
       "    </tr>\n",
       "    <tr>\n",
       "      <th>taxid14</th>\n",
       "      <td>10.000000</td>\n",
       "      <td>0.489898</td>\n",
       "      <td>1.854174</td>\n",
       "      <td>15.390598</td>\n",
       "      <td>rod-shaped</td>\n",
       "      <td>Dictyoglomus thermophilum</td>\n",
       "      <td>Dictyoglomus</td>\n",
       "      <td>Dictyoglomaceae</td>\n",
       "      <td>Dictyoglomales</td>\n",
       "      <td>Dictyoglomia</td>\n",
       "      <td>Dictyoglomi</td>\n",
       "      <td>Bacteria</td>\n",
       "      <td>species</td>\n",
       "      <td>G000020965</td>\n",
       "    </tr>\n",
       "    <tr>\n",
       "      <th>taxid23</th>\n",
       "      <td>1.500000</td>\n",
       "      <td>0.700000</td>\n",
       "      <td>0.487470</td>\n",
       "      <td>3.298672</td>\n",
       "      <td>rod-shaped</td>\n",
       "      <td>Shewanella colwelliana</td>\n",
       "      <td>Shewanella</td>\n",
       "      <td>Shewanellaceae</td>\n",
       "      <td>Alteromonadales</td>\n",
       "      <td>Gammaproteobacteria</td>\n",
       "      <td>Proteobacteria</td>\n",
       "      <td>Bacteria</td>\n",
       "      <td>species</td>\n",
       "      <td>G000518705</td>\n",
       "    </tr>\n",
       "    <tr>\n",
       "      <th>taxid104</th>\n",
       "      <td>1.039230</td>\n",
       "      <td>0.346410</td>\n",
       "      <td>0.087062</td>\n",
       "      <td>1.130973</td>\n",
       "      <td>ring-shaped</td>\n",
       "      <td>Cyclobacterium marinum</td>\n",
       "      <td>Cyclobacterium</td>\n",
       "      <td>Cyclobacteriaceae</td>\n",
       "      <td>Cytophagales</td>\n",
       "      <td>Cytophagia</td>\n",
       "      <td>Bacteroidetes</td>\n",
       "      <td>Bacteria</td>\n",
       "      <td>species</td>\n",
       "      <td>G000222485</td>\n",
       "    </tr>\n",
       "    <tr>\n",
       "      <th>taxid114</th>\n",
       "      <td>2.049390</td>\n",
       "      <td>2.049390</td>\n",
       "      <td>4.506844</td>\n",
       "      <td>13.194689</td>\n",
       "      <td>spherical</td>\n",
       "      <td>Gemmata obscuriglobus</td>\n",
       "      <td>Gemmata</td>\n",
       "      <td>Gemmataceae</td>\n",
       "      <td>Gemmatales</td>\n",
       "      <td>Planctomycetia</td>\n",
       "      <td>Planctomycetes</td>\n",
       "      <td>Bacteria</td>\n",
       "      <td>species</td>\n",
       "      <td>G000171775</td>\n",
       "    </tr>\n",
       "  </tbody>\n",
       "</table>\n",
       "</div>"
      ],
      "text/plain": [
       "             length     width    volume    surface        shape  \\\n",
       "taxid                                                             \n",
       "taxid11    2.371708  1.060660  1.783187   7.902917   rod-shaped   \n",
       "taxid14   10.000000  0.489898  1.854174  15.390598   rod-shaped   \n",
       "taxid23    1.500000  0.700000  0.487470   3.298672   rod-shaped   \n",
       "taxid104   1.039230  0.346410  0.087062   1.130973  ring-shaped   \n",
       "taxid114   2.049390  2.049390  4.506844  13.194689    spherical   \n",
       "\n",
       "                            species           genus             family  \\\n",
       "taxid                                                                    \n",
       "taxid11         Cellulomonas gilvus    Cellulomonas  Cellulomonadaceae   \n",
       "taxid14   Dictyoglomus thermophilum    Dictyoglomus    Dictyoglomaceae   \n",
       "taxid23      Shewanella colwelliana      Shewanella     Shewanellaceae   \n",
       "taxid104     Cyclobacterium marinum  Cyclobacterium  Cyclobacteriaceae   \n",
       "taxid114      Gemmata obscuriglobus         Gemmata        Gemmataceae   \n",
       "\n",
       "                    order                class          phylum   kingdom  \\\n",
       "taxid                                                                      \n",
       "taxid11     Micrococcales        Actinomycetia  Actinobacteria  Bacteria   \n",
       "taxid14    Dictyoglomales         Dictyoglomia     Dictyoglomi  Bacteria   \n",
       "taxid23   Alteromonadales  Gammaproteobacteria  Proteobacteria  Bacteria   \n",
       "taxid104     Cytophagales           Cytophagia   Bacteroidetes  Bacteria   \n",
       "taxid114       Gemmatales       Planctomycetia  Planctomycetes  Bacteria   \n",
       "\n",
       "             rank        node  \n",
       "taxid                          \n",
       "taxid11   species  G000218545  \n",
       "taxid14   species  G000020965  \n",
       "taxid23   species  G000518705  \n",
       "taxid104  species  G000222485  \n",
       "taxid114  species  G000171775  "
      ]
     },
     "execution_count": 31,
     "metadata": {},
     "output_type": "execute_result"
    }
   ],
   "source": [
    "df.head()"
   ]
  },
  {
   "cell_type": "code",
   "execution_count": 32,
   "metadata": {},
   "outputs": [
    {
     "data": {
      "text/plain": [
       "5702"
      ]
     },
     "execution_count": 32,
     "metadata": {},
     "output_type": "execute_result"
    }
   ],
   "source": [
    "df.shape[0]"
   ]
  },
  {
   "cell_type": "code",
   "execution_count": 33,
   "metadata": {},
   "outputs": [
    {
     "data": {
      "text/plain": [
       "5566"
      ]
     },
     "execution_count": 33,
     "metadata": {},
     "output_type": "execute_result"
    }
   ],
   "source": [
    "df.dropna(subset=['node']).shape[0]"
   ]
  },
  {
   "cell_type": "code",
   "execution_count": 34,
   "metadata": {},
   "outputs": [],
   "source": [
    "# df.dropna(subset=['node'], inplace = True)\n",
    "# df.shape"
   ]
  },
  {
   "cell_type": "markdown",
   "metadata": {},
   "source": [
    "Check statistics of placements"
   ]
  },
  {
   "cell_type": "code",
   "execution_count": 35,
   "metadata": {},
   "outputs": [
    {
     "name": "stdout",
     "output_type": "stream",
     "text": [
      "species 1491\n",
      "genus 3085\n",
      "family 804\n",
      "order 61\n",
      "class 111\n",
      "phylum 14\n"
     ]
    }
   ],
   "source": [
    "for rank in ranks:\n",
    "    print(rank, df.query(f'rank == \"{rank}\"').shape[0])"
   ]
  },
  {
   "cell_type": "markdown",
   "metadata": {},
   "source": [
    "### Last three ranks\n",
    "\n",
    "Valid ranks would be species, genus and family."
   ]
  },
  {
   "cell_type": "code",
   "execution_count": 36,
   "metadata": {},
   "outputs": [],
   "source": [
    "valid_ranks = ('species', 'genus', 'family')"
   ]
  },
  {
   "cell_type": "markdown",
   "metadata": {},
   "source": [
    "Make a copy of the tree."
   ]
  },
  {
   "cell_type": "code",
   "execution_count": 37,
   "metadata": {},
   "outputs": [],
   "source": [
    "placed = tree.copy()"
   ]
  },
  {
   "cell_type": "markdown",
   "metadata": {},
   "source": [
    "Insert leafs into the tree, i.e., remove placements at higher levels."
   ]
  },
  {
   "cell_type": "code",
   "execution_count": 38,
   "metadata": {},
   "outputs": [],
   "source": [
    "inserted = []"
   ]
  },
  {
   "cell_type": "code",
   "execution_count": 39,
   "metadata": {},
   "outputs": [],
   "source": [
    "for idx, row in df.iterrows():\n",
    "    if row['rank'] in valid_ranks:\n",
    "        node = placed.find(row['node'])\n",
    "        leaf = TreeNode(name = idx, length = node.length + node.median)\n",
    "        # Set leaf\n",
    "        node.parent.append(leaf)\n",
    "        inserted.append(idx)"
   ]
  },
  {
   "cell_type": "markdown",
   "metadata": {},
   "source": [
    "Prune the tree to contain only insertions."
   ]
  },
  {
   "cell_type": "code",
   "execution_count": 40,
   "metadata": {},
   "outputs": [],
   "source": [
    "placed = placed.shear(inserted)"
   ]
  },
  {
   "cell_type": "code",
   "execution_count": 41,
   "metadata": {},
   "outputs": [],
   "source": [
    "placed.prune()"
   ]
  },
  {
   "cell_type": "code",
   "execution_count": 42,
   "metadata": {},
   "outputs": [
    {
     "data": {
      "text/plain": [
       "5380"
      ]
     },
     "execution_count": 42,
     "metadata": {},
     "output_type": "execute_result"
    }
   ],
   "source": [
    "placed.count(tips = True)"
   ]
  },
  {
   "cell_type": "markdown",
   "metadata": {},
   "source": [
    "Export tree"
   ]
  },
  {
   "cell_type": "code",
   "execution_count": 43,
   "metadata": {},
   "outputs": [
    {
     "data": {
      "text/plain": [
       "'place/fine_all.nwk'"
      ]
     },
     "execution_count": 43,
     "metadata": {},
     "output_type": "execute_result"
    }
   ],
   "source": [
    "placed.write('place/fine_all.nwk')"
   ]
  },
  {
   "cell_type": "markdown",
   "metadata": {},
   "source": [
    "Filter data."
   ]
  },
  {
   "cell_type": "code",
   "execution_count": 44,
   "metadata": {},
   "outputs": [],
   "source": [
    "df_ = df.loc[inserted].copy()"
   ]
  },
  {
   "cell_type": "markdown",
   "metadata": {},
   "source": [
    "Add metadata"
   ]
  },
  {
   "cell_type": "code",
   "execution_count": 45,
   "metadata": {},
   "outputs": [],
   "source": [
    "for key in keys:\n",
    "    df_[key] = df_['node'].map(dfm[key].to_dict())"
   ]
  },
  {
   "cell_type": "code",
   "execution_count": 46,
   "metadata": {},
   "outputs": [
    {
     "data": {
      "text/html": [
       "<div>\n",
       "<style scoped>\n",
       "    .dataframe tbody tr th:only-of-type {\n",
       "        vertical-align: middle;\n",
       "    }\n",
       "\n",
       "    .dataframe tbody tr th {\n",
       "        vertical-align: top;\n",
       "    }\n",
       "\n",
       "    .dataframe thead th {\n",
       "        text-align: right;\n",
       "    }\n",
       "</style>\n",
       "<table border=\"1\" class=\"dataframe\">\n",
       "  <thead>\n",
       "    <tr style=\"text-align: right;\">\n",
       "      <th></th>\n",
       "      <th>length</th>\n",
       "      <th>width</th>\n",
       "      <th>volume</th>\n",
       "      <th>surface</th>\n",
       "      <th>shape</th>\n",
       "      <th>species</th>\n",
       "      <th>genus</th>\n",
       "      <th>family</th>\n",
       "      <th>order</th>\n",
       "      <th>class</th>\n",
       "      <th>...</th>\n",
       "      <th>kingdom</th>\n",
       "      <th>rank</th>\n",
       "      <th>node</th>\n",
       "      <th>genome</th>\n",
       "      <th>gc</th>\n",
       "      <th>proteins</th>\n",
       "      <th>coding</th>\n",
       "      <th>rrnas</th>\n",
       "      <th>MILC</th>\n",
       "      <th>ENCprime</th>\n",
       "    </tr>\n",
       "    <tr>\n",
       "      <th>taxid</th>\n",
       "      <th></th>\n",
       "      <th></th>\n",
       "      <th></th>\n",
       "      <th></th>\n",
       "      <th></th>\n",
       "      <th></th>\n",
       "      <th></th>\n",
       "      <th></th>\n",
       "      <th></th>\n",
       "      <th></th>\n",
       "      <th></th>\n",
       "      <th></th>\n",
       "      <th></th>\n",
       "      <th></th>\n",
       "      <th></th>\n",
       "      <th></th>\n",
       "      <th></th>\n",
       "      <th></th>\n",
       "      <th></th>\n",
       "      <th></th>\n",
       "      <th></th>\n",
       "    </tr>\n",
       "  </thead>\n",
       "  <tbody>\n",
       "    <tr>\n",
       "      <th>taxid11</th>\n",
       "      <td>2.371708</td>\n",
       "      <td>1.060660</td>\n",
       "      <td>1.783187</td>\n",
       "      <td>7.902917</td>\n",
       "      <td>rod-shaped</td>\n",
       "      <td>Cellulomonas gilvus</td>\n",
       "      <td>Cellulomonas</td>\n",
       "      <td>Cellulomonadaceae</td>\n",
       "      <td>Micrococcales</td>\n",
       "      <td>Actinomycetia</td>\n",
       "      <td>...</td>\n",
       "      <td>Bacteria</td>\n",
       "      <td>species</td>\n",
       "      <td>G000218545</td>\n",
       "      <td>3526441.0</td>\n",
       "      <td>73.81</td>\n",
       "      <td>3206.0</td>\n",
       "      <td>91.772782</td>\n",
       "      <td>2.0</td>\n",
       "      <td>-0.262005</td>\n",
       "      <td>0.100836</td>\n",
       "    </tr>\n",
       "    <tr>\n",
       "      <th>taxid14</th>\n",
       "      <td>10.000000</td>\n",
       "      <td>0.489898</td>\n",
       "      <td>1.854174</td>\n",
       "      <td>15.390598</td>\n",
       "      <td>rod-shaped</td>\n",
       "      <td>Dictyoglomus thermophilum</td>\n",
       "      <td>Dictyoglomus</td>\n",
       "      <td>Dictyoglomaceae</td>\n",
       "      <td>Dictyoglomales</td>\n",
       "      <td>Dictyoglomia</td>\n",
       "      <td>...</td>\n",
       "      <td>Bacteria</td>\n",
       "      <td>species</td>\n",
       "      <td>G000020965</td>\n",
       "      <td>1959987.0</td>\n",
       "      <td>33.74</td>\n",
       "      <td>1890.0</td>\n",
       "      <td>93.777255</td>\n",
       "      <td>2.0</td>\n",
       "      <td>-0.064429</td>\n",
       "      <td>0.030205</td>\n",
       "    </tr>\n",
       "    <tr>\n",
       "      <th>taxid23</th>\n",
       "      <td>1.500000</td>\n",
       "      <td>0.700000</td>\n",
       "      <td>0.487470</td>\n",
       "      <td>3.298672</td>\n",
       "      <td>rod-shaped</td>\n",
       "      <td>Shewanella colwelliana</td>\n",
       "      <td>Shewanella</td>\n",
       "      <td>Shewanellaceae</td>\n",
       "      <td>Alteromonadales</td>\n",
       "      <td>Gammaproteobacteria</td>\n",
       "      <td>...</td>\n",
       "      <td>Bacteria</td>\n",
       "      <td>species</td>\n",
       "      <td>G000518705</td>\n",
       "      <td>4575622.0</td>\n",
       "      <td>45.39</td>\n",
       "      <td>4094.0</td>\n",
       "      <td>87.383136</td>\n",
       "      <td>0.0</td>\n",
       "      <td>-0.653363</td>\n",
       "      <td>0.248987</td>\n",
       "    </tr>\n",
       "    <tr>\n",
       "      <th>taxid104</th>\n",
       "      <td>1.039230</td>\n",
       "      <td>0.346410</td>\n",
       "      <td>0.087062</td>\n",
       "      <td>1.130973</td>\n",
       "      <td>ring-shaped</td>\n",
       "      <td>Cyclobacterium marinum</td>\n",
       "      <td>Cyclobacterium</td>\n",
       "      <td>Cyclobacteriaceae</td>\n",
       "      <td>Cytophagales</td>\n",
       "      <td>Cytophagia</td>\n",
       "      <td>...</td>\n",
       "      <td>Bacteria</td>\n",
       "      <td>species</td>\n",
       "      <td>G000222485</td>\n",
       "      <td>6221273.0</td>\n",
       "      <td>38.15</td>\n",
       "      <td>5114.0</td>\n",
       "      <td>87.121317</td>\n",
       "      <td>3.0</td>\n",
       "      <td>-0.200638</td>\n",
       "      <td>0.102722</td>\n",
       "    </tr>\n",
       "    <tr>\n",
       "      <th>taxid114</th>\n",
       "      <td>2.049390</td>\n",
       "      <td>2.049390</td>\n",
       "      <td>4.506844</td>\n",
       "      <td>13.194689</td>\n",
       "      <td>spherical</td>\n",
       "      <td>Gemmata obscuriglobus</td>\n",
       "      <td>Gemmata</td>\n",
       "      <td>Gemmataceae</td>\n",
       "      <td>Gemmatales</td>\n",
       "      <td>Planctomycetia</td>\n",
       "      <td>...</td>\n",
       "      <td>Bacteria</td>\n",
       "      <td>species</td>\n",
       "      <td>G000171775</td>\n",
       "      <td>9161841.0</td>\n",
       "      <td>67.18</td>\n",
       "      <td>8067.0</td>\n",
       "      <td>84.083188</td>\n",
       "      <td>3.0</td>\n",
       "      <td>-0.154188</td>\n",
       "      <td>0.056476</td>\n",
       "    </tr>\n",
       "  </tbody>\n",
       "</table>\n",
       "<p>5 rows × 21 columns</p>\n",
       "</div>"
      ],
      "text/plain": [
       "             length     width    volume    surface        shape  \\\n",
       "taxid                                                             \n",
       "taxid11    2.371708  1.060660  1.783187   7.902917   rod-shaped   \n",
       "taxid14   10.000000  0.489898  1.854174  15.390598   rod-shaped   \n",
       "taxid23    1.500000  0.700000  0.487470   3.298672   rod-shaped   \n",
       "taxid104   1.039230  0.346410  0.087062   1.130973  ring-shaped   \n",
       "taxid114   2.049390  2.049390  4.506844  13.194689    spherical   \n",
       "\n",
       "                            species           genus             family  \\\n",
       "taxid                                                                    \n",
       "taxid11         Cellulomonas gilvus    Cellulomonas  Cellulomonadaceae   \n",
       "taxid14   Dictyoglomus thermophilum    Dictyoglomus    Dictyoglomaceae   \n",
       "taxid23      Shewanella colwelliana      Shewanella     Shewanellaceae   \n",
       "taxid104     Cyclobacterium marinum  Cyclobacterium  Cyclobacteriaceae   \n",
       "taxid114      Gemmata obscuriglobus         Gemmata        Gemmataceae   \n",
       "\n",
       "                    order                class  ...   kingdom     rank  \\\n",
       "taxid                                           ...                      \n",
       "taxid11     Micrococcales        Actinomycetia  ...  Bacteria  species   \n",
       "taxid14    Dictyoglomales         Dictyoglomia  ...  Bacteria  species   \n",
       "taxid23   Alteromonadales  Gammaproteobacteria  ...  Bacteria  species   \n",
       "taxid104     Cytophagales           Cytophagia  ...  Bacteria  species   \n",
       "taxid114       Gemmatales       Planctomycetia  ...  Bacteria  species   \n",
       "\n",
       "                node     genome     gc  proteins     coding  rrnas      MILC  \\\n",
       "taxid                                                                          \n",
       "taxid11   G000218545  3526441.0  73.81    3206.0  91.772782    2.0 -0.262005   \n",
       "taxid14   G000020965  1959987.0  33.74    1890.0  93.777255    2.0 -0.064429   \n",
       "taxid23   G000518705  4575622.0  45.39    4094.0  87.383136    0.0 -0.653363   \n",
       "taxid104  G000222485  6221273.0  38.15    5114.0  87.121317    3.0 -0.200638   \n",
       "taxid114  G000171775  9161841.0  67.18    8067.0  84.083188    3.0 -0.154188   \n",
       "\n",
       "          ENCprime  \n",
       "taxid               \n",
       "taxid11   0.100836  \n",
       "taxid14   0.030205  \n",
       "taxid23   0.248987  \n",
       "taxid104  0.102722  \n",
       "taxid114  0.056476  \n",
       "\n",
       "[5 rows x 21 columns]"
      ]
     },
     "execution_count": 46,
     "metadata": {},
     "output_type": "execute_result"
    }
   ],
   "source": [
    "df_.head()"
   ]
  },
  {
   "cell_type": "code",
   "execution_count": 47,
   "metadata": {},
   "outputs": [
    {
     "data": {
      "text/plain": [
       "(5380, 21)"
      ]
     },
     "execution_count": 47,
     "metadata": {},
     "output_type": "execute_result"
    }
   ],
   "source": [
    "df_.shape"
   ]
  },
  {
   "cell_type": "code",
   "execution_count": 48,
   "metadata": {},
   "outputs": [
    {
     "name": "stdout",
     "output_type": "stream",
     "text": [
      "species 1491\n",
      "genus 3085\n",
      "family 804\n",
      "order 0\n",
      "class 0\n",
      "phylum 0\n"
     ]
    }
   ],
   "source": [
    "#Statistics of placements\n",
    "for rank in ranks:\n",
    "    print(rank, df_.query(f'rank == \"{rank}\"').shape[0])"
   ]
  },
  {
   "cell_type": "markdown",
   "metadata": {},
   "source": [
    "Add dumb hash colum to calculate a phylogenetic signal"
   ]
  },
  {
   "cell_type": "code",
   "execution_count": 49,
   "metadata": {},
   "outputs": [],
   "source": [
    "def dumbHash(name):\n",
    "    h = (hash(name) >> 55) / 100\n",
    "    if h < 0:\n",
    "        return -h\n",
    "    else:\n",
    "        return h"
   ]
  },
  {
   "cell_type": "code",
   "execution_count": 50,
   "metadata": {},
   "outputs": [],
   "source": [
    "df_['hash'] = df_['species'].apply(dumbHash)"
   ]
  },
  {
   "cell_type": "markdown",
   "metadata": {},
   "source": [
    "Export data"
   ]
  },
  {
   "cell_type": "code",
   "execution_count": 51,
   "metadata": {},
   "outputs": [],
   "source": [
    "df_.to_csv('place/fine_all.tsv', sep = '\\t')"
   ]
  },
  {
   "cell_type": "markdown",
   "metadata": {},
   "source": [
    "Percentage of entries inferred by collapsing and averaging"
   ]
  },
  {
   "cell_type": "code",
   "execution_count": 52,
   "metadata": {},
   "outputs": [
    {
     "data": {
      "text/plain": [
       "63.048327137546465"
      ]
     },
     "execution_count": 52,
     "metadata": {},
     "output_type": "execute_result"
    }
   ],
   "source": [
    "(df_[df_['node'].str.contains('N')].shape[0] / df_.shape[0]) * 100"
   ]
  },
  {
   "cell_type": "markdown",
   "metadata": {},
   "source": [
    "### Just species level"
   ]
  },
  {
   "cell_type": "code",
   "execution_count": 65,
   "metadata": {},
   "outputs": [],
   "source": [
    "placed = tree.copy()\n",
    "inserted = []\n",
    "for idx, row in df.query('rank == \"species\"').iterrows():\n",
    "    node = placed.find(row['node'])\n",
    "    leaf = TreeNode(name=idx, length=node.length + node.median)\n",
    "    node.parent.append(leaf)\n",
    "    inserted.append(idx)\n",
    "placed = placed.shear(inserted)\n",
    "placed.prune()\n",
    "placed.write('place/species_all.nwk')\n",
    "df_ = df.loc[inserted].copy()\n",
    "for key in keys:\n",
    "    df_[key] = df_['node'].map(dfm[key].to_dict())\n",
    "df_.to_csv('place/species_all.tsv', sep='\\t')"
   ]
  },
  {
   "cell_type": "code",
   "execution_count": 66,
   "metadata": {},
   "outputs": [
    {
     "data": {
      "text/plain": [
       "8.58484238765929"
      ]
     },
     "execution_count": 66,
     "metadata": {},
     "output_type": "execute_result"
    }
   ],
   "source": [
    "# Percentage of entries inferred by ancestral state reconstruction\n",
    "(df_[df_['node'].str.contains('N')].shape[0] / df_.shape[0]) * 100"
   ]
  },
  {
   "cell_type": "code",
   "execution_count": 67,
   "metadata": {},
   "outputs": [
    {
     "data": {
      "text/plain": [
       "(1491, 21)"
      ]
     },
     "execution_count": 67,
     "metadata": {},
     "output_type": "execute_result"
    }
   ],
   "source": [
    "df_.shape"
   ]
  },
  {
   "cell_type": "code",
   "execution_count": 68,
   "metadata": {},
   "outputs": [
    {
     "data": {
      "text/plain": [
       "128"
      ]
     },
     "execution_count": 68,
     "metadata": {},
     "output_type": "execute_result"
    }
   ],
   "source": [
    "df_[df_['node'].str.contains('N')].shape[0]"
   ]
  },
  {
   "cell_type": "markdown",
   "metadata": {},
   "source": [
    "### Higher ranks"
   ]
  },
  {
   "cell_type": "code",
   "execution_count": 69,
   "metadata": {},
   "outputs": [
    {
     "name": "stdout",
     "output_type": "stream",
     "text": [
      "genus: 1143\n",
      "family: 342\n",
      "order: 141\n",
      "class: 60\n",
      "phylum: 27\n"
     ]
    }
   ],
   "source": [
    "for rank in 'genus', 'family', 'order', 'class', 'phylum':\n",
    "    df = pd.read_table(f'../preprocess/annot/{rank}_all.tsv', index_col=0)\n",
    "    df.index = 'txid' + df.index.astype(str)\n",
    "    df['rank'] = None\n",
    "    df['node'] = None\n",
    "    for idx, row in df.iterrows():\n",
    "        taxa = set(dft[dft[rank] == row[rank]].index)\n",
    "        if not taxa:\n",
    "            continue\n",
    "        node = lca2(tree, taxa)\n",
    "        if node.taxa.difference(taxa):\n",
    "            continue\n",
    "        df.at[idx, 'node'] = node.name\n",
    "        df.at[idx, 'rank'] = rank\n",
    "    df = df.dropna(subset=['node'])\n",
    "    placed = tree.copy()\n",
    "    inserted = []\n",
    "    for idx, row in df.iterrows():\n",
    "        node = placed.find(row['node'])\n",
    "        leaf = TreeNode(name=idx, length=node.length + node.median)\n",
    "        node.parent.append(leaf)\n",
    "        inserted.append(idx)\n",
    "    placed = placed.shear(inserted)\n",
    "    placed.prune()\n",
    "    placed.write(f'place/{rank}_all.nwk')\n",
    "    df = df.loc[inserted]\n",
    "    for key in keys:\n",
    "        df[key] = df['node'].map(dfm[key].to_dict())\n",
    "    df.to_csv(f'place/{rank}_all.tsv', sep='\\t')\n",
    "    print(f'{rank}: {df.shape[0]}')"
   ]
  },
  {
   "cell_type": "code",
   "execution_count": null,
   "metadata": {},
   "outputs": [],
   "source": []
  },
  {
   "cell_type": "code",
   "execution_count": null,
   "metadata": {},
   "outputs": [],
   "source": []
  },
  {
   "cell_type": "code",
   "execution_count": null,
   "metadata": {},
   "outputs": [],
   "source": []
  },
  {
   "cell_type": "code",
   "execution_count": null,
   "metadata": {},
   "outputs": [],
   "source": []
  },
  {
   "cell_type": "code",
   "execution_count": null,
   "metadata": {},
   "outputs": [],
   "source": []
  },
  {
   "cell_type": "code",
   "execution_count": null,
   "metadata": {},
   "outputs": [],
   "source": []
  },
  {
   "cell_type": "code",
   "execution_count": null,
   "metadata": {},
   "outputs": [],
   "source": []
  },
  {
   "cell_type": "code",
   "execution_count": null,
   "metadata": {},
   "outputs": [],
   "source": []
  }
 ],
 "metadata": {
  "kernelspec": {
   "display_name": "Python 3",
   "language": "python",
   "name": "python3"
  },
  "language_info": {
   "codemirror_mode": {
    "name": "ipython",
    "version": 3
   },
   "file_extension": ".py",
   "mimetype": "text/x-python",
   "name": "python",
   "nbconvert_exporter": "python",
   "pygments_lexer": "ipython3",
   "version": "3.8.5"
  }
 },
 "nbformat": 4,
 "nbformat_minor": 4
}
