{
 "cells": [
  {
   "cell_type": "markdown",
   "metadata": {},
   "source": [
    "# Match cell size data (cyanobacteria) with phylogeny"
   ]
  },
  {
   "cell_type": "markdown",
   "metadata": {},
   "source": [
    "### Preparation"
   ]
  },
  {
   "cell_type": "code",
   "execution_count": 1,
   "metadata": {},
   "outputs": [],
   "source": [
    "import numpy as np\n",
    "import pandas as pd"
   ]
  },
  {
   "cell_type": "code",
   "execution_count": 2,
   "metadata": {},
   "outputs": [],
   "source": [
    "from skbio import TreeNode"
   ]
  },
  {
   "cell_type": "markdown",
   "metadata": {},
   "source": [
    "### Cell size data"
   ]
  },
  {
   "cell_type": "code",
   "execution_count": 3,
   "metadata": {},
   "outputs": [
    {
     "data": {
      "text/html": [
       "<div>\n",
       "<style scoped>\n",
       "    .dataframe tbody tr th:only-of-type {\n",
       "        vertical-align: middle;\n",
       "    }\n",
       "\n",
       "    .dataframe tbody tr th {\n",
       "        vertical-align: top;\n",
       "    }\n",
       "\n",
       "    .dataframe thead th {\n",
       "        text-align: right;\n",
       "    }\n",
       "</style>\n",
       "<table border=\"1\" class=\"dataframe\">\n",
       "  <thead>\n",
       "    <tr style=\"text-align: right;\">\n",
       "      <th></th>\n",
       "      <th>length</th>\n",
       "      <th>width</th>\n",
       "      <th>volume</th>\n",
       "      <th>surface</th>\n",
       "      <th>shape</th>\n",
       "      <th>species</th>\n",
       "      <th>genus</th>\n",
       "      <th>family</th>\n",
       "      <th>order</th>\n",
       "      <th>class</th>\n",
       "      <th>phylum</th>\n",
       "      <th>superkingdom</th>\n",
       "    </tr>\n",
       "    <tr>\n",
       "      <th>taxid</th>\n",
       "      <th></th>\n",
       "      <th></th>\n",
       "      <th></th>\n",
       "      <th></th>\n",
       "      <th></th>\n",
       "      <th></th>\n",
       "      <th></th>\n",
       "      <th></th>\n",
       "      <th></th>\n",
       "      <th></th>\n",
       "      <th></th>\n",
       "      <th></th>\n",
       "    </tr>\n",
       "  </thead>\n",
       "  <tbody>\n",
       "    <tr>\n",
       "      <th>1126</th>\n",
       "      <td>3.240370</td>\n",
       "      <td>3.240370</td>\n",
       "      <td>17.814866</td>\n",
       "      <td>32.986723</td>\n",
       "      <td>sphere/spheroid</td>\n",
       "      <td>Microcystis aeruginosa</td>\n",
       "      <td>Microcystis</td>\n",
       "      <td>Microcystaceae</td>\n",
       "      <td>Chroococcales</td>\n",
       "      <td>NaN</td>\n",
       "      <td>Cyanobacteria</td>\n",
       "      <td>Bacteria</td>\n",
       "    </tr>\n",
       "    <tr>\n",
       "      <th>1129</th>\n",
       "      <td>1.309547</td>\n",
       "      <td>1.309547</td>\n",
       "      <td>1.175878</td>\n",
       "      <td>5.387561</td>\n",
       "      <td>sphere/spheroid</td>\n",
       "      <td>NaN</td>\n",
       "      <td>Synechococcus</td>\n",
       "      <td>Synechococcaceae</td>\n",
       "      <td>Synechococcales</td>\n",
       "      <td>NaN</td>\n",
       "      <td>Cyanobacteria</td>\n",
       "      <td>Bacteria</td>\n",
       "    </tr>\n",
       "    <tr>\n",
       "      <th>1142</th>\n",
       "      <td>2.959481</td>\n",
       "      <td>2.959481</td>\n",
       "      <td>13.572041</td>\n",
       "      <td>27.515722</td>\n",
       "      <td>sphere/spheroid</td>\n",
       "      <td>NaN</td>\n",
       "      <td>Synechocystis</td>\n",
       "      <td>Merismopediaceae</td>\n",
       "      <td>Synechococcales</td>\n",
       "      <td>NaN</td>\n",
       "      <td>Cyanobacteria</td>\n",
       "      <td>Bacteria</td>\n",
       "    </tr>\n",
       "    <tr>\n",
       "      <th>1144</th>\n",
       "      <td>3.741657</td>\n",
       "      <td>3.741657</td>\n",
       "      <td>27.427781</td>\n",
       "      <td>43.982297</td>\n",
       "      <td>sphere/spheroid</td>\n",
       "      <td>Synechocystis sp. PCC 6701</td>\n",
       "      <td>Geminocystis</td>\n",
       "      <td>Chroococcaceae</td>\n",
       "      <td>Chroococcales</td>\n",
       "      <td>NaN</td>\n",
       "      <td>Cyanobacteria</td>\n",
       "      <td>Bacteria</td>\n",
       "    </tr>\n",
       "    <tr>\n",
       "      <th>1148</th>\n",
       "      <td>2.397916</td>\n",
       "      <td>2.397916</td>\n",
       "      <td>7.219388</td>\n",
       "      <td>18.064158</td>\n",
       "      <td>sphere/spheroid</td>\n",
       "      <td>Synechocystis sp. PCC 6803</td>\n",
       "      <td>Synechocystis</td>\n",
       "      <td>Merismopediaceae</td>\n",
       "      <td>Synechococcales</td>\n",
       "      <td>NaN</td>\n",
       "      <td>Cyanobacteria</td>\n",
       "      <td>Bacteria</td>\n",
       "    </tr>\n",
       "  </tbody>\n",
       "</table>\n",
       "</div>"
      ],
      "text/plain": [
       "         length     width     volume    surface            shape  \\\n",
       "taxid                                                              \n",
       "1126   3.240370  3.240370  17.814866  32.986723  sphere/spheroid   \n",
       "1129   1.309547  1.309547   1.175878   5.387561  sphere/spheroid   \n",
       "1142   2.959481  2.959481  13.572041  27.515722  sphere/spheroid   \n",
       "1144   3.741657  3.741657  27.427781  43.982297  sphere/spheroid   \n",
       "1148   2.397916  2.397916   7.219388  18.064158  sphere/spheroid   \n",
       "\n",
       "                          species          genus            family  \\\n",
       "taxid                                                                \n",
       "1126       Microcystis aeruginosa    Microcystis    Microcystaceae   \n",
       "1129                          NaN  Synechococcus  Synechococcaceae   \n",
       "1142                          NaN  Synechocystis  Merismopediaceae   \n",
       "1144   Synechocystis sp. PCC 6701   Geminocystis    Chroococcaceae   \n",
       "1148   Synechocystis sp. PCC 6803  Synechocystis  Merismopediaceae   \n",
       "\n",
       "                 order class         phylum superkingdom  \n",
       "taxid                                                     \n",
       "1126     Chroococcales   NaN  Cyanobacteria     Bacteria  \n",
       "1129   Synechococcales   NaN  Cyanobacteria     Bacteria  \n",
       "1142   Synechococcales   NaN  Cyanobacteria     Bacteria  \n",
       "1144     Chroococcales   NaN  Cyanobacteria     Bacteria  \n",
       "1148   Synechococcales   NaN  Cyanobacteria     Bacteria  "
      ]
     },
     "execution_count": 3,
     "metadata": {},
     "output_type": "execute_result"
    }
   ],
   "source": [
    "df = pd.read_table('../preprocess/annot/species_cyanobacteria.tsv', index_col=0)\n",
    "df.head()"
   ]
  },
  {
   "cell_type": "code",
   "execution_count": 4,
   "metadata": {},
   "outputs": [
    {
     "data": {
      "text/plain": [
       "(98, 12)"
      ]
     },
     "execution_count": 4,
     "metadata": {},
     "output_type": "execute_result"
    }
   ],
   "source": [
    "df.shape"
   ]
  },
  {
   "cell_type": "code",
   "execution_count": 5,
   "metadata": {},
   "outputs": [],
   "source": [
    "df.index = 'taxid' + df.index.astype(str)"
   ]
  },
  {
   "cell_type": "markdown",
   "metadata": {},
   "source": [
    "### Reference taxa\n",
    "\n",
    "Taxonomy (tax2tree-curated)"
   ]
  },
  {
   "cell_type": "code",
   "execution_count": 6,
   "metadata": {},
   "outputs": [
    {
     "data": {
      "text/html": [
       "<div>\n",
       "<style scoped>\n",
       "    .dataframe tbody tr th:only-of-type {\n",
       "        vertical-align: middle;\n",
       "    }\n",
       "\n",
       "    .dataframe tbody tr th {\n",
       "        vertical-align: top;\n",
       "    }\n",
       "\n",
       "    .dataframe thead th {\n",
       "        text-align: right;\n",
       "    }\n",
       "</style>\n",
       "<table border=\"1\" class=\"dataframe\">\n",
       "  <thead>\n",
       "    <tr style=\"text-align: right;\">\n",
       "      <th></th>\n",
       "      <th>kingdom</th>\n",
       "      <th>phylum</th>\n",
       "      <th>class</th>\n",
       "      <th>order</th>\n",
       "      <th>family</th>\n",
       "      <th>genus</th>\n",
       "      <th>species</th>\n",
       "    </tr>\n",
       "  </thead>\n",
       "  <tbody>\n",
       "    <tr>\n",
       "      <th>G000005825</th>\n",
       "      <td>Bacteria</td>\n",
       "      <td>Firmicutes_1</td>\n",
       "      <td>Bacilli_1</td>\n",
       "      <td>Bacillales_1</td>\n",
       "      <td>Bacillaceae_3</td>\n",
       "      <td>Alkalihalobacillus</td>\n",
       "      <td>Alkalihalobacillus pseudofirmus</td>\n",
       "    </tr>\n",
       "    <tr>\n",
       "      <th>G000006175</th>\n",
       "      <td>Archaea</td>\n",
       "      <td>Euryarchaeota_2</td>\n",
       "      <td>Methanococci</td>\n",
       "      <td>Methanococcales</td>\n",
       "      <td>Methanococcaceae</td>\n",
       "      <td>Methanococcus</td>\n",
       "      <td>Methanococcus voltae</td>\n",
       "    </tr>\n",
       "    <tr>\n",
       "      <th>G000006605</th>\n",
       "      <td>Bacteria</td>\n",
       "      <td>Actinobacteria</td>\n",
       "      <td>Actinomycetia</td>\n",
       "      <td>Corynebacteriales</td>\n",
       "      <td>Corynebacteriaceae</td>\n",
       "      <td>Corynebacterium</td>\n",
       "      <td>Corynebacterium falsenii</td>\n",
       "    </tr>\n",
       "    <tr>\n",
       "      <th>G000006725</th>\n",
       "      <td>Bacteria</td>\n",
       "      <td>Proteobacteria_1</td>\n",
       "      <td>Gammaproteobacteria</td>\n",
       "      <td>Xanthomonadales</td>\n",
       "      <td>Xanthomonadaceae</td>\n",
       "      <td>Xylella</td>\n",
       "      <td>Xylella fastidiosa</td>\n",
       "    </tr>\n",
       "    <tr>\n",
       "      <th>G000006745</th>\n",
       "      <td>Bacteria</td>\n",
       "      <td>Proteobacteria_1</td>\n",
       "      <td>Gammaproteobacteria</td>\n",
       "      <td>Vibrionales</td>\n",
       "      <td>Vibrionaceae</td>\n",
       "      <td>NaN</td>\n",
       "      <td>Vibrio cholerae</td>\n",
       "    </tr>\n",
       "  </tbody>\n",
       "</table>\n",
       "</div>"
      ],
      "text/plain": [
       "             kingdom            phylum                class  \\\n",
       "G000005825  Bacteria      Firmicutes_1            Bacilli_1   \n",
       "G000006175   Archaea   Euryarchaeota_2         Methanococci   \n",
       "G000006605  Bacteria    Actinobacteria        Actinomycetia   \n",
       "G000006725  Bacteria  Proteobacteria_1  Gammaproteobacteria   \n",
       "G000006745  Bacteria  Proteobacteria_1  Gammaproteobacteria   \n",
       "\n",
       "                        order              family               genus  \\\n",
       "G000005825       Bacillales_1       Bacillaceae_3  Alkalihalobacillus   \n",
       "G000006175    Methanococcales    Methanococcaceae       Methanococcus   \n",
       "G000006605  Corynebacteriales  Corynebacteriaceae     Corynebacterium   \n",
       "G000006725    Xanthomonadales    Xanthomonadaceae             Xylella   \n",
       "G000006745        Vibrionales        Vibrionaceae                 NaN   \n",
       "\n",
       "                                    species  \n",
       "G000005825  Alkalihalobacillus pseudofirmus  \n",
       "G000006175             Methanococcus voltae  \n",
       "G000006605         Corynebacterium falsenii  \n",
       "G000006725               Xylella fastidiosa  \n",
       "G000006745                  Vibrio cholerae  "
      ]
     },
     "execution_count": 6,
     "metadata": {},
     "output_type": "execute_result"
    }
   ],
   "source": [
    "dft = pd.read_table('tax2tree/filled_ranks.tsv', index_col=0)\n",
    "dft.head()"
   ]
  },
  {
   "cell_type": "code",
   "execution_count": 7,
   "metadata": {},
   "outputs": [
    {
     "data": {
      "text/plain": [
       "10575"
      ]
     },
     "execution_count": 7,
     "metadata": {},
     "output_type": "execute_result"
    }
   ],
   "source": [
    "dft.shape[0]"
   ]
  },
  {
   "cell_type": "markdown",
   "metadata": {},
   "source": [
    "Genome metadata"
   ]
  },
  {
   "cell_type": "code",
   "execution_count": 8,
   "metadata": {},
   "outputs": [
    {
     "data": {
      "text/html": [
       "<div>\n",
       "<style scoped>\n",
       "    .dataframe tbody tr th:only-of-type {\n",
       "        vertical-align: middle;\n",
       "    }\n",
       "\n",
       "    .dataframe tbody tr th {\n",
       "        vertical-align: top;\n",
       "    }\n",
       "\n",
       "    .dataframe thead th {\n",
       "        text-align: right;\n",
       "    }\n",
       "</style>\n",
       "<table border=\"1\" class=\"dataframe\">\n",
       "  <thead>\n",
       "    <tr style=\"text-align: right;\">\n",
       "      <th></th>\n",
       "      <th>scope</th>\n",
       "      <th>assembly_level</th>\n",
       "      <th>total_length</th>\n",
       "      <th>gc</th>\n",
       "      <th>proteins</th>\n",
       "      <th>protein_length</th>\n",
       "      <th>coding_density</th>\n",
       "      <th>completeness</th>\n",
       "      <th>contamination</th>\n",
       "      <th>strain_heterogeneity</th>\n",
       "      <th>16s_copies</th>\n",
       "    </tr>\n",
       "    <tr>\n",
       "      <th>#genome</th>\n",
       "      <th></th>\n",
       "      <th></th>\n",
       "      <th></th>\n",
       "      <th></th>\n",
       "      <th></th>\n",
       "      <th></th>\n",
       "      <th></th>\n",
       "      <th></th>\n",
       "      <th></th>\n",
       "      <th></th>\n",
       "      <th></th>\n",
       "    </tr>\n",
       "  </thead>\n",
       "  <tbody>\n",
       "    <tr>\n",
       "      <th>G000005825</th>\n",
       "      <td>Monoisolate</td>\n",
       "      <td>Complete Genome</td>\n",
       "      <td>4249248</td>\n",
       "      <td>39.86</td>\n",
       "      <td>4260</td>\n",
       "      <td>1228222</td>\n",
       "      <td>85.144124</td>\n",
       "      <td>98.68</td>\n",
       "      <td>1.32</td>\n",
       "      <td>0.0</td>\n",
       "      <td>7</td>\n",
       "    </tr>\n",
       "    <tr>\n",
       "      <th>G000006175</th>\n",
       "      <td>Multispecies</td>\n",
       "      <td>Complete Genome</td>\n",
       "      <td>1936387</td>\n",
       "      <td>28.59</td>\n",
       "      <td>1727</td>\n",
       "      <td>526927</td>\n",
       "      <td>80.167033</td>\n",
       "      <td>99.05</td>\n",
       "      <td>0.00</td>\n",
       "      <td>0.0</td>\n",
       "      <td>2</td>\n",
       "    </tr>\n",
       "    <tr>\n",
       "      <th>G000006605</th>\n",
       "      <td>Monoisolate</td>\n",
       "      <td>Complete Genome</td>\n",
       "      <td>2476822</td>\n",
       "      <td>61.35</td>\n",
       "      <td>2137</td>\n",
       "      <td>751284</td>\n",
       "      <td>89.378688</td>\n",
       "      <td>100.00</td>\n",
       "      <td>0.68</td>\n",
       "      <td>0.0</td>\n",
       "      <td>3</td>\n",
       "    </tr>\n",
       "    <tr>\n",
       "      <th>G000006725</th>\n",
       "      <td>Monoisolate</td>\n",
       "      <td>Complete Genome</td>\n",
       "      <td>2731750</td>\n",
       "      <td>52.62</td>\n",
       "      <td>2664</td>\n",
       "      <td>765931</td>\n",
       "      <td>82.592990</td>\n",
       "      <td>99.59</td>\n",
       "      <td>0.18</td>\n",
       "      <td>0.0</td>\n",
       "      <td>2</td>\n",
       "    </tr>\n",
       "    <tr>\n",
       "      <th>G000006745</th>\n",
       "      <td>Monoisolate</td>\n",
       "      <td>Complete Genome</td>\n",
       "      <td>4033464</td>\n",
       "      <td>47.49</td>\n",
       "      <td>3594</td>\n",
       "      <td>1184587</td>\n",
       "      <td>86.533164</td>\n",
       "      <td>99.86</td>\n",
       "      <td>0.03</td>\n",
       "      <td>0.0</td>\n",
       "      <td>8</td>\n",
       "    </tr>\n",
       "  </tbody>\n",
       "</table>\n",
       "</div>"
      ],
      "text/plain": [
       "                   scope   assembly_level  total_length     gc  proteins  \\\n",
       "#genome                                                                    \n",
       "G000005825   Monoisolate  Complete Genome       4249248  39.86      4260   \n",
       "G000006175  Multispecies  Complete Genome       1936387  28.59      1727   \n",
       "G000006605   Monoisolate  Complete Genome       2476822  61.35      2137   \n",
       "G000006725   Monoisolate  Complete Genome       2731750  52.62      2664   \n",
       "G000006745   Monoisolate  Complete Genome       4033464  47.49      3594   \n",
       "\n",
       "            protein_length  coding_density  completeness  contamination  \\\n",
       "#genome                                                                   \n",
       "G000005825         1228222       85.144124         98.68           1.32   \n",
       "G000006175          526927       80.167033         99.05           0.00   \n",
       "G000006605          751284       89.378688        100.00           0.68   \n",
       "G000006725          765931       82.592990         99.59           0.18   \n",
       "G000006745         1184587       86.533164         99.86           0.03   \n",
       "\n",
       "            strain_heterogeneity  16s_copies  \n",
       "#genome                                       \n",
       "G000005825                   0.0           7  \n",
       "G000006175                   0.0           2  \n",
       "G000006605                   0.0           3  \n",
       "G000006725                   0.0           2  \n",
       "G000006745                   0.0           8  "
      ]
     },
     "execution_count": 8,
     "metadata": {},
     "output_type": "execute_result"
    }
   ],
   "source": [
    "dfg = pd.read_table('genome.tsv', index_col=0)\n",
    "dfg.head()"
   ]
  },
  {
   "cell_type": "code",
   "execution_count": 9,
   "metadata": {},
   "outputs": [],
   "source": [
    "dfg = dfg[['total_length', 'gc', 'proteins', 'coding_density', '16s_copies']]"
   ]
  },
  {
   "cell_type": "code",
   "execution_count": 10,
   "metadata": {},
   "outputs": [],
   "source": [
    "dfg.columns = ['genome', 'gc', 'proteins', 'coding', 'rrnas']"
   ]
  },
  {
   "cell_type": "markdown",
   "metadata": {},
   "source": [
    "### Reference phylogeny"
   ]
  },
  {
   "cell_type": "code",
   "execution_count": 11,
   "metadata": {},
   "outputs": [],
   "source": [
    "tree = TreeNode.read('tree.nwk')"
   ]
  },
  {
   "cell_type": "code",
   "execution_count": 12,
   "metadata": {},
   "outputs": [
    {
     "data": {
      "text/plain": [
       "10575"
      ]
     },
     "execution_count": 12,
     "metadata": {},
     "output_type": "execute_result"
    }
   ],
   "source": [
    "tree.count(tips=True)"
   ]
  },
  {
   "cell_type": "markdown",
   "metadata": {},
   "source": [
    "Calculate median node depths"
   ]
  },
  {
   "cell_type": "code",
   "execution_count": 13,
   "metadata": {},
   "outputs": [],
   "source": [
    "for node in tree.postorder(include_self=True):\n",
    "    if node.length is None:\n",
    "        node.length = 0.0\n",
    "    if node.is_tip():\n",
    "        node.taxa = set([node.name])\n",
    "        node.depths = [0.0]\n",
    "        node.median = 0.0\n",
    "    else:\n",
    "        node.taxa = set().union(*[x.taxa for x in node.children])\n",
    "        node.depths = [y + x.length for x in node.children for y in x.depths]\n",
    "        node.median = np.median(node.depths)"
   ]
  },
  {
   "cell_type": "markdown",
   "metadata": {},
   "source": [
    "Calculate node properties, i.e., match tips and internal nodes"
   ]
  },
  {
   "cell_type": "code",
   "execution_count": 14,
   "metadata": {},
   "outputs": [],
   "source": [
    "keys = ['genome', 'gc', 'proteins', 'coding', 'rrnas']"
   ]
  },
  {
   "cell_type": "code",
   "execution_count": 15,
   "metadata": {},
   "outputs": [],
   "source": [
    "meta_ = []"
   ]
  },
  {
   "cell_type": "code",
   "execution_count": 16,
   "metadata": {},
   "outputs": [],
   "source": [
    "for node in tree.postorder(include_self=True):\n",
    "    meta_.append([node.name])\n",
    "    if node.is_tip():\n",
    "        row = dfg.loc[node.name]\n",
    "        # Keys of row\n",
    "        for key in keys:\n",
    "            val = row[key]\n",
    "            setattr(node, key, [val])\n",
    "            meta_[-1].append(val)\n",
    "    else:\n",
    "        for key in keys:\n",
    "            vals = [y + x.length for x in node.children for y in getattr(x, key)] # why val is times x.length?\n",
    "            setattr(node, key, vals)\n",
    "            meta_[-1].append(np.mean(vals))"
   ]
  },
  {
   "cell_type": "code",
   "execution_count": 17,
   "metadata": {},
   "outputs": [],
   "source": [
    "# Create new data frame\n",
    "dfm = pd.DataFrame(meta_, columns = ['ID'] + keys).set_index('ID')"
   ]
  },
  {
   "cell_type": "code",
   "execution_count": 18,
   "metadata": {},
   "outputs": [
    {
     "data": {
      "text/plain": [
       "(20603, 5)"
      ]
     },
     "execution_count": 18,
     "metadata": {},
     "output_type": "execute_result"
    }
   ],
   "source": [
    "dfm.shape"
   ]
  },
  {
   "cell_type": "code",
   "execution_count": 19,
   "metadata": {},
   "outputs": [],
   "source": [
    "dfm = pd.concat([dfg[keys], dfm], axis=0)"
   ]
  },
  {
   "cell_type": "code",
   "execution_count": 20,
   "metadata": {},
   "outputs": [
    {
     "data": {
      "text/html": [
       "<div>\n",
       "<style scoped>\n",
       "    .dataframe tbody tr th:only-of-type {\n",
       "        vertical-align: middle;\n",
       "    }\n",
       "\n",
       "    .dataframe tbody tr th {\n",
       "        vertical-align: top;\n",
       "    }\n",
       "\n",
       "    .dataframe thead th {\n",
       "        text-align: right;\n",
       "    }\n",
       "</style>\n",
       "<table border=\"1\" class=\"dataframe\">\n",
       "  <thead>\n",
       "    <tr style=\"text-align: right;\">\n",
       "      <th></th>\n",
       "      <th>genome</th>\n",
       "      <th>gc</th>\n",
       "      <th>proteins</th>\n",
       "      <th>coding</th>\n",
       "      <th>rrnas</th>\n",
       "    </tr>\n",
       "  </thead>\n",
       "  <tbody>\n",
       "    <tr>\n",
       "      <th>G000005825</th>\n",
       "      <td>4249248.0</td>\n",
       "      <td>39.86</td>\n",
       "      <td>4260.0</td>\n",
       "      <td>85.144124</td>\n",
       "      <td>7.0</td>\n",
       "    </tr>\n",
       "    <tr>\n",
       "      <th>G000006175</th>\n",
       "      <td>1936387.0</td>\n",
       "      <td>28.59</td>\n",
       "      <td>1727.0</td>\n",
       "      <td>80.167033</td>\n",
       "      <td>2.0</td>\n",
       "    </tr>\n",
       "    <tr>\n",
       "      <th>G000006605</th>\n",
       "      <td>2476822.0</td>\n",
       "      <td>61.35</td>\n",
       "      <td>2137.0</td>\n",
       "      <td>89.378688</td>\n",
       "      <td>3.0</td>\n",
       "    </tr>\n",
       "    <tr>\n",
       "      <th>G000006725</th>\n",
       "      <td>2731750.0</td>\n",
       "      <td>52.62</td>\n",
       "      <td>2664.0</td>\n",
       "      <td>82.592990</td>\n",
       "      <td>2.0</td>\n",
       "    </tr>\n",
       "    <tr>\n",
       "      <th>G000006745</th>\n",
       "      <td>4033464.0</td>\n",
       "      <td>47.49</td>\n",
       "      <td>3594.0</td>\n",
       "      <td>86.533164</td>\n",
       "      <td>8.0</td>\n",
       "    </tr>\n",
       "  </tbody>\n",
       "</table>\n",
       "</div>"
      ],
      "text/plain": [
       "               genome     gc  proteins     coding  rrnas\n",
       "G000005825  4249248.0  39.86    4260.0  85.144124    7.0\n",
       "G000006175  1936387.0  28.59    1727.0  80.167033    2.0\n",
       "G000006605  2476822.0  61.35    2137.0  89.378688    3.0\n",
       "G000006725  2731750.0  52.62    2664.0  82.592990    2.0\n",
       "G000006745  4033464.0  47.49    3594.0  86.533164    8.0"
      ]
     },
     "execution_count": 20,
     "metadata": {},
     "output_type": "execute_result"
    }
   ],
   "source": [
    "dfm.head()"
   ]
  },
  {
   "cell_type": "code",
   "execution_count": 21,
   "metadata": {},
   "outputs": [
    {
     "data": {
      "text/plain": [
       "(31178, 5)"
      ]
     },
     "execution_count": 21,
     "metadata": {},
     "output_type": "execute_result"
    }
   ],
   "source": [
    "dfm.shape"
   ]
  },
  {
   "cell_type": "markdown",
   "metadata": {},
   "source": [
    "### Analysis - fine resolution (species)"
   ]
  },
  {
   "cell_type": "code",
   "execution_count": 22,
   "metadata": {},
   "outputs": [
    {
     "data": {
      "text/plain": [
       "['species', 'genus', 'family', 'order', 'class', 'phylum']"
      ]
     },
     "execution_count": 22,
     "metadata": {},
     "output_type": "execute_result"
    }
   ],
   "source": [
    "ranks = dft.columns[::-1].tolist()[:-1]\n",
    "ranks"
   ]
  },
  {
   "cell_type": "code",
   "execution_count": 23,
   "metadata": {},
   "outputs": [],
   "source": [
    "df['rank'] = None\n",
    "df['node'] = None"
   ]
  },
  {
   "cell_type": "markdown",
   "metadata": {},
   "source": [
    "Get lowest common ancestor"
   ]
  },
  {
   "cell_type": "code",
   "execution_count": 24,
   "metadata": {},
   "outputs": [],
   "source": [
    "def lca2(tree, taxa):\n",
    "    for child in tree.children:\n",
    "        if taxa.issubset(child.taxa):\n",
    "            return lca2(child, taxa)\n",
    "    return tree"
   ]
  },
  {
   "cell_type": "markdown",
   "metadata": {},
   "source": [
    "Determine placements in tree"
   ]
  },
  {
   "cell_type": "code",
   "execution_count": 25,
   "metadata": {},
   "outputs": [],
   "source": [
    "for idx, row in df.iterrows():\n",
    "    # Match by ranks\n",
    "    for rank in ranks:\n",
    "        # Match taxa and get genome ID\n",
    "        taxa = set(dft[dft[rank] == row[rank]].index)\n",
    "        if not taxa:\n",
    "            continue\n",
    "        # Get LCA\n",
    "        node = lca2(tree, taxa)\n",
    "        if node.taxa.difference(taxa):\n",
    "            continue\n",
    "        df.at[idx, 'node'] = node.name\n",
    "        df.at[idx, 'rank'] = rank\n",
    "        # If placement found, exit\n",
    "        break"
   ]
  },
  {
   "cell_type": "markdown",
   "metadata": {},
   "source": [
    "Check results"
   ]
  },
  {
   "cell_type": "code",
   "execution_count": 26,
   "metadata": {},
   "outputs": [
    {
     "data": {
      "text/html": [
       "<div>\n",
       "<style scoped>\n",
       "    .dataframe tbody tr th:only-of-type {\n",
       "        vertical-align: middle;\n",
       "    }\n",
       "\n",
       "    .dataframe tbody tr th {\n",
       "        vertical-align: top;\n",
       "    }\n",
       "\n",
       "    .dataframe thead th {\n",
       "        text-align: right;\n",
       "    }\n",
       "</style>\n",
       "<table border=\"1\" class=\"dataframe\">\n",
       "  <thead>\n",
       "    <tr style=\"text-align: right;\">\n",
       "      <th></th>\n",
       "      <th>length</th>\n",
       "      <th>width</th>\n",
       "      <th>volume</th>\n",
       "      <th>surface</th>\n",
       "      <th>shape</th>\n",
       "      <th>species</th>\n",
       "      <th>genus</th>\n",
       "      <th>family</th>\n",
       "      <th>order</th>\n",
       "      <th>class</th>\n",
       "      <th>phylum</th>\n",
       "      <th>superkingdom</th>\n",
       "      <th>rank</th>\n",
       "      <th>node</th>\n",
       "    </tr>\n",
       "    <tr>\n",
       "      <th>taxid</th>\n",
       "      <th></th>\n",
       "      <th></th>\n",
       "      <th></th>\n",
       "      <th></th>\n",
       "      <th></th>\n",
       "      <th></th>\n",
       "      <th></th>\n",
       "      <th></th>\n",
       "      <th></th>\n",
       "      <th></th>\n",
       "      <th></th>\n",
       "      <th></th>\n",
       "      <th></th>\n",
       "      <th></th>\n",
       "    </tr>\n",
       "  </thead>\n",
       "  <tbody>\n",
       "    <tr>\n",
       "      <th>taxid1126</th>\n",
       "      <td>3.240370</td>\n",
       "      <td>3.240370</td>\n",
       "      <td>17.814866</td>\n",
       "      <td>32.986723</td>\n",
       "      <td>sphere/spheroid</td>\n",
       "      <td>Microcystis aeruginosa</td>\n",
       "      <td>Microcystis</td>\n",
       "      <td>Microcystaceae</td>\n",
       "      <td>Chroococcales</td>\n",
       "      <td>NaN</td>\n",
       "      <td>Cyanobacteria</td>\n",
       "      <td>Bacteria</td>\n",
       "      <td>species</td>\n",
       "      <td>N6752</td>\n",
       "    </tr>\n",
       "    <tr>\n",
       "      <th>taxid1129</th>\n",
       "      <td>1.309547</td>\n",
       "      <td>1.309547</td>\n",
       "      <td>1.175878</td>\n",
       "      <td>5.387561</td>\n",
       "      <td>sphere/spheroid</td>\n",
       "      <td>NaN</td>\n",
       "      <td>Synechococcus</td>\n",
       "      <td>Synechococcaceae</td>\n",
       "      <td>Synechococcales</td>\n",
       "      <td>NaN</td>\n",
       "      <td>Cyanobacteria</td>\n",
       "      <td>Bacteria</td>\n",
       "      <td>phylum</td>\n",
       "      <td>N224</td>\n",
       "    </tr>\n",
       "    <tr>\n",
       "      <th>taxid1142</th>\n",
       "      <td>2.959481</td>\n",
       "      <td>2.959481</td>\n",
       "      <td>13.572041</td>\n",
       "      <td>27.515722</td>\n",
       "      <td>sphere/spheroid</td>\n",
       "      <td>NaN</td>\n",
       "      <td>Synechocystis</td>\n",
       "      <td>Merismopediaceae</td>\n",
       "      <td>Synechococcales</td>\n",
       "      <td>NaN</td>\n",
       "      <td>Cyanobacteria</td>\n",
       "      <td>Bacteria</td>\n",
       "      <td>genus</td>\n",
       "      <td>N5451</td>\n",
       "    </tr>\n",
       "    <tr>\n",
       "      <th>taxid1144</th>\n",
       "      <td>3.741657</td>\n",
       "      <td>3.741657</td>\n",
       "      <td>27.427781</td>\n",
       "      <td>43.982297</td>\n",
       "      <td>sphere/spheroid</td>\n",
       "      <td>Synechocystis sp. PCC 6701</td>\n",
       "      <td>Geminocystis</td>\n",
       "      <td>Chroococcaceae</td>\n",
       "      <td>Chroococcales</td>\n",
       "      <td>NaN</td>\n",
       "      <td>Cyanobacteria</td>\n",
       "      <td>Bacteria</td>\n",
       "      <td>genus</td>\n",
       "      <td>N5887</td>\n",
       "    </tr>\n",
       "    <tr>\n",
       "      <th>taxid1148</th>\n",
       "      <td>2.397916</td>\n",
       "      <td>2.397916</td>\n",
       "      <td>7.219388</td>\n",
       "      <td>18.064158</td>\n",
       "      <td>sphere/spheroid</td>\n",
       "      <td>Synechocystis sp. PCC 6803</td>\n",
       "      <td>Synechocystis</td>\n",
       "      <td>Merismopediaceae</td>\n",
       "      <td>Synechococcales</td>\n",
       "      <td>NaN</td>\n",
       "      <td>Cyanobacteria</td>\n",
       "      <td>Bacteria</td>\n",
       "      <td>species</td>\n",
       "      <td>N5888</td>\n",
       "    </tr>\n",
       "  </tbody>\n",
       "</table>\n",
       "</div>"
      ],
      "text/plain": [
       "             length     width     volume    surface            shape  \\\n",
       "taxid                                                                  \n",
       "taxid1126  3.240370  3.240370  17.814866  32.986723  sphere/spheroid   \n",
       "taxid1129  1.309547  1.309547   1.175878   5.387561  sphere/spheroid   \n",
       "taxid1142  2.959481  2.959481  13.572041  27.515722  sphere/spheroid   \n",
       "taxid1144  3.741657  3.741657  27.427781  43.982297  sphere/spheroid   \n",
       "taxid1148  2.397916  2.397916   7.219388  18.064158  sphere/spheroid   \n",
       "\n",
       "                              species          genus            family  \\\n",
       "taxid                                                                    \n",
       "taxid1126      Microcystis aeruginosa    Microcystis    Microcystaceae   \n",
       "taxid1129                         NaN  Synechococcus  Synechococcaceae   \n",
       "taxid1142                         NaN  Synechocystis  Merismopediaceae   \n",
       "taxid1144  Synechocystis sp. PCC 6701   Geminocystis    Chroococcaceae   \n",
       "taxid1148  Synechocystis sp. PCC 6803  Synechocystis  Merismopediaceae   \n",
       "\n",
       "                     order class         phylum superkingdom     rank   node  \n",
       "taxid                                                                         \n",
       "taxid1126    Chroococcales   NaN  Cyanobacteria     Bacteria  species  N6752  \n",
       "taxid1129  Synechococcales   NaN  Cyanobacteria     Bacteria   phylum   N224  \n",
       "taxid1142  Synechococcales   NaN  Cyanobacteria     Bacteria    genus  N5451  \n",
       "taxid1144    Chroococcales   NaN  Cyanobacteria     Bacteria    genus  N5887  \n",
       "taxid1148  Synechococcales   NaN  Cyanobacteria     Bacteria  species  N5888  "
      ]
     },
     "execution_count": 26,
     "metadata": {},
     "output_type": "execute_result"
    }
   ],
   "source": [
    "df.head()"
   ]
  },
  {
   "cell_type": "code",
   "execution_count": 27,
   "metadata": {},
   "outputs": [
    {
     "data": {
      "text/plain": [
       "(98, 14)"
      ]
     },
     "execution_count": 27,
     "metadata": {},
     "output_type": "execute_result"
    }
   ],
   "source": [
    "df.shape"
   ]
  },
  {
   "cell_type": "code",
   "execution_count": 28,
   "metadata": {},
   "outputs": [
    {
     "data": {
      "text/plain": [
       "98"
      ]
     },
     "execution_count": 28,
     "metadata": {},
     "output_type": "execute_result"
    }
   ],
   "source": [
    "df.dropna(subset=['node']).shape[0]"
   ]
  },
  {
   "cell_type": "markdown",
   "metadata": {},
   "source": [
    "Check statistics of placements"
   ]
  },
  {
   "cell_type": "code",
   "execution_count": 29,
   "metadata": {},
   "outputs": [
    {
     "name": "stdout",
     "output_type": "stream",
     "text": [
      "species 50\n",
      "genus 34\n",
      "family 10\n",
      "order 0\n",
      "class 0\n",
      "phylum 4\n"
     ]
    }
   ],
   "source": [
    "for rank in ranks:\n",
    "    print(rank, df.query(f'rank == \"{rank}\"').shape[0])"
   ]
  },
  {
   "cell_type": "markdown",
   "metadata": {},
   "source": [
    "### Last three ranks\n",
    "\n",
    "Valid ranks would be species, genus and family."
   ]
  },
  {
   "cell_type": "code",
   "execution_count": 30,
   "metadata": {},
   "outputs": [],
   "source": [
    "valid_ranks = ('species', 'genus', 'family')"
   ]
  },
  {
   "cell_type": "markdown",
   "metadata": {},
   "source": [
    "Make a copy of the tree."
   ]
  },
  {
   "cell_type": "code",
   "execution_count": 31,
   "metadata": {},
   "outputs": [],
   "source": [
    "placed = tree.copy()"
   ]
  },
  {
   "cell_type": "markdown",
   "metadata": {},
   "source": [
    "Insert leafs into the tree, i.e., remove placements at higher levels."
   ]
  },
  {
   "cell_type": "code",
   "execution_count": 32,
   "metadata": {},
   "outputs": [],
   "source": [
    "inserted = []"
   ]
  },
  {
   "cell_type": "code",
   "execution_count": 33,
   "metadata": {},
   "outputs": [],
   "source": [
    "for idx, row in df.iterrows():\n",
    "    if row['rank'] in valid_ranks:\n",
    "        node = placed.find(row['node'])\n",
    "        leaf = TreeNode(name = idx, length = node.length + node.median)\n",
    "        # Set leaf\n",
    "        node.parent.append(leaf)\n",
    "        inserted.append(idx)"
   ]
  },
  {
   "cell_type": "markdown",
   "metadata": {},
   "source": [
    "Prune the tree to contain only insertions."
   ]
  },
  {
   "cell_type": "code",
   "execution_count": 34,
   "metadata": {},
   "outputs": [],
   "source": [
    "placed = placed.shear(inserted)"
   ]
  },
  {
   "cell_type": "code",
   "execution_count": 35,
   "metadata": {},
   "outputs": [],
   "source": [
    "placed.prune()"
   ]
  },
  {
   "cell_type": "markdown",
   "metadata": {},
   "source": [
    "Export tree"
   ]
  },
  {
   "cell_type": "code",
   "execution_count": 36,
   "metadata": {},
   "outputs": [
    {
     "data": {
      "text/plain": [
       "'place/fine_cyanobacteria.nwk'"
      ]
     },
     "execution_count": 36,
     "metadata": {},
     "output_type": "execute_result"
    }
   ],
   "source": [
    "placed.write('place/fine_cyanobacteria.nwk')"
   ]
  },
  {
   "cell_type": "markdown",
   "metadata": {},
   "source": [
    "Filter data."
   ]
  },
  {
   "cell_type": "code",
   "execution_count": 37,
   "metadata": {},
   "outputs": [],
   "source": [
    "df_ = df.loc[inserted].copy()"
   ]
  },
  {
   "cell_type": "markdown",
   "metadata": {},
   "source": [
    "Add metadata"
   ]
  },
  {
   "cell_type": "code",
   "execution_count": 38,
   "metadata": {},
   "outputs": [],
   "source": [
    "for key in keys:\n",
    "    df_[key] = df_['node'].map(dfm[key].to_dict())"
   ]
  },
  {
   "cell_type": "code",
   "execution_count": 39,
   "metadata": {},
   "outputs": [
    {
     "data": {
      "text/html": [
       "<div>\n",
       "<style scoped>\n",
       "    .dataframe tbody tr th:only-of-type {\n",
       "        vertical-align: middle;\n",
       "    }\n",
       "\n",
       "    .dataframe tbody tr th {\n",
       "        vertical-align: top;\n",
       "    }\n",
       "\n",
       "    .dataframe thead th {\n",
       "        text-align: right;\n",
       "    }\n",
       "</style>\n",
       "<table border=\"1\" class=\"dataframe\">\n",
       "  <thead>\n",
       "    <tr style=\"text-align: right;\">\n",
       "      <th></th>\n",
       "      <th>length</th>\n",
       "      <th>width</th>\n",
       "      <th>volume</th>\n",
       "      <th>surface</th>\n",
       "      <th>shape</th>\n",
       "      <th>species</th>\n",
       "      <th>genus</th>\n",
       "      <th>family</th>\n",
       "      <th>order</th>\n",
       "      <th>class</th>\n",
       "      <th>phylum</th>\n",
       "      <th>superkingdom</th>\n",
       "      <th>rank</th>\n",
       "      <th>node</th>\n",
       "      <th>genome</th>\n",
       "      <th>gc</th>\n",
       "      <th>proteins</th>\n",
       "      <th>coding</th>\n",
       "      <th>rrnas</th>\n",
       "    </tr>\n",
       "    <tr>\n",
       "      <th>taxid</th>\n",
       "      <th></th>\n",
       "      <th></th>\n",
       "      <th></th>\n",
       "      <th></th>\n",
       "      <th></th>\n",
       "      <th></th>\n",
       "      <th></th>\n",
       "      <th></th>\n",
       "      <th></th>\n",
       "      <th></th>\n",
       "      <th></th>\n",
       "      <th></th>\n",
       "      <th></th>\n",
       "      <th></th>\n",
       "      <th></th>\n",
       "      <th></th>\n",
       "      <th></th>\n",
       "      <th></th>\n",
       "      <th></th>\n",
       "    </tr>\n",
       "  </thead>\n",
       "  <tbody>\n",
       "    <tr>\n",
       "      <th>taxid1126</th>\n",
       "      <td>3.240370</td>\n",
       "      <td>3.240370</td>\n",
       "      <td>17.814866</td>\n",
       "      <td>32.986723</td>\n",
       "      <td>sphere/spheroid</td>\n",
       "      <td>Microcystis aeruginosa</td>\n",
       "      <td>Microcystis</td>\n",
       "      <td>Microcystaceae</td>\n",
       "      <td>Chroococcales</td>\n",
       "      <td>NaN</td>\n",
       "      <td>Cyanobacteria</td>\n",
       "      <td>Bacteria</td>\n",
       "      <td>species</td>\n",
       "      <td>N6752</td>\n",
       "      <td>4.940384e+06</td>\n",
       "      <td>42.692480</td>\n",
       "      <td>4826.633909</td>\n",
       "      <td>81.566261</td>\n",
       "      <td>1.348195</td>\n",
       "    </tr>\n",
       "    <tr>\n",
       "      <th>taxid1142</th>\n",
       "      <td>2.959481</td>\n",
       "      <td>2.959481</td>\n",
       "      <td>13.572041</td>\n",
       "      <td>27.515722</td>\n",
       "      <td>sphere/spheroid</td>\n",
       "      <td>NaN</td>\n",
       "      <td>Synechocystis</td>\n",
       "      <td>Merismopediaceae</td>\n",
       "      <td>Synechococcales</td>\n",
       "      <td>NaN</td>\n",
       "      <td>Cyanobacteria</td>\n",
       "      <td>Bacteria</td>\n",
       "      <td>genus</td>\n",
       "      <td>N5451</td>\n",
       "      <td>3.685717e+06</td>\n",
       "      <td>47.639318</td>\n",
       "      <td>3429.768068</td>\n",
       "      <td>87.139429</td>\n",
       "      <td>2.018068</td>\n",
       "    </tr>\n",
       "    <tr>\n",
       "      <th>taxid1144</th>\n",
       "      <td>3.741657</td>\n",
       "      <td>3.741657</td>\n",
       "      <td>27.427781</td>\n",
       "      <td>43.982297</td>\n",
       "      <td>sphere/spheroid</td>\n",
       "      <td>Synechocystis sp. PCC 6701</td>\n",
       "      <td>Geminocystis</td>\n",
       "      <td>Chroococcaceae</td>\n",
       "      <td>Chroococcales</td>\n",
       "      <td>NaN</td>\n",
       "      <td>Cyanobacteria</td>\n",
       "      <td>Bacteria</td>\n",
       "      <td>genus</td>\n",
       "      <td>N5887</td>\n",
       "      <td>4.344739e+06</td>\n",
       "      <td>33.848436</td>\n",
       "      <td>3989.528436</td>\n",
       "      <td>84.265219</td>\n",
       "      <td>2.028436</td>\n",
       "    </tr>\n",
       "    <tr>\n",
       "      <th>taxid1148</th>\n",
       "      <td>2.397916</td>\n",
       "      <td>2.397916</td>\n",
       "      <td>7.219388</td>\n",
       "      <td>18.064158</td>\n",
       "      <td>sphere/spheroid</td>\n",
       "      <td>Synechocystis sp. PCC 6803</td>\n",
       "      <td>Synechocystis</td>\n",
       "      <td>Merismopediaceae</td>\n",
       "      <td>Synechococcales</td>\n",
       "      <td>NaN</td>\n",
       "      <td>Cyanobacteria</td>\n",
       "      <td>Bacteria</td>\n",
       "      <td>species</td>\n",
       "      <td>N5888</td>\n",
       "      <td>3.678121e+06</td>\n",
       "      <td>47.631437</td>\n",
       "      <td>3418.285722</td>\n",
       "      <td>87.160151</td>\n",
       "      <td>2.000008</td>\n",
       "    </tr>\n",
       "    <tr>\n",
       "      <th>taxid1152</th>\n",
       "      <td>2.029875</td>\n",
       "      <td>2.029875</td>\n",
       "      <td>4.379319</td>\n",
       "      <td>12.944595</td>\n",
       "      <td>sphere/spheroid</td>\n",
       "      <td>NaN</td>\n",
       "      <td>Pseudanabaena</td>\n",
       "      <td>Pseudanabaenaceae</td>\n",
       "      <td>Pseudanabaenales</td>\n",
       "      <td>NaN</td>\n",
       "      <td>Cyanobacteria</td>\n",
       "      <td>Bacteria</td>\n",
       "      <td>genus</td>\n",
       "      <td>N911</td>\n",
       "      <td>4.756803e+06</td>\n",
       "      <td>44.395336</td>\n",
       "      <td>4371.145336</td>\n",
       "      <td>83.924587</td>\n",
       "      <td>1.478669</td>\n",
       "    </tr>\n",
       "  </tbody>\n",
       "</table>\n",
       "</div>"
      ],
      "text/plain": [
       "             length     width     volume    surface            shape  \\\n",
       "taxid                                                                  \n",
       "taxid1126  3.240370  3.240370  17.814866  32.986723  sphere/spheroid   \n",
       "taxid1142  2.959481  2.959481  13.572041  27.515722  sphere/spheroid   \n",
       "taxid1144  3.741657  3.741657  27.427781  43.982297  sphere/spheroid   \n",
       "taxid1148  2.397916  2.397916   7.219388  18.064158  sphere/spheroid   \n",
       "taxid1152  2.029875  2.029875   4.379319  12.944595  sphere/spheroid   \n",
       "\n",
       "                              species          genus             family  \\\n",
       "taxid                                                                     \n",
       "taxid1126      Microcystis aeruginosa    Microcystis     Microcystaceae   \n",
       "taxid1142                         NaN  Synechocystis   Merismopediaceae   \n",
       "taxid1144  Synechocystis sp. PCC 6701   Geminocystis     Chroococcaceae   \n",
       "taxid1148  Synechocystis sp. PCC 6803  Synechocystis   Merismopediaceae   \n",
       "taxid1152                         NaN  Pseudanabaena  Pseudanabaenaceae   \n",
       "\n",
       "                      order class         phylum superkingdom     rank   node  \\\n",
       "taxid                                                                           \n",
       "taxid1126     Chroococcales   NaN  Cyanobacteria     Bacteria  species  N6752   \n",
       "taxid1142   Synechococcales   NaN  Cyanobacteria     Bacteria    genus  N5451   \n",
       "taxid1144     Chroococcales   NaN  Cyanobacteria     Bacteria    genus  N5887   \n",
       "taxid1148   Synechococcales   NaN  Cyanobacteria     Bacteria  species  N5888   \n",
       "taxid1152  Pseudanabaenales   NaN  Cyanobacteria     Bacteria    genus   N911   \n",
       "\n",
       "                 genome         gc     proteins     coding     rrnas  \n",
       "taxid                                                                 \n",
       "taxid1126  4.940384e+06  42.692480  4826.633909  81.566261  1.348195  \n",
       "taxid1142  3.685717e+06  47.639318  3429.768068  87.139429  2.018068  \n",
       "taxid1144  4.344739e+06  33.848436  3989.528436  84.265219  2.028436  \n",
       "taxid1148  3.678121e+06  47.631437  3418.285722  87.160151  2.000008  \n",
       "taxid1152  4.756803e+06  44.395336  4371.145336  83.924587  1.478669  "
      ]
     },
     "execution_count": 39,
     "metadata": {},
     "output_type": "execute_result"
    }
   ],
   "source": [
    "df_.head()"
   ]
  },
  {
   "cell_type": "code",
   "execution_count": 40,
   "metadata": {},
   "outputs": [
    {
     "data": {
      "text/plain": [
       "(94, 19)"
      ]
     },
     "execution_count": 40,
     "metadata": {},
     "output_type": "execute_result"
    }
   ],
   "source": [
    "df_.shape"
   ]
  },
  {
   "cell_type": "markdown",
   "metadata": {},
   "source": [
    "Export data"
   ]
  },
  {
   "cell_type": "code",
   "execution_count": 41,
   "metadata": {},
   "outputs": [],
   "source": [
    "df_.to_csv('place/fine_cyanobacteria.tsv', sep = '\\t')"
   ]
  },
  {
   "cell_type": "markdown",
   "metadata": {},
   "source": [
    "### Just species level"
   ]
  },
  {
   "cell_type": "code",
   "execution_count": 42,
   "metadata": {},
   "outputs": [],
   "source": [
    "placed = tree.copy()\n",
    "inserted = []\n",
    "for idx, row in df.query('rank == \"species\"').iterrows():\n",
    "    node = placed.find(row['node'])\n",
    "    leaf = TreeNode(name=idx, length=node.length + node.median)\n",
    "    node.parent.append(leaf)\n",
    "    inserted.append(idx)\n",
    "placed = placed.shear(inserted)\n",
    "placed.prune()\n",
    "placed.write('place/species_cyanobacteria.nwk')\n",
    "df_ = df.loc[inserted].copy()\n",
    "for key in keys:\n",
    "    df_[key] = df_['node'].map(dfm[key].to_dict())\n",
    "df_.to_csv('place/species_cyanobacteria.tsv', sep='\\t')"
   ]
  },
  {
   "cell_type": "markdown",
   "metadata": {},
   "source": [
    "### Higher ranks"
   ]
  },
  {
   "cell_type": "code",
   "execution_count": 43,
   "metadata": {},
   "outputs": [
    {
     "name": "stdout",
     "output_type": "stream",
     "text": [
      "genus: 27\n",
      "family: 17\n",
      "order: 5\n",
      "class: 1\n",
      "phylum: 1\n"
     ]
    }
   ],
   "source": [
    "for rank in 'genus', 'family', 'order', 'class', 'phylum':\n",
    "    df = pd.read_table(f'../preprocess/annot/{rank}_cyanobacteria.tsv', index_col=0)\n",
    "    df.index = 'txid' + df.index.astype(str)\n",
    "    df['rank'] = None\n",
    "    df['node'] = None\n",
    "    for idx, row in df.iterrows():\n",
    "        taxa = set(dft[dft[rank] == row[rank]].index)\n",
    "        if not taxa:\n",
    "            continue\n",
    "        node = lca2(tree, taxa)\n",
    "        if node.taxa.difference(taxa):\n",
    "            continue\n",
    "        df.at[idx, 'node'] = node.name\n",
    "        df.at[idx, 'rank'] = rank\n",
    "    df = df.dropna(subset=['node'])\n",
    "    placed = tree.copy()\n",
    "    inserted = []\n",
    "    for idx, row in df.iterrows():\n",
    "        node = placed.find(row['node'])\n",
    "        leaf = TreeNode(name=idx, length=node.length + node.median)\n",
    "        node.parent.append(leaf)\n",
    "        inserted.append(idx)\n",
    "    placed = placed.shear(inserted)\n",
    "    placed.prune()\n",
    "    placed.write(f'place/{rank}.nwk')\n",
    "    df = df.loc[inserted]\n",
    "    for key in keys:\n",
    "        df[key] = df['node'].map(dfm[key].to_dict())\n",
    "    df.to_csv(f'place/{rank}_cyanobacteria.tsv', sep='\\t')\n",
    "    print(f'{rank}: {df.shape[0]}')"
   ]
  },
  {
   "cell_type": "code",
   "execution_count": null,
   "metadata": {},
   "outputs": [],
   "source": []
  }
 ],
 "metadata": {
  "kernelspec": {
   "display_name": "Python 3",
   "language": "python",
   "name": "python3"
  },
  "language_info": {
   "codemirror_mode": {
    "name": "ipython",
    "version": 3
   },
   "file_extension": ".py",
   "mimetype": "text/x-python",
   "name": "python",
   "nbconvert_exporter": "python",
   "pygments_lexer": "ipython3",
   "version": "3.8.5"
  }
 },
 "nbformat": 4,
 "nbformat_minor": 4
}
