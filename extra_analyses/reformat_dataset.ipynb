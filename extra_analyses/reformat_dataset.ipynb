{
 "cells": [
  {
   "cell_type": "markdown",
   "id": "79958c4d-5948-4d8f-80f7-06a4b98a2537",
   "metadata": {},
   "source": [
    "# Reformat dataset for github"
   ]
  },
  {
   "cell_type": "code",
   "execution_count": 1,
   "id": "59ce0701-494d-4fe1-badb-b959d7e4ee63",
   "metadata": {},
   "outputs": [],
   "source": [
    "import numpy as np\n",
    "import pandas as pd"
   ]
  },
  {
   "cell_type": "code",
   "execution_count": 2,
   "id": "0edc5389-ac7c-43f3-84a5-10217e6dd74e",
   "metadata": {},
   "outputs": [
    {
     "data": {
      "text/plain": [
       "(5380, 28)"
      ]
     },
     "execution_count": 2,
     "metadata": {},
     "output_type": "execute_result"
    }
   ],
   "source": [
    "df = pd.read_table('place/fine_all.tsv', index_col = 0)\n",
    "df.shape"
   ]
  },
  {
   "cell_type": "markdown",
   "id": "27ad5691-4490-4baf-8be8-6d1b2d05e72d",
   "metadata": {},
   "source": [
    "Metrics"
   ]
  },
  {
   "cell_type": "code",
   "execution_count": 3,
   "id": "9751e351-6f0e-493c-99bc-3d39b947b32f",
   "metadata": {},
   "outputs": [],
   "source": [
    "df['vsratio'] = df['volume_gmean'] / df['surface_gmean']\n",
    "df['svratio'] = df['surface_gmean'] / df['volume_gmean']\n",
    "df['aspect_ratio'] = df['length_gmean'] / df['width_gmean']\n",
    "df['spherical_equivalent_diameter'] = np.cbrt((6 * df['volume_gmean']) / np.pi)"
   ]
  },
  {
   "cell_type": "code",
   "execution_count": 4,
   "id": "1c23969f-059c-4bca-97a4-7c6db0287b7e",
   "metadata": {},
   "outputs": [],
   "source": [
    "df['log_vsratio'] = np.log10(df['vsratio'])"
   ]
  },
  {
   "cell_type": "markdown",
   "id": "4d3c8dc4-03c6-4fa1-9afe-7211e368bbdd",
   "metadata": {},
   "source": [
    "Get species with genomic information"
   ]
  },
  {
   "cell_type": "code",
   "execution_count": 5,
   "id": "17b5db62-bd4a-481d-8a9b-1ea7b7bfa8e9",
   "metadata": {},
   "outputs": [],
   "source": [
    "df1 = df[df['node'].str.contains('G')].copy()"
   ]
  },
  {
   "cell_type": "markdown",
   "id": "3c4fec4d-39ec-4869-8b51-d22f1cbc9cba",
   "metadata": {},
   "source": [
    "Because of our methodology (phylogenetic placement) some species have been assigned to the same genome, so we need to get rid of the duplicates and select only those species whose taxonomic name matches the genome name"
   ]
  },
  {
   "cell_type": "code",
   "execution_count": 6,
   "id": "7b567ffa-e74b-4aea-9ef4-7daa39ca6db0",
   "metadata": {},
   "outputs": [],
   "source": [
    "dft = pd.read_table('../phylogeny/tax2tree/filled_ranks.tsv', index_col = 0)"
   ]
  },
  {
   "cell_type": "code",
   "execution_count": 7,
   "id": "8e88b814-97ac-40b2-8fcf-a25db4a5514c",
   "metadata": {},
   "outputs": [],
   "source": [
    "df1['is_species'] = df1['node'].apply(lambda x: dft.loc[x]['species'] if x in dft.index else np.nan)"
   ]
  },
  {
   "cell_type": "code",
   "execution_count": 8,
   "id": "da9dfdea-cc1f-4376-872b-742bdbd21e71",
   "metadata": {},
   "outputs": [],
   "source": [
    "df1 = df1[df1['species'] == df1['is_species']]"
   ]
  },
  {
   "cell_type": "code",
   "execution_count": 9,
   "id": "b654e08b-4282-4612-a2ed-6391db923041",
   "metadata": {},
   "outputs": [
    {
     "data": {
      "text/plain": [
       "(1363, 34)"
      ]
     },
     "execution_count": 9,
     "metadata": {},
     "output_type": "execute_result"
    }
   ],
   "source": [
    "df1.shape"
   ]
  },
  {
   "cell_type": "code",
   "execution_count": 10,
   "id": "db6d8d49-8773-4b68-b0b9-8a65ef8cc295",
   "metadata": {},
   "outputs": [],
   "source": [
    "sps_genomic_info = df1[df1['species'] == df1['is_species']].index"
   ]
  },
  {
   "cell_type": "markdown",
   "id": "c83cc586-8d2a-4328-9025-be87d15c4ef9",
   "metadata": {},
   "source": [
    "Create a new dataframe"
   ]
  },
  {
   "cell_type": "code",
   "execution_count": 11,
   "id": "d9d62d2a-346f-4a6c-a2e3-79628f225ddf",
   "metadata": {},
   "outputs": [],
   "source": [
    "columns = ['sources', 'length_ranges', 'width_ranges', 'length_gmean', 'width_gmean',\n",
    "          'volume_gmean', 'surface_gmean','spherical_equivalent_diameter', 'svratio', 'vsratio', 'log_vsratio',\n",
    "           'species', 'genus', 'family', 'order', 'class', 'phylum', 'kingdom']"
   ]
  },
  {
   "cell_type": "code",
   "execution_count": 12,
   "id": "51fbc978-db5c-4511-adf9-89db386bb684",
   "metadata": {},
   "outputs": [],
   "source": [
    "df2 = df[columns].copy()"
   ]
  },
  {
   "cell_type": "markdown",
   "id": "317f60c2-22a8-43d7-bc32-5437ad3e5406",
   "metadata": {},
   "source": [
    "Add metadata only if genome is available in WoL"
   ]
  },
  {
   "cell_type": "code",
   "execution_count": 13,
   "id": "4621d496-ea4f-47e7-aa68-6cc6265ded54",
   "metadata": {},
   "outputs": [],
   "source": [
    "df2['genome'] = df2.index.map(lambda x: df.loc[x]['node'] if x in sps_genomic_info else np.nan)\n",
    "df2['genome_size'] = df2.index.map(lambda x: df.loc[x]['genome'] if x in sps_genomic_info else np.nan)\n",
    "df2['gc'] = df2.index.map(lambda x: df.loc[x]['gc'] if x in sps_genomic_info else np.nan)\n",
    "df2['proteins'] = df2.index.map(lambda x: df.loc[x]['proteins'] if x in sps_genomic_info else np.nan)\n",
    "df2['coding'] = df2.index.map(lambda x: df.loc[x]['coding'] if x in sps_genomic_info else np.nan)\n",
    "df2['rrnas'] = df2.index.map(lambda x: df.loc[x]['rrnas'] if x in sps_genomic_info else np.nan)\n",
    "df2['ENCprime'] = df2.index.map(lambda x: df.loc[x]['coding'] if x in sps_genomic_info else np.nan)"
   ]
  },
  {
   "cell_type": "code",
   "execution_count": 14,
   "id": "f1002d72-ea45-4f2e-b967-b60b2279d722",
   "metadata": {},
   "outputs": [],
   "source": [
    "df2.rename(columns = {'length_gmean': 'length', 'width_gmean': 'width',\n",
    "                     'volume_gmean': 'volume', 'surface_gmean': 'surface'}, inplace = True)"
   ]
  },
  {
   "cell_type": "code",
   "execution_count": 15,
   "id": "dd44c270-e82b-4106-b792-475b799f7a90",
   "metadata": {},
   "outputs": [
    {
     "data": {
      "text/plain": [
       "Index(['sources', 'length_ranges', 'width_ranges', 'length', 'width', 'volume',\n",
       "       'surface', 'spherical_equivalent_diameter', 'svratio', 'vsratio',\n",
       "       'log_vsratio', 'species', 'genus', 'family', 'order', 'class', 'phylum',\n",
       "       'kingdom', 'genome', 'genome_size', 'gc', 'proteins', 'coding', 'rrnas',\n",
       "       'ENCprime'],\n",
       "      dtype='object')"
      ]
     },
     "execution_count": 15,
     "metadata": {},
     "output_type": "execute_result"
    }
   ],
   "source": [
    "df2.columns"
   ]
  },
  {
   "cell_type": "code",
   "execution_count": 16,
   "id": "0591ea2a-0bde-4d27-afe5-e3754c44074c",
   "metadata": {},
   "outputs": [
    {
     "data": {
      "text/plain": [
       "sources\n",
       "bacdive         4546\n",
       "bm4              316\n",
       "bm5              252\n",
       "pcc               94\n",
       "bm1               91\n",
       "pubmed            43\n",
       "bacdive, bm5      26\n",
       "pubmed, bm4        6\n",
       "bacdive, bm4       4\n",
       "pubmed, bm5        1\n",
       "bacdive, bm1       1\n",
       "Name: count, dtype: int64"
      ]
     },
     "execution_count": 16,
     "metadata": {},
     "output_type": "execute_result"
    }
   ],
   "source": [
    "df['sources'].value_counts()"
   ]
  },
  {
   "cell_type": "code",
   "execution_count": null,
   "id": "e492c01e-bae8-46d7-aa33-a66e9ad598db",
   "metadata": {},
   "outputs": [],
   "source": []
  },
  {
   "cell_type": "markdown",
   "id": "d44519ba-d067-4e60-b38d-b5eb052cdd93",
   "metadata": {},
   "source": [
    "Save dataframe"
   ]
  },
  {
   "cell_type": "code",
   "execution_count": 17,
   "id": "01fe5d29-ce1d-400d-b68e-f6120639c45a",
   "metadata": {},
   "outputs": [],
   "source": [
    "df2.to_csv('../dataset/dataset.tsv', sep = '\\t')"
   ]
  },
  {
   "cell_type": "code",
   "execution_count": 19,
   "id": "96eae0c4-9d62-4a25-8623-5872c07dd440",
   "metadata": {},
   "outputs": [
    {
     "data": {
      "text/plain": [
       "(5380, 25)"
      ]
     },
     "execution_count": 19,
     "metadata": {},
     "output_type": "execute_result"
    }
   ],
   "source": [
    "df2.shape"
   ]
  },
  {
   "cell_type": "code",
   "execution_count": null,
   "id": "e7731c17-2e6e-4e35-8ddc-7ba5cfa77c13",
   "metadata": {},
   "outputs": [],
   "source": []
  },
  {
   "cell_type": "code",
   "execution_count": null,
   "id": "2dd8c814-7aa7-44f6-b688-0c53b9aa2c46",
   "metadata": {},
   "outputs": [],
   "source": []
  },
  {
   "cell_type": "code",
   "execution_count": null,
   "id": "33a2391d-95b9-425a-ab6a-58554ead7101",
   "metadata": {},
   "outputs": [],
   "source": []
  },
  {
   "cell_type": "code",
   "execution_count": null,
   "id": "88f1f47c-a803-46be-892b-7053b0542767",
   "metadata": {},
   "outputs": [],
   "source": []
  },
  {
   "cell_type": "code",
   "execution_count": null,
   "id": "36045d19-b604-46c6-a356-d40bef3e6ff5",
   "metadata": {},
   "outputs": [],
   "source": []
  },
  {
   "cell_type": "code",
   "execution_count": null,
   "id": "85f7aaf8-a035-48ba-b676-77604ab5b6f8",
   "metadata": {},
   "outputs": [],
   "source": []
  },
  {
   "cell_type": "code",
   "execution_count": null,
   "id": "fe243202-11ae-4504-a6c6-eede670dd5cf",
   "metadata": {},
   "outputs": [],
   "source": []
  },
  {
   "cell_type": "code",
   "execution_count": null,
   "id": "6f0f4f26-c879-46bf-89f3-95c6465c26bb",
   "metadata": {},
   "outputs": [],
   "source": []
  }
 ],
 "metadata": {
  "kernelspec": {
   "display_name": "Python 3 (ipykernel)",
   "language": "python",
   "name": "python3"
  },
  "language_info": {
   "codemirror_mode": {
    "name": "ipython",
    "version": 3
   },
   "file_extension": ".py",
   "mimetype": "text/x-python",
   "name": "python",
   "nbconvert_exporter": "python",
   "pygments_lexer": "ipython3",
   "version": "3.11.8"
  }
 },
 "nbformat": 4,
 "nbformat_minor": 5
}
