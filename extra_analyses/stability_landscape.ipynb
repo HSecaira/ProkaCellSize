{
 "cells": [
  {
   "cell_type": "markdown",
   "id": "f22562af-f337-4f85-b022-c44312f994d1",
   "metadata": {},
   "source": [
    "# Derivation of the stability landscape as the difference between probability density functions."
   ]
  },
  {
   "cell_type": "code",
   "execution_count": 1,
   "id": "c5390cf2-3456-4255-87b0-8e688d0fb92c",
   "metadata": {},
   "outputs": [],
   "source": [
    "import numpy as np\n",
    "import pandas as pd\n",
    "import matplotlib.pyplot as plt\n",
    "from mpl_toolkits import mplot3d\n",
    "import matplotlib.patches as mpatches\n",
    "import matplotlib.lines as mlines\n",
    "from matplotlib.legend import Legend"
   ]
  },
  {
   "cell_type": "code",
   "execution_count": 2,
   "id": "a5899149-469e-4001-a812-44271c187e90",
   "metadata": {},
   "outputs": [],
   "source": [
    "from scipy.stats import norm"
   ]
  },
  {
   "cell_type": "code",
   "execution_count": 3,
   "id": "2e26d86d-d102-4857-b46a-6ef16e7282d0",
   "metadata": {},
   "outputs": [],
   "source": [
    "from sklearn.neighbors import KernelDensity\n",
    "from sklearn.model_selection import GridSearchCV"
   ]
  },
  {
   "cell_type": "code",
   "execution_count": 4,
   "id": "4af048df-dc47-4fd4-ba37-54ae37b0f3f6",
   "metadata": {},
   "outputs": [],
   "source": [
    "plt.rcParams.update({\n",
    "    'figure.autolayout': True,\n",
    "    'savefig.bbox': 'tight',\n",
    "    'svg.fonttype': 'none',\n",
    "    'font.sans-serif': 'Arial',\n",
    "    'font.size': 11,\n",
    "    'boxplot.medianprops.linewidth': 2,\n",
    "    'boxplot.flierprops.markeredgecolor': 'none',\n",
    "    'boxplot.flierprops.markersize': 5})"
   ]
  },
  {
   "cell_type": "code",
   "execution_count": 5,
   "id": "9658d3de-c76f-4594-912d-843e0feeec41",
   "metadata": {},
   "outputs": [],
   "source": [
    "# Function for kernel density estimation\n",
    "def kde(x, x_grid, bandwidth = 0.2, **kwargs):\n",
    "    kde_skl = KernelDensity(bandwidth = bandwidth, **kwargs)\n",
    "    kde_skl.fit(x[:, np.newaxis])\n",
    "    # Returns the log-likelihood of the samples\n",
    "    log_pdf = kde_skl.score_samples(x_grid[:, np.newaxis])\n",
    "    return np.exp(log_pdf)\n",
    "#     return log_pdf"
   ]
  },
  {
   "cell_type": "code",
   "execution_count": 6,
   "id": "d52d9f46-44a0-42d0-a831-ded7eb985886",
   "metadata": {},
   "outputs": [],
   "source": [
    "# Function to adjust hyperparameter by cross-validation\n",
    "def hyperp(x, mn, mx, cv):\n",
    "    bandwidths = 10 ** np.linspace(mn, mx, 50)\n",
    "    grid = GridSearchCV(KernelDensity(), {'bandwidth': bandwidths}, cv = cv)\n",
    "    grid.fit(x[:, np.newaxis])\n",
    "    return grid.best_params_"
   ]
  },
  {
   "cell_type": "code",
   "execution_count": 7,
   "id": "4e87d434-8d21-4d28-bc29-9f87463ffb6c",
   "metadata": {},
   "outputs": [],
   "source": [
    "def pdf_normal(mean, std, x):\n",
    "    return 1 / (std * np.sqrt(2 * np.pi)) * np.exp(- (x - mean)**2 / (2 * std**2))"
   ]
  },
  {
   "cell_type": "markdown",
   "id": "057ce3a6-cf7c-4b96-9970-a1fa3c90d21a",
   "metadata": {},
   "source": [
    "Load data"
   ]
  },
  {
   "cell_type": "code",
   "execution_count": 8,
   "id": "83392ab7-8c80-4ddd-b853-a607ead0ac81",
   "metadata": {},
   "outputs": [
    {
     "data": {
      "text/plain": [
       "(5380, 28)"
      ]
     },
     "execution_count": 8,
     "metadata": {},
     "output_type": "execute_result"
    }
   ],
   "source": [
    "df = pd.read_table('place/fine_all.tsv', index_col = 0)\n",
    "df.shape"
   ]
  },
  {
   "cell_type": "markdown",
   "id": "d1d974c4-6bce-40b9-bcc3-7ee54c672b52",
   "metadata": {},
   "source": [
    "Standardize shapes"
   ]
  },
  {
   "cell_type": "code",
   "execution_count": 9,
   "id": "c1127381-98c1-4298-8dc8-2d6ef5670b45",
   "metadata": {},
   "outputs": [],
   "source": [
    "def ref_shape(s):\n",
    "    \"\"\"Reformat \"shape column\".\n",
    "    \"\"\"\n",
    "    if 'shaped' in s:\n",
    "        s = s.split('-')[0]\n",
    "    elif s == 'sphere/spheroid':\n",
    "        return 'sphere'\n",
    "    elif s == 'rods':\n",
    "        return 'rod'\n",
    "    elif '/' in s:\n",
    "        s = '-'.join(s.split('/'))\n",
    "    if s in ('ovoid', 'oval', 'ellipsoidal'):\n",
    "        return 'ovoid'\n",
    "    elif s == 'pear':\n",
    "        return 'sphere'\n",
    "    elif s in ('sphere', 'spherical'):\n",
    "        return 'sphere'\n",
    "    else:\n",
    "        return s"
   ]
  },
  {
   "cell_type": "code",
   "execution_count": 10,
   "id": "9bf6ea30-0bd3-4923-b895-9a9ccc6ab661",
   "metadata": {},
   "outputs": [],
   "source": [
    "df['shape'] = df['shape'].fillna('').map(ref_shape)"
   ]
  },
  {
   "cell_type": "markdown",
   "id": "1f0ff816-5786-471f-9ad9-fa468af60621",
   "metadata": {},
   "source": [
    "Calculate V/S"
   ]
  },
  {
   "cell_type": "code",
   "execution_count": 11,
   "id": "083f1b7c-8652-4df8-92f3-2299e636c54c",
   "metadata": {},
   "outputs": [],
   "source": [
    "df['vsratio'] = df['volume_gmean'] / df['surface_gmean']\n",
    "df['log_vsratio'] = np.log10(df['vsratio'])"
   ]
  },
  {
   "cell_type": "markdown",
   "id": "f9157379-7716-4424-96db-3462c1383f0e",
   "metadata": {},
   "source": [
    "Fit data to normal distribution in log scale"
   ]
  },
  {
   "cell_type": "code",
   "execution_count": 12,
   "id": "eb0a99e9-0bd9-442a-b933-4cf9d41c4459",
   "metadata": {},
   "outputs": [],
   "source": [
    "data = df['log_vsratio'].values"
   ]
  },
  {
   "cell_type": "code",
   "execution_count": 13,
   "id": "d4428642-2d19-4b11-b858-5b28571f0eaf",
   "metadata": {},
   "outputs": [],
   "source": [
    "parameters = norm.fit(data)"
   ]
  },
  {
   "cell_type": "code",
   "execution_count": 14,
   "id": "ac31ce97-a41b-4e9e-85fd-14112f07350a",
   "metadata": {},
   "outputs": [],
   "source": [
    "mu = parameters[0]\n",
    "std = parameters[1]"
   ]
  },
  {
   "cell_type": "markdown",
   "id": "3235ac8f-95ba-4ad3-b26e-ebeab2812725",
   "metadata": {},
   "source": [
    "Probability density funciton"
   ]
  },
  {
   "cell_type": "code",
   "execution_count": 15,
   "id": "ee391f16-bb09-47cb-8fad-5c1c59ded00d",
   "metadata": {},
   "outputs": [],
   "source": [
    "x_grid = np.linspace(data.min(), data.max(), data.shape[0])\n",
    "bw = hyperp(data, -1, 1, 5)\n",
    "pdf = kde(data, x_grid, bandwidth = bw['bandwidth'])"
   ]
  },
  {
   "cell_type": "code",
   "execution_count": 16,
   "id": "ab29adba-3d3c-4736-8dd4-bf4bf9f3c837",
   "metadata": {},
   "outputs": [],
   "source": [
    "pdf_n = norm.pdf(x_grid, parameters[0], parameters[1])"
   ]
  },
  {
   "cell_type": "markdown",
   "id": "fc5e0406-1f43-4d8a-8a40-ae5e6a190e10",
   "metadata": {},
   "source": [
    "Figure"
   ]
  },
  {
   "cell_type": "code",
   "execution_count": 29,
   "id": "58cdb200-1dd1-4084-a8af-163f05bfcdbc",
   "metadata": {},
   "outputs": [
    {
     "data": {
      "image/png": "[encoded data removed]",
      "text/plain": [
       "<Figure size 555x300 with 1 Axes>"
      ]
     },
     "metadata": {},
     "output_type": "display_data"
    }
   ],
   "source": [
    "plt.figure(figsize = (5.55, 3))\n",
    "    \n",
    "# Values of PDF are normalized, such that they are tru probabilities\n",
    "# and their sum gives one (i.e. a true probability!)\n",
    "plt.plot(x_grid, pdf / pdf.sum(), color = '#8d99ae', lw = 1, zorder = 2)\n",
    "plt.fill_between(x_grid, pdf / pdf.sum(), color = '#8d99ae', alpha = 0.5)\n",
    "plt.plot(x_grid, pdf_n / pdf_n.sum(), color = '#d62839', linewidth = 1,\n",
    "               linestyle = 'solid', zorder = 3)\n",
    "plt.fill_between(x_grid, pdf_n / pdf_n.sum(), \n",
    "                 color = '#d62839', linewidth = 1, alpha = 0.1)\n",
    "    \n",
    "plt.xlabel('Log (Volume-to-surface ratio, $\\\\mu m$)')\n",
    "plt.ylabel('Probability density')\n",
    "\n",
    "# Optimum and std\n",
    "plt.axvline(x = -0.93, color = '#bf0603', linestyle = 'solid', alpha = 1.0, linewidth = 2,\n",
    "           zorder = 1)\n",
    "for i in range(0, 4):\n",
    "    low_r = mu + std * i\n",
    "    up_r = mu + std * (i + 1)\n",
    "    low_l = mu - std * i\n",
    "    up_l = mu - std * (i + 1)\n",
    "    if i == 3:\n",
    "        up_r = 1.8\n",
    "        up_l = -1.8\n",
    "    plt.axvspan(low_r, up_r, alpha = 0.35 - i * 0.1, color = '#457b9d', lw = 0)\n",
    "    plt.axvspan(low_l, up_l, alpha = 0.35 - i * 0.1, color = '#457b9d', lw = 0)\n",
    "\n",
    "plt.tick_params(top = True, right = True, direction = 'in', which = 'both')\n",
    "plt.xlim(-1.8, 1.8)\n",
    "plt.savefig('figures/stability_landscape_A.svg') \n",
    "plt.show()"
   ]
  },
  {
   "cell_type": "markdown",
   "id": "6b382f1f-272f-4755-b544-84fd40aea743",
   "metadata": {},
   "source": [
    "Statbility landscape"
   ]
  },
  {
   "cell_type": "code",
   "execution_count": 25,
   "id": "a068662b-f0e0-4807-bd6e-95b9ff221bd4",
   "metadata": {},
   "outputs": [
    {
     "data": {
      "image/png": "[encoded data removed]",
      "text/plain": [
       "<Figure size 572x300 with 1 Axes>"
      ]
     },
     "metadata": {},
     "output_type": "display_data"
    }
   ],
   "source": [
    "plt.figure(figsize = (5.72, 3))\n",
    "plt.plot(x_grid, ((pdf_n / pdf_n.sum()) - (pdf / pdf.sum())), color = 'k',\n",
    "        linewidth = 2)\n",
    "\n",
    "# If both distributions were the same \n",
    "plt.axhline(y = 0, linestyle = (0, (5, 5)), linewidth = 1, color = 'k')\n",
    "# Mean and std\n",
    "plt.axvline(x = -0.93, color = '#bf0603', linestyle = 'solid', alpha = 1.0, linewidth = 2)\n",
    "for i in range(0, 4):\n",
    "    low_r = mu + std * i\n",
    "    up_r = mu + std * (i + 1)\n",
    "    low_l = mu - std * i\n",
    "    up_l = mu - std * (i + 1)\n",
    "    if i == 3:\n",
    "        up_r = 1.8\n",
    "        up_l = -1.8\n",
    "    plt.axvspan(low_r, up_r, alpha = 0.35 - i * 0.1, color = '#457b9d', lw = 0)\n",
    "    plt.axvspan(low_l, up_l, alpha = 0.35 - i * 0.1, color = '#457b9d', lw = 0)\n",
    "\n",
    "plt.tick_params(top = True, right = True, direction = 'in', which = 'both')\n",
    "plt.xlim(-1.8, 1.8)\n",
    "\n",
    "plt.xlabel('Log (Volume-to-surface ratio, $\\\\mu m$)', fontsize = 11)\n",
    "plt.ylabel(f'Stability ($\\\\Delta$ density)', fontsize = 11)\n",
    "plt.savefig('figures/stability_landscape_B.svg') \n",
    "plt.show()"
   ]
  },
  {
   "cell_type": "code",
   "execution_count": null,
   "id": "be277c8b-202e-4ec8-9428-d50ba1a54867",
   "metadata": {},
   "outputs": [],
   "source": []
  },
  {
   "cell_type": "code",
   "execution_count": null,
   "id": "f5986d92-1689-4579-92c2-0f6a4d29597c",
   "metadata": {},
   "outputs": [],
   "source": []
  },
  {
   "cell_type": "code",
   "execution_count": null,
   "id": "838f2c42-250c-4446-a804-3c18af897a65",
   "metadata": {},
   "outputs": [],
   "source": []
  },
  {
   "cell_type": "code",
   "execution_count": null,
   "id": "a70e2287-2640-466c-8759-ec67297ef0a1",
   "metadata": {},
   "outputs": [],
   "source": []
  },
  {
   "cell_type": "code",
   "execution_count": null,
   "id": "eed66dfd-49b0-465d-81fe-8d557afe1230",
   "metadata": {},
   "outputs": [],
   "source": []
  },
  {
   "cell_type": "code",
   "execution_count": null,
   "id": "052d61ff-7e92-4f3e-9e44-0c49b0e9d7e4",
   "metadata": {},
   "outputs": [],
   "source": []
  },
  {
   "cell_type": "code",
   "execution_count": null,
   "id": "997788c2-9a0c-4ed3-8ac8-849f467f3816",
   "metadata": {},
   "outputs": [],
   "source": []
  },
  {
   "cell_type": "code",
   "execution_count": null,
   "id": "35a53032-7ab5-429e-bc74-4f8194c181d5",
   "metadata": {},
   "outputs": [],
   "source": []
  },
  {
   "cell_type": "code",
   "execution_count": null,
   "id": "1e49fabe-70cb-417b-9700-d89f5836f9f2",
   "metadata": {},
   "outputs": [],
   "source": []
  },
  {
   "cell_type": "code",
   "execution_count": null,
   "id": "9006207a-7e17-43f1-af8c-be1dd670c500",
   "metadata": {},
   "outputs": [],
   "source": []
  },
  {
   "cell_type": "code",
   "execution_count": null,
   "id": "77036651-93f3-4dc7-a260-b1fb7e9c4ac6",
   "metadata": {},
   "outputs": [],
   "source": []
  },
  {
   "cell_type": "code",
   "execution_count": null,
   "id": "c6e9142e-88db-420b-b3f0-1a7150f0dcdb",
   "metadata": {},
   "outputs": [],
   "source": []
  },
  {
   "cell_type": "code",
   "execution_count": null,
   "id": "e449860d-242f-48aa-88f4-0a9f04a57dce",
   "metadata": {},
   "outputs": [],
   "source": []
  },
  {
   "cell_type": "code",
   "execution_count": null,
   "id": "4b986233-b88c-4b9d-9fcc-df2746fa4872",
   "metadata": {},
   "outputs": [],
   "source": []
  },
  {
   "cell_type": "code",
   "execution_count": null,
   "id": "d3d34ec8-1c52-4943-83e4-b9f33d140b99",
   "metadata": {},
   "outputs": [],
   "source": []
  },
  {
   "cell_type": "code",
   "execution_count": null,
   "id": "90b43765-0d8e-408b-8317-e0630adbd1df",
   "metadata": {},
   "outputs": [],
   "source": []
  },
  {
   "cell_type": "code",
   "execution_count": null,
   "id": "628ee4af-2d78-47c4-a83e-f13d1662f043",
   "metadata": {},
   "outputs": [],
   "source": []
  },
  {
   "cell_type": "code",
   "execution_count": null,
   "id": "91eca228-5255-43d3-a545-7feb163b02a3",
   "metadata": {},
   "outputs": [],
   "source": []
  },
  {
   "cell_type": "code",
   "execution_count": null,
   "id": "77c696ae-17a6-4924-ae98-c058f356241b",
   "metadata": {},
   "outputs": [],
   "source": []
  }
 ],
 "metadata": {
  "kernelspec": {
   "display_name": "Python 3 (ipykernel)",
   "language": "python",
   "name": "python3"
  },
  "language_info": {
   "codemirror_mode": {
    "name": "ipython",
    "version": 3
   },
   "file_extension": ".py",
   "mimetype": "text/x-python",
   "name": "python",
   "nbconvert_exporter": "python",
   "pygments_lexer": "ipython3",
   "version": "3.11.8"
  }
 },
 "nbformat": 4,
 "nbformat_minor": 5
}
