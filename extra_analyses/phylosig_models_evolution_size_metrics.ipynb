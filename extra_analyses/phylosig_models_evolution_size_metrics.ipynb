{
 "cells": [
  {
   "cell_type": "markdown",
   "metadata": {},
   "source": [
    "# Phylogenetic signal and evolutionary models for cell size using different metrics"
   ]
  },
  {
   "cell_type": "code",
   "execution_count": 1,
   "metadata": {},
   "outputs": [
    {
     "name": "stderr",
     "output_type": "stream",
     "text": [
      "Loading required package: maps\n",
      "\n",
      "Loading required package: MASS\n",
      "\n",
      "Loading required package: mvtnorm\n",
      "\n",
      "Loading required package: corpcor\n",
      "\n",
      "Loading required package: nloptr\n",
      "\n",
      "Loading required package: RColorBrewer\n",
      "\n"
     ]
    }
   ],
   "source": [
    "library(ape)\n",
    "library(phytools)\n",
    "library(caper)\n",
    "library(geiger)\n",
    "library(OUwie)"
   ]
  },
  {
   "cell_type": "markdown",
   "metadata": {},
   "source": [
    "## Tree and data"
   ]
  },
  {
   "cell_type": "markdown",
   "metadata": {},
   "source": [
    "Read phylogenetic tree"
   ]
  },
  {
   "cell_type": "code",
   "execution_count": 2,
   "metadata": {},
   "outputs": [
    {
     "data": {
      "text/plain": [
       "\n",
       "Phylogenetic tree with 5380 tips and 1961 internal nodes.\n",
       "\n",
       "Tip labels:\n",
       "  taxid71518, taxid83984, taxid2193, taxid83985, taxid71152, taxid2203, ...\n",
       "Node labels:\n",
       "  N1, N5, N18, N51, N79, N119, ...\n",
       "\n",
       "Rooted; includes branch lengths."
      ]
     },
     "metadata": {},
     "output_type": "display_data"
    }
   ],
   "source": [
    "tree <- read.tree(\"../phylogeny/place/fine_all.nwk\")\n",
    "tree"
   ]
  },
  {
   "cell_type": "markdown",
   "metadata": {},
   "source": [
    "Read data table"
   ]
  },
  {
   "cell_type": "code",
   "execution_count": 3,
   "metadata": {},
   "outputs": [
    {
     "data": {
      "text/html": [
       "<table class=\"dataframe\">\n",
       "<caption>A data.frame: 3 × 23</caption>\n",
       "<thead>\n",
       "\t<tr><th></th><th scope=col>taxid</th><th scope=col>length</th><th scope=col>width</th><th scope=col>volume</th><th scope=col>surface</th><th scope=col>shape</th><th scope=col>species</th><th scope=col>genus</th><th scope=col>family</th><th scope=col>order</th><th scope=col>⋯</th><th scope=col>rank</th><th scope=col>node</th><th scope=col>genome</th><th scope=col>gc</th><th scope=col>proteins</th><th scope=col>coding</th><th scope=col>rrnas</th><th scope=col>MILC</th><th scope=col>ENCprime</th><th scope=col>hash</th></tr>\n",
       "\t<tr><th></th><th scope=col>&lt;chr&gt;</th><th scope=col>&lt;dbl&gt;</th><th scope=col>&lt;dbl&gt;</th><th scope=col>&lt;dbl&gt;</th><th scope=col>&lt;dbl&gt;</th><th scope=col>&lt;chr&gt;</th><th scope=col>&lt;chr&gt;</th><th scope=col>&lt;chr&gt;</th><th scope=col>&lt;chr&gt;</th><th scope=col>&lt;chr&gt;</th><th scope=col>⋯</th><th scope=col>&lt;chr&gt;</th><th scope=col>&lt;chr&gt;</th><th scope=col>&lt;dbl&gt;</th><th scope=col>&lt;dbl&gt;</th><th scope=col>&lt;dbl&gt;</th><th scope=col>&lt;dbl&gt;</th><th scope=col>&lt;dbl&gt;</th><th scope=col>&lt;dbl&gt;</th><th scope=col>&lt;dbl&gt;</th><th scope=col>&lt;dbl&gt;</th></tr>\n",
       "</thead>\n",
       "<tbody>\n",
       "\t<tr><th scope=row>1</th><td>taxid11</td><td> 2.371708</td><td>1.0606602</td><td>1.7831870</td><td> 7.902917</td><td>rod-shaped</td><td>Cellulomonas gilvus      </td><td>Cellulomonas</td><td>Cellulomonadaceae</td><td>Micrococcales  </td><td>⋯</td><td>species</td><td>G000218545</td><td>3526441</td><td>73.81</td><td>3206</td><td>91.77278</td><td>2</td><td>-0.2620050</td><td>0.10083562</td><td>1.88</td></tr>\n",
       "\t<tr><th scope=row>2</th><td>taxid14</td><td>10.000000</td><td>0.4898979</td><td>1.8541744</td><td>15.390598</td><td>rod-shaped</td><td>Dictyoglomus thermophilum</td><td>Dictyoglomus</td><td>Dictyoglomaceae  </td><td>Dictyoglomales </td><td>⋯</td><td>species</td><td>G000020965</td><td>1959987</td><td>33.74</td><td>1890</td><td>93.77725</td><td>2</td><td>-0.0644294</td><td>0.03020484</td><td>0.58</td></tr>\n",
       "\t<tr><th scope=row>3</th><td>taxid23</td><td> 1.500000</td><td>0.7000000</td><td>0.4874705</td><td> 3.298672</td><td>rod-shaped</td><td>Shewanella colwelliana   </td><td>Shewanella  </td><td>Shewanellaceae   </td><td>Alteromonadales</td><td>⋯</td><td>species</td><td>G000518705</td><td>4575622</td><td>45.39</td><td>4094</td><td>87.38314</td><td>0</td><td>-0.6533632</td><td>0.24898652</td><td>1.25</td></tr>\n",
       "</tbody>\n",
       "</table>\n"
      ],
      "text/latex": [
       "A data.frame: 3 × 23\n",
       "\\begin{tabular}{r|lllllllllllllllllllll}\n",
       "  & taxid & length & width & volume & surface & shape & species & genus & family & order & ⋯ & rank & node & genome & gc & proteins & coding & rrnas & MILC & ENCprime & hash\\\\\n",
       "  & <chr> & <dbl> & <dbl> & <dbl> & <dbl> & <chr> & <chr> & <chr> & <chr> & <chr> & ⋯ & <chr> & <chr> & <dbl> & <dbl> & <dbl> & <dbl> & <dbl> & <dbl> & <dbl> & <dbl>\\\\\n",
       "\\hline\n",
       "\t1 & taxid11 &  2.371708 & 1.0606602 & 1.7831870 &  7.902917 & rod-shaped & Cellulomonas gilvus       & Cellulomonas & Cellulomonadaceae & Micrococcales   & ⋯ & species & G000218545 & 3526441 & 73.81 & 3206 & 91.77278 & 2 & -0.2620050 & 0.10083562 & 1.88\\\\\n",
       "\t2 & taxid14 & 10.000000 & 0.4898979 & 1.8541744 & 15.390598 & rod-shaped & Dictyoglomus thermophilum & Dictyoglomus & Dictyoglomaceae   & Dictyoglomales  & ⋯ & species & G000020965 & 1959987 & 33.74 & 1890 & 93.77725 & 2 & -0.0644294 & 0.03020484 & 0.58\\\\\n",
       "\t3 & taxid23 &  1.500000 & 0.7000000 & 0.4874705 &  3.298672 & rod-shaped & Shewanella colwelliana    & Shewanella   & Shewanellaceae    & Alteromonadales & ⋯ & species & G000518705 & 4575622 & 45.39 & 4094 & 87.38314 & 0 & -0.6533632 & 0.24898652 & 1.25\\\\\n",
       "\\end{tabular}\n"
      ],
      "text/markdown": [
       "\n",
       "A data.frame: 3 × 23\n",
       "\n",
       "| <!--/--> | taxid &lt;chr&gt; | length &lt;dbl&gt; | width &lt;dbl&gt; | volume &lt;dbl&gt; | surface &lt;dbl&gt; | shape &lt;chr&gt; | species &lt;chr&gt; | genus &lt;chr&gt; | family &lt;chr&gt; | order &lt;chr&gt; | ⋯ ⋯ | rank &lt;chr&gt; | node &lt;chr&gt; | genome &lt;dbl&gt; | gc &lt;dbl&gt; | proteins &lt;dbl&gt; | coding &lt;dbl&gt; | rrnas &lt;dbl&gt; | MILC &lt;dbl&gt; | ENCprime &lt;dbl&gt; | hash &lt;dbl&gt; |\n",
       "|---|---|---|---|---|---|---|---|---|---|---|---|---|---|---|---|---|---|---|---|---|---|\n",
       "| 1 | taxid11 |  2.371708 | 1.0606602 | 1.7831870 |  7.902917 | rod-shaped | Cellulomonas gilvus       | Cellulomonas | Cellulomonadaceae | Micrococcales   | ⋯ | species | G000218545 | 3526441 | 73.81 | 3206 | 91.77278 | 2 | -0.2620050 | 0.10083562 | 1.88 |\n",
       "| 2 | taxid14 | 10.000000 | 0.4898979 | 1.8541744 | 15.390598 | rod-shaped | Dictyoglomus thermophilum | Dictyoglomus | Dictyoglomaceae   | Dictyoglomales  | ⋯ | species | G000020965 | 1959987 | 33.74 | 1890 | 93.77725 | 2 | -0.0644294 | 0.03020484 | 0.58 |\n",
       "| 3 | taxid23 |  1.500000 | 0.7000000 | 0.4874705 |  3.298672 | rod-shaped | Shewanella colwelliana    | Shewanella   | Shewanellaceae    | Alteromonadales | ⋯ | species | G000518705 | 4575622 | 45.39 | 4094 | 87.38314 | 0 | -0.6533632 | 0.24898652 | 1.25 |\n",
       "\n"
      ],
      "text/plain": [
       "  taxid   length    width     volume    surface   shape     \n",
       "1 taxid11  2.371708 1.0606602 1.7831870  7.902917 rod-shaped\n",
       "2 taxid14 10.000000 0.4898979 1.8541744 15.390598 rod-shaped\n",
       "3 taxid23  1.500000 0.7000000 0.4874705  3.298672 rod-shaped\n",
       "  species                   genus        family            order           ⋯\n",
       "1 Cellulomonas gilvus       Cellulomonas Cellulomonadaceae Micrococcales   ⋯\n",
       "2 Dictyoglomus thermophilum Dictyoglomus Dictyoglomaceae   Dictyoglomales  ⋯\n",
       "3 Shewanella colwelliana    Shewanella   Shewanellaceae    Alteromonadales ⋯\n",
       "  rank    node       genome  gc    proteins coding   rrnas MILC      \n",
       "1 species G000218545 3526441 73.81 3206     91.77278 2     -0.2620050\n",
       "2 species G000020965 1959987 33.74 1890     93.77725 2     -0.0644294\n",
       "3 species G000518705 4575622 45.39 4094     87.38314 0     -0.6533632\n",
       "  ENCprime   hash\n",
       "1 0.10083562 1.88\n",
       "2 0.03020484 0.58\n",
       "3 0.24898652 1.25"
      ]
     },
     "metadata": {},
     "output_type": "display_data"
    }
   ],
   "source": [
    "data <- read.table(\"../phylogeny/place/fine_all.tsv\", header=TRUE, sep=\"\\t\", quote=\"\")\n",
    "head(data, 3)"
   ]
  },
  {
   "cell_type": "markdown",
   "metadata": {},
   "source": [
    "Calculate some metrics"
   ]
  },
  {
   "cell_type": "code",
   "execution_count": 4,
   "metadata": {},
   "outputs": [],
   "source": [
    "data[[paste(\"vsratio\")]] = (data[['volume']] / data[['surface']])"
   ]
  },
  {
   "cell_type": "code",
   "execution_count": 5,
   "metadata": {},
   "outputs": [],
   "source": [
    "data[[paste(\"svratio\")]] = (data[['surface']] / data[['volume']])"
   ]
  },
  {
   "cell_type": "code",
   "execution_count": 6,
   "metadata": {},
   "outputs": [],
   "source": [
    "data[[paste(\"equivalent_spherical\")]] = ((6 * data[['volume']]) / pi) ^ (1/3)"
   ]
  },
  {
   "cell_type": "code",
   "execution_count": 7,
   "metadata": {},
   "outputs": [],
   "source": [
    "data[[paste(\"unscaled_volume\")]] = (data[['volume']]) ^ (1/3)"
   ]
  },
  {
   "cell_type": "code",
   "execution_count": 8,
   "metadata": {},
   "outputs": [],
   "source": [
    "data[[paste(\"unscaled_surface\")]] = (data[['surface']]) ^ (1/3)"
   ]
  },
  {
   "cell_type": "code",
   "execution_count": 9,
   "metadata": {},
   "outputs": [],
   "source": [
    "metrics = c('length', 'width', 'unscaled_volume', 'unscaled_surface', 'svratio', 'vsratio',\n",
    "            'equivalent_spherical', 'volume', 'surface')"
   ]
  },
  {
   "cell_type": "markdown",
   "metadata": {},
   "source": [
    "Log transform metrics"
   ]
  },
  {
   "cell_type": "code",
   "execution_count": 10,
   "metadata": {},
   "outputs": [],
   "source": [
    "for (m in metrics) {\n",
    "    data[[paste(\"log\", m, sep=\"_\")]] = log10(data[[m]])\n",
    "}"
   ]
  },
  {
   "cell_type": "code",
   "execution_count": 11,
   "metadata": {},
   "outputs": [],
   "source": [
    "metrics = c('log_length', 'log_width', 'log_unscaled_volume', 'log_unscaled_surface',\n",
    "            'log_svratio', 'log_vsratio',\n",
    "            'log_equivalent_spherical', 'log_volume', 'log_surface')"
   ]
  },
  {
   "cell_type": "markdown",
   "metadata": {},
   "source": [
    "## Phylogenetic signal: Pagel's $\\lambda$ and Bloomberg's K"
   ]
  },
  {
   "cell_type": "code",
   "execution_count": 12,
   "metadata": {},
   "outputs": [],
   "source": [
    "# Binarize tree - required for geiger package\n",
    "tree2 <- multi2di(tree)"
   ]
  },
  {
   "cell_type": "code",
   "execution_count": 13,
   "metadata": {},
   "outputs": [
    {
     "data": {
      "text/html": [
       "<table class=\"dataframe\">\n",
       "<caption>A data.frame: 0 × 6</caption>\n",
       "<thead>\n",
       "\t<tr><th scope=col>lambda</th><th scope=col>pval0</th><th scope=col>pval1</th><th scope=col>sigsq</th><th scope=col>sigsq_unb</th><th scope=col>lnL</th></tr>\n",
       "\t<tr><th scope=col>&lt;lgl&gt;</th><th scope=col>&lt;lgl&gt;</th><th scope=col>&lt;lgl&gt;</th><th scope=col>&lt;lgl&gt;</th><th scope=col>&lt;lgl&gt;</th><th scope=col>&lt;lgl&gt;</th></tr>\n",
       "</thead>\n",
       "<tbody>\n",
       "</tbody>\n",
       "</table>\n"
      ],
      "text/latex": [
       "A data.frame: 0 × 6\n",
       "\\begin{tabular}{llllll}\n",
       " lambda & pval0 & pval1 & sigsq & sigsq\\_unb & lnL\\\\\n",
       " <lgl> & <lgl> & <lgl> & <lgl> & <lgl> & <lgl>\\\\\n",
       "\\hline\n",
       "\\end{tabular}\n"
      ],
      "text/markdown": [
       "\n",
       "A data.frame: 0 × 6\n",
       "\n",
       "| lambda &lt;lgl&gt; | pval0 &lt;lgl&gt; | pval1 &lt;lgl&gt; | sigsq &lt;lgl&gt; | sigsq_unb &lt;lgl&gt; | lnL &lt;lgl&gt; |\n",
       "|---|---|---|---|---|---|\n",
       "\n"
      ],
      "text/plain": [
       "     lambda pval0 pval1 sigsq sigsq_unb lnL"
      ]
     },
     "metadata": {},
     "output_type": "display_data"
    }
   ],
   "source": [
    "# Dataframe to save outputs\n",
    "df_geiger <- data.frame(matrix(ncol = 6, nrow = 0))\n",
    "colnames(df_geiger) <- c('lambda', 'pval0', 'pval1', 'sigsq',\n",
    "                 'sigsq_unb', 'lnL')\n",
    "df_geiger"
   ]
  },
  {
   "cell_type": "code",
   "execution_count": 14,
   "metadata": {},
   "outputs": [],
   "source": [
    "lambda_sigsq <- function(tree, x){\n",
    "    # Fit model\n",
    "    lambda2 <- fitContinuous(tree, x, model = \"lambda\")\n",
    "    # Reescale tree such that lambda = 0, i.e. star phylogeny\n",
    "    t0 <- rescale(tree, 'lambda', 0)\n",
    "    # Fit tree and trait to a BM model of evolution\n",
    "    lambda_L0 <- fitContinuous(t0, x, model = 'BM')\n",
    "    # Likelihood ratio test\n",
    "    LLR0 <- -2 * (lambda_L0$opt$lnL - lambda2$opt$lnL)\n",
    "    # Get a p-value from a chi-sq distribution\n",
    "    pval0 <- pchisq(LLR0, df = 1, lower.tail = FALSE)\n",
    "    \n",
    "    # Test if lambda != 1\n",
    "    lambda_L1 <- fitContinuous(tree, x, model = 'BM')\n",
    "    # Likelihood ratio test\n",
    "    LLR1 <- -2 * (lambda_L1$opt$lnL - lambda2$opt$lnL)\n",
    "    # Get a p-value\n",
    "    pval1 <- pchisq(LLR1, df = 1, lower.tail = FALSE)\n",
    "    # sigsq\n",
    "    sigsq <- lambda2$opt$sigsq\n",
    "    # Get the unbiased estimator of sigsq\n",
    "    sigsq_unb <- lambda2$opt$sigsq * length(tree$tip.label)/(length(tree$tip.label)-1)\n",
    "    # Get the likelihood\n",
    "    lnL <- lambda2$opt$lnL\n",
    "    \n",
    "    return(list(lambda = lambda2$opt$lambda, pval0 = pval0, \n",
    "                pval1 = pval1, sigsq = sigsq, sigsq_unb = sigsq_unb,\n",
    "               lnL = lnL))\n",
    "}"
   ]
  },
  {
   "cell_type": "code",
   "execution_count": 15,
   "metadata": {},
   "outputs": [
    {
     "name": "stdout",
     "output_type": "stream",
     "text": [
      "[1] \"log_length\"\n",
      "[1] \"log_width\"\n",
      "[1] \"log_unscaled_volume\"\n",
      "[1] \"log_unscaled_surface\"\n",
      "[1] \"log_svratio\"\n",
      "[1] \"log_vsratio\"\n",
      "[1] \"log_equivalent_spherical\"\n",
      "[1] \"log_volume\"\n",
      "[1] \"log_surface\"\n"
     ]
    }
   ],
   "source": [
    "for (m in metrics) {\n",
    "    print(m)\n",
    "    datum <- setNames(data[[m]], data$taxid)\n",
    "    l_sq <- lambda_sigsq(tree2, datum)\n",
    "    df_geiger[nrow(df_geiger) + 1,] <- c(l_sq$lambda, l_sq$pval0, l_sq$pval1, l_sq$sigsq,\n",
    "                                    l_sq$sigsq_unb, l_sq$lnL)\n",
    "    rownames(df_geiger)[nrow(df_geiger)] <- m\n",
    "}"
   ]
  },
  {
   "cell_type": "code",
   "execution_count": 16,
   "metadata": {},
   "outputs": [
    {
     "data": {
      "text/html": [
       "<table class=\"dataframe\">\n",
       "<caption>A data.frame: 9 × 6</caption>\n",
       "<thead>\n",
       "\t<tr><th></th><th scope=col>lambda</th><th scope=col>pval0</th><th scope=col>pval1</th><th scope=col>sigsq</th><th scope=col>sigsq_unb</th><th scope=col>lnL</th></tr>\n",
       "\t<tr><th></th><th scope=col>&lt;dbl&gt;</th><th scope=col>&lt;dbl&gt;</th><th scope=col>&lt;dbl&gt;</th><th scope=col>&lt;dbl&gt;</th><th scope=col>&lt;dbl&gt;</th><th scope=col>&lt;dbl&gt;</th></tr>\n",
       "</thead>\n",
       "<tbody>\n",
       "\t<tr><th scope=row>log_length</th><td>0.8959288</td><td>0</td><td> 2.551824e-81</td><td>0.18584154</td><td>0.18587609</td><td>  180.9122</td></tr>\n",
       "\t<tr><th scope=row>log_width</th><td>0.8416497</td><td>0</td><td>4.716602e-117</td><td>0.09463752</td><td>0.09465511</td><td> 1591.7989</td></tr>\n",
       "\t<tr><th scope=row>log_unscaled_volume</th><td>0.8329569</td><td>0</td><td>5.925951e-128</td><td>0.07613246</td><td>0.07614661</td><td> 2119.0055</td></tr>\n",
       "\t<tr><th scope=row>log_unscaled_surface</th><td>0.8484166</td><td>0</td><td>3.590505e-118</td><td>0.03796813</td><td>0.03797518</td><td> 4094.9590</td></tr>\n",
       "\t<tr><th scope=row>log_svratio</th><td>0.8296685</td><td>0</td><td>3.891426e-129</td><td>0.08086371</td><td>0.08087874</td><td> 1935.2597</td></tr>\n",
       "\t<tr><th scope=row>log_vsratio</th><td>0.8296685</td><td>0</td><td>3.891426e-129</td><td>0.08086371</td><td>0.08087874</td><td> 1935.2597</td></tr>\n",
       "\t<tr><th scope=row>log_equivalent_spherical</th><td>0.8329620</td><td>0</td><td>5.925950e-128</td><td>0.07613377</td><td>0.07614792</td><td> 2119.0055</td></tr>\n",
       "\t<tr><th scope=row>log_volume</th><td>0.8329569</td><td>0</td><td>5.925951e-128</td><td>0.68519211</td><td>0.68531949</td><td>-3791.5286</td></tr>\n",
       "\t<tr><th scope=row>log_surface</th><td>0.8484166</td><td>0</td><td>3.590505e-118</td><td>0.34171313</td><td>0.34177666</td><td>-1815.5751</td></tr>\n",
       "</tbody>\n",
       "</table>\n"
      ],
      "text/latex": [
       "A data.frame: 9 × 6\n",
       "\\begin{tabular}{r|llllll}\n",
       "  & lambda & pval0 & pval1 & sigsq & sigsq\\_unb & lnL\\\\\n",
       "  & <dbl> & <dbl> & <dbl> & <dbl> & <dbl> & <dbl>\\\\\n",
       "\\hline\n",
       "\tlog\\_length & 0.8959288 & 0 &  2.551824e-81 & 0.18584154 & 0.18587609 &   180.9122\\\\\n",
       "\tlog\\_width & 0.8416497 & 0 & 4.716602e-117 & 0.09463752 & 0.09465511 &  1591.7989\\\\\n",
       "\tlog\\_unscaled\\_volume & 0.8329569 & 0 & 5.925951e-128 & 0.07613246 & 0.07614661 &  2119.0055\\\\\n",
       "\tlog\\_unscaled\\_surface & 0.8484166 & 0 & 3.590505e-118 & 0.03796813 & 0.03797518 &  4094.9590\\\\\n",
       "\tlog\\_svratio & 0.8296685 & 0 & 3.891426e-129 & 0.08086371 & 0.08087874 &  1935.2597\\\\\n",
       "\tlog\\_vsratio & 0.8296685 & 0 & 3.891426e-129 & 0.08086371 & 0.08087874 &  1935.2597\\\\\n",
       "\tlog\\_equivalent\\_spherical & 0.8329620 & 0 & 5.925950e-128 & 0.07613377 & 0.07614792 &  2119.0055\\\\\n",
       "\tlog\\_volume & 0.8329569 & 0 & 5.925951e-128 & 0.68519211 & 0.68531949 & -3791.5286\\\\\n",
       "\tlog\\_surface & 0.8484166 & 0 & 3.590505e-118 & 0.34171313 & 0.34177666 & -1815.5751\\\\\n",
       "\\end{tabular}\n"
      ],
      "text/markdown": [
       "\n",
       "A data.frame: 9 × 6\n",
       "\n",
       "| <!--/--> | lambda &lt;dbl&gt; | pval0 &lt;dbl&gt; | pval1 &lt;dbl&gt; | sigsq &lt;dbl&gt; | sigsq_unb &lt;dbl&gt; | lnL &lt;dbl&gt; |\n",
       "|---|---|---|---|---|---|---|\n",
       "| log_length | 0.8959288 | 0 |  2.551824e-81 | 0.18584154 | 0.18587609 |   180.9122 |\n",
       "| log_width | 0.8416497 | 0 | 4.716602e-117 | 0.09463752 | 0.09465511 |  1591.7989 |\n",
       "| log_unscaled_volume | 0.8329569 | 0 | 5.925951e-128 | 0.07613246 | 0.07614661 |  2119.0055 |\n",
       "| log_unscaled_surface | 0.8484166 | 0 | 3.590505e-118 | 0.03796813 | 0.03797518 |  4094.9590 |\n",
       "| log_svratio | 0.8296685 | 0 | 3.891426e-129 | 0.08086371 | 0.08087874 |  1935.2597 |\n",
       "| log_vsratio | 0.8296685 | 0 | 3.891426e-129 | 0.08086371 | 0.08087874 |  1935.2597 |\n",
       "| log_equivalent_spherical | 0.8329620 | 0 | 5.925950e-128 | 0.07613377 | 0.07614792 |  2119.0055 |\n",
       "| log_volume | 0.8329569 | 0 | 5.925951e-128 | 0.68519211 | 0.68531949 | -3791.5286 |\n",
       "| log_surface | 0.8484166 | 0 | 3.590505e-118 | 0.34171313 | 0.34177666 | -1815.5751 |\n",
       "\n"
      ],
      "text/plain": [
       "                         lambda    pval0 pval1         sigsq      sigsq_unb \n",
       "log_length               0.8959288 0      2.551824e-81 0.18584154 0.18587609\n",
       "log_width                0.8416497 0     4.716602e-117 0.09463752 0.09465511\n",
       "log_unscaled_volume      0.8329569 0     5.925951e-128 0.07613246 0.07614661\n",
       "log_unscaled_surface     0.8484166 0     3.590505e-118 0.03796813 0.03797518\n",
       "log_svratio              0.8296685 0     3.891426e-129 0.08086371 0.08087874\n",
       "log_vsratio              0.8296685 0     3.891426e-129 0.08086371 0.08087874\n",
       "log_equivalent_spherical 0.8329620 0     5.925950e-128 0.07613377 0.07614792\n",
       "log_volume               0.8329569 0     5.925951e-128 0.68519211 0.68531949\n",
       "log_surface              0.8484166 0     3.590505e-118 0.34171313 0.34177666\n",
       "                         lnL       \n",
       "log_length                 180.9122\n",
       "log_width                 1591.7989\n",
       "log_unscaled_volume       2119.0055\n",
       "log_unscaled_surface      4094.9590\n",
       "log_svratio               1935.2597\n",
       "log_vsratio               1935.2597\n",
       "log_equivalent_spherical  2119.0055\n",
       "log_volume               -3791.5286\n",
       "log_surface              -1815.5751"
      ]
     },
     "metadata": {},
     "output_type": "display_data"
    }
   ],
   "source": [
    "df_geiger"
   ]
  },
  {
   "cell_type": "code",
   "execution_count": 17,
   "metadata": {},
   "outputs": [],
   "source": [
    "write.table(df_geiger, \"physig/lambda-sigsq.tsv\", sep = \"\\t\", quote = FALSE)"
   ]
  },
  {
   "cell_type": "markdown",
   "metadata": {},
   "source": [
    "Blomberg's K"
   ]
  },
  {
   "cell_type": "code",
   "execution_count": 18,
   "metadata": {},
   "outputs": [],
   "source": [
    "df_k <- data.frame(matrix(ncol = 2, nrow = 0))\n",
    "colnames(df_k) <- c(\"K\", \"P\")"
   ]
  },
  {
   "cell_type": "code",
   "execution_count": 19,
   "metadata": {},
   "outputs": [],
   "source": [
    "for (m in metrics) {\n",
    "    set.seed(42)\n",
    "    datum <- setNames(data[[m]], data$taxid)\n",
    "    K <- phylosig(tree2, datum, method = \"K\", test = TRUE)\n",
    "    df_k[nrow(df_k) + 1,] <- c(K$K, K$P)\n",
    "    rownames(df_k)[nrow(df_k)] <- m\n",
    "}"
   ]
  },
  {
   "cell_type": "markdown",
   "metadata": {},
   "source": [
    "## Evolutionary models"
   ]
  },
  {
   "cell_type": "code",
   "execution_count": 20,
   "metadata": {},
   "outputs": [
    {
     "data": {
      "text/html": [
       "<table class=\"dataframe\">\n",
       "<caption>A data.frame: 0 × 6</caption>\n",
       "<thead>\n",
       "\t<tr><th scope=col>sigma</th><th scope=col>zo</th><th scope=col>parameter</th><th scope=col>lnl</th><th scope=col>aic</th><th scope=col>aic_weight</th></tr>\n",
       "\t<tr><th scope=col>&lt;lgl&gt;</th><th scope=col>&lt;lgl&gt;</th><th scope=col>&lt;lgl&gt;</th><th scope=col>&lt;lgl&gt;</th><th scope=col>&lt;lgl&gt;</th><th scope=col>&lt;lgl&gt;</th></tr>\n",
       "</thead>\n",
       "<tbody>\n",
       "</tbody>\n",
       "</table>\n"
      ],
      "text/latex": [
       "A data.frame: 0 × 6\n",
       "\\begin{tabular}{llllll}\n",
       " sigma & zo & parameter & lnl & aic & aic\\_weight\\\\\n",
       " <lgl> & <lgl> & <lgl> & <lgl> & <lgl> & <lgl>\\\\\n",
       "\\hline\n",
       "\\end{tabular}\n"
      ],
      "text/markdown": [
       "\n",
       "A data.frame: 0 × 6\n",
       "\n",
       "| sigma &lt;lgl&gt; | zo &lt;lgl&gt; | parameter &lt;lgl&gt; | lnl &lt;lgl&gt; | aic &lt;lgl&gt; | aic_weight &lt;lgl&gt; |\n",
       "|---|---|---|---|---|---|\n",
       "\n"
      ],
      "text/plain": [
       "     sigma zo parameter lnl aic aic_weight"
      ]
     },
     "metadata": {},
     "output_type": "display_data"
    }
   ],
   "source": [
    "# Dataframe to save outputs\n",
    "df_models <- data.frame(matrix(ncol=6, nrow=0))\n",
    "colnames(df_models) <- c('sigma', 'zo', 'parameter', 'lnl', 'aic', 'aic_weight')\n",
    "df_models"
   ]
  },
  {
   "cell_type": "code",
   "execution_count": null,
   "metadata": {},
   "outputs": [
    {
     "name": "stdout",
     "output_type": "stream",
     "text": [
      "[1] \"log_length\"\n"
     ]
    },
    {
     "name": "stderr",
     "output_type": "stream",
     "text": [
      "Warning message in fitContinuous(tree2, datum, model = \"OU\", ncores = 24, bounds = list(alpha = c(0, :\n",
      "“Non-ultrametric tree with OU model, using VCV method.”\n",
      "Warning message in cache$dat - mu:\n",
      "“Recycling array of length 1 in vector-array arithmetic is deprecated.\n",
      "  Use c() or as.vector() instead.\n",
      "”\n",
      "Warning message in cache$dat - mu:\n",
      "“Recycling array of length 1 in vector-array arithmetic is deprecated.\n",
      "  Use c() or as.vector() instead.\n",
      "”\n"
     ]
    },
    {
     "name": "stdout",
     "output_type": "stream",
     "text": [
      "[1] \"log_width\"\n"
     ]
    },
    {
     "name": "stderr",
     "output_type": "stream",
     "text": [
      "Warning message in fitContinuous(tree2, datum, model = \"OU\", ncores = 24, bounds = list(alpha = c(0, :\n",
      "“Non-ultrametric tree with OU model, using VCV method.”\n",
      "Warning message in cache$dat - mu:\n",
      "“Recycling array of length 1 in vector-array arithmetic is deprecated.\n",
      "  Use c() or as.vector() instead.\n",
      "”\n",
      "Warning message in cache$dat - mu:\n",
      "“Recycling array of length 1 in vector-array arithmetic is deprecated.\n",
      "  Use c() or as.vector() instead.\n",
      "”\n"
     ]
    },
    {
     "name": "stdout",
     "output_type": "stream",
     "text": [
      "[1] \"log_unscaled_volume\"\n"
     ]
    },
    {
     "name": "stderr",
     "output_type": "stream",
     "text": [
      "Warning message in fitContinuous(tree2, datum, model = \"OU\", ncores = 24, bounds = list(alpha = c(0, :\n",
      "“Non-ultrametric tree with OU model, using VCV method.”\n"
     ]
    }
   ],
   "source": [
    "startTime <- Sys.time()\n",
    "for (m in metrics) {\n",
    "    print(m)\n",
    "    datum <- setNames(data[[m]], data$taxid)\n",
    "    # Models of evolution\n",
    "    bm <- fitContinuous(tree2, datum, model = 'BM', control = list(method = c(\"subplex\",\"L-BFGS-B\"),\n",
    "    niter = 100, FAIL = 1e+200, hessian = FALSE, CI = 0.95))\n",
    "    eb <- fitContinuous(tree2, datum, model = 'EB', control = list(method = c(\"subplex\",\"L-BFGS-B\"),\n",
    "    niter = 100, FAIL = 1e+200, hessian = FALSE, CI = 0.95))\n",
    "    wh <- fitContinuous(tree2, datum, model = 'white', control = list(method = c(\"subplex\",\"L-BFGS-B\"),\n",
    "    niter = 100, FAIL = 1e+200, hessian = FALSE, CI = 0.95))\n",
    "    ou <- fitContinuous(tree2, datum, model = 'OU', ncores = 24, bounds = list(alpha = c(0, 500)))\n",
    "    # Akaike weigths\n",
    "    aic_cs <- setNames(c(AIC(bm), AIC(eb), AIC(wh), AIC(ou)), c('BM', 'EB', 'WH', 'OU'))\n",
    "    aic_cs.w <- aic.w(aic_cs)\n",
    "    # Add to table\n",
    "    # BM\n",
    "    df_models[nrow(df_models) + 1,] <- c(bm$opt$sigsq, bm$opt$z0, '', bm$opt$lnL, bm$opt$aic, aic_cs.w[1])\n",
    "    rownames(df_models)[nrow(df_models)] <- paste(c(m, 'bm'), collapse = '_')\n",
    "    # EB\n",
    "    df_models[nrow(df_models) + 1,] <- c(eb$opt$sigsq, eb$opt$z0, eb$opt$a, eb$opt$lnL, eb$opt$aic, aic_cs.w[2])\n",
    "    rownames(df_models)[nrow(df_models)] <- paste(c(m, 'eb'), collapse = '_')\n",
    "    # WH\n",
    "    df_models[nrow(df_models) + 1,] <- c(wh$opt$sigsq, wh$opt$z0, '', wh$opt$lnL, wh$opt$aic, aic_cs.w[3])\n",
    "    rownames(df_models)[nrow(df_models)] <- paste(c(m, 'wh'), collapse = '_')\n",
    "    # OU\n",
    "    df_models[nrow(df_models) + 1,] <- c(ou$opt$sigsq, ou$opt$z0, ou$opt$alpha, ou$opt$lnL, ou$opt$aic, aic_cs.w[4])\n",
    "    rownames(df_models)[nrow(df_models)] <- paste(c(m, 'ou'), collapse = '_')\n",
    "}\n",
    "endTime <- Sys.time()\n",
    "print(endTime - startTime)"
   ]
  },
  {
   "cell_type": "code",
   "execution_count": null,
   "metadata": {},
   "outputs": [],
   "source": [
    "df_models"
   ]
  },
  {
   "cell_type": "code",
   "execution_count": null,
   "metadata": {},
   "outputs": [],
   "source": [
    "write.table(df_models, \"physig/evol_models.tsv\", sep = \"\\t\", quote = FALSE)"
   ]
  },
  {
   "cell_type": "code",
   "execution_count": null,
   "metadata": {},
   "outputs": [],
   "source": []
  },
  {
   "cell_type": "code",
   "execution_count": null,
   "metadata": {},
   "outputs": [],
   "source": []
  },
  {
   "cell_type": "code",
   "execution_count": null,
   "metadata": {},
   "outputs": [],
   "source": []
  },
  {
   "cell_type": "code",
   "execution_count": null,
   "metadata": {},
   "outputs": [],
   "source": []
  },
  {
   "cell_type": "code",
   "execution_count": null,
   "metadata": {},
   "outputs": [],
   "source": []
  },
  {
   "cell_type": "code",
   "execution_count": null,
   "metadata": {},
   "outputs": [],
   "source": []
  },
  {
   "cell_type": "code",
   "execution_count": null,
   "metadata": {},
   "outputs": [],
   "source": []
  },
  {
   "cell_type": "code",
   "execution_count": null,
   "metadata": {},
   "outputs": [],
   "source": []
  },
  {
   "cell_type": "code",
   "execution_count": null,
   "metadata": {},
   "outputs": [],
   "source": []
  },
  {
   "cell_type": "code",
   "execution_count": null,
   "metadata": {},
   "outputs": [],
   "source": []
  },
  {
   "cell_type": "code",
   "execution_count": null,
   "metadata": {},
   "outputs": [],
   "source": []
  },
  {
   "cell_type": "code",
   "execution_count": null,
   "metadata": {},
   "outputs": [],
   "source": []
  },
  {
   "cell_type": "code",
   "execution_count": null,
   "metadata": {},
   "outputs": [],
   "source": []
  },
  {
   "cell_type": "code",
   "execution_count": null,
   "metadata": {},
   "outputs": [],
   "source": []
  },
  {
   "cell_type": "code",
   "execution_count": null,
   "metadata": {},
   "outputs": [],
   "source": []
  },
  {
   "cell_type": "code",
   "execution_count": null,
   "metadata": {},
   "outputs": [],
   "source": []
  },
  {
   "cell_type": "code",
   "execution_count": null,
   "metadata": {},
   "outputs": [],
   "source": []
  }
 ],
 "metadata": {
  "kernelspec": {
   "display_name": "R",
   "language": "R",
   "name": "ir"
  },
  "language_info": {
   "codemirror_mode": "r",
   "file_extension": ".r",
   "mimetype": "text/x-r-source",
   "name": "R",
   "pygments_lexer": "r",
   "version": "4.1.2"
  }
 },
 "nbformat": 4,
 "nbformat_minor": 4
}
