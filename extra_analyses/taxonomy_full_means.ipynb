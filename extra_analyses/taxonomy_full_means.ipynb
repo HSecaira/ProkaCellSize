{
 "cells": [
  {
   "cell_type": "markdown",
   "id": "fbb936cc-e825-4c2d-b745-33662e50d0f4",
   "metadata": {},
   "source": [
    "# Taxonomy of all collected data (BacDive, PCC, PubMed, Bergey's manual) with different means"
   ]
  },
  {
   "cell_type": "code",
   "execution_count": 1,
   "id": "e7cf0d81-10fe-4ff9-b4f2-e99079909af3",
   "metadata": {},
   "outputs": [],
   "source": [
    "import lzma"
   ]
  },
  {
   "cell_type": "code",
   "execution_count": 2,
   "id": "02a53bba-0f1f-4d46-a159-596b70c40af8",
   "metadata": {},
   "outputs": [],
   "source": [
    "import numpy as np\n",
    "import pandas as pd\n",
    "import matplotlib.pyplot as plt"
   ]
  },
  {
   "cell_type": "code",
   "execution_count": 3,
   "id": "a3cdc1c4-442b-4fd4-9bc8-95492bcb701f",
   "metadata": {},
   "outputs": [],
   "source": [
    "from scipy.stats.mstats import gmean"
   ]
  },
  {
   "cell_type": "markdown",
   "id": "65286c36-affa-45c3-b665-c642ababd7f5",
   "metadata": {},
   "source": [
    "## Reference taxonomy"
   ]
  },
  {
   "cell_type": "markdown",
   "id": "d0f217df-f8bb-4e0a-837d-fa5d9addc04e",
   "metadata": {},
   "source": [
    "NCBI taxonomy database"
   ]
  },
  {
   "cell_type": "code",
   "execution_count": 4,
   "id": "99489747-e80f-494a-aef3-1b54a046a7c2",
   "metadata": {},
   "outputs": [
    {
     "name": "stdout",
     "output_type": "stream",
     "text": [
      "CPU times: user 12.2 s, sys: 727 ms, total: 13 s\n",
      "Wall time: 13 s\n"
     ]
    }
   ],
   "source": [
    "%%time\n",
    "dump = {}\n",
    "with lzma.open('../preprocess/nodes.dmp.xz', 'rb') as f:\n",
    "    for line in f.read().decode().splitlines():\n",
    "        x = line.rstrip('\\r\\n').replace('\\t|', '').split('\\t')\n",
    "        dump[x[0]] = {'parent': x[1], 'rank': x[2], 'name': '', 'children': set()}\n",
    "with lzma.open('../preprocess/names.dmp.xz', 'rb') as f:\n",
    "    for line in f.read().decode().splitlines():\n",
    "        x = line.rstrip('\\r\\n').replace('\\t|', '').split('\\t')\n",
    "        if x[3] == 'scientific name':\n",
    "            dump[x[0]]['name'] = x[1]\n",
    "for tid in dump:\n",
    "    pid = dump[tid]['parent']\n",
    "    if tid != pid:\n",
    "        dump[pid]['children'].add(tid)"
   ]
  },
  {
   "cell_type": "markdown",
   "id": "671566b6-aca0-4f8e-a6d0-018a28d5605c",
   "metadata": {},
   "source": [
    "Load data tables with taxonomic annotations"
   ]
  },
  {
   "cell_type": "markdown",
   "id": "b549fc17-d61e-4a4c-a613-83286caf92e5",
   "metadata": {},
   "source": [
    "# BacDive"
   ]
  },
  {
   "cell_type": "code",
   "execution_count": 5,
   "id": "011ecd09-b4e9-455f-aae1-21e0ed02bba4",
   "metadata": {},
   "outputs": [
    {
     "data": {
      "text/plain": [
       "(4908, 23)"
      ]
     },
     "execution_count": 5,
     "metadata": {},
     "output_type": "execute_result"
    }
   ],
   "source": [
    "df_bacd = pd.read_table('preprocess/data_bacdive.tsv', sep = '\\t')\n",
    "df_bacd.shape"
   ]
  },
  {
   "cell_type": "markdown",
   "id": "2c862897-4e74-416b-b95f-991f2c919e0d",
   "metadata": {},
   "source": [
    "Drop useless columns"
   ]
  },
  {
   "cell_type": "code",
   "execution_count": 6,
   "id": "7648a877-7ebe-4cc6-9d6d-dc6b99be5344",
   "metadata": {},
   "outputs": [],
   "source": [
    "columns = ['Unnamed: 0', 'designation_header', 'strain_number_header', 'is_type_strain_header', 'Reference', 'Length', 'Width',\n",
    "          'length_ranges', 'width_ranges']\n",
    "df_bacd = df_bacd.drop(columns, axis = 1)"
   ]
  },
  {
   "cell_type": "code",
   "execution_count": 7,
   "id": "93740b36-17fd-43a8-bf13-3bb21bbeec21",
   "metadata": {},
   "outputs": [],
   "source": [
    "df_bacd.set_index('ID', inplace = True)"
   ]
  },
  {
   "cell_type": "markdown",
   "id": "5becd45e-4c82-49ec-b00b-40f720f5a81d",
   "metadata": {},
   "source": [
    "Rename columns"
   ]
  },
  {
   "cell_type": "code",
   "execution_count": 8,
   "id": "10091ded-9be8-441c-9dc5-21763a5b6de7",
   "metadata": {},
   "outputs": [],
   "source": [
    "df_bacd.rename(columns = {'Name': 'species', 'Cell Shape': 'shape', 'TaxID': 'taxid', }, inplace = True)"
   ]
  },
  {
   "cell_type": "markdown",
   "id": "324f448f-e533-498d-81c3-dabf491fd216",
   "metadata": {},
   "source": [
    "### Match species to NCBI taxonomy"
   ]
  },
  {
   "cell_type": "code",
   "execution_count": 9,
   "id": "9a36d84b-7d86-4be3-84aa-8091f81e11d7",
   "metadata": {},
   "outputs": [],
   "source": [
    "tids = df_bacd['taxid']"
   ]
  },
  {
   "cell_type": "code",
   "execution_count": 10,
   "id": "cd54c1d7-bea3-4c1c-b009-6ed30a336698",
   "metadata": {},
   "outputs": [
    {
     "data": {
      "text/plain": [
       "(array([False,  True]), array([1328, 2884]))"
      ]
     },
     "execution_count": 10,
     "metadata": {},
     "output_type": "execute_result"
    }
   ],
   "source": [
    "np.unique(tids[tids.notna()].index.astype(str).isin(dump), return_counts=True)"
   ]
  },
  {
   "cell_type": "markdown",
   "id": "80016889-b709-4ddd-9c80-a81219916fab",
   "metadata": {},
   "source": [
    "Match species name"
   ]
  },
  {
   "cell_type": "code",
   "execution_count": 11,
   "id": "6cfd170d-5af5-48a8-9663-82f259397e58",
   "metadata": {},
   "outputs": [],
   "source": [
    "spnames = {v['name']: k for k, v in dump.items() if v['rank'] == 'species'}"
   ]
  },
  {
   "cell_type": "code",
   "execution_count": 12,
   "id": "a9f00e0c-0fa5-4168-bd39-93c7f6dceaba",
   "metadata": {},
   "outputs": [
    {
     "data": {
      "text/plain": [
       "species\n",
       "True     4737\n",
       "False     171\n",
       "Name: count, dtype: int64"
      ]
     },
     "execution_count": 12,
     "metadata": {},
     "output_type": "execute_result"
    }
   ],
   "source": [
    "df_bacd['species'].isin(spnames).value_counts()"
   ]
  },
  {
   "cell_type": "markdown",
   "id": "f5fd8238-171f-40ff-92fb-8d144ac9e5c1",
   "metadata": {},
   "source": [
    "Add species taxid"
   ]
  },
  {
   "cell_type": "code",
   "execution_count": 13,
   "id": "a2bbab30-88b0-4ddb-962e-3e5e5f0c017d",
   "metadata": {},
   "outputs": [],
   "source": [
    "df_bacd['sptid'] = df_bacd['species'].map(spnames)"
   ]
  },
  {
   "cell_type": "markdown",
   "id": "1bc1098a-b864-495f-ac2f-73ddcb97332c",
   "metadata": {},
   "source": [
    "Match subspecies name"
   ]
  },
  {
   "cell_type": "code",
   "execution_count": 14,
   "id": "15ff33bb-ae75-478a-851d-5ca484722eac",
   "metadata": {},
   "outputs": [],
   "source": [
    "sspnames = {v['name']: k for k, v in dump.items() if v['rank'] == 'subspecies'}"
   ]
  },
  {
   "cell_type": "code",
   "execution_count": 15,
   "id": "6e675f6b-c509-4858-b075-e7cdeb13aa4e",
   "metadata": {},
   "outputs": [
    {
     "data": {
      "text/plain": [
       "species\n",
       "False    160\n",
       "True      11\n",
       "Name: count, dtype: int64"
      ]
     },
     "execution_count": 15,
     "metadata": {},
     "output_type": "execute_result"
    }
   ],
   "source": [
    "df_bacd[df_bacd['sptid'].isna()]['species'].isin(sspnames).value_counts()"
   ]
  },
  {
   "cell_type": "markdown",
   "id": "1148ffe7-0a6b-49fd-842e-c7a18e40b131",
   "metadata": {},
   "source": [
    "Elevate subspecies to species"
   ]
  },
  {
   "cell_type": "code",
   "execution_count": 16,
   "id": "937fda3c-6790-494f-8ecc-d50673b239e9",
   "metadata": {},
   "outputs": [],
   "source": [
    "def get_species(tid):\n",
    "    if dump[tid]['rank'] == 'species':\n",
    "        return tid\n",
    "    return get_species(dump[tid]['parent'])"
   ]
  },
  {
   "cell_type": "markdown",
   "id": "9c0ce1a7-3b52-45f2-a66c-956576fb0d46",
   "metadata": {},
   "source": [
    "Add species taxid to subspecies"
   ]
  },
  {
   "cell_type": "code",
   "execution_count": 17,
   "id": "a9a6bbd1-458c-4b6e-9713-f6efd1d3335a",
   "metadata": {},
   "outputs": [],
   "source": [
    "# for idx, val in df_bacd[df_bacd['sptid'].isna()]['species'].iteritems():\n",
    "for idx, val in df_bacd[df_bacd['sptid'].isna()]['species'].items():\n",
    "    if val in sspnames:\n",
    "        df_bacd.at[idx, 'sptid'] = get_species(sspnames[val])"
   ]
  },
  {
   "cell_type": "markdown",
   "id": "e4a85717-125f-42d7-b874-6e3b14b1b377",
   "metadata": {},
   "source": [
    "Check the remaining"
   ]
  },
  {
   "cell_type": "code",
   "execution_count": 18,
   "id": "ba01c934-1609-4018-928c-eb1ed33162ae",
   "metadata": {},
   "outputs": [
    {
     "data": {
      "text/html": [
       "<div>\n",
       "<style scoped>\n",
       "    .dataframe tbody tr th:only-of-type {\n",
       "        vertical-align: middle;\n",
       "    }\n",
       "\n",
       "    .dataframe tbody tr th {\n",
       "        vertical-align: top;\n",
       "    }\n",
       "\n",
       "    .dataframe thead th {\n",
       "        text-align: right;\n",
       "    }\n",
       "</style>\n",
       "<table border=\"1\" class=\"dataframe\">\n",
       "  <thead>\n",
       "    <tr style=\"text-align: right;\">\n",
       "      <th></th>\n",
       "      <th>species</th>\n",
       "      <th>taxid</th>\n",
       "    </tr>\n",
       "    <tr>\n",
       "      <th>ID</th>\n",
       "      <th></th>\n",
       "      <th></th>\n",
       "    </tr>\n",
       "  </thead>\n",
       "  <tbody>\n",
       "    <tr>\n",
       "      <th>140290</th>\n",
       "      <td>Actinomyces liubingyangii</td>\n",
       "      <td>1921764</td>\n",
       "    </tr>\n",
       "    <tr>\n",
       "      <th>158436</th>\n",
       "      <td>Actinomyces tangfeifanii</td>\n",
       "      <td>1912795</td>\n",
       "    </tr>\n",
       "    <tr>\n",
       "      <th>22982</th>\n",
       "      <td>Adlercreutzia caecicola</td>\n",
       "      <td>747645</td>\n",
       "    </tr>\n",
       "    <tr>\n",
       "      <th>13647</th>\n",
       "      <td>Agrobacterium skierniewicense</td>\n",
       "      <td>1368417</td>\n",
       "    </tr>\n",
       "    <tr>\n",
       "      <th>134060</th>\n",
       "      <td>Algibacter wandonensis</td>\n",
       "      <td>1343161</td>\n",
       "    </tr>\n",
       "  </tbody>\n",
       "</table>\n",
       "</div>"
      ],
      "text/plain": [
       "                              species    taxid\n",
       "ID                                            \n",
       "140290      Actinomyces liubingyangii  1921764\n",
       "158436       Actinomyces tangfeifanii  1912795\n",
       "22982         Adlercreutzia caecicola   747645\n",
       "13647   Agrobacterium skierniewicense  1368417\n",
       "134060         Algibacter wandonensis  1343161"
      ]
     },
     "execution_count": 18,
     "metadata": {},
     "output_type": "execute_result"
    }
   ],
   "source": [
    "df_bacd_ = df_bacd[df_bacd['sptid'].isna()].dropna(subset=['taxid'])[['species', 'taxid']].copy()\n",
    "df_bacd_['taxid'] = df_bacd_['taxid'].astype(int).astype(str)\n",
    "df_bacd_.head()"
   ]
  },
  {
   "cell_type": "code",
   "execution_count": 19,
   "id": "ececb586-f045-459a-88b8-a36420d05a0e",
   "metadata": {},
   "outputs": [
    {
     "data": {
      "text/plain": [
       "(142, 2)"
      ]
     },
     "execution_count": 19,
     "metadata": {},
     "output_type": "execute_result"
    }
   ],
   "source": [
    "df_bacd_.shape"
   ]
  },
  {
   "cell_type": "markdown",
   "id": "36006cad-4bb9-4b8b-935d-03116db6e70c",
   "metadata": {},
   "source": [
    "Check if these TaxIDs exist in taxdump."
   ]
  },
  {
   "cell_type": "code",
   "execution_count": 20,
   "id": "aca465f9-d88a-48fe-97b0-e25dc6e5de2e",
   "metadata": {},
   "outputs": [
    {
     "data": {
      "text/plain": [
       "138"
      ]
     },
     "execution_count": 20,
     "metadata": {},
     "output_type": "execute_result"
    }
   ],
   "source": [
    "df_bacd_ = df_bacd_[df_bacd_['taxid'].isin(dump)]\n",
    "df_bacd_.shape[0]"
   ]
  },
  {
   "cell_type": "markdown",
   "id": "8d998ab4-44e0-440f-aae3-93bc740dee70",
   "metadata": {},
   "source": [
    "Check if these taxids are species"
   ]
  },
  {
   "cell_type": "code",
   "execution_count": 21,
   "id": "1e23f08e-e518-4f1f-9092-137dbe765986",
   "metadata": {},
   "outputs": [
    {
     "data": {
      "text/plain": [
       "119"
      ]
     },
     "execution_count": 21,
     "metadata": {},
     "output_type": "execute_result"
    }
   ],
   "source": [
    "dfx_bacd = df_bacd_[df_bacd_['taxid'].apply(lambda x: dump[x]['rank'] == 'species')]\n",
    "dfx_bacd.shape[0]"
   ]
  },
  {
   "cell_type": "markdown",
   "id": "5e3d802d-fd01-4038-a2d1-137af2192535",
   "metadata": {},
   "source": [
    "Add species taxids"
   ]
  },
  {
   "cell_type": "code",
   "execution_count": 22,
   "id": "14267939-5e2a-4b68-a4b4-8d1413ee3468",
   "metadata": {},
   "outputs": [],
   "source": [
    "# for idx, val in dfx_bacd['taxid'].iteritems():\n",
    "for idx, val in dfx_bacd['taxid'].items():\n",
    "    df_bacd.at[idx, 'sptid'] = val"
   ]
  },
  {
   "cell_type": "markdown",
   "id": "fc8d7903-006e-4b00-8cf9-3cb0c04d0703",
   "metadata": {},
   "source": [
    "If not species, check if they are lower than species."
   ]
  },
  {
   "cell_type": "code",
   "execution_count": 23,
   "id": "bf1d79e8-bb91-447f-aada-e81c018eaa2e",
   "metadata": {},
   "outputs": [
    {
     "data": {
      "text/plain": [
       "19"
      ]
     },
     "execution_count": 23,
     "metadata": {},
     "output_type": "execute_result"
    }
   ],
   "source": [
    "dfx_bacd = df_bacd_[df_bacd_['taxid'].apply(lambda x: dump[x]['rank'] != 'species')]\n",
    "dfx_bacd.shape[0]"
   ]
  },
  {
   "cell_type": "code",
   "execution_count": 24,
   "id": "a6da874d-d023-4a84-aa1e-b3a169efdc1a",
   "metadata": {},
   "outputs": [
    {
     "data": {
      "text/plain": [
       "ID\n",
       "13647    strain\n",
       "2095     strain\n",
       "2099     strain\n",
       "1225     strain\n",
       "1254     strain\n",
       "Name: taxid, dtype: object"
      ]
     },
     "execution_count": 24,
     "metadata": {},
     "output_type": "execute_result"
    }
   ],
   "source": [
    "dfx_bacd['taxid'].apply(lambda x: dump[x]['rank']).head()"
   ]
  },
  {
   "cell_type": "markdown",
   "id": "f8970977-127e-44f6-91a6-6129dc5b1a3a",
   "metadata": {},
   "source": [
    "Elevate ranks to species"
   ]
  },
  {
   "cell_type": "code",
   "execution_count": 25,
   "id": "3b9b9fe7-2095-40a5-a78a-87ad8d33d4de",
   "metadata": {},
   "outputs": [],
   "source": [
    "tids_ = dfx_bacd['taxid'].apply(get_species)"
   ]
  },
  {
   "cell_type": "code",
   "execution_count": 26,
   "id": "75a4efc4-c7bd-41d0-9a57-f44e20f5f67c",
   "metadata": {},
   "outputs": [],
   "source": [
    "# for idx, val in tids_.iteritems():\n",
    "for idx, val in tids_.items():\n",
    "    df_bacd.at[idx, 'sptid'] = val\n",
    "    df_bacd.at[idx, 'sptid'] = val"
   ]
  },
  {
   "cell_type": "markdown",
   "id": "369eab99-583c-4bad-ae09-a6f474692f33",
   "metadata": {},
   "source": [
    "Check remaining"
   ]
  },
  {
   "cell_type": "code",
   "execution_count": 27,
   "id": "b0ed4117-3269-45c8-80f3-aa3076d2e774",
   "metadata": {},
   "outputs": [
    {
     "data": {
      "text/html": [
       "<div>\n",
       "<style scoped>\n",
       "    .dataframe tbody tr th:only-of-type {\n",
       "        vertical-align: middle;\n",
       "    }\n",
       "\n",
       "    .dataframe tbody tr th {\n",
       "        vertical-align: top;\n",
       "    }\n",
       "\n",
       "    .dataframe thead th {\n",
       "        text-align: right;\n",
       "    }\n",
       "</style>\n",
       "<table border=\"1\" class=\"dataframe\">\n",
       "  <thead>\n",
       "    <tr style=\"text-align: right;\">\n",
       "      <th></th>\n",
       "      <th>species</th>\n",
       "      <th>shape</th>\n",
       "      <th>taxid</th>\n",
       "      <th>length_gmean</th>\n",
       "      <th>width_gmean</th>\n",
       "      <th>length_amean</th>\n",
       "      <th>width_amean</th>\n",
       "      <th>volume_gmean</th>\n",
       "      <th>surface_gmean</th>\n",
       "      <th>volume_amean</th>\n",
       "      <th>surface_amean</th>\n",
       "      <th>length_ranges_fix</th>\n",
       "      <th>width_ranges_fix</th>\n",
       "      <th>sptid</th>\n",
       "    </tr>\n",
       "    <tr>\n",
       "      <th>ID</th>\n",
       "      <th></th>\n",
       "      <th></th>\n",
       "      <th></th>\n",
       "      <th></th>\n",
       "      <th></th>\n",
       "      <th></th>\n",
       "      <th></th>\n",
       "      <th></th>\n",
       "      <th></th>\n",
       "      <th></th>\n",
       "      <th></th>\n",
       "      <th></th>\n",
       "      <th></th>\n",
       "      <th></th>\n",
       "    </tr>\n",
       "  </thead>\n",
       "  <tbody>\n",
       "    <tr>\n",
       "      <th>134060</th>\n",
       "      <td>Algibacter wandonensis</td>\n",
       "      <td>rod-shaped</td>\n",
       "      <td>1343161.0</td>\n",
       "      <td>3.300000</td>\n",
       "      <td>0.300000</td>\n",
       "      <td>3.300</td>\n",
       "      <td>0.30</td>\n",
       "      <td>0.226195</td>\n",
       "      <td>3.110177</td>\n",
       "      <td>0.226195</td>\n",
       "      <td>3.110177</td>\n",
       "      <td>[3.3, 3.3]</td>\n",
       "      <td>[0.3, 0.3]</td>\n",
       "      <td>NaN</td>\n",
       "    </tr>\n",
       "    <tr>\n",
       "      <th>140729</th>\n",
       "      <td>Altererythrobacter aquaemixtae</td>\n",
       "      <td>rod-shaped</td>\n",
       "      <td>NaN</td>\n",
       "      <td>0.387298</td>\n",
       "      <td>0.282843</td>\n",
       "      <td>0.400</td>\n",
       "      <td>0.30</td>\n",
       "      <td>0.018411</td>\n",
       "      <td>0.344144</td>\n",
       "      <td>0.021206</td>\n",
       "      <td>0.376991</td>\n",
       "      <td>[0.3, 0.5]</td>\n",
       "      <td>[0.2, 0.4]</td>\n",
       "      <td>NaN</td>\n",
       "    </tr>\n",
       "    <tr>\n",
       "      <th>140987</th>\n",
       "      <td>Altererythrobacter halimionae</td>\n",
       "      <td>rod-shaped</td>\n",
       "      <td>NaN</td>\n",
       "      <td>2.379160</td>\n",
       "      <td>0.692820</td>\n",
       "      <td>2.575</td>\n",
       "      <td>0.73</td>\n",
       "      <td>0.809860</td>\n",
       "      <td>5.178382</td>\n",
       "      <td>0.975893</td>\n",
       "      <td>5.905409</td>\n",
       "      <td>[1.59, 3.56]</td>\n",
       "      <td>[0.5, 0.96]</td>\n",
       "      <td>NaN</td>\n",
       "    </tr>\n",
       "    <tr>\n",
       "      <th>158561</th>\n",
       "      <td>Altererythrobacter mangrovi</td>\n",
       "      <td>rod-shaped</td>\n",
       "      <td>NaN</td>\n",
       "      <td>1.232883</td>\n",
       "      <td>0.424264</td>\n",
       "      <td>1.350</td>\n",
       "      <td>0.45</td>\n",
       "      <td>0.154302</td>\n",
       "      <td>1.643266</td>\n",
       "      <td>0.190852</td>\n",
       "      <td>1.908518</td>\n",
       "      <td>[0.8, 1.9]</td>\n",
       "      <td>[0.3, 0.6]</td>\n",
       "      <td>NaN</td>\n",
       "    </tr>\n",
       "    <tr>\n",
       "      <th>140815</th>\n",
       "      <td>Altererythrobacter rigui</td>\n",
       "      <td>rod-shaped</td>\n",
       "      <td>NaN</td>\n",
       "      <td>0.604483</td>\n",
       "      <td>0.493559</td>\n",
       "      <td>0.605</td>\n",
       "      <td>0.50</td>\n",
       "      <td>0.084175</td>\n",
       "      <td>0.937287</td>\n",
       "      <td>0.086067</td>\n",
       "      <td>0.950332</td>\n",
       "      <td>[0.58, 0.63]</td>\n",
       "      <td>[0.42, 0.58]</td>\n",
       "      <td>NaN</td>\n",
       "    </tr>\n",
       "  </tbody>\n",
       "</table>\n",
       "</div>"
      ],
      "text/plain": [
       "                               species       shape      taxid  length_gmean  \\\n",
       "ID                                                                            \n",
       "134060          Algibacter wandonensis  rod-shaped  1343161.0      3.300000   \n",
       "140729  Altererythrobacter aquaemixtae  rod-shaped        NaN      0.387298   \n",
       "140987   Altererythrobacter halimionae  rod-shaped        NaN      2.379160   \n",
       "158561     Altererythrobacter mangrovi  rod-shaped        NaN      1.232883   \n",
       "140815        Altererythrobacter rigui  rod-shaped        NaN      0.604483   \n",
       "\n",
       "        width_gmean  length_amean  width_amean  volume_gmean  surface_gmean  \\\n",
       "ID                                                                            \n",
       "134060     0.300000         3.300         0.30      0.226195       3.110177   \n",
       "140729     0.282843         0.400         0.30      0.018411       0.344144   \n",
       "140987     0.692820         2.575         0.73      0.809860       5.178382   \n",
       "158561     0.424264         1.350         0.45      0.154302       1.643266   \n",
       "140815     0.493559         0.605         0.50      0.084175       0.937287   \n",
       "\n",
       "        volume_amean  surface_amean length_ranges_fix width_ranges_fix sptid  \n",
       "ID                                                                            \n",
       "134060      0.226195       3.110177        [3.3, 3.3]       [0.3, 0.3]   NaN  \n",
       "140729      0.021206       0.376991        [0.3, 0.5]       [0.2, 0.4]   NaN  \n",
       "140987      0.975893       5.905409      [1.59, 3.56]      [0.5, 0.96]   NaN  \n",
       "158561      0.190852       1.908518        [0.8, 1.9]       [0.3, 0.6]   NaN  \n",
       "140815      0.086067       0.950332      [0.58, 0.63]     [0.42, 0.58]   NaN  "
      ]
     },
     "execution_count": 27,
     "metadata": {},
     "output_type": "execute_result"
    }
   ],
   "source": [
    "df_bacd_ = df_bacd[df_bacd['sptid'].isna()]\n",
    "df_bacd_.head()"
   ]
  },
  {
   "cell_type": "code",
   "execution_count": 28,
   "id": "5d326eca-3477-40b2-a39d-cd573bfb983b",
   "metadata": {},
   "outputs": [
    {
     "data": {
      "text/plain": [
       "22"
      ]
     },
     "execution_count": 28,
     "metadata": {},
     "output_type": "execute_result"
    }
   ],
   "source": [
    "df_bacd_.shape[0]"
   ]
  },
  {
   "cell_type": "markdown",
   "id": "2b0de2c0-1aca-407e-8543-1c13d50bc679",
   "metadata": {},
   "source": [
    "Manually curate these entries"
   ]
  },
  {
   "cell_type": "code",
   "execution_count": 29,
   "id": "f83fc8d6-669c-4579-b26a-2633829654f6",
   "metadata": {},
   "outputs": [],
   "source": [
    "tidmap = {'134060': '221126',\n",
    "          '140729': '1958940',\n",
    "          '140987': '1926630',\n",
    "          '158561': '1982042',\n",
    "          '140815': '1708790',\n",
    "          '140743': '1476466',\n",
    "          '158655': '1912871',\n",
    "          '140702': '1904463',\n",
    "          '158725': '1983720',\n",
    "          '158610': '1707093',\n",
    "          '141013': '2036016',\n",
    "          '140739': '1505588',\n",
    "          '158534': '1967665',\n",
    "          '141131': '1462440',\n",
    "          '140758': '1850444',\n",
    "          '133146': '1542729',\n",
    "          '134303': '81932',\n",
    "          '140782': '1807134',\n",
    "          '134174': '323273',\n",
    "          '24597':  '1276936',\n",
    "          '1496':   '698769'}"
   ]
  },
  {
   "cell_type": "code",
   "execution_count": 30,
   "id": "0dd2ebae-985d-4af1-aa9c-1ef4b8de6a33",
   "metadata": {},
   "outputs": [],
   "source": [
    "for key, val in tidmap.items():\n",
    "    df_bacd.at[int(key), 'sptid'] = val"
   ]
  },
  {
   "cell_type": "code",
   "execution_count": 31,
   "id": "c54e4186-fd9c-475b-8422-876351e0be33",
   "metadata": {},
   "outputs": [
    {
     "data": {
      "text/plain": [
       "4907"
      ]
     },
     "execution_count": 31,
     "metadata": {},
     "output_type": "execute_result"
    }
   ],
   "source": [
    "df_bacd = df_bacd.dropna(subset=['sptid'])\n",
    "df_bacd.shape[0]"
   ]
  },
  {
   "cell_type": "markdown",
   "id": "5a32cdc8-4c67-4592-a147-576b90b6a698",
   "metadata": {},
   "source": [
    "Curate species"
   ]
  },
  {
   "cell_type": "code",
   "execution_count": 32,
   "id": "cada4111-cd1e-4daf-9492-57ab4c7eba9b",
   "metadata": {},
   "outputs": [],
   "source": [
    "df_bacd.at[3073, 'shape'] = 'rod-shaped'"
   ]
  },
  {
   "cell_type": "code",
   "execution_count": 33,
   "id": "39650630-64ac-43bf-8b9f-abf7f81f4d1e",
   "metadata": {},
   "outputs": [],
   "source": [
    "shapes = dict(df_bacd[['sptid', 'shape']].drop_duplicates('sptid').values)"
   ]
  },
  {
   "cell_type": "code",
   "execution_count": 34,
   "id": "8d67fbc0-d9fa-466c-b18e-9a97587b8e23",
   "metadata": {},
   "outputs": [],
   "source": [
    "ranges_length = dict(df_bacd[['sptid', 'length_ranges_fix']].drop_duplicates('sptid').values)\n",
    "ranges_length = dict(df_bacd[['sptid', 'width_ranges_fix']].drop_duplicates('sptid').values)"
   ]
  },
  {
   "cell_type": "markdown",
   "id": "57409de8-d3f9-475f-b042-dfa06bb6b7d5",
   "metadata": {},
   "source": [
    "Check duplicate species"
   ]
  },
  {
   "cell_type": "code",
   "execution_count": 35,
   "id": "038db2b4-4681-4010-bbe3-2bf8dbd410ad",
   "metadata": {},
   "outputs": [
    {
     "data": {
      "text/plain": [
       "count\n",
       "1    4847\n",
       "2      24\n",
       "3       4\n",
       "Name: count, dtype: int64"
      ]
     },
     "execution_count": 35,
     "metadata": {},
     "output_type": "execute_result"
    }
   ],
   "source": [
    "df_bacd['sptid'].value_counts().value_counts()"
   ]
  },
  {
   "cell_type": "markdown",
   "id": "2b57ccb5-0e29-4c17-b6a6-1908b796b491",
   "metadata": {},
   "source": [
    "Group organisms by species taxid and calculate geometric/arithmetic mean per species."
   ]
  },
  {
   "cell_type": "code",
   "execution_count": 36,
   "id": "71ae1448-1e14-4e71-a7bb-c8f2fa5445b2",
   "metadata": {},
   "outputs": [],
   "source": [
    "cols_gmean = ['length_gmean', 'width_gmean', 'volume_gmean', 'surface_gmean']\n",
    "cols_amean = ['length_amean', 'width_amean', 'volume_amean', 'surface_amean']"
   ]
  },
  {
   "cell_type": "code",
   "execution_count": 37,
   "id": "1497c4fe-0531-46ab-8f13-3e038189c8a9",
   "metadata": {},
   "outputs": [],
   "source": [
    "tmp_gmean = df_bacd.groupby('sptid')[cols_gmean].agg(gmean)\n",
    "tmp_amean = df_bacd.groupby('sptid')[cols_amean].agg('mean')"
   ]
  },
  {
   "cell_type": "code",
   "execution_count": 38,
   "id": "3976846e-dc85-4d96-ba0b-5432172c1245",
   "metadata": {},
   "outputs": [],
   "source": [
    "dfr_bacd = pd.concat([tmp_gmean, tmp_amean], axis = 1)"
   ]
  },
  {
   "cell_type": "markdown",
   "id": "1c87b1c5-5fc7-4d36-b2e0-7fdedea5e5e3",
   "metadata": {},
   "source": [
    "Add shape, ranges, and species name."
   ]
  },
  {
   "cell_type": "code",
   "execution_count": 39,
   "id": "4d9843fd-6730-4889-950d-3dad3b81c609",
   "metadata": {},
   "outputs": [],
   "source": [
    "dfr_bacd['shape'] = dfr_bacd.index.map(shapes)"
   ]
  },
  {
   "cell_type": "code",
   "execution_count": 40,
   "id": "d9666d99-8258-4753-840a-2df9a6fd132f",
   "metadata": {},
   "outputs": [],
   "source": [
    "def map_ranges(df, metric):\n",
    "    ranges = {}\n",
    "    for idx, row in df.iterrows():\n",
    "        tid = row['sptid']\n",
    "        rng = row[f'{metric}_ranges_fix'][1:-1].split(',')\n",
    "        rng = [rng[0], rng[1]]\n",
    "        if tid not in ranges.keys():\n",
    "            ranges[tid] = rng\n",
    "        else:\n",
    "            ranges[tid].append(rng[0])\n",
    "            ranges[tid].append(rng[1])\n",
    "    return ranges"
   ]
  },
  {
   "cell_type": "code",
   "execution_count": 41,
   "id": "10a3d98b-b9a1-4fb5-a648-da30b53fa8a5",
   "metadata": {},
   "outputs": [],
   "source": [
    "ranges_length = map_ranges(df_bacd, 'length')\n",
    "ranges_width = map_ranges(df_bacd, 'width')"
   ]
  },
  {
   "cell_type": "code",
   "execution_count": 42,
   "id": "34a721e5-4b57-4a87-8d43-6f5e51d584f4",
   "metadata": {},
   "outputs": [],
   "source": [
    "dfr_bacd['length_ranges'] = dfr_bacd.index.map(ranges_length)\n",
    "dfr_bacd['width_ranges'] = dfr_bacd.index.map(ranges_width)"
   ]
  },
  {
   "cell_type": "code",
   "execution_count": 43,
   "id": "f05d69f8-f655-4db1-8521-2aa36560709e",
   "metadata": {},
   "outputs": [],
   "source": [
    "dfr_bacd['species'] = dfr_bacd.index.to_series().apply(lambda x: dump[str(x)]['name'])"
   ]
  },
  {
   "cell_type": "markdown",
   "id": "4a72ccf4-c967-475d-9ee6-e78a222cd947",
   "metadata": {},
   "source": [
    "Organize"
   ]
  },
  {
   "cell_type": "code",
   "execution_count": 44,
   "id": "26b6ced8-50a0-448f-8be0-857d4552fa64",
   "metadata": {},
   "outputs": [],
   "source": [
    "dfr_bacd = dfr_bacd.loc[sorted(dfr_bacd.index, key = int)]\n",
    "dfr_bacd.index.names = ['taxid']"
   ]
  },
  {
   "cell_type": "code",
   "execution_count": 45,
   "id": "95997a60-257f-423f-adf1-b895dd87ec0c",
   "metadata": {},
   "outputs": [
    {
     "data": {
      "text/plain": [
       "(4875, 12)"
      ]
     },
     "execution_count": 45,
     "metadata": {},
     "output_type": "execute_result"
    }
   ],
   "source": [
    "dfr_bacd.shape"
   ]
  },
  {
   "cell_type": "markdown",
   "id": "3d88aff6-51ea-4098-b50b-d5f0b86b245a",
   "metadata": {},
   "source": [
    "Fill more ranks"
   ]
  },
  {
   "cell_type": "code",
   "execution_count": 46,
   "id": "1b0991e0-0bc1-46f4-bbc6-5fb3dae03daf",
   "metadata": {},
   "outputs": [],
   "source": [
    "ranks = ['species', 'genus', 'family', 'order', 'class', 'phylum', 'superkingdom']"
   ]
  },
  {
   "cell_type": "code",
   "execution_count": 47,
   "id": "a99c74b5-4f97-4952-8c71-8dca2e1ab6a4",
   "metadata": {},
   "outputs": [],
   "source": [
    "res = {x: {} for x in ranks[1:]}"
   ]
  },
  {
   "cell_type": "code",
   "execution_count": 48,
   "id": "25798b80-299d-4315-a187-69783a4765ff",
   "metadata": {},
   "outputs": [],
   "source": [
    "rankset = set(ranks[1:])"
   ]
  },
  {
   "cell_type": "code",
   "execution_count": 49,
   "id": "eaf18aab-ddb8-40fb-bd69-4c058da94d69",
   "metadata": {},
   "outputs": [],
   "source": [
    "for tid in dfr_bacd.index.astype(str):\n",
    "    this = tid\n",
    "    while True:\n",
    "        rank = dump[this]['rank']\n",
    "        if rank in rankset:\n",
    "            res[rank][tid] = dump[this]['name']\n",
    "        parent = dump[this]['parent']\n",
    "        if this == parent:\n",
    "            break\n",
    "        this = parent"
   ]
  },
  {
   "cell_type": "code",
   "execution_count": 50,
   "id": "7492a4c4-fd08-486b-8871-70ce1d89924f",
   "metadata": {},
   "outputs": [],
   "source": [
    "for rank in ranks[1:]:\n",
    "    dfr_bacd[rank] = dfr_bacd.index.map(res[rank])"
   ]
  },
  {
   "cell_type": "code",
   "execution_count": 51,
   "id": "4518a34c-e0b8-45a9-92e9-d7447e2f9d79",
   "metadata": {},
   "outputs": [],
   "source": [
    "dfr_bacd['source'] = 'bacdive'"
   ]
  },
  {
   "cell_type": "markdown",
   "id": "2ecdd772-7f77-4a31-a230-4986d5c8a027",
   "metadata": {},
   "source": [
    "Statistics"
   ]
  },
  {
   "cell_type": "code",
   "execution_count": 52,
   "id": "ebed2de9-6570-4029-90fe-5605972c7ff7",
   "metadata": {},
   "outputs": [
    {
     "name": "stdout",
     "output_type": "stream",
     "text": [
      "species 4875\n",
      "genus 1665\n",
      "family 384\n",
      "order 160\n",
      "class 68\n",
      "phylum 32\n",
      "superkingdom 2\n"
     ]
    }
   ],
   "source": [
    "for rank in ranks:\n",
    "    print(rank, dfr_bacd[rank].nunique())"
   ]
  },
  {
   "cell_type": "markdown",
   "id": "32f4fcc4-0320-4d7c-b6ab-3e2247ffbab0",
   "metadata": {},
   "source": [
    "Save dataframe"
   ]
  },
  {
   "cell_type": "code",
   "execution_count": 53,
   "id": "dc7db1e2-d1da-4efd-a169-ed0bef349941",
   "metadata": {},
   "outputs": [],
   "source": [
    "dfr_bacd.to_csv('preprocess/annot/species_bacdive.tsv', sep = '\\t')"
   ]
  },
  {
   "cell_type": "markdown",
   "id": "11da1d02-e8b0-4d53-9733-aa7f26ede68c",
   "metadata": {},
   "source": [
    "# PCC"
   ]
  },
  {
   "cell_type": "code",
   "execution_count": 54,
   "id": "049540a5-e3db-44a2-ab3c-9da3ab5c37f5",
   "metadata": {},
   "outputs": [
    {
     "data": {
      "text/plain": [
       "(225, 17)"
      ]
     },
     "execution_count": 54,
     "metadata": {},
     "output_type": "execute_result"
    }
   ],
   "source": [
    "df_pcc = pd.read_table('preprocess/data_pcc.tsv', index_col = 0)\n",
    "df_pcc.shape"
   ]
  },
  {
   "cell_type": "markdown",
   "id": "0ae18c63-005a-401f-9535-6d1a617e53ef",
   "metadata": {},
   "source": [
    "Drop useless columns"
   ]
  },
  {
   "cell_type": "code",
   "execution_count": 55,
   "id": "c6f6be52-6b9c-4608-a220-589569a479d8",
   "metadata": {},
   "outputs": [
    {
     "data": {
      "text/plain": [
       "Index(['Length', 'taxID', 'Name', 'Width', 'shape', 'length_gmean',\n",
       "       'width_gmean', 'length_amean', 'width_amean', 'volume_gmean',\n",
       "       'surface_gmean', 'volume_amean', 'surface_amean', 'length_ranges',\n",
       "       'width_ranges', 'length_ranges_fix', 'width_ranges_fix'],\n",
       "      dtype='object')"
      ]
     },
     "execution_count": 55,
     "metadata": {},
     "output_type": "execute_result"
    }
   ],
   "source": [
    "df_pcc.columns"
   ]
  },
  {
   "cell_type": "code",
   "execution_count": 56,
   "id": "3bb6f12a-bc4f-493d-a2ab-ae16995e1b6e",
   "metadata": {},
   "outputs": [],
   "source": [
    "columns = ['Length', 'Width',\n",
    "          'length_ranges', 'width_ranges']\n",
    "df_pcc = df_pcc.drop(columns, axis = 1)"
   ]
  },
  {
   "cell_type": "markdown",
   "id": "7ac9f248-4873-47db-8bae-45503c91e7e8",
   "metadata": {},
   "source": [
    "Rename columns"
   ]
  },
  {
   "cell_type": "code",
   "execution_count": 57,
   "id": "f7b38a91-06ce-467f-8074-908f71ec134a",
   "metadata": {},
   "outputs": [],
   "source": [
    "df_pcc.rename(columns = {'Name': 'species', 'taxID': 'taxid', }, inplace = True)"
   ]
  },
  {
   "cell_type": "markdown",
   "id": "7fd79ec0-33ec-4fb4-92ac-b8b2daacc61c",
   "metadata": {},
   "source": [
    "### Match species to NCBI taxonomy"
   ]
  },
  {
   "cell_type": "code",
   "execution_count": 58,
   "id": "ed32e862-19c0-4dd6-a4ac-05f10eeccafe",
   "metadata": {},
   "outputs": [],
   "source": [
    "spnames = {v['name']: k for k, v in dump.items() if v['rank'] == 'species'}"
   ]
  },
  {
   "cell_type": "code",
   "execution_count": 59,
   "id": "754e8a6b-85ea-4491-b103-f25e96046822",
   "metadata": {},
   "outputs": [
    {
     "data": {
      "text/plain": [
       "species\n",
       "False    169\n",
       "True      56\n",
       "Name: count, dtype: int64"
      ]
     },
     "execution_count": 59,
     "metadata": {},
     "output_type": "execute_result"
    }
   ],
   "source": [
    "df_pcc['species'].astype(str).isin(spnames).value_counts()"
   ]
  },
  {
   "cell_type": "code",
   "execution_count": 60,
   "id": "b9e11659-9b69-4e61-8d8b-6723d30ab108",
   "metadata": {},
   "outputs": [],
   "source": [
    "tids = df_pcc['taxid'].astype(str)"
   ]
  },
  {
   "cell_type": "code",
   "execution_count": 61,
   "id": "235f464f-03e1-45a8-9ce2-3fca7f705363",
   "metadata": {},
   "outputs": [
    {
     "data": {
      "text/plain": [
       "(array([False,  True]), array([ 56, 169]))"
      ]
     },
     "execution_count": 61,
     "metadata": {},
     "output_type": "execute_result"
    }
   ],
   "source": [
    "np.unique(tids[tids.notna()].index.astype(str).isin(dump), return_counts = True)"
   ]
  },
  {
   "cell_type": "markdown",
   "id": "96ae517d-42d7-4e11-9edd-1f57db5dd356",
   "metadata": {},
   "source": [
    "Check if taxids are un dump"
   ]
  },
  {
   "cell_type": "code",
   "execution_count": 62,
   "id": "a68a07fd-eb31-46e6-8709-e138f0459e76",
   "metadata": {},
   "outputs": [
    {
     "data": {
      "text/html": [
       "<div>\n",
       "<style scoped>\n",
       "    .dataframe tbody tr th:only-of-type {\n",
       "        vertical-align: middle;\n",
       "    }\n",
       "\n",
       "    .dataframe tbody tr th {\n",
       "        vertical-align: top;\n",
       "    }\n",
       "\n",
       "    .dataframe thead th {\n",
       "        text-align: right;\n",
       "    }\n",
       "</style>\n",
       "<table border=\"1\" class=\"dataframe\">\n",
       "  <thead>\n",
       "    <tr style=\"text-align: right;\">\n",
       "      <th></th>\n",
       "      <th>taxid</th>\n",
       "      <th>species</th>\n",
       "      <th>shape</th>\n",
       "      <th>length_gmean</th>\n",
       "      <th>width_gmean</th>\n",
       "      <th>length_amean</th>\n",
       "      <th>width_amean</th>\n",
       "      <th>volume_gmean</th>\n",
       "      <th>surface_gmean</th>\n",
       "      <th>volume_amean</th>\n",
       "      <th>surface_amean</th>\n",
       "      <th>length_ranges_fix</th>\n",
       "      <th>width_ranges_fix</th>\n",
       "      <th>taxid_rank</th>\n",
       "    </tr>\n",
       "  </thead>\n",
       "  <tbody>\n",
       "    <tr>\n",
       "      <th>5</th>\n",
       "      <td>269084</td>\n",
       "      <td>Synechococcus elongatus PCC 6301</td>\n",
       "      <td>sphere/spheroid</td>\n",
       "      <td>1.095445</td>\n",
       "      <td>1.095445</td>\n",
       "      <td>1.100</td>\n",
       "      <td>1.100</td>\n",
       "      <td>0.688288</td>\n",
       "      <td>3.769911</td>\n",
       "      <td>0.696910</td>\n",
       "      <td>3.801327</td>\n",
       "      <td>[1.0, 1.2]</td>\n",
       "      <td>[1.0, 1.2]</td>\n",
       "      <td>strain</td>\n",
       "    </tr>\n",
       "    <tr>\n",
       "      <th>8</th>\n",
       "      <td>118323</td>\n",
       "      <td>Oscillatoria acuminata</td>\n",
       "      <td>sphere/spheroid</td>\n",
       "      <td>4.472136</td>\n",
       "      <td>4.472136</td>\n",
       "      <td>4.500</td>\n",
       "      <td>4.500</td>\n",
       "      <td>46.832098</td>\n",
       "      <td>62.831853</td>\n",
       "      <td>47.712938</td>\n",
       "      <td>63.617251</td>\n",
       "      <td>[4.0, 5.0]</td>\n",
       "      <td>[4.0, 5.0]</td>\n",
       "      <td>species</td>\n",
       "    </tr>\n",
       "    <tr>\n",
       "      <th>10</th>\n",
       "      <td>1184</td>\n",
       "      <td>Leptolyngbya boryana</td>\n",
       "      <td>sphere/spheroid</td>\n",
       "      <td>2.034699</td>\n",
       "      <td>2.034699</td>\n",
       "      <td>2.050</td>\n",
       "      <td>2.050</td>\n",
       "      <td>4.410615</td>\n",
       "      <td>13.006194</td>\n",
       "      <td>4.510869</td>\n",
       "      <td>13.202543</td>\n",
       "      <td>[1.8, 2.3]</td>\n",
       "      <td>[1.8, 2.3]</td>\n",
       "      <td>species</td>\n",
       "    </tr>\n",
       "    <tr>\n",
       "      <th>11</th>\n",
       "      <td>59930</td>\n",
       "      <td>Cyanobium gracile</td>\n",
       "      <td>sphere/spheroid</td>\n",
       "      <td>0.894427</td>\n",
       "      <td>0.894427</td>\n",
       "      <td>0.900</td>\n",
       "      <td>0.900</td>\n",
       "      <td>0.374657</td>\n",
       "      <td>2.513274</td>\n",
       "      <td>0.381704</td>\n",
       "      <td>2.544690</td>\n",
       "      <td>[0.8, 1.0]</td>\n",
       "      <td>[0.8, 1.0]</td>\n",
       "      <td>species</td>\n",
       "    </tr>\n",
       "    <tr>\n",
       "      <th>12</th>\n",
       "      <td>113355</td>\n",
       "      <td>Geminocystis herdmanii PCC 6308</td>\n",
       "      <td>sphere/spheroid</td>\n",
       "      <td>4.090623</td>\n",
       "      <td>4.090623</td>\n",
       "      <td>4.125</td>\n",
       "      <td>4.125</td>\n",
       "      <td>35.839929</td>\n",
       "      <td>52.568900</td>\n",
       "      <td>36.751112</td>\n",
       "      <td>53.456162</td>\n",
       "      <td>[3.5, 5.0]</td>\n",
       "      <td>[3.5, 5.0]</td>\n",
       "      <td>strain</td>\n",
       "    </tr>\n",
       "  </tbody>\n",
       "</table>\n",
       "</div>"
      ],
      "text/plain": [
       "     taxid                           species            shape  length_gmean  \\\n",
       "5   269084  Synechococcus elongatus PCC 6301  sphere/spheroid      1.095445   \n",
       "8   118323            Oscillatoria acuminata  sphere/spheroid      4.472136   \n",
       "10    1184              Leptolyngbya boryana  sphere/spheroid      2.034699   \n",
       "11   59930                 Cyanobium gracile  sphere/spheroid      0.894427   \n",
       "12  113355   Geminocystis herdmanii PCC 6308  sphere/spheroid      4.090623   \n",
       "\n",
       "    width_gmean  length_amean  width_amean  volume_gmean  surface_gmean  \\\n",
       "5      1.095445         1.100        1.100      0.688288       3.769911   \n",
       "8      4.472136         4.500        4.500     46.832098      62.831853   \n",
       "10     2.034699         2.050        2.050      4.410615      13.006194   \n",
       "11     0.894427         0.900        0.900      0.374657       2.513274   \n",
       "12     4.090623         4.125        4.125     35.839929      52.568900   \n",
       "\n",
       "    volume_amean  surface_amean length_ranges_fix width_ranges_fix taxid_rank  \n",
       "5       0.696910       3.801327        [1.0, 1.2]       [1.0, 1.2]     strain  \n",
       "8      47.712938      63.617251        [4.0, 5.0]       [4.0, 5.0]    species  \n",
       "10      4.510869      13.202543        [1.8, 2.3]       [1.8, 2.3]    species  \n",
       "11      0.381704       2.544690        [0.8, 1.0]       [0.8, 1.0]    species  \n",
       "12     36.751112      53.456162        [3.5, 5.0]       [3.5, 5.0]     strain  "
      ]
     },
     "execution_count": 62,
     "metadata": {},
     "output_type": "execute_result"
    }
   ],
   "source": [
    "df_pcc['taxid_rank'] = df_pcc['taxid'].astype(str).apply(lambda x: dump[x]['rank'] if x in dump.keys() else np.NaN)\n",
    "df_pcc.head()"
   ]
  },
  {
   "cell_type": "markdown",
   "id": "6c0cbd1b-695a-425f-9264-5aa0c2d2ede5",
   "metadata": {},
   "source": [
    "Check entries that could not be assigned"
   ]
  },
  {
   "cell_type": "code",
   "execution_count": 63,
   "id": "f0396ea5-738c-4f1e-aba2-dee166acaa12",
   "metadata": {},
   "outputs": [
    {
     "data": {
      "text/html": [
       "<div>\n",
       "<style scoped>\n",
       "    .dataframe tbody tr th:only-of-type {\n",
       "        vertical-align: middle;\n",
       "    }\n",
       "\n",
       "    .dataframe tbody tr th {\n",
       "        vertical-align: top;\n",
       "    }\n",
       "\n",
       "    .dataframe thead th {\n",
       "        text-align: right;\n",
       "    }\n",
       "</style>\n",
       "<table border=\"1\" class=\"dataframe\">\n",
       "  <thead>\n",
       "    <tr style=\"text-align: right;\">\n",
       "      <th></th>\n",
       "      <th>taxid</th>\n",
       "      <th>species</th>\n",
       "      <th>shape</th>\n",
       "      <th>length_gmean</th>\n",
       "      <th>width_gmean</th>\n",
       "      <th>length_amean</th>\n",
       "      <th>width_amean</th>\n",
       "      <th>volume_gmean</th>\n",
       "      <th>surface_gmean</th>\n",
       "      <th>volume_amean</th>\n",
       "      <th>surface_amean</th>\n",
       "      <th>length_ranges_fix</th>\n",
       "      <th>width_ranges_fix</th>\n",
       "      <th>taxid_rank</th>\n",
       "    </tr>\n",
       "  </thead>\n",
       "  <tbody>\n",
       "    <tr>\n",
       "      <th>52</th>\n",
       "      <td>2174229</td>\n",
       "      <td>Synechocystis sp.</td>\n",
       "      <td>sphere/spheroid</td>\n",
       "      <td>2.397916</td>\n",
       "      <td>2.397916</td>\n",
       "      <td>2.4</td>\n",
       "      <td>2.4</td>\n",
       "      <td>7.219388</td>\n",
       "      <td>18.064158</td>\n",
       "      <td>7.238229</td>\n",
       "      <td>18.095574</td>\n",
       "      <td>[2.3, 2.5]</td>\n",
       "      <td>[2.3, 2.5]</td>\n",
       "      <td>NaN</td>\n",
       "    </tr>\n",
       "  </tbody>\n",
       "</table>\n",
       "</div>"
      ],
      "text/plain": [
       "      taxid            species            shape  length_gmean  width_gmean  \\\n",
       "52  2174229  Synechocystis sp.  sphere/spheroid      2.397916     2.397916   \n",
       "\n",
       "    length_amean  width_amean  volume_gmean  surface_gmean  volume_amean  \\\n",
       "52           2.4          2.4      7.219388      18.064158      7.238229   \n",
       "\n",
       "    surface_amean length_ranges_fix width_ranges_fix taxid_rank  \n",
       "52      18.095574        [2.3, 2.5]       [2.3, 2.5]        NaN  "
      ]
     },
     "execution_count": 63,
     "metadata": {},
     "output_type": "execute_result"
    }
   ],
   "source": [
    "df_pcc[df_pcc['taxid_rank'].isna()]"
   ]
  },
  {
   "cell_type": "markdown",
   "id": "cee50836-ea76-4bbe-b4c8-236fb61816dd",
   "metadata": {},
   "source": [
    "Assign manually"
   ]
  },
  {
   "cell_type": "code",
   "execution_count": 64,
   "id": "924709ff-177a-4cea-be10-83afa963178e",
   "metadata": {},
   "outputs": [],
   "source": [
    "df_pcc.at[52, 'taxid'] = 1148\n",
    "df_pcc.at[52, 'taxID_rank'] = 'species'"
   ]
  },
  {
   "cell_type": "markdown",
   "id": "bd02b913-b51f-40f2-8646-5e3b567b28ab",
   "metadata": {},
   "source": [
    "Elevate subspecies to species"
   ]
  },
  {
   "cell_type": "code",
   "execution_count": 65,
   "id": "ffab1f28-8dfa-4840-a8ab-185ac3c75da5",
   "metadata": {},
   "outputs": [],
   "source": [
    "def get_species(tid):\n",
    "    if dump[tid]['rank'] == 'species':\n",
    "        return tid\n",
    "    elif dump[tid]['rank'] == 'genus':\n",
    "        return tid\n",
    "    return get_species(dump[tid]['parent'])"
   ]
  },
  {
   "cell_type": "code",
   "execution_count": 66,
   "id": "543f6cac-f13d-4165-bd9c-0960b1b083dd",
   "metadata": {},
   "outputs": [],
   "source": [
    "def get_species_name(tid):\n",
    "    if dump[tid]['rank'] == 'species':\n",
    "        return dump[tid]['name']\n",
    "    elif dump[tid]['rank'] == 'genus':\n",
    "        return dump[tid]['name']\n",
    "    return get_species_name(dump[tid]['parent'])"
   ]
  },
  {
   "cell_type": "code",
   "execution_count": 67,
   "id": "2b01e0d4-5c0f-42e7-9234-b2b4a6332d63",
   "metadata": {},
   "outputs": [],
   "source": [
    "df_pcc['sptid'] = df_pcc['taxid'].astype(str).apply(get_species)"
   ]
  },
  {
   "cell_type": "code",
   "execution_count": 68,
   "id": "c806204f-fe00-4ee5-b848-c9cc0ce14eff",
   "metadata": {},
   "outputs": [],
   "source": [
    "df_pcc['species'] = df_pcc['taxid'].astype(str).apply(get_species_name)"
   ]
  },
  {
   "cell_type": "code",
   "execution_count": 69,
   "id": "b28c44a7-286a-4359-9a96-6c506b8ac7f5",
   "metadata": {},
   "outputs": [],
   "source": [
    "df_pcc.drop(columns = ['taxid', 'taxID_rank'], inplace = True)"
   ]
  },
  {
   "cell_type": "code",
   "execution_count": 70,
   "id": "1f8e7188-cc47-46f6-900d-97d307db2e7d",
   "metadata": {},
   "outputs": [
    {
     "data": {
      "text/plain": [
       "(225, 14)"
      ]
     },
     "execution_count": 70,
     "metadata": {},
     "output_type": "execute_result"
    }
   ],
   "source": [
    "df_pcc.shape"
   ]
  },
  {
   "cell_type": "markdown",
   "id": "cda0c1a7-633b-44de-a78d-067efa93fa09",
   "metadata": {},
   "source": [
    "Check duplicate species"
   ]
  },
  {
   "cell_type": "code",
   "execution_count": 71,
   "id": "d5673c7b-e967-4ba0-84ab-63b91bb17467",
   "metadata": {},
   "outputs": [
    {
     "data": {
      "text/plain": [
       "count\n",
       "1     74\n",
       "2      7\n",
       "5      5\n",
       "6      3\n",
       "4      2\n",
       "3      2\n",
       "33     1\n",
       "15     1\n",
       "13     1\n",
       "10     1\n",
       "9      1\n",
       "Name: count, dtype: int64"
      ]
     },
     "execution_count": 71,
     "metadata": {},
     "output_type": "execute_result"
    }
   ],
   "source": [
    "df_pcc['sptid'].value_counts().value_counts()"
   ]
  },
  {
   "cell_type": "markdown",
   "id": "e8e11deb-5523-46e1-916b-e2eb2198bc8f",
   "metadata": {},
   "source": [
    "Group organisms by species taxid and calculate geometric/arithmetic mean per species."
   ]
  },
  {
   "cell_type": "code",
   "execution_count": 72,
   "id": "cb5266b2-5fbc-4071-819c-aa787206ad33",
   "metadata": {},
   "outputs": [],
   "source": [
    "cols_gmean = ['length_gmean', 'width_gmean', 'volume_gmean', 'surface_gmean']\n",
    "cols_amean = ['length_amean', 'width_amean', 'volume_amean', 'surface_amean']"
   ]
  },
  {
   "cell_type": "code",
   "execution_count": 73,
   "id": "32b8c6cd-ebc8-4500-900f-285535ec615e",
   "metadata": {},
   "outputs": [],
   "source": [
    "tmp_gmean = df_pcc.groupby('sptid')[cols_gmean].agg(gmean)\n",
    "tmp_amean = df_pcc.groupby('sptid')[cols_amean].agg('mean')"
   ]
  },
  {
   "cell_type": "code",
   "execution_count": 74,
   "id": "19866eff-a11b-4811-8b6e-5ec670862ced",
   "metadata": {},
   "outputs": [],
   "source": [
    "dfr_pcc = pd.concat([tmp_gmean, tmp_amean], axis = 1)"
   ]
  },
  {
   "cell_type": "markdown",
   "id": "1768b7c6-481a-4618-ac1d-33048c3c622c",
   "metadata": {},
   "source": [
    "Add shape, ranges, and species name."
   ]
  },
  {
   "cell_type": "code",
   "execution_count": 75,
   "id": "007f5032-d123-4ada-8886-6a64a512e7e3",
   "metadata": {},
   "outputs": [],
   "source": [
    "shapes = dict(df_pcc[['sptid', 'shape']].drop_duplicates('sptid').values)\n",
    "dfr_pcc['shape'] = dfr_pcc.index.map(shapes)"
   ]
  },
  {
   "cell_type": "code",
   "execution_count": 76,
   "id": "c1932d59-15bd-4faa-ad31-e707769f4426",
   "metadata": {},
   "outputs": [],
   "source": [
    "ranges_length = map_ranges(df_pcc, 'length')\n",
    "ranges_width = map_ranges(df_pcc, 'width')"
   ]
  },
  {
   "cell_type": "code",
   "execution_count": 77,
   "id": "32d09066-ba51-4933-8fe8-ea7dee33a122",
   "metadata": {},
   "outputs": [],
   "source": [
    "dfr_pcc['length_ranges'] = dfr_pcc.index.map(ranges_length)\n",
    "dfr_pcc['width_ranges'] = dfr_pcc.index.map(ranges_width)"
   ]
  },
  {
   "cell_type": "code",
   "execution_count": 78,
   "id": "92e786a9-322c-498e-b354-9d506b2974fe",
   "metadata": {},
   "outputs": [],
   "source": [
    "dfr_pcc['species'] = dfr_pcc.index.to_series().apply(lambda x: dump[str(x)]['name'])"
   ]
  },
  {
   "cell_type": "markdown",
   "id": "16a035f2-7d23-416a-89a0-62bc4d658a99",
   "metadata": {},
   "source": [
    "Organize"
   ]
  },
  {
   "cell_type": "code",
   "execution_count": 79,
   "id": "507dc602-3016-4086-aa7b-c9c36607eb6e",
   "metadata": {},
   "outputs": [],
   "source": [
    "dfr_pcc = dfr_pcc.loc[sorted(dfr_pcc.index, key = int)]"
   ]
  },
  {
   "cell_type": "code",
   "execution_count": 80,
   "id": "2658c298-abfb-406c-963c-5d6559e0bc78",
   "metadata": {},
   "outputs": [],
   "source": [
    "dfr_pcc.index.names = ['taxid']"
   ]
  },
  {
   "cell_type": "code",
   "execution_count": 81,
   "id": "a35baf16-e7b6-424f-9bd1-dde525ecd3f4",
   "metadata": {},
   "outputs": [
    {
     "data": {
      "text/plain": [
       "(98, 12)"
      ]
     },
     "execution_count": 81,
     "metadata": {},
     "output_type": "execute_result"
    }
   ],
   "source": [
    "dfr_pcc.shape"
   ]
  },
  {
   "cell_type": "markdown",
   "id": "de3b5b11-3b4b-4ad2-a127-d7260598a6c8",
   "metadata": {},
   "source": [
    "Fill more ranks"
   ]
  },
  {
   "cell_type": "code",
   "execution_count": 82,
   "id": "b973634a-bb7c-40fb-a73e-d3d6aed3e340",
   "metadata": {},
   "outputs": [],
   "source": [
    "ranks = ['species', 'genus', 'family', 'order', 'class', 'phylum', 'superkingdom']"
   ]
  },
  {
   "cell_type": "code",
   "execution_count": 83,
   "id": "468fc772-880b-4885-ae92-95ff9706af50",
   "metadata": {},
   "outputs": [],
   "source": [
    "res = {x: {} for x in ranks[1:]}"
   ]
  },
  {
   "cell_type": "code",
   "execution_count": 84,
   "id": "cd194fc7-5529-4531-9fe7-7021087412eb",
   "metadata": {},
   "outputs": [],
   "source": [
    "rankset = set(ranks[1:])"
   ]
  },
  {
   "cell_type": "code",
   "execution_count": 85,
   "id": "ed64035d-0d4a-474e-881d-767672b3229e",
   "metadata": {},
   "outputs": [],
   "source": [
    "for tid in dfr_pcc.index.astype(str):\n",
    "    this = tid\n",
    "    while True:\n",
    "        rank = dump[this]['rank']\n",
    "        if rank in rankset:\n",
    "            res[rank][tid] = dump[this]['name']\n",
    "        parent = dump[this]['parent']\n",
    "        if this == parent:\n",
    "            break\n",
    "        this = parent"
   ]
  },
  {
   "cell_type": "code",
   "execution_count": 86,
   "id": "dc81d0ff-039d-4e07-a6b5-811aac852a22",
   "metadata": {},
   "outputs": [],
   "source": [
    "for rank in ranks[1:]:\n",
    "    dfr_pcc[rank] = dfr_pcc.index.map(res[rank])"
   ]
  },
  {
   "cell_type": "code",
   "execution_count": 87,
   "id": "0a8e96b6-8213-4f89-94e4-9172b9b22cb7",
   "metadata": {},
   "outputs": [],
   "source": [
    "# Correct entries with no species\n",
    "dfr_pcc['species'] = dfr_pcc['species'].astype(str).apply(lambda x: x if len(x.split(' ')) > 1 else np.NaN)"
   ]
  },
  {
   "cell_type": "code",
   "execution_count": 88,
   "id": "5c450da7-6177-4cab-9ddb-3539d0ccfdc6",
   "metadata": {},
   "outputs": [
    {
     "data": {
      "text/plain": [
       "(98, 18)"
      ]
     },
     "execution_count": 88,
     "metadata": {},
     "output_type": "execute_result"
    }
   ],
   "source": [
    "dfr_pcc.shape"
   ]
  },
  {
   "cell_type": "markdown",
   "id": "9a62bb03-6955-489d-9ab7-237843776b94",
   "metadata": {},
   "source": [
    "Statistics"
   ]
  },
  {
   "cell_type": "code",
   "execution_count": 89,
   "id": "b3980341-cbec-45a7-8568-eada6ac19bc6",
   "metadata": {},
   "outputs": [
    {
     "name": "stdout",
     "output_type": "stream",
     "text": [
      "species 75\n",
      "genus 39\n",
      "family 24\n",
      "order 10\n",
      "class 1\n",
      "phylum 1\n",
      "superkingdom 1\n"
     ]
    }
   ],
   "source": [
    "for rank in ranks:\n",
    "    print(rank, dfr_pcc[rank].nunique())"
   ]
  },
  {
   "cell_type": "markdown",
   "id": "959b3b93-2bc8-4a40-9032-a1d4d1d97612",
   "metadata": {},
   "source": [
    "Output"
   ]
  },
  {
   "cell_type": "code",
   "execution_count": 90,
   "id": "9ef367ba-3a55-4ec1-afae-e1651d9bbb3c",
   "metadata": {},
   "outputs": [],
   "source": [
    "dfr_pcc['source'] = 'pcc'"
   ]
  },
  {
   "cell_type": "code",
   "execution_count": 91,
   "id": "d7178b7c-0ee2-43a9-aa22-c33fe05615ce",
   "metadata": {},
   "outputs": [],
   "source": [
    "dfr_pcc.to_csv('preprocess/annot/species_pcc.tsv', sep = '\\t')"
   ]
  },
  {
   "cell_type": "markdown",
   "id": "ae9df4cd-4ab5-4faf-8f23-449850ad226c",
   "metadata": {},
   "source": [
    "# PubMed"
   ]
  },
  {
   "cell_type": "code",
   "execution_count": 92,
   "id": "616c1ea0-480c-4e27-bd3d-b0f5bc0952a1",
   "metadata": {},
   "outputs": [
    {
     "data": {
      "text/plain": [
       "(54, 17)"
      ]
     },
     "execution_count": 92,
     "metadata": {},
     "output_type": "execute_result"
    }
   ],
   "source": [
    "df_pubmed = pd.read_table('preprocess/data_pubmed.tsv', index_col = 0)\n",
    "df_pubmed.shape"
   ]
  },
  {
   "cell_type": "markdown",
   "id": "be6c410f-0458-4405-bdc7-868d9f6b0693",
   "metadata": {},
   "source": [
    "Drop useless columns"
   ]
  },
  {
   "cell_type": "code",
   "execution_count": 93,
   "id": "2b8eb456-7ef7-4480-b7c6-b87770521b5f",
   "metadata": {},
   "outputs": [
    {
     "data": {
      "text/plain": [
       "Index(['Name', 'Length', 'Width', 'Shape', 'reference', 'length_gmean',\n",
       "       'width_gmean', 'length_amean', 'width_amean', 'volume_gmean',\n",
       "       'surface_gmean', 'volume_amean', 'surface_amean', 'length_ranges',\n",
       "       'width_ranges', 'length_ranges_fix', 'width_ranges_fix'],\n",
       "      dtype='object')"
      ]
     },
     "execution_count": 93,
     "metadata": {},
     "output_type": "execute_result"
    }
   ],
   "source": [
    "df_pubmed.columns"
   ]
  },
  {
   "cell_type": "code",
   "execution_count": 94,
   "id": "ea8e5ab5-4cc4-44f7-8963-b20bf72383b7",
   "metadata": {},
   "outputs": [],
   "source": [
    "columns = ['Length', 'Width',\n",
    "          'length_ranges', 'width_ranges']\n",
    "df_pubmed = df_pubmed.drop(columns, axis = 1)"
   ]
  },
  {
   "cell_type": "markdown",
   "id": "d62316bb-652c-42d5-9235-01904b0c1da9",
   "metadata": {},
   "source": [
    "Rename columns"
   ]
  },
  {
   "cell_type": "code",
   "execution_count": 95,
   "id": "ae1db51c-92d3-4e54-ae1d-03fdf107e7da",
   "metadata": {},
   "outputs": [],
   "source": [
    "df_pubmed.rename(columns = {'Name': 'species', 'Shape': 'shape'}, inplace = True)"
   ]
  },
  {
   "cell_type": "markdown",
   "id": "df8b07fa-5fe6-4e10-9196-0a66ae0ddb66",
   "metadata": {},
   "source": [
    "### Match species to NCBI taxonomy\n"
   ]
  },
  {
   "cell_type": "code",
   "execution_count": 96,
   "id": "ef53f31b-4cf6-4b96-99ff-23eafde3a88e",
   "metadata": {},
   "outputs": [],
   "source": [
    "spnames = {v['name']: k for k, v in dump.items() if v['rank'] == 'species'}"
   ]
  },
  {
   "cell_type": "code",
   "execution_count": 97,
   "id": "fd849bd0-c546-483f-9bc8-ff43b377e941",
   "metadata": {},
   "outputs": [
    {
     "data": {
      "text/plain": [
       "species\n",
       "True     49\n",
       "False     5\n",
       "Name: count, dtype: int64"
      ]
     },
     "execution_count": 97,
     "metadata": {},
     "output_type": "execute_result"
    }
   ],
   "source": [
    "df_pubmed['species'].astype(str).isin(spnames).value_counts()"
   ]
  },
  {
   "cell_type": "markdown",
   "id": "90b0163d-f405-48ce-bdf8-7b7e6ac01e1b",
   "metadata": {},
   "source": [
    "Add species taxid"
   ]
  },
  {
   "cell_type": "code",
   "execution_count": 98,
   "id": "8bad5ef2-fae0-4c15-853c-642618155046",
   "metadata": {},
   "outputs": [],
   "source": [
    "df_pubmed['sptid'] = df_pubmed['species'].map(spnames)"
   ]
  },
  {
   "cell_type": "markdown",
   "id": "9be63a6f-4b92-41ea-994a-7b5e9863ffb7",
   "metadata": {},
   "source": [
    "Check remaining"
   ]
  },
  {
   "cell_type": "code",
   "execution_count": 99,
   "id": "6d9f6f43-2a28-449a-8618-0e3b718439a2",
   "metadata": {},
   "outputs": [
    {
     "data": {
      "text/html": [
       "<div>\n",
       "<style scoped>\n",
       "    .dataframe tbody tr th:only-of-type {\n",
       "        vertical-align: middle;\n",
       "    }\n",
       "\n",
       "    .dataframe tbody tr th {\n",
       "        vertical-align: top;\n",
       "    }\n",
       "\n",
       "    .dataframe thead th {\n",
       "        text-align: right;\n",
       "    }\n",
       "</style>\n",
       "<table border=\"1\" class=\"dataframe\">\n",
       "  <thead>\n",
       "    <tr style=\"text-align: right;\">\n",
       "      <th></th>\n",
       "      <th>species</th>\n",
       "      <th>shape</th>\n",
       "      <th>reference</th>\n",
       "      <th>length_gmean</th>\n",
       "      <th>width_gmean</th>\n",
       "      <th>length_amean</th>\n",
       "      <th>width_amean</th>\n",
       "      <th>volume_gmean</th>\n",
       "      <th>surface_gmean</th>\n",
       "      <th>volume_amean</th>\n",
       "      <th>surface_amean</th>\n",
       "      <th>length_ranges_fix</th>\n",
       "      <th>width_ranges_fix</th>\n",
       "      <th>sptid</th>\n",
       "    </tr>\n",
       "  </thead>\n",
       "  <tbody>\n",
       "    <tr>\n",
       "      <th>40</th>\n",
       "      <td>Pelagibacter ubique</td>\n",
       "      <td>rod</td>\n",
       "      <td>Rappé, M., Connon, S., Vergin, K. et al. Culti...</td>\n",
       "      <td>0.573847</td>\n",
       "      <td>0.154919</td>\n",
       "      <td>0.63</td>\n",
       "      <td>0.16</td>\n",
       "      <td>9.843368e-03</td>\n",
       "      <td>0.279287</td>\n",
       "      <td>1.159457e-02</td>\n",
       "      <td>0.316673</td>\n",
       "      <td>[0.37, 0.89]</td>\n",
       "      <td>[0.12, 0.2]</td>\n",
       "      <td>NaN</td>\n",
       "    </tr>\n",
       "    <tr>\n",
       "      <th>44</th>\n",
       "      <td>Prochlorococcus</td>\n",
       "      <td>sphere</td>\n",
       "      <td>Partensky, F., Hess, W. R., &amp; Vaulot, D. (1999...</td>\n",
       "      <td>0.591608</td>\n",
       "      <td>0.591608</td>\n",
       "      <td>0.60</td>\n",
       "      <td>0.60</td>\n",
       "      <td>1.084178e-01</td>\n",
       "      <td>1.099557</td>\n",
       "      <td>1.130973e-01</td>\n",
       "      <td>1.130973</td>\n",
       "      <td>[0.5, 0.7]</td>\n",
       "      <td>[0.5, 0.7]</td>\n",
       "      <td>NaN</td>\n",
       "    </tr>\n",
       "    <tr>\n",
       "      <th>46</th>\n",
       "      <td>Cristispira anodontae</td>\n",
       "      <td>spiral</td>\n",
       "      <td>Spirochaeta anodontae Keysselitz, Arb. a. d. k...</td>\n",
       "      <td>62.225397</td>\n",
       "      <td>0.979796</td>\n",
       "      <td>66.00</td>\n",
       "      <td>1.00</td>\n",
       "      <td>4.667059e+01</td>\n",
       "      <td>191.537213</td>\n",
       "      <td>5.157448e+01</td>\n",
       "      <td>207.345115</td>\n",
       "      <td>[44.0, 88.0]</td>\n",
       "      <td>[0.8, 1.2]</td>\n",
       "      <td>NaN</td>\n",
       "    </tr>\n",
       "    <tr>\n",
       "      <th>47</th>\n",
       "      <td>Cristispira pinnae</td>\n",
       "      <td>spiral</td>\n",
       "      <td>Spirochaete pinnae Gonder, Cent. f. Bakt., I A...</td>\n",
       "      <td>24.494897</td>\n",
       "      <td>1.224745</td>\n",
       "      <td>35.00</td>\n",
       "      <td>1.75</td>\n",
       "      <td>2.837641e+01</td>\n",
       "      <td>94.247780</td>\n",
       "      <td>8.278178e+01</td>\n",
       "      <td>192.422550</td>\n",
       "      <td>[10.0, 60.0]</td>\n",
       "      <td>[0.5, 3.0]</td>\n",
       "      <td>NaN</td>\n",
       "    </tr>\n",
       "    <tr>\n",
       "      <th>53</th>\n",
       "      <td>Thiomargarita magnifica</td>\n",
       "      <td>rod</td>\n",
       "      <td>https://doi.org/10.1101/2022.02.16.480423</td>\n",
       "      <td>9720.000000</td>\n",
       "      <td>30.000000</td>\n",
       "      <td>9720.00</td>\n",
       "      <td>30.00</td>\n",
       "      <td>6.863595e+06</td>\n",
       "      <td>916088.417787</td>\n",
       "      <td>6.863595e+06</td>\n",
       "      <td>916088.417787</td>\n",
       "      <td>[9720.0, 9720.0]</td>\n",
       "      <td>[30.0, 30.0]</td>\n",
       "      <td>NaN</td>\n",
       "    </tr>\n",
       "  </tbody>\n",
       "</table>\n",
       "</div>"
      ],
      "text/plain": [
       "                    species   shape  \\\n",
       "40      Pelagibacter ubique     rod   \n",
       "44          Prochlorococcus  sphere   \n",
       "46    Cristispira anodontae  spiral   \n",
       "47       Cristispira pinnae  spiral   \n",
       "53  Thiomargarita magnifica     rod   \n",
       "\n",
       "                                            reference  length_gmean  \\\n",
       "40  Rappé, M., Connon, S., Vergin, K. et al. Culti...      0.573847   \n",
       "44  Partensky, F., Hess, W. R., & Vaulot, D. (1999...      0.591608   \n",
       "46  Spirochaeta anodontae Keysselitz, Arb. a. d. k...     62.225397   \n",
       "47  Spirochaete pinnae Gonder, Cent. f. Bakt., I A...     24.494897   \n",
       "53          https://doi.org/10.1101/2022.02.16.480423   9720.000000   \n",
       "\n",
       "    width_gmean  length_amean  width_amean  volume_gmean  surface_gmean  \\\n",
       "40     0.154919          0.63         0.16  9.843368e-03       0.279287   \n",
       "44     0.591608          0.60         0.60  1.084178e-01       1.099557   \n",
       "46     0.979796         66.00         1.00  4.667059e+01     191.537213   \n",
       "47     1.224745         35.00         1.75  2.837641e+01      94.247780   \n",
       "53    30.000000       9720.00        30.00  6.863595e+06  916088.417787   \n",
       "\n",
       "    volume_amean  surface_amean length_ranges_fix width_ranges_fix sptid  \n",
       "40  1.159457e-02       0.316673      [0.37, 0.89]      [0.12, 0.2]   NaN  \n",
       "44  1.130973e-01       1.130973        [0.5, 0.7]       [0.5, 0.7]   NaN  \n",
       "46  5.157448e+01     207.345115      [44.0, 88.0]       [0.8, 1.2]   NaN  \n",
       "47  8.278178e+01     192.422550      [10.0, 60.0]       [0.5, 3.0]   NaN  \n",
       "53  6.863595e+06  916088.417787  [9720.0, 9720.0]     [30.0, 30.0]   NaN  "
      ]
     },
     "execution_count": 99,
     "metadata": {},
     "output_type": "execute_result"
    }
   ],
   "source": [
    "df_pubmed[df_pubmed['sptid'].isna()]"
   ]
  },
  {
   "cell_type": "markdown",
   "id": "09e056f8-be89-4fb6-ad24-900760edf7cc",
   "metadata": {},
   "source": [
    "Manually assign taxid"
   ]
  },
  {
   "cell_type": "code",
   "execution_count": 100,
   "id": "003947b3-ed22-44bb-99f8-1b87d9c7b77b",
   "metadata": {},
   "outputs": [],
   "source": [
    "df_pubmed.at[40, 'sptid'] = '198252'\n",
    "df_pubmed.at[44, 'sptid'] = '1218'\n",
    "df_pubmed.at[46, 'sptid'] = '44757'\n",
    "df_pubmed.at[47, 'sptid'] = '44757'\n",
    "# For Thiomargarita magnifica, assign genus taxID\n",
    "df_pubmed.at[53, 'sptid'] = '90372'"
   ]
  },
  {
   "cell_type": "code",
   "execution_count": 101,
   "id": "33fe8e46-72fb-44fa-b541-1e32fbc1c3c9",
   "metadata": {},
   "outputs": [],
   "source": [
    "def get_species_name(tid):\n",
    "    if dump[tid]['rank'] == 'species':\n",
    "        return dump[tid]['name']\n",
    "    elif dump[tid]['rank'] == 'genus':\n",
    "        return dump[tid]['name']\n",
    "    return get_species_name(dump[tid]['parent'])"
   ]
  },
  {
   "cell_type": "code",
   "execution_count": 102,
   "id": "d50854ec-da0f-4148-80cc-06642d7c2e51",
   "metadata": {},
   "outputs": [],
   "source": [
    "df_pubmed['species'] = df_pubmed['sptid'].astype(str).apply(get_species_name)"
   ]
  },
  {
   "cell_type": "markdown",
   "id": "d6441f58-3e26-482e-b7c4-9d04fb8826e7",
   "metadata": {},
   "source": [
    "Check duplicate species"
   ]
  },
  {
   "cell_type": "code",
   "execution_count": 103,
   "id": "5d869c93-4b5d-45c9-9bdd-6628a3337436",
   "metadata": {},
   "outputs": [
    {
     "data": {
      "text/plain": [
       "count\n",
       "1    52\n",
       "2     1\n",
       "Name: count, dtype: int64"
      ]
     },
     "execution_count": 103,
     "metadata": {},
     "output_type": "execute_result"
    }
   ],
   "source": [
    "df_pubmed['sptid'].value_counts().value_counts()"
   ]
  },
  {
   "cell_type": "markdown",
   "id": "61be1c7f-0fdd-458b-b40c-280974945d04",
   "metadata": {},
   "source": [
    "Group organisms by species taxid and calculate geometric/arithmetic mean per species."
   ]
  },
  {
   "cell_type": "code",
   "execution_count": 104,
   "id": "9d11daee-4078-45e7-a64f-d4875f073903",
   "metadata": {},
   "outputs": [],
   "source": [
    "cols_gmean = ['length_gmean', 'width_gmean', 'volume_gmean', 'surface_gmean']\n",
    "cols_amean = ['length_amean', 'width_amean', 'volume_amean', 'surface_amean']"
   ]
  },
  {
   "cell_type": "code",
   "execution_count": 105,
   "id": "760b65ab-2844-4cd1-96d2-b5dab1aaf170",
   "metadata": {},
   "outputs": [],
   "source": [
    "tmp_gmean = df_pubmed.groupby('sptid')[cols_gmean].agg(gmean)\n",
    "tmp_amean = df_pubmed.groupby('sptid')[cols_amean].agg('mean')"
   ]
  },
  {
   "cell_type": "code",
   "execution_count": 106,
   "id": "9829d07b-0651-4368-a3e5-5985bcd4df3a",
   "metadata": {},
   "outputs": [],
   "source": [
    "dfr_pubmed = pd.concat([tmp_gmean, tmp_amean], axis = 1)"
   ]
  },
  {
   "cell_type": "markdown",
   "id": "29674470-4de6-49c1-8920-743d431839f3",
   "metadata": {},
   "source": [
    "Add shape, ranges, and species name."
   ]
  },
  {
   "cell_type": "code",
   "execution_count": 107,
   "id": "571b51bb-e8a7-4782-b9c0-789dc5de0da9",
   "metadata": {},
   "outputs": [],
   "source": [
    "shapes = dict(df_pubmed[['sptid', 'shape']].drop_duplicates('sptid').values)\n",
    "dfr_pubmed['shape'] = dfr_pubmed.index.map(shapes)"
   ]
  },
  {
   "cell_type": "code",
   "execution_count": 108,
   "id": "6134d94a-6082-4456-9a68-e389f8727475",
   "metadata": {},
   "outputs": [],
   "source": [
    "ranges_length = map_ranges(df_pubmed, 'length')\n",
    "ranges_width = map_ranges(df_pubmed, 'width')"
   ]
  },
  {
   "cell_type": "code",
   "execution_count": 109,
   "id": "9e7465ee-4eca-4008-bb30-dcb213fc36df",
   "metadata": {},
   "outputs": [],
   "source": [
    "dfr_pubmed['length_ranges'] = dfr_pubmed.index.map(ranges_length)\n",
    "dfr_pubmed['width_ranges'] = dfr_pubmed.index.map(ranges_width)"
   ]
  },
  {
   "cell_type": "code",
   "execution_count": 110,
   "id": "86c9e227-4fe2-4db9-a95e-16cb9ee235bb",
   "metadata": {},
   "outputs": [],
   "source": [
    "dfr_pubmed['species'] = dfr_pubmed.index.to_series().apply(lambda x: dump[str(x)]['name'])"
   ]
  },
  {
   "cell_type": "markdown",
   "id": "5a588416-475f-4c45-8932-f331af91ba82",
   "metadata": {},
   "source": [
    "Organize"
   ]
  },
  {
   "cell_type": "code",
   "execution_count": 111,
   "id": "63f6830f-3b2b-44d5-abae-9e478018757c",
   "metadata": {},
   "outputs": [],
   "source": [
    "dfr_pubmed = dfr_pubmed.loc[sorted(dfr_pubmed.index, key = int)]"
   ]
  },
  {
   "cell_type": "code",
   "execution_count": 112,
   "id": "996d4d06-7d99-49e8-b674-25192767979c",
   "metadata": {},
   "outputs": [],
   "source": [
    "dfr_pubmed.index.names = ['taxid']"
   ]
  },
  {
   "cell_type": "code",
   "execution_count": 113,
   "id": "cbfe1d8e-50c6-4b4f-9417-2287d4067763",
   "metadata": {},
   "outputs": [
    {
     "data": {
      "text/plain": [
       "(53, 12)"
      ]
     },
     "execution_count": 113,
     "metadata": {},
     "output_type": "execute_result"
    }
   ],
   "source": [
    "dfr_pubmed.shape"
   ]
  },
  {
   "cell_type": "markdown",
   "id": "1873e40a-2986-4d01-af58-93a38c7e5a38",
   "metadata": {},
   "source": [
    "Fill more ranks"
   ]
  },
  {
   "cell_type": "code",
   "execution_count": 114,
   "id": "376f8a58-3102-44da-8c7e-10a51cc0a1f1",
   "metadata": {},
   "outputs": [],
   "source": [
    "ranks = ['species', 'genus', 'family', 'order', 'class', 'phylum', 'superkingdom']"
   ]
  },
  {
   "cell_type": "code",
   "execution_count": 115,
   "id": "4d8e482d-6a81-4204-9aa6-cf713a944d47",
   "metadata": {},
   "outputs": [],
   "source": [
    "res = {x: {} for x in ranks[1:]}"
   ]
  },
  {
   "cell_type": "code",
   "execution_count": 116,
   "id": "4a06e22f-f624-40e9-996b-08352e8fca4f",
   "metadata": {},
   "outputs": [],
   "source": [
    "rankset = set(ranks[1:])"
   ]
  },
  {
   "cell_type": "code",
   "execution_count": 117,
   "id": "fb581616-2ebb-44c4-b529-728d168d7ec3",
   "metadata": {},
   "outputs": [],
   "source": [
    "for tid in dfr_pubmed.index.astype(str):\n",
    "    this = tid\n",
    "    while True:\n",
    "        rank = dump[this]['rank']\n",
    "        if rank in rankset:\n",
    "            res[rank][tid] = dump[this]['name']\n",
    "        parent = dump[this]['parent']\n",
    "        if this == parent:\n",
    "            break\n",
    "        this = parent"
   ]
  },
  {
   "cell_type": "code",
   "execution_count": 118,
   "id": "7917368b-4b3d-416e-a64c-6e4d8da36a03",
   "metadata": {},
   "outputs": [],
   "source": [
    "for rank in ranks[1:]:\n",
    "    dfr_pubmed[rank] = dfr_pubmed.index.map(res[rank])"
   ]
  },
  {
   "cell_type": "code",
   "execution_count": 119,
   "id": "83510dfb-a100-4a1f-adbe-ea6c2860d52f",
   "metadata": {},
   "outputs": [],
   "source": [
    "# Correct entries with no species\n",
    "dfr_pubmed['species'] = dfr_pubmed['species'].astype(str).apply(lambda x: x if len(x.split(' ')) > 1 else np.NaN)"
   ]
  },
  {
   "cell_type": "code",
   "execution_count": 120,
   "id": "fd047d96-25a0-4668-8668-8f8d5b98bdba",
   "metadata": {},
   "outputs": [
    {
     "data": {
      "text/plain": [
       "(53, 18)"
      ]
     },
     "execution_count": 120,
     "metadata": {},
     "output_type": "execute_result"
    }
   ],
   "source": [
    "dfr_pubmed.shape"
   ]
  },
  {
   "cell_type": "markdown",
   "id": "1c58e81e-62df-4f16-83ba-e769b4b6ccbb",
   "metadata": {},
   "source": [
    "Statistics"
   ]
  },
  {
   "cell_type": "code",
   "execution_count": 121,
   "id": "c52912c0-f421-4c50-9981-05c6b08bb49f",
   "metadata": {},
   "outputs": [
    {
     "name": "stdout",
     "output_type": "stream",
     "text": [
      "species 50\n",
      "genus 33\n",
      "family 30\n",
      "order 22\n",
      "class 11\n",
      "phylum 8\n",
      "superkingdom 2\n"
     ]
    }
   ],
   "source": [
    "for rank in ranks:\n",
    "    print(rank, dfr_pubmed[rank].nunique())"
   ]
  },
  {
   "cell_type": "markdown",
   "id": "542a7c61-84c0-41bc-8bdb-257c1bf2cb60",
   "metadata": {},
   "source": [
    "Save dataframe"
   ]
  },
  {
   "cell_type": "code",
   "execution_count": 122,
   "id": "a2f2a7d5-c24d-4453-9571-47b5c01ce447",
   "metadata": {},
   "outputs": [],
   "source": [
    "dfr_pubmed['source'] = 'pubmed'"
   ]
  },
  {
   "cell_type": "code",
   "execution_count": 123,
   "id": "a51e2034-f473-42f4-a910-b4cf18ee3204",
   "metadata": {},
   "outputs": [],
   "source": [
    "dfr_pubmed.to_csv('preprocess/annot/species_pcc.tsv', sep = '\\t')"
   ]
  },
  {
   "cell_type": "markdown",
   "id": "9368e98b-c83d-469e-8a96-2c277a1171ac",
   "metadata": {},
   "source": [
    "# Bergey's manual volume 1"
   ]
  },
  {
   "cell_type": "code",
   "execution_count": 124,
   "id": "277b5c70-bf1b-418b-b02b-50390a4f4171",
   "metadata": {},
   "outputs": [
    {
     "data": {
      "text/plain": [
       "(103, 20)"
      ]
     },
     "execution_count": 124,
     "metadata": {},
     "output_type": "execute_result"
    }
   ],
   "source": [
    "df_bm1 = pd.read_table('preprocess/data_bm1.tsv', sep = '\\t', index_col = 0)\n",
    "df_bm1.shape"
   ]
  },
  {
   "cell_type": "markdown",
   "id": "e74aea68-d2b7-4e88-b988-735bdf32ecab",
   "metadata": {},
   "source": [
    "Drop useless columns"
   ]
  },
  {
   "cell_type": "code",
   "execution_count": 125,
   "id": "df5ad009-011d-430d-b79c-fbfb9dbd98d2",
   "metadata": {},
   "outputs": [
    {
     "data": {
      "text/plain": [
       "Index(['Name', 'Shape', 'Length', 'Width', 'Diameter', 'Subspecies', 'File #',\n",
       "       'Notes', 'length_gmean', 'width_gmean', 'length_amean', 'width_amean',\n",
       "       'volume_gmean', 'surface_gmean', 'volume_amean', 'surface_amean',\n",
       "       'length_ranges', 'width_ranges', 'length_ranges_fix',\n",
       "       'width_ranges_fix'],\n",
       "      dtype='object')"
      ]
     },
     "execution_count": 125,
     "metadata": {},
     "output_type": "execute_result"
    }
   ],
   "source": [
    "df_bm1.columns"
   ]
  },
  {
   "cell_type": "code",
   "execution_count": 126,
   "id": "0d37d721-bd47-4847-8c71-14dfcc0cfb0e",
   "metadata": {},
   "outputs": [],
   "source": [
    "columns = ['Length', 'Width', 'Diameter', 'Subspecies', 'File #', 'Notes', 'length_ranges', 'width_ranges']\n",
    "df_bm1 = df_bm1.drop(columns, axis = 1)"
   ]
  },
  {
   "cell_type": "markdown",
   "id": "4f679c4e-acb2-465d-b295-fdbb6fc82bdf",
   "metadata": {},
   "source": [
    "Rename columns"
   ]
  },
  {
   "cell_type": "code",
   "execution_count": 127,
   "id": "bb361e3b-ecf3-44f4-a61e-6c606b275064",
   "metadata": {},
   "outputs": [],
   "source": [
    "df_bm1.rename(columns = {'Name': 'species', 'Shape': 'shape'}, inplace = True)"
   ]
  },
  {
   "cell_type": "markdown",
   "id": "1e87d11e-01ed-4599-87b4-44f4b14a43b3",
   "metadata": {},
   "source": [
    "### Match species to NCBI taxonomy"
   ]
  },
  {
   "cell_type": "code",
   "execution_count": 128,
   "id": "2d0316fa-5a87-4c58-8313-8ffaac572555",
   "metadata": {},
   "outputs": [],
   "source": [
    "spnames = {v['name']: k for k, v in dump.items() if v['rank'] == 'species'}"
   ]
  },
  {
   "cell_type": "code",
   "execution_count": 129,
   "id": "4f7b1551-287c-4b52-a25b-ed5d5775773e",
   "metadata": {},
   "outputs": [
    {
     "data": {
      "text/plain": [
       "species\n",
       "True     80\n",
       "False    23\n",
       "Name: count, dtype: int64"
      ]
     },
     "execution_count": 129,
     "metadata": {},
     "output_type": "execute_result"
    }
   ],
   "source": [
    "df_bm1['species'].astype(str).isin(spnames).value_counts()"
   ]
  },
  {
   "cell_type": "markdown",
   "id": "3c66ba6c-0fd6-4315-a607-28e3184ca2b5",
   "metadata": {},
   "source": [
    "Add species taxid"
   ]
  },
  {
   "cell_type": "code",
   "execution_count": 130,
   "id": "f8e71877-b2e3-4a12-bd8a-bc95fdae9687",
   "metadata": {},
   "outputs": [],
   "source": [
    "df_bm1['sptid'] = df_bm1['species'].map(spnames)"
   ]
  },
  {
   "cell_type": "markdown",
   "id": "05ca54d3-de51-40c2-9740-0791b4a191b3",
   "metadata": {},
   "source": [
    "Check remaining"
   ]
  },
  {
   "cell_type": "code",
   "execution_count": 131,
   "id": "ccf1c633-47c1-43a8-9d2d-42b4f94d8d86",
   "metadata": {},
   "outputs": [
    {
     "data": {
      "text/plain": [
       "(23, 13)"
      ]
     },
     "execution_count": 131,
     "metadata": {},
     "output_type": "execute_result"
    }
   ],
   "source": [
    "tmp = df_bm1[df_bm1['sptid'].isna()]\n",
    "tmp.shape"
   ]
  },
  {
   "cell_type": "markdown",
   "id": "03ee3f64-2e14-455c-9092-e81f192c75f6",
   "metadata": {},
   "source": [
    "Match subspecies name"
   ]
  },
  {
   "cell_type": "code",
   "execution_count": 132,
   "id": "d288d59b-cc6b-46e8-9181-525f663e8502",
   "metadata": {},
   "outputs": [],
   "source": [
    "sspnames = {v['name']: k for k, v in dump.items() if v['rank'] == 'subspecies'}"
   ]
  },
  {
   "cell_type": "code",
   "execution_count": 133,
   "id": "c67538a7-b9e7-442d-9e3e-8a6d535eda17",
   "metadata": {},
   "outputs": [
    {
     "data": {
      "text/plain": [
       "species\n",
       "False    23\n",
       "Name: count, dtype: int64"
      ]
     },
     "execution_count": 133,
     "metadata": {},
     "output_type": "execute_result"
    }
   ],
   "source": [
    "tmp['species'].astype(str).isin(sspnames).value_counts()"
   ]
  },
  {
   "cell_type": "markdown",
   "id": "d83ab653-0475-474e-b4e0-7654d5d611b1",
   "metadata": {},
   "source": [
    "Manually add taxid according to NCBI"
   ]
  },
  {
   "cell_type": "code",
   "execution_count": 134,
   "id": "3cd2cddb-c29c-4c6c-91d4-3a781a50bb75",
   "metadata": {},
   "outputs": [],
   "source": [
    "df_bm1.drop([22, 23, 69], inplace = True)"
   ]
  },
  {
   "cell_type": "code",
   "execution_count": 135,
   "id": "e0448725-7d45-4e65-a0b3-a3fc65fe5854",
   "metadata": {},
   "outputs": [],
   "source": [
    "df_bm1.at[14, 'sptid'], df_bm1.at[14, 'species'] = '35616', 'Pyrodictium brockii'\n",
    "df_bm1.at[50, 'sptid'], df_bm1.at[50, 'species'] = '2190', 'Methanocaldococcus jannaschii'\n",
    "df_bm1.at[86, 'sptid'], df_bm1.at[86, 'species'] = '2190', 'Methanohalophilus mahii'"
   ]
  },
  {
   "cell_type": "code",
   "execution_count": 136,
   "id": "86bf0731-328e-4675-9de8-ea5319bd7f10",
   "metadata": {},
   "outputs": [],
   "source": [
    "df_bm1.at[1, 'sptid'], df_bm1.at[1, 'species'] = '70771', 'Pyrobaculum neutrophilum'\n",
    "df_bm1.at[18, 'sptid'], df_bm1.at[18, 'species'] = '43687', 'Metallosphaera sedula'\n",
    "df_bm1.at[27, 'sptid'], df_bm1.at[27, 'species'] = '83565', 'Methanobacterium espanolae'\n",
    "df_bm1.at[34, 'sptid'], df_bm1.at[34, 'species'] = '49547', 'Methanobrevibacter curvatus'\n",
    "df_bm1.at[36, 'sptid'], df_bm1.at[36, 'species'] = '2173', 'Methanobrevibacter smithii'\n",
    "df_bm1.at[43, 'sptid'], df_bm1.at[43, 'species'] = '145261', 'Methanothermobacter wolfeii'\n",
    "df_bm1.at[46, 'sptid'], df_bm1.at[46, 'species'] = '2187', 'Methanococcus vannielii'\n",
    "df_bm1.at[58, 'sptid'], df_bm1.at[58, 'species'] = '83986', 'Methanoculleus bourgensis'\n",
    "df_bm1.at[59, 'sptid'], df_bm1.at[59, 'species'] = '83986', 'Methanoculleus bourgensis'\n",
    "df_bm1.at[61, 'sptid'], df_bm1.at[61, 'species'] = '2200', 'Methanoculleus thermophilus'\n",
    "df_bm1.at[66, 'sptid'], df_bm1.at[66, 'species'] = '2200', 'Methanoculleus thermophilus'\n",
    "df_bm1.at[70, 'sptid'], df_bm1.at[70, 'species'] = '33865', 'Methanoplanus endosymbiosus'\n",
    "df_bm1.at[71, 'sptid'], df_bm1.at[71, 'species'] = '54120', 'Methanolacinia petrolearia'\n",
    "df_bm1.at[76, 'sptid'], df_bm1.at[76, 'species'] = '2203', 'Methanospirillum hungatei'\n",
    "df_bm1.at[95, 'sptid'], df_bm1.at[95, 'species'] = '2223', 'Methanothrix soehngenii'\n",
    "df_bm1.at[96, 'sptid'], df_bm1.at[96, 'species'] = '2224', 'Methanothrix thermoacetophila'\n",
    "df_bm1.at[97, 'sptid'], df_bm1.at[97, 'species'] = '2242', 'Halobacterium salinarum'"
   ]
  },
  {
   "cell_type": "markdown",
   "id": "a5e480ba-a604-48b3-83b8-322a01b6f7e9",
   "metadata": {},
   "source": [
    "Check duplicates"
   ]
  },
  {
   "cell_type": "code",
   "execution_count": 137,
   "id": "b2d5c564-14f1-45ff-b1b3-876059687cac",
   "metadata": {},
   "outputs": [
    {
     "data": {
      "text/plain": [
       "count\n",
       "1    89\n",
       "2     4\n",
       "3     1\n",
       "Name: count, dtype: int64"
      ]
     },
     "execution_count": 137,
     "metadata": {},
     "output_type": "execute_result"
    }
   ],
   "source": [
    "df_bm1['sptid'].value_counts().value_counts()"
   ]
  },
  {
   "cell_type": "markdown",
   "id": "48f88609-30c1-4f58-a665-6e5388ec2236",
   "metadata": {},
   "source": [
    "Group organisms by species taxid and calculate geometric/arithmetic mean per species."
   ]
  },
  {
   "cell_type": "code",
   "execution_count": 138,
   "id": "2cfccff3-ba0a-4881-b8bb-f21aa16b377c",
   "metadata": {},
   "outputs": [],
   "source": [
    "cols_gmean = ['length_gmean', 'width_gmean', 'volume_gmean', 'surface_gmean']\n",
    "cols_amean = ['length_amean', 'width_amean', 'volume_amean', 'surface_amean']"
   ]
  },
  {
   "cell_type": "code",
   "execution_count": 139,
   "id": "d0eb315a-7202-4bb9-a164-562ed7e1cc48",
   "metadata": {},
   "outputs": [],
   "source": [
    "tmp_gmean = df_bm1.groupby('sptid')[cols_gmean].agg(gmean)\n",
    "tmp_amean = df_bm1.groupby('sptid')[cols_amean].agg('mean')"
   ]
  },
  {
   "cell_type": "code",
   "execution_count": 140,
   "id": "8e25584f-b5df-400a-b542-eac03668e25d",
   "metadata": {},
   "outputs": [],
   "source": [
    "dfr_bm1 = pd.concat([tmp_gmean, tmp_amean], axis = 1)"
   ]
  },
  {
   "cell_type": "markdown",
   "id": "da17883a-e392-4ec9-93b1-8bd267f621b8",
   "metadata": {},
   "source": [
    "Add shape, ranges, and species name"
   ]
  },
  {
   "cell_type": "code",
   "execution_count": 141,
   "id": "5dc37904-c705-4a9f-9db0-824ca7996a5f",
   "metadata": {},
   "outputs": [],
   "source": [
    "shapes = dict(df_bm1[['sptid', 'shape']].drop_duplicates('sptid').values)\n",
    "dfr_bm1['shape'] = dfr_bm1.index.map(shapes)"
   ]
  },
  {
   "cell_type": "code",
   "execution_count": 142,
   "id": "feefff06-054a-41ba-a5ff-c3e229d769e9",
   "metadata": {},
   "outputs": [],
   "source": [
    "ranges_length = map_ranges(df_bm1, 'length')\n",
    "ranges_width = map_ranges(df_bm1, 'width')"
   ]
  },
  {
   "cell_type": "code",
   "execution_count": 143,
   "id": "577bfb66-c14a-4da2-af68-152ba28f58b9",
   "metadata": {},
   "outputs": [],
   "source": [
    "dfr_bm1['length_ranges'] = dfr_bm1.index.map(ranges_length)\n",
    "dfr_bm1['width_ranges'] = dfr_bm1.index.map(ranges_width)"
   ]
  },
  {
   "cell_type": "code",
   "execution_count": 144,
   "id": "0a9bde0e-c46a-442a-9b56-be18a68c26bb",
   "metadata": {},
   "outputs": [],
   "source": [
    "dfr_bm1['species'] = dfr_bm1.index.to_series().apply(lambda x: dump[str(x)]['name'])"
   ]
  },
  {
   "cell_type": "markdown",
   "id": "f7052e52-eb41-4c97-a378-3ee80fb17521",
   "metadata": {},
   "source": [
    "Organize"
   ]
  },
  {
   "cell_type": "code",
   "execution_count": 145,
   "id": "108526a6-d7b1-4c33-9016-0c3b3c9aa3f8",
   "metadata": {},
   "outputs": [],
   "source": [
    "dfr_bm1 = dfr_bm1.loc[sorted(dfr_bm1.index, key = int)]"
   ]
  },
  {
   "cell_type": "code",
   "execution_count": 146,
   "id": "f0bc351a-e03d-46c2-9672-6204f6fcd403",
   "metadata": {},
   "outputs": [],
   "source": [
    "dfr_bm1.index.names = ['taxid']"
   ]
  },
  {
   "cell_type": "code",
   "execution_count": 147,
   "id": "1a17ce08-6b1f-4f77-aa62-8485cb4ee09d",
   "metadata": {},
   "outputs": [
    {
     "data": {
      "text/plain": [
       "(94, 12)"
      ]
     },
     "execution_count": 147,
     "metadata": {},
     "output_type": "execute_result"
    }
   ],
   "source": [
    "dfr_bm1.shape"
   ]
  },
  {
   "cell_type": "markdown",
   "id": "38122737-20ca-459f-b600-d8e727b51743",
   "metadata": {},
   "source": [
    "Fill more ranks"
   ]
  },
  {
   "cell_type": "code",
   "execution_count": 148,
   "id": "d50319d7-b130-45d2-8b01-9642bffdda0f",
   "metadata": {},
   "outputs": [],
   "source": [
    "ranks = ['species', 'genus', 'family', 'order', 'class', 'phylum', 'superkingdom']"
   ]
  },
  {
   "cell_type": "code",
   "execution_count": 149,
   "id": "ce638cea-7504-4286-b73d-abd78f8e97c8",
   "metadata": {},
   "outputs": [],
   "source": [
    "res = {x: {} for x in ranks[1:]}"
   ]
  },
  {
   "cell_type": "code",
   "execution_count": 150,
   "id": "1cab4562-3bb2-4e17-b6e4-04aabf62697a",
   "metadata": {},
   "outputs": [],
   "source": [
    "rankset = set(ranks[1:])"
   ]
  },
  {
   "cell_type": "code",
   "execution_count": 151,
   "id": "89de831c-4e4e-447e-a120-192fd716a2c6",
   "metadata": {},
   "outputs": [],
   "source": [
    "for tid in dfr_bm1.index.astype(str):\n",
    "    this = tid\n",
    "    while True:\n",
    "        rank = dump[this]['rank']\n",
    "        if rank in rankset:\n",
    "            res[rank][tid] = dump[this]['name']\n",
    "        parent = dump[this]['parent']\n",
    "        if this == parent:\n",
    "            break\n",
    "        this = parent"
   ]
  },
  {
   "cell_type": "code",
   "execution_count": 152,
   "id": "c991a4df-9c01-44e7-a3fb-810e7fa7a538",
   "metadata": {},
   "outputs": [],
   "source": [
    "for rank in ranks[1:]:\n",
    "    dfr_bm1[rank] = dfr_bm1.index.map(res[rank])"
   ]
  },
  {
   "cell_type": "code",
   "execution_count": 153,
   "id": "a01bcd94-54df-4d58-9952-79b2a988bbf3",
   "metadata": {},
   "outputs": [],
   "source": [
    "# Correct entries with no species\n",
    "dfr_bm1['species'] = dfr_bm1['species'].astype(str).apply(lambda x: x if len(x.split(' ')) > 1 else np.NaN)"
   ]
  },
  {
   "cell_type": "code",
   "execution_count": 154,
   "id": "4de3fceb-6d78-4efd-bcef-45b32f47b541",
   "metadata": {},
   "outputs": [
    {
     "data": {
      "text/plain": [
       "(94, 18)"
      ]
     },
     "execution_count": 154,
     "metadata": {},
     "output_type": "execute_result"
    }
   ],
   "source": [
    "dfr_bm1.shape"
   ]
  },
  {
   "cell_type": "markdown",
   "id": "52fd75f6-615a-45dd-8641-85dab1d4bfd8",
   "metadata": {},
   "source": [
    "Statistics"
   ]
  },
  {
   "cell_type": "code",
   "execution_count": 155,
   "id": "411ecbdb-2b95-4862-a50a-9999b907f7ac",
   "metadata": {},
   "outputs": [
    {
     "name": "stdout",
     "output_type": "stream",
     "text": [
      "species 94\n",
      "genus 43\n",
      "family 17\n",
      "order 9\n",
      "class 5\n",
      "phylum 2\n",
      "superkingdom 1\n"
     ]
    }
   ],
   "source": [
    "for rank in ranks:\n",
    "    print(rank, dfr_bm1[rank].nunique())"
   ]
  },
  {
   "cell_type": "markdown",
   "id": "61ded198-f124-4f60-9793-4d796c07fdf5",
   "metadata": {},
   "source": [
    "Save dataframe"
   ]
  },
  {
   "cell_type": "code",
   "execution_count": 156,
   "id": "5d3a7859-ce9e-4b9a-8a5e-500670a17295",
   "metadata": {},
   "outputs": [],
   "source": [
    "dfr_bm1['source'] = 'bm1'"
   ]
  },
  {
   "cell_type": "code",
   "execution_count": 157,
   "id": "12c668e3-49e1-405d-8f5b-3f679af92645",
   "metadata": {},
   "outputs": [],
   "source": [
    "dfr_bm1.to_csv('preprocess/annot/species_bm1.tsv', sep = '\\t')"
   ]
  },
  {
   "cell_type": "markdown",
   "id": "747e994f-a7a1-4ba3-8494-e289ac9417af",
   "metadata": {},
   "source": [
    "# Bergey's manual volume 4"
   ]
  },
  {
   "cell_type": "code",
   "execution_count": 158,
   "id": "9fd6a907-c0a0-4809-a66a-0ba2f3bc5d5e",
   "metadata": {},
   "outputs": [
    {
     "data": {
      "text/plain": [
       "(346, 20)"
      ]
     },
     "execution_count": 158,
     "metadata": {},
     "output_type": "execute_result"
    }
   ],
   "source": [
    "df_bm4 = pd.read_table('preprocess/data_bm4.tsv', sep = '\\t', index_col = 0)\n",
    "df_bm4.shape"
   ]
  },
  {
   "cell_type": "markdown",
   "id": "694436ed-ae38-43bb-8561-cf1a41d167b4",
   "metadata": {},
   "source": [
    "Drop useless columns"
   ]
  },
  {
   "cell_type": "code",
   "execution_count": 159,
   "id": "f9196497-ff54-4c9c-b472-5d65a01f90ec",
   "metadata": {},
   "outputs": [
    {
     "data": {
      "text/plain": [
       "Index(['Name', 'Date Modified', 'Shape', 'Length', 'Width', 'Diameter',\n",
       "       'Subspecies', 'File #', 'length_gmean', 'width_gmean', 'length_amean',\n",
       "       'width_amean', 'volume_gmean', 'surface_gmean', 'volume_amean',\n",
       "       'surface_amean', 'length_ranges', 'width_ranges', 'length_ranges_fix',\n",
       "       'width_ranges_fix'],\n",
       "      dtype='object')"
      ]
     },
     "execution_count": 159,
     "metadata": {},
     "output_type": "execute_result"
    }
   ],
   "source": [
    "df_bm4.columns"
   ]
  },
  {
   "cell_type": "code",
   "execution_count": 160,
   "id": "ff288989-ab8f-43a2-a043-47a60780dc32",
   "metadata": {},
   "outputs": [],
   "source": [
    "columns = ['Length', 'Width', 'Diameter', 'Subspecies', 'File #', 'Date Modified', 'length_ranges', 'width_ranges']\n",
    "df_bm4 = df_bm4.drop(columns, axis = 1)"
   ]
  },
  {
   "cell_type": "markdown",
   "id": "f6af68f7-ecab-4b49-9658-ce09f93b5034",
   "metadata": {},
   "source": [
    "Rename columns"
   ]
  },
  {
   "cell_type": "code",
   "execution_count": 161,
   "id": "7f97ec37-788b-43b8-abde-5b577092a96a",
   "metadata": {},
   "outputs": [],
   "source": [
    "df_bm4.rename(columns = {'Name': 'species', 'Shape': 'shape'}, inplace = True)"
   ]
  },
  {
   "cell_type": "markdown",
   "id": "54217778-44e5-4688-8eea-7805ec2d13b5",
   "metadata": {},
   "source": [
    "### Match species to NCBI taxonomy"
   ]
  },
  {
   "cell_type": "code",
   "execution_count": 162,
   "id": "3792311f-9855-4428-bc75-9f3431b323c6",
   "metadata": {},
   "outputs": [],
   "source": [
    "spnames = {v['name']: k for k, v in dump.items() if v['rank'] == 'species'}"
   ]
  },
  {
   "cell_type": "code",
   "execution_count": 163,
   "id": "7dc8aa2d-440d-4de7-8a58-dfc9c157aa04",
   "metadata": {},
   "outputs": [
    {
     "data": {
      "text/plain": [
       "species\n",
       "True     261\n",
       "False     85\n",
       "Name: count, dtype: int64"
      ]
     },
     "execution_count": 163,
     "metadata": {},
     "output_type": "execute_result"
    }
   ],
   "source": [
    "df_bm4['species'].astype(str).isin(spnames).value_counts()"
   ]
  },
  {
   "cell_type": "markdown",
   "id": "0c219c86-ad1d-49a5-8fd3-21d27b645ed1",
   "metadata": {},
   "source": [
    "Add species taxid"
   ]
  },
  {
   "cell_type": "code",
   "execution_count": 164,
   "id": "5752a75b-d965-43e3-9bab-5aa2ba07c7be",
   "metadata": {},
   "outputs": [],
   "source": [
    "df_bm4['sptid'] = df_bm4['species'].map(spnames)"
   ]
  },
  {
   "cell_type": "markdown",
   "id": "1972a70d-dbb8-4dc2-b2a5-7f167dffbb59",
   "metadata": {},
   "source": [
    "Check remaining"
   ]
  },
  {
   "cell_type": "code",
   "execution_count": 165,
   "id": "cc20aa5b-7197-4ac4-8f75-0618e542961c",
   "metadata": {},
   "outputs": [
    {
     "data": {
      "text/plain": [
       "(85, 13)"
      ]
     },
     "execution_count": 165,
     "metadata": {},
     "output_type": "execute_result"
    }
   ],
   "source": [
    "tmp = df_bm4[df_bm4['sptid'].isna()]\n",
    "tmp.shape"
   ]
  },
  {
   "cell_type": "markdown",
   "id": "b2347afd-3cef-49d1-a6db-a1669a2c503c",
   "metadata": {},
   "source": [
    "Match subspecies name"
   ]
  },
  {
   "cell_type": "code",
   "execution_count": 166,
   "id": "f10a5341-efb7-4ae9-b270-24c8704307a1",
   "metadata": {},
   "outputs": [],
   "source": [
    "sspnames = {v['name']: k for k, v in dump.items() if v['rank'] == 'subspecies'}"
   ]
  },
  {
   "cell_type": "code",
   "execution_count": 167,
   "id": "ab0b24c6-7dc4-4a41-9efd-cd2af66f596e",
   "metadata": {},
   "outputs": [
    {
     "data": {
      "text/plain": [
       "species\n",
       "False    85\n",
       "Name: count, dtype: int64"
      ]
     },
     "execution_count": 167,
     "metadata": {},
     "output_type": "execute_result"
    }
   ],
   "source": [
    "tmp['species'].astype(str).isin(sspnames).value_counts()"
   ]
  },
  {
   "cell_type": "markdown",
   "id": "9a1182e6-7011-431a-a481-35ed88bc9dc6",
   "metadata": {},
   "source": [
    "Manually add taxid according to NCBI"
   ]
  },
  {
   "cell_type": "code",
   "execution_count": 168,
   "id": "8baef7f0-ed4c-40e9-9dd5-08744d2f1d5c",
   "metadata": {},
   "outputs": [],
   "source": [
    "df_bm4.drop([38, 72, 84, 90, 221, 337, 340], inplace = True)"
   ]
  },
  {
   "cell_type": "code",
   "execution_count": 169,
   "id": "3bbfc9f5-5b32-465d-b6e3-142fc901405c",
   "metadata": {},
   "outputs": [],
   "source": [
    "df_bm4.at[28, 'sptid'], df_bm4.at[28, 'name'] = '215591', 'Gracilinema caldarium'\n",
    "df_bm4.at[33, 'sptid'], df_bm4.at[33, 'name'] = '152', 'Zuelzera stenostrepta'\n",
    "df_bm4.at[60, 'sptid'], df_bm4.at[60, 'name'] = '88916', 'Borreliella spielmanii'\n",
    "df_bm4.at[63, 'sptid'], df_bm4.at[63, 'name'] = '57863', 'Borreliella turdi'\n",
    "df_bm4.at[113, 'sptid'], df_bm4.at[113, 'name'] = '100053', 'Leptospira alexanderi'\n",
    "df_bm4.at[117, 'sptid'], df_bm4.at[117, 'name'] = '2110', 'Mycoplasmopsis agalactiae'\n",
    "df_bm4.at[132, 'sptid'], df_bm4.at[132, 'name'] = '2113', 'Mycoplasmopsis californica'\n",
    "df_bm4.at[134, 'sptid'], df_bm4.at[134, 'name'] = '29555', 'Mycoplasmopsis canis'\n",
    "df_bm4.at[139, 'sptid'], df_bm4.at[139, 'name'] = '114880', 'Mycoplasmopsis columbinasalis'\n",
    "df_bm4.at[140, 'sptid'], df_bm4.at[140, 'name'] = '114881', 'Mycoplasmopsis columbina'\n",
    "df_bm4.at[141, 'sptid'], df_bm4.at[140, 'name'] = '171282', 'Mycoplasmopsis columboralis'\n",
    "df_bm4.at[146, 'sptid'], df_bm4.at[146, 'name'] = '171284', 'Mycoplasmopsis cynos'\n",
    "df_bm4.at[155, 'sptid'], df_bm4.at[155, 'name'] = '114881', 'Mycoplasmopsis felis'\n",
    "df_bm4.at[158, 'sptid'], df_bm4.at[158, 'name'] = '29556', 'Mycoplasmopsis gallinacea'\n",
    "df_bm4.at[163, 'sptid'], df_bm4.at[163, 'name'] = '171285', 'Mycoplasmopsis glycophila'\n",
    "df_bm4.at[178, 'sptid'], df_bm4.at[178, 'name'] = '114885', 'Mycoplasmopsis maculosa'\n",
    "df_bm4.at[179, 'sptid'], df_bm4.at[179, 'name'] = '29561', 'Mycoplasmopsis meleagridis'\n",
    "df_bm4.at[197, 'sptid'], df_bm4.at[197, 'name'] = '55604', 'Mycoplasmopsis primatum'\n",
    "df_bm4.at[199, 'sptid'], df_bm4.at[199, 'name'] = '2107', 'Mycoplasmopsis pulmonis'\n",
    "df_bm4.at[210, 'sptid'], df_bm4.at[210, 'name'] = '171291', 'Mycoplasmopsis verecunda'\n",
    "df_bm4.at[223, 'sptid'], df_bm4.at[223, 'name'] = '219290', 'Mycoplasma vulturii'"
   ]
  },
  {
   "cell_type": "code",
   "execution_count": 170,
   "id": "5e363f92-4920-45d6-ac82-7e517cf8a446",
   "metadata": {},
   "outputs": [],
   "source": [
    "df_bm4.at[7, 'sptid'], df_bm4.at[7, 'name'] = '860', 'Fusobacterium periodonticum'\n",
    "df_bm4.at[18, 'sptid'], df_bm4.at[18, 'name'] = '157692', 'Pseudoleptotrichia goodfellowii'\n",
    "df_bm4.at[23, 'sptid'], df_bm4.at[23, 'name'] = '46356', 'Alkalispirochaeta alkalica'\n",
    "df_bm4.at[24, 'sptid'], df_bm4.at[24, 'name'] = '159291', 'Alkalispirochaeta americana'\n",
    "df_bm4.at[27, 'sptid'], df_bm4.at[27, 'name'] = '148', 'Sediminispirochaeta bajacaliforniensis'\n",
    "df_bm4.at[31, 'sptid'], df_bm4.at[31, 'name'] = '151', 'Oceanispirochaeta litoralis'\n",
    "df_bm4.at[32, 'sptid'], df_bm4.at[32, 'name'] = '55206', 'Sediminispirochaeta smaragdinae'\n",
    "df_bm4.at[35, 'sptid'], df_bm4.at[35, 'name'] = '156', 'Treponema zuelzerae'\n",
    "df_bm4.at[37, 'sptid'], df_bm4.at[37, 'name'] = '29518', 'Borreliella afzelii'\n",
    "df_bm4.at[40, 'sptid'], df_bm4.at[40, 'name'] = '139', 'Borreliella burgdorferi'\n",
    "df_bm4.at[46, 'sptid'], df_bm4.at[46, 'name'] = '29519', 'Borreliella garinii'\n",
    "df_bm4.at[51, 'sptid'], df_bm4.at[51, 'name'] = '34095', 'Borreliella japonica'\n",
    "df_bm4.at[53, 'sptid'], df_bm4.at[53, 'name'] = '100177', 'Borreliella lusitaniae'\n",
    "df_bm4.at[59, 'sptid'], df_bm4.at[59, 'name'] = '87162', 'Borreliella sinica'\n",
    "df_bm4.at[61, 'sptid'], df_bm4.at[61, 'name'] = '56146', 'Borreliella tanukii'\n",
    "df_bm4.at[65, 'sptid'], df_bm4.at[65, 'name'] = '62088', 'Borreliella valaisiana'\n",
    "df_bm4.at[88, 'sptid'], df_bm4.at[88, 'name'] = '392334', 'Candidatus Treponema suis'\n",
    "df_bm4.at[89, 'sptid'], df_bm4.at[89, 'name'] = '158', 'Treponema denticola'\n",
    "df_bm4.at[95, 'sptid'], df_bm4.at[95, 'name'] = '84377', 'Brachyspira intermedia'\n",
    "df_bm4.at[116, 'sptid'], df_bm4.at[116, 'name'] = '51362', 'Mycoplasmopsis adleri'\n",
    "df_bm4.at[118, 'sptid'], df_bm4.at[118, 'name'] = '33922', 'Mycoplasmopsis agassizii'\n",
    "df_bm4.at[120, 'sptid'], df_bm4.at[120, 'name'] = '47687', 'Mycoplasmopsis alligatoris'\n",
    "df_bm4.at[123, 'sptid'], df_bm4.at[123, 'name'] = '171279', 'Mycoplasmopsis anatis'\n",
    "df_bm4.at[125, 'sptid'], df_bm4.at[125, 'name'] = '2094', 'Mycoplasmopsis arginini'\n",
    "df_bm4.at[128, 'sptid'], df_bm4.at[128, 'name'] = '28903', 'Mycoplasmopsis bovis'\n",
    "df_bm4.at[144, 'sptid'], df_bm4.at[144, 'name'] = '171283', 'Mycoplasmopsis cricetuli'\n",
    "df_bm4.at[148, 'sptid'], df_bm4.at[148, 'name'] = '53558', 'Mycoplasmopsis edwardii'\n",
    "df_bm4.at[154, 'sptid'], df_bm4.at[154, 'name'] = '35768', 'Mycoplasmopsis felifaucium'\n",
    "df_bm4.at[156, 'sptid'], df_bm4.at[156, 'name'] = '2115', 'Mycoplasmopsis fermentans'\n",
    "df_bm4.at[159, 'sptid'], df_bm4.at[159, 'name'] = '29557', 'Mycoplasmopsis gallinarum'\n",
    "df_bm4.at[161, 'sptid'], df_bm4.at[161, 'name'] = '76629', 'Mycoplasmopsis gallopavonis'\n",
    "df_bm4.at[177, 'sptid'], df_bm4.at[177, 'name'] = '114884', 'Mycoplasmopsis lipofaciens'\n",
    "df_bm4.at[184, 'sptid'], df_bm4.at[184, 'name'] = '458208', 'Mycoplasmopsis mucosicanis'\n",
    "df_bm4.at[186, 'sptid'], df_bm4.at[186, 'name'] = '171289', 'Mycoplasmopsis mustelae'\n",
    "df_bm4.at[194, 'sptid'], df_bm4.at[194, 'name'] = '142650', 'Mycoplasmopsis phocirhinis'\n",
    "df_bm4.at[198, 'sptid'], df_bm4.at[198, 'name'] = '48003', 'Mycoplasmopsis pullorum'\n",
    "df_bm4.at[204, 'sptid'], df_bm4.at[204, 'name'] = '39047', 'Mycoplasmopsis sturni'\n",
    "df_bm4.at[208, 'sptid'], df_bm4.at[208, 'name'] = '2109', 'Mycoplasmopsis synoviae'\n",
    "df_bm4.at[214, 'sptid'], df_bm4.at[214, 'name'] = '247278', 'Candidatus Mycoplasma haematoparvum'\n",
    "df_bm4.at[215, 'sptid'], df_bm4.at[215, 'name'] = '432608', 'Candidatus Mycoplasma haematobovis'\n",
    "df_bm4.at[216, 'sptid'], df_bm4.at[216, 'name'] = '112247', 'Candidatus Mycoplasma haemodidelphidis'\n",
    "df_bm4.at[217, 'sptid'], df_bm4.at[217, 'name'] = '141391', 'Candidatus Mycoplasma haemolamae'\n",
    "df_bm4.at[218, 'sptid'], df_bm4.at[218, 'name'] = '209446', 'Candidatus Mycoplasma haemominutum'\n",
    "df_bm4.at[219, 'sptid'], df_bm4.at[219, 'name'] = '60452', 'Candidatus Mycoplasma ravipulmonis'\n",
    "df_bm4.at[220, 'sptid'], df_bm4.at[220, 'name'] = '346879', 'Candidatus Mycoplasma turicensis'\n",
    "df_bm4.at[280, 'sptid'], df_bm4.at[280, 'name'] = '2149', 'Mesoplasma entomophilum'\n",
    "df_bm4.at[282, 'sptid'], df_bm4.at[282, 'name'] = '2151', 'Mesoplasma florum'\n",
    "df_bm4.at[292, 'sptid'], df_bm4.at[292, 'name'] = '28224', 'Mesoplasma seiffertii'\n",
    "df_bm4.at[301, 'sptid'], df_bm4.at[301, 'name'] = '44676', 'Geothrix fermentans'\n",
    "df_bm4.at[328, 'sptid'], df_bm4.at[328, 'name'] = '362787', 'Candidatus Protochlamydia amoebophila'\n",
    "df_bm4.at[329, 'sptid'], df_bm4.at[329, 'name'] = '324707', 'Candidatus Rhabdochlamydia crassificans'\n",
    "df_bm4.at[330, 'sptid'], df_bm4.at[330, 'name'] = '225148', 'Candidatus Rhabdochlamydia porcellionis'\n",
    "df_bm4.at[332, 'sptid'], df_bm4.at[332, 'name'] = '206681', 'Candidatus Fritschea bemisiae'\n",
    "df_bm4.at[333, 'sptid'], df_bm4.at[333, 'name'] = '206690', 'Candidatus Fritschea eriococci'\n",
    "df_bm4.at[336, 'sptid'], df_bm4.at[336, 'name'] = '119', 'Rubinisphaera brasiliensis'\n",
    "df_bm4.at[338, 'sptid'], df_bm4.at[338, 'name'] = '120', 'Planctopirus limnophila'\n",
    "df_bm4.at[339, 'sptid'], df_bm4.at[339, 'name'] = '122', 'Gimesia maris'"
   ]
  },
  {
   "cell_type": "markdown",
   "id": "5bd22b1e-7abb-4d8d-8be1-3ddf288daf18",
   "metadata": {},
   "source": [
    "Check duplicates"
   ]
  },
  {
   "cell_type": "code",
   "execution_count": 171,
   "id": "840e73fe-ad18-4ef2-a169-e410d8c1fd1e",
   "metadata": {},
   "outputs": [
    {
     "data": {
      "text/plain": [
       "count\n",
       "1    327\n",
       "2      6\n",
       "Name: count, dtype: int64"
      ]
     },
     "execution_count": 171,
     "metadata": {},
     "output_type": "execute_result"
    }
   ],
   "source": [
    "df_bm4['sptid'].value_counts().value_counts()"
   ]
  },
  {
   "cell_type": "markdown",
   "id": "d50ad368-9090-4b3f-a2a5-40f9bb08666e",
   "metadata": {},
   "source": [
    "Group organisms by species taxid and calculate geometric/arithmetic mean per species."
   ]
  },
  {
   "cell_type": "code",
   "execution_count": 172,
   "id": "89906c98-081f-442d-a0ca-732ef825ffb9",
   "metadata": {},
   "outputs": [],
   "source": [
    "cols_gmean = ['length_gmean', 'width_gmean', 'volume_gmean', 'surface_gmean']\n",
    "cols_amean = ['length_amean', 'width_amean', 'volume_amean', 'surface_amean']"
   ]
  },
  {
   "cell_type": "code",
   "execution_count": 173,
   "id": "a163eed5-29db-4165-b525-dfa9bcbbce27",
   "metadata": {},
   "outputs": [],
   "source": [
    "tmp_gmean = df_bm4.groupby('sptid')[cols_gmean].agg(gmean)\n",
    "tmp_amean = df_bm4.groupby('sptid')[cols_amean].agg('mean')"
   ]
  },
  {
   "cell_type": "code",
   "execution_count": 174,
   "id": "c2a8f8f8-e458-46c5-9d76-ca2b61fde0d4",
   "metadata": {},
   "outputs": [],
   "source": [
    "dfr_bm4 = pd.concat([tmp_gmean, tmp_amean], axis = 1)"
   ]
  },
  {
   "cell_type": "markdown",
   "id": "537d9d9a-5057-482a-8a06-ad48605ae62a",
   "metadata": {},
   "source": [
    "Add shape, ranges, and species name"
   ]
  },
  {
   "cell_type": "code",
   "execution_count": 175,
   "id": "fac584ea-dc04-42d4-8f0f-dbe24008edd0",
   "metadata": {},
   "outputs": [],
   "source": [
    "shapes = dict(df_bm4[['sptid', 'shape']].drop_duplicates('sptid').values)\n",
    "dfr_bm4['shape'] = dfr_bm4.index.map(shapes)"
   ]
  },
  {
   "cell_type": "code",
   "execution_count": 176,
   "id": "dfe89eca-fccf-4d1a-b8d7-09b3453dd10b",
   "metadata": {},
   "outputs": [],
   "source": [
    "ranges_length = map_ranges(df_bm4, 'length')\n",
    "ranges_width = map_ranges(df_bm4, 'width')"
   ]
  },
  {
   "cell_type": "code",
   "execution_count": 177,
   "id": "9bf3a8c1-8de6-46a7-aee8-203f1876171f",
   "metadata": {},
   "outputs": [],
   "source": [
    "dfr_bm4['length_ranges'] = dfr_bm4.index.map(ranges_length)\n",
    "dfr_bm4['width_ranges'] = dfr_bm4.index.map(ranges_width)"
   ]
  },
  {
   "cell_type": "code",
   "execution_count": 178,
   "id": "c06b4803-4d7f-425b-8b61-2e51119b8713",
   "metadata": {},
   "outputs": [],
   "source": [
    "dfr_bm4['species'] = dfr_bm4.index.to_series().apply(lambda x: dump[str(x)]['name'])"
   ]
  },
  {
   "cell_type": "markdown",
   "id": "d17eadb6-f848-4b8c-8830-46009bbcf411",
   "metadata": {},
   "source": [
    "Organize"
   ]
  },
  {
   "cell_type": "code",
   "execution_count": 179,
   "id": "3fcdccf6-30e5-442c-85cd-3b124dccd9e3",
   "metadata": {},
   "outputs": [],
   "source": [
    "dfr_bm4 = dfr_bm4.loc[sorted(dfr_bm4.index, key = int)]"
   ]
  },
  {
   "cell_type": "code",
   "execution_count": 180,
   "id": "338abec4-408b-44ec-bf17-8e171c5b45ac",
   "metadata": {},
   "outputs": [],
   "source": [
    "dfr_bm4.index.names = ['taxid']"
   ]
  },
  {
   "cell_type": "code",
   "execution_count": 181,
   "id": "280eb39c-3d42-4d7a-9cdf-680984fcf4f2",
   "metadata": {},
   "outputs": [
    {
     "data": {
      "text/plain": [
       "(333, 12)"
      ]
     },
     "execution_count": 181,
     "metadata": {},
     "output_type": "execute_result"
    }
   ],
   "source": [
    "dfr_bm4.shape"
   ]
  },
  {
   "cell_type": "markdown",
   "id": "b94cfa2d-3e78-4937-887b-13237da0de7e",
   "metadata": {},
   "source": [
    "Fill more ranks"
   ]
  },
  {
   "cell_type": "code",
   "execution_count": 182,
   "id": "e52873c8-9d9c-4a3a-8e50-2b5f35d882e8",
   "metadata": {},
   "outputs": [],
   "source": [
    "ranks = ['species', 'genus', 'family', 'order', 'class', 'phylum', 'superkingdom']"
   ]
  },
  {
   "cell_type": "code",
   "execution_count": 183,
   "id": "b5824b28-d9f2-4ff6-8162-4fdc32282122",
   "metadata": {},
   "outputs": [],
   "source": [
    "res = {x: {} for x in ranks[1:]}"
   ]
  },
  {
   "cell_type": "code",
   "execution_count": 184,
   "id": "b8e41da9-a36d-40aa-b8c4-b887eaf8e6c4",
   "metadata": {},
   "outputs": [],
   "source": [
    "rankset = set(ranks[1:])"
   ]
  },
  {
   "cell_type": "code",
   "execution_count": 185,
   "id": "5173178a-c365-49b9-ab06-28f153169b22",
   "metadata": {},
   "outputs": [],
   "source": [
    "for tid in dfr_bm4.index.astype(str):\n",
    "    this = tid\n",
    "    while True:\n",
    "        rank = dump[this]['rank']\n",
    "        if rank in rankset:\n",
    "            res[rank][tid] = dump[this]['name']\n",
    "        parent = dump[this]['parent']\n",
    "        if this == parent:\n",
    "            break\n",
    "        this = parent"
   ]
  },
  {
   "cell_type": "code",
   "execution_count": 186,
   "id": "4d606356-4e31-4247-b12d-a5ae08798c23",
   "metadata": {},
   "outputs": [],
   "source": [
    "for rank in ranks[1:]:\n",
    "    dfr_bm4[rank] = dfr_bm4.index.map(res[rank])"
   ]
  },
  {
   "cell_type": "code",
   "execution_count": 187,
   "id": "9b332b48-debd-42fa-b561-516ee248df92",
   "metadata": {},
   "outputs": [],
   "source": [
    "# Correct entries with no species\n",
    "dfr_bm4['species'] = dfr_bm4['species'].astype(str).apply(lambda x: x if len(x.split(' ')) > 1 else np.NaN)"
   ]
  },
  {
   "cell_type": "markdown",
   "id": "6c1a2d35-e82b-4352-a039-cb10ef778478",
   "metadata": {},
   "source": [
    "Statistics"
   ]
  },
  {
   "cell_type": "code",
   "execution_count": 188,
   "id": "80dbc68f-d6f7-471e-b0c1-ac4f3e385872",
   "metadata": {},
   "outputs": [
    {
     "name": "stdout",
     "output_type": "stream",
     "text": [
      "species 333\n",
      "genus 59\n",
      "family 32\n",
      "order 23\n",
      "class 14\n",
      "phylum 11\n",
      "superkingdom 1\n"
     ]
    }
   ],
   "source": [
    "for rank in ranks:\n",
    "    print(rank, dfr_bm4[rank].nunique())"
   ]
  },
  {
   "cell_type": "markdown",
   "id": "8821c3b1-6ed7-4dd1-82c3-e52432b6d2c6",
   "metadata": {},
   "source": [
    "Save dataframe"
   ]
  },
  {
   "cell_type": "code",
   "execution_count": 189,
   "id": "11bf48b0-3a1c-447b-bdcb-e84d30619596",
   "metadata": {},
   "outputs": [],
   "source": [
    "dfr_bm4['source'] = 'bm4'"
   ]
  },
  {
   "cell_type": "code",
   "execution_count": 190,
   "id": "e850d248-3598-4661-9f24-5ff3e764db4d",
   "metadata": {},
   "outputs": [],
   "source": [
    "dfr_bm4.to_csv('preprocess/annot/species_bm4.tsv', sep = '\\t')"
   ]
  },
  {
   "cell_type": "markdown",
   "id": "322ad07d-442f-439a-8c99-b9562e90a36c",
   "metadata": {},
   "source": [
    "# Vergey's manual volume 5"
   ]
  },
  {
   "cell_type": "code",
   "execution_count": 191,
   "id": "7415cf92-515a-436b-b166-6eb545536b9c",
   "metadata": {},
   "outputs": [
    {
     "data": {
      "text/plain": [
       "(290, 19)"
      ]
     },
     "execution_count": 191,
     "metadata": {},
     "output_type": "execute_result"
    }
   ],
   "source": [
    "df_bm5 = pd.read_table('preprocess/data_bm5.tsv', sep = '\\t', index_col = 0)\n",
    "df_bm5.shape"
   ]
  },
  {
   "cell_type": "markdown",
   "id": "3cfd4dbc-4c68-490b-b8cf-14ee4ebc0fda",
   "metadata": {},
   "source": [
    "Drop useless columns"
   ]
  },
  {
   "cell_type": "code",
   "execution_count": 192,
   "id": "6060f48e-3e62-4858-88a8-09e4dadb2922",
   "metadata": {},
   "outputs": [
    {
     "data": {
      "text/plain": [
       "Index(['rank', 'Name', 'shape', 'Length', 'Width', 'diameter', 'Unnamed: 6',\n",
       "       'length_gmean', 'width_gmean', 'length_amean', 'width_amean',\n",
       "       'volume_gmean', 'surface_gmean', 'volume_amean', 'surface_amean',\n",
       "       'length_ranges', 'width_ranges', 'length_ranges_fix',\n",
       "       'width_ranges_fix'],\n",
       "      dtype='object')"
      ]
     },
     "execution_count": 192,
     "metadata": {},
     "output_type": "execute_result"
    }
   ],
   "source": [
    "df_bm5.columns"
   ]
  },
  {
   "cell_type": "code",
   "execution_count": 193,
   "id": "b849ba49-3b09-492e-aa6c-4e428eb66e84",
   "metadata": {},
   "outputs": [],
   "source": [
    "columns = ['rank', 'Length', 'Width', 'diameter', 'Unnamed: 6', 'length_ranges', 'width_ranges']\n",
    "df_bm5 = df_bm5.drop(columns, axis = 1)"
   ]
  },
  {
   "cell_type": "markdown",
   "id": "58d9e922-3eb2-4981-9636-a9afae4cb803",
   "metadata": {},
   "source": [
    "Rename columns"
   ]
  },
  {
   "cell_type": "code",
   "execution_count": 194,
   "id": "ecd9be55-7d2c-4fd6-b0fc-3b4db9adc3e2",
   "metadata": {},
   "outputs": [],
   "source": [
    "df_bm5.rename(columns = {'Name': 'species'}, inplace = True)"
   ]
  },
  {
   "cell_type": "markdown",
   "id": "d95ca10c-c749-4f08-8c41-b4f6b8aac2f9",
   "metadata": {},
   "source": [
    "### Match species to NCBI taxonomy"
   ]
  },
  {
   "cell_type": "code",
   "execution_count": 195,
   "id": "e62ec82b-e562-4dd0-8d86-f0fcfa4be97f",
   "metadata": {},
   "outputs": [],
   "source": [
    "spnames = {v['name']: k for k, v in dump.items() if v['rank'] == 'species'}"
   ]
  },
  {
   "cell_type": "code",
   "execution_count": 196,
   "id": "c62bdf32-02b7-43e1-90c3-0e519797e419",
   "metadata": {},
   "outputs": [
    {
     "data": {
      "text/plain": [
       "species\n",
       "True     211\n",
       "False     79\n",
       "Name: count, dtype: int64"
      ]
     },
     "execution_count": 196,
     "metadata": {},
     "output_type": "execute_result"
    }
   ],
   "source": [
    "df_bm5['species'].astype(str).isin(spnames).value_counts()"
   ]
  },
  {
   "cell_type": "markdown",
   "id": "35eaf36a-5ba4-42b3-9b7f-491cd56579d7",
   "metadata": {},
   "source": [
    "Add species taxid"
   ]
  },
  {
   "cell_type": "code",
   "execution_count": 197,
   "id": "fdb4e53c-c605-4591-8808-60a3cc66d885",
   "metadata": {},
   "outputs": [],
   "source": [
    "df_bm5['sptid'] = df_bm5['species'].map(spnames)"
   ]
  },
  {
   "cell_type": "markdown",
   "id": "1a54f1c2-5341-46f6-bced-ed137eb2d79d",
   "metadata": {},
   "source": [
    "Check the remaining"
   ]
  },
  {
   "cell_type": "code",
   "execution_count": 198,
   "id": "148b6be9-0bb4-47b7-9a15-26976c14c322",
   "metadata": {},
   "outputs": [
    {
     "data": {
      "text/plain": [
       "(79, 13)"
      ]
     },
     "execution_count": 198,
     "metadata": {},
     "output_type": "execute_result"
    }
   ],
   "source": [
    "tmp = df_bm5[df_bm5['sptid'].isna()]\n",
    "tmp.shape"
   ]
  },
  {
   "cell_type": "markdown",
   "id": "f0d8e3c7-570d-4b8d-afba-62573bdccf84",
   "metadata": {},
   "source": [
    "Manually add taxid according to NCBI"
   ]
  },
  {
   "cell_type": "code",
   "execution_count": 199,
   "id": "48f5d975-d011-4c4a-b03e-efec647dddab",
   "metadata": {},
   "outputs": [],
   "source": [
    "df_bm5.at[12, 'sptid'], df_bm5.at[12, 'name'] = '78448', 'Bifidobacterium pullorum'\n",
    "df_bm5.at[66, 'sptid'], df_bm5.at[66, 'name'] = '1774', 'Mycobacteroides chelonae'\n",
    "df_bm5.at[90, 'sptid'], df_bm5.at[90, 'name'] = '47312', 'Tsukamurella pulmonis'\n",
    "df_bm5.at[236, 'sptid'], df_bm5.at[236, 'name'] = '355930', 'Yonghaparkia alkaliphila'\n",
    "df_bm5.at[247, 'sptid'], df_bm5.at[247, 'name'] = '1750', 'Arachnia propionica'"
   ]
  },
  {
   "cell_type": "code",
   "execution_count": 200,
   "id": "0018c2c9-3173-4391-b9f5-b91c66cadfd1",
   "metadata": {},
   "outputs": [],
   "source": [
    "df_bm5.at[1, 'sptid'], df_bm5.at[1, 'name'] = '52768', 'Schaalia georgiae'\n",
    "df_bm5.at[3, 'sptid'], df_bm5.at[3, 'name'] = '52773', 'Schaalia meyeri'\n",
    "df_bm5.at[4, 'sptid'], df_bm5.at[4, 'name'] = '131110', 'Schaalia radingae'\n",
    "df_bm5.at[7, 'sptid'], df_bm5.at[7, 'name'] = '131111', 'Schaalia turicensis'\n",
    "df_bm5.at[9, 'sptid'], df_bm5.at[9, 'name'] = '1661', 'Trueperella pyogenes'\n",
    "df_bm5.at[19, 'sptid'], df_bm5.at[19, 'name'] = '1717', 'Corynebacterium diphtheriae'\n",
    "df_bm5.at[36, 'sptid'], df_bm5.at[36, 'name'] = '1764', 'Mycobacterium avium'\n",
    "df_bm5.at[38, 'sptid'], df_bm5.at[38, 'name'] = '265949', 'Mycobacterium pseudoshottsii'\n",
    "df_bm5.at[43, 'sptid'], df_bm5.at[43, 'name'] = '28045', 'Mycobacterium celatum'\n",
    "df_bm5.at[44, 'sptid'], df_bm5.at[44, 'name'] = '29314', 'Mycolicibacter hiberniae'\n",
    "df_bm5.at[49, 'sptid'], df_bm5.at[49, 'name'] = '1793', 'Mycolicibacterium fallax'\n",
    "df_bm5.at[50, 'sptid'], df_bm5.at[50, 'name'] = '182220', 'Mycolicibacterium murale'\n",
    "df_bm5.at[51, 'sptid'], df_bm5.at[51, 'name'] = '39687', 'Mycolicibacterium austroafricanum'\n",
    "df_bm5.at[52, 'sptid'], df_bm5.at[52, 'name'] = '110539', 'Mycolicibacterium vanbaalenii'\n",
    "df_bm5.at[53, 'sptid'], df_bm5.at[53, 'name'] = '1810', 'Mycolicibacterium vaccae'\n",
    "df_bm5.at[54, 'sptid'], df_bm5.at[54, 'name'] = '85968', 'Mycolicibacterium brumae'\n",
    "df_bm5.at[55, 'sptid'], df_bm5.at[55, 'name'] = '28047', 'Mycolicibacterium confluentis'\n",
    "df_bm5.at[56, 'sptid'], df_bm5.at[56, 'name'] = '81858', 'Mycolicibacterium elephantis'\n",
    "df_bm5.at[57, 'sptid'], df_bm5.at[57, 'name'] = '36813', 'Mycolicibacterium pulveris'\n",
    "df_bm5.at[58, 'sptid'], df_bm5.at[58, 'name'] = '43304', 'Mycolicibacterium peregrinum'\n",
    "df_bm5.at[59, 'sptid'], df_bm5.at[59, 'name'] = '39694', 'Mycolicibacterium poriferae'\n",
    "df_bm5.at[60, 'sptid'], df_bm5.at[60, 'name'] = '1766', 'Mycolicibacterium fortuitum'\n",
    "df_bm5.at[61, 'sptid'], df_bm5.at[61, 'name'] = '67081', 'Mycolicibacterium alvei'\n",
    "df_bm5.at[63, 'sptid'], df_bm5.at[63, 'name'] = '258505', 'Mycolicibacterium fluoranthenivorans'\n",
    "df_bm5.at[65, 'sptid'], df_bm5.at[65, 'name'] = '258533', 'Mycolicibacterium cosmeticum'\n",
    "df_bm5.at[67, 'sptid'], df_bm5.at[67, 'name'] = '36809', 'Mycobacteroides abscessus'\n",
    "df_bm5.at[68, 'sptid'], df_bm5.at[68, 'name'] = '404941', 'Mycobacteroides salmoniphilum'\n",
    "df_bm5.at[69, 'sptid'], df_bm5.at[69, 'name'] = '212765', 'Mycolicibacterium madagascariense'\n",
    "df_bm5.at[70, 'sptid'], df_bm5.at[70, 'name'] = '39691', 'Mycolicibacterium moriokaense'\n",
    "df_bm5.at[74, 'sptid'], df_bm5.at[74, 'name'] = '228599', 'Nocardia higoensis'\n",
    "df_bm5.at[75, 'sptid'], df_bm5.at[75, 'name'] = '228601', 'Nocardia pneumoniae'\n",
    "df_bm5.at[76, 'sptid'], df_bm5.at[76, 'name'] = '228596', 'Nocardia shimofusensis'\n",
    "df_bm5.at[77, 'sptid'], df_bm5.at[77, 'name'] = '455432', 'Nocardia terpenica'\n",
    "df_bm5.at[78, 'sptid'], df_bm5.at[78, 'name'] = '257275', 'Nocardia thailandica'\n",
    "df_bm5.at[88, 'sptid'], df_bm5.at[88, 'name'] = '286804', 'Segniliparus rugosus'\n",
    "df_bm5.at[96, 'sptid'], df_bm5.at[96, 'name'] = '363630', 'Nakamurella flavida'\n",
    "df_bm5.at[103, 'sptid'], df_bm5.at[103, 'name'] = '494023', 'Paeniglutamicibacter antarcticus'\n",
    "df_bm5.at[105, 'sptid'], df_bm5.at[105, 'name'] = '85085', 'Pseudarthrobacter chlorophenolicus'\n",
    "df_bm5.at[106, 'sptid'], df_bm5.at[106, 'name'] = '162496', 'Glutamicibacter creatinolyticus'\n",
    "df_bm5.at[107, 'sptid'], df_bm5.at[107, 'name'] = '410837', 'Pseudarthrobacter defluvii'\n",
    "df_bm5.at[110, 'sptid'], df_bm5.at[110, 'name'] = '211146', 'Paenarthrobacter nitroguajacolicus'\n",
    "df_bm5.at[113, 'sptid'], df_bm5.at[113, 'name'] = '37930', 'Glutamicibacter protophormiae'\n",
    "df_bm5.at[116, 'sptid'], df_bm5.at[116, 'name'] = '453836', 'Glutamicibacter soli'\n",
    "df_bm5.at[119, 'sptid'], df_bm5.at[119, 'name'] = '121292', 'Pseudarthrobacter sulfonivorans'\n",
    "df_bm5.at[120, 'sptid'], df_bm5.at[120, 'name'] = '43666', 'Paeniglutamicibacter sulfureus'\n",
    "df_bm5.at[123, 'sptid'], df_bm5.at[123, 'name'] = '43667', 'Glutamicibacter uratoxydans'\n",
    "df_bm5.at[127, 'sptid'], df_bm5.at[127, 'name'] = '37923', 'Rothia kristinae'\n",
    "df_bm5.at[135, 'sptid'], df_bm5.at[135, 'name'] = '2047', 'Rothia dentocariosa'\n",
    "df_bm5.at[141, 'sptid'], df_bm5.at[141, 'name'] = '417948', 'Brevibacterium album'\n",
    "df_bm5.at[142, 'sptid'], df_bm5.at[142, 'name'] = '479117', 'Brevibacterium ravenspurgense'\n",
    "df_bm5.at[170, 'sptid'], df_bm5.at[170, 'name'] = '412687', 'Intrasporangium oryzae'\n",
    "df_bm5.at[177, 'sptid'], df_bm5.at[177, 'name'] = '82346', 'Ornithinicoccus hortensis'\n",
    "df_bm5.at[178, 'sptid'], df_bm5.at[178, 'name'] = '436356', 'Pedococcus aerophilus'\n",
    "df_bm5.at[179, 'sptid'], df_bm5.at[179, 'name'] = '587636', 'Pedococcus cremeus'\n",
    "df_bm5.at[180, 'sptid'], df_bm5.at[180, 'name'] = '443156', 'Pedococcus dokdonensis'\n",
    "df_bm5.at[212, 'sptid'], df_bm5.at[212, 'name'] = '88374', 'Agromyces rhizosphaerae'\n",
    "df_bm5.at[217, 'sptid'], df_bm5.at[217, 'name'] = '110933', 'Leifsonia poae'\n",
    "df_bm5.at[218, 'sptid'], df_bm5.at[218, 'name'] = '150026', 'Leifsonia shinshuensis'\n",
    "df_bm5.at[219, 'sptid'], df_bm5.at[219, 'name'] = '1575', 'Leifsonia xyli'\n",
    "df_bm5.at[220, 'sptid'], df_bm5.at[220, 'name'] = '1575', 'Leifsonia xyli'\n",
    "df_bm5.at[221, 'sptid'], df_bm5.at[221, 'name'] = '381665', 'Herbiconiux ginsengi'\n",
    "df_bm5.at[222, 'sptid'], df_bm5.at[222, 'name'] = '433641', 'Pseudolysinimonas kribbensis'\n",
    "df_bm5.at[225, 'sptid'], df_bm5.at[225, 'name'] = '501483', 'Leucobacter tardus'\n",
    "df_bm5.at[233, 'sptid'], df_bm5.at[233, 'name'] = '386302', 'Salinibacterium xinjiangense'\n",
    "df_bm5.at[242, 'sptid'], df_bm5.at[242, 'name'] = '228973', 'Xylanibacterium ulmi'\n",
    "df_bm5.at[246, 'sptid'], df_bm5.at[246, 'name'] = '648782', 'Ruania alba'\n",
    "df_bm5.at[248, 'sptid'], df_bm5.at[248, 'name'] = '53388', 'Microlunatus antarcticus'\n",
    "df_bm5.at[249, 'sptid'], df_bm5.at[249, 'name'] = '99117', 'Microlunatus capsulatus'\n",
    "df_bm5.at[250, 'sptid'], df_bm5.at[250, 'name'] = '88568', 'Microlunatus lacustris'\n",
    "df_bm5.at[260, 'sptid'], df_bm5.at[260, 'name'] = '374513', 'Nocardioides salarius'\n",
    "df_bm5.at[264, 'sptid'], df_bm5.at[264, 'name'] = '363868', 'Nocardioides ginsengisoli'\n",
    "df_bm5.at[271, 'sptid'], df_bm5.at[271, 'name'] = '2045', 'Pimelobacter simplex'\n",
    "df_bm5.at[272, 'sptid'], df_bm5.at[272, 'name'] = '433654', 'Nocardioides tritolerans'\n",
    "df_bm5.at[283, 'sptid'], df_bm5.at[283, 'name'] = '1382', 'Lancefieldella parvula'"
   ]
  },
  {
   "cell_type": "markdown",
   "id": "dcef7e5c-51ee-4c39-a9c7-04dc9265789d",
   "metadata": {},
   "source": [
    "Check duplicate species"
   ]
  },
  {
   "cell_type": "code",
   "execution_count": 201,
   "id": "f89c2b2f-5188-489f-b021-85d2e1c4a60d",
   "metadata": {},
   "outputs": [
    {
     "data": {
      "text/plain": [
       "count\n",
       "1    288\n",
       "2      1\n",
       "Name: count, dtype: int64"
      ]
     },
     "execution_count": 201,
     "metadata": {},
     "output_type": "execute_result"
    }
   ],
   "source": [
    "df_bm5['sptid'].value_counts().value_counts()"
   ]
  },
  {
   "cell_type": "markdown",
   "id": "00c0dd4f-3ee7-4038-b0ff-44a49519231a",
   "metadata": {},
   "source": [
    "Group organisms by species taxid and calculate geometric/arithmetic mean per species."
   ]
  },
  {
   "cell_type": "code",
   "execution_count": 202,
   "id": "aee9efbd-5417-45a2-932c-463f9991df6b",
   "metadata": {},
   "outputs": [],
   "source": [
    "cols_gmean = ['length_gmean', 'width_gmean', 'volume_gmean', 'surface_gmean']\n",
    "cols_amean = ['length_amean', 'width_amean', 'volume_amean', 'surface_amean']"
   ]
  },
  {
   "cell_type": "code",
   "execution_count": 203,
   "id": "fdca54fc-8399-4fd8-80be-e4973248434b",
   "metadata": {},
   "outputs": [],
   "source": [
    "tmp_gmean = df_bm5.groupby('sptid')[cols_gmean].agg(gmean)\n",
    "tmp_amean = df_bm5.groupby('sptid')[cols_amean].agg('mean')"
   ]
  },
  {
   "cell_type": "code",
   "execution_count": 204,
   "id": "07104274-1c67-429c-9bd1-9b6556ed4553",
   "metadata": {},
   "outputs": [],
   "source": [
    "dfr_bm5 = pd.concat([tmp_gmean, tmp_amean], axis = 1)"
   ]
  },
  {
   "cell_type": "markdown",
   "id": "ed104bd2-c382-4164-814e-2543ebac0ea6",
   "metadata": {},
   "source": [
    "Add shape, ranges, and species name"
   ]
  },
  {
   "cell_type": "code",
   "execution_count": 205,
   "id": "084b62a2-aafc-4b81-97d8-30e9bef42df0",
   "metadata": {},
   "outputs": [],
   "source": [
    "shapes = dict(df_bm5[['sptid', 'shape']].drop_duplicates('sptid').values)\n",
    "dfr_bm5['shape'] = dfr_bm5.index.map(shapes)"
   ]
  },
  {
   "cell_type": "code",
   "execution_count": 206,
   "id": "a589dbd8-0c5c-4a33-9ecc-1f8060999bfa",
   "metadata": {},
   "outputs": [],
   "source": [
    "ranges_length = map_ranges(df_bm5, 'length')\n",
    "ranges_width = map_ranges(df_bm5, 'width')"
   ]
  },
  {
   "cell_type": "code",
   "execution_count": 207,
   "id": "9fdc103d-8379-473c-8989-5fa81cd1619f",
   "metadata": {},
   "outputs": [],
   "source": [
    "dfr_bm5['length_ranges'] = dfr_bm5.index.map(ranges_length)\n",
    "dfr_bm5['width_ranges'] = dfr_bm5.index.map(ranges_width)"
   ]
  },
  {
   "cell_type": "code",
   "execution_count": 208,
   "id": "9ba0e4dc-81e1-4a8e-bac2-61322975fc5e",
   "metadata": {},
   "outputs": [],
   "source": [
    "dfr_bm5['species'] = dfr_bm5.index.to_series().apply(lambda x: dump[str(x)]['name'])"
   ]
  },
  {
   "cell_type": "markdown",
   "id": "1dcbfe25-997e-4c4c-80a6-f550c17d7e3b",
   "metadata": {},
   "source": [
    "Organize"
   ]
  },
  {
   "cell_type": "code",
   "execution_count": 209,
   "id": "ea142766-d8c0-4128-86cd-520a47239212",
   "metadata": {},
   "outputs": [],
   "source": [
    "dfr_bm5 = dfr_bm5.loc[sorted(dfr_bm5.index, key = int)]"
   ]
  },
  {
   "cell_type": "code",
   "execution_count": 210,
   "id": "b61222f4-d1c0-4988-ad1a-38e406ab18c5",
   "metadata": {},
   "outputs": [],
   "source": [
    "dfr_bm5.index.names = ['taxid']"
   ]
  },
  {
   "cell_type": "code",
   "execution_count": 211,
   "id": "fbf4d32a-c568-42f8-8d93-5156b6f22e10",
   "metadata": {},
   "outputs": [
    {
     "data": {
      "text/plain": [
       "(289, 12)"
      ]
     },
     "execution_count": 211,
     "metadata": {},
     "output_type": "execute_result"
    }
   ],
   "source": [
    "dfr_bm5.shape"
   ]
  },
  {
   "cell_type": "markdown",
   "id": "cfe3fd73-fb7c-4dcd-86cc-c82c39010ca0",
   "metadata": {},
   "source": [
    "Fill more ranks"
   ]
  },
  {
   "cell_type": "code",
   "execution_count": 212,
   "id": "bc7bef19-963f-401e-aff9-9078350eb278",
   "metadata": {},
   "outputs": [],
   "source": [
    "ranks = ['species', 'genus', 'family', 'order', 'class', 'phylum', 'superkingdom']"
   ]
  },
  {
   "cell_type": "code",
   "execution_count": 213,
   "id": "480af117-3c36-4ec3-8e52-d0b4594b17da",
   "metadata": {},
   "outputs": [],
   "source": [
    "res = {x: {} for x in ranks[1:]}"
   ]
  },
  {
   "cell_type": "code",
   "execution_count": 214,
   "id": "2774e278-e708-4173-adbc-0c312241ba0e",
   "metadata": {},
   "outputs": [],
   "source": [
    "rankset = set(ranks[1:])"
   ]
  },
  {
   "cell_type": "code",
   "execution_count": 215,
   "id": "f5bca94e-13a7-4a99-9441-60ece00a5684",
   "metadata": {},
   "outputs": [],
   "source": [
    "for tid in dfr_bm5.index.astype(str):\n",
    "    this = tid\n",
    "    while True:\n",
    "        rank = dump[this]['rank']\n",
    "        if rank in rankset:\n",
    "            res[rank][tid] = dump[this]['name']\n",
    "        parent = dump[this]['parent']\n",
    "        if this == parent:\n",
    "            break\n",
    "        this = parent"
   ]
  },
  {
   "cell_type": "code",
   "execution_count": 216,
   "id": "51f79799-81f9-4b37-920b-a049728647be",
   "metadata": {},
   "outputs": [],
   "source": [
    "for rank in ranks[1:]:\n",
    "    dfr_bm5[rank] = dfr_bm5.index.map(res[rank])"
   ]
  },
  {
   "cell_type": "code",
   "execution_count": 217,
   "id": "6b994dbf-3d93-4493-b2aa-765fe1b3367f",
   "metadata": {},
   "outputs": [],
   "source": [
    "# Correct entries with no species\n",
    "dfr_bm5['species'] = dfr_bm5['species'].astype(str).apply(lambda x: x if len(x.split(' ')) > 1 else np.NaN)"
   ]
  },
  {
   "cell_type": "markdown",
   "id": "acbb536d-84ab-4f0d-a057-5b8777e858c0",
   "metadata": {},
   "source": [
    "Statistics"
   ]
  },
  {
   "cell_type": "code",
   "execution_count": 218,
   "id": "40ad0c84-fc61-460f-987a-00e0e3eff272",
   "metadata": {},
   "outputs": [
    {
     "name": "stdout",
     "output_type": "stream",
     "text": [
      "species 289\n",
      "genus 98\n",
      "family 38\n",
      "order 16\n",
      "class 5\n",
      "phylum 1\n",
      "superkingdom 1\n"
     ]
    }
   ],
   "source": [
    "for rank in ranks:\n",
    "    print(rank, dfr_bm5[rank].nunique())"
   ]
  },
  {
   "cell_type": "markdown",
   "id": "c51fcdf7-e317-47f6-88cf-76bbebc9249d",
   "metadata": {},
   "source": [
    "Save dataframe"
   ]
  },
  {
   "cell_type": "code",
   "execution_count": 219,
   "id": "ebe34631-9d55-4558-ab90-4e65544c04fd",
   "metadata": {},
   "outputs": [],
   "source": [
    "dfr_bm5['source'] = 'bm5'"
   ]
  },
  {
   "cell_type": "code",
   "execution_count": 220,
   "id": "beff99ee-3f5c-4cb4-a240-5f87be6b5e20",
   "metadata": {},
   "outputs": [],
   "source": [
    "dfr_bm5.to_csv('preprocess/annot/species_bm5.tsv', sep = '\\t')"
   ]
  },
  {
   "cell_type": "markdown",
   "id": "65513a49-d9a1-4751-8fa9-f6f3f671c17b",
   "metadata": {},
   "source": [
    "# Concat data"
   ]
  },
  {
   "cell_type": "code",
   "execution_count": 221,
   "id": "16b049b0-ab76-4cf2-a040-67fdc1855718",
   "metadata": {},
   "outputs": [],
   "source": [
    "df = pd.concat((dfr_bacd, dfr_pcc, dfr_pubmed, dfr_bm1, dfr_bm4, dfr_bm5), axis = 0)"
   ]
  },
  {
   "cell_type": "code",
   "execution_count": 222,
   "id": "d1c91dd3-da1d-4b3b-847b-d3a62e578603",
   "metadata": {},
   "outputs": [
    {
     "data": {
      "text/plain": [
       "(5742, 19)"
      ]
     },
     "execution_count": 222,
     "metadata": {},
     "output_type": "execute_result"
    }
   ],
   "source": [
    "df.shape"
   ]
  },
  {
   "cell_type": "markdown",
   "id": "5cd028ca-54d2-4540-bfe8-fe84b22c3e91",
   "metadata": {},
   "source": [
    "Check for duplicated data\n",
    "\n",
    "**Why this data was not detected during pre-processing?**\n",
    "\n",
    "Because during the preprocessing step I only checkd for names. After asigning a species name according to NCBI taxonomy, the name may have changed. Therefore two names that were different befor taxonomic assignation are now the same and they share the same taxID."
   ]
  },
  {
   "cell_type": "code",
   "execution_count": 223,
   "id": "3075e4a3-c9e4-4f6d-ae7e-00fd8dbfa5d6",
   "metadata": {},
   "outputs": [
    {
     "data": {
      "text/plain": [
       "(40,)"
      ]
     },
     "execution_count": 223,
     "metadata": {},
     "output_type": "execute_result"
    }
   ],
   "source": [
    "df.index[df.index.duplicated()].shape"
   ]
  },
  {
   "cell_type": "markdown",
   "id": "ad84fe9c-189f-45c4-9bb5-625fa472fc82",
   "metadata": {},
   "source": [
    "Group organisms by species taxid and calculate geometric/arithmetic mean per species."
   ]
  },
  {
   "cell_type": "code",
   "execution_count": 224,
   "id": "570a2b43-b93c-480a-badb-20060bba4807",
   "metadata": {},
   "outputs": [],
   "source": [
    "cols_gmean = ['length_gmean', 'width_gmean', 'volume_gmean', 'surface_gmean']\n",
    "cols_amean = ['length_amean', 'width_amean', 'volume_amean', 'surface_amean']"
   ]
  },
  {
   "cell_type": "code",
   "execution_count": 225,
   "id": "424d408f-6a88-46e0-b072-413987ba587e",
   "metadata": {},
   "outputs": [],
   "source": [
    "tmp_gmean = df.groupby('taxid')[cols_gmean].agg(gmean)\n",
    "tmp_amean = df.groupby('taxid')[cols_amean].agg('mean')"
   ]
  },
  {
   "cell_type": "code",
   "execution_count": 226,
   "id": "b52677de-9963-4b89-8e26-6e364d7952d3",
   "metadata": {},
   "outputs": [],
   "source": [
    "dfr = pd.concat([tmp_gmean, tmp_amean], axis = 1)"
   ]
  },
  {
   "cell_type": "markdown",
   "id": "3bc1ae8f-cf75-4be6-8d85-edc088c9acf1",
   "metadata": {},
   "source": [
    "Add shape, ranges, and species name"
   ]
  },
  {
   "cell_type": "code",
   "execution_count": 227,
   "id": "17915d14-2ef7-4487-b0bb-966091c37ca4",
   "metadata": {},
   "outputs": [],
   "source": [
    "tmp = df[['shape']].reset_index()"
   ]
  },
  {
   "cell_type": "code",
   "execution_count": 228,
   "id": "7b0cb322-6485-42cc-b874-5bf2b2d06c16",
   "metadata": {},
   "outputs": [],
   "source": [
    "shapes = dict(tmp.drop_duplicates('taxid', keep = 'last').values)"
   ]
  },
  {
   "cell_type": "code",
   "execution_count": 229,
   "id": "8e84888c-820b-456a-9e74-1af8dea3c904",
   "metadata": {},
   "outputs": [],
   "source": [
    "dfr['shape'] = dfr.index.map(shapes)"
   ]
  },
  {
   "cell_type": "code",
   "execution_count": 230,
   "id": "77a8235d-ef38-45f9-a712-e83b1dd1f1e8",
   "metadata": {},
   "outputs": [
    {
     "data": {
      "text/plain": [
       "Index(['2242', '148', '160', '173', '2096', '2097', '150829', '157692',\n",
       "       '215591', '458208', '1653855', '1661', '1764', '1773', '47312', '52768',\n",
       "       '52773', '211146', '228596', '228599', '228601', '228973', '258533',\n",
       "       '265949', '286804', '363630', '363868', '374513', '381665', '386302',\n",
       "       '410837', '412687', '417948', '433641', '436356', '455432', '479117',\n",
       "       '494023', '501483', '587636'],\n",
       "      dtype='object', name='taxid')"
      ]
     },
     "execution_count": 230,
     "metadata": {},
     "output_type": "execute_result"
    }
   ],
   "source": [
    "df[df.index.duplicated()].index"
   ]
  },
  {
   "cell_type": "code",
   "execution_count": 231,
   "id": "a557e21a-089c-4fa6-a548-cfd835c54a8b",
   "metadata": {},
   "outputs": [],
   "source": [
    "def map_ranges(df, metric):\n",
    "    ranges = {}\n",
    "    for tid, row in df.iterrows():\n",
    "        # tid = row['sptid']\n",
    "        rng = row[f'{metric}_ranges']\n",
    "        # print(tid, row[f'{metric}_ranges'], rng)\n",
    "        # rng = [rng[0], rng[1]]\n",
    "        if tid not in ranges.keys():\n",
    "            ranges[tid] = rng\n",
    "        else:\n",
    "            for r in rng:\n",
    "                ranges[tid].append(r)\n",
    "    return ranges"
   ]
  },
  {
   "cell_type": "code",
   "execution_count": 232,
   "id": "c7067f16-535e-4ae2-bf1a-c651a721412f",
   "metadata": {
    "scrolled": true
   },
   "outputs": [],
   "source": [
    "ranges_length = map_ranges(df, 'length')\n",
    "ranges_width = map_ranges(df, 'width')"
   ]
  },
  {
   "cell_type": "code",
   "execution_count": 233,
   "id": "6c06bf47-05cf-4398-ac08-bd07e4f2710d",
   "metadata": {},
   "outputs": [],
   "source": [
    "dfr['length_ranges'] = dfr.index.map(ranges_length)\n",
    "dfr['width_ranges'] = dfr.index.map(ranges_width)"
   ]
  },
  {
   "cell_type": "markdown",
   "id": "deaff974-2aaa-4975-8611-d17ed1dc19e8",
   "metadata": {},
   "source": [
    "Add source"
   ]
  },
  {
   "cell_type": "code",
   "execution_count": 234,
   "id": "1845732b-153f-45d9-97f0-5b6392c8b7dd",
   "metadata": {},
   "outputs": [],
   "source": [
    "def map_sources(df):\n",
    "    sources = {}\n",
    "    for tid, row in df.iterrows():\n",
    "        source = row[f'source']\n",
    "        if tid not in sources.keys():\n",
    "            sources[tid] = [source]\n",
    "        else:\n",
    "            sources[tid].append(source)\n",
    "    return sources"
   ]
  },
  {
   "cell_type": "code",
   "execution_count": 235,
   "id": "82394463-0eb4-4c1b-b9c9-33ea8121db21",
   "metadata": {},
   "outputs": [],
   "source": [
    "sources = map_sources(df)"
   ]
  },
  {
   "cell_type": "code",
   "execution_count": 236,
   "id": "f96e0997-cda2-4401-807a-f3e2f074d998",
   "metadata": {},
   "outputs": [],
   "source": [
    "dfr['sources'] = dfr.index.map(sources)"
   ]
  },
  {
   "cell_type": "code",
   "execution_count": 237,
   "id": "a1317554-0f39-4f70-974c-67ff23c55ff8",
   "metadata": {},
   "outputs": [],
   "source": [
    "dfr['species'] = dfr.index.to_series().apply(lambda x: dump[str(x)]['name'])"
   ]
  },
  {
   "cell_type": "markdown",
   "id": "949acebb-9f20-4065-b6ff-e26c913e783e",
   "metadata": {},
   "source": [
    "Organize"
   ]
  },
  {
   "cell_type": "code",
   "execution_count": 238,
   "id": "4084fdbf-d8af-48d0-91d0-765fa5eab7f7",
   "metadata": {},
   "outputs": [],
   "source": [
    "dfr = dfr.loc[sorted(dfr.index, key = int)]"
   ]
  },
  {
   "cell_type": "code",
   "execution_count": 239,
   "id": "b9cf668b-a59a-4de4-a43e-b7b96ff6079d",
   "metadata": {},
   "outputs": [],
   "source": [
    "ranks = ['species', 'genus', 'family', 'order', 'class', 'phylum', 'superkingdom']"
   ]
  },
  {
   "cell_type": "code",
   "execution_count": 240,
   "id": "5056fc6e-2060-460e-950c-95f28f0cee3c",
   "metadata": {},
   "outputs": [],
   "source": [
    "res = {x: {} for x in ranks[1:]}\n",
    "rankset = set(ranks[1:])"
   ]
  },
  {
   "cell_type": "code",
   "execution_count": 241,
   "id": "f3aa6e77-e43c-419b-a4b1-2931ac5572b0",
   "metadata": {},
   "outputs": [],
   "source": [
    "for tid in dfr.index.astype(str):\n",
    "    this = tid\n",
    "    while True:\n",
    "        rank = dump[this]['rank']\n",
    "        if rank in rankset:\n",
    "            res[rank][tid] = dump[this]['name']\n",
    "        parent = dump[this]['parent']\n",
    "        if this == parent:\n",
    "            break\n",
    "        this = parent"
   ]
  },
  {
   "cell_type": "code",
   "execution_count": 242,
   "id": "e7533011-cf45-4fe2-a555-6a89f5b6d55c",
   "metadata": {},
   "outputs": [],
   "source": [
    "for rank in ranks[1:]:\n",
    "    dfr[rank] = dfr.index.map(res[rank])"
   ]
  },
  {
   "cell_type": "code",
   "execution_count": 243,
   "id": "0e4cc918-a4df-4435-b379-ce3bd862e5ff",
   "metadata": {},
   "outputs": [],
   "source": [
    "# Correct entries with no species\n",
    "dfr['species'] = dfr['species'].astype(str).apply(lambda x: x if len(x.split(' ')) > 1 else np.NaN)"
   ]
  },
  {
   "cell_type": "code",
   "execution_count": 244,
   "id": "686c462f-1f6f-420e-9d24-540f3d1e5d27",
   "metadata": {},
   "outputs": [
    {
     "data": {
      "text/plain": [
       "(5702, 19)"
      ]
     },
     "execution_count": 244,
     "metadata": {},
     "output_type": "execute_result"
    }
   ],
   "source": [
    "dfr.shape"
   ]
  },
  {
   "cell_type": "markdown",
   "id": "dedef561-0dcd-457a-aa81-59eb45824b58",
   "metadata": {},
   "source": [
    "Statistics"
   ]
  },
  {
   "cell_type": "code",
   "execution_count": 245,
   "id": "d6dbe04b-8455-47f9-a7f7-177918ff1f74",
   "metadata": {},
   "outputs": [
    {
     "name": "stdout",
     "output_type": "stream",
     "text": [
      "species 5676\n",
      "genus 1818\n",
      "family 440\n",
      "order 187\n",
      "class 74\n",
      "phylum 35\n",
      "superkingdom 2\n"
     ]
    }
   ],
   "source": [
    "for rank in ranks:\n",
    "    print(rank, dfr[rank].nunique())"
   ]
  },
  {
   "cell_type": "markdown",
   "id": "8cbb4a3e-66bd-4a39-833e-5eeed1a86233",
   "metadata": {},
   "source": [
    "Save dataframe"
   ]
  },
  {
   "cell_type": "code",
   "execution_count": 246,
   "id": "c4ff8080-ea13-4508-9561-226ec6590264",
   "metadata": {},
   "outputs": [],
   "source": [
    "dfr.to_csv('preprocess/annot/species_all.tsv', sep = '\\t')"
   ]
  },
  {
   "cell_type": "code",
   "execution_count": null,
   "id": "fbb7fae7-8530-4705-8a7c-d9efed58d499",
   "metadata": {},
   "outputs": [],
   "source": []
  },
  {
   "cell_type": "code",
   "execution_count": null,
   "id": "91d987fc-6caf-4dba-88e1-89647c86c1a5",
   "metadata": {},
   "outputs": [],
   "source": []
  }
 ],
 "metadata": {
  "kernelspec": {
   "display_name": "Python 3 (ipykernel)",
   "language": "python",
   "name": "python3"
  },
  "language_info": {
   "codemirror_mode": {
    "name": "ipython",
    "version": 3
   },
   "file_extension": ".py",
   "mimetype": "text/x-python",
   "name": "python",
   "nbconvert_exporter": "python",
   "pygments_lexer": "ipython3",
   "version": "3.11.8"
  }
 },
 "nbformat": 4,
 "nbformat_minor": 5
}
