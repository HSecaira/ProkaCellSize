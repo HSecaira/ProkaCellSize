{
 "cells": [
  {
   "cell_type": "markdown",
   "id": "e81d16a7-7b29-4855-9dc3-344d7d8a0262",
   "metadata": {},
   "source": [
    "# Match cell size data with phylogeny"
   ]
  },
  {
   "cell_type": "code",
   "execution_count": 1,
   "id": "bb47060c-65c3-43ad-b861-573fb780603a",
   "metadata": {},
   "outputs": [],
   "source": [
    "import numpy as np\n",
    "import pandas as pd"
   ]
  },
  {
   "cell_type": "code",
   "execution_count": 2,
   "id": "1ce719e4-c79b-4964-b100-7f397748fcfd",
   "metadata": {},
   "outputs": [],
   "source": [
    "from skbio import TreeNode"
   ]
  },
  {
   "cell_type": "markdown",
   "id": "58cb2b35-4223-42d5-bea6-ae9abdf79536",
   "metadata": {},
   "source": [
    "Load data"
   ]
  },
  {
   "cell_type": "code",
   "execution_count": 3,
   "id": "e608222b-ebb7-4adb-bdc0-8ecf366ec69e",
   "metadata": {},
   "outputs": [
    {
     "data": {
      "text/plain": [
       "(5702, 19)"
      ]
     },
     "execution_count": 3,
     "metadata": {},
     "output_type": "execute_result"
    }
   ],
   "source": [
    "df = pd.read_table('preprocess/annot/species_all.tsv', index_col = 0)\n",
    "df.rename(columns = {'superkingdom': 'kingdom'}, inplace = True)\n",
    "df.shape"
   ]
  },
  {
   "cell_type": "code",
   "execution_count": 4,
   "id": "3d87058a-acbc-41b7-8d77-a11253853d78",
   "metadata": {},
   "outputs": [],
   "source": [
    "df.index = 'taxid' + df.index.astype(str)"
   ]
  },
  {
   "cell_type": "code",
   "execution_count": 5,
   "id": "3e6f679a-c5b1-4199-8a55-d9940fcc86b8",
   "metadata": {},
   "outputs": [],
   "source": [
    "df['length_ranges'] = df['length_ranges'].map(lambda x: x[1:-1].strip().replace(\"'\", ''))\n",
    "df['width_ranges'] = df['width_ranges'].map(lambda x: x[1:-1].strip().replace(\"'\", ''))\n",
    "df['sources'] = df['sources'].map(lambda x: x[1:-1].strip().replace(\"'\", ''))"
   ]
  },
  {
   "cell_type": "markdown",
   "id": "5a8c668e-f698-4fcd-be5f-4b08e876e2e9",
   "metadata": {},
   "source": [
    "### Reference taxa\n",
    "\n",
    "Taxonomy (tax2tree-curated)"
   ]
  },
  {
   "cell_type": "code",
   "execution_count": 6,
   "id": "4a23900f-c430-45e6-96e6-a38d7645e5ba",
   "metadata": {},
   "outputs": [
    {
     "data": {
      "text/plain": [
       "(10575, 7)"
      ]
     },
     "execution_count": 6,
     "metadata": {},
     "output_type": "execute_result"
    }
   ],
   "source": [
    "dft = pd.read_table('../phylogeny/tax2tree/filled_ranks.tsv', index_col = 0)\n",
    "dft.shape"
   ]
  },
  {
   "cell_type": "markdown",
   "id": "7c3f2f84-f95b-4731-a36e-cad60029f0dc",
   "metadata": {},
   "source": [
    "Genome metadata"
   ]
  },
  {
   "cell_type": "code",
   "execution_count": 7,
   "id": "2a27e161-b453-476f-94f0-4b344e2a9217",
   "metadata": {},
   "outputs": [
    {
     "data": {
      "text/plain": [
       "(10575, 11)"
      ]
     },
     "execution_count": 7,
     "metadata": {},
     "output_type": "execute_result"
    }
   ],
   "source": [
    "dfg = pd.read_table('../phylogeny/genome.tsv', index_col=0)\n",
    "dfg.shape"
   ]
  },
  {
   "cell_type": "code",
   "execution_count": 8,
   "id": "fee391f4-e5cd-4024-a4f2-074781d680c9",
   "metadata": {},
   "outputs": [],
   "source": [
    "dfg = dfg[['total_length', 'gc', 'proteins', 'coding_density', '16s_copies']]"
   ]
  },
  {
   "cell_type": "code",
   "execution_count": 9,
   "id": "13c1504b-be48-427f-a3a7-c38a64e5088f",
   "metadata": {},
   "outputs": [],
   "source": [
    "dfg.columns = ['genome', 'gc', 'proteins', 'coding', 'rrnas']"
   ]
  },
  {
   "cell_type": "markdown",
   "id": "9cff0f62-c4d0-499e-a83e-fe59594951dc",
   "metadata": {},
   "source": [
    "Add codon bias values"
   ]
  },
  {
   "cell_type": "code",
   "execution_count": 10,
   "id": "95a32f43-9b6d-4d56-8393-380ef21fe354",
   "metadata": {},
   "outputs": [
    {
     "data": {
      "text/plain": [
       "(10575, 3)"
      ]
     },
     "execution_count": 10,
     "metadata": {},
     "output_type": "execute_result"
    }
   ],
   "source": [
    "cb = pd.read_table('../codon_bias/cbias_corrected.tsv', header = None)\n",
    "cb.shape"
   ]
  },
  {
   "cell_type": "code",
   "execution_count": 11,
   "id": "c79b94f4-2646-438c-90b8-11e9bd22d9bc",
   "metadata": {},
   "outputs": [],
   "source": [
    "# Reformat data frame\n",
    "cb.columns = ['#genome', 'MILC', 'ENCprime']\n",
    "cb.set_index('#genome', inplace = True)"
   ]
  },
  {
   "cell_type": "code",
   "execution_count": 12,
   "id": "60ed6732-8bb3-495e-8315-b2f56a5d03d0",
   "metadata": {},
   "outputs": [],
   "source": [
    "dfg = dfg.join(cb)"
   ]
  },
  {
   "cell_type": "markdown",
   "id": "8f6d0638-b1b0-4bcd-9f6d-5e0bdbd559ce",
   "metadata": {},
   "source": [
    "### Reference phylogeny"
   ]
  },
  {
   "cell_type": "code",
   "execution_count": 13,
   "id": "eb99acfb-bccf-4c4d-9ad0-0207c7f3a09d",
   "metadata": {},
   "outputs": [],
   "source": [
    "tree = TreeNode.read('../phylogeny/tree.nwk')"
   ]
  },
  {
   "cell_type": "code",
   "execution_count": 14,
   "id": "4b96cee5-ad8f-4410-bce0-162969f123eb",
   "metadata": {},
   "outputs": [
    {
     "data": {
      "text/plain": [
       "10575"
      ]
     },
     "execution_count": 14,
     "metadata": {},
     "output_type": "execute_result"
    }
   ],
   "source": [
    "tree.count(tips=True)"
   ]
  },
  {
   "cell_type": "markdown",
   "id": "6a795e3c-70f6-416f-8c90-7481ca0de3f2",
   "metadata": {},
   "source": [
    "Calculate median node depths"
   ]
  },
  {
   "cell_type": "code",
   "execution_count": 15,
   "id": "4c9ef8cb-d2c6-4aee-9607-933e565210a0",
   "metadata": {},
   "outputs": [],
   "source": [
    "for node in tree.postorder(include_self=True):\n",
    "    if node.length is None:\n",
    "        node.length = 0.0\n",
    "    if node.is_tip():\n",
    "        node.taxa = set([node.name])\n",
    "        node.depths = [0.0]\n",
    "        node.median = 0.0\n",
    "    else:\n",
    "        node.taxa = set().union(*[x.taxa for x in node.children])\n",
    "        node.depths = [y + x.length for x in node.children for y in x.depths]   \n",
    "        node.median = np.median(node.depths)"
   ]
  },
  {
   "cell_type": "markdown",
   "id": "a72a4f13-9082-4fd9-9fe2-b32561b91c2d",
   "metadata": {},
   "source": [
    "Calculate node properties, i.e., match tips and internal nodes"
   ]
  },
  {
   "cell_type": "code",
   "execution_count": 16,
   "id": "7c28b5b4-d439-427c-b0e0-b9e64d698711",
   "metadata": {},
   "outputs": [],
   "source": [
    "keys = ['genome', 'gc', 'proteins', 'coding', 'rrnas', 'MILC', 'ENCprime']"
   ]
  },
  {
   "cell_type": "code",
   "execution_count": 17,
   "id": "8cfc3515-4f3e-4247-b376-02c1b0ed3ce7",
   "metadata": {},
   "outputs": [],
   "source": [
    "meta_ = []"
   ]
  },
  {
   "cell_type": "code",
   "execution_count": 18,
   "id": "4ae2a6f1-27eb-4950-964e-b612c63cf861",
   "metadata": {},
   "outputs": [],
   "source": [
    "for node in tree.postorder(include_self=True):\n",
    "    meta_.append([node.name])\n",
    "    if node.is_tip():\n",
    "        row = dfg.loc[node.name]\n",
    "        # Keys of row\n",
    "        for key in keys:\n",
    "            val = row[key]\n",
    "            setattr(node, key, [val])\n",
    "            meta_[-1].append(val)\n",
    "    else:\n",
    "        for key in keys:\n",
    "            #vals = [y + x.length for x in node.children for y in getattr(x, key)]\n",
    "            vals = [y for x in node.children for y in getattr(x, key)]\n",
    "            setattr(node, key, vals)\n",
    "            meta_[-1].append(np.median(vals))"
   ]
  },
  {
   "cell_type": "code",
   "execution_count": 19,
   "id": "3324a631-78b2-4a07-815a-16670aecdaa4",
   "metadata": {},
   "outputs": [],
   "source": [
    "# Create new data frame\n",
    "dfm = pd.DataFrame(meta_, columns = ['ID'] + keys).set_index('ID')"
   ]
  },
  {
   "cell_type": "code",
   "execution_count": 20,
   "id": "3f26eb3e-a98e-4902-9d57-2cdf3e774487",
   "metadata": {},
   "outputs": [
    {
     "data": {
      "text/plain": [
       "(20603, 7)"
      ]
     },
     "execution_count": 20,
     "metadata": {},
     "output_type": "execute_result"
    }
   ],
   "source": [
    "dfm.shape"
   ]
  },
  {
   "cell_type": "code",
   "execution_count": 21,
   "id": "4bac2128-7d42-4c5b-b522-e2d94c62d581",
   "metadata": {},
   "outputs": [],
   "source": [
    "dfm = pd.concat([dfg[keys], dfm], axis=0)"
   ]
  },
  {
   "cell_type": "code",
   "execution_count": 22,
   "id": "3504c60c-80d0-4827-9bd5-fe97e88a8805",
   "metadata": {},
   "outputs": [
    {
     "data": {
      "text/plain": [
       "(31178, 7)"
      ]
     },
     "execution_count": 22,
     "metadata": {},
     "output_type": "execute_result"
    }
   ],
   "source": [
    "dfm.shape"
   ]
  },
  {
   "cell_type": "markdown",
   "id": "4192a463-d0b1-4d6a-a9bf-1d7d06e2708b",
   "metadata": {},
   "source": [
    "### Analysis - fine resolution (species)"
   ]
  },
  {
   "cell_type": "code",
   "execution_count": 23,
   "id": "317c75f1-e4c2-4dcc-97c6-1ae708cd2a45",
   "metadata": {},
   "outputs": [
    {
     "data": {
      "text/plain": [
       "['species', 'genus', 'family', 'order', 'class', 'phylum']"
      ]
     },
     "execution_count": 23,
     "metadata": {},
     "output_type": "execute_result"
    }
   ],
   "source": [
    "ranks = dft.columns[::-1].tolist()[:-1]\n",
    "ranks"
   ]
  },
  {
   "cell_type": "code",
   "execution_count": 24,
   "id": "30e9b1ec-4125-4554-b6d0-db025a5e3a8b",
   "metadata": {},
   "outputs": [],
   "source": [
    "df['rank'] = None\n",
    "df['node'] = None"
   ]
  },
  {
   "cell_type": "markdown",
   "id": "325f7475-5cd2-4cfe-98e0-4d544c3c0f46",
   "metadata": {},
   "source": [
    "Get lowest common ancestor"
   ]
  },
  {
   "cell_type": "code",
   "execution_count": 25,
   "id": "7d09a951-1c0a-4738-97fe-ca36ef153830",
   "metadata": {},
   "outputs": [],
   "source": [
    "def lca2(tree, taxa):\n",
    "    for child in tree.children:\n",
    "        if taxa.issubset(child.taxa):\n",
    "            return lca2(child, taxa)\n",
    "    return tree"
   ]
  },
  {
   "cell_type": "markdown",
   "id": "45c97da1-8cf0-4507-b703-1be6b5dc917e",
   "metadata": {},
   "source": [
    "Determine placements in tree"
   ]
  },
  {
   "cell_type": "code",
   "execution_count": 26,
   "id": "48d22f58-7836-41ef-8c9d-acd76b926b79",
   "metadata": {},
   "outputs": [],
   "source": [
    "for idx, row in df.iterrows():\n",
    "    # Match by ranks\n",
    "    for rank in ranks:\n",
    "        # Match taxa and get genome ID\n",
    "        taxa = set(dft[dft[rank] == row[rank]].index)\n",
    "        if not taxa:\n",
    "            continue\n",
    "        # Get LCA\n",
    "        node = lca2(tree, taxa)\n",
    "        if node.taxa.difference(taxa):\n",
    "            continue\n",
    "        df.at[idx, 'node'] = node.name\n",
    "        df.at[idx, 'rank'] = rank\n",
    "        # If placement found, exit\n",
    "        break"
   ]
  },
  {
   "cell_type": "markdown",
   "id": "107c4c61-cf92-4180-bdad-07440dc14623",
   "metadata": {},
   "source": [
    "Check results"
   ]
  },
  {
   "cell_type": "code",
   "execution_count": 27,
   "id": "baab51b2-d4b2-4554-9e74-c2de66043a9c",
   "metadata": {},
   "outputs": [
    {
     "data": {
      "text/html": [
       "<div>\n",
       "<style scoped>\n",
       "    .dataframe tbody tr th:only-of-type {\n",
       "        vertical-align: middle;\n",
       "    }\n",
       "\n",
       "    .dataframe tbody tr th {\n",
       "        vertical-align: top;\n",
       "    }\n",
       "\n",
       "    .dataframe thead th {\n",
       "        text-align: right;\n",
       "    }\n",
       "</style>\n",
       "<table border=\"1\" class=\"dataframe\">\n",
       "  <thead>\n",
       "    <tr style=\"text-align: right;\">\n",
       "      <th></th>\n",
       "      <th>length_gmean</th>\n",
       "      <th>width_gmean</th>\n",
       "      <th>volume_gmean</th>\n",
       "      <th>surface_gmean</th>\n",
       "      <th>length_amean</th>\n",
       "      <th>width_amean</th>\n",
       "      <th>volume_amean</th>\n",
       "      <th>surface_amean</th>\n",
       "      <th>shape</th>\n",
       "      <th>length_ranges</th>\n",
       "      <th>...</th>\n",
       "      <th>sources</th>\n",
       "      <th>species</th>\n",
       "      <th>genus</th>\n",
       "      <th>family</th>\n",
       "      <th>order</th>\n",
       "      <th>class</th>\n",
       "      <th>phylum</th>\n",
       "      <th>kingdom</th>\n",
       "      <th>rank</th>\n",
       "      <th>node</th>\n",
       "    </tr>\n",
       "    <tr>\n",
       "      <th>taxid</th>\n",
       "      <th></th>\n",
       "      <th></th>\n",
       "      <th></th>\n",
       "      <th></th>\n",
       "      <th></th>\n",
       "      <th></th>\n",
       "      <th></th>\n",
       "      <th></th>\n",
       "      <th></th>\n",
       "      <th></th>\n",
       "      <th></th>\n",
       "      <th></th>\n",
       "      <th></th>\n",
       "      <th></th>\n",
       "      <th></th>\n",
       "      <th></th>\n",
       "      <th></th>\n",
       "      <th></th>\n",
       "      <th></th>\n",
       "      <th></th>\n",
       "      <th></th>\n",
       "    </tr>\n",
       "  </thead>\n",
       "  <tbody>\n",
       "    <tr>\n",
       "      <th>taxid11</th>\n",
       "      <td>2.371708</td>\n",
       "      <td>1.060660</td>\n",
       "      <td>1.783187</td>\n",
       "      <td>7.902917</td>\n",
       "      <td>2.625</td>\n",
       "      <td>1.125</td>\n",
       "      <td>2.236544</td>\n",
       "      <td>9.277516</td>\n",
       "      <td>rod-shaped</td>\n",
       "      <td>1.5,  3.75</td>\n",
       "      <td>...</td>\n",
       "      <td>bacdive</td>\n",
       "      <td>Cellulomonas gilvus</td>\n",
       "      <td>Cellulomonas</td>\n",
       "      <td>Cellulomonadaceae</td>\n",
       "      <td>Micrococcales</td>\n",
       "      <td>Actinomycetia</td>\n",
       "      <td>Actinobacteria</td>\n",
       "      <td>Bacteria</td>\n",
       "      <td>species</td>\n",
       "      <td>G000218545</td>\n",
       "    </tr>\n",
       "    <tr>\n",
       "      <th>taxid14</th>\n",
       "      <td>10.000000</td>\n",
       "      <td>0.489898</td>\n",
       "      <td>1.854174</td>\n",
       "      <td>15.390598</td>\n",
       "      <td>12.500</td>\n",
       "      <td>0.500</td>\n",
       "      <td>2.421644</td>\n",
       "      <td>19.634954</td>\n",
       "      <td>rod-shaped</td>\n",
       "      <td>5.0,  20.0</td>\n",
       "      <td>...</td>\n",
       "      <td>bacdive</td>\n",
       "      <td>Dictyoglomus thermophilum</td>\n",
       "      <td>Dictyoglomus</td>\n",
       "      <td>Dictyoglomaceae</td>\n",
       "      <td>Dictyoglomales</td>\n",
       "      <td>Dictyoglomia</td>\n",
       "      <td>Dictyoglomi</td>\n",
       "      <td>Bacteria</td>\n",
       "      <td>species</td>\n",
       "      <td>G000020965</td>\n",
       "    </tr>\n",
       "    <tr>\n",
       "      <th>taxid23</th>\n",
       "      <td>1.500000</td>\n",
       "      <td>0.700000</td>\n",
       "      <td>0.487470</td>\n",
       "      <td>3.298672</td>\n",
       "      <td>1.500</td>\n",
       "      <td>0.700</td>\n",
       "      <td>0.487470</td>\n",
       "      <td>3.298672</td>\n",
       "      <td>rod-shaped</td>\n",
       "      <td>1.5,  1.5</td>\n",
       "      <td>...</td>\n",
       "      <td>bacdive</td>\n",
       "      <td>Shewanella colwelliana</td>\n",
       "      <td>Shewanella</td>\n",
       "      <td>Shewanellaceae</td>\n",
       "      <td>Alteromonadales</td>\n",
       "      <td>Gammaproteobacteria</td>\n",
       "      <td>Proteobacteria</td>\n",
       "      <td>Bacteria</td>\n",
       "      <td>species</td>\n",
       "      <td>G000518705</td>\n",
       "    </tr>\n",
       "    <tr>\n",
       "      <th>taxid104</th>\n",
       "      <td>1.039230</td>\n",
       "      <td>0.346410</td>\n",
       "      <td>0.087062</td>\n",
       "      <td>1.130973</td>\n",
       "      <td>1.050</td>\n",
       "      <td>0.350</td>\n",
       "      <td>0.089797</td>\n",
       "      <td>1.154535</td>\n",
       "      <td>ring-shaped</td>\n",
       "      <td>0.9,  1.2</td>\n",
       "      <td>...</td>\n",
       "      <td>bacdive</td>\n",
       "      <td>Cyclobacterium marinum</td>\n",
       "      <td>Cyclobacterium</td>\n",
       "      <td>Cyclobacteriaceae</td>\n",
       "      <td>Cytophagales</td>\n",
       "      <td>Cytophagia</td>\n",
       "      <td>Bacteroidetes</td>\n",
       "      <td>Bacteria</td>\n",
       "      <td>species</td>\n",
       "      <td>G000222485</td>\n",
       "    </tr>\n",
       "    <tr>\n",
       "      <th>taxid114</th>\n",
       "      <td>2.049390</td>\n",
       "      <td>2.049390</td>\n",
       "      <td>4.506844</td>\n",
       "      <td>13.194689</td>\n",
       "      <td>2.200</td>\n",
       "      <td>2.200</td>\n",
       "      <td>5.575280</td>\n",
       "      <td>15.205308</td>\n",
       "      <td>spherical</td>\n",
       "      <td>1.4,  3.0</td>\n",
       "      <td>...</td>\n",
       "      <td>bm4</td>\n",
       "      <td>Gemmata obscuriglobus</td>\n",
       "      <td>Gemmata</td>\n",
       "      <td>Gemmataceae</td>\n",
       "      <td>Gemmatales</td>\n",
       "      <td>Planctomycetia</td>\n",
       "      <td>Planctomycetes</td>\n",
       "      <td>Bacteria</td>\n",
       "      <td>species</td>\n",
       "      <td>G000171775</td>\n",
       "    </tr>\n",
       "  </tbody>\n",
       "</table>\n",
       "<p>5 rows × 21 columns</p>\n",
       "</div>"
      ],
      "text/plain": [
       "          length_gmean  width_gmean  volume_gmean  surface_gmean  \\\n",
       "taxid                                                              \n",
       "taxid11       2.371708     1.060660      1.783187       7.902917   \n",
       "taxid14      10.000000     0.489898      1.854174      15.390598   \n",
       "taxid23       1.500000     0.700000      0.487470       3.298672   \n",
       "taxid104      1.039230     0.346410      0.087062       1.130973   \n",
       "taxid114      2.049390     2.049390      4.506844      13.194689   \n",
       "\n",
       "          length_amean  width_amean  volume_amean  surface_amean        shape  \\\n",
       "taxid                                                                           \n",
       "taxid11          2.625        1.125      2.236544       9.277516   rod-shaped   \n",
       "taxid14         12.500        0.500      2.421644      19.634954   rod-shaped   \n",
       "taxid23          1.500        0.700      0.487470       3.298672   rod-shaped   \n",
       "taxid104         1.050        0.350      0.089797       1.154535  ring-shaped   \n",
       "taxid114         2.200        2.200      5.575280      15.205308    spherical   \n",
       "\n",
       "         length_ranges  ...  sources                    species  \\\n",
       "taxid                   ...                                       \n",
       "taxid11     1.5,  3.75  ...  bacdive        Cellulomonas gilvus   \n",
       "taxid14     5.0,  20.0  ...  bacdive  Dictyoglomus thermophilum   \n",
       "taxid23      1.5,  1.5  ...  bacdive     Shewanella colwelliana   \n",
       "taxid104     0.9,  1.2  ...  bacdive     Cyclobacterium marinum   \n",
       "taxid114     1.4,  3.0  ...      bm4      Gemmata obscuriglobus   \n",
       "\n",
       "                   genus             family            order  \\\n",
       "taxid                                                          \n",
       "taxid11     Cellulomonas  Cellulomonadaceae    Micrococcales   \n",
       "taxid14     Dictyoglomus    Dictyoglomaceae   Dictyoglomales   \n",
       "taxid23       Shewanella     Shewanellaceae  Alteromonadales   \n",
       "taxid104  Cyclobacterium  Cyclobacteriaceae     Cytophagales   \n",
       "taxid114         Gemmata        Gemmataceae       Gemmatales   \n",
       "\n",
       "                        class          phylum   kingdom     rank        node  \n",
       "taxid                                                                         \n",
       "taxid11         Actinomycetia  Actinobacteria  Bacteria  species  G000218545  \n",
       "taxid14          Dictyoglomia     Dictyoglomi  Bacteria  species  G000020965  \n",
       "taxid23   Gammaproteobacteria  Proteobacteria  Bacteria  species  G000518705  \n",
       "taxid104           Cytophagia   Bacteroidetes  Bacteria  species  G000222485  \n",
       "taxid114       Planctomycetia  Planctomycetes  Bacteria  species  G000171775  \n",
       "\n",
       "[5 rows x 21 columns]"
      ]
     },
     "execution_count": 27,
     "metadata": {},
     "output_type": "execute_result"
    }
   ],
   "source": [
    "df.head()"
   ]
  },
  {
   "cell_type": "code",
   "execution_count": 28,
   "id": "25b0f7ee-1e5b-40d5-8b7c-1a85690ff7d4",
   "metadata": {},
   "outputs": [
    {
     "data": {
      "text/plain": [
       "(5702, 21)"
      ]
     },
     "execution_count": 28,
     "metadata": {},
     "output_type": "execute_result"
    }
   ],
   "source": [
    "df.shape"
   ]
  },
  {
   "cell_type": "code",
   "execution_count": 29,
   "id": "c3e95928-4c14-4641-bf76-699861d11fea",
   "metadata": {},
   "outputs": [
    {
     "data": {
      "text/plain": [
       "(5566, 21)"
      ]
     },
     "execution_count": 29,
     "metadata": {},
     "output_type": "execute_result"
    }
   ],
   "source": [
    "df.dropna(subset = ['node']).shape"
   ]
  },
  {
   "cell_type": "markdown",
   "id": "ded53b16-2b07-4a55-84ad-d5c8b90fb2a1",
   "metadata": {},
   "source": [
    "Check statistics of placements"
   ]
  },
  {
   "cell_type": "code",
   "execution_count": 30,
   "id": "011091af-b8a2-4af7-bba2-1f3211ac5a10",
   "metadata": {},
   "outputs": [
    {
     "name": "stdout",
     "output_type": "stream",
     "text": [
      "species 1491\n",
      "genus 3085\n",
      "family 804\n",
      "order 61\n",
      "class 111\n",
      "phylum 14\n"
     ]
    }
   ],
   "source": [
    "for rank in ranks:\n",
    "    print(rank, df.query(f'rank == \"{rank}\"').shape[0])"
   ]
  },
  {
   "cell_type": "markdown",
   "id": "8b31ea9d-be6d-4d2b-acf5-124d3481f443",
   "metadata": {},
   "source": [
    "### Last three ranks\n",
    "\n",
    "Valid ranks would be species, genus and family."
   ]
  },
  {
   "cell_type": "code",
   "execution_count": 31,
   "id": "e674d1ef-c2b5-4e99-aa90-b3e0e29aa6f9",
   "metadata": {},
   "outputs": [],
   "source": [
    "valid_ranks = ('species', 'genus', 'family')"
   ]
  },
  {
   "cell_type": "markdown",
   "id": "686a7b95-4467-4238-8391-ae238f067737",
   "metadata": {},
   "source": [
    "Make a copy of the tree."
   ]
  },
  {
   "cell_type": "code",
   "execution_count": 32,
   "id": "0e2be7e2-b121-4af7-b9dc-ab20ad09d983",
   "metadata": {},
   "outputs": [],
   "source": [
    "placed = tree.copy()"
   ]
  },
  {
   "cell_type": "markdown",
   "id": "82299dbe-8d12-4e8c-8157-89d53a098183",
   "metadata": {},
   "source": [
    "Insert leafs into the tree, i.e., remove placements at higher levels."
   ]
  },
  {
   "cell_type": "code",
   "execution_count": 33,
   "id": "9dbb4715-3abf-4790-a010-61539c132edb",
   "metadata": {},
   "outputs": [],
   "source": [
    "inserted = []"
   ]
  },
  {
   "cell_type": "code",
   "execution_count": 34,
   "id": "2ccc946e-0443-450e-9865-7df94b959a86",
   "metadata": {},
   "outputs": [],
   "source": [
    "for idx, row in df.iterrows():\n",
    "    if row['rank'] in valid_ranks:\n",
    "        node = placed.find(row['node'])\n",
    "        leaf = TreeNode(name = idx, length = node.length + node.median)\n",
    "        # Set leaf\n",
    "        node.parent.append(leaf)\n",
    "        inserted.append(idx)"
   ]
  },
  {
   "cell_type": "markdown",
   "id": "f1764c5d-9992-45ce-9a43-5eb2b31215d7",
   "metadata": {},
   "source": [
    "Prune the tree to contain only insertions."
   ]
  },
  {
   "cell_type": "code",
   "execution_count": 35,
   "id": "68ec884f-f3f7-4b1e-9ff9-ffc083a6b417",
   "metadata": {},
   "outputs": [],
   "source": [
    "placed = placed.shear(inserted)"
   ]
  },
  {
   "cell_type": "code",
   "execution_count": 36,
   "id": "00de98f7-23bf-4d9f-a949-23f48b2f7043",
   "metadata": {},
   "outputs": [],
   "source": [
    "placed.prune()"
   ]
  },
  {
   "cell_type": "code",
   "execution_count": 37,
   "id": "cf8d11b4-a275-4be7-9c68-1b6bdce9d1fe",
   "metadata": {},
   "outputs": [
    {
     "data": {
      "text/plain": [
       "5380"
      ]
     },
     "execution_count": 37,
     "metadata": {},
     "output_type": "execute_result"
    }
   ],
   "source": [
    "placed.count(tips = True)"
   ]
  },
  {
   "cell_type": "markdown",
   "id": "99559eef-9702-453a-ba88-ab21ae1c5b21",
   "metadata": {},
   "source": [
    "Export tree"
   ]
  },
  {
   "cell_type": "code",
   "execution_count": 38,
   "id": "957892c9-e376-4783-921f-db8afacbe96e",
   "metadata": {},
   "outputs": [
    {
     "data": {
      "text/plain": [
       "'place/fine_all.nwk'"
      ]
     },
     "execution_count": 38,
     "metadata": {},
     "output_type": "execute_result"
    }
   ],
   "source": [
    "placed.write('place/fine_all.nwk')"
   ]
  },
  {
   "cell_type": "markdown",
   "id": "a7a4d74f-9e31-4997-8364-9465084f9b4e",
   "metadata": {},
   "source": [
    "Filter data."
   ]
  },
  {
   "cell_type": "code",
   "execution_count": 39,
   "id": "9616693e-e672-4f91-a035-de1859ec9bb9",
   "metadata": {},
   "outputs": [],
   "source": [
    "df_ = df.loc[inserted].copy()"
   ]
  },
  {
   "cell_type": "markdown",
   "id": "757168ef-3365-44c1-801d-21a8aa13a042",
   "metadata": {},
   "source": [
    "Add metadata"
   ]
  },
  {
   "cell_type": "code",
   "execution_count": 40,
   "id": "24deecdb-78f4-41f7-a1a6-b5f5b3e7cc17",
   "metadata": {},
   "outputs": [],
   "source": [
    "for key in keys:\n",
    "    df_[key] = df_['node'].map(dfm[key].to_dict())"
   ]
  },
  {
   "cell_type": "code",
   "execution_count": 41,
   "id": "e8d50ed5-bad9-4980-bc07-6fb9c4cc1272",
   "metadata": {},
   "outputs": [
    {
     "data": {
      "text/plain": [
       "(5380, 28)"
      ]
     },
     "execution_count": 41,
     "metadata": {},
     "output_type": "execute_result"
    }
   ],
   "source": [
    "df_.shape"
   ]
  },
  {
   "cell_type": "code",
   "execution_count": 42,
   "id": "49121ad7-5722-4690-a7fc-135d0494f20d",
   "metadata": {},
   "outputs": [
    {
     "name": "stdout",
     "output_type": "stream",
     "text": [
      "species 1491\n",
      "genus 3085\n",
      "family 804\n",
      "order 0\n",
      "class 0\n",
      "phylum 0\n"
     ]
    }
   ],
   "source": [
    "#Statistics of placements\n",
    "for rank in ranks:\n",
    "    print(rank, df_.query(f'rank == \"{rank}\"').shape[0])"
   ]
  },
  {
   "cell_type": "markdown",
   "id": "a1102991-ed7b-407b-ab88-c68026d63878",
   "metadata": {},
   "source": [
    "Save dataframe"
   ]
  },
  {
   "cell_type": "code",
   "execution_count": 43,
   "id": "057db30e-d9c7-4ee6-8e38-b90edc52b780",
   "metadata": {},
   "outputs": [],
   "source": [
    "df_.to_csv('place/fine_all.tsv', sep = '\\t')"
   ]
  },
  {
   "cell_type": "markdown",
   "id": "177947fc-b2e1-483f-aa1c-b8e52efacf55",
   "metadata": {},
   "source": [
    "# Only BacDive"
   ]
  },
  {
   "cell_type": "code",
   "execution_count": 47,
   "id": "bd3781db-54c9-4ddb-a792-9eea3c4bf5a5",
   "metadata": {},
   "outputs": [],
   "source": [
    "df_bacd = df[df['sources'] == 'bacdive'].copy()"
   ]
  },
  {
   "cell_type": "code",
   "execution_count": 48,
   "id": "00669053-3a9c-49fa-bfa6-5c2594f762ed",
   "metadata": {},
   "outputs": [
    {
     "data": {
      "text/plain": [
       "(4842, 21)"
      ]
     },
     "execution_count": 48,
     "metadata": {},
     "output_type": "execute_result"
    }
   ],
   "source": [
    "df_bacd.shape"
   ]
  },
  {
   "cell_type": "code",
   "execution_count": 49,
   "id": "448276c9-2b28-4742-af1d-c7e3bf0edbf8",
   "metadata": {},
   "outputs": [
    {
     "data": {
      "text/plain": [
       "(4713, 21)"
      ]
     },
     "execution_count": 49,
     "metadata": {},
     "output_type": "execute_result"
    }
   ],
   "source": [
    "df_bacd.dropna(subset = ['node']).shape"
   ]
  },
  {
   "cell_type": "markdown",
   "id": "3851ff62-028f-4f36-b53a-58f948352b5f",
   "metadata": {},
   "source": [
    "Check statistics of placements"
   ]
  },
  {
   "cell_type": "code",
   "execution_count": 50,
   "id": "a88093a7-c3a6-456b-b0c0-edd56d8d7531",
   "metadata": {},
   "outputs": [
    {
     "name": "stdout",
     "output_type": "stream",
     "text": [
      "species 1130\n",
      "genus 2700\n",
      "family 716\n",
      "order 58\n",
      "class 100\n",
      "phylum 9\n"
     ]
    }
   ],
   "source": [
    "for rank in ranks:\n",
    "    print(rank, df_bacd.query(f'rank == \"{rank}\"').shape[0])"
   ]
  },
  {
   "cell_type": "markdown",
   "id": "72f5988f-7ef3-4e7a-b435-f8b5c02e2bb8",
   "metadata": {},
   "source": [
    "### Last three ranks\n",
    "\n",
    "Valid ranks would be species, genus and family."
   ]
  },
  {
   "cell_type": "code",
   "execution_count": 53,
   "id": "69b06337-ca52-4e2f-aec5-7d0e015b087f",
   "metadata": {},
   "outputs": [],
   "source": [
    "valid_ranks = ('species', 'genus', 'family')"
   ]
  },
  {
   "cell_type": "code",
   "execution_count": 52,
   "id": "cbe80c5b-2353-4dde-a8ff-247ee84d5283",
   "metadata": {},
   "outputs": [],
   "source": [
    "placed_bacd = tree.copy()"
   ]
  },
  {
   "cell_type": "markdown",
   "id": "c1b26404-baa6-44b4-9343-e84f7f5c698e",
   "metadata": {},
   "source": [
    "Insert leafs into the tree, i.e., remove placements at higher levels."
   ]
  },
  {
   "cell_type": "code",
   "execution_count": 55,
   "id": "07e8a9c3-53bf-43d7-b2c5-dbacb0ac9469",
   "metadata": {},
   "outputs": [],
   "source": [
    "inserted = []"
   ]
  },
  {
   "cell_type": "code",
   "execution_count": 56,
   "id": "f5e7890f-15e3-431f-acb8-54cbe8f4099f",
   "metadata": {},
   "outputs": [],
   "source": [
    "for idx, row in df_bacd.iterrows():\n",
    "    if row['rank'] in valid_ranks:\n",
    "        node = placed_bacd.find(row['node'])\n",
    "        leaf = TreeNode(name = idx, length = node.length + node.median)\n",
    "        # Set leaf\n",
    "        node.parent.append(leaf)\n",
    "        inserted.append(idx)"
   ]
  },
  {
   "cell_type": "markdown",
   "id": "774911b5-e0d8-47c7-b32a-9d917ae113c3",
   "metadata": {},
   "source": [
    "Prune the tree to contain only insertions."
   ]
  },
  {
   "cell_type": "code",
   "execution_count": 57,
   "id": "ba8d2326-ebd7-4f1f-ad9f-88565e1ff631",
   "metadata": {},
   "outputs": [],
   "source": [
    "placed_bacd = placed_bacd.shear(inserted)"
   ]
  },
  {
   "cell_type": "code",
   "execution_count": 58,
   "id": "93b919c1-67e7-4e64-8ed3-d25be09c7fc2",
   "metadata": {},
   "outputs": [],
   "source": [
    "placed_bacd.prune()"
   ]
  },
  {
   "cell_type": "code",
   "execution_count": 59,
   "id": "1c4c24b0-4929-4548-b294-ee2aae737a5d",
   "metadata": {},
   "outputs": [
    {
     "data": {
      "text/plain": [
       "4546"
      ]
     },
     "execution_count": 59,
     "metadata": {},
     "output_type": "execute_result"
    }
   ],
   "source": [
    "placed_bacd.count(tips = True)"
   ]
  },
  {
   "cell_type": "markdown",
   "id": "b5426d48-f84d-4e5d-b0fb-1ad450fac03f",
   "metadata": {},
   "source": [
    "Export tree"
   ]
  },
  {
   "cell_type": "code",
   "execution_count": 62,
   "id": "373966ae-eb03-4942-b07b-b5bc59af06af",
   "metadata": {},
   "outputs": [
    {
     "data": {
      "text/plain": [
       "'place/fine_bacd_all.nwk'"
      ]
     },
     "execution_count": 62,
     "metadata": {},
     "output_type": "execute_result"
    }
   ],
   "source": [
    "placed_bacd.write('place/fine_bacd_all.nwk')"
   ]
  },
  {
   "cell_type": "markdown",
   "id": "456171c7-4679-4501-a644-5e671eec4e5e",
   "metadata": {},
   "source": [
    "Filter data"
   ]
  },
  {
   "cell_type": "code",
   "execution_count": 63,
   "id": "3a90738e-850e-4608-8b89-5b0a7279e58f",
   "metadata": {},
   "outputs": [],
   "source": [
    "df_ = df_bacd.loc[inserted].copy()"
   ]
  },
  {
   "cell_type": "markdown",
   "id": "d6dd71ca-24a9-4b9c-89f5-10f472210ad6",
   "metadata": {},
   "source": [
    "Add metadata"
   ]
  },
  {
   "cell_type": "code",
   "execution_count": 65,
   "id": "1c401c3a-9415-433d-8123-e7a8afe6a5b0",
   "metadata": {},
   "outputs": [],
   "source": [
    "for key in keys:\n",
    "    df_[key] = df_['node'].map(dfm[key].to_dict())"
   ]
  },
  {
   "cell_type": "code",
   "execution_count": 66,
   "id": "a9718be2-b71b-4642-af82-3a4a0771e465",
   "metadata": {},
   "outputs": [
    {
     "data": {
      "text/plain": [
       "(4546, 28)"
      ]
     },
     "execution_count": 66,
     "metadata": {},
     "output_type": "execute_result"
    }
   ],
   "source": [
    "df_.shape"
   ]
  },
  {
   "cell_type": "code",
   "execution_count": 67,
   "id": "ea88a90e-d52f-462a-8711-ba7fdc6da0ba",
   "metadata": {},
   "outputs": [
    {
     "name": "stdout",
     "output_type": "stream",
     "text": [
      "species 1130\n",
      "genus 2700\n",
      "family 716\n",
      "order 0\n",
      "class 0\n",
      "phylum 0\n"
     ]
    }
   ],
   "source": [
    "#Statistics of placements\n",
    "for rank in ranks:\n",
    "    print(rank, df_.query(f'rank == \"{rank}\"').shape[0])"
   ]
  },
  {
   "cell_type": "markdown",
   "id": "dea5d2db-d15b-4161-9d58-bb9ab1a17d2c",
   "metadata": {},
   "source": [
    "Save dataframe"
   ]
  },
  {
   "cell_type": "code",
   "execution_count": 68,
   "id": "e1b1e814-edbd-407a-84ad-0fa7cdc888a2",
   "metadata": {},
   "outputs": [],
   "source": [
    "df_.to_csv('place/fine_bacd_all.tsv', sep = '\\t')"
   ]
  },
  {
   "cell_type": "code",
   "execution_count": null,
   "id": "4b0d7753-ecc6-48aa-acf4-63d0e899e2c2",
   "metadata": {},
   "outputs": [],
   "source": []
  }
 ],
 "metadata": {
  "kernelspec": {
   "display_name": "Python 3 (ipykernel)",
   "language": "python",
   "name": "python3"
  },
  "language_info": {
   "codemirror_mode": {
    "name": "ipython",
    "version": 3
   },
   "file_extension": ".py",
   "mimetype": "text/x-python",
   "name": "python",
   "nbconvert_exporter": "python",
   "pygments_lexer": "ipython3",
   "version": "3.11.8"
  }
 },
 "nbformat": 4,
 "nbformat_minor": 5
}
