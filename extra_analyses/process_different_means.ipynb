{
 "cells": [
  {
   "cell_type": "markdown",
   "metadata": {},
   "source": [
    "# Pre-process data and calculate arithmetic and geometric mean"
   ]
  },
  {
   "cell_type": "code",
   "execution_count": 1,
   "metadata": {},
   "outputs": [],
   "source": [
    "import numpy as np\n",
    "import pandas as pd\n",
    "import matplotlib.pyplot as plt\n",
    "from scipy.stats import gmean\n",
    "from scipy.stats import gaussian_kde\n",
    "import re"
   ]
  },
  {
   "cell_type": "code",
   "execution_count": 2,
   "metadata": {},
   "outputs": [],
   "source": [
    "plt.rcParams.update({\n",
    "    'figure.autolayout': True,\n",
    "    'savefig.bbox': 'tight',\n",
    "    'svg.fonttype': 'none',\n",
    "    'font.sans-serif': 'Arial',\n",
    "    'font.size': 11,\n",
    "    'boxplot.medianprops.linewidth': 2,\n",
    "    'boxplot.flierprops.markeredgecolor': 'none',\n",
    "    'boxplot.flierprops.markersize': 5})"
   ]
  },
  {
   "cell_type": "markdown",
   "metadata": {},
   "source": [
    "Special character"
   ]
  },
  {
   "cell_type": "code",
   "execution_count": 3,
   "metadata": {},
   "outputs": [
    {
     "data": {
      "text/plain": [
       "'μ'"
      ]
     },
     "execution_count": 3,
     "metadata": {},
     "output_type": "execute_result"
    }
   ],
   "source": [
    "mu = chr(956)\n",
    "mu"
   ]
  },
  {
   "cell_type": "markdown",
   "metadata": {},
   "source": [
    "# BacDive"
   ]
  },
  {
   "cell_type": "code",
   "execution_count": 4,
   "metadata": {},
   "outputs": [
    {
     "data": {
      "text/html": [
       "<div>\n",
       "<style scoped>\n",
       "    .dataframe tbody tr th:only-of-type {\n",
       "        vertical-align: middle;\n",
       "    }\n",
       "\n",
       "    .dataframe tbody tr th {\n",
       "        vertical-align: top;\n",
       "    }\n",
       "\n",
       "    .dataframe thead th {\n",
       "        text-align: right;\n",
       "    }\n",
       "</style>\n",
       "<table border=\"1\" class=\"dataframe\">\n",
       "  <thead>\n",
       "    <tr style=\"text-align: right;\">\n",
       "      <th></th>\n",
       "      <th>ID</th>\n",
       "      <th>designation_header</th>\n",
       "      <th>strain_number_header</th>\n",
       "      <th>is_type_strain_header</th>\n",
       "      <th>species</th>\n",
       "      <th>Cell length (µm)</th>\n",
       "      <th>Cell Width (µm)</th>\n",
       "      <th>Cell Shape</th>\n",
       "      <th>Reference</th>\n",
       "      <th>NCBI ID</th>\n",
       "    </tr>\n",
       "  </thead>\n",
       "  <tbody>\n",
       "    <tr>\n",
       "      <th>0</th>\n",
       "      <td>159837.0</td>\n",
       "      <td>OUC007</td>\n",
       "      <td>KCTC 52933, MCCC 1K03450, OUC007</td>\n",
       "      <td>1.0</td>\n",
       "      <td>Abyssibacter profundi</td>\n",
       "      <td>1.7-1.9</td>\n",
       "      <td>0.4-0.6</td>\n",
       "      <td>rod-shaped</td>\n",
       "      <td>66716.0</td>\n",
       "      <td>2182787.0</td>\n",
       "    </tr>\n",
       "    <tr>\n",
       "      <th>1</th>\n",
       "      <td>132478.0</td>\n",
       "      <td>L81</td>\n",
       "      <td>DSM 29592, JCM 30920</td>\n",
       "      <td>1.0</td>\n",
       "      <td>Abyssivirga alkaniphila</td>\n",
       "      <td>2.0-5.0</td>\n",
       "      <td>0.5</td>\n",
       "      <td>rod-shaped</td>\n",
       "      <td>43989.0</td>\n",
       "      <td>1675854.0</td>\n",
       "    </tr>\n",
       "    <tr>\n",
       "      <th>2</th>\n",
       "      <td>24718.0</td>\n",
       "      <td>FYK2218</td>\n",
       "      <td>DSM 28897, KCTC 12899, NBRC 101209</td>\n",
       "      <td>1.0</td>\n",
       "      <td>Acanthopleuribacter pedis</td>\n",
       "      <td>2.4-4.7</td>\n",
       "      <td>0.7-1</td>\n",
       "      <td>rod-shaped</td>\n",
       "      <td>32501.0</td>\n",
       "      <td>442870.0</td>\n",
       "    </tr>\n",
       "    <tr>\n",
       "      <th>3</th>\n",
       "      <td>7517.0</td>\n",
       "      <td>CSC</td>\n",
       "      <td>DSM 14247, CCUG 49701, NBRC 107788, CIP 109141</td>\n",
       "      <td>1.0</td>\n",
       "      <td>Acaricomes phytoseiuli</td>\n",
       "      <td>1-1.5</td>\n",
       "      <td>0.5-0.8</td>\n",
       "      <td>coccus-shaped</td>\n",
       "      <td>31628.0</td>\n",
       "      <td>291968.0</td>\n",
       "    </tr>\n",
       "    <tr>\n",
       "      <th>4</th>\n",
       "      <td>134101.0</td>\n",
       "      <td>Z7</td>\n",
       "      <td>JCM 12359, AS1.5012</td>\n",
       "      <td>1.0</td>\n",
       "      <td>Acetanaerobacterium elongatum</td>\n",
       "      <td>6</td>\n",
       "      <td>0.3</td>\n",
       "      <td>rod-shaped</td>\n",
       "      <td>31285.0</td>\n",
       "      <td>258515.0</td>\n",
       "    </tr>\n",
       "  </tbody>\n",
       "</table>\n",
       "</div>"
      ],
      "text/plain": [
       "         ID designation_header  \\\n",
       "0  159837.0             OUC007   \n",
       "1  132478.0                L81   \n",
       "2   24718.0            FYK2218   \n",
       "3    7517.0                CSC   \n",
       "4  134101.0                 Z7   \n",
       "\n",
       "                             strain_number_header  is_type_strain_header  \\\n",
       "0                KCTC 52933, MCCC 1K03450, OUC007                    1.0   \n",
       "1                            DSM 29592, JCM 30920                    1.0   \n",
       "2              DSM 28897, KCTC 12899, NBRC 101209                    1.0   \n",
       "3  DSM 14247, CCUG 49701, NBRC 107788, CIP 109141                    1.0   \n",
       "4                             JCM 12359, AS1.5012                    1.0   \n",
       "\n",
       "                         species Cell length (µm) Cell Width (µm)  \\\n",
       "0          Abyssibacter profundi          1.7-1.9         0.4-0.6   \n",
       "1        Abyssivirga alkaniphila          2.0-5.0             0.5   \n",
       "2      Acanthopleuribacter pedis          2.4-4.7           0.7-1   \n",
       "3         Acaricomes phytoseiuli            1-1.5         0.5-0.8   \n",
       "4  Acetanaerobacterium elongatum                6             0.3   \n",
       "\n",
       "      Cell Shape  Reference    NCBI ID  \n",
       "0     rod-shaped    66716.0  2182787.0  \n",
       "1     rod-shaped    43989.0  1675854.0  \n",
       "2     rod-shaped    32501.0   442870.0  \n",
       "3  coccus-shaped    31628.0   291968.0  \n",
       "4     rod-shaped    31285.0   258515.0  "
      ]
     },
     "execution_count": 4,
     "metadata": {},
     "output_type": "execute_result"
    }
   ],
   "source": [
    "df_bacd = pd.read_csv('../preprocess/New_Data.csv')\n",
    "df_bacd.head()"
   ]
  },
  {
   "cell_type": "code",
   "execution_count": 5,
   "metadata": {},
   "outputs": [
    {
     "data": {
      "text/plain": [
       "(5284, 10)"
      ]
     },
     "execution_count": 5,
     "metadata": {},
     "output_type": "execute_result"
    }
   ],
   "source": [
    "df_bacd.shape"
   ]
  },
  {
   "cell_type": "markdown",
   "metadata": {},
   "source": [
    "Drop records without ID"
   ]
  },
  {
   "cell_type": "code",
   "execution_count": 6,
   "metadata": {},
   "outputs": [
    {
     "data": {
      "text/plain": [
       "(5216, 10)"
      ]
     },
     "execution_count": 6,
     "metadata": {},
     "output_type": "execute_result"
    }
   ],
   "source": [
    "df_bacd = df_bacd.dropna(subset=['ID']).astype({'ID': int})\n",
    "df_bacd.shape"
   ]
  },
  {
   "cell_type": "markdown",
   "metadata": {},
   "source": [
    "Drop records without reference "
   ]
  },
  {
   "cell_type": "code",
   "execution_count": 7,
   "metadata": {},
   "outputs": [
    {
     "data": {
      "text/plain": [
       "(5018, 10)"
      ]
     },
     "execution_count": 7,
     "metadata": {},
     "output_type": "execute_result"
    }
   ],
   "source": [
    "df_bacd = df_bacd.dropna(subset=['Reference']).astype({'Reference': int})\n",
    "df_bacd.shape"
   ]
  },
  {
   "cell_type": "markdown",
   "metadata": {},
   "source": [
    "Fix two typos"
   ]
  },
  {
   "cell_type": "code",
   "execution_count": 8,
   "metadata": {},
   "outputs": [
    {
     "data": {
      "text/html": [
       "<div>\n",
       "<style scoped>\n",
       "    .dataframe tbody tr th:only-of-type {\n",
       "        vertical-align: middle;\n",
       "    }\n",
       "\n",
       "    .dataframe tbody tr th {\n",
       "        vertical-align: top;\n",
       "    }\n",
       "\n",
       "    .dataframe thead th {\n",
       "        text-align: right;\n",
       "    }\n",
       "</style>\n",
       "<table border=\"1\" class=\"dataframe\">\n",
       "  <thead>\n",
       "    <tr style=\"text-align: right;\">\n",
       "      <th></th>\n",
       "      <th>ID</th>\n",
       "      <th>designation_header</th>\n",
       "      <th>strain_number_header</th>\n",
       "      <th>is_type_strain_header</th>\n",
       "      <th>species</th>\n",
       "      <th>Cell length (µm)</th>\n",
       "      <th>Cell Width (µm)</th>\n",
       "      <th>Cell Shape</th>\n",
       "      <th>Reference</th>\n",
       "      <th>NCBI ID</th>\n",
       "    </tr>\n",
       "  </thead>\n",
       "  <tbody>\n",
       "    <tr>\n",
       "      <th>3714</th>\n",
       "      <td>158646</td>\n",
       "      <td>1-32</td>\n",
       "      <td>KCTC 52859, CCTCC AB 2017084</td>\n",
       "      <td>1.0</td>\n",
       "      <td>Pedobacter mongoliensis</td>\n",
       "      <td>1-2</td>\n",
       "      <td>0.3.0.6</td>\n",
       "      <td>rod-shaped</td>\n",
       "      <td>65371</td>\n",
       "      <td>NaN</td>\n",
       "    </tr>\n",
       "  </tbody>\n",
       "</table>\n",
       "</div>"
      ],
      "text/plain": [
       "          ID designation_header          strain_number_header  \\\n",
       "3714  158646               1-32  KCTC 52859, CCTCC AB 2017084   \n",
       "\n",
       "      is_type_strain_header                  species Cell length (µm)  \\\n",
       "3714                    1.0  Pedobacter mongoliensis              1-2   \n",
       "\n",
       "     Cell Width (µm)  Cell Shape  Reference  NCBI ID  \n",
       "3714         0.3.0.6  rod-shaped      65371      NaN  "
      ]
     },
     "execution_count": 8,
     "metadata": {},
     "output_type": "execute_result"
    }
   ],
   "source": [
    "df_bacd[df_bacd['Cell Width (µm)'] == '0.3.0.6']"
   ]
  },
  {
   "cell_type": "code",
   "execution_count": 9,
   "metadata": {},
   "outputs": [],
   "source": [
    "df_bacd.at[3714, 'Cell Width (µm)'] = '0.3-0.6'"
   ]
  },
  {
   "cell_type": "code",
   "execution_count": 10,
   "metadata": {},
   "outputs": [
    {
     "data": {
      "text/html": [
       "<div>\n",
       "<style scoped>\n",
       "    .dataframe tbody tr th:only-of-type {\n",
       "        vertical-align: middle;\n",
       "    }\n",
       "\n",
       "    .dataframe tbody tr th {\n",
       "        vertical-align: top;\n",
       "    }\n",
       "\n",
       "    .dataframe thead th {\n",
       "        text-align: right;\n",
       "    }\n",
       "</style>\n",
       "<table border=\"1\" class=\"dataframe\">\n",
       "  <thead>\n",
       "    <tr style=\"text-align: right;\">\n",
       "      <th></th>\n",
       "      <th>ID</th>\n",
       "      <th>designation_header</th>\n",
       "      <th>strain_number_header</th>\n",
       "      <th>is_type_strain_header</th>\n",
       "      <th>species</th>\n",
       "      <th>Cell length (µm)</th>\n",
       "      <th>Cell Width (µm)</th>\n",
       "      <th>Cell Shape</th>\n",
       "      <th>Reference</th>\n",
       "      <th>NCBI ID</th>\n",
       "    </tr>\n",
       "  </thead>\n",
       "  <tbody>\n",
       "    <tr>\n",
       "      <th>2221</th>\n",
       "      <td>1511</td>\n",
       "      <td>YKJ-13</td>\n",
       "      <td>DSM 18867, CIP 107405, JCM 10872, KCCM 80002</td>\n",
       "      <td>1.0</td>\n",
       "      <td>Jeotgalibacillus alimentarius</td>\n",
       "      <td>1.0-1.2</td>\n",
       "      <td>2.0-4-0</td>\n",
       "      <td>rod-shaped</td>\n",
       "      <td>23065</td>\n",
       "      <td>135826.0</td>\n",
       "    </tr>\n",
       "  </tbody>\n",
       "</table>\n",
       "</div>"
      ],
      "text/plain": [
       "        ID designation_header                          strain_number_header  \\\n",
       "2221  1511             YKJ-13  DSM 18867, CIP 107405, JCM 10872, KCCM 80002   \n",
       "\n",
       "      is_type_strain_header                        species Cell length (µm)  \\\n",
       "2221                    1.0  Jeotgalibacillus alimentarius          1.0-1.2   \n",
       "\n",
       "     Cell Width (µm)  Cell Shape  Reference   NCBI ID  \n",
       "2221         2.0-4-0  rod-shaped      23065  135826.0  "
      ]
     },
     "execution_count": 10,
     "metadata": {},
     "output_type": "execute_result"
    }
   ],
   "source": [
    "df_bacd[df_bacd['Cell Width (µm)'] == '2.0-4-0']"
   ]
  },
  {
   "cell_type": "code",
   "execution_count": 11,
   "metadata": {},
   "outputs": [],
   "source": [
    "df_bacd.at[2221, 'Cell Width (µm)'] = '2.0-4.0'"
   ]
  },
  {
   "cell_type": "markdown",
   "metadata": {},
   "source": [
    "NCBI TaxID"
   ]
  },
  {
   "cell_type": "code",
   "execution_count": 12,
   "metadata": {},
   "outputs": [],
   "source": [
    "df_bacd['TaxID'] = df_bacd['NCBI ID'].apply(lambda x: x if np.isnan(x) else str(int(x)))"
   ]
  },
  {
   "cell_type": "markdown",
   "metadata": {},
   "source": [
    "Drop records without NCBI TaxID."
   ]
  },
  {
   "cell_type": "code",
   "execution_count": 13,
   "metadata": {},
   "outputs": [],
   "source": [
    "df_bacd.drop(columns=['NCBI ID'], inplace=True)"
   ]
  },
  {
   "cell_type": "markdown",
   "metadata": {},
   "source": [
    "### Cell size data"
   ]
  },
  {
   "cell_type": "markdown",
   "metadata": {},
   "source": [
    "Check missing data"
   ]
  },
  {
   "cell_type": "code",
   "execution_count": 14,
   "metadata": {},
   "outputs": [
    {
     "data": {
      "text/plain": [
       "(5018, 10)"
      ]
     },
     "execution_count": 14,
     "metadata": {},
     "output_type": "execute_result"
    }
   ],
   "source": [
    "df_bacd.shape"
   ]
  },
  {
   "cell_type": "code",
   "execution_count": 15,
   "metadata": {},
   "outputs": [
    {
     "data": {
      "text/plain": [
       "5018"
      ]
     },
     "execution_count": 15,
     "metadata": {},
     "output_type": "execute_result"
    }
   ],
   "source": [
    "df_bacd['Cell length (µm)'].dropna().shape[0]"
   ]
  },
  {
   "cell_type": "code",
   "execution_count": 16,
   "metadata": {},
   "outputs": [
    {
     "data": {
      "text/plain": [
       "4797"
      ]
     },
     "execution_count": 16,
     "metadata": {},
     "output_type": "execute_result"
    }
   ],
   "source": [
    "df_bacd['Cell Width (µm)'].dropna().shape[0]"
   ]
  },
  {
   "cell_type": "markdown",
   "metadata": {},
   "source": [
    "For records without width"
   ]
  },
  {
   "cell_type": "code",
   "execution_count": 17,
   "metadata": {},
   "outputs": [
    {
     "data": {
      "text/plain": [
       "221"
      ]
     },
     "execution_count": 17,
     "metadata": {},
     "output_type": "execute_result"
    }
   ],
   "source": [
    "df_ = df_bacd[df_bacd['Cell Width (µm)'].isna()]\n",
    "df_.shape[0]"
   ]
  },
  {
   "cell_type": "code",
   "execution_count": 18,
   "metadata": {},
   "outputs": [
    {
     "data": {
      "text/plain": [
       "Cell Shape\n",
       "coccus-shaped         103\n",
       "rod-shaped             89\n",
       "sphere-shaped           8\n",
       "ovoid-shaped            2\n",
       "pleomorphic-shaped      2\n",
       "star-shaped             2\n",
       "oval-shaped             1\n",
       "filament-shaped         1\n",
       "spiral-shaped           1\n",
       "Name: count, dtype: int64"
      ]
     },
     "execution_count": 18,
     "metadata": {},
     "output_type": "execute_result"
    }
   ],
   "source": [
    "df_['Cell Shape'].value_counts()"
   ]
  },
  {
   "cell_type": "markdown",
   "metadata": {},
   "source": [
    "For coccus- or shpere-shaped cells, let width = length."
   ]
  },
  {
   "cell_type": "code",
   "execution_count": 19,
   "metadata": {},
   "outputs": [],
   "source": [
    "lengths = df_bacd[df_bacd['Cell Width (µm)'].isna() & df_bacd['Cell Shape'].isin([\n",
    "    'coccus-shaped', 'sphere-shaped'])]['Cell length (µm)']"
   ]
  },
  {
   "cell_type": "code",
   "execution_count": 20,
   "metadata": {},
   "outputs": [],
   "source": [
    "# for idx, val in lengths.iteritems():\n",
    "for idx, val in lengths.items():\n",
    "    df_bacd.at[idx, 'Cell Width (µm)'] = val"
   ]
  },
  {
   "cell_type": "markdown",
   "metadata": {},
   "source": [
    "Drop records of other cell shapes."
   ]
  },
  {
   "cell_type": "code",
   "execution_count": 21,
   "metadata": {},
   "outputs": [
    {
     "data": {
      "text/plain": [
       "4908"
      ]
     },
     "execution_count": 21,
     "metadata": {},
     "output_type": "execute_result"
    }
   ],
   "source": [
    "df_bacd.dropna(subset=['Cell Width (µm)'], inplace=True)\n",
    "df_bacd.shape[0]"
   ]
  },
  {
   "cell_type": "markdown",
   "metadata": {},
   "source": [
    "Standardize the format of length and width values.\n",
    "\n",
    "- For ranges (e.g., `0.2-0.5`), take geometric mean.\n",
    "- For minimum / maximum values, take boundary.\n",
    "- There are some exceptions. The following code deals with exceptions."
   ]
  },
  {
   "cell_type": "code",
   "execution_count": 22,
   "metadata": {},
   "outputs": [],
   "source": [
    "def size_to_num(size):\n",
    "    \"\"\"Convert a size string into a number.\n",
    "    \"\"\"\n",
    "    if size.endswith(' µ'):\n",
    "        size = size[:-2]\n",
    "    if size.endswith(' mm'):\n",
    "        size = size[:-3]\n",
    "    if '-' in size:\n",
    "        return gmean([float(x) for x in size.split('-')])\n",
    "    elif size.startswith(('>', '<')):\n",
    "        return float(size[1:])\n",
    "    else:\n",
    "        return float(size)"
   ]
  },
  {
   "cell_type": "code",
   "execution_count": 23,
   "metadata": {},
   "outputs": [],
   "source": [
    "def size_to_num2(size):\n",
    "    \"\"\"Convert a size string into a number.\n",
    "    Take arithmetic mean instead of geometric mean\n",
    "    \"\"\"\n",
    "    if size.endswith(' µ'):\n",
    "        size = size[:-2]\n",
    "    if size.endswith(' mm'):\n",
    "        size = size[:-3]\n",
    "    if '-' in size:\n",
    "        return np.mean([float(x) for x in size.split('-')])\n",
    "    elif size.startswith(('>', '<')):\n",
    "        return float(size[1:])\n",
    "    else:\n",
    "        return float(size)"
   ]
  },
  {
   "cell_type": "code",
   "execution_count": 24,
   "metadata": {},
   "outputs": [],
   "source": [
    "def size_to_range(size):\n",
    "    \"\"\"Convert a size string into a range (tuple).\n",
    "    \"\"\"\n",
    "    if size.endswith(' µ'):\n",
    "        size = size[:-2]\n",
    "    if size.endswith(' mm'):\n",
    "        size = size[:-3]\n",
    "    if '-' in size:\n",
    "        rng = [float(x) for x in size.split('-')]\n",
    "        return [rng[0], rng[-1]]\n",
    "    elif size.startswith(('>', '<')):\n",
    "        return [float(size[1:]), float(size[1:])]\n",
    "    else:\n",
    "        return [float(size), float(size)]"
   ]
  },
  {
   "cell_type": "code",
   "execution_count": 25,
   "metadata": {},
   "outputs": [],
   "source": [
    "def order(row, metric):\n",
    "    metrics = {'length': 'width', 'width': 'length'}\n",
    "    if np.isclose(gmean(row[f'{metric}_ranges']), row[f'{metric}_gmean']):\n",
    "        return row[f'{metric}_ranges']\n",
    "    else:\n",
    "        return row[f'{metrics[metric]}_ranges']"
   ]
  },
  {
   "cell_type": "code",
   "execution_count": 26,
   "metadata": {},
   "outputs": [],
   "source": [
    "df_bacd['length_gmean'] = df_bacd['Cell length (µm)'].astype(str).apply(size_to_num)\n",
    "df_bacd['width_gmean'] = df_bacd['Cell Width (µm)'].astype(str).apply(size_to_num)"
   ]
  },
  {
   "cell_type": "code",
   "execution_count": 27,
   "metadata": {},
   "outputs": [],
   "source": [
    "df_bacd['length_amean'] = df_bacd['Cell length (µm)'].astype(str).apply(size_to_num2)\n",
    "df_bacd['width_amean'] = df_bacd['Cell Width (µm)'].astype(str).apply(size_to_num2)"
   ]
  },
  {
   "cell_type": "markdown",
   "metadata": {},
   "source": [
    "Ensure that length is greater than or equal to width."
   ]
  },
  {
   "cell_type": "code",
   "execution_count": 28,
   "metadata": {},
   "outputs": [],
   "source": [
    "df_bacd[['length_gmean', 'width_gmean']] = df_bacd[['length_gmean', 'width_gmean']].apply(\n",
    "    lambda x: pd.Series([max(x), min(x)]), axis=1)"
   ]
  },
  {
   "cell_type": "code",
   "execution_count": 29,
   "metadata": {},
   "outputs": [],
   "source": [
    "df_bacd[['length_amean', 'width_amean']] = df_bacd[['length_amean', 'width_amean']].apply(\n",
    "    lambda x: pd.Series([max(x), min(x)]), axis=1)"
   ]
  },
  {
   "cell_type": "markdown",
   "metadata": {},
   "source": [
    "### Data distribution"
   ]
  },
  {
   "cell_type": "code",
   "execution_count": 30,
   "metadata": {},
   "outputs": [
    {
     "data": {
      "image/png": "[encoded data removed]",
      "text/plain": [
       "<Figure size 550x300 with 1 Axes>"
      ]
     },
     "metadata": {},
     "output_type": "display_data"
    }
   ],
   "source": [
    "plt.figure(figsize = (5.5, 3))\n",
    "plt.hist(df_bacd['length_gmean'].apply(np.log10), alpha = 0.7, label = 'Geometric mean')\n",
    "plt.hist(df_bacd['length_amean'].apply(np.log10), alpha = 0.5, label = 'Arithmetic mean')\n",
    "plt.xlabel(f'Log (Length, {mu}m)')\n",
    "plt.ylabel('Number of entries')\n",
    "plt.legend()\n",
    "plt.tick_params(top = True, right = True, direction = 'in', which = 'both')\n",
    "plt.show()"
   ]
  },
  {
   "cell_type": "code",
   "execution_count": 31,
   "metadata": {},
   "outputs": [
    {
     "data": {
      "image/png": "[encoded data removed]",
      "text/plain": [
       "<Figure size 550x300 with 1 Axes>"
      ]
     },
     "metadata": {},
     "output_type": "display_data"
    }
   ],
   "source": [
    "plt.figure(figsize = (5.5, 3))\n",
    "plt.hist(df_bacd['width_gmean'].apply(np.log10), alpha = 0.7, label = 'Geometric mean')\n",
    "plt.hist(df_bacd['width_amean'].apply(np.log10), alpha = 0.5, label = 'Arithmetic mean')\n",
    "plt.xlabel(f'Log (Width, {mu}m)')\n",
    "plt.ylabel('Number of entries')\n",
    "plt.legend()\n",
    "plt.tick_params(top = True, right = True, direction = 'in', which = 'both')\n",
    "plt.show()"
   ]
  },
  {
   "cell_type": "markdown",
   "metadata": {},
   "source": [
    "Calculate volume and surface area."
   ]
  },
  {
   "cell_type": "code",
   "execution_count": 32,
   "metadata": {},
   "outputs": [],
   "source": [
    "df_bacd['volume_gmean'] = np.pi * (df_bacd['width_gmean'] / 2) ** 2 * ((4 / 3) * (df_bacd['width_gmean'] / 2) + (df_bacd['length_gmean'] - df_bacd['width_gmean']))\n",
    "df_bacd['surface_gmean'] = 2 * np.pi * (df_bacd['width_gmean'] / 2) * (2 * (df_bacd['width_gmean'] / 2) + (df_bacd['length_gmean'] - df_bacd['width_gmean']))\n",
    "# df_bacd['svratio_gmean'] = df_bacd['surface_gmean'] / df_bacd['volume_gmean']\n",
    "# df_bacd['vsratio_gmean'] = df_bacd['volume_gmean'] / df_bacd['surface_gmean']"
   ]
  },
  {
   "cell_type": "code",
   "execution_count": 33,
   "metadata": {},
   "outputs": [],
   "source": [
    "df_bacd['volume_amean'] = np.pi * (df_bacd['width_amean'] / 2) ** 2 * ((4 / 3) * (df_bacd['width_amean'] / 2) + (df_bacd['length_amean'] - df_bacd['width_amean']))\n",
    "df_bacd['surface_amean'] = 2 * np.pi * (df_bacd['width_amean'] / 2) * (2 * (df_bacd['width_amean'] / 2) + (df_bacd['length_amean'] - df_bacd['width_amean']))\n",
    "# df_bacd['svratio_amean'] = df_bacd['surface_amean'] / df_bacd['volume_amean']\n",
    "# df_bacd['vsratio_amean'] = df_bacd['volume_amean'] / df_bacd['surface_amean']"
   ]
  },
  {
   "cell_type": "markdown",
   "metadata": {},
   "source": [
    "Rename columns"
   ]
  },
  {
   "cell_type": "code",
   "execution_count": 34,
   "metadata": {},
   "outputs": [],
   "source": [
    "df_bacd.rename(columns = {'Cell length (µm)': 'Length', 'Cell Width (µm)': 'Width', 'species': 'Name'}, \n",
    "               inplace = True)"
   ]
  },
  {
   "cell_type": "markdown",
   "metadata": {},
   "source": [
    "Get ranges"
   ]
  },
  {
   "cell_type": "code",
   "execution_count": 35,
   "metadata": {},
   "outputs": [],
   "source": [
    "df_bacd['length_ranges'] = df_bacd['Length'].astype(str).apply(size_to_range)\n",
    "df_bacd['width_ranges'] = df_bacd['Width'].astype(str).apply(size_to_range)"
   ]
  },
  {
   "cell_type": "markdown",
   "metadata": {},
   "source": [
    "Fix ranges"
   ]
  },
  {
   "cell_type": "code",
   "execution_count": 36,
   "metadata": {},
   "outputs": [],
   "source": [
    "df_bacd['length_ranges_fix'] = df_bacd.apply(lambda x: order(x, 'length'), axis = 1)\n",
    "df_bacd['width_ranges_fix'] = df_bacd.apply(lambda x: order(x, 'width'), axis = 1)"
   ]
  },
  {
   "cell_type": "markdown",
   "metadata": {},
   "source": [
    "Save dataframe"
   ]
  },
  {
   "cell_type": "code",
   "execution_count": 37,
   "metadata": {},
   "outputs": [],
   "source": [
    "df_bacd.to_csv('preprocess/data_bacdive.tsv', sep='\\t')"
   ]
  },
  {
   "cell_type": "markdown",
   "metadata": {},
   "source": [
    "# Pasteur Culture Collection (PCC)"
   ]
  },
  {
   "cell_type": "markdown",
   "metadata": {},
   "source": [
    "As pointed out by Ferran, 'most of the strains with data correspond to prolate spheroids or spheres, which are not very different in the end, and using a diameter and speheres is a good approach'. \n",
    "\n",
    "**Therefore, we can assume a sphere shape but for the sake of standarization with the BacDive data, we will simplifie the cell shape as capsules.**"
   ]
  },
  {
   "cell_type": "markdown",
   "metadata": {},
   "source": [
    "For sphere/spheroid-shaped cells, let width = length"
   ]
  },
  {
   "cell_type": "code",
   "execution_count": 38,
   "metadata": {},
   "outputs": [],
   "source": [
    "df_pcc = pd.read_csv('../preprocess/data_cyanobacteria_taxID.tsv', sep = '\\t', index_col = 0)"
   ]
  },
  {
   "cell_type": "code",
   "execution_count": 39,
   "metadata": {},
   "outputs": [
    {
     "data": {
      "text/plain": [
       "(225, 3)"
      ]
     },
     "execution_count": 39,
     "metadata": {},
     "output_type": "execute_result"
    }
   ],
   "source": [
    "df_pcc.shape"
   ]
  },
  {
   "cell_type": "code",
   "execution_count": 40,
   "metadata": {},
   "outputs": [],
   "source": [
    "df_pcc['width'] = df_pcc['length']"
   ]
  },
  {
   "cell_type": "code",
   "execution_count": 41,
   "metadata": {},
   "outputs": [],
   "source": [
    "# Add shape column\n",
    "df_pcc['shape'] = 'sphere/spheroid'"
   ]
  },
  {
   "cell_type": "markdown",
   "metadata": {},
   "source": [
    "Standardize length and width values:\n",
    "\n",
    "* For ranges (e.g., `4-8`), take geometric mean\n",
    "* For minimum / maximum values, take boundary.\n",
    "* There are some exceptions. The following code deals with exceptions."
   ]
  },
  {
   "cell_type": "code",
   "execution_count": 42,
   "metadata": {},
   "outputs": [],
   "source": [
    "df_pcc['length_gmean'] = df_pcc['length'].apply(size_to_num)\n",
    "df_pcc['width_gmean'] = df_pcc['width'].apply(size_to_num)"
   ]
  },
  {
   "cell_type": "code",
   "execution_count": 43,
   "metadata": {},
   "outputs": [],
   "source": [
    "df_pcc['length_amean'] = df_pcc['length'].apply(size_to_num2)\n",
    "df_pcc['width_amean'] = df_pcc['width'].apply(size_to_num2)"
   ]
  },
  {
   "cell_type": "markdown",
   "metadata": {},
   "source": [
    "Ensure that length is greater than or equal to width."
   ]
  },
  {
   "cell_type": "code",
   "execution_count": 44,
   "metadata": {},
   "outputs": [],
   "source": [
    "df_pcc[['length_gmean', 'width_gmean']] = df_pcc[['length_gmean', 'width_gmean']].apply(\n",
    "    lambda x: pd.Series([max(x), min(x)]), axis=1)"
   ]
  },
  {
   "cell_type": "code",
   "execution_count": 45,
   "metadata": {},
   "outputs": [],
   "source": [
    "df_pcc[['length_amean', 'width_amean']] = df_pcc[['length_amean', 'width_amean']].apply(\n",
    "    lambda x: pd.Series([max(x), min(x)]), axis=1)"
   ]
  },
  {
   "cell_type": "markdown",
   "metadata": {},
   "source": [
    "### Data distribution"
   ]
  },
  {
   "cell_type": "code",
   "execution_count": 46,
   "metadata": {},
   "outputs": [
    {
     "data": {
      "image/png": "[encoded data removed]",
      "text/plain": [
       "<Figure size 550x300 with 1 Axes>"
      ]
     },
     "metadata": {},
     "output_type": "display_data"
    }
   ],
   "source": [
    "plt.figure(figsize = (5.5, 3))\n",
    "plt.hist(df_pcc['length_gmean'].apply(np.log10), alpha = 0.5, label = 'Geometric mean')\n",
    "plt.hist(df_pcc['length_amean'].apply(np.log10), alpha = 0.5, label = 'Arithmetic mean')\n",
    "plt.xlabel(f'Log (Length, {mu}m)')\n",
    "plt.ylabel('Number of entries')\n",
    "plt.legend()\n",
    "plt.tick_params(top = True, right = True, direction = 'in', which = 'both')\n",
    "plt.show()"
   ]
  },
  {
   "cell_type": "code",
   "execution_count": 47,
   "metadata": {},
   "outputs": [
    {
     "data": {
      "image/png": "[encoded data removed]",
      "text/plain": [
       "<Figure size 550x300 with 1 Axes>"
      ]
     },
     "metadata": {},
     "output_type": "display_data"
    }
   ],
   "source": [
    "plt.figure(figsize = (5.5, 3))\n",
    "plt.hist(df_pcc['width_gmean'].apply(np.log10), alpha = 0.5, label = 'Geometric mean')\n",
    "plt.hist(df_pcc['width_amean'].apply(np.log10), alpha = 0.5, label = 'Arithmetic mean')\n",
    "plt.xlabel(f'Log (Width, {mu}m)')\n",
    "plt.ylabel('Number of entries')\n",
    "plt.legend()\n",
    "plt.tick_params(top = True, right = True, direction = 'in', which = 'both')\n",
    "plt.show()"
   ]
  },
  {
   "cell_type": "markdown",
   "metadata": {},
   "source": [
    "Calculate volume and surface area"
   ]
  },
  {
   "cell_type": "code",
   "execution_count": 48,
   "metadata": {},
   "outputs": [],
   "source": [
    "df_pcc['volume_gmean'] = np.pi * (df_pcc['width_gmean'] / 2) ** 2 * ((4 / 3) * (df_pcc['width_gmean'] / 2) + (df_pcc['length_gmean'] - df_pcc['width_gmean']))\n",
    "df_pcc['surface_gmean'] = 2 * np.pi * (df_pcc['width_gmean'] / 2) * (2 * (df_pcc['width_gmean'] / 2) + (df_pcc['length_gmean'] - df_pcc['width_gmean']))\n",
    "# df_pcc['svratio_gmean'] = df_pcc['surface_gmean'] / df_pcc['volume_gmean']\n",
    "# df_pcc['vsratio_gmean'] = df_pcc['volume_gmean'] / df_pcc['surface_gmean']"
   ]
  },
  {
   "cell_type": "code",
   "execution_count": 49,
   "metadata": {},
   "outputs": [],
   "source": [
    "df_pcc['volume_amean'] = np.pi * (df_pcc['width_amean'] / 2) ** 2 * ((4 / 3) * (df_pcc['width_amean'] / 2) + (df_pcc['length_amean'] - df_pcc['width_amean']))\n",
    "df_pcc['surface_amean'] = 2 * np.pi * (df_pcc['width_amean'] / 2) * (2 * (df_pcc['width_amean'] / 2) + (df_pcc['length_amean'] - df_pcc['width_amean']))\n",
    "# df_pcc['svratio_amean'] = df_pcc['surface_amean'] / df_pcc['volume_amean']\n",
    "# df_pcc['vsratio_amean'] = df_pcc['volume_amean'] / df_pcc['surface_amean']"
   ]
  },
  {
   "cell_type": "markdown",
   "metadata": {},
   "source": [
    "Rename columns"
   ]
  },
  {
   "cell_type": "code",
   "execution_count": 50,
   "metadata": {},
   "outputs": [],
   "source": [
    "df_pcc.rename(columns = {'length': 'Length', 'width': 'Width', 'spname': 'Name'}, \n",
    "               inplace = True)"
   ]
  },
  {
   "cell_type": "markdown",
   "metadata": {},
   "source": [
    "Get ranges"
   ]
  },
  {
   "cell_type": "code",
   "execution_count": 51,
   "metadata": {},
   "outputs": [],
   "source": [
    "df_pcc['length_ranges'] = df_pcc['Length'].astype(str).apply(size_to_range)\n",
    "df_pcc['width_ranges'] = df_pcc['Width'].astype(str).apply(size_to_range)"
   ]
  },
  {
   "cell_type": "markdown",
   "metadata": {},
   "source": [
    "Fix ranges"
   ]
  },
  {
   "cell_type": "code",
   "execution_count": 52,
   "metadata": {},
   "outputs": [],
   "source": [
    "df_pcc['length_ranges_fix'] = df_pcc.apply(lambda x: order(x, 'length'), axis = 1)\n",
    "df_pcc['width_ranges_fix'] = df_pcc.apply(lambda x: order(x, 'width'), axis = 1)"
   ]
  },
  {
   "cell_type": "code",
   "execution_count": 53,
   "metadata": {},
   "outputs": [
    {
     "data": {
      "text/plain": [
       "(225, 17)"
      ]
     },
     "execution_count": 53,
     "metadata": {},
     "output_type": "execute_result"
    }
   ],
   "source": [
    "df_pcc.shape"
   ]
  },
  {
   "cell_type": "markdown",
   "metadata": {},
   "source": [
    "Save data"
   ]
  },
  {
   "cell_type": "code",
   "execution_count": 54,
   "metadata": {},
   "outputs": [],
   "source": [
    "df_pcc.to_csv('preprocess/data_pcc.tsv', sep = '\\t')"
   ]
  },
  {
   "cell_type": "markdown",
   "metadata": {},
   "source": [
    "# PubMed"
   ]
  },
  {
   "cell_type": "code",
   "execution_count": 55,
   "metadata": {},
   "outputs": [
    {
     "data": {
      "text/plain": [
       "(100, 7)"
      ]
     },
     "execution_count": 55,
     "metadata": {},
     "output_type": "execute_result"
    }
   ],
   "source": [
    "df_pubmed1 = pd.read_excel('../preprocess/100_microbes.xlsx')\n",
    "df_pubmed1.shape"
   ]
  },
  {
   "cell_type": "markdown",
   "metadata": {},
   "source": [
    "Drop records without length and width"
   ]
  },
  {
   "cell_type": "code",
   "execution_count": 56,
   "metadata": {},
   "outputs": [
    {
     "data": {
      "text/plain": [
       "(54, 7)"
      ]
     },
     "execution_count": 56,
     "metadata": {},
     "output_type": "execute_result"
    }
   ],
   "source": [
    "df_pubmed1 = df_pubmed1.dropna(subset = ['Length (mm)', 'Width (mm)'], how = 'all')\n",
    "df_pubmed1.shape"
   ]
  },
  {
   "cell_type": "markdown",
   "metadata": {},
   "source": [
    "If shape is sphere, then length is the same as width"
   ]
  },
  {
   "cell_type": "code",
   "execution_count": 57,
   "metadata": {},
   "outputs": [],
   "source": [
    "for i, row in df_pubmed1.iterrows():\n",
    "    if re.findall('[Ss]phere', str(row['Shape'])):\n",
    "        df_pubmed1.at[i, 'Width (mm)'] = df_pubmed1.at[i, 'Length (mm)']"
   ]
  },
  {
   "cell_type": "markdown",
   "metadata": {},
   "source": [
    "Drop entries with no width"
   ]
  },
  {
   "cell_type": "code",
   "execution_count": 58,
   "metadata": {},
   "outputs": [],
   "source": [
    "df_pubmed1.dropna(subset = ['Width (mm)'], inplace = True)"
   ]
  },
  {
   "cell_type": "markdown",
   "metadata": {},
   "source": [
    "Drop entries present in BacDive"
   ]
  },
  {
   "cell_type": "code",
   "execution_count": 59,
   "metadata": {},
   "outputs": [],
   "source": [
    "df_pubmed1 = df_pubmed1.drop([1, 12, 19, 20, 0, 33, 86, 90, 91])"
   ]
  },
  {
   "cell_type": "code",
   "execution_count": 60,
   "metadata": {},
   "outputs": [
    {
     "data": {
      "text/plain": [
       "(40, 7)"
      ]
     },
     "execution_count": 60,
     "metadata": {},
     "output_type": "execute_result"
    }
   ],
   "source": [
    "df_pubmed1.shape"
   ]
  },
  {
   "cell_type": "code",
   "execution_count": 61,
   "metadata": {},
   "outputs": [
    {
     "data": {
      "text/plain": [
       "(14, 6)"
      ]
     },
     "execution_count": 61,
     "metadata": {},
     "output_type": "execute_result"
    }
   ],
   "source": [
    "df_pubmed2 = pd.read_excel('../preprocess/Small_and_giant_microbes.xlsx')\n",
    "df_pubmed2.shape"
   ]
  },
  {
   "cell_type": "markdown",
   "metadata": {},
   "source": [
    "Correct data for Thiomargarita namibiensis."
   ]
  },
  {
   "cell_type": "code",
   "execution_count": 62,
   "metadata": {},
   "outputs": [],
   "source": [
    "df_pubmed2.at[13, 'Length (mm)'] = '100-300'"
   ]
  },
  {
   "cell_type": "markdown",
   "metadata": {},
   "source": [
    "Add a new entry: [largest bacterium ever discovered](https://www.science.org/content/article/largest-bacterium-ever-discovered-has-unexpectedly-complex-cells?utm_source=Nature+Briefing&utm_campaign=f3a6c61808-briefing-dy-20220224&utm_medium=email&utm_term=0_c9dfd39373-f3a6c61808-43769453). Data from cell H, Table S2 of [preprint](https://www.biorxiv.org/content/10.1101/2022.02.16.480423v1). "
   ]
  },
  {
   "cell_type": "code",
   "execution_count": 63,
   "metadata": {},
   "outputs": [
    {
     "data": {
      "text/plain": [
       "14"
      ]
     },
     "execution_count": 63,
     "metadata": {},
     "output_type": "execute_result"
    }
   ],
   "source": [
    "len(df_pubmed2)"
   ]
  },
  {
   "cell_type": "code",
   "execution_count": 64,
   "metadata": {},
   "outputs": [],
   "source": [
    "# df_pubmed2 = df_pubmed2.append({'Small Microbes': 'Thiomargarita magnifica', 'Length (mm)': '9720',\n",
    "#                 'Width (mm)': '30', 'Shape': 'rod', 'Genome': 'NaN', \n",
    "#                  'Reference': 'https://doi.org/10.1101/2022.02.16.480423'}, ignore_index = True)\n",
    "df_pubmed2.loc[len(df_pubmed2)] = {'Small Microbes': 'Thiomargarita magnifica', 'Length (mm)': '9720',\n",
    "                'Width (mm)': '30', 'Shape': 'rod', 'Genome': 'NaN', \n",
    "                 'Reference': 'https://doi.org/10.1101/2022.02.16.480423'}"
   ]
  },
  {
   "cell_type": "markdown",
   "metadata": {},
   "source": [
    "Drop records without lenght AND width"
   ]
  },
  {
   "cell_type": "code",
   "execution_count": 65,
   "metadata": {},
   "outputs": [
    {
     "data": {
      "text/plain": [
       "(15, 6)"
      ]
     },
     "execution_count": 65,
     "metadata": {},
     "output_type": "execute_result"
    }
   ],
   "source": [
    "df_pubmed2 = df_pubmed2.dropna(subset = ['Length (mm)', 'Width (mm)'], how = 'all')\n",
    "df_pubmed2.shape"
   ]
  },
  {
   "cell_type": "code",
   "execution_count": 66,
   "metadata": {},
   "outputs": [],
   "source": [
    "# If shape is sphere, then length is the same as width\n",
    "for i, row in df_pubmed2.iterrows():\n",
    "    if re.findall('([Ss]phere)|(pear)', str(row['Shape'])):\n",
    "        df_pubmed2.at[i, 'Width (mm)'] = df_pubmed2.at[i, 'Length (mm)']"
   ]
  },
  {
   "cell_type": "code",
   "execution_count": 67,
   "metadata": {},
   "outputs": [],
   "source": [
    "# Drop records with no width\n",
    "df_pubmed2 = df_pubmed2.dropna(subset = ['Width (mm)'])"
   ]
  },
  {
   "cell_type": "code",
   "execution_count": 68,
   "metadata": {},
   "outputs": [
    {
     "data": {
      "text/plain": [
       "(14, 6)"
      ]
     },
     "execution_count": 68,
     "metadata": {},
     "output_type": "execute_result"
    }
   ],
   "source": [
    "df_pubmed2.shape"
   ]
  },
  {
   "cell_type": "markdown",
   "metadata": {},
   "source": [
    "Check if records are contained in BacDive"
   ]
  },
  {
   "cell_type": "code",
   "execution_count": 69,
   "metadata": {},
   "outputs": [],
   "source": [
    "for i, row in df_pubmed2.iterrows():\n",
    "    hit = df_bacd[df_bacd['Name'].str.contains(row['Small Microbes'])]\n",
    "    if hit.shape[0] != 0:\n",
    "        print('Hit')"
   ]
  },
  {
   "cell_type": "markdown",
   "metadata": {},
   "source": [
    "None of the smalles or largest microbes are contained in the BacDIve dataset"
   ]
  },
  {
   "cell_type": "code",
   "execution_count": 70,
   "metadata": {},
   "outputs": [],
   "source": [
    "# Drop columns irrelevant columns\n",
    "df_pubmed1.drop(columns = ['All', 'Sampled'], inplace = True)\n",
    "df_pubmed2.drop(columns = ['Genome'], inplace = True)"
   ]
  },
  {
   "cell_type": "markdown",
   "metadata": {},
   "source": [
    "Rename columns"
   ]
  },
  {
   "cell_type": "code",
   "execution_count": 71,
   "metadata": {},
   "outputs": [],
   "source": [
    "df_pubmed1.rename(columns = {'Organism': 'Name', 'Length (mm)': 'Length', 'Width (mm)': 'Width', 'Reference': 'reference'}, inplace = True)\n",
    "df_pubmed2.rename(columns = {'Small Microbes': 'Name', 'Length (mm)': 'Length', 'Width (mm)': 'Width', 'Reference': 'reference'}, inplace = True)"
   ]
  },
  {
   "cell_type": "markdown",
   "metadata": {},
   "source": [
    "Join datasets"
   ]
  },
  {
   "cell_type": "code",
   "execution_count": 72,
   "metadata": {},
   "outputs": [],
   "source": [
    "df_pubmed = pd.concat([df_pubmed1, df_pubmed2])"
   ]
  },
  {
   "cell_type": "code",
   "execution_count": 73,
   "metadata": {},
   "outputs": [
    {
     "data": {
      "text/plain": [
       "(54, 5)"
      ]
     },
     "execution_count": 73,
     "metadata": {},
     "output_type": "execute_result"
    }
   ],
   "source": [
    "df_pubmed.shape"
   ]
  },
  {
   "cell_type": "markdown",
   "metadata": {},
   "source": [
    "Standardize length and width values:\n",
    "\n",
    "- For ranges (e.g., 4-8), take geometric mean\n",
    "- For minimum / maximum values, take boundary.\n",
    "- There are some exceptions. The following code deals with exceptions."
   ]
  },
  {
   "cell_type": "code",
   "execution_count": 74,
   "metadata": {},
   "outputs": [],
   "source": [
    "df_pubmed['length_gmean'] = df_pubmed['Length'].astype(str).apply(size_to_num)\n",
    "df_pubmed['width_gmean'] = df_pubmed['Width'].astype(str).apply(size_to_num)"
   ]
  },
  {
   "cell_type": "code",
   "execution_count": 75,
   "metadata": {},
   "outputs": [],
   "source": [
    "df_pubmed['length_amean'] = df_pubmed['Length'].astype(str).apply(size_to_num2)\n",
    "df_pubmed['width_amean'] = df_pubmed['Width'].astype(str).apply(size_to_num2)"
   ]
  },
  {
   "cell_type": "markdown",
   "metadata": {},
   "source": [
    "Ensure that length is greater than or equal to width."
   ]
  },
  {
   "cell_type": "code",
   "execution_count": 76,
   "metadata": {},
   "outputs": [],
   "source": [
    "df_pubmed[['length_gmean', 'width_gmean']] = df_pubmed[['length_gmean', 'width_gmean']].apply(\n",
    "    lambda x: pd.Series([max(x), min(x)]), axis=1)"
   ]
  },
  {
   "cell_type": "code",
   "execution_count": 77,
   "metadata": {},
   "outputs": [],
   "source": [
    "df_pubmed[['length_amean', 'width_amean']] = df_pubmed[['length_amean', 'width_amean']].apply(\n",
    "    lambda x: pd.Series([max(x), min(x)]), axis=1)"
   ]
  },
  {
   "cell_type": "markdown",
   "metadata": {},
   "source": [
    "### Data distribution"
   ]
  },
  {
   "cell_type": "code",
   "execution_count": 78,
   "metadata": {},
   "outputs": [
    {
     "data": {
      "image/png": "[encoded data removed]",
      "text/plain": [
       "<Figure size 550x300 with 1 Axes>"
      ]
     },
     "metadata": {},
     "output_type": "display_data"
    }
   ],
   "source": [
    "plt.figure(figsize = (5.5, 3))\n",
    "plt.hist(df_pubmed['length_gmean'].apply(np.log10), alpha = 0.5, label = 'Geometric mean')\n",
    "plt.hist(df_pubmed['length_amean'].apply(np.log10), alpha = 0.5, label = 'Arithmetic mean')\n",
    "plt.xlabel(f'Log (Length, {mu}m)')\n",
    "plt.ylabel('Number of entries')\n",
    "plt.legend()\n",
    "plt.tick_params(top = True, right = True, direction = 'in', which = 'both')\n",
    "plt.show()"
   ]
  },
  {
   "cell_type": "code",
   "execution_count": 79,
   "metadata": {},
   "outputs": [
    {
     "data": {
      "image/png": "[encoded data removed]",
      "text/plain": [
       "<Figure size 550x300 with 1 Axes>"
      ]
     },
     "metadata": {},
     "output_type": "display_data"
    }
   ],
   "source": [
    "plt.figure(figsize = (5.5, 3))\n",
    "plt.hist(df_pubmed['width_gmean'].apply(np.log10), alpha = 0.5, label = 'Geometric mean')\n",
    "plt.hist(df_pubmed['width_amean'].apply(np.log10), alpha = 0.5, label = 'Arithmetic mean')\n",
    "plt.xlabel(f'Log (Width, {mu}m)')\n",
    "plt.ylabel('Number of entries')\n",
    "plt.legend()\n",
    "plt.tick_params(top = True, right = True, direction = 'in', which = 'both')\n",
    "plt.show()"
   ]
  },
  {
   "cell_type": "markdown",
   "metadata": {},
   "source": [
    "Calculate volume and surface area"
   ]
  },
  {
   "cell_type": "code",
   "execution_count": 80,
   "metadata": {},
   "outputs": [],
   "source": [
    "df_pubmed['volume_gmean'] = np.pi * (df_pubmed['width_gmean'] / 2) ** 2 * ((4 / 3) * (df_pubmed['width_gmean'] / 2) + (df_pubmed['length_gmean'] - df_pubmed['width_gmean']))\n",
    "df_pubmed['surface_gmean'] = 2 * np.pi * (df_pubmed['width_gmean'] / 2) * (2 * (df_pubmed['width_gmean'] / 2) + (df_pubmed['length_gmean'] - df_pubmed['width_gmean']))\n",
    "# df_pubmed['svratio_gmean'] = df_pubmed['surface_gmean'] / df_pubmed['volume_gmean']\n",
    "# df_pubmed['vsratio_gmean'] = df_pubmed['volume_gmean'] / df_pubmed['surface_gmean']"
   ]
  },
  {
   "cell_type": "code",
   "execution_count": 81,
   "metadata": {},
   "outputs": [],
   "source": [
    "df_pubmed['volume_amean'] = np.pi * (df_pubmed['width_amean'] / 2) ** 2 * ((4 / 3) * (df_pubmed['width_amean'] / 2) + (df_pubmed['length_amean'] - df_pubmed['width_amean']))\n",
    "df_pubmed['surface_amean'] = 2 * np.pi * (df_pubmed['width_amean'] / 2) * (2 * (df_pubmed['width_amean'] / 2) + (df_pubmed['length_amean'] - df_pubmed['width_amean']))\n",
    "# df_pubmed['svratio_amean'] = df_pubmed['surface_amean'] / df_pubmed['volume_amean']\n",
    "# df_pubmed['vsratio_amean'] = df_pubmed['volume_amean'] / df_pubmed['surface_amean']"
   ]
  },
  {
   "cell_type": "markdown",
   "metadata": {},
   "source": [
    "Get ranges"
   ]
  },
  {
   "cell_type": "code",
   "execution_count": 82,
   "metadata": {},
   "outputs": [],
   "source": [
    "df_pubmed['length_ranges'] = df_pubmed['Length'].astype(str).apply(size_to_range)\n",
    "df_pubmed['width_ranges'] = df_pubmed['Width'].astype(str).apply(size_to_range)"
   ]
  },
  {
   "cell_type": "markdown",
   "metadata": {},
   "source": [
    "Fix ranges"
   ]
  },
  {
   "cell_type": "code",
   "execution_count": 83,
   "metadata": {},
   "outputs": [],
   "source": [
    "df_pubmed['length_ranges_fix'] = df_pubmed.apply(lambda x: order(x, 'length'), axis = 1)\n",
    "df_pubmed['width_ranges_fix'] = df_pubmed.apply(lambda x: order(x, 'width'), axis = 1)"
   ]
  },
  {
   "cell_type": "markdown",
   "metadata": {},
   "source": [
    "Save dataframe"
   ]
  },
  {
   "cell_type": "code",
   "execution_count": 84,
   "metadata": {},
   "outputs": [],
   "source": [
    "# Set a new index\n",
    "df_pubmed.set_index(np.arange(0, len(df_pubmed)), inplace = True)"
   ]
  },
  {
   "cell_type": "code",
   "execution_count": 85,
   "metadata": {},
   "outputs": [],
   "source": [
    "df_pubmed.to_csv('preprocess/data_pubmed.tsv', sep = '\\t')"
   ]
  },
  {
   "cell_type": "markdown",
   "metadata": {},
   "source": [
    "# Bergey's manual"
   ]
  },
  {
   "cell_type": "markdown",
   "metadata": {},
   "source": [
    "### Volume 1"
   ]
  },
  {
   "cell_type": "code",
   "execution_count": 86,
   "metadata": {},
   "outputs": [
    {
     "data": {
      "text/plain": [
       "(109, 8)"
      ]
     },
     "execution_count": 86,
     "metadata": {},
     "output_type": "execute_result"
    }
   ],
   "source": [
    "df_bm1 = pd.read_csv('../preprocess/BMvol1.csv', sep = ',')\n",
    "df_bm1.shape"
   ]
  },
  {
   "cell_type": "markdown",
   "metadata": {},
   "source": [
    "Drop entries without shape"
   ]
  },
  {
   "cell_type": "code",
   "execution_count": 87,
   "metadata": {},
   "outputs": [
    {
     "data": {
      "text/plain": [
       "(109, 8)"
      ]
     },
     "execution_count": 87,
     "metadata": {},
     "output_type": "execute_result"
    }
   ],
   "source": [
    "df_bm1 = df_bm1.dropna(subset = ['Shape'])\n",
    "df_bm1.shape"
   ]
  },
  {
   "cell_type": "markdown",
   "metadata": {},
   "source": [
    "Drop entries without length and width"
   ]
  },
  {
   "cell_type": "code",
   "execution_count": 88,
   "metadata": {},
   "outputs": [
    {
     "data": {
      "text/plain": [
       "(109, 8)"
      ]
     },
     "execution_count": 88,
     "metadata": {},
     "output_type": "execute_result"
    }
   ],
   "source": [
    "df_bm1 = df_bm1.dropna(subset = ['Length', 'Width'], how = 'all')\n",
    "df_bm1.shape"
   ]
  },
  {
   "cell_type": "markdown",
   "metadata": {},
   "source": [
    "Drop entries of subspecies"
   ]
  },
  {
   "cell_type": "code",
   "execution_count": 89,
   "metadata": {},
   "outputs": [
    {
     "data": {
      "text/plain": [
       "(109, 8)"
      ]
     },
     "execution_count": 89,
     "metadata": {},
     "output_type": "execute_result"
    }
   ],
   "source": [
    "df_bm1 = df_bm1[df_bm1['Subspecies'] != 'Yes'].copy()\n",
    "df_bm1.shape"
   ]
  },
  {
   "cell_type": "markdown",
   "metadata": {},
   "source": [
    "Make sure that spherical shapes have length and width"
   ]
  },
  {
   "cell_type": "code",
   "execution_count": 90,
   "metadata": {},
   "outputs": [],
   "source": [
    "tmp = df_bm1[df_bm1['Shape'].str.contains('spher')]"
   ]
  },
  {
   "cell_type": "code",
   "execution_count": 91,
   "metadata": {},
   "outputs": [
    {
     "data": {
      "text/plain": [
       "(0, 8)"
      ]
     },
     "execution_count": 91,
     "metadata": {},
     "output_type": "execute_result"
    }
   ],
   "source": [
    "tmp[tmp['Width'].isnull()].shape"
   ]
  },
  {
   "cell_type": "code",
   "execution_count": 92,
   "metadata": {},
   "outputs": [
    {
     "data": {
      "text/plain": [
       "(0, 8)"
      ]
     },
     "execution_count": 92,
     "metadata": {},
     "output_type": "execute_result"
    }
   ],
   "source": [
    "tmp[tmp['Width'].isnull()].shape"
   ]
  },
  {
   "cell_type": "code",
   "execution_count": 93,
   "metadata": {},
   "outputs": [
    {
     "data": {
      "text/plain": [
       "(105, 8)"
      ]
     },
     "execution_count": 93,
     "metadata": {},
     "output_type": "execute_result"
    }
   ],
   "source": [
    "df_bm1 = df_bm1.dropna(subset = ['Length', 'Width'], how = 'any')\n",
    "df_bm1.shape"
   ]
  },
  {
   "cell_type": "markdown",
   "metadata": {},
   "source": [
    "Standardize length and width values:\n",
    "\n",
    "- For ranges (e.g., 4-8), take geometric mean\n",
    "- For minimum / maximum values, take boundary.\n",
    "- There are some exceptions. The following code deals with exceptions."
   ]
  },
  {
   "cell_type": "code",
   "execution_count": 94,
   "metadata": {},
   "outputs": [],
   "source": [
    "df_bm1['length_gmean'] = df_bm1['Length'].astype(str).apply(size_to_num)\n",
    "df_bm1['width_gmean'] = df_bm1['Width'].astype(str).apply(size_to_num)"
   ]
  },
  {
   "cell_type": "code",
   "execution_count": 95,
   "metadata": {},
   "outputs": [],
   "source": [
    "df_bm1['length_amean'] = df_bm1['Length'].astype(str).apply(size_to_num2)\n",
    "df_bm1['width_amean'] = df_bm1['Width'].astype(str).apply(size_to_num2)"
   ]
  },
  {
   "cell_type": "markdown",
   "metadata": {},
   "source": [
    "Ensure that length is greater than or equal to width."
   ]
  },
  {
   "cell_type": "code",
   "execution_count": 96,
   "metadata": {},
   "outputs": [],
   "source": [
    "df_bm1[['length_gmean', 'width_gmean']] = df_bm1[['length_gmean', 'width_gmean']].apply(\n",
    "    lambda x: pd.Series([max(x), min(x)]), axis=1)"
   ]
  },
  {
   "cell_type": "code",
   "execution_count": 97,
   "metadata": {},
   "outputs": [],
   "source": [
    "df_bm1[['length_amean', 'width_amean']] = df_bm1[['length_amean', 'width_amean']].apply(\n",
    "    lambda x: pd.Series([max(x), min(x)]), axis=1)"
   ]
  },
  {
   "cell_type": "markdown",
   "metadata": {},
   "source": [
    "### Data distribution"
   ]
  },
  {
   "cell_type": "code",
   "execution_count": 98,
   "metadata": {},
   "outputs": [
    {
     "data": {
      "image/png": "[encoded data removed]",
      "text/plain": [
       "<Figure size 550x300 with 1 Axes>"
      ]
     },
     "metadata": {},
     "output_type": "display_data"
    }
   ],
   "source": [
    "plt.figure(figsize = (5.5, 3))\n",
    "plt.hist(df_bm1['length_gmean'].apply(np.log10), alpha = 0.5, label = 'Geometric mean')\n",
    "plt.hist(df_bm1['length_amean'].apply(np.log10), alpha = 0.5, label = 'Arithmetic mean')\n",
    "plt.xlabel(f'Log (Length, {mu}m)')\n",
    "plt.ylabel('Number of entries')\n",
    "plt.legend()\n",
    "plt.tick_params(top = True, right = True, direction = 'in', which = 'both')\n",
    "plt.show()"
   ]
  },
  {
   "cell_type": "code",
   "execution_count": 99,
   "metadata": {},
   "outputs": [
    {
     "data": {
      "image/png": "[encoded data removed]",
      "text/plain": [
       "<Figure size 550x300 with 1 Axes>"
      ]
     },
     "metadata": {},
     "output_type": "display_data"
    }
   ],
   "source": [
    "plt.figure(figsize = (5.5, 3))\n",
    "plt.hist(df_bm1['width_gmean'].apply(np.log10), alpha = 0.5, label = 'Geometric mean')\n",
    "plt.hist(df_bm1['width_amean'].apply(np.log10), alpha = 0.5, label = 'Arithmetic mean')\n",
    "plt.xlabel(f'Log (Width, {mu}m)')\n",
    "plt.ylabel('Number of entries')\n",
    "plt.legend()\n",
    "plt.tick_params(top = True, right = True, direction = 'in', which = 'both')\n",
    "plt.show()"
   ]
  },
  {
   "cell_type": "markdown",
   "metadata": {},
   "source": [
    "Drop entries already present in bacdive"
   ]
  },
  {
   "cell_type": "code",
   "execution_count": 100,
   "metadata": {},
   "outputs": [],
   "source": [
    "df_bm1 = df_bm1.drop([10, 11])"
   ]
  },
  {
   "cell_type": "code",
   "execution_count": 101,
   "metadata": {},
   "outputs": [
    {
     "data": {
      "text/plain": [
       "(103, 12)"
      ]
     },
     "execution_count": 101,
     "metadata": {},
     "output_type": "execute_result"
    }
   ],
   "source": [
    "df_bm1.shape"
   ]
  },
  {
   "cell_type": "markdown",
   "metadata": {},
   "source": [
    "Calculate volume and surface area"
   ]
  },
  {
   "cell_type": "code",
   "execution_count": 102,
   "metadata": {},
   "outputs": [],
   "source": [
    "df_bm1['volume_gmean'] = np.pi * (df_bm1['width_gmean'] / 2) ** 2 * ((4 / 3) * (df_bm1['width_gmean'] / 2) + (df_bm1['length_gmean'] - df_bm1['width_gmean']))\n",
    "df_bm1['surface_gmean'] = 2 * np.pi * (df_bm1['width_gmean'] / 2) * (2 * (df_bm1['width_gmean'] / 2) + (df_bm1['length_gmean'] - df_bm1['width_gmean']))\n",
    "# df_bm1['svratio_gmean'] = df_bm1['surface_gmean'] / df_bm1['volume_gmean']\n",
    "# df_bm1['vsratio_gmean'] = df_bm1['volume_gmean'] / df_bm1['surface_gmean']"
   ]
  },
  {
   "cell_type": "code",
   "execution_count": 103,
   "metadata": {},
   "outputs": [],
   "source": [
    "df_bm1['volume_amean'] = np.pi * (df_bm1['width_amean'] / 2) ** 2 * ((4 / 3) * (df_bm1['width_amean'] / 2) + (df_bm1['length_amean'] - df_bm1['width_amean']))\n",
    "df_bm1['surface_amean'] = 2 * np.pi * (df_bm1['width_amean'] / 2) * (2 * (df_bm1['width_amean'] / 2) + (df_bm1['length_amean'] - df_bm1['width_amean']))\n",
    "# df_bm1['svratio_amean'] = df_bm1['surface_amean'] / df_bm1['volume_amean']\n",
    "# df_bm1['vsratio_amean'] = df_bm1['volume_amean'] / df_bm1['surface_amean']"
   ]
  },
  {
   "cell_type": "markdown",
   "metadata": {},
   "source": [
    "Get ranges"
   ]
  },
  {
   "cell_type": "code",
   "execution_count": 104,
   "metadata": {},
   "outputs": [],
   "source": [
    "df_bm1['length_ranges'] = df_bm1['Length'].astype(str).apply(size_to_range)\n",
    "df_bm1['width_ranges'] = df_bm1['Width'].astype(str).apply(size_to_range)"
   ]
  },
  {
   "cell_type": "markdown",
   "metadata": {},
   "source": [
    "Fix ranges"
   ]
  },
  {
   "cell_type": "code",
   "execution_count": 105,
   "metadata": {},
   "outputs": [],
   "source": [
    "df_bm1['length_ranges_fix'] = df_bm1.apply(lambda x: order(x, 'length'), axis = 1)\n",
    "df_bm1['width_ranges_fix'] = df_bm1.apply(lambda x: order(x, 'width'), axis = 1)"
   ]
  },
  {
   "cell_type": "markdown",
   "metadata": {},
   "source": [
    "Save dataframe"
   ]
  },
  {
   "cell_type": "code",
   "execution_count": 106,
   "metadata": {},
   "outputs": [],
   "source": [
    "# Set a new index\n",
    "df_bm1.set_index(np.arange(0, df_bm1.shape[0]), inplace = True)"
   ]
  },
  {
   "cell_type": "code",
   "execution_count": 107,
   "metadata": {},
   "outputs": [],
   "source": [
    "df_bm1.to_csv('preprocess/data_bm1.tsv', sep = '\\t')"
   ]
  },
  {
   "cell_type": "markdown",
   "metadata": {},
   "source": [
    "### Volume 4"
   ]
  },
  {
   "cell_type": "code",
   "execution_count": 108,
   "metadata": {},
   "outputs": [
    {
     "data": {
      "text/plain": [
       "(438, 8)"
      ]
     },
     "execution_count": 108,
     "metadata": {},
     "output_type": "execute_result"
    }
   ],
   "source": [
    "df_bm4 = pd.read_csv('../preprocess/BMvol4.csv', sep = ',')\n",
    "df_bm4.shape"
   ]
  },
  {
   "cell_type": "markdown",
   "metadata": {},
   "source": [
    "Drop entries without shape"
   ]
  },
  {
   "cell_type": "code",
   "execution_count": 109,
   "metadata": {},
   "outputs": [
    {
     "data": {
      "text/plain": [
       "(408, 8)"
      ]
     },
     "execution_count": 109,
     "metadata": {},
     "output_type": "execute_result"
    }
   ],
   "source": [
    "df_bm4 = df_bm4.dropna(subset = ['Shape'])\n",
    "df_bm4.shape"
   ]
  },
  {
   "cell_type": "markdown",
   "metadata": {},
   "source": [
    "Drop entries without length and width"
   ]
  },
  {
   "cell_type": "code",
   "execution_count": 110,
   "metadata": {},
   "outputs": [
    {
     "data": {
      "text/plain": [
       "(401, 8)"
      ]
     },
     "execution_count": 110,
     "metadata": {},
     "output_type": "execute_result"
    }
   ],
   "source": [
    "df_bm4 = df_bm4.dropna(subset = ['Length', 'Width'], how = 'all')\n",
    "df_bm4.shape"
   ]
  },
  {
   "cell_type": "markdown",
   "metadata": {},
   "source": [
    "Drop entries of subspecies"
   ]
  },
  {
   "cell_type": "code",
   "execution_count": 111,
   "metadata": {},
   "outputs": [
    {
     "data": {
      "text/plain": [
       "(385, 8)"
      ]
     },
     "execution_count": 111,
     "metadata": {},
     "output_type": "execute_result"
    }
   ],
   "source": [
    "df_bm4 = df_bm4[df_bm4['Subspecies'] != 'Yes'].copy()\n",
    "df_bm4.shape"
   ]
  },
  {
   "cell_type": "markdown",
   "metadata": {},
   "source": [
    "Make sure that spherical shapes have length and width."
   ]
  },
  {
   "cell_type": "code",
   "execution_count": 112,
   "metadata": {},
   "outputs": [],
   "source": [
    "tmp = df_bm4[df_bm4['Shape'].str.contains('spher')]"
   ]
  },
  {
   "cell_type": "code",
   "execution_count": 113,
   "metadata": {},
   "outputs": [
    {
     "data": {
      "text/plain": [
       "(0, 8)"
      ]
     },
     "execution_count": 113,
     "metadata": {},
     "output_type": "execute_result"
    }
   ],
   "source": [
    "tmp[tmp['Width'].isnull()].shape"
   ]
  },
  {
   "cell_type": "code",
   "execution_count": 114,
   "metadata": {},
   "outputs": [
    {
     "data": {
      "text/plain": [
       "(0, 8)"
      ]
     },
     "execution_count": 114,
     "metadata": {},
     "output_type": "execute_result"
    }
   ],
   "source": [
    "tmp[tmp['Length'].isnull()].shape"
   ]
  },
  {
   "cell_type": "markdown",
   "metadata": {},
   "source": [
    "Drop entries without length or width"
   ]
  },
  {
   "cell_type": "code",
   "execution_count": 115,
   "metadata": {},
   "outputs": [
    {
     "data": {
      "text/plain": [
       "(373, 8)"
      ]
     },
     "execution_count": 115,
     "metadata": {},
     "output_type": "execute_result"
    }
   ],
   "source": [
    "df_bm4 = df_bm4.dropna(subset = ['Length', 'Width'], how = 'any')\n",
    "df_bm4.shape"
   ]
  },
  {
   "cell_type": "markdown",
   "metadata": {},
   "source": [
    "Standardize length and width values:\n",
    "\n",
    "- For ranges (e.g., 4-8), take geometric mean\n",
    "- For minimum / maximum values, take boundary.\n",
    "- There are some exceptions. The following code deals with exceptions."
   ]
  },
  {
   "cell_type": "code",
   "execution_count": 116,
   "metadata": {},
   "outputs": [],
   "source": [
    "df_bm4['length_gmean'] = df_bm4['Length'].astype(str).apply(size_to_num)\n",
    "df_bm4['width_gmean'] = df_bm4['Width'].astype(str).apply(size_to_num)"
   ]
  },
  {
   "cell_type": "code",
   "execution_count": 117,
   "metadata": {},
   "outputs": [],
   "source": [
    "df_bm4['length_amean'] = df_bm4['Length'].astype(str).apply(size_to_num2)\n",
    "df_bm4['width_amean'] = df_bm4['Width'].astype(str).apply(size_to_num2)"
   ]
  },
  {
   "cell_type": "markdown",
   "metadata": {},
   "source": [
    "Ensure that length is greater than or equal to width."
   ]
  },
  {
   "cell_type": "code",
   "execution_count": 118,
   "metadata": {},
   "outputs": [],
   "source": [
    "df_bm4[['length_gmean', 'width_gmean']] = df_bm4[['length_gmean', 'width_gmean']].apply(\n",
    "    lambda x: pd.Series([max(x), min(x)]), axis=1)"
   ]
  },
  {
   "cell_type": "code",
   "execution_count": 119,
   "metadata": {},
   "outputs": [],
   "source": [
    "df_bm4[['length_amean', 'width_amean']] = df_bm4[['length_amean', 'width_amean']].apply(\n",
    "    lambda x: pd.Series([max(x), min(x)]), axis=1)"
   ]
  },
  {
   "cell_type": "markdown",
   "metadata": {},
   "source": [
    "### Data distribution"
   ]
  },
  {
   "cell_type": "code",
   "execution_count": 120,
   "metadata": {},
   "outputs": [
    {
     "data": {
      "image/png": "[encoded data removed]",
      "text/plain": [
       "<Figure size 550x300 with 1 Axes>"
      ]
     },
     "metadata": {},
     "output_type": "display_data"
    }
   ],
   "source": [
    "plt.figure(figsize = (5.5, 3))\n",
    "plt.hist(df_bm4['length_gmean'].apply(np.log10), alpha = 0.5, label = 'Geometric mean')\n",
    "plt.hist(df_bm4['length_amean'].apply(np.log10), alpha = 0.5, label = 'Arithmetic mean')\n",
    "plt.xlabel(f'Log (Length, {mu}m)')\n",
    "plt.ylabel('Number of entries')\n",
    "plt.legend()\n",
    "plt.tick_params(top = True, right = True, direction = 'in', which = 'both')\n",
    "plt.show()"
   ]
  },
  {
   "cell_type": "code",
   "execution_count": 121,
   "metadata": {},
   "outputs": [
    {
     "data": {
      "image/png": "[encoded data removed]",
      "text/plain": [
       "<Figure size 550x300 with 1 Axes>"
      ]
     },
     "metadata": {},
     "output_type": "display_data"
    }
   ],
   "source": [
    "plt.figure(figsize = (5.5, 3))\n",
    "plt.hist(df_bm4['width_gmean'].apply(np.log10), alpha = 0.5, label = 'Geometric mean')\n",
    "plt.hist(df_bm4['width_amean'].apply(np.log10), alpha = 0.5, label = 'Arithmetic mean')\n",
    "plt.xlabel(f'Log (Width, {mu}m)')\n",
    "plt.ylabel('Number of entries')\n",
    "plt.legend()\n",
    "plt.tick_params(top = True, right = True, direction = 'in', which = 'both')\n",
    "plt.show()"
   ]
  },
  {
   "cell_type": "markdown",
   "metadata": {},
   "source": [
    "Drop redundant entries"
   ]
  },
  {
   "cell_type": "code",
   "execution_count": 122,
   "metadata": {},
   "outputs": [],
   "source": [
    "df_bm4.drop([55, 143, 144, 145], inplace = True)\n",
    "df_bm4.at[142, 'Name'] = 'Leptospira genomospecies'"
   ]
  },
  {
   "cell_type": "markdown",
   "metadata": {},
   "source": [
    "Drop species already present in BacDive"
   ]
  },
  {
   "cell_type": "code",
   "execution_count": 123,
   "metadata": {},
   "outputs": [],
   "source": [
    "df_bm4 = df_bm4.drop([ 30, 31, 33,  47,  84,  95, 108, 109, 369, 370, \n",
    "                      374, 379, 392, 394, 397, 398, 399, 400, 401, 402, 403, 435, 436])"
   ]
  },
  {
   "cell_type": "code",
   "execution_count": 124,
   "metadata": {},
   "outputs": [
    {
     "data": {
      "text/plain": [
       "(346, 12)"
      ]
     },
     "execution_count": 124,
     "metadata": {},
     "output_type": "execute_result"
    }
   ],
   "source": [
    "df_bm4.shape"
   ]
  },
  {
   "cell_type": "markdown",
   "metadata": {},
   "source": [
    "Calculate volume and surface area"
   ]
  },
  {
   "cell_type": "code",
   "execution_count": 125,
   "metadata": {},
   "outputs": [],
   "source": [
    "df_bm4['volume_gmean'] = np.pi * (df_bm4['width_gmean'] / 2) ** 2 * ((4 / 3) * (df_bm4['width_gmean'] / 2) + (df_bm4['length_gmean'] - df_bm4['width_gmean']))\n",
    "df_bm4['surface_gmean'] = 2 * np.pi * (df_bm4['width_gmean'] / 2) * (2 * (df_bm4['width_gmean'] / 2) + (df_bm4['length_gmean'] - df_bm4['width_gmean']))\n",
    "# df_bm4['svratio_gmean'] = df_bm4['surface_gmean'] / df_bm4['volume_gmean']\n",
    "# df_bm4['vsratio_gmean'] = df_bm4['volume_gmean'] / df_bm4['surface_gmean']"
   ]
  },
  {
   "cell_type": "code",
   "execution_count": 126,
   "metadata": {},
   "outputs": [],
   "source": [
    "df_bm4['volume_amean'] = np.pi * (df_bm4['width_amean'] / 2) ** 2 * ((4 / 3) * (df_bm4['width_amean'] / 2) + (df_bm4['length_amean'] - df_bm4['width_amean']))\n",
    "df_bm4['surface_amean'] = 2 * np.pi * (df_bm4['width_amean'] / 2) * (2 * (df_bm4['width_amean'] / 2) + (df_bm4['length_amean'] - df_bm4['width_amean']))\n",
    "# df_bm4['svratio_amean'] = df_bm4['surface_amean'] / df_bm4['volume_amean']\n",
    "# df_bm4['vsratio_amean'] = df_bm4['volume_amean'] / df_bm4['surface_amean']"
   ]
  },
  {
   "cell_type": "markdown",
   "metadata": {},
   "source": [
    "Get ranges"
   ]
  },
  {
   "cell_type": "code",
   "execution_count": 127,
   "metadata": {},
   "outputs": [],
   "source": [
    "df_bm4['length_ranges'] = df_bm4['Length'].astype(str).apply(size_to_range)\n",
    "df_bm4['width_ranges'] = df_bm4['Width'].astype(str).apply(size_to_range)"
   ]
  },
  {
   "cell_type": "markdown",
   "metadata": {},
   "source": [
    "Fix ranges"
   ]
  },
  {
   "cell_type": "code",
   "execution_count": 128,
   "metadata": {},
   "outputs": [],
   "source": [
    "df_bm4['length_ranges_fix'] = df_bm4.apply(lambda x: order(x, 'length'), axis = 1)\n",
    "df_bm4['width_ranges_fix'] = df_bm4.apply(lambda x: order(x, 'width'), axis = 1)"
   ]
  },
  {
   "cell_type": "markdown",
   "metadata": {},
   "source": [
    "Save dataframe"
   ]
  },
  {
   "cell_type": "code",
   "execution_count": 129,
   "metadata": {},
   "outputs": [],
   "source": [
    "# Set a new index\n",
    "df_bm4.set_index(np.arange(0, df_bm4.shape[0]), inplace = True)"
   ]
  },
  {
   "cell_type": "code",
   "execution_count": 130,
   "metadata": {},
   "outputs": [],
   "source": [
    "df_bm4.to_csv('preprocess/data_bm4.tsv', sep = '\\t')"
   ]
  },
  {
   "cell_type": "markdown",
   "metadata": {},
   "source": [
    "### Volume 5"
   ]
  },
  {
   "cell_type": "code",
   "execution_count": 131,
   "metadata": {},
   "outputs": [
    {
     "data": {
      "text/plain": [
       "(918, 7)"
      ]
     },
     "execution_count": 131,
     "metadata": {},
     "output_type": "execute_result"
    }
   ],
   "source": [
    "df_bm5 = pd.read_excel('../preprocess/BMvol5.csv')\n",
    "df_bm5.shape"
   ]
  },
  {
   "cell_type": "markdown",
   "metadata": {},
   "source": [
    "Drop entries without shape"
   ]
  },
  {
   "cell_type": "code",
   "execution_count": 132,
   "metadata": {},
   "outputs": [
    {
     "data": {
      "text/plain": [
       "(760, 7)"
      ]
     },
     "execution_count": 132,
     "metadata": {},
     "output_type": "execute_result"
    }
   ],
   "source": [
    "df_bm5 = df_bm5.dropna(subset = ['shape'])\n",
    "df_bm5.shape"
   ]
  },
  {
   "cell_type": "markdown",
   "metadata": {},
   "source": [
    "Drop entries without length and width\n"
   ]
  },
  {
   "cell_type": "code",
   "execution_count": 133,
   "metadata": {},
   "outputs": [
    {
     "data": {
      "text/plain": [
       "(467, 7)"
      ]
     },
     "execution_count": 133,
     "metadata": {},
     "output_type": "execute_result"
    }
   ],
   "source": [
    "df_bm5 = df_bm5.dropna(subset = ['length mum', 'width mum'], how = 'all')\n",
    "df_bm5.shape"
   ]
  },
  {
   "cell_type": "markdown",
   "metadata": {},
   "source": [
    "If shape is rods-coccus and there is a single value for cell dimension (length or width), add the remaining value (because the other shape is coccus ~ sphere)\n"
   ]
  },
  {
   "cell_type": "code",
   "execution_count": 134,
   "metadata": {},
   "outputs": [],
   "source": [
    "tmp = df_bm5[df_bm5['shape'] == 'rods-coccus'][['length mum', 'width mum']]"
   ]
  },
  {
   "cell_type": "code",
   "execution_count": 135,
   "metadata": {},
   "outputs": [
    {
     "data": {
      "text/html": [
       "<div>\n",
       "<style scoped>\n",
       "    .dataframe tbody tr th:only-of-type {\n",
       "        vertical-align: middle;\n",
       "    }\n",
       "\n",
       "    .dataframe tbody tr th {\n",
       "        vertical-align: top;\n",
       "    }\n",
       "\n",
       "    .dataframe thead th {\n",
       "        text-align: right;\n",
       "    }\n",
       "</style>\n",
       "<table border=\"1\" class=\"dataframe\">\n",
       "  <thead>\n",
       "    <tr style=\"text-align: right;\">\n",
       "      <th></th>\n",
       "      <th>length mum</th>\n",
       "      <th>width mum</th>\n",
       "    </tr>\n",
       "  </thead>\n",
       "  <tbody>\n",
       "  </tbody>\n",
       "</table>\n",
       "</div>"
      ],
      "text/plain": [
       "Empty DataFrame\n",
       "Columns: [length mum, width mum]\n",
       "Index: []"
      ]
     },
     "execution_count": 135,
     "metadata": {},
     "output_type": "execute_result"
    }
   ],
   "source": [
    "tmp[tmp.isna().any(axis=1)]"
   ]
  },
  {
   "cell_type": "markdown",
   "metadata": {},
   "source": [
    "If shape is coccus-bacilli and there is a single value for cell dimension (length or width), add the remaining value (because the other shape is coccus ~ sphere)"
   ]
  },
  {
   "cell_type": "code",
   "execution_count": 136,
   "metadata": {},
   "outputs": [],
   "source": [
    "tmp = df_bm5[df_bm5['shape'] == 'coccus-bacilli'][['length mum', 'width mum']]"
   ]
  },
  {
   "cell_type": "code",
   "execution_count": 137,
   "metadata": {},
   "outputs": [
    {
     "data": {
      "text/html": [
       "<div>\n",
       "<style scoped>\n",
       "    .dataframe tbody tr th:only-of-type {\n",
       "        vertical-align: middle;\n",
       "    }\n",
       "\n",
       "    .dataframe tbody tr th {\n",
       "        vertical-align: top;\n",
       "    }\n",
       "\n",
       "    .dataframe thead th {\n",
       "        text-align: right;\n",
       "    }\n",
       "</style>\n",
       "<table border=\"1\" class=\"dataframe\">\n",
       "  <thead>\n",
       "    <tr style=\"text-align: right;\">\n",
       "      <th></th>\n",
       "      <th>length mum</th>\n",
       "      <th>width mum</th>\n",
       "    </tr>\n",
       "  </thead>\n",
       "  <tbody>\n",
       "    <tr>\n",
       "      <th>278</th>\n",
       "      <td>1.2-1.4</td>\n",
       "      <td>NaN</td>\n",
       "    </tr>\n",
       "  </tbody>\n",
       "</table>\n",
       "</div>"
      ],
      "text/plain": [
       "    length mum width mum\n",
       "278    1.2-1.4       NaN"
      ]
     },
     "execution_count": 137,
     "metadata": {},
     "output_type": "execute_result"
    }
   ],
   "source": [
    "tmp[tmp.isna().any(axis=1)]"
   ]
  },
  {
   "cell_type": "code",
   "execution_count": 138,
   "metadata": {},
   "outputs": [],
   "source": [
    "df_bm5.at[278, 'width mum'] = '1.2-1.4'"
   ]
  },
  {
   "cell_type": "markdown",
   "metadata": {},
   "source": [
    "Correct some error: rods\\s for rods\n"
   ]
  },
  {
   "cell_type": "code",
   "execution_count": 139,
   "metadata": {},
   "outputs": [
    {
     "data": {
      "text/html": [
       "<div>\n",
       "<style scoped>\n",
       "    .dataframe tbody tr th:only-of-type {\n",
       "        vertical-align: middle;\n",
       "    }\n",
       "\n",
       "    .dataframe tbody tr th {\n",
       "        vertical-align: top;\n",
       "    }\n",
       "\n",
       "    .dataframe thead th {\n",
       "        text-align: right;\n",
       "    }\n",
       "</style>\n",
       "<table border=\"1\" class=\"dataframe\">\n",
       "  <thead>\n",
       "    <tr style=\"text-align: right;\">\n",
       "      <th></th>\n",
       "      <th>rank</th>\n",
       "      <th>name</th>\n",
       "      <th>shape</th>\n",
       "      <th>length mum</th>\n",
       "      <th>width mum</th>\n",
       "      <th>diameter</th>\n",
       "      <th>Unnamed: 6</th>\n",
       "    </tr>\n",
       "  </thead>\n",
       "  <tbody>\n",
       "    <tr>\n",
       "      <th>262</th>\n",
       "      <td>species</td>\n",
       "      <td>mycobacterium vanbaallenii</td>\n",
       "      <td>rods</td>\n",
       "      <td>1.4</td>\n",
       "      <td>0.7</td>\n",
       "      <td>NaN</td>\n",
       "      <td>NaN</td>\n",
       "    </tr>\n",
       "    <tr>\n",
       "      <th>322</th>\n",
       "      <td>species</td>\n",
       "      <td>mycobacterium hodleri</td>\n",
       "      <td>rods</td>\n",
       "      <td>1.8-2.3</td>\n",
       "      <td>1</td>\n",
       "      <td>NaN</td>\n",
       "      <td>NaN</td>\n",
       "    </tr>\n",
       "  </tbody>\n",
       "</table>\n",
       "</div>"
      ],
      "text/plain": [
       "         rank                        name  shape length mum width mum  \\\n",
       "262  species   mycobacterium vanbaallenii  rods         1.4       0.7   \n",
       "322   species       mycobacterium hodleri  rods     1.8-2.3         1   \n",
       "\n",
       "     diameter Unnamed: 6  \n",
       "262       NaN        NaN  \n",
       "322       NaN        NaN  "
      ]
     },
     "execution_count": 139,
     "metadata": {},
     "output_type": "execute_result"
    }
   ],
   "source": [
    "df_bm5[df_bm5['shape'] == 'rods ']"
   ]
  },
  {
   "cell_type": "code",
   "execution_count": 140,
   "metadata": {},
   "outputs": [],
   "source": [
    "df_bm5.at[262, 'shape'] = 'rods'\n",
    "df_bm5.at[322, 'shape'] = 'rods'"
   ]
  },
  {
   "cell_type": "markdown",
   "metadata": {},
   "source": [
    "Drop entries with only one value for cell dimension (length or width) as this is not helpful to calculate the volume or surface."
   ]
  },
  {
   "cell_type": "code",
   "execution_count": 141,
   "metadata": {},
   "outputs": [
    {
     "data": {
      "text/plain": [
       "(426, 7)"
      ]
     },
     "execution_count": 141,
     "metadata": {},
     "output_type": "execute_result"
    }
   ],
   "source": [
    "df_bm5 = df_bm5.dropna(subset = ['length mum', 'width mum'], how = 'any').copy()\n",
    "df_bm5.shape"
   ]
  },
  {
   "cell_type": "markdown",
   "metadata": {},
   "source": [
    "Drop records with rank != species"
   ]
  },
  {
   "cell_type": "code",
   "execution_count": 142,
   "metadata": {},
   "outputs": [
    {
     "data": {
      "text/plain": [
       "(424, 7)"
      ]
     },
     "execution_count": 142,
     "metadata": {},
     "output_type": "execute_result"
    }
   ],
   "source": [
    "df_bm5 = df_bm5[df_bm5['rank'].str.contains('species')].copy()\n",
    "df_bm5.shape"
   ]
  },
  {
   "cell_type": "markdown",
   "metadata": {},
   "source": [
    "Fix a typo"
   ]
  },
  {
   "cell_type": "code",
   "execution_count": 143,
   "metadata": {},
   "outputs": [],
   "source": [
    "df_bm5.at[476, 'length mum'] = '5.0-20.0'"
   ]
  },
  {
   "cell_type": "markdown",
   "metadata": {},
   "source": [
    "Rename columms"
   ]
  },
  {
   "cell_type": "code",
   "execution_count": 144,
   "metadata": {},
   "outputs": [],
   "source": [
    "df_bm5.rename(columns = {'length mum': 'Length', 'width mum': 'Width', 'name': 'Name'}, inplace = True)"
   ]
  },
  {
   "cell_type": "code",
   "execution_count": 145,
   "metadata": {},
   "outputs": [
    {
     "data": {
      "text/plain": [
       "(424, 7)"
      ]
     },
     "execution_count": 145,
     "metadata": {},
     "output_type": "execute_result"
    }
   ],
   "source": [
    "df_bm5.shape"
   ]
  },
  {
   "cell_type": "markdown",
   "metadata": {},
   "source": [
    "Standardize length and width values:\n",
    "\n",
    "- For ranges (e.g., 4-8), take geometric mean\n",
    "- For minimum / maximum values, take boundary.\n",
    "- There are some exceptions. The following code deals with exceptions."
   ]
  },
  {
   "cell_type": "code",
   "execution_count": 146,
   "metadata": {},
   "outputs": [],
   "source": [
    "df_bm5['length_gmean'] = df_bm5['Length'].astype(str).apply(size_to_num)\n",
    "df_bm5['width_gmean'] = df_bm5['Width'].astype(str).apply(size_to_num)"
   ]
  },
  {
   "cell_type": "code",
   "execution_count": 147,
   "metadata": {},
   "outputs": [],
   "source": [
    "df_bm5['length_amean'] = df_bm5['Length'].astype(str).apply(size_to_num2)\n",
    "df_bm5['width_amean'] = df_bm5['Width'].astype(str).apply(size_to_num2)"
   ]
  },
  {
   "cell_type": "markdown",
   "metadata": {},
   "source": [
    "Ensure that length is greater than or equal to width."
   ]
  },
  {
   "cell_type": "code",
   "execution_count": 148,
   "metadata": {},
   "outputs": [],
   "source": [
    "df_bm5[['length_gmean', 'width_gmean']] = df_bm5[['length_gmean', 'width_gmean']].apply(\n",
    "    lambda x: pd.Series([max(x), min(x)]), axis=1)"
   ]
  },
  {
   "cell_type": "code",
   "execution_count": 149,
   "metadata": {},
   "outputs": [],
   "source": [
    "df_bm5[['length_amean', 'width_amean']] = df_bm5[['length_amean', 'width_amean']].apply(\n",
    "    lambda x: pd.Series([max(x), min(x)]), axis=1)"
   ]
  },
  {
   "cell_type": "markdown",
   "metadata": {},
   "source": [
    "### Data distribution"
   ]
  },
  {
   "cell_type": "code",
   "execution_count": 150,
   "metadata": {},
   "outputs": [
    {
     "data": {
      "image/png": "[encoded data removed]",
      "text/plain": [
       "<Figure size 550x300 with 1 Axes>"
      ]
     },
     "metadata": {},
     "output_type": "display_data"
    }
   ],
   "source": [
    "plt.figure(figsize = (5.5, 3))\n",
    "plt.hist(df_bm5['length_gmean'].apply(np.log10), alpha = 0.5, label = 'Geometric mean')\n",
    "plt.hist(df_bm5['length_amean'].apply(np.log10), alpha = 0.5, label = 'Arithmetic mean')\n",
    "plt.xlabel(f'Log (Length, {mu}m)')\n",
    "plt.ylabel('Number of entries')\n",
    "plt.legend()\n",
    "plt.tick_params(top = True, right = True, direction = 'in', which = 'both')\n",
    "plt.show()"
   ]
  },
  {
   "cell_type": "code",
   "execution_count": 151,
   "metadata": {},
   "outputs": [
    {
     "data": {
      "image/png": "[encoded data removed]",
      "text/plain": [
       "<Figure size 550x300 with 1 Axes>"
      ]
     },
     "metadata": {},
     "output_type": "display_data"
    }
   ],
   "source": [
    "plt.figure(figsize = (5.5, 3))\n",
    "plt.hist(df_bm5['width_gmean'].apply(np.log10), alpha = 0.5, label = 'Geometric mean')\n",
    "plt.hist(df_bm5['width_amean'].apply(np.log10), alpha = 0.5, label = 'Arithmetic mean')\n",
    "plt.xlabel(f'Log (Width, {mu}m)')\n",
    "plt.ylabel('Number of entries')\n",
    "plt.legend()\n",
    "plt.tick_params(top = True, right = True, direction = 'in', which = 'both')\n",
    "plt.show()"
   ]
  },
  {
   "cell_type": "markdown",
   "metadata": {},
   "source": [
    "Drop species already present in BacDive"
   ]
  },
  {
   "cell_type": "code",
   "execution_count": 152,
   "metadata": {},
   "outputs": [],
   "source": [
    "df_bm5 = df_bm5.drop([20, 33, 51, 52, 62, 77, 80, 90, 95, 99, 100, 124, 126, 145, 172, 332, 349, 412, 464, 486, 512, 516, 518, 519, 525, 570, 584, 596,\n",
    " 609, 610, 615, 616, 617, 618, 620, 621, 632, 635, 639, 640, 642, 660, 676, 698, 701, 704, 708, 709, 717, 728, 730, 732, 736, 742, \n",
    " 743, 745, 747, 748, 749, 752, 753, 755, 756, 758, 759, 760, 761, 764, 765, 766, 772, 774, 775, 776, 777, 781, 783, 784, 785, 787, \n",
    " 788, 798, 799, 801, 805, 808, 810, 811, 820, 829, 831, 842, 843, 844, 846, 849, 850, 851, 852, 853, 855, 858, 859, 860, 863, 864, \n",
    " 865, 866, 869, 870, 871, 872, 873, 874, 875, 877, 878, 879, 882, 883, 885, 886, 889, 891, 892, 893, 895, 896, 897, 899, 904, 912, \n",
    " 914, 915])"
   ]
  },
  {
   "cell_type": "code",
   "execution_count": 153,
   "metadata": {},
   "outputs": [
    {
     "data": {
      "text/plain": [
       "(290, 11)"
      ]
     },
     "execution_count": 153,
     "metadata": {},
     "output_type": "execute_result"
    }
   ],
   "source": [
    "df_bm5.shape"
   ]
  },
  {
   "cell_type": "markdown",
   "metadata": {},
   "source": [
    "Calculate volume and surface area"
   ]
  },
  {
   "cell_type": "code",
   "execution_count": 154,
   "metadata": {},
   "outputs": [],
   "source": [
    "df_bm5['volume_gmean'] = np.pi * (df_bm5['width_gmean'] / 2) ** 2 * ((4 / 3) * (df_bm5['width_gmean'] / 2) + (df_bm5['length_gmean'] - df_bm5['width_gmean']))\n",
    "df_bm5['surface_gmean'] = 2 * np.pi * (df_bm5['width_gmean'] / 2) * (2 * (df_bm5['width_gmean'] / 2) + (df_bm5['length_gmean'] - df_bm5['width_gmean']))\n",
    "# df_bm5['svratio_gmean'] = df_bm5['surface_gmean'] / df_bm5['volume_gmean']\n",
    "# df_bm5['vsratio_gmean'] = df_bm5['volume_gmean'] / df_bm5['surface_gmean']"
   ]
  },
  {
   "cell_type": "code",
   "execution_count": 155,
   "metadata": {},
   "outputs": [],
   "source": [
    "df_bm5['volume_amean'] = np.pi * (df_bm5['width_amean'] / 2) ** 2 * ((4 / 3) * (df_bm5['width_amean'] / 2) + (df_bm5['length_amean'] - df_bm5['width_amean']))\n",
    "df_bm5['surface_amean'] = 2 * np.pi * (df_bm5['width_amean'] / 2) * (2 * (df_bm5['width_amean'] / 2) + (df_bm5['length_amean'] - df_bm5['width_amean']))\n",
    "# df_bm5['svratio_amean'] = df_bm5['surface_amean'] / df_bm5['volume_amean']\n",
    "# df_bm5['vsratio_amean'] = df_bm5['volume_amean'] / df_bm5['surface_amean']"
   ]
  },
  {
   "cell_type": "markdown",
   "metadata": {},
   "source": [
    "Get ranges"
   ]
  },
  {
   "cell_type": "code",
   "execution_count": 156,
   "metadata": {},
   "outputs": [],
   "source": [
    "df_bm5['length_ranges'] = df_bm5['Length'].astype(str).apply(size_to_range)\n",
    "df_bm5['width_ranges'] = df_bm5['Width'].astype(str).apply(size_to_range)"
   ]
  },
  {
   "cell_type": "markdown",
   "metadata": {},
   "source": [
    "Fix ranges"
   ]
  },
  {
   "cell_type": "code",
   "execution_count": 157,
   "metadata": {},
   "outputs": [],
   "source": [
    "df_bm5['length_ranges_fix'] = df_bm5.apply(lambda x: order(x, 'length'), axis = 1)\n",
    "df_bm5['width_ranges_fix'] = df_bm5.apply(lambda x: order(x, 'width'), axis = 1)"
   ]
  },
  {
   "cell_type": "markdown",
   "metadata": {},
   "source": [
    "Save dataframe"
   ]
  },
  {
   "cell_type": "code",
   "execution_count": 158,
   "metadata": {},
   "outputs": [],
   "source": [
    "# Set a new index\n",
    "df_bm5.set_index(np.arange(0, df_bm5.shape[0]), inplace = True)"
   ]
  },
  {
   "cell_type": "code",
   "execution_count": 182,
   "metadata": {},
   "outputs": [
    {
     "data": {
      "text/plain": [
       "(290, 19)"
      ]
     },
     "execution_count": 182,
     "metadata": {},
     "output_type": "execute_result"
    }
   ],
   "source": [
    "df_bm5['Name'] = df_bm5['Name'].map(lambda x: x.split()[0].capitalize() + ' ' + x.split()[1])\n",
    "df_bm5.shape"
   ]
  },
  {
   "cell_type": "code",
   "execution_count": 183,
   "metadata": {},
   "outputs": [],
   "source": [
    "df_bm5.to_csv('preprocess/data_bm5.tsv', sep = '\\t')"
   ]
  },
  {
   "cell_type": "markdown",
   "metadata": {},
   "source": [
    "Combine volumes into a single dataset"
   ]
  },
  {
   "cell_type": "code",
   "execution_count": 160,
   "metadata": {},
   "outputs": [],
   "source": [
    "# df_bm = pd.concat([df_bm1, df_bm4, df_bm5])\n",
    "# df_bm.shape"
   ]
  },
  {
   "cell_type": "markdown",
   "metadata": {},
   "source": [
    "Standardize length and width values:\n",
    "\n",
    "* For ranges (e.g., `4-8`), take geometric mean\n",
    "* For minimum / maximum values, take boundary.\n",
    "* There are some exceptions. The following code deals with exceptions."
   ]
  },
  {
   "cell_type": "code",
   "execution_count": 161,
   "metadata": {},
   "outputs": [],
   "source": [
    "# df_bm['length_gmean'] = df_bm['Length'].astype(str).apply(size_to_num)\n",
    "# df_bm['width_gmean'] = df_bm['Width'].astype(str).apply(size_to_num)"
   ]
  },
  {
   "cell_type": "code",
   "execution_count": 162,
   "metadata": {},
   "outputs": [],
   "source": [
    "# df_bm['length_amean'] = df_bm['Length'].astype(str).apply(size_to_num2)\n",
    "# df_bm['width_amean'] = df_bm['Width'].astype(str).apply(size_to_num2)"
   ]
  },
  {
   "cell_type": "markdown",
   "metadata": {},
   "source": [
    "Ensure that length is greater than or equal to width."
   ]
  },
  {
   "cell_type": "code",
   "execution_count": 163,
   "metadata": {},
   "outputs": [],
   "source": [
    "# df_bm[['length_gmean', 'width_gmean']] = df_bm[['length_gmean', 'width_gmean']].apply(\n",
    "#     lambda x: pd.Series([max(x), min(x)]), axis = 1)"
   ]
  },
  {
   "cell_type": "code",
   "execution_count": 164,
   "metadata": {},
   "outputs": [],
   "source": [
    "# df_bm[['length_amean', 'width_amean']] = df_bm[['length_amean', 'width_amean']].apply(\n",
    "#     lambda x: pd.Series([max(x), min(x)]), axis=1)"
   ]
  },
  {
   "cell_type": "markdown",
   "metadata": {},
   "source": [
    "### Data distribution"
   ]
  },
  {
   "cell_type": "code",
   "execution_count": 165,
   "metadata": {},
   "outputs": [],
   "source": [
    "# plt.figure(figsize = (5.5, 3))\n",
    "# plt.hist(df_bm['length_gmean'].apply(np.log10), alpha = 0.5, label = 'Geometric mean')\n",
    "# plt.hist(df_bm['length_amean'].apply(np.log10), alpha = 0.5, label = 'Arithmetic mean')\n",
    "# plt.xlabel(f'Log (Length, {mu}m)')\n",
    "# plt.ylabel('Number of entries')\n",
    "# plt.legend()\n",
    "# plt.tick_params(top = True, right = True, direction = 'in', which = 'both')\n",
    "# plt.show()"
   ]
  },
  {
   "cell_type": "code",
   "execution_count": 166,
   "metadata": {},
   "outputs": [],
   "source": [
    "# plt.figure(figsize = (5.5, 3))\n",
    "# plt.hist(df_bm['width_gmean'].apply(np.log10), alpha = 0.5, label = 'Geometric mean')\n",
    "# plt.hist(df_bm['width_amean'].apply(np.log10), alpha = 0.5, label = 'Arithmetic mean')\n",
    "# plt.xlabel(f'Log (Width, {mu}m)')\n",
    "# plt.ylabel('Number of entries')\n",
    "# plt.legend()\n",
    "# plt.tick_params(top = True, right = True, direction = 'in', which = 'both')\n",
    "# plt.show()"
   ]
  },
  {
   "cell_type": "markdown",
   "metadata": {},
   "source": [
    "Calculate volume and surface area"
   ]
  },
  {
   "cell_type": "code",
   "execution_count": 167,
   "metadata": {},
   "outputs": [],
   "source": [
    "# df_bm['volume_gmean'] = np.pi * (df_bm['width_gmean'] / 2) ** 2 * ((4 / 3) * (df_bm['width_gmean'] / 2) + (df_bm['length_gmean'] - df_bm['width_gmean']))\n",
    "# df_bm['surface_gmean'] = 2 * np.pi * (df_bm['width_gmean'] / 2) * (2 * (df_bm['width_gmean'] / 2) + (df_bm['length_gmean'] - df_bm['width_gmean']))\n",
    "# df_bm['svratio_gmean'] = df_bm['surface_gmean'] / df_bm['volume_gmean']\n",
    "# df_bm['vsratio_gmean'] = df_bm['volume_gmean'] / df_bm['surface_gmean']"
   ]
  },
  {
   "cell_type": "code",
   "execution_count": 168,
   "metadata": {},
   "outputs": [],
   "source": [
    "# df_bm['volume_amean'] = np.pi * (df_bm['width_amean'] / 2) ** 2 * ((4 / 3) * (df_bm['width_amean'] / 2) + (df_bm['length_amean'] - df_bm['width_amean']))\n",
    "# df_bm['surface_amean'] = 2 * np.pi * (df_bm['width_amean'] / 2) * (2 * (df_bm['width_amean'] / 2) + (df_bm['length_amean'] - df_bm['width_amean']))\n",
    "# df_bm['svratio_amean'] = df_bm['surface_amean'] / df_bm['volume_amean']\n",
    "# df_bm['vsratio_amean'] = df_bm['volume_amean'] / df_bm['surface_amean']"
   ]
  },
  {
   "cell_type": "markdown",
   "metadata": {},
   "source": [
    "Get ranges"
   ]
  },
  {
   "cell_type": "code",
   "execution_count": 169,
   "metadata": {},
   "outputs": [],
   "source": [
    "# df_bm['length_ranges'] = df_bm['Length'].astype(str).apply(size_to_range)\n",
    "# df_bm['width_ranges'] = df_bm['Width'].astype(str).apply(size_to_range)"
   ]
  },
  {
   "cell_type": "markdown",
   "metadata": {},
   "source": [
    "Fix ranges"
   ]
  },
  {
   "cell_type": "code",
   "execution_count": 170,
   "metadata": {},
   "outputs": [],
   "source": [
    "# df_bm['length_ranges_fix'] = df_bm.apply(lambda x: order(x, 'length'), axis = 1)\n",
    "# df_bm['width_ranges_fix'] = df_bm.apply(lambda x: order(x, 'width'), axis = 1)"
   ]
  },
  {
   "cell_type": "markdown",
   "metadata": {},
   "source": [
    "# Plots"
   ]
  },
  {
   "cell_type": "code",
   "execution_count": 171,
   "metadata": {},
   "outputs": [],
   "source": [
    "# fig, ax = plt.subplots(2, 3, figsize = (15, 4), \n",
    "#                        sharey = False, sharex = True)\n",
    "\n",
    "# for i, metric in enumerate(['length', 'width']):\n",
    "#     for j, source in enumerate([df_bacd, df_pcc, df_bm]):\n",
    "#         ax[i, j].hist(source[f'{metric}_gmean'].apply(np.log10), alpha = 0.5, label = 'Geometric mean')\n",
    "#         ax[i, j].hist(source[f'{metric}_amean'].apply(np.log10), alpha = 0.5, label = 'Arithmetic mean')\n",
    "#         ax[i, j].legend()\n",
    "#         ax[i, j].set_xlabel(f'Log ({metric}, {mu}m)')\n",
    "#         ax[i, j].set_title(f'{j}')\n",
    "#         ax[i, j].tick_params(top = True, right = True, direction = 'in', which = 'both')"
   ]
  },
  {
   "cell_type": "code",
   "execution_count": 172,
   "metadata": {},
   "outputs": [],
   "source": [
    "# test = df_bm.sort_values(by = ['width_gmean'])[['Name', 'Length', 'Width', 'length_gmean', 'width_gmean', 'length_amean', 'width_amean']]"
   ]
  },
  {
   "cell_type": "code",
   "execution_count": 173,
   "metadata": {},
   "outputs": [],
   "source": [
    "# test['log_width_gmean'] = test['width_gmean'].apply(np.log10)\n",
    "# test['log_width_amean'] = test['width_amean'].apply(np.log10)"
   ]
  },
  {
   "cell_type": "code",
   "execution_count": 174,
   "metadata": {},
   "outputs": [],
   "source": [
    "# test.head(n = 60)"
   ]
  },
  {
   "cell_type": "markdown",
   "metadata": {},
   "source": [
    "**The choice of mean does produce a different result for ranges that expand two orders of magnitude, with the geometric mean assigning lower values compared to the arithmetic mean. The species most affected are *Mycoplasma***"
   ]
  },
  {
   "cell_type": "code",
   "execution_count": 175,
   "metadata": {},
   "outputs": [],
   "source": [
    "# np.random.seed(42)\n",
    "\n",
    "# ranges = df_pubmed['length_ranges_fix'].apply(lambda x: (np.log10(x[0]), np.log10(x[1]))).to_numpy() \n",
    "# means = df_pubmed['length_gmean'].apply(np.log10).to_numpy()\n",
    "\n",
    "# # Sample points\n",
    "# n = 50\n",
    "# sample_indices = np.random.choice(len(means), size = n, replace = False)\n",
    "# sampled_means = means[sample_indices]\n",
    "# sampled_ranges = ranges[sample_indices]\n",
    "\n",
    "# # Extract start and end points from ranges\n",
    "# err = [(end - start) / 2 for start, end in sampled_ranges]\n",
    "\n",
    "# # Violin plot\n",
    "# violins = plt.violinplot(means, showmeans = False, showextrema = False)\n",
    "# for pc in violins['bodies']:\n",
    "#     pc.set_facecolor('#d5ccc7')\n",
    "#     pc.set_edgecolor('black')\n",
    "#     pc.set_alpha(1)    \n",
    "# quartile1, medians, quartile3 = np.percentile(means, [25, 50, 75])\n",
    "# plt.scatter(1, np.mean(means), marker = 'o', color = 'black', s = 100, zorder = 3)\n",
    "\n",
    "\n",
    "# # Individuals means and ranges\n",
    "# # plt.scatter(np.random.normal(1, 0.03, len(sampled_means)), sampled_means,\n",
    "# #             c = '#ef476f', alpha = 1)\n",
    "# x_noise = np.random.normal(1, 0.03, len(sampled_means))\n",
    "# plt.errorbar(x_noise, sampled_means, yerr = err, fmt = 'o',\n",
    "#              capsize = 4, alpha = 0.6, color = '#26547c')\n",
    "# # plt.xlabel('Range Mean')\n",
    "# plt.ylabel(f'Log (Length {mu}m)')\n",
    "# plt.show()\n"
   ]
  },
  {
   "cell_type": "code",
   "execution_count": 176,
   "metadata": {},
   "outputs": [],
   "source": [
    "# np.random.seed(42)\n",
    "\n",
    "# ranges = df_bm['width_ranges_fix'].apply(lambda x: (np.log10(x[0]), np.log10(x[1]))).to_numpy() \n",
    "# means = df_bm['width_gmean'].apply(np.log10).to_numpy()\n",
    "\n",
    "# # Sample points\n",
    "# n = 50\n",
    "# sample_indices = np.random.choice(len(means), size = n, replace = False)\n",
    "# sampled_means = means[sample_indices]\n",
    "# sampled_ranges = ranges[sample_indices]\n",
    "\n",
    "# # Extract start and end points from ranges\n",
    "# err = [(end - start) / 2 for start, end in sampled_ranges]\n",
    "\n",
    "# # Violin plot\n",
    "# violins = plt.violinplot(means, showmeans = False, showextrema = False)\n",
    "# for pc in violins['bodies']:\n",
    "#     pc.set_facecolor('#d5ccc7')\n",
    "#     pc.set_edgecolor('black')\n",
    "#     pc.set_alpha(1)    \n",
    "# quartile1, medians, quartile3 = np.percentile(means, [25, 50, 75])\n",
    "# plt.scatter(1, np.mean(means), marker = 'o', color = 'black', s = 100, zorder = 3)\n",
    "\n",
    "\n",
    "# # Individuals means and ranges\n",
    "# # plt.scatter(np.random.normal(1, 0.03, len(sampled_means)), sampled_means,\n",
    "# #             c = '#ef476f', alpha = 1)\n",
    "# x_noise = np.random.normal(1, 0.03, len(sampled_means))\n",
    "# plt.errorbar(x_noise, sampled_means, yerr = err, fmt = 'o',\n",
    "#              capsize = 4, alpha = 0.6, color = '#26547c')\n",
    "# # plt.xlabel('Range Mean')\n",
    "# plt.ylabel(f'Log (Width {mu}m)')\n",
    "# plt.show()\n"
   ]
  },
  {
   "cell_type": "markdown",
   "metadata": {},
   "source": [
    "# Plot"
   ]
  },
  {
   "cell_type": "code",
   "execution_count": 177,
   "metadata": {},
   "outputs": [],
   "source": [
    "# data = [df_bacd, df_pcc, df_pubmed, df_bm]\n",
    "# ranges = []\n",
    "# means = []\n",
    "# for datum in data:\n",
    "#     ranges.append(datum['width_ranges_fix'].apply(lambda x: (np.log10(x[0]), np.log10(x[1]))).to_numpy())\n",
    "#     means.append(datum['width_gmean'].apply(np.log10).to_numpy())"
   ]
  },
  {
   "cell_type": "code",
   "execution_count": 178,
   "metadata": {},
   "outputs": [],
   "source": [
    "# ranges = np.array(ranges, dtype = object)\n",
    "# means = np.array(means, dtype = object)"
   ]
  },
  {
   "cell_type": "code",
   "execution_count": 179,
   "metadata": {},
   "outputs": [],
   "source": [
    "# colors = ['#264653', '#2a9d8f', '#e9c46a', '#f4a261']"
   ]
  },
  {
   "cell_type": "code",
   "execution_count": 180,
   "metadata": {},
   "outputs": [],
   "source": [
    "# np.random.seed(42)\n",
    "\n",
    "# plt.figure(figsize = (11, 5))\n",
    "\n",
    "# # Violinplot\n",
    "# violins = plt.violinplot(means, showextrema = False)\n",
    "# for i, pc in enumerate(violins['bodies']):\n",
    "#     pc.set_facecolor(colors[i])\n",
    "#     pc.set_edgecolor('black')\n",
    "#     pc.set_alpha(1)  \n",
    "# mus = [np.mean(x) for x in means]\n",
    "# inds = np.arange(1, len(mus) + 1)\n",
    "# plt.scatter(inds, mus, marker = 'o', color = 'white', s = 100, zorder = 3)\n",
    "\n",
    "# # Sample individual points for cell size\n",
    "# n = 50\n",
    "# for i, m, r in zip(inds, means, ranges):\n",
    "#     sample_indices = np.random.choice(len(m), size = n, replace = False)\n",
    "#     sampled_means = m[sample_indices]\n",
    "#     sampled_ranges = r[sample_indices]\n",
    "#     # Scatter plot\n",
    "#     x_noise = np.random.normal(i, 0.03, len(sampled_means))\n",
    "#     plt.errorbar(x_noise, sampled_means, yerr = err, fmt = 'o',\n",
    "#              capsize = 4, alpha = 0.6, color = 'k', zorder = 2)\n",
    "    \n",
    "# plt.xticks(inds, \n",
    "#            [f'Bacdive\\n(n = {len(means[0])})', f'PCC\\n(n = {len(means[1])})', \n",
    "#             f'PubMed\\n(n = {len(means[2])})', f'Bergey\\'s Manual\\n(n = {len(means[3])})'])\n",
    "\n",
    "# plt.show()"
   ]
  },
  {
   "cell_type": "code",
   "execution_count": null,
   "metadata": {},
   "outputs": [],
   "source": []
  },
  {
   "cell_type": "code",
   "execution_count": null,
   "metadata": {},
   "outputs": [],
   "source": []
  },
  {
   "cell_type": "code",
   "execution_count": null,
   "metadata": {},
   "outputs": [],
   "source": []
  },
  {
   "cell_type": "code",
   "execution_count": null,
   "metadata": {},
   "outputs": [],
   "source": []
  },
  {
   "cell_type": "code",
   "execution_count": null,
   "metadata": {},
   "outputs": [],
   "source": []
  },
  {
   "cell_type": "code",
   "execution_count": null,
   "metadata": {},
   "outputs": [],
   "source": []
  },
  {
   "cell_type": "code",
   "execution_count": null,
   "metadata": {},
   "outputs": [],
   "source": []
  },
  {
   "cell_type": "code",
   "execution_count": null,
   "metadata": {},
   "outputs": [],
   "source": []
  },
  {
   "cell_type": "code",
   "execution_count": null,
   "metadata": {},
   "outputs": [],
   "source": []
  },
  {
   "cell_type": "code",
   "execution_count": null,
   "metadata": {},
   "outputs": [],
   "source": []
  },
  {
   "cell_type": "code",
   "execution_count": null,
   "metadata": {},
   "outputs": [],
   "source": []
  },
  {
   "cell_type": "code",
   "execution_count": null,
   "metadata": {},
   "outputs": [],
   "source": []
  }
 ],
 "metadata": {
  "kernelspec": {
   "display_name": "Python 3 (ipykernel)",
   "language": "python",
   "name": "python3"
  },
  "language_info": {
   "codemirror_mode": {
    "name": "ipython",
    "version": 3
   },
   "file_extension": ".py",
   "mimetype": "text/x-python",
   "name": "python",
   "nbconvert_exporter": "python",
   "pygments_lexer": "ipython3",
   "version": "3.11.8"
  }
 },
 "nbformat": 4,
 "nbformat_minor": 4
}
