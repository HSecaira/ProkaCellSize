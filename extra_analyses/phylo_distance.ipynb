{
 "cells": [
  {
   "cell_type": "markdown",
   "id": "7213d1fe-6183-43be-926b-4e5a9bdd44a3",
   "metadata": {},
   "source": [
    "# Phylogenetic distance vs cell size and other genome properties"
   ]
  },
  {
   "cell_type": "markdown",
   "id": "b5fb27f1-4ef2-4b6a-9ff5-21ef50e826c1",
   "metadata": {},
   "source": [
    "### This notebook will assess the idea of phylogenetic signal (closely related species tend to have similar values for a given trait more than expected by chance) by looking at the raw data."
   ]
  },
  {
   "cell_type": "code",
   "execution_count": 1,
   "id": "31414f0a-1cb1-4310-bb7b-0eaea121d4a9",
   "metadata": {},
   "outputs": [],
   "source": [
    "# Imports\n",
    "import numpy as np\n",
    "import pandas as pd\n",
    "import os\n",
    "from skbio import TreeNode, DistanceMatrix\n",
    "import matplotlib.pyplot as plt\n",
    "from itertools import combinations\n",
    "from scipy.stats import spearmanr, pearsonr\n",
    "from matplotlib import colors as colorsm"
   ]
  },
  {
   "cell_type": "code",
   "execution_count": 2,
   "id": "cf524664-4034-4248-8bdd-7c6c417a175a",
   "metadata": {},
   "outputs": [],
   "source": [
    "from sklearn.model_selection import GridSearchCV\n",
    "from sklearn.linear_model import LinearRegression\n",
    "from sklearn.preprocessing import PolynomialFeatures\n",
    "from sklearn.pipeline import make_pipeline\n",
    "from sklearn.model_selection import train_test_split\n",
    "import statsmodels.api as sm"
   ]
  },
  {
   "cell_type": "code",
   "execution_count": 3,
   "id": "607011c6-18b3-4982-831a-1ae423fd3ee5",
   "metadata": {},
   "outputs": [],
   "source": [
    "from scipy.optimize import curve_fit\n",
    "from scipy.stats import norm, kstest, kruskal, levene, t, linregress, gaussian_kde"
   ]
  },
  {
   "cell_type": "code",
   "execution_count": 4,
   "id": "31da8f6c-5b7b-4c8b-8425-994422d88bb4",
   "metadata": {},
   "outputs": [],
   "source": [
    "plt.rcParams.update({\n",
    "    'figure.autolayout': True,\n",
    "    'savefig.bbox': 'tight',\n",
    "    'svg.fonttype': 'none',\n",
    "    'font.sans-serif': 'Arial',\n",
    "    'font.size': 15,\n",
    "    'boxplot.medianprops.linewidth': 2,\n",
    "    'boxplot.flierprops.markeredgecolor': 'none',\n",
    "    'boxplot.flierprops.markersize': 5})"
   ]
  },
  {
   "cell_type": "markdown",
   "id": "d4ba7ee0-740a-40a0-9e12-d44f34ea38b0",
   "metadata": {},
   "source": [
    "Load data"
   ]
  },
  {
   "cell_type": "code",
   "execution_count": 5,
   "id": "fff93f43-c679-4532-820b-5167d03505c2",
   "metadata": {},
   "outputs": [
    {
     "data": {
      "text/plain": [
       "(5380, 28)"
      ]
     },
     "execution_count": 5,
     "metadata": {},
     "output_type": "execute_result"
    }
   ],
   "source": [
    "df = pd.read_table('place/fine_all.tsv', index_col = 0)\n",
    "df.shape"
   ]
  },
  {
   "cell_type": "code",
   "execution_count": 6,
   "id": "93bd1a48-469f-4ef3-b201-e0ad5228ff59",
   "metadata": {},
   "outputs": [],
   "source": [
    "df['vsratio'] = df['volume_gmean'] / df['surface_gmean']\n",
    "df['log_vsratio'] = np.log10(df['vsratio'])"
   ]
  },
  {
   "cell_type": "code",
   "execution_count": 7,
   "id": "ec1c3935-d087-48ce-a5c5-19243f29dfde",
   "metadata": {},
   "outputs": [],
   "source": [
    "df['svratio'] = df['surface_gmean'] / df['volume_gmean']\n",
    "df['log_svratio'] = np.log10(df['svratio'])"
   ]
  },
  {
   "cell_type": "code",
   "execution_count": 8,
   "id": "53b8e186-91fd-4672-919d-5cc739b59dba",
   "metadata": {},
   "outputs": [],
   "source": [
    "df['log_volume'] = np.log10(df['volume_gmean'])\n",
    "df['log_surface'] = np.log10(df['surface_gmean'])"
   ]
  },
  {
   "cell_type": "code",
   "execution_count": 9,
   "id": "07d80383-3628-4454-9ddd-9c436a148705",
   "metadata": {},
   "outputs": [],
   "source": [
    "df['equivalent_spherical'] = np.cbrt((6 * df['volume_gmean']) / np.pi)\n",
    "df['log_equivalent_spherical'] = np.log10(df['equivalent_spherical'])"
   ]
  },
  {
   "cell_type": "markdown",
   "id": "c53209b2-42c6-437e-a1ba-718adcff721c",
   "metadata": {},
   "source": [
    "Load tree"
   ]
  },
  {
   "cell_type": "code",
   "execution_count": 10,
   "id": "a3e6df09-d1d2-46c5-acad-6446a1a1e18d",
   "metadata": {},
   "outputs": [
    {
     "data": {
      "text/plain": [
       "5380"
      ]
     },
     "execution_count": 10,
     "metadata": {},
     "output_type": "execute_result"
    }
   ],
   "source": [
    "tree = TreeNode.read('place/fine_all.nwk')\n",
    "tree.count(tips = True)"
   ]
  },
  {
   "cell_type": "markdown",
   "id": "5bbb6ffe-8fd6-4c96-8226-df0529c439b0",
   "metadata": {},
   "source": [
    "Calculate tip-to-tip distances"
   ]
  },
  {
   "cell_type": "code",
   "execution_count": 11,
   "id": "feec1999-1ac0-44c0-a392-0b0ec32e41c2",
   "metadata": {},
   "outputs": [
    {
     "data": {
      "text/plain": [
       "(5380, 5380)"
      ]
     },
     "execution_count": 11,
     "metadata": {},
     "output_type": "execute_result"
    }
   ],
   "source": [
    "dm = tree.tip_tip_distances()\n",
    "dm.shape"
   ]
  },
  {
   "cell_type": "markdown",
   "id": "ea7e50b8-639b-4d85-b21c-f15b966f3c8c",
   "metadata": {},
   "source": [
    "The difference in distance for every pair is calculated as follows:\n",
    "\n",
    "1. $\\frac{\\lvert a - b \\rvert}{\\text{max} - \\text{min}}$\n",
    "\n",
    "2. $\\frac{(a - b)^2}{(\\text{max} - \\text{min})^2}$\n",
    "\n",
    "* Metric 1 produces values higher than 1, which cannot are not defined by arcsin thereby producing NaN."
   ]
  },
  {
   "cell_type": "markdown",
   "id": "abd70737-4522-4506-80af-0cef7230a876",
   "metadata": {},
   "source": [
    "Get distances between every pair of tip"
   ]
  },
  {
   "cell_type": "code",
   "execution_count": 12,
   "id": "7b73a397-8fd5-48f2-804d-9ad1031d5ec7",
   "metadata": {},
   "outputs": [],
   "source": [
    "df = df.loc[list(dm.ids)]"
   ]
  },
  {
   "cell_type": "code",
   "execution_count": 13,
   "id": "32417ff3-1cb4-421e-81f1-9de258a0b8bd",
   "metadata": {},
   "outputs": [],
   "source": [
    "idx = df.index.tolist()"
   ]
  },
  {
   "cell_type": "code",
   "execution_count": 14,
   "id": "88d49e93-453b-46a7-bb5c-8f62bb14811f",
   "metadata": {},
   "outputs": [],
   "source": [
    "metrics = ['log_vsratio', 'log_svratio', 'log_volume', 'log_surface', 'log_equivalent_spherical']"
   ]
  },
  {
   "cell_type": "code",
   "execution_count": 15,
   "id": "24fc4744-a6fc-428b-b586-fc47cb7e4f26",
   "metadata": {},
   "outputs": [
    {
     "name": "stdout",
     "output_type": "stream",
     "text": [
      "CPU times: user 2min 53s, sys: 1.12 s, total: 2min 54s\n",
      "Wall time: 2min 55s\n"
     ]
    }
   ],
   "source": [
    "%%time\n",
    "tmp = {}\n",
    "tmp['pd_dist'] = dm.condensed_form()\n",
    "for metric in metrics:\n",
    "    max_size = np.max(df[metric])\n",
    "    min_size = np.min(df[metric])\n",
    "    s = df[metric].values\n",
    "    dm1 = DistanceMatrix.from_iterable(s, lambda a, b: np.abs(a - b) / (max_size - min_size), keys = idx, validate = False).condensed_form()\n",
    "    dm2 = DistanceMatrix.from_iterable(s, lambda a, b: (a - b) ** 2 / (max_size - min_size) ** 2, keys = idx, validate = False).condensed_form()\n",
    "        \n",
    "    # Add to tmp\n",
    "    tmp[f'diff_{metric}_n1'] = dm1\n",
    "    tmp[f'diff_{metric}_n2'] = dm2"
   ]
  },
  {
   "cell_type": "code",
   "execution_count": 16,
   "id": "030e8c1e-566e-4f80-9af0-b8b2d06bb8a6",
   "metadata": {},
   "outputs": [
    {
     "name": "stdout",
     "output_type": "stream",
     "text": [
      "CPU times: user 207 ms, sys: 338 ms, total: 546 ms\n",
      "Wall time: 562 ms\n"
     ]
    },
    {
     "data": {
      "text/plain": [
       "(14469510, 11)"
      ]
     },
     "execution_count": 16,
     "metadata": {},
     "output_type": "execute_result"
    }
   ],
   "source": [
    "%%time\n",
    "dfm = pd.DataFrame(tmp)\n",
    "dfm.shape"
   ]
  },
  {
   "cell_type": "code",
   "execution_count": 17,
   "id": "fbec6087-2d42-41eb-a1bf-e759a32804e8",
   "metadata": {},
   "outputs": [
    {
     "data": {
      "text/html": [
       "<div>\n",
       "<style scoped>\n",
       "    .dataframe tbody tr th:only-of-type {\n",
       "        vertical-align: middle;\n",
       "    }\n",
       "\n",
       "    .dataframe tbody tr th {\n",
       "        vertical-align: top;\n",
       "    }\n",
       "\n",
       "    .dataframe thead th {\n",
       "        text-align: right;\n",
       "    }\n",
       "</style>\n",
       "<table border=\"1\" class=\"dataframe\">\n",
       "  <thead>\n",
       "    <tr style=\"text-align: right;\">\n",
       "      <th></th>\n",
       "      <th>pd_dist</th>\n",
       "      <th>diff_log_vsratio_n1</th>\n",
       "      <th>diff_log_vsratio_n2</th>\n",
       "      <th>diff_log_svratio_n1</th>\n",
       "      <th>diff_log_svratio_n2</th>\n",
       "      <th>diff_log_volume_n1</th>\n",
       "      <th>diff_log_volume_n2</th>\n",
       "      <th>diff_log_surface_n1</th>\n",
       "      <th>diff_log_surface_n2</th>\n",
       "      <th>diff_log_equivalent_spherical_n1</th>\n",
       "      <th>diff_log_equivalent_spherical_n2</th>\n",
       "    </tr>\n",
       "  </thead>\n",
       "  <tbody>\n",
       "    <tr>\n",
       "      <th>0</th>\n",
       "      <td>0.084955</td>\n",
       "      <td>0.208098</td>\n",
       "      <td>0.043305</td>\n",
       "      <td>0.208098</td>\n",
       "      <td>0.043305</td>\n",
       "      <td>0.202950</td>\n",
       "      <td>0.041189</td>\n",
       "      <td>0.183873</td>\n",
       "      <td>0.033809</td>\n",
       "      <td>0.202950</td>\n",
       "      <td>0.041189</td>\n",
       "    </tr>\n",
       "    <tr>\n",
       "      <th>1</th>\n",
       "      <td>0.275433</td>\n",
       "      <td>0.223599</td>\n",
       "      <td>0.049997</td>\n",
       "      <td>0.223599</td>\n",
       "      <td>0.049997</td>\n",
       "      <td>0.218067</td>\n",
       "      <td>0.047553</td>\n",
       "      <td>0.197569</td>\n",
       "      <td>0.039033</td>\n",
       "      <td>0.218067</td>\n",
       "      <td>0.047553</td>\n",
       "    </tr>\n",
       "    <tr>\n",
       "      <th>2</th>\n",
       "      <td>0.275433</td>\n",
       "      <td>0.000000</td>\n",
       "      <td>0.000000</td>\n",
       "      <td>0.000000</td>\n",
       "      <td>0.000000</td>\n",
       "      <td>0.000000</td>\n",
       "      <td>0.000000</td>\n",
       "      <td>0.000000</td>\n",
       "      <td>0.000000</td>\n",
       "      <td>0.000000</td>\n",
       "      <td>0.000000</td>\n",
       "    </tr>\n",
       "    <tr>\n",
       "      <th>3</th>\n",
       "      <td>0.539253</td>\n",
       "      <td>0.208098</td>\n",
       "      <td>0.043305</td>\n",
       "      <td>0.208098</td>\n",
       "      <td>0.043305</td>\n",
       "      <td>0.202950</td>\n",
       "      <td>0.041189</td>\n",
       "      <td>0.183873</td>\n",
       "      <td>0.033809</td>\n",
       "      <td>0.202950</td>\n",
       "      <td>0.041189</td>\n",
       "    </tr>\n",
       "    <tr>\n",
       "      <th>4</th>\n",
       "      <td>0.674639</td>\n",
       "      <td>0.165702</td>\n",
       "      <td>0.027457</td>\n",
       "      <td>0.165702</td>\n",
       "      <td>0.027457</td>\n",
       "      <td>0.260095</td>\n",
       "      <td>0.067650</td>\n",
       "      <td>0.280265</td>\n",
       "      <td>0.078548</td>\n",
       "      <td>0.260095</td>\n",
       "      <td>0.067650</td>\n",
       "    </tr>\n",
       "  </tbody>\n",
       "</table>\n",
       "</div>"
      ],
      "text/plain": [
       "    pd_dist  diff_log_vsratio_n1  diff_log_vsratio_n2  diff_log_svratio_n1  \\\n",
       "0  0.084955             0.208098             0.043305             0.208098   \n",
       "1  0.275433             0.223599             0.049997             0.223599   \n",
       "2  0.275433             0.000000             0.000000             0.000000   \n",
       "3  0.539253             0.208098             0.043305             0.208098   \n",
       "4  0.674639             0.165702             0.027457             0.165702   \n",
       "\n",
       "   diff_log_svratio_n2  diff_log_volume_n1  diff_log_volume_n2  \\\n",
       "0             0.043305            0.202950            0.041189   \n",
       "1             0.049997            0.218067            0.047553   \n",
       "2             0.000000            0.000000            0.000000   \n",
       "3             0.043305            0.202950            0.041189   \n",
       "4             0.027457            0.260095            0.067650   \n",
       "\n",
       "   diff_log_surface_n1  diff_log_surface_n2  diff_log_equivalent_spherical_n1  \\\n",
       "0             0.183873             0.033809                          0.202950   \n",
       "1             0.197569             0.039033                          0.218067   \n",
       "2             0.000000             0.000000                          0.000000   \n",
       "3             0.183873             0.033809                          0.202950   \n",
       "4             0.280265             0.078548                          0.260095   \n",
       "\n",
       "   diff_log_equivalent_spherical_n2  \n",
       "0                          0.041189  \n",
       "1                          0.047553  \n",
       "2                          0.000000  \n",
       "3                          0.041189  \n",
       "4                          0.067650  "
      ]
     },
     "execution_count": 17,
     "metadata": {},
     "output_type": "execute_result"
    }
   ],
   "source": [
    "dfm.head()"
   ]
  },
  {
   "cell_type": "markdown",
   "id": "29a29f68-b18d-4713-9879-3e71ff0ac380",
   "metadata": {},
   "source": [
    "Arcsine transformation"
   ]
  },
  {
   "cell_type": "code",
   "execution_count": 18,
   "id": "f5a6a6ae-db22-46cc-9f2b-e3cfd3ddfdb2",
   "metadata": {},
   "outputs": [],
   "source": [
    "for metric in metrics:\n",
    "    dfm[f'diff_{metric}_n1_arcsin'] = np.arcsin(np.sqrt(dfm[f'diff_{metric}_n1']))\n",
    "    dfm[f'diff_{metric}_n2_arcsin'] = np.arcsin(np.sqrt(dfm[f'diff_{metric}_n2']))"
   ]
  },
  {
   "cell_type": "code",
   "execution_count": 19,
   "id": "bcb3bd92-98cc-4d39-8dd9-5ab825a57538",
   "metadata": {},
   "outputs": [],
   "source": [
    "colors = ['#c1121f', '#264653', '#2a9d8f', '#e9c46a', '#f4a261']"
   ]
  },
  {
   "cell_type": "code",
   "execution_count": 20,
   "id": "4719af98-a31c-4ce9-a067-822d74a6544d",
   "metadata": {},
   "outputs": [
    {
     "data": {
      "image/png": "[encoded data removed]",
      "text/plain": [
       "<Figure size 600x300 with 1 Axes>"
      ]
     },
     "metadata": {},
     "output_type": "display_data"
    }
   ],
   "source": [
    "plt.figure(figsize = (6, 3))\n",
    "\n",
    "for i, metric in enumerate(metrics):\n",
    "    plt.hist(dfm[f'diff_{metric}_n1_arcsin'], bins = 30, alpha = 0.5, label = metric, color = colors[i])\n",
    "\n",
    "plt.legend()\n",
    "plt.xlabel('Arcsine(Size Difference Index)')\n",
    "plt.ylabel('Pairs of species')\n",
    "plt.show()"
   ]
  },
  {
   "cell_type": "code",
   "execution_count": 21,
   "id": "9030d6cd-72c8-4456-bfb8-3e19931d5cb9",
   "metadata": {},
   "outputs": [
    {
     "data": {
      "image/png": "[encoded data removed]",
      "text/plain": [
       "<Figure size 600x300 with 1 Axes>"
      ]
     },
     "metadata": {},
     "output_type": "display_data"
    }
   ],
   "source": [
    "plt.figure(figsize = (6, 3))\n",
    "\n",
    "for i, metric in enumerate(metrics):\n",
    "    plt.hist(dfm[f'diff_{metric}_n2_arcsin'], bins = 30, alpha = 0.5, label = metric, color = colors[i])\n",
    "\n",
    "plt.legend()\n",
    "plt.xlabel('Arcsine(Size Difference Index)')\n",
    "plt.ylabel('Pairs of species')\n",
    "plt.show()"
   ]
  },
  {
   "cell_type": "markdown",
   "id": "835aae8a-dfb5-4c5a-9f66-f47b9375a65e",
   "metadata": {},
   "source": [
    "Multiple fit"
   ]
  },
  {
   "cell_type": "code",
   "execution_count": 22,
   "id": "5c8cc533-d522-46b0-8678-23e801ab9ba4",
   "metadata": {},
   "outputs": [],
   "source": [
    "def linear_func(x, a, b):\n",
    "    return a * x + b\n",
    "\n",
    "def polynomial_func(x, *coefficients):\n",
    "    return np.polyval(coefficients, x)\n",
    "\n",
    "def exponential_func(x, a, b):\n",
    "    return a * np.exp(b * x)\n",
    "\n",
    "def piecewise_linear_func(x, x0, y0, k1, k2):\n",
    "    # Returns the \n",
    "    return np.piecewise(x, [x < x0, x >= x0], [lambda x: k1 * x + y0 - k1 * x0, lambda x: k2 * x + y0 - k2 * x0])\n",
    "\n",
    "def squared(x, a):\n",
    "    return a * x ** 2"
   ]
  },
  {
   "cell_type": "code",
   "execution_count": 23,
   "id": "6dd7accd-7fe0-41d3-9cc9-05399dd1029c",
   "metadata": {},
   "outputs": [],
   "source": [
    "def curve_fitting(func, x, y):\n",
    "    # Fit data to function\n",
    "    if func == polynomial_func:\n",
    "        coeffs, cov = curve_fit(func, x, y, [1, 0, 0])\n",
    "    elif func == piecewise_linear_func:\n",
    "        # Start paramaters\n",
    "        coeffs, cov = curve_fit(func, x, y, [np.mean(x), np.mean(y), 1, 1])\n",
    "    else:\n",
    "        coeffs, cov = curve_fit(func, x, y)\n",
    "\n",
    "    x_fit = np.linspace(x.min(), x.max(), 100)\n",
    "    y_fit = func(x, *coeffs)\n",
    "    # Calculate standard errors\n",
    "    std_err = np.sqrt(np.diag(cov))\n",
    "\n",
    "    # Calculate degrees of freedom\n",
    "    df = len(x) - len(coeffs)\n",
    "\n",
    "    # Compute t-statistics\n",
    "    t_stats = coeffs / std_err\n",
    "\n",
    "    # Compute p-values, two-sided t-test\n",
    "    p_values = (1 - t.cdf(np.abs(t_stats), df)) * 2 \n",
    "\n",
    "    # Calculate confidence interval --needs adjustment\n",
    "    # y_lower = func(x_fit, (*coeffs - std))\n",
    "    # y_upper = func(x_fit, (*coeffs + std))\n",
    "    \n",
    "    return x_fit, y_fit, coeffs, p_values"
   ]
  },
  {
   "cell_type": "markdown",
   "id": "fc098538-70b9-4ab9-9d8f-9cf11d22e179",
   "metadata": {},
   "source": [
    "Analizing the goodness of fit with $R^2$"
   ]
  },
  {
   "cell_type": "code",
   "execution_count": 24,
   "id": "f934143a-06b9-46f2-a11a-ce9b81e05205",
   "metadata": {},
   "outputs": [],
   "source": [
    "labels = ['Linear', 'Polynomial', 'Exponential', 'Piecewise linear', 'Squared']\n",
    "styles = ['solid', 'dotted', 'dashed', 'dashdot']"
   ]
  },
  {
   "cell_type": "code",
   "execution_count": 26,
   "id": "967dde54-6d58-43d9-96e5-1e43cbf12605",
   "metadata": {
    "scrolled": true
   },
   "outputs": [
    {
     "name": "stdout",
     "output_type": "stream",
     "text": [
      "Metric: log_vsratio\n",
      "\tFunction: Linear\n",
      "\t\tKolmogorov-Smirnov test for normality of residuals (P-value): 0.00\n",
      "\t\tMSE: 0.02, r2: 0.0196\n",
      "\t\tCoefficients: [0.04805084 0.18443477]\n",
      "\t\tP-values: [0. 0.]\n",
      "\tFunction: Polynomial\n",
      "\t\tKolmogorov-Smirnov test for normality of residuals (P-value): 0.00\n",
      "\t\tMSE: 0.02, r2: 0.0238\n",
      "\t\tCoefficients: [ 0.03983069 -0.06333102  0.25640126]\n",
      "\t\tP-values: [0. 0. 0.]\n",
      "\tFunction: Exponential\n",
      "\t\tKolmogorov-Smirnov test for normality of residuals (P-value): 0.00\n",
      "\t\tMSE: 0.02, r2: 0.0206\n",
      "\t\tCoefficients: [0.18933111 0.20049014]\n",
      "\t\tP-values: [0. 0.]\n",
      "\tFunction: Piecewise linear\n",
      "\t\tKolmogorov-Smirnov test for normality of residuals (P-value): 0.00\n",
      "\t\tMSE: 0.02, r2: 0.0352\n",
      "\t\tCoefficients: [1.87536082 0.25943246 0.02184138 0.26486287]\n",
      "\t\tP-values: [0. 0. 0. 0.]\n",
      "\tFunction: Squared\n",
      "\t\tKolmogorov-Smirnov test for normality of residuals (P-value): 0.00\n",
      "\t\tMSE: 0.02, r2: -0.4312\n",
      "\t\tCoefficients: [0.09237473]\n",
      "\t\tP-values: [0.]\n",
      "Metric: log_svratio\n",
      "\tFunction: Linear\n",
      "\t\tKolmogorov-Smirnov test for normality of residuals (P-value): 0.00\n",
      "\t\tMSE: 0.02, r2: 0.0196\n",
      "\t\tCoefficients: [0.04805084 0.18443477]\n",
      "\t\tP-values: [0. 0.]\n",
      "\tFunction: Polynomial\n",
      "\t\tKolmogorov-Smirnov test for normality of residuals (P-value): 0.00\n",
      "\t\tMSE: 0.02, r2: 0.0238\n",
      "\t\tCoefficients: [ 0.03983069 -0.06333102  0.25640126]\n",
      "\t\tP-values: [0. 0. 0.]\n",
      "\tFunction: Exponential\n",
      "\t\tKolmogorov-Smirnov test for normality of residuals (P-value): 0.00\n",
      "\t\tMSE: 0.02, r2: 0.0206\n",
      "\t\tCoefficients: [0.18933111 0.20049014]\n",
      "\t\tP-values: [0. 0.]\n",
      "\tFunction: Piecewise linear\n",
      "\t\tKolmogorov-Smirnov test for normality of residuals (P-value): 0.00\n",
      "\t\tMSE: 0.02, r2: 0.0352\n",
      "\t\tCoefficients: [1.87536082 0.25943246 0.02184137 0.26486287]\n",
      "\t\tP-values: [0. 0. 0. 0.]\n",
      "\tFunction: Squared\n",
      "\t\tKolmogorov-Smirnov test for normality of residuals (P-value): 0.00\n",
      "\t\tMSE: 0.02, r2: -0.4312\n",
      "\t\tCoefficients: [0.09237473]\n",
      "\t\tP-values: [0.]\n",
      "Metric: log_volume\n",
      "\tFunction: Linear\n",
      "\t\tKolmogorov-Smirnov test for normality of residuals (P-value): 0.00\n",
      "\t\tMSE: 0.01, r2: 0.0202\n",
      "\t\tCoefficients: [0.04625891 0.17423095]\n",
      "\t\tP-values: [0. 0.]\n",
      "\tFunction: Polynomial\n",
      "\t\tKolmogorov-Smirnov test for normality of residuals (P-value): 0.00\n",
      "\t\tMSE: 0.01, r2: 0.0260\n",
      "\t\tCoefficients: [ 0.04453542 -0.07827915  0.25469797]\n",
      "\t\tP-values: [0. 0. 0.]\n",
      "\tFunction: Exponential\n",
      "\t\tKolmogorov-Smirnov test for normality of residuals (P-value): 0.00\n",
      "\t\tMSE: 0.01, r2: 0.0214\n",
      "\t\tCoefficients: [0.17850534 0.20524648]\n",
      "\t\tP-values: [0. 0.]\n",
      "\tFunction: Piecewise linear\n",
      "\t\tKolmogorov-Smirnov test for normality of residuals (P-value): 0.00\n",
      "\t\tMSE: 0.01, r2: 0.0396\n",
      "\t\tCoefficients: [1.87538176 0.24502266 0.01858252 0.27523199]\n",
      "\t\tP-values: [0. 0. 0. 0.]\n",
      "\tFunction: Squared\n",
      "\t\tKolmogorov-Smirnov test for normality of residuals (P-value): 0.00\n",
      "\t\tMSE: 0.02, r2: -0.4260\n",
      "\t\tCoefficients: [0.08780875]\n",
      "\t\tP-values: [0.]\n",
      "Metric: log_surface\n",
      "\tFunction: Linear\n",
      "\t\tKolmogorov-Smirnov test for normality of residuals (P-value): 0.00\n",
      "\t\tMSE: 0.01, r2: 0.0202\n",
      "\t\tCoefficients: [0.0444416  0.16960545]\n",
      "\t\tP-values: [0. 0.]\n",
      "\tFunction: Polynomial\n",
      "\t\tKolmogorov-Smirnov test for normality of residuals (P-value): 0.00\n",
      "\t\tMSE: 0.01, r2: 0.0243\n",
      "\t\tCoefficients: [ 0.03617469 -0.05671667  0.23496623]\n",
      "\t\tP-values: [0. 0. 0.]\n",
      "\tFunction: Exponential\n",
      "\t\tKolmogorov-Smirnov test for normality of residuals (P-value): 0.00\n",
      "\t\tMSE: 0.01, r2: 0.0212\n",
      "\t\tCoefficients: [0.17421183 0.20115972]\n",
      "\t\tP-values: [0. 0.]\n",
      "\tFunction: Piecewise linear\n",
      "\t\tKolmogorov-Smirnov test for normality of residuals (P-value): 0.00\n",
      "\t\tMSE: 0.01, r2: 0.0355\n",
      "\t\tCoefficients: [1.88282498 0.23972344 0.02117246 0.24496255]\n",
      "\t\tP-values: [0. 0. 0. 0.]\n",
      "\tFunction: Squared\n",
      "\t\tKolmogorov-Smirnov test for normality of residuals (P-value): 0.00\n",
      "\t\tMSE: 0.02, r2: -0.4396\n",
      "\t\tCoefficients: [0.08509228]\n",
      "\t\tP-values: [0.]\n",
      "Metric: log_equivalent_spherical\n",
      "\tFunction: Linear\n",
      "\t\tKolmogorov-Smirnov test for normality of residuals (P-value): 0.00\n",
      "\t\tMSE: 0.01, r2: 0.0202\n",
      "\t\tCoefficients: [0.04625891 0.17423095]\n",
      "\t\tP-values: [0. 0.]\n",
      "\tFunction: Polynomial\n",
      "\t\tKolmogorov-Smirnov test for normality of residuals (P-value): 0.00\n",
      "\t\tMSE: 0.01, r2: 0.0260\n",
      "\t\tCoefficients: [ 0.04453542 -0.07827915  0.25469797]\n",
      "\t\tP-values: [0. 0. 0.]\n",
      "\tFunction: Exponential\n",
      "\t\tKolmogorov-Smirnov test for normality of residuals (P-value): 0.00\n",
      "\t\tMSE: 0.01, r2: 0.0214\n",
      "\t\tCoefficients: [0.17850534 0.20524648]\n",
      "\t\tP-values: [0. 0.]\n",
      "\tFunction: Piecewise linear\n",
      "\t\tKolmogorov-Smirnov test for normality of residuals (P-value): 0.00\n",
      "\t\tMSE: 0.01, r2: 0.0396\n",
      "\t\tCoefficients: [1.87536379 0.24502165 0.01858151 0.27521788]\n",
      "\t\tP-values: [0. 0. 0. 0.]\n",
      "\tFunction: Squared\n",
      "\t\tKolmogorov-Smirnov test for normality of residuals (P-value): 0.00\n",
      "\t\tMSE: 0.02, r2: -0.4260\n",
      "\t\tCoefficients: [0.08780875]\n",
      "\t\tP-values: [0.]\n"
     ]
    }
   ],
   "source": [
    "for metric in metrics:\n",
    "    print(f'Metric: {metric}')\n",
    "    x, y = dfm['pd_dist'].to_numpy(), dfm[f'diff_{metric}_n1_arcsin'].to_numpy()\n",
    "    for i, func in enumerate([linear_func, polynomial_func, exponential_func, piecewise_linear_func, squared]):\n",
    "        print(f'\\tFunction: {labels[i]}')\n",
    "        x_fit, y_fit, coeffs, p_values = curve_fitting(func, x, y)\n",
    "        # Residuals\n",
    "        residuals = (y - y_fit) ** 2\n",
    "        mse = np.sum(residuals) / len(x)\n",
    "        # DO residuals follow a normal distribution?\n",
    "        parameters = norm.fit(np.log10(residuals))\n",
    "        gft = kstest(np.log10(residuals), 'norm', parameters)\n",
    "        print(f'\\t\\tKolmogorov-Smirnov test for normality of residuals (P-value): {gft[1]:.2f}')\n",
    "        # Calculate R^2\n",
    "        r2 = 1 - np.sum(residuals) / np.sum((y - np.mean(y)) ** 2)\n",
    "        print(f'\\t\\tMSE: {mse:.2f}, r2: {r2:.4f}')\n",
    "        print(f'\\t\\tCoefficients: {coeffs}')\n",
    "        print(f'\\t\\tP-values: {p_values}')"
   ]
  },
  {
   "cell_type": "code",
   "execution_count": 27,
   "id": "1738d201-82ab-43ae-81d7-3f26a4764c70",
   "metadata": {
    "scrolled": true
   },
   "outputs": [
    {
     "name": "stdout",
     "output_type": "stream",
     "text": [
      "Metric: log_vsratio\n",
      "\tFunction: Linear\n",
      "\t\tKolmogorov-Smirnov test for normality of residuals (P-value): 0.00\n",
      "\t\tMSE: 0.01, r2: 0.0186\n",
      "\t\tCoefficients: [0.02738096 0.03679218]\n",
      "\t\tP-values: [0. 0.]\n",
      "\tFunction: Polynomial\n",
      "\t\tKolmogorov-Smirnov test for normality of residuals (P-value): 0.00\n",
      "\t\tMSE: 0.01, r2: 0.0221\n",
      "\t\tCoefficients: [ 0.02158918 -0.03299066  0.07579973]\n",
      "\t\tP-values: [0. 0. 0.]\n",
      "\tFunction: Exponential\n",
      "\t\tKolmogorov-Smirnov test for normality of residuals (P-value): 0.00\n",
      "\t\tMSE: 0.01, r2: 0.0203\n",
      "\t\tCoefficients: [0.04237542 0.397781  ]\n",
      "\t\tP-values: [0. 0.]\n",
      "\tFunction: Piecewise linear\n",
      "\t\tKolmogorov-Smirnov test for normality of residuals (P-value): 0.00\n",
      "\t\tMSE: 0.01, r2: 0.0335\n",
      "\t\tCoefficients: [1.87445479 0.07946664 0.01236319 0.15100012]\n",
      "\t\tP-values: [0. 0. 0. 0.]\n",
      "\tFunction: Squared\n",
      "\t\tKolmogorov-Smirnov test for normality of residuals (P-value): 0.00\n",
      "\t\tMSE: 0.01, r2: -0.0617\n",
      "\t\tCoefficients: [0.02884004]\n",
      "\t\tP-values: [0.]\n",
      "Metric: log_svratio\n",
      "\tFunction: Linear\n",
      "\t\tKolmogorov-Smirnov test for normality of residuals (P-value): 0.00\n",
      "\t\tMSE: 0.01, r2: 0.0186\n",
      "\t\tCoefficients: [0.02738096 0.03679218]\n",
      "\t\tP-values: [0. 0.]\n",
      "\tFunction: Polynomial\n",
      "\t\tKolmogorov-Smirnov test for normality of residuals (P-value): 0.00\n",
      "\t\tMSE: 0.01, r2: 0.0221\n",
      "\t\tCoefficients: [ 0.02158918 -0.03299065  0.07579972]\n",
      "\t\tP-values: [0. 0. 0.]\n",
      "\tFunction: Exponential\n",
      "\t\tKolmogorov-Smirnov test for normality of residuals (P-value): 0.00\n",
      "\t\tMSE: 0.01, r2: 0.0203\n",
      "\t\tCoefficients: [0.04237542 0.397781  ]\n",
      "\t\tP-values: [0. 0.]\n",
      "\tFunction: Piecewise linear\n",
      "\t\tKolmogorov-Smirnov test for normality of residuals (P-value): 0.00\n",
      "\t\tMSE: 0.01, r2: 0.0335\n",
      "\t\tCoefficients: [1.87445479 0.07946664 0.01236319 0.15100013]\n",
      "\t\tP-values: [0. 0. 0. 0.]\n",
      "\tFunction: Squared\n",
      "\t\tKolmogorov-Smirnov test for normality of residuals (P-value): 0.00\n",
      "\t\tMSE: 0.01, r2: -0.0617\n",
      "\t\tCoefficients: [0.02884004]\n",
      "\t\tP-values: [0.]\n",
      "Metric: log_volume\n",
      "\tFunction: Linear\n",
      "\t\tKolmogorov-Smirnov test for normality of residuals (P-value): 0.00\n",
      "\t\tMSE: 0.00, r2: 0.0195\n",
      "\t\tCoefficients: [0.02575448 0.03184037]\n",
      "\t\tP-values: [0. 0.]\n",
      "\tFunction: Polynomial\n",
      "\t\tKolmogorov-Smirnov test for normality of residuals (P-value): 0.00\n",
      "\t\tMSE: 0.00, r2: 0.0251\n",
      "\t\tCoefficients: [ 0.02471206 -0.0433499   0.07649037]\n",
      "\t\tP-values: [0. 0. 0.]\n",
      "\tFunction: Exponential\n",
      "\t\tKolmogorov-Smirnov test for normality of residuals (P-value): 0.00\n",
      "\t\tMSE: 0.00, r2: 0.0219\n",
      "\t\tCoefficients: [0.03671395 0.42555266]\n",
      "\t\tP-values: [0. 0.]\n",
      "\tFunction: Piecewise linear\n",
      "\t\tKolmogorov-Smirnov test for normality of residuals (P-value): 0.00\n",
      "\t\tMSE: 0.00, r2: 0.0386\n",
      "\t\tCoefficients: [1.87538965 0.07116658 0.01019502 0.15448696]\n",
      "\t\tP-values: [0. 0. 0. 0.]\n",
      "\tFunction: Squared\n",
      "\t\tKolmogorov-Smirnov test for normality of residuals (P-value): 0.00\n",
      "\t\tMSE: 0.00, r2: -0.0535\n",
      "\t\tCoefficients: [0.02618991]\n",
      "\t\tP-values: [0.]\n",
      "Metric: log_surface\n",
      "\tFunction: Linear\n",
      "\t\tKolmogorov-Smirnov test for normality of residuals (P-value): 0.00\n",
      "\t\tMSE: 0.00, r2: 0.0198\n",
      "\t\tCoefficients: [0.02395967 0.03033434]\n",
      "\t\tP-values: [0. 0.]\n",
      "\tFunction: Polynomial\n",
      "\t\tKolmogorov-Smirnov test for normality of residuals (P-value): 0.00\n",
      "\t\tMSE: 0.00, r2: 0.0241\n",
      "\t\tCoefficients: [ 0.02011049 -0.03227696  0.06667017]\n",
      "\t\tP-values: [0. 0. 0.]\n",
      "\tFunction: Exponential\n",
      "\t\tKolmogorov-Smirnov test for normality of residuals (P-value): 0.00\n",
      "\t\tMSE: 0.00, r2: 0.0219\n",
      "\t\tCoefficients: [0.03522589 0.41287193]\n",
      "\t\tP-values: [0. 0.]\n",
      "\tFunction: Piecewise linear\n",
      "\t\tKolmogorov-Smirnov test for normality of residuals (P-value): 0.00\n",
      "\t\tMSE: 0.00, r2: 0.0356\n",
      "\t\tCoefficients: [1.88083226 0.06790317 0.01106029 0.13391001]\n",
      "\t\tP-values: [0. 0. 0. 0.]\n",
      "\tFunction: Squared\n",
      "\t\tKolmogorov-Smirnov test for normality of residuals (P-value): 0.00\n",
      "\t\tMSE: 0.00, r2: -0.0584\n",
      "\t\tCoefficients: [0.02459571]\n",
      "\t\tP-values: [0.]\n",
      "Metric: log_equivalent_spherical\n",
      "\tFunction: Linear\n",
      "\t\tKolmogorov-Smirnov test for normality of residuals (P-value): 0.00\n",
      "\t\tMSE: 0.00, r2: 0.0195\n",
      "\t\tCoefficients: [0.02575448 0.03184037]\n",
      "\t\tP-values: [0. 0.]\n",
      "\tFunction: Polynomial\n",
      "\t\tKolmogorov-Smirnov test for normality of residuals (P-value): 0.00\n",
      "\t\tMSE: 0.00, r2: 0.0251\n",
      "\t\tCoefficients: [ 0.02471206 -0.0433499   0.07649037]\n",
      "\t\tP-values: [0. 0. 0.]\n",
      "\tFunction: Exponential\n",
      "\t\tKolmogorov-Smirnov test for normality of residuals (P-value): 0.00\n",
      "\t\tMSE: 0.00, r2: 0.0219\n",
      "\t\tCoefficients: [0.03671395 0.42555266]\n",
      "\t\tP-values: [0. 0.]\n",
      "\tFunction: Piecewise linear\n",
      "\t\tKolmogorov-Smirnov test for normality of residuals (P-value): 0.00\n",
      "\t\tMSE: 0.00, r2: 0.0386\n",
      "\t\tCoefficients: [1.87538965 0.07116658 0.01019502 0.15448696]\n",
      "\t\tP-values: [0. 0. 0. 0.]\n",
      "\tFunction: Squared\n",
      "\t\tKolmogorov-Smirnov test for normality of residuals (P-value): 0.00\n",
      "\t\tMSE: 0.00, r2: -0.0535\n",
      "\t\tCoefficients: [0.02618991]\n",
      "\t\tP-values: [0.]\n"
     ]
    }
   ],
   "source": [
    "for metric in metrics:\n",
    "    print(f'Metric: {metric}')\n",
    "    x, y = dfm['pd_dist'].to_numpy(), dfm[f'diff_{metric}_n2_arcsin'].to_numpy()\n",
    "    for i, func in enumerate([linear_func, polynomial_func, exponential_func, piecewise_linear_func, squared]):\n",
    "        print(f'\\tFunction: {labels[i]}')\n",
    "        x_fit, y_fit, coeffs, p_values = curve_fitting(func, x, y)\n",
    "        # Residuals\n",
    "        residuals = (y - y_fit) ** 2\n",
    "        mse = np.sum(residuals) / len(x)\n",
    "        # DO residuals follow a normal distribution?\n",
    "        parameters = norm.fit(np.log10(residuals))\n",
    "        gft = kstest(np.log10(residuals), 'norm', parameters)\n",
    "        print(f'\\t\\tKolmogorov-Smirnov test for normality of residuals (P-value): {gft[1]:.2f}')\n",
    "        # Calculate R^2\n",
    "        r2 = 1 - np.sum(residuals) / np.sum((y - np.mean(y)) ** 2)\n",
    "        print(f'\\t\\tMSE: {mse:.2f}, r2: {r2:.4f}')\n",
    "        print(f'\\t\\tCoefficients: {coeffs}')\n",
    "        print(f'\\t\\tP-values: {p_values}')"
   ]
  },
  {
   "cell_type": "code",
   "execution_count": 31,
   "id": "3e0ca9bb-1dca-4a05-94fc-a8b3873926f7",
   "metadata": {},
   "outputs": [],
   "source": [
    "# plt.figure(figsize = (12, 5))\n",
    "\n",
    "# # Fit to all the data pairs\n",
    "# for i, metric in enumerate(metrics):\n",
    "#     x, y = dfm['pd_dist'].to_numpy(), dfm[f'diff_{metric}_n1_arcsin'].to_numpy()\n",
    "    \n",
    "#     # # For scatter plot, randomly sample n pairs of data points\n",
    "#     # plt.scatter(dfm_sample['pd_dist'], dfm_sample['diff_log_svratio_n2_arcsin'], color = '#6c757d', \n",
    "#     #             alpha = 0.3, edgecolor = 'none', s = 5, label = 'Pairs of species')\n",
    "    \n",
    "#     # Fit--only the best fit according to R^2\n",
    "#     x_fit, y_fit, coeffs, p_values = curve_fitting(piecewise_linear_func, x, y)\n",
    "#     plt.plot(np.sort(x), np.sort(y_fit), color = colors[i], label = metric, alpha = 0.7)\n",
    "    \n",
    "#     # Add parameters\n",
    "#     plt.axvline(x = coeffs[0], color = colors[i], linestyle = 'dashed', alpha = 1.0)\n",
    "    \n",
    "#     # End of first piece\n",
    "#     plt.text(coeffs[0] * 0.95, coeffs[1] * 1.5, f'x = {coeffs[0]:.2f}\\np = {p_values[0]}', color = 'k',\n",
    "#             ha = 'center', va = 'bottom', rotation = 90)\n",
    "#     # Slope 1\n",
    "#     plt.text(coeffs[0] * 0.5, coeffs[1] * 1.5, f'x = {coeffs[2]:.2f}\\np = {p_values[2]}', color = 'k',\n",
    "#             ha = 'center', va = 'bottom', rotation = 90)\n",
    "#     # Slope 2\n",
    "#     plt.text(coeffs[0] * 1.5, coeffs[1] * 2.0, f'x = {coeffs[3]:.2f}\\np = {p_values[3]}', color = 'k',\n",
    "#             ha = 'center', va = 'bottom', rotation = 90)\n",
    "    \n",
    "# plt.xlabel('Patristic distance\\n(substitutions per site)')\n",
    "# plt.ylabel('Arcsine(Size Difference Index)')\n",
    "# plt.legend()\n",
    "# plt.xticks(np.arange(0, 3, 0.2))\n",
    "# plt.tick_params(top = True, right = True, direction = 'in', which = 'both')\n",
    "# plt.ylim(-0.02, 1.05)\n",
    "# plt.xlim(-0.1, 2.9)\n",
    "\n",
    "# plt.show()"
   ]
  },
  {
   "cell_type": "code",
   "execution_count": 25,
   "id": "5650d3c3-b701-4b25-b994-9b08e6832749",
   "metadata": {},
   "outputs": [],
   "source": [
    "n = 50000\n",
    "dfm_sample = dfm.sample(n, random_state = 42).copy()"
   ]
  },
  {
   "cell_type": "code",
   "execution_count": 26,
   "id": "da6ef0ef-ea81-48b9-9f27-cc1a84d87b9c",
   "metadata": {},
   "outputs": [],
   "source": [
    "x_sample, y_sample = dfm_sample['pd_dist'].to_numpy(), dfm_sample[f'diff_log_svratio_n1_arcsin'].to_numpy()"
   ]
  },
  {
   "cell_type": "code",
   "execution_count": 27,
   "id": "c48e954b-5db0-4324-80c3-f62eb55bff27",
   "metadata": {},
   "outputs": [],
   "source": [
    "def kde(x_sample, y_sample):\n",
    "    '''\n",
    "    Perform KDE\n",
    "    '''\n",
    "    # KDE\n",
    "    kernel = gaussian_kde(np.vstack([x_sample, y_sample]))\n",
    "    # Bandwidth\n",
    "    bw = np.sqrt(np.sqrt(np.prod(np.diag(kernel.covariance))))\n",
    "    # Plot range (200 x 200 grid, 3x bandwidth beyond extreme)\n",
    "    cut = 3\n",
    "    gridsize = 200\n",
    "    xmin = x_sample.min() - bw * cut\n",
    "    xmax = x_sample.max() + bw * cut\n",
    "    ymin = y_sample.min() - bw * cut\n",
    "    ymax = y_sample.max() + bw * cut\n",
    "    xran = np.linspace(xmin, xmax, gridsize)\n",
    "    yran = np.linspace(ymin, ymax, gridsize)\n",
    "    X, Y = np.meshgrid(xran, yran)\n",
    "    xygrid = np.vstack([X.ravel(), Y.ravel()])\n",
    "    # Probability density across the grid\n",
    "    probs = kernel(xygrid)\n",
    "    Z = probs.reshape(gridsize, gridsize)\n",
    "    # Contour above probability mass 0.1%.\n",
    "    thresh = 0.001\n",
    "    probs_sorted = np.sort(probs.ravel())[::-1]\n",
    "    unit_area = (xmax - xmin) * (ymax - ymin) / (gridsize - 1) ** 2\n",
    "    idx = np.flatnonzero(np.cumsum(probs_sorted) >= (1 - thresh) / unit_area)[0]\n",
    "    prob_th = probs_sorted[idx]\n",
    "    # Conver to species density\n",
    "    Z *= (n / 1000)\n",
    "    prob_th *= (n / 1000)\n",
    "    levels = np.linspace(prob_th, Z.max(), 8)\n",
    "\n",
    "    return X, Y, Z, levels"
   ]
  },
  {
   "cell_type": "code",
   "execution_count": 28,
   "id": "914ec730-bbd0-4e95-9e52-96fa1e07a7fd",
   "metadata": {},
   "outputs": [],
   "source": [
    "X, Y, Z, levels = kde(x_sample, y_sample)"
   ]
  },
  {
   "cell_type": "code",
   "execution_count": 29,
   "id": "234650c2-9f7a-430b-83fb-d733a57ad70f",
   "metadata": {},
   "outputs": [],
   "source": [
    "# plt.figure(figsize = (12, 5))\n",
    "# # Pairs of species\n",
    "# plt.contourf(X, Y, Z, cmap = 'binary', levels = levels)\n",
    "# plt.colorbar(label = 'Pairs of species density')\n",
    "# plt.scatter(x_sample, y_sample, c = 'k', s = 5, alpha = 0.1)\n",
    "\n",
    "# # Linear fit\n",
    "# x, y = dfm['pd_dist'].to_numpy(), dfm[f'diff_log_vsratio_n1_arcsin'].to_numpy()\n",
    "# x_fit, y_fit, coeffs, p_values = curve_fitting(piecewise_linear_func, x, y)\n",
    "# plt.plot(np.sort(x), np.sort(y_fit), color = '#c1121f', label = metric, alpha = 0.7)\n",
    "\n",
    "# # Add parameters\n",
    "# plt.axvline(x = coeffs[0], color = 'grey', linestyle = 'dashed', alpha = 1.0)\n",
    "\n",
    "# # End of first piece\n",
    "# plt.text(coeffs[0] * 0.95, coeffs[1] * 1.5, f'x = {coeffs[0]:.2f}\\np = {p_values[0]}', color = 'k',\n",
    "#         ha = 'center', va = 'bottom', rotation = 90)\n",
    "# # Slope 1\n",
    "# plt.text(coeffs[0] * 0.5, coeffs[1] * 1.5, f'x = {coeffs[2]:.2f}\\np = {p_values[2]}', color = 'k',\n",
    "#         ha = 'center', va = 'bottom', rotation = 90)\n",
    "# # Slope 2\n",
    "# plt.text(coeffs[0] * 1.5, coeffs[1] * 2.0, f'x = {coeffs[3]:.2f}\\np = {p_values[3]}', color = 'k',\n",
    "#         ha = 'center', va = 'bottom', rotation = 90)\n",
    "\n",
    "# plt.xlabel('Patristic distance\\n(substitutions per site)')\n",
    "# plt.ylabel('Arcsine(Size Difference Index)')\n",
    "# plt.show()"
   ]
  },
  {
   "cell_type": "code",
   "execution_count": 33,
   "id": "6c9243a4-5048-4a49-91db-d90cc90bebb2",
   "metadata": {},
   "outputs": [
    {
     "data": {
      "image/png": "[encoded data removed]",
      "text/plain": [
       "<Figure size 1210x500 with 1 Axes>"
      ]
     },
     "metadata": {},
     "output_type": "display_data"
    }
   ],
   "source": [
    "plt.figure(figsize = (12.1, 5))\n",
    "# Pairs of species\n",
    "plt.contourf(X, Y, Z, cmap = 'binary', levels = levels)\n",
    "# plt.colorbar(label = 'Pairs of species density')\n",
    "# plt.scatter(x_sample, y_sample, c = 'k', s = 5, alpha = 0.1)\n",
    "\n",
    "# Linear fit\n",
    "x, y = dfm['pd_dist'].to_numpy(), dfm[f'diff_log_vsratio_n1_arcsin'].to_numpy()\n",
    "x_fit, y_fit, coeffs, p_values = curve_fitting(piecewise_linear_func, x, y)\n",
    "plt.plot(np.sort(x), np.sort(y_fit), color = '#c1121f', label = f'Piecewise linear fit', alpha = 0.7, zorder = 3)\n",
    "\n",
    "# Add parameters\n",
    "plt.axvline(x = coeffs[0], color = 'grey', linestyle = 'dashed', alpha = 1.0)\n",
    "\n",
    "# End of first piece\n",
    "plt.text(coeffs[0] * 0.95, coeffs[1] * 1.5, f'x = {coeffs[0]:.2f}\\np = {p_values[0]}', color = 'k',\n",
    "        ha = 'center', va = 'bottom', rotation = 90)\n",
    "# Slope 1\n",
    "plt.text(coeffs[0] * 0.5, coeffs[1] * 1.5, f'x = {coeffs[2]:.2f}\\np = {p_values[2]}', color = 'k',\n",
    "        ha = 'center', va = 'bottom', rotation = 90)\n",
    "# Slope 2\n",
    "plt.text(coeffs[0] * 1.5, coeffs[1] * 2.0, f'x = {coeffs[3]:.2f}\\np = {p_values[3]}', color = 'k',\n",
    "        ha = 'center', va = 'bottom', rotation = 90)\n",
    "\n",
    "plt.tick_params(top = True, right = True, direction = 'in', which = 'both')\n",
    "plt.xlim(-0.1, 2.9)\n",
    "plt.legend()\n",
    "plt.xlabel('Patristic distance\\n(substitutions per site)')\n",
    "plt.ylabel('Arcsine(Size Difference Index)')\n",
    "plt.savefig('figures/pd_dist_svratio_all.svg')\n",
    "plt.show()"
   ]
  },
  {
   "cell_type": "code",
   "execution_count": 39,
   "id": "7738f0be-577b-4988-89c5-874983efc579",
   "metadata": {},
   "outputs": [
    {
     "data": {
      "image/png": "[encoded data removed]",
      "text/plain": [
       "<Figure size 1200x500 with 2 Axes>"
      ]
     },
     "metadata": {},
     "output_type": "display_data"
    }
   ],
   "source": [
    "plt.figure(figsize = (12, 5))\n",
    "# Pairs of species\n",
    "plt.contourf(X, Y, Z, cmap = 'binary', levels = levels)\n",
    "plt.colorbar(label = 'Pairs of species density')\n",
    "# plt.scatter(x_sample, y_sample, c = 'k', s = 5, alpha = 0.1)\n",
    "\n",
    "# Linear fit\n",
    "x, y = dfm['pd_dist'].to_numpy(), dfm[f'diff_log_vsratio_n2_arcsin'].to_numpy()\n",
    "x_fit, y_fit, coeffs, p_values = curve_fitting(piecewise_linear_func, x, y)\n",
    "plt.plot(np.sort(x), np.sort(y_fit), color = '#c1121f', label = 'Piecewise linear fit', alpha = 0.7, zorder = 3)\n",
    "\n",
    "# Add parameters\n",
    "plt.axvline(x = coeffs[0], color = 'grey', linestyle = 'dashed', alpha = 1.0)\n",
    "\n",
    "# End of first piece\n",
    "plt.text(coeffs[0] * 0.95, coeffs[1] * 1.5, f'x = {coeffs[0]:.2f}\\np = {p_values[0]}', color = 'k',\n",
    "        ha = 'center', va = 'bottom', rotation = 90)\n",
    "# Slope 1\n",
    "plt.text(coeffs[0] * 0.5, coeffs[1] * 1.5, f'x = {coeffs[2]:.2f}\\np = {p_values[2]}', color = 'k',\n",
    "        ha = 'center', va = 'bottom', rotation = 90)\n",
    "# Slope 2\n",
    "plt.text(coeffs[0] * 1.5, coeffs[1] * 2.0, f'x = {coeffs[3]:.2f}\\np = {p_values[3]}', color = 'k',\n",
    "        ha = 'center', va = 'bottom', rotation = 90)\n",
    "\n",
    "plt.tick_params(top = True, right = True, direction = 'in', which = 'both')\n",
    "plt.xlim(-0.1, 2.9)\n",
    "plt.legend()\n",
    "plt.xlabel('Patristic distance\\n(substitutions per site)')\n",
    "plt.ylabel('Arcsine(Size Difference Index)')\n",
    "plt.show()"
   ]
  },
  {
   "cell_type": "code",
   "execution_count": null,
   "id": "3d121fde-68c6-4a41-96b9-3896c6beae2a",
   "metadata": {},
   "outputs": [],
   "source": []
  },
  {
   "cell_type": "code",
   "execution_count": null,
   "id": "8432a639-ba3e-4cf8-8087-6d5e14619f4a",
   "metadata": {},
   "outputs": [],
   "source": []
  },
  {
   "cell_type": "code",
   "execution_count": null,
   "id": "a2349b86-3dd3-4570-a5d8-94da50e93a44",
   "metadata": {},
   "outputs": [],
   "source": []
  },
  {
   "cell_type": "code",
   "execution_count": null,
   "id": "8ee0864f-e093-4efa-a5f3-bac55b7910be",
   "metadata": {},
   "outputs": [],
   "source": []
  },
  {
   "cell_type": "code",
   "execution_count": null,
   "id": "85218e90-5d78-44d6-b867-27d6fbcdfc7b",
   "metadata": {},
   "outputs": [],
   "source": []
  },
  {
   "cell_type": "code",
   "execution_count": null,
   "id": "745933ef-a442-46f2-b2c4-cd5b0b2ed217",
   "metadata": {},
   "outputs": [],
   "source": []
  },
  {
   "cell_type": "code",
   "execution_count": null,
   "id": "6b69355b-cf07-421b-8926-551c3197a64f",
   "metadata": {},
   "outputs": [],
   "source": []
  },
  {
   "cell_type": "code",
   "execution_count": null,
   "id": "d997dfb9-04f6-49e4-87f7-1df3404795ea",
   "metadata": {},
   "outputs": [],
   "source": []
  },
  {
   "cell_type": "code",
   "execution_count": null,
   "id": "37895df3-074e-4659-bcf0-0f9d607e4a4e",
   "metadata": {},
   "outputs": [],
   "source": []
  },
  {
   "cell_type": "code",
   "execution_count": null,
   "id": "7a7e0c76-abb8-48b8-9502-47a50ad890ec",
   "metadata": {},
   "outputs": [],
   "source": []
  },
  {
   "cell_type": "code",
   "execution_count": null,
   "id": "76360368-268a-47b9-9ded-d017c63ff0e9",
   "metadata": {},
   "outputs": [],
   "source": []
  },
  {
   "cell_type": "code",
   "execution_count": null,
   "id": "e9235b5e-8a35-4f7f-94da-910e7f297881",
   "metadata": {},
   "outputs": [],
   "source": []
  },
  {
   "cell_type": "code",
   "execution_count": null,
   "id": "ac3bce63-3e30-46a2-a734-392075e0e2b2",
   "metadata": {},
   "outputs": [],
   "source": []
  },
  {
   "cell_type": "code",
   "execution_count": null,
   "id": "acb469b9-123c-4b6e-b1fe-e3858d839ca0",
   "metadata": {},
   "outputs": [],
   "source": []
  },
  {
   "cell_type": "code",
   "execution_count": null,
   "id": "47ebce31-e07c-401e-b5f5-cde02a17e97f",
   "metadata": {},
   "outputs": [],
   "source": []
  },
  {
   "cell_type": "code",
   "execution_count": null,
   "id": "7321ac55-3dcd-45ec-8727-1bd363b5c209",
   "metadata": {},
   "outputs": [],
   "source": []
  },
  {
   "cell_type": "code",
   "execution_count": null,
   "id": "424022a0-ad1a-494c-8eb6-c7742d5ccadc",
   "metadata": {},
   "outputs": [],
   "source": []
  },
  {
   "cell_type": "code",
   "execution_count": null,
   "id": "3ce95454-590c-43b7-9be7-76f37277b6f1",
   "metadata": {},
   "outputs": [],
   "source": []
  },
  {
   "cell_type": "code",
   "execution_count": null,
   "id": "3ba2ea9a-8897-48f6-9a07-ddd61cef5a68",
   "metadata": {},
   "outputs": [],
   "source": []
  },
  {
   "cell_type": "code",
   "execution_count": null,
   "id": "2a9c3a72-765e-4a61-aad2-f2b5f648d4a8",
   "metadata": {},
   "outputs": [],
   "source": []
  },
  {
   "cell_type": "code",
   "execution_count": null,
   "id": "dae99dfd-3443-4e7c-abb7-8fb870e760a1",
   "metadata": {},
   "outputs": [],
   "source": []
  },
  {
   "cell_type": "code",
   "execution_count": null,
   "id": "e1135a28-87e3-46dc-9dab-d9222c4d28ef",
   "metadata": {},
   "outputs": [],
   "source": []
  },
  {
   "cell_type": "code",
   "execution_count": null,
   "id": "82244283-427b-4273-97a8-c6bbe68fec74",
   "metadata": {},
   "outputs": [],
   "source": []
  },
  {
   "cell_type": "code",
   "execution_count": null,
   "id": "53c1b08d-dc79-4b71-a59c-6b2b91c36770",
   "metadata": {},
   "outputs": [],
   "source": []
  },
  {
   "cell_type": "code",
   "execution_count": null,
   "id": "78b36844-c7b0-42ec-b8bf-958cc4da09ce",
   "metadata": {},
   "outputs": [],
   "source": []
  },
  {
   "cell_type": "code",
   "execution_count": null,
   "id": "44e7ed15-59f9-4623-9d7f-14f8ca7018c1",
   "metadata": {},
   "outputs": [],
   "source": []
  },
  {
   "cell_type": "code",
   "execution_count": null,
   "id": "49886e00-323d-486d-84ca-c8a131b63e07",
   "metadata": {},
   "outputs": [],
   "source": []
  },
  {
   "cell_type": "code",
   "execution_count": null,
   "id": "a7f7a4f8-03a0-454c-8095-210af3f03900",
   "metadata": {},
   "outputs": [],
   "source": []
  },
  {
   "cell_type": "code",
   "execution_count": null,
   "id": "40a4917b-a9f9-48ea-892e-dbe4b791eca7",
   "metadata": {},
   "outputs": [],
   "source": []
  },
  {
   "cell_type": "code",
   "execution_count": null,
   "id": "733d8265-701b-4f6b-92a7-559682ecbde8",
   "metadata": {},
   "outputs": [],
   "source": []
  },
  {
   "cell_type": "code",
   "execution_count": null,
   "id": "701ffe46-be4c-43ca-a521-e047d2cca829",
   "metadata": {},
   "outputs": [],
   "source": []
  },
  {
   "cell_type": "code",
   "execution_count": null,
   "id": "4e3fcba8-5bb0-4893-9b45-11b71f0d634b",
   "metadata": {},
   "outputs": [],
   "source": []
  },
  {
   "cell_type": "code",
   "execution_count": null,
   "id": "842749cb-5a80-4069-9ef3-ddb39ea28241",
   "metadata": {},
   "outputs": [],
   "source": []
  },
  {
   "cell_type": "code",
   "execution_count": null,
   "id": "706a8330-1a4c-42c0-be3a-e0a231fa3da6",
   "metadata": {},
   "outputs": [],
   "source": []
  },
  {
   "cell_type": "code",
   "execution_count": null,
   "id": "388ee2e7-b5fa-4572-8518-1b1122ad6e22",
   "metadata": {},
   "outputs": [],
   "source": []
  },
  {
   "cell_type": "code",
   "execution_count": null,
   "id": "6da9cbe2-cc18-4726-9a25-b4f251fe4ef7",
   "metadata": {},
   "outputs": [],
   "source": []
  },
  {
   "cell_type": "code",
   "execution_count": null,
   "id": "9c052d58-2590-4866-9de6-879a4491833a",
   "metadata": {},
   "outputs": [],
   "source": []
  },
  {
   "cell_type": "code",
   "execution_count": null,
   "id": "891b8419-31f5-4d70-8fd3-68917b19533a",
   "metadata": {},
   "outputs": [],
   "source": []
  },
  {
   "cell_type": "code",
   "execution_count": null,
   "id": "eb4d2a82-54cd-498b-85fc-224ca2544190",
   "metadata": {},
   "outputs": [],
   "source": []
  },
  {
   "cell_type": "code",
   "execution_count": null,
   "id": "fb9bace9-189f-4859-b1a9-88230eb11595",
   "metadata": {},
   "outputs": [],
   "source": []
  },
  {
   "cell_type": "code",
   "execution_count": null,
   "id": "ef529cb0-1c91-46f2-a879-5fd6397855a7",
   "metadata": {},
   "outputs": [],
   "source": []
  },
  {
   "cell_type": "code",
   "execution_count": null,
   "id": "8aff86c5-8984-4a12-952f-2b45a4a2ef71",
   "metadata": {},
   "outputs": [],
   "source": []
  },
  {
   "cell_type": "code",
   "execution_count": null,
   "id": "8dfd41f1-552e-4e1d-9a56-b06b5096dc25",
   "metadata": {},
   "outputs": [],
   "source": []
  },
  {
   "cell_type": "code",
   "execution_count": null,
   "id": "81e73665-6b23-4668-a86b-f1583622c03b",
   "metadata": {},
   "outputs": [],
   "source": []
  }
 ],
 "metadata": {
  "kernelspec": {
   "display_name": "Python 3 (ipykernel)",
   "language": "python",
   "name": "python3"
  },
  "language_info": {
   "codemirror_mode": {
    "name": "ipython",
    "version": 3
   },
   "file_extension": ".py",
   "mimetype": "text/x-python",
   "name": "python",
   "nbconvert_exporter": "python",
   "pygments_lexer": "ipython3",
   "version": "3.11.8"
  }
 },
 "nbformat": 4,
 "nbformat_minor": 5
}
