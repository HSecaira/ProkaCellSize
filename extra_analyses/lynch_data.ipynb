{
 "cells": [
  {
   "cell_type": "markdown",
   "metadata": {},
   "source": [
    "# Allometric scaling of grwith rate and body mass from Lync, et al. (2022)"
   ]
  },
  {
   "cell_type": "code",
   "execution_count": 1,
   "metadata": {},
   "outputs": [],
   "source": [
    "import numpy as np\n",
    "import pandas as pd\n",
    "import matplotlib.pyplot as plt\n",
    "from mpl_toolkits import mplot3d\n",
    "import matplotlib.patches as mpatches\n",
    "import matplotlib.lines as mlines\n",
    "from matplotlib.legend import Legend\n",
    "# import seaborn as sns"
   ]
  },
  {
   "cell_type": "code",
   "execution_count": 2,
   "metadata": {},
   "outputs": [],
   "source": [
    "from scipy.stats import spearmanr\n",
    "from pylr2 import regress2\n",
    "import statsmodels.api as sm"
   ]
  },
  {
   "cell_type": "code",
   "execution_count": 3,
   "metadata": {},
   "outputs": [],
   "source": [
    "# %matplotlib notebook"
   ]
  },
  {
   "cell_type": "code",
   "execution_count": 4,
   "metadata": {},
   "outputs": [],
   "source": [
    "plt.rcParams.update({\n",
    "    'figure.autolayout': True,\n",
    "    'savefig.bbox': 'tight',\n",
    "    'svg.fonttype': 'none',\n",
    "    'font.sans-serif': 'Arial',\n",
    "    'font.size': 11,\n",
    "    'boxplot.medianprops.linewidth': 2,\n",
    "    'boxplot.flierprops.markeredgecolor': 'none',\n",
    "    'boxplot.flierprops.markersize': 5})"
   ]
  },
  {
   "cell_type": "markdown",
   "metadata": {},
   "source": [
    "Load data"
   ]
  },
  {
   "cell_type": "code",
   "execution_count": 5,
   "metadata": {},
   "outputs": [],
   "source": [
    "# df = pd.read_table('lynch_data_prokaryotes.txt', sep = '\\t', \n",
    "#                    header = None, names = ['cell_size', 'max_growth_rate'])"
   ]
  },
  {
   "cell_type": "code",
   "execution_count": 6,
   "metadata": {},
   "outputs": [],
   "source": [
    "df = pd.read_table('lynch_data_prokaryotes_auto.txt', sep = '\\t',\n",
    "                   header = None, names = ['cell_size', 'max_growth_rate'])"
   ]
  },
  {
   "cell_type": "code",
   "execution_count": 7,
   "metadata": {},
   "outputs": [],
   "source": [
    "df.set_index(np.arange(len(df)), inplace = True)"
   ]
  },
  {
   "cell_type": "code",
   "execution_count": 8,
   "metadata": {},
   "outputs": [],
   "source": [
    "for x in ['cell_size', 'max_growth_rate']:\n",
    "    df[f'log_{x}'] = np.log10(df[x])"
   ]
  },
  {
   "cell_type": "markdown",
   "metadata": {},
   "source": [
    "Add column for heterotrophs and cyanobacteria"
   ]
  },
  {
   "cell_type": "code",
   "execution_count": 9,
   "metadata": {},
   "outputs": [],
   "source": [
    "df['type'] = df.index.map(lambda x: 'phototroph' if x <= 24 else 'heterotroph')"
   ]
  },
  {
   "cell_type": "markdown",
   "metadata": {},
   "source": [
    "## Linear regressions"
   ]
  },
  {
   "cell_type": "code",
   "execution_count": 10,
   "metadata": {},
   "outputs": [],
   "source": [
    "heterotrophs = df.query('type == \"heterotroph\"')\n",
    "phototrophs = df.query('type == \"phototroph\"')"
   ]
  },
  {
   "cell_type": "code",
   "execution_count": 11,
   "metadata": {},
   "outputs": [],
   "source": [
    "x_hetero = sm.add_constant(heterotrophs['log_cell_size'])\n",
    "y_hetero = heterotrophs['log_max_growth_rate']\n",
    "reg_hetero = sm.OLS(y_hetero, x_hetero).fit()\n",
    "intercept_hetero, slope_hetero = reg_hetero.params\n",
    "x_hetero_ = np.linspace(heterotrophs['log_cell_size'].min(), heterotrophs['log_cell_size'].max(), heterotrophs['log_cell_size'].shape[0])\n",
    "y_pred_hetero = reg_hetero.get_prediction(sm.add_constant(x_hetero_))"
   ]
  },
  {
   "cell_type": "code",
   "execution_count": 12,
   "metadata": {},
   "outputs": [],
   "source": [
    "pr_hetero = spearmanr(heterotrophs['log_cell_size'], heterotrophs['log_max_growth_rate'])"
   ]
  },
  {
   "cell_type": "code",
   "execution_count": 13,
   "metadata": {},
   "outputs": [
    {
     "data": {
      "text/html": [
       "<table class=\"simpletable\">\n",
       "<caption>OLS Regression Results</caption>\n",
       "<tr>\n",
       "  <th>Dep. Variable:</th>    <td>log_max_growth_rate</td> <th>  R-squared:         </th> <td>   0.121</td>\n",
       "</tr>\n",
       "<tr>\n",
       "  <th>Model:</th>                    <td>OLS</td>         <th>  Adj. R-squared:    </th> <td>   0.113</td>\n",
       "</tr>\n",
       "<tr>\n",
       "  <th>Method:</th>              <td>Least Squares</td>    <th>  F-statistic:       </th> <td>   15.90</td>\n",
       "</tr>\n",
       "<tr>\n",
       "  <th>Date:</th>              <td>Mon, 25 Mar 2024</td>   <th>  Prob (F-statistic):</th> <td>0.000117</td>\n",
       "</tr>\n",
       "<tr>\n",
       "  <th>Time:</th>                  <td>11:37:27</td>       <th>  Log-Likelihood:    </th> <td> -61.169</td>\n",
       "</tr>\n",
       "<tr>\n",
       "  <th>No. Observations:</th>       <td>   118</td>        <th>  AIC:               </th> <td>   126.3</td>\n",
       "</tr>\n",
       "<tr>\n",
       "  <th>Df Residuals:</th>           <td>   116</td>        <th>  BIC:               </th> <td>   131.9</td>\n",
       "</tr>\n",
       "<tr>\n",
       "  <th>Df Model:</th>               <td>     1</td>        <th>                     </th>     <td> </td>   \n",
       "</tr>\n",
       "<tr>\n",
       "  <th>Covariance Type:</th>       <td>nonrobust</td>      <th>                     </th>     <td> </td>   \n",
       "</tr>\n",
       "</table>\n",
       "<table class=\"simpletable\">\n",
       "<tr>\n",
       "        <td></td>           <th>coef</th>     <th>std err</th>      <th>t</th>      <th>P>|t|</th>  <th>[0.025</th>    <th>0.975]</th>  \n",
       "</tr>\n",
       "<tr>\n",
       "  <th>const</th>         <td>    2.7223</td> <td>    0.469</td> <td>    5.803</td> <td> 0.000</td> <td>    1.793</td> <td>    3.651</td>\n",
       "</tr>\n",
       "<tr>\n",
       "  <th>log_cell_size</th> <td>    0.2858</td> <td>    0.072</td> <td>    3.988</td> <td> 0.000</td> <td>    0.144</td> <td>    0.428</td>\n",
       "</tr>\n",
       "</table>\n",
       "<table class=\"simpletable\">\n",
       "<tr>\n",
       "  <th>Omnibus:</th>       <td> 1.006</td> <th>  Durbin-Watson:     </th> <td>   1.417</td>\n",
       "</tr>\n",
       "<tr>\n",
       "  <th>Prob(Omnibus):</th> <td> 0.605</td> <th>  Jarque-Bera (JB):  </th> <td>   1.086</td>\n",
       "</tr>\n",
       "<tr>\n",
       "  <th>Skew:</th>          <td>-0.150</td> <th>  Prob(JB):          </th> <td>   0.581</td>\n",
       "</tr>\n",
       "<tr>\n",
       "  <th>Kurtosis:</th>      <td> 2.638</td> <th>  Cond. No.          </th> <td>    83.3</td>\n",
       "</tr>\n",
       "</table><br/><br/>Notes:<br/>[1] Standard Errors assume that the covariance matrix of the errors is correctly specified."
      ],
      "text/latex": [
       "\\begin{center}\n",
       "\\begin{tabular}{lclc}\n",
       "\\toprule\n",
       "\\textbf{Dep. Variable:}    & log\\_max\\_growth\\_rate & \\textbf{  R-squared:         } &     0.121   \\\\\n",
       "\\textbf{Model:}            &          OLS           & \\textbf{  Adj. R-squared:    } &     0.113   \\\\\n",
       "\\textbf{Method:}           &     Least Squares      & \\textbf{  F-statistic:       } &     15.90   \\\\\n",
       "\\textbf{Date:}             &    Mon, 25 Mar 2024    & \\textbf{  Prob (F-statistic):} &  0.000117   \\\\\n",
       "\\textbf{Time:}             &        11:37:27        & \\textbf{  Log-Likelihood:    } &   -61.169   \\\\\n",
       "\\textbf{No. Observations:} &            118         & \\textbf{  AIC:               } &     126.3   \\\\\n",
       "\\textbf{Df Residuals:}     &            116         & \\textbf{  BIC:               } &     131.9   \\\\\n",
       "\\textbf{Df Model:}         &              1         & \\textbf{                     } &             \\\\\n",
       "\\textbf{Covariance Type:}  &       nonrobust        & \\textbf{                     } &             \\\\\n",
       "\\bottomrule\n",
       "\\end{tabular}\n",
       "\\begin{tabular}{lcccccc}\n",
       "                         & \\textbf{coef} & \\textbf{std err} & \\textbf{t} & \\textbf{P$> |$t$|$} & \\textbf{[0.025} & \\textbf{0.975]}  \\\\\n",
       "\\midrule\n",
       "\\textbf{const}           &       2.7223  &        0.469     &     5.803  &         0.000        &        1.793    &        3.651     \\\\\n",
       "\\textbf{log\\_cell\\_size} &       0.2858  &        0.072     &     3.988  &         0.000        &        0.144    &        0.428     \\\\\n",
       "\\bottomrule\n",
       "\\end{tabular}\n",
       "\\begin{tabular}{lclc}\n",
       "\\textbf{Omnibus:}       &  1.006 & \\textbf{  Durbin-Watson:     } &    1.417  \\\\\n",
       "\\textbf{Prob(Omnibus):} &  0.605 & \\textbf{  Jarque-Bera (JB):  } &    1.086  \\\\\n",
       "\\textbf{Skew:}          & -0.150 & \\textbf{  Prob(JB):          } &    0.581  \\\\\n",
       "\\textbf{Kurtosis:}      &  2.638 & \\textbf{  Cond. No.          } &     83.3  \\\\\n",
       "\\bottomrule\n",
       "\\end{tabular}\n",
       "%\\caption{OLS Regression Results}\n",
       "\\end{center}\n",
       "\n",
       "Notes: \\newline\n",
       " [1] Standard Errors assume that the covariance matrix of the errors is correctly specified."
      ],
      "text/plain": [
       "<class 'statsmodels.iolib.summary.Summary'>\n",
       "\"\"\"\n",
       "                             OLS Regression Results                            \n",
       "===============================================================================\n",
       "Dep. Variable:     log_max_growth_rate   R-squared:                       0.121\n",
       "Model:                             OLS   Adj. R-squared:                  0.113\n",
       "Method:                  Least Squares   F-statistic:                     15.90\n",
       "Date:                 Mon, 25 Mar 2024   Prob (F-statistic):           0.000117\n",
       "Time:                         11:37:27   Log-Likelihood:                -61.169\n",
       "No. Observations:                  118   AIC:                             126.3\n",
       "Df Residuals:                      116   BIC:                             131.9\n",
       "Df Model:                            1                                         \n",
       "Covariance Type:             nonrobust                                         \n",
       "=================================================================================\n",
       "                    coef    std err          t      P>|t|      [0.025      0.975]\n",
       "---------------------------------------------------------------------------------\n",
       "const             2.7223      0.469      5.803      0.000       1.793       3.651\n",
       "log_cell_size     0.2858      0.072      3.988      0.000       0.144       0.428\n",
       "==============================================================================\n",
       "Omnibus:                        1.006   Durbin-Watson:                   1.417\n",
       "Prob(Omnibus):                  0.605   Jarque-Bera (JB):                1.086\n",
       "Skew:                          -0.150   Prob(JB):                        0.581\n",
       "Kurtosis:                       2.638   Cond. No.                         83.3\n",
       "==============================================================================\n",
       "\n",
       "Notes:\n",
       "[1] Standard Errors assume that the covariance matrix of the errors is correctly specified.\n",
       "\"\"\""
      ]
     },
     "execution_count": 13,
     "metadata": {},
     "output_type": "execute_result"
    }
   ],
   "source": [
    "reg_hetero.summary()"
   ]
  },
  {
   "cell_type": "code",
   "execution_count": 14,
   "metadata": {},
   "outputs": [],
   "source": [
    "x_photo = sm.add_constant(phototrophs['log_cell_size'])\n",
    "y_photo = phototrophs['log_max_growth_rate']\n",
    "reg_photo = sm.OLS(y_photo, x_photo).fit()\n",
    "intercept_photo, slope_photo = reg_photo.params\n",
    "x_photo_ = np.linspace(phototrophs['log_cell_size'].min(), phototrophs['log_cell_size'].max(), phototrophs['log_cell_size'].shape[0])\n",
    "y_pred_photo = reg_photo.get_prediction(sm.add_constant(x_photo_))"
   ]
  },
  {
   "cell_type": "code",
   "execution_count": 15,
   "metadata": {},
   "outputs": [],
   "source": [
    "pr_photo = spearmanr(phototrophs['log_cell_size'], phototrophs['log_max_growth_rate'])"
   ]
  },
  {
   "cell_type": "code",
   "execution_count": 16,
   "metadata": {},
   "outputs": [
    {
     "data": {
      "text/html": [
       "<table class=\"simpletable\">\n",
       "<caption>OLS Regression Results</caption>\n",
       "<tr>\n",
       "  <th>Dep. Variable:</th>    <td>log_max_growth_rate</td> <th>  R-squared:         </th> <td>   0.010</td>\n",
       "</tr>\n",
       "<tr>\n",
       "  <th>Model:</th>                    <td>OLS</td>         <th>  Adj. R-squared:    </th> <td>  -0.033</td>\n",
       "</tr>\n",
       "<tr>\n",
       "  <th>Method:</th>              <td>Least Squares</td>    <th>  F-statistic:       </th> <td>  0.2277</td>\n",
       "</tr>\n",
       "<tr>\n",
       "  <th>Date:</th>              <td>Mon, 25 Mar 2024</td>   <th>  Prob (F-statistic):</th>  <td> 0.638</td> \n",
       "</tr>\n",
       "<tr>\n",
       "  <th>Time:</th>                  <td>11:37:27</td>       <th>  Log-Likelihood:    </th> <td>-0.14839</td>\n",
       "</tr>\n",
       "<tr>\n",
       "  <th>No. Observations:</th>       <td>    25</td>        <th>  AIC:               </th> <td>   4.297</td>\n",
       "</tr>\n",
       "<tr>\n",
       "  <th>Df Residuals:</th>           <td>    23</td>        <th>  BIC:               </th> <td>   6.735</td>\n",
       "</tr>\n",
       "<tr>\n",
       "  <th>Df Model:</th>               <td>     1</td>        <th>                     </th>     <td> </td>   \n",
       "</tr>\n",
       "<tr>\n",
       "  <th>Covariance Type:</th>       <td>nonrobust</td>      <th>                     </th>     <td> </td>   \n",
       "</tr>\n",
       "</table>\n",
       "<table class=\"simpletable\">\n",
       "<tr>\n",
       "        <td></td>           <th>coef</th>     <th>std err</th>      <th>t</th>      <th>P>|t|</th>  <th>[0.025</th>    <th>0.975]</th>  \n",
       "</tr>\n",
       "<tr>\n",
       "  <th>const</th>         <td>   -0.1131</td> <td>    0.259</td> <td>   -0.437</td> <td> 0.666</td> <td>   -0.649</td> <td>    0.423</td>\n",
       "</tr>\n",
       "<tr>\n",
       "  <th>log_cell_size</th> <td>   -0.0248</td> <td>    0.052</td> <td>   -0.477</td> <td> 0.638</td> <td>   -0.132</td> <td>    0.083</td>\n",
       "</tr>\n",
       "</table>\n",
       "<table class=\"simpletable\">\n",
       "<tr>\n",
       "  <th>Omnibus:</th>       <td> 1.658</td> <th>  Durbin-Watson:     </th> <td>   1.980</td>\n",
       "</tr>\n",
       "<tr>\n",
       "  <th>Prob(Omnibus):</th> <td> 0.436</td> <th>  Jarque-Bera (JB):  </th> <td>   0.810</td>\n",
       "</tr>\n",
       "<tr>\n",
       "  <th>Skew:</th>          <td> 0.432</td> <th>  Prob(JB):          </th> <td>   0.667</td>\n",
       "</tr>\n",
       "<tr>\n",
       "  <th>Kurtosis:</th>      <td> 3.178</td> <th>  Cond. No.          </th> <td>    26.4</td>\n",
       "</tr>\n",
       "</table><br/><br/>Notes:<br/>[1] Standard Errors assume that the covariance matrix of the errors is correctly specified."
      ],
      "text/latex": [
       "\\begin{center}\n",
       "\\begin{tabular}{lclc}\n",
       "\\toprule\n",
       "\\textbf{Dep. Variable:}    & log\\_max\\_growth\\_rate & \\textbf{  R-squared:         } &     0.010   \\\\\n",
       "\\textbf{Model:}            &          OLS           & \\textbf{  Adj. R-squared:    } &    -0.033   \\\\\n",
       "\\textbf{Method:}           &     Least Squares      & \\textbf{  F-statistic:       } &    0.2277   \\\\\n",
       "\\textbf{Date:}             &    Mon, 25 Mar 2024    & \\textbf{  Prob (F-statistic):} &    0.638    \\\\\n",
       "\\textbf{Time:}             &        11:37:27        & \\textbf{  Log-Likelihood:    } &  -0.14839   \\\\\n",
       "\\textbf{No. Observations:} &             25         & \\textbf{  AIC:               } &     4.297   \\\\\n",
       "\\textbf{Df Residuals:}     &             23         & \\textbf{  BIC:               } &     6.735   \\\\\n",
       "\\textbf{Df Model:}         &              1         & \\textbf{                     } &             \\\\\n",
       "\\textbf{Covariance Type:}  &       nonrobust        & \\textbf{                     } &             \\\\\n",
       "\\bottomrule\n",
       "\\end{tabular}\n",
       "\\begin{tabular}{lcccccc}\n",
       "                         & \\textbf{coef} & \\textbf{std err} & \\textbf{t} & \\textbf{P$> |$t$|$} & \\textbf{[0.025} & \\textbf{0.975]}  \\\\\n",
       "\\midrule\n",
       "\\textbf{const}           &      -0.1131  &        0.259     &    -0.437  &         0.666        &       -0.649    &        0.423     \\\\\n",
       "\\textbf{log\\_cell\\_size} &      -0.0248  &        0.052     &    -0.477  &         0.638        &       -0.132    &        0.083     \\\\\n",
       "\\bottomrule\n",
       "\\end{tabular}\n",
       "\\begin{tabular}{lclc}\n",
       "\\textbf{Omnibus:}       &  1.658 & \\textbf{  Durbin-Watson:     } &    1.980  \\\\\n",
       "\\textbf{Prob(Omnibus):} &  0.436 & \\textbf{  Jarque-Bera (JB):  } &    0.810  \\\\\n",
       "\\textbf{Skew:}          &  0.432 & \\textbf{  Prob(JB):          } &    0.667  \\\\\n",
       "\\textbf{Kurtosis:}      &  3.178 & \\textbf{  Cond. No.          } &     26.4  \\\\\n",
       "\\bottomrule\n",
       "\\end{tabular}\n",
       "%\\caption{OLS Regression Results}\n",
       "\\end{center}\n",
       "\n",
       "Notes: \\newline\n",
       " [1] Standard Errors assume that the covariance matrix of the errors is correctly specified."
      ],
      "text/plain": [
       "<class 'statsmodels.iolib.summary.Summary'>\n",
       "\"\"\"\n",
       "                             OLS Regression Results                            \n",
       "===============================================================================\n",
       "Dep. Variable:     log_max_growth_rate   R-squared:                       0.010\n",
       "Model:                             OLS   Adj. R-squared:                 -0.033\n",
       "Method:                  Least Squares   F-statistic:                    0.2277\n",
       "Date:                 Mon, 25 Mar 2024   Prob (F-statistic):              0.638\n",
       "Time:                         11:37:27   Log-Likelihood:               -0.14839\n",
       "No. Observations:                   25   AIC:                             4.297\n",
       "Df Residuals:                       23   BIC:                             6.735\n",
       "Df Model:                            1                                         \n",
       "Covariance Type:             nonrobust                                         \n",
       "=================================================================================\n",
       "                    coef    std err          t      P>|t|      [0.025      0.975]\n",
       "---------------------------------------------------------------------------------\n",
       "const            -0.1131      0.259     -0.437      0.666      -0.649       0.423\n",
       "log_cell_size    -0.0248      0.052     -0.477      0.638      -0.132       0.083\n",
       "==============================================================================\n",
       "Omnibus:                        1.658   Durbin-Watson:                   1.980\n",
       "Prob(Omnibus):                  0.436   Jarque-Bera (JB):                0.810\n",
       "Skew:                           0.432   Prob(JB):                        0.667\n",
       "Kurtosis:                       3.178   Cond. No.                         26.4\n",
       "==============================================================================\n",
       "\n",
       "Notes:\n",
       "[1] Standard Errors assume that the covariance matrix of the errors is correctly specified.\n",
       "\"\"\""
      ]
     },
     "execution_count": 16,
     "metadata": {},
     "output_type": "execute_result"
    }
   ],
   "source": [
    "reg_photo.summary()"
   ]
  },
  {
   "cell_type": "code",
   "execution_count": 17,
   "metadata": {},
   "outputs": [],
   "source": [
    "x = sm.add_constant(df['log_cell_size'])\n",
    "y = df['log_max_growth_rate']\n",
    "reg = sm.OLS(y, x).fit()\n",
    "intercept, slope = reg.params\n",
    "x_ = np.linspace(df['log_cell_size'].min(), df['log_cell_size'].max(), df['log_cell_size'].shape[0])\n",
    "y_pred = reg.get_prediction(sm.add_constant(x_))"
   ]
  },
  {
   "cell_type": "code",
   "execution_count": 18,
   "metadata": {},
   "outputs": [
    {
     "data": {
      "text/html": [
       "<table class=\"simpletable\">\n",
       "<caption>OLS Regression Results</caption>\n",
       "<tr>\n",
       "  <th>Dep. Variable:</th>    <td>log_max_growth_rate</td> <th>  R-squared:         </th> <td>   0.092</td>\n",
       "</tr>\n",
       "<tr>\n",
       "  <th>Model:</th>                    <td>OLS</td>         <th>  Adj. R-squared:    </th> <td>   0.085</td>\n",
       "</tr>\n",
       "<tr>\n",
       "  <th>Method:</th>              <td>Least Squares</td>    <th>  F-statistic:       </th> <td>   14.26</td>\n",
       "</tr>\n",
       "<tr>\n",
       "  <th>Date:</th>              <td>Mon, 25 Mar 2024</td>   <th>  Prob (F-statistic):</th> <td>0.000234</td>\n",
       "</tr>\n",
       "<tr>\n",
       "  <th>Time:</th>                  <td>11:37:27</td>       <th>  Log-Likelihood:    </th> <td> -102.28</td>\n",
       "</tr>\n",
       "<tr>\n",
       "  <th>No. Observations:</th>       <td>   143</td>        <th>  AIC:               </th> <td>   208.6</td>\n",
       "</tr>\n",
       "<tr>\n",
       "  <th>Df Residuals:</th>           <td>   141</td>        <th>  BIC:               </th> <td>   214.5</td>\n",
       "</tr>\n",
       "<tr>\n",
       "  <th>Df Model:</th>               <td>     1</td>        <th>                     </th>     <td> </td>   \n",
       "</tr>\n",
       "<tr>\n",
       "  <th>Covariance Type:</th>       <td>nonrobust</td>      <th>                     </th>     <td> </td>   \n",
       "</tr>\n",
       "</table>\n",
       "<table class=\"simpletable\">\n",
       "<tr>\n",
       "        <td></td>           <th>coef</th>     <th>std err</th>      <th>t</th>      <th>P>|t|</th>  <th>[0.025</th>    <th>0.975]</th>  \n",
       "</tr>\n",
       "<tr>\n",
       "  <th>const</th>         <td>   -0.4018</td> <td>    0.297</td> <td>   -1.352</td> <td> 0.179</td> <td>   -0.989</td> <td>    0.186</td>\n",
       "</tr>\n",
       "<tr>\n",
       "  <th>log_cell_size</th> <td>   -0.1781</td> <td>    0.047</td> <td>   -3.776</td> <td> 0.000</td> <td>   -0.271</td> <td>   -0.085</td>\n",
       "</tr>\n",
       "</table>\n",
       "<table class=\"simpletable\">\n",
       "<tr>\n",
       "  <th>Omnibus:</th>       <td> 2.155</td> <th>  Durbin-Watson:     </th> <td>   1.203</td>\n",
       "</tr>\n",
       "<tr>\n",
       "  <th>Prob(Omnibus):</th> <td> 0.340</td> <th>  Jarque-Bera (JB):  </th> <td>   2.091</td>\n",
       "</tr>\n",
       "<tr>\n",
       "  <th>Skew:</th>          <td>-0.225</td> <th>  Prob(JB):          </th> <td>   0.352</td>\n",
       "</tr>\n",
       "<tr>\n",
       "  <th>Kurtosis:</th>      <td> 2.614</td> <th>  Cond. No.          </th> <td>    46.0</td>\n",
       "</tr>\n",
       "</table><br/><br/>Notes:<br/>[1] Standard Errors assume that the covariance matrix of the errors is correctly specified."
      ],
      "text/latex": [
       "\\begin{center}\n",
       "\\begin{tabular}{lclc}\n",
       "\\toprule\n",
       "\\textbf{Dep. Variable:}    & log\\_max\\_growth\\_rate & \\textbf{  R-squared:         } &     0.092   \\\\\n",
       "\\textbf{Model:}            &          OLS           & \\textbf{  Adj. R-squared:    } &     0.085   \\\\\n",
       "\\textbf{Method:}           &     Least Squares      & \\textbf{  F-statistic:       } &     14.26   \\\\\n",
       "\\textbf{Date:}             &    Mon, 25 Mar 2024    & \\textbf{  Prob (F-statistic):} &  0.000234   \\\\\n",
       "\\textbf{Time:}             &        11:37:27        & \\textbf{  Log-Likelihood:    } &   -102.28   \\\\\n",
       "\\textbf{No. Observations:} &            143         & \\textbf{  AIC:               } &     208.6   \\\\\n",
       "\\textbf{Df Residuals:}     &            141         & \\textbf{  BIC:               } &     214.5   \\\\\n",
       "\\textbf{Df Model:}         &              1         & \\textbf{                     } &             \\\\\n",
       "\\textbf{Covariance Type:}  &       nonrobust        & \\textbf{                     } &             \\\\\n",
       "\\bottomrule\n",
       "\\end{tabular}\n",
       "\\begin{tabular}{lcccccc}\n",
       "                         & \\textbf{coef} & \\textbf{std err} & \\textbf{t} & \\textbf{P$> |$t$|$} & \\textbf{[0.025} & \\textbf{0.975]}  \\\\\n",
       "\\midrule\n",
       "\\textbf{const}           &      -0.4018  &        0.297     &    -1.352  &         0.179        &       -0.989    &        0.186     \\\\\n",
       "\\textbf{log\\_cell\\_size} &      -0.1781  &        0.047     &    -3.776  &         0.000        &       -0.271    &       -0.085     \\\\\n",
       "\\bottomrule\n",
       "\\end{tabular}\n",
       "\\begin{tabular}{lclc}\n",
       "\\textbf{Omnibus:}       &  2.155 & \\textbf{  Durbin-Watson:     } &    1.203  \\\\\n",
       "\\textbf{Prob(Omnibus):} &  0.340 & \\textbf{  Jarque-Bera (JB):  } &    2.091  \\\\\n",
       "\\textbf{Skew:}          & -0.225 & \\textbf{  Prob(JB):          } &    0.352  \\\\\n",
       "\\textbf{Kurtosis:}      &  2.614 & \\textbf{  Cond. No.          } &     46.0  \\\\\n",
       "\\bottomrule\n",
       "\\end{tabular}\n",
       "%\\caption{OLS Regression Results}\n",
       "\\end{center}\n",
       "\n",
       "Notes: \\newline\n",
       " [1] Standard Errors assume that the covariance matrix of the errors is correctly specified."
      ],
      "text/plain": [
       "<class 'statsmodels.iolib.summary.Summary'>\n",
       "\"\"\"\n",
       "                             OLS Regression Results                            \n",
       "===============================================================================\n",
       "Dep. Variable:     log_max_growth_rate   R-squared:                       0.092\n",
       "Model:                             OLS   Adj. R-squared:                  0.085\n",
       "Method:                  Least Squares   F-statistic:                     14.26\n",
       "Date:                 Mon, 25 Mar 2024   Prob (F-statistic):           0.000234\n",
       "Time:                         11:37:27   Log-Likelihood:                -102.28\n",
       "No. Observations:                  143   AIC:                             208.6\n",
       "Df Residuals:                      141   BIC:                             214.5\n",
       "Df Model:                            1                                         \n",
       "Covariance Type:             nonrobust                                         \n",
       "=================================================================================\n",
       "                    coef    std err          t      P>|t|      [0.025      0.975]\n",
       "---------------------------------------------------------------------------------\n",
       "const            -0.4018      0.297     -1.352      0.179      -0.989       0.186\n",
       "log_cell_size    -0.1781      0.047     -3.776      0.000      -0.271      -0.085\n",
       "==============================================================================\n",
       "Omnibus:                        2.155   Durbin-Watson:                   1.203\n",
       "Prob(Omnibus):                  0.340   Jarque-Bera (JB):                2.091\n",
       "Skew:                          -0.225   Prob(JB):                        0.352\n",
       "Kurtosis:                       2.614   Cond. No.                         46.0\n",
       "==============================================================================\n",
       "\n",
       "Notes:\n",
       "[1] Standard Errors assume that the covariance matrix of the errors is correctly specified.\n",
       "\"\"\""
      ]
     },
     "execution_count": 18,
     "metadata": {},
     "output_type": "execute_result"
    }
   ],
   "source": [
    "reg.summary()"
   ]
  },
  {
   "cell_type": "code",
   "execution_count": 19,
   "metadata": {},
   "outputs": [
    {
     "data": {
      "image/png": "[encoded data removed]",
      "text/plain": [
       "<Figure size 600x300 with 1 Axes>"
      ]
     },
     "metadata": {},
     "output_type": "display_data"
    }
   ],
   "source": [
    "fig = plt.figure(figsize = (6, 3))\n",
    "# Heterotrophs\n",
    "plt.scatter(heterotrophs['log_cell_size'], y_hetero, alpha = 0.6, ec = 'none',\n",
    "            color = 'b', s = 25)\n",
    "plt.plot(heterotrophs['log_cell_size'],\n",
    "         (heterotrophs['log_cell_size'] * slope_hetero + intercept_hetero),\n",
    "         c = 'b', lw = 1, ls = '-')\n",
    "plt.fill_between(x_hetero_, *zip(*y_pred_hetero.conf_int()),\n",
    "                 color = 'b', alpha = 0.2)\n",
    "parameters_hetero = reg_hetero.params\n",
    "pvalues_hetero = reg_hetero.pvalues\n",
    "plt.text(-7.5, 1.5, \n",
    "         f'y = {parameters_hetero[\"log_cell_size\"]:.2f}x + {parameters_hetero[\"const\"]:.2f}\\np = {pvalues_hetero[\"log_cell_size\"]:.2f}',\n",
    "        ha = 'center',\n",
    "        color = 'b')\n",
    "\n",
    "# Autotrophs\n",
    "plt.scatter(phototrophs['log_cell_size'], y_photo, alpha = 0.6, ec = 'none',\n",
    "            color = 'r', s = 25)\n",
    "plt.plot(phototrophs['log_cell_size'],\n",
    "         (phototrophs['log_cell_size'] * slope_photo + intercept_photo),\n",
    "         c = 'r', lw = 1, ls = '-')\n",
    "plt.fill_between(x_photo_, *zip(*y_pred_photo.conf_int()),\n",
    "                 color = 'r', alpha = 0.2)\n",
    "parameters_photo = reg_photo.params\n",
    "pvalues_photo = reg_photo.pvalues\n",
    "plt.text(-3.5, 1, \n",
    "         f'y = {parameters_photo[\"log_cell_size\"]:.2f}x + {parameters_photo[\"const\"]:.2f}\\np = {pvalues_photo[\"log_cell_size\"]:.2f}',\n",
    "        ha = 'center',\n",
    "        color = 'r')\n",
    "\n",
    "plt.tick_params(top = True, right = True, direction = 'in', which = 'both')\n",
    "plt.xlabel('Log (Mass at maturity, $\\\\mu g$)')\n",
    "plt.ylabel('Maximum exponential\\ngrowth rate (days$^{-1}$)')\n",
    "plt.savefig('figures/lynch_data_hetero_photo.svg')\n",
    "plt.show()"
   ]
  },
  {
   "cell_type": "code",
   "execution_count": 20,
   "metadata": {},
   "outputs": [
    {
     "data": {
      "image/png": "[encoded data removed]",
      "text/plain": [
       "<Figure size 600x300 with 1 Axes>"
      ]
     },
     "metadata": {},
     "output_type": "display_data"
    }
   ],
   "source": [
    "fig = plt.figure(figsize = (6, 3))\n",
    "\n",
    "# All\n",
    "plt.scatter(df['log_cell_size'], y, alpha = 0.6, ec = 'none',\n",
    "            color = 'k', s = 25)\n",
    "plt.plot(df['log_cell_size'],\n",
    "         (df['log_cell_size'] * slope + intercept),\n",
    "         c = 'k', lw = 1, ls = '-')\n",
    "plt.fill_between(x_, *zip(*y_pred.conf_int()),\n",
    "                 color = 'k', alpha = 0.2)\n",
    "parameters = reg.params\n",
    "pvalues = reg.pvalues\n",
    "plt.text(-3.5, 1, \n",
    "         f'y = {parameters[\"log_cell_size\"]:.2f}x + {parameters[\"const\"]:.2f}\\np = {pvalues[\"log_cell_size\"]:.2f}',\n",
    "        ha = 'center',\n",
    "        color = 'k')\n",
    "\n",
    "plt.tick_params(top = True, right = True, direction = 'in', which = 'both')\n",
    "plt.xlabel('Log (Mass at maturity, $\\\\mu g$)')\n",
    "plt.ylabel('Maximum exponential\\ngrowth rate (days$^{-1}$)')\n",
    "plt.savefig('figures/lynch_data_all.svg')\n",
    "plt.show()"
   ]
  },
  {
   "cell_type": "markdown",
   "metadata": {},
   "source": [
    "**When autotrophs are added, the relationship between variables changes from positive to negative.**"
   ]
  },
  {
   "cell_type": "markdown",
   "metadata": {},
   "source": [
    "[DeLong, 2010](https://www.pnas.org/doi/abs/10.1073/pnas.1007783107) was the first to report a positive relationship between cell size (mass) and growth rate. **However, he performed reduced major axis regression to derive his conclussions!** He also claimed that '[phototrophy, chemoautotrophy, and mixotrophy] inclusion does not significantly change the exponent of the scaling relation.'"
   ]
  },
  {
   "cell_type": "code",
   "execution_count": null,
   "metadata": {},
   "outputs": [],
   "source": []
  },
  {
   "cell_type": "code",
   "execution_count": null,
   "metadata": {},
   "outputs": [],
   "source": []
  },
  {
   "cell_type": "code",
   "execution_count": null,
   "metadata": {},
   "outputs": [],
   "source": []
  },
  {
   "cell_type": "code",
   "execution_count": null,
   "metadata": {},
   "outputs": [],
   "source": []
  },
  {
   "cell_type": "code",
   "execution_count": null,
   "metadata": {},
   "outputs": [],
   "source": []
  },
  {
   "cell_type": "code",
   "execution_count": null,
   "metadata": {},
   "outputs": [],
   "source": []
  },
  {
   "cell_type": "code",
   "execution_count": null,
   "metadata": {},
   "outputs": [],
   "source": []
  },
  {
   "cell_type": "code",
   "execution_count": null,
   "metadata": {},
   "outputs": [],
   "source": []
  },
  {
   "cell_type": "code",
   "execution_count": null,
   "metadata": {},
   "outputs": [],
   "source": []
  },
  {
   "cell_type": "code",
   "execution_count": null,
   "metadata": {},
   "outputs": [],
   "source": []
  },
  {
   "cell_type": "code",
   "execution_count": null,
   "metadata": {},
   "outputs": [],
   "source": []
  },
  {
   "cell_type": "code",
   "execution_count": null,
   "metadata": {},
   "outputs": [],
   "source": []
  },
  {
   "cell_type": "code",
   "execution_count": null,
   "metadata": {},
   "outputs": [],
   "source": []
  },
  {
   "cell_type": "code",
   "execution_count": null,
   "metadata": {},
   "outputs": [],
   "source": []
  },
  {
   "cell_type": "code",
   "execution_count": null,
   "metadata": {},
   "outputs": [],
   "source": []
  },
  {
   "cell_type": "code",
   "execution_count": null,
   "metadata": {},
   "outputs": [],
   "source": []
  }
 ],
 "metadata": {
  "kernelspec": {
   "display_name": "Python 3 (ipykernel)",
   "language": "python",
   "name": "python3"
  },
  "language_info": {
   "codemirror_mode": {
    "name": "ipython",
    "version": 3
   },
   "file_extension": ".py",
   "mimetype": "text/x-python",
   "name": "python",
   "nbconvert_exporter": "python",
   "pygments_lexer": "ipython3",
   "version": "3.11.8"
  }
 },
 "nbformat": 4,
 "nbformat_minor": 4
}
