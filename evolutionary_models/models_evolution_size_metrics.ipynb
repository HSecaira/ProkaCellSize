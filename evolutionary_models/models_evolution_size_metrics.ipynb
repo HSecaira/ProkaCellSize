{
 "cells": [
  {
   "cell_type": "markdown",
   "metadata": {},
   "source": [
    "# Phylogenetic signal of cell size - attraction towards an optimum value over time"
   ]
  },
  {
   "cell_type": "code",
   "execution_count": 1,
   "metadata": {},
   "outputs": [
    {
     "name": "stderr",
     "output_type": "stream",
     "text": [
      "Loading required package: maps\n",
      "\n",
      "Loading required package: MASS\n",
      "\n",
      "Loading required package: mvtnorm\n",
      "\n",
      "Loading required package: corpcor\n",
      "\n",
      "Loading required package: nloptr\n",
      "\n",
      "Loading required package: RColorBrewer\n",
      "\n"
     ]
    }
   ],
   "source": [
    "library(ape)\n",
    "library(phytools)\n",
    "library(caper)\n",
    "library(geiger)\n",
    "library(OUwie)"
   ]
  },
  {
   "cell_type": "markdown",
   "metadata": {},
   "source": [
    "## Tree and data"
   ]
  },
  {
   "cell_type": "markdown",
   "metadata": {},
   "source": [
    "Load tree"
   ]
  },
  {
   "cell_type": "code",
   "execution_count": 2,
   "metadata": {},
   "outputs": [
    {
     "data": {
      "text/plain": [
       "\n",
       "Phylogenetic tree with 5380 tips and 1961 internal nodes.\n",
       "\n",
       "Tip labels:\n",
       "  taxid71518, taxid83984, taxid2193, taxid83985, taxid71152, taxid2203, ...\n",
       "Node labels:\n",
       "  N1, N5, N18, N51, N79, N119, ...\n",
       "\n",
       "Rooted; includes branch lengths."
      ]
     },
     "metadata": {},
     "output_type": "display_data"
    }
   ],
   "source": [
    "tree <- read.tree('../phylogeny/place/fine_all.nwk')\n",
    "tree"
   ]
  },
  {
   "cell_type": "markdown",
   "metadata": {},
   "source": [
    "Load data"
   ]
  },
  {
   "cell_type": "code",
   "execution_count": 3,
   "metadata": {},
   "outputs": [
    {
     "data": {
      "text/html": [
       "<table class=\"dataframe\">\n",
       "<caption>A data.frame: 3 × 23</caption>\n",
       "<thead>\n",
       "\t<tr><th></th><th scope=col>taxid</th><th scope=col>length</th><th scope=col>width</th><th scope=col>volume</th><th scope=col>surface</th><th scope=col>shape</th><th scope=col>species</th><th scope=col>genus</th><th scope=col>family</th><th scope=col>order</th><th scope=col>⋯</th><th scope=col>rank</th><th scope=col>node</th><th scope=col>genome</th><th scope=col>gc</th><th scope=col>proteins</th><th scope=col>coding</th><th scope=col>rrnas</th><th scope=col>MILC</th><th scope=col>ENCprime</th><th scope=col>hash</th></tr>\n",
       "\t<tr><th></th><th scope=col>&lt;chr&gt;</th><th scope=col>&lt;dbl&gt;</th><th scope=col>&lt;dbl&gt;</th><th scope=col>&lt;dbl&gt;</th><th scope=col>&lt;dbl&gt;</th><th scope=col>&lt;chr&gt;</th><th scope=col>&lt;chr&gt;</th><th scope=col>&lt;chr&gt;</th><th scope=col>&lt;chr&gt;</th><th scope=col>&lt;chr&gt;</th><th scope=col>⋯</th><th scope=col>&lt;chr&gt;</th><th scope=col>&lt;chr&gt;</th><th scope=col>&lt;dbl&gt;</th><th scope=col>&lt;dbl&gt;</th><th scope=col>&lt;dbl&gt;</th><th scope=col>&lt;dbl&gt;</th><th scope=col>&lt;dbl&gt;</th><th scope=col>&lt;dbl&gt;</th><th scope=col>&lt;dbl&gt;</th><th scope=col>&lt;dbl&gt;</th></tr>\n",
       "</thead>\n",
       "<tbody>\n",
       "\t<tr><th scope=row>1</th><td>taxid11</td><td> 2.371708</td><td>1.0606602</td><td>1.7831870</td><td> 7.902917</td><td>rod-shaped</td><td>Cellulomonas gilvus      </td><td>Cellulomonas</td><td>Cellulomonadaceae</td><td>Micrococcales  </td><td>⋯</td><td>species</td><td>G000218545</td><td>3526441</td><td>73.81</td><td>3206</td><td>91.77278</td><td>2</td><td>-0.2620050</td><td>0.10083562</td><td>1.15</td></tr>\n",
       "\t<tr><th scope=row>2</th><td>taxid14</td><td>10.000000</td><td>0.4898979</td><td>1.8541744</td><td>15.390598</td><td>rod-shaped</td><td>Dictyoglomus thermophilum</td><td>Dictyoglomus</td><td>Dictyoglomaceae  </td><td>Dictyoglomales </td><td>⋯</td><td>species</td><td>G000020965</td><td>1959987</td><td>33.74</td><td>1890</td><td>93.77725</td><td>2</td><td>-0.0644294</td><td>0.03020484</td><td>1.13</td></tr>\n",
       "\t<tr><th scope=row>3</th><td>taxid23</td><td> 1.500000</td><td>0.7000000</td><td>0.4874705</td><td> 3.298672</td><td>rod-shaped</td><td>Shewanella colwelliana   </td><td>Shewanella  </td><td>Shewanellaceae   </td><td>Alteromonadales</td><td>⋯</td><td>species</td><td>G000518705</td><td>4575622</td><td>45.39</td><td>4094</td><td>87.38314</td><td>0</td><td>-0.6533632</td><td>0.24898652</td><td>1.16</td></tr>\n",
       "</tbody>\n",
       "</table>\n"
      ],
      "text/latex": [
       "A data.frame: 3 × 23\n",
       "\\begin{tabular}{r|lllllllllllllllllllll}\n",
       "  & taxid & length & width & volume & surface & shape & species & genus & family & order & ⋯ & rank & node & genome & gc & proteins & coding & rrnas & MILC & ENCprime & hash\\\\\n",
       "  & <chr> & <dbl> & <dbl> & <dbl> & <dbl> & <chr> & <chr> & <chr> & <chr> & <chr> & ⋯ & <chr> & <chr> & <dbl> & <dbl> & <dbl> & <dbl> & <dbl> & <dbl> & <dbl> & <dbl>\\\\\n",
       "\\hline\n",
       "\t1 & taxid11 &  2.371708 & 1.0606602 & 1.7831870 &  7.902917 & rod-shaped & Cellulomonas gilvus       & Cellulomonas & Cellulomonadaceae & Micrococcales   & ⋯ & species & G000218545 & 3526441 & 73.81 & 3206 & 91.77278 & 2 & -0.2620050 & 0.10083562 & 1.15\\\\\n",
       "\t2 & taxid14 & 10.000000 & 0.4898979 & 1.8541744 & 15.390598 & rod-shaped & Dictyoglomus thermophilum & Dictyoglomus & Dictyoglomaceae   & Dictyoglomales  & ⋯ & species & G000020965 & 1959987 & 33.74 & 1890 & 93.77725 & 2 & -0.0644294 & 0.03020484 & 1.13\\\\\n",
       "\t3 & taxid23 &  1.500000 & 0.7000000 & 0.4874705 &  3.298672 & rod-shaped & Shewanella colwelliana    & Shewanella   & Shewanellaceae    & Alteromonadales & ⋯ & species & G000518705 & 4575622 & 45.39 & 4094 & 87.38314 & 0 & -0.6533632 & 0.24898652 & 1.16\\\\\n",
       "\\end{tabular}\n"
      ],
      "text/markdown": [
       "\n",
       "A data.frame: 3 × 23\n",
       "\n",
       "| <!--/--> | taxid &lt;chr&gt; | length &lt;dbl&gt; | width &lt;dbl&gt; | volume &lt;dbl&gt; | surface &lt;dbl&gt; | shape &lt;chr&gt; | species &lt;chr&gt; | genus &lt;chr&gt; | family &lt;chr&gt; | order &lt;chr&gt; | ⋯ ⋯ | rank &lt;chr&gt; | node &lt;chr&gt; | genome &lt;dbl&gt; | gc &lt;dbl&gt; | proteins &lt;dbl&gt; | coding &lt;dbl&gt; | rrnas &lt;dbl&gt; | MILC &lt;dbl&gt; | ENCprime &lt;dbl&gt; | hash &lt;dbl&gt; |\n",
       "|---|---|---|---|---|---|---|---|---|---|---|---|---|---|---|---|---|---|---|---|---|---|\n",
       "| 1 | taxid11 |  2.371708 | 1.0606602 | 1.7831870 |  7.902917 | rod-shaped | Cellulomonas gilvus       | Cellulomonas | Cellulomonadaceae | Micrococcales   | ⋯ | species | G000218545 | 3526441 | 73.81 | 3206 | 91.77278 | 2 | -0.2620050 | 0.10083562 | 1.15 |\n",
       "| 2 | taxid14 | 10.000000 | 0.4898979 | 1.8541744 | 15.390598 | rod-shaped | Dictyoglomus thermophilum | Dictyoglomus | Dictyoglomaceae   | Dictyoglomales  | ⋯ | species | G000020965 | 1959987 | 33.74 | 1890 | 93.77725 | 2 | -0.0644294 | 0.03020484 | 1.13 |\n",
       "| 3 | taxid23 |  1.500000 | 0.7000000 | 0.4874705 |  3.298672 | rod-shaped | Shewanella colwelliana    | Shewanella   | Shewanellaceae    | Alteromonadales | ⋯ | species | G000518705 | 4575622 | 45.39 | 4094 | 87.38314 | 0 | -0.6533632 | 0.24898652 | 1.16 |\n",
       "\n"
      ],
      "text/plain": [
       "  taxid   length    width     volume    surface   shape     \n",
       "1 taxid11  2.371708 1.0606602 1.7831870  7.902917 rod-shaped\n",
       "2 taxid14 10.000000 0.4898979 1.8541744 15.390598 rod-shaped\n",
       "3 taxid23  1.500000 0.7000000 0.4874705  3.298672 rod-shaped\n",
       "  species                   genus        family            order           ⋯\n",
       "1 Cellulomonas gilvus       Cellulomonas Cellulomonadaceae Micrococcales   ⋯\n",
       "2 Dictyoglomus thermophilum Dictyoglomus Dictyoglomaceae   Dictyoglomales  ⋯\n",
       "3 Shewanella colwelliana    Shewanella   Shewanellaceae    Alteromonadales ⋯\n",
       "  rank    node       genome  gc    proteins coding   rrnas MILC      \n",
       "1 species G000218545 3526441 73.81 3206     91.77278 2     -0.2620050\n",
       "2 species G000020965 1959987 33.74 1890     93.77725 2     -0.0644294\n",
       "3 species G000518705 4575622 45.39 4094     87.38314 0     -0.6533632\n",
       "  ENCprime   hash\n",
       "1 0.10083562 1.15\n",
       "2 0.03020484 1.13\n",
       "3 0.24898652 1.16"
      ]
     },
     "metadata": {},
     "output_type": "display_data"
    }
   ],
   "source": [
    "data <- read.table('../phylogeny/place/fine_all.tsv', header = TRUE, sep = '\\t', quote = '')\n",
    "head(data, 3)"
   ]
  },
  {
   "cell_type": "markdown",
   "metadata": {},
   "source": [
    "Log transform some metrics"
   ]
  },
  {
   "cell_type": "code",
   "execution_count": 4,
   "metadata": {},
   "outputs": [],
   "source": [
    "data[[paste(\"svratio\")]] = (data[['volume']] / data[['surface']])\n",
    "data[[paste(\"survol\")]] = (data[['surface']] / data[['volume']])"
   ]
  },
  {
   "cell_type": "code",
   "execution_count": 5,
   "metadata": {},
   "outputs": [],
   "source": [
    "cols = c(\"length\", \"width\", \"volume\", \"surface\", \"svratio\", \"survol\")"
   ]
  },
  {
   "cell_type": "code",
   "execution_count": 6,
   "metadata": {},
   "outputs": [],
   "source": [
    "for (col in cols) {\n",
    "    data[[paste(\"log\", col, sep=\"_\")]] = log10(data[[col]])\n",
    "}"
   ]
  },
  {
   "cell_type": "markdown",
   "metadata": {},
   "source": [
    "Set seed"
   ]
  },
  {
   "cell_type": "code",
   "execution_count": 7,
   "metadata": {},
   "outputs": [],
   "source": [
    "# set.seed(42)"
   ]
  },
  {
   "cell_type": "markdown",
   "metadata": {},
   "source": [
    "Binarize tree - required for geiger package"
   ]
  },
  {
   "cell_type": "code",
   "execution_count": 8,
   "metadata": {},
   "outputs": [
    {
     "data": {
      "text/html": [
       "FALSE"
      ],
      "text/latex": [
       "FALSE"
      ],
      "text/markdown": [
       "FALSE"
      ],
      "text/plain": [
       "[1] FALSE"
      ]
     },
     "metadata": {},
     "output_type": "display_data"
    }
   ],
   "source": [
    "tree2 <- multi2di(tree)\n",
    "is.ultrametric(tree2)"
   ]
  },
  {
   "cell_type": "markdown",
   "metadata": {},
   "source": [
    "# Comparing models of evolution"
   ]
  },
  {
   "cell_type": "code",
   "execution_count": 9,
   "metadata": {},
   "outputs": [],
   "source": [
    "cols = c(\"log_length\", \"log_width\", \"log_volume\", \"log_surface\", \"log_survol\", \"log_svratio\")\n",
    "# cols = c(\"log_length\", \"log_width\")"
   ]
  },
  {
   "cell_type": "code",
   "execution_count": 10,
   "metadata": {},
   "outputs": [
    {
     "data": {
      "text/html": [
       "<table class=\"dataframe\">\n",
       "<caption>A data.frame: 0 × 6</caption>\n",
       "<thead>\n",
       "\t<tr><th scope=col>sigma</th><th scope=col>zo</th><th scope=col>parameter</th><th scope=col>lnl</th><th scope=col>aic</th><th scope=col>aic_weight</th></tr>\n",
       "\t<tr><th scope=col>&lt;lgl&gt;</th><th scope=col>&lt;lgl&gt;</th><th scope=col>&lt;lgl&gt;</th><th scope=col>&lt;lgl&gt;</th><th scope=col>&lt;lgl&gt;</th><th scope=col>&lt;lgl&gt;</th></tr>\n",
       "</thead>\n",
       "<tbody>\n",
       "</tbody>\n",
       "</table>\n"
      ],
      "text/latex": [
       "A data.frame: 0 × 6\n",
       "\\begin{tabular}{llllll}\n",
       " sigma & zo & parameter & lnl & aic & aic\\_weight\\\\\n",
       " <lgl> & <lgl> & <lgl> & <lgl> & <lgl> & <lgl>\\\\\n",
       "\\hline\n",
       "\\end{tabular}\n"
      ],
      "text/markdown": [
       "\n",
       "A data.frame: 0 × 6\n",
       "\n",
       "| sigma &lt;lgl&gt; | zo &lt;lgl&gt; | parameter &lt;lgl&gt; | lnl &lt;lgl&gt; | aic &lt;lgl&gt; | aic_weight &lt;lgl&gt; |\n",
       "|---|---|---|---|---|---|\n",
       "\n"
      ],
      "text/plain": [
       "     sigma zo parameter lnl aic aic_weight"
      ]
     },
     "metadata": {},
     "output_type": "display_data"
    }
   ],
   "source": [
    "# Dataframe to save outputs\n",
    "df_models <- data.frame(matrix(ncol=6, nrow=0))\n",
    "colnames(df_models) <- c('sigma', 'zo', 'parameter', 'lnl', 'aic', 'aic_weight')\n",
    "df_models"
   ]
  },
  {
   "cell_type": "code",
   "execution_count": null,
   "metadata": {},
   "outputs": [],
   "source": []
  },
  {
   "cell_type": "code",
   "execution_count": 11,
   "metadata": {},
   "outputs": [
    {
     "name": "stdout",
     "output_type": "stream",
     "text": [
      "[1] \"log_length\"\n"
     ]
    },
    {
     "name": "stderr",
     "output_type": "stream",
     "text": [
      "Warning message in fitContinuous(tree2, datum, model = \"OU\", ncores = 24, bounds = list(alpha = c(0, :\n",
      "“Non-ultrametric tree with OU model, using VCV method.”\n",
      "Warning message in cache$dat - mu:\n",
      "“Recycling array of length 1 in vector-array arithmetic is deprecated.\n",
      "  Use c() or as.vector() instead.\n",
      "”\n",
      "Warning message in cache$dat - mu:\n",
      "“Recycling array of length 1 in vector-array arithmetic is deprecated.\n",
      "  Use c() or as.vector() instead.\n",
      "”\n"
     ]
    },
    {
     "name": "stdout",
     "output_type": "stream",
     "text": [
      "[1] \"log_width\"\n"
     ]
    },
    {
     "name": "stderr",
     "output_type": "stream",
     "text": [
      "Warning message in fitContinuous(tree2, datum, model = \"OU\", ncores = 24, bounds = list(alpha = c(0, :\n",
      "“Non-ultrametric tree with OU model, using VCV method.”\n",
      "Warning message in cache$dat - mu:\n",
      "“Recycling array of length 1 in vector-array arithmetic is deprecated.\n",
      "  Use c() or as.vector() instead.\n",
      "”\n",
      "Warning message in cache$dat - mu:\n",
      "“Recycling array of length 1 in vector-array arithmetic is deprecated.\n",
      "  Use c() or as.vector() instead.\n",
      "”\n"
     ]
    },
    {
     "name": "stdout",
     "output_type": "stream",
     "text": [
      "[1] \"log_volume\"\n"
     ]
    },
    {
     "name": "stderr",
     "output_type": "stream",
     "text": [
      "Warning message in fitContinuous(tree2, datum, model = \"OU\", ncores = 24, bounds = list(alpha = c(0, :\n",
      "“Non-ultrametric tree with OU model, using VCV method.”\n",
      "Warning message in cache$dat - mu:\n",
      "“Recycling array of length 1 in vector-array arithmetic is deprecated.\n",
      "  Use c() or as.vector() instead.\n",
      "”\n",
      "Warning message in cache$dat - mu:\n",
      "“Recycling array of length 1 in vector-array arithmetic is deprecated.\n",
      "  Use c() or as.vector() instead.\n",
      "”\n"
     ]
    },
    {
     "name": "stdout",
     "output_type": "stream",
     "text": [
      "[1] \"log_surface\"\n"
     ]
    },
    {
     "name": "stderr",
     "output_type": "stream",
     "text": [
      "Warning message in fitContinuous(tree2, datum, model = \"OU\", ncores = 24, bounds = list(alpha = c(0, :\n",
      "“Non-ultrametric tree with OU model, using VCV method.”\n",
      "Warning message in cache$dat - mu:\n",
      "“Recycling array of length 1 in vector-array arithmetic is deprecated.\n",
      "  Use c() or as.vector() instead.\n",
      "”\n",
      "Warning message in cache$dat - mu:\n",
      "“Recycling array of length 1 in vector-array arithmetic is deprecated.\n",
      "  Use c() or as.vector() instead.\n",
      "”\n"
     ]
    },
    {
     "name": "stdout",
     "output_type": "stream",
     "text": [
      "[1] \"log_survol\"\n"
     ]
    },
    {
     "name": "stderr",
     "output_type": "stream",
     "text": [
      "Warning message in fitContinuous(tree2, datum, model = \"EB\", control = list(method = c(\"subplex\", :\n",
      "“\n",
      "Parameter estimates appear at bounds:\n",
      "\ta”\n",
      "Warning message in fitContinuous(tree2, datum, model = \"OU\", ncores = 24, bounds = list(alpha = c(0, :\n",
      "“Non-ultrametric tree with OU model, using VCV method.”\n",
      "Warning message in cache$dat - mu:\n",
      "“Recycling array of length 1 in vector-array arithmetic is deprecated.\n",
      "  Use c() or as.vector() instead.\n",
      "”\n",
      "Warning message in cache$dat - mu:\n",
      "“Recycling array of length 1 in vector-array arithmetic is deprecated.\n",
      "  Use c() or as.vector() instead.\n",
      "”\n"
     ]
    },
    {
     "name": "stdout",
     "output_type": "stream",
     "text": [
      "[1] \"log_svratio\"\n"
     ]
    },
    {
     "name": "stderr",
     "output_type": "stream",
     "text": [
      "Warning message in fitContinuous(tree2, datum, model = \"EB\", control = list(method = c(\"subplex\", :\n",
      "“\n",
      "Parameter estimates appear at bounds:\n",
      "\ta”\n",
      "Warning message in fitContinuous(tree2, datum, model = \"OU\", ncores = 24, bounds = list(alpha = c(0, :\n",
      "“Non-ultrametric tree with OU model, using VCV method.”\n",
      "Warning message in cache$dat - mu:\n",
      "“Recycling array of length 1 in vector-array arithmetic is deprecated.\n",
      "  Use c() or as.vector() instead.\n",
      "”\n",
      "Warning message in cache$dat - mu:\n",
      "“Recycling array of length 1 in vector-array arithmetic is deprecated.\n",
      "  Use c() or as.vector() instead.\n",
      "”\n"
     ]
    },
    {
     "name": "stdout",
     "output_type": "stream",
     "text": [
      "Time difference of 6.95917 days\n"
     ]
    }
   ],
   "source": [
    "startTime <- Sys.time()\n",
    "for (col in cols) {\n",
    "    print(col)\n",
    "    datum <- setNames(data[[col]], data$taxid)\n",
    "    # Models of evolution\n",
    "    bm <- fitContinuous(tree2, datum, model = 'BM', control = list(method = c(\"subplex\",\"L-BFGS-B\"),\n",
    "    niter = 100, FAIL = 1e+200, hessian = FALSE, CI = 0.95))\n",
    "    eb <- fitContinuous(tree2, datum, model = 'EB', control = list(method = c(\"subplex\",\"L-BFGS-B\"),\n",
    "    niter = 100, FAIL = 1e+200, hessian = FALSE, CI = 0.95))\n",
    "    wh <- fitContinuous(tree2, datum, model = 'white', control = list(method = c(\"subplex\",\"L-BFGS-B\"),\n",
    "    niter = 100, FAIL = 1e+200, hessian = FALSE, CI = 0.95))\n",
    "    ou <- fitContinuous(tree2, datum, model = 'OU', ncores = 24, bounds = list(alpha = c(0, 500)))\n",
    "    # Akaike weigths\n",
    "    aic_cs <- setNames(c(AIC(bm), AIC(eb), AIC(wh)), c('BM', 'EB', 'WH'))\n",
    "    aic_cs.w <- aic.w(aic_cs)\n",
    "    # Add to table\n",
    "    # BM\n",
    "    df_models[nrow(df_models) + 1,] <- c(bm$opt$sigsq, bm$opt$z0, '', bm$opt$lnL, bm$opt$aic, aic_cs.w[1])\n",
    "    rownames(df_models)[nrow(df_models)] <- paste(c(col, 'bm'), collapse = '_')\n",
    "    # EB\n",
    "    df_models[nrow(df_models) + 1,] <- c(eb$opt$sigsq, eb$opt$z0, eb$opt$a, eb$opt$lnL, eb$opt$aic, aic_cs.w[2])\n",
    "    rownames(df_models)[nrow(df_models)] <- paste(c(col, 'eb'), collapse = '_')\n",
    "    # WH\n",
    "    df_models[nrow(df_models) + 1,] <- c(wh$opt$sigsq, wh$opt$z0, '', wh$opt$lnL, wh$opt$aic, aic_cs.w[3])\n",
    "    rownames(df_models)[nrow(df_models)] <- paste(c(col, 'wh'), collapse = '_')\n",
    "    # OU\n",
    "    df_models[nrow(df_models) + 1,] <- c(ou$opt$sigsq, ou$opt$z0, ou$opt$alpha, ou$opt$lnL, ou$opt$aic, aic_cs.w[4])\n",
    "    rownames(df_models)[nrow(df_models)] <- paste(c(col, 'ou'), collapse = '_')\n",
    "}\n",
    "endTime <- Sys.time()\n",
    "print(endTime - startTime)"
   ]
  },
  {
   "cell_type": "code",
   "execution_count": 12,
   "metadata": {},
   "outputs": [
    {
     "data": {
      "text/html": [
       "<table class=\"dataframe\">\n",
       "<caption>A data.frame: 24 × 6</caption>\n",
       "<thead>\n",
       "\t<tr><th></th><th scope=col>sigma</th><th scope=col>zo</th><th scope=col>parameter</th><th scope=col>lnl</th><th scope=col>aic</th><th scope=col>aic_weight</th></tr>\n",
       "\t<tr><th></th><th scope=col>&lt;chr&gt;</th><th scope=col>&lt;chr&gt;</th><th scope=col>&lt;chr&gt;</th><th scope=col>&lt;chr&gt;</th><th scope=col>&lt;chr&gt;</th><th scope=col>&lt;chr&gt;</th></tr>\n",
       "</thead>\n",
       "<tbody>\n",
       "\t<tr><th scope=row>log_length_bm</th><td>0.305313717880153 </td><td>0.35471168966103  </td><td>                     </td><td>-1.48220509665269</td><td>6.96441019330538 </td><td>0.731071243060858</td></tr>\n",
       "\t<tr><th scope=row>log_length_eb</th><td>0.305314484353685 </td><td>0.354711683713506 </td><td>-1.00408806311008e-06</td><td>-1.48226951094911</td><td>8.96453902189823 </td><td>0.268928756939142</td></tr>\n",
       "\t<tr><th scope=row>log_length_wh</th><td>0.0990999600304162</td><td>0.29493902520672  </td><td>                     </td><td>-1415.61472013192</td><td>2835.22944026384 </td><td>0                </td></tr>\n",
       "\t<tr><th scope=row>log_length_ou</th><td>0.394364632172533 </td><td>0.176034629300114 </td><td>1.45927524787313     </td><td>80.5258456301381 </td><td>-155.051691260276</td><td>NA               </td></tr>\n",
       "\t<tr><th scope=row>log_width_bm</th><td>0.186301213377839 </td><td>-0.2086246621032  </td><td>                     </td><td>1327.31064236703 </td><td>-2650.62128473405</td><td>0.731062966304206</td></tr>\n",
       "\t<tr><th scope=row>log_width_eb</th><td>0.186301091785185 </td><td>-0.208624663518205</td><td>-1.0116737184211e-06 </td><td>1327.31062005049 </td><td>-2648.62124010098</td><td>0.268937033695794</td></tr>\n",
       "\t<tr><th scope=row>log_width_wh</th><td>0.0648370632202481</td><td>-0.222797344533588</td><td>                     </td><td>-274.377824726946</td><td>552.755649453892 </td><td>0                </td></tr>\n",
       "\t<tr><th scope=row>log_width_ou</th><td>0.253096155438443 </td><td>-0.243735791333744</td><td>1.84716845682168     </td><td>1462.61341183399 </td><td>-2919.22682366797</td><td>NA               </td></tr>\n",
       "\t<tr><th scope=row>log_volume_bm</th><td>1.39119160951155  </td><td>-0.246864642544473</td><td>                     </td><td>-4081.0719010667 </td><td>8166.14380213341 </td><td>0.731065023403925</td></tr>\n",
       "\t<tr><th scope=row>log_volume_eb</th><td>1.39118088100865  </td><td>-0.246864652135057</td><td>-1.00403078402921e-06</td><td>-4081.07193384611</td><td>8168.14386769222 </td><td>0.268934976596075</td></tr>\n",
       "\t<tr><th scope=row>log_volume_wh</th><td>0.430752241750598 </td><td>-0.318672956918675</td><td>                     </td><td>-5368.31154629092</td><td>10740.6230925818 </td><td>0                </td></tr>\n",
       "\t<tr><th scope=row>log_volume_ou</th><td>1.91495756618624  </td><td>-0.491208092577002</td><td>1.95148488172384     </td><td>-3931.35037838139</td><td>7868.70075676278 </td><td>NA               </td></tr>\n",
       "\t<tr><th scope=row>log_surface_bm</th><td>0.661825667024845 </td><td>0.643236900251964 </td><td>                     </td><td>-2082.63388982197</td><td>4169.26777964395 </td><td>0.731066612584973</td></tr>\n",
       "\t<tr><th scope=row>log_surface_eb</th><td>0.661827475345561 </td><td>0.64323689296461  </td><td>-1.00003851097812e-06</td><td>-2082.63393068435</td><td>4171.2678613687  </td><td>0.268933387415027</td></tr>\n",
       "\t<tr><th scope=row>log_surface_wh</th><td>0.203616230131484 </td><td>0.569291553367266 </td><td>                     </td><td>-3352.70515146924</td><td>6709.41030293848 </td><td>0                </td></tr>\n",
       "\t<tr><th scope=row>log_surface_ou</th><td>0.900493711652164 </td><td>0.440351344827315 </td><td>1.8534853872721      </td><td>-1948.43899751117</td><td>3902.87799502235 </td><td>NA               </td></tr>\n",
       "\t<tr><th scope=row>log_survol_bm</th><td>0.165671836253625 </td><td>0.890101542796437 </td><td>                     </td><td>1642.99786185602 </td><td>-3281.99572371203</td><td>0.73106304789582 </td></tr>\n",
       "\t<tr><th scope=row>log_survol_eb</th><td>0.165672014465143 </td><td>0.890101545102297 </td><td>-1e-06               </td><td>1642.99783912449 </td><td>-3279.99567824898</td><td>0.26893695210418 </td></tr>\n",
       "\t<tr><th scope=row>log_survol_wh</th><td>0.0548728651011925</td><td>0.88796451028594  </td><td>                     </td><td>174.471360354001 </td><td>-344.942720708002</td><td>0                </td></tr>\n",
       "\t<tr><th scope=row>log_survol_ou</th><td>0.227968076259282 </td><td>0.930348668799069 </td><td>1.95320750719475     </td><td>1794.44700428891 </td><td>-3582.89400857781</td><td>NA               </td></tr>\n",
       "\t<tr><th scope=row>log_svratio_bm</th><td>0.165671836253533 </td><td>-0.890101542796437</td><td>                     </td><td>1642.99786185602 </td><td>-3281.99572371203</td><td>0.731063047892602</td></tr>\n",
       "\t<tr><th scope=row>log_svratio_eb</th><td>0.165672008833663 </td><td>-0.890101545102297</td><td>-1e-06               </td><td>1642.99783912451 </td><td>-3279.99567824901</td><td>0.268936952107398</td></tr>\n",
       "\t<tr><th scope=row>log_svratio_wh</th><td>0.0548728651010445</td><td>-0.887964510285941</td><td>                     </td><td>174.471360354003 </td><td>-344.942720708005</td><td>0                </td></tr>\n",
       "\t<tr><th scope=row>log_svratio_ou</th><td>0.227968076256877 </td><td>-0.930348668797667</td><td>1.95320750714517     </td><td>1794.44700428892 </td><td>-3582.89400857784</td><td>NA               </td></tr>\n",
       "</tbody>\n",
       "</table>\n"
      ],
      "text/latex": [
       "A data.frame: 24 × 6\n",
       "\\begin{tabular}{r|llllll}\n",
       "  & sigma & zo & parameter & lnl & aic & aic\\_weight\\\\\n",
       "  & <chr> & <chr> & <chr> & <chr> & <chr> & <chr>\\\\\n",
       "\\hline\n",
       "\tlog\\_length\\_bm & 0.305313717880153  & 0.35471168966103   &                       & -1.48220509665269 & 6.96441019330538  & 0.731071243060858\\\\\n",
       "\tlog\\_length\\_eb & 0.305314484353685  & 0.354711683713506  & -1.00408806311008e-06 & -1.48226951094911 & 8.96453902189823  & 0.268928756939142\\\\\n",
       "\tlog\\_length\\_wh & 0.0990999600304162 & 0.29493902520672   &                       & -1415.61472013192 & 2835.22944026384  & 0                \\\\\n",
       "\tlog\\_length\\_ou & 0.394364632172533  & 0.176034629300114  & 1.45927524787313      & 80.5258456301381  & -155.051691260276 & NA               \\\\\n",
       "\tlog\\_width\\_bm & 0.186301213377839  & -0.2086246621032   &                       & 1327.31064236703  & -2650.62128473405 & 0.731062966304206\\\\\n",
       "\tlog\\_width\\_eb & 0.186301091785185  & -0.208624663518205 & -1.0116737184211e-06  & 1327.31062005049  & -2648.62124010098 & 0.268937033695794\\\\\n",
       "\tlog\\_width\\_wh & 0.0648370632202481 & -0.222797344533588 &                       & -274.377824726946 & 552.755649453892  & 0                \\\\\n",
       "\tlog\\_width\\_ou & 0.253096155438443  & -0.243735791333744 & 1.84716845682168      & 1462.61341183399  & -2919.22682366797 & NA               \\\\\n",
       "\tlog\\_volume\\_bm & 1.39119160951155   & -0.246864642544473 &                       & -4081.0719010667  & 8166.14380213341  & 0.731065023403925\\\\\n",
       "\tlog\\_volume\\_eb & 1.39118088100865   & -0.246864652135057 & -1.00403078402921e-06 & -4081.07193384611 & 8168.14386769222  & 0.268934976596075\\\\\n",
       "\tlog\\_volume\\_wh & 0.430752241750598  & -0.318672956918675 &                       & -5368.31154629092 & 10740.6230925818  & 0                \\\\\n",
       "\tlog\\_volume\\_ou & 1.91495756618624   & -0.491208092577002 & 1.95148488172384      & -3931.35037838139 & 7868.70075676278  & NA               \\\\\n",
       "\tlog\\_surface\\_bm & 0.661825667024845  & 0.643236900251964  &                       & -2082.63388982197 & 4169.26777964395  & 0.731066612584973\\\\\n",
       "\tlog\\_surface\\_eb & 0.661827475345561  & 0.64323689296461   & -1.00003851097812e-06 & -2082.63393068435 & 4171.2678613687   & 0.268933387415027\\\\\n",
       "\tlog\\_surface\\_wh & 0.203616230131484  & 0.569291553367266  &                       & -3352.70515146924 & 6709.41030293848  & 0                \\\\\n",
       "\tlog\\_surface\\_ou & 0.900493711652164  & 0.440351344827315  & 1.8534853872721       & -1948.43899751117 & 3902.87799502235  & NA               \\\\\n",
       "\tlog\\_survol\\_bm & 0.165671836253625  & 0.890101542796437  &                       & 1642.99786185602  & -3281.99572371203 & 0.73106304789582 \\\\\n",
       "\tlog\\_survol\\_eb & 0.165672014465143  & 0.890101545102297  & -1e-06                & 1642.99783912449  & -3279.99567824898 & 0.26893695210418 \\\\\n",
       "\tlog\\_survol\\_wh & 0.0548728651011925 & 0.88796451028594   &                       & 174.471360354001  & -344.942720708002 & 0                \\\\\n",
       "\tlog\\_survol\\_ou & 0.227968076259282  & 0.930348668799069  & 1.95320750719475      & 1794.44700428891  & -3582.89400857781 & NA               \\\\\n",
       "\tlog\\_svratio\\_bm & 0.165671836253533  & -0.890101542796437 &                       & 1642.99786185602  & -3281.99572371203 & 0.731063047892602\\\\\n",
       "\tlog\\_svratio\\_eb & 0.165672008833663  & -0.890101545102297 & -1e-06                & 1642.99783912451  & -3279.99567824901 & 0.268936952107398\\\\\n",
       "\tlog\\_svratio\\_wh & 0.0548728651010445 & -0.887964510285941 &                       & 174.471360354003  & -344.942720708005 & 0                \\\\\n",
       "\tlog\\_svratio\\_ou & 0.227968076256877  & -0.930348668797667 & 1.95320750714517      & 1794.44700428892  & -3582.89400857784 & NA               \\\\\n",
       "\\end{tabular}\n"
      ],
      "text/markdown": [
       "\n",
       "A data.frame: 24 × 6\n",
       "\n",
       "| <!--/--> | sigma &lt;chr&gt; | zo &lt;chr&gt; | parameter &lt;chr&gt; | lnl &lt;chr&gt; | aic &lt;chr&gt; | aic_weight &lt;chr&gt; |\n",
       "|---|---|---|---|---|---|---|\n",
       "| log_length_bm | 0.305313717880153  | 0.35471168966103   | <!----> | -1.48220509665269 | 6.96441019330538  | 0.731071243060858 |\n",
       "| log_length_eb | 0.305314484353685  | 0.354711683713506  | -1.00408806311008e-06 | -1.48226951094911 | 8.96453902189823  | 0.268928756939142 |\n",
       "| log_length_wh | 0.0990999600304162 | 0.29493902520672   | <!----> | -1415.61472013192 | 2835.22944026384  | 0                 |\n",
       "| log_length_ou | 0.394364632172533  | 0.176034629300114  | 1.45927524787313      | 80.5258456301381  | -155.051691260276 | NA                |\n",
       "| log_width_bm | 0.186301213377839  | -0.2086246621032   | <!----> | 1327.31064236703  | -2650.62128473405 | 0.731062966304206 |\n",
       "| log_width_eb | 0.186301091785185  | -0.208624663518205 | -1.0116737184211e-06  | 1327.31062005049  | -2648.62124010098 | 0.268937033695794 |\n",
       "| log_width_wh | 0.0648370632202481 | -0.222797344533588 | <!----> | -274.377824726946 | 552.755649453892  | 0                 |\n",
       "| log_width_ou | 0.253096155438443  | -0.243735791333744 | 1.84716845682168      | 1462.61341183399  | -2919.22682366797 | NA                |\n",
       "| log_volume_bm | 1.39119160951155   | -0.246864642544473 | <!----> | -4081.0719010667  | 8166.14380213341  | 0.731065023403925 |\n",
       "| log_volume_eb | 1.39118088100865   | -0.246864652135057 | -1.00403078402921e-06 | -4081.07193384611 | 8168.14386769222  | 0.268934976596075 |\n",
       "| log_volume_wh | 0.430752241750598  | -0.318672956918675 | <!----> | -5368.31154629092 | 10740.6230925818  | 0                 |\n",
       "| log_volume_ou | 1.91495756618624   | -0.491208092577002 | 1.95148488172384      | -3931.35037838139 | 7868.70075676278  | NA                |\n",
       "| log_surface_bm | 0.661825667024845  | 0.643236900251964  | <!----> | -2082.63388982197 | 4169.26777964395  | 0.731066612584973 |\n",
       "| log_surface_eb | 0.661827475345561  | 0.64323689296461   | -1.00003851097812e-06 | -2082.63393068435 | 4171.2678613687   | 0.268933387415027 |\n",
       "| log_surface_wh | 0.203616230131484  | 0.569291553367266  | <!----> | -3352.70515146924 | 6709.41030293848  | 0                 |\n",
       "| log_surface_ou | 0.900493711652164  | 0.440351344827315  | 1.8534853872721       | -1948.43899751117 | 3902.87799502235  | NA                |\n",
       "| log_survol_bm | 0.165671836253625  | 0.890101542796437  | <!----> | 1642.99786185602  | -3281.99572371203 | 0.73106304789582  |\n",
       "| log_survol_eb | 0.165672014465143  | 0.890101545102297  | -1e-06                | 1642.99783912449  | -3279.99567824898 | 0.26893695210418  |\n",
       "| log_survol_wh | 0.0548728651011925 | 0.88796451028594   | <!----> | 174.471360354001  | -344.942720708002 | 0                 |\n",
       "| log_survol_ou | 0.227968076259282  | 0.930348668799069  | 1.95320750719475      | 1794.44700428891  | -3582.89400857781 | NA                |\n",
       "| log_svratio_bm | 0.165671836253533  | -0.890101542796437 | <!----> | 1642.99786185602  | -3281.99572371203 | 0.731063047892602 |\n",
       "| log_svratio_eb | 0.165672008833663  | -0.890101545102297 | -1e-06                | 1642.99783912451  | -3279.99567824901 | 0.268936952107398 |\n",
       "| log_svratio_wh | 0.0548728651010445 | -0.887964510285941 | <!----> | 174.471360354003  | -344.942720708005 | 0                 |\n",
       "| log_svratio_ou | 0.227968076256877  | -0.930348668797667 | 1.95320750714517      | 1794.44700428892  | -3582.89400857784 | NA                |\n",
       "\n"
      ],
      "text/plain": [
       "               sigma              zo                 parameter            \n",
       "log_length_bm  0.305313717880153  0.35471168966103                        \n",
       "log_length_eb  0.305314484353685  0.354711683713506  -1.00408806311008e-06\n",
       "log_length_wh  0.0990999600304162 0.29493902520672                        \n",
       "log_length_ou  0.394364632172533  0.176034629300114  1.45927524787313     \n",
       "log_width_bm   0.186301213377839  -0.2086246621032                        \n",
       "log_width_eb   0.186301091785185  -0.208624663518205 -1.0116737184211e-06 \n",
       "log_width_wh   0.0648370632202481 -0.222797344533588                      \n",
       "log_width_ou   0.253096155438443  -0.243735791333744 1.84716845682168     \n",
       "log_volume_bm  1.39119160951155   -0.246864642544473                      \n",
       "log_volume_eb  1.39118088100865   -0.246864652135057 -1.00403078402921e-06\n",
       "log_volume_wh  0.430752241750598  -0.318672956918675                      \n",
       "log_volume_ou  1.91495756618624   -0.491208092577002 1.95148488172384     \n",
       "log_surface_bm 0.661825667024845  0.643236900251964                       \n",
       "log_surface_eb 0.661827475345561  0.64323689296461   -1.00003851097812e-06\n",
       "log_surface_wh 0.203616230131484  0.569291553367266                       \n",
       "log_surface_ou 0.900493711652164  0.440351344827315  1.8534853872721      \n",
       "log_survol_bm  0.165671836253625  0.890101542796437                       \n",
       "log_survol_eb  0.165672014465143  0.890101545102297  -1e-06               \n",
       "log_survol_wh  0.0548728651011925 0.88796451028594                        \n",
       "log_survol_ou  0.227968076259282  0.930348668799069  1.95320750719475     \n",
       "log_svratio_bm 0.165671836253533  -0.890101542796437                      \n",
       "log_svratio_eb 0.165672008833663  -0.890101545102297 -1e-06               \n",
       "log_svratio_wh 0.0548728651010445 -0.887964510285941                      \n",
       "log_svratio_ou 0.227968076256877  -0.930348668797667 1.95320750714517     \n",
       "               lnl               aic               aic_weight       \n",
       "log_length_bm  -1.48220509665269 6.96441019330538  0.731071243060858\n",
       "log_length_eb  -1.48226951094911 8.96453902189823  0.268928756939142\n",
       "log_length_wh  -1415.61472013192 2835.22944026384  0                \n",
       "log_length_ou  80.5258456301381  -155.051691260276 NA               \n",
       "log_width_bm   1327.31064236703  -2650.62128473405 0.731062966304206\n",
       "log_width_eb   1327.31062005049  -2648.62124010098 0.268937033695794\n",
       "log_width_wh   -274.377824726946 552.755649453892  0                \n",
       "log_width_ou   1462.61341183399  -2919.22682366797 NA               \n",
       "log_volume_bm  -4081.0719010667  8166.14380213341  0.731065023403925\n",
       "log_volume_eb  -4081.07193384611 8168.14386769222  0.268934976596075\n",
       "log_volume_wh  -5368.31154629092 10740.6230925818  0                \n",
       "log_volume_ou  -3931.35037838139 7868.70075676278  NA               \n",
       "log_surface_bm -2082.63388982197 4169.26777964395  0.731066612584973\n",
       "log_surface_eb -2082.63393068435 4171.2678613687   0.268933387415027\n",
       "log_surface_wh -3352.70515146924 6709.41030293848  0                \n",
       "log_surface_ou -1948.43899751117 3902.87799502235  NA               \n",
       "log_survol_bm  1642.99786185602  -3281.99572371203 0.73106304789582 \n",
       "log_survol_eb  1642.99783912449  -3279.99567824898 0.26893695210418 \n",
       "log_survol_wh  174.471360354001  -344.942720708002 0                \n",
       "log_survol_ou  1794.44700428891  -3582.89400857781 NA               \n",
       "log_svratio_bm 1642.99786185602  -3281.99572371203 0.731063047892602\n",
       "log_svratio_eb 1642.99783912451  -3279.99567824901 0.268936952107398\n",
       "log_svratio_wh 174.471360354003  -344.942720708005 0                \n",
       "log_svratio_ou 1794.44700428892  -3582.89400857784 NA               "
      ]
     },
     "metadata": {},
     "output_type": "display_data"
    }
   ],
   "source": [
    "df_models"
   ]
  },
  {
   "cell_type": "markdown",
   "metadata": {},
   "source": [
    "I forgot to add the OU model for the Akaike weight calculation. This can be easily fixed. **The OU model, for all metrics, has the highest log-likelihood and lowest AIC, so if Akaike weights were calculated (again easily fixable), it will assign the highest weight to OU!**"
   ]
  },
  {
   "cell_type": "code",
   "execution_count": null,
   "metadata": {},
   "outputs": [],
   "source": []
  },
  {
   "cell_type": "code",
   "execution_count": null,
   "metadata": {},
   "outputs": [],
   "source": []
  },
  {
   "cell_type": "code",
   "execution_count": null,
   "metadata": {},
   "outputs": [],
   "source": []
  },
  {
   "cell_type": "code",
   "execution_count": null,
   "metadata": {},
   "outputs": [],
   "source": []
  },
  {
   "cell_type": "code",
   "execution_count": null,
   "metadata": {},
   "outputs": [],
   "source": []
  },
  {
   "cell_type": "code",
   "execution_count": null,
   "metadata": {},
   "outputs": [],
   "source": []
  },
  {
   "cell_type": "code",
   "execution_count": null,
   "metadata": {},
   "outputs": [],
   "source": []
  },
  {
   "cell_type": "code",
   "execution_count": null,
   "metadata": {},
   "outputs": [],
   "source": []
  }
 ],
 "metadata": {
  "kernelspec": {
   "display_name": "R",
   "language": "R",
   "name": "ir"
  },
  "language_info": {
   "codemirror_mode": "r",
   "file_extension": ".r",
   "mimetype": "text/x-r-source",
   "name": "R",
   "pygments_lexer": "r",
   "version": "4.1.2"
  }
 },
 "nbformat": 4,
 "nbformat_minor": 4
}
