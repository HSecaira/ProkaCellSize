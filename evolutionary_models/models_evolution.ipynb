{
 "cells": [
  {
   "cell_type": "code",
   "execution_count": 1,
   "metadata": {},
   "outputs": [
    {
     "name": "stderr",
     "output_type": "stream",
     "text": [
      "Loading required package: maps\n",
      "\n",
      "Loading required package: MASS\n",
      "\n",
      "Loading required package: mvtnorm\n",
      "\n",
      "Loading required package: corpcor\n",
      "\n",
      "Loading required package: nloptr\n",
      "\n",
      "Loading required package: RColorBrewer\n",
      "\n"
     ]
    }
   ],
   "source": [
    "library(ape)\n",
    "library(phytools)\n",
    "library(caper)\n",
    "library(geiger)\n",
    "library(OUwie)"
   ]
  },
  {
   "cell_type": "code",
   "execution_count": 2,
   "metadata": {},
   "outputs": [],
   "source": [
    "# set.seed(30)"
   ]
  },
  {
   "cell_type": "code",
   "execution_count": 3,
   "metadata": {},
   "outputs": [
    {
     "data": {
      "text/plain": [
       "\n",
       "Phylogenetic tree with 5380 tips and 1961 internal nodes.\n",
       "\n",
       "Tip labels:\n",
       "  taxid71518, taxid83984, taxid2193, taxid83985, taxid71152, taxid2203, ...\n",
       "Node labels:\n",
       "  N1, N5, N18, N51, N79, N119, ...\n",
       "\n",
       "Rooted; includes branch lengths."
      ]
     },
     "metadata": {},
     "output_type": "display_data"
    }
   ],
   "source": [
    "tree <- read.tree('../phylogeny/place/fine_all.nwk')\n",
    "tree"
   ]
  },
  {
   "cell_type": "code",
   "execution_count": 4,
   "metadata": {},
   "outputs": [
    {
     "data": {
      "text/html": [
       "<table class=\"dataframe\">\n",
       "<caption>A data.frame: 3 × 27</caption>\n",
       "<thead>\n",
       "\t<tr><th></th><th scope=col>taxid</th><th scope=col>length</th><th scope=col>width</th><th scope=col>volume</th><th scope=col>surface</th><th scope=col>shape</th><th scope=col>species</th><th scope=col>genus</th><th scope=col>family</th><th scope=col>order</th><th scope=col>⋯</th><th scope=col>proteins</th><th scope=col>coding</th><th scope=col>rrnas</th><th scope=col>MILC</th><th scope=col>B</th><th scope=col>MCB</th><th scope=col>ENC</th><th scope=col>ENCprime</th><th scope=col>SCUO</th><th scope=col>hash</th></tr>\n",
       "\t<tr><th></th><th scope=col>&lt;chr&gt;</th><th scope=col>&lt;dbl&gt;</th><th scope=col>&lt;dbl&gt;</th><th scope=col>&lt;dbl&gt;</th><th scope=col>&lt;dbl&gt;</th><th scope=col>&lt;chr&gt;</th><th scope=col>&lt;chr&gt;</th><th scope=col>&lt;chr&gt;</th><th scope=col>&lt;chr&gt;</th><th scope=col>&lt;chr&gt;</th><th scope=col>⋯</th><th scope=col>&lt;dbl&gt;</th><th scope=col>&lt;dbl&gt;</th><th scope=col>&lt;dbl&gt;</th><th scope=col>&lt;dbl&gt;</th><th scope=col>&lt;dbl&gt;</th><th scope=col>&lt;dbl&gt;</th><th scope=col>&lt;dbl&gt;</th><th scope=col>&lt;dbl&gt;</th><th scope=col>&lt;dbl&gt;</th><th scope=col>&lt;dbl&gt;</th></tr>\n",
       "</thead>\n",
       "<tbody>\n",
       "\t<tr><th scope=row>1</th><td>taxid11</td><td> 2.371708</td><td>1.0606602</td><td>1.7831870</td><td> 7.902917</td><td>rod-shaped</td><td>Cellulomonas gilvus      </td><td>Cellulomonas</td><td>Cellulomonadaceae</td><td>Micrococcales  </td><td>⋯</td><td>3206</td><td>91.77278</td><td>2</td><td>0.24405470</td><td> 0.099130900</td><td> 0.46763293</td><td>0.04549081</td><td>-0.03399343</td><td>-0.1773420</td><td>1.21</td></tr>\n",
       "\t<tr><th scope=row>2</th><td>taxid14</td><td>10.000000</td><td>0.4898979</td><td>1.8541744</td><td>15.390598</td><td>rod-shaped</td><td>Dictyoglomus thermophilum</td><td>Dictyoglomus</td><td>Dictyoglomaceae  </td><td>Dictyoglomales </td><td>⋯</td><td>1890</td><td>93.77725</td><td>2</td><td>0.05881714</td><td>-0.192631758</td><td>-0.05707928</td><td>0.02185290</td><td>-0.01104863</td><td>-0.2228213</td><td>1.50</td></tr>\n",
       "\t<tr><th scope=row>3</th><td>taxid23</td><td> 1.500000</td><td>0.7000000</td><td>0.4874705</td><td> 3.298672</td><td>rod-shaped</td><td>Shewanella colwelliana   </td><td>Shewanella  </td><td>Shewanellaceae   </td><td>Alteromonadales</td><td>⋯</td><td>4094</td><td>87.38314</td><td>0</td><td>0.13502902</td><td>-0.002838678</td><td> 0.08282373</td><td>0.21534919</td><td>-0.03105027</td><td>-1.1902120</td><td>1.37</td></tr>\n",
       "</tbody>\n",
       "</table>\n"
      ],
      "text/latex": [
       "A data.frame: 3 × 27\n",
       "\\begin{tabular}{r|lllllllllllllllllllll}\n",
       "  & taxid & length & width & volume & surface & shape & species & genus & family & order & ⋯ & proteins & coding & rrnas & MILC & B & MCB & ENC & ENCprime & SCUO & hash\\\\\n",
       "  & <chr> & <dbl> & <dbl> & <dbl> & <dbl> & <chr> & <chr> & <chr> & <chr> & <chr> & ⋯ & <dbl> & <dbl> & <dbl> & <dbl> & <dbl> & <dbl> & <dbl> & <dbl> & <dbl> & <dbl>\\\\\n",
       "\\hline\n",
       "\t1 & taxid11 &  2.371708 & 1.0606602 & 1.7831870 &  7.902917 & rod-shaped & Cellulomonas gilvus       & Cellulomonas & Cellulomonadaceae & Micrococcales   & ⋯ & 3206 & 91.77278 & 2 & 0.24405470 &  0.099130900 &  0.46763293 & 0.04549081 & -0.03399343 & -0.1773420 & 1.21\\\\\n",
       "\t2 & taxid14 & 10.000000 & 0.4898979 & 1.8541744 & 15.390598 & rod-shaped & Dictyoglomus thermophilum & Dictyoglomus & Dictyoglomaceae   & Dictyoglomales  & ⋯ & 1890 & 93.77725 & 2 & 0.05881714 & -0.192631758 & -0.05707928 & 0.02185290 & -0.01104863 & -0.2228213 & 1.50\\\\\n",
       "\t3 & taxid23 &  1.500000 & 0.7000000 & 0.4874705 &  3.298672 & rod-shaped & Shewanella colwelliana    & Shewanella   & Shewanellaceae    & Alteromonadales & ⋯ & 4094 & 87.38314 & 0 & 0.13502902 & -0.002838678 &  0.08282373 & 0.21534919 & -0.03105027 & -1.1902120 & 1.37\\\\\n",
       "\\end{tabular}\n"
      ],
      "text/markdown": [
       "\n",
       "A data.frame: 3 × 27\n",
       "\n",
       "| <!--/--> | taxid &lt;chr&gt; | length &lt;dbl&gt; | width &lt;dbl&gt; | volume &lt;dbl&gt; | surface &lt;dbl&gt; | shape &lt;chr&gt; | species &lt;chr&gt; | genus &lt;chr&gt; | family &lt;chr&gt; | order &lt;chr&gt; | ⋯ ⋯ | proteins &lt;dbl&gt; | coding &lt;dbl&gt; | rrnas &lt;dbl&gt; | MILC &lt;dbl&gt; | B &lt;dbl&gt; | MCB &lt;dbl&gt; | ENC &lt;dbl&gt; | ENCprime &lt;dbl&gt; | SCUO &lt;dbl&gt; | hash &lt;dbl&gt; |\n",
       "|---|---|---|---|---|---|---|---|---|---|---|---|---|---|---|---|---|---|---|---|---|---|\n",
       "| 1 | taxid11 |  2.371708 | 1.0606602 | 1.7831870 |  7.902917 | rod-shaped | Cellulomonas gilvus       | Cellulomonas | Cellulomonadaceae | Micrococcales   | ⋯ | 3206 | 91.77278 | 2 | 0.24405470 |  0.099130900 |  0.46763293 | 0.04549081 | -0.03399343 | -0.1773420 | 1.21 |\n",
       "| 2 | taxid14 | 10.000000 | 0.4898979 | 1.8541744 | 15.390598 | rod-shaped | Dictyoglomus thermophilum | Dictyoglomus | Dictyoglomaceae   | Dictyoglomales  | ⋯ | 1890 | 93.77725 | 2 | 0.05881714 | -0.192631758 | -0.05707928 | 0.02185290 | -0.01104863 | -0.2228213 | 1.50 |\n",
       "| 3 | taxid23 |  1.500000 | 0.7000000 | 0.4874705 |  3.298672 | rod-shaped | Shewanella colwelliana    | Shewanella   | Shewanellaceae    | Alteromonadales | ⋯ | 4094 | 87.38314 | 0 | 0.13502902 | -0.002838678 |  0.08282373 | 0.21534919 | -0.03105027 | -1.1902120 | 1.37 |\n",
       "\n"
      ],
      "text/plain": [
       "  taxid   length    width     volume    surface   shape     \n",
       "1 taxid11  2.371708 1.0606602 1.7831870  7.902917 rod-shaped\n",
       "2 taxid14 10.000000 0.4898979 1.8541744 15.390598 rod-shaped\n",
       "3 taxid23  1.500000 0.7000000 0.4874705  3.298672 rod-shaped\n",
       "  species                   genus        family            order           ⋯\n",
       "1 Cellulomonas gilvus       Cellulomonas Cellulomonadaceae Micrococcales   ⋯\n",
       "2 Dictyoglomus thermophilum Dictyoglomus Dictyoglomaceae   Dictyoglomales  ⋯\n",
       "3 Shewanella colwelliana    Shewanella   Shewanellaceae    Alteromonadales ⋯\n",
       "  proteins coding   rrnas MILC       B            MCB         ENC       \n",
       "1 3206     91.77278 2     0.24405470  0.099130900  0.46763293 0.04549081\n",
       "2 1890     93.77725 2     0.05881714 -0.192631758 -0.05707928 0.02185290\n",
       "3 4094     87.38314 0     0.13502902 -0.002838678  0.08282373 0.21534919\n",
       "  ENCprime    SCUO       hash\n",
       "1 -0.03399343 -0.1773420 1.21\n",
       "2 -0.01104863 -0.2228213 1.50\n",
       "3 -0.03105027 -1.1902120 1.37"
      ]
     },
     "metadata": {},
     "output_type": "display_data"
    }
   ],
   "source": [
    "data <- read.table('../phylogeny/place/fine_all.tsv', header = TRUE, sep = '\\t', quote = '')\n",
    "head(data, 3)"
   ]
  },
  {
   "cell_type": "code",
   "execution_count": 5,
   "metadata": {},
   "outputs": [],
   "source": [
    "data[[paste(\"svratio\")]] = (data[['volume']] / data[['surface']])"
   ]
  },
  {
   "cell_type": "code",
   "execution_count": 6,
   "metadata": {},
   "outputs": [],
   "source": [
    "cols = c(\"volume\", \"surface\", \"svratio\")"
   ]
  },
  {
   "cell_type": "code",
   "execution_count": 7,
   "metadata": {},
   "outputs": [],
   "source": [
    "for (col in cols) {\n",
    "    data[[paste(\"log\", col, sep=\"_\")]] = log10(data[[col]])\n",
    "}"
   ]
  },
  {
   "cell_type": "markdown",
   "metadata": {},
   "source": [
    "Binarize tree"
   ]
  },
  {
   "cell_type": "code",
   "execution_count": 8,
   "metadata": {},
   "outputs": [
    {
     "data": {
      "text/html": [
       "FALSE"
      ],
      "text/latex": [
       "FALSE"
      ],
      "text/markdown": [
       "FALSE"
      ],
      "text/plain": [
       "[1] FALSE"
      ]
     },
     "metadata": {},
     "output_type": "display_data"
    }
   ],
   "source": [
    "tree2 <- multi2di(tree)\n",
    "is.ultrametric(tree2)"
   ]
  },
  {
   "cell_type": "code",
   "execution_count": 11,
   "metadata": {},
   "outputs": [],
   "source": [
    "datum <- setNames(data$log_svratio, data$taxid)"
   ]
  },
  {
   "cell_type": "code",
   "execution_count": 12,
   "metadata": {},
   "outputs": [],
   "source": [
    "# set.seed(42)"
   ]
  },
  {
   "cell_type": "markdown",
   "metadata": {},
   "source": [
    "Comparing models of evolution"
   ]
  },
  {
   "cell_type": "markdown",
   "metadata": {},
   "source": [
    "## Ornstein-Uhlenbeck model\n",
    "\n",
    "* \"It is a modification of the Brownian model with an additional parameter $\\alpha$ that measures the strength of return towards theoretical optimum.\"\n",
    "\n",
    "* \"It is a random walk in which trait values revert back towards some optimal value $\\mu$ with an attraction strength proportional to the parameter $\\alpha$.\"\n",
    "    * \"$\\alpha$ is referred to as the rubber and parameter because of the way it pulls traits back towards $\\mu$\"\n",
    "    * \"$\\mu$ is a long-term mean, and it is assumed that species traits evolve around this value. In **Geiger** $\\mu$ is the same as the state of the root at time zero (single sttionary peak).\"\n",
    "    \n",
    "**Interpretation:**\n",
    "\n",
    "* $\\alpha \\approx 0$: trait evolution is approximately Brownian\n",
    "* $\\alpha \\gg 0$ (i.e. large): traits shows some degree of non-Brownian behavior \n",
    "* $\\alpha \\ggg 0$ (i.e. really large): all imprint in history is lost and the trait evolution is essentially a rapid burst at the present. \n",
    "    * **How large?** After reescaling the tree: -log($\\alpha$) = 4: low, almost Brownian. -log($\\alpha$) = -4 very high value, so trait is returning towards its theoretical optimum.\n",
    "\n",
    "\"$\\alpha$ scales with the tree height: taller trees will have lower $\\alpha$ values because there is more time for traits to return to the optimum value, and thus the strength of the pull towards the optimum can be smaller.\" **Solution: reescale trees to 1**. "
   ]
  },
  {
   "cell_type": "code",
   "execution_count": 13,
   "metadata": {},
   "outputs": [
    {
     "name": "stdout",
     "output_type": "stream",
     "text": [
      "Time difference of 1.681522 secs\n"
     ]
    },
    {
     "data": {
      "text/html": [
       "<dl>\n",
       "\t<dt>$sigsq</dt>\n",
       "\t\t<dd>0.165671836253533</dd>\n",
       "\t<dt>$z0</dt>\n",
       "\t\t<dd>-0.890101542796437</dd>\n",
       "\t<dt>$lnL</dt>\n",
       "\t\t<dd>1642.99786185602</dd>\n",
       "\t<dt>$method</dt>\n",
       "\t\t<dd>'Brent'</dd>\n",
       "\t<dt>$k</dt>\n",
       "\t\t<dd>2</dd>\n",
       "\t<dt>$aic</dt>\n",
       "\t\t<dd>-3281.99572371203</dd>\n",
       "\t<dt>$aicc</dt>\n",
       "\t\t<dd>-3281.9934919843</dd>\n",
       "</dl>\n"
      ],
      "text/latex": [
       "\\begin{description}\n",
       "\\item[\\$sigsq] 0.165671836253533\n",
       "\\item[\\$z0] -0.890101542796437\n",
       "\\item[\\$lnL] 1642.99786185602\n",
       "\\item[\\$method] 'Brent'\n",
       "\\item[\\$k] 2\n",
       "\\item[\\$aic] -3281.99572371203\n",
       "\\item[\\$aicc] -3281.9934919843\n",
       "\\end{description}\n"
      ],
      "text/markdown": [
       "$sigsq\n",
       ":   0.165671836253533\n",
       "$z0\n",
       ":   -0.890101542796437\n",
       "$lnL\n",
       ":   1642.99786185602\n",
       "$method\n",
       ":   'Brent'\n",
       "$k\n",
       ":   2\n",
       "$aic\n",
       ":   -3281.99572371203\n",
       "$aicc\n",
       ":   -3281.9934919843\n",
       "\n",
       "\n"
      ],
      "text/plain": [
       "$sigsq\n",
       "[1] 0.1656718\n",
       "\n",
       "$z0\n",
       "[1] -0.8901015\n",
       "\n",
       "$lnL\n",
       "[1] 1642.998\n",
       "\n",
       "$method\n",
       "[1] \"Brent\"\n",
       "\n",
       "$k\n",
       "[1] 2\n",
       "\n",
       "$aic\n",
       "[1] -3281.996\n",
       "\n",
       "$aicc\n",
       "[1] -3281.993\n"
      ]
     },
     "metadata": {},
     "output_type": "display_data"
    }
   ],
   "source": [
    "startTime <- Sys.time()\n",
    "bm <- fitContinuous(tree2, datum, model = 'BM', control = list(method = c(\"subplex\",\"L-BFGS-B\"),\n",
    "    niter = 100, FAIL = 1e+200, hessian = FALSE, CI = 0.95))\n",
    "endTime <- Sys.time()\n",
    "print(endTime - startTime)\n",
    "bm$opt"
   ]
  },
  {
   "cell_type": "code",
   "execution_count": 14,
   "metadata": {},
   "outputs": [
    {
     "name": "stderr",
     "output_type": "stream",
     "text": [
      "Warning message in fitContinuous(tree2, datum, model = \"EB\", control = list(method = c(\"subplex\", :\n",
      "“\n",
      "Parameter estimates appear at bounds:\n",
      "\ta”\n"
     ]
    },
    {
     "name": "stdout",
     "output_type": "stream",
     "text": [
      "Time difference of 3.479607 secs\n"
     ]
    },
    {
     "data": {
      "text/html": [
       "<dl>\n",
       "\t<dt>$a</dt>\n",
       "\t\t<dd>-1e-06</dd>\n",
       "\t<dt>$sigsq</dt>\n",
       "\t\t<dd>0.165672009233172</dd>\n",
       "\t<dt>$z0</dt>\n",
       "\t\t<dd>-0.890101545102297</dd>\n",
       "\t<dt>$lnL</dt>\n",
       "\t\t<dd>1642.99783912451</dd>\n",
       "\t<dt>$method</dt>\n",
       "\t\t<dd>'L-BFGS-B'</dd>\n",
       "\t<dt>$k</dt>\n",
       "\t\t<dd>3</dd>\n",
       "\t<dt>$aic</dt>\n",
       "\t\t<dd>-3279.99567824901</dd>\n",
       "\t<dt>$aicc</dt>\n",
       "\t\t<dd>-3279.9912139633</dd>\n",
       "</dl>\n"
      ],
      "text/latex": [
       "\\begin{description}\n",
       "\\item[\\$a] -1e-06\n",
       "\\item[\\$sigsq] 0.165672009233172\n",
       "\\item[\\$z0] -0.890101545102297\n",
       "\\item[\\$lnL] 1642.99783912451\n",
       "\\item[\\$method] 'L-BFGS-B'\n",
       "\\item[\\$k] 3\n",
       "\\item[\\$aic] -3279.99567824901\n",
       "\\item[\\$aicc] -3279.9912139633\n",
       "\\end{description}\n"
      ],
      "text/markdown": [
       "$a\n",
       ":   -1e-06\n",
       "$sigsq\n",
       ":   0.165672009233172\n",
       "$z0\n",
       ":   -0.890101545102297\n",
       "$lnL\n",
       ":   1642.99783912451\n",
       "$method\n",
       ":   'L-BFGS-B'\n",
       "$k\n",
       ":   3\n",
       "$aic\n",
       ":   -3279.99567824901\n",
       "$aicc\n",
       ":   -3279.9912139633\n",
       "\n",
       "\n"
      ],
      "text/plain": [
       "$a\n",
       "[1] -1e-06\n",
       "\n",
       "$sigsq\n",
       "[1] 0.165672\n",
       "\n",
       "$z0\n",
       "[1] -0.8901015\n",
       "\n",
       "$lnL\n",
       "[1] 1642.998\n",
       "\n",
       "$method\n",
       "[1] \"L-BFGS-B\"\n",
       "\n",
       "$k\n",
       "[1] 3\n",
       "\n",
       "$aic\n",
       "[1] -3279.996\n",
       "\n",
       "$aicc\n",
       "[1] -3279.991\n"
      ]
     },
     "metadata": {},
     "output_type": "display_data"
    }
   ],
   "source": [
    "startTime <- Sys.time()\n",
    "eb <- fitContinuous(tree2, datum, model = 'EB', control = list(method = c(\"subplex\",\"L-BFGS-B\"),\n",
    "    niter = 100, FAIL = 1e+200, hessian = FALSE, CI = 0.95))\n",
    "endTime <- Sys.time()\n",
    "print(endTime - startTime)\n",
    "eb$opt"
   ]
  },
  {
   "cell_type": "code",
   "execution_count": 15,
   "metadata": {},
   "outputs": [
    {
     "name": "stdout",
     "output_type": "stream",
     "text": [
      "Time difference of 2.336618 secs\n"
     ]
    },
    {
     "data": {
      "text/html": [
       "<dl>\n",
       "\t<dt>$sigsq</dt>\n",
       "\t\t<dd>0.0548728651009417</dd>\n",
       "\t<dt>$z0</dt>\n",
       "\t\t<dd>-0.88796451028594</dd>\n",
       "\t<dt>$lnL</dt>\n",
       "\t\t<dd>174.471360354002</dd>\n",
       "\t<dt>$method</dt>\n",
       "\t\t<dd>'Brent'</dd>\n",
       "\t<dt>$k</dt>\n",
       "\t\t<dd>2</dd>\n",
       "\t<dt>$aic</dt>\n",
       "\t\t<dd>-344.942720708004</dd>\n",
       "\t<dt>$aicc</dt>\n",
       "\t\t<dd>-344.940488980275</dd>\n",
       "</dl>\n"
      ],
      "text/latex": [
       "\\begin{description}\n",
       "\\item[\\$sigsq] 0.0548728651009417\n",
       "\\item[\\$z0] -0.88796451028594\n",
       "\\item[\\$lnL] 174.471360354002\n",
       "\\item[\\$method] 'Brent'\n",
       "\\item[\\$k] 2\n",
       "\\item[\\$aic] -344.942720708004\n",
       "\\item[\\$aicc] -344.940488980275\n",
       "\\end{description}\n"
      ],
      "text/markdown": [
       "$sigsq\n",
       ":   0.0548728651009417\n",
       "$z0\n",
       ":   -0.88796451028594\n",
       "$lnL\n",
       ":   174.471360354002\n",
       "$method\n",
       ":   'Brent'\n",
       "$k\n",
       ":   2\n",
       "$aic\n",
       ":   -344.942720708004\n",
       "$aicc\n",
       ":   -344.940488980275\n",
       "\n",
       "\n"
      ],
      "text/plain": [
       "$sigsq\n",
       "[1] 0.05487287\n",
       "\n",
       "$z0\n",
       "[1] -0.8879645\n",
       "\n",
       "$lnL\n",
       "[1] 174.4714\n",
       "\n",
       "$method\n",
       "[1] \"Brent\"\n",
       "\n",
       "$k\n",
       "[1] 2\n",
       "\n",
       "$aic\n",
       "[1] -344.9427\n",
       "\n",
       "$aicc\n",
       "[1] -344.9405\n"
      ]
     },
     "metadata": {},
     "output_type": "display_data"
    }
   ],
   "source": [
    "startTime <- Sys.time()\n",
    "wh <- fitContinuous(tree2, datum, model = 'white', control = list(method = c(\"subplex\",\"L-BFGS-B\"),\n",
    "    niter = 100, FAIL = 1e+200, hessian = FALSE, CI = 0.95))\n",
    "endTime <- Sys.time()\n",
    "print(endTime - startTime)\n",
    "wh$opt"
   ]
  },
  {
   "cell_type": "code",
   "execution_count": 17,
   "metadata": {
    "scrolled": false
   },
   "outputs": [
    {
     "name": "stderr",
     "output_type": "stream",
     "text": [
      "Warning message in fitContinuous(tree2, datum, model = \"OU\", ncores = 24, bounds = list(alpha = c(0, :\n",
      "“Non-ultrametric tree with OU model, using VCV method.”\n",
      "Warning message in cache$dat - mu:\n",
      "“Recycling array of length 1 in vector-array arithmetic is deprecated.\n",
      "  Use c() or as.vector() instead.\n",
      "”\n",
      "Warning message in cache$dat - mu:\n",
      "“Recycling array of length 1 in vector-array arithmetic is deprecated.\n",
      "  Use c() or as.vector() instead.\n",
      "”\n"
     ]
    },
    {
     "name": "stdout",
     "output_type": "stream",
     "text": [
      "Time difference of 1.541297 days\n"
     ]
    },
    {
     "data": {
      "text/html": [
       "<dl>\n",
       "\t<dt>$alpha</dt>\n",
       "\t\t<dd>1.95320697124852</dd>\n",
       "\t<dt>$sigsq</dt>\n",
       "\t\t<dd>0.227968047699856</dd>\n",
       "\t<dt>$z0</dt>\n",
       "\t\t<dd>-0.93034865361172</dd>\n",
       "\t<dt>$lnL</dt>\n",
       "\t\t<dd>1794.44700428886</dd>\n",
       "\t<dt>$method</dt>\n",
       "\t\t<dd>'L-BFGS-B'</dd>\n",
       "\t<dt>$k</dt>\n",
       "\t\t<dd>3</dd>\n",
       "\t<dt>$aic</dt>\n",
       "\t\t<dd>-3582.89400857771</dd>\n",
       "\t<dt>$aicc</dt>\n",
       "\t\t<dd>-3582.889544292</dd>\n",
       "</dl>\n"
      ],
      "text/latex": [
       "\\begin{description}\n",
       "\\item[\\$alpha] 1.95320697124852\n",
       "\\item[\\$sigsq] 0.227968047699856\n",
       "\\item[\\$z0] -0.93034865361172\n",
       "\\item[\\$lnL] 1794.44700428886\n",
       "\\item[\\$method] 'L-BFGS-B'\n",
       "\\item[\\$k] 3\n",
       "\\item[\\$aic] -3582.89400857771\n",
       "\\item[\\$aicc] -3582.889544292\n",
       "\\end{description}\n"
      ],
      "text/markdown": [
       "$alpha\n",
       ":   1.95320697124852\n",
       "$sigsq\n",
       ":   0.227968047699856\n",
       "$z0\n",
       ":   -0.93034865361172\n",
       "$lnL\n",
       ":   1794.44700428886\n",
       "$method\n",
       ":   'L-BFGS-B'\n",
       "$k\n",
       ":   3\n",
       "$aic\n",
       ":   -3582.89400857771\n",
       "$aicc\n",
       ":   -3582.889544292\n",
       "\n",
       "\n"
      ],
      "text/plain": [
       "$alpha\n",
       "[1] 1.953207\n",
       "\n",
       "$sigsq\n",
       "[1] 0.227968\n",
       "\n",
       "$z0\n",
       "[1] -0.9303487\n",
       "\n",
       "$lnL\n",
       "[1] 1794.447\n",
       "\n",
       "$method\n",
       "[1] \"L-BFGS-B\"\n",
       "\n",
       "$k\n",
       "[1] 3\n",
       "\n",
       "$aic\n",
       "[1] -3582.894\n",
       "\n",
       "$aicc\n",
       "[1] -3582.89\n"
      ]
     },
     "metadata": {},
     "output_type": "display_data"
    }
   ],
   "source": [
    "startTime <- Sys.time()\n",
    "ou <- fitContinuous(tree2, datum, model = 'OU', ncores = 24, bounds = list(alpha = c(0, 500)))\n",
    "endTime <- Sys.time()\n",
    "print(endTime - startTime)\n",
    "ou$opt"
   ]
  },
  {
   "cell_type": "code",
   "execution_count": 24,
   "metadata": {},
   "outputs": [
    {
     "data": {
      "text/html": [
       "<style>\n",
       ".dl-inline {width: auto; margin:0; padding: 0}\n",
       ".dl-inline>dt, .dl-inline>dd {float: none; width: auto; display: inline-block}\n",
       ".dl-inline>dt::after {content: \":\\0020\"; padding-right: .5ex}\n",
       ".dl-inline>dt:not(:first-of-type) {padding-left: .5ex}\n",
       "</style><dl class=dl-inline><dt>BM</dt><dd>-3281.99572371203</dd><dt>EB</dt><dd>-3279.99567824901</dd><dt>WH</dt><dd>-344.942720708004</dd><dt>OU</dt><dd>-3582.89400857771</dd></dl>\n"
      ],
      "text/latex": [
       "\\begin{description*}\n",
       "\\item[BM] -3281.99572371203\n",
       "\\item[EB] -3279.99567824901\n",
       "\\item[WH] -344.942720708004\n",
       "\\item[OU] -3582.89400857771\n",
       "\\end{description*}\n"
      ],
      "text/markdown": [
       "BM\n",
       ":   -3281.99572371203EB\n",
       ":   -3279.99567824901WH\n",
       ":   -344.942720708004OU\n",
       ":   -3582.89400857771\n",
       "\n"
      ],
      "text/plain": [
       "        BM         EB         WH         OU \n",
       "-3281.9957 -3279.9957  -344.9427 -3582.8940 "
      ]
     },
     "metadata": {},
     "output_type": "display_data"
    }
   ],
   "source": [
    "aic_cs <- setNames(c(AIC(bm), AIC(eb), AIC(wh), AIC(ou)), c('BM', 'EB', 'WH', 'OU'))\n",
    "aic_cs"
   ]
  },
  {
   "cell_type": "code",
   "execution_count": 25,
   "metadata": {},
   "outputs": [
    {
     "data": {
      "text/plain": [
       "BM EB WH OU \n",
       " 0  0  0  1 "
      ]
     },
     "metadata": {},
     "output_type": "display_data"
    }
   ],
   "source": [
    "aic_cs.w <- aic.w(aic_cs)\n",
    "aic_cs.w"
   ]
  },
  {
   "cell_type": "markdown",
   "metadata": {},
   "source": [
    "Using a rescaled tree"
   ]
  },
  {
   "cell_type": "code",
   "execution_count": 28,
   "metadata": {},
   "outputs": [
    {
     "data": {
      "text/plain": [
       "\n",
       "Phylogenetic tree with 5380 tips and 1961 internal nodes.\n",
       "\n",
       "Tip labels:\n",
       "  taxid71518, taxid83984, taxid2193, taxid83985, taxid71152, taxid2203, ...\n",
       "Node labels:\n",
       "  N1, N5, N18, N51, N79, N119, ...\n",
       "\n",
       "Rooted; includes branch lengths."
      ]
     },
     "metadata": {},
     "output_type": "display_data"
    }
   ],
   "source": [
    "tree_res <- read.tree('../phylogeny/place/fine_all_rescaled.nwk')\n",
    "tree_res"
   ]
  },
  {
   "cell_type": "markdown",
   "metadata": {},
   "source": [
    "Binarize tree"
   ]
  },
  {
   "cell_type": "code",
   "execution_count": 29,
   "metadata": {},
   "outputs": [
    {
     "data": {
      "text/html": [
       "FALSE"
      ],
      "text/latex": [
       "FALSE"
      ],
      "text/markdown": [
       "FALSE"
      ],
      "text/plain": [
       "[1] FALSE"
      ]
     },
     "metadata": {},
     "output_type": "display_data"
    }
   ],
   "source": [
    "tree2_res <- multi2di(tree_res)\n",
    "is.ultrametric(tree2_res)"
   ]
  },
  {
   "cell_type": "markdown",
   "metadata": {},
   "source": [
    "Comparing models of evolution"
   ]
  },
  {
   "cell_type": "code",
   "execution_count": 30,
   "metadata": {},
   "outputs": [
    {
     "name": "stdout",
     "output_type": "stream",
     "text": [
      "Time difference of 2.460463 secs\n"
     ]
    },
    {
     "data": {
      "text/html": [
       "<dl>\n",
       "\t<dt>$sigsq</dt>\n",
       "\t\t<dd>0.252151649155697</dd>\n",
       "\t<dt>$z0</dt>\n",
       "\t\t<dd>-0.890101542796437</dd>\n",
       "\t<dt>$lnL</dt>\n",
       "\t\t<dd>1642.99786185602</dd>\n",
       "\t<dt>$method</dt>\n",
       "\t\t<dd>'Brent'</dd>\n",
       "\t<dt>$k</dt>\n",
       "\t\t<dd>2</dd>\n",
       "\t<dt>$aic</dt>\n",
       "\t\t<dd>-3281.99572371203</dd>\n",
       "\t<dt>$aicc</dt>\n",
       "\t\t<dd>-3281.9934919843</dd>\n",
       "</dl>\n"
      ],
      "text/latex": [
       "\\begin{description}\n",
       "\\item[\\$sigsq] 0.252151649155697\n",
       "\\item[\\$z0] -0.890101542796437\n",
       "\\item[\\$lnL] 1642.99786185602\n",
       "\\item[\\$method] 'Brent'\n",
       "\\item[\\$k] 2\n",
       "\\item[\\$aic] -3281.99572371203\n",
       "\\item[\\$aicc] -3281.9934919843\n",
       "\\end{description}\n"
      ],
      "text/markdown": [
       "$sigsq\n",
       ":   0.252151649155697\n",
       "$z0\n",
       ":   -0.890101542796437\n",
       "$lnL\n",
       ":   1642.99786185602\n",
       "$method\n",
       ":   'Brent'\n",
       "$k\n",
       ":   2\n",
       "$aic\n",
       ":   -3281.99572371203\n",
       "$aicc\n",
       ":   -3281.9934919843\n",
       "\n",
       "\n"
      ],
      "text/plain": [
       "$sigsq\n",
       "[1] 0.2521516\n",
       "\n",
       "$z0\n",
       "[1] -0.8901015\n",
       "\n",
       "$lnL\n",
       "[1] 1642.998\n",
       "\n",
       "$method\n",
       "[1] \"Brent\"\n",
       "\n",
       "$k\n",
       "[1] 2\n",
       "\n",
       "$aic\n",
       "[1] -3281.996\n",
       "\n",
       "$aicc\n",
       "[1] -3281.993\n"
      ]
     },
     "metadata": {},
     "output_type": "display_data"
    }
   ],
   "source": [
    "startTime <- Sys.time()\n",
    "bm_res <- fitContinuous(tree2_res, datum, model = 'BM', control = list(method = c(\"subplex\",\"L-BFGS-B\"),\n",
    "    niter = 100, FAIL = 1e+200, hessian = FALSE, CI = 0.95))\n",
    "endTime <- Sys.time()\n",
    "print(endTime - startTime)\n",
    "bm_res$opt"
   ]
  },
  {
   "cell_type": "code",
   "execution_count": 31,
   "metadata": {},
   "outputs": [
    {
     "name": "stdout",
     "output_type": "stream",
     "text": [
      "Time difference of 2.901003 secs\n"
     ]
    },
    {
     "data": {
      "text/html": [
       "<dl>\n",
       "\t<dt>$a</dt>\n",
       "\t\t<dd>-1.01732881100035e-06</dd>\n",
       "\t<dt>$sigsq</dt>\n",
       "\t\t<dd>0.252148360171556</dd>\n",
       "\t<dt>$z0</dt>\n",
       "\t\t<dd>-0.890101544349802</dd>\n",
       "\t<dt>$lnL</dt>\n",
       "\t\t<dd>1642.99784737241</dd>\n",
       "\t<dt>$method</dt>\n",
       "\t\t<dd>'subplex'</dd>\n",
       "\t<dt>$k</dt>\n",
       "\t\t<dd>3</dd>\n",
       "\t<dt>$aic</dt>\n",
       "\t\t<dd>-3279.99569474483</dd>\n",
       "\t<dt>$aicc</dt>\n",
       "\t\t<dd>-3279.99123045911</dd>\n",
       "</dl>\n"
      ],
      "text/latex": [
       "\\begin{description}\n",
       "\\item[\\$a] -1.01732881100035e-06\n",
       "\\item[\\$sigsq] 0.252148360171556\n",
       "\\item[\\$z0] -0.890101544349802\n",
       "\\item[\\$lnL] 1642.99784737241\n",
       "\\item[\\$method] 'subplex'\n",
       "\\item[\\$k] 3\n",
       "\\item[\\$aic] -3279.99569474483\n",
       "\\item[\\$aicc] -3279.99123045911\n",
       "\\end{description}\n"
      ],
      "text/markdown": [
       "$a\n",
       ":   -1.01732881100035e-06\n",
       "$sigsq\n",
       ":   0.252148360171556\n",
       "$z0\n",
       ":   -0.890101544349802\n",
       "$lnL\n",
       ":   1642.99784737241\n",
       "$method\n",
       ":   'subplex'\n",
       "$k\n",
       ":   3\n",
       "$aic\n",
       ":   -3279.99569474483\n",
       "$aicc\n",
       ":   -3279.99123045911\n",
       "\n",
       "\n"
      ],
      "text/plain": [
       "$a\n",
       "[1] -1.017329e-06\n",
       "\n",
       "$sigsq\n",
       "[1] 0.2521484\n",
       "\n",
       "$z0\n",
       "[1] -0.8901015\n",
       "\n",
       "$lnL\n",
       "[1] 1642.998\n",
       "\n",
       "$method\n",
       "[1] \"subplex\"\n",
       "\n",
       "$k\n",
       "[1] 3\n",
       "\n",
       "$aic\n",
       "[1] -3279.996\n",
       "\n",
       "$aicc\n",
       "[1] -3279.991\n"
      ]
     },
     "metadata": {},
     "output_type": "display_data"
    }
   ],
   "source": [
    "startTime <- Sys.time()\n",
    "eb_res <- fitContinuous(tree2_res, datum, model = 'EB', control = list(method = c(\"subplex\",\"L-BFGS-B\"),\n",
    "    niter = 100, FAIL = 1e+200, hessian = FALSE, CI = 0.95))\n",
    "endTime <- Sys.time()\n",
    "print(endTime - startTime)\n",
    "eb_res$opt"
   ]
  },
  {
   "cell_type": "code",
   "execution_count": 32,
   "metadata": {},
   "outputs": [
    {
     "name": "stdout",
     "output_type": "stream",
     "text": [
      "Time difference of 2.232431 secs\n"
     ]
    },
    {
     "data": {
      "text/html": [
       "<dl>\n",
       "\t<dt>$sigsq</dt>\n",
       "\t\t<dd>0.0548728651011522</dd>\n",
       "\t<dt>$z0</dt>\n",
       "\t\t<dd>-0.88796451028594</dd>\n",
       "\t<dt>$lnL</dt>\n",
       "\t\t<dd>174.471360354003</dd>\n",
       "\t<dt>$method</dt>\n",
       "\t\t<dd>'Brent'</dd>\n",
       "\t<dt>$k</dt>\n",
       "\t\t<dd>2</dd>\n",
       "\t<dt>$aic</dt>\n",
       "\t\t<dd>-344.942720708006</dd>\n",
       "\t<dt>$aicc</dt>\n",
       "\t\t<dd>-344.940488980277</dd>\n",
       "</dl>\n"
      ],
      "text/latex": [
       "\\begin{description}\n",
       "\\item[\\$sigsq] 0.0548728651011522\n",
       "\\item[\\$z0] -0.88796451028594\n",
       "\\item[\\$lnL] 174.471360354003\n",
       "\\item[\\$method] 'Brent'\n",
       "\\item[\\$k] 2\n",
       "\\item[\\$aic] -344.942720708006\n",
       "\\item[\\$aicc] -344.940488980277\n",
       "\\end{description}\n"
      ],
      "text/markdown": [
       "$sigsq\n",
       ":   0.0548728651011522\n",
       "$z0\n",
       ":   -0.88796451028594\n",
       "$lnL\n",
       ":   174.471360354003\n",
       "$method\n",
       ":   'Brent'\n",
       "$k\n",
       ":   2\n",
       "$aic\n",
       ":   -344.942720708006\n",
       "$aicc\n",
       ":   -344.940488980277\n",
       "\n",
       "\n"
      ],
      "text/plain": [
       "$sigsq\n",
       "[1] 0.05487287\n",
       "\n",
       "$z0\n",
       "[1] -0.8879645\n",
       "\n",
       "$lnL\n",
       "[1] 174.4714\n",
       "\n",
       "$method\n",
       "[1] \"Brent\"\n",
       "\n",
       "$k\n",
       "[1] 2\n",
       "\n",
       "$aic\n",
       "[1] -344.9427\n",
       "\n",
       "$aicc\n",
       "[1] -344.9405\n"
      ]
     },
     "metadata": {},
     "output_type": "display_data"
    }
   ],
   "source": [
    "startTime <- Sys.time()\n",
    "wh_res <- fitContinuous(tree2_res, datum, model = 'white', control = list(method = c(\"subplex\",\"L-BFGS-B\"),\n",
    "    niter = 100, FAIL = 1e+200, hessian = FALSE, CI = 0.95))\n",
    "endTime <- Sys.time()\n",
    "print(endTime - startTime)\n",
    "wh_res$opt"
   ]
  },
  {
   "cell_type": "code",
   "execution_count": 33,
   "metadata": {},
   "outputs": [
    {
     "name": "stderr",
     "output_type": "stream",
     "text": [
      "Warning message in fitContinuous(tree2_res, datum, model = \"OU\", ncores = 24, bounds = list(alpha = c(0, :\n",
      "“Non-ultrametric tree with OU model, using VCV method.”\n",
      "Warning message in cache$dat - mu:\n",
      "“Recycling array of length 1 in vector-array arithmetic is deprecated.\n",
      "  Use c() or as.vector() instead.\n",
      "”\n",
      "Warning message in cache$dat - mu:\n",
      "“Recycling array of length 1 in vector-array arithmetic is deprecated.\n",
      "  Use c() or as.vector() instead.\n",
      "”\n"
     ]
    },
    {
     "name": "stdout",
     "output_type": "stream",
     "text": [
      "Time difference of 1.111255 days\n"
     ]
    },
    {
     "data": {
      "text/html": [
       "<dl>\n",
       "\t<dt>$alpha</dt>\n",
       "\t\t<dd>2.97277120831611</dd>\n",
       "\t<dt>$sigsq</dt>\n",
       "\t\t<dd>0.34696619779235</dd>\n",
       "\t<dt>$z0</dt>\n",
       "\t\t<dd>-0.93034866630077</dd>\n",
       "\t<dt>$lnL</dt>\n",
       "\t\t<dd>1794.44700428883</dd>\n",
       "\t<dt>$method</dt>\n",
       "\t\t<dd>'L-BFGS-B'</dd>\n",
       "\t<dt>$k</dt>\n",
       "\t\t<dd>3</dd>\n",
       "\t<dt>$aic</dt>\n",
       "\t\t<dd>-3582.89400857766</dd>\n",
       "\t<dt>$aicc</dt>\n",
       "\t\t<dd>-3582.88954429194</dd>\n",
       "</dl>\n"
      ],
      "text/latex": [
       "\\begin{description}\n",
       "\\item[\\$alpha] 2.97277120831611\n",
       "\\item[\\$sigsq] 0.34696619779235\n",
       "\\item[\\$z0] -0.93034866630077\n",
       "\\item[\\$lnL] 1794.44700428883\n",
       "\\item[\\$method] 'L-BFGS-B'\n",
       "\\item[\\$k] 3\n",
       "\\item[\\$aic] -3582.89400857766\n",
       "\\item[\\$aicc] -3582.88954429194\n",
       "\\end{description}\n"
      ],
      "text/markdown": [
       "$alpha\n",
       ":   2.97277120831611\n",
       "$sigsq\n",
       ":   0.34696619779235\n",
       "$z0\n",
       ":   -0.93034866630077\n",
       "$lnL\n",
       ":   1794.44700428883\n",
       "$method\n",
       ":   'L-BFGS-B'\n",
       "$k\n",
       ":   3\n",
       "$aic\n",
       ":   -3582.89400857766\n",
       "$aicc\n",
       ":   -3582.88954429194\n",
       "\n",
       "\n"
      ],
      "text/plain": [
       "$alpha\n",
       "[1] 2.972771\n",
       "\n",
       "$sigsq\n",
       "[1] 0.3469662\n",
       "\n",
       "$z0\n",
       "[1] -0.9303487\n",
       "\n",
       "$lnL\n",
       "[1] 1794.447\n",
       "\n",
       "$method\n",
       "[1] \"L-BFGS-B\"\n",
       "\n",
       "$k\n",
       "[1] 3\n",
       "\n",
       "$aic\n",
       "[1] -3582.894\n",
       "\n",
       "$aicc\n",
       "[1] -3582.89\n"
      ]
     },
     "metadata": {},
     "output_type": "display_data"
    }
   ],
   "source": [
    "startTime <- Sys.time()\n",
    "ou_res <- fitContinuous(tree2_res, datum, model = 'OU', ncores = 24, bounds = list(alpha = c(0, 500)))\n",
    "endTime <- Sys.time()\n",
    "print(endTime - startTime)\n",
    "ou_res$opt"
   ]
  },
  {
   "cell_type": "code",
   "execution_count": 34,
   "metadata": {},
   "outputs": [
    {
     "data": {
      "text/html": [
       "<style>\n",
       ".dl-inline {width: auto; margin:0; padding: 0}\n",
       ".dl-inline>dt, .dl-inline>dd {float: none; width: auto; display: inline-block}\n",
       ".dl-inline>dt::after {content: \":\\0020\"; padding-right: .5ex}\n",
       ".dl-inline>dt:not(:first-of-type) {padding-left: .5ex}\n",
       "</style><dl class=dl-inline><dt>BM</dt><dd>-3281.99572371203</dd><dt>EB</dt><dd>-3279.99569474483</dd><dt>WH</dt><dd>-344.942720708006</dd><dt>OU</dt><dd>-3582.89400857766</dd></dl>\n"
      ],
      "text/latex": [
       "\\begin{description*}\n",
       "\\item[BM] -3281.99572371203\n",
       "\\item[EB] -3279.99569474483\n",
       "\\item[WH] -344.942720708006\n",
       "\\item[OU] -3582.89400857766\n",
       "\\end{description*}\n"
      ],
      "text/markdown": [
       "BM\n",
       ":   -3281.99572371203EB\n",
       ":   -3279.99569474483WH\n",
       ":   -344.942720708006OU\n",
       ":   -3582.89400857766\n",
       "\n"
      ],
      "text/plain": [
       "        BM         EB         WH         OU \n",
       "-3281.9957 -3279.9957  -344.9427 -3582.8940 "
      ]
     },
     "metadata": {},
     "output_type": "display_data"
    }
   ],
   "source": [
    "aic_cs_res <- setNames(c(AIC(bm_res), AIC(eb_res), AIC(wh_res), AIC(ou_res)), c('BM', 'EB', 'WH', 'OU'))\n",
    "aic_cs_res"
   ]
  },
  {
   "cell_type": "code",
   "execution_count": 35,
   "metadata": {},
   "outputs": [
    {
     "data": {
      "text/plain": [
       "BM EB WH OU \n",
       " 0  0  0  1 "
      ]
     },
     "metadata": {},
     "output_type": "display_data"
    }
   ],
   "source": [
    "aic_cs_res.w <- aic.w(aic_cs_res)\n",
    "aic_cs_res.w"
   ]
  },
  {
   "cell_type": "code",
   "execution_count": 2,
   "metadata": {},
   "outputs": [
    {
     "data": {
      "text/html": [
       "-1.0894945845515"
      ],
      "text/latex": [
       "-1.0894945845515"
      ],
      "text/markdown": [
       "-1.0894945845515"
      ],
      "text/plain": [
       "[1] -1.089495"
      ]
     },
     "metadata": {},
     "output_type": "display_data"
    }
   ],
   "source": [
    "-log(2.97277120831611)"
   ]
  },
  {
   "cell_type": "code",
   "execution_count": 3,
   "metadata": {},
   "outputs": [
    {
     "data": {
      "text/html": [
       "2.97277120831611"
      ],
      "text/latex": [
       "2.97277120831611"
      ],
      "text/markdown": [
       "2.97277120831611"
      ],
      "text/plain": [
       "[1] 2.972771"
      ]
     },
     "metadata": {},
     "output_type": "display_data"
    }
   ],
   "source": [
    "exp(- (-1.0894945845515))"
   ]
  },
  {
   "cell_type": "code",
   "execution_count": 4,
   "metadata": {},
   "outputs": [
    {
     "data": {
      "text/html": [
       "2.71828182845905"
      ],
      "text/latex": [
       "2.71828182845905"
      ],
      "text/markdown": [
       "2.71828182845905"
      ],
      "text/plain": [
       "[1] 2.718282"
      ]
     },
     "metadata": {},
     "output_type": "display_data"
    }
   ],
   "source": [
    "exp(- (-1))"
   ]
  },
  {
   "cell_type": "code",
   "execution_count": null,
   "metadata": {},
   "outputs": [],
   "source": []
  },
  {
   "cell_type": "code",
   "execution_count": null,
   "metadata": {},
   "outputs": [],
   "source": []
  },
  {
   "cell_type": "code",
   "execution_count": null,
   "metadata": {},
   "outputs": [],
   "source": []
  },
  {
   "cell_type": "code",
   "execution_count": null,
   "metadata": {},
   "outputs": [],
   "source": []
  },
  {
   "cell_type": "code",
   "execution_count": null,
   "metadata": {},
   "outputs": [],
   "source": []
  },
  {
   "cell_type": "code",
   "execution_count": null,
   "metadata": {},
   "outputs": [],
   "source": []
  },
  {
   "cell_type": "code",
   "execution_count": null,
   "metadata": {},
   "outputs": [],
   "source": []
  },
  {
   "cell_type": "code",
   "execution_count": null,
   "metadata": {},
   "outputs": [],
   "source": []
  },
  {
   "cell_type": "code",
   "execution_count": null,
   "metadata": {},
   "outputs": [],
   "source": []
  },
  {
   "cell_type": "code",
   "execution_count": null,
   "metadata": {},
   "outputs": [],
   "source": []
  },
  {
   "cell_type": "code",
   "execution_count": null,
   "metadata": {},
   "outputs": [],
   "source": []
  },
  {
   "cell_type": "code",
   "execution_count": null,
   "metadata": {},
   "outputs": [],
   "source": []
  },
  {
   "cell_type": "code",
   "execution_count": null,
   "metadata": {},
   "outputs": [],
   "source": []
  },
  {
   "cell_type": "code",
   "execution_count": null,
   "metadata": {},
   "outputs": [],
   "source": []
  },
  {
   "cell_type": "code",
   "execution_count": null,
   "metadata": {},
   "outputs": [],
   "source": []
  },
  {
   "cell_type": "code",
   "execution_count": null,
   "metadata": {},
   "outputs": [],
   "source": []
  },
  {
   "cell_type": "code",
   "execution_count": null,
   "metadata": {},
   "outputs": [],
   "source": []
  }
 ],
 "metadata": {
  "kernelspec": {
   "display_name": "R",
   "language": "R",
   "name": "ir"
  },
  "language_info": {
   "codemirror_mode": "r",
   "file_extension": ".r",
   "mimetype": "text/x-r-source",
   "name": "R",
   "pygments_lexer": "r",
   "version": "4.1.2"
  }
 },
 "nbformat": 4,
 "nbformat_minor": 4
}
