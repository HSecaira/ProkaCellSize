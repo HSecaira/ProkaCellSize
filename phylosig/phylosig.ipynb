{
 "cells": [
  {
   "cell_type": "markdown",
   "metadata": {},
   "source": [
    "# Phylogenetic signal of cell size data"
   ]
  },
  {
   "cell_type": "code",
   "execution_count": 1,
   "metadata": {},
   "outputs": [
    {
     "name": "stderr",
     "output_type": "stream",
     "text": [
      "Loading required package: maps\n",
      "\n",
      "Loading required package: MASS\n",
      "\n",
      "Loading required package: mvtnorm\n",
      "\n"
     ]
    }
   ],
   "source": [
    "library(ape)\n",
    "library(phytools)\n",
    "library(caper)\n",
    "library(geiger)"
   ]
  },
  {
   "cell_type": "markdown",
   "metadata": {},
   "source": [
    "### Tree and data"
   ]
  },
  {
   "cell_type": "markdown",
   "metadata": {},
   "source": [
    "Read phylogenetic tree."
   ]
  },
  {
   "cell_type": "code",
   "execution_count": 2,
   "metadata": {},
   "outputs": [
    {
     "data": {
      "text/plain": [
       "\n",
       "Phylogenetic tree with 5380 tips and 1961 internal nodes.\n",
       "\n",
       "Tip labels:\n",
       "  taxid71518, taxid83984, taxid2193, taxid83985, taxid71152, taxid2203, ...\n",
       "Node labels:\n",
       "  N1, N5, N18, N51, N79, N119, ...\n",
       "\n",
       "Rooted; includes branch lengths."
      ]
     },
     "metadata": {},
     "output_type": "display_data"
    }
   ],
   "source": [
    "tree <- read.tree(\"../phylogeny/place/fine_all.nwk\")\n",
    "tree"
   ]
  },
  {
   "cell_type": "markdown",
   "metadata": {},
   "source": [
    "Read data table."
   ]
  },
  {
   "cell_type": "code",
   "execution_count": 3,
   "metadata": {
    "scrolled": false
   },
   "outputs": [
    {
     "data": {
      "text/html": [
       "<table class=\"dataframe\">\n",
       "<caption>A data.frame: 3 × 23</caption>\n",
       "<thead>\n",
       "\t<tr><th></th><th scope=col>taxid</th><th scope=col>length</th><th scope=col>width</th><th scope=col>volume</th><th scope=col>surface</th><th scope=col>shape</th><th scope=col>species</th><th scope=col>genus</th><th scope=col>family</th><th scope=col>order</th><th scope=col>⋯</th><th scope=col>rank</th><th scope=col>node</th><th scope=col>genome</th><th scope=col>gc</th><th scope=col>proteins</th><th scope=col>coding</th><th scope=col>rrnas</th><th scope=col>MILC</th><th scope=col>ENCprime</th><th scope=col>hash</th></tr>\n",
       "\t<tr><th></th><th scope=col>&lt;chr&gt;</th><th scope=col>&lt;dbl&gt;</th><th scope=col>&lt;dbl&gt;</th><th scope=col>&lt;dbl&gt;</th><th scope=col>&lt;dbl&gt;</th><th scope=col>&lt;chr&gt;</th><th scope=col>&lt;chr&gt;</th><th scope=col>&lt;chr&gt;</th><th scope=col>&lt;chr&gt;</th><th scope=col>&lt;chr&gt;</th><th scope=col>⋯</th><th scope=col>&lt;chr&gt;</th><th scope=col>&lt;chr&gt;</th><th scope=col>&lt;dbl&gt;</th><th scope=col>&lt;dbl&gt;</th><th scope=col>&lt;dbl&gt;</th><th scope=col>&lt;dbl&gt;</th><th scope=col>&lt;dbl&gt;</th><th scope=col>&lt;dbl&gt;</th><th scope=col>&lt;dbl&gt;</th><th scope=col>&lt;dbl&gt;</th></tr>\n",
       "</thead>\n",
       "<tbody>\n",
       "\t<tr><th scope=row>1</th><td>taxid11</td><td> 2.371708</td><td>1.0606602</td><td>1.7831870</td><td> 7.902917</td><td>rod-shaped</td><td>Cellulomonas gilvus      </td><td>Cellulomonas</td><td>Cellulomonadaceae</td><td>Micrococcales  </td><td>⋯</td><td>species</td><td>G000218545</td><td>3526441</td><td>73.81</td><td>3206</td><td>91.77278</td><td>2</td><td>-0.2620050</td><td>0.10083562</td><td>1.15</td></tr>\n",
       "\t<tr><th scope=row>2</th><td>taxid14</td><td>10.000000</td><td>0.4898979</td><td>1.8541744</td><td>15.390598</td><td>rod-shaped</td><td>Dictyoglomus thermophilum</td><td>Dictyoglomus</td><td>Dictyoglomaceae  </td><td>Dictyoglomales </td><td>⋯</td><td>species</td><td>G000020965</td><td>1959987</td><td>33.74</td><td>1890</td><td>93.77725</td><td>2</td><td>-0.0644294</td><td>0.03020484</td><td>1.13</td></tr>\n",
       "\t<tr><th scope=row>3</th><td>taxid23</td><td> 1.500000</td><td>0.7000000</td><td>0.4874705</td><td> 3.298672</td><td>rod-shaped</td><td>Shewanella colwelliana   </td><td>Shewanella  </td><td>Shewanellaceae   </td><td>Alteromonadales</td><td>⋯</td><td>species</td><td>G000518705</td><td>4575622</td><td>45.39</td><td>4094</td><td>87.38314</td><td>0</td><td>-0.6533632</td><td>0.24898652</td><td>1.16</td></tr>\n",
       "</tbody>\n",
       "</table>\n"
      ],
      "text/latex": [
       "A data.frame: 3 × 23\n",
       "\\begin{tabular}{r|lllllllllllllllllllll}\n",
       "  & taxid & length & width & volume & surface & shape & species & genus & family & order & ⋯ & rank & node & genome & gc & proteins & coding & rrnas & MILC & ENCprime & hash\\\\\n",
       "  & <chr> & <dbl> & <dbl> & <dbl> & <dbl> & <chr> & <chr> & <chr> & <chr> & <chr> & ⋯ & <chr> & <chr> & <dbl> & <dbl> & <dbl> & <dbl> & <dbl> & <dbl> & <dbl> & <dbl>\\\\\n",
       "\\hline\n",
       "\t1 & taxid11 &  2.371708 & 1.0606602 & 1.7831870 &  7.902917 & rod-shaped & Cellulomonas gilvus       & Cellulomonas & Cellulomonadaceae & Micrococcales   & ⋯ & species & G000218545 & 3526441 & 73.81 & 3206 & 91.77278 & 2 & -0.2620050 & 0.10083562 & 1.15\\\\\n",
       "\t2 & taxid14 & 10.000000 & 0.4898979 & 1.8541744 & 15.390598 & rod-shaped & Dictyoglomus thermophilum & Dictyoglomus & Dictyoglomaceae   & Dictyoglomales  & ⋯ & species & G000020965 & 1959987 & 33.74 & 1890 & 93.77725 & 2 & -0.0644294 & 0.03020484 & 1.13\\\\\n",
       "\t3 & taxid23 &  1.500000 & 0.7000000 & 0.4874705 &  3.298672 & rod-shaped & Shewanella colwelliana    & Shewanella   & Shewanellaceae    & Alteromonadales & ⋯ & species & G000518705 & 4575622 & 45.39 & 4094 & 87.38314 & 0 & -0.6533632 & 0.24898652 & 1.16\\\\\n",
       "\\end{tabular}\n"
      ],
      "text/markdown": [
       "\n",
       "A data.frame: 3 × 23\n",
       "\n",
       "| <!--/--> | taxid &lt;chr&gt; | length &lt;dbl&gt; | width &lt;dbl&gt; | volume &lt;dbl&gt; | surface &lt;dbl&gt; | shape &lt;chr&gt; | species &lt;chr&gt; | genus &lt;chr&gt; | family &lt;chr&gt; | order &lt;chr&gt; | ⋯ ⋯ | rank &lt;chr&gt; | node &lt;chr&gt; | genome &lt;dbl&gt; | gc &lt;dbl&gt; | proteins &lt;dbl&gt; | coding &lt;dbl&gt; | rrnas &lt;dbl&gt; | MILC &lt;dbl&gt; | ENCprime &lt;dbl&gt; | hash &lt;dbl&gt; |\n",
       "|---|---|---|---|---|---|---|---|---|---|---|---|---|---|---|---|---|---|---|---|---|---|\n",
       "| 1 | taxid11 |  2.371708 | 1.0606602 | 1.7831870 |  7.902917 | rod-shaped | Cellulomonas gilvus       | Cellulomonas | Cellulomonadaceae | Micrococcales   | ⋯ | species | G000218545 | 3526441 | 73.81 | 3206 | 91.77278 | 2 | -0.2620050 | 0.10083562 | 1.15 |\n",
       "| 2 | taxid14 | 10.000000 | 0.4898979 | 1.8541744 | 15.390598 | rod-shaped | Dictyoglomus thermophilum | Dictyoglomus | Dictyoglomaceae   | Dictyoglomales  | ⋯ | species | G000020965 | 1959987 | 33.74 | 1890 | 93.77725 | 2 | -0.0644294 | 0.03020484 | 1.13 |\n",
       "| 3 | taxid23 |  1.500000 | 0.7000000 | 0.4874705 |  3.298672 | rod-shaped | Shewanella colwelliana    | Shewanella   | Shewanellaceae    | Alteromonadales | ⋯ | species | G000518705 | 4575622 | 45.39 | 4094 | 87.38314 | 0 | -0.6533632 | 0.24898652 | 1.16 |\n",
       "\n"
      ],
      "text/plain": [
       "  taxid   length    width     volume    surface   shape     \n",
       "1 taxid11  2.371708 1.0606602 1.7831870  7.902917 rod-shaped\n",
       "2 taxid14 10.000000 0.4898979 1.8541744 15.390598 rod-shaped\n",
       "3 taxid23  1.500000 0.7000000 0.4874705  3.298672 rod-shaped\n",
       "  species                   genus        family            order           ⋯\n",
       "1 Cellulomonas gilvus       Cellulomonas Cellulomonadaceae Micrococcales   ⋯\n",
       "2 Dictyoglomus thermophilum Dictyoglomus Dictyoglomaceae   Dictyoglomales  ⋯\n",
       "3 Shewanella colwelliana    Shewanella   Shewanellaceae    Alteromonadales ⋯\n",
       "  rank    node       genome  gc    proteins coding   rrnas MILC      \n",
       "1 species G000218545 3526441 73.81 3206     91.77278 2     -0.2620050\n",
       "2 species G000020965 1959987 33.74 1890     93.77725 2     -0.0644294\n",
       "3 species G000518705 4575622 45.39 4094     87.38314 0     -0.6533632\n",
       "  ENCprime   hash\n",
       "1 0.10083562 1.15\n",
       "2 0.03020484 1.13\n",
       "3 0.24898652 1.16"
      ]
     },
     "metadata": {},
     "output_type": "display_data"
    }
   ],
   "source": [
    "data <- read.table(\"../phylogeny/place/fine_all.tsv\", header=TRUE, sep=\"\\t\", quote=\"\")\n",
    "head(data, 3)"
   ]
  },
  {
   "cell_type": "code",
   "execution_count": 4,
   "metadata": {},
   "outputs": [
    {
     "data": {
      "text/html": [
       "5380"
      ],
      "text/latex": [
       "5380"
      ],
      "text/markdown": [
       "5380"
      ],
      "text/plain": [
       "[1] 5380"
      ]
     },
     "metadata": {},
     "output_type": "display_data"
    }
   ],
   "source": [
    "nrow(data)"
   ]
  },
  {
   "cell_type": "markdown",
   "metadata": {},
   "source": [
    "Log-transform some metrics."
   ]
  },
  {
   "cell_type": "code",
   "execution_count": 5,
   "metadata": {},
   "outputs": [],
   "source": [
    "data[[paste(\"svratio\")]] = (data[['volume']] / data[['surface']])"
   ]
  },
  {
   "cell_type": "code",
   "execution_count": 6,
   "metadata": {},
   "outputs": [],
   "source": [
    "cols = c(\"length\", \"width\", \"volume\", \"surface\", \"genome\", \"proteins\", \"coding\", \"rrnas\", \"svratio\")"
   ]
  },
  {
   "cell_type": "code",
   "execution_count": 7,
   "metadata": {},
   "outputs": [],
   "source": [
    "for (col in cols) {\n",
    "    data[[paste(\"log\", col, sep=\"_\")]] = log10(data[[col]])\n",
    "}"
   ]
  },
  {
   "cell_type": "code",
   "execution_count": 8,
   "metadata": {},
   "outputs": [
    {
     "data": {
      "text/html": [
       "<table class=\"dataframe\">\n",
       "<caption>A data.frame: 3 × 33</caption>\n",
       "<thead>\n",
       "\t<tr><th></th><th scope=col>taxid</th><th scope=col>length</th><th scope=col>width</th><th scope=col>volume</th><th scope=col>surface</th><th scope=col>shape</th><th scope=col>species</th><th scope=col>genus</th><th scope=col>family</th><th scope=col>order</th><th scope=col>⋯</th><th scope=col>svratio</th><th scope=col>log_length</th><th scope=col>log_width</th><th scope=col>log_volume</th><th scope=col>log_surface</th><th scope=col>log_genome</th><th scope=col>log_proteins</th><th scope=col>log_coding</th><th scope=col>log_rrnas</th><th scope=col>log_svratio</th></tr>\n",
       "\t<tr><th></th><th scope=col>&lt;chr&gt;</th><th scope=col>&lt;dbl&gt;</th><th scope=col>&lt;dbl&gt;</th><th scope=col>&lt;dbl&gt;</th><th scope=col>&lt;dbl&gt;</th><th scope=col>&lt;chr&gt;</th><th scope=col>&lt;chr&gt;</th><th scope=col>&lt;chr&gt;</th><th scope=col>&lt;chr&gt;</th><th scope=col>&lt;chr&gt;</th><th scope=col>⋯</th><th scope=col>&lt;dbl&gt;</th><th scope=col>&lt;dbl&gt;</th><th scope=col>&lt;dbl&gt;</th><th scope=col>&lt;dbl&gt;</th><th scope=col>&lt;dbl&gt;</th><th scope=col>&lt;dbl&gt;</th><th scope=col>&lt;dbl&gt;</th><th scope=col>&lt;dbl&gt;</th><th scope=col>&lt;dbl&gt;</th><th scope=col>&lt;dbl&gt;</th></tr>\n",
       "</thead>\n",
       "<tbody>\n",
       "\t<tr><th scope=row>1</th><td>taxid11</td><td> 2.371708</td><td>1.0606602</td><td>1.7831870</td><td> 7.902917</td><td>rod-shaped</td><td>Cellulomonas gilvus      </td><td>Cellulomonas</td><td>Cellulomonadaceae</td><td>Micrococcales  </td><td>⋯</td><td>0.2256366</td><td>0.3750613</td><td> 0.02557626</td><td> 0.2511969</td><td>0.8977874</td><td>6.547337</td><td>3.505964</td><td>1.962714</td><td>0.30103</td><td>-0.6465905</td></tr>\n",
       "\t<tr><th scope=row>2</th><td>taxid14</td><td>10.000000</td><td>0.4898979</td><td>1.8541744</td><td>15.390598</td><td>rod-shaped</td><td>Dictyoglomus thermophilum</td><td>Dictyoglomus</td><td>Dictyoglomaceae  </td><td>Dictyoglomales </td><td>⋯</td><td>0.1204745</td><td>1.0000000</td><td>-0.30989438</td><td> 0.2681506</td><td>1.1872555</td><td>6.292253</td><td>3.276462</td><td>1.972098</td><td>0.30103</td><td>-0.9191049</td></tr>\n",
       "\t<tr><th scope=row>3</th><td>taxid23</td><td> 1.500000</td><td>0.7000000</td><td>0.4874705</td><td> 3.298672</td><td>rod-shaped</td><td>Shewanella colwelliana   </td><td>Shewanella  </td><td>Shewanellaceae   </td><td>Alteromonadales</td><td>⋯</td><td>0.1477778</td><td>0.1760913</td><td>-0.15490196</td><td>-0.3120517</td><td>0.5183392</td><td>6.660450</td><td>3.612148</td><td>1.941428</td><td>   -Inf</td><td>-0.8303909</td></tr>\n",
       "</tbody>\n",
       "</table>\n"
      ],
      "text/latex": [
       "A data.frame: 3 × 33\n",
       "\\begin{tabular}{r|lllllllllllllllllllll}\n",
       "  & taxid & length & width & volume & surface & shape & species & genus & family & order & ⋯ & svratio & log\\_length & log\\_width & log\\_volume & log\\_surface & log\\_genome & log\\_proteins & log\\_coding & log\\_rrnas & log\\_svratio\\\\\n",
       "  & <chr> & <dbl> & <dbl> & <dbl> & <dbl> & <chr> & <chr> & <chr> & <chr> & <chr> & ⋯ & <dbl> & <dbl> & <dbl> & <dbl> & <dbl> & <dbl> & <dbl> & <dbl> & <dbl> & <dbl>\\\\\n",
       "\\hline\n",
       "\t1 & taxid11 &  2.371708 & 1.0606602 & 1.7831870 &  7.902917 & rod-shaped & Cellulomonas gilvus       & Cellulomonas & Cellulomonadaceae & Micrococcales   & ⋯ & 0.2256366 & 0.3750613 &  0.02557626 &  0.2511969 & 0.8977874 & 6.547337 & 3.505964 & 1.962714 & 0.30103 & -0.6465905\\\\\n",
       "\t2 & taxid14 & 10.000000 & 0.4898979 & 1.8541744 & 15.390598 & rod-shaped & Dictyoglomus thermophilum & Dictyoglomus & Dictyoglomaceae   & Dictyoglomales  & ⋯ & 0.1204745 & 1.0000000 & -0.30989438 &  0.2681506 & 1.1872555 & 6.292253 & 3.276462 & 1.972098 & 0.30103 & -0.9191049\\\\\n",
       "\t3 & taxid23 &  1.500000 & 0.7000000 & 0.4874705 &  3.298672 & rod-shaped & Shewanella colwelliana    & Shewanella   & Shewanellaceae    & Alteromonadales & ⋯ & 0.1477778 & 0.1760913 & -0.15490196 & -0.3120517 & 0.5183392 & 6.660450 & 3.612148 & 1.941428 &    -Inf & -0.8303909\\\\\n",
       "\\end{tabular}\n"
      ],
      "text/markdown": [
       "\n",
       "A data.frame: 3 × 33\n",
       "\n",
       "| <!--/--> | taxid &lt;chr&gt; | length &lt;dbl&gt; | width &lt;dbl&gt; | volume &lt;dbl&gt; | surface &lt;dbl&gt; | shape &lt;chr&gt; | species &lt;chr&gt; | genus &lt;chr&gt; | family &lt;chr&gt; | order &lt;chr&gt; | ⋯ ⋯ | svratio &lt;dbl&gt; | log_length &lt;dbl&gt; | log_width &lt;dbl&gt; | log_volume &lt;dbl&gt; | log_surface &lt;dbl&gt; | log_genome &lt;dbl&gt; | log_proteins &lt;dbl&gt; | log_coding &lt;dbl&gt; | log_rrnas &lt;dbl&gt; | log_svratio &lt;dbl&gt; |\n",
       "|---|---|---|---|---|---|---|---|---|---|---|---|---|---|---|---|---|---|---|---|---|---|\n",
       "| 1 | taxid11 |  2.371708 | 1.0606602 | 1.7831870 |  7.902917 | rod-shaped | Cellulomonas gilvus       | Cellulomonas | Cellulomonadaceae | Micrococcales   | ⋯ | 0.2256366 | 0.3750613 |  0.02557626 |  0.2511969 | 0.8977874 | 6.547337 | 3.505964 | 1.962714 | 0.30103 | -0.6465905 |\n",
       "| 2 | taxid14 | 10.000000 | 0.4898979 | 1.8541744 | 15.390598 | rod-shaped | Dictyoglomus thermophilum | Dictyoglomus | Dictyoglomaceae   | Dictyoglomales  | ⋯ | 0.1204745 | 1.0000000 | -0.30989438 |  0.2681506 | 1.1872555 | 6.292253 | 3.276462 | 1.972098 | 0.30103 | -0.9191049 |\n",
       "| 3 | taxid23 |  1.500000 | 0.7000000 | 0.4874705 |  3.298672 | rod-shaped | Shewanella colwelliana    | Shewanella   | Shewanellaceae    | Alteromonadales | ⋯ | 0.1477778 | 0.1760913 | -0.15490196 | -0.3120517 | 0.5183392 | 6.660450 | 3.612148 | 1.941428 |    -Inf | -0.8303909 |\n",
       "\n"
      ],
      "text/plain": [
       "  taxid   length    width     volume    surface   shape     \n",
       "1 taxid11  2.371708 1.0606602 1.7831870  7.902917 rod-shaped\n",
       "2 taxid14 10.000000 0.4898979 1.8541744 15.390598 rod-shaped\n",
       "3 taxid23  1.500000 0.7000000 0.4874705  3.298672 rod-shaped\n",
       "  species                   genus        family            order           ⋯\n",
       "1 Cellulomonas gilvus       Cellulomonas Cellulomonadaceae Micrococcales   ⋯\n",
       "2 Dictyoglomus thermophilum Dictyoglomus Dictyoglomaceae   Dictyoglomales  ⋯\n",
       "3 Shewanella colwelliana    Shewanella   Shewanellaceae    Alteromonadales ⋯\n",
       "  svratio   log_length log_width   log_volume log_surface log_genome\n",
       "1 0.2256366 0.3750613   0.02557626  0.2511969 0.8977874   6.547337  \n",
       "2 0.1204745 1.0000000  -0.30989438  0.2681506 1.1872555   6.292253  \n",
       "3 0.1477778 0.1760913  -0.15490196 -0.3120517 0.5183392   6.660450  \n",
       "  log_proteins log_coding log_rrnas log_svratio\n",
       "1 3.505964     1.962714   0.30103   -0.6465905 \n",
       "2 3.276462     1.972098   0.30103   -0.9191049 \n",
       "3 3.612148     1.941428      -Inf   -0.8303909 "
      ]
     },
     "metadata": {},
     "output_type": "display_data"
    }
   ],
   "source": [
    "head(data, 3)"
   ]
  },
  {
   "cell_type": "markdown",
   "metadata": {},
   "source": [
    "### Pagel's $\\lambda, \\sigma^2$ - geiger "
   ]
  },
  {
   "cell_type": "code",
   "execution_count": 9,
   "metadata": {},
   "outputs": [],
   "source": [
    "# Binarize tree - required for geiger package\n",
    "tree2 <- multi2di(tree)"
   ]
  },
  {
   "cell_type": "code",
   "execution_count": 18,
   "metadata": {},
   "outputs": [
    {
     "data": {
      "text/html": [
       "<table class=\"dataframe\">\n",
       "<caption>A data.frame: 0 × 6</caption>\n",
       "<thead>\n",
       "\t<tr><th scope=col>lambda</th><th scope=col>pval0</th><th scope=col>pval1</th><th scope=col>sigsq</th><th scope=col>sigsq_unb</th><th scope=col>lnL</th></tr>\n",
       "\t<tr><th scope=col>&lt;lgl&gt;</th><th scope=col>&lt;lgl&gt;</th><th scope=col>&lt;lgl&gt;</th><th scope=col>&lt;lgl&gt;</th><th scope=col>&lt;lgl&gt;</th><th scope=col>&lt;lgl&gt;</th></tr>\n",
       "</thead>\n",
       "<tbody>\n",
       "</tbody>\n",
       "</table>\n"
      ],
      "text/latex": [
       "A data.frame: 0 × 6\n",
       "\\begin{tabular}{llllll}\n",
       " lambda & pval0 & pval1 & sigsq & sigsq\\_unb & lnL\\\\\n",
       " <lgl> & <lgl> & <lgl> & <lgl> & <lgl> & <lgl>\\\\\n",
       "\\hline\n",
       "\\end{tabular}\n"
      ],
      "text/markdown": [
       "\n",
       "A data.frame: 0 × 6\n",
       "\n",
       "| lambda &lt;lgl&gt; | pval0 &lt;lgl&gt; | pval1 &lt;lgl&gt; | sigsq &lt;lgl&gt; | sigsq_unb &lt;lgl&gt; | lnL &lt;lgl&gt; |\n",
       "|---|---|---|---|---|---|\n",
       "\n"
      ],
      "text/plain": [
       "     lambda pval0 pval1 sigsq sigsq_unb lnL"
      ]
     },
     "metadata": {},
     "output_type": "display_data"
    }
   ],
   "source": [
    "# Dataframe to save outputs\n",
    "df_geiger <- data.frame(matrix(ncol=6, nrow=0))\n",
    "colnames(df_geiger) <- c('lambda', 'pval0', 'pval1', 'sigsq',\n",
    "                 'sigsq_unb', 'lnL')\n",
    "df_geiger"
   ]
  },
  {
   "cell_type": "code",
   "execution_count": 10,
   "metadata": {},
   "outputs": [],
   "source": [
    "lambda_sigsq <- function(tree, x){\n",
    "    # Fit model\n",
    "    lambda2 <- fitContinuous(tree, x, model=\"lambda\")\n",
    "    # Reescale tree such that lambda = 0, i.e. star phylogeny\n",
    "    t0 <- rescale(tree, 'lambda', 0)\n",
    "    # Fit tree and trait to a BM model of evolution\n",
    "    lambda_L0 <- fitContinuous(t0, x, model = 'BM')\n",
    "    # Likelihood ratio test\n",
    "    LLR0 <- -2 * (lambda_L0$opt$lnL - lambda2$opt$lnL)\n",
    "    # Get a p-value from a chi-sq distribution\n",
    "    pval0 <- pchisq(LLR0, df = 1, lower.tail = FALSE)\n",
    "    \n",
    "    # Test if lambda != 1\n",
    "    lambda_L1 <- fitContinuous(tree, x, model = 'BM')\n",
    "    # Likelihood ratio test\n",
    "    LLR1 <- -2 * (lambda_L1$opt$lnL - lambda2$opt$lnL)\n",
    "    # Get a p-value\n",
    "    pval1 <- pchisq(LLR1, df = 1, lower.tail = FALSE)\n",
    "    # sigsq\n",
    "    sigsq <- lambda2$opt$sigsq\n",
    "    # Get the unbiased estimator of sigsq\n",
    "    sigsq_unb <- lambda2$opt$sigsq * length(tree$tip.label)/(length(tree$tip.label)-1)\n",
    "    # Get the likelihood\n",
    "    lnL <- lambda2$opt$lnL\n",
    "    \n",
    "    return(list(lambda = lambda2$opt$lambda, pval0 = pval0, \n",
    "                pval1 = pval1, sigsq = sigsq, sigsq_unb = sigsq_unb,\n",
    "               lnL = lnL))\n",
    "}"
   ]
  },
  {
   "cell_type": "code",
   "execution_count": 20,
   "metadata": {},
   "outputs": [],
   "source": [
    "datum <- setNames(data$log_volume, data$taxid)"
   ]
  },
  {
   "cell_type": "code",
   "execution_count": 21,
   "metadata": {},
   "outputs": [
    {
     "data": {
      "text/html": [
       "<dl>\n",
       "\t<dt>$lambda</dt>\n",
       "\t\t<dd>0.832956915358247</dd>\n",
       "\t<dt>$pval0</dt>\n",
       "\t\t<dd>0</dd>\n",
       "\t<dt>$pval1</dt>\n",
       "\t\t<dd>5.92595100906735e-128</dd>\n",
       "\t<dt>$sigsq</dt>\n",
       "\t\t<dd>0.685192109856985</dd>\n",
       "\t<dt>$sigsq_unb</dt>\n",
       "\t\t<dd>0.685319492662313</dd>\n",
       "\t<dt>$lnL</dt>\n",
       "\t\t<dd>-3791.52858720435</dd>\n",
       "</dl>\n"
      ],
      "text/latex": [
       "\\begin{description}\n",
       "\\item[\\$lambda] 0.832956915358247\n",
       "\\item[\\$pval0] 0\n",
       "\\item[\\$pval1] 5.92595100906735e-128\n",
       "\\item[\\$sigsq] 0.685192109856985\n",
       "\\item[\\$sigsq\\_unb] 0.685319492662313\n",
       "\\item[\\$lnL] -3791.52858720435\n",
       "\\end{description}\n"
      ],
      "text/markdown": [
       "$lambda\n",
       ":   0.832956915358247\n",
       "$pval0\n",
       ":   0\n",
       "$pval1\n",
       ":   5.92595100906735e-128\n",
       "$sigsq\n",
       ":   0.685192109856985\n",
       "$sigsq_unb\n",
       ":   0.685319492662313\n",
       "$lnL\n",
       ":   -3791.52858720435\n",
       "\n",
       "\n"
      ],
      "text/plain": [
       "$lambda\n",
       "[1] 0.8329569\n",
       "\n",
       "$pval0\n",
       "[1] 0\n",
       "\n",
       "$pval1\n",
       "[1] 5.925951e-128\n",
       "\n",
       "$sigsq\n",
       "[1] 0.6851921\n",
       "\n",
       "$sigsq_unb\n",
       "[1] 0.6853195\n",
       "\n",
       "$lnL\n",
       "[1] -3791.529\n"
      ]
     },
     "metadata": {},
     "output_type": "display_data"
    }
   ],
   "source": [
    "l_sq <- lambda_sigsq(tree2, datum)\n",
    "l_sq"
   ]
  },
  {
   "cell_type": "code",
   "execution_count": 22,
   "metadata": {},
   "outputs": [
    {
     "data": {
      "text/html": [
       "<table class=\"dataframe\">\n",
       "<caption>A data.frame: 1 × 6</caption>\n",
       "<thead>\n",
       "\t<tr><th></th><th scope=col>lambda</th><th scope=col>pval0</th><th scope=col>pval1</th><th scope=col>sigsq</th><th scope=col>sigsq_unb</th><th scope=col>lnL</th></tr>\n",
       "\t<tr><th></th><th scope=col>&lt;dbl&gt;</th><th scope=col>&lt;dbl&gt;</th><th scope=col>&lt;dbl&gt;</th><th scope=col>&lt;dbl&gt;</th><th scope=col>&lt;dbl&gt;</th><th scope=col>&lt;dbl&gt;</th></tr>\n",
       "</thead>\n",
       "<tbody>\n",
       "\t<tr><th scope=row>log_volume</th><td>0.8329569</td><td>0</td><td>5.925951e-128</td><td>0.6851921</td><td>0.6853195</td><td>-3791.529</td></tr>\n",
       "</tbody>\n",
       "</table>\n"
      ],
      "text/latex": [
       "A data.frame: 1 × 6\n",
       "\\begin{tabular}{r|llllll}\n",
       "  & lambda & pval0 & pval1 & sigsq & sigsq\\_unb & lnL\\\\\n",
       "  & <dbl> & <dbl> & <dbl> & <dbl> & <dbl> & <dbl>\\\\\n",
       "\\hline\n",
       "\tlog\\_volume & 0.8329569 & 0 & 5.925951e-128 & 0.6851921 & 0.6853195 & -3791.529\\\\\n",
       "\\end{tabular}\n"
      ],
      "text/markdown": [
       "\n",
       "A data.frame: 1 × 6\n",
       "\n",
       "| <!--/--> | lambda &lt;dbl&gt; | pval0 &lt;dbl&gt; | pval1 &lt;dbl&gt; | sigsq &lt;dbl&gt; | sigsq_unb &lt;dbl&gt; | lnL &lt;dbl&gt; |\n",
       "|---|---|---|---|---|---|---|\n",
       "| log_volume | 0.8329569 | 0 | 5.925951e-128 | 0.6851921 | 0.6853195 | -3791.529 |\n",
       "\n"
      ],
      "text/plain": [
       "           lambda    pval0 pval1         sigsq     sigsq_unb lnL      \n",
       "log_volume 0.8329569 0     5.925951e-128 0.6851921 0.6853195 -3791.529"
      ]
     },
     "metadata": {},
     "output_type": "display_data"
    }
   ],
   "source": [
    "df_geiger[nrow(df_geiger) + 1,] <- c(l_sq$lambda, l_sq$pval0, l_sq$pval1, l_sq$sigsq,\n",
    "                                    l_sq$sigsq_unb, l_sq$lnL)\n",
    "rownames(df_geiger)[nrow(df_geiger)] <- \"log_volume\"\n",
    "df_geiger"
   ]
  },
  {
   "cell_type": "code",
   "execution_count": 23,
   "metadata": {
    "scrolled": true
   },
   "outputs": [],
   "source": [
    "# Save x and y positions for likelihood calculation\n",
    "lambda2 <- fitContinuous(tree2, datum, model = 'lambda')\n",
    "# For lambda\n",
    "xpos1 <- seq(0, 1, length.out = 50)\n",
    "# For sigmasq\n",
    "xpos2 <- seq(0, 3, length.out = 50)\n",
    "ypos <- c()\n",
    "for (i in 1:length(xpos1)){\n",
    "    ypos[i] <- lambda2$lik(c(xpos1[i], xpos2[i]))\n",
    "}"
   ]
  },
  {
   "cell_type": "code",
   "execution_count": 24,
   "metadata": {},
   "outputs": [],
   "source": [
    "write.table(data.frame(x1 = xpos1, x2 = xpos2, y = ypos), \"physig/log_volume.lambda-sigsq.plot\", \n",
    "            sep=\"\\t\", col.names=FALSE, row.names=FALSE)"
   ]
  },
  {
   "cell_type": "markdown",
   "metadata": {},
   "source": [
    "Calculate Pagel's _λ_ of log cell surface area."
   ]
  },
  {
   "cell_type": "code",
   "execution_count": 31,
   "metadata": {},
   "outputs": [],
   "source": [
    "# Lambda and sigsq with geiger\n",
    "datum <- setNames(data$log_surface, data$taxid)\n",
    "l_sq <- lambda_sigsq(tree2, datum)"
   ]
  },
  {
   "cell_type": "code",
   "execution_count": 32,
   "metadata": {},
   "outputs": [
    {
     "data": {
      "text/html": [
       "<table class=\"dataframe\">\n",
       "<caption>A data.frame: 2 × 6</caption>\n",
       "<thead>\n",
       "\t<tr><th></th><th scope=col>lambda</th><th scope=col>pval0</th><th scope=col>pval1</th><th scope=col>sigsq</th><th scope=col>sigsq_unb</th><th scope=col>lnL</th></tr>\n",
       "\t<tr><th></th><th scope=col>&lt;dbl&gt;</th><th scope=col>&lt;dbl&gt;</th><th scope=col>&lt;dbl&gt;</th><th scope=col>&lt;dbl&gt;</th><th scope=col>&lt;dbl&gt;</th><th scope=col>&lt;dbl&gt;</th></tr>\n",
       "</thead>\n",
       "<tbody>\n",
       "\t<tr><th scope=row>log_volume</th><td>0.8329569</td><td>0</td><td>5.925951e-128</td><td>0.6851921</td><td>0.6853195</td><td>-3791.529</td></tr>\n",
       "\t<tr><th scope=row>log_surface</th><td>0.8484278</td><td>0</td><td>3.590505e-118</td><td>0.3417221</td><td>0.3417857</td><td>-1815.575</td></tr>\n",
       "</tbody>\n",
       "</table>\n"
      ],
      "text/latex": [
       "A data.frame: 2 × 6\n",
       "\\begin{tabular}{r|llllll}\n",
       "  & lambda & pval0 & pval1 & sigsq & sigsq\\_unb & lnL\\\\\n",
       "  & <dbl> & <dbl> & <dbl> & <dbl> & <dbl> & <dbl>\\\\\n",
       "\\hline\n",
       "\tlog\\_volume & 0.8329569 & 0 & 5.925951e-128 & 0.6851921 & 0.6853195 & -3791.529\\\\\n",
       "\tlog\\_surface & 0.8484278 & 0 & 3.590505e-118 & 0.3417221 & 0.3417857 & -1815.575\\\\\n",
       "\\end{tabular}\n"
      ],
      "text/markdown": [
       "\n",
       "A data.frame: 2 × 6\n",
       "\n",
       "| <!--/--> | lambda &lt;dbl&gt; | pval0 &lt;dbl&gt; | pval1 &lt;dbl&gt; | sigsq &lt;dbl&gt; | sigsq_unb &lt;dbl&gt; | lnL &lt;dbl&gt; |\n",
       "|---|---|---|---|---|---|---|\n",
       "| log_volume | 0.8329569 | 0 | 5.925951e-128 | 0.6851921 | 0.6853195 | -3791.529 |\n",
       "| log_surface | 0.8484278 | 0 | 3.590505e-118 | 0.3417221 | 0.3417857 | -1815.575 |\n",
       "\n"
      ],
      "text/plain": [
       "            lambda    pval0 pval1         sigsq     sigsq_unb lnL      \n",
       "log_volume  0.8329569 0     5.925951e-128 0.6851921 0.6853195 -3791.529\n",
       "log_surface 0.8484278 0     3.590505e-118 0.3417221 0.3417857 -1815.575"
      ]
     },
     "metadata": {},
     "output_type": "display_data"
    }
   ],
   "source": [
    "df_geiger[nrow(df_geiger) + 1,] <- c(l_sq$lambda, l_sq$pval0, l_sq$pval1, l_sq$sigsq,\n",
    "                                    l_sq$sigsq_unb, l_sq$lnL)\n",
    "rownames(df_geiger)[nrow(df_geiger)] <- \"log_surface\"\n",
    "df_geiger"
   ]
  },
  {
   "cell_type": "code",
   "execution_count": 33,
   "metadata": {},
   "outputs": [],
   "source": [
    "# Save x and y positions for likelihood calculation\n",
    "lambda2 <- fitContinuous(tree2, datum, model = 'lambda')\n",
    "# For lambda\n",
    "xpos1 <- seq(0, 1, length.out = 50)\n",
    "# For sigmasq\n",
    "xpos2 <- seq(0, 2, length.out = 50)\n",
    "ypos <- c()\n",
    "for (i in 1:length(xpos1)){\n",
    "    ypos[i] <- lambda2$lik(c(xpos1[i], xpos2[i]))\n",
    "}"
   ]
  },
  {
   "cell_type": "code",
   "execution_count": 34,
   "metadata": {},
   "outputs": [],
   "source": [
    "write.table(data.frame(x1 = xpos1, x2 = xpos2, y = ypos), \"physig/log_surface.lambda-sigsq.plot\", \n",
    "            sep=\"\\t\", col.names=FALSE, row.names=FALSE)"
   ]
  },
  {
   "cell_type": "markdown",
   "metadata": {},
   "source": [
    "Calculate Pagel's λ of volume-to-surface ratio."
   ]
  },
  {
   "cell_type": "code",
   "execution_count": 41,
   "metadata": {},
   "outputs": [
    {
     "name": "stderr",
     "output_type": "stream",
     "text": [
      "Warning message in fitContinuous(tree, x, model = \"lambda\"):\n",
      "“\n",
      "Parameter estimates appear at bounds:\n",
      "\tlambda”\n"
     ]
    }
   ],
   "source": [
    "# Lambda and sigsq with geiger\n",
    "datum <- setNames(data$svratio, data$taxid)\n",
    "l_sq <- lambda_sigsq(tree2, datum)"
   ]
  },
  {
   "cell_type": "code",
   "execution_count": 42,
   "metadata": {},
   "outputs": [
    {
     "data": {
      "text/html": [
       "<table class=\"dataframe\">\n",
       "<caption>A data.frame: 3 × 6</caption>\n",
       "<thead>\n",
       "\t<tr><th></th><th scope=col>lambda</th><th scope=col>pval0</th><th scope=col>pval1</th><th scope=col>sigsq</th><th scope=col>sigsq_unb</th><th scope=col>lnL</th></tr>\n",
       "\t<tr><th></th><th scope=col>&lt;dbl&gt;</th><th scope=col>&lt;dbl&gt;</th><th scope=col>&lt;dbl&gt;</th><th scope=col>&lt;dbl&gt;</th><th scope=col>&lt;dbl&gt;</th><th scope=col>&lt;dbl&gt;</th></tr>\n",
       "</thead>\n",
       "<tbody>\n",
       "\t<tr><th scope=row>log_volume</th><td>0.8329569</td><td>0</td><td>5.925951e-128</td><td>0.6851921</td><td>0.6853195</td><td>-3791.529</td></tr>\n",
       "\t<tr><th scope=row>log_surface</th><td>0.8484278</td><td>0</td><td>3.590505e-118</td><td>0.3417221</td><td>0.3417857</td><td>-1815.575</td></tr>\n",
       "\t<tr><th scope=row>svratio</th><td>1.0000000</td><td>0</td><td> 1.000000e+00</td><td>0.8230996</td><td>0.8232526</td><td>-2669.255</td></tr>\n",
       "</tbody>\n",
       "</table>\n"
      ],
      "text/latex": [
       "A data.frame: 3 × 6\n",
       "\\begin{tabular}{r|llllll}\n",
       "  & lambda & pval0 & pval1 & sigsq & sigsq\\_unb & lnL\\\\\n",
       "  & <dbl> & <dbl> & <dbl> & <dbl> & <dbl> & <dbl>\\\\\n",
       "\\hline\n",
       "\tlog\\_volume & 0.8329569 & 0 & 5.925951e-128 & 0.6851921 & 0.6853195 & -3791.529\\\\\n",
       "\tlog\\_surface & 0.8484278 & 0 & 3.590505e-118 & 0.3417221 & 0.3417857 & -1815.575\\\\\n",
       "\tsvratio & 1.0000000 & 0 &  1.000000e+00 & 0.8230996 & 0.8232526 & -2669.255\\\\\n",
       "\\end{tabular}\n"
      ],
      "text/markdown": [
       "\n",
       "A data.frame: 3 × 6\n",
       "\n",
       "| <!--/--> | lambda &lt;dbl&gt; | pval0 &lt;dbl&gt; | pval1 &lt;dbl&gt; | sigsq &lt;dbl&gt; | sigsq_unb &lt;dbl&gt; | lnL &lt;dbl&gt; |\n",
       "|---|---|---|---|---|---|---|\n",
       "| log_volume | 0.8329569 | 0 | 5.925951e-128 | 0.6851921 | 0.6853195 | -3791.529 |\n",
       "| log_surface | 0.8484278 | 0 | 3.590505e-118 | 0.3417221 | 0.3417857 | -1815.575 |\n",
       "| svratio | 1.0000000 | 0 |  1.000000e+00 | 0.8230996 | 0.8232526 | -2669.255 |\n",
       "\n"
      ],
      "text/plain": [
       "            lambda    pval0 pval1         sigsq     sigsq_unb lnL      \n",
       "log_volume  0.8329569 0     5.925951e-128 0.6851921 0.6853195 -3791.529\n",
       "log_surface 0.8484278 0     3.590505e-118 0.3417221 0.3417857 -1815.575\n",
       "svratio     1.0000000 0      1.000000e+00 0.8230996 0.8232526 -2669.255"
      ]
     },
     "metadata": {},
     "output_type": "display_data"
    }
   ],
   "source": [
    "df_geiger[nrow(df_geiger) + 1,] <- c(l_sq$lambda, l_sq$pval0, l_sq$pval1, l_sq$sigsq,\n",
    "                                    l_sq$sigsq_unb, l_sq$lnL)\n",
    "rownames(df_geiger)[nrow(df_geiger)] <- \"svratio\"\n",
    "df_geiger"
   ]
  },
  {
   "cell_type": "code",
   "execution_count": 43,
   "metadata": {},
   "outputs": [
    {
     "name": "stderr",
     "output_type": "stream",
     "text": [
      "Warning message in fitContinuous(tree2, datum, model = \"lambda\"):\n",
      "“\n",
      "Parameter estimates appear at bounds:\n",
      "\tlambda”\n"
     ]
    }
   ],
   "source": [
    "# Save x and y positions for likelihood calculation\n",
    "lambda2 <- fitContinuous(tree2, datum, model = 'lambda')\n",
    "# For lambda\n",
    "xpos1 <- seq(0, 1, length.out = 50)\n",
    "# For sigmasq\n",
    "xpos2 <- seq(0, 2, length.out = 50)\n",
    "ypos <- c()\n",
    "for (i in 1:length(xpos1)){\n",
    "    ypos[i] <- lambda2$lik(c(xpos1[i], xpos2[i]))\n",
    "}"
   ]
  },
  {
   "cell_type": "code",
   "execution_count": 44,
   "metadata": {},
   "outputs": [],
   "source": [
    "write.table(data.frame(x1 = xpos1, x2 = xpos2, y = ypos), \"physig/svratio.lambda-sigsq.plot\", \n",
    "            sep=\"\\t\", col.names=FALSE, row.names=FALSE)"
   ]
  },
  {
   "cell_type": "markdown",
   "metadata": {},
   "source": [
    "Calculate Pagel's _λ_ of all metrics."
   ]
  },
  {
   "cell_type": "code",
   "execution_count": 45,
   "metadata": {},
   "outputs": [],
   "source": [
    "cols = c(\"volume\", \"surface\", \"genome\", \"gc\", \"proteins\", \"coding\", \"rrnas\", \"log_svratio\",\n",
    "         \"log_genome\", \"log_proteins\", \"MILC\", \"ENCprime\", \"log_coding\", \"log_rrnas\", \"hash\")"
   ]
  },
  {
   "cell_type": "code",
   "execution_count": 46,
   "metadata": {},
   "outputs": [
    {
     "name": "stderr",
     "output_type": "stream",
     "text": [
      "Warning message in fitContinuous(tree, x, model = \"lambda\"):\n",
      "“\n",
      "Parameter estimates appear at bounds:\n",
      "\tlambda”\n",
      "Warning message in fitContinuous(tree, x, model = \"lambda\"):\n",
      "“\n",
      "Parameter estimates appear at bounds:\n",
      "\tlambda”\n",
      "Warning message in fitContinuous(tree, x, model = \"lambda\"):\n",
      "“\n",
      "Parameter estimates appear at bounds:\n",
      "\tlambda”\n",
      "Warning message in fitContinuous(tree, x, model = \"lambda\"):\n",
      "“\n",
      "Parameter estimates appear at bounds:\n",
      "\tlambda”\n",
      "Warning message in fitContinuous(tree, x, model = \"lambda\"):\n",
      "“\n",
      "Parameter estimates appear at bounds:\n",
      "\tlambda”\n"
     ]
    }
   ],
   "source": [
    "for (col in cols) {\n",
    "    datum <- setNames(data[[col]], data$taxid)\n",
    "    #lambda <- phylosig(tree, datum, method=\"lambda\", test=TRUE)\n",
    "    #df[nrow(df) + 1,] <- c(lambda$lambda, lambda$logL, lambda$logL0, lambda$P)\n",
    "    #rownames(df)[nrow(df)] <- col\n",
    "    # For lambda and sigmasq - geiger\n",
    "    l_sq <- lambda_sigsq(tree2, datum)\n",
    "    df_geiger[nrow(df_geiger) + 1,] <- c(l_sq$lambda, l_sq$pval0, l_sq$pval1, l_sq$sigsq,\n",
    "                                    l_sq$sigsq_unb, l_sq$lnL)\n",
    "    rownames(df_geiger)[nrow(df_geiger)] <- col\n",
    "}"
   ]
  },
  {
   "cell_type": "code",
   "execution_count": 49,
   "metadata": {},
   "outputs": [
    {
     "data": {
      "text/html": [
       "<table class=\"dataframe\">\n",
       "<caption>A data.frame: 18 × 6</caption>\n",
       "<thead>\n",
       "\t<tr><th></th><th scope=col>lambda</th><th scope=col>pval0</th><th scope=col>pval1</th><th scope=col>sigsq</th><th scope=col>sigsq_unb</th><th scope=col>lnL</th></tr>\n",
       "\t<tr><th></th><th scope=col>&lt;dbl&gt;</th><th scope=col>&lt;dbl&gt;</th><th scope=col>&lt;dbl&gt;</th><th scope=col>&lt;dbl&gt;</th><th scope=col>&lt;dbl&gt;</th><th scope=col>&lt;dbl&gt;</th></tr>\n",
       "</thead>\n",
       "<tbody>\n",
       "\t<tr><th scope=row>log_volume</th><td> 8.329569e-01</td><td>0.00000000</td><td>5.925951e-128</td><td>6.851921e-01</td><td>6.853195e-01</td><td> -3.791529e+03</td></tr>\n",
       "\t<tr><th scope=row>log_surface</th><td> 8.484278e-01</td><td>0.00000000</td><td>3.590505e-118</td><td>3.417221e-01</td><td>3.417857e-01</td><td> -1.815575e+03</td></tr>\n",
       "\t<tr><th scope=row>svratio</th><td> 1.000000e+00</td><td>0.00000000</td><td> 1.000000e+00</td><td>8.230996e-01</td><td>8.232526e-01</td><td> -2.669255e+03</td></tr>\n",
       "\t<tr><th scope=row>volume</th><td> 1.000000e+00</td><td>0.00000000</td><td> 1.000000e+00</td><td>2.753189e+10</td><td>2.753701e+10</td><td> -6.785677e+04</td></tr>\n",
       "\t<tr><th scope=row>surface</th><td> 1.000000e+00</td><td>0.00000000</td><td> 1.000000e+00</td><td>5.872204e+08</td><td>5.873296e+08</td><td> -5.750646e+04</td></tr>\n",
       "\t<tr><th scope=row>genome</th><td> 9.999398e-01</td><td>0.00000000</td><td> 9.278988e-01</td><td>2.529165e+12</td><td>2.529635e+12</td><td> -8.001751e+04</td></tr>\n",
       "\t<tr><th scope=row>gc</th><td> 1.000000e+00</td><td>0.00000000</td><td> 1.000000e+00</td><td>6.532254e+01</td><td>6.533468e+01</td><td> -1.443536e+04</td></tr>\n",
       "\t<tr><th scope=row>proteins</th><td> 9.991343e-01</td><td>0.00000000</td><td> 5.912825e-01</td><td>2.004941e+06</td><td>2.005314e+06</td><td> -4.224243e+04</td></tr>\n",
       "\t<tr><th scope=row>coding</th><td> 9.579968e-01</td><td>0.00000000</td><td> 4.405728e-65</td><td>1.057644e+01</td><td>1.057840e+01</td><td> -1.009835e+04</td></tr>\n",
       "\t<tr><th scope=row>rrnas</th><td> 7.578361e-01</td><td>0.00000000</td><td> 0.000000e+00</td><td>4.209784e+00</td><td>4.210567e+00</td><td> -9.120741e+03</td></tr>\n",
       "\t<tr><th scope=row>log_svratio</th><td> 8.296685e-01</td><td>0.00000000</td><td>3.891426e-129</td><td>8.086371e-02</td><td>8.087874e-02</td><td>  1.935260e+03</td></tr>\n",
       "\t<tr><th scope=row>log_genome</th><td> 9.989036e-01</td><td>0.00000000</td><td> 2.984388e-01</td><td>2.585680e-02</td><td>2.586161e-02</td><td>  6.621166e+03</td></tr>\n",
       "\t<tr><th scope=row>log_proteins</th><td> 9.912948e-01</td><td>0.00000000</td><td> 1.244353e-08</td><td>2.368947e-02</td><td>2.369387e-02</td><td>  6.738091e+03</td></tr>\n",
       "\t<tr><th scope=row>MILC</th><td> 9.935034e-01</td><td>0.00000000</td><td> 4.503138e-02</td><td>5.790486e-02</td><td>5.791562e-02</td><td>  4.367120e+03</td></tr>\n",
       "\t<tr><th scope=row>ENCprime</th><td> 1.000000e+00</td><td>0.00000000</td><td> 1.000000e+00</td><td>6.463342e-03</td><td>6.464543e-03</td><td>  1.036899e+04</td></tr>\n",
       "\t<tr><th scope=row>log_coding</th><td> 9.542207e-01</td><td>0.00000000</td><td> 3.638165e-75</td><td>2.667213e-04</td><td>2.667709e-04</td><td>  1.834125e+04</td></tr>\n",
       "\t<tr><th scope=row>log_rrnas</th><td>7.124576e-218</td><td>1.00000000</td><td> 1.000000e+00</td><td>1.000000e-02</td><td>1.000186e-02</td><td>-1.000000e+200</td></tr>\n",
       "\t<tr><th scope=row>hash</th><td> 1.720830e-02</td><td>0.02082992</td><td> 0.000000e+00</td><td>5.906823e-01</td><td>5.907921e-01</td><td> -6.067509e+03</td></tr>\n",
       "</tbody>\n",
       "</table>\n"
      ],
      "text/latex": [
       "A data.frame: 18 × 6\n",
       "\\begin{tabular}{r|llllll}\n",
       "  & lambda & pval0 & pval1 & sigsq & sigsq\\_unb & lnL\\\\\n",
       "  & <dbl> & <dbl> & <dbl> & <dbl> & <dbl> & <dbl>\\\\\n",
       "\\hline\n",
       "\tlog\\_volume &  8.329569e-01 & 0.00000000 & 5.925951e-128 & 6.851921e-01 & 6.853195e-01 &  -3.791529e+03\\\\\n",
       "\tlog\\_surface &  8.484278e-01 & 0.00000000 & 3.590505e-118 & 3.417221e-01 & 3.417857e-01 &  -1.815575e+03\\\\\n",
       "\tsvratio &  1.000000e+00 & 0.00000000 &  1.000000e+00 & 8.230996e-01 & 8.232526e-01 &  -2.669255e+03\\\\\n",
       "\tvolume &  1.000000e+00 & 0.00000000 &  1.000000e+00 & 2.753189e+10 & 2.753701e+10 &  -6.785677e+04\\\\\n",
       "\tsurface &  1.000000e+00 & 0.00000000 &  1.000000e+00 & 5.872204e+08 & 5.873296e+08 &  -5.750646e+04\\\\\n",
       "\tgenome &  9.999398e-01 & 0.00000000 &  9.278988e-01 & 2.529165e+12 & 2.529635e+12 &  -8.001751e+04\\\\\n",
       "\tgc &  1.000000e+00 & 0.00000000 &  1.000000e+00 & 6.532254e+01 & 6.533468e+01 &  -1.443536e+04\\\\\n",
       "\tproteins &  9.991343e-01 & 0.00000000 &  5.912825e-01 & 2.004941e+06 & 2.005314e+06 &  -4.224243e+04\\\\\n",
       "\tcoding &  9.579968e-01 & 0.00000000 &  4.405728e-65 & 1.057644e+01 & 1.057840e+01 &  -1.009835e+04\\\\\n",
       "\trrnas &  7.578361e-01 & 0.00000000 &  0.000000e+00 & 4.209784e+00 & 4.210567e+00 &  -9.120741e+03\\\\\n",
       "\tlog\\_svratio &  8.296685e-01 & 0.00000000 & 3.891426e-129 & 8.086371e-02 & 8.087874e-02 &   1.935260e+03\\\\\n",
       "\tlog\\_genome &  9.989036e-01 & 0.00000000 &  2.984388e-01 & 2.585680e-02 & 2.586161e-02 &   6.621166e+03\\\\\n",
       "\tlog\\_proteins &  9.912948e-01 & 0.00000000 &  1.244353e-08 & 2.368947e-02 & 2.369387e-02 &   6.738091e+03\\\\\n",
       "\tMILC &  9.935034e-01 & 0.00000000 &  4.503138e-02 & 5.790486e-02 & 5.791562e-02 &   4.367120e+03\\\\\n",
       "\tENCprime &  1.000000e+00 & 0.00000000 &  1.000000e+00 & 6.463342e-03 & 6.464543e-03 &   1.036899e+04\\\\\n",
       "\tlog\\_coding &  9.542207e-01 & 0.00000000 &  3.638165e-75 & 2.667213e-04 & 2.667709e-04 &   1.834125e+04\\\\\n",
       "\tlog\\_rrnas & 7.124576e-218 & 1.00000000 &  1.000000e+00 & 1.000000e-02 & 1.000186e-02 & -1.000000e+200\\\\\n",
       "\thash &  1.720830e-02 & 0.02082992 &  0.000000e+00 & 5.906823e-01 & 5.907921e-01 &  -6.067509e+03\\\\\n",
       "\\end{tabular}\n"
      ],
      "text/markdown": [
       "\n",
       "A data.frame: 18 × 6\n",
       "\n",
       "| <!--/--> | lambda &lt;dbl&gt; | pval0 &lt;dbl&gt; | pval1 &lt;dbl&gt; | sigsq &lt;dbl&gt; | sigsq_unb &lt;dbl&gt; | lnL &lt;dbl&gt; |\n",
       "|---|---|---|---|---|---|---|\n",
       "| log_volume |  8.329569e-01 | 0.00000000 | 5.925951e-128 | 6.851921e-01 | 6.853195e-01 |  -3.791529e+03 |\n",
       "| log_surface |  8.484278e-01 | 0.00000000 | 3.590505e-118 | 3.417221e-01 | 3.417857e-01 |  -1.815575e+03 |\n",
       "| svratio |  1.000000e+00 | 0.00000000 |  1.000000e+00 | 8.230996e-01 | 8.232526e-01 |  -2.669255e+03 |\n",
       "| volume |  1.000000e+00 | 0.00000000 |  1.000000e+00 | 2.753189e+10 | 2.753701e+10 |  -6.785677e+04 |\n",
       "| surface |  1.000000e+00 | 0.00000000 |  1.000000e+00 | 5.872204e+08 | 5.873296e+08 |  -5.750646e+04 |\n",
       "| genome |  9.999398e-01 | 0.00000000 |  9.278988e-01 | 2.529165e+12 | 2.529635e+12 |  -8.001751e+04 |\n",
       "| gc |  1.000000e+00 | 0.00000000 |  1.000000e+00 | 6.532254e+01 | 6.533468e+01 |  -1.443536e+04 |\n",
       "| proteins |  9.991343e-01 | 0.00000000 |  5.912825e-01 | 2.004941e+06 | 2.005314e+06 |  -4.224243e+04 |\n",
       "| coding |  9.579968e-01 | 0.00000000 |  4.405728e-65 | 1.057644e+01 | 1.057840e+01 |  -1.009835e+04 |\n",
       "| rrnas |  7.578361e-01 | 0.00000000 |  0.000000e+00 | 4.209784e+00 | 4.210567e+00 |  -9.120741e+03 |\n",
       "| log_svratio |  8.296685e-01 | 0.00000000 | 3.891426e-129 | 8.086371e-02 | 8.087874e-02 |   1.935260e+03 |\n",
       "| log_genome |  9.989036e-01 | 0.00000000 |  2.984388e-01 | 2.585680e-02 | 2.586161e-02 |   6.621166e+03 |\n",
       "| log_proteins |  9.912948e-01 | 0.00000000 |  1.244353e-08 | 2.368947e-02 | 2.369387e-02 |   6.738091e+03 |\n",
       "| MILC |  9.935034e-01 | 0.00000000 |  4.503138e-02 | 5.790486e-02 | 5.791562e-02 |   4.367120e+03 |\n",
       "| ENCprime |  1.000000e+00 | 0.00000000 |  1.000000e+00 | 6.463342e-03 | 6.464543e-03 |   1.036899e+04 |\n",
       "| log_coding |  9.542207e-01 | 0.00000000 |  3.638165e-75 | 2.667213e-04 | 2.667709e-04 |   1.834125e+04 |\n",
       "| log_rrnas | 7.124576e-218 | 1.00000000 |  1.000000e+00 | 1.000000e-02 | 1.000186e-02 | -1.000000e+200 |\n",
       "| hash |  1.720830e-02 | 0.02082992 |  0.000000e+00 | 5.906823e-01 | 5.907921e-01 |  -6.067509e+03 |\n",
       "\n"
      ],
      "text/plain": [
       "             lambda        pval0      pval1         sigsq        sigsq_unb   \n",
       "log_volume    8.329569e-01 0.00000000 5.925951e-128 6.851921e-01 6.853195e-01\n",
       "log_surface   8.484278e-01 0.00000000 3.590505e-118 3.417221e-01 3.417857e-01\n",
       "svratio       1.000000e+00 0.00000000  1.000000e+00 8.230996e-01 8.232526e-01\n",
       "volume        1.000000e+00 0.00000000  1.000000e+00 2.753189e+10 2.753701e+10\n",
       "surface       1.000000e+00 0.00000000  1.000000e+00 5.872204e+08 5.873296e+08\n",
       "genome        9.999398e-01 0.00000000  9.278988e-01 2.529165e+12 2.529635e+12\n",
       "gc            1.000000e+00 0.00000000  1.000000e+00 6.532254e+01 6.533468e+01\n",
       "proteins      9.991343e-01 0.00000000  5.912825e-01 2.004941e+06 2.005314e+06\n",
       "coding        9.579968e-01 0.00000000  4.405728e-65 1.057644e+01 1.057840e+01\n",
       "rrnas         7.578361e-01 0.00000000  0.000000e+00 4.209784e+00 4.210567e+00\n",
       "log_svratio   8.296685e-01 0.00000000 3.891426e-129 8.086371e-02 8.087874e-02\n",
       "log_genome    9.989036e-01 0.00000000  2.984388e-01 2.585680e-02 2.586161e-02\n",
       "log_proteins  9.912948e-01 0.00000000  1.244353e-08 2.368947e-02 2.369387e-02\n",
       "MILC          9.935034e-01 0.00000000  4.503138e-02 5.790486e-02 5.791562e-02\n",
       "ENCprime      1.000000e+00 0.00000000  1.000000e+00 6.463342e-03 6.464543e-03\n",
       "log_coding    9.542207e-01 0.00000000  3.638165e-75 2.667213e-04 2.667709e-04\n",
       "log_rrnas    7.124576e-218 1.00000000  1.000000e+00 1.000000e-02 1.000186e-02\n",
       "hash          1.720830e-02 0.02082992  0.000000e+00 5.906823e-01 5.907921e-01\n",
       "             lnL           \n",
       "log_volume    -3.791529e+03\n",
       "log_surface   -1.815575e+03\n",
       "svratio       -2.669255e+03\n",
       "volume        -6.785677e+04\n",
       "surface       -5.750646e+04\n",
       "genome        -8.001751e+04\n",
       "gc            -1.443536e+04\n",
       "proteins      -4.224243e+04\n",
       "coding        -1.009835e+04\n",
       "rrnas         -9.120741e+03\n",
       "log_svratio    1.935260e+03\n",
       "log_genome     6.621166e+03\n",
       "log_proteins   6.738091e+03\n",
       "MILC           4.367120e+03\n",
       "ENCprime       1.036899e+04\n",
       "log_coding     1.834125e+04\n",
       "log_rrnas    -1.000000e+200\n",
       "hash          -6.067509e+03"
      ]
     },
     "metadata": {},
     "output_type": "display_data"
    }
   ],
   "source": [
    "df_geiger"
   ]
  },
  {
   "cell_type": "code",
   "execution_count": 51,
   "metadata": {},
   "outputs": [],
   "source": [
    "write.table(df_geiger, \"physig/lambda-sigsq.tsv\", sep=\"\\t\", quote=FALSE)"
   ]
  },
  {
   "cell_type": "markdown",
   "metadata": {},
   "source": [
    "**Calculate Pagel's $\\lambda$ for data points placed at the tips of the WoL reference phylogeny**"
   ]
  },
  {
   "cell_type": "markdown",
   "metadata": {},
   "source": [
    "Load tree"
   ]
  },
  {
   "cell_type": "code",
   "execution_count": 9,
   "metadata": {},
   "outputs": [
    {
     "data": {
      "text/plain": [
       "\n",
       "Phylogenetic tree with 1363 tips and 1332 internal nodes.\n",
       "\n",
       "Tip labels:\n",
       "  taxid2201, taxid2200, taxid263906, taxid882104, taxid2205, taxid54120, ...\n",
       "Node labels:\n",
       "  N1, N5, N18, N51, N79, N119, ...\n",
       "\n",
       "Rooted; includes branch lengths."
      ]
     },
     "metadata": {},
     "output_type": "display_data"
    }
   ],
   "source": [
    "tree_wol <- read.tree(\"../phylogeny/place/fine_all_wol.nwk\")\n",
    "tree_wol"
   ]
  },
  {
   "cell_type": "markdown",
   "metadata": {},
   "source": [
    "Load data"
   ]
  },
  {
   "cell_type": "code",
   "execution_count": 10,
   "metadata": {},
   "outputs": [
    {
     "data": {
      "text/html": [
       "<style>\n",
       ".list-inline {list-style: none; margin:0; padding: 0}\n",
       ".list-inline>li {display: inline-block}\n",
       ".list-inline>li:not(:last-child)::after {content: \"\\00b7\"; padding: 0 .5ex}\n",
       "</style>\n",
       "<ol class=list-inline><li>1363</li><li>34</li></ol>\n"
      ],
      "text/latex": [
       "\\begin{enumerate*}\n",
       "\\item 1363\n",
       "\\item 34\n",
       "\\end{enumerate*}\n"
      ],
      "text/markdown": [
       "1. 1363\n",
       "2. 34\n",
       "\n",
       "\n"
      ],
      "text/plain": [
       "[1] 1363   34"
      ]
     },
     "metadata": {},
     "output_type": "display_data"
    }
   ],
   "source": [
    "data_wol <- read.table(\"../phylogeny/place/fine_all_wol.tsv\", header=TRUE, sep=\"\\t\", quote=\"\")\n",
    "dim(data_wol)"
   ]
  },
  {
   "cell_type": "code",
   "execution_count": 11,
   "metadata": {},
   "outputs": [],
   "source": [
    "data_wol[[paste(\"svratio\")]] = (data_wol[['volume']] / data_wol[['surface']])"
   ]
  },
  {
   "cell_type": "markdown",
   "metadata": {},
   "source": [
    "Binarize tree"
   ]
  },
  {
   "cell_type": "code",
   "execution_count": 14,
   "metadata": {},
   "outputs": [],
   "source": [
    "tree2_wol <- multi2di(tree_wol)"
   ]
  },
  {
   "cell_type": "code",
   "execution_count": 15,
   "metadata": {},
   "outputs": [],
   "source": [
    "tree2 <- multi2di(tree_wol)"
   ]
  },
  {
   "cell_type": "code",
   "execution_count": 60,
   "metadata": {},
   "outputs": [
    {
     "data": {
      "text/html": [
       "<table class=\"dataframe\">\n",
       "<caption>A data.frame: 0 × 6</caption>\n",
       "<thead>\n",
       "\t<tr><th scope=col>lambda</th><th scope=col>pval0</th><th scope=col>pval1</th><th scope=col>sigsq</th><th scope=col>sigsq_unb</th><th scope=col>lnL</th></tr>\n",
       "\t<tr><th scope=col>&lt;lgl&gt;</th><th scope=col>&lt;lgl&gt;</th><th scope=col>&lt;lgl&gt;</th><th scope=col>&lt;lgl&gt;</th><th scope=col>&lt;lgl&gt;</th><th scope=col>&lt;lgl&gt;</th></tr>\n",
       "</thead>\n",
       "<tbody>\n",
       "</tbody>\n",
       "</table>\n"
      ],
      "text/latex": [
       "A data.frame: 0 × 6\n",
       "\\begin{tabular}{llllll}\n",
       " lambda & pval0 & pval1 & sigsq & sigsq\\_unb & lnL\\\\\n",
       " <lgl> & <lgl> & <lgl> & <lgl> & <lgl> & <lgl>\\\\\n",
       "\\hline\n",
       "\\end{tabular}\n"
      ],
      "text/markdown": [
       "\n",
       "A data.frame: 0 × 6\n",
       "\n",
       "| lambda &lt;lgl&gt; | pval0 &lt;lgl&gt; | pval1 &lt;lgl&gt; | sigsq &lt;lgl&gt; | sigsq_unb &lt;lgl&gt; | lnL &lt;lgl&gt; |\n",
       "|---|---|---|---|---|---|\n",
       "\n"
      ],
      "text/plain": [
       "     lambda pval0 pval1 sigsq sigsq_unb lnL"
      ]
     },
     "metadata": {},
     "output_type": "display_data"
    }
   ],
   "source": [
    "# Dataframe to save outputs\n",
    "df_geiger <- data.frame(matrix(ncol=6, nrow=0))\n",
    "colnames(df_geiger) <- c('lambda', 'pval0', 'pval1', 'sigsq',\n",
    "                 'sigsq_unb', 'lnL')\n",
    "df_geiger"
   ]
  },
  {
   "cell_type": "code",
   "execution_count": 61,
   "metadata": {},
   "outputs": [],
   "source": [
    "datum <- setNames(data_wol$log_volume, data_wol$taxid)"
   ]
  },
  {
   "cell_type": "code",
   "execution_count": 62,
   "metadata": {},
   "outputs": [],
   "source": [
    "l_sq <- lambda_sigsq(tree2, datum)"
   ]
  },
  {
   "cell_type": "code",
   "execution_count": 63,
   "metadata": {},
   "outputs": [],
   "source": [
    "df_geiger[nrow(df_geiger) + 1,] <- c(l_sq$lambda, l_sq$pval0, l_sq$pval1, l_sq$sigsq,\n",
    "                                    l_sq$sigsq_unb, l_sq$lnL)\n",
    "rownames(df_geiger)[nrow(df_geiger)] <- \"log_volume\""
   ]
  },
  {
   "cell_type": "code",
   "execution_count": 64,
   "metadata": {},
   "outputs": [],
   "source": [
    "datum <- setNames(data_wol$log_surface, data_wol$taxid)\n",
    "l_sq <- lambda_sigsq(tree2, datum)"
   ]
  },
  {
   "cell_type": "code",
   "execution_count": 65,
   "metadata": {},
   "outputs": [],
   "source": [
    "df_geiger[nrow(df_geiger) + 1,] <- c(l_sq$lambda, l_sq$pval0, l_sq$pval1, l_sq$sigsq,\n",
    "                                    l_sq$sigsq_unb, l_sq$lnL)\n",
    "rownames(df_geiger)[nrow(df_geiger)] <- \"log_surface\""
   ]
  },
  {
   "cell_type": "code",
   "execution_count": 66,
   "metadata": {},
   "outputs": [],
   "source": [
    "datum <- setNames(data_wol$svratio, data_wol$taxid)\n",
    "l_sq <- lambda_sigsq(tree2, datum)"
   ]
  },
  {
   "cell_type": "code",
   "execution_count": null,
   "metadata": {},
   "outputs": [],
   "source": [
    "df_geiger[nrow(df_geiger) + 1,] <- c(l_sq$lambda, l_sq$pval0, l_sq$pval1, l_sq$sigsq,\n",
    "                                    l_sq$sigsq_unb, l_sq$lnL)\n",
    "rownames(df_geiger)[nrow(df_geiger)] <- \"svratio\""
   ]
  },
  {
   "cell_type": "code",
   "execution_count": 68,
   "metadata": {},
   "outputs": [],
   "source": [
    "cols = c(\"volume\", \"surface\", \"genome\", \"gc\", \"proteins\", \"coding\", \"rrnas\", \"log_svratio\",\n",
    "         \"log_genome\", \"log_proteins\", \"ENCprime\", \"arc_coding\", \"arc_gc\", \"hash\")"
   ]
  },
  {
   "cell_type": "code",
   "execution_count": 69,
   "metadata": {},
   "outputs": [
    {
     "name": "stderr",
     "output_type": "stream",
     "text": [
      "Warning message in fitContinuous(tree, x, model = \"lambda\"):\n",
      "“\n",
      "Parameter estimates appear at bounds:\n",
      "\tlambda”\n",
      "Warning message in fitContinuous(tree, x, model = \"lambda\"):\n",
      "“\n",
      "Parameter estimates appear at bounds:\n",
      "\tlambda”\n",
      "Warning message in fitContinuous(tree, x, model = \"lambda\"):\n",
      "“\n",
      "Parameter estimates appear at bounds:\n",
      "\tlambda”\n"
     ]
    }
   ],
   "source": [
    "for (col in cols) {\n",
    "    datum <- setNames(data_wol[[col]], data_wol$taxid)\n",
    "    l_sq <- lambda_sigsq(tree2, datum)\n",
    "    df_geiger[nrow(df_geiger) + 1,] <- c(l_sq$lambda, l_sq$pval0, l_sq$pval1, l_sq$sigsq,\n",
    "                                    l_sq$sigsq_unb, l_sq$lnL)\n",
    "    rownames(df_geiger)[nrow(df_geiger)] <- col\n",
    "}"
   ]
  },
  {
   "cell_type": "code",
   "execution_count": 70,
   "metadata": {},
   "outputs": [
    {
     "data": {
      "text/html": [
       "<table class=\"dataframe\">\n",
       "<caption>A data.frame: 17 × 6</caption>\n",
       "<thead>\n",
       "\t<tr><th></th><th scope=col>lambda</th><th scope=col>pval0</th><th scope=col>pval1</th><th scope=col>sigsq</th><th scope=col>sigsq_unb</th><th scope=col>lnL</th></tr>\n",
       "\t<tr><th></th><th scope=col>&lt;dbl&gt;</th><th scope=col>&lt;dbl&gt;</th><th scope=col>&lt;dbl&gt;</th><th scope=col>&lt;dbl&gt;</th><th scope=col>&lt;dbl&gt;</th><th scope=col>&lt;dbl&gt;</th></tr>\n",
       "</thead>\n",
       "<tbody>\n",
       "\t<tr><th scope=row>log_volume</th><td> 7.257660e-01</td><td>5.344874e-121</td><td> 7.723809e-75</td><td>5.926582e-01</td><td>5.930934e-01</td><td> -1057.5678</td></tr>\n",
       "\t<tr><th scope=row>log_surface</th><td> 7.489596e-01</td><td>4.733365e-112</td><td> 1.461248e-71</td><td>2.986630e-01</td><td>2.988823e-01</td><td>  -561.9867</td></tr>\n",
       "\t<tr><th scope=row>svratio</th><td> 4.639481e-01</td><td> 8.522830e-89</td><td> 1.113416e-10</td><td>5.105509e-02</td><td>5.109258e-02</td><td>   372.2584</td></tr>\n",
       "\t<tr><th scope=row>volume</th><td> 2.815038e-02</td><td> 1.212248e-02</td><td> 1.603914e-91</td><td>1.950322e+05</td><td>1.951754e+05</td><td>-10182.1117</td></tr>\n",
       "\t<tr><th scope=row>surface</th><td>1.075235e-163</td><td> 1.000000e+00</td><td> 1.493138e-45</td><td>8.704827e+03</td><td>8.711218e+03</td><td> -8068.9799</td></tr>\n",
       "\t<tr><th scope=row>genome</th><td> 9.983199e-01</td><td>1.167223e-286</td><td> 3.788883e-01</td><td>4.753077e+12</td><td>4.756567e+12</td><td>-20734.2607</td></tr>\n",
       "\t<tr><th scope=row>gc</th><td> 1.000000e+00</td><td> 0.000000e+00</td><td> 1.000000e+00</td><td>1.280842e+02</td><td>1.281782e+02</td><td> -4139.8890</td></tr>\n",
       "\t<tr><th scope=row>proteins</th><td> 9.964982e-01</td><td>7.374988e-263</td><td> 4.948841e-01</td><td>3.702380e+06</td><td>3.705099e+06</td><td>-11157.7540</td></tr>\n",
       "\t<tr><th scope=row>coding</th><td> 9.420309e-01</td><td>1.154039e-254</td><td> 3.195706e-23</td><td>2.146298e+01</td><td>2.147873e+01</td><td> -3129.0243</td></tr>\n",
       "\t<tr><th scope=row>rrnas</th><td> 2.139133e-01</td><td> 9.989505e-12</td><td>1.414415e-155</td><td>4.085458e+00</td><td>4.088458e+00</td><td> -2764.0221</td></tr>\n",
       "\t<tr><th scope=row>log_svratio</th><td> 7.623076e-01</td><td>1.347989e-164</td><td> 4.613522e-67</td><td>7.694295e-02</td><td>7.699945e-02</td><td>   379.5263</td></tr>\n",
       "\t<tr><th scope=row>log_genome</th><td> 9.939339e-01</td><td> 0.000000e+00</td><td> 5.989523e-02</td><td>4.856718e-02</td><td>4.860284e-02</td><td>  1199.0482</td></tr>\n",
       "\t<tr><th scope=row>log_proteins</th><td> 9.825571e-01</td><td>4.683138e-310</td><td> 5.548097e-06</td><td>4.413124e-02</td><td>4.416365e-02</td><td>  1216.9224</td></tr>\n",
       "\t<tr><th scope=row>ENCprime</th><td> 1.000000e+00</td><td>9.662439e-314</td><td> 1.000000e+00</td><td>1.201003e-02</td><td>1.201885e-02</td><td>  2180.8197</td></tr>\n",
       "\t<tr><th scope=row>arc_coding</th><td> 9.463839e-01</td><td>7.926237e-245</td><td> 2.647130e-22</td><td>4.899616e-03</td><td>4.903213e-03</td><td>  2597.2989</td></tr>\n",
       "\t<tr><th scope=row>arc_gc</th><td> 1.000000e+00</td><td> 0.000000e+00</td><td> 1.000000e+00</td><td>1.334873e-02</td><td>1.335853e-02</td><td>  2108.7993</td></tr>\n",
       "\t<tr><th scope=row>hash</th><td>2.012743e-217</td><td> 1.000000e+00</td><td>4.269621e-159</td><td>5.846717e-01</td><td>5.851009e-01</td><td> -1520.8977</td></tr>\n",
       "</tbody>\n",
       "</table>\n"
      ],
      "text/latex": [
       "A data.frame: 17 × 6\n",
       "\\begin{tabular}{r|llllll}\n",
       "  & lambda & pval0 & pval1 & sigsq & sigsq\\_unb & lnL\\\\\n",
       "  & <dbl> & <dbl> & <dbl> & <dbl> & <dbl> & <dbl>\\\\\n",
       "\\hline\n",
       "\tlog\\_volume &  7.257660e-01 & 5.344874e-121 &  7.723809e-75 & 5.926582e-01 & 5.930934e-01 &  -1057.5678\\\\\n",
       "\tlog\\_surface &  7.489596e-01 & 4.733365e-112 &  1.461248e-71 & 2.986630e-01 & 2.988823e-01 &   -561.9867\\\\\n",
       "\tsvratio &  4.639481e-01 &  8.522830e-89 &  1.113416e-10 & 5.105509e-02 & 5.109258e-02 &    372.2584\\\\\n",
       "\tvolume &  2.815038e-02 &  1.212248e-02 &  1.603914e-91 & 1.950322e+05 & 1.951754e+05 & -10182.1117\\\\\n",
       "\tsurface & 1.075235e-163 &  1.000000e+00 &  1.493138e-45 & 8.704827e+03 & 8.711218e+03 &  -8068.9799\\\\\n",
       "\tgenome &  9.983199e-01 & 1.167223e-286 &  3.788883e-01 & 4.753077e+12 & 4.756567e+12 & -20734.2607\\\\\n",
       "\tgc &  1.000000e+00 &  0.000000e+00 &  1.000000e+00 & 1.280842e+02 & 1.281782e+02 &  -4139.8890\\\\\n",
       "\tproteins &  9.964982e-01 & 7.374988e-263 &  4.948841e-01 & 3.702380e+06 & 3.705099e+06 & -11157.7540\\\\\n",
       "\tcoding &  9.420309e-01 & 1.154039e-254 &  3.195706e-23 & 2.146298e+01 & 2.147873e+01 &  -3129.0243\\\\\n",
       "\trrnas &  2.139133e-01 &  9.989505e-12 & 1.414415e-155 & 4.085458e+00 & 4.088458e+00 &  -2764.0221\\\\\n",
       "\tlog\\_svratio &  7.623076e-01 & 1.347989e-164 &  4.613522e-67 & 7.694295e-02 & 7.699945e-02 &    379.5263\\\\\n",
       "\tlog\\_genome &  9.939339e-01 &  0.000000e+00 &  5.989523e-02 & 4.856718e-02 & 4.860284e-02 &   1199.0482\\\\\n",
       "\tlog\\_proteins &  9.825571e-01 & 4.683138e-310 &  5.548097e-06 & 4.413124e-02 & 4.416365e-02 &   1216.9224\\\\\n",
       "\tENCprime &  1.000000e+00 & 9.662439e-314 &  1.000000e+00 & 1.201003e-02 & 1.201885e-02 &   2180.8197\\\\\n",
       "\tarc\\_coding &  9.463839e-01 & 7.926237e-245 &  2.647130e-22 & 4.899616e-03 & 4.903213e-03 &   2597.2989\\\\\n",
       "\tarc\\_gc &  1.000000e+00 &  0.000000e+00 &  1.000000e+00 & 1.334873e-02 & 1.335853e-02 &   2108.7993\\\\\n",
       "\thash & 2.012743e-217 &  1.000000e+00 & 4.269621e-159 & 5.846717e-01 & 5.851009e-01 &  -1520.8977\\\\\n",
       "\\end{tabular}\n"
      ],
      "text/markdown": [
       "\n",
       "A data.frame: 17 × 6\n",
       "\n",
       "| <!--/--> | lambda &lt;dbl&gt; | pval0 &lt;dbl&gt; | pval1 &lt;dbl&gt; | sigsq &lt;dbl&gt; | sigsq_unb &lt;dbl&gt; | lnL &lt;dbl&gt; |\n",
       "|---|---|---|---|---|---|---|\n",
       "| log_volume |  7.257660e-01 | 5.344874e-121 |  7.723809e-75 | 5.926582e-01 | 5.930934e-01 |  -1057.5678 |\n",
       "| log_surface |  7.489596e-01 | 4.733365e-112 |  1.461248e-71 | 2.986630e-01 | 2.988823e-01 |   -561.9867 |\n",
       "| svratio |  4.639481e-01 |  8.522830e-89 |  1.113416e-10 | 5.105509e-02 | 5.109258e-02 |    372.2584 |\n",
       "| volume |  2.815038e-02 |  1.212248e-02 |  1.603914e-91 | 1.950322e+05 | 1.951754e+05 | -10182.1117 |\n",
       "| surface | 1.075235e-163 |  1.000000e+00 |  1.493138e-45 | 8.704827e+03 | 8.711218e+03 |  -8068.9799 |\n",
       "| genome |  9.983199e-01 | 1.167223e-286 |  3.788883e-01 | 4.753077e+12 | 4.756567e+12 | -20734.2607 |\n",
       "| gc |  1.000000e+00 |  0.000000e+00 |  1.000000e+00 | 1.280842e+02 | 1.281782e+02 |  -4139.8890 |\n",
       "| proteins |  9.964982e-01 | 7.374988e-263 |  4.948841e-01 | 3.702380e+06 | 3.705099e+06 | -11157.7540 |\n",
       "| coding |  9.420309e-01 | 1.154039e-254 |  3.195706e-23 | 2.146298e+01 | 2.147873e+01 |  -3129.0243 |\n",
       "| rrnas |  2.139133e-01 |  9.989505e-12 | 1.414415e-155 | 4.085458e+00 | 4.088458e+00 |  -2764.0221 |\n",
       "| log_svratio |  7.623076e-01 | 1.347989e-164 |  4.613522e-67 | 7.694295e-02 | 7.699945e-02 |    379.5263 |\n",
       "| log_genome |  9.939339e-01 |  0.000000e+00 |  5.989523e-02 | 4.856718e-02 | 4.860284e-02 |   1199.0482 |\n",
       "| log_proteins |  9.825571e-01 | 4.683138e-310 |  5.548097e-06 | 4.413124e-02 | 4.416365e-02 |   1216.9224 |\n",
       "| ENCprime |  1.000000e+00 | 9.662439e-314 |  1.000000e+00 | 1.201003e-02 | 1.201885e-02 |   2180.8197 |\n",
       "| arc_coding |  9.463839e-01 | 7.926237e-245 |  2.647130e-22 | 4.899616e-03 | 4.903213e-03 |   2597.2989 |\n",
       "| arc_gc |  1.000000e+00 |  0.000000e+00 |  1.000000e+00 | 1.334873e-02 | 1.335853e-02 |   2108.7993 |\n",
       "| hash | 2.012743e-217 |  1.000000e+00 | 4.269621e-159 | 5.846717e-01 | 5.851009e-01 |  -1520.8977 |\n",
       "\n"
      ],
      "text/plain": [
       "             lambda        pval0         pval1         sigsq       \n",
       "log_volume    7.257660e-01 5.344874e-121  7.723809e-75 5.926582e-01\n",
       "log_surface   7.489596e-01 4.733365e-112  1.461248e-71 2.986630e-01\n",
       "svratio       4.639481e-01  8.522830e-89  1.113416e-10 5.105509e-02\n",
       "volume        2.815038e-02  1.212248e-02  1.603914e-91 1.950322e+05\n",
       "surface      1.075235e-163  1.000000e+00  1.493138e-45 8.704827e+03\n",
       "genome        9.983199e-01 1.167223e-286  3.788883e-01 4.753077e+12\n",
       "gc            1.000000e+00  0.000000e+00  1.000000e+00 1.280842e+02\n",
       "proteins      9.964982e-01 7.374988e-263  4.948841e-01 3.702380e+06\n",
       "coding        9.420309e-01 1.154039e-254  3.195706e-23 2.146298e+01\n",
       "rrnas         2.139133e-01  9.989505e-12 1.414415e-155 4.085458e+00\n",
       "log_svratio   7.623076e-01 1.347989e-164  4.613522e-67 7.694295e-02\n",
       "log_genome    9.939339e-01  0.000000e+00  5.989523e-02 4.856718e-02\n",
       "log_proteins  9.825571e-01 4.683138e-310  5.548097e-06 4.413124e-02\n",
       "ENCprime      1.000000e+00 9.662439e-314  1.000000e+00 1.201003e-02\n",
       "arc_coding    9.463839e-01 7.926237e-245  2.647130e-22 4.899616e-03\n",
       "arc_gc        1.000000e+00  0.000000e+00  1.000000e+00 1.334873e-02\n",
       "hash         2.012743e-217  1.000000e+00 4.269621e-159 5.846717e-01\n",
       "             sigsq_unb    lnL        \n",
       "log_volume   5.930934e-01  -1057.5678\n",
       "log_surface  2.988823e-01   -561.9867\n",
       "svratio      5.109258e-02    372.2584\n",
       "volume       1.951754e+05 -10182.1117\n",
       "surface      8.711218e+03  -8068.9799\n",
       "genome       4.756567e+12 -20734.2607\n",
       "gc           1.281782e+02  -4139.8890\n",
       "proteins     3.705099e+06 -11157.7540\n",
       "coding       2.147873e+01  -3129.0243\n",
       "rrnas        4.088458e+00  -2764.0221\n",
       "log_svratio  7.699945e-02    379.5263\n",
       "log_genome   4.860284e-02   1199.0482\n",
       "log_proteins 4.416365e-02   1216.9224\n",
       "ENCprime     1.201885e-02   2180.8197\n",
       "arc_coding   4.903213e-03   2597.2989\n",
       "arc_gc       1.335853e-02   2108.7993\n",
       "hash         5.851009e-01  -1520.8977"
      ]
     },
     "metadata": {},
     "output_type": "display_data"
    }
   ],
   "source": [
    "df_geiger"
   ]
  },
  {
   "cell_type": "code",
   "execution_count": 71,
   "metadata": {},
   "outputs": [],
   "source": [
    "write.table(df_geiger, \"physig/lambda-sigsq_wol.tsv\", sep=\"\\t\", quote=FALSE)"
   ]
  },
  {
   "cell_type": "markdown",
   "metadata": {},
   "source": [
    "Blomberg's K for data placed at the tips of WoL"
   ]
  },
  {
   "cell_type": "code",
   "execution_count": 72,
   "metadata": {},
   "outputs": [],
   "source": [
    "df_wol_k <- data.frame(matrix(ncol=2, nrow=0))\n",
    "colnames(df_wol_k) <- c(\"K\", \"P\")"
   ]
  },
  {
   "cell_type": "code",
   "execution_count": 73,
   "metadata": {},
   "outputs": [],
   "source": [
    "cols = c('log_volume', 'log_surface', 'svratio',\n",
    "         \"volume\", \"surface\", \"genome\", \"gc\", \"proteins\", \"coding\", \"rrnas\", \"log_svratio\",\n",
    "         \"log_genome\", \"log_proteins\", \"ENCprime\", \"arc_coding\", \"arc_gc\", \"hash\")"
   ]
  },
  {
   "cell_type": "code",
   "execution_count": 74,
   "metadata": {},
   "outputs": [],
   "source": [
    "for (col in cols) {\n",
    "    set.seed(42)\n",
    "    datum <- setNames(data_wol[[col]], data_wol$taxid)\n",
    "    K <- phylosig(tree2, datum, method = \"K\", test = TRUE)\n",
    "    df_wol_k[nrow(df_wol_k) + 1,] <- c(K$K, K$P)\n",
    "    rownames(df_wol_k)[nrow(df_wol_k)] <- col\n",
    "}"
   ]
  },
  {
   "cell_type": "code",
   "execution_count": 75,
   "metadata": {},
   "outputs": [
    {
     "data": {
      "text/html": [
       "<table class=\"dataframe\">\n",
       "<caption>A data.frame: 17 × 2</caption>\n",
       "<thead>\n",
       "\t<tr><th></th><th scope=col>K</th><th scope=col>P</th></tr>\n",
       "\t<tr><th></th><th scope=col>&lt;dbl&gt;</th><th scope=col>&lt;dbl&gt;</th></tr>\n",
       "</thead>\n",
       "<tbody>\n",
       "\t<tr><th scope=row>log_volume</th><td>0.2627441</td><td>0.001</td></tr>\n",
       "\t<tr><th scope=row>log_surface</th><td>0.2601296</td><td>0.001</td></tr>\n",
       "\t<tr><th scope=row>svratio</th><td>0.2708281</td><td>0.003</td></tr>\n",
       "\t<tr><th scope=row>volume</th><td>0.1448924</td><td>0.624</td></tr>\n",
       "\t<tr><th scope=row>surface</th><td>0.1705959</td><td>0.480</td></tr>\n",
       "\t<tr><th scope=row>genome</th><td>0.8849974</td><td>0.001</td></tr>\n",
       "\t<tr><th scope=row>gc</th><td>1.6388989</td><td>0.001</td></tr>\n",
       "\t<tr><th scope=row>proteins</th><td>0.8139452</td><td>0.001</td></tr>\n",
       "\t<tr><th scope=row>coding</th><td>0.5619261</td><td>0.001</td></tr>\n",
       "\t<tr><th scope=row>rrnas</th><td>0.1347479</td><td>0.369</td></tr>\n",
       "\t<tr><th scope=row>log_svratio</th><td>0.3152376</td><td>0.001</td></tr>\n",
       "\t<tr><th scope=row>log_genome</th><td>1.2802754</td><td>0.001</td></tr>\n",
       "\t<tr><th scope=row>log_proteins</th><td>1.0592825</td><td>0.001</td></tr>\n",
       "\t<tr><th scope=row>ENCprime</th><td>1.0565790</td><td>0.001</td></tr>\n",
       "\t<tr><th scope=row>arc_coding</th><td>0.5315747</td><td>0.001</td></tr>\n",
       "\t<tr><th scope=row>arc_gc</th><td>1.6418144</td><td>0.001</td></tr>\n",
       "\t<tr><th scope=row>hash</th><td>0.1357960</td><td>0.163</td></tr>\n",
       "</tbody>\n",
       "</table>\n"
      ],
      "text/latex": [
       "A data.frame: 17 × 2\n",
       "\\begin{tabular}{r|ll}\n",
       "  & K & P\\\\\n",
       "  & <dbl> & <dbl>\\\\\n",
       "\\hline\n",
       "\tlog\\_volume & 0.2627441 & 0.001\\\\\n",
       "\tlog\\_surface & 0.2601296 & 0.001\\\\\n",
       "\tsvratio & 0.2708281 & 0.003\\\\\n",
       "\tvolume & 0.1448924 & 0.624\\\\\n",
       "\tsurface & 0.1705959 & 0.480\\\\\n",
       "\tgenome & 0.8849974 & 0.001\\\\\n",
       "\tgc & 1.6388989 & 0.001\\\\\n",
       "\tproteins & 0.8139452 & 0.001\\\\\n",
       "\tcoding & 0.5619261 & 0.001\\\\\n",
       "\trrnas & 0.1347479 & 0.369\\\\\n",
       "\tlog\\_svratio & 0.3152376 & 0.001\\\\\n",
       "\tlog\\_genome & 1.2802754 & 0.001\\\\\n",
       "\tlog\\_proteins & 1.0592825 & 0.001\\\\\n",
       "\tENCprime & 1.0565790 & 0.001\\\\\n",
       "\tarc\\_coding & 0.5315747 & 0.001\\\\\n",
       "\tarc\\_gc & 1.6418144 & 0.001\\\\\n",
       "\thash & 0.1357960 & 0.163\\\\\n",
       "\\end{tabular}\n"
      ],
      "text/markdown": [
       "\n",
       "A data.frame: 17 × 2\n",
       "\n",
       "| <!--/--> | K &lt;dbl&gt; | P &lt;dbl&gt; |\n",
       "|---|---|---|\n",
       "| log_volume | 0.2627441 | 0.001 |\n",
       "| log_surface | 0.2601296 | 0.001 |\n",
       "| svratio | 0.2708281 | 0.003 |\n",
       "| volume | 0.1448924 | 0.624 |\n",
       "| surface | 0.1705959 | 0.480 |\n",
       "| genome | 0.8849974 | 0.001 |\n",
       "| gc | 1.6388989 | 0.001 |\n",
       "| proteins | 0.8139452 | 0.001 |\n",
       "| coding | 0.5619261 | 0.001 |\n",
       "| rrnas | 0.1347479 | 0.369 |\n",
       "| log_svratio | 0.3152376 | 0.001 |\n",
       "| log_genome | 1.2802754 | 0.001 |\n",
       "| log_proteins | 1.0592825 | 0.001 |\n",
       "| ENCprime | 1.0565790 | 0.001 |\n",
       "| arc_coding | 0.5315747 | 0.001 |\n",
       "| arc_gc | 1.6418144 | 0.001 |\n",
       "| hash | 0.1357960 | 0.163 |\n",
       "\n"
      ],
      "text/plain": [
       "             K         P    \n",
       "log_volume   0.2627441 0.001\n",
       "log_surface  0.2601296 0.001\n",
       "svratio      0.2708281 0.003\n",
       "volume       0.1448924 0.624\n",
       "surface      0.1705959 0.480\n",
       "genome       0.8849974 0.001\n",
       "gc           1.6388989 0.001\n",
       "proteins     0.8139452 0.001\n",
       "coding       0.5619261 0.001\n",
       "rrnas        0.1347479 0.369\n",
       "log_svratio  0.3152376 0.001\n",
       "log_genome   1.2802754 0.001\n",
       "log_proteins 1.0592825 0.001\n",
       "ENCprime     1.0565790 0.001\n",
       "arc_coding   0.5315747 0.001\n",
       "arc_gc       1.6418144 0.001\n",
       "hash         0.1357960 0.163"
      ]
     },
     "metadata": {},
     "output_type": "display_data"
    }
   ],
   "source": [
    "df_wol_k"
   ]
  },
  {
   "cell_type": "code",
   "execution_count": 76,
   "metadata": {},
   "outputs": [
    {
     "data": {
      "text/html": [
       "<table class=\"dataframe\">\n",
       "<caption>A data.frame: 17 × 2</caption>\n",
       "<thead>\n",
       "\t<tr><th></th><th scope=col>K</th><th scope=col>P</th></tr>\n",
       "\t<tr><th></th><th scope=col>&lt;dbl&gt;</th><th scope=col>&lt;dbl&gt;</th></tr>\n",
       "</thead>\n",
       "<tbody>\n",
       "\t<tr><th scope=row>log_volume</th><td>0.2627441</td><td>0.001</td></tr>\n",
       "\t<tr><th scope=row>log_surface</th><td>0.2601296</td><td>0.001</td></tr>\n",
       "\t<tr><th scope=row>svratio</th><td>0.2708281</td><td>0.003</td></tr>\n",
       "\t<tr><th scope=row>volume</th><td>0.1448924</td><td>0.624</td></tr>\n",
       "\t<tr><th scope=row>surface</th><td>0.1705959</td><td>0.480</td></tr>\n",
       "\t<tr><th scope=row>genome</th><td>0.8849974</td><td>0.001</td></tr>\n",
       "\t<tr><th scope=row>gc</th><td>1.6388989</td><td>0.001</td></tr>\n",
       "\t<tr><th scope=row>proteins</th><td>0.8139452</td><td>0.001</td></tr>\n",
       "\t<tr><th scope=row>coding</th><td>0.5619261</td><td>0.001</td></tr>\n",
       "\t<tr><th scope=row>rrnas</th><td>0.1347479</td><td>0.369</td></tr>\n",
       "\t<tr><th scope=row>log_svratio</th><td>0.3152376</td><td>0.001</td></tr>\n",
       "\t<tr><th scope=row>log_genome</th><td>1.2802754</td><td>0.001</td></tr>\n",
       "\t<tr><th scope=row>log_proteins</th><td>1.0592825</td><td>0.001</td></tr>\n",
       "\t<tr><th scope=row>ENCprime</th><td>1.0565790</td><td>0.001</td></tr>\n",
       "\t<tr><th scope=row>arc_coding</th><td>0.5315747</td><td>0.001</td></tr>\n",
       "\t<tr><th scope=row>arc_gc</th><td>1.6418144</td><td>0.001</td></tr>\n",
       "\t<tr><th scope=row>hash</th><td>0.1357960</td><td>0.163</td></tr>\n",
       "</tbody>\n",
       "</table>\n"
      ],
      "text/latex": [
       "A data.frame: 17 × 2\n",
       "\\begin{tabular}{r|ll}\n",
       "  & K & P\\\\\n",
       "  & <dbl> & <dbl>\\\\\n",
       "\\hline\n",
       "\tlog\\_volume & 0.2627441 & 0.001\\\\\n",
       "\tlog\\_surface & 0.2601296 & 0.001\\\\\n",
       "\tsvratio & 0.2708281 & 0.003\\\\\n",
       "\tvolume & 0.1448924 & 0.624\\\\\n",
       "\tsurface & 0.1705959 & 0.480\\\\\n",
       "\tgenome & 0.8849974 & 0.001\\\\\n",
       "\tgc & 1.6388989 & 0.001\\\\\n",
       "\tproteins & 0.8139452 & 0.001\\\\\n",
       "\tcoding & 0.5619261 & 0.001\\\\\n",
       "\trrnas & 0.1347479 & 0.369\\\\\n",
       "\tlog\\_svratio & 0.3152376 & 0.001\\\\\n",
       "\tlog\\_genome & 1.2802754 & 0.001\\\\\n",
       "\tlog\\_proteins & 1.0592825 & 0.001\\\\\n",
       "\tENCprime & 1.0565790 & 0.001\\\\\n",
       "\tarc\\_coding & 0.5315747 & 0.001\\\\\n",
       "\tarc\\_gc & 1.6418144 & 0.001\\\\\n",
       "\thash & 0.1357960 & 0.163\\\\\n",
       "\\end{tabular}\n"
      ],
      "text/markdown": [
       "\n",
       "A data.frame: 17 × 2\n",
       "\n",
       "| <!--/--> | K &lt;dbl&gt; | P &lt;dbl&gt; |\n",
       "|---|---|---|\n",
       "| log_volume | 0.2627441 | 0.001 |\n",
       "| log_surface | 0.2601296 | 0.001 |\n",
       "| svratio | 0.2708281 | 0.003 |\n",
       "| volume | 0.1448924 | 0.624 |\n",
       "| surface | 0.1705959 | 0.480 |\n",
       "| genome | 0.8849974 | 0.001 |\n",
       "| gc | 1.6388989 | 0.001 |\n",
       "| proteins | 0.8139452 | 0.001 |\n",
       "| coding | 0.5619261 | 0.001 |\n",
       "| rrnas | 0.1347479 | 0.369 |\n",
       "| log_svratio | 0.3152376 | 0.001 |\n",
       "| log_genome | 1.2802754 | 0.001 |\n",
       "| log_proteins | 1.0592825 | 0.001 |\n",
       "| ENCprime | 1.0565790 | 0.001 |\n",
       "| arc_coding | 0.5315747 | 0.001 |\n",
       "| arc_gc | 1.6418144 | 0.001 |\n",
       "| hash | 0.1357960 | 0.163 |\n",
       "\n"
      ],
      "text/plain": [
       "             K         P    \n",
       "log_volume   0.2627441 0.001\n",
       "log_surface  0.2601296 0.001\n",
       "svratio      0.2708281 0.003\n",
       "volume       0.1448924 0.624\n",
       "surface      0.1705959 0.480\n",
       "genome       0.8849974 0.001\n",
       "gc           1.6388989 0.001\n",
       "proteins     0.8139452 0.001\n",
       "coding       0.5619261 0.001\n",
       "rrnas        0.1347479 0.369\n",
       "log_svratio  0.3152376 0.001\n",
       "log_genome   1.2802754 0.001\n",
       "log_proteins 1.0592825 0.001\n",
       "ENCprime     1.0565790 0.001\n",
       "arc_coding   0.5315747 0.001\n",
       "arc_gc       1.6418144 0.001\n",
       "hash         0.1357960 0.163"
      ]
     },
     "metadata": {},
     "output_type": "display_data"
    }
   ],
   "source": [
    "df_wol_k"
   ]
  },
  {
   "cell_type": "markdown",
   "metadata": {},
   "source": [
    "### Blomberg's _K_"
   ]
  },
  {
   "cell_type": "code",
   "execution_count": 77,
   "metadata": {},
   "outputs": [],
   "source": [
    "df <- data.frame(matrix(ncol=2, nrow=0))\n",
    "colnames(df) <- c(\"K\", \"P\")"
   ]
  },
  {
   "cell_type": "markdown",
   "metadata": {},
   "source": [
    "Log cell volume."
   ]
  },
  {
   "cell_type": "code",
   "execution_count": 78,
   "metadata": {},
   "outputs": [],
   "source": [
    "datum <- setNames(data$log_volume, data$taxid)"
   ]
  },
  {
   "cell_type": "code",
   "execution_count": 79,
   "metadata": {},
   "outputs": [
    {
     "data": {
      "text/plain": [
       "\n",
       "Phylogenetic signal K : 0.357735 \n",
       "P-value (based on 1000 randomizations) : 0.001 \n"
      ]
     },
     "metadata": {},
     "output_type": "display_data"
    }
   ],
   "source": [
    "set.seed(42)\n",
    "K <- phylosig(tree, datum, method=\"K\", test=TRUE)\n",
    "K"
   ]
  },
  {
   "cell_type": "code",
   "execution_count": 80,
   "metadata": {},
   "outputs": [],
   "source": [
    "writeLines(capture.output(K), \"physig/log_volume.K\")"
   ]
  },
  {
   "cell_type": "code",
   "execution_count": 81,
   "metadata": {},
   "outputs": [],
   "source": [
    "write.table(K$sim.K, \"physig/log_volume.K.plot\", col.names=FALSE, row.names=FALSE)"
   ]
  },
  {
   "cell_type": "code",
   "execution_count": 82,
   "metadata": {},
   "outputs": [],
   "source": [
    "df[nrow(df) + 1,] <- c(K$K, K$P)\n",
    "rownames(df)[nrow(df)] <- \"log_volume\""
   ]
  },
  {
   "cell_type": "markdown",
   "metadata": {},
   "source": [
    "Log cell surface area."
   ]
  },
  {
   "cell_type": "code",
   "execution_count": 83,
   "metadata": {},
   "outputs": [],
   "source": [
    "datum <- setNames(data$log_surface, data$taxid)"
   ]
  },
  {
   "cell_type": "code",
   "execution_count": 84,
   "metadata": {},
   "outputs": [
    {
     "data": {
      "text/plain": [
       "\n",
       "Phylogenetic signal K : 0.360687 \n",
       "P-value (based on 1000 randomizations) : 0.001 \n"
      ]
     },
     "metadata": {},
     "output_type": "display_data"
    }
   ],
   "source": [
    "set.seed(42)\n",
    "K <- phylosig(tree, datum, method=\"K\", test=TRUE)\n",
    "K"
   ]
  },
  {
   "cell_type": "code",
   "execution_count": 85,
   "metadata": {},
   "outputs": [],
   "source": [
    "writeLines(capture.output(K), \"physig/log_surface.K\")"
   ]
  },
  {
   "cell_type": "code",
   "execution_count": 86,
   "metadata": {},
   "outputs": [],
   "source": [
    "write.table(K$sim.K, \"physig/log_surface.K.plot\", col.names=FALSE, row.names=FALSE)"
   ]
  },
  {
   "cell_type": "code",
   "execution_count": 87,
   "metadata": {},
   "outputs": [],
   "source": [
    "df[nrow(df) + 1,] <- c(K$K, K$P)\n",
    "rownames(df)[nrow(df)] <- \"log_surface\""
   ]
  },
  {
   "cell_type": "markdown",
   "metadata": {},
   "source": [
    "Surface-to-volume ratio"
   ]
  },
  {
   "cell_type": "code",
   "execution_count": 88,
   "metadata": {},
   "outputs": [],
   "source": [
    "datum <- setNames(data$svratio, data$taxid)"
   ]
  },
  {
   "cell_type": "code",
   "execution_count": 89,
   "metadata": {},
   "outputs": [
    {
     "data": {
      "text/plain": [
       "\n",
       "Phylogenetic signal K : 0.340295 \n",
       "P-value (based on 1000 randomizations) : 0.021 \n"
      ]
     },
     "metadata": {},
     "output_type": "display_data"
    }
   ],
   "source": [
    "set.seed(42)\n",
    "K <- phylosig(tree, datum, method=\"K\", test=TRUE)\n",
    "K"
   ]
  },
  {
   "cell_type": "code",
   "execution_count": 90,
   "metadata": {},
   "outputs": [],
   "source": [
    "writeLines(capture.output(K), \"physig/svratio.K\")"
   ]
  },
  {
   "cell_type": "code",
   "execution_count": 91,
   "metadata": {},
   "outputs": [],
   "source": [
    "write.table(K$sim.K, \"physig/svratio.K.plot\", col.names=FALSE, row.names=FALSE)"
   ]
  },
  {
   "cell_type": "code",
   "execution_count": 92,
   "metadata": {},
   "outputs": [],
   "source": [
    "df[nrow(df) + 1,] <- c(K$K, K$P)\n",
    "rownames(df)[nrow(df)] <- \"svratio\""
   ]
  },
  {
   "cell_type": "markdown",
   "metadata": {},
   "source": [
    "Other metrics."
   ]
  },
  {
   "cell_type": "code",
   "execution_count": 93,
   "metadata": {},
   "outputs": [],
   "source": [
    "cols = c(\"volume\", \"surface\", \"genome\", \"gc\", \"proteins\", \"coding\", \"rrnas\", \"log_svratio\",\n",
    "         \"log_genome\", \"log_proteins\", \"MILC\", \"ENCprime\", \"hash\")"
   ]
  },
  {
   "cell_type": "code",
   "execution_count": 94,
   "metadata": {},
   "outputs": [],
   "source": [
    "for (col in cols) {\n",
    "    set.seed(42)\n",
    "    datum <- setNames(data[[col]], data$taxid)\n",
    "    K <- phylosig(tree, datum, method = \"K\", test = TRUE)\n",
    "    df[nrow(df) + 1,] <- c(K$K, K$P)\n",
    "    rownames(df)[nrow(df)] <- col\n",
    "}"
   ]
  },
  {
   "cell_type": "code",
   "execution_count": 95,
   "metadata": {},
   "outputs": [
    {
     "data": {
      "text/html": [
       "<table class=\"dataframe\">\n",
       "<caption>A data.frame: 16 × 2</caption>\n",
       "<thead>\n",
       "\t<tr><th></th><th scope=col>K</th><th scope=col>P</th></tr>\n",
       "\t<tr><th></th><th scope=col>&lt;dbl&gt;</th><th scope=col>&lt;dbl&gt;</th></tr>\n",
       "</thead>\n",
       "<tbody>\n",
       "\t<tr><th scope=row>log_volume</th><td>0.3577353</td><td>0.001</td></tr>\n",
       "\t<tr><th scope=row>log_surface</th><td>0.3606872</td><td>0.001</td></tr>\n",
       "\t<tr><th scope=row>svratio</th><td>0.3402954</td><td>0.021</td></tr>\n",
       "\t<tr><th scope=row>volume</th><td>0.4224734</td><td>0.040</td></tr>\n",
       "\t<tr><th scope=row>surface</th><td>0.3071818</td><td>0.202</td></tr>\n",
       "\t<tr><th scope=row>genome</th><td>2.0974696</td><td>0.001</td></tr>\n",
       "\t<tr><th scope=row>gc</th><td>3.7109566</td><td>0.001</td></tr>\n",
       "\t<tr><th scope=row>proteins</th><td>1.9170825</td><td>0.001</td></tr>\n",
       "\t<tr><th scope=row>coding</th><td>1.5756372</td><td>0.001</td></tr>\n",
       "\t<tr><th scope=row>rrnas</th><td>0.2214721</td><td>0.001</td></tr>\n",
       "\t<tr><th scope=row>log_svratio</th><td>0.3781798</td><td>0.001</td></tr>\n",
       "\t<tr><th scope=row>log_genome</th><td>3.0503008</td><td>0.001</td></tr>\n",
       "\t<tr><th scope=row>log_proteins</th><td>2.5103523</td><td>0.001</td></tr>\n",
       "\t<tr><th scope=row>MILC</th><td>1.7932351</td><td>0.001</td></tr>\n",
       "\t<tr><th scope=row>ENCprime</th><td>2.0763319</td><td>0.001</td></tr>\n",
       "\t<tr><th scope=row>hash</th><td>0.1548307</td><td>0.169</td></tr>\n",
       "</tbody>\n",
       "</table>\n"
      ],
      "text/latex": [
       "A data.frame: 16 × 2\n",
       "\\begin{tabular}{r|ll}\n",
       "  & K & P\\\\\n",
       "  & <dbl> & <dbl>\\\\\n",
       "\\hline\n",
       "\tlog\\_volume & 0.3577353 & 0.001\\\\\n",
       "\tlog\\_surface & 0.3606872 & 0.001\\\\\n",
       "\tsvratio & 0.3402954 & 0.021\\\\\n",
       "\tvolume & 0.4224734 & 0.040\\\\\n",
       "\tsurface & 0.3071818 & 0.202\\\\\n",
       "\tgenome & 2.0974696 & 0.001\\\\\n",
       "\tgc & 3.7109566 & 0.001\\\\\n",
       "\tproteins & 1.9170825 & 0.001\\\\\n",
       "\tcoding & 1.5756372 & 0.001\\\\\n",
       "\trrnas & 0.2214721 & 0.001\\\\\n",
       "\tlog\\_svratio & 0.3781798 & 0.001\\\\\n",
       "\tlog\\_genome & 3.0503008 & 0.001\\\\\n",
       "\tlog\\_proteins & 2.5103523 & 0.001\\\\\n",
       "\tMILC & 1.7932351 & 0.001\\\\\n",
       "\tENCprime & 2.0763319 & 0.001\\\\\n",
       "\thash & 0.1548307 & 0.169\\\\\n",
       "\\end{tabular}\n"
      ],
      "text/markdown": [
       "\n",
       "A data.frame: 16 × 2\n",
       "\n",
       "| <!--/--> | K &lt;dbl&gt; | P &lt;dbl&gt; |\n",
       "|---|---|---|\n",
       "| log_volume | 0.3577353 | 0.001 |\n",
       "| log_surface | 0.3606872 | 0.001 |\n",
       "| svratio | 0.3402954 | 0.021 |\n",
       "| volume | 0.4224734 | 0.040 |\n",
       "| surface | 0.3071818 | 0.202 |\n",
       "| genome | 2.0974696 | 0.001 |\n",
       "| gc | 3.7109566 | 0.001 |\n",
       "| proteins | 1.9170825 | 0.001 |\n",
       "| coding | 1.5756372 | 0.001 |\n",
       "| rrnas | 0.2214721 | 0.001 |\n",
       "| log_svratio | 0.3781798 | 0.001 |\n",
       "| log_genome | 3.0503008 | 0.001 |\n",
       "| log_proteins | 2.5103523 | 0.001 |\n",
       "| MILC | 1.7932351 | 0.001 |\n",
       "| ENCprime | 2.0763319 | 0.001 |\n",
       "| hash | 0.1548307 | 0.169 |\n",
       "\n"
      ],
      "text/plain": [
       "             K         P    \n",
       "log_volume   0.3577353 0.001\n",
       "log_surface  0.3606872 0.001\n",
       "svratio      0.3402954 0.021\n",
       "volume       0.4224734 0.040\n",
       "surface      0.3071818 0.202\n",
       "genome       2.0974696 0.001\n",
       "gc           3.7109566 0.001\n",
       "proteins     1.9170825 0.001\n",
       "coding       1.5756372 0.001\n",
       "rrnas        0.2214721 0.001\n",
       "log_svratio  0.3781798 0.001\n",
       "log_genome   3.0503008 0.001\n",
       "log_proteins 2.5103523 0.001\n",
       "MILC         1.7932351 0.001\n",
       "ENCprime     2.0763319 0.001\n",
       "hash         0.1548307 0.169"
      ]
     },
     "metadata": {},
     "output_type": "display_data"
    }
   ],
   "source": [
    "df"
   ]
  },
  {
   "cell_type": "code",
   "execution_count": 96,
   "metadata": {},
   "outputs": [],
   "source": [
    "write.table(df, \"physig/K.tsv\", sep=\"\\t\", quote=FALSE)"
   ]
  },
  {
   "cell_type": "markdown",
   "metadata": {},
   "source": [
    "### Phylogenetic signal across sample sizes"
   ]
  },
  {
   "cell_type": "code",
   "execution_count": 11,
   "metadata": {},
   "outputs": [],
   "source": [
    "sizes <- c(100, 500, 1500, 2000, 2500, 3000, 3500, 4000, 4500, 5000, 5380)\n",
    "# sizes <- c(100, 500, 1500)"
   ]
  },
  {
   "cell_type": "code",
   "execution_count": 12,
   "metadata": {},
   "outputs": [],
   "source": [
    "# Data frame to save outputs\n",
    "df_sample_size <- data.frame(matrix(ncol=6, nrow=0))\n",
    "colnames(df_sample_size) <- c('lambda', 'pval0', 'pval1', 'sigsq',\n",
    "                 'sigsq_unb', 'lnL')"
   ]
  },
  {
   "cell_type": "code",
   "execution_count": 13,
   "metadata": {},
   "outputs": [],
   "source": [
    "for (size in sizes) {\n",
    "    set.seed(42)\n",
    "    data_sampled <- data[sample(nrow(data), size, replace = FALSE), ]\n",
    "    tree2_sampled <- drop.tip(tree2, setdiff(tree2$tip.label, data_sampled$taxid))\n",
    "    datum_sampled <- setNames(data_sampled[['log_svratio']], data_sampled$taxid)\n",
    "    l_sq <- lambda_sigsq(tree2_sampled, datum_sampled)\n",
    "    # Add to data frame\n",
    "    df_sample_size[nrow(df_sample_size) + 1,] <- c(l_sq$lambda, l_sq$pval0, l_sq$pval1, l_sq$sigsq,\n",
    "                                    l_sq$sigsq_unb, l_sq$lnL)\n",
    "    rownames(df_sample_size)[nrow(df_sample_size)] <- size\n",
    "}"
   ]
  },
  {
   "cell_type": "code",
   "execution_count": 14,
   "metadata": {},
   "outputs": [
    {
     "data": {
      "text/html": [
       "<table class=\"dataframe\">\n",
       "<caption>A data.frame: 11 × 6</caption>\n",
       "<thead>\n",
       "\t<tr><th></th><th scope=col>lambda</th><th scope=col>pval0</th><th scope=col>pval1</th><th scope=col>sigsq</th><th scope=col>sigsq_unb</th><th scope=col>lnL</th></tr>\n",
       "\t<tr><th></th><th scope=col>&lt;dbl&gt;</th><th scope=col>&lt;dbl&gt;</th><th scope=col>&lt;dbl&gt;</th><th scope=col>&lt;dbl&gt;</th><th scope=col>&lt;dbl&gt;</th><th scope=col>&lt;dbl&gt;</th></tr>\n",
       "</thead>\n",
       "<tbody>\n",
       "\t<tr><th scope=row>100</th><td>0.7948376</td><td> 5.730776e-03</td><td> 5.081482e-02</td><td>0.06306451</td><td>0.06370153</td><td>  26.64912</td></tr>\n",
       "\t<tr><th scope=row>500</th><td>0.7641655</td><td> 4.639293e-45</td><td> 4.878156e-12</td><td>0.07587149</td><td>0.07602354</td><td> 109.34821</td></tr>\n",
       "\t<tr><th scope=row>1500</th><td>0.7926591</td><td>6.457842e-166</td><td> 9.038552e-31</td><td>0.06911336</td><td>0.06915947</td><td> 509.18188</td></tr>\n",
       "\t<tr><th scope=row>2000</th><td>0.8028735</td><td>5.537476e-250</td><td> 1.711738e-36</td><td>0.06896744</td><td>0.06900194</td><td> 731.56596</td></tr>\n",
       "\t<tr><th scope=row>2500</th><td>0.7978041</td><td>1.482197e-323</td><td> 2.215865e-67</td><td>0.07057436</td><td>0.07060260</td><td> 900.83090</td></tr>\n",
       "\t<tr><th scope=row>3000</th><td>0.8066584</td><td> 0.000000e+00</td><td> 3.719949e-77</td><td>0.07374708</td><td>0.07377167</td><td>1065.00995</td></tr>\n",
       "\t<tr><th scope=row>3500</th><td>0.8239937</td><td> 0.000000e+00</td><td> 5.187518e-85</td><td>0.07711937</td><td>0.07714142</td><td>1263.66121</td></tr>\n",
       "\t<tr><th scope=row>4000</th><td>0.8376513</td><td> 0.000000e+00</td><td> 5.169025e-85</td><td>0.08154921</td><td>0.08156960</td><td>1419.65614</td></tr>\n",
       "\t<tr><th scope=row>4500</th><td>0.8325312</td><td> 0.000000e+00</td><td> 8.518685e-99</td><td>0.08015271</td><td>0.08017053</td><td>1624.73442</td></tr>\n",
       "\t<tr><th scope=row>5000</th><td>0.8351676</td><td> 0.000000e+00</td><td>3.747686e-113</td><td>0.08211403</td><td>0.08213045</td><td>1779.61059</td></tr>\n",
       "\t<tr><th scope=row>5380</th><td>0.8296685</td><td> 0.000000e+00</td><td>3.891426e-129</td><td>0.08086371</td><td>0.08087874</td><td>1935.25967</td></tr>\n",
       "</tbody>\n",
       "</table>\n"
      ],
      "text/latex": [
       "A data.frame: 11 × 6\n",
       "\\begin{tabular}{r|llllll}\n",
       "  & lambda & pval0 & pval1 & sigsq & sigsq\\_unb & lnL\\\\\n",
       "  & <dbl> & <dbl> & <dbl> & <dbl> & <dbl> & <dbl>\\\\\n",
       "\\hline\n",
       "\t100 & 0.7948376 &  5.730776e-03 &  5.081482e-02 & 0.06306451 & 0.06370153 &   26.64912\\\\\n",
       "\t500 & 0.7641655 &  4.639293e-45 &  4.878156e-12 & 0.07587149 & 0.07602354 &  109.34821\\\\\n",
       "\t1500 & 0.7926591 & 6.457842e-166 &  9.038552e-31 & 0.06911336 & 0.06915947 &  509.18188\\\\\n",
       "\t2000 & 0.8028735 & 5.537476e-250 &  1.711738e-36 & 0.06896744 & 0.06900194 &  731.56596\\\\\n",
       "\t2500 & 0.7978041 & 1.482197e-323 &  2.215865e-67 & 0.07057436 & 0.07060260 &  900.83090\\\\\n",
       "\t3000 & 0.8066584 &  0.000000e+00 &  3.719949e-77 & 0.07374708 & 0.07377167 & 1065.00995\\\\\n",
       "\t3500 & 0.8239937 &  0.000000e+00 &  5.187518e-85 & 0.07711937 & 0.07714142 & 1263.66121\\\\\n",
       "\t4000 & 0.8376513 &  0.000000e+00 &  5.169025e-85 & 0.08154921 & 0.08156960 & 1419.65614\\\\\n",
       "\t4500 & 0.8325312 &  0.000000e+00 &  8.518685e-99 & 0.08015271 & 0.08017053 & 1624.73442\\\\\n",
       "\t5000 & 0.8351676 &  0.000000e+00 & 3.747686e-113 & 0.08211403 & 0.08213045 & 1779.61059\\\\\n",
       "\t5380 & 0.8296685 &  0.000000e+00 & 3.891426e-129 & 0.08086371 & 0.08087874 & 1935.25967\\\\\n",
       "\\end{tabular}\n"
      ],
      "text/markdown": [
       "\n",
       "A data.frame: 11 × 6\n",
       "\n",
       "| <!--/--> | lambda &lt;dbl&gt; | pval0 &lt;dbl&gt; | pval1 &lt;dbl&gt; | sigsq &lt;dbl&gt; | sigsq_unb &lt;dbl&gt; | lnL &lt;dbl&gt; |\n",
       "|---|---|---|---|---|---|---|\n",
       "| 100 | 0.7948376 |  5.730776e-03 |  5.081482e-02 | 0.06306451 | 0.06370153 |   26.64912 |\n",
       "| 500 | 0.7641655 |  4.639293e-45 |  4.878156e-12 | 0.07587149 | 0.07602354 |  109.34821 |\n",
       "| 1500 | 0.7926591 | 6.457842e-166 |  9.038552e-31 | 0.06911336 | 0.06915947 |  509.18188 |\n",
       "| 2000 | 0.8028735 | 5.537476e-250 |  1.711738e-36 | 0.06896744 | 0.06900194 |  731.56596 |\n",
       "| 2500 | 0.7978041 | 1.482197e-323 |  2.215865e-67 | 0.07057436 | 0.07060260 |  900.83090 |\n",
       "| 3000 | 0.8066584 |  0.000000e+00 |  3.719949e-77 | 0.07374708 | 0.07377167 | 1065.00995 |\n",
       "| 3500 | 0.8239937 |  0.000000e+00 |  5.187518e-85 | 0.07711937 | 0.07714142 | 1263.66121 |\n",
       "| 4000 | 0.8376513 |  0.000000e+00 |  5.169025e-85 | 0.08154921 | 0.08156960 | 1419.65614 |\n",
       "| 4500 | 0.8325312 |  0.000000e+00 |  8.518685e-99 | 0.08015271 | 0.08017053 | 1624.73442 |\n",
       "| 5000 | 0.8351676 |  0.000000e+00 | 3.747686e-113 | 0.08211403 | 0.08213045 | 1779.61059 |\n",
       "| 5380 | 0.8296685 |  0.000000e+00 | 3.891426e-129 | 0.08086371 | 0.08087874 | 1935.25967 |\n",
       "\n"
      ],
      "text/plain": [
       "     lambda    pval0         pval1         sigsq      sigsq_unb  lnL       \n",
       "100  0.7948376  5.730776e-03  5.081482e-02 0.06306451 0.06370153   26.64912\n",
       "500  0.7641655  4.639293e-45  4.878156e-12 0.07587149 0.07602354  109.34821\n",
       "1500 0.7926591 6.457842e-166  9.038552e-31 0.06911336 0.06915947  509.18188\n",
       "2000 0.8028735 5.537476e-250  1.711738e-36 0.06896744 0.06900194  731.56596\n",
       "2500 0.7978041 1.482197e-323  2.215865e-67 0.07057436 0.07060260  900.83090\n",
       "3000 0.8066584  0.000000e+00  3.719949e-77 0.07374708 0.07377167 1065.00995\n",
       "3500 0.8239937  0.000000e+00  5.187518e-85 0.07711937 0.07714142 1263.66121\n",
       "4000 0.8376513  0.000000e+00  5.169025e-85 0.08154921 0.08156960 1419.65614\n",
       "4500 0.8325312  0.000000e+00  8.518685e-99 0.08015271 0.08017053 1624.73442\n",
       "5000 0.8351676  0.000000e+00 3.747686e-113 0.08211403 0.08213045 1779.61059\n",
       "5380 0.8296685  0.000000e+00 3.891426e-129 0.08086371 0.08087874 1935.25967"
      ]
     },
     "metadata": {},
     "output_type": "display_data"
    }
   ],
   "source": [
    "df_sample_size"
   ]
  },
  {
   "cell_type": "code",
   "execution_count": 15,
   "metadata": {},
   "outputs": [],
   "source": [
    "write.table(df_sample_size, \"physig/lambda_random_sample_size.tsv\", sep=\"\\t\", quote=FALSE)"
   ]
  },
  {
   "cell_type": "markdown",
   "metadata": {},
   "source": [
    "### Same but only sampling $n$ species per genus.\n",
    "\n",
    "The most abundant genus is Flavobacterium with 119 species. "
   ]
  },
  {
   "cell_type": "code",
   "execution_count": 16,
   "metadata": {},
   "outputs": [],
   "source": [
    "genera <- unique(data$genus)"
   ]
  },
  {
   "cell_type": "code",
   "execution_count": 17,
   "metadata": {},
   "outputs": [],
   "source": [
    "# sizes <- c(2, 4, 6, 8, 10, 12, 14, 16, 18, 20, 22)\n",
    "sizes <- c(10, 20, 30, 40, 50, 60, 70, 80, 90, 100, 110, 119)"
   ]
  },
  {
   "cell_type": "code",
   "execution_count": 18,
   "metadata": {},
   "outputs": [],
   "source": [
    "# Data frame to save outputs\n",
    "df_sample_size <- data.frame(matrix(ncol = 7, nrow = 0))\n",
    "colnames(df_sample_size) <- c('sample_size', 'lambda', 'pval0', 'pval1', 'sigsq',\n",
    "                 'sigsq_unb', 'lnL')"
   ]
  },
  {
   "cell_type": "code",
   "execution_count": 19,
   "metadata": {},
   "outputs": [],
   "source": [
    "n <- ncol(data)"
   ]
  },
  {
   "cell_type": "code",
   "execution_count": 20,
   "metadata": {},
   "outputs": [],
   "source": [
    "for (size in sizes) {\n",
    "    # Empty data frame\n",
    "    data_sampled = data.frame(matrix(ncol = n, nrow = 0))\n",
    "    colnames(data_sampled) <- colnames(data)\n",
    "    for (genus in genera) {\n",
    "        sps <- data[data[['genus']] == genus,]\n",
    "        # If there are more than n species, do sampling\n",
    "        if (nrow(sps) < size){\n",
    "            data_sampled <- rbind(data_sampled, sps)\n",
    "        } else {\n",
    "            sps_sampled <- sps[sample(nrow(sps), size, replace = FALSE), ]\n",
    "            data_sampled <- rbind(data_sampled, sps_sampled)\n",
    "        }\n",
    "    }\n",
    "    tree2_sampled <- drop.tip(tree2, setdiff(tree2$tip.label, data_sampled$taxid))\n",
    "    datum_sampled <- setNames(data_sampled[['log_svratio']], data_sampled$taxid)\n",
    "    l_sq <- lambda_sigsq(tree2_sampled, datum_sampled)\n",
    "    sample_size <- length(datum_sampled)\n",
    "    # Add results\n",
    "    df_sample_size[nrow(df_sample_size) + 1,] <- c(sample_size, l_sq$lambda, l_sq$pval0, l_sq$pval1, l_sq$sigsq,\n",
    "                                    l_sq$sigsq_unb, l_sq$lnL)\n",
    "    rownames(df_sample_size)[nrow(df_sample_size)] <- size\n",
    "}"
   ]
  },
  {
   "cell_type": "code",
   "execution_count": 21,
   "metadata": {},
   "outputs": [
    {
     "data": {
      "text/html": [
       "<table class=\"dataframe\">\n",
       "<caption>A data.frame: 12 × 7</caption>\n",
       "<thead>\n",
       "\t<tr><th></th><th scope=col>sample_size</th><th scope=col>lambda</th><th scope=col>pval0</th><th scope=col>pval1</th><th scope=col>sigsq</th><th scope=col>sigsq_unb</th><th scope=col>lnL</th></tr>\n",
       "\t<tr><th></th><th scope=col>&lt;dbl&gt;</th><th scope=col>&lt;dbl&gt;</th><th scope=col>&lt;dbl&gt;</th><th scope=col>&lt;dbl&gt;</th><th scope=col>&lt;dbl&gt;</th><th scope=col>&lt;dbl&gt;</th><th scope=col>&lt;dbl&gt;</th></tr>\n",
       "</thead>\n",
       "<tbody>\n",
       "\t<tr><th scope=row>10</th><td>4175</td><td>0.8386075</td><td>0</td><td>7.158549e-105</td><td>0.08804618</td><td>0.08806728</td><td>1363.726</td></tr>\n",
       "\t<tr><th scope=row>20</th><td>4720</td><td>0.8417036</td><td>0</td><td>9.786542e-111</td><td>0.08624691</td><td>0.08626518</td><td>1628.451</td></tr>\n",
       "\t<tr><th scope=row>30</th><td>4984</td><td>0.8386029</td><td>0</td><td>3.648842e-116</td><td>0.08431075</td><td>0.08432767</td><td>1758.185</td></tr>\n",
       "\t<tr><th scope=row>40</th><td>5102</td><td>0.8384277</td><td>0</td><td>2.330974e-118</td><td>0.08398422</td><td>0.08400068</td><td>1804.733</td></tr>\n",
       "\t<tr><th scope=row>50</th><td>5181</td><td>0.8328847</td><td>0</td><td>4.782669e-123</td><td>0.08212209</td><td>0.08213794</td><td>1850.884</td></tr>\n",
       "\t<tr><th scope=row>60</th><td>5237</td><td>0.8336151</td><td>0</td><td>8.241913e-124</td><td>0.08200427</td><td>0.08201993</td><td>1876.780</td></tr>\n",
       "\t<tr><th scope=row>70</th><td>5277</td><td>0.8311840</td><td>0</td><td>7.382404e-126</td><td>0.08132441</td><td>0.08133982</td><td>1893.834</td></tr>\n",
       "\t<tr><th scope=row>80</th><td>5304</td><td>0.8315466</td><td>0</td><td>9.593816e-126</td><td>0.08146574</td><td>0.08148111</td><td>1899.684</td></tr>\n",
       "\t<tr><th scope=row>90</th><td>5324</td><td>0.8301097</td><td>0</td><td>5.318876e-127</td><td>0.08089757</td><td>0.08091277</td><td>1916.719</td></tr>\n",
       "\t<tr><th scope=row>100</th><td>5344</td><td>0.8304573</td><td>0</td><td>5.304012e-128</td><td>0.08127539</td><td>0.08129060</td><td>1914.175</td></tr>\n",
       "\t<tr><th scope=row>110</th><td>5364</td><td>0.8304577</td><td>0</td><td>3.318066e-128</td><td>0.08104875</td><td>0.08106386</td><td>1928.246</td></tr>\n",
       "\t<tr><th scope=row>119</th><td>5380</td><td>0.8296700</td><td>0</td><td>3.891426e-129</td><td>0.08086430</td><td>0.08087934</td><td>1935.260</td></tr>\n",
       "</tbody>\n",
       "</table>\n"
      ],
      "text/latex": [
       "A data.frame: 12 × 7\n",
       "\\begin{tabular}{r|lllllll}\n",
       "  & sample\\_size & lambda & pval0 & pval1 & sigsq & sigsq\\_unb & lnL\\\\\n",
       "  & <dbl> & <dbl> & <dbl> & <dbl> & <dbl> & <dbl> & <dbl>\\\\\n",
       "\\hline\n",
       "\t10 & 4175 & 0.8386075 & 0 & 7.158549e-105 & 0.08804618 & 0.08806728 & 1363.726\\\\\n",
       "\t20 & 4720 & 0.8417036 & 0 & 9.786542e-111 & 0.08624691 & 0.08626518 & 1628.451\\\\\n",
       "\t30 & 4984 & 0.8386029 & 0 & 3.648842e-116 & 0.08431075 & 0.08432767 & 1758.185\\\\\n",
       "\t40 & 5102 & 0.8384277 & 0 & 2.330974e-118 & 0.08398422 & 0.08400068 & 1804.733\\\\\n",
       "\t50 & 5181 & 0.8328847 & 0 & 4.782669e-123 & 0.08212209 & 0.08213794 & 1850.884\\\\\n",
       "\t60 & 5237 & 0.8336151 & 0 & 8.241913e-124 & 0.08200427 & 0.08201993 & 1876.780\\\\\n",
       "\t70 & 5277 & 0.8311840 & 0 & 7.382404e-126 & 0.08132441 & 0.08133982 & 1893.834\\\\\n",
       "\t80 & 5304 & 0.8315466 & 0 & 9.593816e-126 & 0.08146574 & 0.08148111 & 1899.684\\\\\n",
       "\t90 & 5324 & 0.8301097 & 0 & 5.318876e-127 & 0.08089757 & 0.08091277 & 1916.719\\\\\n",
       "\t100 & 5344 & 0.8304573 & 0 & 5.304012e-128 & 0.08127539 & 0.08129060 & 1914.175\\\\\n",
       "\t110 & 5364 & 0.8304577 & 0 & 3.318066e-128 & 0.08104875 & 0.08106386 & 1928.246\\\\\n",
       "\t119 & 5380 & 0.8296700 & 0 & 3.891426e-129 & 0.08086430 & 0.08087934 & 1935.260\\\\\n",
       "\\end{tabular}\n"
      ],
      "text/markdown": [
       "\n",
       "A data.frame: 12 × 7\n",
       "\n",
       "| <!--/--> | sample_size &lt;dbl&gt; | lambda &lt;dbl&gt; | pval0 &lt;dbl&gt; | pval1 &lt;dbl&gt; | sigsq &lt;dbl&gt; | sigsq_unb &lt;dbl&gt; | lnL &lt;dbl&gt; |\n",
       "|---|---|---|---|---|---|---|---|\n",
       "| 10 | 4175 | 0.8386075 | 0 | 7.158549e-105 | 0.08804618 | 0.08806728 | 1363.726 |\n",
       "| 20 | 4720 | 0.8417036 | 0 | 9.786542e-111 | 0.08624691 | 0.08626518 | 1628.451 |\n",
       "| 30 | 4984 | 0.8386029 | 0 | 3.648842e-116 | 0.08431075 | 0.08432767 | 1758.185 |\n",
       "| 40 | 5102 | 0.8384277 | 0 | 2.330974e-118 | 0.08398422 | 0.08400068 | 1804.733 |\n",
       "| 50 | 5181 | 0.8328847 | 0 | 4.782669e-123 | 0.08212209 | 0.08213794 | 1850.884 |\n",
       "| 60 | 5237 | 0.8336151 | 0 | 8.241913e-124 | 0.08200427 | 0.08201993 | 1876.780 |\n",
       "| 70 | 5277 | 0.8311840 | 0 | 7.382404e-126 | 0.08132441 | 0.08133982 | 1893.834 |\n",
       "| 80 | 5304 | 0.8315466 | 0 | 9.593816e-126 | 0.08146574 | 0.08148111 | 1899.684 |\n",
       "| 90 | 5324 | 0.8301097 | 0 | 5.318876e-127 | 0.08089757 | 0.08091277 | 1916.719 |\n",
       "| 100 | 5344 | 0.8304573 | 0 | 5.304012e-128 | 0.08127539 | 0.08129060 | 1914.175 |\n",
       "| 110 | 5364 | 0.8304577 | 0 | 3.318066e-128 | 0.08104875 | 0.08106386 | 1928.246 |\n",
       "| 119 | 5380 | 0.8296700 | 0 | 3.891426e-129 | 0.08086430 | 0.08087934 | 1935.260 |\n",
       "\n"
      ],
      "text/plain": [
       "    sample_size lambda    pval0 pval1         sigsq      sigsq_unb  lnL     \n",
       "10  4175        0.8386075 0     7.158549e-105 0.08804618 0.08806728 1363.726\n",
       "20  4720        0.8417036 0     9.786542e-111 0.08624691 0.08626518 1628.451\n",
       "30  4984        0.8386029 0     3.648842e-116 0.08431075 0.08432767 1758.185\n",
       "40  5102        0.8384277 0     2.330974e-118 0.08398422 0.08400068 1804.733\n",
       "50  5181        0.8328847 0     4.782669e-123 0.08212209 0.08213794 1850.884\n",
       "60  5237        0.8336151 0     8.241913e-124 0.08200427 0.08201993 1876.780\n",
       "70  5277        0.8311840 0     7.382404e-126 0.08132441 0.08133982 1893.834\n",
       "80  5304        0.8315466 0     9.593816e-126 0.08146574 0.08148111 1899.684\n",
       "90  5324        0.8301097 0     5.318876e-127 0.08089757 0.08091277 1916.719\n",
       "100 5344        0.8304573 0     5.304012e-128 0.08127539 0.08129060 1914.175\n",
       "110 5364        0.8304577 0     3.318066e-128 0.08104875 0.08106386 1928.246\n",
       "119 5380        0.8296700 0     3.891426e-129 0.08086430 0.08087934 1935.260"
      ]
     },
     "metadata": {},
     "output_type": "display_data"
    }
   ],
   "source": [
    "df_sample_size"
   ]
  },
  {
   "cell_type": "code",
   "execution_count": 22,
   "metadata": {},
   "outputs": [],
   "source": [
    "write.table(df_sample_size, \"physig/lambda_random_sample_genus.tsv\", sep=\"\\t\", quote=FALSE)"
   ]
  },
  {
   "cell_type": "markdown",
   "metadata": {},
   "source": [
    "### Rod-shaped only"
   ]
  },
  {
   "cell_type": "code",
   "execution_count": 127,
   "metadata": {},
   "outputs": [],
   "source": [
    "data_ <- data[data$shape==\"rod-shaped\",]"
   ]
  },
  {
   "cell_type": "code",
   "execution_count": 128,
   "metadata": {},
   "outputs": [
    {
     "data": {
      "text/plain": [
       "\n",
       "Phylogenetic tree with 3873 tips and 1380 internal nodes.\n",
       "\n",
       "Tip labels:\n",
       "  taxid668570, taxid1277351, taxid263906, taxid547055, taxid882104, taxid487686, ...\n",
       "Node labels:\n",
       "  N1, N5, N18, N51, N119, N265, ...\n",
       "\n",
       "Rooted; includes branch lengths."
      ]
     },
     "metadata": {},
     "output_type": "display_data"
    }
   ],
   "source": [
    "tree_ <- drop.tip(tree, setdiff(tree$tip.label, data_$taxid))\n",
    "tree_"
   ]
  },
  {
   "cell_type": "code",
   "execution_count": 129,
   "metadata": {},
   "outputs": [
    {
     "data": {
      "text/plain": [
       "\n",
       "Phylogenetic tree with 3873 tips and 3872 internal nodes.\n",
       "\n",
       "Tip labels:\n",
       "  taxid668570, taxid1277351, taxid263906, taxid547055, taxid882104, taxid487686, ...\n",
       "Node labels:\n",
       "  N1, N5, N18, N51, N119, N265, ...\n",
       "\n",
       "Rooted; includes branch lengths."
      ]
     },
     "metadata": {},
     "output_type": "display_data"
    }
   ],
   "source": [
    "# Binarized tree for geiger\n",
    "tree2_ <- multi2di(tree_)\n",
    "tree2_"
   ]
  },
  {
   "cell_type": "code",
   "execution_count": 130,
   "metadata": {},
   "outputs": [],
   "source": [
    "df <- data.frame(matrix(ncol=4, nrow=0))\n",
    "colnames(df) <- c(\"lambda\", \"logL\", \"logL0\", \"P\")"
   ]
  },
  {
   "cell_type": "code",
   "execution_count": 131,
   "metadata": {},
   "outputs": [],
   "source": [
    "# Data frame - geiger\n",
    "df_geiger <- data.frame(matrix(ncol=6, nrow=0))\n",
    "colnames(df_geiger) <- c('lambda', 'pval0', 'pval1', 'sigsq',\n",
    "                 'sigsq_unb', 'lnL')"
   ]
  },
  {
   "cell_type": "code",
   "execution_count": 132,
   "metadata": {},
   "outputs": [],
   "source": [
    "for (col in c(\"log_volume\", \"log_surface\", \"svratio\")) {\n",
    "    datum <- setNames(data_[[col]], data_$taxid)\n",
    "    lambda <- phylosig(tree_, datum, method=\"lambda\", test=TRUE)\n",
    "    df[nrow(df) + 1,] <- c(lambda$lambda, lambda$logL, lambda$logL0, lambda$P)\n",
    "    rownames(df)[nrow(df)] <- col\n",
    "    # Lambda and sigsq - geiger\n",
    "    l_sq <- lambda_sigsq(tree2_, datum)\n",
    "    df_geiger[nrow(df_geiger) + 1,] <- c(l_sq$lambda, l_sq$pval0, l_sq$pval1, l_sq$sigsq,\n",
    "                                    l_sq$sigsq_unb, l_sq$lnL)\n",
    "    rownames(df_geiger)[nrow(df_geiger)] <- col\n",
    "}"
   ]
  },
  {
   "cell_type": "code",
   "execution_count": 133,
   "metadata": {},
   "outputs": [
    {
     "data": {
      "text/html": [
       "<table class=\"dataframe\">\n",
       "<caption>A data.frame: 3 × 4</caption>\n",
       "<thead>\n",
       "\t<tr><th></th><th scope=col>lambda</th><th scope=col>logL</th><th scope=col>logL0</th><th scope=col>P</th></tr>\n",
       "\t<tr><th></th><th scope=col>&lt;dbl&gt;</th><th scope=col>&lt;dbl&gt;</th><th scope=col>&lt;dbl&gt;</th><th scope=col>&lt;dbl&gt;</th></tr>\n",
       "</thead>\n",
       "<tbody>\n",
       "\t<tr><th scope=row>log_volume</th><td>0.6619315</td><td>-2331.6914</td><td>-2759.663</td><td>3.710152e-188</td></tr>\n",
       "\t<tr><th scope=row>log_surface</th><td>0.6922851</td><td> -931.8798</td><td>-1403.819</td><td>2.842225e-207</td></tr>\n",
       "\t<tr><th scope=row>svratio</th><td>0.6223762</td><td> 5873.5366</td><td> 5523.045</td><td>1.828198e-154</td></tr>\n",
       "</tbody>\n",
       "</table>\n"
      ],
      "text/latex": [
       "A data.frame: 3 × 4\n",
       "\\begin{tabular}{r|llll}\n",
       "  & lambda & logL & logL0 & P\\\\\n",
       "  & <dbl> & <dbl> & <dbl> & <dbl>\\\\\n",
       "\\hline\n",
       "\tlog\\_volume & 0.6619315 & -2331.6914 & -2759.663 & 3.710152e-188\\\\\n",
       "\tlog\\_surface & 0.6922851 &  -931.8798 & -1403.819 & 2.842225e-207\\\\\n",
       "\tsvratio & 0.6223762 &  5873.5366 &  5523.045 & 1.828198e-154\\\\\n",
       "\\end{tabular}\n"
      ],
      "text/markdown": [
       "\n",
       "A data.frame: 3 × 4\n",
       "\n",
       "| <!--/--> | lambda &lt;dbl&gt; | logL &lt;dbl&gt; | logL0 &lt;dbl&gt; | P &lt;dbl&gt; |\n",
       "|---|---|---|---|---|\n",
       "| log_volume | 0.6619315 | -2331.6914 | -2759.663 | 3.710152e-188 |\n",
       "| log_surface | 0.6922851 |  -931.8798 | -1403.819 | 2.842225e-207 |\n",
       "| svratio | 0.6223762 |  5873.5366 |  5523.045 | 1.828198e-154 |\n",
       "\n"
      ],
      "text/plain": [
       "            lambda    logL       logL0     P            \n",
       "log_volume  0.6619315 -2331.6914 -2759.663 3.710152e-188\n",
       "log_surface 0.6922851  -931.8798 -1403.819 2.842225e-207\n",
       "svratio     0.6223762  5873.5366  5523.045 1.828198e-154"
      ]
     },
     "metadata": {},
     "output_type": "display_data"
    }
   ],
   "source": [
    "df"
   ]
  },
  {
   "cell_type": "code",
   "execution_count": 134,
   "metadata": {},
   "outputs": [],
   "source": [
    "write.table(df, \"physig/rod.lambda.tsv\", sep=\"\\t\", quote=FALSE)"
   ]
  },
  {
   "cell_type": "code",
   "execution_count": 135,
   "metadata": {},
   "outputs": [
    {
     "data": {
      "text/html": [
       "<table class=\"dataframe\">\n",
       "<caption>A data.frame: 3 × 6</caption>\n",
       "<thead>\n",
       "\t<tr><th></th><th scope=col>lambda</th><th scope=col>pval0</th><th scope=col>pval1</th><th scope=col>sigsq</th><th scope=col>sigsq_unb</th><th scope=col>lnL</th></tr>\n",
       "\t<tr><th></th><th scope=col>&lt;dbl&gt;</th><th scope=col>&lt;dbl&gt;</th><th scope=col>&lt;dbl&gt;</th><th scope=col>&lt;dbl&gt;</th><th scope=col>&lt;dbl&gt;</th><th scope=col>&lt;dbl&gt;</th></tr>\n",
       "</thead>\n",
       "<tbody>\n",
       "\t<tr><th scope=row>log_volume</th><td>0.6619316</td><td>3.710152e-188</td><td>4.507086e-115</td><td>0.407793474</td><td>0.407898793</td><td>-2331.6914</td></tr>\n",
       "\t<tr><th scope=row>log_surface</th><td>0.6922921</td><td>2.842225e-207</td><td>4.648813e-108</td><td>0.208363058</td><td>0.208416871</td><td> -931.8798</td></tr>\n",
       "\t<tr><th scope=row>svratio</th><td>0.6223621</td><td>1.828198e-154</td><td>4.102306e-168</td><td>0.005534952</td><td>0.005536381</td><td> 5873.5366</td></tr>\n",
       "</tbody>\n",
       "</table>\n"
      ],
      "text/latex": [
       "A data.frame: 3 × 6\n",
       "\\begin{tabular}{r|llllll}\n",
       "  & lambda & pval0 & pval1 & sigsq & sigsq\\_unb & lnL\\\\\n",
       "  & <dbl> & <dbl> & <dbl> & <dbl> & <dbl> & <dbl>\\\\\n",
       "\\hline\n",
       "\tlog\\_volume & 0.6619316 & 3.710152e-188 & 4.507086e-115 & 0.407793474 & 0.407898793 & -2331.6914\\\\\n",
       "\tlog\\_surface & 0.6922921 & 2.842225e-207 & 4.648813e-108 & 0.208363058 & 0.208416871 &  -931.8798\\\\\n",
       "\tsvratio & 0.6223621 & 1.828198e-154 & 4.102306e-168 & 0.005534952 & 0.005536381 &  5873.5366\\\\\n",
       "\\end{tabular}\n"
      ],
      "text/markdown": [
       "\n",
       "A data.frame: 3 × 6\n",
       "\n",
       "| <!--/--> | lambda &lt;dbl&gt; | pval0 &lt;dbl&gt; | pval1 &lt;dbl&gt; | sigsq &lt;dbl&gt; | sigsq_unb &lt;dbl&gt; | lnL &lt;dbl&gt; |\n",
       "|---|---|---|---|---|---|---|\n",
       "| log_volume | 0.6619316 | 3.710152e-188 | 4.507086e-115 | 0.407793474 | 0.407898793 | -2331.6914 |\n",
       "| log_surface | 0.6922921 | 2.842225e-207 | 4.648813e-108 | 0.208363058 | 0.208416871 |  -931.8798 |\n",
       "| svratio | 0.6223621 | 1.828198e-154 | 4.102306e-168 | 0.005534952 | 0.005536381 |  5873.5366 |\n",
       "\n"
      ],
      "text/plain": [
       "            lambda    pval0         pval1         sigsq       sigsq_unb  \n",
       "log_volume  0.6619316 3.710152e-188 4.507086e-115 0.407793474 0.407898793\n",
       "log_surface 0.6922921 2.842225e-207 4.648813e-108 0.208363058 0.208416871\n",
       "svratio     0.6223621 1.828198e-154 4.102306e-168 0.005534952 0.005536381\n",
       "            lnL       \n",
       "log_volume  -2331.6914\n",
       "log_surface  -931.8798\n",
       "svratio      5873.5366"
      ]
     },
     "metadata": {},
     "output_type": "display_data"
    }
   ],
   "source": [
    "df_geiger"
   ]
  },
  {
   "cell_type": "code",
   "execution_count": 136,
   "metadata": {},
   "outputs": [],
   "source": [
    "write.table(df_geiger, \"physig/rod.lambda-sigsq.tsv\", sep=\"\\t\", quote=FALSE)"
   ]
  },
  {
   "cell_type": "markdown",
   "metadata": {},
   "source": [
    "### Taxonomic ranks"
   ]
  },
  {
   "cell_type": "code",
   "execution_count": 137,
   "metadata": {},
   "outputs": [],
   "source": [
    "ranks = c(\"species\", \"genus\", \"family\", \"order\", \"class\", \"phylum\")"
   ]
  },
  {
   "cell_type": "code",
   "execution_count": 138,
   "metadata": {
    "scrolled": false
   },
   "outputs": [
    {
     "name": "stdout",
     "output_type": "stream",
     "text": [
      "[1] \"species: 1491\"\n",
      "[1] \"genus: 1143\"\n",
      "[1] \"family: 342\"\n",
      "[1] \"order: 141\"\n",
      "[1] \"class: 60\"\n",
      "[1] \"phylum: 27\"\n"
     ]
    },
    {
     "name": "stderr",
     "output_type": "stream",
     "text": [
      "Warning message in fitContinuous(tree, x, model = \"lambda\"):\n",
      "“\n",
      "Parameter estimates appear at bounds:\n",
      "\tlambda”\n",
      "Warning message in fitContinuous(tree, x, model = \"lambda\"):\n",
      "“\n",
      "Parameter estimates appear at bounds:\n",
      "\tlambda”\n"
     ]
    }
   ],
   "source": [
    "for (rank in ranks) {\n",
    "    tree_ <- read.tree(paste(\"place/\", rank, '_all', \".nwk\", sep=\"\"))\n",
    "    data_ <- read.table(paste(\"place/\", rank, '_all', \".tsv\", sep=\"\"), header=TRUE, sep=\"\\t\", quote=\"\")\n",
    "    tree2_ = multi2di(tree_)\n",
    "    print(paste(rank, nrow(data_),sep=\": \"))\n",
    "    data_[[\"svratio\"]] = data_[[\"volume\"]] / data_[[\"surface\"]]\n",
    "    for (col in c(\"volume\", \"surface\", \"svratio\")) {\n",
    "        data_[[paste(\"log\", col, sep=\"_\")]] = log10(data_[[col]])\n",
    "    }\n",
    "    df <- data.frame(matrix(ncol=4, nrow=0))\n",
    "    colnames(df) <- c(\"lambda\", \"logL\", \"logL0\", \"P\")\n",
    "    df_geiger <- data.frame(matrix(ncol=6, nrow=0))\n",
    "    colnames(df_geiger) <- c('lambda', 'pval0', 'pval1', 'sigsq',\n",
    "                 'sigsq_unb', 'lnL')\n",
    "    \n",
    "    for (col in c(\"log_volume\", \"log_surface\", \"log_svratio\")) {\n",
    "        datum <- setNames(data_[[col]], data_$taxid)\n",
    "        lambda <- phylosig(tree_, datum, method=\"lambda\", test=TRUE)\n",
    "        df[nrow(df) + 1,] <- c(lambda$lambda, lambda$logL, lambda$logL0, lambda$P)\n",
    "        rownames(df)[nrow(df)] <- col\n",
    "        \n",
    "        # Lambda and sigsq - geiger\n",
    "        l_sq <- lambda_sigsq(tree2_, datum)\n",
    "        df_geiger[nrow(df_geiger) + 1,] <- c(l_sq$lambda, l_sq$pval0, l_sq$pval1, l_sq$sigsq,\n",
    "                                    l_sq$sigsq_unb, l_sq$lnL)\n",
    "        rownames(df_geiger)[nrow(df_geiger)] <- col\n",
    "    }\n",
    "    write.table(df, paste(\"physig/\", rank, \".lambda.tsv\", sep=\"\"), sep=\"\\t\", quote=FALSE)\n",
    "    write.table(df_geiger, paste(\"physig/\", rank, \".lambda-sigsq.tsv\", sep=\"\"), sep=\"\\t\", quote=FALSE)\n",
    "}"
   ]
  },
  {
   "cell_type": "markdown",
   "metadata": {},
   "source": [
    "### Taxonomic groups"
   ]
  },
  {
   "cell_type": "markdown",
   "metadata": {},
   "source": [
    "Taxonomic groups that have 50 or more samples will be analyzed."
   ]
  },
  {
   "cell_type": "code",
   "execution_count": 139,
   "metadata": {},
   "outputs": [],
   "source": [
    "df <- data.frame(matrix(ncol=15, nrow=0))\n",
    "colnames(df) <- c(\"rank\", \"taxon\", \"count\",\n",
    "                  \"V.lambda\", \"V.logL\", \"V.logL0\", \"V.P\",\n",
    "                  \"S.lambda\", \"S.logL\", \"S.logL0\", \"S.P\",\n",
    "                 \"SV.lambda\", \"SV.logL\", \"SV.logL0\", \"SV.P\")\n",
    "# Gieger\n",
    "df_geiger <- data.frame(matrix(ncol=21, nrow=0))\n",
    "colnames(df_geiger) <- c('rank', 'taxon', 'count',\n",
    "                        'V.lambda', 'V.pval0', 'V.pval1', 'V.sigsq', 'V.sigsq_unb', 'V.lnL',\n",
    "                        'S.lambda', 'S.pval0', 'S.pval1', 'S.sigsq', 'S.sigsq_unb', 'S.lnL',\n",
    "                        'SV.lambda', 'SV.pval0', 'SV.pval1', 'SV.sigsq', 'SV.sigsq_unb', 'SV.lnL')"
   ]
  },
  {
   "cell_type": "code",
   "execution_count": 140,
   "metadata": {},
   "outputs": [],
   "source": [
    "th = 50"
   ]
  },
  {
   "cell_type": "code",
   "execution_count": 141,
   "metadata": {},
   "outputs": [],
   "source": [
    "tree3 <- drop.tip(tree2, setdiff(tree2$tip.label, data$taxid))"
   ]
  },
  {
   "cell_type": "code",
   "execution_count": 142,
   "metadata": {},
   "outputs": [
    {
     "name": "stdout",
     "output_type": "stream",
     "text": [
      "[1] \"genus\"\n"
     ]
    },
    {
     "name": "stderr",
     "output_type": "stream",
     "text": [
      "Warning message in fitContinuous(tree, x, model = \"lambda\"):\n",
      "“\n",
      "Parameter estimates appear at bounds:\n",
      "\tlambda”\n",
      "Warning message in fitContinuous(tree, x, model = \"lambda\"):\n",
      "“\n",
      "Parameter estimates appear at bounds:\n",
      "\tlambda”\n",
      "Warning message in fitContinuous(tree, x, model = \"lambda\"):\n",
      "“\n",
      "Parameter estimates appear at bounds:\n",
      "\tlambda”\n",
      "Warning message in fitContinuous(tree, x, model = \"lambda\"):\n",
      "“\n",
      "Parameter estimates appear at bounds:\n",
      "\tlambda”\n",
      "Warning message in fitContinuous(tree, x, model = \"lambda\"):\n",
      "“\n",
      "Parameter estimates appear at bounds:\n",
      "\tlambda”\n",
      "Warning message in fitContinuous(tree, x, model = \"lambda\"):\n",
      "“\n",
      "Parameter estimates appear at bounds:\n",
      "\tlambda”\n"
     ]
    },
    {
     "name": "stdout",
     "output_type": "stream",
     "text": [
      "[1] \"family\"\n"
     ]
    },
    {
     "name": "stderr",
     "output_type": "stream",
     "text": [
      "Warning message in fitContinuous(tree, x, model = \"lambda\"):\n",
      "“\n",
      "Parameter estimates appear at bounds:\n",
      "\tlambda”\n",
      "Warning message in fitContinuous(tree, x, model = \"lambda\"):\n",
      "“\n",
      "Parameter estimates appear at bounds:\n",
      "\tlambda”\n",
      "Warning message in fitContinuous(tree, x, model = \"lambda\"):\n",
      "“\n",
      "Parameter estimates appear at bounds:\n",
      "\tlambda”\n",
      "Warning message in fitContinuous(tree, x, model = \"lambda\"):\n",
      "“\n",
      "Parameter estimates appear at bounds:\n",
      "\tlambda”\n",
      "Warning message in fitContinuous(tree, x, model = \"lambda\"):\n",
      "“\n",
      "Parameter estimates appear at bounds:\n",
      "\tlambda”\n",
      "Warning message in fitContinuous(tree, x, model = \"lambda\"):\n",
      "“\n",
      "Parameter estimates appear at bounds:\n",
      "\tlambda”\n",
      "Warning message in fitContinuous(tree, x, model = \"lambda\"):\n",
      "“\n",
      "Parameter estimates appear at bounds:\n",
      "\tlambda”\n"
     ]
    },
    {
     "name": "stdout",
     "output_type": "stream",
     "text": [
      "[1] \"order\"\n"
     ]
    },
    {
     "name": "stderr",
     "output_type": "stream",
     "text": [
      "Warning message in fitContinuous(tree, x, model = \"lambda\"):\n",
      "“\n",
      "Parameter estimates appear at bounds:\n",
      "\tlambda”\n",
      "Warning message in fitContinuous(tree, x, model = \"lambda\"):\n",
      "“\n",
      "Parameter estimates appear at bounds:\n",
      "\tlambda”\n",
      "Warning message in fitContinuous(tree, x, model = \"lambda\"):\n",
      "“\n",
      "Parameter estimates appear at bounds:\n",
      "\tlambda”\n",
      "Warning message in fitContinuous(tree, x, model = \"lambda\"):\n",
      "“\n",
      "Parameter estimates appear at bounds:\n",
      "\tlambda”\n",
      "Warning message in fitContinuous(tree, x, model = \"lambda\"):\n",
      "“\n",
      "Parameter estimates appear at bounds:\n",
      "\tlambda”\n"
     ]
    },
    {
     "name": "stdout",
     "output_type": "stream",
     "text": [
      "[1] \"class\"\n"
     ]
    },
    {
     "name": "stderr",
     "output_type": "stream",
     "text": [
      "Warning message in fitContinuous(tree, x, model = \"lambda\"):\n",
      "“\n",
      "Parameter estimates appear at bounds:\n",
      "\tlambda”\n",
      "Warning message in fitContinuous(tree, x, model = \"lambda\"):\n",
      "“\n",
      "Parameter estimates appear at bounds:\n",
      "\tlambda”\n"
     ]
    },
    {
     "name": "stdout",
     "output_type": "stream",
     "text": [
      "[1] \"phylum\"\n"
     ]
    },
    {
     "name": "stderr",
     "output_type": "stream",
     "text": [
      "Warning message in fitContinuous(tree, x, model = \"lambda\"):\n",
      "“\n",
      "Parameter estimates appear at bounds:\n",
      "\tlambda”\n",
      "Warning message in fitContinuous(tree, x, model = \"lambda\"):\n",
      "“\n",
      "Parameter estimates appear at bounds:\n",
      "\tlambda”\n",
      "Warning message in fitContinuous(tree, x, model = \"lambda\"):\n",
      "“\n",
      "Parameter estimates appear at bounds:\n",
      "\tlambda”\n",
      "Warning message in fitContinuous(tree, x, model = \"lambda\"):\n",
      "“\n",
      "Parameter estimates appear at bounds:\n",
      "\tlambda”\n",
      "Warning message in fitContinuous(tree, x, model = \"lambda\"):\n",
      "“\n",
      "Parameter estimates appear at bounds:\n",
      "\tlambda”\n"
     ]
    }
   ],
   "source": [
    "for (rank in ranks[-1]) {\n",
    "    print(rank)\n",
    "    counts <- table(data[!data[[rank]]==\"\",][[rank]])\n",
    "    for (taxon in names(counts)) {\n",
    "        n <- counts[[taxon]]\n",
    "        if (n < th) {\n",
    "            next\n",
    "        }\n",
    "        data_ <- data[data[[rank]]==taxon,]\n",
    "        # Drop tips that appear in tree but not appear in data_\n",
    "        # i.e. keep tips that appear in data_\n",
    "        tree_ <- drop.tip(tree, setdiff(tree$tip.label, data_$taxid))\n",
    "        tree2_ = multi2di(tree_)\n",
    "        res = list(rank, taxon, n)\n",
    "        res_ = list(rank, taxon, n)\n",
    "        for (col in c(\"log_volume\", \"log_surface\", \"log_svratio\")) {\n",
    "            datum <- setNames(data_[[col]], data_$taxid)\n",
    "            lambda <- phylosig(tree_, datum, method=\"lambda\", test=TRUE)\n",
    "            l_sq <- lambda_sigsq(tree2_, datum)\n",
    "            res <- append(res, c(lambda$lambda, lambda$logL, lambda$logL0, lambda$P))\n",
    "            res_ <- append(res_, c(l_sq$lambda, l_sq$pval0, l_sq$pval1, l_sq$sigsq,\n",
    "                                    l_sq$sigsq_unb, l_sq$lnL))\n",
    "        }\n",
    "        df[nrow(df) + 1,] <- res\n",
    "        df_geiger[nrow(df_geiger) + 1,] <- res_\n",
    "    }\n",
    "}"
   ]
  },
  {
   "cell_type": "code",
   "execution_count": 143,
   "metadata": {
    "scrolled": false
   },
   "outputs": [
    {
     "data": {
      "text/html": [
       "<table class=\"dataframe\">\n",
       "<caption>A data.frame: 74 × 15</caption>\n",
       "<thead>\n",
       "\t<tr><th></th><th scope=col>rank</th><th scope=col>taxon</th><th scope=col>count</th><th scope=col>V.lambda</th><th scope=col>V.logL</th><th scope=col>V.logL0</th><th scope=col>V.P</th><th scope=col>S.lambda</th><th scope=col>S.logL</th><th scope=col>S.logL0</th><th scope=col>S.P</th><th scope=col>SV.lambda</th><th scope=col>SV.logL</th><th scope=col>SV.logL0</th><th scope=col>SV.P</th></tr>\n",
       "\t<tr><th></th><th scope=col>&lt;chr&gt;</th><th scope=col>&lt;chr&gt;</th><th scope=col>&lt;int&gt;</th><th scope=col>&lt;dbl&gt;</th><th scope=col>&lt;dbl&gt;</th><th scope=col>&lt;dbl&gt;</th><th scope=col>&lt;dbl&gt;</th><th scope=col>&lt;dbl&gt;</th><th scope=col>&lt;dbl&gt;</th><th scope=col>&lt;dbl&gt;</th><th scope=col>&lt;dbl&gt;</th><th scope=col>&lt;dbl&gt;</th><th scope=col>&lt;dbl&gt;</th><th scope=col>&lt;dbl&gt;</th><th scope=col>&lt;dbl&gt;</th></tr>\n",
       "</thead>\n",
       "<tbody>\n",
       "\t<tr><th scope=row>1</th><td>genus </td><td>Flavobacterium     </td><td>119</td><td>3.740304e-01</td><td> -88.09643</td><td> -88.54687</td><td>3.425428e-01</td><td>2.062704e-01</td><td> -45.1430636</td><td> -45.2212366</td><td>6.925434e-01</td><td>5.506170e-01</td><td> 41.90976</td><td> 40.532502</td><td>9.698069e-02</td></tr>\n",
       "\t<tr><th scope=row>2</th><td>genus </td><td>Halomonas          </td><td> 53</td><td>7.672824e-01</td><td> -34.71664</td><td> -35.14984</td><td>3.519539e-01</td><td>8.673720e-01</td><td> -13.2767523</td><td> -13.8607737</td><td>2.798038e-01</td><td>5.020125e-01</td><td> 21.61666</td><td> 21.491163</td><td>6.163716e-01</td></tr>\n",
       "\t<tr><th scope=row>3</th><td>genus </td><td>Microbacterium     </td><td> 55</td><td>3.036224e-01</td><td> -45.09428</td><td> -45.25689</td><td>5.684879e-01</td><td>2.699518e-01</td><td> -24.2642084</td><td> -24.3283357</td><td>7.202487e-01</td><td>3.380626e-01</td><td> 16.74787</td><td> 16.329782</td><td>3.604904e-01</td></tr>\n",
       "\t<tr><th scope=row>4</th><td>genus </td><td>Mycoplasma         </td><td> 73</td><td>9.999339e-01</td><td>  28.93427</td><td>  28.87850</td><td>7.384020e-01</td><td>9.999339e-01</td><td>  66.8160720</td><td>  66.7612937</td><td>7.406495e-01</td><td>9.999339e-01</td><td> 94.08451</td><td> 94.027264</td><td>7.350970e-01</td></tr>\n",
       "\t<tr><th scope=row>5</th><td>genus </td><td>Nocardioides       </td><td> 74</td><td>9.999339e-01</td><td> -34.60831</td><td> -35.74271</td><td>1.320008e-01</td><td>9.999339e-01</td><td>  -8.7909772</td><td>  -9.8774995</td><td>1.404479e-01</td><td>9.999339e-01</td><td> 45.61734</td><td> 44.697746</td><td>1.750461e-01</td></tr>\n",
       "\t<tr><th scope=row>6</th><td>genus </td><td>Paenibacillus      </td><td>117</td><td>4.885485e-05</td><td> -53.87433</td><td> -53.87420</td><td>1.000000e+00</td><td>4.627546e-05</td><td>  -7.0736710</td><td>  -7.0735902</td><td>1.000000e+00</td><td>4.273025e-01</td><td> 63.02314</td><td> 63.115946</td><td>1.000000e+00</td></tr>\n",
       "\t<tr><th scope=row>7</th><td>genus </td><td>Sphingomonas       </td><td> 58</td><td>6.610696e-05</td><td> -20.86786</td><td> -20.86747</td><td>1.000000e+00</td><td>6.610696e-05</td><td>   1.5110944</td><td>   1.5114746</td><td>1.000000e+00</td><td>6.610696e-05</td><td> 39.71881</td><td> 39.719217</td><td>1.000000e+00</td></tr>\n",
       "\t<tr><th scope=row>8</th><td>family</td><td>Acetobacteraceae   </td><td> 57</td><td>6.610696e-05</td><td> -27.73803</td><td> -27.73724</td><td>1.000000e+00</td><td>6.610696e-05</td><td>  -0.9321196</td><td>  -0.9315129</td><td>1.000000e+00</td><td>6.610696e-05</td><td> 23.14402</td><td> 23.144442</td><td>1.000000e+00</td></tr>\n",
       "\t<tr><th scope=row>9</th><td>family</td><td>Bacillaceae        </td><td>239</td><td>4.490515e-01</td><td>-125.97282</td><td>-140.10044</td><td>1.063261e-07</td><td>4.391927e-01</td><td> -34.6236018</td><td> -46.6708188</td><td>9.172504e-07</td><td>5.248549e-01</td><td>112.90574</td><td> 93.472406</td><td>4.537637e-10</td></tr>\n",
       "\t<tr><th scope=row>10</th><td>family</td><td>Burkholderiaceae   </td><td> 67</td><td>7.672388e-01</td><td> -30.13335</td><td> -36.55199</td><td>3.397804e-04</td><td>7.963086e-01</td><td>  -3.8499504</td><td> -10.8874082</td><td>1.756711e-04</td><td>6.783059e-01</td><td> 42.38910</td><td> 37.678229</td><td>2.144275e-03</td></tr>\n",
       "\t<tr><th scope=row>11</th><td>family</td><td>Chitinophagaceae   </td><td> 73</td><td>7.452043e-01</td><td> -52.65660</td><td> -53.49044</td><td>1.965688e-01</td><td>9.810091e-01</td><td> -35.0602871</td><td> -38.6301208</td><td>7.539714e-03</td><td>6.610696e-05</td><td> 38.38843</td><td> 38.389079</td><td>1.000000e+00</td></tr>\n",
       "\t<tr><th scope=row>12</th><td>family</td><td>Comamonadaceae     </td><td> 68</td><td>9.999339e-01</td><td> -39.79207</td><td> -41.16091</td><td>9.800778e-02</td><td>9.999339e-01</td><td> -11.1514004</td><td> -12.4969790</td><td>1.009065e-01</td><td>9.999339e-01</td><td> 28.66898</td><td> 27.575841</td><td>1.392456e-01</td></tr>\n",
       "\t<tr><th scope=row>13</th><td>family</td><td>Cyclobacteriaceae  </td><td> 51</td><td>6.610696e-05</td><td> -25.62244</td><td> -25.62175</td><td>1.000000e+00</td><td>6.610696e-05</td><td>  -9.2098737</td><td>  -9.2091741</td><td>1.000000e+00</td><td>6.610696e-05</td><td> 33.40705</td><td> 33.407653</td><td>1.000000e+00</td></tr>\n",
       "\t<tr><th scope=row>14</th><td>family</td><td>Flavobacteriaceae  </td><td>437</td><td>1.968165e-01</td><td>-252.65901</td><td>-254.36277</td><td>6.489974e-02</td><td>3.545823e-01</td><td>-112.3659629</td><td>-118.5633267</td><td>4.305478e-04</td><td>3.888536e-01</td><td>220.71119</td><td>219.084339</td><td>7.126207e-02</td></tr>\n",
       "\t<tr><th scope=row>15</th><td>family</td><td>Halomonadaceae     </td><td> 74</td><td>9.357922e-01</td><td> -64.72250</td><td> -69.29704</td><td>2.488418e-03</td><td>9.686159e-01</td><td> -33.9698591</td><td> -39.1138792</td><td>1.338952e-03</td><td>8.469552e-01</td><td> 12.36785</td><td>  9.311234</td><td>1.341742e-02</td></tr>\n",
       "\t<tr><th scope=row>16</th><td>family</td><td>Hymenobacteraceae  </td><td> 58</td><td>3.711622e-01</td><td> -32.74105</td><td> -33.20061</td><td>3.377057e-01</td><td>5.309755e-01</td><td> -10.0091102</td><td> -10.9203769</td><td>1.770120e-01</td><td>6.610696e-05</td><td> 30.49235</td><td> 30.492566</td><td>1.000000e+00</td></tr>\n",
       "\t<tr><th scope=row>17</th><td>family</td><td>Lactobacillaceae   </td><td> 90</td><td>6.610696e-05</td><td> -67.58802</td><td> -67.58801</td><td>1.000000e+00</td><td>8.505648e-02</td><td> -39.2759744</td><td> -39.4793028</td><td>5.236713e-01</td><td>6.610696e-05</td><td> 39.30827</td><td> 39.308607</td><td>1.000000e+00</td></tr>\n",
       "\t<tr><th scope=row>18</th><td>family</td><td>Microbacteriaceae  </td><td>159</td><td>7.041137e-01</td><td>-108.85841</td><td>-112.08938</td><td>1.102093e-02</td><td>5.740504e-01</td><td> -48.7124214</td><td> -50.2222539</td><td>8.226046e-02</td><td>8.465246e-01</td><td> 61.31093</td><td> 54.143845</td><td>1.530612e-04</td></tr>\n",
       "\t<tr><th scope=row>19</th><td>family</td><td>Micrococcaceae     </td><td> 76</td><td>2.070272e-01</td><td> -34.54933</td><td> -35.02792</td><td>3.278995e-01</td><td>2.591178e-01</td><td>  -4.7858958</td><td>  -5.6451475</td><td>1.898858e-01</td><td>1.862534e-01</td><td> 46.26297</td><td> 46.011108</td><td>4.778675e-01</td></tr>\n",
       "\t<tr><th scope=row>20</th><td>family</td><td>Mycoplasmataceae   </td><td>113</td><td>9.999339e-01</td><td> -18.44782</td><td> -18.51770</td><td>7.085241e-01</td><td>9.999339e-01</td><td>  39.9796288</td><td>  39.9106127</td><td>7.102451e-01</td><td>9.999339e-01</td><td> 83.55740</td><td> 83.486395</td><td>7.062867e-01</td></tr>\n",
       "\t<tr><th scope=row>21</th><td>family</td><td>Nocardioidaceae    </td><td> 97</td><td>6.610696e-05</td><td> -55.22703</td><td> -55.22616</td><td>1.000000e+00</td><td>6.610696e-05</td><td> -20.0884621</td><td> -20.0875406</td><td>1.000000e+00</td><td>9.999339e-01</td><td> 47.78101</td><td> 47.508184</td><td>4.600976e-01</td></tr>\n",
       "\t<tr><th scope=row>22</th><td>family</td><td>Oxalobacteraceae   </td><td> 62</td><td>4.651742e-01</td><td> -37.73356</td><td> -39.80856</td><td>4.163479e-02</td><td>5.050824e-01</td><td>  -9.7423327</td><td> -12.3632404</td><td>2.205025e-02</td><td>3.614878e-01</td><td> 22.52498</td><td> 21.482384</td><td>1.487338e-01</td></tr>\n",
       "\t<tr><th scope=row>23</th><td>family</td><td>Paenibacillaceae   </td><td>156</td><td>4.283002e-02</td><td> -80.26741</td><td> -80.40328</td><td>6.021707e-01</td><td>1.537744e-02</td><td> -16.8874162</td><td> -16.9062603</td><td>8.460708e-01</td><td>1.014526e-01</td><td> 75.21569</td><td> 74.721775</td><td>3.202728e-01</td></tr>\n",
       "\t<tr><th scope=row>24</th><td>family</td><td>Rhodobacteraceae   </td><td>123</td><td>8.654526e-01</td><td> -45.22505</td><td> -49.02313</td><td>5.849299e-03</td><td>9.419238e-01</td><td>   5.6432014</td><td>  -0.1204802</td><td>6.857921e-04</td><td>6.289509e-01</td><td> 75.79603</td><td> 75.237745</td><td>2.906566e-01</td></tr>\n",
       "\t<tr><th scope=row>25</th><td>family</td><td>Roseobacteraceae   </td><td>114</td><td>4.260760e-01</td><td> -74.34744</td><td> -74.20758</td><td>1.000000e+00</td><td>6.610696e-05</td><td> -32.1281426</td><td> -32.1276761</td><td>1.000000e+00</td><td>5.204691e-01</td><td> 49.54300</td><td> 49.381374</td><td>5.696552e-01</td></tr>\n",
       "\t<tr><th scope=row>26</th><td>family</td><td>Sphingobacteriaceae</td><td>122</td><td>6.610696e-05</td><td> -76.59113</td><td> -76.59003</td><td>1.000000e+00</td><td>6.610696e-05</td><td> -34.8616605</td><td> -34.8611483</td><td>1.000000e+00</td><td>6.610696e-05</td><td> 55.97964</td><td> 55.980967</td><td>1.000000e+00</td></tr>\n",
       "\t<tr><th scope=row>27</th><td>family</td><td>Sphingomonadaceae  </td><td>113</td><td>6.610696e-05</td><td> -44.52647</td><td> -44.52587</td><td>1.000000e+00</td><td>6.610696e-05</td><td>   1.5972748</td><td>   1.5979219</td><td>1.000000e+00</td><td>6.610696e-05</td><td> 71.14515</td><td> 71.145664</td><td>1.000000e+00</td></tr>\n",
       "\t<tr><th scope=row>28</th><td>family</td><td>Weeksellaceae      </td><td> 60</td><td>6.610696e-05</td><td> -27.76636</td><td> -27.76522</td><td>1.000000e+00</td><td>6.610696e-05</td><td>  -1.9646604</td><td>  -1.9634689</td><td>1.000000e+00</td><td>7.679557e-01</td><td> 31.47493</td><td> 31.755063</td><td>1.000000e+00</td></tr>\n",
       "\t<tr><th scope=row>29</th><td>family</td><td>Xanthomonadaceae   </td><td> 69</td><td>6.431556e-01</td><td> -45.09330</td><td> -47.05195</td><td>4.779137e-02</td><td>7.075909e-01</td><td> -20.5426396</td><td> -22.8801885</td><td>3.060296e-02</td><td>4.900372e-01</td><td> 32.00971</td><td> 30.631232</td><td>9.683278e-02</td></tr>\n",
       "\t<tr><th scope=row>30</th><td>order </td><td>Alteromonadales    </td><td>132</td><td>3.944219e-01</td><td> -44.65292</td><td> -51.39064</td><td>2.417071e-04</td><td>2.830889e-01</td><td>   5.3586512</td><td>   0.3011500</td><td>1.470672e-03</td><td>5.523537e-01</td><td> 91.70116</td><td> 83.376501</td><td>4.496653e-05</td></tr>\n",
       "\t<tr><th scope=row>⋮</th><td>⋮</td><td>⋮</td><td>⋮</td><td>⋮</td><td>⋮</td><td>⋮</td><td>⋮</td><td>⋮</td><td>⋮</td><td>⋮</td><td>⋮</td><td>⋮</td><td>⋮</td><td>⋮</td><td>⋮</td></tr>\n",
       "\t<tr><th scope=row>45</th><td>order </td><td>Propionibacteriales</td><td> 128</td><td>6.610696e-05</td><td>  -70.54046</td><td>  -70.53900</td><td> 1.000000e+00</td><td>6.610696e-05</td><td> -23.857839</td><td> -23.856548</td><td> 1.000000e+00</td><td>6.610696e-05</td><td> 61.55751</td><td> 61.55810</td><td> 1.000000e+00</td></tr>\n",
       "\t<tr><th scope=row>46</th><td>order </td><td>Pseudomonadales    </td><td>  83</td><td>6.610696e-05</td><td>  -36.36343</td><td>  -36.36258</td><td> 1.000000e+00</td><td>6.610696e-05</td><td>  -3.170898</td><td>  -3.170153</td><td> 1.000000e+00</td><td>6.610696e-05</td><td> 47.29631</td><td> 47.29719</td><td> 1.000000e+00</td></tr>\n",
       "\t<tr><th scope=row>47</th><td>order </td><td>Rhodobacterales    </td><td> 237</td><td>4.250869e-01</td><td> -124.64036</td><td> -126.35382</td><td> 6.414197e-02</td><td>4.246437e-01</td><td> -34.200796</td><td> -36.835525</td><td> 2.170277e-02</td><td>3.207765e-01</td><td>123.86923</td><td>123.84247</td><td> 8.170571e-01</td></tr>\n",
       "\t<tr><th scope=row>48</th><td>order </td><td>Rhodospirillales   </td><td> 111</td><td>6.458078e-01</td><td>  -82.15562</td><td>  -86.22059</td><td> 4.354018e-03</td><td>7.298650e-01</td><td> -34.008911</td><td> -40.520286</td><td> 3.077295e-04</td><td>5.122405e-01</td><td> 26.93216</td><td> 24.26562</td><td> 2.092444e-02</td></tr>\n",
       "\t<tr><th scope=row>49</th><td>order </td><td>Sphingobacteriales </td><td> 122</td><td>6.610696e-05</td><td>  -76.59113</td><td>  -76.59003</td><td> 1.000000e+00</td><td>6.610696e-05</td><td> -34.861660</td><td> -34.861148</td><td> 1.000000e+00</td><td>6.610696e-05</td><td> 55.97964</td><td> 55.98097</td><td> 1.000000e+00</td></tr>\n",
       "\t<tr><th scope=row>50</th><td>order </td><td>Sphingomonadales   </td><td> 153</td><td>6.610696e-05</td><td>  -73.06210</td><td>  -73.06046</td><td> 1.000000e+00</td><td>6.610696e-05</td><td> -14.371090</td><td> -14.369442</td><td> 1.000000e+00</td><td>6.610696e-05</td><td> 87.55468</td><td> 87.55636</td><td> 1.000000e+00</td></tr>\n",
       "\t<tr><th scope=row>51</th><td>order </td><td>Spirochaetales     </td><td>  87</td><td>9.999339e-01</td><td>  -39.49065</td><td>  -62.78618</td><td> 8.745814e-12</td><td>9.999339e-01</td><td> -12.714790</td><td> -40.444415</td><td> 9.541666e-14</td><td>9.329276e-01</td><td> 39.86381</td><td> 32.63050</td><td> 1.426649e-04</td></tr>\n",
       "\t<tr><th scope=row>52</th><td>order </td><td>Xanthomonadales    </td><td> 103</td><td>5.488682e-01</td><td>  -57.93285</td><td>  -58.34009</td><td> 3.667965e-01</td><td>6.765419e-01</td><td> -21.134543</td><td> -21.948443</td><td> 2.020074e-01</td><td>3.304422e-01</td><td> 56.04949</td><td> 55.66715</td><td> 3.818723e-01</td></tr>\n",
       "\t<tr><th scope=row>53</th><td>class </td><td>Actinomycetia      </td><td> 727</td><td>4.251627e-01</td><td> -518.35844</td><td> -535.06052</td><td> 7.486419e-09</td><td>3.791907e-01</td><td>-245.171054</td><td>-257.862947</td><td> 4.698503e-07</td><td>5.516663e-01</td><td>259.48712</td><td>231.39394</td><td> 6.591740e-14</td></tr>\n",
       "\t<tr><th scope=row>54</th><td>class </td><td>Alphaproteobacteria</td><td> 833</td><td>7.888671e-01</td><td> -482.92577</td><td> -572.01035</td><td> 1.216685e-40</td><td>7.868030e-01</td><td>-147.457211</td><td>-239.671087</td><td> 5.232699e-42</td><td>7.576811e-01</td><td>366.95619</td><td>290.26232</td><td> 3.151640e-35</td></tr>\n",
       "\t<tr><th scope=row>55</th><td>class </td><td>Bacilli            </td><td> 615</td><td>3.422748e-01</td><td> -359.68144</td><td> -378.60095</td><td> 7.682982e-10</td><td>3.877716e-01</td><td>-136.215488</td><td>-159.755407</td><td> 6.815319e-12</td><td>4.032987e-01</td><td>284.01247</td><td>263.10885</td><td> 1.007299e-10</td></tr>\n",
       "\t<tr><th scope=row>56</th><td>class </td><td>Bacteroidia        </td><td>  84</td><td>1.517847e-01</td><td>  -66.85226</td><td>  -66.64609</td><td> 1.000000e+00</td><td>9.313851e-02</td><td> -38.539042</td><td> -38.522412</td><td> 1.000000e+00</td><td>9.406448e-01</td><td> 26.46924</td><td> 11.40632</td><td> 4.048990e-08</td></tr>\n",
       "\t<tr><th scope=row>57</th><td>class </td><td>Betaproteobacteria </td><td> 331</td><td>3.520707e-01</td><td> -201.41620</td><td> -208.13123</td><td> 2.476236e-04</td><td>3.969470e-01</td><td> -65.686428</td><td> -72.537031</td><td> 2.143168e-04</td><td>3.186432e-01</td><td>142.13886</td><td>134.59626</td><td> 1.027649e-04</td></tr>\n",
       "\t<tr><th scope=row>58</th><td>class </td><td>Chitinophagia      </td><td>  73</td><td>7.452043e-01</td><td>  -52.65660</td><td>  -53.49044</td><td> 1.965688e-01</td><td>9.810091e-01</td><td> -35.060287</td><td> -38.630121</td><td> 7.539714e-03</td><td>6.610696e-05</td><td> 38.38843</td><td> 38.38908</td><td> 1.000000e+00</td></tr>\n",
       "\t<tr><th scope=row>59</th><td>class </td><td>Clostridia         </td><td> 153</td><td>4.818528e-05</td><td> -139.84990</td><td> -139.84918</td><td> 1.000000e+00</td><td>6.610696e-05</td><td> -81.635602</td><td> -81.634235</td><td> 1.000000e+00</td><td>5.129571e-01</td><td> 17.20658</td><td> 15.19070</td><td> 4.465139e-02</td></tr>\n",
       "\t<tr><th scope=row>60</th><td>class </td><td>Cytophagia         </td><td> 167</td><td>4.775591e-01</td><td> -105.74552</td><td> -119.79116</td><td> 1.157255e-07</td><td>5.579732e-01</td><td> -52.817992</td><td> -65.450743</td><td> 4.995640e-07</td><td>5.733558e-01</td><td> 84.92772</td><td> 61.69376</td><td> 9.313157e-12</td></tr>\n",
       "\t<tr><th scope=row>61</th><td>class </td><td>Deltaproteobacteria</td><td>  91</td><td>7.683564e-01</td><td>  -55.10237</td><td>  -68.55236</td><td> 2.142629e-07</td><td>7.363719e-01</td><td> -21.821275</td><td> -34.800120</td><td> 3.489828e-07</td><td>8.500669e-01</td><td> 43.49046</td><td> 30.46751</td><td> 3.333978e-07</td></tr>\n",
       "\t<tr><th scope=row>62</th><td>class </td><td>Flavobacteriia     </td><td> 507</td><td>2.731593e-01</td><td> -291.23764</td><td> -293.60668</td><td> 2.950173e-02</td><td>4.981204e-01</td><td>-125.872647</td><td>-132.090193</td><td> 4.213418e-04</td><td>4.621767e-01</td><td>257.28817</td><td>244.64754</td><td> 4.954995e-07</td></tr>\n",
       "\t<tr><th scope=row>63</th><td>class </td><td>Gammaproteobacteria</td><td> 743</td><td>9.195689e-01</td><td> -512.15287</td><td> -673.76715</td><td> 2.868544e-72</td><td>9.245056e-01</td><td>-233.486915</td><td>-390.300782</td><td> 3.539662e-70</td><td>9.045851e-01</td><td>280.77469</td><td>124.68093</td><td> 7.289419e-70</td></tr>\n",
       "\t<tr><th scope=row>64</th><td>class </td><td>Mollicutes         </td><td> 173</td><td>9.349384e-01</td><td>  -47.28042</td><td> -132.83653</td><td> 4.229127e-39</td><td>8.779442e-01</td><td> -13.953544</td><td> -98.382697</td><td> 1.313799e-38</td><td>7.326820e-01</td><td>120.31349</td><td> 91.13192</td><td> 2.179343e-14</td></tr>\n",
       "\t<tr><th scope=row>65</th><td>class </td><td>Sphingobacteriia   </td><td> 122</td><td>6.610696e-05</td><td>  -76.59113</td><td>  -76.59003</td><td> 1.000000e+00</td><td>6.610696e-05</td><td> -34.861660</td><td> -34.861148</td><td> 1.000000e+00</td><td>6.610696e-05</td><td> 55.97964</td><td> 55.98097</td><td> 1.000000e+00</td></tr>\n",
       "\t<tr><th scope=row>66</th><td>class </td><td>Spirochaetia       </td><td> 114</td><td>9.999339e-01</td><td>  -45.45827</td><td>  -98.69295</td><td> 5.818490e-25</td><td>9.999339e-01</td><td>  -7.005330</td><td> -57.490810</td><td> 9.334191e-24</td><td>9.606431e-01</td><td> 57.12088</td><td> 10.12425</td><td> 3.165997e-22</td></tr>\n",
       "\t<tr><th scope=row>67</th><td>phylum</td><td>Actinobacteria     </td><td> 755</td><td>3.741293e-01</td><td> -534.07795</td><td> -551.94580</td><td> 2.259861e-09</td><td>3.333291e-01</td><td>-250.650265</td><td>-264.788896</td><td> 1.051236e-07</td><td>4.958561e-01</td><td>274.76067</td><td>246.60248</td><td> 6.169964e-14</td></tr>\n",
       "\t<tr><th scope=row>68</th><td>phylum</td><td>Bacteroidetes      </td><td> 963</td><td>4.770656e-01</td><td> -612.45528</td><td> -652.42939</td><td> 3.843507e-19</td><td>6.142097e-01</td><td>-306.784853</td><td>-346.755068</td><td> 3.858694e-19</td><td>6.171801e-01</td><td>452.74652</td><td>380.82257</td><td> 3.835724e-33</td></tr>\n",
       "\t<tr><th scope=row>69</th><td>phylum</td><td>Cyanobacteria      </td><td>  97</td><td>9.999339e-01</td><td> -116.68395</td><td> -150.20062</td><td> 2.669541e-16</td><td>9.999339e-01</td><td> -77.213604</td><td>-110.794672</td><td> 2.500711e-16</td><td>9.999339e-01</td><td>-10.44251</td><td>-43.81395</td><td> 3.093312e-16</td></tr>\n",
       "\t<tr><th scope=row>70</th><td>phylum</td><td>Euryarchaeota      </td><td> 135</td><td>4.468671e-01</td><td> -115.57652</td><td> -117.74128</td><td> 3.745681e-02</td><td>5.544337e-01</td><td> -67.538524</td><td> -69.649571</td><td> 3.990088e-02</td><td>5.011242e-01</td><td> 29.01614</td><td> 19.62265</td><td> 1.461611e-05</td></tr>\n",
       "\t<tr><th scope=row>71</th><td>phylum</td><td>Firmicutes         </td><td> 801</td><td>5.928789e-01</td><td> -553.40540</td><td> -586.90248</td><td> 2.723135e-16</td><td>6.484436e-01</td><td>-263.742441</td><td>-310.854565</td><td> 2.817282e-22</td><td>5.877506e-01</td><td>294.00303</td><td>265.62378</td><td> 4.927565e-14</td></tr>\n",
       "\t<tr><th scope=row>72</th><td>phylum</td><td>Proteobacteria     </td><td>2048</td><td>8.761349e-01</td><td>-1320.49106</td><td>-1618.49644</td><td>1.234507e-131</td><td>8.839489e-01</td><td>-520.917226</td><td>-826.303719</td><td>7.596669e-135</td><td>8.486177e-01</td><td>823.82699</td><td>559.07672</td><td>3.627532e-117</td></tr>\n",
       "\t<tr><th scope=row>73</th><td>phylum</td><td>Spirochaetes       </td><td> 114</td><td>9.999339e-01</td><td>  -45.45827</td><td>  -98.69295</td><td> 5.818490e-25</td><td>9.999339e-01</td><td>  -7.005330</td><td> -57.490810</td><td> 9.334191e-24</td><td>9.606431e-01</td><td> 57.12088</td><td> 10.12425</td><td> 3.165997e-22</td></tr>\n",
       "\t<tr><th scope=row>74</th><td>phylum</td><td>Tenericutes        </td><td> 173</td><td>9.349384e-01</td><td>  -47.28042</td><td> -132.83653</td><td> 4.229127e-39</td><td>8.779442e-01</td><td> -13.953544</td><td> -98.382697</td><td> 1.313799e-38</td><td>7.326820e-01</td><td>120.31349</td><td> 91.13192</td><td> 2.179343e-14</td></tr>\n",
       "</tbody>\n",
       "</table>\n"
      ],
      "text/latex": [
       "A data.frame: 74 × 15\n",
       "\\begin{tabular}{r|lllllllllllllll}\n",
       "  & rank & taxon & count & V.lambda & V.logL & V.logL0 & V.P & S.lambda & S.logL & S.logL0 & S.P & SV.lambda & SV.logL & SV.logL0 & SV.P\\\\\n",
       "  & <chr> & <chr> & <int> & <dbl> & <dbl> & <dbl> & <dbl> & <dbl> & <dbl> & <dbl> & <dbl> & <dbl> & <dbl> & <dbl> & <dbl>\\\\\n",
       "\\hline\n",
       "\t1 & genus  & Flavobacterium      & 119 & 3.740304e-01 &  -88.09643 &  -88.54687 & 3.425428e-01 & 2.062704e-01 &  -45.1430636 &  -45.2212366 & 6.925434e-01 & 5.506170e-01 &  41.90976 &  40.532502 & 9.698069e-02\\\\\n",
       "\t2 & genus  & Halomonas           &  53 & 7.672824e-01 &  -34.71664 &  -35.14984 & 3.519539e-01 & 8.673720e-01 &  -13.2767523 &  -13.8607737 & 2.798038e-01 & 5.020125e-01 &  21.61666 &  21.491163 & 6.163716e-01\\\\\n",
       "\t3 & genus  & Microbacterium      &  55 & 3.036224e-01 &  -45.09428 &  -45.25689 & 5.684879e-01 & 2.699518e-01 &  -24.2642084 &  -24.3283357 & 7.202487e-01 & 3.380626e-01 &  16.74787 &  16.329782 & 3.604904e-01\\\\\n",
       "\t4 & genus  & Mycoplasma          &  73 & 9.999339e-01 &   28.93427 &   28.87850 & 7.384020e-01 & 9.999339e-01 &   66.8160720 &   66.7612937 & 7.406495e-01 & 9.999339e-01 &  94.08451 &  94.027264 & 7.350970e-01\\\\\n",
       "\t5 & genus  & Nocardioides        &  74 & 9.999339e-01 &  -34.60831 &  -35.74271 & 1.320008e-01 & 9.999339e-01 &   -8.7909772 &   -9.8774995 & 1.404479e-01 & 9.999339e-01 &  45.61734 &  44.697746 & 1.750461e-01\\\\\n",
       "\t6 & genus  & Paenibacillus       & 117 & 4.885485e-05 &  -53.87433 &  -53.87420 & 1.000000e+00 & 4.627546e-05 &   -7.0736710 &   -7.0735902 & 1.000000e+00 & 4.273025e-01 &  63.02314 &  63.115946 & 1.000000e+00\\\\\n",
       "\t7 & genus  & Sphingomonas        &  58 & 6.610696e-05 &  -20.86786 &  -20.86747 & 1.000000e+00 & 6.610696e-05 &    1.5110944 &    1.5114746 & 1.000000e+00 & 6.610696e-05 &  39.71881 &  39.719217 & 1.000000e+00\\\\\n",
       "\t8 & family & Acetobacteraceae    &  57 & 6.610696e-05 &  -27.73803 &  -27.73724 & 1.000000e+00 & 6.610696e-05 &   -0.9321196 &   -0.9315129 & 1.000000e+00 & 6.610696e-05 &  23.14402 &  23.144442 & 1.000000e+00\\\\\n",
       "\t9 & family & Bacillaceae         & 239 & 4.490515e-01 & -125.97282 & -140.10044 & 1.063261e-07 & 4.391927e-01 &  -34.6236018 &  -46.6708188 & 9.172504e-07 & 5.248549e-01 & 112.90574 &  93.472406 & 4.537637e-10\\\\\n",
       "\t10 & family & Burkholderiaceae    &  67 & 7.672388e-01 &  -30.13335 &  -36.55199 & 3.397804e-04 & 7.963086e-01 &   -3.8499504 &  -10.8874082 & 1.756711e-04 & 6.783059e-01 &  42.38910 &  37.678229 & 2.144275e-03\\\\\n",
       "\t11 & family & Chitinophagaceae    &  73 & 7.452043e-01 &  -52.65660 &  -53.49044 & 1.965688e-01 & 9.810091e-01 &  -35.0602871 &  -38.6301208 & 7.539714e-03 & 6.610696e-05 &  38.38843 &  38.389079 & 1.000000e+00\\\\\n",
       "\t12 & family & Comamonadaceae      &  68 & 9.999339e-01 &  -39.79207 &  -41.16091 & 9.800778e-02 & 9.999339e-01 &  -11.1514004 &  -12.4969790 & 1.009065e-01 & 9.999339e-01 &  28.66898 &  27.575841 & 1.392456e-01\\\\\n",
       "\t13 & family & Cyclobacteriaceae   &  51 & 6.610696e-05 &  -25.62244 &  -25.62175 & 1.000000e+00 & 6.610696e-05 &   -9.2098737 &   -9.2091741 & 1.000000e+00 & 6.610696e-05 &  33.40705 &  33.407653 & 1.000000e+00\\\\\n",
       "\t14 & family & Flavobacteriaceae   & 437 & 1.968165e-01 & -252.65901 & -254.36277 & 6.489974e-02 & 3.545823e-01 & -112.3659629 & -118.5633267 & 4.305478e-04 & 3.888536e-01 & 220.71119 & 219.084339 & 7.126207e-02\\\\\n",
       "\t15 & family & Halomonadaceae      &  74 & 9.357922e-01 &  -64.72250 &  -69.29704 & 2.488418e-03 & 9.686159e-01 &  -33.9698591 &  -39.1138792 & 1.338952e-03 & 8.469552e-01 &  12.36785 &   9.311234 & 1.341742e-02\\\\\n",
       "\t16 & family & Hymenobacteraceae   &  58 & 3.711622e-01 &  -32.74105 &  -33.20061 & 3.377057e-01 & 5.309755e-01 &  -10.0091102 &  -10.9203769 & 1.770120e-01 & 6.610696e-05 &  30.49235 &  30.492566 & 1.000000e+00\\\\\n",
       "\t17 & family & Lactobacillaceae    &  90 & 6.610696e-05 &  -67.58802 &  -67.58801 & 1.000000e+00 & 8.505648e-02 &  -39.2759744 &  -39.4793028 & 5.236713e-01 & 6.610696e-05 &  39.30827 &  39.308607 & 1.000000e+00\\\\\n",
       "\t18 & family & Microbacteriaceae   & 159 & 7.041137e-01 & -108.85841 & -112.08938 & 1.102093e-02 & 5.740504e-01 &  -48.7124214 &  -50.2222539 & 8.226046e-02 & 8.465246e-01 &  61.31093 &  54.143845 & 1.530612e-04\\\\\n",
       "\t19 & family & Micrococcaceae      &  76 & 2.070272e-01 &  -34.54933 &  -35.02792 & 3.278995e-01 & 2.591178e-01 &   -4.7858958 &   -5.6451475 & 1.898858e-01 & 1.862534e-01 &  46.26297 &  46.011108 & 4.778675e-01\\\\\n",
       "\t20 & family & Mycoplasmataceae    & 113 & 9.999339e-01 &  -18.44782 &  -18.51770 & 7.085241e-01 & 9.999339e-01 &   39.9796288 &   39.9106127 & 7.102451e-01 & 9.999339e-01 &  83.55740 &  83.486395 & 7.062867e-01\\\\\n",
       "\t21 & family & Nocardioidaceae     &  97 & 6.610696e-05 &  -55.22703 &  -55.22616 & 1.000000e+00 & 6.610696e-05 &  -20.0884621 &  -20.0875406 & 1.000000e+00 & 9.999339e-01 &  47.78101 &  47.508184 & 4.600976e-01\\\\\n",
       "\t22 & family & Oxalobacteraceae    &  62 & 4.651742e-01 &  -37.73356 &  -39.80856 & 4.163479e-02 & 5.050824e-01 &   -9.7423327 &  -12.3632404 & 2.205025e-02 & 3.614878e-01 &  22.52498 &  21.482384 & 1.487338e-01\\\\\n",
       "\t23 & family & Paenibacillaceae    & 156 & 4.283002e-02 &  -80.26741 &  -80.40328 & 6.021707e-01 & 1.537744e-02 &  -16.8874162 &  -16.9062603 & 8.460708e-01 & 1.014526e-01 &  75.21569 &  74.721775 & 3.202728e-01\\\\\n",
       "\t24 & family & Rhodobacteraceae    & 123 & 8.654526e-01 &  -45.22505 &  -49.02313 & 5.849299e-03 & 9.419238e-01 &    5.6432014 &   -0.1204802 & 6.857921e-04 & 6.289509e-01 &  75.79603 &  75.237745 & 2.906566e-01\\\\\n",
       "\t25 & family & Roseobacteraceae    & 114 & 4.260760e-01 &  -74.34744 &  -74.20758 & 1.000000e+00 & 6.610696e-05 &  -32.1281426 &  -32.1276761 & 1.000000e+00 & 5.204691e-01 &  49.54300 &  49.381374 & 5.696552e-01\\\\\n",
       "\t26 & family & Sphingobacteriaceae & 122 & 6.610696e-05 &  -76.59113 &  -76.59003 & 1.000000e+00 & 6.610696e-05 &  -34.8616605 &  -34.8611483 & 1.000000e+00 & 6.610696e-05 &  55.97964 &  55.980967 & 1.000000e+00\\\\\n",
       "\t27 & family & Sphingomonadaceae   & 113 & 6.610696e-05 &  -44.52647 &  -44.52587 & 1.000000e+00 & 6.610696e-05 &    1.5972748 &    1.5979219 & 1.000000e+00 & 6.610696e-05 &  71.14515 &  71.145664 & 1.000000e+00\\\\\n",
       "\t28 & family & Weeksellaceae       &  60 & 6.610696e-05 &  -27.76636 &  -27.76522 & 1.000000e+00 & 6.610696e-05 &   -1.9646604 &   -1.9634689 & 1.000000e+00 & 7.679557e-01 &  31.47493 &  31.755063 & 1.000000e+00\\\\\n",
       "\t29 & family & Xanthomonadaceae    &  69 & 6.431556e-01 &  -45.09330 &  -47.05195 & 4.779137e-02 & 7.075909e-01 &  -20.5426396 &  -22.8801885 & 3.060296e-02 & 4.900372e-01 &  32.00971 &  30.631232 & 9.683278e-02\\\\\n",
       "\t30 & order  & Alteromonadales     & 132 & 3.944219e-01 &  -44.65292 &  -51.39064 & 2.417071e-04 & 2.830889e-01 &    5.3586512 &    0.3011500 & 1.470672e-03 & 5.523537e-01 &  91.70116 &  83.376501 & 4.496653e-05\\\\\n",
       "\t⋮ & ⋮ & ⋮ & ⋮ & ⋮ & ⋮ & ⋮ & ⋮ & ⋮ & ⋮ & ⋮ & ⋮ & ⋮ & ⋮ & ⋮ & ⋮\\\\\n",
       "\t45 & order  & Propionibacteriales &  128 & 6.610696e-05 &   -70.54046 &   -70.53900 &  1.000000e+00 & 6.610696e-05 &  -23.857839 &  -23.856548 &  1.000000e+00 & 6.610696e-05 &  61.55751 &  61.55810 &  1.000000e+00\\\\\n",
       "\t46 & order  & Pseudomonadales     &   83 & 6.610696e-05 &   -36.36343 &   -36.36258 &  1.000000e+00 & 6.610696e-05 &   -3.170898 &   -3.170153 &  1.000000e+00 & 6.610696e-05 &  47.29631 &  47.29719 &  1.000000e+00\\\\\n",
       "\t47 & order  & Rhodobacterales     &  237 & 4.250869e-01 &  -124.64036 &  -126.35382 &  6.414197e-02 & 4.246437e-01 &  -34.200796 &  -36.835525 &  2.170277e-02 & 3.207765e-01 & 123.86923 & 123.84247 &  8.170571e-01\\\\\n",
       "\t48 & order  & Rhodospirillales    &  111 & 6.458078e-01 &   -82.15562 &   -86.22059 &  4.354018e-03 & 7.298650e-01 &  -34.008911 &  -40.520286 &  3.077295e-04 & 5.122405e-01 &  26.93216 &  24.26562 &  2.092444e-02\\\\\n",
       "\t49 & order  & Sphingobacteriales  &  122 & 6.610696e-05 &   -76.59113 &   -76.59003 &  1.000000e+00 & 6.610696e-05 &  -34.861660 &  -34.861148 &  1.000000e+00 & 6.610696e-05 &  55.97964 &  55.98097 &  1.000000e+00\\\\\n",
       "\t50 & order  & Sphingomonadales    &  153 & 6.610696e-05 &   -73.06210 &   -73.06046 &  1.000000e+00 & 6.610696e-05 &  -14.371090 &  -14.369442 &  1.000000e+00 & 6.610696e-05 &  87.55468 &  87.55636 &  1.000000e+00\\\\\n",
       "\t51 & order  & Spirochaetales      &   87 & 9.999339e-01 &   -39.49065 &   -62.78618 &  8.745814e-12 & 9.999339e-01 &  -12.714790 &  -40.444415 &  9.541666e-14 & 9.329276e-01 &  39.86381 &  32.63050 &  1.426649e-04\\\\\n",
       "\t52 & order  & Xanthomonadales     &  103 & 5.488682e-01 &   -57.93285 &   -58.34009 &  3.667965e-01 & 6.765419e-01 &  -21.134543 &  -21.948443 &  2.020074e-01 & 3.304422e-01 &  56.04949 &  55.66715 &  3.818723e-01\\\\\n",
       "\t53 & class  & Actinomycetia       &  727 & 4.251627e-01 &  -518.35844 &  -535.06052 &  7.486419e-09 & 3.791907e-01 & -245.171054 & -257.862947 &  4.698503e-07 & 5.516663e-01 & 259.48712 & 231.39394 &  6.591740e-14\\\\\n",
       "\t54 & class  & Alphaproteobacteria &  833 & 7.888671e-01 &  -482.92577 &  -572.01035 &  1.216685e-40 & 7.868030e-01 & -147.457211 & -239.671087 &  5.232699e-42 & 7.576811e-01 & 366.95619 & 290.26232 &  3.151640e-35\\\\\n",
       "\t55 & class  & Bacilli             &  615 & 3.422748e-01 &  -359.68144 &  -378.60095 &  7.682982e-10 & 3.877716e-01 & -136.215488 & -159.755407 &  6.815319e-12 & 4.032987e-01 & 284.01247 & 263.10885 &  1.007299e-10\\\\\n",
       "\t56 & class  & Bacteroidia         &   84 & 1.517847e-01 &   -66.85226 &   -66.64609 &  1.000000e+00 & 9.313851e-02 &  -38.539042 &  -38.522412 &  1.000000e+00 & 9.406448e-01 &  26.46924 &  11.40632 &  4.048990e-08\\\\\n",
       "\t57 & class  & Betaproteobacteria  &  331 & 3.520707e-01 &  -201.41620 &  -208.13123 &  2.476236e-04 & 3.969470e-01 &  -65.686428 &  -72.537031 &  2.143168e-04 & 3.186432e-01 & 142.13886 & 134.59626 &  1.027649e-04\\\\\n",
       "\t58 & class  & Chitinophagia       &   73 & 7.452043e-01 &   -52.65660 &   -53.49044 &  1.965688e-01 & 9.810091e-01 &  -35.060287 &  -38.630121 &  7.539714e-03 & 6.610696e-05 &  38.38843 &  38.38908 &  1.000000e+00\\\\\n",
       "\t59 & class  & Clostridia          &  153 & 4.818528e-05 &  -139.84990 &  -139.84918 &  1.000000e+00 & 6.610696e-05 &  -81.635602 &  -81.634235 &  1.000000e+00 & 5.129571e-01 &  17.20658 &  15.19070 &  4.465139e-02\\\\\n",
       "\t60 & class  & Cytophagia          &  167 & 4.775591e-01 &  -105.74552 &  -119.79116 &  1.157255e-07 & 5.579732e-01 &  -52.817992 &  -65.450743 &  4.995640e-07 & 5.733558e-01 &  84.92772 &  61.69376 &  9.313157e-12\\\\\n",
       "\t61 & class  & Deltaproteobacteria &   91 & 7.683564e-01 &   -55.10237 &   -68.55236 &  2.142629e-07 & 7.363719e-01 &  -21.821275 &  -34.800120 &  3.489828e-07 & 8.500669e-01 &  43.49046 &  30.46751 &  3.333978e-07\\\\\n",
       "\t62 & class  & Flavobacteriia      &  507 & 2.731593e-01 &  -291.23764 &  -293.60668 &  2.950173e-02 & 4.981204e-01 & -125.872647 & -132.090193 &  4.213418e-04 & 4.621767e-01 & 257.28817 & 244.64754 &  4.954995e-07\\\\\n",
       "\t63 & class  & Gammaproteobacteria &  743 & 9.195689e-01 &  -512.15287 &  -673.76715 &  2.868544e-72 & 9.245056e-01 & -233.486915 & -390.300782 &  3.539662e-70 & 9.045851e-01 & 280.77469 & 124.68093 &  7.289419e-70\\\\\n",
       "\t64 & class  & Mollicutes          &  173 & 9.349384e-01 &   -47.28042 &  -132.83653 &  4.229127e-39 & 8.779442e-01 &  -13.953544 &  -98.382697 &  1.313799e-38 & 7.326820e-01 & 120.31349 &  91.13192 &  2.179343e-14\\\\\n",
       "\t65 & class  & Sphingobacteriia    &  122 & 6.610696e-05 &   -76.59113 &   -76.59003 &  1.000000e+00 & 6.610696e-05 &  -34.861660 &  -34.861148 &  1.000000e+00 & 6.610696e-05 &  55.97964 &  55.98097 &  1.000000e+00\\\\\n",
       "\t66 & class  & Spirochaetia        &  114 & 9.999339e-01 &   -45.45827 &   -98.69295 &  5.818490e-25 & 9.999339e-01 &   -7.005330 &  -57.490810 &  9.334191e-24 & 9.606431e-01 &  57.12088 &  10.12425 &  3.165997e-22\\\\\n",
       "\t67 & phylum & Actinobacteria      &  755 & 3.741293e-01 &  -534.07795 &  -551.94580 &  2.259861e-09 & 3.333291e-01 & -250.650265 & -264.788896 &  1.051236e-07 & 4.958561e-01 & 274.76067 & 246.60248 &  6.169964e-14\\\\\n",
       "\t68 & phylum & Bacteroidetes       &  963 & 4.770656e-01 &  -612.45528 &  -652.42939 &  3.843507e-19 & 6.142097e-01 & -306.784853 & -346.755068 &  3.858694e-19 & 6.171801e-01 & 452.74652 & 380.82257 &  3.835724e-33\\\\\n",
       "\t69 & phylum & Cyanobacteria       &   97 & 9.999339e-01 &  -116.68395 &  -150.20062 &  2.669541e-16 & 9.999339e-01 &  -77.213604 & -110.794672 &  2.500711e-16 & 9.999339e-01 & -10.44251 & -43.81395 &  3.093312e-16\\\\\n",
       "\t70 & phylum & Euryarchaeota       &  135 & 4.468671e-01 &  -115.57652 &  -117.74128 &  3.745681e-02 & 5.544337e-01 &  -67.538524 &  -69.649571 &  3.990088e-02 & 5.011242e-01 &  29.01614 &  19.62265 &  1.461611e-05\\\\\n",
       "\t71 & phylum & Firmicutes          &  801 & 5.928789e-01 &  -553.40540 &  -586.90248 &  2.723135e-16 & 6.484436e-01 & -263.742441 & -310.854565 &  2.817282e-22 & 5.877506e-01 & 294.00303 & 265.62378 &  4.927565e-14\\\\\n",
       "\t72 & phylum & Proteobacteria      & 2048 & 8.761349e-01 & -1320.49106 & -1618.49644 & 1.234507e-131 & 8.839489e-01 & -520.917226 & -826.303719 & 7.596669e-135 & 8.486177e-01 & 823.82699 & 559.07672 & 3.627532e-117\\\\\n",
       "\t73 & phylum & Spirochaetes        &  114 & 9.999339e-01 &   -45.45827 &   -98.69295 &  5.818490e-25 & 9.999339e-01 &   -7.005330 &  -57.490810 &  9.334191e-24 & 9.606431e-01 &  57.12088 &  10.12425 &  3.165997e-22\\\\\n",
       "\t74 & phylum & Tenericutes         &  173 & 9.349384e-01 &   -47.28042 &  -132.83653 &  4.229127e-39 & 8.779442e-01 &  -13.953544 &  -98.382697 &  1.313799e-38 & 7.326820e-01 & 120.31349 &  91.13192 &  2.179343e-14\\\\\n",
       "\\end{tabular}\n"
      ],
      "text/markdown": [
       "\n",
       "A data.frame: 74 × 15\n",
       "\n",
       "| <!--/--> | rank &lt;chr&gt; | taxon &lt;chr&gt; | count &lt;int&gt; | V.lambda &lt;dbl&gt; | V.logL &lt;dbl&gt; | V.logL0 &lt;dbl&gt; | V.P &lt;dbl&gt; | S.lambda &lt;dbl&gt; | S.logL &lt;dbl&gt; | S.logL0 &lt;dbl&gt; | S.P &lt;dbl&gt; | SV.lambda &lt;dbl&gt; | SV.logL &lt;dbl&gt; | SV.logL0 &lt;dbl&gt; | SV.P &lt;dbl&gt; |\n",
       "|---|---|---|---|---|---|---|---|---|---|---|---|---|---|---|---|\n",
       "| 1 | genus  | Flavobacterium      | 119 | 3.740304e-01 |  -88.09643 |  -88.54687 | 3.425428e-01 | 2.062704e-01 |  -45.1430636 |  -45.2212366 | 6.925434e-01 | 5.506170e-01 |  41.90976 |  40.532502 | 9.698069e-02 |\n",
       "| 2 | genus  | Halomonas           |  53 | 7.672824e-01 |  -34.71664 |  -35.14984 | 3.519539e-01 | 8.673720e-01 |  -13.2767523 |  -13.8607737 | 2.798038e-01 | 5.020125e-01 |  21.61666 |  21.491163 | 6.163716e-01 |\n",
       "| 3 | genus  | Microbacterium      |  55 | 3.036224e-01 |  -45.09428 |  -45.25689 | 5.684879e-01 | 2.699518e-01 |  -24.2642084 |  -24.3283357 | 7.202487e-01 | 3.380626e-01 |  16.74787 |  16.329782 | 3.604904e-01 |\n",
       "| 4 | genus  | Mycoplasma          |  73 | 9.999339e-01 |   28.93427 |   28.87850 | 7.384020e-01 | 9.999339e-01 |   66.8160720 |   66.7612937 | 7.406495e-01 | 9.999339e-01 |  94.08451 |  94.027264 | 7.350970e-01 |\n",
       "| 5 | genus  | Nocardioides        |  74 | 9.999339e-01 |  -34.60831 |  -35.74271 | 1.320008e-01 | 9.999339e-01 |   -8.7909772 |   -9.8774995 | 1.404479e-01 | 9.999339e-01 |  45.61734 |  44.697746 | 1.750461e-01 |\n",
       "| 6 | genus  | Paenibacillus       | 117 | 4.885485e-05 |  -53.87433 |  -53.87420 | 1.000000e+00 | 4.627546e-05 |   -7.0736710 |   -7.0735902 | 1.000000e+00 | 4.273025e-01 |  63.02314 |  63.115946 | 1.000000e+00 |\n",
       "| 7 | genus  | Sphingomonas        |  58 | 6.610696e-05 |  -20.86786 |  -20.86747 | 1.000000e+00 | 6.610696e-05 |    1.5110944 |    1.5114746 | 1.000000e+00 | 6.610696e-05 |  39.71881 |  39.719217 | 1.000000e+00 |\n",
       "| 8 | family | Acetobacteraceae    |  57 | 6.610696e-05 |  -27.73803 |  -27.73724 | 1.000000e+00 | 6.610696e-05 |   -0.9321196 |   -0.9315129 | 1.000000e+00 | 6.610696e-05 |  23.14402 |  23.144442 | 1.000000e+00 |\n",
       "| 9 | family | Bacillaceae         | 239 | 4.490515e-01 | -125.97282 | -140.10044 | 1.063261e-07 | 4.391927e-01 |  -34.6236018 |  -46.6708188 | 9.172504e-07 | 5.248549e-01 | 112.90574 |  93.472406 | 4.537637e-10 |\n",
       "| 10 | family | Burkholderiaceae    |  67 | 7.672388e-01 |  -30.13335 |  -36.55199 | 3.397804e-04 | 7.963086e-01 |   -3.8499504 |  -10.8874082 | 1.756711e-04 | 6.783059e-01 |  42.38910 |  37.678229 | 2.144275e-03 |\n",
       "| 11 | family | Chitinophagaceae    |  73 | 7.452043e-01 |  -52.65660 |  -53.49044 | 1.965688e-01 | 9.810091e-01 |  -35.0602871 |  -38.6301208 | 7.539714e-03 | 6.610696e-05 |  38.38843 |  38.389079 | 1.000000e+00 |\n",
       "| 12 | family | Comamonadaceae      |  68 | 9.999339e-01 |  -39.79207 |  -41.16091 | 9.800778e-02 | 9.999339e-01 |  -11.1514004 |  -12.4969790 | 1.009065e-01 | 9.999339e-01 |  28.66898 |  27.575841 | 1.392456e-01 |\n",
       "| 13 | family | Cyclobacteriaceae   |  51 | 6.610696e-05 |  -25.62244 |  -25.62175 | 1.000000e+00 | 6.610696e-05 |   -9.2098737 |   -9.2091741 | 1.000000e+00 | 6.610696e-05 |  33.40705 |  33.407653 | 1.000000e+00 |\n",
       "| 14 | family | Flavobacteriaceae   | 437 | 1.968165e-01 | -252.65901 | -254.36277 | 6.489974e-02 | 3.545823e-01 | -112.3659629 | -118.5633267 | 4.305478e-04 | 3.888536e-01 | 220.71119 | 219.084339 | 7.126207e-02 |\n",
       "| 15 | family | Halomonadaceae      |  74 | 9.357922e-01 |  -64.72250 |  -69.29704 | 2.488418e-03 | 9.686159e-01 |  -33.9698591 |  -39.1138792 | 1.338952e-03 | 8.469552e-01 |  12.36785 |   9.311234 | 1.341742e-02 |\n",
       "| 16 | family | Hymenobacteraceae   |  58 | 3.711622e-01 |  -32.74105 |  -33.20061 | 3.377057e-01 | 5.309755e-01 |  -10.0091102 |  -10.9203769 | 1.770120e-01 | 6.610696e-05 |  30.49235 |  30.492566 | 1.000000e+00 |\n",
       "| 17 | family | Lactobacillaceae    |  90 | 6.610696e-05 |  -67.58802 |  -67.58801 | 1.000000e+00 | 8.505648e-02 |  -39.2759744 |  -39.4793028 | 5.236713e-01 | 6.610696e-05 |  39.30827 |  39.308607 | 1.000000e+00 |\n",
       "| 18 | family | Microbacteriaceae   | 159 | 7.041137e-01 | -108.85841 | -112.08938 | 1.102093e-02 | 5.740504e-01 |  -48.7124214 |  -50.2222539 | 8.226046e-02 | 8.465246e-01 |  61.31093 |  54.143845 | 1.530612e-04 |\n",
       "| 19 | family | Micrococcaceae      |  76 | 2.070272e-01 |  -34.54933 |  -35.02792 | 3.278995e-01 | 2.591178e-01 |   -4.7858958 |   -5.6451475 | 1.898858e-01 | 1.862534e-01 |  46.26297 |  46.011108 | 4.778675e-01 |\n",
       "| 20 | family | Mycoplasmataceae    | 113 | 9.999339e-01 |  -18.44782 |  -18.51770 | 7.085241e-01 | 9.999339e-01 |   39.9796288 |   39.9106127 | 7.102451e-01 | 9.999339e-01 |  83.55740 |  83.486395 | 7.062867e-01 |\n",
       "| 21 | family | Nocardioidaceae     |  97 | 6.610696e-05 |  -55.22703 |  -55.22616 | 1.000000e+00 | 6.610696e-05 |  -20.0884621 |  -20.0875406 | 1.000000e+00 | 9.999339e-01 |  47.78101 |  47.508184 | 4.600976e-01 |\n",
       "| 22 | family | Oxalobacteraceae    |  62 | 4.651742e-01 |  -37.73356 |  -39.80856 | 4.163479e-02 | 5.050824e-01 |   -9.7423327 |  -12.3632404 | 2.205025e-02 | 3.614878e-01 |  22.52498 |  21.482384 | 1.487338e-01 |\n",
       "| 23 | family | Paenibacillaceae    | 156 | 4.283002e-02 |  -80.26741 |  -80.40328 | 6.021707e-01 | 1.537744e-02 |  -16.8874162 |  -16.9062603 | 8.460708e-01 | 1.014526e-01 |  75.21569 |  74.721775 | 3.202728e-01 |\n",
       "| 24 | family | Rhodobacteraceae    | 123 | 8.654526e-01 |  -45.22505 |  -49.02313 | 5.849299e-03 | 9.419238e-01 |    5.6432014 |   -0.1204802 | 6.857921e-04 | 6.289509e-01 |  75.79603 |  75.237745 | 2.906566e-01 |\n",
       "| 25 | family | Roseobacteraceae    | 114 | 4.260760e-01 |  -74.34744 |  -74.20758 | 1.000000e+00 | 6.610696e-05 |  -32.1281426 |  -32.1276761 | 1.000000e+00 | 5.204691e-01 |  49.54300 |  49.381374 | 5.696552e-01 |\n",
       "| 26 | family | Sphingobacteriaceae | 122 | 6.610696e-05 |  -76.59113 |  -76.59003 | 1.000000e+00 | 6.610696e-05 |  -34.8616605 |  -34.8611483 | 1.000000e+00 | 6.610696e-05 |  55.97964 |  55.980967 | 1.000000e+00 |\n",
       "| 27 | family | Sphingomonadaceae   | 113 | 6.610696e-05 |  -44.52647 |  -44.52587 | 1.000000e+00 | 6.610696e-05 |    1.5972748 |    1.5979219 | 1.000000e+00 | 6.610696e-05 |  71.14515 |  71.145664 | 1.000000e+00 |\n",
       "| 28 | family | Weeksellaceae       |  60 | 6.610696e-05 |  -27.76636 |  -27.76522 | 1.000000e+00 | 6.610696e-05 |   -1.9646604 |   -1.9634689 | 1.000000e+00 | 7.679557e-01 |  31.47493 |  31.755063 | 1.000000e+00 |\n",
       "| 29 | family | Xanthomonadaceae    |  69 | 6.431556e-01 |  -45.09330 |  -47.05195 | 4.779137e-02 | 7.075909e-01 |  -20.5426396 |  -22.8801885 | 3.060296e-02 | 4.900372e-01 |  32.00971 |  30.631232 | 9.683278e-02 |\n",
       "| 30 | order  | Alteromonadales     | 132 | 3.944219e-01 |  -44.65292 |  -51.39064 | 2.417071e-04 | 2.830889e-01 |    5.3586512 |    0.3011500 | 1.470672e-03 | 5.523537e-01 |  91.70116 |  83.376501 | 4.496653e-05 |\n",
       "| ⋮ | ⋮ | ⋮ | ⋮ | ⋮ | ⋮ | ⋮ | ⋮ | ⋮ | ⋮ | ⋮ | ⋮ | ⋮ | ⋮ | ⋮ | ⋮ |\n",
       "| 45 | order  | Propionibacteriales |  128 | 6.610696e-05 |   -70.54046 |   -70.53900 |  1.000000e+00 | 6.610696e-05 |  -23.857839 |  -23.856548 |  1.000000e+00 | 6.610696e-05 |  61.55751 |  61.55810 |  1.000000e+00 |\n",
       "| 46 | order  | Pseudomonadales     |   83 | 6.610696e-05 |   -36.36343 |   -36.36258 |  1.000000e+00 | 6.610696e-05 |   -3.170898 |   -3.170153 |  1.000000e+00 | 6.610696e-05 |  47.29631 |  47.29719 |  1.000000e+00 |\n",
       "| 47 | order  | Rhodobacterales     |  237 | 4.250869e-01 |  -124.64036 |  -126.35382 |  6.414197e-02 | 4.246437e-01 |  -34.200796 |  -36.835525 |  2.170277e-02 | 3.207765e-01 | 123.86923 | 123.84247 |  8.170571e-01 |\n",
       "| 48 | order  | Rhodospirillales    |  111 | 6.458078e-01 |   -82.15562 |   -86.22059 |  4.354018e-03 | 7.298650e-01 |  -34.008911 |  -40.520286 |  3.077295e-04 | 5.122405e-01 |  26.93216 |  24.26562 |  2.092444e-02 |\n",
       "| 49 | order  | Sphingobacteriales  |  122 | 6.610696e-05 |   -76.59113 |   -76.59003 |  1.000000e+00 | 6.610696e-05 |  -34.861660 |  -34.861148 |  1.000000e+00 | 6.610696e-05 |  55.97964 |  55.98097 |  1.000000e+00 |\n",
       "| 50 | order  | Sphingomonadales    |  153 | 6.610696e-05 |   -73.06210 |   -73.06046 |  1.000000e+00 | 6.610696e-05 |  -14.371090 |  -14.369442 |  1.000000e+00 | 6.610696e-05 |  87.55468 |  87.55636 |  1.000000e+00 |\n",
       "| 51 | order  | Spirochaetales      |   87 | 9.999339e-01 |   -39.49065 |   -62.78618 |  8.745814e-12 | 9.999339e-01 |  -12.714790 |  -40.444415 |  9.541666e-14 | 9.329276e-01 |  39.86381 |  32.63050 |  1.426649e-04 |\n",
       "| 52 | order  | Xanthomonadales     |  103 | 5.488682e-01 |   -57.93285 |   -58.34009 |  3.667965e-01 | 6.765419e-01 |  -21.134543 |  -21.948443 |  2.020074e-01 | 3.304422e-01 |  56.04949 |  55.66715 |  3.818723e-01 |\n",
       "| 53 | class  | Actinomycetia       |  727 | 4.251627e-01 |  -518.35844 |  -535.06052 |  7.486419e-09 | 3.791907e-01 | -245.171054 | -257.862947 |  4.698503e-07 | 5.516663e-01 | 259.48712 | 231.39394 |  6.591740e-14 |\n",
       "| 54 | class  | Alphaproteobacteria |  833 | 7.888671e-01 |  -482.92577 |  -572.01035 |  1.216685e-40 | 7.868030e-01 | -147.457211 | -239.671087 |  5.232699e-42 | 7.576811e-01 | 366.95619 | 290.26232 |  3.151640e-35 |\n",
       "| 55 | class  | Bacilli             |  615 | 3.422748e-01 |  -359.68144 |  -378.60095 |  7.682982e-10 | 3.877716e-01 | -136.215488 | -159.755407 |  6.815319e-12 | 4.032987e-01 | 284.01247 | 263.10885 |  1.007299e-10 |\n",
       "| 56 | class  | Bacteroidia         |   84 | 1.517847e-01 |   -66.85226 |   -66.64609 |  1.000000e+00 | 9.313851e-02 |  -38.539042 |  -38.522412 |  1.000000e+00 | 9.406448e-01 |  26.46924 |  11.40632 |  4.048990e-08 |\n",
       "| 57 | class  | Betaproteobacteria  |  331 | 3.520707e-01 |  -201.41620 |  -208.13123 |  2.476236e-04 | 3.969470e-01 |  -65.686428 |  -72.537031 |  2.143168e-04 | 3.186432e-01 | 142.13886 | 134.59626 |  1.027649e-04 |\n",
       "| 58 | class  | Chitinophagia       |   73 | 7.452043e-01 |   -52.65660 |   -53.49044 |  1.965688e-01 | 9.810091e-01 |  -35.060287 |  -38.630121 |  7.539714e-03 | 6.610696e-05 |  38.38843 |  38.38908 |  1.000000e+00 |\n",
       "| 59 | class  | Clostridia          |  153 | 4.818528e-05 |  -139.84990 |  -139.84918 |  1.000000e+00 | 6.610696e-05 |  -81.635602 |  -81.634235 |  1.000000e+00 | 5.129571e-01 |  17.20658 |  15.19070 |  4.465139e-02 |\n",
       "| 60 | class  | Cytophagia          |  167 | 4.775591e-01 |  -105.74552 |  -119.79116 |  1.157255e-07 | 5.579732e-01 |  -52.817992 |  -65.450743 |  4.995640e-07 | 5.733558e-01 |  84.92772 |  61.69376 |  9.313157e-12 |\n",
       "| 61 | class  | Deltaproteobacteria |   91 | 7.683564e-01 |   -55.10237 |   -68.55236 |  2.142629e-07 | 7.363719e-01 |  -21.821275 |  -34.800120 |  3.489828e-07 | 8.500669e-01 |  43.49046 |  30.46751 |  3.333978e-07 |\n",
       "| 62 | class  | Flavobacteriia      |  507 | 2.731593e-01 |  -291.23764 |  -293.60668 |  2.950173e-02 | 4.981204e-01 | -125.872647 | -132.090193 |  4.213418e-04 | 4.621767e-01 | 257.28817 | 244.64754 |  4.954995e-07 |\n",
       "| 63 | class  | Gammaproteobacteria |  743 | 9.195689e-01 |  -512.15287 |  -673.76715 |  2.868544e-72 | 9.245056e-01 | -233.486915 | -390.300782 |  3.539662e-70 | 9.045851e-01 | 280.77469 | 124.68093 |  7.289419e-70 |\n",
       "| 64 | class  | Mollicutes          |  173 | 9.349384e-01 |   -47.28042 |  -132.83653 |  4.229127e-39 | 8.779442e-01 |  -13.953544 |  -98.382697 |  1.313799e-38 | 7.326820e-01 | 120.31349 |  91.13192 |  2.179343e-14 |\n",
       "| 65 | class  | Sphingobacteriia    |  122 | 6.610696e-05 |   -76.59113 |   -76.59003 |  1.000000e+00 | 6.610696e-05 |  -34.861660 |  -34.861148 |  1.000000e+00 | 6.610696e-05 |  55.97964 |  55.98097 |  1.000000e+00 |\n",
       "| 66 | class  | Spirochaetia        |  114 | 9.999339e-01 |   -45.45827 |   -98.69295 |  5.818490e-25 | 9.999339e-01 |   -7.005330 |  -57.490810 |  9.334191e-24 | 9.606431e-01 |  57.12088 |  10.12425 |  3.165997e-22 |\n",
       "| 67 | phylum | Actinobacteria      |  755 | 3.741293e-01 |  -534.07795 |  -551.94580 |  2.259861e-09 | 3.333291e-01 | -250.650265 | -264.788896 |  1.051236e-07 | 4.958561e-01 | 274.76067 | 246.60248 |  6.169964e-14 |\n",
       "| 68 | phylum | Bacteroidetes       |  963 | 4.770656e-01 |  -612.45528 |  -652.42939 |  3.843507e-19 | 6.142097e-01 | -306.784853 | -346.755068 |  3.858694e-19 | 6.171801e-01 | 452.74652 | 380.82257 |  3.835724e-33 |\n",
       "| 69 | phylum | Cyanobacteria       |   97 | 9.999339e-01 |  -116.68395 |  -150.20062 |  2.669541e-16 | 9.999339e-01 |  -77.213604 | -110.794672 |  2.500711e-16 | 9.999339e-01 | -10.44251 | -43.81395 |  3.093312e-16 |\n",
       "| 70 | phylum | Euryarchaeota       |  135 | 4.468671e-01 |  -115.57652 |  -117.74128 |  3.745681e-02 | 5.544337e-01 |  -67.538524 |  -69.649571 |  3.990088e-02 | 5.011242e-01 |  29.01614 |  19.62265 |  1.461611e-05 |\n",
       "| 71 | phylum | Firmicutes          |  801 | 5.928789e-01 |  -553.40540 |  -586.90248 |  2.723135e-16 | 6.484436e-01 | -263.742441 | -310.854565 |  2.817282e-22 | 5.877506e-01 | 294.00303 | 265.62378 |  4.927565e-14 |\n",
       "| 72 | phylum | Proteobacteria      | 2048 | 8.761349e-01 | -1320.49106 | -1618.49644 | 1.234507e-131 | 8.839489e-01 | -520.917226 | -826.303719 | 7.596669e-135 | 8.486177e-01 | 823.82699 | 559.07672 | 3.627532e-117 |\n",
       "| 73 | phylum | Spirochaetes        |  114 | 9.999339e-01 |   -45.45827 |   -98.69295 |  5.818490e-25 | 9.999339e-01 |   -7.005330 |  -57.490810 |  9.334191e-24 | 9.606431e-01 |  57.12088 |  10.12425 |  3.165997e-22 |\n",
       "| 74 | phylum | Tenericutes         |  173 | 9.349384e-01 |   -47.28042 |  -132.83653 |  4.229127e-39 | 8.779442e-01 |  -13.953544 |  -98.382697 |  1.313799e-38 | 7.326820e-01 | 120.31349 |  91.13192 |  2.179343e-14 |\n",
       "\n"
      ],
      "text/plain": [
       "   rank   taxon               count V.lambda     V.logL      V.logL0    \n",
       "1  genus  Flavobacterium      119   3.740304e-01  -88.09643   -88.54687 \n",
       "2  genus  Halomonas            53   7.672824e-01  -34.71664   -35.14984 \n",
       "3  genus  Microbacterium       55   3.036224e-01  -45.09428   -45.25689 \n",
       "4  genus  Mycoplasma           73   9.999339e-01   28.93427    28.87850 \n",
       "5  genus  Nocardioides         74   9.999339e-01  -34.60831   -35.74271 \n",
       "6  genus  Paenibacillus       117   4.885485e-05  -53.87433   -53.87420 \n",
       "7  genus  Sphingomonas         58   6.610696e-05  -20.86786   -20.86747 \n",
       "8  family Acetobacteraceae     57   6.610696e-05  -27.73803   -27.73724 \n",
       "9  family Bacillaceae         239   4.490515e-01 -125.97282  -140.10044 \n",
       "10 family Burkholderiaceae     67   7.672388e-01  -30.13335   -36.55199 \n",
       "11 family Chitinophagaceae     73   7.452043e-01  -52.65660   -53.49044 \n",
       "12 family Comamonadaceae       68   9.999339e-01  -39.79207   -41.16091 \n",
       "13 family Cyclobacteriaceae    51   6.610696e-05  -25.62244   -25.62175 \n",
       "14 family Flavobacteriaceae   437   1.968165e-01 -252.65901  -254.36277 \n",
       "15 family Halomonadaceae       74   9.357922e-01  -64.72250   -69.29704 \n",
       "16 family Hymenobacteraceae    58   3.711622e-01  -32.74105   -33.20061 \n",
       "17 family Lactobacillaceae     90   6.610696e-05  -67.58802   -67.58801 \n",
       "18 family Microbacteriaceae   159   7.041137e-01 -108.85841  -112.08938 \n",
       "19 family Micrococcaceae       76   2.070272e-01  -34.54933   -35.02792 \n",
       "20 family Mycoplasmataceae    113   9.999339e-01  -18.44782   -18.51770 \n",
       "21 family Nocardioidaceae      97   6.610696e-05  -55.22703   -55.22616 \n",
       "22 family Oxalobacteraceae     62   4.651742e-01  -37.73356   -39.80856 \n",
       "23 family Paenibacillaceae    156   4.283002e-02  -80.26741   -80.40328 \n",
       "24 family Rhodobacteraceae    123   8.654526e-01  -45.22505   -49.02313 \n",
       "25 family Roseobacteraceae    114   4.260760e-01  -74.34744   -74.20758 \n",
       "26 family Sphingobacteriaceae 122   6.610696e-05  -76.59113   -76.59003 \n",
       "27 family Sphingomonadaceae   113   6.610696e-05  -44.52647   -44.52587 \n",
       "28 family Weeksellaceae        60   6.610696e-05  -27.76636   -27.76522 \n",
       "29 family Xanthomonadaceae     69   6.431556e-01  -45.09330   -47.05195 \n",
       "30 order  Alteromonadales     132   3.944219e-01  -44.65292   -51.39064 \n",
       "⋮  ⋮      ⋮                   ⋮     ⋮            ⋮           ⋮          \n",
       "45 order  Propionibacteriales  128  6.610696e-05   -70.54046   -70.53900\n",
       "46 order  Pseudomonadales       83  6.610696e-05   -36.36343   -36.36258\n",
       "47 order  Rhodobacterales      237  4.250869e-01  -124.64036  -126.35382\n",
       "48 order  Rhodospirillales     111  6.458078e-01   -82.15562   -86.22059\n",
       "49 order  Sphingobacteriales   122  6.610696e-05   -76.59113   -76.59003\n",
       "50 order  Sphingomonadales     153  6.610696e-05   -73.06210   -73.06046\n",
       "51 order  Spirochaetales        87  9.999339e-01   -39.49065   -62.78618\n",
       "52 order  Xanthomonadales      103  5.488682e-01   -57.93285   -58.34009\n",
       "53 class  Actinomycetia        727  4.251627e-01  -518.35844  -535.06052\n",
       "54 class  Alphaproteobacteria  833  7.888671e-01  -482.92577  -572.01035\n",
       "55 class  Bacilli              615  3.422748e-01  -359.68144  -378.60095\n",
       "56 class  Bacteroidia           84  1.517847e-01   -66.85226   -66.64609\n",
       "57 class  Betaproteobacteria   331  3.520707e-01  -201.41620  -208.13123\n",
       "58 class  Chitinophagia         73  7.452043e-01   -52.65660   -53.49044\n",
       "59 class  Clostridia           153  4.818528e-05  -139.84990  -139.84918\n",
       "60 class  Cytophagia           167  4.775591e-01  -105.74552  -119.79116\n",
       "61 class  Deltaproteobacteria   91  7.683564e-01   -55.10237   -68.55236\n",
       "62 class  Flavobacteriia       507  2.731593e-01  -291.23764  -293.60668\n",
       "63 class  Gammaproteobacteria  743  9.195689e-01  -512.15287  -673.76715\n",
       "64 class  Mollicutes           173  9.349384e-01   -47.28042  -132.83653\n",
       "65 class  Sphingobacteriia     122  6.610696e-05   -76.59113   -76.59003\n",
       "66 class  Spirochaetia         114  9.999339e-01   -45.45827   -98.69295\n",
       "67 phylum Actinobacteria       755  3.741293e-01  -534.07795  -551.94580\n",
       "68 phylum Bacteroidetes        963  4.770656e-01  -612.45528  -652.42939\n",
       "69 phylum Cyanobacteria         97  9.999339e-01  -116.68395  -150.20062\n",
       "70 phylum Euryarchaeota        135  4.468671e-01  -115.57652  -117.74128\n",
       "71 phylum Firmicutes           801  5.928789e-01  -553.40540  -586.90248\n",
       "72 phylum Proteobacteria      2048  8.761349e-01 -1320.49106 -1618.49644\n",
       "73 phylum Spirochaetes         114  9.999339e-01   -45.45827   -98.69295\n",
       "74 phylum Tenericutes          173  9.349384e-01   -47.28042  -132.83653\n",
       "   V.P           S.lambda     S.logL       S.logL0      S.P          \n",
       "1  3.425428e-01  2.062704e-01  -45.1430636  -45.2212366 6.925434e-01 \n",
       "2  3.519539e-01  8.673720e-01  -13.2767523  -13.8607737 2.798038e-01 \n",
       "3  5.684879e-01  2.699518e-01  -24.2642084  -24.3283357 7.202487e-01 \n",
       "4  7.384020e-01  9.999339e-01   66.8160720   66.7612937 7.406495e-01 \n",
       "5  1.320008e-01  9.999339e-01   -8.7909772   -9.8774995 1.404479e-01 \n",
       "6  1.000000e+00  4.627546e-05   -7.0736710   -7.0735902 1.000000e+00 \n",
       "7  1.000000e+00  6.610696e-05    1.5110944    1.5114746 1.000000e+00 \n",
       "8  1.000000e+00  6.610696e-05   -0.9321196   -0.9315129 1.000000e+00 \n",
       "9  1.063261e-07  4.391927e-01  -34.6236018  -46.6708188 9.172504e-07 \n",
       "10 3.397804e-04  7.963086e-01   -3.8499504  -10.8874082 1.756711e-04 \n",
       "11 1.965688e-01  9.810091e-01  -35.0602871  -38.6301208 7.539714e-03 \n",
       "12 9.800778e-02  9.999339e-01  -11.1514004  -12.4969790 1.009065e-01 \n",
       "13 1.000000e+00  6.610696e-05   -9.2098737   -9.2091741 1.000000e+00 \n",
       "14 6.489974e-02  3.545823e-01 -112.3659629 -118.5633267 4.305478e-04 \n",
       "15 2.488418e-03  9.686159e-01  -33.9698591  -39.1138792 1.338952e-03 \n",
       "16 3.377057e-01  5.309755e-01  -10.0091102  -10.9203769 1.770120e-01 \n",
       "17 1.000000e+00  8.505648e-02  -39.2759744  -39.4793028 5.236713e-01 \n",
       "18 1.102093e-02  5.740504e-01  -48.7124214  -50.2222539 8.226046e-02 \n",
       "19 3.278995e-01  2.591178e-01   -4.7858958   -5.6451475 1.898858e-01 \n",
       "20 7.085241e-01  9.999339e-01   39.9796288   39.9106127 7.102451e-01 \n",
       "21 1.000000e+00  6.610696e-05  -20.0884621  -20.0875406 1.000000e+00 \n",
       "22 4.163479e-02  5.050824e-01   -9.7423327  -12.3632404 2.205025e-02 \n",
       "23 6.021707e-01  1.537744e-02  -16.8874162  -16.9062603 8.460708e-01 \n",
       "24 5.849299e-03  9.419238e-01    5.6432014   -0.1204802 6.857921e-04 \n",
       "25 1.000000e+00  6.610696e-05  -32.1281426  -32.1276761 1.000000e+00 \n",
       "26 1.000000e+00  6.610696e-05  -34.8616605  -34.8611483 1.000000e+00 \n",
       "27 1.000000e+00  6.610696e-05    1.5972748    1.5979219 1.000000e+00 \n",
       "28 1.000000e+00  6.610696e-05   -1.9646604   -1.9634689 1.000000e+00 \n",
       "29 4.779137e-02  7.075909e-01  -20.5426396  -22.8801885 3.060296e-02 \n",
       "30 2.417071e-04  2.830889e-01    5.3586512    0.3011500 1.470672e-03 \n",
       "⋮  ⋮             ⋮            ⋮            ⋮            ⋮            \n",
       "45  1.000000e+00 6.610696e-05  -23.857839   -23.856548   1.000000e+00\n",
       "46  1.000000e+00 6.610696e-05   -3.170898    -3.170153   1.000000e+00\n",
       "47  6.414197e-02 4.246437e-01  -34.200796   -36.835525   2.170277e-02\n",
       "48  4.354018e-03 7.298650e-01  -34.008911   -40.520286   3.077295e-04\n",
       "49  1.000000e+00 6.610696e-05  -34.861660   -34.861148   1.000000e+00\n",
       "50  1.000000e+00 6.610696e-05  -14.371090   -14.369442   1.000000e+00\n",
       "51  8.745814e-12 9.999339e-01  -12.714790   -40.444415   9.541666e-14\n",
       "52  3.667965e-01 6.765419e-01  -21.134543   -21.948443   2.020074e-01\n",
       "53  7.486419e-09 3.791907e-01 -245.171054  -257.862947   4.698503e-07\n",
       "54  1.216685e-40 7.868030e-01 -147.457211  -239.671087   5.232699e-42\n",
       "55  7.682982e-10 3.877716e-01 -136.215488  -159.755407   6.815319e-12\n",
       "56  1.000000e+00 9.313851e-02  -38.539042   -38.522412   1.000000e+00\n",
       "57  2.476236e-04 3.969470e-01  -65.686428   -72.537031   2.143168e-04\n",
       "58  1.965688e-01 9.810091e-01  -35.060287   -38.630121   7.539714e-03\n",
       "59  1.000000e+00 6.610696e-05  -81.635602   -81.634235   1.000000e+00\n",
       "60  1.157255e-07 5.579732e-01  -52.817992   -65.450743   4.995640e-07\n",
       "61  2.142629e-07 7.363719e-01  -21.821275   -34.800120   3.489828e-07\n",
       "62  2.950173e-02 4.981204e-01 -125.872647  -132.090193   4.213418e-04\n",
       "63  2.868544e-72 9.245056e-01 -233.486915  -390.300782   3.539662e-70\n",
       "64  4.229127e-39 8.779442e-01  -13.953544   -98.382697   1.313799e-38\n",
       "65  1.000000e+00 6.610696e-05  -34.861660   -34.861148   1.000000e+00\n",
       "66  5.818490e-25 9.999339e-01   -7.005330   -57.490810   9.334191e-24\n",
       "67  2.259861e-09 3.333291e-01 -250.650265  -264.788896   1.051236e-07\n",
       "68  3.843507e-19 6.142097e-01 -306.784853  -346.755068   3.858694e-19\n",
       "69  2.669541e-16 9.999339e-01  -77.213604  -110.794672   2.500711e-16\n",
       "70  3.745681e-02 5.544337e-01  -67.538524   -69.649571   3.990088e-02\n",
       "71  2.723135e-16 6.484436e-01 -263.742441  -310.854565   2.817282e-22\n",
       "72 1.234507e-131 8.839489e-01 -520.917226  -826.303719  7.596669e-135\n",
       "73  5.818490e-25 9.999339e-01   -7.005330   -57.490810   9.334191e-24\n",
       "74  4.229127e-39 8.779442e-01  -13.953544   -98.382697   1.313799e-38\n",
       "   SV.lambda    SV.logL   SV.logL0   SV.P         \n",
       "1  5.506170e-01  41.90976  40.532502 9.698069e-02 \n",
       "2  5.020125e-01  21.61666  21.491163 6.163716e-01 \n",
       "3  3.380626e-01  16.74787  16.329782 3.604904e-01 \n",
       "4  9.999339e-01  94.08451  94.027264 7.350970e-01 \n",
       "5  9.999339e-01  45.61734  44.697746 1.750461e-01 \n",
       "6  4.273025e-01  63.02314  63.115946 1.000000e+00 \n",
       "7  6.610696e-05  39.71881  39.719217 1.000000e+00 \n",
       "8  6.610696e-05  23.14402  23.144442 1.000000e+00 \n",
       "9  5.248549e-01 112.90574  93.472406 4.537637e-10 \n",
       "10 6.783059e-01  42.38910  37.678229 2.144275e-03 \n",
       "11 6.610696e-05  38.38843  38.389079 1.000000e+00 \n",
       "12 9.999339e-01  28.66898  27.575841 1.392456e-01 \n",
       "13 6.610696e-05  33.40705  33.407653 1.000000e+00 \n",
       "14 3.888536e-01 220.71119 219.084339 7.126207e-02 \n",
       "15 8.469552e-01  12.36785   9.311234 1.341742e-02 \n",
       "16 6.610696e-05  30.49235  30.492566 1.000000e+00 \n",
       "17 6.610696e-05  39.30827  39.308607 1.000000e+00 \n",
       "18 8.465246e-01  61.31093  54.143845 1.530612e-04 \n",
       "19 1.862534e-01  46.26297  46.011108 4.778675e-01 \n",
       "20 9.999339e-01  83.55740  83.486395 7.062867e-01 \n",
       "21 9.999339e-01  47.78101  47.508184 4.600976e-01 \n",
       "22 3.614878e-01  22.52498  21.482384 1.487338e-01 \n",
       "23 1.014526e-01  75.21569  74.721775 3.202728e-01 \n",
       "24 6.289509e-01  75.79603  75.237745 2.906566e-01 \n",
       "25 5.204691e-01  49.54300  49.381374 5.696552e-01 \n",
       "26 6.610696e-05  55.97964  55.980967 1.000000e+00 \n",
       "27 6.610696e-05  71.14515  71.145664 1.000000e+00 \n",
       "28 7.679557e-01  31.47493  31.755063 1.000000e+00 \n",
       "29 4.900372e-01  32.00971  30.631232 9.683278e-02 \n",
       "30 5.523537e-01  91.70116  83.376501 4.496653e-05 \n",
       "⋮  ⋮            ⋮         ⋮          ⋮            \n",
       "45 6.610696e-05  61.55751  61.55810   1.000000e+00\n",
       "46 6.610696e-05  47.29631  47.29719   1.000000e+00\n",
       "47 3.207765e-01 123.86923 123.84247   8.170571e-01\n",
       "48 5.122405e-01  26.93216  24.26562   2.092444e-02\n",
       "49 6.610696e-05  55.97964  55.98097   1.000000e+00\n",
       "50 6.610696e-05  87.55468  87.55636   1.000000e+00\n",
       "51 9.329276e-01  39.86381  32.63050   1.426649e-04\n",
       "52 3.304422e-01  56.04949  55.66715   3.818723e-01\n",
       "53 5.516663e-01 259.48712 231.39394   6.591740e-14\n",
       "54 7.576811e-01 366.95619 290.26232   3.151640e-35\n",
       "55 4.032987e-01 284.01247 263.10885   1.007299e-10\n",
       "56 9.406448e-01  26.46924  11.40632   4.048990e-08\n",
       "57 3.186432e-01 142.13886 134.59626   1.027649e-04\n",
       "58 6.610696e-05  38.38843  38.38908   1.000000e+00\n",
       "59 5.129571e-01  17.20658  15.19070   4.465139e-02\n",
       "60 5.733558e-01  84.92772  61.69376   9.313157e-12\n",
       "61 8.500669e-01  43.49046  30.46751   3.333978e-07\n",
       "62 4.621767e-01 257.28817 244.64754   4.954995e-07\n",
       "63 9.045851e-01 280.77469 124.68093   7.289419e-70\n",
       "64 7.326820e-01 120.31349  91.13192   2.179343e-14\n",
       "65 6.610696e-05  55.97964  55.98097   1.000000e+00\n",
       "66 9.606431e-01  57.12088  10.12425   3.165997e-22\n",
       "67 4.958561e-01 274.76067 246.60248   6.169964e-14\n",
       "68 6.171801e-01 452.74652 380.82257   3.835724e-33\n",
       "69 9.999339e-01 -10.44251 -43.81395   3.093312e-16\n",
       "70 5.011242e-01  29.01614  19.62265   1.461611e-05\n",
       "71 5.877506e-01 294.00303 265.62378   4.927565e-14\n",
       "72 8.486177e-01 823.82699 559.07672  3.627532e-117\n",
       "73 9.606431e-01  57.12088  10.12425   3.165997e-22\n",
       "74 7.326820e-01 120.31349  91.13192   2.179343e-14"
      ]
     },
     "metadata": {},
     "output_type": "display_data"
    }
   ],
   "source": [
    "df"
   ]
  },
  {
   "cell_type": "code",
   "execution_count": 144,
   "metadata": {},
   "outputs": [],
   "source": [
    "write.table(df, \"physig/groups.tsv\", sep=\"\\t\", quote=FALSE)"
   ]
  },
  {
   "cell_type": "code",
   "execution_count": 145,
   "metadata": {
    "scrolled": false
   },
   "outputs": [
    {
     "data": {
      "text/html": [
       "<table class=\"dataframe\">\n",
       "<caption>A data.frame: 74 × 21</caption>\n",
       "<thead>\n",
       "\t<tr><th></th><th scope=col>rank</th><th scope=col>taxon</th><th scope=col>count</th><th scope=col>V.lambda</th><th scope=col>V.pval0</th><th scope=col>V.pval1</th><th scope=col>V.sigsq</th><th scope=col>V.sigsq_unb</th><th scope=col>V.lnL</th><th scope=col>S.lambda</th><th scope=col>⋯</th><th scope=col>S.pval1</th><th scope=col>S.sigsq</th><th scope=col>S.sigsq_unb</th><th scope=col>S.lnL</th><th scope=col>SV.lambda</th><th scope=col>SV.pval0</th><th scope=col>SV.pval1</th><th scope=col>SV.sigsq</th><th scope=col>SV.sigsq_unb</th><th scope=col>SV.lnL</th></tr>\n",
       "\t<tr><th></th><th scope=col>&lt;chr&gt;</th><th scope=col>&lt;chr&gt;</th><th scope=col>&lt;int&gt;</th><th scope=col>&lt;dbl&gt;</th><th scope=col>&lt;dbl&gt;</th><th scope=col>&lt;dbl&gt;</th><th scope=col>&lt;dbl&gt;</th><th scope=col>&lt;dbl&gt;</th><th scope=col>&lt;dbl&gt;</th><th scope=col>&lt;dbl&gt;</th><th scope=col>⋯</th><th scope=col>&lt;dbl&gt;</th><th scope=col>&lt;dbl&gt;</th><th scope=col>&lt;dbl&gt;</th><th scope=col>&lt;dbl&gt;</th><th scope=col>&lt;dbl&gt;</th><th scope=col>&lt;dbl&gt;</th><th scope=col>&lt;dbl&gt;</th><th scope=col>&lt;dbl&gt;</th><th scope=col>&lt;dbl&gt;</th><th scope=col>&lt;dbl&gt;</th></tr>\n",
       "</thead>\n",
       "<tbody>\n",
       "\t<tr><th scope=row>1</th><td>genus </td><td>Flavobacterium     </td><td>119</td><td> 3.740349e-01</td><td>3.425428e-01</td><td>1.887271e-03</td><td>1.36540889</td><td>1.37698016</td><td> -88.09643</td><td> 2.062669e-01</td><td>⋯</td><td>5.822430e-04</td><td>0.65836704</td><td>0.66394642</td><td> -45.1430636</td><td> 5.506144e-01</td><td>9.698069e-02</td><td>1.649344e-02</td><td>0.155319821</td><td>0.156636090</td><td> 41.90976</td></tr>\n",
       "\t<tr><th scope=row>2</th><td>genus </td><td>Halomonas          </td><td> 53</td><td> 7.672872e-01</td><td>3.519539e-01</td><td>5.401727e-01</td><td>1.36020204</td><td>1.38635977</td><td> -34.71664</td><td> 8.673693e-01</td><td>⋯</td><td>7.271666e-01</td><td>0.60875236</td><td>0.62045913</td><td> -13.2767523</td><td> 5.020315e-01</td><td>6.163716e-01</td><td>2.487983e-01</td><td>0.160766207</td><td>0.163857865</td><td> 21.61666</td></tr>\n",
       "\t<tr><th scope=row>3</th><td>genus </td><td>Microbacterium     </td><td> 55</td><td> 3.036205e-01</td><td>5.684879e-01</td><td>7.919656e-02</td><td>1.30599228</td><td>1.33017732</td><td> -45.09428</td><td> 2.699590e-01</td><td>⋯</td><td>1.068832e-01</td><td>0.61098034</td><td>0.62229479</td><td> -24.2642084</td><td> 3.380621e-01</td><td>3.604904e-01</td><td>4.517328e-02</td><td>0.138149409</td><td>0.140707732</td><td> 16.74787</td></tr>\n",
       "\t<tr><th scope=row>4</th><td>genus </td><td>Mycoplasma         </td><td> 73</td><td> 1.000000e+00</td><td>7.383855e-01</td><td>1.000000e+00</td><td>0.04092482</td><td>0.04149322</td><td>  28.93428</td><td> 1.000000e+00</td><td>⋯</td><td>1.000000e+00</td><td>0.01449609</td><td>0.01469743</td><td>  66.8160792</td><td> 1.000000e+00</td><td>7.350806e-01</td><td>1.000000e+00</td><td>0.006867491</td><td>0.006962873</td><td> 94.08451</td></tr>\n",
       "\t<tr><th scope=row>5</th><td>genus </td><td>Nocardioides       </td><td> 74</td><td> 1.000000e+00</td><td>1.319907e-01</td><td>1.000000e+00</td><td>0.78137437</td><td>0.79207813</td><td> -34.60825</td><td> 1.000000e+00</td><td>⋯</td><td>1.000000e+00</td><td>0.38888695</td><td>0.39421417</td><td>  -8.7909212</td><td> 1.000000e+00</td><td>1.750348e-01</td><td>1.000000e+00</td><td>0.089370797</td><td>0.090595055</td><td> 45.61739</td></tr>\n",
       "\t<tr><th scope=row>6</th><td>genus </td><td>Paenibacillus      </td><td>117</td><td>1.177756e-204</td><td>9.999999e-01</td><td>2.224049e-04</td><td>0.49026590</td><td>0.49449233</td><td> -53.87420</td><td> 2.166414e-17</td><td>⋯</td><td>6.366530e-05</td><td>0.22028837</td><td>0.22218741</td><td>  -7.0735902</td><td> 1.868696e-29</td><td>9.999996e-01</td><td>1.669734e-02</td><td>0.066361452</td><td>0.066933533</td><td> 63.11595</td></tr>\n",
       "\t<tr><th scope=row>7</th><td>genus </td><td>Sphingomonas       </td><td> 58</td><td> 1.356359e-82</td><td>9.999999e-01</td><td>8.961419e-02</td><td>0.49860957</td><td>0.50735711</td><td> -20.86747</td><td>5.652433e-125</td><td>⋯</td><td>1.090941e-01</td><td>0.23047343</td><td>0.23451682</td><td>   1.5114746</td><td> 3.586340e-63</td><td>9.999998e-01</td><td>5.899299e-02</td><td>0.061721185</td><td>0.062804012</td><td> 39.71922</td></tr>\n",
       "\t<tr><th scope=row>8</th><td>family</td><td>Acetobacteraceae   </td><td> 57</td><td>3.099522e-158</td><td>9.999999e-01</td><td>5.556346e-04</td><td>0.48644683</td><td>0.49513338</td><td> -27.73724</td><td>1.270268e-203</td><td>⋯</td><td>1.276489e-02</td><td>0.18991486</td><td>0.19330620</td><td>  -0.9315129</td><td>8.048860e-202</td><td>9.999999e-01</td><td>1.243671e-05</td><td>0.081598063</td><td>0.083055171</td><td> 23.14444</td></tr>\n",
       "\t<tr><th scope=row>9</th><td>family</td><td>Bacillaceae        </td><td>239</td><td> 4.490535e-01</td><td>1.063261e-07</td><td>3.811975e-30</td><td>0.53203840</td><td>0.53427386</td><td>-125.97282</td><td> 4.391935e-01</td><td>⋯</td><td>9.727263e-29</td><td>0.24558611</td><td>0.24661798</td><td> -34.6236018</td><td> 5.248490e-01</td><td>4.537637e-10</td><td>2.221993e-27</td><td>0.077332499</td><td>0.077657425</td><td>112.90574</td></tr>\n",
       "\t<tr><th scope=row>10</th><td>family</td><td>Burkholderiaceae   </td><td> 67</td><td> 7.672347e-01</td><td>3.397804e-04</td><td>1.823912e-02</td><td>0.75556313</td><td>0.76701106</td><td> -30.13335</td><td> 7.963239e-01</td><td>⋯</td><td>2.545560e-02</td><td>0.35934265</td><td>0.36478724</td><td>  -3.8499504</td><td> 6.783171e-01</td><td>2.144275e-03</td><td>8.242922e-03</td><td>0.077417356</td><td>0.078590346</td><td> 42.38910</td></tr>\n",
       "\t<tr><th scope=row>11</th><td>family</td><td>Chitinophagaceae   </td><td> 73</td><td> 7.452037e-01</td><td>1.965688e-01</td><td>1.945460e-02</td><td>1.03509125</td><td>1.04946751</td><td> -52.65660</td><td> 9.809960e-01</td><td>⋯</td><td>3.876208e-01</td><td>0.84322100</td><td>0.85493240</td><td> -35.0602870</td><td>2.455281e-210</td><td>9.999998e-01</td><td>6.972642e-08</td><td>0.064670313</td><td>0.065568512</td><td> 38.38908</td></tr>\n",
       "\t<tr><th scope=row>12</th><td>family</td><td>Comamonadaceae     </td><td> 68</td><td> 1.000000e+00</td><td>9.797755e-02</td><td>1.000000e+00</td><td>1.36706818</td><td>1.38747218</td><td> -39.79183</td><td> 1.000000e+00</td><td>⋯</td><td>1.000000e+00</td><td>0.58877875</td><td>0.59756650</td><td> -11.1511387</td><td> 1.000000e+00</td><td>1.392205e-01</td><td>1.000000e+00</td><td>0.182521228</td><td>0.185245425</td><td> 28.66912</td></tr>\n",
       "\t<tr><th scope=row>13</th><td>family</td><td>Cyclobacteriaceae  </td><td> 51</td><td> 1.312438e-53</td><td>1.000000e+00</td><td>4.014288e-03</td><td>0.57993450</td><td>0.59153319</td><td> -25.62175</td><td>2.279315e-159</td><td>⋯</td><td>1.254384e-03</td><td>0.30468695</td><td>0.31078069</td><td>  -9.2091741</td><td> 2.091061e-65</td><td>9.999998e-01</td><td>1.020587e-01</td><td>0.057284881</td><td>0.058430578</td><td> 33.40765</td></tr>\n",
       "\t<tr><th scope=row>14</th><td>family</td><td>Flavobacteriaceae  </td><td>437</td><td> 1.968170e-01</td><td>6.489974e-02</td><td>3.580877e-10</td><td>0.57415285</td><td>0.57546972</td><td>-252.65901</td><td> 3.545925e-01</td><td>⋯</td><td>5.819087e-09</td><td>0.32980842</td><td>0.33056486</td><td>-112.3659629</td><td> 3.888732e-01</td><td>7.126207e-02</td><td>7.838698e-10</td><td>0.073356975</td><td>0.073525225</td><td>220.71119</td></tr>\n",
       "\t<tr><th scope=row>15</th><td>family</td><td>Halomonadaceae     </td><td> 74</td><td> 9.357873e-01</td><td>2.488418e-03</td><td>6.688059e-01</td><td>1.89265349</td><td>1.91858025</td><td> -64.72250</td><td> 9.686189e-01</td><td>⋯</td><td>8.292833e-01</td><td>0.84488081</td><td>0.85645452</td><td> -33.9698591</td><td> 8.469718e-01</td><td>1.341742e-02</td><td>3.684278e-01</td><td>0.221645969</td><td>0.224682215</td><td> 12.36785</td></tr>\n",
       "\t<tr><th scope=row>16</th><td>family</td><td>Hymenobacteraceae  </td><td> 58</td><td> 3.711464e-01</td><td>3.377057e-01</td><td>2.428294e-01</td><td>0.75152882</td><td>0.76471354</td><td> -32.74105</td><td> 5.309723e-01</td><td>⋯</td><td>3.303075e-01</td><td>0.37368558</td><td>0.38024147</td><td> -10.0091102</td><td>3.886072e-176</td><td>9.999998e-01</td><td>5.955587e-02</td><td>0.074697496</td><td>0.076007979</td><td> 30.49257</td></tr>\n",
       "\t<tr><th scope=row>17</th><td>family</td><td>Lactobacillaceae   </td><td> 90</td><td> 3.052742e-80</td><td>1.000000e+00</td><td>1.690554e-04</td><td>0.74537469</td><td>0.75374969</td><td> -67.58801</td><td> 8.507043e-02</td><td>⋯</td><td>4.175443e-04</td><td>0.40061547</td><td>0.40511677</td><td> -39.2759744</td><td> 3.905705e-86</td><td>9.999999e-01</td><td>9.643722e-05</td><td>0.069297355</td><td>0.070075977</td><td> 39.30861</td></tr>\n",
       "\t<tr><th scope=row>18</th><td>family</td><td>Microbacteriaceae  </td><td>159</td><td> 7.041088e-01</td><td>1.102093e-02</td><td>7.145849e-03</td><td>0.85848345</td><td>0.86391689</td><td>-108.85841</td><td> 5.740430e-01</td><td>⋯</td><td>1.759046e-03</td><td>0.36961016</td><td>0.37194947</td><td> -48.7124214</td><td> 8.465218e-01</td><td>1.530612e-04</td><td>7.101436e-02</td><td>0.113160975</td><td>0.113877184</td><td> 61.31093</td></tr>\n",
       "\t<tr><th scope=row>19</th><td>family</td><td>Micrococcaceae     </td><td> 76</td><td> 2.070158e-01</td><td>3.278995e-01</td><td>5.017241e-04</td><td>0.52710938</td><td>0.53413750</td><td> -34.54933</td><td> 2.591079e-01</td><td>⋯</td><td>3.190957e-04</td><td>0.24541903</td><td>0.24869128</td><td>  -4.7858958</td><td> 1.862636e-01</td><td>4.778675e-01</td><td>2.740147e-03</td><td>0.062413896</td><td>0.063246082</td><td> 46.26297</td></tr>\n",
       "\t<tr><th scope=row>20</th><td>family</td><td>Mycoplasmataceae   </td><td>113</td><td> 1.000000e+00</td><td>7.085082e-01</td><td>1.000000e+00</td><td>0.12534899</td><td>0.12646818</td><td> -18.44781</td><td> 1.000000e+00</td><td>⋯</td><td>1.000000e+00</td><td>0.04456673</td><td>0.04496465</td><td>  39.9796368</td><td> 1.000000e+00</td><td>7.062708e-01</td><td>1.000000e+00</td><td>0.020608418</td><td>0.020792422</td><td> 83.55741</td></tr>\n",
       "\t<tr><th scope=row>21</th><td>family</td><td>Nocardioidaceae    </td><td> 97</td><td>2.371164e-216</td><td>9.999999e-01</td><td>1.897838e-01</td><td>0.63636016</td><td>0.64298891</td><td> -55.22616</td><td> 1.055952e-16</td><td>⋯</td><td>1.045545e-01</td><td>0.30835667</td><td>0.31156872</td><td> -20.0875406</td><td> 1.000000e+00</td><td>4.600817e-01</td><td>1.000000e+00</td><td>0.108871113</td><td>0.110005187</td><td> 47.78103</td></tr>\n",
       "\t<tr><th scope=row>22</th><td>family</td><td>Oxalobacteraceae   </td><td> 62</td><td> 4.651588e-01</td><td>4.163479e-02</td><td>1.369188e-01</td><td>1.07318609</td><td>1.09077931</td><td> -37.73356</td><td> 5.050943e-01</td><td>⋯</td><td>1.815283e-01</td><td>0.44293013</td><td>0.45019128</td><td>  -9.7423327</td><td> 3.615036e-01</td><td>1.487338e-01</td><td>6.810358e-02</td><td>0.147129174</td><td>0.149541127</td><td> 22.52498</td></tr>\n",
       "\t<tr><th scope=row>23</th><td>family</td><td>Paenibacillaceae   </td><td>156</td><td> 4.282281e-02</td><td>6.021707e-01</td><td>1.494750e-07</td><td>0.55468692</td><td>0.55826555</td><td> -80.26741</td><td> 1.536500e-02</td><td>⋯</td><td>2.485742e-08</td><td>0.24580994</td><td>0.24739581</td><td> -16.8874162</td><td> 1.014509e-01</td><td>3.202728e-01</td><td>5.260442e-05</td><td>0.075918613</td><td>0.076408411</td><td> 75.21569</td></tr>\n",
       "\t<tr><th scope=row>24</th><td>family</td><td>Rhodobacteraceae   </td><td>123</td><td> 8.654547e-01</td><td>5.849299e-03</td><td>1.491216e-01</td><td>0.60712340</td><td>0.61209982</td><td> -45.22505</td><td> 9.419351e-01</td><td>⋯</td><td>4.772218e-01</td><td>0.28177109</td><td>0.28408069</td><td>   5.6432014</td><td> 6.289562e-01</td><td>2.906566e-01</td><td>9.313847e-03</td><td>0.073224452</td><td>0.073824653</td><td> 75.79603</td></tr>\n",
       "\t<tr><th scope=row>25</th><td>family</td><td>Roseobacteraceae   </td><td>114</td><td>1.801351e-209</td><td>1.000000e+00</td><td>3.578945e-02</td><td>0.96073345</td><td>0.96923551</td><td> -74.20758</td><td>1.827199e-188</td><td>⋯</td><td>5.482502e-03</td><td>0.45918496</td><td>0.46324855</td><td> -32.1276761</td><td> 5.204497e-01</td><td>5.696552e-01</td><td>2.209332e-01</td><td>0.131680962</td><td>0.132846280</td><td> 49.54300</td></tr>\n",
       "\t<tr><th scope=row>26</th><td>family</td><td>Sphingobacteriaceae</td><td>122</td><td>1.059480e-217</td><td>9.999999e-01</td><td>1.841095e-06</td><td>0.60169072</td><td>0.60666337</td><td> -76.59003</td><td>2.820260e-145</td><td>⋯</td><td>8.400084e-05</td><td>0.30358555</td><td>0.30609452</td><td> -34.8611483</td><td>9.754588e-218</td><td>9.999998e-01</td><td>8.410920e-08</td><td>0.068473612</td><td>0.069039510</td><td> 55.98097</td></tr>\n",
       "\t<tr><th scope=row>27</th><td>family</td><td>Sphingomonadaceae  </td><td>113</td><td>6.084281e-216</td><td>9.999999e-01</td><td>9.444032e-03</td><td>0.50406968</td><td>0.50857030</td><td> -44.52587</td><td> 1.954175e-71</td><td>⋯</td><td>1.972789e-02</td><td>0.22281997</td><td>0.22480944</td><td>   1.5979219</td><td> 7.846687e-16</td><td>9.999997e-01</td><td>3.276702e-03</td><td>0.065067855</td><td>0.065648818</td><td> 71.14566</td></tr>\n",
       "\t<tr><th scope=row>28</th><td>family</td><td>Weeksellaceae      </td><td> 60</td><td> 3.694029e-84</td><td>9.999999e-01</td><td>6.224436e-04</td><td>0.38939212</td><td>0.39599199</td><td> -27.76522</td><td>4.127279e-206</td><td>⋯</td><td>4.919339e-05</td><td>0.16476634</td><td>0.16755899</td><td>  -1.9634689</td><td> 1.193652e-51</td><td>9.999998e-01</td><td>8.803845e-02</td><td>0.053547940</td><td>0.054455532</td><td> 31.75506</td></tr>\n",
       "\t<tr><th scope=row>29</th><td>family</td><td>Xanthomonadaceae   </td><td> 69</td><td> 6.431589e-01</td><td>4.779137e-02</td><td>7.990154e-04</td><td>1.18147607</td><td>1.19885072</td><td> -45.09330</td><td> 7.075973e-01</td><td>⋯</td><td>2.778661e-03</td><td>0.60210412</td><td>0.61095860</td><td> -20.5426396</td><td> 4.900279e-01</td><td>9.683278e-02</td><td>1.224385e-04</td><td>0.116753916</td><td>0.118470886</td><td> 32.00971</td></tr>\n",
       "\t<tr><th scope=row>30</th><td>order </td><td>Alteromonadales    </td><td>132</td><td> 3.944190e-01</td><td>2.417071e-04</td><td>1.502466e-03</td><td>0.43315717</td><td>0.43646371</td><td> -44.65292</td><td> 2.830701e-01</td><td>⋯</td><td>1.110668e-04</td><td>0.19448600</td><td>0.19597063</td><td>   5.3586512</td><td> 5.523698e-01</td><td>4.496653e-05</td><td>1.649885e-02</td><td>0.059015114</td><td>0.059465611</td><td> 91.70116</td></tr>\n",
       "\t<tr><th scope=row>⋮</th><td>⋮</td><td>⋮</td><td>⋮</td><td>⋮</td><td>⋮</td><td>⋮</td><td>⋮</td><td>⋮</td><td>⋮</td><td>⋮</td><td>⋱</td><td>⋮</td><td>⋮</td><td>⋮</td><td>⋮</td><td>⋮</td><td>⋮</td><td>⋮</td><td>⋮</td><td>⋮</td><td>⋮</td></tr>\n",
       "\t<tr><th scope=row>45</th><td>order </td><td>Propionibacteriales</td><td> 128</td><td>1.083750e-217</td><td> 9.999999e-01</td><td>2.413255e-06</td><td>0.5654565</td><td>0.5699089</td><td>  -70.53900</td><td> 8.372303e-98</td><td>⋯</td><td>1.304369e-06</td><td>0.2726585</td><td>0.2748054</td><td> -23.856548</td><td> 6.995875e-16</td><td> 9.999997e-01</td><td>2.332181e-04</td><td>0.07178075</td><td>0.07234595</td><td> 61.55810</td></tr>\n",
       "\t<tr><th scope=row>46</th><td>order </td><td>Pseudomonadales    </td><td>  83</td><td>2.583911e-216</td><td> 1.000000e+00</td><td>4.576397e-03</td><td>0.4240520</td><td>0.4292234</td><td>  -36.36258</td><td>1.615611e-105</td><td>⋯</td><td>4.135725e-02</td><td>0.1905736</td><td>0.1928977</td><td>  -3.170153</td><td> 4.113867e-16</td><td> 9.999998e-01</td><td>6.104181e-05</td><td>0.05648403</td><td>0.05717286</td><td> 47.29719</td></tr>\n",
       "\t<tr><th scope=row>47</th><td>order </td><td>Rhodobacterales    </td><td> 237</td><td> 4.251020e-01</td><td> 6.414197e-02</td><td>3.076871e-05</td><td>0.6650239</td><td>0.6678417</td><td> -124.64036</td><td> 4.246513e-01</td><td>⋯</td><td>4.247011e-06</td><td>0.3099317</td><td>0.3112450</td><td> -34.200796</td><td> 3.207731e-01</td><td> 8.170571e-01</td><td>5.885752e-05</td><td>0.07702878</td><td>0.07735517</td><td>123.86923</td></tr>\n",
       "\t<tr><th scope=row>48</th><td>order </td><td>Rhodospirillales   </td><td> 111</td><td> 6.458109e-01</td><td> 4.354018e-03</td><td>3.941106e-03</td><td>0.9525971</td><td>0.9612570</td><td>  -82.15562</td><td> 7.298652e-01</td><td>⋯</td><td>1.853777e-02</td><td>0.4229782</td><td>0.4268234</td><td> -34.008911</td><td> 5.122436e-01</td><td> 2.092444e-02</td><td>1.451218e-04</td><td>0.12367414</td><td>0.12479845</td><td> 26.93216</td></tr>\n",
       "\t<tr><th scope=row>49</th><td>order </td><td>Sphingobacteriales </td><td> 122</td><td>4.215663e-131</td><td> 9.999999e-01</td><td>1.841095e-06</td><td>0.6016907</td><td>0.6066634</td><td>  -76.59003</td><td>2.036042e-210</td><td>⋯</td><td>8.400084e-05</td><td>0.3035856</td><td>0.3060945</td><td> -34.861148</td><td> 5.793487e-24</td><td> 9.999999e-01</td><td>8.410920e-08</td><td>0.06847361</td><td>0.06903951</td><td> 55.98097</td></tr>\n",
       "\t<tr><th scope=row>50</th><td>order </td><td>Sphingomonadales   </td><td> 153</td><td> 5.347313e-39</td><td> 9.999999e-01</td><td>2.014749e-04</td><td>0.4884531</td><td>0.4916666</td><td>  -73.06046</td><td> 1.913780e-61</td><td>⋯</td><td>2.267865e-04</td><td>0.2267936</td><td>0.2282857</td><td> -14.369442</td><td>5.075585e-179</td><td> 9.999997e-01</td><td>1.734047e-04</td><td>0.05984016</td><td>0.06023385</td><td> 87.55636</td></tr>\n",
       "\t<tr><th scope=row>51</th><td>order </td><td>Spirochaetales     </td><td>  87</td><td> 1.000000e+00</td><td> 8.661524e-12</td><td>1.000000e+00</td><td>0.7142802</td><td>0.7225858</td><td>  -39.48116</td><td> 1.000000e+00</td><td>⋯</td><td>1.000000e+00</td><td>0.3859734</td><td>0.3904615</td><td> -12.706609</td><td> 9.329411e-01</td><td> 1.426649e-04</td><td>1.816358e-01</td><td>0.08913041</td><td>0.09016681</td><td> 39.86381</td></tr>\n",
       "\t<tr><th scope=row>52</th><td>order </td><td>Xanthomonadales    </td><td> 103</td><td> 5.488569e-01</td><td> 3.667965e-01</td><td>1.182604e-04</td><td>0.8663377</td><td>0.8748312</td><td>  -57.93285</td><td> 6.765304e-01</td><td>⋯</td><td>7.036114e-04</td><td>0.4636818</td><td>0.4682277</td><td> -21.134543</td><td> 3.304419e-01</td><td> 3.818723e-01</td><td>8.709751e-06</td><td>0.08345844</td><td>0.08427666</td><td> 56.04949</td></tr>\n",
       "\t<tr><th scope=row>53</th><td>class </td><td>Actinomycetia      </td><td> 727</td><td> 4.251595e-01</td><td> 7.486419e-09</td><td>6.850436e-23</td><td>0.4371771</td><td>0.4377793</td><td> -518.35844</td><td> 3.791899e-01</td><td>⋯</td><td>5.304971e-23</td><td>0.1969654</td><td>0.1972367</td><td>-245.171054</td><td> 5.516621e-01</td><td> 6.591740e-14</td><td>2.704286e-20</td><td>0.05925454</td><td>0.05933616</td><td>259.48712</td></tr>\n",
       "\t<tr><th scope=row>54</th><td>class </td><td>Alphaproteobacteria</td><td> 833</td><td> 7.888711e-01</td><td> 1.216685e-40</td><td>3.209287e-10</td><td>0.6878216</td><td>0.6886483</td><td> -482.92577</td><td> 7.868129e-01</td><td>⋯</td><td>3.592958e-11</td><td>0.3063076</td><td>0.3066757</td><td>-147.457211</td><td> 7.576778e-01</td><td> 3.151640e-35</td><td>6.071437e-11</td><td>0.08491808</td><td>0.08502014</td><td>366.95619</td></tr>\n",
       "\t<tr><th scope=row>55</th><td>class </td><td>Bacilli            </td><td> 615</td><td> 3.422785e-01</td><td> 7.682982e-10</td><td>4.456667e-53</td><td>0.4819866</td><td>0.4827716</td><td> -359.68144</td><td> 3.877662e-01</td><td>⋯</td><td>1.988236e-49</td><td>0.2400929</td><td>0.2404839</td><td>-136.215488</td><td> 4.032943e-01</td><td> 1.007299e-10</td><td>1.476294e-49</td><td>0.06186812</td><td>0.06196888</td><td>284.01247</td></tr>\n",
       "\t<tr><th scope=row>56</th><td>class </td><td>Bacteroidia        </td><td>  84</td><td>1.154023e-217</td><td> 9.999999e-01</td><td>2.033583e-03</td><td>0.5532010</td><td>0.5598661</td><td>  -66.64609</td><td> 1.299205e-64</td><td>⋯</td><td>7.582919e-04</td><td>0.2831878</td><td>0.2865997</td><td> -38.522412</td><td> 9.406588e-01</td><td> 4.048990e-08</td><td>3.675203e-01</td><td>0.14535293</td><td>0.14710417</td><td> 26.46924</td></tr>\n",
       "\t<tr><th scope=row>57</th><td>class </td><td>Betaproteobacteria </td><td> 331</td><td> 3.520611e-01</td><td> 2.476236e-04</td><td>6.416780e-09</td><td>0.6711806</td><td>0.6732145</td><td> -201.41620</td><td> 3.969345e-01</td><td>⋯</td><td>1.808885e-08</td><td>0.3052556</td><td>0.3061806</td><td> -65.686428</td><td> 3.186506e-01</td><td> 1.027649e-04</td><td>3.126564e-09</td><td>0.08230145</td><td>0.08255085</td><td>142.13886</td></tr>\n",
       "\t<tr><th scope=row>58</th><td>class </td><td>Chitinophagia      </td><td>  73</td><td> 7.452037e-01</td><td> 1.965688e-01</td><td>1.945460e-02</td><td>1.0350912</td><td>1.0494675</td><td>  -52.65660</td><td> 9.809960e-01</td><td>⋯</td><td>3.876208e-01</td><td>0.8432210</td><td>0.8549324</td><td> -35.060287</td><td>9.493997e-195</td><td> 9.999999e-01</td><td>6.972642e-08</td><td>0.06467031</td><td>0.06556851</td><td> 38.38908</td></tr>\n",
       "\t<tr><th scope=row>59</th><td>class </td><td>Clostridia         </td><td> 153</td><td> 2.242452e-16</td><td> 1.000000e+00</td><td>6.166843e-09</td><td>0.6484744</td><td>0.6527407</td><td> -139.84918</td><td>1.719307e-203</td><td>⋯</td><td>2.603850e-09</td><td>0.3029727</td><td>0.3049660</td><td> -81.634235</td><td> 5.129547e-01</td><td> 4.465139e-02</td><td>5.590626e-07</td><td>0.10108458</td><td>0.10174961</td><td> 17.20658</td></tr>\n",
       "\t<tr><th scope=row>60</th><td>class </td><td>Cytophagia         </td><td> 167</td><td> 4.775610e-01</td><td> 1.157255e-07</td><td>4.999571e-04</td><td>0.7851337</td><td>0.7898635</td><td> -105.74552</td><td> 5.579711e-01</td><td>⋯</td><td>7.833442e-04</td><td>0.4396131</td><td>0.4422614</td><td> -52.817992</td><td> 5.733691e-01</td><td> 9.313157e-12</td><td>4.058759e-03</td><td>0.08538740</td><td>0.08590178</td><td> 84.92772</td></tr>\n",
       "\t<tr><th scope=row>61</th><td>class </td><td>Deltaproteobacteria</td><td>  91</td><td> 7.683481e-01</td><td> 2.142629e-07</td><td>5.468018e-02</td><td>0.4816370</td><td>0.4869885</td><td>  -55.10237</td><td> 7.363514e-01</td><td>⋯</td><td>3.522884e-02</td><td>0.2250156</td><td>0.2275158</td><td> -21.821275</td><td> 8.500895e-01</td><td> 3.333978e-07</td><td>1.759508e-01</td><td>0.05999199</td><td>0.06065857</td><td> 43.49046</td></tr>\n",
       "\t<tr><th scope=row>62</th><td>class </td><td>Flavobacteriia     </td><td> 507</td><td> 2.731736e-01</td><td> 2.950173e-02</td><td>3.575599e-12</td><td>0.4828518</td><td>0.4838061</td><td> -291.23764</td><td> 4.981292e-01</td><td>⋯</td><td>1.139521e-10</td><td>0.2998606</td><td>0.3004532</td><td>-125.872647</td><td> 4.621626e-01</td><td> 4.954995e-07</td><td>2.434887e-11</td><td>0.06410020</td><td>0.06422688</td><td>257.28817</td></tr>\n",
       "\t<tr><th scope=row>63</th><td>class </td><td>Gammaproteobacteria</td><td> 743</td><td> 9.195738e-01</td><td> 2.868544e-72</td><td>4.445278e-10</td><td>1.1351732</td><td>1.1367031</td><td> -512.15287</td><td> 9.244952e-01</td><td>⋯</td><td>4.223915e-09</td><td>0.5421625</td><td>0.5428932</td><td>-233.486915</td><td> 9.045640e-01</td><td> 7.289419e-70</td><td>1.268963e-11</td><td>0.12998148</td><td>0.13015666</td><td>280.77469</td></tr>\n",
       "\t<tr><th scope=row>64</th><td>class </td><td>Mollicutes         </td><td> 173</td><td> 9.349221e-01</td><td> 4.229127e-39</td><td>4.926423e-01</td><td>0.1901576</td><td>0.1912632</td><td>  -47.28042</td><td> 8.779399e-01</td><td>⋯</td><td>1.352434e-01</td><td>0.1239876</td><td>0.1247085</td><td> -13.953544</td><td> 7.326643e-01</td><td> 2.179343e-14</td><td>6.995532e-02</td><td>0.02396835</td><td>0.02410770</td><td>120.31349</td></tr>\n",
       "\t<tr><th scope=row>65</th><td>class </td><td>Sphingobacteriia   </td><td> 122</td><td> 3.243856e-26</td><td> 9.999999e-01</td><td>1.841095e-06</td><td>0.6016907</td><td>0.6066634</td><td>  -76.59003</td><td>1.775941e-215</td><td>⋯</td><td>8.400084e-05</td><td>0.3035856</td><td>0.3060945</td><td> -34.861148</td><td>1.331565e-104</td><td> 9.999998e-01</td><td>8.410920e-08</td><td>0.06847361</td><td>0.06903951</td><td> 55.98097</td></tr>\n",
       "\t<tr><th scope=row>66</th><td>class </td><td>Spirochaetia       </td><td> 114</td><td> 1.000000e+00</td><td> 5.741912e-25</td><td>1.000000e+00</td><td>0.6700755</td><td>0.6760054</td><td>  -45.44514</td><td> 1.000000e+00</td><td>⋯</td><td>1.000000e+00</td><td>0.3413142</td><td>0.3443347</td><td>  -6.993685</td><td> 9.606515e-01</td><td> 3.165997e-22</td><td>3.331758e-01</td><td>0.08807131</td><td>0.08885071</td><td> 57.12088</td></tr>\n",
       "\t<tr><th scope=row>67</th><td>phylum</td><td>Actinobacteria     </td><td> 755</td><td> 3.741286e-01</td><td> 2.259861e-09</td><td>2.087584e-26</td><td>0.4123612</td><td>0.4129081</td><td> -534.07795</td><td> 3.333268e-01</td><td>⋯</td><td>2.520102e-26</td><td>0.1874585</td><td>0.1877071</td><td>-250.650265</td><td> 4.958440e-01</td><td> 6.169964e-14</td><td>7.998179e-24</td><td>0.05479867</td><td>0.05487134</td><td>274.76067</td></tr>\n",
       "\t<tr><th scope=row>68</th><td>phylum</td><td>Bacteroidetes      </td><td> 963</td><td> 4.770727e-01</td><td> 3.843507e-19</td><td>7.037099e-23</td><td>0.4516932</td><td>0.4521627</td><td> -612.45528</td><td> 6.141953e-01</td><td>⋯</td><td>1.266759e-18</td><td>0.2818001</td><td>0.2820930</td><td>-306.784853</td><td> 6.171689e-01</td><td> 3.835724e-33</td><td>1.665934e-23</td><td>0.05842269</td><td>0.05848342</td><td>452.74652</td></tr>\n",
       "\t<tr><th scope=row>69</th><td>phylum</td><td>Cyanobacteria      </td><td>  97</td><td> 1.000000e+00</td><td> 2.634288e-16</td><td>1.000000e+00</td><td>4.6820116</td><td>4.7307825</td><td> -116.67085</td><td> 1.000000e+00</td><td>⋯</td><td>1.000000e+00</td><td>2.0748864</td><td>2.0964998</td><td> -77.200509</td><td> 1.000000e+00</td><td> 3.052397e-16</td><td>1.000000e+00</td><td>0.52370970</td><td>0.52916501</td><td>-10.42939</td></tr>\n",
       "\t<tr><th scope=row>70</th><td>phylum</td><td>Euryarchaeota      </td><td> 135</td><td> 4.468712e-01</td><td> 3.745681e-02</td><td>4.753052e-11</td><td>0.5374475</td><td>0.5414583</td><td> -115.57652</td><td> 5.544258e-01</td><td>⋯</td><td>7.963069e-10</td><td>0.2916473</td><td>0.2938238</td><td> -67.538524</td><td> 5.011210e-01</td><td> 1.461611e-05</td><td>3.688049e-10</td><td>0.06623984</td><td>0.06673416</td><td> 29.01614</td></tr>\n",
       "\t<tr><th scope=row>71</th><td>phylum</td><td>Firmicutes         </td><td> 801</td><td> 5.928946e-01</td><td> 2.723135e-16</td><td>1.073506e-53</td><td>0.5796221</td><td>0.5803467</td><td> -553.40540</td><td> 6.484463e-01</td><td>⋯</td><td>2.808098e-49</td><td>0.2982270</td><td>0.2985998</td><td>-263.742441</td><td> 5.877489e-01</td><td> 4.927565e-14</td><td>7.850967e-52</td><td>0.06949892</td><td>0.06958579</td><td>294.00303</td></tr>\n",
       "\t<tr><th scope=row>72</th><td>phylum</td><td>Proteobacteria     </td><td>2048</td><td> 8.761491e-01</td><td>1.234507e-131</td><td>4.442299e-29</td><td>0.8497263</td><td>0.8501414</td><td>-1320.49106</td><td> 8.839444e-01</td><td>⋯</td><td>9.356356e-28</td><td>0.3969455</td><td>0.3971395</td><td>-520.917226</td><td> 8.486147e-01</td><td>3.627532e-117</td><td>1.261166e-32</td><td>0.09800613</td><td>0.09805400</td><td>823.82699</td></tr>\n",
       "\t<tr><th scope=row>73</th><td>phylum</td><td>Spirochaetes       </td><td> 114</td><td> 1.000000e+00</td><td> 5.741912e-25</td><td>1.000000e+00</td><td>0.6700755</td><td>0.6760054</td><td>  -45.44514</td><td> 1.000000e+00</td><td>⋯</td><td>1.000000e+00</td><td>0.3413142</td><td>0.3443347</td><td>  -6.993685</td><td> 9.606455e-01</td><td> 3.165997e-22</td><td>3.331758e-01</td><td>0.08807234</td><td>0.08885174</td><td> 57.12088</td></tr>\n",
       "\t<tr><th scope=row>74</th><td>phylum</td><td>Tenericutes        </td><td> 173</td><td> 9.349221e-01</td><td> 4.229127e-39</td><td>4.926423e-01</td><td>0.1901576</td><td>0.1912632</td><td>  -47.28042</td><td> 8.779399e-01</td><td>⋯</td><td>1.352434e-01</td><td>0.1239876</td><td>0.1247085</td><td> -13.953544</td><td> 7.326643e-01</td><td> 2.179343e-14</td><td>6.995532e-02</td><td>0.02396835</td><td>0.02410770</td><td>120.31349</td></tr>\n",
       "</tbody>\n",
       "</table>\n"
      ],
      "text/latex": [
       "A data.frame: 74 × 21\n",
       "\\begin{tabular}{r|lllllllllllllllllllll}\n",
       "  & rank & taxon & count & V.lambda & V.pval0 & V.pval1 & V.sigsq & V.sigsq\\_unb & V.lnL & S.lambda & ⋯ & S.pval1 & S.sigsq & S.sigsq\\_unb & S.lnL & SV.lambda & SV.pval0 & SV.pval1 & SV.sigsq & SV.sigsq\\_unb & SV.lnL\\\\\n",
       "  & <chr> & <chr> & <int> & <dbl> & <dbl> & <dbl> & <dbl> & <dbl> & <dbl> & <dbl> & ⋯ & <dbl> & <dbl> & <dbl> & <dbl> & <dbl> & <dbl> & <dbl> & <dbl> & <dbl> & <dbl>\\\\\n",
       "\\hline\n",
       "\t1 & genus  & Flavobacterium      & 119 &  3.740349e-01 & 3.425428e-01 & 1.887271e-03 & 1.36540889 & 1.37698016 &  -88.09643 &  2.062669e-01 & ⋯ & 5.822430e-04 & 0.65836704 & 0.66394642 &  -45.1430636 &  5.506144e-01 & 9.698069e-02 & 1.649344e-02 & 0.155319821 & 0.156636090 &  41.90976\\\\\n",
       "\t2 & genus  & Halomonas           &  53 &  7.672872e-01 & 3.519539e-01 & 5.401727e-01 & 1.36020204 & 1.38635977 &  -34.71664 &  8.673693e-01 & ⋯ & 7.271666e-01 & 0.60875236 & 0.62045913 &  -13.2767523 &  5.020315e-01 & 6.163716e-01 & 2.487983e-01 & 0.160766207 & 0.163857865 &  21.61666\\\\\n",
       "\t3 & genus  & Microbacterium      &  55 &  3.036205e-01 & 5.684879e-01 & 7.919656e-02 & 1.30599228 & 1.33017732 &  -45.09428 &  2.699590e-01 & ⋯ & 1.068832e-01 & 0.61098034 & 0.62229479 &  -24.2642084 &  3.380621e-01 & 3.604904e-01 & 4.517328e-02 & 0.138149409 & 0.140707732 &  16.74787\\\\\n",
       "\t4 & genus  & Mycoplasma          &  73 &  1.000000e+00 & 7.383855e-01 & 1.000000e+00 & 0.04092482 & 0.04149322 &   28.93428 &  1.000000e+00 & ⋯ & 1.000000e+00 & 0.01449609 & 0.01469743 &   66.8160792 &  1.000000e+00 & 7.350806e-01 & 1.000000e+00 & 0.006867491 & 0.006962873 &  94.08451\\\\\n",
       "\t5 & genus  & Nocardioides        &  74 &  1.000000e+00 & 1.319907e-01 & 1.000000e+00 & 0.78137437 & 0.79207813 &  -34.60825 &  1.000000e+00 & ⋯ & 1.000000e+00 & 0.38888695 & 0.39421417 &   -8.7909212 &  1.000000e+00 & 1.750348e-01 & 1.000000e+00 & 0.089370797 & 0.090595055 &  45.61739\\\\\n",
       "\t6 & genus  & Paenibacillus       & 117 & 1.177756e-204 & 9.999999e-01 & 2.224049e-04 & 0.49026590 & 0.49449233 &  -53.87420 &  2.166414e-17 & ⋯ & 6.366530e-05 & 0.22028837 & 0.22218741 &   -7.0735902 &  1.868696e-29 & 9.999996e-01 & 1.669734e-02 & 0.066361452 & 0.066933533 &  63.11595\\\\\n",
       "\t7 & genus  & Sphingomonas        &  58 &  1.356359e-82 & 9.999999e-01 & 8.961419e-02 & 0.49860957 & 0.50735711 &  -20.86747 & 5.652433e-125 & ⋯ & 1.090941e-01 & 0.23047343 & 0.23451682 &    1.5114746 &  3.586340e-63 & 9.999998e-01 & 5.899299e-02 & 0.061721185 & 0.062804012 &  39.71922\\\\\n",
       "\t8 & family & Acetobacteraceae    &  57 & 3.099522e-158 & 9.999999e-01 & 5.556346e-04 & 0.48644683 & 0.49513338 &  -27.73724 & 1.270268e-203 & ⋯ & 1.276489e-02 & 0.18991486 & 0.19330620 &   -0.9315129 & 8.048860e-202 & 9.999999e-01 & 1.243671e-05 & 0.081598063 & 0.083055171 &  23.14444\\\\\n",
       "\t9 & family & Bacillaceae         & 239 &  4.490535e-01 & 1.063261e-07 & 3.811975e-30 & 0.53203840 & 0.53427386 & -125.97282 &  4.391935e-01 & ⋯ & 9.727263e-29 & 0.24558611 & 0.24661798 &  -34.6236018 &  5.248490e-01 & 4.537637e-10 & 2.221993e-27 & 0.077332499 & 0.077657425 & 112.90574\\\\\n",
       "\t10 & family & Burkholderiaceae    &  67 &  7.672347e-01 & 3.397804e-04 & 1.823912e-02 & 0.75556313 & 0.76701106 &  -30.13335 &  7.963239e-01 & ⋯ & 2.545560e-02 & 0.35934265 & 0.36478724 &   -3.8499504 &  6.783171e-01 & 2.144275e-03 & 8.242922e-03 & 0.077417356 & 0.078590346 &  42.38910\\\\\n",
       "\t11 & family & Chitinophagaceae    &  73 &  7.452037e-01 & 1.965688e-01 & 1.945460e-02 & 1.03509125 & 1.04946751 &  -52.65660 &  9.809960e-01 & ⋯ & 3.876208e-01 & 0.84322100 & 0.85493240 &  -35.0602870 & 2.455281e-210 & 9.999998e-01 & 6.972642e-08 & 0.064670313 & 0.065568512 &  38.38908\\\\\n",
       "\t12 & family & Comamonadaceae      &  68 &  1.000000e+00 & 9.797755e-02 & 1.000000e+00 & 1.36706818 & 1.38747218 &  -39.79183 &  1.000000e+00 & ⋯ & 1.000000e+00 & 0.58877875 & 0.59756650 &  -11.1511387 &  1.000000e+00 & 1.392205e-01 & 1.000000e+00 & 0.182521228 & 0.185245425 &  28.66912\\\\\n",
       "\t13 & family & Cyclobacteriaceae   &  51 &  1.312438e-53 & 1.000000e+00 & 4.014288e-03 & 0.57993450 & 0.59153319 &  -25.62175 & 2.279315e-159 & ⋯ & 1.254384e-03 & 0.30468695 & 0.31078069 &   -9.2091741 &  2.091061e-65 & 9.999998e-01 & 1.020587e-01 & 0.057284881 & 0.058430578 &  33.40765\\\\\n",
       "\t14 & family & Flavobacteriaceae   & 437 &  1.968170e-01 & 6.489974e-02 & 3.580877e-10 & 0.57415285 & 0.57546972 & -252.65901 &  3.545925e-01 & ⋯ & 5.819087e-09 & 0.32980842 & 0.33056486 & -112.3659629 &  3.888732e-01 & 7.126207e-02 & 7.838698e-10 & 0.073356975 & 0.073525225 & 220.71119\\\\\n",
       "\t15 & family & Halomonadaceae      &  74 &  9.357873e-01 & 2.488418e-03 & 6.688059e-01 & 1.89265349 & 1.91858025 &  -64.72250 &  9.686189e-01 & ⋯ & 8.292833e-01 & 0.84488081 & 0.85645452 &  -33.9698591 &  8.469718e-01 & 1.341742e-02 & 3.684278e-01 & 0.221645969 & 0.224682215 &  12.36785\\\\\n",
       "\t16 & family & Hymenobacteraceae   &  58 &  3.711464e-01 & 3.377057e-01 & 2.428294e-01 & 0.75152882 & 0.76471354 &  -32.74105 &  5.309723e-01 & ⋯ & 3.303075e-01 & 0.37368558 & 0.38024147 &  -10.0091102 & 3.886072e-176 & 9.999998e-01 & 5.955587e-02 & 0.074697496 & 0.076007979 &  30.49257\\\\\n",
       "\t17 & family & Lactobacillaceae    &  90 &  3.052742e-80 & 1.000000e+00 & 1.690554e-04 & 0.74537469 & 0.75374969 &  -67.58801 &  8.507043e-02 & ⋯ & 4.175443e-04 & 0.40061547 & 0.40511677 &  -39.2759744 &  3.905705e-86 & 9.999999e-01 & 9.643722e-05 & 0.069297355 & 0.070075977 &  39.30861\\\\\n",
       "\t18 & family & Microbacteriaceae   & 159 &  7.041088e-01 & 1.102093e-02 & 7.145849e-03 & 0.85848345 & 0.86391689 & -108.85841 &  5.740430e-01 & ⋯ & 1.759046e-03 & 0.36961016 & 0.37194947 &  -48.7124214 &  8.465218e-01 & 1.530612e-04 & 7.101436e-02 & 0.113160975 & 0.113877184 &  61.31093\\\\\n",
       "\t19 & family & Micrococcaceae      &  76 &  2.070158e-01 & 3.278995e-01 & 5.017241e-04 & 0.52710938 & 0.53413750 &  -34.54933 &  2.591079e-01 & ⋯ & 3.190957e-04 & 0.24541903 & 0.24869128 &   -4.7858958 &  1.862636e-01 & 4.778675e-01 & 2.740147e-03 & 0.062413896 & 0.063246082 &  46.26297\\\\\n",
       "\t20 & family & Mycoplasmataceae    & 113 &  1.000000e+00 & 7.085082e-01 & 1.000000e+00 & 0.12534899 & 0.12646818 &  -18.44781 &  1.000000e+00 & ⋯ & 1.000000e+00 & 0.04456673 & 0.04496465 &   39.9796368 &  1.000000e+00 & 7.062708e-01 & 1.000000e+00 & 0.020608418 & 0.020792422 &  83.55741\\\\\n",
       "\t21 & family & Nocardioidaceae     &  97 & 2.371164e-216 & 9.999999e-01 & 1.897838e-01 & 0.63636016 & 0.64298891 &  -55.22616 &  1.055952e-16 & ⋯ & 1.045545e-01 & 0.30835667 & 0.31156872 &  -20.0875406 &  1.000000e+00 & 4.600817e-01 & 1.000000e+00 & 0.108871113 & 0.110005187 &  47.78103\\\\\n",
       "\t22 & family & Oxalobacteraceae    &  62 &  4.651588e-01 & 4.163479e-02 & 1.369188e-01 & 1.07318609 & 1.09077931 &  -37.73356 &  5.050943e-01 & ⋯ & 1.815283e-01 & 0.44293013 & 0.45019128 &   -9.7423327 &  3.615036e-01 & 1.487338e-01 & 6.810358e-02 & 0.147129174 & 0.149541127 &  22.52498\\\\\n",
       "\t23 & family & Paenibacillaceae    & 156 &  4.282281e-02 & 6.021707e-01 & 1.494750e-07 & 0.55468692 & 0.55826555 &  -80.26741 &  1.536500e-02 & ⋯ & 2.485742e-08 & 0.24580994 & 0.24739581 &  -16.8874162 &  1.014509e-01 & 3.202728e-01 & 5.260442e-05 & 0.075918613 & 0.076408411 &  75.21569\\\\\n",
       "\t24 & family & Rhodobacteraceae    & 123 &  8.654547e-01 & 5.849299e-03 & 1.491216e-01 & 0.60712340 & 0.61209982 &  -45.22505 &  9.419351e-01 & ⋯ & 4.772218e-01 & 0.28177109 & 0.28408069 &    5.6432014 &  6.289562e-01 & 2.906566e-01 & 9.313847e-03 & 0.073224452 & 0.073824653 &  75.79603\\\\\n",
       "\t25 & family & Roseobacteraceae    & 114 & 1.801351e-209 & 1.000000e+00 & 3.578945e-02 & 0.96073345 & 0.96923551 &  -74.20758 & 1.827199e-188 & ⋯ & 5.482502e-03 & 0.45918496 & 0.46324855 &  -32.1276761 &  5.204497e-01 & 5.696552e-01 & 2.209332e-01 & 0.131680962 & 0.132846280 &  49.54300\\\\\n",
       "\t26 & family & Sphingobacteriaceae & 122 & 1.059480e-217 & 9.999999e-01 & 1.841095e-06 & 0.60169072 & 0.60666337 &  -76.59003 & 2.820260e-145 & ⋯ & 8.400084e-05 & 0.30358555 & 0.30609452 &  -34.8611483 & 9.754588e-218 & 9.999998e-01 & 8.410920e-08 & 0.068473612 & 0.069039510 &  55.98097\\\\\n",
       "\t27 & family & Sphingomonadaceae   & 113 & 6.084281e-216 & 9.999999e-01 & 9.444032e-03 & 0.50406968 & 0.50857030 &  -44.52587 &  1.954175e-71 & ⋯ & 1.972789e-02 & 0.22281997 & 0.22480944 &    1.5979219 &  7.846687e-16 & 9.999997e-01 & 3.276702e-03 & 0.065067855 & 0.065648818 &  71.14566\\\\\n",
       "\t28 & family & Weeksellaceae       &  60 &  3.694029e-84 & 9.999999e-01 & 6.224436e-04 & 0.38939212 & 0.39599199 &  -27.76522 & 4.127279e-206 & ⋯ & 4.919339e-05 & 0.16476634 & 0.16755899 &   -1.9634689 &  1.193652e-51 & 9.999998e-01 & 8.803845e-02 & 0.053547940 & 0.054455532 &  31.75506\\\\\n",
       "\t29 & family & Xanthomonadaceae    &  69 &  6.431589e-01 & 4.779137e-02 & 7.990154e-04 & 1.18147607 & 1.19885072 &  -45.09330 &  7.075973e-01 & ⋯ & 2.778661e-03 & 0.60210412 & 0.61095860 &  -20.5426396 &  4.900279e-01 & 9.683278e-02 & 1.224385e-04 & 0.116753916 & 0.118470886 &  32.00971\\\\\n",
       "\t30 & order  & Alteromonadales     & 132 &  3.944190e-01 & 2.417071e-04 & 1.502466e-03 & 0.43315717 & 0.43646371 &  -44.65292 &  2.830701e-01 & ⋯ & 1.110668e-04 & 0.19448600 & 0.19597063 &    5.3586512 &  5.523698e-01 & 4.496653e-05 & 1.649885e-02 & 0.059015114 & 0.059465611 &  91.70116\\\\\n",
       "\t⋮ & ⋮ & ⋮ & ⋮ & ⋮ & ⋮ & ⋮ & ⋮ & ⋮ & ⋮ & ⋮ & ⋱ & ⋮ & ⋮ & ⋮ & ⋮ & ⋮ & ⋮ & ⋮ & ⋮ & ⋮ & ⋮\\\\\n",
       "\t45 & order  & Propionibacteriales &  128 & 1.083750e-217 &  9.999999e-01 & 2.413255e-06 & 0.5654565 & 0.5699089 &   -70.53900 &  8.372303e-98 & ⋯ & 1.304369e-06 & 0.2726585 & 0.2748054 &  -23.856548 &  6.995875e-16 &  9.999997e-01 & 2.332181e-04 & 0.07178075 & 0.07234595 &  61.55810\\\\\n",
       "\t46 & order  & Pseudomonadales     &   83 & 2.583911e-216 &  1.000000e+00 & 4.576397e-03 & 0.4240520 & 0.4292234 &   -36.36258 & 1.615611e-105 & ⋯ & 4.135725e-02 & 0.1905736 & 0.1928977 &   -3.170153 &  4.113867e-16 &  9.999998e-01 & 6.104181e-05 & 0.05648403 & 0.05717286 &  47.29719\\\\\n",
       "\t47 & order  & Rhodobacterales     &  237 &  4.251020e-01 &  6.414197e-02 & 3.076871e-05 & 0.6650239 & 0.6678417 &  -124.64036 &  4.246513e-01 & ⋯ & 4.247011e-06 & 0.3099317 & 0.3112450 &  -34.200796 &  3.207731e-01 &  8.170571e-01 & 5.885752e-05 & 0.07702878 & 0.07735517 & 123.86923\\\\\n",
       "\t48 & order  & Rhodospirillales    &  111 &  6.458109e-01 &  4.354018e-03 & 3.941106e-03 & 0.9525971 & 0.9612570 &   -82.15562 &  7.298652e-01 & ⋯ & 1.853777e-02 & 0.4229782 & 0.4268234 &  -34.008911 &  5.122436e-01 &  2.092444e-02 & 1.451218e-04 & 0.12367414 & 0.12479845 &  26.93216\\\\\n",
       "\t49 & order  & Sphingobacteriales  &  122 & 4.215663e-131 &  9.999999e-01 & 1.841095e-06 & 0.6016907 & 0.6066634 &   -76.59003 & 2.036042e-210 & ⋯ & 8.400084e-05 & 0.3035856 & 0.3060945 &  -34.861148 &  5.793487e-24 &  9.999999e-01 & 8.410920e-08 & 0.06847361 & 0.06903951 &  55.98097\\\\\n",
       "\t50 & order  & Sphingomonadales    &  153 &  5.347313e-39 &  9.999999e-01 & 2.014749e-04 & 0.4884531 & 0.4916666 &   -73.06046 &  1.913780e-61 & ⋯ & 2.267865e-04 & 0.2267936 & 0.2282857 &  -14.369442 & 5.075585e-179 &  9.999997e-01 & 1.734047e-04 & 0.05984016 & 0.06023385 &  87.55636\\\\\n",
       "\t51 & order  & Spirochaetales      &   87 &  1.000000e+00 &  8.661524e-12 & 1.000000e+00 & 0.7142802 & 0.7225858 &   -39.48116 &  1.000000e+00 & ⋯ & 1.000000e+00 & 0.3859734 & 0.3904615 &  -12.706609 &  9.329411e-01 &  1.426649e-04 & 1.816358e-01 & 0.08913041 & 0.09016681 &  39.86381\\\\\n",
       "\t52 & order  & Xanthomonadales     &  103 &  5.488569e-01 &  3.667965e-01 & 1.182604e-04 & 0.8663377 & 0.8748312 &   -57.93285 &  6.765304e-01 & ⋯ & 7.036114e-04 & 0.4636818 & 0.4682277 &  -21.134543 &  3.304419e-01 &  3.818723e-01 & 8.709751e-06 & 0.08345844 & 0.08427666 &  56.04949\\\\\n",
       "\t53 & class  & Actinomycetia       &  727 &  4.251595e-01 &  7.486419e-09 & 6.850436e-23 & 0.4371771 & 0.4377793 &  -518.35844 &  3.791899e-01 & ⋯ & 5.304971e-23 & 0.1969654 & 0.1972367 & -245.171054 &  5.516621e-01 &  6.591740e-14 & 2.704286e-20 & 0.05925454 & 0.05933616 & 259.48712\\\\\n",
       "\t54 & class  & Alphaproteobacteria &  833 &  7.888711e-01 &  1.216685e-40 & 3.209287e-10 & 0.6878216 & 0.6886483 &  -482.92577 &  7.868129e-01 & ⋯ & 3.592958e-11 & 0.3063076 & 0.3066757 & -147.457211 &  7.576778e-01 &  3.151640e-35 & 6.071437e-11 & 0.08491808 & 0.08502014 & 366.95619\\\\\n",
       "\t55 & class  & Bacilli             &  615 &  3.422785e-01 &  7.682982e-10 & 4.456667e-53 & 0.4819866 & 0.4827716 &  -359.68144 &  3.877662e-01 & ⋯ & 1.988236e-49 & 0.2400929 & 0.2404839 & -136.215488 &  4.032943e-01 &  1.007299e-10 & 1.476294e-49 & 0.06186812 & 0.06196888 & 284.01247\\\\\n",
       "\t56 & class  & Bacteroidia         &   84 & 1.154023e-217 &  9.999999e-01 & 2.033583e-03 & 0.5532010 & 0.5598661 &   -66.64609 &  1.299205e-64 & ⋯ & 7.582919e-04 & 0.2831878 & 0.2865997 &  -38.522412 &  9.406588e-01 &  4.048990e-08 & 3.675203e-01 & 0.14535293 & 0.14710417 &  26.46924\\\\\n",
       "\t57 & class  & Betaproteobacteria  &  331 &  3.520611e-01 &  2.476236e-04 & 6.416780e-09 & 0.6711806 & 0.6732145 &  -201.41620 &  3.969345e-01 & ⋯ & 1.808885e-08 & 0.3052556 & 0.3061806 &  -65.686428 &  3.186506e-01 &  1.027649e-04 & 3.126564e-09 & 0.08230145 & 0.08255085 & 142.13886\\\\\n",
       "\t58 & class  & Chitinophagia       &   73 &  7.452037e-01 &  1.965688e-01 & 1.945460e-02 & 1.0350912 & 1.0494675 &   -52.65660 &  9.809960e-01 & ⋯ & 3.876208e-01 & 0.8432210 & 0.8549324 &  -35.060287 & 9.493997e-195 &  9.999999e-01 & 6.972642e-08 & 0.06467031 & 0.06556851 &  38.38908\\\\\n",
       "\t59 & class  & Clostridia          &  153 &  2.242452e-16 &  1.000000e+00 & 6.166843e-09 & 0.6484744 & 0.6527407 &  -139.84918 & 1.719307e-203 & ⋯ & 2.603850e-09 & 0.3029727 & 0.3049660 &  -81.634235 &  5.129547e-01 &  4.465139e-02 & 5.590626e-07 & 0.10108458 & 0.10174961 &  17.20658\\\\\n",
       "\t60 & class  & Cytophagia          &  167 &  4.775610e-01 &  1.157255e-07 & 4.999571e-04 & 0.7851337 & 0.7898635 &  -105.74552 &  5.579711e-01 & ⋯ & 7.833442e-04 & 0.4396131 & 0.4422614 &  -52.817992 &  5.733691e-01 &  9.313157e-12 & 4.058759e-03 & 0.08538740 & 0.08590178 &  84.92772\\\\\n",
       "\t61 & class  & Deltaproteobacteria &   91 &  7.683481e-01 &  2.142629e-07 & 5.468018e-02 & 0.4816370 & 0.4869885 &   -55.10237 &  7.363514e-01 & ⋯ & 3.522884e-02 & 0.2250156 & 0.2275158 &  -21.821275 &  8.500895e-01 &  3.333978e-07 & 1.759508e-01 & 0.05999199 & 0.06065857 &  43.49046\\\\\n",
       "\t62 & class  & Flavobacteriia      &  507 &  2.731736e-01 &  2.950173e-02 & 3.575599e-12 & 0.4828518 & 0.4838061 &  -291.23764 &  4.981292e-01 & ⋯ & 1.139521e-10 & 0.2998606 & 0.3004532 & -125.872647 &  4.621626e-01 &  4.954995e-07 & 2.434887e-11 & 0.06410020 & 0.06422688 & 257.28817\\\\\n",
       "\t63 & class  & Gammaproteobacteria &  743 &  9.195738e-01 &  2.868544e-72 & 4.445278e-10 & 1.1351732 & 1.1367031 &  -512.15287 &  9.244952e-01 & ⋯ & 4.223915e-09 & 0.5421625 & 0.5428932 & -233.486915 &  9.045640e-01 &  7.289419e-70 & 1.268963e-11 & 0.12998148 & 0.13015666 & 280.77469\\\\\n",
       "\t64 & class  & Mollicutes          &  173 &  9.349221e-01 &  4.229127e-39 & 4.926423e-01 & 0.1901576 & 0.1912632 &   -47.28042 &  8.779399e-01 & ⋯ & 1.352434e-01 & 0.1239876 & 0.1247085 &  -13.953544 &  7.326643e-01 &  2.179343e-14 & 6.995532e-02 & 0.02396835 & 0.02410770 & 120.31349\\\\\n",
       "\t65 & class  & Sphingobacteriia    &  122 &  3.243856e-26 &  9.999999e-01 & 1.841095e-06 & 0.6016907 & 0.6066634 &   -76.59003 & 1.775941e-215 & ⋯ & 8.400084e-05 & 0.3035856 & 0.3060945 &  -34.861148 & 1.331565e-104 &  9.999998e-01 & 8.410920e-08 & 0.06847361 & 0.06903951 &  55.98097\\\\\n",
       "\t66 & class  & Spirochaetia        &  114 &  1.000000e+00 &  5.741912e-25 & 1.000000e+00 & 0.6700755 & 0.6760054 &   -45.44514 &  1.000000e+00 & ⋯ & 1.000000e+00 & 0.3413142 & 0.3443347 &   -6.993685 &  9.606515e-01 &  3.165997e-22 & 3.331758e-01 & 0.08807131 & 0.08885071 &  57.12088\\\\\n",
       "\t67 & phylum & Actinobacteria      &  755 &  3.741286e-01 &  2.259861e-09 & 2.087584e-26 & 0.4123612 & 0.4129081 &  -534.07795 &  3.333268e-01 & ⋯ & 2.520102e-26 & 0.1874585 & 0.1877071 & -250.650265 &  4.958440e-01 &  6.169964e-14 & 7.998179e-24 & 0.05479867 & 0.05487134 & 274.76067\\\\\n",
       "\t68 & phylum & Bacteroidetes       &  963 &  4.770727e-01 &  3.843507e-19 & 7.037099e-23 & 0.4516932 & 0.4521627 &  -612.45528 &  6.141953e-01 & ⋯ & 1.266759e-18 & 0.2818001 & 0.2820930 & -306.784853 &  6.171689e-01 &  3.835724e-33 & 1.665934e-23 & 0.05842269 & 0.05848342 & 452.74652\\\\\n",
       "\t69 & phylum & Cyanobacteria       &   97 &  1.000000e+00 &  2.634288e-16 & 1.000000e+00 & 4.6820116 & 4.7307825 &  -116.67085 &  1.000000e+00 & ⋯ & 1.000000e+00 & 2.0748864 & 2.0964998 &  -77.200509 &  1.000000e+00 &  3.052397e-16 & 1.000000e+00 & 0.52370970 & 0.52916501 & -10.42939\\\\\n",
       "\t70 & phylum & Euryarchaeota       &  135 &  4.468712e-01 &  3.745681e-02 & 4.753052e-11 & 0.5374475 & 0.5414583 &  -115.57652 &  5.544258e-01 & ⋯ & 7.963069e-10 & 0.2916473 & 0.2938238 &  -67.538524 &  5.011210e-01 &  1.461611e-05 & 3.688049e-10 & 0.06623984 & 0.06673416 &  29.01614\\\\\n",
       "\t71 & phylum & Firmicutes          &  801 &  5.928946e-01 &  2.723135e-16 & 1.073506e-53 & 0.5796221 & 0.5803467 &  -553.40540 &  6.484463e-01 & ⋯ & 2.808098e-49 & 0.2982270 & 0.2985998 & -263.742441 &  5.877489e-01 &  4.927565e-14 & 7.850967e-52 & 0.06949892 & 0.06958579 & 294.00303\\\\\n",
       "\t72 & phylum & Proteobacteria      & 2048 &  8.761491e-01 & 1.234507e-131 & 4.442299e-29 & 0.8497263 & 0.8501414 & -1320.49106 &  8.839444e-01 & ⋯ & 9.356356e-28 & 0.3969455 & 0.3971395 & -520.917226 &  8.486147e-01 & 3.627532e-117 & 1.261166e-32 & 0.09800613 & 0.09805400 & 823.82699\\\\\n",
       "\t73 & phylum & Spirochaetes        &  114 &  1.000000e+00 &  5.741912e-25 & 1.000000e+00 & 0.6700755 & 0.6760054 &   -45.44514 &  1.000000e+00 & ⋯ & 1.000000e+00 & 0.3413142 & 0.3443347 &   -6.993685 &  9.606455e-01 &  3.165997e-22 & 3.331758e-01 & 0.08807234 & 0.08885174 &  57.12088\\\\\n",
       "\t74 & phylum & Tenericutes         &  173 &  9.349221e-01 &  4.229127e-39 & 4.926423e-01 & 0.1901576 & 0.1912632 &   -47.28042 &  8.779399e-01 & ⋯ & 1.352434e-01 & 0.1239876 & 0.1247085 &  -13.953544 &  7.326643e-01 &  2.179343e-14 & 6.995532e-02 & 0.02396835 & 0.02410770 & 120.31349\\\\\n",
       "\\end{tabular}\n"
      ],
      "text/markdown": [
       "\n",
       "A data.frame: 74 × 21\n",
       "\n",
       "| <!--/--> | rank &lt;chr&gt; | taxon &lt;chr&gt; | count &lt;int&gt; | V.lambda &lt;dbl&gt; | V.pval0 &lt;dbl&gt; | V.pval1 &lt;dbl&gt; | V.sigsq &lt;dbl&gt; | V.sigsq_unb &lt;dbl&gt; | V.lnL &lt;dbl&gt; | S.lambda &lt;dbl&gt; | ⋯ ⋯ | S.pval1 &lt;dbl&gt; | S.sigsq &lt;dbl&gt; | S.sigsq_unb &lt;dbl&gt; | S.lnL &lt;dbl&gt; | SV.lambda &lt;dbl&gt; | SV.pval0 &lt;dbl&gt; | SV.pval1 &lt;dbl&gt; | SV.sigsq &lt;dbl&gt; | SV.sigsq_unb &lt;dbl&gt; | SV.lnL &lt;dbl&gt; |\n",
       "|---|---|---|---|---|---|---|---|---|---|---|---|---|---|---|---|---|---|---|---|---|---|\n",
       "| 1 | genus  | Flavobacterium      | 119 |  3.740349e-01 | 3.425428e-01 | 1.887271e-03 | 1.36540889 | 1.37698016 |  -88.09643 |  2.062669e-01 | ⋯ | 5.822430e-04 | 0.65836704 | 0.66394642 |  -45.1430636 |  5.506144e-01 | 9.698069e-02 | 1.649344e-02 | 0.155319821 | 0.156636090 |  41.90976 |\n",
       "| 2 | genus  | Halomonas           |  53 |  7.672872e-01 | 3.519539e-01 | 5.401727e-01 | 1.36020204 | 1.38635977 |  -34.71664 |  8.673693e-01 | ⋯ | 7.271666e-01 | 0.60875236 | 0.62045913 |  -13.2767523 |  5.020315e-01 | 6.163716e-01 | 2.487983e-01 | 0.160766207 | 0.163857865 |  21.61666 |\n",
       "| 3 | genus  | Microbacterium      |  55 |  3.036205e-01 | 5.684879e-01 | 7.919656e-02 | 1.30599228 | 1.33017732 |  -45.09428 |  2.699590e-01 | ⋯ | 1.068832e-01 | 0.61098034 | 0.62229479 |  -24.2642084 |  3.380621e-01 | 3.604904e-01 | 4.517328e-02 | 0.138149409 | 0.140707732 |  16.74787 |\n",
       "| 4 | genus  | Mycoplasma          |  73 |  1.000000e+00 | 7.383855e-01 | 1.000000e+00 | 0.04092482 | 0.04149322 |   28.93428 |  1.000000e+00 | ⋯ | 1.000000e+00 | 0.01449609 | 0.01469743 |   66.8160792 |  1.000000e+00 | 7.350806e-01 | 1.000000e+00 | 0.006867491 | 0.006962873 |  94.08451 |\n",
       "| 5 | genus  | Nocardioides        |  74 |  1.000000e+00 | 1.319907e-01 | 1.000000e+00 | 0.78137437 | 0.79207813 |  -34.60825 |  1.000000e+00 | ⋯ | 1.000000e+00 | 0.38888695 | 0.39421417 |   -8.7909212 |  1.000000e+00 | 1.750348e-01 | 1.000000e+00 | 0.089370797 | 0.090595055 |  45.61739 |\n",
       "| 6 | genus  | Paenibacillus       | 117 | 1.177756e-204 | 9.999999e-01 | 2.224049e-04 | 0.49026590 | 0.49449233 |  -53.87420 |  2.166414e-17 | ⋯ | 6.366530e-05 | 0.22028837 | 0.22218741 |   -7.0735902 |  1.868696e-29 | 9.999996e-01 | 1.669734e-02 | 0.066361452 | 0.066933533 |  63.11595 |\n",
       "| 7 | genus  | Sphingomonas        |  58 |  1.356359e-82 | 9.999999e-01 | 8.961419e-02 | 0.49860957 | 0.50735711 |  -20.86747 | 5.652433e-125 | ⋯ | 1.090941e-01 | 0.23047343 | 0.23451682 |    1.5114746 |  3.586340e-63 | 9.999998e-01 | 5.899299e-02 | 0.061721185 | 0.062804012 |  39.71922 |\n",
       "| 8 | family | Acetobacteraceae    |  57 | 3.099522e-158 | 9.999999e-01 | 5.556346e-04 | 0.48644683 | 0.49513338 |  -27.73724 | 1.270268e-203 | ⋯ | 1.276489e-02 | 0.18991486 | 0.19330620 |   -0.9315129 | 8.048860e-202 | 9.999999e-01 | 1.243671e-05 | 0.081598063 | 0.083055171 |  23.14444 |\n",
       "| 9 | family | Bacillaceae         | 239 |  4.490535e-01 | 1.063261e-07 | 3.811975e-30 | 0.53203840 | 0.53427386 | -125.97282 |  4.391935e-01 | ⋯ | 9.727263e-29 | 0.24558611 | 0.24661798 |  -34.6236018 |  5.248490e-01 | 4.537637e-10 | 2.221993e-27 | 0.077332499 | 0.077657425 | 112.90574 |\n",
       "| 10 | family | Burkholderiaceae    |  67 |  7.672347e-01 | 3.397804e-04 | 1.823912e-02 | 0.75556313 | 0.76701106 |  -30.13335 |  7.963239e-01 | ⋯ | 2.545560e-02 | 0.35934265 | 0.36478724 |   -3.8499504 |  6.783171e-01 | 2.144275e-03 | 8.242922e-03 | 0.077417356 | 0.078590346 |  42.38910 |\n",
       "| 11 | family | Chitinophagaceae    |  73 |  7.452037e-01 | 1.965688e-01 | 1.945460e-02 | 1.03509125 | 1.04946751 |  -52.65660 |  9.809960e-01 | ⋯ | 3.876208e-01 | 0.84322100 | 0.85493240 |  -35.0602870 | 2.455281e-210 | 9.999998e-01 | 6.972642e-08 | 0.064670313 | 0.065568512 |  38.38908 |\n",
       "| 12 | family | Comamonadaceae      |  68 |  1.000000e+00 | 9.797755e-02 | 1.000000e+00 | 1.36706818 | 1.38747218 |  -39.79183 |  1.000000e+00 | ⋯ | 1.000000e+00 | 0.58877875 | 0.59756650 |  -11.1511387 |  1.000000e+00 | 1.392205e-01 | 1.000000e+00 | 0.182521228 | 0.185245425 |  28.66912 |\n",
       "| 13 | family | Cyclobacteriaceae   |  51 |  1.312438e-53 | 1.000000e+00 | 4.014288e-03 | 0.57993450 | 0.59153319 |  -25.62175 | 2.279315e-159 | ⋯ | 1.254384e-03 | 0.30468695 | 0.31078069 |   -9.2091741 |  2.091061e-65 | 9.999998e-01 | 1.020587e-01 | 0.057284881 | 0.058430578 |  33.40765 |\n",
       "| 14 | family | Flavobacteriaceae   | 437 |  1.968170e-01 | 6.489974e-02 | 3.580877e-10 | 0.57415285 | 0.57546972 | -252.65901 |  3.545925e-01 | ⋯ | 5.819087e-09 | 0.32980842 | 0.33056486 | -112.3659629 |  3.888732e-01 | 7.126207e-02 | 7.838698e-10 | 0.073356975 | 0.073525225 | 220.71119 |\n",
       "| 15 | family | Halomonadaceae      |  74 |  9.357873e-01 | 2.488418e-03 | 6.688059e-01 | 1.89265349 | 1.91858025 |  -64.72250 |  9.686189e-01 | ⋯ | 8.292833e-01 | 0.84488081 | 0.85645452 |  -33.9698591 |  8.469718e-01 | 1.341742e-02 | 3.684278e-01 | 0.221645969 | 0.224682215 |  12.36785 |\n",
       "| 16 | family | Hymenobacteraceae   |  58 |  3.711464e-01 | 3.377057e-01 | 2.428294e-01 | 0.75152882 | 0.76471354 |  -32.74105 |  5.309723e-01 | ⋯ | 3.303075e-01 | 0.37368558 | 0.38024147 |  -10.0091102 | 3.886072e-176 | 9.999998e-01 | 5.955587e-02 | 0.074697496 | 0.076007979 |  30.49257 |\n",
       "| 17 | family | Lactobacillaceae    |  90 |  3.052742e-80 | 1.000000e+00 | 1.690554e-04 | 0.74537469 | 0.75374969 |  -67.58801 |  8.507043e-02 | ⋯ | 4.175443e-04 | 0.40061547 | 0.40511677 |  -39.2759744 |  3.905705e-86 | 9.999999e-01 | 9.643722e-05 | 0.069297355 | 0.070075977 |  39.30861 |\n",
       "| 18 | family | Microbacteriaceae   | 159 |  7.041088e-01 | 1.102093e-02 | 7.145849e-03 | 0.85848345 | 0.86391689 | -108.85841 |  5.740430e-01 | ⋯ | 1.759046e-03 | 0.36961016 | 0.37194947 |  -48.7124214 |  8.465218e-01 | 1.530612e-04 | 7.101436e-02 | 0.113160975 | 0.113877184 |  61.31093 |\n",
       "| 19 | family | Micrococcaceae      |  76 |  2.070158e-01 | 3.278995e-01 | 5.017241e-04 | 0.52710938 | 0.53413750 |  -34.54933 |  2.591079e-01 | ⋯ | 3.190957e-04 | 0.24541903 | 0.24869128 |   -4.7858958 |  1.862636e-01 | 4.778675e-01 | 2.740147e-03 | 0.062413896 | 0.063246082 |  46.26297 |\n",
       "| 20 | family | Mycoplasmataceae    | 113 |  1.000000e+00 | 7.085082e-01 | 1.000000e+00 | 0.12534899 | 0.12646818 |  -18.44781 |  1.000000e+00 | ⋯ | 1.000000e+00 | 0.04456673 | 0.04496465 |   39.9796368 |  1.000000e+00 | 7.062708e-01 | 1.000000e+00 | 0.020608418 | 0.020792422 |  83.55741 |\n",
       "| 21 | family | Nocardioidaceae     |  97 | 2.371164e-216 | 9.999999e-01 | 1.897838e-01 | 0.63636016 | 0.64298891 |  -55.22616 |  1.055952e-16 | ⋯ | 1.045545e-01 | 0.30835667 | 0.31156872 |  -20.0875406 |  1.000000e+00 | 4.600817e-01 | 1.000000e+00 | 0.108871113 | 0.110005187 |  47.78103 |\n",
       "| 22 | family | Oxalobacteraceae    |  62 |  4.651588e-01 | 4.163479e-02 | 1.369188e-01 | 1.07318609 | 1.09077931 |  -37.73356 |  5.050943e-01 | ⋯ | 1.815283e-01 | 0.44293013 | 0.45019128 |   -9.7423327 |  3.615036e-01 | 1.487338e-01 | 6.810358e-02 | 0.147129174 | 0.149541127 |  22.52498 |\n",
       "| 23 | family | Paenibacillaceae    | 156 |  4.282281e-02 | 6.021707e-01 | 1.494750e-07 | 0.55468692 | 0.55826555 |  -80.26741 |  1.536500e-02 | ⋯ | 2.485742e-08 | 0.24580994 | 0.24739581 |  -16.8874162 |  1.014509e-01 | 3.202728e-01 | 5.260442e-05 | 0.075918613 | 0.076408411 |  75.21569 |\n",
       "| 24 | family | Rhodobacteraceae    | 123 |  8.654547e-01 | 5.849299e-03 | 1.491216e-01 | 0.60712340 | 0.61209982 |  -45.22505 |  9.419351e-01 | ⋯ | 4.772218e-01 | 0.28177109 | 0.28408069 |    5.6432014 |  6.289562e-01 | 2.906566e-01 | 9.313847e-03 | 0.073224452 | 0.073824653 |  75.79603 |\n",
       "| 25 | family | Roseobacteraceae    | 114 | 1.801351e-209 | 1.000000e+00 | 3.578945e-02 | 0.96073345 | 0.96923551 |  -74.20758 | 1.827199e-188 | ⋯ | 5.482502e-03 | 0.45918496 | 0.46324855 |  -32.1276761 |  5.204497e-01 | 5.696552e-01 | 2.209332e-01 | 0.131680962 | 0.132846280 |  49.54300 |\n",
       "| 26 | family | Sphingobacteriaceae | 122 | 1.059480e-217 | 9.999999e-01 | 1.841095e-06 | 0.60169072 | 0.60666337 |  -76.59003 | 2.820260e-145 | ⋯ | 8.400084e-05 | 0.30358555 | 0.30609452 |  -34.8611483 | 9.754588e-218 | 9.999998e-01 | 8.410920e-08 | 0.068473612 | 0.069039510 |  55.98097 |\n",
       "| 27 | family | Sphingomonadaceae   | 113 | 6.084281e-216 | 9.999999e-01 | 9.444032e-03 | 0.50406968 | 0.50857030 |  -44.52587 |  1.954175e-71 | ⋯ | 1.972789e-02 | 0.22281997 | 0.22480944 |    1.5979219 |  7.846687e-16 | 9.999997e-01 | 3.276702e-03 | 0.065067855 | 0.065648818 |  71.14566 |\n",
       "| 28 | family | Weeksellaceae       |  60 |  3.694029e-84 | 9.999999e-01 | 6.224436e-04 | 0.38939212 | 0.39599199 |  -27.76522 | 4.127279e-206 | ⋯ | 4.919339e-05 | 0.16476634 | 0.16755899 |   -1.9634689 |  1.193652e-51 | 9.999998e-01 | 8.803845e-02 | 0.053547940 | 0.054455532 |  31.75506 |\n",
       "| 29 | family | Xanthomonadaceae    |  69 |  6.431589e-01 | 4.779137e-02 | 7.990154e-04 | 1.18147607 | 1.19885072 |  -45.09330 |  7.075973e-01 | ⋯ | 2.778661e-03 | 0.60210412 | 0.61095860 |  -20.5426396 |  4.900279e-01 | 9.683278e-02 | 1.224385e-04 | 0.116753916 | 0.118470886 |  32.00971 |\n",
       "| 30 | order  | Alteromonadales     | 132 |  3.944190e-01 | 2.417071e-04 | 1.502466e-03 | 0.43315717 | 0.43646371 |  -44.65292 |  2.830701e-01 | ⋯ | 1.110668e-04 | 0.19448600 | 0.19597063 |    5.3586512 |  5.523698e-01 | 4.496653e-05 | 1.649885e-02 | 0.059015114 | 0.059465611 |  91.70116 |\n",
       "| ⋮ | ⋮ | ⋮ | ⋮ | ⋮ | ⋮ | ⋮ | ⋮ | ⋮ | ⋮ | ⋮ | ⋱ | ⋮ | ⋮ | ⋮ | ⋮ | ⋮ | ⋮ | ⋮ | ⋮ | ⋮ | ⋮ |\n",
       "| 45 | order  | Propionibacteriales |  128 | 1.083750e-217 |  9.999999e-01 | 2.413255e-06 | 0.5654565 | 0.5699089 |   -70.53900 |  8.372303e-98 | ⋯ | 1.304369e-06 | 0.2726585 | 0.2748054 |  -23.856548 |  6.995875e-16 |  9.999997e-01 | 2.332181e-04 | 0.07178075 | 0.07234595 |  61.55810 |\n",
       "| 46 | order  | Pseudomonadales     |   83 | 2.583911e-216 |  1.000000e+00 | 4.576397e-03 | 0.4240520 | 0.4292234 |   -36.36258 | 1.615611e-105 | ⋯ | 4.135725e-02 | 0.1905736 | 0.1928977 |   -3.170153 |  4.113867e-16 |  9.999998e-01 | 6.104181e-05 | 0.05648403 | 0.05717286 |  47.29719 |\n",
       "| 47 | order  | Rhodobacterales     |  237 |  4.251020e-01 |  6.414197e-02 | 3.076871e-05 | 0.6650239 | 0.6678417 |  -124.64036 |  4.246513e-01 | ⋯ | 4.247011e-06 | 0.3099317 | 0.3112450 |  -34.200796 |  3.207731e-01 |  8.170571e-01 | 5.885752e-05 | 0.07702878 | 0.07735517 | 123.86923 |\n",
       "| 48 | order  | Rhodospirillales    |  111 |  6.458109e-01 |  4.354018e-03 | 3.941106e-03 | 0.9525971 | 0.9612570 |   -82.15562 |  7.298652e-01 | ⋯ | 1.853777e-02 | 0.4229782 | 0.4268234 |  -34.008911 |  5.122436e-01 |  2.092444e-02 | 1.451218e-04 | 0.12367414 | 0.12479845 |  26.93216 |\n",
       "| 49 | order  | Sphingobacteriales  |  122 | 4.215663e-131 |  9.999999e-01 | 1.841095e-06 | 0.6016907 | 0.6066634 |   -76.59003 | 2.036042e-210 | ⋯ | 8.400084e-05 | 0.3035856 | 0.3060945 |  -34.861148 |  5.793487e-24 |  9.999999e-01 | 8.410920e-08 | 0.06847361 | 0.06903951 |  55.98097 |\n",
       "| 50 | order  | Sphingomonadales    |  153 |  5.347313e-39 |  9.999999e-01 | 2.014749e-04 | 0.4884531 | 0.4916666 |   -73.06046 |  1.913780e-61 | ⋯ | 2.267865e-04 | 0.2267936 | 0.2282857 |  -14.369442 | 5.075585e-179 |  9.999997e-01 | 1.734047e-04 | 0.05984016 | 0.06023385 |  87.55636 |\n",
       "| 51 | order  | Spirochaetales      |   87 |  1.000000e+00 |  8.661524e-12 | 1.000000e+00 | 0.7142802 | 0.7225858 |   -39.48116 |  1.000000e+00 | ⋯ | 1.000000e+00 | 0.3859734 | 0.3904615 |  -12.706609 |  9.329411e-01 |  1.426649e-04 | 1.816358e-01 | 0.08913041 | 0.09016681 |  39.86381 |\n",
       "| 52 | order  | Xanthomonadales     |  103 |  5.488569e-01 |  3.667965e-01 | 1.182604e-04 | 0.8663377 | 0.8748312 |   -57.93285 |  6.765304e-01 | ⋯ | 7.036114e-04 | 0.4636818 | 0.4682277 |  -21.134543 |  3.304419e-01 |  3.818723e-01 | 8.709751e-06 | 0.08345844 | 0.08427666 |  56.04949 |\n",
       "| 53 | class  | Actinomycetia       |  727 |  4.251595e-01 |  7.486419e-09 | 6.850436e-23 | 0.4371771 | 0.4377793 |  -518.35844 |  3.791899e-01 | ⋯ | 5.304971e-23 | 0.1969654 | 0.1972367 | -245.171054 |  5.516621e-01 |  6.591740e-14 | 2.704286e-20 | 0.05925454 | 0.05933616 | 259.48712 |\n",
       "| 54 | class  | Alphaproteobacteria |  833 |  7.888711e-01 |  1.216685e-40 | 3.209287e-10 | 0.6878216 | 0.6886483 |  -482.92577 |  7.868129e-01 | ⋯ | 3.592958e-11 | 0.3063076 | 0.3066757 | -147.457211 |  7.576778e-01 |  3.151640e-35 | 6.071437e-11 | 0.08491808 | 0.08502014 | 366.95619 |\n",
       "| 55 | class  | Bacilli             |  615 |  3.422785e-01 |  7.682982e-10 | 4.456667e-53 | 0.4819866 | 0.4827716 |  -359.68144 |  3.877662e-01 | ⋯ | 1.988236e-49 | 0.2400929 | 0.2404839 | -136.215488 |  4.032943e-01 |  1.007299e-10 | 1.476294e-49 | 0.06186812 | 0.06196888 | 284.01247 |\n",
       "| 56 | class  | Bacteroidia         |   84 | 1.154023e-217 |  9.999999e-01 | 2.033583e-03 | 0.5532010 | 0.5598661 |   -66.64609 |  1.299205e-64 | ⋯ | 7.582919e-04 | 0.2831878 | 0.2865997 |  -38.522412 |  9.406588e-01 |  4.048990e-08 | 3.675203e-01 | 0.14535293 | 0.14710417 |  26.46924 |\n",
       "| 57 | class  | Betaproteobacteria  |  331 |  3.520611e-01 |  2.476236e-04 | 6.416780e-09 | 0.6711806 | 0.6732145 |  -201.41620 |  3.969345e-01 | ⋯ | 1.808885e-08 | 0.3052556 | 0.3061806 |  -65.686428 |  3.186506e-01 |  1.027649e-04 | 3.126564e-09 | 0.08230145 | 0.08255085 | 142.13886 |\n",
       "| 58 | class  | Chitinophagia       |   73 |  7.452037e-01 |  1.965688e-01 | 1.945460e-02 | 1.0350912 | 1.0494675 |   -52.65660 |  9.809960e-01 | ⋯ | 3.876208e-01 | 0.8432210 | 0.8549324 |  -35.060287 | 9.493997e-195 |  9.999999e-01 | 6.972642e-08 | 0.06467031 | 0.06556851 |  38.38908 |\n",
       "| 59 | class  | Clostridia          |  153 |  2.242452e-16 |  1.000000e+00 | 6.166843e-09 | 0.6484744 | 0.6527407 |  -139.84918 | 1.719307e-203 | ⋯ | 2.603850e-09 | 0.3029727 | 0.3049660 |  -81.634235 |  5.129547e-01 |  4.465139e-02 | 5.590626e-07 | 0.10108458 | 0.10174961 |  17.20658 |\n",
       "| 60 | class  | Cytophagia          |  167 |  4.775610e-01 |  1.157255e-07 | 4.999571e-04 | 0.7851337 | 0.7898635 |  -105.74552 |  5.579711e-01 | ⋯ | 7.833442e-04 | 0.4396131 | 0.4422614 |  -52.817992 |  5.733691e-01 |  9.313157e-12 | 4.058759e-03 | 0.08538740 | 0.08590178 |  84.92772 |\n",
       "| 61 | class  | Deltaproteobacteria |   91 |  7.683481e-01 |  2.142629e-07 | 5.468018e-02 | 0.4816370 | 0.4869885 |   -55.10237 |  7.363514e-01 | ⋯ | 3.522884e-02 | 0.2250156 | 0.2275158 |  -21.821275 |  8.500895e-01 |  3.333978e-07 | 1.759508e-01 | 0.05999199 | 0.06065857 |  43.49046 |\n",
       "| 62 | class  | Flavobacteriia      |  507 |  2.731736e-01 |  2.950173e-02 | 3.575599e-12 | 0.4828518 | 0.4838061 |  -291.23764 |  4.981292e-01 | ⋯ | 1.139521e-10 | 0.2998606 | 0.3004532 | -125.872647 |  4.621626e-01 |  4.954995e-07 | 2.434887e-11 | 0.06410020 | 0.06422688 | 257.28817 |\n",
       "| 63 | class  | Gammaproteobacteria |  743 |  9.195738e-01 |  2.868544e-72 | 4.445278e-10 | 1.1351732 | 1.1367031 |  -512.15287 |  9.244952e-01 | ⋯ | 4.223915e-09 | 0.5421625 | 0.5428932 | -233.486915 |  9.045640e-01 |  7.289419e-70 | 1.268963e-11 | 0.12998148 | 0.13015666 | 280.77469 |\n",
       "| 64 | class  | Mollicutes          |  173 |  9.349221e-01 |  4.229127e-39 | 4.926423e-01 | 0.1901576 | 0.1912632 |   -47.28042 |  8.779399e-01 | ⋯ | 1.352434e-01 | 0.1239876 | 0.1247085 |  -13.953544 |  7.326643e-01 |  2.179343e-14 | 6.995532e-02 | 0.02396835 | 0.02410770 | 120.31349 |\n",
       "| 65 | class  | Sphingobacteriia    |  122 |  3.243856e-26 |  9.999999e-01 | 1.841095e-06 | 0.6016907 | 0.6066634 |   -76.59003 | 1.775941e-215 | ⋯ | 8.400084e-05 | 0.3035856 | 0.3060945 |  -34.861148 | 1.331565e-104 |  9.999998e-01 | 8.410920e-08 | 0.06847361 | 0.06903951 |  55.98097 |\n",
       "| 66 | class  | Spirochaetia        |  114 |  1.000000e+00 |  5.741912e-25 | 1.000000e+00 | 0.6700755 | 0.6760054 |   -45.44514 |  1.000000e+00 | ⋯ | 1.000000e+00 | 0.3413142 | 0.3443347 |   -6.993685 |  9.606515e-01 |  3.165997e-22 | 3.331758e-01 | 0.08807131 | 0.08885071 |  57.12088 |\n",
       "| 67 | phylum | Actinobacteria      |  755 |  3.741286e-01 |  2.259861e-09 | 2.087584e-26 | 0.4123612 | 0.4129081 |  -534.07795 |  3.333268e-01 | ⋯ | 2.520102e-26 | 0.1874585 | 0.1877071 | -250.650265 |  4.958440e-01 |  6.169964e-14 | 7.998179e-24 | 0.05479867 | 0.05487134 | 274.76067 |\n",
       "| 68 | phylum | Bacteroidetes       |  963 |  4.770727e-01 |  3.843507e-19 | 7.037099e-23 | 0.4516932 | 0.4521627 |  -612.45528 |  6.141953e-01 | ⋯ | 1.266759e-18 | 0.2818001 | 0.2820930 | -306.784853 |  6.171689e-01 |  3.835724e-33 | 1.665934e-23 | 0.05842269 | 0.05848342 | 452.74652 |\n",
       "| 69 | phylum | Cyanobacteria       |   97 |  1.000000e+00 |  2.634288e-16 | 1.000000e+00 | 4.6820116 | 4.7307825 |  -116.67085 |  1.000000e+00 | ⋯ | 1.000000e+00 | 2.0748864 | 2.0964998 |  -77.200509 |  1.000000e+00 |  3.052397e-16 | 1.000000e+00 | 0.52370970 | 0.52916501 | -10.42939 |\n",
       "| 70 | phylum | Euryarchaeota       |  135 |  4.468712e-01 |  3.745681e-02 | 4.753052e-11 | 0.5374475 | 0.5414583 |  -115.57652 |  5.544258e-01 | ⋯ | 7.963069e-10 | 0.2916473 | 0.2938238 |  -67.538524 |  5.011210e-01 |  1.461611e-05 | 3.688049e-10 | 0.06623984 | 0.06673416 |  29.01614 |\n",
       "| 71 | phylum | Firmicutes          |  801 |  5.928946e-01 |  2.723135e-16 | 1.073506e-53 | 0.5796221 | 0.5803467 |  -553.40540 |  6.484463e-01 | ⋯ | 2.808098e-49 | 0.2982270 | 0.2985998 | -263.742441 |  5.877489e-01 |  4.927565e-14 | 7.850967e-52 | 0.06949892 | 0.06958579 | 294.00303 |\n",
       "| 72 | phylum | Proteobacteria      | 2048 |  8.761491e-01 | 1.234507e-131 | 4.442299e-29 | 0.8497263 | 0.8501414 | -1320.49106 |  8.839444e-01 | ⋯ | 9.356356e-28 | 0.3969455 | 0.3971395 | -520.917226 |  8.486147e-01 | 3.627532e-117 | 1.261166e-32 | 0.09800613 | 0.09805400 | 823.82699 |\n",
       "| 73 | phylum | Spirochaetes        |  114 |  1.000000e+00 |  5.741912e-25 | 1.000000e+00 | 0.6700755 | 0.6760054 |   -45.44514 |  1.000000e+00 | ⋯ | 1.000000e+00 | 0.3413142 | 0.3443347 |   -6.993685 |  9.606455e-01 |  3.165997e-22 | 3.331758e-01 | 0.08807234 | 0.08885174 |  57.12088 |\n",
       "| 74 | phylum | Tenericutes         |  173 |  9.349221e-01 |  4.229127e-39 | 4.926423e-01 | 0.1901576 | 0.1912632 |   -47.28042 |  8.779399e-01 | ⋯ | 1.352434e-01 | 0.1239876 | 0.1247085 |  -13.953544 |  7.326643e-01 |  2.179343e-14 | 6.995532e-02 | 0.02396835 | 0.02410770 | 120.31349 |\n",
       "\n"
      ],
      "text/plain": [
       "   rank   taxon               count V.lambda      V.pval0       V.pval1     \n",
       "1  genus  Flavobacterium      119    3.740349e-01 3.425428e-01  1.887271e-03\n",
       "2  genus  Halomonas            53    7.672872e-01 3.519539e-01  5.401727e-01\n",
       "3  genus  Microbacterium       55    3.036205e-01 5.684879e-01  7.919656e-02\n",
       "4  genus  Mycoplasma           73    1.000000e+00 7.383855e-01  1.000000e+00\n",
       "5  genus  Nocardioides         74    1.000000e+00 1.319907e-01  1.000000e+00\n",
       "6  genus  Paenibacillus       117   1.177756e-204 9.999999e-01  2.224049e-04\n",
       "7  genus  Sphingomonas         58    1.356359e-82 9.999999e-01  8.961419e-02\n",
       "8  family Acetobacteraceae     57   3.099522e-158 9.999999e-01  5.556346e-04\n",
       "9  family Bacillaceae         239    4.490535e-01 1.063261e-07  3.811975e-30\n",
       "10 family Burkholderiaceae     67    7.672347e-01 3.397804e-04  1.823912e-02\n",
       "11 family Chitinophagaceae     73    7.452037e-01 1.965688e-01  1.945460e-02\n",
       "12 family Comamonadaceae       68    1.000000e+00 9.797755e-02  1.000000e+00\n",
       "13 family Cyclobacteriaceae    51    1.312438e-53 1.000000e+00  4.014288e-03\n",
       "14 family Flavobacteriaceae   437    1.968170e-01 6.489974e-02  3.580877e-10\n",
       "15 family Halomonadaceae       74    9.357873e-01 2.488418e-03  6.688059e-01\n",
       "16 family Hymenobacteraceae    58    3.711464e-01 3.377057e-01  2.428294e-01\n",
       "17 family Lactobacillaceae     90    3.052742e-80 1.000000e+00  1.690554e-04\n",
       "18 family Microbacteriaceae   159    7.041088e-01 1.102093e-02  7.145849e-03\n",
       "19 family Micrococcaceae       76    2.070158e-01 3.278995e-01  5.017241e-04\n",
       "20 family Mycoplasmataceae    113    1.000000e+00 7.085082e-01  1.000000e+00\n",
       "21 family Nocardioidaceae      97   2.371164e-216 9.999999e-01  1.897838e-01\n",
       "22 family Oxalobacteraceae     62    4.651588e-01 4.163479e-02  1.369188e-01\n",
       "23 family Paenibacillaceae    156    4.282281e-02 6.021707e-01  1.494750e-07\n",
       "24 family Rhodobacteraceae    123    8.654547e-01 5.849299e-03  1.491216e-01\n",
       "25 family Roseobacteraceae    114   1.801351e-209 1.000000e+00  3.578945e-02\n",
       "26 family Sphingobacteriaceae 122   1.059480e-217 9.999999e-01  1.841095e-06\n",
       "27 family Sphingomonadaceae   113   6.084281e-216 9.999999e-01  9.444032e-03\n",
       "28 family Weeksellaceae        60    3.694029e-84 9.999999e-01  6.224436e-04\n",
       "29 family Xanthomonadaceae     69    6.431589e-01 4.779137e-02  7.990154e-04\n",
       "30 order  Alteromonadales     132    3.944190e-01 2.417071e-04  1.502466e-03\n",
       "⋮  ⋮      ⋮                   ⋮     ⋮             ⋮             ⋮           \n",
       "45 order  Propionibacteriales  128  1.083750e-217  9.999999e-01 2.413255e-06\n",
       "46 order  Pseudomonadales       83  2.583911e-216  1.000000e+00 4.576397e-03\n",
       "47 order  Rhodobacterales      237   4.251020e-01  6.414197e-02 3.076871e-05\n",
       "48 order  Rhodospirillales     111   6.458109e-01  4.354018e-03 3.941106e-03\n",
       "49 order  Sphingobacteriales   122  4.215663e-131  9.999999e-01 1.841095e-06\n",
       "50 order  Sphingomonadales     153   5.347313e-39  9.999999e-01 2.014749e-04\n",
       "51 order  Spirochaetales        87   1.000000e+00  8.661524e-12 1.000000e+00\n",
       "52 order  Xanthomonadales      103   5.488569e-01  3.667965e-01 1.182604e-04\n",
       "53 class  Actinomycetia        727   4.251595e-01  7.486419e-09 6.850436e-23\n",
       "54 class  Alphaproteobacteria  833   7.888711e-01  1.216685e-40 3.209287e-10\n",
       "55 class  Bacilli              615   3.422785e-01  7.682982e-10 4.456667e-53\n",
       "56 class  Bacteroidia           84  1.154023e-217  9.999999e-01 2.033583e-03\n",
       "57 class  Betaproteobacteria   331   3.520611e-01  2.476236e-04 6.416780e-09\n",
       "58 class  Chitinophagia         73   7.452037e-01  1.965688e-01 1.945460e-02\n",
       "59 class  Clostridia           153   2.242452e-16  1.000000e+00 6.166843e-09\n",
       "60 class  Cytophagia           167   4.775610e-01  1.157255e-07 4.999571e-04\n",
       "61 class  Deltaproteobacteria   91   7.683481e-01  2.142629e-07 5.468018e-02\n",
       "62 class  Flavobacteriia       507   2.731736e-01  2.950173e-02 3.575599e-12\n",
       "63 class  Gammaproteobacteria  743   9.195738e-01  2.868544e-72 4.445278e-10\n",
       "64 class  Mollicutes           173   9.349221e-01  4.229127e-39 4.926423e-01\n",
       "65 class  Sphingobacteriia     122   3.243856e-26  9.999999e-01 1.841095e-06\n",
       "66 class  Spirochaetia         114   1.000000e+00  5.741912e-25 1.000000e+00\n",
       "67 phylum Actinobacteria       755   3.741286e-01  2.259861e-09 2.087584e-26\n",
       "68 phylum Bacteroidetes        963   4.770727e-01  3.843507e-19 7.037099e-23\n",
       "69 phylum Cyanobacteria         97   1.000000e+00  2.634288e-16 1.000000e+00\n",
       "70 phylum Euryarchaeota        135   4.468712e-01  3.745681e-02 4.753052e-11\n",
       "71 phylum Firmicutes           801   5.928946e-01  2.723135e-16 1.073506e-53\n",
       "72 phylum Proteobacteria      2048   8.761491e-01 1.234507e-131 4.442299e-29\n",
       "73 phylum Spirochaetes         114   1.000000e+00  5.741912e-25 1.000000e+00\n",
       "74 phylum Tenericutes          173   9.349221e-01  4.229127e-39 4.926423e-01\n",
       "   V.sigsq    V.sigsq_unb V.lnL       S.lambda      ⋯ S.pval1      S.sigsq   \n",
       "1  1.36540889 1.37698016   -88.09643   2.062669e-01 ⋯ 5.822430e-04 0.65836704\n",
       "2  1.36020204 1.38635977   -34.71664   8.673693e-01 ⋯ 7.271666e-01 0.60875236\n",
       "3  1.30599228 1.33017732   -45.09428   2.699590e-01 ⋯ 1.068832e-01 0.61098034\n",
       "4  0.04092482 0.04149322    28.93428   1.000000e+00 ⋯ 1.000000e+00 0.01449609\n",
       "5  0.78137437 0.79207813   -34.60825   1.000000e+00 ⋯ 1.000000e+00 0.38888695\n",
       "6  0.49026590 0.49449233   -53.87420   2.166414e-17 ⋯ 6.366530e-05 0.22028837\n",
       "7  0.49860957 0.50735711   -20.86747  5.652433e-125 ⋯ 1.090941e-01 0.23047343\n",
       "8  0.48644683 0.49513338   -27.73724  1.270268e-203 ⋯ 1.276489e-02 0.18991486\n",
       "9  0.53203840 0.53427386  -125.97282   4.391935e-01 ⋯ 9.727263e-29 0.24558611\n",
       "10 0.75556313 0.76701106   -30.13335   7.963239e-01 ⋯ 2.545560e-02 0.35934265\n",
       "11 1.03509125 1.04946751   -52.65660   9.809960e-01 ⋯ 3.876208e-01 0.84322100\n",
       "12 1.36706818 1.38747218   -39.79183   1.000000e+00 ⋯ 1.000000e+00 0.58877875\n",
       "13 0.57993450 0.59153319   -25.62175  2.279315e-159 ⋯ 1.254384e-03 0.30468695\n",
       "14 0.57415285 0.57546972  -252.65901   3.545925e-01 ⋯ 5.819087e-09 0.32980842\n",
       "15 1.89265349 1.91858025   -64.72250   9.686189e-01 ⋯ 8.292833e-01 0.84488081\n",
       "16 0.75152882 0.76471354   -32.74105   5.309723e-01 ⋯ 3.303075e-01 0.37368558\n",
       "17 0.74537469 0.75374969   -67.58801   8.507043e-02 ⋯ 4.175443e-04 0.40061547\n",
       "18 0.85848345 0.86391689  -108.85841   5.740430e-01 ⋯ 1.759046e-03 0.36961016\n",
       "19 0.52710938 0.53413750   -34.54933   2.591079e-01 ⋯ 3.190957e-04 0.24541903\n",
       "20 0.12534899 0.12646818   -18.44781   1.000000e+00 ⋯ 1.000000e+00 0.04456673\n",
       "21 0.63636016 0.64298891   -55.22616   1.055952e-16 ⋯ 1.045545e-01 0.30835667\n",
       "22 1.07318609 1.09077931   -37.73356   5.050943e-01 ⋯ 1.815283e-01 0.44293013\n",
       "23 0.55468692 0.55826555   -80.26741   1.536500e-02 ⋯ 2.485742e-08 0.24580994\n",
       "24 0.60712340 0.61209982   -45.22505   9.419351e-01 ⋯ 4.772218e-01 0.28177109\n",
       "25 0.96073345 0.96923551   -74.20758  1.827199e-188 ⋯ 5.482502e-03 0.45918496\n",
       "26 0.60169072 0.60666337   -76.59003  2.820260e-145 ⋯ 8.400084e-05 0.30358555\n",
       "27 0.50406968 0.50857030   -44.52587   1.954175e-71 ⋯ 1.972789e-02 0.22281997\n",
       "28 0.38939212 0.39599199   -27.76522  4.127279e-206 ⋯ 4.919339e-05 0.16476634\n",
       "29 1.18147607 1.19885072   -45.09330   7.075973e-01 ⋯ 2.778661e-03 0.60210412\n",
       "30 0.43315717 0.43646371   -44.65292   2.830701e-01 ⋯ 1.110668e-04 0.19448600\n",
       "⋮  ⋮          ⋮           ⋮           ⋮             ⋱ ⋮            ⋮         \n",
       "45 0.5654565  0.5699089     -70.53900  8.372303e-98 ⋯ 1.304369e-06 0.2726585 \n",
       "46 0.4240520  0.4292234     -36.36258 1.615611e-105 ⋯ 4.135725e-02 0.1905736 \n",
       "47 0.6650239  0.6678417    -124.64036  4.246513e-01 ⋯ 4.247011e-06 0.3099317 \n",
       "48 0.9525971  0.9612570     -82.15562  7.298652e-01 ⋯ 1.853777e-02 0.4229782 \n",
       "49 0.6016907  0.6066634     -76.59003 2.036042e-210 ⋯ 8.400084e-05 0.3035856 \n",
       "50 0.4884531  0.4916666     -73.06046  1.913780e-61 ⋯ 2.267865e-04 0.2267936 \n",
       "51 0.7142802  0.7225858     -39.48116  1.000000e+00 ⋯ 1.000000e+00 0.3859734 \n",
       "52 0.8663377  0.8748312     -57.93285  6.765304e-01 ⋯ 7.036114e-04 0.4636818 \n",
       "53 0.4371771  0.4377793    -518.35844  3.791899e-01 ⋯ 5.304971e-23 0.1969654 \n",
       "54 0.6878216  0.6886483    -482.92577  7.868129e-01 ⋯ 3.592958e-11 0.3063076 \n",
       "55 0.4819866  0.4827716    -359.68144  3.877662e-01 ⋯ 1.988236e-49 0.2400929 \n",
       "56 0.5532010  0.5598661     -66.64609  1.299205e-64 ⋯ 7.582919e-04 0.2831878 \n",
       "57 0.6711806  0.6732145    -201.41620  3.969345e-01 ⋯ 1.808885e-08 0.3052556 \n",
       "58 1.0350912  1.0494675     -52.65660  9.809960e-01 ⋯ 3.876208e-01 0.8432210 \n",
       "59 0.6484744  0.6527407    -139.84918 1.719307e-203 ⋯ 2.603850e-09 0.3029727 \n",
       "60 0.7851337  0.7898635    -105.74552  5.579711e-01 ⋯ 7.833442e-04 0.4396131 \n",
       "61 0.4816370  0.4869885     -55.10237  7.363514e-01 ⋯ 3.522884e-02 0.2250156 \n",
       "62 0.4828518  0.4838061    -291.23764  4.981292e-01 ⋯ 1.139521e-10 0.2998606 \n",
       "63 1.1351732  1.1367031    -512.15287  9.244952e-01 ⋯ 4.223915e-09 0.5421625 \n",
       "64 0.1901576  0.1912632     -47.28042  8.779399e-01 ⋯ 1.352434e-01 0.1239876 \n",
       "65 0.6016907  0.6066634     -76.59003 1.775941e-215 ⋯ 8.400084e-05 0.3035856 \n",
       "66 0.6700755  0.6760054     -45.44514  1.000000e+00 ⋯ 1.000000e+00 0.3413142 \n",
       "67 0.4123612  0.4129081    -534.07795  3.333268e-01 ⋯ 2.520102e-26 0.1874585 \n",
       "68 0.4516932  0.4521627    -612.45528  6.141953e-01 ⋯ 1.266759e-18 0.2818001 \n",
       "69 4.6820116  4.7307825    -116.67085  1.000000e+00 ⋯ 1.000000e+00 2.0748864 \n",
       "70 0.5374475  0.5414583    -115.57652  5.544258e-01 ⋯ 7.963069e-10 0.2916473 \n",
       "71 0.5796221  0.5803467    -553.40540  6.484463e-01 ⋯ 2.808098e-49 0.2982270 \n",
       "72 0.8497263  0.8501414   -1320.49106  8.839444e-01 ⋯ 9.356356e-28 0.3969455 \n",
       "73 0.6700755  0.6760054     -45.44514  1.000000e+00 ⋯ 1.000000e+00 0.3413142 \n",
       "74 0.1901576  0.1912632     -47.28042  8.779399e-01 ⋯ 1.352434e-01 0.1239876 \n",
       "   S.sigsq_unb S.lnL        SV.lambda     SV.pval0      SV.pval1    \n",
       "1  0.66394642   -45.1430636  5.506144e-01 9.698069e-02  1.649344e-02\n",
       "2  0.62045913   -13.2767523  5.020315e-01 6.163716e-01  2.487983e-01\n",
       "3  0.62229479   -24.2642084  3.380621e-01 3.604904e-01  4.517328e-02\n",
       "4  0.01469743    66.8160792  1.000000e+00 7.350806e-01  1.000000e+00\n",
       "5  0.39421417    -8.7909212  1.000000e+00 1.750348e-01  1.000000e+00\n",
       "6  0.22218741    -7.0735902  1.868696e-29 9.999996e-01  1.669734e-02\n",
       "7  0.23451682     1.5114746  3.586340e-63 9.999998e-01  5.899299e-02\n",
       "8  0.19330620    -0.9315129 8.048860e-202 9.999999e-01  1.243671e-05\n",
       "9  0.24661798   -34.6236018  5.248490e-01 4.537637e-10  2.221993e-27\n",
       "10 0.36478724    -3.8499504  6.783171e-01 2.144275e-03  8.242922e-03\n",
       "11 0.85493240   -35.0602870 2.455281e-210 9.999998e-01  6.972642e-08\n",
       "12 0.59756650   -11.1511387  1.000000e+00 1.392205e-01  1.000000e+00\n",
       "13 0.31078069    -9.2091741  2.091061e-65 9.999998e-01  1.020587e-01\n",
       "14 0.33056486  -112.3659629  3.888732e-01 7.126207e-02  7.838698e-10\n",
       "15 0.85645452   -33.9698591  8.469718e-01 1.341742e-02  3.684278e-01\n",
       "16 0.38024147   -10.0091102 3.886072e-176 9.999998e-01  5.955587e-02\n",
       "17 0.40511677   -39.2759744  3.905705e-86 9.999999e-01  9.643722e-05\n",
       "18 0.37194947   -48.7124214  8.465218e-01 1.530612e-04  7.101436e-02\n",
       "19 0.24869128    -4.7858958  1.862636e-01 4.778675e-01  2.740147e-03\n",
       "20 0.04496465    39.9796368  1.000000e+00 7.062708e-01  1.000000e+00\n",
       "21 0.31156872   -20.0875406  1.000000e+00 4.600817e-01  1.000000e+00\n",
       "22 0.45019128    -9.7423327  3.615036e-01 1.487338e-01  6.810358e-02\n",
       "23 0.24739581   -16.8874162  1.014509e-01 3.202728e-01  5.260442e-05\n",
       "24 0.28408069     5.6432014  6.289562e-01 2.906566e-01  9.313847e-03\n",
       "25 0.46324855   -32.1276761  5.204497e-01 5.696552e-01  2.209332e-01\n",
       "26 0.30609452   -34.8611483 9.754588e-218 9.999998e-01  8.410920e-08\n",
       "27 0.22480944     1.5979219  7.846687e-16 9.999997e-01  3.276702e-03\n",
       "28 0.16755899    -1.9634689  1.193652e-51 9.999998e-01  8.803845e-02\n",
       "29 0.61095860   -20.5426396  4.900279e-01 9.683278e-02  1.224385e-04\n",
       "30 0.19597063     5.3586512  5.523698e-01 4.496653e-05  1.649885e-02\n",
       "⋮  ⋮           ⋮            ⋮             ⋮             ⋮           \n",
       "45 0.2748054    -23.856548   6.995875e-16  9.999997e-01 2.332181e-04\n",
       "46 0.1928977     -3.170153   4.113867e-16  9.999998e-01 6.104181e-05\n",
       "47 0.3112450    -34.200796   3.207731e-01  8.170571e-01 5.885752e-05\n",
       "48 0.4268234    -34.008911   5.122436e-01  2.092444e-02 1.451218e-04\n",
       "49 0.3060945    -34.861148   5.793487e-24  9.999999e-01 8.410920e-08\n",
       "50 0.2282857    -14.369442  5.075585e-179  9.999997e-01 1.734047e-04\n",
       "51 0.3904615    -12.706609   9.329411e-01  1.426649e-04 1.816358e-01\n",
       "52 0.4682277    -21.134543   3.304419e-01  3.818723e-01 8.709751e-06\n",
       "53 0.1972367   -245.171054   5.516621e-01  6.591740e-14 2.704286e-20\n",
       "54 0.3066757   -147.457211   7.576778e-01  3.151640e-35 6.071437e-11\n",
       "55 0.2404839   -136.215488   4.032943e-01  1.007299e-10 1.476294e-49\n",
       "56 0.2865997    -38.522412   9.406588e-01  4.048990e-08 3.675203e-01\n",
       "57 0.3061806    -65.686428   3.186506e-01  1.027649e-04 3.126564e-09\n",
       "58 0.8549324    -35.060287  9.493997e-195  9.999999e-01 6.972642e-08\n",
       "59 0.3049660    -81.634235   5.129547e-01  4.465139e-02 5.590626e-07\n",
       "60 0.4422614    -52.817992   5.733691e-01  9.313157e-12 4.058759e-03\n",
       "61 0.2275158    -21.821275   8.500895e-01  3.333978e-07 1.759508e-01\n",
       "62 0.3004532   -125.872647   4.621626e-01  4.954995e-07 2.434887e-11\n",
       "63 0.5428932   -233.486915   9.045640e-01  7.289419e-70 1.268963e-11\n",
       "64 0.1247085    -13.953544   7.326643e-01  2.179343e-14 6.995532e-02\n",
       "65 0.3060945    -34.861148  1.331565e-104  9.999998e-01 8.410920e-08\n",
       "66 0.3443347     -6.993685   9.606515e-01  3.165997e-22 3.331758e-01\n",
       "67 0.1877071   -250.650265   4.958440e-01  6.169964e-14 7.998179e-24\n",
       "68 0.2820930   -306.784853   6.171689e-01  3.835724e-33 1.665934e-23\n",
       "69 2.0964998    -77.200509   1.000000e+00  3.052397e-16 1.000000e+00\n",
       "70 0.2938238    -67.538524   5.011210e-01  1.461611e-05 3.688049e-10\n",
       "71 0.2985998   -263.742441   5.877489e-01  4.927565e-14 7.850967e-52\n",
       "72 0.3971395   -520.917226   8.486147e-01 3.627532e-117 1.261166e-32\n",
       "73 0.3443347     -6.993685   9.606455e-01  3.165997e-22 3.331758e-01\n",
       "74 0.1247085    -13.953544   7.326643e-01  2.179343e-14 6.995532e-02\n",
       "   SV.sigsq    SV.sigsq_unb SV.lnL   \n",
       "1  0.155319821 0.156636090   41.90976\n",
       "2  0.160766207 0.163857865   21.61666\n",
       "3  0.138149409 0.140707732   16.74787\n",
       "4  0.006867491 0.006962873   94.08451\n",
       "5  0.089370797 0.090595055   45.61739\n",
       "6  0.066361452 0.066933533   63.11595\n",
       "7  0.061721185 0.062804012   39.71922\n",
       "8  0.081598063 0.083055171   23.14444\n",
       "9  0.077332499 0.077657425  112.90574\n",
       "10 0.077417356 0.078590346   42.38910\n",
       "11 0.064670313 0.065568512   38.38908\n",
       "12 0.182521228 0.185245425   28.66912\n",
       "13 0.057284881 0.058430578   33.40765\n",
       "14 0.073356975 0.073525225  220.71119\n",
       "15 0.221645969 0.224682215   12.36785\n",
       "16 0.074697496 0.076007979   30.49257\n",
       "17 0.069297355 0.070075977   39.30861\n",
       "18 0.113160975 0.113877184   61.31093\n",
       "19 0.062413896 0.063246082   46.26297\n",
       "20 0.020608418 0.020792422   83.55741\n",
       "21 0.108871113 0.110005187   47.78103\n",
       "22 0.147129174 0.149541127   22.52498\n",
       "23 0.075918613 0.076408411   75.21569\n",
       "24 0.073224452 0.073824653   75.79603\n",
       "25 0.131680962 0.132846280   49.54300\n",
       "26 0.068473612 0.069039510   55.98097\n",
       "27 0.065067855 0.065648818   71.14566\n",
       "28 0.053547940 0.054455532   31.75506\n",
       "29 0.116753916 0.118470886   32.00971\n",
       "30 0.059015114 0.059465611   91.70116\n",
       "⋮  ⋮           ⋮            ⋮        \n",
       "45 0.07178075  0.07234595    61.55810\n",
       "46 0.05648403  0.05717286    47.29719\n",
       "47 0.07702878  0.07735517   123.86923\n",
       "48 0.12367414  0.12479845    26.93216\n",
       "49 0.06847361  0.06903951    55.98097\n",
       "50 0.05984016  0.06023385    87.55636\n",
       "51 0.08913041  0.09016681    39.86381\n",
       "52 0.08345844  0.08427666    56.04949\n",
       "53 0.05925454  0.05933616   259.48712\n",
       "54 0.08491808  0.08502014   366.95619\n",
       "55 0.06186812  0.06196888   284.01247\n",
       "56 0.14535293  0.14710417    26.46924\n",
       "57 0.08230145  0.08255085   142.13886\n",
       "58 0.06467031  0.06556851    38.38908\n",
       "59 0.10108458  0.10174961    17.20658\n",
       "60 0.08538740  0.08590178    84.92772\n",
       "61 0.05999199  0.06065857    43.49046\n",
       "62 0.06410020  0.06422688   257.28817\n",
       "63 0.12998148  0.13015666   280.77469\n",
       "64 0.02396835  0.02410770   120.31349\n",
       "65 0.06847361  0.06903951    55.98097\n",
       "66 0.08807131  0.08885071    57.12088\n",
       "67 0.05479867  0.05487134   274.76067\n",
       "68 0.05842269  0.05848342   452.74652\n",
       "69 0.52370970  0.52916501   -10.42939\n",
       "70 0.06623984  0.06673416    29.01614\n",
       "71 0.06949892  0.06958579   294.00303\n",
       "72 0.09800613  0.09805400   823.82699\n",
       "73 0.08807234  0.08885174    57.12088\n",
       "74 0.02396835  0.02410770   120.31349"
      ]
     },
     "metadata": {},
     "output_type": "display_data"
    }
   ],
   "source": [
    "df_geiger"
   ]
  },
  {
   "cell_type": "code",
   "execution_count": 146,
   "metadata": {},
   "outputs": [],
   "source": [
    "write.table(df_geiger, \"physig/groups-lambda-sigsq.tsv\", sep=\"\\t\", quote=FALSE)"
   ]
  },
  {
   "cell_type": "markdown",
   "metadata": {},
   "source": [
    "### PGLS for data placed at tips of WoL"
   ]
  },
  {
   "cell_type": "code",
   "execution_count": 56,
   "metadata": {},
   "outputs": [],
   "source": [
    "comp <- comparative.data(tree_wol, data_wol, names.col = taxid, vcv = TRUE, na.omit = FALSE, warn.dropped = TRUE)"
   ]
  },
  {
   "cell_type": "code",
   "execution_count": 57,
   "metadata": {},
   "outputs": [],
   "source": [
    "df <- data.frame(matrix(ncol = 9, nrow=0))\n",
    "colnames(df) <- c(\"y\", \"x\", \"slope\", \"std.slope\", \"P.slope\", \"intercept\", \"std.intercept\", \"P.intercept\",\n",
    "                  \"adj.r.squared\")"
   ]
  },
  {
   "cell_type": "code",
   "execution_count": 58,
   "metadata": {
    "scrolled": false
   },
   "outputs": [
    {
     "name": "stdout",
     "output_type": "stream",
     "text": [
      "[1] \"log_genome ~ log_svratio\"\n",
      "\n",
      "Call:\n",
      "pgls(formula = get(ycol) ~ get(xcol), data = comp)\n",
      "\n",
      "Residuals:\n",
      "    Min      1Q  Median      3Q     Max \n",
      "-0.6943 -0.1418  0.0052  0.1588  0.7533 \n",
      "\n",
      "Branch length transformations:\n",
      "\n",
      "kappa  [Fix]  : 1.000\n",
      "lambda [Fix]  : 1.000\n",
      "delta  [Fix]  : 1.000\n",
      "\n",
      "Coefficients:\n",
      "            Estimate Std. Error t value  Pr(>|t|)    \n",
      "(Intercept) 6.461901   0.069068 93.5584 < 2.2e-16 ***\n",
      "get(xcol)   0.066545   0.013207  5.0386  5.32e-07 ***\n",
      "---\n",
      "Signif. codes:  0 ‘***’ 0.001 ‘**’ 0.01 ‘*’ 0.05 ‘.’ 0.1 ‘ ’ 1\n",
      "\n",
      "Residual standard error: 0.2236 on 1361 degrees of freedom\n",
      "Multiple R-squared: 0.01831,\tAdjusted R-squared: 0.01759 \n",
      "F-statistic: 25.39 on 1 and 1361 DF,  p-value: 5.32e-07 \n",
      "[1] \"log_genome ~ log_volume\"\n",
      "\n",
      "Call:\n",
      "pgls(formula = get(ycol) ~ get(xcol), data = comp)\n",
      "\n",
      "Residuals:\n",
      "     Min       1Q   Median       3Q      Max \n",
      "-0.67105 -0.14242  0.00488  0.15641  0.75527 \n",
      "\n",
      "Branch length transformations:\n",
      "\n",
      "kappa  [Fix]  : 1.000\n",
      "lambda [Fix]  : 1.000\n",
      "delta  [Fix]  : 1.000\n",
      "\n",
      "Coefficients:\n",
      "             Estimate Std. Error t value  Pr(>|t|)    \n",
      "(Intercept) 6.4082281  0.0679176  94.353 < 2.2e-16 ***\n",
      "get(xcol)   0.0250334  0.0045334   5.522 4.008e-08 ***\n",
      "---\n",
      "Signif. codes:  0 ‘***’ 0.001 ‘**’ 0.01 ‘*’ 0.05 ‘.’ 0.1 ‘ ’ 1\n",
      "\n",
      "Residual standard error: 0.2232 on 1361 degrees of freedom\n",
      "Multiple R-squared: 0.02191,\tAdjusted R-squared: 0.0212 \n",
      "F-statistic: 30.49 on 1 and 1361 DF,  p-value: 4.008e-08 \n",
      "[1] \"log_proteins ~ log_svratio\"\n",
      "\n",
      "Call:\n",
      "pgls(formula = get(ycol) ~ get(xcol), data = comp)\n",
      "\n",
      "Residuals:\n",
      "     Min       1Q   Median       3Q      Max \n",
      "-0.82026 -0.14230  0.00964  0.15417  0.68099 \n",
      "\n",
      "Branch length transformations:\n",
      "\n",
      "kappa  [Fix]  : 1.000\n",
      "lambda [Fix]  : 1.000\n",
      "delta  [Fix]  : 1.000\n",
      "\n",
      "Coefficients:\n",
      "            Estimate Std. Error t value  Pr(>|t|)    \n",
      "(Intercept) 3.450476   0.068607 50.2936 < 2.2e-16 ***\n",
      "get(xcol)   0.065596   0.013119  5.0001 6.476e-07 ***\n",
      "---\n",
      "Signif. codes:  0 ‘***’ 0.001 ‘**’ 0.01 ‘*’ 0.05 ‘.’ 0.1 ‘ ’ 1\n",
      "\n",
      "Residual standard error: 0.2221 on 1361 degrees of freedom\n",
      "Multiple R-squared: 0.01804,\tAdjusted R-squared: 0.01732 \n",
      "F-statistic:    25 on 1 and 1361 DF,  p-value: 6.476e-07 \n",
      "[1] \"log_proteins ~ log_volume\"\n",
      "\n",
      "Call:\n",
      "pgls(formula = get(ycol) ~ get(xcol), data = comp)\n",
      "\n",
      "Residuals:\n",
      "     Min       1Q   Median       3Q      Max \n",
      "-0.79234 -0.14115  0.00998  0.15757  0.68556 \n",
      "\n",
      "Branch length transformations:\n",
      "\n",
      "kappa  [Fix]  : 1.000\n",
      "lambda [Fix]  : 1.000\n",
      "delta  [Fix]  : 1.000\n",
      "\n",
      "Coefficients:\n",
      "             Estimate Std. Error t value  Pr(>|t|)    \n",
      "(Intercept) 3.3974446  0.0674950 50.3362 < 2.2e-16 ***\n",
      "get(xcol)   0.0241867  0.0045052  5.3687 9.315e-08 ***\n",
      "---\n",
      "Signif. codes:  0 ‘***’ 0.001 ‘**’ 0.01 ‘*’ 0.05 ‘.’ 0.1 ‘ ’ 1\n",
      "\n",
      "Residual standard error: 0.2218 on 1361 degrees of freedom\n",
      "Multiple R-squared: 0.02074,\tAdjusted R-squared: 0.02002 \n",
      "F-statistic: 28.82 on 1 and 1361 DF,  p-value: 9.315e-08 \n",
      "[1] \"arc_gc ~ log_svratio\"\n",
      "\n",
      "Call:\n",
      "pgls(formula = get(ycol) ~ get(xcol), data = comp)\n",
      "\n",
      "Residuals:\n",
      "     Min       1Q   Median       3Q      Max \n",
      "-0.41113 -0.07259  0.00136  0.07866  0.38434 \n",
      "\n",
      "Branch length transformations:\n",
      "\n",
      "kappa  [Fix]  : 1.000\n",
      "lambda [Fix]  : 1.000\n",
      "delta  [Fix]  : 1.000\n",
      "\n",
      "Coefficients:\n",
      "              Estimate Std. Error t value Pr(>|t|)    \n",
      "(Intercept)  0.7484691  0.0357115 20.9587   <2e-16 ***\n",
      "get(xcol)   -0.0035432  0.0068287 -0.5189   0.6039    \n",
      "---\n",
      "Signif. codes:  0 ‘***’ 0.001 ‘**’ 0.01 ‘*’ 0.05 ‘.’ 0.1 ‘ ’ 1\n",
      "\n",
      "Residual standard error: 0.1156 on 1361 degrees of freedom\n",
      "Multiple R-squared: 0.0001978,\tAdjusted R-squared: -0.0005368 \n",
      "F-statistic: 0.2692 on 1 and 1361 DF,  p-value: 0.6039 \n",
      "[1] \"arc_gc ~ log_volume\"\n",
      "\n",
      "Call:\n",
      "pgls(formula = get(ycol) ~ get(xcol), data = comp)\n",
      "\n",
      "Residuals:\n",
      "     Min       1Q   Median       3Q      Max \n",
      "-0.41026 -0.07325  0.00096  0.07860  0.38399 \n",
      "\n",
      "Branch length transformations:\n",
      "\n",
      "kappa  [Fix]  : 1.000\n",
      "lambda [Fix]  : 1.000\n",
      "delta  [Fix]  : 1.000\n",
      "\n",
      "Coefficients:\n",
      "              Estimate Std. Error t value Pr(>|t|)    \n",
      "(Intercept)  0.7513899  0.0351820 21.3572   <2e-16 ***\n",
      "get(xcol)   -0.0010847  0.0023483 -0.4619   0.6442    \n",
      "---\n",
      "Signif. codes:  0 ‘***’ 0.001 ‘**’ 0.01 ‘*’ 0.05 ‘.’ 0.1 ‘ ’ 1\n",
      "\n",
      "Residual standard error: 0.1156 on 1361 degrees of freedom\n",
      "Multiple R-squared: 0.0001567,\tAdjusted R-squared: -0.0005779 \n",
      "F-statistic: 0.2133 on 1 and 1361 DF,  p-value: 0.6442 \n",
      "[1] \"arc_coding ~ log_svratio\"\n",
      "\n",
      "Call:\n",
      "pgls(formula = get(ycol) ~ get(xcol), data = comp)\n",
      "\n",
      "Residuals:\n",
      "     Min       1Q   Median       3Q      Max \n",
      "-0.40938 -0.04982  0.00186  0.05143  0.43540 \n",
      "\n",
      "Branch length transformations:\n",
      "\n",
      "kappa  [Fix]  : 1.000\n",
      "lambda [Fix]  : 1.000\n",
      "delta  [Fix]  : 1.000\n",
      "\n",
      "Coefficients:\n",
      "              Estimate Std. Error t value Pr(>|t|)    \n",
      "(Intercept)  1.2295182  0.0258130 47.6318   <2e-16 ***\n",
      "get(xcol)   -0.0077528  0.0049359 -1.5707   0.1165    \n",
      "---\n",
      "Signif. codes:  0 ‘***’ 0.001 ‘**’ 0.01 ‘*’ 0.05 ‘.’ 0.1 ‘ ’ 1\n",
      "\n",
      "Residual standard error: 0.08357 on 1361 degrees of freedom\n",
      "Multiple R-squared: 0.001809,\tAdjusted R-squared: 0.001076 \n",
      "F-statistic: 2.467 on 1 and 1361 DF,  p-value: 0.1165 \n",
      "[1] \"arc_coding ~ log_volume\"\n",
      "\n",
      "Call:\n",
      "pgls(formula = get(ycol) ~ get(xcol), data = comp)\n",
      "\n",
      "Residuals:\n",
      "     Min       1Q   Median       3Q      Max \n",
      "-0.41087 -0.04975  0.00157  0.05196  0.44044 \n",
      "\n",
      "Branch length transformations:\n",
      "\n",
      "kappa  [Fix]  : 1.000\n",
      "lambda [Fix]  : 1.000\n",
      "delta  [Fix]  : 1.000\n",
      "\n",
      "Coefficients:\n",
      "              Estimate Std. Error t value Pr(>|t|)    \n",
      "(Intercept)  1.2355892  0.0254099 48.6263  < 2e-16 ***\n",
      "get(xcol)   -0.0036339  0.0016961 -2.1426  0.03232 *  \n",
      "---\n",
      "Signif. codes:  0 ‘***’ 0.001 ‘**’ 0.01 ‘*’ 0.05 ‘.’ 0.1 ‘ ’ 1\n",
      "\n",
      "Residual standard error: 0.0835 on 1361 degrees of freedom\n",
      "Multiple R-squared: 0.003362,\tAdjusted R-squared: 0.002629 \n",
      "F-statistic: 4.591 on 1 and 1361 DF,  p-value: 0.03232 \n",
      "[1] \"rrnas ~ log_svratio\"\n",
      "\n",
      "Call:\n",
      "pgls(formula = get(ycol) ~ get(xcol), data = comp)\n",
      "\n",
      "Residuals:\n",
      "    Min      1Q  Median      3Q     Max \n",
      "-47.904  -2.096   0.050   2.258  40.515 \n",
      "\n",
      "Branch length transformations:\n",
      "\n",
      "kappa  [Fix]  : 1.000\n",
      "lambda [Fix]  : 1.000\n",
      "delta  [Fix]  : 1.000\n",
      "\n",
      "Coefficients:\n",
      "            Estimate Std. Error t value Pr(>|t|)\n",
      "(Intercept)  1.61026    1.65158  0.9750   0.3297\n",
      "get(xcol)   -0.21812    0.31581 -0.6907   0.4899\n",
      "\n",
      "Residual standard error: 5.347 on 1361 degrees of freedom\n",
      "Multiple R-squared: 0.0003504,\tAdjusted R-squared: -0.0003841 \n",
      "F-statistic: 0.477 on 1 and 1361 DF,  p-value: 0.4899 \n",
      "[1] \"rrnas ~ log_volume\"\n",
      "\n",
      "Call:\n",
      "pgls(formula = get(ycol) ~ get(xcol), data = comp)\n",
      "\n",
      "Residuals:\n",
      "    Min      1Q  Median      3Q     Max \n",
      "-48.014  -2.117   0.028   2.250  40.572 \n",
      "\n",
      "Branch length transformations:\n",
      "\n",
      "kappa  [Fix]  : 1.000\n",
      "lambda [Fix]  : 1.000\n",
      "delta  [Fix]  : 1.000\n",
      "\n",
      "Coefficients:\n",
      "             Estimate Std. Error t value Pr(>|t|)\n",
      "(Intercept)  1.794812   1.627229  1.1030   0.2702\n",
      "get(xcol)   -0.048107   0.108614 -0.4429   0.6579\n",
      "\n",
      "Residual standard error: 5.347 on 1361 degrees of freedom\n",
      "Multiple R-squared: 0.0001441,\tAdjusted R-squared: -0.0005905 \n",
      "F-statistic: 0.1962 on 1 and 1361 DF,  p-value: 0.6579 \n",
      "[1] \"ENCprime ~ log_svratio\"\n",
      "\n",
      "Call:\n",
      "pgls(formula = get(ycol) ~ get(xcol), data = comp)\n",
      "\n",
      "Residuals:\n",
      "     Min       1Q   Median       3Q      Max \n",
      "-0.43460 -0.06525  0.00413  0.07361  0.46304 \n",
      "\n",
      "Branch length transformations:\n",
      "\n",
      "kappa  [Fix]  : 1.000\n",
      "lambda [Fix]  : 1.000\n",
      "delta  [Fix]  : 1.000\n",
      "\n",
      "Coefficients:\n",
      "             Estimate Std. Error t value Pr(>|t|)   \n",
      "(Intercept) 0.0890584  0.0338671  2.6296 0.008644 **\n",
      "get(xcol)   0.0057312  0.0064760  0.8850 0.376324   \n",
      "---\n",
      "Signif. codes:  0 ‘***’ 0.001 ‘**’ 0.01 ‘*’ 0.05 ‘.’ 0.1 ‘ ’ 1\n",
      "\n",
      "Residual standard error: 0.1096 on 1361 degrees of freedom\n",
      "Multiple R-squared: 0.0005751,\tAdjusted R-squared: -0.0001592 \n",
      "F-statistic: 0.7832 on 1 and 1361 DF,  p-value: 0.3763 \n",
      "[1] \"ENCprime ~ log_volume\"\n",
      "\n",
      "Call:\n",
      "pgls(formula = get(ycol) ~ get(xcol), data = comp)\n",
      "\n",
      "Residuals:\n",
      "     Min       1Q   Median       3Q      Max \n",
      "-0.43599 -0.06516  0.00447  0.07270  0.45857 \n",
      "\n",
      "Branch length transformations:\n",
      "\n",
      "kappa  [Fix]  : 1.000\n",
      "lambda [Fix]  : 1.000\n",
      "delta  [Fix]  : 1.000\n",
      "\n",
      "Coefficients:\n",
      "              Estimate Std. Error t value Pr(>|t|)  \n",
      "(Intercept) 0.08413163 0.03337161  2.5211  0.01181 *\n",
      "get(xcol)   0.00095792 0.00222748  0.4300  0.66723  \n",
      "---\n",
      "Signif. codes:  0 ‘***’ 0.001 ‘**’ 0.01 ‘*’ 0.05 ‘.’ 0.1 ‘ ’ 1\n",
      "\n",
      "Residual standard error: 0.1097 on 1361 degrees of freedom\n",
      "Multiple R-squared: 0.0001359,\tAdjusted R-squared: -0.0005988 \n",
      "F-statistic: 0.1849 on 1 and 1361 DF,  p-value: 0.6672 \n"
     ]
    }
   ],
   "source": [
    "for (ycol in c(\"log_genome\", \"log_proteins\", \"arc_gc\", \"arc_coding\", \"rrnas\", \"ENCprime\")) {\n",
    "    for (xcol in c(\"log_svratio\", \"log_volume\")) {\n",
    "        reg <- pgls(get(ycol) ~ get(xcol), data = comp)\n",
    "        sreg <- summary(reg)\n",
    "        df[nrow(df) + 1,] <- list(\n",
    "            ycol, xcol, unname(reg$model$coef[2]), sreg$coefficients[2, 2], sreg$coefficients[2, 4],\n",
    "            unname(reg$model$coef[1]), sreg$coefficients[1, 2], sreg$coefficients[1, 4],\n",
    "            sreg$adj.r.squared[1])\n",
    "        print(paste(ycol, '~', xcol))\n",
    "        print(sreg)\n",
    "    }\n",
    "}"
   ]
  },
  {
   "cell_type": "code",
   "execution_count": 59,
   "metadata": {},
   "outputs": [
    {
     "data": {
      "text/html": [
       "<table class=\"dataframe\">\n",
       "<caption>A data.frame: 12 × 9</caption>\n",
       "<thead>\n",
       "\t<tr><th></th><th scope=col>y</th><th scope=col>x</th><th scope=col>slope</th><th scope=col>std.slope</th><th scope=col>P.slope</th><th scope=col>intercept</th><th scope=col>std.intercept</th><th scope=col>P.intercept</th><th scope=col>adj.r.squared</th></tr>\n",
       "\t<tr><th></th><th scope=col>&lt;chr&gt;</th><th scope=col>&lt;chr&gt;</th><th scope=col>&lt;dbl&gt;</th><th scope=col>&lt;dbl&gt;</th><th scope=col>&lt;dbl&gt;</th><th scope=col>&lt;dbl&gt;</th><th scope=col>&lt;dbl&gt;</th><th scope=col>&lt;dbl&gt;</th><th scope=col>&lt;dbl&gt;</th></tr>\n",
       "</thead>\n",
       "<tbody>\n",
       "\t<tr><th scope=row>1</th><td>log_genome  </td><td>log_svratio</td><td> 0.0665449662</td><td>0.013207137</td><td>5.320494e-07</td><td>6.46190060</td><td>0.06906810</td><td>0.000000000</td><td> 0.0175903950</td></tr>\n",
       "\t<tr><th scope=row>2</th><td>log_genome  </td><td>log_volume </td><td> 0.0250333968</td><td>0.004533356</td><td>4.008481e-08</td><td>6.40822808</td><td>0.06791761</td><td>0.000000000</td><td> 0.0211952048</td></tr>\n",
       "\t<tr><th scope=row>3</th><td>log_proteins</td><td>log_svratio</td><td> 0.0655957684</td><td>0.013118913</td><td>6.476357e-07</td><td>3.45047583</td><td>0.06860672</td><td>0.000000000</td><td> 0.0173166677</td></tr>\n",
       "\t<tr><th scope=row>4</th><td>log_proteins</td><td>log_volume </td><td> 0.0241867046</td><td>0.004505151</td><td>9.315368e-08</td><td>3.39744457</td><td>0.06749504</td><td>0.000000000</td><td> 0.0200188879</td></tr>\n",
       "\t<tr><th scope=row>5</th><td>arc_gc      </td><td>log_svratio</td><td>-0.0035431917</td><td>0.006828726</td><td>6.039388e-01</td><td>0.74846911</td><td>0.03571154</td><td>0.000000000</td><td>-0.0005368361</td></tr>\n",
       "\t<tr><th scope=row>6</th><td>arc_gc      </td><td>log_volume </td><td>-0.0010846521</td><td>0.002348324</td><td>6.442387e-01</td><td>0.75138995</td><td>0.03518201</td><td>0.000000000</td><td>-0.0005779136</td></tr>\n",
       "\t<tr><th scope=row>7</th><td>arc_coding  </td><td>log_svratio</td><td>-0.0077528309</td><td>0.004935932</td><td>1.164866e-01</td><td>1.22951820</td><td>0.02581297</td><td>0.000000000</td><td> 0.0010759881</td></tr>\n",
       "\t<tr><th scope=row>8</th><td>arc_coding  </td><td>log_volume </td><td>-0.0036339373</td><td>0.001696058</td><td>3.232391e-02</td><td>1.23558915</td><td>0.02540992</td><td>0.000000000</td><td> 0.0026293697</td></tr>\n",
       "\t<tr><th scope=row>9</th><td>rrnas       </td><td>log_svratio</td><td>-0.2181213870</td><td>0.315814354</td><td>4.898949e-01</td><td>1.61026335</td><td>1.65158413</td><td>0.329742878</td><td>-0.0003841300</td></tr>\n",
       "\t<tr><th scope=row>10</th><td>rrnas       </td><td>log_volume </td><td>-0.0481067994</td><td>0.108614070</td><td>6.578976e-01</td><td>1.79481166</td><td>1.62722887</td><td>0.270227970</td><td>-0.0005905294</td></tr>\n",
       "\t<tr><th scope=row>11</th><td>ENCprime    </td><td>log_svratio</td><td> 0.0057311617</td><td>0.006476044</td><td>3.763244e-01</td><td>0.08905838</td><td>0.03386715</td><td>0.008643899</td><td>-0.0001592122</td></tr>\n",
       "\t<tr><th scope=row>12</th><td>ENCprime    </td><td>log_volume </td><td> 0.0009579247</td><td>0.002227484</td><td>6.672290e-01</td><td>0.08413163</td><td>0.03337161</td><td>0.011813875</td><td>-0.0005987863</td></tr>\n",
       "</tbody>\n",
       "</table>\n"
      ],
      "text/latex": [
       "A data.frame: 12 × 9\n",
       "\\begin{tabular}{r|lllllllll}\n",
       "  & y & x & slope & std.slope & P.slope & intercept & std.intercept & P.intercept & adj.r.squared\\\\\n",
       "  & <chr> & <chr> & <dbl> & <dbl> & <dbl> & <dbl> & <dbl> & <dbl> & <dbl>\\\\\n",
       "\\hline\n",
       "\t1 & log\\_genome   & log\\_svratio &  0.0665449662 & 0.013207137 & 5.320494e-07 & 6.46190060 & 0.06906810 & 0.000000000 &  0.0175903950\\\\\n",
       "\t2 & log\\_genome   & log\\_volume  &  0.0250333968 & 0.004533356 & 4.008481e-08 & 6.40822808 & 0.06791761 & 0.000000000 &  0.0211952048\\\\\n",
       "\t3 & log\\_proteins & log\\_svratio &  0.0655957684 & 0.013118913 & 6.476357e-07 & 3.45047583 & 0.06860672 & 0.000000000 &  0.0173166677\\\\\n",
       "\t4 & log\\_proteins & log\\_volume  &  0.0241867046 & 0.004505151 & 9.315368e-08 & 3.39744457 & 0.06749504 & 0.000000000 &  0.0200188879\\\\\n",
       "\t5 & arc\\_gc       & log\\_svratio & -0.0035431917 & 0.006828726 & 6.039388e-01 & 0.74846911 & 0.03571154 & 0.000000000 & -0.0005368361\\\\\n",
       "\t6 & arc\\_gc       & log\\_volume  & -0.0010846521 & 0.002348324 & 6.442387e-01 & 0.75138995 & 0.03518201 & 0.000000000 & -0.0005779136\\\\\n",
       "\t7 & arc\\_coding   & log\\_svratio & -0.0077528309 & 0.004935932 & 1.164866e-01 & 1.22951820 & 0.02581297 & 0.000000000 &  0.0010759881\\\\\n",
       "\t8 & arc\\_coding   & log\\_volume  & -0.0036339373 & 0.001696058 & 3.232391e-02 & 1.23558915 & 0.02540992 & 0.000000000 &  0.0026293697\\\\\n",
       "\t9 & rrnas        & log\\_svratio & -0.2181213870 & 0.315814354 & 4.898949e-01 & 1.61026335 & 1.65158413 & 0.329742878 & -0.0003841300\\\\\n",
       "\t10 & rrnas        & log\\_volume  & -0.0481067994 & 0.108614070 & 6.578976e-01 & 1.79481166 & 1.62722887 & 0.270227970 & -0.0005905294\\\\\n",
       "\t11 & ENCprime     & log\\_svratio &  0.0057311617 & 0.006476044 & 3.763244e-01 & 0.08905838 & 0.03386715 & 0.008643899 & -0.0001592122\\\\\n",
       "\t12 & ENCprime     & log\\_volume  &  0.0009579247 & 0.002227484 & 6.672290e-01 & 0.08413163 & 0.03337161 & 0.011813875 & -0.0005987863\\\\\n",
       "\\end{tabular}\n"
      ],
      "text/markdown": [
       "\n",
       "A data.frame: 12 × 9\n",
       "\n",
       "| <!--/--> | y &lt;chr&gt; | x &lt;chr&gt; | slope &lt;dbl&gt; | std.slope &lt;dbl&gt; | P.slope &lt;dbl&gt; | intercept &lt;dbl&gt; | std.intercept &lt;dbl&gt; | P.intercept &lt;dbl&gt; | adj.r.squared &lt;dbl&gt; |\n",
       "|---|---|---|---|---|---|---|---|---|---|\n",
       "| 1 | log_genome   | log_svratio |  0.0665449662 | 0.013207137 | 5.320494e-07 | 6.46190060 | 0.06906810 | 0.000000000 |  0.0175903950 |\n",
       "| 2 | log_genome   | log_volume  |  0.0250333968 | 0.004533356 | 4.008481e-08 | 6.40822808 | 0.06791761 | 0.000000000 |  0.0211952048 |\n",
       "| 3 | log_proteins | log_svratio |  0.0655957684 | 0.013118913 | 6.476357e-07 | 3.45047583 | 0.06860672 | 0.000000000 |  0.0173166677 |\n",
       "| 4 | log_proteins | log_volume  |  0.0241867046 | 0.004505151 | 9.315368e-08 | 3.39744457 | 0.06749504 | 0.000000000 |  0.0200188879 |\n",
       "| 5 | arc_gc       | log_svratio | -0.0035431917 | 0.006828726 | 6.039388e-01 | 0.74846911 | 0.03571154 | 0.000000000 | -0.0005368361 |\n",
       "| 6 | arc_gc       | log_volume  | -0.0010846521 | 0.002348324 | 6.442387e-01 | 0.75138995 | 0.03518201 | 0.000000000 | -0.0005779136 |\n",
       "| 7 | arc_coding   | log_svratio | -0.0077528309 | 0.004935932 | 1.164866e-01 | 1.22951820 | 0.02581297 | 0.000000000 |  0.0010759881 |\n",
       "| 8 | arc_coding   | log_volume  | -0.0036339373 | 0.001696058 | 3.232391e-02 | 1.23558915 | 0.02540992 | 0.000000000 |  0.0026293697 |\n",
       "| 9 | rrnas        | log_svratio | -0.2181213870 | 0.315814354 | 4.898949e-01 | 1.61026335 | 1.65158413 | 0.329742878 | -0.0003841300 |\n",
       "| 10 | rrnas        | log_volume  | -0.0481067994 | 0.108614070 | 6.578976e-01 | 1.79481166 | 1.62722887 | 0.270227970 | -0.0005905294 |\n",
       "| 11 | ENCprime     | log_svratio |  0.0057311617 | 0.006476044 | 3.763244e-01 | 0.08905838 | 0.03386715 | 0.008643899 | -0.0001592122 |\n",
       "| 12 | ENCprime     | log_volume  |  0.0009579247 | 0.002227484 | 6.672290e-01 | 0.08413163 | 0.03337161 | 0.011813875 | -0.0005987863 |\n",
       "\n"
      ],
      "text/plain": [
       "   y            x           slope         std.slope   P.slope      intercept \n",
       "1  log_genome   log_svratio  0.0665449662 0.013207137 5.320494e-07 6.46190060\n",
       "2  log_genome   log_volume   0.0250333968 0.004533356 4.008481e-08 6.40822808\n",
       "3  log_proteins log_svratio  0.0655957684 0.013118913 6.476357e-07 3.45047583\n",
       "4  log_proteins log_volume   0.0241867046 0.004505151 9.315368e-08 3.39744457\n",
       "5  arc_gc       log_svratio -0.0035431917 0.006828726 6.039388e-01 0.74846911\n",
       "6  arc_gc       log_volume  -0.0010846521 0.002348324 6.442387e-01 0.75138995\n",
       "7  arc_coding   log_svratio -0.0077528309 0.004935932 1.164866e-01 1.22951820\n",
       "8  arc_coding   log_volume  -0.0036339373 0.001696058 3.232391e-02 1.23558915\n",
       "9  rrnas        log_svratio -0.2181213870 0.315814354 4.898949e-01 1.61026335\n",
       "10 rrnas        log_volume  -0.0481067994 0.108614070 6.578976e-01 1.79481166\n",
       "11 ENCprime     log_svratio  0.0057311617 0.006476044 3.763244e-01 0.08905838\n",
       "12 ENCprime     log_volume   0.0009579247 0.002227484 6.672290e-01 0.08413163\n",
       "   std.intercept P.intercept adj.r.squared\n",
       "1  0.06906810    0.000000000  0.0175903950\n",
       "2  0.06791761    0.000000000  0.0211952048\n",
       "3  0.06860672    0.000000000  0.0173166677\n",
       "4  0.06749504    0.000000000  0.0200188879\n",
       "5  0.03571154    0.000000000 -0.0005368361\n",
       "6  0.03518201    0.000000000 -0.0005779136\n",
       "7  0.02581297    0.000000000  0.0010759881\n",
       "8  0.02540992    0.000000000  0.0026293697\n",
       "9  1.65158413    0.329742878 -0.0003841300\n",
       "10 1.62722887    0.270227970 -0.0005905294\n",
       "11 0.03386715    0.008643899 -0.0001592122\n",
       "12 0.03337161    0.011813875 -0.0005987863"
      ]
     },
     "metadata": {},
     "output_type": "display_data"
    }
   ],
   "source": [
    "df"
   ]
  },
  {
   "cell_type": "code",
   "execution_count": 60,
   "metadata": {},
   "outputs": [],
   "source": [
    "write.table(df, \"physig/PGLS_wol.tsv\", sep=\"\\t\", quote=FALSE, row.names=FALSE)"
   ]
  },
  {
   "cell_type": "code",
   "execution_count": null,
   "metadata": {},
   "outputs": [],
   "source": []
  },
  {
   "cell_type": "code",
   "execution_count": null,
   "metadata": {},
   "outputs": [],
   "source": []
  },
  {
   "cell_type": "code",
   "execution_count": null,
   "metadata": {},
   "outputs": [],
   "source": []
  },
  {
   "cell_type": "code",
   "execution_count": null,
   "metadata": {},
   "outputs": [],
   "source": []
  },
  {
   "cell_type": "code",
   "execution_count": null,
   "metadata": {},
   "outputs": [],
   "source": []
  },
  {
   "cell_type": "code",
   "execution_count": null,
   "metadata": {},
   "outputs": [],
   "source": []
  }
 ],
 "metadata": {
  "kernelspec": {
   "display_name": "R",
   "language": "R",
   "name": "ir"
  },
  "language_info": {
   "codemirror_mode": "r",
   "file_extension": ".r",
   "mimetype": "text/x-r-source",
   "name": "R",
   "pygments_lexer": "r",
   "version": "4.1.2"
  }
 },
 "nbformat": 4,
 "nbformat_minor": 5
}
