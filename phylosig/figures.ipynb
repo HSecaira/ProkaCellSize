{
 "cells": [
  {
   "cell_type": "markdown",
   "metadata": {},
   "source": [
    "# Phylogenetic signal (Pagel's $\\lambda$) changing sampling size: randomly and sampling $n$ species per genus"
   ]
  },
  {
   "cell_type": "code",
   "execution_count": 1,
   "metadata": {},
   "outputs": [],
   "source": [
    "import numpy as np\n",
    "import pandas as pd\n",
    "import matplotlib.pyplot as plt\n",
    "from mpl_toolkits import mplot3d\n",
    "import matplotlib.patches as mpatches\n",
    "import matplotlib.lines as mlines\n",
    "from matplotlib.legend import Legend"
   ]
  },
  {
   "cell_type": "code",
   "execution_count": 2,
   "metadata": {},
   "outputs": [],
   "source": [
    "plt.rcParams.update({\n",
    "    'figure.autolayout': True,\n",
    "    'savefig.bbox': 'tight',\n",
    "    'svg.fonttype': 'none',\n",
    "    'font.sans-serif': 'Arial',\n",
    "    'font.size': 11,\n",
    "    'boxplot.medianprops.linewidth': 2,\n",
    "    'boxplot.flierprops.markeredgecolor': 'none',\n",
    "    'boxplot.flierprops.markersize': 5})"
   ]
  },
  {
   "cell_type": "code",
   "execution_count": 3,
   "metadata": {},
   "outputs": [
    {
     "data": {
      "text/plain": [
       "(11, 6)"
      ]
     },
     "execution_count": 3,
     "metadata": {},
     "output_type": "execute_result"
    }
   ],
   "source": [
    "df_ssr = pd.read_table('physig/lambda_random_sample_size.tsv', index_col = 0, sep = '\\t')\n",
    "df_ssr.shape"
   ]
  },
  {
   "cell_type": "code",
   "execution_count": 4,
   "metadata": {},
   "outputs": [
    {
     "data": {
      "text/plain": [
       "(12, 7)"
      ]
     },
     "execution_count": 4,
     "metadata": {},
     "output_type": "execute_result"
    }
   ],
   "source": [
    "df_ssg = pd.read_table('physig/lambda_random_sample_genus.tsv', index_col = 0, sep = '\\t')\n",
    "df_ssg.shape"
   ]
  },
  {
   "cell_type": "code",
   "execution_count": 5,
   "metadata": {},
   "outputs": [
    {
     "data": {
      "image/png": "[encoded data removed]",
      "text/plain": [
       "<Figure size 648x216 with 2 Axes>"
      ]
     },
     "metadata": {
      "needs_background": "light"
     },
     "output_type": "display_data"
    }
   ],
   "source": [
    "fig, ax = plt.subplots(1, 2, figsize = (9, 3), \n",
    "                       sharey = True, sharex = False)\n",
    "ax[0].plot(df_ssr.index, df_ssr['lambda'], marker = 'o', color = '#4c5c68')\n",
    "ax[0].axhline(y = 0.83, linestyle = 'dashed', color = '#c1121f', linewidth = 1)\n",
    "ax[1].plot(df_ssg.index, df_ssg['lambda'], marker = 'o', color = '#4c5c68')\n",
    "ax[1].axhline(y = 0.83, linestyle = 'dashed', color = '#c1121f', linewidth = 1)\n",
    "ax[0].set_ylim(0.7, 0.9)\n",
    "ax[0].tick_params(top = True, right = True, direction = 'in', which = 'both')\n",
    "ax[0].set_ylabel('Pagel\\'s $\\it{λ}$')\n",
    "ax[0].set_xlabel(f'Number of species\\nsampled')\n",
    "ax[1].set_xlabel(f'Number of species\\nsampled per genus')\n",
    "ax[1].tick_params(top = True, right = True, direction = 'in', which = 'both')\n",
    "plt.savefig('../figures_all/robustness_pagels.svg')\n",
    "plt.show()"
   ]
  },
  {
   "cell_type": "code",
   "execution_count": null,
   "metadata": {},
   "outputs": [],
   "source": []
  }
 ],
 "metadata": {
  "kernelspec": {
   "display_name": "Python 3",
   "language": "python",
   "name": "python3"
  },
  "language_info": {
   "codemirror_mode": {
    "name": "ipython",
    "version": 3
   },
   "file_extension": ".py",
   "mimetype": "text/x-python",
   "name": "python",
   "nbconvert_exporter": "python",
   "pygments_lexer": "ipython3",
   "version": "3.8.5"
  }
 },
 "nbformat": 4,
 "nbformat_minor": 4
}
