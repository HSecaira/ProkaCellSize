{
 "cells": [
  {
   "cell_type": "markdown",
   "metadata": {},
   "source": [
    "# Phylogenetic signal of average of optimal growth temperature"
   ]
  },
  {
   "cell_type": "code",
   "execution_count": 1,
   "metadata": {},
   "outputs": [
    {
     "name": "stderr",
     "output_type": "stream",
     "text": [
      "Loading required package: maps\n",
      "\n",
      "code for methods in class “Rcpp_Fitch” was not checked for suspicious field assignments (recommended package ‘codetools’ not available?)\n",
      "\n",
      "code for methods in class “Rcpp_Fitch” was not checked for suspicious field assignments (recommended package ‘codetools’ not available?)\n",
      "\n",
      "Loading required package: MASS\n",
      "\n",
      "Loading required package: mvtnorm\n",
      "\n"
     ]
    }
   ],
   "source": [
    "library(ape)\n",
    "library(phytools)\n",
    "library(caper)\n",
    "library(geiger)"
   ]
  },
  {
   "cell_type": "markdown",
   "metadata": {},
   "source": [
    "Load data"
   ]
  },
  {
   "cell_type": "code",
   "execution_count": 2,
   "metadata": {},
   "outputs": [
    {
     "data": {
      "text/html": [
       "<table class=\"dataframe\">\n",
       "<caption>A data.frame: 3 × 28</caption>\n",
       "<thead>\n",
       "\t<tr><th></th><th scope=col>taxid</th><th scope=col>length</th><th scope=col>width</th><th scope=col>volume</th><th scope=col>surface</th><th scope=col>shape</th><th scope=col>species</th><th scope=col>genus</th><th scope=col>family</th><th scope=col>order</th><th scope=col>⋯</th><th scope=col>coding</th><th scope=col>rrnas</th><th scope=col>MILC</th><th scope=col>B</th><th scope=col>MCB</th><th scope=col>ENC</th><th scope=col>ENCprime</th><th scope=col>SCUO</th><th scope=col>hash</th><th scope=col>topt</th></tr>\n",
       "\t<tr><th></th><th scope=col>&lt;chr&gt;</th><th scope=col>&lt;dbl&gt;</th><th scope=col>&lt;dbl&gt;</th><th scope=col>&lt;dbl&gt;</th><th scope=col>&lt;dbl&gt;</th><th scope=col>&lt;chr&gt;</th><th scope=col>&lt;chr&gt;</th><th scope=col>&lt;chr&gt;</th><th scope=col>&lt;chr&gt;</th><th scope=col>&lt;chr&gt;</th><th scope=col>⋯</th><th scope=col>&lt;dbl&gt;</th><th scope=col>&lt;dbl&gt;</th><th scope=col>&lt;dbl&gt;</th><th scope=col>&lt;dbl&gt;</th><th scope=col>&lt;dbl&gt;</th><th scope=col>&lt;dbl&gt;</th><th scope=col>&lt;dbl&gt;</th><th scope=col>&lt;dbl&gt;</th><th scope=col>&lt;dbl&gt;</th><th scope=col>&lt;dbl&gt;</th></tr>\n",
       "</thead>\n",
       "<tbody>\n",
       "\t<tr><th scope=row>1</th><td>taxid14 </td><td>10.00000</td><td>0.4898979</td><td>1.85417440</td><td>15.390598</td><td>rod-shaped </td><td>Dictyoglomus thermophilum</td><td>Dictyoglomus  </td><td>Dictyoglomaceae  </td><td>Dictyoglomales </td><td>⋯</td><td>93.77725</td><td>2</td><td>0.058817141</td><td>-0.192631758</td><td>-0.05707928</td><td>0.0218529</td><td>-1.104863e-02</td><td>-0.2228213</td><td>1.50</td><td>78</td></tr>\n",
       "\t<tr><th scope=row>2</th><td>taxid23 </td><td> 1.50000</td><td>0.7000000</td><td>0.48747046</td><td> 3.298672</td><td>rod-shaped </td><td>Shewanella colwelliana   </td><td>Shewanella    </td><td>Shewanellaceae   </td><td>Alteromonadales</td><td>⋯</td><td>87.38314</td><td>0</td><td>0.135029019</td><td>-0.002838678</td><td> 0.08282373</td><td>0.2153492</td><td>-3.105027e-02</td><td>-1.1902120</td><td>1.37</td><td>25</td></tr>\n",
       "\t<tr><th scope=row>3</th><td>taxid104</td><td> 1.03923</td><td>0.3464102</td><td>0.08706237</td><td> 1.130973</td><td>ring-shaped</td><td>Cyclobacterium marinum   </td><td>Cyclobacterium</td><td>Cyclobacteriaceae</td><td>Cytophagales   </td><td>⋯</td><td>87.12132</td><td>3</td><td>0.009948511</td><td>-0.257339233</td><td>-0.15164623</td><td>0.1002689</td><td>-6.795228e-05</td><td>-0.4924868</td><td>1.75</td><td>25</td></tr>\n",
       "</tbody>\n",
       "</table>\n"
      ],
      "text/latex": [
       "A data.frame: 3 × 28\n",
       "\\begin{tabular}{r|lllllllllllllllllllll}\n",
       "  & taxid & length & width & volume & surface & shape & species & genus & family & order & ⋯ & coding & rrnas & MILC & B & MCB & ENC & ENCprime & SCUO & hash & topt\\\\\n",
       "  & <chr> & <dbl> & <dbl> & <dbl> & <dbl> & <chr> & <chr> & <chr> & <chr> & <chr> & ⋯ & <dbl> & <dbl> & <dbl> & <dbl> & <dbl> & <dbl> & <dbl> & <dbl> & <dbl> & <dbl>\\\\\n",
       "\\hline\n",
       "\t1 & taxid14  & 10.00000 & 0.4898979 & 1.85417440 & 15.390598 & rod-shaped  & Dictyoglomus thermophilum & Dictyoglomus   & Dictyoglomaceae   & Dictyoglomales  & ⋯ & 93.77725 & 2 & 0.058817141 & -0.192631758 & -0.05707928 & 0.0218529 & -1.104863e-02 & -0.2228213 & 1.50 & 78\\\\\n",
       "\t2 & taxid23  &  1.50000 & 0.7000000 & 0.48747046 &  3.298672 & rod-shaped  & Shewanella colwelliana    & Shewanella     & Shewanellaceae    & Alteromonadales & ⋯ & 87.38314 & 0 & 0.135029019 & -0.002838678 &  0.08282373 & 0.2153492 & -3.105027e-02 & -1.1902120 & 1.37 & 25\\\\\n",
       "\t3 & taxid104 &  1.03923 & 0.3464102 & 0.08706237 &  1.130973 & ring-shaped & Cyclobacterium marinum    & Cyclobacterium & Cyclobacteriaceae & Cytophagales    & ⋯ & 87.12132 & 3 & 0.009948511 & -0.257339233 & -0.15164623 & 0.1002689 & -6.795228e-05 & -0.4924868 & 1.75 & 25\\\\\n",
       "\\end{tabular}\n"
      ],
      "text/markdown": [
       "\n",
       "A data.frame: 3 × 28\n",
       "\n",
       "| <!--/--> | taxid &lt;chr&gt; | length &lt;dbl&gt; | width &lt;dbl&gt; | volume &lt;dbl&gt; | surface &lt;dbl&gt; | shape &lt;chr&gt; | species &lt;chr&gt; | genus &lt;chr&gt; | family &lt;chr&gt; | order &lt;chr&gt; | ⋯ ⋯ | coding &lt;dbl&gt; | rrnas &lt;dbl&gt; | MILC &lt;dbl&gt; | B &lt;dbl&gt; | MCB &lt;dbl&gt; | ENC &lt;dbl&gt; | ENCprime &lt;dbl&gt; | SCUO &lt;dbl&gt; | hash &lt;dbl&gt; | topt &lt;dbl&gt; |\n",
       "|---|---|---|---|---|---|---|---|---|---|---|---|---|---|---|---|---|---|---|---|---|---|\n",
       "| 1 | taxid14  | 10.00000 | 0.4898979 | 1.85417440 | 15.390598 | rod-shaped  | Dictyoglomus thermophilum | Dictyoglomus   | Dictyoglomaceae   | Dictyoglomales  | ⋯ | 93.77725 | 2 | 0.058817141 | -0.192631758 | -0.05707928 | 0.0218529 | -1.104863e-02 | -0.2228213 | 1.50 | 78 |\n",
       "| 2 | taxid23  |  1.50000 | 0.7000000 | 0.48747046 |  3.298672 | rod-shaped  | Shewanella colwelliana    | Shewanella     | Shewanellaceae    | Alteromonadales | ⋯ | 87.38314 | 0 | 0.135029019 | -0.002838678 |  0.08282373 | 0.2153492 | -3.105027e-02 | -1.1902120 | 1.37 | 25 |\n",
       "| 3 | taxid104 |  1.03923 | 0.3464102 | 0.08706237 |  1.130973 | ring-shaped | Cyclobacterium marinum    | Cyclobacterium | Cyclobacteriaceae | Cytophagales    | ⋯ | 87.12132 | 3 | 0.009948511 | -0.257339233 | -0.15164623 | 0.1002689 | -6.795228e-05 | -0.4924868 | 1.75 | 25 |\n",
       "\n"
      ],
      "text/plain": [
       "  taxid    length   width     volume     surface   shape      \n",
       "1 taxid14  10.00000 0.4898979 1.85417440 15.390598 rod-shaped \n",
       "2 taxid23   1.50000 0.7000000 0.48747046  3.298672 rod-shaped \n",
       "3 taxid104  1.03923 0.3464102 0.08706237  1.130973 ring-shaped\n",
       "  species                   genus          family            order           ⋯\n",
       "1 Dictyoglomus thermophilum Dictyoglomus   Dictyoglomaceae   Dictyoglomales  ⋯\n",
       "2 Shewanella colwelliana    Shewanella     Shewanellaceae    Alteromonadales ⋯\n",
       "3 Cyclobacterium marinum    Cyclobacterium Cyclobacteriaceae Cytophagales    ⋯\n",
       "  coding   rrnas MILC        B            MCB         ENC       ENCprime     \n",
       "1 93.77725 2     0.058817141 -0.192631758 -0.05707928 0.0218529 -1.104863e-02\n",
       "2 87.38314 0     0.135029019 -0.002838678  0.08282373 0.2153492 -3.105027e-02\n",
       "3 87.12132 3     0.009948511 -0.257339233 -0.15164623 0.1002689 -6.795228e-05\n",
       "  SCUO       hash topt\n",
       "1 -0.2228213 1.50 78  \n",
       "2 -1.1902120 1.37 25  \n",
       "3 -0.4924868 1.75 25  "
      ]
     },
     "metadata": {},
     "output_type": "display_data"
    }
   ],
   "source": [
    "data <- read.table(\"../phylogeny/place/fine_all_temperature.tsv\", header=TRUE, sep=\"\\t\", quote=\"\")\n",
    "head(data, 3)"
   ]
  },
  {
   "cell_type": "code",
   "execution_count": 3,
   "metadata": {},
   "outputs": [
    {
     "data": {
      "text/html": [
       "3431"
      ],
      "text/latex": [
       "3431"
      ],
      "text/markdown": [
       "3431"
      ],
      "text/plain": [
       "[1] 3431"
      ]
     },
     "metadata": {},
     "output_type": "display_data"
    }
   ],
   "source": [
    "nrow(data)"
   ]
  },
  {
   "cell_type": "code",
   "execution_count": null,
   "metadata": {},
   "outputs": [],
   "source": []
  },
  {
   "cell_type": "code",
   "execution_count": 4,
   "metadata": {},
   "outputs": [
    {
     "data": {
      "image/png": "[encoded data removed]",
      "text/plain": [
       "Plot with title “Histogram of data$topt”"
      ]
     },
     "metadata": {
      "image/png": {
       "height": 420,
       "width": 420
      }
     },
     "output_type": "display_data"
    }
   ],
   "source": [
    "hist(data$topt)"
   ]
  },
  {
   "cell_type": "code",
   "execution_count": 5,
   "metadata": {},
   "outputs": [
    {
     "data": {
      "image/png": "[encoded data removed]",
      "text/plain": [
       "Plot with title “Histogram of log10(data$topt)”"
      ]
     },
     "metadata": {
      "image/png": {
       "height": 420,
       "width": 420
      }
     },
     "output_type": "display_data"
    }
   ],
   "source": [
    "hist(log10(data$topt))"
   ]
  },
  {
   "cell_type": "markdown",
   "metadata": {},
   "source": [
    "Load tree"
   ]
  },
  {
   "cell_type": "code",
   "execution_count": 6,
   "metadata": {},
   "outputs": [
    {
     "data": {
      "text/plain": [
       "\n",
       "Phylogenetic tree with 3431 tips and 1288 internal nodes.\n",
       "\n",
       "Tip labels:\n",
       "  taxid71518, taxid83984, taxid2193, taxid83985, taxid71152, taxid2203, ...\n",
       "Node labels:\n",
       "  N1, N5, N18, N51, N79, N119, ...\n",
       "\n",
       "Rooted; includes branch lengths."
      ]
     },
     "metadata": {},
     "output_type": "display_data"
    }
   ],
   "source": [
    "tree <- read.tree(\"../phylogeny/place/fine_all_temperature.nwk\")\n",
    "tree"
   ]
  },
  {
   "cell_type": "markdown",
   "metadata": {},
   "source": [
    "### Pagel's $\\lambda, \\sigma^2$ - geiger "
   ]
  },
  {
   "cell_type": "code",
   "execution_count": 7,
   "metadata": {},
   "outputs": [],
   "source": [
    "# Binarize tree - required for geiger package\n",
    "tree2 <- multi2di(tree)"
   ]
  },
  {
   "cell_type": "code",
   "execution_count": 8,
   "metadata": {},
   "outputs": [
    {
     "data": {
      "text/html": [
       "<table class=\"dataframe\">\n",
       "<caption>A data.frame: 0 × 6</caption>\n",
       "<thead>\n",
       "\t<tr><th scope=col>lambda</th><th scope=col>pval0</th><th scope=col>pval1</th><th scope=col>sigsq</th><th scope=col>sigsq_unb</th><th scope=col>lnL</th></tr>\n",
       "\t<tr><th scope=col>&lt;lgl&gt;</th><th scope=col>&lt;lgl&gt;</th><th scope=col>&lt;lgl&gt;</th><th scope=col>&lt;lgl&gt;</th><th scope=col>&lt;lgl&gt;</th><th scope=col>&lt;lgl&gt;</th></tr>\n",
       "</thead>\n",
       "<tbody>\n",
       "</tbody>\n",
       "</table>\n"
      ],
      "text/latex": [
       "A data.frame: 0 × 6\n",
       "\\begin{tabular}{llllll}\n",
       " lambda & pval0 & pval1 & sigsq & sigsq\\_unb & lnL\\\\\n",
       " <lgl> & <lgl> & <lgl> & <lgl> & <lgl> & <lgl>\\\\\n",
       "\\hline\n",
       "\\end{tabular}\n"
      ],
      "text/markdown": [
       "\n",
       "A data.frame: 0 × 6\n",
       "\n",
       "| lambda &lt;lgl&gt; | pval0 &lt;lgl&gt; | pval1 &lt;lgl&gt; | sigsq &lt;lgl&gt; | sigsq_unb &lt;lgl&gt; | lnL &lt;lgl&gt; |\n",
       "|---|---|---|---|---|---|\n",
       "\n"
      ],
      "text/plain": [
       "     lambda pval0 pval1 sigsq sigsq_unb lnL"
      ]
     },
     "metadata": {},
     "output_type": "display_data"
    }
   ],
   "source": [
    "# Dataframe to save outputs\n",
    "df_geiger <- data.frame(matrix(ncol=6, nrow=0))\n",
    "colnames(df_geiger) <- c('lambda', 'pval0', 'pval1', 'sigsq',\n",
    "                 'sigsq_unb', 'lnL')\n",
    "df_geiger"
   ]
  },
  {
   "cell_type": "code",
   "execution_count": 9,
   "metadata": {},
   "outputs": [],
   "source": [
    "lambda_sigsq <- function(tree, x){\n",
    "    # Fit model\n",
    "    lambda2 <- fitContinuous(tree, x, model=\"lambda\")\n",
    "    # Reescale tree such that lambda = 0, i.e. star phylogeny\n",
    "    t0 <- rescale(tree, 'lambda', 0)\n",
    "    # Fit tree and trait to a BM model of evolution\n",
    "    lambda_L0 <- fitContinuous(t0, x, model = 'BM')\n",
    "    # Likelihood ratio test\n",
    "    LLR0 <- -2 * (lambda_L0$opt$lnL - lambda2$opt$lnL)\n",
    "    # Get a p-value from a chi-sq distribution\n",
    "    pval0 <- pchisq(LLR0, df = 1, lower.tail = FALSE)\n",
    "    \n",
    "    # Test if lambda != 1\n",
    "    lambda_L1 <- fitContinuous(tree, x, model = 'BM')\n",
    "    # Likelihood ratio test\n",
    "    LLR1 <- -2 * (lambda_L1$opt$lnL - lambda2$opt$lnL)\n",
    "    # Get a p-value\n",
    "    pval1 <- pchisq(LLR1, df = 1, lower.tail = FALSE)\n",
    "    # sigsq\n",
    "    sigsq <- lambda2$opt$sigsq\n",
    "    # Get the unbiased estimator of sigsq\n",
    "    sigsq_unb <- lambda2$opt$sigsq * length(tree$tip.label)/(length(tree$tip.label)-1)\n",
    "    # Get the likelihood\n",
    "    lnL <- lambda2$opt$lnL\n",
    "    \n",
    "    return(list(lambda = lambda2$opt$lambda, pval0 = pval0, \n",
    "                pval1 = pval1, sigsq = sigsq, sigsq_unb = sigsq_unb,\n",
    "               lnL = lnL))\n",
    "}"
   ]
  },
  {
   "cell_type": "code",
   "execution_count": 10,
   "metadata": {},
   "outputs": [],
   "source": [
    "datum <- setNames(data$topt, data$taxid)"
   ]
  },
  {
   "cell_type": "code",
   "execution_count": 11,
   "metadata": {},
   "outputs": [
    {
     "data": {
      "text/html": [
       "<dl>\n",
       "\t<dt>$lambda</dt>\n",
       "\t\t<dd>0.985721194291956</dd>\n",
       "\t<dt>$pval0</dt>\n",
       "\t\t<dd>0</dd>\n",
       "\t<dt>$pval1</dt>\n",
       "\t\t<dd>0.000224096229282949</dd>\n",
       "\t<dt>$sigsq</dt>\n",
       "\t\t<dd>171.076040952992</dd>\n",
       "\t<dt>$sigsq_unb</dt>\n",
       "\t\t<dd>171.125917349771</dd>\n",
       "\t<dt>$lnL</dt>\n",
       "\t\t<dd>-11051.7066338718</dd>\n",
       "</dl>\n"
      ],
      "text/latex": [
       "\\begin{description}\n",
       "\\item[\\$lambda] 0.985721194291956\n",
       "\\item[\\$pval0] 0\n",
       "\\item[\\$pval1] 0.000224096229282949\n",
       "\\item[\\$sigsq] 171.076040952992\n",
       "\\item[\\$sigsq\\_unb] 171.125917349771\n",
       "\\item[\\$lnL] -11051.7066338718\n",
       "\\end{description}\n"
      ],
      "text/markdown": [
       "$lambda\n",
       ":   0.985721194291956\n",
       "$pval0\n",
       ":   0\n",
       "$pval1\n",
       ":   0.000224096229282949\n",
       "$sigsq\n",
       ":   171.076040952992\n",
       "$sigsq_unb\n",
       ":   171.125917349771\n",
       "$lnL\n",
       ":   -11051.7066338718\n",
       "\n",
       "\n"
      ],
      "text/plain": [
       "$lambda\n",
       "[1] 0.9857212\n",
       "\n",
       "$pval0\n",
       "[1] 0\n",
       "\n",
       "$pval1\n",
       "[1] 0.0002240962\n",
       "\n",
       "$sigsq\n",
       "[1] 171.076\n",
       "\n",
       "$sigsq_unb\n",
       "[1] 171.1259\n",
       "\n",
       "$lnL\n",
       "[1] -11051.71\n"
      ]
     },
     "metadata": {},
     "output_type": "display_data"
    }
   ],
   "source": [
    "l_sq <- lambda_sigsq(tree2, datum)\n",
    "l_sq"
   ]
  },
  {
   "cell_type": "code",
   "execution_count": 12,
   "metadata": {},
   "outputs": [],
   "source": [
    "# datum <- setNames(log10(data$topt), data$taxid)"
   ]
  },
  {
   "cell_type": "code",
   "execution_count": 13,
   "metadata": {},
   "outputs": [],
   "source": [
    "# l_sq <- lambda_sigsq(tree2, datum)\n",
    "# l_sq"
   ]
  },
  {
   "cell_type": "code",
   "execution_count": 14,
   "metadata": {},
   "outputs": [
    {
     "data": {
      "text/html": [
       "<table class=\"dataframe\">\n",
       "<caption>A data.frame: 1 × 6</caption>\n",
       "<thead>\n",
       "\t<tr><th></th><th scope=col>lambda</th><th scope=col>pval0</th><th scope=col>pval1</th><th scope=col>sigsq</th><th scope=col>sigsq_unb</th><th scope=col>lnL</th></tr>\n",
       "\t<tr><th></th><th scope=col>&lt;dbl&gt;</th><th scope=col>&lt;dbl&gt;</th><th scope=col>&lt;dbl&gt;</th><th scope=col>&lt;dbl&gt;</th><th scope=col>&lt;dbl&gt;</th><th scope=col>&lt;dbl&gt;</th></tr>\n",
       "</thead>\n",
       "<tbody>\n",
       "\t<tr><th scope=row>topt</th><td>0.9857212</td><td>0</td><td>0.0002240962</td><td>171.076</td><td>171.1259</td><td>-11051.71</td></tr>\n",
       "</tbody>\n",
       "</table>\n"
      ],
      "text/latex": [
       "A data.frame: 1 × 6\n",
       "\\begin{tabular}{r|llllll}\n",
       "  & lambda & pval0 & pval1 & sigsq & sigsq\\_unb & lnL\\\\\n",
       "  & <dbl> & <dbl> & <dbl> & <dbl> & <dbl> & <dbl>\\\\\n",
       "\\hline\n",
       "\ttopt & 0.9857212 & 0 & 0.0002240962 & 171.076 & 171.1259 & -11051.71\\\\\n",
       "\\end{tabular}\n"
      ],
      "text/markdown": [
       "\n",
       "A data.frame: 1 × 6\n",
       "\n",
       "| <!--/--> | lambda &lt;dbl&gt; | pval0 &lt;dbl&gt; | pval1 &lt;dbl&gt; | sigsq &lt;dbl&gt; | sigsq_unb &lt;dbl&gt; | lnL &lt;dbl&gt; |\n",
       "|---|---|---|---|---|---|---|\n",
       "| topt | 0.9857212 | 0 | 0.0002240962 | 171.076 | 171.1259 | -11051.71 |\n",
       "\n"
      ],
      "text/plain": [
       "     lambda    pval0 pval1        sigsq   sigsq_unb lnL      \n",
       "topt 0.9857212 0     0.0002240962 171.076 171.1259  -11051.71"
      ]
     },
     "metadata": {},
     "output_type": "display_data"
    }
   ],
   "source": [
    "df_geiger[nrow(df_geiger) + 1,] <- c(l_sq$lambda, l_sq$pval0, l_sq$pval1, l_sq$sigsq,\n",
    "                                    l_sq$sigsq_unb, l_sq$lnL)\n",
    "rownames(df_geiger)[nrow(df_geiger)] <- \"topt\"\n",
    "df_geiger"
   ]
  },
  {
   "cell_type": "code",
   "execution_count": 15,
   "metadata": {},
   "outputs": [],
   "source": [
    "# Save x and y positions for likelihood calculation\n",
    "lambda2 <- fitContinuous(tree2, datum, model = 'lambda')\n",
    "# For lambda\n",
    "xpos1 <- seq(0, 1, length.out = 50)\n",
    "# For sigmasq\n",
    "xpos2 <- seq(0, 3, length.out = 50)\n",
    "ypos <- c()\n",
    "for (i in 1:length(xpos1)){\n",
    "    ypos[i] <- lambda2$lik(c(xpos1[i], xpos2[i]))\n",
    "}"
   ]
  },
  {
   "cell_type": "code",
   "execution_count": 16,
   "metadata": {},
   "outputs": [],
   "source": [
    "write.table(data.frame(x1 = xpos1, x2 = xpos2, y = ypos), \"physig/topt.lambda-sigsq.plot\", \n",
    "            sep=\"\\t\", col.names=FALSE, row.names=FALSE)"
   ]
  },
  {
   "cell_type": "code",
   "execution_count": 17,
   "metadata": {},
   "outputs": [],
   "source": [
    "write.table(df_geiger, \"physig/lambda_topt-sigsq.tsv\", sep=\"\\t\", quote=FALSE)"
   ]
  },
  {
   "cell_type": "markdown",
   "metadata": {},
   "source": [
    "### Blomberg's K"
   ]
  },
  {
   "cell_type": "code",
   "execution_count": 18,
   "metadata": {},
   "outputs": [],
   "source": [
    "df <- data.frame(matrix(ncol=2, nrow=0))\n",
    "colnames(df) <- c(\"K\", \"P\")"
   ]
  },
  {
   "cell_type": "code",
   "execution_count": 19,
   "metadata": {},
   "outputs": [],
   "source": [
    "datum <- setNames(data$topt, data$taxid)"
   ]
  },
  {
   "cell_type": "code",
   "execution_count": 20,
   "metadata": {},
   "outputs": [
    {
     "data": {
      "text/plain": [
       "\n",
       "Phylogenetic signal K : 3.89783 \n",
       "P-value (based on 1000 randomizations) : 0.001 \n"
      ]
     },
     "metadata": {},
     "output_type": "display_data"
    }
   ],
   "source": [
    "set.seed(42)\n",
    "K <- phylosig(tree, datum, method=\"K\", test=TRUE)\n",
    "K"
   ]
  },
  {
   "cell_type": "code",
   "execution_count": 21,
   "metadata": {},
   "outputs": [],
   "source": [
    "df[nrow(df) + 1,] <- c(K$K, K$P)\n",
    "rownames(df)[nrow(df)] <- \"topt\""
   ]
  },
  {
   "cell_type": "code",
   "execution_count": 22,
   "metadata": {},
   "outputs": [],
   "source": [
    "write.table(df, \"physig/topt_K.tsv\", sep=\"\\t\", quote=FALSE)"
   ]
  },
  {
   "cell_type": "code",
   "execution_count": 23,
   "metadata": {},
   "outputs": [],
   "source": [
    "writeLines(capture.output(K), \"physig/topt.K\")"
   ]
  },
  {
   "cell_type": "code",
   "execution_count": 24,
   "metadata": {},
   "outputs": [],
   "source": [
    "write.table(K$sim.K, \"physig/topt.K.plot\", col.names=FALSE, row.names=FALSE)"
   ]
  },
  {
   "cell_type": "code",
   "execution_count": null,
   "metadata": {},
   "outputs": [],
   "source": []
  },
  {
   "cell_type": "code",
   "execution_count": null,
   "metadata": {},
   "outputs": [],
   "source": []
  },
  {
   "cell_type": "code",
   "execution_count": null,
   "metadata": {},
   "outputs": [],
   "source": []
  },
  {
   "cell_type": "code",
   "execution_count": null,
   "metadata": {},
   "outputs": [],
   "source": []
  },
  {
   "cell_type": "code",
   "execution_count": null,
   "metadata": {},
   "outputs": [],
   "source": []
  }
 ],
 "metadata": {
  "kernelspec": {
   "display_name": "R",
   "language": "R",
   "name": "ir"
  },
  "language_info": {
   "codemirror_mode": "r",
   "file_extension": ".r",
   "mimetype": "text/x-r-source",
   "name": "R",
   "pygments_lexer": "r",
   "version": "4.1.2"
  }
 },
 "nbformat": 4,
 "nbformat_minor": 4
}
