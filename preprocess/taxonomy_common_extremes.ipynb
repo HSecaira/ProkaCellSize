{
 "cells": [
  {
   "cell_type": "markdown",
   "metadata": {},
   "source": [
    "# Match cell size with NCBI taxonomy"
   ]
  },
  {
   "cell_type": "code",
   "execution_count": 1,
   "metadata": {},
   "outputs": [],
   "source": [
    "# Imports\n",
    "import numpy as np\n",
    "import pandas as pd\n",
    "import matplotlib.pyplot as plt\n",
    "from scipy.stats import gmean\n",
    "from Bio import Entrez\n",
    "import time\n",
    "import re"
   ]
  },
  {
   "cell_type": "code",
   "execution_count": 2,
   "metadata": {},
   "outputs": [],
   "source": [
    "# Interactive matplotlib plot\n",
    "%matplotlib notebook"
   ]
  },
  {
   "cell_type": "code",
   "execution_count": 3,
   "metadata": {},
   "outputs": [],
   "source": [
    "import lzma"
   ]
  },
  {
   "cell_type": "markdown",
   "metadata": {},
   "source": [
    "### Cell size data"
   ]
  },
  {
   "cell_type": "code",
   "execution_count": 4,
   "metadata": {},
   "outputs": [
    {
     "data": {
      "text/html": [
       "<div>\n",
       "<style scoped>\n",
       "    .dataframe tbody tr th:only-of-type {\n",
       "        vertical-align: middle;\n",
       "    }\n",
       "\n",
       "    .dataframe tbody tr th {\n",
       "        vertical-align: top;\n",
       "    }\n",
       "\n",
       "    .dataframe thead th {\n",
       "        text-align: right;\n",
       "    }\n",
       "</style>\n",
       "<table border=\"1\" class=\"dataframe\">\n",
       "  <thead>\n",
       "    <tr style=\"text-align: right;\">\n",
       "      <th></th>\n",
       "      <th>Unnamed: 0</th>\n",
       "      <th>species</th>\n",
       "      <th>length</th>\n",
       "      <th>width</th>\n",
       "      <th>Shape</th>\n",
       "      <th>reference</th>\n",
       "      <th>volume</th>\n",
       "      <th>surface</th>\n",
       "    </tr>\n",
       "  </thead>\n",
       "  <tbody>\n",
       "    <tr>\n",
       "      <th>0</th>\n",
       "      <td>0</td>\n",
       "      <td>Campylobacter jejuni</td>\n",
       "      <td>1.118034</td>\n",
       "      <td>1.118034</td>\n",
       "      <td>sphere/spiral</td>\n",
       "      <td>Rodrigues, R.C., Pocheron, AL., Hernould, M. e...</td>\n",
       "      <td>0.731752</td>\n",
       "      <td>3.926991</td>\n",
       "    </tr>\n",
       "    <tr>\n",
       "      <th>1</th>\n",
       "      <td>1</td>\n",
       "      <td>Listeria monocytogenes</td>\n",
       "      <td>1.414214</td>\n",
       "      <td>1.000000</td>\n",
       "      <td>rod</td>\n",
       "      <td>Abdollah Jamshidi, Tayebeh Zeinali, \"Significa...</td>\n",
       "      <td>0.848921</td>\n",
       "      <td>4.442883</td>\n",
       "    </tr>\n",
       "    <tr>\n",
       "      <th>2</th>\n",
       "      <td>2</td>\n",
       "      <td>Staphylococcus aureus</td>\n",
       "      <td>1.000000</td>\n",
       "      <td>1.000000</td>\n",
       "      <td>sphere</td>\n",
       "      <td>Monteiro, J. M., Fernandes, P. B., Vaz, F., Pe...</td>\n",
       "      <td>0.523599</td>\n",
       "      <td>3.141593</td>\n",
       "    </tr>\n",
       "    <tr>\n",
       "      <th>3</th>\n",
       "      <td>3</td>\n",
       "      <td>Streptococcus pneumoniae</td>\n",
       "      <td>0.790569</td>\n",
       "      <td>0.790569</td>\n",
       "      <td>sphere</td>\n",
       "      <td>Patterson MJ. Streptococcus. In: Baron S, edit...</td>\n",
       "      <td>0.258713</td>\n",
       "      <td>1.963495</td>\n",
       "    </tr>\n",
       "    <tr>\n",
       "      <th>4</th>\n",
       "      <td>4</td>\n",
       "      <td>Campylobacter coli</td>\n",
       "      <td>0.316228</td>\n",
       "      <td>0.316228</td>\n",
       "      <td>sphere/rod</td>\n",
       "      <td>Lansing M. Prescott, John P. Harley, and Donal...</td>\n",
       "      <td>0.016558</td>\n",
       "      <td>0.314159</td>\n",
       "    </tr>\n",
       "  </tbody>\n",
       "</table>\n",
       "</div>"
      ],
      "text/plain": [
       "   Unnamed: 0                   species    length     width          Shape  \\\n",
       "0           0      Campylobacter jejuni  1.118034  1.118034  sphere/spiral   \n",
       "1           1    Listeria monocytogenes  1.414214  1.000000            rod   \n",
       "2           2     Staphylococcus aureus  1.000000  1.000000         sphere   \n",
       "3           3  Streptococcus pneumoniae  0.790569  0.790569         sphere   \n",
       "4           4        Campylobacter coli  0.316228  0.316228     sphere/rod   \n",
       "\n",
       "                                           reference    volume   surface  \n",
       "0  Rodrigues, R.C., Pocheron, AL., Hernould, M. e...  0.731752  3.926991  \n",
       "1  Abdollah Jamshidi, Tayebeh Zeinali, \"Significa...  0.848921  4.442883  \n",
       "2  Monteiro, J. M., Fernandes, P. B., Vaz, F., Pe...  0.523599  3.141593  \n",
       "3  Patterson MJ. Streptococcus. In: Baron S, edit...  0.258713  1.963495  \n",
       "4  Lansing M. Prescott, John P. Harley, and Donal...  0.016558  0.314159  "
      ]
     },
     "execution_count": 4,
     "metadata": {},
     "output_type": "execute_result"
    }
   ],
   "source": [
    "df = pd.read_table('data_manually.tsv')\n",
    "df.head()"
   ]
  },
  {
   "cell_type": "code",
   "execution_count": 5,
   "metadata": {},
   "outputs": [
    {
     "data": {
      "text/plain": [
       "(54, 8)"
      ]
     },
     "execution_count": 5,
     "metadata": {},
     "output_type": "execute_result"
    }
   ],
   "source": [
    "df.shape"
   ]
  },
  {
   "cell_type": "code",
   "execution_count": 6,
   "metadata": {},
   "outputs": [
    {
     "data": {
      "text/html": [
       "<div>\n",
       "<style scoped>\n",
       "    .dataframe tbody tr th:only-of-type {\n",
       "        vertical-align: middle;\n",
       "    }\n",
       "\n",
       "    .dataframe tbody tr th {\n",
       "        vertical-align: top;\n",
       "    }\n",
       "\n",
       "    .dataframe thead th {\n",
       "        text-align: right;\n",
       "    }\n",
       "</style>\n",
       "<table border=\"1\" class=\"dataframe\">\n",
       "  <thead>\n",
       "    <tr style=\"text-align: right;\">\n",
       "      <th></th>\n",
       "      <th>name</th>\n",
       "      <th>length</th>\n",
       "      <th>width</th>\n",
       "      <th>shape</th>\n",
       "      <th>reference</th>\n",
       "      <th>volume</th>\n",
       "      <th>surface</th>\n",
       "    </tr>\n",
       "  </thead>\n",
       "  <tbody>\n",
       "    <tr>\n",
       "      <th>0</th>\n",
       "      <td>Campylobacter jejuni</td>\n",
       "      <td>1.118034</td>\n",
       "      <td>1.118034</td>\n",
       "      <td>sphere/spiral</td>\n",
       "      <td>Rodrigues, R.C., Pocheron, AL., Hernould, M. e...</td>\n",
       "      <td>0.731752</td>\n",
       "      <td>3.926991</td>\n",
       "    </tr>\n",
       "    <tr>\n",
       "      <th>1</th>\n",
       "      <td>Listeria monocytogenes</td>\n",
       "      <td>1.414214</td>\n",
       "      <td>1.000000</td>\n",
       "      <td>rod</td>\n",
       "      <td>Abdollah Jamshidi, Tayebeh Zeinali, \"Significa...</td>\n",
       "      <td>0.848921</td>\n",
       "      <td>4.442883</td>\n",
       "    </tr>\n",
       "    <tr>\n",
       "      <th>2</th>\n",
       "      <td>Staphylococcus aureus</td>\n",
       "      <td>1.000000</td>\n",
       "      <td>1.000000</td>\n",
       "      <td>sphere</td>\n",
       "      <td>Monteiro, J. M., Fernandes, P. B., Vaz, F., Pe...</td>\n",
       "      <td>0.523599</td>\n",
       "      <td>3.141593</td>\n",
       "    </tr>\n",
       "    <tr>\n",
       "      <th>3</th>\n",
       "      <td>Streptococcus pneumoniae</td>\n",
       "      <td>0.790569</td>\n",
       "      <td>0.790569</td>\n",
       "      <td>sphere</td>\n",
       "      <td>Patterson MJ. Streptococcus. In: Baron S, edit...</td>\n",
       "      <td>0.258713</td>\n",
       "      <td>1.963495</td>\n",
       "    </tr>\n",
       "    <tr>\n",
       "      <th>4</th>\n",
       "      <td>Campylobacter coli</td>\n",
       "      <td>0.316228</td>\n",
       "      <td>0.316228</td>\n",
       "      <td>sphere/rod</td>\n",
       "      <td>Lansing M. Prescott, John P. Harley, and Donal...</td>\n",
       "      <td>0.016558</td>\n",
       "      <td>0.314159</td>\n",
       "    </tr>\n",
       "  </tbody>\n",
       "</table>\n",
       "</div>"
      ],
      "text/plain": [
       "                       name    length     width          shape  \\\n",
       "0      Campylobacter jejuni  1.118034  1.118034  sphere/spiral   \n",
       "1    Listeria monocytogenes  1.414214  1.000000            rod   \n",
       "2     Staphylococcus aureus  1.000000  1.000000         sphere   \n",
       "3  Streptococcus pneumoniae  0.790569  0.790569         sphere   \n",
       "4        Campylobacter coli  0.316228  0.316228     sphere/rod   \n",
       "\n",
       "                                           reference    volume   surface  \n",
       "0  Rodrigues, R.C., Pocheron, AL., Hernould, M. e...  0.731752  3.926991  \n",
       "1  Abdollah Jamshidi, Tayebeh Zeinali, \"Significa...  0.848921  4.442883  \n",
       "2  Monteiro, J. M., Fernandes, P. B., Vaz, F., Pe...  0.523599  3.141593  \n",
       "3  Patterson MJ. Streptococcus. In: Baron S, edit...  0.258713  1.963495  \n",
       "4  Lansing M. Prescott, John P. Harley, and Donal...  0.016558  0.314159  "
      ]
     },
     "execution_count": 6,
     "metadata": {},
     "output_type": "execute_result"
    }
   ],
   "source": [
    "# Reformat dataframe\n",
    "df['key'] = np.arange(df.shape[0])\n",
    "df.set_index('key')\n",
    "df.drop(columns = ['Unnamed: 0', 'key'], inplace = True)\n",
    "df.rename(columns = {'species': 'name', 'Shape': 'shape'}, inplace = True)\n",
    "df.head()"
   ]
  },
  {
   "cell_type": "markdown",
   "metadata": {},
   "source": [
    "### Reference taxonomy\n",
    "\n",
    "Read NCBI taxonomy database."
   ]
  },
  {
   "cell_type": "code",
   "execution_count": 7,
   "metadata": {},
   "outputs": [],
   "source": [
    "dump = {}\n",
    "with lzma.open('nodes.dmp.xz', 'rb') as f:\n",
    "    for line in f.read().decode().splitlines():\n",
    "        x = line.rstrip('\\r\\n').replace('\\t|', '').split('\\t')\n",
    "        dump[x[0]] = {'parent': x[1], 'rank': x[2], 'name': '', 'children': set()}\n",
    "with lzma.open('names.dmp.xz', 'rb') as f:\n",
    "    for line in f.read().decode().splitlines():\n",
    "        x = line.rstrip('\\r\\n').replace('\\t|', '').split('\\t')\n",
    "        if x[3] == 'scientific name':\n",
    "            dump[x[0]]['name'] = x[1]\n",
    "for tid in dump:\n",
    "    pid = dump[tid]['parent']\n",
    "    if tid != pid:\n",
    "        dump[pid]['children'].add(tid)"
   ]
  },
  {
   "cell_type": "code",
   "execution_count": 8,
   "metadata": {},
   "outputs": [
    {
     "data": {
      "text/plain": [
       "2375861"
      ]
     },
     "execution_count": 8,
     "metadata": {},
     "output_type": "execute_result"
    }
   ],
   "source": [
    "len(dump)"
   ]
  },
  {
   "cell_type": "markdown",
   "metadata": {},
   "source": [
    "### Match by taxon name\n",
    "\n",
    "Match species name"
   ]
  },
  {
   "cell_type": "code",
   "execution_count": 9,
   "metadata": {},
   "outputs": [],
   "source": [
    "spnames = {v['name']: k for k, v in dump.items() if v['rank'] == 'species'}"
   ]
  },
  {
   "cell_type": "code",
   "execution_count": 10,
   "metadata": {},
   "outputs": [
    {
     "data": {
      "text/plain": [
       "True     49\n",
       "False     5\n",
       "Name: name, dtype: int64"
      ]
     },
     "execution_count": 10,
     "metadata": {},
     "output_type": "execute_result"
    }
   ],
   "source": [
    "df['name'].astype(str).isin(spnames).value_counts()"
   ]
  },
  {
   "cell_type": "markdown",
   "metadata": {},
   "source": [
    "Add species TaxID."
   ]
  },
  {
   "cell_type": "code",
   "execution_count": 11,
   "metadata": {},
   "outputs": [],
   "source": [
    "df['sptid'] = df['name'].map(spnames)"
   ]
  },
  {
   "cell_type": "markdown",
   "metadata": {},
   "source": [
    "Check the remaining"
   ]
  },
  {
   "cell_type": "code",
   "execution_count": 12,
   "metadata": {},
   "outputs": [
    {
     "data": {
      "text/html": [
       "<div>\n",
       "<style scoped>\n",
       "    .dataframe tbody tr th:only-of-type {\n",
       "        vertical-align: middle;\n",
       "    }\n",
       "\n",
       "    .dataframe tbody tr th {\n",
       "        vertical-align: top;\n",
       "    }\n",
       "\n",
       "    .dataframe thead th {\n",
       "        text-align: right;\n",
       "    }\n",
       "</style>\n",
       "<table border=\"1\" class=\"dataframe\">\n",
       "  <thead>\n",
       "    <tr style=\"text-align: right;\">\n",
       "      <th></th>\n",
       "      <th>name</th>\n",
       "      <th>length</th>\n",
       "      <th>width</th>\n",
       "      <th>shape</th>\n",
       "      <th>reference</th>\n",
       "      <th>volume</th>\n",
       "      <th>surface</th>\n",
       "      <th>sptid</th>\n",
       "    </tr>\n",
       "  </thead>\n",
       "  <tbody>\n",
       "    <tr>\n",
       "      <th>40</th>\n",
       "      <td>Pelagibacter ubique</td>\n",
       "      <td>0.573847</td>\n",
       "      <td>0.154919</td>\n",
       "      <td>rod</td>\n",
       "      <td>Rappé, M., Connon, S., Vergin, K. et al. Culti...</td>\n",
       "      <td>9.843368e-03</td>\n",
       "      <td>0.279287</td>\n",
       "      <td>NaN</td>\n",
       "    </tr>\n",
       "    <tr>\n",
       "      <th>44</th>\n",
       "      <td>Prochlorococcus</td>\n",
       "      <td>0.591608</td>\n",
       "      <td>0.591608</td>\n",
       "      <td>sphere</td>\n",
       "      <td>Partensky, F., Hess, W. R., &amp; Vaulot, D. (1999...</td>\n",
       "      <td>1.084178e-01</td>\n",
       "      <td>1.099557</td>\n",
       "      <td>NaN</td>\n",
       "    </tr>\n",
       "    <tr>\n",
       "      <th>46</th>\n",
       "      <td>Cristispira anodontae</td>\n",
       "      <td>62.225397</td>\n",
       "      <td>0.979796</td>\n",
       "      <td>spiral</td>\n",
       "      <td>Spirochaeta anodontae Keysselitz, Arb. a. d. k...</td>\n",
       "      <td>4.667059e+01</td>\n",
       "      <td>191.537213</td>\n",
       "      <td>NaN</td>\n",
       "    </tr>\n",
       "    <tr>\n",
       "      <th>47</th>\n",
       "      <td>Cristispira pinnae</td>\n",
       "      <td>24.494897</td>\n",
       "      <td>1.224745</td>\n",
       "      <td>spiral</td>\n",
       "      <td>Spirochaete pinnae Gonder, Cent. f. Bakt., I A...</td>\n",
       "      <td>2.837641e+01</td>\n",
       "      <td>94.247780</td>\n",
       "      <td>NaN</td>\n",
       "    </tr>\n",
       "    <tr>\n",
       "      <th>53</th>\n",
       "      <td>Thiomargarita magnifica</td>\n",
       "      <td>9720.000000</td>\n",
       "      <td>30.000000</td>\n",
       "      <td>rod</td>\n",
       "      <td>https://doi.org/10.1101/2022.02.16.480423</td>\n",
       "      <td>6.863595e+06</td>\n",
       "      <td>916088.417787</td>\n",
       "      <td>NaN</td>\n",
       "    </tr>\n",
       "  </tbody>\n",
       "</table>\n",
       "</div>"
      ],
      "text/plain": [
       "                       name       length      width   shape  \\\n",
       "40      Pelagibacter ubique     0.573847   0.154919     rod   \n",
       "44          Prochlorococcus     0.591608   0.591608  sphere   \n",
       "46    Cristispira anodontae    62.225397   0.979796  spiral   \n",
       "47       Cristispira pinnae    24.494897   1.224745  spiral   \n",
       "53  Thiomargarita magnifica  9720.000000  30.000000     rod   \n",
       "\n",
       "                                            reference        volume  \\\n",
       "40  Rappé, M., Connon, S., Vergin, K. et al. Culti...  9.843368e-03   \n",
       "44  Partensky, F., Hess, W. R., & Vaulot, D. (1999...  1.084178e-01   \n",
       "46  Spirochaeta anodontae Keysselitz, Arb. a. d. k...  4.667059e+01   \n",
       "47  Spirochaete pinnae Gonder, Cent. f. Bakt., I A...  2.837641e+01   \n",
       "53          https://doi.org/10.1101/2022.02.16.480423  6.863595e+06   \n",
       "\n",
       "          surface sptid  \n",
       "40       0.279287   NaN  \n",
       "44       1.099557   NaN  \n",
       "46     191.537213   NaN  \n",
       "47      94.247780   NaN  \n",
       "53  916088.417787   NaN  "
      ]
     },
     "execution_count": 12,
     "metadata": {},
     "output_type": "execute_result"
    }
   ],
   "source": [
    "df[df['sptid'].isna()]"
   ]
  },
  {
   "cell_type": "markdown",
   "metadata": {},
   "source": [
    "Manually assign the above entries by looking in the [NCBI taxonomy browser.](https://www.ncbi.nlm.nih.gov/taxonomy/)"
   ]
  },
  {
   "cell_type": "code",
   "execution_count": 13,
   "metadata": {},
   "outputs": [],
   "source": [
    "df.at[40, 'sptid'] = '198252'\n",
    "df.at[44, 'sptid'] = '1218'\n",
    "df.at[46, 'sptid'] = '44757'\n",
    "df.at[47, 'sptid'] = '44757'\n",
    "# For Thiomargarita magnifica, assign genus taxID\n",
    "df.at[53, 'sptid'] = '90372'"
   ]
  },
  {
   "cell_type": "code",
   "execution_count": 14,
   "metadata": {},
   "outputs": [],
   "source": [
    "def get_species_name(tid):\n",
    "    if dump[tid]['rank'] == 'species':\n",
    "        return dump[tid]['name']\n",
    "    elif dump[tid]['rank'] == 'genus':\n",
    "        return dump[tid]['name']\n",
    "    return get_species_name(dump[tid]['parent'])"
   ]
  },
  {
   "cell_type": "code",
   "execution_count": 15,
   "metadata": {
    "scrolled": false
   },
   "outputs": [],
   "source": [
    "df['species'] = df['sptid'].astype(str).apply(get_species_name)"
   ]
  },
  {
   "cell_type": "code",
   "execution_count": 16,
   "metadata": {
    "scrolled": false
   },
   "outputs": [],
   "source": [
    "df.drop(columns = ['name', 'reference'], inplace = True)"
   ]
  },
  {
   "cell_type": "code",
   "execution_count": 17,
   "metadata": {},
   "outputs": [
    {
     "data": {
      "text/html": [
       "<div>\n",
       "<style scoped>\n",
       "    .dataframe tbody tr th:only-of-type {\n",
       "        vertical-align: middle;\n",
       "    }\n",
       "\n",
       "    .dataframe tbody tr th {\n",
       "        vertical-align: top;\n",
       "    }\n",
       "\n",
       "    .dataframe thead th {\n",
       "        text-align: right;\n",
       "    }\n",
       "</style>\n",
       "<table border=\"1\" class=\"dataframe\">\n",
       "  <thead>\n",
       "    <tr style=\"text-align: right;\">\n",
       "      <th></th>\n",
       "      <th>length</th>\n",
       "      <th>width</th>\n",
       "      <th>shape</th>\n",
       "      <th>volume</th>\n",
       "      <th>surface</th>\n",
       "      <th>sptid</th>\n",
       "      <th>species</th>\n",
       "    </tr>\n",
       "  </thead>\n",
       "  <tbody>\n",
       "    <tr>\n",
       "      <th>0</th>\n",
       "      <td>1.118034</td>\n",
       "      <td>1.118034</td>\n",
       "      <td>sphere/spiral</td>\n",
       "      <td>0.731752</td>\n",
       "      <td>3.926991</td>\n",
       "      <td>197</td>\n",
       "      <td>Campylobacter jejuni</td>\n",
       "    </tr>\n",
       "    <tr>\n",
       "      <th>1</th>\n",
       "      <td>1.414214</td>\n",
       "      <td>1.000000</td>\n",
       "      <td>rod</td>\n",
       "      <td>0.848921</td>\n",
       "      <td>4.442883</td>\n",
       "      <td>1639</td>\n",
       "      <td>Listeria monocytogenes</td>\n",
       "    </tr>\n",
       "    <tr>\n",
       "      <th>2</th>\n",
       "      <td>1.000000</td>\n",
       "      <td>1.000000</td>\n",
       "      <td>sphere</td>\n",
       "      <td>0.523599</td>\n",
       "      <td>3.141593</td>\n",
       "      <td>1280</td>\n",
       "      <td>Staphylococcus aureus</td>\n",
       "    </tr>\n",
       "    <tr>\n",
       "      <th>3</th>\n",
       "      <td>0.790569</td>\n",
       "      <td>0.790569</td>\n",
       "      <td>sphere</td>\n",
       "      <td>0.258713</td>\n",
       "      <td>1.963495</td>\n",
       "      <td>1313</td>\n",
       "      <td>Streptococcus pneumoniae</td>\n",
       "    </tr>\n",
       "    <tr>\n",
       "      <th>4</th>\n",
       "      <td>0.316228</td>\n",
       "      <td>0.316228</td>\n",
       "      <td>sphere/rod</td>\n",
       "      <td>0.016558</td>\n",
       "      <td>0.314159</td>\n",
       "      <td>195</td>\n",
       "      <td>Campylobacter coli</td>\n",
       "    </tr>\n",
       "  </tbody>\n",
       "</table>\n",
       "</div>"
      ],
      "text/plain": [
       "     length     width          shape    volume   surface sptid  \\\n",
       "0  1.118034  1.118034  sphere/spiral  0.731752  3.926991   197   \n",
       "1  1.414214  1.000000            rod  0.848921  4.442883  1639   \n",
       "2  1.000000  1.000000         sphere  0.523599  3.141593  1280   \n",
       "3  0.790569  0.790569         sphere  0.258713  1.963495  1313   \n",
       "4  0.316228  0.316228     sphere/rod  0.016558  0.314159   195   \n",
       "\n",
       "                    species  \n",
       "0      Campylobacter jejuni  \n",
       "1    Listeria monocytogenes  \n",
       "2     Staphylococcus aureus  \n",
       "3  Streptococcus pneumoniae  \n",
       "4        Campylobacter coli  "
      ]
     },
     "execution_count": 17,
     "metadata": {},
     "output_type": "execute_result"
    }
   ],
   "source": [
    "df.head()"
   ]
  },
  {
   "cell_type": "markdown",
   "metadata": {},
   "source": [
    "### Mean cell size\n",
    "\n",
    "Check duplicate species/genus"
   ]
  },
  {
   "cell_type": "code",
   "execution_count": 18,
   "metadata": {},
   "outputs": [
    {
     "data": {
      "text/plain": [
       "1    52\n",
       "2     1\n",
       "Name: sptid, dtype: int64"
      ]
     },
     "execution_count": 18,
     "metadata": {},
     "output_type": "execute_result"
    }
   ],
   "source": [
    "df['sptid'].value_counts().value_counts()"
   ]
  },
  {
   "cell_type": "markdown",
   "metadata": {},
   "source": [
    "Group organisms by species TaxID and calculate geometric mean per species/genus"
   ]
  },
  {
   "cell_type": "code",
   "execution_count": 19,
   "metadata": {},
   "outputs": [],
   "source": [
    "cols = ['length', 'width', 'volume', 'surface']"
   ]
  },
  {
   "cell_type": "code",
   "execution_count": 20,
   "metadata": {},
   "outputs": [],
   "source": [
    "dfr = df.groupby('sptid')[cols].agg(gmean)"
   ]
  },
  {
   "cell_type": "markdown",
   "metadata": {},
   "source": [
    "Add shape and species name."
   ]
  },
  {
   "cell_type": "code",
   "execution_count": 21,
   "metadata": {},
   "outputs": [],
   "source": [
    "shapes = dict(df[['sptid', 'shape']].drop_duplicates('sptid').values)\n",
    "dfr['shape'] = dfr.index.map(shapes)"
   ]
  },
  {
   "cell_type": "code",
   "execution_count": 22,
   "metadata": {},
   "outputs": [],
   "source": [
    "dfr['species'] = dfr.index.to_series().apply(lambda x: dump[str(x)]['name'])"
   ]
  },
  {
   "cell_type": "markdown",
   "metadata": {},
   "source": [
    "Organize"
   ]
  },
  {
   "cell_type": "code",
   "execution_count": 23,
   "metadata": {},
   "outputs": [],
   "source": [
    "dfr = dfr.loc[sorted(dfr.index, key=int)]"
   ]
  },
  {
   "cell_type": "code",
   "execution_count": 24,
   "metadata": {},
   "outputs": [],
   "source": [
    "dfr.index.names = ['taxid']"
   ]
  },
  {
   "cell_type": "code",
   "execution_count": 25,
   "metadata": {},
   "outputs": [
    {
     "data": {
      "text/plain": [
       "(53, 6)"
      ]
     },
     "execution_count": 25,
     "metadata": {},
     "output_type": "execute_result"
    }
   ],
   "source": [
    "dfr.shape"
   ]
  },
  {
   "cell_type": "code",
   "execution_count": 26,
   "metadata": {},
   "outputs": [
    {
     "data": {
      "text/html": [
       "<div>\n",
       "<style scoped>\n",
       "    .dataframe tbody tr th:only-of-type {\n",
       "        vertical-align: middle;\n",
       "    }\n",
       "\n",
       "    .dataframe tbody tr th {\n",
       "        vertical-align: top;\n",
       "    }\n",
       "\n",
       "    .dataframe thead th {\n",
       "        text-align: right;\n",
       "    }\n",
       "</style>\n",
       "<table border=\"1\" class=\"dataframe\">\n",
       "  <thead>\n",
       "    <tr style=\"text-align: right;\">\n",
       "      <th></th>\n",
       "      <th>length</th>\n",
       "      <th>width</th>\n",
       "      <th>volume</th>\n",
       "      <th>surface</th>\n",
       "      <th>shape</th>\n",
       "      <th>species</th>\n",
       "    </tr>\n",
       "    <tr>\n",
       "      <th>taxid</th>\n",
       "      <th></th>\n",
       "      <th></th>\n",
       "      <th></th>\n",
       "      <th></th>\n",
       "      <th></th>\n",
       "      <th></th>\n",
       "    </tr>\n",
       "  </thead>\n",
       "  <tbody>\n",
       "    <tr>\n",
       "      <th>160</th>\n",
       "      <td>10.954451</td>\n",
       "      <td>0.134164</td>\n",
       "      <td>0.154233</td>\n",
       "      <td>4.617179</td>\n",
       "      <td>spiral</td>\n",
       "      <td>Treponema pallidum</td>\n",
       "    </tr>\n",
       "    <tr>\n",
       "      <th>173</th>\n",
       "      <td>12.649111</td>\n",
       "      <td>0.100000</td>\n",
       "      <td>0.099084</td>\n",
       "      <td>3.973835</td>\n",
       "      <td>spiral</td>\n",
       "      <td>Leptospira interrogans</td>\n",
       "    </tr>\n",
       "    <tr>\n",
       "      <th>195</th>\n",
       "      <td>0.316228</td>\n",
       "      <td>0.316228</td>\n",
       "      <td>0.016558</td>\n",
       "      <td>0.314159</td>\n",
       "      <td>sphere/rod</td>\n",
       "      <td>Campylobacter coli</td>\n",
       "    </tr>\n",
       "    <tr>\n",
       "      <th>197</th>\n",
       "      <td>1.118034</td>\n",
       "      <td>1.118034</td>\n",
       "      <td>0.731752</td>\n",
       "      <td>3.926991</td>\n",
       "      <td>sphere/spiral</td>\n",
       "      <td>Campylobacter jejuni</td>\n",
       "    </tr>\n",
       "    <tr>\n",
       "      <th>199</th>\n",
       "      <td>4.000000</td>\n",
       "      <td>0.707107</td>\n",
       "      <td>1.478236</td>\n",
       "      <td>8.885766</td>\n",
       "      <td>spiral</td>\n",
       "      <td>Campylobacter concisus</td>\n",
       "    </tr>\n",
       "  </tbody>\n",
       "</table>\n",
       "</div>"
      ],
      "text/plain": [
       "          length     width    volume   surface          shape  \\\n",
       "taxid                                                           \n",
       "160    10.954451  0.134164  0.154233  4.617179         spiral   \n",
       "173    12.649111  0.100000  0.099084  3.973835         spiral   \n",
       "195     0.316228  0.316228  0.016558  0.314159     sphere/rod   \n",
       "197     1.118034  1.118034  0.731752  3.926991  sphere/spiral   \n",
       "199     4.000000  0.707107  1.478236  8.885766         spiral   \n",
       "\n",
       "                      species  \n",
       "taxid                          \n",
       "160        Treponema pallidum  \n",
       "173    Leptospira interrogans  \n",
       "195        Campylobacter coli  \n",
       "197      Campylobacter jejuni  \n",
       "199    Campylobacter concisus  "
      ]
     },
     "execution_count": 26,
     "metadata": {},
     "output_type": "execute_result"
    }
   ],
   "source": [
    "dfr.head()"
   ]
  },
  {
   "cell_type": "markdown",
   "metadata": {},
   "source": [
    "Fill more ranks"
   ]
  },
  {
   "cell_type": "code",
   "execution_count": 27,
   "metadata": {},
   "outputs": [],
   "source": [
    "ranks = ['species', 'genus', 'family', 'order', 'class', 'phylum', 'superkingdom']"
   ]
  },
  {
   "cell_type": "code",
   "execution_count": 28,
   "metadata": {},
   "outputs": [],
   "source": [
    "res = {x: {} for x in ranks[1:]}"
   ]
  },
  {
   "cell_type": "code",
   "execution_count": 29,
   "metadata": {},
   "outputs": [],
   "source": [
    "rankset = set(ranks[1:])"
   ]
  },
  {
   "cell_type": "code",
   "execution_count": 30,
   "metadata": {},
   "outputs": [],
   "source": [
    "for tid in dfr.index.astype(str):\n",
    "    this = tid\n",
    "    while True:\n",
    "        rank = dump[this]['rank']\n",
    "        if rank in rankset:\n",
    "            res[rank][tid] = dump[this]['name']\n",
    "        parent = dump[this]['parent']\n",
    "        if this == parent:\n",
    "            break\n",
    "        this = parent"
   ]
  },
  {
   "cell_type": "code",
   "execution_count": 31,
   "metadata": {},
   "outputs": [],
   "source": [
    "for rank in ranks[1:]:\n",
    "    dfr[rank] = dfr.index.map(res[rank])"
   ]
  },
  {
   "cell_type": "code",
   "execution_count": 32,
   "metadata": {},
   "outputs": [],
   "source": [
    "# Correct entries with no species\n",
    "dfr['species'] = dfr['species'].astype(str).apply(lambda x: x if len(x.split(' ')) > 1 else np.NaN)"
   ]
  },
  {
   "cell_type": "code",
   "execution_count": 33,
   "metadata": {},
   "outputs": [
    {
     "data": {
      "text/html": [
       "<div>\n",
       "<style scoped>\n",
       "    .dataframe tbody tr th:only-of-type {\n",
       "        vertical-align: middle;\n",
       "    }\n",
       "\n",
       "    .dataframe tbody tr th {\n",
       "        vertical-align: top;\n",
       "    }\n",
       "\n",
       "    .dataframe thead th {\n",
       "        text-align: right;\n",
       "    }\n",
       "</style>\n",
       "<table border=\"1\" class=\"dataframe\">\n",
       "  <thead>\n",
       "    <tr style=\"text-align: right;\">\n",
       "      <th></th>\n",
       "      <th>length</th>\n",
       "      <th>width</th>\n",
       "      <th>volume</th>\n",
       "      <th>surface</th>\n",
       "      <th>shape</th>\n",
       "      <th>species</th>\n",
       "      <th>genus</th>\n",
       "      <th>family</th>\n",
       "      <th>order</th>\n",
       "      <th>class</th>\n",
       "      <th>phylum</th>\n",
       "      <th>superkingdom</th>\n",
       "    </tr>\n",
       "    <tr>\n",
       "      <th>taxid</th>\n",
       "      <th></th>\n",
       "      <th></th>\n",
       "      <th></th>\n",
       "      <th></th>\n",
       "      <th></th>\n",
       "      <th></th>\n",
       "      <th></th>\n",
       "      <th></th>\n",
       "      <th></th>\n",
       "      <th></th>\n",
       "      <th></th>\n",
       "      <th></th>\n",
       "    </tr>\n",
       "  </thead>\n",
       "  <tbody>\n",
       "    <tr>\n",
       "      <th>160</th>\n",
       "      <td>10.954451</td>\n",
       "      <td>0.134164</td>\n",
       "      <td>0.154233</td>\n",
       "      <td>4.617179</td>\n",
       "      <td>spiral</td>\n",
       "      <td>Treponema pallidum</td>\n",
       "      <td>Treponema</td>\n",
       "      <td>Treponemataceae</td>\n",
       "      <td>Spirochaetales</td>\n",
       "      <td>Spirochaetia</td>\n",
       "      <td>Spirochaetes</td>\n",
       "      <td>Bacteria</td>\n",
       "    </tr>\n",
       "    <tr>\n",
       "      <th>173</th>\n",
       "      <td>12.649111</td>\n",
       "      <td>0.100000</td>\n",
       "      <td>0.099084</td>\n",
       "      <td>3.973835</td>\n",
       "      <td>spiral</td>\n",
       "      <td>Leptospira interrogans</td>\n",
       "      <td>Leptospira</td>\n",
       "      <td>Leptospiraceae</td>\n",
       "      <td>Leptospirales</td>\n",
       "      <td>Spirochaetia</td>\n",
       "      <td>Spirochaetes</td>\n",
       "      <td>Bacteria</td>\n",
       "    </tr>\n",
       "    <tr>\n",
       "      <th>195</th>\n",
       "      <td>0.316228</td>\n",
       "      <td>0.316228</td>\n",
       "      <td>0.016558</td>\n",
       "      <td>0.314159</td>\n",
       "      <td>sphere/rod</td>\n",
       "      <td>Campylobacter coli</td>\n",
       "      <td>Campylobacter</td>\n",
       "      <td>Campylobacteraceae</td>\n",
       "      <td>Campylobacterales</td>\n",
       "      <td>Epsilonproteobacteria</td>\n",
       "      <td>Proteobacteria</td>\n",
       "      <td>Bacteria</td>\n",
       "    </tr>\n",
       "    <tr>\n",
       "      <th>197</th>\n",
       "      <td>1.118034</td>\n",
       "      <td>1.118034</td>\n",
       "      <td>0.731752</td>\n",
       "      <td>3.926991</td>\n",
       "      <td>sphere/spiral</td>\n",
       "      <td>Campylobacter jejuni</td>\n",
       "      <td>Campylobacter</td>\n",
       "      <td>Campylobacteraceae</td>\n",
       "      <td>Campylobacterales</td>\n",
       "      <td>Epsilonproteobacteria</td>\n",
       "      <td>Proteobacteria</td>\n",
       "      <td>Bacteria</td>\n",
       "    </tr>\n",
       "    <tr>\n",
       "      <th>199</th>\n",
       "      <td>4.000000</td>\n",
       "      <td>0.707107</td>\n",
       "      <td>1.478236</td>\n",
       "      <td>8.885766</td>\n",
       "      <td>spiral</td>\n",
       "      <td>Campylobacter concisus</td>\n",
       "      <td>Campylobacter</td>\n",
       "      <td>Campylobacteraceae</td>\n",
       "      <td>Campylobacterales</td>\n",
       "      <td>Epsilonproteobacteria</td>\n",
       "      <td>Proteobacteria</td>\n",
       "      <td>Bacteria</td>\n",
       "    </tr>\n",
       "  </tbody>\n",
       "</table>\n",
       "</div>"
      ],
      "text/plain": [
       "          length     width    volume   surface          shape  \\\n",
       "taxid                                                           \n",
       "160    10.954451  0.134164  0.154233  4.617179         spiral   \n",
       "173    12.649111  0.100000  0.099084  3.973835         spiral   \n",
       "195     0.316228  0.316228  0.016558  0.314159     sphere/rod   \n",
       "197     1.118034  1.118034  0.731752  3.926991  sphere/spiral   \n",
       "199     4.000000  0.707107  1.478236  8.885766         spiral   \n",
       "\n",
       "                      species          genus              family  \\\n",
       "taxid                                                              \n",
       "160        Treponema pallidum      Treponema     Treponemataceae   \n",
       "173    Leptospira interrogans     Leptospira      Leptospiraceae   \n",
       "195        Campylobacter coli  Campylobacter  Campylobacteraceae   \n",
       "197      Campylobacter jejuni  Campylobacter  Campylobacteraceae   \n",
       "199    Campylobacter concisus  Campylobacter  Campylobacteraceae   \n",
       "\n",
       "                   order                  class          phylum superkingdom  \n",
       "taxid                                                                         \n",
       "160       Spirochaetales           Spirochaetia    Spirochaetes     Bacteria  \n",
       "173        Leptospirales           Spirochaetia    Spirochaetes     Bacteria  \n",
       "195    Campylobacterales  Epsilonproteobacteria  Proteobacteria     Bacteria  \n",
       "197    Campylobacterales  Epsilonproteobacteria  Proteobacteria     Bacteria  \n",
       "199    Campylobacterales  Epsilonproteobacteria  Proteobacteria     Bacteria  "
      ]
     },
     "execution_count": 33,
     "metadata": {},
     "output_type": "execute_result"
    }
   ],
   "source": [
    "dfr.head()"
   ]
  },
  {
   "cell_type": "markdown",
   "metadata": {},
   "source": [
    "Output"
   ]
  },
  {
   "cell_type": "code",
   "execution_count": 34,
   "metadata": {},
   "outputs": [],
   "source": [
    "dfr.to_csv('annot/species_common_extremes.tsv', sep = '\\t')"
   ]
  },
  {
   "cell_type": "markdown",
   "metadata": {},
   "source": [
    "Statistics"
   ]
  },
  {
   "cell_type": "code",
   "execution_count": 35,
   "metadata": {},
   "outputs": [
    {
     "name": "stdout",
     "output_type": "stream",
     "text": [
      "species 50\n",
      "genus 33\n",
      "family 30\n",
      "order 22\n",
      "class 11\n",
      "phylum 8\n",
      "superkingdom 2\n"
     ]
    }
   ],
   "source": [
    "for rank in ranks:\n",
    "    print(rank, dfr[rank].nunique())"
   ]
  },
  {
   "cell_type": "markdown",
   "metadata": {},
   "source": [
    "### Collapse to higher ranks"
   ]
  },
  {
   "cell_type": "code",
   "execution_count": 36,
   "metadata": {},
   "outputs": [
    {
     "data": {
      "text/html": [
       "<div>\n",
       "<style scoped>\n",
       "    .dataframe tbody tr th:only-of-type {\n",
       "        vertical-align: middle;\n",
       "    }\n",
       "\n",
       "    .dataframe tbody tr th {\n",
       "        vertical-align: top;\n",
       "    }\n",
       "\n",
       "    .dataframe thead th {\n",
       "        text-align: right;\n",
       "    }\n",
       "</style>\n",
       "<table border=\"1\" class=\"dataframe\">\n",
       "  <thead>\n",
       "    <tr style=\"text-align: right;\">\n",
       "      <th></th>\n",
       "      <th>length</th>\n",
       "      <th>width</th>\n",
       "      <th>shape</th>\n",
       "      <th>volume</th>\n",
       "      <th>surface</th>\n",
       "      <th>sptid</th>\n",
       "      <th>species</th>\n",
       "    </tr>\n",
       "  </thead>\n",
       "  <tbody>\n",
       "    <tr>\n",
       "      <th>0</th>\n",
       "      <td>1.118034</td>\n",
       "      <td>1.118034</td>\n",
       "      <td>sphere/spiral</td>\n",
       "      <td>0.731752</td>\n",
       "      <td>3.926991</td>\n",
       "      <td>197</td>\n",
       "      <td>Campylobacter jejuni</td>\n",
       "    </tr>\n",
       "    <tr>\n",
       "      <th>1</th>\n",
       "      <td>1.414214</td>\n",
       "      <td>1.000000</td>\n",
       "      <td>rod</td>\n",
       "      <td>0.848921</td>\n",
       "      <td>4.442883</td>\n",
       "      <td>1639</td>\n",
       "      <td>Listeria monocytogenes</td>\n",
       "    </tr>\n",
       "    <tr>\n",
       "      <th>2</th>\n",
       "      <td>1.000000</td>\n",
       "      <td>1.000000</td>\n",
       "      <td>sphere</td>\n",
       "      <td>0.523599</td>\n",
       "      <td>3.141593</td>\n",
       "      <td>1280</td>\n",
       "      <td>Staphylococcus aureus</td>\n",
       "    </tr>\n",
       "    <tr>\n",
       "      <th>3</th>\n",
       "      <td>0.790569</td>\n",
       "      <td>0.790569</td>\n",
       "      <td>sphere</td>\n",
       "      <td>0.258713</td>\n",
       "      <td>1.963495</td>\n",
       "      <td>1313</td>\n",
       "      <td>Streptococcus pneumoniae</td>\n",
       "    </tr>\n",
       "    <tr>\n",
       "      <th>4</th>\n",
       "      <td>0.316228</td>\n",
       "      <td>0.316228</td>\n",
       "      <td>sphere/rod</td>\n",
       "      <td>0.016558</td>\n",
       "      <td>0.314159</td>\n",
       "      <td>195</td>\n",
       "      <td>Campylobacter coli</td>\n",
       "    </tr>\n",
       "  </tbody>\n",
       "</table>\n",
       "</div>"
      ],
      "text/plain": [
       "     length     width          shape    volume   surface sptid  \\\n",
       "0  1.118034  1.118034  sphere/spiral  0.731752  3.926991   197   \n",
       "1  1.414214  1.000000            rod  0.848921  4.442883  1639   \n",
       "2  1.000000  1.000000         sphere  0.523599  3.141593  1280   \n",
       "3  0.790569  0.790569         sphere  0.258713  1.963495  1313   \n",
       "4  0.316228  0.316228     sphere/rod  0.016558  0.314159   195   \n",
       "\n",
       "                    species  \n",
       "0      Campylobacter jejuni  \n",
       "1    Listeria monocytogenes  \n",
       "2     Staphylococcus aureus  \n",
       "3  Streptococcus pneumoniae  \n",
       "4        Campylobacter coli  "
      ]
     },
     "execution_count": 36,
     "metadata": {},
     "output_type": "execute_result"
    }
   ],
   "source": [
    "df.head()"
   ]
  },
  {
   "cell_type": "code",
   "execution_count": 37,
   "metadata": {},
   "outputs": [],
   "source": [
    "def get_rank(tid, rank):\n",
    "    if tid == '1':\n",
    "        return None\n",
    "    if dump[tid]['rank'] == rank:\n",
    "        return tid\n",
    "    return get_rank(dump[tid]['parent'], rank)"
   ]
  },
  {
   "cell_type": "code",
   "execution_count": 38,
   "metadata": {},
   "outputs": [
    {
     "name": "stdout",
     "output_type": "stream",
     "text": [
      "genus: 33\n",
      "family: 30\n",
      "order: 22\n",
      "class: 11\n",
      "phylum: 8\n",
      "superkingdom: 2\n"
     ]
    }
   ],
   "source": [
    "for rank in ranks[1:]:\n",
    "    #dfr = df.copy().drop(columns=['taxid'])\n",
    "    dfr = df.copy()\n",
    "    dfr['taxid'] = dfr['sptid'].apply(lambda x: get_rank(x, rank))\n",
    "    dfr = dfr.dropna(subset=['taxid'])\n",
    "    dfr = dfr.groupby('taxid')[cols].agg(gmean)\n",
    "    dfr = dfr.loc[sorted(dfr.index, key=int)]\n",
    "    ranks_ = ranks[ranks.index(rank):]\n",
    "    res = {x: {} for x in ranks_}\n",
    "    rankset = set(ranks_)\n",
    "    for tid in dfr.index.astype(str):\n",
    "        this = tid\n",
    "        while True:\n",
    "            rank_ = dump[this]['rank']\n",
    "            if rank_ in rankset:\n",
    "                res[rank_][tid] = dump[this]['name']\n",
    "            parent = dump[this]['parent']\n",
    "            if this == parent:\n",
    "                break\n",
    "            this = parent\n",
    "    for rank_ in ranks_:\n",
    "        dfr[rank_] = dfr.index.map(res[rank_])\n",
    "    dfr.to_csv(f'annot/{rank}_common_extremes.tsv', sep='\\t')\n",
    "    print(f'{rank}: {dfr.shape[0]}')"
   ]
  },
  {
   "cell_type": "code",
   "execution_count": null,
   "metadata": {},
   "outputs": [],
   "source": []
  },
  {
   "cell_type": "code",
   "execution_count": null,
   "metadata": {},
   "outputs": [],
   "source": []
  },
  {
   "cell_type": "code",
   "execution_count": null,
   "metadata": {},
   "outputs": [],
   "source": []
  },
  {
   "cell_type": "code",
   "execution_count": null,
   "metadata": {},
   "outputs": [],
   "source": []
  },
  {
   "cell_type": "code",
   "execution_count": null,
   "metadata": {},
   "outputs": [],
   "source": []
  }
 ],
 "metadata": {
  "kernelspec": {
   "display_name": "Python 3",
   "language": "python",
   "name": "python3"
  },
  "language_info": {
   "codemirror_mode": {
    "name": "ipython",
    "version": 3
   },
   "file_extension": ".py",
   "mimetype": "text/x-python",
   "name": "python",
   "nbconvert_exporter": "python",
   "pygments_lexer": "ipython3",
   "version": "3.8.5"
  }
 },
 "nbformat": 4,
 "nbformat_minor": 4
}
