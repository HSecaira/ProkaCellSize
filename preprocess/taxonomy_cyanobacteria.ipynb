{
 "cells": [
  {
   "cell_type": "code",
   "execution_count": 1,
   "metadata": {},
   "outputs": [],
   "source": [
    "# Imports\n",
    "import numpy as np\n",
    "import pandas as pd\n",
    "import matplotlib.pyplot as plt\n",
    "from scipy.stats import gmean\n",
    "from Bio import Entrez\n",
    "import time\n",
    "import re"
   ]
  },
  {
   "cell_type": "code",
   "execution_count": 2,
   "metadata": {},
   "outputs": [],
   "source": [
    "# Interactive matplotlib plot\n",
    "%matplotlib notebook"
   ]
  },
  {
   "cell_type": "code",
   "execution_count": 3,
   "metadata": {},
   "outputs": [],
   "source": [
    "import lzma"
   ]
  },
  {
   "cell_type": "markdown",
   "metadata": {},
   "source": [
    "### Reference taxonomy\n",
    "\n",
    "Read NCBI taxonomy database."
   ]
  },
  {
   "cell_type": "code",
   "execution_count": 4,
   "metadata": {},
   "outputs": [],
   "source": [
    "dump = {}\n",
    "with lzma.open('nodes.dmp.xz', 'rb') as f:\n",
    "    for line in f.read().decode().splitlines():\n",
    "        x = line.rstrip('\\r\\n').replace('\\t|', '').split('\\t')\n",
    "        dump[x[0]] = {'parent': x[1], 'rank': x[2], 'name': '', 'children': set()}\n",
    "with lzma.open('names.dmp.xz', 'rb') as f:\n",
    "    for line in f.read().decode().splitlines():\n",
    "        x = line.rstrip('\\r\\n').replace('\\t|', '').split('\\t')\n",
    "        if x[3] == 'scientific name':\n",
    "            dump[x[0]]['name'] = x[1]\n",
    "for tid in dump:\n",
    "    pid = dump[tid]['parent']\n",
    "    if tid != pid:\n",
    "        dump[pid]['children'].add(tid)"
   ]
  },
  {
   "cell_type": "code",
   "execution_count": 5,
   "metadata": {},
   "outputs": [
    {
     "data": {
      "text/plain": [
       "2375861"
      ]
     },
     "execution_count": 5,
     "metadata": {},
     "output_type": "execute_result"
    }
   ],
   "source": [
    "len(dump)"
   ]
  },
  {
   "cell_type": "markdown",
   "metadata": {},
   "source": [
    "### Data table with NCBI taxID"
   ]
  },
  {
   "cell_type": "code",
   "execution_count": 6,
   "metadata": {},
   "outputs": [
    {
     "data": {
      "text/html": [
       "<div>\n",
       "<style scoped>\n",
       "    .dataframe tbody tr th:only-of-type {\n",
       "        vertical-align: middle;\n",
       "    }\n",
       "\n",
       "    .dataframe tbody tr th {\n",
       "        vertical-align: top;\n",
       "    }\n",
       "\n",
       "    .dataframe thead th {\n",
       "        text-align: right;\n",
       "    }\n",
       "</style>\n",
       "<table border=\"1\" class=\"dataframe\">\n",
       "  <thead>\n",
       "    <tr style=\"text-align: right;\">\n",
       "      <th></th>\n",
       "      <th>length</th>\n",
       "      <th>taxID</th>\n",
       "      <th>spname</th>\n",
       "      <th>width</th>\n",
       "      <th>shape</th>\n",
       "      <th>volume</th>\n",
       "      <th>surface</th>\n",
       "    </tr>\n",
       "  </thead>\n",
       "  <tbody>\n",
       "    <tr>\n",
       "      <th>5</th>\n",
       "      <td>1.095445</td>\n",
       "      <td>269084</td>\n",
       "      <td>Synechococcus elongatus PCC 6301</td>\n",
       "      <td>1.095445</td>\n",
       "      <td>sphere/spheroid</td>\n",
       "      <td>0.688288</td>\n",
       "      <td>3.769911</td>\n",
       "    </tr>\n",
       "    <tr>\n",
       "      <th>8</th>\n",
       "      <td>4.472136</td>\n",
       "      <td>118323</td>\n",
       "      <td>Oscillatoria acuminata</td>\n",
       "      <td>4.472136</td>\n",
       "      <td>sphere/spheroid</td>\n",
       "      <td>46.832098</td>\n",
       "      <td>62.831853</td>\n",
       "    </tr>\n",
       "    <tr>\n",
       "      <th>10</th>\n",
       "      <td>2.034699</td>\n",
       "      <td>1184</td>\n",
       "      <td>Leptolyngbya boryana</td>\n",
       "      <td>2.034699</td>\n",
       "      <td>sphere/spheroid</td>\n",
       "      <td>4.410615</td>\n",
       "      <td>13.006194</td>\n",
       "    </tr>\n",
       "    <tr>\n",
       "      <th>11</th>\n",
       "      <td>0.894427</td>\n",
       "      <td>59930</td>\n",
       "      <td>Cyanobium gracile</td>\n",
       "      <td>0.894427</td>\n",
       "      <td>sphere/spheroid</td>\n",
       "      <td>0.374657</td>\n",
       "      <td>2.513274</td>\n",
       "    </tr>\n",
       "    <tr>\n",
       "      <th>12</th>\n",
       "      <td>4.090623</td>\n",
       "      <td>113355</td>\n",
       "      <td>Geminocystis herdmanii PCC 6308</td>\n",
       "      <td>4.090623</td>\n",
       "      <td>sphere/spheroid</td>\n",
       "      <td>35.839929</td>\n",
       "      <td>52.568900</td>\n",
       "    </tr>\n",
       "  </tbody>\n",
       "</table>\n",
       "</div>"
      ],
      "text/plain": [
       "      length   taxID                            spname     width  \\\n",
       "5   1.095445  269084  Synechococcus elongatus PCC 6301  1.095445   \n",
       "8   4.472136  118323            Oscillatoria acuminata  4.472136   \n",
       "10  2.034699    1184              Leptolyngbya boryana  2.034699   \n",
       "11  0.894427   59930                 Cyanobium gracile  0.894427   \n",
       "12  4.090623  113355   Geminocystis herdmanii PCC 6308  4.090623   \n",
       "\n",
       "              shape     volume    surface  \n",
       "5   sphere/spheroid   0.688288   3.769911  \n",
       "8   sphere/spheroid  46.832098  62.831853  \n",
       "10  sphere/spheroid   4.410615  13.006194  \n",
       "11  sphere/spheroid   0.374657   2.513274  \n",
       "12  sphere/spheroid  35.839929  52.568900  "
      ]
     },
     "execution_count": 6,
     "metadata": {},
     "output_type": "execute_result"
    }
   ],
   "source": [
    "df = pd.read_table('data_cyanobacteria.tsv', index_col = 0)\n",
    "df.head()"
   ]
  },
  {
   "cell_type": "code",
   "execution_count": 7,
   "metadata": {},
   "outputs": [
    {
     "data": {
      "text/plain": [
       "(225, 7)"
      ]
     },
     "execution_count": 7,
     "metadata": {},
     "output_type": "execute_result"
    }
   ],
   "source": [
    "df.shape"
   ]
  },
  {
   "cell_type": "code",
   "execution_count": 8,
   "metadata": {},
   "outputs": [],
   "source": [
    "spnames = {v['name']: k for k, v in dump.items() if v['rank'] == 'species'}"
   ]
  },
  {
   "cell_type": "code",
   "execution_count": 9,
   "metadata": {},
   "outputs": [
    {
     "data": {
      "text/plain": [
       "False    169\n",
       "True      56\n",
       "Name: spname, dtype: int64"
      ]
     },
     "execution_count": 9,
     "metadata": {},
     "output_type": "execute_result"
    }
   ],
   "source": [
    "df['spname'].astype(str).isin(spnames).value_counts()"
   ]
  },
  {
   "cell_type": "code",
   "execution_count": 10,
   "metadata": {},
   "outputs": [],
   "source": [
    "tids = df['taxID'].astype(str)"
   ]
  },
  {
   "cell_type": "code",
   "execution_count": 11,
   "metadata": {},
   "outputs": [
    {
     "data": {
      "text/plain": [
       "(array([False,  True]), array([ 56, 169]))"
      ]
     },
     "execution_count": 11,
     "metadata": {},
     "output_type": "execute_result"
    }
   ],
   "source": [
    "np.unique(tids[tids.notna()].index.astype(str).isin(dump), return_counts=True)"
   ]
  },
  {
   "cell_type": "markdown",
   "metadata": {},
   "source": [
    "It is better to match by taxID"
   ]
  },
  {
   "cell_type": "markdown",
   "metadata": {},
   "source": [
    "Check if these TaxIDs are in dump."
   ]
  },
  {
   "cell_type": "code",
   "execution_count": 12,
   "metadata": {},
   "outputs": [
    {
     "data": {
      "text/html": [
       "<div>\n",
       "<style scoped>\n",
       "    .dataframe tbody tr th:only-of-type {\n",
       "        vertical-align: middle;\n",
       "    }\n",
       "\n",
       "    .dataframe tbody tr th {\n",
       "        vertical-align: top;\n",
       "    }\n",
       "\n",
       "    .dataframe thead th {\n",
       "        text-align: right;\n",
       "    }\n",
       "</style>\n",
       "<table border=\"1\" class=\"dataframe\">\n",
       "  <thead>\n",
       "    <tr style=\"text-align: right;\">\n",
       "      <th></th>\n",
       "      <th>length</th>\n",
       "      <th>taxID</th>\n",
       "      <th>spname</th>\n",
       "      <th>width</th>\n",
       "      <th>shape</th>\n",
       "      <th>volume</th>\n",
       "      <th>surface</th>\n",
       "      <th>taxID_rank</th>\n",
       "    </tr>\n",
       "  </thead>\n",
       "  <tbody>\n",
       "    <tr>\n",
       "      <th>5</th>\n",
       "      <td>1.095445</td>\n",
       "      <td>269084</td>\n",
       "      <td>Synechococcus elongatus PCC 6301</td>\n",
       "      <td>1.095445</td>\n",
       "      <td>sphere/spheroid</td>\n",
       "      <td>0.688288</td>\n",
       "      <td>3.769911</td>\n",
       "      <td>strain</td>\n",
       "    </tr>\n",
       "    <tr>\n",
       "      <th>8</th>\n",
       "      <td>4.472136</td>\n",
       "      <td>118323</td>\n",
       "      <td>Oscillatoria acuminata</td>\n",
       "      <td>4.472136</td>\n",
       "      <td>sphere/spheroid</td>\n",
       "      <td>46.832098</td>\n",
       "      <td>62.831853</td>\n",
       "      <td>species</td>\n",
       "    </tr>\n",
       "    <tr>\n",
       "      <th>10</th>\n",
       "      <td>2.034699</td>\n",
       "      <td>1184</td>\n",
       "      <td>Leptolyngbya boryana</td>\n",
       "      <td>2.034699</td>\n",
       "      <td>sphere/spheroid</td>\n",
       "      <td>4.410615</td>\n",
       "      <td>13.006194</td>\n",
       "      <td>species</td>\n",
       "    </tr>\n",
       "    <tr>\n",
       "      <th>11</th>\n",
       "      <td>0.894427</td>\n",
       "      <td>59930</td>\n",
       "      <td>Cyanobium gracile</td>\n",
       "      <td>0.894427</td>\n",
       "      <td>sphere/spheroid</td>\n",
       "      <td>0.374657</td>\n",
       "      <td>2.513274</td>\n",
       "      <td>species</td>\n",
       "    </tr>\n",
       "    <tr>\n",
       "      <th>12</th>\n",
       "      <td>4.090623</td>\n",
       "      <td>113355</td>\n",
       "      <td>Geminocystis herdmanii PCC 6308</td>\n",
       "      <td>4.090623</td>\n",
       "      <td>sphere/spheroid</td>\n",
       "      <td>35.839929</td>\n",
       "      <td>52.568900</td>\n",
       "      <td>strain</td>\n",
       "    </tr>\n",
       "  </tbody>\n",
       "</table>\n",
       "</div>"
      ],
      "text/plain": [
       "      length   taxID                            spname     width  \\\n",
       "5   1.095445  269084  Synechococcus elongatus PCC 6301  1.095445   \n",
       "8   4.472136  118323            Oscillatoria acuminata  4.472136   \n",
       "10  2.034699    1184              Leptolyngbya boryana  2.034699   \n",
       "11  0.894427   59930                 Cyanobium gracile  0.894427   \n",
       "12  4.090623  113355   Geminocystis herdmanii PCC 6308  4.090623   \n",
       "\n",
       "              shape     volume    surface taxID_rank  \n",
       "5   sphere/spheroid   0.688288   3.769911     strain  \n",
       "8   sphere/spheroid  46.832098  62.831853    species  \n",
       "10  sphere/spheroid   4.410615  13.006194    species  \n",
       "11  sphere/spheroid   0.374657   2.513274    species  \n",
       "12  sphere/spheroid  35.839929  52.568900     strain  "
      ]
     },
     "execution_count": 12,
     "metadata": {},
     "output_type": "execute_result"
    }
   ],
   "source": [
    "df['taxID_rank'] = df['taxID'].astype(str).apply(lambda x: dump[x]['rank'] if x in dump.keys() else np.NaN)\n",
    "df.head()"
   ]
  },
  {
   "cell_type": "markdown",
   "metadata": {},
   "source": [
    "Check entries that could not be assigned"
   ]
  },
  {
   "cell_type": "code",
   "execution_count": 13,
   "metadata": {},
   "outputs": [
    {
     "data": {
      "text/html": [
       "<div>\n",
       "<style scoped>\n",
       "    .dataframe tbody tr th:only-of-type {\n",
       "        vertical-align: middle;\n",
       "    }\n",
       "\n",
       "    .dataframe tbody tr th {\n",
       "        vertical-align: top;\n",
       "    }\n",
       "\n",
       "    .dataframe thead th {\n",
       "        text-align: right;\n",
       "    }\n",
       "</style>\n",
       "<table border=\"1\" class=\"dataframe\">\n",
       "  <thead>\n",
       "    <tr style=\"text-align: right;\">\n",
       "      <th></th>\n",
       "      <th>length</th>\n",
       "      <th>taxID</th>\n",
       "      <th>spname</th>\n",
       "      <th>width</th>\n",
       "      <th>shape</th>\n",
       "      <th>volume</th>\n",
       "      <th>surface</th>\n",
       "      <th>taxID_rank</th>\n",
       "    </tr>\n",
       "  </thead>\n",
       "  <tbody>\n",
       "    <tr>\n",
       "      <th>52</th>\n",
       "      <td>2.397916</td>\n",
       "      <td>2174229</td>\n",
       "      <td>Synechocystis sp.</td>\n",
       "      <td>2.397916</td>\n",
       "      <td>sphere/spheroid</td>\n",
       "      <td>7.219388</td>\n",
       "      <td>18.064158</td>\n",
       "      <td>NaN</td>\n",
       "    </tr>\n",
       "  </tbody>\n",
       "</table>\n",
       "</div>"
      ],
      "text/plain": [
       "      length    taxID             spname     width            shape    volume  \\\n",
       "52  2.397916  2174229  Synechocystis sp.  2.397916  sphere/spheroid  7.219388   \n",
       "\n",
       "      surface taxID_rank  \n",
       "52  18.064158        NaN  "
      ]
     },
     "execution_count": 13,
     "metadata": {},
     "output_type": "execute_result"
    }
   ],
   "source": [
    "df[df['taxID_rank'].isna()]"
   ]
  },
  {
   "cell_type": "markdown",
   "metadata": {},
   "source": [
    "Assign taxID manually by looking at [NCBI taxonomy browser.](https://www.ncbi.nlm.nih.gov/taxonomy/) and check if new taxID exist in `dump`"
   ]
  },
  {
   "cell_type": "code",
   "execution_count": 14,
   "metadata": {},
   "outputs": [
    {
     "data": {
      "text/plain": [
       "{'parent': '2640012',\n",
       " 'rank': 'species',\n",
       " 'name': 'Synechocystis sp. PCC 6803',\n",
       " 'children': {'1080228', '1080229', '1080230', '1111707', '1111708'}}"
      ]
     },
     "execution_count": 14,
     "metadata": {},
     "output_type": "execute_result"
    }
   ],
   "source": [
    "dump['1148']"
   ]
  },
  {
   "cell_type": "code",
   "execution_count": 15,
   "metadata": {},
   "outputs": [],
   "source": [
    "df.at[52, 'taxID'] = 1148\n",
    "df.at[52, 'taxID_rank'] = 'species'"
   ]
  },
  {
   "cell_type": "markdown",
   "metadata": {},
   "source": [
    "Elevate subspecies to species"
   ]
  },
  {
   "cell_type": "code",
   "execution_count": 16,
   "metadata": {},
   "outputs": [],
   "source": [
    "def get_species(tid):\n",
    "    if dump[tid]['rank'] == 'species':\n",
    "        return tid\n",
    "    elif dump[tid]['rank'] == 'genus':\n",
    "        return tid\n",
    "    return get_species(dump[tid]['parent'])"
   ]
  },
  {
   "cell_type": "code",
   "execution_count": 17,
   "metadata": {},
   "outputs": [],
   "source": [
    "def get_species_name(tid):\n",
    "    if dump[tid]['rank'] == 'species':\n",
    "        return dump[tid]['name']\n",
    "    elif dump[tid]['rank'] == 'genus':\n",
    "        return dump[tid]['name']\n",
    "    return get_species_name(dump[tid]['parent'])"
   ]
  },
  {
   "cell_type": "code",
   "execution_count": 18,
   "metadata": {},
   "outputs": [],
   "source": [
    "df['sptid'] = df['taxID'].astype(str).apply(get_species)"
   ]
  },
  {
   "cell_type": "code",
   "execution_count": 19,
   "metadata": {},
   "outputs": [],
   "source": [
    "df['species'] = df['taxID'].astype(str).apply(get_species_name)"
   ]
  },
  {
   "cell_type": "code",
   "execution_count": 20,
   "metadata": {},
   "outputs": [],
   "source": [
    "df.drop(columns = ['spname', 'taxID', 'taxID_rank'], inplace = True)"
   ]
  },
  {
   "cell_type": "code",
   "execution_count": 21,
   "metadata": {},
   "outputs": [
    {
     "data": {
      "text/plain": [
       "(225, 7)"
      ]
     },
     "execution_count": 21,
     "metadata": {},
     "output_type": "execute_result"
    }
   ],
   "source": [
    "df.shape"
   ]
  },
  {
   "cell_type": "code",
   "execution_count": 22,
   "metadata": {
    "scrolled": true
   },
   "outputs": [
    {
     "data": {
      "text/html": [
       "<div>\n",
       "<style scoped>\n",
       "    .dataframe tbody tr th:only-of-type {\n",
       "        vertical-align: middle;\n",
       "    }\n",
       "\n",
       "    .dataframe tbody tr th {\n",
       "        vertical-align: top;\n",
       "    }\n",
       "\n",
       "    .dataframe thead th {\n",
       "        text-align: right;\n",
       "    }\n",
       "</style>\n",
       "<table border=\"1\" class=\"dataframe\">\n",
       "  <thead>\n",
       "    <tr style=\"text-align: right;\">\n",
       "      <th></th>\n",
       "      <th>length</th>\n",
       "      <th>width</th>\n",
       "      <th>shape</th>\n",
       "      <th>volume</th>\n",
       "      <th>surface</th>\n",
       "      <th>sptid</th>\n",
       "      <th>species</th>\n",
       "    </tr>\n",
       "  </thead>\n",
       "  <tbody>\n",
       "    <tr>\n",
       "      <th>5</th>\n",
       "      <td>1.095445</td>\n",
       "      <td>1.095445</td>\n",
       "      <td>sphere/spheroid</td>\n",
       "      <td>0.688288</td>\n",
       "      <td>3.769911</td>\n",
       "      <td>32046</td>\n",
       "      <td>Synechococcus elongatus</td>\n",
       "    </tr>\n",
       "    <tr>\n",
       "      <th>8</th>\n",
       "      <td>4.472136</td>\n",
       "      <td>4.472136</td>\n",
       "      <td>sphere/spheroid</td>\n",
       "      <td>46.832098</td>\n",
       "      <td>62.831853</td>\n",
       "      <td>118323</td>\n",
       "      <td>Oscillatoria acuminata</td>\n",
       "    </tr>\n",
       "    <tr>\n",
       "      <th>10</th>\n",
       "      <td>2.034699</td>\n",
       "      <td>2.034699</td>\n",
       "      <td>sphere/spheroid</td>\n",
       "      <td>4.410615</td>\n",
       "      <td>13.006194</td>\n",
       "      <td>1184</td>\n",
       "      <td>Leptolyngbya boryana</td>\n",
       "    </tr>\n",
       "    <tr>\n",
       "      <th>11</th>\n",
       "      <td>0.894427</td>\n",
       "      <td>0.894427</td>\n",
       "      <td>sphere/spheroid</td>\n",
       "      <td>0.374657</td>\n",
       "      <td>2.513274</td>\n",
       "      <td>59930</td>\n",
       "      <td>Cyanobium gracile</td>\n",
       "    </tr>\n",
       "    <tr>\n",
       "      <th>12</th>\n",
       "      <td>4.090623</td>\n",
       "      <td>4.090623</td>\n",
       "      <td>sphere/spheroid</td>\n",
       "      <td>35.839929</td>\n",
       "      <td>52.568900</td>\n",
       "      <td>669359</td>\n",
       "      <td>Geminocystis herdmanii</td>\n",
       "    </tr>\n",
       "  </tbody>\n",
       "</table>\n",
       "</div>"
      ],
      "text/plain": [
       "      length     width            shape     volume    surface   sptid  \\\n",
       "5   1.095445  1.095445  sphere/spheroid   0.688288   3.769911   32046   \n",
       "8   4.472136  4.472136  sphere/spheroid  46.832098  62.831853  118323   \n",
       "10  2.034699  2.034699  sphere/spheroid   4.410615  13.006194    1184   \n",
       "11  0.894427  0.894427  sphere/spheroid   0.374657   2.513274   59930   \n",
       "12  4.090623  4.090623  sphere/spheroid  35.839929  52.568900  669359   \n",
       "\n",
       "                    species  \n",
       "5   Synechococcus elongatus  \n",
       "8    Oscillatoria acuminata  \n",
       "10     Leptolyngbya boryana  \n",
       "11        Cyanobium gracile  \n",
       "12   Geminocystis herdmanii  "
      ]
     },
     "execution_count": 22,
     "metadata": {},
     "output_type": "execute_result"
    }
   ],
   "source": [
    "df.head()"
   ]
  },
  {
   "cell_type": "markdown",
   "metadata": {},
   "source": [
    "### Mean cell size"
   ]
  },
  {
   "cell_type": "markdown",
   "metadata": {},
   "source": [
    "Check duplicate species/genus"
   ]
  },
  {
   "cell_type": "code",
   "execution_count": 23,
   "metadata": {},
   "outputs": [
    {
     "data": {
      "text/plain": [
       "1     74\n",
       "2      7\n",
       "5      5\n",
       "6      3\n",
       "4      2\n",
       "3      2\n",
       "33     1\n",
       "15     1\n",
       "13     1\n",
       "10     1\n",
       "9      1\n",
       "Name: sptid, dtype: int64"
      ]
     },
     "execution_count": 23,
     "metadata": {},
     "output_type": "execute_result"
    }
   ],
   "source": [
    "df['sptid'].value_counts().value_counts()"
   ]
  },
  {
   "cell_type": "markdown",
   "metadata": {},
   "source": [
    "Group organisms by species TaxID and calculate geometric mean per species/genus"
   ]
  },
  {
   "cell_type": "code",
   "execution_count": 24,
   "metadata": {},
   "outputs": [],
   "source": [
    "cols = ['length', 'width', 'volume', 'surface']"
   ]
  },
  {
   "cell_type": "code",
   "execution_count": 25,
   "metadata": {},
   "outputs": [],
   "source": [
    "dfr = df.groupby('sptid')[cols].agg(gmean)"
   ]
  },
  {
   "cell_type": "markdown",
   "metadata": {},
   "source": [
    "Add shape and species name."
   ]
  },
  {
   "cell_type": "code",
   "execution_count": 26,
   "metadata": {},
   "outputs": [],
   "source": [
    "shapes = dict(df[['sptid', 'shape']].drop_duplicates('sptid').values)\n",
    "dfr['shape'] = dfr.index.map(shapes)"
   ]
  },
  {
   "cell_type": "code",
   "execution_count": 27,
   "metadata": {},
   "outputs": [],
   "source": [
    "dfr['species'] = dfr.index.to_series().apply(lambda x: dump[str(x)]['name'])"
   ]
  },
  {
   "cell_type": "markdown",
   "metadata": {},
   "source": [
    "Organize"
   ]
  },
  {
   "cell_type": "code",
   "execution_count": 28,
   "metadata": {},
   "outputs": [],
   "source": [
    "dfr = dfr.loc[sorted(dfr.index, key=int)]"
   ]
  },
  {
   "cell_type": "code",
   "execution_count": 29,
   "metadata": {},
   "outputs": [],
   "source": [
    "dfr.index.names = ['taxid']"
   ]
  },
  {
   "cell_type": "code",
   "execution_count": 30,
   "metadata": {},
   "outputs": [
    {
     "data": {
      "text/html": [
       "<div>\n",
       "<style scoped>\n",
       "    .dataframe tbody tr th:only-of-type {\n",
       "        vertical-align: middle;\n",
       "    }\n",
       "\n",
       "    .dataframe tbody tr th {\n",
       "        vertical-align: top;\n",
       "    }\n",
       "\n",
       "    .dataframe thead th {\n",
       "        text-align: right;\n",
       "    }\n",
       "</style>\n",
       "<table border=\"1\" class=\"dataframe\">\n",
       "  <thead>\n",
       "    <tr style=\"text-align: right;\">\n",
       "      <th></th>\n",
       "      <th>length</th>\n",
       "      <th>width</th>\n",
       "      <th>volume</th>\n",
       "      <th>surface</th>\n",
       "      <th>shape</th>\n",
       "      <th>species</th>\n",
       "    </tr>\n",
       "    <tr>\n",
       "      <th>taxid</th>\n",
       "      <th></th>\n",
       "      <th></th>\n",
       "      <th></th>\n",
       "      <th></th>\n",
       "      <th></th>\n",
       "      <th></th>\n",
       "    </tr>\n",
       "  </thead>\n",
       "  <tbody>\n",
       "    <tr>\n",
       "      <th>1126</th>\n",
       "      <td>3.240370</td>\n",
       "      <td>3.240370</td>\n",
       "      <td>17.814866</td>\n",
       "      <td>32.986723</td>\n",
       "      <td>sphere/spheroid</td>\n",
       "      <td>Microcystis aeruginosa</td>\n",
       "    </tr>\n",
       "    <tr>\n",
       "      <th>1129</th>\n",
       "      <td>1.309547</td>\n",
       "      <td>1.309547</td>\n",
       "      <td>1.175878</td>\n",
       "      <td>5.387561</td>\n",
       "      <td>sphere/spheroid</td>\n",
       "      <td>Synechococcus</td>\n",
       "    </tr>\n",
       "    <tr>\n",
       "      <th>1142</th>\n",
       "      <td>2.959481</td>\n",
       "      <td>2.959481</td>\n",
       "      <td>13.572041</td>\n",
       "      <td>27.515722</td>\n",
       "      <td>sphere/spheroid</td>\n",
       "      <td>Synechocystis</td>\n",
       "    </tr>\n",
       "    <tr>\n",
       "      <th>1144</th>\n",
       "      <td>3.741657</td>\n",
       "      <td>3.741657</td>\n",
       "      <td>27.427781</td>\n",
       "      <td>43.982297</td>\n",
       "      <td>sphere/spheroid</td>\n",
       "      <td>Synechocystis sp. PCC 6701</td>\n",
       "    </tr>\n",
       "    <tr>\n",
       "      <th>1148</th>\n",
       "      <td>2.397916</td>\n",
       "      <td>2.397916</td>\n",
       "      <td>7.219388</td>\n",
       "      <td>18.064158</td>\n",
       "      <td>sphere/spheroid</td>\n",
       "      <td>Synechocystis sp. PCC 6803</td>\n",
       "    </tr>\n",
       "  </tbody>\n",
       "</table>\n",
       "</div>"
      ],
      "text/plain": [
       "         length     width     volume    surface            shape  \\\n",
       "taxid                                                              \n",
       "1126   3.240370  3.240370  17.814866  32.986723  sphere/spheroid   \n",
       "1129   1.309547  1.309547   1.175878   5.387561  sphere/spheroid   \n",
       "1142   2.959481  2.959481  13.572041  27.515722  sphere/spheroid   \n",
       "1144   3.741657  3.741657  27.427781  43.982297  sphere/spheroid   \n",
       "1148   2.397916  2.397916   7.219388  18.064158  sphere/spheroid   \n",
       "\n",
       "                          species  \n",
       "taxid                              \n",
       "1126       Microcystis aeruginosa  \n",
       "1129                Synechococcus  \n",
       "1142                Synechocystis  \n",
       "1144   Synechocystis sp. PCC 6701  \n",
       "1148   Synechocystis sp. PCC 6803  "
      ]
     },
     "execution_count": 30,
     "metadata": {},
     "output_type": "execute_result"
    }
   ],
   "source": [
    "dfr.head()"
   ]
  },
  {
   "cell_type": "code",
   "execution_count": 31,
   "metadata": {},
   "outputs": [
    {
     "data": {
      "text/plain": [
       "(98, 6)"
      ]
     },
     "execution_count": 31,
     "metadata": {},
     "output_type": "execute_result"
    }
   ],
   "source": [
    "dfr.shape"
   ]
  },
  {
   "cell_type": "markdown",
   "metadata": {},
   "source": [
    "Fill more ranks"
   ]
  },
  {
   "cell_type": "code",
   "execution_count": 32,
   "metadata": {},
   "outputs": [],
   "source": [
    "ranks = ['species', 'genus', 'family', 'order', 'class', 'phylum', 'superkingdom']"
   ]
  },
  {
   "cell_type": "code",
   "execution_count": 33,
   "metadata": {},
   "outputs": [],
   "source": [
    "res = {x: {} for x in ranks[1:]}"
   ]
  },
  {
   "cell_type": "code",
   "execution_count": 34,
   "metadata": {},
   "outputs": [],
   "source": [
    "rankset = set(ranks[1:])"
   ]
  },
  {
   "cell_type": "code",
   "execution_count": 35,
   "metadata": {},
   "outputs": [
    {
     "data": {
      "text/plain": [
       "{'class', 'family', 'genus', 'order', 'phylum', 'superkingdom'}"
      ]
     },
     "execution_count": 35,
     "metadata": {},
     "output_type": "execute_result"
    }
   ],
   "source": [
    "rankset"
   ]
  },
  {
   "cell_type": "code",
   "execution_count": 36,
   "metadata": {},
   "outputs": [],
   "source": [
    "for tid in dfr.index.astype(str):\n",
    "    this = tid\n",
    "    while True:\n",
    "        rank = dump[this]['rank']\n",
    "        if rank in rankset:\n",
    "            res[rank][tid] = dump[this]['name']\n",
    "        parent = dump[this]['parent']\n",
    "        if this == parent:\n",
    "            break\n",
    "        this = parent"
   ]
  },
  {
   "cell_type": "code",
   "execution_count": 37,
   "metadata": {},
   "outputs": [],
   "source": [
    "for rank in ranks[1:]:\n",
    "    dfr[rank] = dfr.index.map(res[rank])"
   ]
  },
  {
   "cell_type": "code",
   "execution_count": 38,
   "metadata": {},
   "outputs": [],
   "source": [
    "# Correct entries with no species\n",
    "dfr['species'] = dfr['species'].astype(str).apply(lambda x: x if len(x.split(' ')) > 1 else np.NaN)"
   ]
  },
  {
   "cell_type": "code",
   "execution_count": 39,
   "metadata": {},
   "outputs": [
    {
     "data": {
      "text/html": [
       "<div>\n",
       "<style scoped>\n",
       "    .dataframe tbody tr th:only-of-type {\n",
       "        vertical-align: middle;\n",
       "    }\n",
       "\n",
       "    .dataframe tbody tr th {\n",
       "        vertical-align: top;\n",
       "    }\n",
       "\n",
       "    .dataframe thead th {\n",
       "        text-align: right;\n",
       "    }\n",
       "</style>\n",
       "<table border=\"1\" class=\"dataframe\">\n",
       "  <thead>\n",
       "    <tr style=\"text-align: right;\">\n",
       "      <th></th>\n",
       "      <th>length</th>\n",
       "      <th>width</th>\n",
       "      <th>volume</th>\n",
       "      <th>surface</th>\n",
       "      <th>shape</th>\n",
       "      <th>species</th>\n",
       "      <th>genus</th>\n",
       "      <th>family</th>\n",
       "      <th>order</th>\n",
       "      <th>class</th>\n",
       "      <th>phylum</th>\n",
       "      <th>superkingdom</th>\n",
       "    </tr>\n",
       "    <tr>\n",
       "      <th>taxid</th>\n",
       "      <th></th>\n",
       "      <th></th>\n",
       "      <th></th>\n",
       "      <th></th>\n",
       "      <th></th>\n",
       "      <th></th>\n",
       "      <th></th>\n",
       "      <th></th>\n",
       "      <th></th>\n",
       "      <th></th>\n",
       "      <th></th>\n",
       "      <th></th>\n",
       "    </tr>\n",
       "  </thead>\n",
       "  <tbody>\n",
       "    <tr>\n",
       "      <th>1126</th>\n",
       "      <td>3.240370</td>\n",
       "      <td>3.240370</td>\n",
       "      <td>17.814866</td>\n",
       "      <td>32.986723</td>\n",
       "      <td>sphere/spheroid</td>\n",
       "      <td>Microcystis aeruginosa</td>\n",
       "      <td>Microcystis</td>\n",
       "      <td>Microcystaceae</td>\n",
       "      <td>Chroococcales</td>\n",
       "      <td>NaN</td>\n",
       "      <td>Cyanobacteria</td>\n",
       "      <td>Bacteria</td>\n",
       "    </tr>\n",
       "    <tr>\n",
       "      <th>1129</th>\n",
       "      <td>1.309547</td>\n",
       "      <td>1.309547</td>\n",
       "      <td>1.175878</td>\n",
       "      <td>5.387561</td>\n",
       "      <td>sphere/spheroid</td>\n",
       "      <td>NaN</td>\n",
       "      <td>Synechococcus</td>\n",
       "      <td>Synechococcaceae</td>\n",
       "      <td>Synechococcales</td>\n",
       "      <td>NaN</td>\n",
       "      <td>Cyanobacteria</td>\n",
       "      <td>Bacteria</td>\n",
       "    </tr>\n",
       "    <tr>\n",
       "      <th>1142</th>\n",
       "      <td>2.959481</td>\n",
       "      <td>2.959481</td>\n",
       "      <td>13.572041</td>\n",
       "      <td>27.515722</td>\n",
       "      <td>sphere/spheroid</td>\n",
       "      <td>NaN</td>\n",
       "      <td>Synechocystis</td>\n",
       "      <td>Merismopediaceae</td>\n",
       "      <td>Synechococcales</td>\n",
       "      <td>NaN</td>\n",
       "      <td>Cyanobacteria</td>\n",
       "      <td>Bacteria</td>\n",
       "    </tr>\n",
       "    <tr>\n",
       "      <th>1144</th>\n",
       "      <td>3.741657</td>\n",
       "      <td>3.741657</td>\n",
       "      <td>27.427781</td>\n",
       "      <td>43.982297</td>\n",
       "      <td>sphere/spheroid</td>\n",
       "      <td>Synechocystis sp. PCC 6701</td>\n",
       "      <td>Geminocystis</td>\n",
       "      <td>Chroococcaceae</td>\n",
       "      <td>Chroococcales</td>\n",
       "      <td>NaN</td>\n",
       "      <td>Cyanobacteria</td>\n",
       "      <td>Bacteria</td>\n",
       "    </tr>\n",
       "    <tr>\n",
       "      <th>1148</th>\n",
       "      <td>2.397916</td>\n",
       "      <td>2.397916</td>\n",
       "      <td>7.219388</td>\n",
       "      <td>18.064158</td>\n",
       "      <td>sphere/spheroid</td>\n",
       "      <td>Synechocystis sp. PCC 6803</td>\n",
       "      <td>Synechocystis</td>\n",
       "      <td>Merismopediaceae</td>\n",
       "      <td>Synechococcales</td>\n",
       "      <td>NaN</td>\n",
       "      <td>Cyanobacteria</td>\n",
       "      <td>Bacteria</td>\n",
       "    </tr>\n",
       "  </tbody>\n",
       "</table>\n",
       "</div>"
      ],
      "text/plain": [
       "         length     width     volume    surface            shape  \\\n",
       "taxid                                                              \n",
       "1126   3.240370  3.240370  17.814866  32.986723  sphere/spheroid   \n",
       "1129   1.309547  1.309547   1.175878   5.387561  sphere/spheroid   \n",
       "1142   2.959481  2.959481  13.572041  27.515722  sphere/spheroid   \n",
       "1144   3.741657  3.741657  27.427781  43.982297  sphere/spheroid   \n",
       "1148   2.397916  2.397916   7.219388  18.064158  sphere/spheroid   \n",
       "\n",
       "                          species          genus            family  \\\n",
       "taxid                                                                \n",
       "1126       Microcystis aeruginosa    Microcystis    Microcystaceae   \n",
       "1129                          NaN  Synechococcus  Synechococcaceae   \n",
       "1142                          NaN  Synechocystis  Merismopediaceae   \n",
       "1144   Synechocystis sp. PCC 6701   Geminocystis    Chroococcaceae   \n",
       "1148   Synechocystis sp. PCC 6803  Synechocystis  Merismopediaceae   \n",
       "\n",
       "                 order class         phylum superkingdom  \n",
       "taxid                                                     \n",
       "1126     Chroococcales   NaN  Cyanobacteria     Bacteria  \n",
       "1129   Synechococcales   NaN  Cyanobacteria     Bacteria  \n",
       "1142   Synechococcales   NaN  Cyanobacteria     Bacteria  \n",
       "1144     Chroococcales   NaN  Cyanobacteria     Bacteria  \n",
       "1148   Synechococcales   NaN  Cyanobacteria     Bacteria  "
      ]
     },
     "execution_count": 39,
     "metadata": {},
     "output_type": "execute_result"
    }
   ],
   "source": [
    "dfr.head()"
   ]
  },
  {
   "cell_type": "code",
   "execution_count": 40,
   "metadata": {},
   "outputs": [
    {
     "data": {
      "text/plain": [
       "(98, 12)"
      ]
     },
     "execution_count": 40,
     "metadata": {},
     "output_type": "execute_result"
    }
   ],
   "source": [
    "dfr.shape"
   ]
  },
  {
   "cell_type": "markdown",
   "metadata": {},
   "source": [
    "Output"
   ]
  },
  {
   "cell_type": "code",
   "execution_count": 41,
   "metadata": {},
   "outputs": [],
   "source": [
    "dfr.to_csv('annot/species_cyanobacteria.tsv', sep = '\\t')"
   ]
  },
  {
   "cell_type": "markdown",
   "metadata": {},
   "source": [
    "Statistics"
   ]
  },
  {
   "cell_type": "code",
   "execution_count": 42,
   "metadata": {},
   "outputs": [
    {
     "name": "stdout",
     "output_type": "stream",
     "text": [
      "species 75\n",
      "genus 39\n",
      "family 24\n",
      "order 10\n",
      "class 1\n",
      "phylum 1\n",
      "superkingdom 1\n"
     ]
    }
   ],
   "source": [
    "for rank in ranks:\n",
    "    print(rank, dfr[rank].nunique())"
   ]
  },
  {
   "cell_type": "markdown",
   "metadata": {},
   "source": [
    "### Collapse to higher ranks"
   ]
  },
  {
   "cell_type": "code",
   "execution_count": 43,
   "metadata": {},
   "outputs": [
    {
     "data": {
      "text/html": [
       "<div>\n",
       "<style scoped>\n",
       "    .dataframe tbody tr th:only-of-type {\n",
       "        vertical-align: middle;\n",
       "    }\n",
       "\n",
       "    .dataframe tbody tr th {\n",
       "        vertical-align: top;\n",
       "    }\n",
       "\n",
       "    .dataframe thead th {\n",
       "        text-align: right;\n",
       "    }\n",
       "</style>\n",
       "<table border=\"1\" class=\"dataframe\">\n",
       "  <thead>\n",
       "    <tr style=\"text-align: right;\">\n",
       "      <th></th>\n",
       "      <th>length</th>\n",
       "      <th>width</th>\n",
       "      <th>shape</th>\n",
       "      <th>volume</th>\n",
       "      <th>surface</th>\n",
       "      <th>sptid</th>\n",
       "      <th>species</th>\n",
       "    </tr>\n",
       "  </thead>\n",
       "  <tbody>\n",
       "    <tr>\n",
       "      <th>5</th>\n",
       "      <td>1.095445</td>\n",
       "      <td>1.095445</td>\n",
       "      <td>sphere/spheroid</td>\n",
       "      <td>0.688288</td>\n",
       "      <td>3.769911</td>\n",
       "      <td>32046</td>\n",
       "      <td>Synechococcus elongatus</td>\n",
       "    </tr>\n",
       "    <tr>\n",
       "      <th>8</th>\n",
       "      <td>4.472136</td>\n",
       "      <td>4.472136</td>\n",
       "      <td>sphere/spheroid</td>\n",
       "      <td>46.832098</td>\n",
       "      <td>62.831853</td>\n",
       "      <td>118323</td>\n",
       "      <td>Oscillatoria acuminata</td>\n",
       "    </tr>\n",
       "    <tr>\n",
       "      <th>10</th>\n",
       "      <td>2.034699</td>\n",
       "      <td>2.034699</td>\n",
       "      <td>sphere/spheroid</td>\n",
       "      <td>4.410615</td>\n",
       "      <td>13.006194</td>\n",
       "      <td>1184</td>\n",
       "      <td>Leptolyngbya boryana</td>\n",
       "    </tr>\n",
       "    <tr>\n",
       "      <th>11</th>\n",
       "      <td>0.894427</td>\n",
       "      <td>0.894427</td>\n",
       "      <td>sphere/spheroid</td>\n",
       "      <td>0.374657</td>\n",
       "      <td>2.513274</td>\n",
       "      <td>59930</td>\n",
       "      <td>Cyanobium gracile</td>\n",
       "    </tr>\n",
       "    <tr>\n",
       "      <th>12</th>\n",
       "      <td>4.090623</td>\n",
       "      <td>4.090623</td>\n",
       "      <td>sphere/spheroid</td>\n",
       "      <td>35.839929</td>\n",
       "      <td>52.568900</td>\n",
       "      <td>669359</td>\n",
       "      <td>Geminocystis herdmanii</td>\n",
       "    </tr>\n",
       "  </tbody>\n",
       "</table>\n",
       "</div>"
      ],
      "text/plain": [
       "      length     width            shape     volume    surface   sptid  \\\n",
       "5   1.095445  1.095445  sphere/spheroid   0.688288   3.769911   32046   \n",
       "8   4.472136  4.472136  sphere/spheroid  46.832098  62.831853  118323   \n",
       "10  2.034699  2.034699  sphere/spheroid   4.410615  13.006194    1184   \n",
       "11  0.894427  0.894427  sphere/spheroid   0.374657   2.513274   59930   \n",
       "12  4.090623  4.090623  sphere/spheroid  35.839929  52.568900  669359   \n",
       "\n",
       "                    species  \n",
       "5   Synechococcus elongatus  \n",
       "8    Oscillatoria acuminata  \n",
       "10     Leptolyngbya boryana  \n",
       "11        Cyanobium gracile  \n",
       "12   Geminocystis herdmanii  "
      ]
     },
     "execution_count": 43,
     "metadata": {},
     "output_type": "execute_result"
    }
   ],
   "source": [
    "df.head()"
   ]
  },
  {
   "cell_type": "code",
   "execution_count": 44,
   "metadata": {},
   "outputs": [],
   "source": [
    "def get_rank(tid, rank):\n",
    "    if tid == '1':\n",
    "        return None\n",
    "    if dump[tid]['rank'] == rank:\n",
    "        return tid\n",
    "    return get_rank(dump[tid]['parent'], rank)"
   ]
  },
  {
   "cell_type": "code",
   "execution_count": 45,
   "metadata": {},
   "outputs": [
    {
     "name": "stdout",
     "output_type": "stream",
     "text": [
      "genus: 39\n",
      "family: 24\n",
      "order: 10\n",
      "class: 1\n",
      "phylum: 1\n",
      "superkingdom: 1\n"
     ]
    }
   ],
   "source": [
    "for rank in ranks[1:]:\n",
    "    #dfr = df.copy().drop(columns=['taxid'])\n",
    "    dfr = df.copy()\n",
    "    dfr['taxid'] = dfr['sptid'].apply(lambda x: get_rank(x, rank))\n",
    "    dfr = dfr.dropna(subset=['taxid'])\n",
    "    dfr = dfr.groupby('taxid')[cols].agg(gmean)\n",
    "    dfr = dfr.loc[sorted(dfr.index, key=int)]\n",
    "    ranks_ = ranks[ranks.index(rank):]\n",
    "    res = {x: {} for x in ranks_}\n",
    "    rankset = set(ranks_)\n",
    "    for tid in dfr.index.astype(str):\n",
    "        this = tid\n",
    "        while True:\n",
    "            rank_ = dump[this]['rank']\n",
    "            if rank_ in rankset:\n",
    "                res[rank_][tid] = dump[this]['name']\n",
    "            parent = dump[this]['parent']\n",
    "            if this == parent:\n",
    "                break\n",
    "            this = parent\n",
    "    for rank_ in ranks_:\n",
    "        dfr[rank_] = dfr.index.map(res[rank_])\n",
    "    dfr.to_csv(f'annot/{rank}_cyanobacteria.tsv', sep='\\t')\n",
    "    print(f'{rank}: {dfr.shape[0]}')"
   ]
  },
  {
   "cell_type": "code",
   "execution_count": null,
   "metadata": {},
   "outputs": [],
   "source": []
  },
  {
   "cell_type": "code",
   "execution_count": null,
   "metadata": {},
   "outputs": [],
   "source": []
  },
  {
   "cell_type": "code",
   "execution_count": null,
   "metadata": {},
   "outputs": [],
   "source": []
  }
 ],
 "metadata": {
  "kernelspec": {
   "display_name": "Python 3",
   "language": "python",
   "name": "python3"
  },
  "language_info": {
   "codemirror_mode": {
    "name": "ipython",
    "version": 3
   },
   "file_extension": ".py",
   "mimetype": "text/x-python",
   "name": "python",
   "nbconvert_exporter": "python",
   "pygments_lexer": "ipython3",
   "version": "3.8.5"
  }
 },
 "nbformat": 4,
 "nbformat_minor": 4
}
