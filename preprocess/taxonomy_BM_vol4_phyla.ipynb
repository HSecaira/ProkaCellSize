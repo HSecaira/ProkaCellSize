{
 "cells": [
  {
   "cell_type": "markdown",
   "metadata": {},
   "source": [
    "# Match cell size with NCBI taxonomy"
   ]
  },
  {
   "cell_type": "code",
   "execution_count": 1,
   "metadata": {},
   "outputs": [],
   "source": [
    "# Imports\n",
    "import numpy as np\n",
    "import pandas as pd\n",
    "import matplotlib.pyplot as plt\n",
    "from scipy.stats import gmean\n",
    "import time\n",
    "import re\n",
    "from bs4 import BeautifulSoup\n",
    "import requests"
   ]
  },
  {
   "cell_type": "code",
   "execution_count": 2,
   "metadata": {},
   "outputs": [],
   "source": [
    "# Interactive matplotlib plot\n",
    "%matplotlib notebook"
   ]
  },
  {
   "cell_type": "code",
   "execution_count": 3,
   "metadata": {},
   "outputs": [],
   "source": [
    "import lzma"
   ]
  },
  {
   "cell_type": "markdown",
   "metadata": {},
   "source": [
    "### Cell size data"
   ]
  },
  {
   "cell_type": "code",
   "execution_count": 4,
   "metadata": {},
   "outputs": [
    {
     "data": {
      "text/plain": [
       "(346, 6)"
      ]
     },
     "execution_count": 4,
     "metadata": {},
     "output_type": "execute_result"
    }
   ],
   "source": [
    "df = pd.read_table('data_BMvol4.tsv', sep = '\\t', index_col = 0 )\n",
    "df.shape"
   ]
  },
  {
   "cell_type": "markdown",
   "metadata": {},
   "source": [
    "### Reference taxonomy\n",
    "\n",
    "Read NCBI taxonomy database"
   ]
  },
  {
   "cell_type": "code",
   "execution_count": 5,
   "metadata": {},
   "outputs": [],
   "source": [
    "dump = {}\n",
    "with lzma.open('nodes.dmp.xz', 'rb') as f:\n",
    "    for line in f.read().decode().splitlines():\n",
    "        x = line.rstrip('\\r\\n').replace('\\t|', '').split('\\t')\n",
    "        dump[x[0]] = {'parent': x[1], 'rank': x[2], 'name': '', 'children': set()}\n",
    "with lzma.open('names.dmp.xz', 'rb') as f:\n",
    "    for line in f.read().decode().splitlines():\n",
    "        x = line.rstrip('\\r\\n').replace('\\t|', '').split('\\t')\n",
    "        if x[3] == 'scientific name':\n",
    "            dump[x[0]]['name'] = x[1]\n",
    "for tid in dump:\n",
    "    pid = dump[tid]['parent']\n",
    "    if tid != pid:\n",
    "        dump[pid]['children'].add(tid)"
   ]
  },
  {
   "cell_type": "code",
   "execution_count": 6,
   "metadata": {},
   "outputs": [
    {
     "data": {
      "text/plain": [
       "2375861"
      ]
     },
     "execution_count": 6,
     "metadata": {},
     "output_type": "execute_result"
    }
   ],
   "source": [
    "len(dump)"
   ]
  },
  {
   "cell_type": "markdown",
   "metadata": {},
   "source": [
    "### Match by taxon name\n",
    "\n",
    "Match species name"
   ]
  },
  {
   "cell_type": "code",
   "execution_count": 7,
   "metadata": {},
   "outputs": [],
   "source": [
    "spnames = {v['name']: k for k, v in dump.items() if v['rank'] == 'species'}"
   ]
  },
  {
   "cell_type": "code",
   "execution_count": 8,
   "metadata": {},
   "outputs": [
    {
     "data": {
      "text/plain": [
       "True     261\n",
       "False     85\n",
       "Name: name, dtype: int64"
      ]
     },
     "execution_count": 8,
     "metadata": {},
     "output_type": "execute_result"
    }
   ],
   "source": [
    "df['name'].astype(str).isin(spnames).value_counts()"
   ]
  },
  {
   "cell_type": "markdown",
   "metadata": {},
   "source": [
    "Add species taxID"
   ]
  },
  {
   "cell_type": "code",
   "execution_count": 9,
   "metadata": {},
   "outputs": [],
   "source": [
    "df['sptid'] = df['name'].map(spnames)"
   ]
  },
  {
   "cell_type": "code",
   "execution_count": 10,
   "metadata": {},
   "outputs": [
    {
     "data": {
      "text/plain": [
       "(85, 7)"
      ]
     },
     "execution_count": 10,
     "metadata": {},
     "output_type": "execute_result"
    }
   ],
   "source": [
    "tmp = df[df['sptid'].isna()]\n",
    "tmp.shape"
   ]
  },
  {
   "cell_type": "markdown",
   "metadata": {},
   "source": [
    "Match subspecies name"
   ]
  },
  {
   "cell_type": "code",
   "execution_count": 11,
   "metadata": {},
   "outputs": [],
   "source": [
    "sspnames = {v['name']: k for k, v in dump.items() if v['rank'] == 'subspecies'}"
   ]
  },
  {
   "cell_type": "code",
   "execution_count": 12,
   "metadata": {},
   "outputs": [
    {
     "data": {
      "text/plain": [
       "False    85\n",
       "Name: name, dtype: int64"
      ]
     },
     "execution_count": 12,
     "metadata": {},
     "output_type": "execute_result"
    }
   ],
   "source": [
    "tmp['name'].astype(str).isin(sspnames).value_counts()"
   ]
  },
  {
   "cell_type": "markdown",
   "metadata": {},
   "source": [
    "Use [NCBI taxonomy browser](https://www.ncbi.nlm.nih.gov/taxonomy/)."
   ]
  },
  {
   "cell_type": "code",
   "execution_count": 13,
   "metadata": {},
   "outputs": [
    {
     "name": "stdout",
     "output_type": "stream",
     "text": [
      "\tIndex: 28 not in dump taxID\n",
      "\tIndex: 33 not in dump taxID\n",
      "\tIndex: 38 not in dump taxID\n",
      "\tIndex: 60 not in dump taxID\n",
      "\tIndex: 63 not in dump taxID\n",
      "\tIndex: 72 not in dump taxID\n",
      "\tIndex: 84 not in dump taxID\n",
      "\tIndex: 90 not in dump taxID\n",
      "\tIndex: 113 not in dump taxID\n",
      "\tIndex: 117 not in dump taxID\n",
      "\tIndex: 132 not in dump taxID\n",
      "\tIndex: 134 not in dump taxID\n",
      "\tIndex: 139 not in dump taxID\n",
      "\tIndex: 140 not in dump taxID\n",
      "\tIndex: 141 not in dump taxID\n",
      "\tIndex: 146 not in dump taxID\n",
      "\tIndex: 155 not in dump taxID\n",
      "\tIndex: 158 not in dump taxID\n",
      "\tIndex: 163 not in dump taxID\n",
      "\tIndex: 178 not in dump taxID\n",
      "\tIndex: 179 not in dump taxID\n",
      "\tIndex: 197 not in dump taxID\n",
      "\tIndex: 199 not in dump taxID\n",
      "\tIndex: 210 not in dump taxID\n",
      "\tIndex: 221 not in dump taxID\n",
      "\tIndex: 223 not in dump taxID\n",
      "\tIndex: 337 not in dump taxID\n",
      "\tIndex: 340 not in dump taxID\n"
     ]
    }
   ],
   "source": [
    "# new_spnames = {}\n",
    "# for i, row in tmp.iterrows():\n",
    "#     term = row['name']\n",
    "#     url = 'https://www.ncbi.nlm.nih.gov/taxonomy/?term=' + term.replace(' ', '+') + '&report=taxon&format=text'\n",
    "#     resp = requests.get(url)\n",
    "#     soup = BeautifulSoup(resp.content, \"html.parser\")\n",
    "#     name = soup.find('pre').text.strip()\n",
    "#     try:\n",
    "#         df.at[i, 'sptid'] = spnames[name]\n",
    "#         new_spnames[i] = [term, name]\n",
    "#     except:\n",
    "#         print(f'\\tIndex: {i} not in dump taxID')"
   ]
  },
  {
   "cell_type": "markdown",
   "metadata": {},
   "source": [
    "Check assigned new names"
   ]
  },
  {
   "cell_type": "code",
   "execution_count": 14,
   "metadata": {},
   "outputs": [],
   "source": [
    "# for k, v in new_spnames.items():\n",
    "#     df.at[k, 'name'] = v[1]"
   ]
  },
  {
   "cell_type": "markdown",
   "metadata": {},
   "source": [
    "Check the remaining"
   ]
  },
  {
   "cell_type": "code",
   "execution_count": 15,
   "metadata": {},
   "outputs": [
    {
     "data": {
      "text/html": [
       "<div>\n",
       "<style scoped>\n",
       "    .dataframe tbody tr th:only-of-type {\n",
       "        vertical-align: middle;\n",
       "    }\n",
       "\n",
       "    .dataframe tbody tr th {\n",
       "        vertical-align: top;\n",
       "    }\n",
       "\n",
       "    .dataframe thead th {\n",
       "        text-align: right;\n",
       "    }\n",
       "</style>\n",
       "<table border=\"1\" class=\"dataframe\">\n",
       "  <thead>\n",
       "    <tr style=\"text-align: right;\">\n",
       "      <th></th>\n",
       "      <th>name</th>\n",
       "      <th>shape</th>\n",
       "      <th>length</th>\n",
       "      <th>width</th>\n",
       "      <th>volume</th>\n",
       "      <th>surface</th>\n",
       "      <th>sptid</th>\n",
       "    </tr>\n",
       "  </thead>\n",
       "  <tbody>\n",
       "    <tr>\n",
       "      <th>28</th>\n",
       "      <td>Spirochaeta caldaria</td>\n",
       "      <td>helical</td>\n",
       "      <td>25.980762</td>\n",
       "      <td>0.244949</td>\n",
       "      <td>1.220467</td>\n",
       "      <td>19.992973</td>\n",
       "      <td>NaN</td>\n",
       "    </tr>\n",
       "    <tr>\n",
       "      <th>33</th>\n",
       "      <td>Spirochaeta stenostrepta</td>\n",
       "      <td>helical</td>\n",
       "      <td>25.980762</td>\n",
       "      <td>0.244949</td>\n",
       "      <td>1.220467</td>\n",
       "      <td>19.992973</td>\n",
       "      <td>NaN</td>\n",
       "    </tr>\n",
       "    <tr>\n",
       "      <th>38</th>\n",
       "      <td>Borrelia baltazardii</td>\n",
       "      <td>helical</td>\n",
       "      <td>12.000000</td>\n",
       "      <td>0.424264</td>\n",
       "      <td>1.676467</td>\n",
       "      <td>15.994379</td>\n",
       "      <td>NaN</td>\n",
       "    </tr>\n",
       "    <tr>\n",
       "      <th>60</th>\n",
       "      <td>Borrelia spielmanii</td>\n",
       "      <td>helical</td>\n",
       "      <td>9.486833</td>\n",
       "      <td>0.316228</td>\n",
       "      <td>0.736815</td>\n",
       "      <td>9.424778</td>\n",
       "      <td>NaN</td>\n",
       "    </tr>\n",
       "    <tr>\n",
       "      <th>63</th>\n",
       "      <td>Borrelia turdi</td>\n",
       "      <td>helical</td>\n",
       "      <td>9.486833</td>\n",
       "      <td>0.316228</td>\n",
       "      <td>0.736815</td>\n",
       "      <td>9.424778</td>\n",
       "      <td>NaN</td>\n",
       "    </tr>\n",
       "    <tr>\n",
       "      <th>72</th>\n",
       "      <td>Treponema carateum</td>\n",
       "      <td>helical</td>\n",
       "      <td>10.954451</td>\n",
       "      <td>0.180000</td>\n",
       "      <td>0.277230</td>\n",
       "      <td>6.194596</td>\n",
       "      <td>NaN</td>\n",
       "    </tr>\n",
       "    <tr>\n",
       "      <th>84</th>\n",
       "      <td>Treponema scoliodontus</td>\n",
       "      <td>helical</td>\n",
       "      <td>9.486833</td>\n",
       "      <td>0.316228</td>\n",
       "      <td>0.736815</td>\n",
       "      <td>9.424778</td>\n",
       "      <td>NaN</td>\n",
       "    </tr>\n",
       "    <tr>\n",
       "      <th>90</th>\n",
       "      <td>Treponema orale</td>\n",
       "      <td>helical</td>\n",
       "      <td>9.797959</td>\n",
       "      <td>0.158114</td>\n",
       "      <td>0.191348</td>\n",
       "      <td>4.866934</td>\n",
       "      <td>NaN</td>\n",
       "    </tr>\n",
       "    <tr>\n",
       "      <th>113</th>\n",
       "      <td>Leptospira genomospecies</td>\n",
       "      <td>rod</td>\n",
       "      <td>8.485281</td>\n",
       "      <td>0.100000</td>\n",
       "      <td>0.066381</td>\n",
       "      <td>2.665730</td>\n",
       "      <td>NaN</td>\n",
       "    </tr>\n",
       "    <tr>\n",
       "      <th>117</th>\n",
       "      <td>Mycoplasma agalactiae</td>\n",
       "      <td>spherical</td>\n",
       "      <td>0.489898</td>\n",
       "      <td>0.158114</td>\n",
       "      <td>0.008584</td>\n",
       "      <td>0.243347</td>\n",
       "      <td>NaN</td>\n",
       "    </tr>\n",
       "    <tr>\n",
       "      <th>132</th>\n",
       "      <td>Mycoplasma californicum</td>\n",
       "      <td>spherical</td>\n",
       "      <td>0.489898</td>\n",
       "      <td>0.158114</td>\n",
       "      <td>0.008584</td>\n",
       "      <td>0.243347</td>\n",
       "      <td>NaN</td>\n",
       "    </tr>\n",
       "    <tr>\n",
       "      <th>134</th>\n",
       "      <td>Mycoplasma canis</td>\n",
       "      <td>filament</td>\n",
       "      <td>0.489898</td>\n",
       "      <td>0.158114</td>\n",
       "      <td>0.008584</td>\n",
       "      <td>0.243347</td>\n",
       "      <td>NaN</td>\n",
       "    </tr>\n",
       "    <tr>\n",
       "      <th>139</th>\n",
       "      <td>Mycoplasma columbinasale</td>\n",
       "      <td>spherical</td>\n",
       "      <td>0.489898</td>\n",
       "      <td>0.158114</td>\n",
       "      <td>0.008584</td>\n",
       "      <td>0.243347</td>\n",
       "      <td>NaN</td>\n",
       "    </tr>\n",
       "    <tr>\n",
       "      <th>140</th>\n",
       "      <td>Mycoplasma columbinum</td>\n",
       "      <td>spherical</td>\n",
       "      <td>0.489898</td>\n",
       "      <td>0.158114</td>\n",
       "      <td>0.008584</td>\n",
       "      <td>0.243347</td>\n",
       "      <td>NaN</td>\n",
       "    </tr>\n",
       "    <tr>\n",
       "      <th>141</th>\n",
       "      <td>Mycoplasma columborale</td>\n",
       "      <td>spherical</td>\n",
       "      <td>0.489898</td>\n",
       "      <td>0.158114</td>\n",
       "      <td>0.008584</td>\n",
       "      <td>0.243347</td>\n",
       "      <td>NaN</td>\n",
       "    </tr>\n",
       "    <tr>\n",
       "      <th>146</th>\n",
       "      <td>Mycoplasma cynos</td>\n",
       "      <td>spherical</td>\n",
       "      <td>0.489898</td>\n",
       "      <td>0.158114</td>\n",
       "      <td>0.008584</td>\n",
       "      <td>0.243347</td>\n",
       "      <td>NaN</td>\n",
       "    </tr>\n",
       "    <tr>\n",
       "      <th>155</th>\n",
       "      <td>Mycoplasma felis</td>\n",
       "      <td>spherical</td>\n",
       "      <td>0.489898</td>\n",
       "      <td>0.158114</td>\n",
       "      <td>0.008584</td>\n",
       "      <td>0.243347</td>\n",
       "      <td>NaN</td>\n",
       "    </tr>\n",
       "    <tr>\n",
       "      <th>158</th>\n",
       "      <td>Mycoplasma gallinaceum</td>\n",
       "      <td>spherical</td>\n",
       "      <td>0.489898</td>\n",
       "      <td>0.158114</td>\n",
       "      <td>0.008584</td>\n",
       "      <td>0.243347</td>\n",
       "      <td>NaN</td>\n",
       "    </tr>\n",
       "    <tr>\n",
       "      <th>163</th>\n",
       "      <td>Mycoplasma glycophilum</td>\n",
       "      <td>spherical</td>\n",
       "      <td>0.489898</td>\n",
       "      <td>0.158114</td>\n",
       "      <td>0.008584</td>\n",
       "      <td>0.243347</td>\n",
       "      <td>NaN</td>\n",
       "    </tr>\n",
       "    <tr>\n",
       "      <th>178</th>\n",
       "      <td>Mycoplasma maculosum</td>\n",
       "      <td>filament</td>\n",
       "      <td>0.489898</td>\n",
       "      <td>0.158114</td>\n",
       "      <td>0.008584</td>\n",
       "      <td>0.243347</td>\n",
       "      <td>NaN</td>\n",
       "    </tr>\n",
       "    <tr>\n",
       "      <th>179</th>\n",
       "      <td>Mycoplasma meleagridis</td>\n",
       "      <td>spherical</td>\n",
       "      <td>0.489898</td>\n",
       "      <td>0.158114</td>\n",
       "      <td>0.008584</td>\n",
       "      <td>0.243347</td>\n",
       "      <td>NaN</td>\n",
       "    </tr>\n",
       "    <tr>\n",
       "      <th>197</th>\n",
       "      <td>Mycoplasma primatum</td>\n",
       "      <td>spherical</td>\n",
       "      <td>0.489898</td>\n",
       "      <td>0.158114</td>\n",
       "      <td>0.008584</td>\n",
       "      <td>0.243347</td>\n",
       "      <td>NaN</td>\n",
       "    </tr>\n",
       "    <tr>\n",
       "      <th>199</th>\n",
       "      <td>Mycoplasma pulmonis</td>\n",
       "      <td>spherical</td>\n",
       "      <td>0.489898</td>\n",
       "      <td>0.158114</td>\n",
       "      <td>0.008584</td>\n",
       "      <td>0.243347</td>\n",
       "      <td>NaN</td>\n",
       "    </tr>\n",
       "    <tr>\n",
       "      <th>210</th>\n",
       "      <td>Mycoplasma verecundum</td>\n",
       "      <td>spherical</td>\n",
       "      <td>0.489898</td>\n",
       "      <td>0.158114</td>\n",
       "      <td>0.008584</td>\n",
       "      <td>0.243347</td>\n",
       "      <td>NaN</td>\n",
       "    </tr>\n",
       "    <tr>\n",
       "      <th>221</th>\n",
       "      <td>Mycoplasma haemotarandirangiferis</td>\n",
       "      <td>rod</td>\n",
       "      <td>0.489898</td>\n",
       "      <td>0.158114</td>\n",
       "      <td>0.008584</td>\n",
       "      <td>0.243347</td>\n",
       "      <td>NaN</td>\n",
       "    </tr>\n",
       "    <tr>\n",
       "      <th>223</th>\n",
       "      <td>Mycoplasma vulturis</td>\n",
       "      <td>spherical</td>\n",
       "      <td>0.489898</td>\n",
       "      <td>0.158114</td>\n",
       "      <td>0.008584</td>\n",
       "      <td>0.243347</td>\n",
       "      <td>NaN</td>\n",
       "    </tr>\n",
       "    <tr>\n",
       "      <th>337</th>\n",
       "      <td>Planctomyces guttaeformis</td>\n",
       "      <td>oval</td>\n",
       "      <td>2.949576</td>\n",
       "      <td>1.222702</td>\n",
       "      <td>2.984751</td>\n",
       "      <td>11.330005</td>\n",
       "      <td>NaN</td>\n",
       "    </tr>\n",
       "    <tr>\n",
       "      <th>340</th>\n",
       "      <td>Planctomyces stranskae</td>\n",
       "      <td>oval</td>\n",
       "      <td>3.240370</td>\n",
       "      <td>1.596872</td>\n",
       "      <td>5.423648</td>\n",
       "      <td>16.256035</td>\n",
       "      <td>NaN</td>\n",
       "    </tr>\n",
       "  </tbody>\n",
       "</table>\n",
       "</div>"
      ],
      "text/plain": [
       "                                  name      shape     length     width  \\\n",
       "28                Spirochaeta caldaria    helical  25.980762  0.244949   \n",
       "33            Spirochaeta stenostrepta    helical  25.980762  0.244949   \n",
       "38                Borrelia baltazardii    helical  12.000000  0.424264   \n",
       "60                 Borrelia spielmanii    helical   9.486833  0.316228   \n",
       "63                      Borrelia turdi    helical   9.486833  0.316228   \n",
       "72                  Treponema carateum    helical  10.954451  0.180000   \n",
       "84              Treponema scoliodontus    helical   9.486833  0.316228   \n",
       "90                     Treponema orale    helical   9.797959  0.158114   \n",
       "113           Leptospira genomospecies        rod   8.485281  0.100000   \n",
       "117              Mycoplasma agalactiae  spherical   0.489898  0.158114   \n",
       "132            Mycoplasma californicum  spherical   0.489898  0.158114   \n",
       "134                   Mycoplasma canis   filament   0.489898  0.158114   \n",
       "139           Mycoplasma columbinasale  spherical   0.489898  0.158114   \n",
       "140              Mycoplasma columbinum  spherical   0.489898  0.158114   \n",
       "141             Mycoplasma columborale  spherical   0.489898  0.158114   \n",
       "146                   Mycoplasma cynos  spherical   0.489898  0.158114   \n",
       "155                   Mycoplasma felis  spherical   0.489898  0.158114   \n",
       "158             Mycoplasma gallinaceum  spherical   0.489898  0.158114   \n",
       "163             Mycoplasma glycophilum  spherical   0.489898  0.158114   \n",
       "178               Mycoplasma maculosum   filament   0.489898  0.158114   \n",
       "179             Mycoplasma meleagridis  spherical   0.489898  0.158114   \n",
       "197                Mycoplasma primatum  spherical   0.489898  0.158114   \n",
       "199                Mycoplasma pulmonis  spherical   0.489898  0.158114   \n",
       "210              Mycoplasma verecundum  spherical   0.489898  0.158114   \n",
       "221  Mycoplasma haemotarandirangiferis        rod   0.489898  0.158114   \n",
       "223                Mycoplasma vulturis  spherical   0.489898  0.158114   \n",
       "337          Planctomyces guttaeformis       oval   2.949576  1.222702   \n",
       "340             Planctomyces stranskae       oval   3.240370  1.596872   \n",
       "\n",
       "       volume    surface sptid  \n",
       "28   1.220467  19.992973   NaN  \n",
       "33   1.220467  19.992973   NaN  \n",
       "38   1.676467  15.994379   NaN  \n",
       "60   0.736815   9.424778   NaN  \n",
       "63   0.736815   9.424778   NaN  \n",
       "72   0.277230   6.194596   NaN  \n",
       "84   0.736815   9.424778   NaN  \n",
       "90   0.191348   4.866934   NaN  \n",
       "113  0.066381   2.665730   NaN  \n",
       "117  0.008584   0.243347   NaN  \n",
       "132  0.008584   0.243347   NaN  \n",
       "134  0.008584   0.243347   NaN  \n",
       "139  0.008584   0.243347   NaN  \n",
       "140  0.008584   0.243347   NaN  \n",
       "141  0.008584   0.243347   NaN  \n",
       "146  0.008584   0.243347   NaN  \n",
       "155  0.008584   0.243347   NaN  \n",
       "158  0.008584   0.243347   NaN  \n",
       "163  0.008584   0.243347   NaN  \n",
       "178  0.008584   0.243347   NaN  \n",
       "179  0.008584   0.243347   NaN  \n",
       "197  0.008584   0.243347   NaN  \n",
       "199  0.008584   0.243347   NaN  \n",
       "210  0.008584   0.243347   NaN  \n",
       "221  0.008584   0.243347   NaN  \n",
       "223  0.008584   0.243347   NaN  \n",
       "337  2.984751  11.330005   NaN  \n",
       "340  5.423648  16.256035   NaN  "
      ]
     },
     "execution_count": 15,
     "metadata": {},
     "output_type": "execute_result"
    }
   ],
   "source": [
    "# df[df['sptid'].isna()]"
   ]
  },
  {
   "cell_type": "markdown",
   "metadata": {},
   "source": [
    "Manually assign the above entries by looking at [NCBI taxonomy browser.](https://www.ncbi.nlm.nih.gov/taxonomy/) (I made sure the new `sptid` is present in `dump`).\n",
    "\n",
    "Could not find the following:\n",
    "\n",
    "* `Borrelia baltazardii`\n",
    "* `Treponema carateum`\n",
    "* `Treponema scoliodontus`\n",
    "* `Treponema orale`\n",
    "* `Mycoplasma haemotarandirangiferis`\n",
    "* `Planctomyces guttaeformis`\n",
    "* `Planctomyces stranskae`"
   ]
  },
  {
   "cell_type": "markdown",
   "metadata": {},
   "source": [
    "<!-- <font color = 'red'> Beware! the iindex may change if you re-run the code after some time! -->"
   ]
  },
  {
   "cell_type": "code",
   "execution_count": 16,
   "metadata": {},
   "outputs": [],
   "source": [
    "# df.at[28, 'sptid'], df.at[28, 'name'] = '215591', 'Gracilinema caldarium'\n",
    "# df.at[33, 'sptid'], df.at[33, 'name'] = '152', 'Zuelzera stenostrepta'\n",
    "# df.at[60, 'sptid'], df.at[60, 'name'] = '88916', 'Borreliella spielmanii'\n",
    "# df.at[63, 'sptid'], df.at[63, 'name'] = '57863', 'Borreliella turdi'\n",
    "# df.at[113, 'sptid'], df.at[113, 'name'] = '100053', 'Leptospira alexanderi'\n",
    "# df.at[117, 'sptid'], df.at[117, 'name'] = '2110', 'Mycoplasmopsis agalactiae'\n",
    "# df.at[132, 'sptid'], df.at[132, 'name'] = '2113', 'Mycoplasmopsis californica'\n",
    "# df.at[134, 'sptid'], df.at[134, 'name'] = '29555', 'Mycoplasmopsis canis'\n",
    "# df.at[139, 'sptid'], df.at[139, 'name'] = '114880', 'Mycoplasmopsis columbinasalis'\n",
    "# df.at[140, 'sptid'], df.at[140, 'name'] = '114881', 'Mycoplasmopsis columbina'\n",
    "# df.at[141, 'sptid'], df.at[140, 'name'] = '171282', 'Mycoplasmopsis columboralis'\n",
    "# df.at[146, 'sptid'], df.at[146, 'name'] = '171284', 'Mycoplasmopsis cynos'\n",
    "# df.at[155, 'sptid'], df.at[155, 'name'] = '114881', 'Mycoplasmopsis felis'\n",
    "# df.at[158, 'sptid'], df.at[158, 'name'] = '29556', 'Mycoplasmopsis gallinacea'\n",
    "# df.at[163, 'sptid'], df.at[163, 'name'] = '171285', 'Mycoplasmopsis glycophila'\n",
    "# df.at[178, 'sptid'], df.at[178, 'name'] = '114885', 'Mycoplasmopsis maculosa'\n",
    "# df.at[179, 'sptid'], df.at[179, 'name'] = '29561', 'Mycoplasmopsis meleagridis'\n",
    "# df.at[197, 'sptid'], df.at[197, 'name'] = '55604', 'Mycoplasmopsis primatum'\n",
    "# df.at[199, 'sptid'], df.at[199, 'name'] = '2107', 'Mycoplasmopsis pulmonis'\n",
    "# df.at[210, 'sptid'], df.at[210, 'name'] = '171291', 'Mycoplasmopsis verecunda'\n",
    "# df.at[223, 'sptid'], df.at[223, 'name'] = '219290', 'Mycoplasma vulturii'"
   ]
  },
  {
   "cell_type": "markdown",
   "metadata": {},
   "source": [
    "Check the remaining"
   ]
  },
  {
   "cell_type": "code",
   "execution_count": 17,
   "metadata": {},
   "outputs": [
    {
     "data": {
      "text/plain": [
       "(7, 7)"
      ]
     },
     "execution_count": 17,
     "metadata": {},
     "output_type": "execute_result"
    }
   ],
   "source": [
    "# df[df['sptid'].isna()].shape"
   ]
  },
  {
   "cell_type": "code",
   "execution_count": 18,
   "metadata": {},
   "outputs": [
    {
     "data": {
      "text/html": [
       "<div>\n",
       "<style scoped>\n",
       "    .dataframe tbody tr th:only-of-type {\n",
       "        vertical-align: middle;\n",
       "    }\n",
       "\n",
       "    .dataframe tbody tr th {\n",
       "        vertical-align: top;\n",
       "    }\n",
       "\n",
       "    .dataframe thead th {\n",
       "        text-align: right;\n",
       "    }\n",
       "</style>\n",
       "<table border=\"1\" class=\"dataframe\">\n",
       "  <thead>\n",
       "    <tr style=\"text-align: right;\">\n",
       "      <th></th>\n",
       "      <th>name</th>\n",
       "      <th>shape</th>\n",
       "      <th>length</th>\n",
       "      <th>width</th>\n",
       "      <th>volume</th>\n",
       "      <th>surface</th>\n",
       "      <th>sptid</th>\n",
       "    </tr>\n",
       "  </thead>\n",
       "  <tbody>\n",
       "    <tr>\n",
       "      <th>38</th>\n",
       "      <td>Borrelia baltazardii</td>\n",
       "      <td>helical</td>\n",
       "      <td>12.000000</td>\n",
       "      <td>0.424264</td>\n",
       "      <td>1.676467</td>\n",
       "      <td>15.994379</td>\n",
       "      <td>NaN</td>\n",
       "    </tr>\n",
       "    <tr>\n",
       "      <th>72</th>\n",
       "      <td>Treponema carateum</td>\n",
       "      <td>helical</td>\n",
       "      <td>10.954451</td>\n",
       "      <td>0.180000</td>\n",
       "      <td>0.277230</td>\n",
       "      <td>6.194596</td>\n",
       "      <td>NaN</td>\n",
       "    </tr>\n",
       "    <tr>\n",
       "      <th>84</th>\n",
       "      <td>Treponema scoliodontus</td>\n",
       "      <td>helical</td>\n",
       "      <td>9.486833</td>\n",
       "      <td>0.316228</td>\n",
       "      <td>0.736815</td>\n",
       "      <td>9.424778</td>\n",
       "      <td>NaN</td>\n",
       "    </tr>\n",
       "    <tr>\n",
       "      <th>90</th>\n",
       "      <td>Treponema orale</td>\n",
       "      <td>helical</td>\n",
       "      <td>9.797959</td>\n",
       "      <td>0.158114</td>\n",
       "      <td>0.191348</td>\n",
       "      <td>4.866934</td>\n",
       "      <td>NaN</td>\n",
       "    </tr>\n",
       "    <tr>\n",
       "      <th>221</th>\n",
       "      <td>Mycoplasma haemotarandirangiferis</td>\n",
       "      <td>rod</td>\n",
       "      <td>0.489898</td>\n",
       "      <td>0.158114</td>\n",
       "      <td>0.008584</td>\n",
       "      <td>0.243347</td>\n",
       "      <td>NaN</td>\n",
       "    </tr>\n",
       "    <tr>\n",
       "      <th>337</th>\n",
       "      <td>Planctomyces guttaeformis</td>\n",
       "      <td>oval</td>\n",
       "      <td>2.949576</td>\n",
       "      <td>1.222702</td>\n",
       "      <td>2.984751</td>\n",
       "      <td>11.330005</td>\n",
       "      <td>NaN</td>\n",
       "    </tr>\n",
       "    <tr>\n",
       "      <th>340</th>\n",
       "      <td>Planctomyces stranskae</td>\n",
       "      <td>oval</td>\n",
       "      <td>3.240370</td>\n",
       "      <td>1.596872</td>\n",
       "      <td>5.423648</td>\n",
       "      <td>16.256035</td>\n",
       "      <td>NaN</td>\n",
       "    </tr>\n",
       "  </tbody>\n",
       "</table>\n",
       "</div>"
      ],
      "text/plain": [
       "                                  name    shape     length     width  \\\n",
       "38                Borrelia baltazardii  helical  12.000000  0.424264   \n",
       "72                  Treponema carateum  helical  10.954451  0.180000   \n",
       "84              Treponema scoliodontus  helical   9.486833  0.316228   \n",
       "90                     Treponema orale  helical   9.797959  0.158114   \n",
       "221  Mycoplasma haemotarandirangiferis      rod   0.489898  0.158114   \n",
       "337          Planctomyces guttaeformis     oval   2.949576  1.222702   \n",
       "340             Planctomyces stranskae     oval   3.240370  1.596872   \n",
       "\n",
       "       volume    surface sptid  \n",
       "38   1.676467  15.994379   NaN  \n",
       "72   0.277230   6.194596   NaN  \n",
       "84   0.736815   9.424778   NaN  \n",
       "90   0.191348   4.866934   NaN  \n",
       "221  0.008584   0.243347   NaN  \n",
       "337  2.984751  11.330005   NaN  \n",
       "340  5.423648  16.256035   NaN  "
      ]
     },
     "execution_count": 18,
     "metadata": {},
     "output_type": "execute_result"
    }
   ],
   "source": [
    "# df[df['sptid'].isna()]"
   ]
  },
  {
   "cell_type": "code",
   "execution_count": 19,
   "metadata": {},
   "outputs": [
    {
     "data": {
      "text/plain": [
       "Int64Index([38, 72, 84, 90, 221, 337, 340], dtype='int64')"
      ]
     },
     "execution_count": 19,
     "metadata": {},
     "output_type": "execute_result"
    }
   ],
   "source": [
    "# df[df['sptid'].isna()].index"
   ]
  },
  {
   "cell_type": "markdown",
   "metadata": {},
   "source": [
    "Drop entries that could not be assigned"
   ]
  },
  {
   "cell_type": "code",
   "execution_count": 20,
   "metadata": {},
   "outputs": [],
   "source": [
    "# df.drop([38, 72, 84, 90, 221, 337, 340], inplace = True)"
   ]
  },
  {
   "cell_type": "markdown",
   "metadata": {},
   "source": [
    "## Mean cell size\n",
    "\n",
    "Check duplicate species"
   ]
  },
  {
   "cell_type": "code",
   "execution_count": 21,
   "metadata": {},
   "outputs": [
    {
     "data": {
      "text/plain": [
       "1    327\n",
       "2      6\n",
       "Name: sptid, dtype: int64"
      ]
     },
     "execution_count": 21,
     "metadata": {},
     "output_type": "execute_result"
    }
   ],
   "source": [
    "# df['sptid'].value_counts().value_counts()"
   ]
  },
  {
   "cell_type": "markdown",
   "metadata": {},
   "source": [
    "Group organisms by species taxID and calculate geometric mean per species"
   ]
  },
  {
   "cell_type": "code",
   "execution_count": 22,
   "metadata": {},
   "outputs": [],
   "source": [
    "# cols = ['length', 'width', 'volume', 'surface']"
   ]
  },
  {
   "cell_type": "code",
   "execution_count": 23,
   "metadata": {},
   "outputs": [],
   "source": [
    "# dfr = df.groupby('sptid')[cols].agg(gmean)"
   ]
  },
  {
   "cell_type": "markdown",
   "metadata": {},
   "source": [
    "Add shape and species name"
   ]
  },
  {
   "cell_type": "code",
   "execution_count": 24,
   "metadata": {},
   "outputs": [],
   "source": [
    "# shapes = dict(df[['sptid', 'shape']].drop_duplicates('sptid').values)\n",
    "# dfr['shape'] = dfr.index.map(shapes)"
   ]
  },
  {
   "cell_type": "markdown",
   "metadata": {},
   "source": [
    "This step may change the name of some entries according to the information available on `dump`"
   ]
  },
  {
   "cell_type": "code",
   "execution_count": 25,
   "metadata": {},
   "outputs": [],
   "source": [
    "# dfr['species'] = dfr.index.to_series().apply(lambda x: dump[str(x)]['name'])"
   ]
  },
  {
   "cell_type": "markdown",
   "metadata": {},
   "source": [
    "Organize"
   ]
  },
  {
   "cell_type": "code",
   "execution_count": 26,
   "metadata": {},
   "outputs": [],
   "source": [
    "# dfr = dfr.loc[sorted(dfr.index, key=int)]"
   ]
  },
  {
   "cell_type": "code",
   "execution_count": 27,
   "metadata": {},
   "outputs": [],
   "source": [
    "# dfr.index.names = ['taxid']"
   ]
  },
  {
   "cell_type": "code",
   "execution_count": 28,
   "metadata": {},
   "outputs": [
    {
     "data": {
      "text/plain": [
       "(333, 6)"
      ]
     },
     "execution_count": 28,
     "metadata": {},
     "output_type": "execute_result"
    }
   ],
   "source": [
    "# dfr.shape"
   ]
  },
  {
   "cell_type": "markdown",
   "metadata": {},
   "source": [
    "Fill more ranks"
   ]
  },
  {
   "cell_type": "code",
   "execution_count": 29,
   "metadata": {},
   "outputs": [],
   "source": [
    "# ranks = ['species', 'genus', 'family', 'order', 'class', 'phylum', 'superkingdom']"
   ]
  },
  {
   "cell_type": "code",
   "execution_count": 30,
   "metadata": {},
   "outputs": [],
   "source": [
    "# res = {x: {} for x in ranks[1:]}"
   ]
  },
  {
   "cell_type": "code",
   "execution_count": 31,
   "metadata": {},
   "outputs": [],
   "source": [
    "# rankset = set(ranks[1:])"
   ]
  },
  {
   "cell_type": "code",
   "execution_count": 32,
   "metadata": {},
   "outputs": [],
   "source": [
    "# for tid in dfr.index.astype(str):\n",
    "#     this = tid\n",
    "#     while True:\n",
    "#         rank = dump[this]['rank']\n",
    "#         if rank in rankset:\n",
    "#             res[rank][tid] = dump[this]['name']\n",
    "#         parent = dump[this]['parent']\n",
    "#         if this == parent:\n",
    "#             break\n",
    "#         this = parent"
   ]
  },
  {
   "cell_type": "code",
   "execution_count": 33,
   "metadata": {},
   "outputs": [],
   "source": [
    "# for rank in ranks[1:]:\n",
    "#     dfr[rank] = dfr.index.map(res[rank])"
   ]
  },
  {
   "cell_type": "code",
   "execution_count": 34,
   "metadata": {},
   "outputs": [],
   "source": [
    "# # Correct entries with no species\n",
    "# dfr['species'] = dfr['species'].astype(str).apply(lambda x: x if len(x.split(' ')) > 1 else np.NaN)"
   ]
  },
  {
   "cell_type": "code",
   "execution_count": 35,
   "metadata": {},
   "outputs": [
    {
     "data": {
      "text/html": [
       "<div>\n",
       "<style scoped>\n",
       "    .dataframe tbody tr th:only-of-type {\n",
       "        vertical-align: middle;\n",
       "    }\n",
       "\n",
       "    .dataframe tbody tr th {\n",
       "        vertical-align: top;\n",
       "    }\n",
       "\n",
       "    .dataframe thead th {\n",
       "        text-align: right;\n",
       "    }\n",
       "</style>\n",
       "<table border=\"1\" class=\"dataframe\">\n",
       "  <thead>\n",
       "    <tr style=\"text-align: right;\">\n",
       "      <th></th>\n",
       "      <th>length</th>\n",
       "      <th>width</th>\n",
       "      <th>volume</th>\n",
       "      <th>surface</th>\n",
       "      <th>shape</th>\n",
       "      <th>species</th>\n",
       "      <th>genus</th>\n",
       "      <th>family</th>\n",
       "      <th>order</th>\n",
       "      <th>class</th>\n",
       "      <th>phylum</th>\n",
       "      <th>superkingdom</th>\n",
       "    </tr>\n",
       "    <tr>\n",
       "      <th>taxid</th>\n",
       "      <th></th>\n",
       "      <th></th>\n",
       "      <th></th>\n",
       "      <th></th>\n",
       "      <th></th>\n",
       "      <th></th>\n",
       "      <th></th>\n",
       "      <th></th>\n",
       "      <th></th>\n",
       "      <th></th>\n",
       "      <th></th>\n",
       "      <th></th>\n",
       "    </tr>\n",
       "  </thead>\n",
       "  <tbody>\n",
       "    <tr>\n",
       "      <th>114</th>\n",
       "      <td>2.049390</td>\n",
       "      <td>2.049390</td>\n",
       "      <td>4.506844</td>\n",
       "      <td>13.194689</td>\n",
       "      <td>spherical</td>\n",
       "      <td>Gemmata obscuriglobus</td>\n",
       "      <td>Gemmata</td>\n",
       "      <td>Gemmataceae</td>\n",
       "      <td>Gemmatales</td>\n",
       "      <td>Planctomycetia</td>\n",
       "      <td>Planctomycetes</td>\n",
       "      <td>Bacteria</td>\n",
       "    </tr>\n",
       "    <tr>\n",
       "      <th>119</th>\n",
       "      <td>1.122497</td>\n",
       "      <td>1.122497</td>\n",
       "      <td>0.740550</td>\n",
       "      <td>3.958407</td>\n",
       "      <td>spherical</td>\n",
       "      <td>Rubinisphaera brasiliensis</td>\n",
       "      <td>Rubinisphaera</td>\n",
       "      <td>Planctomycetaceae</td>\n",
       "      <td>Planctomycetales</td>\n",
       "      <td>Planctomycetia</td>\n",
       "      <td>Planctomycetes</td>\n",
       "      <td>Bacteria</td>\n",
       "    </tr>\n",
       "    <tr>\n",
       "      <th>120</th>\n",
       "      <td>1.284523</td>\n",
       "      <td>1.284523</td>\n",
       "      <td>1.109748</td>\n",
       "      <td>5.183628</td>\n",
       "      <td>spherical</td>\n",
       "      <td>Planctopirus limnophila</td>\n",
       "      <td>Planctopirus</td>\n",
       "      <td>Planctomycetaceae</td>\n",
       "      <td>Planctomycetales</td>\n",
       "      <td>Planctomycetia</td>\n",
       "      <td>Planctomycetes</td>\n",
       "      <td>Bacteria</td>\n",
       "    </tr>\n",
       "    <tr>\n",
       "      <th>122</th>\n",
       "      <td>1.224745</td>\n",
       "      <td>1.224745</td>\n",
       "      <td>0.961912</td>\n",
       "      <td>4.712389</td>\n",
       "      <td>spherical</td>\n",
       "      <td>Gimesia maris</td>\n",
       "      <td>Gimesia</td>\n",
       "      <td>Planctomycetaceae</td>\n",
       "      <td>Planctomycetales</td>\n",
       "      <td>Planctomycetia</td>\n",
       "      <td>Planctomycetes</td>\n",
       "      <td>Bacteria</td>\n",
       "    </tr>\n",
       "    <tr>\n",
       "      <th>124</th>\n",
       "      <td>1.414214</td>\n",
       "      <td>1.024695</td>\n",
       "      <td>0.884579</td>\n",
       "      <td>4.552600</td>\n",
       "      <td>oval</td>\n",
       "      <td>Blastopirellula marina</td>\n",
       "      <td>Blastopirellula</td>\n",
       "      <td>Pirellulaceae</td>\n",
       "      <td>Pirellulales</td>\n",
       "      <td>Planctomycetia</td>\n",
       "      <td>Planctomycetes</td>\n",
       "      <td>Bacteria</td>\n",
       "    </tr>\n",
       "  </tbody>\n",
       "</table>\n",
       "</div>"
      ],
      "text/plain": [
       "         length     width    volume    surface      shape  \\\n",
       "taxid                                                       \n",
       "114    2.049390  2.049390  4.506844  13.194689  spherical   \n",
       "119    1.122497  1.122497  0.740550   3.958407  spherical   \n",
       "120    1.284523  1.284523  1.109748   5.183628  spherical   \n",
       "122    1.224745  1.224745  0.961912   4.712389  spherical   \n",
       "124    1.414214  1.024695  0.884579   4.552600       oval   \n",
       "\n",
       "                          species            genus             family  \\\n",
       "taxid                                                                   \n",
       "114         Gemmata obscuriglobus          Gemmata        Gemmataceae   \n",
       "119    Rubinisphaera brasiliensis    Rubinisphaera  Planctomycetaceae   \n",
       "120       Planctopirus limnophila     Planctopirus  Planctomycetaceae   \n",
       "122                 Gimesia maris          Gimesia  Planctomycetaceae   \n",
       "124        Blastopirellula marina  Blastopirellula      Pirellulaceae   \n",
       "\n",
       "                  order           class          phylum superkingdom  \n",
       "taxid                                                                 \n",
       "114          Gemmatales  Planctomycetia  Planctomycetes     Bacteria  \n",
       "119    Planctomycetales  Planctomycetia  Planctomycetes     Bacteria  \n",
       "120    Planctomycetales  Planctomycetia  Planctomycetes     Bacteria  \n",
       "122    Planctomycetales  Planctomycetia  Planctomycetes     Bacteria  \n",
       "124        Pirellulales  Planctomycetia  Planctomycetes     Bacteria  "
      ]
     },
     "execution_count": 35,
     "metadata": {},
     "output_type": "execute_result"
    }
   ],
   "source": [
    "# dfr.head()"
   ]
  },
  {
   "cell_type": "markdown",
   "metadata": {},
   "source": [
    "Output"
   ]
  },
  {
   "cell_type": "code",
   "execution_count": 36,
   "metadata": {},
   "outputs": [],
   "source": [
    "# dfr.to_csv('annot/BM_vol4.tsv', sep = '\\t')"
   ]
  },
  {
   "cell_type": "markdown",
   "metadata": {},
   "source": [
    "Statistics"
   ]
  },
  {
   "cell_type": "code",
   "execution_count": 37,
   "metadata": {},
   "outputs": [
    {
     "name": "stdout",
     "output_type": "stream",
     "text": [
      "species 333\n",
      "genus 59\n",
      "family 32\n",
      "order 23\n",
      "class 14\n",
      "phylum 11\n",
      "superkingdom 1\n"
     ]
    }
   ],
   "source": [
    "# for rank in ranks:\n",
    "#     print(rank, dfr[rank].nunique())"
   ]
  },
  {
   "cell_type": "markdown",
   "metadata": {},
   "source": [
    "## Collapse to higher ranks"
   ]
  },
  {
   "cell_type": "code",
   "execution_count": 38,
   "metadata": {},
   "outputs": [],
   "source": [
    "# def get_rank(tid, rank):\n",
    "#     if tid == '1':\n",
    "#         return None\n",
    "#     if dump[tid]['rank'] == rank:\n",
    "#         return tid\n",
    "#     return get_rank(dump[tid]['parent'], rank)"
   ]
  },
  {
   "cell_type": "code",
   "execution_count": 39,
   "metadata": {},
   "outputs": [
    {
     "name": "stdout",
     "output_type": "stream",
     "text": [
      "genus: 59\n",
      "family: 32\n",
      "order: 23\n",
      "class: 14\n",
      "phylum: 11\n",
      "superkingdom: 1\n"
     ]
    }
   ],
   "source": [
    "# for rank in ranks[1:]:\n",
    "#     #dfr = df.copy().drop(columns=['taxid'])\n",
    "#     dfr = df.copy()\n",
    "#     dfr['taxid'] = dfr['sptid'].apply(lambda x: get_rank(x, rank))\n",
    "#     dfr = dfr.dropna(subset=['taxid'])\n",
    "#     dfr = dfr.groupby('taxid')[cols].agg(gmean)\n",
    "#     dfr = dfr.loc[sorted(dfr.index, key=int)]\n",
    "#     ranks_ = ranks[ranks.index(rank):]\n",
    "#     res = {x: {} for x in ranks_}\n",
    "#     rankset = set(ranks_)\n",
    "#     for tid in dfr.index.astype(str):\n",
    "#         this = tid\n",
    "#         while True:\n",
    "#             rank_ = dump[this]['rank']\n",
    "#             if rank_ in rankset:\n",
    "#                 res[rank_][tid] = dump[this]['name']\n",
    "#             parent = dump[this]['parent']\n",
    "#             if this == parent:\n",
    "#                 break\n",
    "#             this = parent\n",
    "#     for rank_ in ranks_:\n",
    "#         dfr[rank_] = dfr.index.map(res[rank_])\n",
    "#     dfr.to_csv(f'annot/{rank}_BM_vol4.tsv', sep='\\t')\n",
    "#     print(f'{rank}: {dfr.shape[0]}')"
   ]
  },
  {
   "cell_type": "code",
   "execution_count": null,
   "metadata": {},
   "outputs": [],
   "source": []
  },
  {
   "cell_type": "code",
   "execution_count": null,
   "metadata": {},
   "outputs": [],
   "source": []
  },
  {
   "cell_type": "code",
   "execution_count": null,
   "metadata": {},
   "outputs": [],
   "source": []
  },
  {
   "cell_type": "code",
   "execution_count": null,
   "metadata": {},
   "outputs": [],
   "source": []
  },
  {
   "cell_type": "code",
   "execution_count": null,
   "metadata": {},
   "outputs": [],
   "source": []
  },
  {
   "cell_type": "code",
   "execution_count": null,
   "metadata": {},
   "outputs": [],
   "source": []
  }
 ],
 "metadata": {
  "kernelspec": {
   "display_name": "Python 3",
   "language": "python",
   "name": "python3"
  },
  "language_info": {
   "codemirror_mode": {
    "name": "ipython",
    "version": 3
   },
   "file_extension": ".py",
   "mimetype": "text/x-python",
   "name": "python",
   "nbconvert_exporter": "python",
   "pygments_lexer": "ipython3",
   "version": "3.8.5"
  }
 },
 "nbformat": 4,
 "nbformat_minor": 4
}
