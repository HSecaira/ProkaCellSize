{
 "cells": [
  {
   "cell_type": "markdown",
   "metadata": {},
   "source": [
    "# Match cell size with NCBI taxonomy"
   ]
  },
  {
   "cell_type": "code",
   "execution_count": 1,
   "metadata": {},
   "outputs": [],
   "source": [
    "# Imports\n",
    "import numpy as np\n",
    "import pandas as pd\n",
    "import matplotlib.pyplot as plt\n",
    "from scipy.stats import gmean\n",
    "import time\n",
    "import re\n",
    "from bs4 import BeautifulSoup\n",
    "import requests"
   ]
  },
  {
   "cell_type": "code",
   "execution_count": 2,
   "metadata": {},
   "outputs": [],
   "source": [
    "# Interactive matplotlib plot\n",
    "%matplotlib notebook"
   ]
  },
  {
   "cell_type": "code",
   "execution_count": 3,
   "metadata": {},
   "outputs": [],
   "source": [
    "import lzma"
   ]
  },
  {
   "cell_type": "markdown",
   "metadata": {},
   "source": [
    "### Cell size data"
   ]
  },
  {
   "cell_type": "code",
   "execution_count": 4,
   "metadata": {},
   "outputs": [
    {
     "data": {
      "text/plain": [
       "(290, 6)"
      ]
     },
     "execution_count": 4,
     "metadata": {},
     "output_type": "execute_result"
    }
   ],
   "source": [
    "df = pd.read_table('data_BMvol5.tsv', sep = '\\t', index_col = 0 )\n",
    "df.shape"
   ]
  },
  {
   "cell_type": "markdown",
   "metadata": {},
   "source": [
    "### Reference taxonomy\n",
    "\n",
    "Read NCBI taxonomy database"
   ]
  },
  {
   "cell_type": "code",
   "execution_count": 5,
   "metadata": {},
   "outputs": [],
   "source": [
    "dump = {}\n",
    "with lzma.open('nodes.dmp.xz', 'rb') as f:\n",
    "    for line in f.read().decode().splitlines():\n",
    "        x = line.rstrip('\\r\\n').replace('\\t|', '').split('\\t')\n",
    "        dump[x[0]] = {'parent': x[1], 'rank': x[2], 'name': '', 'children': set()}\n",
    "with lzma.open('names.dmp.xz', 'rb') as f:\n",
    "    for line in f.read().decode().splitlines():\n",
    "        x = line.rstrip('\\r\\n').replace('\\t|', '').split('\\t')\n",
    "        if x[3] == 'scientific name':\n",
    "            dump[x[0]]['name'] = x[1]\n",
    "for tid in dump:\n",
    "    pid = dump[tid]['parent']\n",
    "    if tid != pid:\n",
    "        dump[pid]['children'].add(tid)"
   ]
  },
  {
   "cell_type": "code",
   "execution_count": 6,
   "metadata": {},
   "outputs": [
    {
     "data": {
      "text/plain": [
       "2375861"
      ]
     },
     "execution_count": 6,
     "metadata": {},
     "output_type": "execute_result"
    }
   ],
   "source": [
    "len(dump)"
   ]
  },
  {
   "cell_type": "markdown",
   "metadata": {},
   "source": [
    "### Match by taxon name\n",
    "\n",
    "Match species name"
   ]
  },
  {
   "cell_type": "code",
   "execution_count": 7,
   "metadata": {},
   "outputs": [],
   "source": [
    "spnames = {v['name']: k for k, v in dump.items() if v['rank'] == 'species'}"
   ]
  },
  {
   "cell_type": "code",
   "execution_count": 8,
   "metadata": {},
   "outputs": [
    {
     "data": {
      "text/plain": [
       "True     211\n",
       "False     79\n",
       "Name: name, dtype: int64"
      ]
     },
     "execution_count": 8,
     "metadata": {},
     "output_type": "execute_result"
    }
   ],
   "source": [
    "df['name'].astype(str).isin(spnames).value_counts()"
   ]
  },
  {
   "cell_type": "markdown",
   "metadata": {},
   "source": [
    "Add species taxID"
   ]
  },
  {
   "cell_type": "code",
   "execution_count": 9,
   "metadata": {},
   "outputs": [],
   "source": [
    "df['sptid'] = df['name'].map(spnames)"
   ]
  },
  {
   "cell_type": "markdown",
   "metadata": {},
   "source": [
    "Check the remaining"
   ]
  },
  {
   "cell_type": "code",
   "execution_count": 10,
   "metadata": {},
   "outputs": [
    {
     "data": {
      "text/plain": [
       "(79, 7)"
      ]
     },
     "execution_count": 10,
     "metadata": {},
     "output_type": "execute_result"
    }
   ],
   "source": [
    "tmp = df[df['sptid'].isna()]\n",
    "tmp.shape"
   ]
  },
  {
   "cell_type": "markdown",
   "metadata": {},
   "source": [
    "Match subspecies name"
   ]
  },
  {
   "cell_type": "code",
   "execution_count": 11,
   "metadata": {},
   "outputs": [],
   "source": [
    "sspnames = {v['name']: k for k, v in dump.items() if v['rank'] == 'subspecies'}"
   ]
  },
  {
   "cell_type": "code",
   "execution_count": 12,
   "metadata": {},
   "outputs": [
    {
     "data": {
      "text/plain": [
       "False    79\n",
       "Name: name, dtype: int64"
      ]
     },
     "execution_count": 12,
     "metadata": {},
     "output_type": "execute_result"
    }
   ],
   "source": [
    "tmp['name'].astype(str).isin(sspnames).value_counts()"
   ]
  },
  {
   "cell_type": "markdown",
   "metadata": {},
   "source": [
    "Use [NCBI taxonomy browser](https://www.ncbi.nlm.nih.gov/taxonomy/)."
   ]
  },
  {
   "cell_type": "code",
   "execution_count": 13,
   "metadata": {
    "scrolled": true
   },
   "outputs": [
    {
     "name": "stdout",
     "output_type": "stream",
     "text": [
      "\tIndex: 12 not in dump taxID\n",
      "\tIndex: 66 not in dump taxID\n",
      "\tIndex: 90 not in dump taxID\n",
      "\tIndex: 236 not in dump taxID\n",
      "\tIndex: 247 not in dump taxID\n"
     ]
    }
   ],
   "source": [
    "# new_spnames = {}\n",
    "# for i, row in tmp.iterrows():\n",
    "#     term = row['name']\n",
    "#     url = 'https://www.ncbi.nlm.nih.gov/taxonomy/?term=' + term.replace(' ', '+') + '&report=taxon&format=text'\n",
    "#     resp = requests.get(url)\n",
    "#     soup = BeautifulSoup(resp.content, \"html.parser\")\n",
    "#     name = soup.find('pre').text.strip()\n",
    "#     try:\n",
    "#         df.at[i, 'sptid'] = spnames[name]\n",
    "#         new_spnames[i] = [term, name]\n",
    "#     except:\n",
    "#         print(f'\\tIndex: {i} not in dump taxID')"
   ]
  },
  {
   "cell_type": "markdown",
   "metadata": {},
   "source": [
    "Check assigned new names"
   ]
  },
  {
   "cell_type": "code",
   "execution_count": 14,
   "metadata": {},
   "outputs": [],
   "source": [
    "# for k, v in new_spnames.items():\n",
    "#     df.at[k, 'name'] = v[1]"
   ]
  },
  {
   "cell_type": "markdown",
   "metadata": {},
   "source": [
    "Check the remaining"
   ]
  },
  {
   "cell_type": "code",
   "execution_count": 15,
   "metadata": {},
   "outputs": [
    {
     "data": {
      "text/html": [
       "<div>\n",
       "<style scoped>\n",
       "    .dataframe tbody tr th:only-of-type {\n",
       "        vertical-align: middle;\n",
       "    }\n",
       "\n",
       "    .dataframe tbody tr th {\n",
       "        vertical-align: top;\n",
       "    }\n",
       "\n",
       "    .dataframe thead th {\n",
       "        text-align: right;\n",
       "    }\n",
       "</style>\n",
       "<table border=\"1\" class=\"dataframe\">\n",
       "  <thead>\n",
       "    <tr style=\"text-align: right;\">\n",
       "      <th></th>\n",
       "      <th>name</th>\n",
       "      <th>shape</th>\n",
       "      <th>length</th>\n",
       "      <th>width</th>\n",
       "      <th>volume</th>\n",
       "      <th>surface</th>\n",
       "      <th>sptid</th>\n",
       "    </tr>\n",
       "  </thead>\n",
       "  <tbody>\n",
       "    <tr>\n",
       "      <th>12</th>\n",
       "      <td>Bifidobacterium gallinarum</td>\n",
       "      <td>rods</td>\n",
       "      <td>1.581139</td>\n",
       "      <td>0.707107</td>\n",
       "      <td>0.528352</td>\n",
       "      <td>3.512407</td>\n",
       "      <td>NaN</td>\n",
       "    </tr>\n",
       "    <tr>\n",
       "      <th>66</th>\n",
       "      <td>Mycobacterium chelonae</td>\n",
       "      <td>rods</td>\n",
       "      <td>2.449490</td>\n",
       "      <td>0.316228</td>\n",
       "      <td>0.184104</td>\n",
       "      <td>2.433467</td>\n",
       "      <td>NaN</td>\n",
       "    </tr>\n",
       "    <tr>\n",
       "      <th>90</th>\n",
       "      <td>Rsukamurella spongiae</td>\n",
       "      <td>rods</td>\n",
       "      <td>2.500000</td>\n",
       "      <td>1.000000</td>\n",
       "      <td>1.701696</td>\n",
       "      <td>7.853982</td>\n",
       "      <td>NaN</td>\n",
       "    </tr>\n",
       "    <tr>\n",
       "      <th>236</th>\n",
       "      <td>Yonghaparkia alkaliphilia</td>\n",
       "      <td>rods</td>\n",
       "      <td>0.916515</td>\n",
       "      <td>0.282843</td>\n",
       "      <td>0.051663</td>\n",
       "      <td>0.814394</td>\n",
       "      <td>NaN</td>\n",
       "    </tr>\n",
       "    <tr>\n",
       "      <th>247</th>\n",
       "      <td>Propionibacterium propionicum</td>\n",
       "      <td>rods</td>\n",
       "      <td>3.872983</td>\n",
       "      <td>0.244949</td>\n",
       "      <td>0.178662</td>\n",
       "      <td>2.980376</td>\n",
       "      <td>NaN</td>\n",
       "    </tr>\n",
       "  </tbody>\n",
       "</table>\n",
       "</div>"
      ],
      "text/plain": [
       "                              name shape    length     width    volume  \\\n",
       "12      Bifidobacterium gallinarum  rods  1.581139  0.707107  0.528352   \n",
       "66          Mycobacterium chelonae  rods  2.449490  0.316228  0.184104   \n",
       "90           Rsukamurella spongiae  rods  2.500000  1.000000  1.701696   \n",
       "236      Yonghaparkia alkaliphilia  rods  0.916515  0.282843  0.051663   \n",
       "247  Propionibacterium propionicum  rods  3.872983  0.244949  0.178662   \n",
       "\n",
       "      surface sptid  \n",
       "12   3.512407   NaN  \n",
       "66   2.433467   NaN  \n",
       "90   7.853982   NaN  \n",
       "236  0.814394   NaN  \n",
       "247  2.980376   NaN  "
      ]
     },
     "execution_count": 15,
     "metadata": {},
     "output_type": "execute_result"
    }
   ],
   "source": [
    "df[df['sptid'].isna()]"
   ]
  },
  {
   "cell_type": "markdown",
   "metadata": {},
   "source": [
    "Manually assign the above entries by looking in the [NCBI taxonomy browser.](https://www.ncbi.nlm.nih.gov/taxonomy/) (I made sure the new `sptid` is present in `dump`)."
   ]
  },
  {
   "cell_type": "markdown",
   "metadata": {},
   "source": [
    "<font color = 'red'> Beware! the iindex may change if you re-run the code after some time! </font>"
   ]
  },
  {
   "cell_type": "code",
   "execution_count": 16,
   "metadata": {},
   "outputs": [],
   "source": [
    "# df.at[12, 'sptid'], df.at[12, 'name'] = '78448', 'Bifidobacterium pullorum'\n",
    "# df.at[66, 'sptid'], df.at[66, 'name'] = '1774', 'Mycobacteroides chelonae'\n",
    "# df.at[90, 'sptid'], df.at[90, 'name'] = '47312', 'Tsukamurella pulmonis'\n",
    "# df.at[236, 'sptid'], df.at[236, 'name'] = '355930', 'Yonghaparkia alkaliphila'\n",
    "# df.at[247, 'sptid'], df.at[247, 'name'] = '1750', 'Arachnia propionica'"
   ]
  },
  {
   "cell_type": "markdown",
   "metadata": {},
   "source": [
    "Check the remaining"
   ]
  },
  {
   "cell_type": "code",
   "execution_count": 17,
   "metadata": {},
   "outputs": [
    {
     "data": {
      "text/plain": [
       "(0, 7)"
      ]
     },
     "execution_count": 17,
     "metadata": {},
     "output_type": "execute_result"
    }
   ],
   "source": [
    "# df[df['sptid'].isna()].shape"
   ]
  },
  {
   "cell_type": "code",
   "execution_count": 18,
   "metadata": {},
   "outputs": [
    {
     "data": {
      "text/html": [
       "<div>\n",
       "<style scoped>\n",
       "    .dataframe tbody tr th:only-of-type {\n",
       "        vertical-align: middle;\n",
       "    }\n",
       "\n",
       "    .dataframe tbody tr th {\n",
       "        vertical-align: top;\n",
       "    }\n",
       "\n",
       "    .dataframe thead th {\n",
       "        text-align: right;\n",
       "    }\n",
       "</style>\n",
       "<table border=\"1\" class=\"dataframe\">\n",
       "  <thead>\n",
       "    <tr style=\"text-align: right;\">\n",
       "      <th></th>\n",
       "      <th>name</th>\n",
       "      <th>shape</th>\n",
       "      <th>length</th>\n",
       "      <th>width</th>\n",
       "      <th>volume</th>\n",
       "      <th>surface</th>\n",
       "      <th>sptid</th>\n",
       "    </tr>\n",
       "  </thead>\n",
       "  <tbody>\n",
       "  </tbody>\n",
       "</table>\n",
       "</div>"
      ],
      "text/plain": [
       "Empty DataFrame\n",
       "Columns: [name, shape, length, width, volume, surface, sptid]\n",
       "Index: []"
      ]
     },
     "execution_count": 18,
     "metadata": {},
     "output_type": "execute_result"
    }
   ],
   "source": [
    "# df[df['sptid'].isna()]"
   ]
  },
  {
   "cell_type": "markdown",
   "metadata": {},
   "source": [
    "### Mean cell size\n",
    "\n",
    "Check duplicate species"
   ]
  },
  {
   "cell_type": "code",
   "execution_count": 19,
   "metadata": {},
   "outputs": [
    {
     "data": {
      "text/plain": [
       "1    288\n",
       "2      1\n",
       "Name: sptid, dtype: int64"
      ]
     },
     "execution_count": 19,
     "metadata": {},
     "output_type": "execute_result"
    }
   ],
   "source": [
    "# df['sptid'].value_counts().value_counts()"
   ]
  },
  {
   "cell_type": "markdown",
   "metadata": {},
   "source": [
    "Group organisms by species TaxID and calculate geometric mean per species"
   ]
  },
  {
   "cell_type": "code",
   "execution_count": 20,
   "metadata": {},
   "outputs": [],
   "source": [
    "# cols = ['length', 'width', 'volume', 'surface']"
   ]
  },
  {
   "cell_type": "code",
   "execution_count": 21,
   "metadata": {},
   "outputs": [],
   "source": [
    "# dfr = df.groupby('sptid')[cols].agg(gmean)"
   ]
  },
  {
   "cell_type": "markdown",
   "metadata": {},
   "source": [
    "Add shape and species name."
   ]
  },
  {
   "cell_type": "code",
   "execution_count": 22,
   "metadata": {},
   "outputs": [],
   "source": [
    "# shapes = dict(df[['sptid', 'shape']].drop_duplicates('sptid').values)\n",
    "# dfr['shape'] = dfr.index.map(shapes)"
   ]
  },
  {
   "cell_type": "markdown",
   "metadata": {},
   "source": [
    "This step may change the name of some entries according to the information available on `dump`"
   ]
  },
  {
   "cell_type": "code",
   "execution_count": 23,
   "metadata": {},
   "outputs": [],
   "source": [
    "# dfr['species'] = dfr.index.to_series().apply(lambda x: dump[str(x)]['name'])"
   ]
  },
  {
   "cell_type": "markdown",
   "metadata": {},
   "source": [
    "Organize"
   ]
  },
  {
   "cell_type": "code",
   "execution_count": 24,
   "metadata": {},
   "outputs": [],
   "source": [
    "# dfr = dfr.loc[sorted(dfr.index, key=int)]"
   ]
  },
  {
   "cell_type": "code",
   "execution_count": 25,
   "metadata": {},
   "outputs": [],
   "source": [
    "# dfr.index.names = ['taxid']"
   ]
  },
  {
   "cell_type": "code",
   "execution_count": 26,
   "metadata": {},
   "outputs": [
    {
     "data": {
      "text/plain": [
       "(289, 6)"
      ]
     },
     "execution_count": 26,
     "metadata": {},
     "output_type": "execute_result"
    }
   ],
   "source": [
    "# dfr.shape"
   ]
  },
  {
   "cell_type": "markdown",
   "metadata": {},
   "source": [
    "Fill more ranks"
   ]
  },
  {
   "cell_type": "code",
   "execution_count": 27,
   "metadata": {},
   "outputs": [],
   "source": [
    "# ranks = ['species', 'genus', 'family', 'order', 'class', 'phylum', 'superkingdom']"
   ]
  },
  {
   "cell_type": "code",
   "execution_count": 28,
   "metadata": {},
   "outputs": [],
   "source": [
    "# res = {x: {} for x in ranks[1:]}"
   ]
  },
  {
   "cell_type": "code",
   "execution_count": 29,
   "metadata": {},
   "outputs": [],
   "source": [
    "# rankset = set(ranks[1:])"
   ]
  },
  {
   "cell_type": "code",
   "execution_count": 30,
   "metadata": {},
   "outputs": [],
   "source": [
    "# for tid in dfr.index.astype(str):\n",
    "#     this = tid\n",
    "#     while True:\n",
    "#         rank = dump[this]['rank']\n",
    "#         if rank in rankset:\n",
    "#             res[rank][tid] = dump[this]['name']\n",
    "#         parent = dump[this]['parent']\n",
    "#         if this == parent:\n",
    "#             break\n",
    "#         this = parent"
   ]
  },
  {
   "cell_type": "code",
   "execution_count": 31,
   "metadata": {},
   "outputs": [],
   "source": [
    "# for rank in ranks[1:]:\n",
    "#     dfr[rank] = dfr.index.map(res[rank])"
   ]
  },
  {
   "cell_type": "code",
   "execution_count": 32,
   "metadata": {},
   "outputs": [],
   "source": [
    "# # Correct entries with no species\n",
    "# dfr['species'] = dfr['species'].astype(str).apply(lambda x: x if len(x.split(' ')) > 1 else np.NaN)"
   ]
  },
  {
   "cell_type": "code",
   "execution_count": 33,
   "metadata": {},
   "outputs": [
    {
     "data": {
      "text/html": [
       "<div>\n",
       "<style scoped>\n",
       "    .dataframe tbody tr th:only-of-type {\n",
       "        vertical-align: middle;\n",
       "    }\n",
       "\n",
       "    .dataframe tbody tr th {\n",
       "        vertical-align: top;\n",
       "    }\n",
       "\n",
       "    .dataframe thead th {\n",
       "        text-align: right;\n",
       "    }\n",
       "</style>\n",
       "<table border=\"1\" class=\"dataframe\">\n",
       "  <thead>\n",
       "    <tr style=\"text-align: right;\">\n",
       "      <th></th>\n",
       "      <th>length</th>\n",
       "      <th>width</th>\n",
       "      <th>volume</th>\n",
       "      <th>surface</th>\n",
       "      <th>shape</th>\n",
       "      <th>species</th>\n",
       "      <th>genus</th>\n",
       "      <th>family</th>\n",
       "      <th>order</th>\n",
       "      <th>class</th>\n",
       "      <th>phylum</th>\n",
       "      <th>superkingdom</th>\n",
       "    </tr>\n",
       "    <tr>\n",
       "      <th>taxid</th>\n",
       "      <th></th>\n",
       "      <th></th>\n",
       "      <th></th>\n",
       "      <th></th>\n",
       "      <th></th>\n",
       "      <th></th>\n",
       "      <th></th>\n",
       "      <th></th>\n",
       "      <th></th>\n",
       "      <th></th>\n",
       "      <th></th>\n",
       "      <th></th>\n",
       "    </tr>\n",
       "  </thead>\n",
       "  <tbody>\n",
       "    <tr>\n",
       "      <th>1272</th>\n",
       "      <td>1.161895</td>\n",
       "      <td>1.161895</td>\n",
       "      <td>0.821295</td>\n",
       "      <td>4.241150</td>\n",
       "      <td>sphere</td>\n",
       "      <td>Kocuria varians</td>\n",
       "      <td>Kocuria</td>\n",
       "      <td>Micrococcaceae</td>\n",
       "      <td>Micrococcales</td>\n",
       "      <td>Actinomycetia</td>\n",
       "      <td>Actinobacteria</td>\n",
       "      <td>Bacteria</td>\n",
       "    </tr>\n",
       "    <tr>\n",
       "      <th>1274</th>\n",
       "      <td>1.200000</td>\n",
       "      <td>1.200000</td>\n",
       "      <td>0.904779</td>\n",
       "      <td>4.523893</td>\n",
       "      <td>sphere</td>\n",
       "      <td>Dermacoccus nishinomiyaensis</td>\n",
       "      <td>Dermacoccus</td>\n",
       "      <td>Dermacoccaceae</td>\n",
       "      <td>Micrococcales</td>\n",
       "      <td>Actinomycetia</td>\n",
       "      <td>Actinobacteria</td>\n",
       "      <td>Bacteria</td>\n",
       "    </tr>\n",
       "    <tr>\n",
       "      <th>1275</th>\n",
       "      <td>1.224745</td>\n",
       "      <td>1.224745</td>\n",
       "      <td>0.961912</td>\n",
       "      <td>4.712389</td>\n",
       "      <td>sphere</td>\n",
       "      <td>Kocuria rosea</td>\n",
       "      <td>Kocuria</td>\n",
       "      <td>Micrococcaceae</td>\n",
       "      <td>Micrococcales</td>\n",
       "      <td>Actinomycetia</td>\n",
       "      <td>Actinobacteria</td>\n",
       "      <td>Bacteria</td>\n",
       "    </tr>\n",
       "    <tr>\n",
       "      <th>1276</th>\n",
       "      <td>0.938083</td>\n",
       "      <td>0.938083</td>\n",
       "      <td>0.432238</td>\n",
       "      <td>2.764602</td>\n",
       "      <td>sphere</td>\n",
       "      <td>Kytococcus sedentarius</td>\n",
       "      <td>Kytococcus</td>\n",
       "      <td>Kytococcaceae</td>\n",
       "      <td>Micrococcales</td>\n",
       "      <td>Actinomycetia</td>\n",
       "      <td>Actinobacteria</td>\n",
       "      <td>Bacteria</td>\n",
       "    </tr>\n",
       "    <tr>\n",
       "      <th>1381</th>\n",
       "      <td>1.549193</td>\n",
       "      <td>0.774597</td>\n",
       "      <td>0.608367</td>\n",
       "      <td>3.769911</td>\n",
       "      <td>rods</td>\n",
       "      <td>Atopobium minutum</td>\n",
       "      <td>Atopobium</td>\n",
       "      <td>Atopobiaceae</td>\n",
       "      <td>Coriobacteriales</td>\n",
       "      <td>Coriobacteriia</td>\n",
       "      <td>Actinobacteria</td>\n",
       "      <td>Bacteria</td>\n",
       "    </tr>\n",
       "  </tbody>\n",
       "</table>\n",
       "</div>"
      ],
      "text/plain": [
       "         length     width    volume   surface   shape  \\\n",
       "taxid                                                   \n",
       "1272   1.161895  1.161895  0.821295  4.241150  sphere   \n",
       "1274   1.200000  1.200000  0.904779  4.523893  sphere   \n",
       "1275   1.224745  1.224745  0.961912  4.712389  sphere   \n",
       "1276   0.938083  0.938083  0.432238  2.764602  sphere   \n",
       "1381   1.549193  0.774597  0.608367  3.769911    rods   \n",
       "\n",
       "                            species        genus          family  \\\n",
       "taxid                                                              \n",
       "1272                Kocuria varians      Kocuria  Micrococcaceae   \n",
       "1274   Dermacoccus nishinomiyaensis  Dermacoccus  Dermacoccaceae   \n",
       "1275                  Kocuria rosea      Kocuria  Micrococcaceae   \n",
       "1276         Kytococcus sedentarius   Kytococcus   Kytococcaceae   \n",
       "1381              Atopobium minutum    Atopobium    Atopobiaceae   \n",
       "\n",
       "                  order           class          phylum superkingdom  \n",
       "taxid                                                                 \n",
       "1272      Micrococcales   Actinomycetia  Actinobacteria     Bacteria  \n",
       "1274      Micrococcales   Actinomycetia  Actinobacteria     Bacteria  \n",
       "1275      Micrococcales   Actinomycetia  Actinobacteria     Bacteria  \n",
       "1276      Micrococcales   Actinomycetia  Actinobacteria     Bacteria  \n",
       "1381   Coriobacteriales  Coriobacteriia  Actinobacteria     Bacteria  "
      ]
     },
     "execution_count": 33,
     "metadata": {},
     "output_type": "execute_result"
    }
   ],
   "source": [
    "# dfr.head()"
   ]
  },
  {
   "cell_type": "markdown",
   "metadata": {},
   "source": [
    "Output"
   ]
  },
  {
   "cell_type": "code",
   "execution_count": 34,
   "metadata": {},
   "outputs": [],
   "source": [
    "# dfr.to_csv('annot/BM_vol5_actinobacteria.tsv', sep = '\\t')"
   ]
  },
  {
   "cell_type": "markdown",
   "metadata": {},
   "source": [
    "Statistics"
   ]
  },
  {
   "cell_type": "code",
   "execution_count": 35,
   "metadata": {},
   "outputs": [
    {
     "name": "stdout",
     "output_type": "stream",
     "text": [
      "species 289\n",
      "genus 98\n",
      "family 38\n",
      "order 16\n",
      "class 5\n",
      "phylum 1\n",
      "superkingdom 1\n"
     ]
    }
   ],
   "source": [
    "# for rank in ranks:\n",
    "#     print(rank, dfr[rank].nunique())"
   ]
  },
  {
   "cell_type": "markdown",
   "metadata": {},
   "source": [
    "## Collapse to higher ranks"
   ]
  },
  {
   "cell_type": "code",
   "execution_count": 36,
   "metadata": {},
   "outputs": [],
   "source": [
    "# def get_rank(tid, rank):\n",
    "#     if tid == '1':\n",
    "#         return None\n",
    "#     if dump[tid]['rank'] == rank:\n",
    "#         return tid\n",
    "#     return get_rank(dump[tid]['parent'], rank)"
   ]
  },
  {
   "cell_type": "code",
   "execution_count": 37,
   "metadata": {},
   "outputs": [
    {
     "name": "stdout",
     "output_type": "stream",
     "text": [
      "genus: 98\n",
      "family: 38\n",
      "order: 16\n",
      "class: 5\n",
      "phylum: 1\n",
      "superkingdom: 1\n"
     ]
    }
   ],
   "source": [
    "# for rank in ranks[1:]:\n",
    "#     #dfr = df.copy().drop(columns=['taxid'])\n",
    "#     dfr = df.copy()\n",
    "#     dfr['taxid'] = dfr['sptid'].apply(lambda x: get_rank(x, rank))\n",
    "#     dfr = dfr.dropna(subset=['taxid'])\n",
    "#     dfr = dfr.groupby('taxid')[cols].agg(gmean)\n",
    "#     dfr = dfr.loc[sorted(dfr.index, key=int)]\n",
    "#     ranks_ = ranks[ranks.index(rank):]\n",
    "#     res = {x: {} for x in ranks_}\n",
    "#     rankset = set(ranks_)\n",
    "#     for tid in dfr.index.astype(str):\n",
    "#         this = tid\n",
    "#         while True:\n",
    "#             rank_ = dump[this]['rank']\n",
    "#             if rank_ in rankset:\n",
    "#                 res[rank_][tid] = dump[this]['name']\n",
    "#             parent = dump[this]['parent']\n",
    "#             if this == parent:\n",
    "#                 break\n",
    "#             this = parent\n",
    "#     for rank_ in ranks_:\n",
    "#         dfr[rank_] = dfr.index.map(res[rank_])\n",
    "#     dfr.to_csv(f'annot/{rank}_BM_vol5_actinobacteria.tsv', sep='\\t')\n",
    "#     print(f'{rank}: {dfr.shape[0]}')"
   ]
  },
  {
   "cell_type": "code",
   "execution_count": null,
   "metadata": {},
   "outputs": [],
   "source": []
  },
  {
   "cell_type": "code",
   "execution_count": null,
   "metadata": {},
   "outputs": [],
   "source": []
  },
  {
   "cell_type": "code",
   "execution_count": null,
   "metadata": {},
   "outputs": [],
   "source": []
  }
 ],
 "metadata": {
  "kernelspec": {
   "display_name": "Python 3",
   "language": "python",
   "name": "python3"
  },
  "language_info": {
   "codemirror_mode": {
    "name": "ipython",
    "version": 3
   },
   "file_extension": ".py",
   "mimetype": "text/x-python",
   "name": "python",
   "nbconvert_exporter": "python",
   "pygments_lexer": "ipython3",
   "version": "3.8.5"
  }
 },
 "nbformat": 4,
 "nbformat_minor": 4
}
