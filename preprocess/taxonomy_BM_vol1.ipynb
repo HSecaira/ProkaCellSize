{
 "cells": [
  {
   "cell_type": "markdown",
   "metadata": {},
   "source": [
    "# Match cell size with NCBI taxonomy"
   ]
  },
  {
   "cell_type": "code",
   "execution_count": 1,
   "metadata": {},
   "outputs": [],
   "source": [
    "# Imports\n",
    "import numpy as np\n",
    "import pandas as pd\n",
    "import matplotlib.pyplot as plt\n",
    "from scipy.stats import gmean\n",
    "import time\n",
    "import re\n",
    "from bs4 import BeautifulSoup\n",
    "import requests"
   ]
  },
  {
   "cell_type": "code",
   "execution_count": 2,
   "metadata": {},
   "outputs": [],
   "source": [
    "# Interactive matplotlib plot\n",
    "%matplotlib notebook"
   ]
  },
  {
   "cell_type": "code",
   "execution_count": 3,
   "metadata": {},
   "outputs": [],
   "source": [
    "import lzma"
   ]
  },
  {
   "cell_type": "markdown",
   "metadata": {},
   "source": [
    "### Cell size data"
   ]
  },
  {
   "cell_type": "code",
   "execution_count": 4,
   "metadata": {},
   "outputs": [
    {
     "data": {
      "text/plain": [
       "(103, 6)"
      ]
     },
     "execution_count": 4,
     "metadata": {},
     "output_type": "execute_result"
    }
   ],
   "source": [
    "df = pd.read_table('data_BMvol1.tsv', sep = '\\t', index_col = 0 )\n",
    "df.shape"
   ]
  },
  {
   "cell_type": "markdown",
   "metadata": {},
   "source": [
    "### Reference taxonomy\n",
    "\n",
    "Read NCBI taxonomy database"
   ]
  },
  {
   "cell_type": "code",
   "execution_count": 5,
   "metadata": {},
   "outputs": [],
   "source": [
    "dump = {}\n",
    "with lzma.open('nodes.dmp.xz', 'rb') as f:\n",
    "    for line in f.read().decode().splitlines():\n",
    "        x = line.rstrip('\\r\\n').replace('\\t|', '').split('\\t')\n",
    "        dump[x[0]] = {'parent': x[1], 'rank': x[2], 'name': '', 'children': set()}\n",
    "with lzma.open('names.dmp.xz', 'rb') as f:\n",
    "    for line in f.read().decode().splitlines():\n",
    "        x = line.rstrip('\\r\\n').replace('\\t|', '').split('\\t')\n",
    "        if x[3] == 'scientific name':\n",
    "            dump[x[0]]['name'] = x[1]\n",
    "for tid in dump:\n",
    "    pid = dump[tid]['parent']\n",
    "    if tid != pid:\n",
    "        dump[pid]['children'].add(tid)"
   ]
  },
  {
   "cell_type": "code",
   "execution_count": 6,
   "metadata": {},
   "outputs": [
    {
     "data": {
      "text/plain": [
       "2375861"
      ]
     },
     "execution_count": 6,
     "metadata": {},
     "output_type": "execute_result"
    }
   ],
   "source": [
    "len(dump)"
   ]
  },
  {
   "cell_type": "markdown",
   "metadata": {},
   "source": [
    "### Match by taxon name\n",
    "\n",
    "Match species name"
   ]
  },
  {
   "cell_type": "code",
   "execution_count": 7,
   "metadata": {},
   "outputs": [],
   "source": [
    "spnames = {v['name']: k for k, v in dump.items() if v['rank'] == 'species'}"
   ]
  },
  {
   "cell_type": "code",
   "execution_count": 8,
   "metadata": {},
   "outputs": [
    {
     "data": {
      "text/plain": [
       "True     80\n",
       "False    23\n",
       "Name: name, dtype: int64"
      ]
     },
     "execution_count": 8,
     "metadata": {},
     "output_type": "execute_result"
    }
   ],
   "source": [
    "df['name'].astype(str).isin(spnames).value_counts()"
   ]
  },
  {
   "cell_type": "markdown",
   "metadata": {},
   "source": [
    "Add species taxID"
   ]
  },
  {
   "cell_type": "code",
   "execution_count": 9,
   "metadata": {},
   "outputs": [],
   "source": [
    "df['sptid'] = df['name'].map(spnames)"
   ]
  },
  {
   "cell_type": "markdown",
   "metadata": {},
   "source": [
    "Check the remaining"
   ]
  },
  {
   "cell_type": "code",
   "execution_count": 10,
   "metadata": {},
   "outputs": [
    {
     "data": {
      "text/plain": [
       "(23, 7)"
      ]
     },
     "execution_count": 10,
     "metadata": {},
     "output_type": "execute_result"
    }
   ],
   "source": [
    "tmp = df[df['sptid'].isna()]\n",
    "tmp.shape"
   ]
  },
  {
   "cell_type": "markdown",
   "metadata": {},
   "source": [
    "Match subspecies name"
   ]
  },
  {
   "cell_type": "code",
   "execution_count": 11,
   "metadata": {},
   "outputs": [],
   "source": [
    "sspnames = {v['name']: k for k, v in dump.items() if v['rank'] == 'subspecies'}"
   ]
  },
  {
   "cell_type": "code",
   "execution_count": 12,
   "metadata": {},
   "outputs": [
    {
     "data": {
      "text/plain": [
       "False    23\n",
       "Name: name, dtype: int64"
      ]
     },
     "execution_count": 12,
     "metadata": {},
     "output_type": "execute_result"
    }
   ],
   "source": [
    "tmp['name'].astype(str).isin(sspnames).value_counts()"
   ]
  },
  {
   "cell_type": "markdown",
   "metadata": {},
   "source": [
    "Use [NCBI taxonomy browser](https://www.ncbi.nlm.nih.gov/taxonomy/)."
   ]
  },
  {
   "cell_type": "code",
   "execution_count": 13,
   "metadata": {},
   "outputs": [
    {
     "name": "stdout",
     "output_type": "stream",
     "text": [
      "\tIndex: 14 not in dump taxID\n",
      "\tIndex: 22 not in dump taxID\n",
      "\tIndex: 23 not in dump taxID\n",
      "\tIndex: 50 not in dump taxID\n",
      "\tIndex: 69 not in dump taxID\n",
      "\tIndex: 86 not in dump taxID\n"
     ]
    }
   ],
   "source": [
    "# new_spnames = {}\n",
    "# for i, row in tmp.iterrows():\n",
    "#     term = row['name']\n",
    "#     url = 'https://www.ncbi.nlm.nih.gov/taxonomy/?term=' + term.replace(' ', '+') + '&report=taxon&format=text'\n",
    "#     resp = requests.get(url)\n",
    "#     soup = BeautifulSoup(resp.content, \"html.parser\")\n",
    "#     name = soup.find('pre').text.strip()\n",
    "#     try:\n",
    "#         df.at[i, 'sptid'] = spnames[name]\n",
    "#         new_spnames[i] = [term, name]\n",
    "#     except:\n",
    "#         print(f'\\tIndex: {i} not in dump taxID')"
   ]
  },
  {
   "cell_type": "markdown",
   "metadata": {},
   "source": [
    "Check assigned new names"
   ]
  },
  {
   "cell_type": "code",
   "execution_count": 14,
   "metadata": {},
   "outputs": [],
   "source": [
    "# for k, v in new_spnames.items():\n",
    "#     df.at[k, 'name'] = v[1]"
   ]
  },
  {
   "cell_type": "markdown",
   "metadata": {},
   "source": [
    "Check the remaining"
   ]
  },
  {
   "cell_type": "code",
   "execution_count": 15,
   "metadata": {},
   "outputs": [
    {
     "data": {
      "text/html": [
       "<div>\n",
       "<style scoped>\n",
       "    .dataframe tbody tr th:only-of-type {\n",
       "        vertical-align: middle;\n",
       "    }\n",
       "\n",
       "    .dataframe tbody tr th {\n",
       "        vertical-align: top;\n",
       "    }\n",
       "\n",
       "    .dataframe thead th {\n",
       "        text-align: right;\n",
       "    }\n",
       "</style>\n",
       "<table border=\"1\" class=\"dataframe\">\n",
       "  <thead>\n",
       "    <tr style=\"text-align: right;\">\n",
       "      <th></th>\n",
       "      <th>name</th>\n",
       "      <th>shape</th>\n",
       "      <th>length</th>\n",
       "      <th>width</th>\n",
       "      <th>volume</th>\n",
       "      <th>surface</th>\n",
       "      <th>sptid</th>\n",
       "    </tr>\n",
       "  </thead>\n",
       "  <tbody>\n",
       "    <tr>\n",
       "      <th>14</th>\n",
       "      <td>Pyrodietium broekü</td>\n",
       "      <td>disk</td>\n",
       "      <td>0.866025</td>\n",
       "      <td>0.200000</td>\n",
       "      <td>0.025113</td>\n",
       "      <td>0.544140</td>\n",
       "      <td>NaN</td>\n",
       "    </tr>\n",
       "    <tr>\n",
       "      <th>22</th>\n",
       "      <td>Sulfurococcus mirabilis</td>\n",
       "      <td>spherical</td>\n",
       "      <td>1.414214</td>\n",
       "      <td>1.414214</td>\n",
       "      <td>1.480961</td>\n",
       "      <td>6.283185</td>\n",
       "      <td>NaN</td>\n",
       "    </tr>\n",
       "    <tr>\n",
       "      <th>23</th>\n",
       "      <td>Sulfurococcus yellowstonensis</td>\n",
       "      <td>spherical</td>\n",
       "      <td>0.894427</td>\n",
       "      <td>0.894427</td>\n",
       "      <td>0.374657</td>\n",
       "      <td>2.513274</td>\n",
       "      <td>NaN</td>\n",
       "    </tr>\n",
       "    <tr>\n",
       "      <th>50</th>\n",
       "      <td>Methanocaldococcus jannaschü</td>\n",
       "      <td>spherical</td>\n",
       "      <td>1.500000</td>\n",
       "      <td>1.500000</td>\n",
       "      <td>1.767146</td>\n",
       "      <td>7.068583</td>\n",
       "      <td>NaN</td>\n",
       "    </tr>\n",
       "    <tr>\n",
       "      <th>69</th>\n",
       "      <td>Methanopianus funicola</td>\n",
       "      <td>disk</td>\n",
       "      <td>1.870829</td>\n",
       "      <td>1.414214</td>\n",
       "      <td>2.198210</td>\n",
       "      <td>8.311873</td>\n",
       "      <td>NaN</td>\n",
       "    </tr>\n",
       "    <tr>\n",
       "      <th>86</th>\n",
       "      <td>Methanohalophilus mahü</td>\n",
       "      <td>spherical</td>\n",
       "      <td>1.000000</td>\n",
       "      <td>1.000000</td>\n",
       "      <td>0.523599</td>\n",
       "      <td>3.141593</td>\n",
       "      <td>NaN</td>\n",
       "    </tr>\n",
       "  </tbody>\n",
       "</table>\n",
       "</div>"
      ],
      "text/plain": [
       "                             name      shape    length     width    volume  \\\n",
       "14             Pyrodietium broekü       disk  0.866025  0.200000  0.025113   \n",
       "22        Sulfurococcus mirabilis  spherical  1.414214  1.414214  1.480961   \n",
       "23  Sulfurococcus yellowstonensis  spherical  0.894427  0.894427  0.374657   \n",
       "50   Methanocaldococcus jannaschü  spherical  1.500000  1.500000  1.767146   \n",
       "69         Methanopianus funicola       disk  1.870829  1.414214  2.198210   \n",
       "86         Methanohalophilus mahü  spherical  1.000000  1.000000  0.523599   \n",
       "\n",
       "     surface sptid  \n",
       "14  0.544140   NaN  \n",
       "22  6.283185   NaN  \n",
       "23  2.513274   NaN  \n",
       "50  7.068583   NaN  \n",
       "69  8.311873   NaN  \n",
       "86  3.141593   NaN  "
      ]
     },
     "execution_count": 15,
     "metadata": {},
     "output_type": "execute_result"
    }
   ],
   "source": [
    "# df[df['sptid'].isna()]"
   ]
  },
  {
   "cell_type": "markdown",
   "metadata": {},
   "source": [
    "Manually assign the above entries by looking in the [NCBI taxonomy browser.](https://www.ncbi.nlm.nih.gov/taxonomy/) (I made sure the new `sptid` is present in `dump`).\n",
    "\n",
    "<font color = 'red'> Beware! the iindex may change if you re-run the code after some time! Why? Because NCBI taxonomy is updated frequently. Ran on 12/8/2023 </font>\n",
    "\n",
    "Could not find:\n",
    "\n",
    "* `Sulfurococcus mirabilis`\n",
    "* `Sulfurococcus yellowstonensis`\n",
    "* `Methanopianus funicola`"
   ]
  },
  {
   "cell_type": "code",
   "execution_count": 16,
   "metadata": {},
   "outputs": [],
   "source": [
    "# df.at[14, 'sptid'], df.at[14, 'name'] = '35616', 'Pyrodictium brockii'\n",
    "# df.at[50, 'sptid'], df.at[50, 'name'] = '2190', 'Methanocaldococcus jannaschii'\n",
    "# df.at[86, 'sptid'], df.at[86, 'name'] = '2190', 'Methanohalophilus mahii'"
   ]
  },
  {
   "cell_type": "markdown",
   "metadata": {},
   "source": [
    "Check the remaining"
   ]
  },
  {
   "cell_type": "code",
   "execution_count": 17,
   "metadata": {},
   "outputs": [
    {
     "data": {
      "text/html": [
       "<div>\n",
       "<style scoped>\n",
       "    .dataframe tbody tr th:only-of-type {\n",
       "        vertical-align: middle;\n",
       "    }\n",
       "\n",
       "    .dataframe tbody tr th {\n",
       "        vertical-align: top;\n",
       "    }\n",
       "\n",
       "    .dataframe thead th {\n",
       "        text-align: right;\n",
       "    }\n",
       "</style>\n",
       "<table border=\"1\" class=\"dataframe\">\n",
       "  <thead>\n",
       "    <tr style=\"text-align: right;\">\n",
       "      <th></th>\n",
       "      <th>name</th>\n",
       "      <th>shape</th>\n",
       "      <th>length</th>\n",
       "      <th>width</th>\n",
       "      <th>volume</th>\n",
       "      <th>surface</th>\n",
       "      <th>sptid</th>\n",
       "    </tr>\n",
       "  </thead>\n",
       "  <tbody>\n",
       "    <tr>\n",
       "      <th>22</th>\n",
       "      <td>Sulfurococcus mirabilis</td>\n",
       "      <td>spherical</td>\n",
       "      <td>1.414214</td>\n",
       "      <td>1.414214</td>\n",
       "      <td>1.480961</td>\n",
       "      <td>6.283185</td>\n",
       "      <td>NaN</td>\n",
       "    </tr>\n",
       "    <tr>\n",
       "      <th>23</th>\n",
       "      <td>Sulfurococcus yellowstonensis</td>\n",
       "      <td>spherical</td>\n",
       "      <td>0.894427</td>\n",
       "      <td>0.894427</td>\n",
       "      <td>0.374657</td>\n",
       "      <td>2.513274</td>\n",
       "      <td>NaN</td>\n",
       "    </tr>\n",
       "    <tr>\n",
       "      <th>69</th>\n",
       "      <td>Methanopianus funicola</td>\n",
       "      <td>disk</td>\n",
       "      <td>1.870829</td>\n",
       "      <td>1.414214</td>\n",
       "      <td>2.198210</td>\n",
       "      <td>8.311873</td>\n",
       "      <td>NaN</td>\n",
       "    </tr>\n",
       "  </tbody>\n",
       "</table>\n",
       "</div>"
      ],
      "text/plain": [
       "                             name      shape    length     width    volume  \\\n",
       "22        Sulfurococcus mirabilis  spherical  1.414214  1.414214  1.480961   \n",
       "23  Sulfurococcus yellowstonensis  spherical  0.894427  0.894427  0.374657   \n",
       "69         Methanopianus funicola       disk  1.870829  1.414214  2.198210   \n",
       "\n",
       "     surface sptid  \n",
       "22  6.283185   NaN  \n",
       "23  2.513274   NaN  \n",
       "69  8.311873   NaN  "
      ]
     },
     "execution_count": 17,
     "metadata": {},
     "output_type": "execute_result"
    }
   ],
   "source": [
    "df[df['sptid'].isna()]"
   ]
  },
  {
   "cell_type": "markdown",
   "metadata": {},
   "source": [
    "Drop entries that could not be assigned"
   ]
  },
  {
   "cell_type": "code",
   "execution_count": 18,
   "metadata": {},
   "outputs": [],
   "source": [
    "# df.drop([22, 23, 69], inplace = True)"
   ]
  },
  {
   "cell_type": "markdown",
   "metadata": {},
   "source": [
    "## Mean cell size\n",
    "\n",
    "Check duplicate species"
   ]
  },
  {
   "cell_type": "code",
   "execution_count": 19,
   "metadata": {},
   "outputs": [
    {
     "data": {
      "text/plain": [
       "1    89\n",
       "2     4\n",
       "3     1\n",
       "Name: sptid, dtype: int64"
      ]
     },
     "execution_count": 19,
     "metadata": {},
     "output_type": "execute_result"
    }
   ],
   "source": [
    "# df['sptid'].value_counts().value_counts()"
   ]
  },
  {
   "cell_type": "markdown",
   "metadata": {},
   "source": [
    "Group organisms by species taxID and calculate geometric mean per species"
   ]
  },
  {
   "cell_type": "code",
   "execution_count": 20,
   "metadata": {},
   "outputs": [],
   "source": [
    "# cols = ['length', 'width', 'volume', 'surface']"
   ]
  },
  {
   "cell_type": "code",
   "execution_count": 21,
   "metadata": {},
   "outputs": [],
   "source": [
    "# dfr = df.groupby('sptid')[cols].agg(gmean)"
   ]
  },
  {
   "cell_type": "markdown",
   "metadata": {},
   "source": [
    "Add shape and species name"
   ]
  },
  {
   "cell_type": "code",
   "execution_count": 22,
   "metadata": {},
   "outputs": [],
   "source": [
    "# shapes = dict(df[['sptid', 'shape']].drop_duplicates('sptid').values)\n",
    "# dfr['shape'] = dfr.index.map(shapes)"
   ]
  },
  {
   "cell_type": "markdown",
   "metadata": {},
   "source": [
    "This step may change the name of some entries according to the information available on `dump`"
   ]
  },
  {
   "cell_type": "code",
   "execution_count": 23,
   "metadata": {},
   "outputs": [],
   "source": [
    "# dfr['species'] = dfr.index.to_series().apply(lambda x: dump[str(x)]['name'])"
   ]
  },
  {
   "cell_type": "markdown",
   "metadata": {},
   "source": [
    "Organize"
   ]
  },
  {
   "cell_type": "code",
   "execution_count": 24,
   "metadata": {},
   "outputs": [],
   "source": [
    "# dfr = dfr.loc[sorted(dfr.index, key=int)]"
   ]
  },
  {
   "cell_type": "code",
   "execution_count": 25,
   "metadata": {},
   "outputs": [],
   "source": [
    "# dfr.index.names = ['taxid']"
   ]
  },
  {
   "cell_type": "code",
   "execution_count": 26,
   "metadata": {},
   "outputs": [
    {
     "data": {
      "text/plain": [
       "(94, 6)"
      ]
     },
     "execution_count": 26,
     "metadata": {},
     "output_type": "execute_result"
    }
   ],
   "source": [
    "# dfr.shape"
   ]
  },
  {
   "cell_type": "markdown",
   "metadata": {},
   "source": [
    "Fill more ranks"
   ]
  },
  {
   "cell_type": "code",
   "execution_count": 27,
   "metadata": {},
   "outputs": [],
   "source": [
    "# ranks = ['species', 'genus', 'family', 'order', 'class', 'phylum', 'superkingdom']"
   ]
  },
  {
   "cell_type": "code",
   "execution_count": 28,
   "metadata": {},
   "outputs": [],
   "source": [
    "# res = {x: {} for x in ranks[1:]}"
   ]
  },
  {
   "cell_type": "code",
   "execution_count": 29,
   "metadata": {},
   "outputs": [],
   "source": [
    "# rankset = set(ranks[1:])"
   ]
  },
  {
   "cell_type": "code",
   "execution_count": 30,
   "metadata": {},
   "outputs": [],
   "source": [
    "# for tid in dfr.index.astype(str):\n",
    "#     this = tid\n",
    "#     while True:\n",
    "#         rank = dump[this]['rank']\n",
    "#         if rank in rankset:\n",
    "#             res[rank][tid] = dump[this]['name']\n",
    "#         parent = dump[this]['parent']\n",
    "#         if this == parent:\n",
    "#             break\n",
    "#         this = parent"
   ]
  },
  {
   "cell_type": "code",
   "execution_count": 31,
   "metadata": {},
   "outputs": [],
   "source": [
    "# for rank in ranks[1:]:\n",
    "#     dfr[rank] = dfr.index.map(res[rank])"
   ]
  },
  {
   "cell_type": "code",
   "execution_count": 32,
   "metadata": {},
   "outputs": [],
   "source": [
    "# # Correct entries with no species\n",
    "# dfr['species'] = dfr['species'].astype(str).apply(lambda x: x if len(x.split(' ')) > 1 else np.NaN)"
   ]
  },
  {
   "cell_type": "code",
   "execution_count": 33,
   "metadata": {},
   "outputs": [
    {
     "data": {
      "text/html": [
       "<div>\n",
       "<style scoped>\n",
       "    .dataframe tbody tr th:only-of-type {\n",
       "        vertical-align: middle;\n",
       "    }\n",
       "\n",
       "    .dataframe tbody tr th {\n",
       "        vertical-align: top;\n",
       "    }\n",
       "\n",
       "    .dataframe thead th {\n",
       "        text-align: right;\n",
       "    }\n",
       "</style>\n",
       "<table border=\"1\" class=\"dataframe\">\n",
       "  <thead>\n",
       "    <tr style=\"text-align: right;\">\n",
       "      <th></th>\n",
       "      <th>length</th>\n",
       "      <th>width</th>\n",
       "      <th>volume</th>\n",
       "      <th>surface</th>\n",
       "      <th>shape</th>\n",
       "      <th>species</th>\n",
       "      <th>genus</th>\n",
       "      <th>family</th>\n",
       "      <th>order</th>\n",
       "      <th>class</th>\n",
       "      <th>phylum</th>\n",
       "      <th>superkingdom</th>\n",
       "    </tr>\n",
       "    <tr>\n",
       "      <th>taxid</th>\n",
       "      <th></th>\n",
       "      <th></th>\n",
       "      <th></th>\n",
       "      <th></th>\n",
       "      <th></th>\n",
       "      <th></th>\n",
       "      <th></th>\n",
       "      <th></th>\n",
       "      <th></th>\n",
       "      <th></th>\n",
       "      <th></th>\n",
       "      <th></th>\n",
       "    </tr>\n",
       "  </thead>\n",
       "  <tbody>\n",
       "    <tr>\n",
       "      <th>2161</th>\n",
       "      <td>12.247449</td>\n",
       "      <td>0.707107</td>\n",
       "      <td>4.717002</td>\n",
       "      <td>27.206990</td>\n",
       "      <td>rod</td>\n",
       "      <td>Methanobacterium bryantii</td>\n",
       "      <td>Methanobacterium</td>\n",
       "      <td>Methanobacteriaceae</td>\n",
       "      <td>Methanobacteriales</td>\n",
       "      <td>Methanobacteria</td>\n",
       "      <td>Euryarchaeota</td>\n",
       "      <td>Archaea</td>\n",
       "    </tr>\n",
       "    <tr>\n",
       "      <th>2162</th>\n",
       "      <td>5.477226</td>\n",
       "      <td>0.565685</td>\n",
       "      <td>1.329186</td>\n",
       "      <td>9.733869</td>\n",
       "      <td>rod</td>\n",
       "      <td>Methanobacterium formicicum</td>\n",
       "      <td>Methanobacterium</td>\n",
       "      <td>Methanobacteriaceae</td>\n",
       "      <td>Methanobacteriales</td>\n",
       "      <td>Methanobacteria</td>\n",
       "      <td>Euryarchaeota</td>\n",
       "      <td>Archaea</td>\n",
       "    </tr>\n",
       "    <tr>\n",
       "      <th>2163</th>\n",
       "      <td>3.872983</td>\n",
       "      <td>0.632456</td>\n",
       "      <td>1.150503</td>\n",
       "      <td>7.695299</td>\n",
       "      <td>rod</td>\n",
       "      <td>Methanobacterium ivanovii</td>\n",
       "      <td>Methanobacterium</td>\n",
       "      <td>Methanobacteriaceae</td>\n",
       "      <td>Methanobacteriales</td>\n",
       "      <td>Methanobacteria</td>\n",
       "      <td>Euryarchaeota</td>\n",
       "      <td>Archaea</td>\n",
       "    </tr>\n",
       "    <tr>\n",
       "      <th>2171</th>\n",
       "      <td>3.535534</td>\n",
       "      <td>0.500000</td>\n",
       "      <td>0.661476</td>\n",
       "      <td>5.553604</td>\n",
       "      <td>rod</td>\n",
       "      <td>Methanobacterium palustre</td>\n",
       "      <td>Methanobacterium</td>\n",
       "      <td>Methanobacteriaceae</td>\n",
       "      <td>Methanobacteriales</td>\n",
       "      <td>Methanobacteria</td>\n",
       "      <td>Euryarchaeota</td>\n",
       "      <td>Archaea</td>\n",
       "    </tr>\n",
       "    <tr>\n",
       "      <th>2173</th>\n",
       "      <td>1.000000</td>\n",
       "      <td>0.648074</td>\n",
       "      <td>0.258608</td>\n",
       "      <td>2.035985</td>\n",
       "      <td>rod</td>\n",
       "      <td>Methanobrevibacter smithii</td>\n",
       "      <td>Methanobrevibacter</td>\n",
       "      <td>Methanobacteriaceae</td>\n",
       "      <td>Methanobacteriales</td>\n",
       "      <td>Methanobacteria</td>\n",
       "      <td>Euryarchaeota</td>\n",
       "      <td>Archaea</td>\n",
       "    </tr>\n",
       "  </tbody>\n",
       "</table>\n",
       "</div>"
      ],
      "text/plain": [
       "          length     width    volume    surface shape  \\\n",
       "taxid                                                   \n",
       "2161   12.247449  0.707107  4.717002  27.206990   rod   \n",
       "2162    5.477226  0.565685  1.329186   9.733869   rod   \n",
       "2163    3.872983  0.632456  1.150503   7.695299   rod   \n",
       "2171    3.535534  0.500000  0.661476   5.553604   rod   \n",
       "2173    1.000000  0.648074  0.258608   2.035985   rod   \n",
       "\n",
       "                           species               genus               family  \\\n",
       "taxid                                                                         \n",
       "2161     Methanobacterium bryantii    Methanobacterium  Methanobacteriaceae   \n",
       "2162   Methanobacterium formicicum    Methanobacterium  Methanobacteriaceae   \n",
       "2163     Methanobacterium ivanovii    Methanobacterium  Methanobacteriaceae   \n",
       "2171     Methanobacterium palustre    Methanobacterium  Methanobacteriaceae   \n",
       "2173    Methanobrevibacter smithii  Methanobrevibacter  Methanobacteriaceae   \n",
       "\n",
       "                    order            class         phylum superkingdom  \n",
       "taxid                                                                   \n",
       "2161   Methanobacteriales  Methanobacteria  Euryarchaeota      Archaea  \n",
       "2162   Methanobacteriales  Methanobacteria  Euryarchaeota      Archaea  \n",
       "2163   Methanobacteriales  Methanobacteria  Euryarchaeota      Archaea  \n",
       "2171   Methanobacteriales  Methanobacteria  Euryarchaeota      Archaea  \n",
       "2173   Methanobacteriales  Methanobacteria  Euryarchaeota      Archaea  "
      ]
     },
     "execution_count": 33,
     "metadata": {},
     "output_type": "execute_result"
    }
   ],
   "source": [
    "# dfr.head()"
   ]
  },
  {
   "cell_type": "markdown",
   "metadata": {},
   "source": [
    "Output"
   ]
  },
  {
   "cell_type": "code",
   "execution_count": 34,
   "metadata": {},
   "outputs": [],
   "source": [
    "# dfr.to_csv('annot/BM_vol1.tsv', sep = '\\t')"
   ]
  },
  {
   "cell_type": "markdown",
   "metadata": {},
   "source": [
    "Statistics"
   ]
  },
  {
   "cell_type": "code",
   "execution_count": 35,
   "metadata": {},
   "outputs": [
    {
     "name": "stdout",
     "output_type": "stream",
     "text": [
      "species 94\n",
      "genus 43\n",
      "family 17\n",
      "order 9\n",
      "class 5\n",
      "phylum 2\n",
      "superkingdom 1\n"
     ]
    }
   ],
   "source": [
    "# for rank in ranks:\n",
    "#     print(rank, dfr[rank].nunique())"
   ]
  },
  {
   "cell_type": "markdown",
   "metadata": {},
   "source": [
    "## Collapse to higher ranks"
   ]
  },
  {
   "cell_type": "code",
   "execution_count": 36,
   "metadata": {},
   "outputs": [],
   "source": [
    "# def get_rank(tid, rank):\n",
    "#     if tid == '1':\n",
    "#         return None\n",
    "#     if dump[tid]['rank'] == rank:\n",
    "#         return tid\n",
    "#     return get_rank(dump[tid]['parent'], rank)"
   ]
  },
  {
   "cell_type": "code",
   "execution_count": 37,
   "metadata": {},
   "outputs": [
    {
     "name": "stdout",
     "output_type": "stream",
     "text": [
      "genus: 43\n",
      "family: 17\n",
      "order: 9\n",
      "class: 5\n",
      "phylum: 2\n",
      "superkingdom: 1\n"
     ]
    }
   ],
   "source": [
    "# for rank in ranks[1:]:\n",
    "#     #dfr = df.copy().drop(columns=['taxid'])\n",
    "#     dfr = df.copy()\n",
    "#     dfr['taxid'] = dfr['sptid'].apply(lambda x: get_rank(x, rank))\n",
    "#     dfr = dfr.dropna(subset=['taxid'])\n",
    "#     dfr = dfr.groupby('taxid')[cols].agg(gmean)\n",
    "#     dfr = dfr.loc[sorted(dfr.index, key=int)]\n",
    "#     ranks_ = ranks[ranks.index(rank):]\n",
    "#     res = {x: {} for x in ranks_}\n",
    "#     rankset = set(ranks_)\n",
    "#     for tid in dfr.index.astype(str):\n",
    "#         this = tid\n",
    "#         while True:\n",
    "#             rank_ = dump[this]['rank']\n",
    "#             if rank_ in rankset:\n",
    "#                 res[rank_][tid] = dump[this]['name']\n",
    "#             parent = dump[this]['parent']\n",
    "#             if this == parent:\n",
    "#                 break\n",
    "#             this = parent\n",
    "#     for rank_ in ranks_:\n",
    "#         dfr[rank_] = dfr.index.map(res[rank_])\n",
    "#     dfr.to_csv(f'annot/{rank}_BM_vol1.tsv', sep='\\t')\n",
    "#     print(f'{rank}: {dfr.shape[0]}')"
   ]
  },
  {
   "cell_type": "code",
   "execution_count": null,
   "metadata": {},
   "outputs": [],
   "source": []
  },
  {
   "cell_type": "code",
   "execution_count": null,
   "metadata": {},
   "outputs": [],
   "source": []
  },
  {
   "cell_type": "code",
   "execution_count": null,
   "metadata": {},
   "outputs": [],
   "source": []
  },
  {
   "cell_type": "code",
   "execution_count": null,
   "metadata": {},
   "outputs": [],
   "source": []
  },
  {
   "cell_type": "code",
   "execution_count": null,
   "metadata": {},
   "outputs": [],
   "source": []
  },
  {
   "cell_type": "code",
   "execution_count": null,
   "metadata": {},
   "outputs": [],
   "source": []
  },
  {
   "cell_type": "code",
   "execution_count": null,
   "metadata": {},
   "outputs": [],
   "source": []
  },
  {
   "cell_type": "code",
   "execution_count": null,
   "metadata": {},
   "outputs": [],
   "source": []
  },
  {
   "cell_type": "code",
   "execution_count": null,
   "metadata": {},
   "outputs": [],
   "source": []
  },
  {
   "cell_type": "code",
   "execution_count": null,
   "metadata": {},
   "outputs": [],
   "source": []
  },
  {
   "cell_type": "code",
   "execution_count": null,
   "metadata": {},
   "outputs": [],
   "source": []
  }
 ],
 "metadata": {
  "kernelspec": {
   "display_name": "Python 3",
   "language": "python",
   "name": "python3"
  },
  "language_info": {
   "codemirror_mode": {
    "name": "ipython",
    "version": 3
   },
   "file_extension": ".py",
   "mimetype": "text/x-python",
   "name": "python",
   "nbconvert_exporter": "python",
   "pygments_lexer": "ipython3",
   "version": "3.8.5"
  }
 },
 "nbformat": 4,
 "nbformat_minor": 4
}
