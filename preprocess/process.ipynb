{
 "cells": [
  {
   "cell_type": "markdown",
   "metadata": {},
   "source": [
    "# Process raw cell size data from BacDive"
   ]
  },
  {
   "cell_type": "markdown",
   "metadata": {},
   "source": [
    "### Preparation"
   ]
  },
  {
   "cell_type": "code",
   "execution_count": 1,
   "metadata": {},
   "outputs": [],
   "source": [
    "import numpy as np\n",
    "import pandas as pd\n",
    "import matplotlib.pyplot as plt"
   ]
  },
  {
   "cell_type": "code",
   "execution_count": 2,
   "metadata": {},
   "outputs": [],
   "source": [
    "%matplotlib inline"
   ]
  },
  {
   "cell_type": "markdown",
   "metadata": {},
   "source": [
    "### Data table"
   ]
  },
  {
   "cell_type": "markdown",
   "metadata": {},
   "source": [
    "The input data were retrieved from BacDive.\n",
    "\n",
    "- Some records do not have IDs or other columns but size."
   ]
  },
  {
   "cell_type": "code",
   "execution_count": 3,
   "metadata": {},
   "outputs": [
    {
     "data": {
      "text/html": [
       "<div>\n",
       "<style scoped>\n",
       "    .dataframe tbody tr th:only-of-type {\n",
       "        vertical-align: middle;\n",
       "    }\n",
       "\n",
       "    .dataframe tbody tr th {\n",
       "        vertical-align: top;\n",
       "    }\n",
       "\n",
       "    .dataframe thead th {\n",
       "        text-align: right;\n",
       "    }\n",
       "</style>\n",
       "<table border=\"1\" class=\"dataframe\">\n",
       "  <thead>\n",
       "    <tr style=\"text-align: right;\">\n",
       "      <th></th>\n",
       "      <th>ID</th>\n",
       "      <th>designation_header</th>\n",
       "      <th>strain_number_header</th>\n",
       "      <th>is_type_strain_header</th>\n",
       "      <th>species</th>\n",
       "      <th>Cell length (µm)</th>\n",
       "      <th>Cell Width (µm)</th>\n",
       "      <th>Cell Shape</th>\n",
       "      <th>Reference</th>\n",
       "      <th>NCBI ID</th>\n",
       "    </tr>\n",
       "  </thead>\n",
       "  <tbody>\n",
       "    <tr>\n",
       "      <th>0</th>\n",
       "      <td>159837.0</td>\n",
       "      <td>OUC007</td>\n",
       "      <td>KCTC 52933, MCCC 1K03450, OUC007</td>\n",
       "      <td>1.0</td>\n",
       "      <td>Abyssibacter profundi</td>\n",
       "      <td>1.7-1.9</td>\n",
       "      <td>0.4-0.6</td>\n",
       "      <td>rod-shaped</td>\n",
       "      <td>66716.0</td>\n",
       "      <td>2182787.0</td>\n",
       "    </tr>\n",
       "    <tr>\n",
       "      <th>1</th>\n",
       "      <td>132478.0</td>\n",
       "      <td>L81</td>\n",
       "      <td>DSM 29592, JCM 30920</td>\n",
       "      <td>1.0</td>\n",
       "      <td>Abyssivirga alkaniphila</td>\n",
       "      <td>2.0-5.0</td>\n",
       "      <td>0.5</td>\n",
       "      <td>rod-shaped</td>\n",
       "      <td>43989.0</td>\n",
       "      <td>1675854.0</td>\n",
       "    </tr>\n",
       "    <tr>\n",
       "      <th>2</th>\n",
       "      <td>24718.0</td>\n",
       "      <td>FYK2218</td>\n",
       "      <td>DSM 28897, KCTC 12899, NBRC 101209</td>\n",
       "      <td>1.0</td>\n",
       "      <td>Acanthopleuribacter pedis</td>\n",
       "      <td>2.4-4.7</td>\n",
       "      <td>0.7-1</td>\n",
       "      <td>rod-shaped</td>\n",
       "      <td>32501.0</td>\n",
       "      <td>442870.0</td>\n",
       "    </tr>\n",
       "    <tr>\n",
       "      <th>3</th>\n",
       "      <td>7517.0</td>\n",
       "      <td>CSC</td>\n",
       "      <td>DSM 14247, CCUG 49701, NBRC 107788, CIP 109141</td>\n",
       "      <td>1.0</td>\n",
       "      <td>Acaricomes phytoseiuli</td>\n",
       "      <td>1-1.5</td>\n",
       "      <td>0.5-0.8</td>\n",
       "      <td>coccus-shaped</td>\n",
       "      <td>31628.0</td>\n",
       "      <td>291968.0</td>\n",
       "    </tr>\n",
       "    <tr>\n",
       "      <th>4</th>\n",
       "      <td>134101.0</td>\n",
       "      <td>Z7</td>\n",
       "      <td>JCM 12359, AS1.5012</td>\n",
       "      <td>1.0</td>\n",
       "      <td>Acetanaerobacterium elongatum</td>\n",
       "      <td>6</td>\n",
       "      <td>0.3</td>\n",
       "      <td>rod-shaped</td>\n",
       "      <td>31285.0</td>\n",
       "      <td>258515.0</td>\n",
       "    </tr>\n",
       "  </tbody>\n",
       "</table>\n",
       "</div>"
      ],
      "text/plain": [
       "         ID designation_header  \\\n",
       "0  159837.0             OUC007   \n",
       "1  132478.0                L81   \n",
       "2   24718.0            FYK2218   \n",
       "3    7517.0                CSC   \n",
       "4  134101.0                 Z7   \n",
       "\n",
       "                             strain_number_header  is_type_strain_header  \\\n",
       "0                KCTC 52933, MCCC 1K03450, OUC007                    1.0   \n",
       "1                            DSM 29592, JCM 30920                    1.0   \n",
       "2              DSM 28897, KCTC 12899, NBRC 101209                    1.0   \n",
       "3  DSM 14247, CCUG 49701, NBRC 107788, CIP 109141                    1.0   \n",
       "4                             JCM 12359, AS1.5012                    1.0   \n",
       "\n",
       "                         species Cell length (µm) Cell Width (µm)  \\\n",
       "0          Abyssibacter profundi          1.7-1.9         0.4-0.6   \n",
       "1        Abyssivirga alkaniphila          2.0-5.0             0.5   \n",
       "2      Acanthopleuribacter pedis          2.4-4.7           0.7-1   \n",
       "3         Acaricomes phytoseiuli            1-1.5         0.5-0.8   \n",
       "4  Acetanaerobacterium elongatum                6             0.3   \n",
       "\n",
       "      Cell Shape  Reference    NCBI ID  \n",
       "0     rod-shaped    66716.0  2182787.0  \n",
       "1     rod-shaped    43989.0  1675854.0  \n",
       "2     rod-shaped    32501.0   442870.0  \n",
       "3  coccus-shaped    31628.0   291968.0  \n",
       "4     rod-shaped    31285.0   258515.0  "
      ]
     },
     "execution_count": 3,
     "metadata": {},
     "output_type": "execute_result"
    }
   ],
   "source": [
    "df = pd.read_csv('New_Data.csv')\n",
    "df.head()"
   ]
  },
  {
   "cell_type": "code",
   "execution_count": 4,
   "metadata": {},
   "outputs": [
    {
     "data": {
      "text/plain": [
       "5284"
      ]
     },
     "execution_count": 4,
     "metadata": {},
     "output_type": "execute_result"
    }
   ],
   "source": [
    "df.shape[0]"
   ]
  },
  {
   "cell_type": "markdown",
   "metadata": {},
   "source": [
    "Drop records without ID."
   ]
  },
  {
   "cell_type": "code",
   "execution_count": 5,
   "metadata": {},
   "outputs": [
    {
     "data": {
      "text/plain": [
       "(5216, 10)"
      ]
     },
     "execution_count": 5,
     "metadata": {},
     "output_type": "execute_result"
    }
   ],
   "source": [
    "df = df.dropna(subset=['ID']).astype({'ID': int})\n",
    "df.shape"
   ]
  },
  {
   "cell_type": "markdown",
   "metadata": {},
   "source": [
    "Drop records without reference."
   ]
  },
  {
   "cell_type": "code",
   "execution_count": 6,
   "metadata": {},
   "outputs": [
    {
     "data": {
      "text/plain": [
       "(5018, 10)"
      ]
     },
     "execution_count": 6,
     "metadata": {},
     "output_type": "execute_result"
    }
   ],
   "source": [
    "df = df.dropna(subset=['Reference']).astype({'Reference': int})\n",
    "df.shape"
   ]
  },
  {
   "cell_type": "markdown",
   "metadata": {},
   "source": [
    "Fix two typos."
   ]
  },
  {
   "cell_type": "code",
   "execution_count": 7,
   "metadata": {},
   "outputs": [
    {
     "data": {
      "text/html": [
       "<div>\n",
       "<style scoped>\n",
       "    .dataframe tbody tr th:only-of-type {\n",
       "        vertical-align: middle;\n",
       "    }\n",
       "\n",
       "    .dataframe tbody tr th {\n",
       "        vertical-align: top;\n",
       "    }\n",
       "\n",
       "    .dataframe thead th {\n",
       "        text-align: right;\n",
       "    }\n",
       "</style>\n",
       "<table border=\"1\" class=\"dataframe\">\n",
       "  <thead>\n",
       "    <tr style=\"text-align: right;\">\n",
       "      <th></th>\n",
       "      <th>ID</th>\n",
       "      <th>designation_header</th>\n",
       "      <th>strain_number_header</th>\n",
       "      <th>is_type_strain_header</th>\n",
       "      <th>species</th>\n",
       "      <th>Cell length (µm)</th>\n",
       "      <th>Cell Width (µm)</th>\n",
       "      <th>Cell Shape</th>\n",
       "      <th>Reference</th>\n",
       "      <th>NCBI ID</th>\n",
       "    </tr>\n",
       "  </thead>\n",
       "  <tbody>\n",
       "    <tr>\n",
       "      <th>3714</th>\n",
       "      <td>158646</td>\n",
       "      <td>1-32</td>\n",
       "      <td>KCTC 52859, CCTCC AB 2017084</td>\n",
       "      <td>1.0</td>\n",
       "      <td>Pedobacter mongoliensis</td>\n",
       "      <td>1-2</td>\n",
       "      <td>0.3.0.6</td>\n",
       "      <td>rod-shaped</td>\n",
       "      <td>65371</td>\n",
       "      <td>NaN</td>\n",
       "    </tr>\n",
       "  </tbody>\n",
       "</table>\n",
       "</div>"
      ],
      "text/plain": [
       "          ID designation_header          strain_number_header  \\\n",
       "3714  158646               1-32  KCTC 52859, CCTCC AB 2017084   \n",
       "\n",
       "      is_type_strain_header                  species Cell length (µm)  \\\n",
       "3714                    1.0  Pedobacter mongoliensis              1-2   \n",
       "\n",
       "     Cell Width (µm)  Cell Shape  Reference  NCBI ID  \n",
       "3714         0.3.0.6  rod-shaped      65371      NaN  "
      ]
     },
     "execution_count": 7,
     "metadata": {},
     "output_type": "execute_result"
    }
   ],
   "source": [
    "df[df['Cell Width (µm)'] == '0.3.0.6']"
   ]
  },
  {
   "cell_type": "code",
   "execution_count": 8,
   "metadata": {},
   "outputs": [],
   "source": [
    "df.at[3714, 'Cell Width (µm)'] = '0.3-0.6'"
   ]
  },
  {
   "cell_type": "code",
   "execution_count": 9,
   "metadata": {},
   "outputs": [
    {
     "data": {
      "text/html": [
       "<div>\n",
       "<style scoped>\n",
       "    .dataframe tbody tr th:only-of-type {\n",
       "        vertical-align: middle;\n",
       "    }\n",
       "\n",
       "    .dataframe tbody tr th {\n",
       "        vertical-align: top;\n",
       "    }\n",
       "\n",
       "    .dataframe thead th {\n",
       "        text-align: right;\n",
       "    }\n",
       "</style>\n",
       "<table border=\"1\" class=\"dataframe\">\n",
       "  <thead>\n",
       "    <tr style=\"text-align: right;\">\n",
       "      <th></th>\n",
       "      <th>ID</th>\n",
       "      <th>designation_header</th>\n",
       "      <th>strain_number_header</th>\n",
       "      <th>is_type_strain_header</th>\n",
       "      <th>species</th>\n",
       "      <th>Cell length (µm)</th>\n",
       "      <th>Cell Width (µm)</th>\n",
       "      <th>Cell Shape</th>\n",
       "      <th>Reference</th>\n",
       "      <th>NCBI ID</th>\n",
       "    </tr>\n",
       "  </thead>\n",
       "  <tbody>\n",
       "    <tr>\n",
       "      <th>2221</th>\n",
       "      <td>1511</td>\n",
       "      <td>YKJ-13</td>\n",
       "      <td>DSM 18867, CIP 107405, JCM 10872, KCCM 80002</td>\n",
       "      <td>1.0</td>\n",
       "      <td>Jeotgalibacillus alimentarius</td>\n",
       "      <td>1.0-1.2</td>\n",
       "      <td>2.0-4-0</td>\n",
       "      <td>rod-shaped</td>\n",
       "      <td>23065</td>\n",
       "      <td>135826.0</td>\n",
       "    </tr>\n",
       "  </tbody>\n",
       "</table>\n",
       "</div>"
      ],
      "text/plain": [
       "        ID designation_header                          strain_number_header  \\\n",
       "2221  1511             YKJ-13  DSM 18867, CIP 107405, JCM 10872, KCCM 80002   \n",
       "\n",
       "      is_type_strain_header                        species Cell length (µm)  \\\n",
       "2221                    1.0  Jeotgalibacillus alimentarius          1.0-1.2   \n",
       "\n",
       "     Cell Width (µm)  Cell Shape  Reference   NCBI ID  \n",
       "2221         2.0-4-0  rod-shaped      23065  135826.0  "
      ]
     },
     "execution_count": 9,
     "metadata": {},
     "output_type": "execute_result"
    }
   ],
   "source": [
    "df[df['Cell Width (µm)'] == '2.0-4-0']"
   ]
  },
  {
   "cell_type": "code",
   "execution_count": 10,
   "metadata": {},
   "outputs": [],
   "source": [
    "df.at[2221, 'Cell Width (µm)'] = '2.0-4.0'"
   ]
  },
  {
   "cell_type": "markdown",
   "metadata": {},
   "source": [
    "NCBI TaxID"
   ]
  },
  {
   "cell_type": "code",
   "execution_count": 11,
   "metadata": {},
   "outputs": [],
   "source": [
    "df['TaxID'] = df['NCBI ID'].apply(lambda x: x if np.isnan(x) else str(int(x)))"
   ]
  },
  {
   "cell_type": "markdown",
   "metadata": {},
   "source": [
    "Drop records without NCBI TaxID."
   ]
  },
  {
   "cell_type": "code",
   "execution_count": 12,
   "metadata": {},
   "outputs": [],
   "source": [
    "df.drop(columns=['NCBI ID'], inplace=True)"
   ]
  },
  {
   "cell_type": "markdown",
   "metadata": {},
   "source": [
    "### Cell size data"
   ]
  },
  {
   "cell_type": "markdown",
   "metadata": {},
   "source": [
    "Check missing data."
   ]
  },
  {
   "cell_type": "code",
   "execution_count": 13,
   "metadata": {},
   "outputs": [
    {
     "data": {
      "text/plain": [
       "5018"
      ]
     },
     "execution_count": 13,
     "metadata": {},
     "output_type": "execute_result"
    }
   ],
   "source": [
    "df.shape[0]"
   ]
  },
  {
   "cell_type": "code",
   "execution_count": 14,
   "metadata": {},
   "outputs": [
    {
     "data": {
      "text/plain": [
       "5018"
      ]
     },
     "execution_count": 14,
     "metadata": {},
     "output_type": "execute_result"
    }
   ],
   "source": [
    "df['Cell length (µm)'].dropna().shape[0]"
   ]
  },
  {
   "cell_type": "code",
   "execution_count": 15,
   "metadata": {},
   "outputs": [
    {
     "data": {
      "text/plain": [
       "4797"
      ]
     },
     "execution_count": 15,
     "metadata": {},
     "output_type": "execute_result"
    }
   ],
   "source": [
    "df['Cell Width (µm)'].dropna().shape[0]"
   ]
  },
  {
   "cell_type": "markdown",
   "metadata": {},
   "source": [
    "For records without width:"
   ]
  },
  {
   "cell_type": "code",
   "execution_count": 16,
   "metadata": {},
   "outputs": [
    {
     "data": {
      "text/plain": [
       "221"
      ]
     },
     "execution_count": 16,
     "metadata": {},
     "output_type": "execute_result"
    }
   ],
   "source": [
    "df_ = df[df['Cell Width (µm)'].isna()]\n",
    "df_.shape[0]"
   ]
  },
  {
   "cell_type": "code",
   "execution_count": 17,
   "metadata": {},
   "outputs": [
    {
     "data": {
      "text/plain": [
       "coccus-shaped         103\n",
       "rod-shaped             89\n",
       "sphere-shaped           8\n",
       "star-shaped             2\n",
       "pleomorphic-shaped      2\n",
       "ovoid-shaped            2\n",
       "spiral-shaped           1\n",
       "oval-shaped             1\n",
       "filament-shaped         1\n",
       "Name: Cell Shape, dtype: int64"
      ]
     },
     "execution_count": 17,
     "metadata": {},
     "output_type": "execute_result"
    }
   ],
   "source": [
    "df_['Cell Shape'].value_counts()"
   ]
  },
  {
   "cell_type": "markdown",
   "metadata": {},
   "source": [
    "For coccus- or shpere-shaped cells, let width = length."
   ]
  },
  {
   "cell_type": "code",
   "execution_count": 18,
   "metadata": {},
   "outputs": [],
   "source": [
    "lengths = df[df['Cell Width (µm)'].isna() & df['Cell Shape'].isin([\n",
    "    'coccus-shaped', 'sphere-shaped'])]['Cell length (µm)']"
   ]
  },
  {
   "cell_type": "code",
   "execution_count": 19,
   "metadata": {},
   "outputs": [],
   "source": [
    "for idx, val in lengths.iteritems():\n",
    "    df.at[idx, 'Cell Width (µm)'] = val"
   ]
  },
  {
   "cell_type": "markdown",
   "metadata": {},
   "source": [
    "Drop records of other cell shapes."
   ]
  },
  {
   "cell_type": "code",
   "execution_count": 20,
   "metadata": {},
   "outputs": [
    {
     "data": {
      "text/plain": [
       "4908"
      ]
     },
     "execution_count": 20,
     "metadata": {},
     "output_type": "execute_result"
    }
   ],
   "source": [
    "df.dropna(subset=['Cell Width (µm)'], inplace=True)\n",
    "df.shape[0]"
   ]
  },
  {
   "cell_type": "markdown",
   "metadata": {},
   "source": [
    "Standardize the format of lenth and width values.\n",
    "\n",
    "- For ranges (e.g., `0.2-0.5`), take geometric mean.\n",
    "- For minimum / maximum values, take boundary.\n",
    "- There are some exceptions. The following code deals with exceptions."
   ]
  },
  {
   "cell_type": "code",
   "execution_count": 21,
   "metadata": {},
   "outputs": [],
   "source": [
    "def size_to_num(size):\n",
    "    \"\"\"Convert a size string into a number.\n",
    "    \"\"\"\n",
    "    if size.endswith(' µ'):\n",
    "        size = size[:-2]\n",
    "    if size.endswith(' mm'):\n",
    "        size = size[:-3]\n",
    "    if '-' in size:\n",
    "        return np.sqrt(np.prod([float(x) for x in size.split('-')]))\n",
    "    elif size.startswith(('>', '<')):\n",
    "        return float(size[1:])\n",
    "    else:\n",
    "        return float(size)"
   ]
  },
  {
   "cell_type": "code",
   "execution_count": 22,
   "metadata": {},
   "outputs": [],
   "source": [
    "df['length'] = df['Cell length (µm)'].apply(size_to_num)"
   ]
  },
  {
   "cell_type": "code",
   "execution_count": 23,
   "metadata": {},
   "outputs": [],
   "source": [
    "df['width'] = df['Cell Width (µm)'].apply(size_to_num)"
   ]
  },
  {
   "cell_type": "markdown",
   "metadata": {},
   "source": [
    "Ensure that length is greater than or equal to width."
   ]
  },
  {
   "cell_type": "code",
   "execution_count": 24,
   "metadata": {},
   "outputs": [],
   "source": [
    "df[['length', 'width']] = df[['length', 'width']].apply(\n",
    "    lambda x: pd.Series([max(x), min(x)]), axis=1)"
   ]
  },
  {
   "cell_type": "markdown",
   "metadata": {},
   "source": [
    "### Data distribution"
   ]
  },
  {
   "cell_type": "code",
   "execution_count": 25,
   "metadata": {},
   "outputs": [
    {
     "data": {
      "image/png": "[encoded data removed]",
      "text/plain": [
       "<Figure size 432x288 with 1 Axes>"
      ]
     },
     "metadata": {
      "needs_background": "light"
     },
     "output_type": "display_data"
    }
   ],
   "source": [
    "plt.hist(df['length'], log=True)\n",
    "plt.title('Cell length');"
   ]
  },
  {
   "cell_type": "code",
   "execution_count": 26,
   "metadata": {},
   "outputs": [
    {
     "data": {
      "image/png": "[encoded data removed]",
      "text/plain": [
       "<Figure size 432x288 with 1 Axes>"
      ]
     },
     "metadata": {
      "needs_background": "light"
     },
     "output_type": "display_data"
    }
   ],
   "source": [
    "plt.hist(df['width'], log=True)\n",
    "plt.title('Cell width');"
   ]
  },
  {
   "cell_type": "code",
   "execution_count": 27,
   "metadata": {},
   "outputs": [],
   "source": [
    "df.drop(columns=['Cell length (µm)', 'Cell Width (µm)'], inplace=True)"
   ]
  },
  {
   "cell_type": "markdown",
   "metadata": {},
   "source": [
    "### Organization"
   ]
  },
  {
   "cell_type": "code",
   "execution_count": 28,
   "metadata": {},
   "outputs": [],
   "source": [
    "df.set_index('ID', inplace=True)"
   ]
  },
  {
   "cell_type": "code",
   "execution_count": 29,
   "metadata": {},
   "outputs": [],
   "source": [
    "df.columns = ['designation', 'strain', 'type_strain', 'species', 'shape', 'reference', 'taxid', 'length', 'width']"
   ]
  },
  {
   "cell_type": "code",
   "execution_count": 30,
   "metadata": {},
   "outputs": [],
   "source": [
    "df['type_strain'] = df['type_strain'].astype(int)"
   ]
  },
  {
   "cell_type": "markdown",
   "metadata": {},
   "source": [
    "### Cell shape"
   ]
  },
  {
   "cell_type": "code",
   "execution_count": 31,
   "metadata": {},
   "outputs": [
    {
     "data": {
      "text/plain": [
       "rod-shaped            4193\n",
       "coccus-shaped          296\n",
       "ovoid-shaped           168\n",
       "spiral-shaped           40\n",
       "vibrio-shaped           21\n",
       "filament-shaped         18\n",
       "pleomorphic-shaped      17\n",
       "oval-shaped             11\n",
       "sphere-shaped           10\n",
       "helical-shaped           9\n",
       "curved-shaped            5\n",
       "other                    3\n",
       "ellipsoidal              2\n",
       "crescent-shaped          1\n",
       "ring-shaped              1\n",
       "Name: shape, dtype: int64"
      ]
     },
     "execution_count": 31,
     "metadata": {},
     "output_type": "execute_result"
    }
   ],
   "source": [
    "df['shape'].value_counts()"
   ]
  },
  {
   "cell_type": "code",
   "execution_count": 32,
   "metadata": {},
   "outputs": [
    {
     "data": {
      "text/plain": [
       "0.854319478402608"
      ]
     },
     "execution_count": 32,
     "metadata": {},
     "output_type": "execute_result"
    }
   ],
   "source": [
    "df.query('shape == \"rod-shaped\"').shape[0] / df.shape[0]"
   ]
  },
  {
   "cell_type": "code",
   "execution_count": 33,
   "metadata": {},
   "outputs": [
    {
     "data": {
      "text/plain": [
       "0.06030969845150774"
      ]
     },
     "execution_count": 33,
     "metadata": {},
     "output_type": "execute_result"
    }
   ],
   "source": [
    "df.query('shape == \"coccus-shaped\"').shape[0] / df.shape[0]"
   ]
  },
  {
   "cell_type": "code",
   "execution_count": 34,
   "metadata": {},
   "outputs": [
    {
     "data": {
      "text/plain": [
       "0.034229828850855744"
      ]
     },
     "execution_count": 34,
     "metadata": {},
     "output_type": "execute_result"
    }
   ],
   "source": [
    "df.query('shape == \"ovoid-shaped\"').shape[0] / df.shape[0]"
   ]
  },
  {
   "cell_type": "markdown",
   "metadata": {},
   "source": [
    "Rod-shaped and coccus-shaped cells (together making 91.23% of all data) can be simplified as capsules."
   ]
  },
  {
   "cell_type": "markdown",
   "metadata": {},
   "source": [
    "### Cell volume and surface area"
   ]
  },
  {
   "cell_type": "markdown",
   "metadata": {},
   "source": [
    "First, assume that cell height equals to cell width. Therefore we have:"
   ]
  },
  {
   "cell_type": "markdown",
   "metadata": {},
   "source": [
    "Second, assume that cells are [capsules](https://en.wikipedia.org/wiki/Capsule_(geometry)).\n",
    "\n",
    "- Volume: $ V = \\pi r^{2} (\\frac{4}{3} r + a)$\n",
    "\n",
    "- Surface area: $ S = 2 \\pi r (2r + a) $\n",
    "\n",
    "In which $a$ = length - width, $r$ = width / 2."
   ]
  },
  {
   "cell_type": "code",
   "execution_count": 35,
   "metadata": {},
   "outputs": [],
   "source": [
    "df['volume'] = np.pi * (df['width'] / 2) ** 2 * ((4 / 3) * (df['width'] / 2) + (df['length'] - df['width']))"
   ]
  },
  {
   "cell_type": "code",
   "execution_count": 36,
   "metadata": {},
   "outputs": [],
   "source": [
    "df['surface'] = 2 * np.pi * (df['width'] / 2) * (2 * (df['width'] / 2) + (df['length'] - df['width']))"
   ]
  },
  {
   "cell_type": "markdown",
   "metadata": {},
   "source": [
    "Alternatively, one may assume that cells are [ellipsoids](https://en.wikipedia.org/wiki/Ellipsoid):\n",
    "\n",
    "- Volume: $ V = \\frac{4}{3} \\pi a b c$\n",
    "- Surface area (approximation): $ S \\approx 4 \\pi \\sqrt[p]{\\frac{a^{p}b^{p} + a^{p}c^{p} + b^{p}c^{p}}{3}} $\n",
    "\n",
    "In which a, b, c are the radia of the three dimensions (i.e., half of length, width and height), $ p \\approx $  1.6075."
   ]
  },
  {
   "cell_type": "code",
   "execution_count": 37,
   "metadata": {},
   "outputs": [
    {
     "data": {
      "image/png": "[encoded data removed]",
      "text/plain": [
       "<Figure size 432x288 with 1 Axes>"
      ]
     },
     "metadata": {
      "needs_background": "light"
     },
     "output_type": "display_data"
    }
   ],
   "source": [
    "plt.hist(df['volume'], log=True)\n",
    "plt.title('Cell volume');"
   ]
  },
  {
   "cell_type": "code",
   "execution_count": 38,
   "metadata": {},
   "outputs": [
    {
     "data": {
      "image/png": "[encoded data removed]",
      "text/plain": [
       "<Figure size 432x288 with 1 Axes>"
      ]
     },
     "metadata": {
      "needs_background": "light"
     },
     "output_type": "display_data"
    }
   ],
   "source": [
    "plt.hist(df['surface'], log=True)\n",
    "plt.title('Cell surface area');"
   ]
  },
  {
   "cell_type": "code",
   "execution_count": 39,
   "metadata": {},
   "outputs": [
    {
     "data": {
      "image/png": "[encoded data removed]",
      "text/plain": [
       "<Figure size 864x108 with 1 Axes>"
      ]
     },
     "metadata": {
      "needs_background": "light"
     },
     "output_type": "display_data"
    }
   ],
   "source": [
    "plt.figure(figsize=(12, 1.5))\n",
    "plt.boxplot(df['volume'].apply(np.log), widths=0.75, vert=False);"
   ]
  },
  {
   "cell_type": "markdown",
   "metadata": {},
   "source": [
    "### Output"
   ]
  },
  {
   "cell_type": "code",
   "execution_count": 40,
   "metadata": {
    "scrolled": true
   },
   "outputs": [
    {
     "data": {
      "text/plain": [
       "4908"
      ]
     },
     "execution_count": 40,
     "metadata": {},
     "output_type": "execute_result"
    }
   ],
   "source": [
    "df.shape[0]"
   ]
  },
  {
   "cell_type": "code",
   "execution_count": 41,
   "metadata": {},
   "outputs": [],
   "source": [
    "df.to_csv('data.tsv', sep='\\t')"
   ]
  }
 ],
 "metadata": {
  "kernelspec": {
   "display_name": "Python 3",
   "language": "python",
   "name": "python3"
  },
  "language_info": {
   "codemirror_mode": {
    "name": "ipython",
    "version": 3
   },
   "file_extension": ".py",
   "mimetype": "text/x-python",
   "name": "python",
   "nbconvert_exporter": "python",
   "pygments_lexer": "ipython3",
   "version": "3.8.5"
  }
 },
 "nbformat": 4,
 "nbformat_minor": 5
}
