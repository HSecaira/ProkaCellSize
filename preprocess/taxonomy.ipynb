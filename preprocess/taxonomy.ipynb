{
 "cells": [
  {
   "cell_type": "markdown",
   "metadata": {},
   "source": [
    "# Match cell size data with taxonomy"
   ]
  },
  {
   "cell_type": "code",
   "execution_count": 1,
   "metadata": {},
   "outputs": [],
   "source": [
    "import lzma"
   ]
  },
  {
   "cell_type": "code",
   "execution_count": 2,
   "metadata": {},
   "outputs": [],
   "source": [
    "import numpy as np\n",
    "import pandas as pd\n",
    "import matplotlib.pyplot as plt"
   ]
  },
  {
   "cell_type": "code",
   "execution_count": 3,
   "metadata": {},
   "outputs": [],
   "source": [
    "from scipy.stats.mstats import gmean"
   ]
  },
  {
   "cell_type": "code",
   "execution_count": 4,
   "metadata": {},
   "outputs": [],
   "source": [
    "%matplotlib inline"
   ]
  },
  {
   "cell_type": "code",
   "execution_count": 5,
   "metadata": {},
   "outputs": [],
   "source": [
    "#!mkdir -p annot"
   ]
  },
  {
   "cell_type": "markdown",
   "metadata": {},
   "source": [
    "### Data table"
   ]
  },
  {
   "cell_type": "code",
   "execution_count": 6,
   "metadata": {},
   "outputs": [
    {
     "data": {
      "text/html": [
       "<div>\n",
       "<style scoped>\n",
       "    .dataframe tbody tr th:only-of-type {\n",
       "        vertical-align: middle;\n",
       "    }\n",
       "\n",
       "    .dataframe tbody tr th {\n",
       "        vertical-align: top;\n",
       "    }\n",
       "\n",
       "    .dataframe thead th {\n",
       "        text-align: right;\n",
       "    }\n",
       "</style>\n",
       "<table border=\"1\" class=\"dataframe\">\n",
       "  <thead>\n",
       "    <tr style=\"text-align: right;\">\n",
       "      <th></th>\n",
       "      <th>designation</th>\n",
       "      <th>strain</th>\n",
       "      <th>type_strain</th>\n",
       "      <th>species</th>\n",
       "      <th>shape</th>\n",
       "      <th>reference</th>\n",
       "      <th>taxid</th>\n",
       "      <th>length</th>\n",
       "      <th>width</th>\n",
       "      <th>volume</th>\n",
       "      <th>surface</th>\n",
       "    </tr>\n",
       "    <tr>\n",
       "      <th>ID</th>\n",
       "      <th></th>\n",
       "      <th></th>\n",
       "      <th></th>\n",
       "      <th></th>\n",
       "      <th></th>\n",
       "      <th></th>\n",
       "      <th></th>\n",
       "      <th></th>\n",
       "      <th></th>\n",
       "      <th></th>\n",
       "      <th></th>\n",
       "    </tr>\n",
       "  </thead>\n",
       "  <tbody>\n",
       "    <tr>\n",
       "      <th>159837</th>\n",
       "      <td>OUC007</td>\n",
       "      <td>KCTC 52933, MCCC 1K03450, OUC007</td>\n",
       "      <td>1</td>\n",
       "      <td>Abyssibacter profundi</td>\n",
       "      <td>rod-shaped</td>\n",
       "      <td>66716</td>\n",
       "      <td>2182787.0</td>\n",
       "      <td>1.797220</td>\n",
       "      <td>0.489898</td>\n",
       "      <td>0.307987</td>\n",
       "      <td>2.766029</td>\n",
       "    </tr>\n",
       "    <tr>\n",
       "      <th>132478</th>\n",
       "      <td>L81</td>\n",
       "      <td>DSM 29592, JCM 30920</td>\n",
       "      <td>1</td>\n",
       "      <td>Abyssivirga alkaniphila</td>\n",
       "      <td>rod-shaped</td>\n",
       "      <td>43989</td>\n",
       "      <td>1675854.0</td>\n",
       "      <td>3.162278</td>\n",
       "      <td>0.500000</td>\n",
       "      <td>0.588187</td>\n",
       "      <td>4.967294</td>\n",
       "    </tr>\n",
       "    <tr>\n",
       "      <th>24718</th>\n",
       "      <td>FYK2218</td>\n",
       "      <td>DSM 28897, KCTC 12899, NBRC 101209</td>\n",
       "      <td>1</td>\n",
       "      <td>Acanthopleuribacter pedis</td>\n",
       "      <td>rod-shaped</td>\n",
       "      <td>32501</td>\n",
       "      <td>442870.0</td>\n",
       "      <td>3.358571</td>\n",
       "      <td>0.836660</td>\n",
       "      <td>1.693145</td>\n",
       "      <td>8.827819</td>\n",
       "    </tr>\n",
       "    <tr>\n",
       "      <th>7517</th>\n",
       "      <td>CSC</td>\n",
       "      <td>DSM 14247, CCUG 49701, NBRC 107788, CIP 109141</td>\n",
       "      <td>1</td>\n",
       "      <td>Acaricomes phytoseiuli</td>\n",
       "      <td>coccus-shaped</td>\n",
       "      <td>31628</td>\n",
       "      <td>291968.0</td>\n",
       "      <td>1.224745</td>\n",
       "      <td>0.632456</td>\n",
       "      <td>0.318534</td>\n",
       "      <td>2.433467</td>\n",
       "    </tr>\n",
       "    <tr>\n",
       "      <th>134101</th>\n",
       "      <td>Z7</td>\n",
       "      <td>JCM 12359, AS1.5012</td>\n",
       "      <td>1</td>\n",
       "      <td>Acetanaerobacterium elongatum</td>\n",
       "      <td>rod-shaped</td>\n",
       "      <td>31285</td>\n",
       "      <td>258515.0</td>\n",
       "      <td>6.000000</td>\n",
       "      <td>0.300000</td>\n",
       "      <td>0.417046</td>\n",
       "      <td>5.654867</td>\n",
       "    </tr>\n",
       "  </tbody>\n",
       "</table>\n",
       "</div>"
      ],
      "text/plain": [
       "       designation                                          strain  \\\n",
       "ID                                                                   \n",
       "159837      OUC007                KCTC 52933, MCCC 1K03450, OUC007   \n",
       "132478         L81                            DSM 29592, JCM 30920   \n",
       "24718      FYK2218              DSM 28897, KCTC 12899, NBRC 101209   \n",
       "7517           CSC  DSM 14247, CCUG 49701, NBRC 107788, CIP 109141   \n",
       "134101          Z7                             JCM 12359, AS1.5012   \n",
       "\n",
       "        type_strain                        species          shape  reference  \\\n",
       "ID                                                                             \n",
       "159837            1          Abyssibacter profundi     rod-shaped      66716   \n",
       "132478            1        Abyssivirga alkaniphila     rod-shaped      43989   \n",
       "24718             1      Acanthopleuribacter pedis     rod-shaped      32501   \n",
       "7517              1         Acaricomes phytoseiuli  coccus-shaped      31628   \n",
       "134101            1  Acetanaerobacterium elongatum     rod-shaped      31285   \n",
       "\n",
       "            taxid    length     width    volume   surface  \n",
       "ID                                                         \n",
       "159837  2182787.0  1.797220  0.489898  0.307987  2.766029  \n",
       "132478  1675854.0  3.162278  0.500000  0.588187  4.967294  \n",
       "24718    442870.0  3.358571  0.836660  1.693145  8.827819  \n",
       "7517     291968.0  1.224745  0.632456  0.318534  2.433467  \n",
       "134101   258515.0  6.000000  0.300000  0.417046  5.654867  "
      ]
     },
     "execution_count": 6,
     "metadata": {},
     "output_type": "execute_result"
    }
   ],
   "source": [
    "df = pd.read_table('data.tsv', index_col=0)\n",
    "df.head()"
   ]
  },
  {
   "cell_type": "code",
   "execution_count": 7,
   "metadata": {},
   "outputs": [
    {
     "data": {
      "text/plain": [
       "4908"
      ]
     },
     "execution_count": 7,
     "metadata": {},
     "output_type": "execute_result"
    }
   ],
   "source": [
    "df.shape[0]"
   ]
  },
  {
   "cell_type": "markdown",
   "metadata": {},
   "source": [
    "### Reference taxonomy"
   ]
  },
  {
   "cell_type": "markdown",
   "metadata": {},
   "source": [
    "Read NCBI taxonomy database."
   ]
  },
  {
   "cell_type": "code",
   "execution_count": 8,
   "metadata": {},
   "outputs": [],
   "source": [
    "dump = {}\n",
    "with lzma.open('nodes.dmp.xz', 'rb') as f:\n",
    "    for line in f.read().decode().splitlines():\n",
    "        x = line.rstrip('\\r\\n').replace('\\t|', '').split('\\t')\n",
    "        dump[x[0]] = {'parent': x[1], 'rank': x[2], 'name': '', 'children': set()}\n",
    "with lzma.open('names.dmp.xz', 'rb') as f:\n",
    "    for line in f.read().decode().splitlines():\n",
    "        x = line.rstrip('\\r\\n').replace('\\t|', '').split('\\t')\n",
    "        if x[3] == 'scientific name':\n",
    "            dump[x[0]]['name'] = x[1]\n",
    "for tid in dump:\n",
    "    pid = dump[tid]['parent']\n",
    "    if tid != pid:\n",
    "        dump[pid]['children'].add(tid)"
   ]
  },
  {
   "cell_type": "code",
   "execution_count": 9,
   "metadata": {},
   "outputs": [
    {
     "data": {
      "text/plain": [
       "2375861"
      ]
     },
     "execution_count": 9,
     "metadata": {},
     "output_type": "execute_result"
    }
   ],
   "source": [
    "len(dump)"
   ]
  },
  {
   "cell_type": "markdown",
   "metadata": {},
   "source": [
    "### Match by taxon name"
   ]
  },
  {
   "cell_type": "markdown",
   "metadata": {},
   "source": [
    "Match TaxID"
   ]
  },
  {
   "cell_type": "code",
   "execution_count": 10,
   "metadata": {},
   "outputs": [],
   "source": [
    "tids = df['taxid']"
   ]
  },
  {
   "cell_type": "code",
   "execution_count": 11,
   "metadata": {},
   "outputs": [
    {
     "data": {
      "text/plain": [
       "(array([False,  True]), array([1328, 2884]))"
      ]
     },
     "execution_count": 11,
     "metadata": {},
     "output_type": "execute_result"
    }
   ],
   "source": [
    "np.unique(tids[tids.notna()].index.astype(str).isin(dump), return_counts=True)"
   ]
  },
  {
   "cell_type": "markdown",
   "metadata": {},
   "source": [
    "Match species name"
   ]
  },
  {
   "cell_type": "code",
   "execution_count": 12,
   "metadata": {},
   "outputs": [],
   "source": [
    "spnames = {v['name']: k for k, v in dump.items() if v['rank'] == 'species'}"
   ]
  },
  {
   "cell_type": "code",
   "execution_count": 13,
   "metadata": {},
   "outputs": [
    {
     "data": {
      "text/plain": [
       "True     4737\n",
       "False     171\n",
       "Name: species, dtype: int64"
      ]
     },
     "execution_count": 13,
     "metadata": {},
     "output_type": "execute_result"
    }
   ],
   "source": [
    "df['species'].isin(spnames).value_counts()"
   ]
  },
  {
   "cell_type": "markdown",
   "metadata": {},
   "source": [
    "Therefore, it is a better idea to match by species name."
   ]
  },
  {
   "cell_type": "markdown",
   "metadata": {},
   "source": [
    "Add species TaxID."
   ]
  },
  {
   "cell_type": "code",
   "execution_count": 14,
   "metadata": {},
   "outputs": [],
   "source": [
    "df['sptid'] = df['species'].map(spnames)"
   ]
  },
  {
   "cell_type": "markdown",
   "metadata": {},
   "source": [
    "Match subspecies name"
   ]
  },
  {
   "cell_type": "code",
   "execution_count": 15,
   "metadata": {},
   "outputs": [],
   "source": [
    "sspnames = {v['name']: k for k, v in dump.items() if v['rank'] == 'subspecies'}"
   ]
  },
  {
   "cell_type": "code",
   "execution_count": 16,
   "metadata": {},
   "outputs": [
    {
     "data": {
      "text/plain": [
       "False    160\n",
       "True      11\n",
       "Name: species, dtype: int64"
      ]
     },
     "execution_count": 16,
     "metadata": {},
     "output_type": "execute_result"
    }
   ],
   "source": [
    "df[df['sptid'].isna()]['species'].isin(sspnames).value_counts()"
   ]
  },
  {
   "cell_type": "markdown",
   "metadata": {},
   "source": [
    "Elevate subspecies to species."
   ]
  },
  {
   "cell_type": "code",
   "execution_count": 17,
   "metadata": {},
   "outputs": [],
   "source": [
    "def get_species(tid):\n",
    "    if dump[tid]['rank'] == 'species':\n",
    "        return tid\n",
    "    return get_species(dump[tid]['parent'])"
   ]
  },
  {
   "cell_type": "markdown",
   "metadata": {},
   "source": [
    "Add species TaxID of subspecies."
   ]
  },
  {
   "cell_type": "code",
   "execution_count": 18,
   "metadata": {},
   "outputs": [],
   "source": [
    "for idx, val in df[df['sptid'].isna()]['species'].iteritems():\n",
    "    if val in sspnames:\n",
    "        df.at[idx, 'sptid'] = get_species(sspnames[val])"
   ]
  },
  {
   "cell_type": "markdown",
   "metadata": {},
   "source": [
    "### Match by TaxID"
   ]
  },
  {
   "cell_type": "markdown",
   "metadata": {},
   "source": [
    "Check the remaining"
   ]
  },
  {
   "cell_type": "code",
   "execution_count": 19,
   "metadata": {},
   "outputs": [
    {
     "data": {
      "text/html": [
       "<div>\n",
       "<style scoped>\n",
       "    .dataframe tbody tr th:only-of-type {\n",
       "        vertical-align: middle;\n",
       "    }\n",
       "\n",
       "    .dataframe tbody tr th {\n",
       "        vertical-align: top;\n",
       "    }\n",
       "\n",
       "    .dataframe thead th {\n",
       "        text-align: right;\n",
       "    }\n",
       "</style>\n",
       "<table border=\"1\" class=\"dataframe\">\n",
       "  <thead>\n",
       "    <tr style=\"text-align: right;\">\n",
       "      <th></th>\n",
       "      <th>species</th>\n",
       "      <th>taxid</th>\n",
       "    </tr>\n",
       "    <tr>\n",
       "      <th>ID</th>\n",
       "      <th></th>\n",
       "      <th></th>\n",
       "    </tr>\n",
       "  </thead>\n",
       "  <tbody>\n",
       "    <tr>\n",
       "      <th>140290</th>\n",
       "      <td>Actinomyces liubingyangii</td>\n",
       "      <td>1921764</td>\n",
       "    </tr>\n",
       "    <tr>\n",
       "      <th>158436</th>\n",
       "      <td>Actinomyces tangfeifanii</td>\n",
       "      <td>1912795</td>\n",
       "    </tr>\n",
       "    <tr>\n",
       "      <th>22982</th>\n",
       "      <td>Adlercreutzia caecicola</td>\n",
       "      <td>747645</td>\n",
       "    </tr>\n",
       "    <tr>\n",
       "      <th>13647</th>\n",
       "      <td>Agrobacterium skierniewicense</td>\n",
       "      <td>1368417</td>\n",
       "    </tr>\n",
       "    <tr>\n",
       "      <th>134060</th>\n",
       "      <td>Algibacter wandonensis</td>\n",
       "      <td>1343161</td>\n",
       "    </tr>\n",
       "  </tbody>\n",
       "</table>\n",
       "</div>"
      ],
      "text/plain": [
       "                              species    taxid\n",
       "ID                                            \n",
       "140290      Actinomyces liubingyangii  1921764\n",
       "158436       Actinomyces tangfeifanii  1912795\n",
       "22982         Adlercreutzia caecicola   747645\n",
       "13647   Agrobacterium skierniewicense  1368417\n",
       "134060         Algibacter wandonensis  1343161"
      ]
     },
     "execution_count": 19,
     "metadata": {},
     "output_type": "execute_result"
    }
   ],
   "source": [
    "df_ = df[df['sptid'].isna()].dropna(subset=['taxid'])[['species', 'taxid']].copy()\n",
    "df_['taxid'] = df_['taxid'].astype(int).astype(str)\n",
    "df_.head()"
   ]
  },
  {
   "cell_type": "code",
   "execution_count": 20,
   "metadata": {},
   "outputs": [
    {
     "data": {
      "text/plain": [
       "142"
      ]
     },
     "execution_count": 20,
     "metadata": {},
     "output_type": "execute_result"
    }
   ],
   "source": [
    "df_.shape[0]"
   ]
  },
  {
   "cell_type": "markdown",
   "metadata": {},
   "source": [
    "Check if these TaxIDs exist in taxdump."
   ]
  },
  {
   "cell_type": "code",
   "execution_count": 21,
   "metadata": {},
   "outputs": [
    {
     "data": {
      "text/plain": [
       "138"
      ]
     },
     "execution_count": 21,
     "metadata": {},
     "output_type": "execute_result"
    }
   ],
   "source": [
    "df_ = df_[df_['taxid'].isin(dump)]\n",
    "df_.shape[0]"
   ]
  },
  {
   "cell_type": "markdown",
   "metadata": {},
   "source": [
    "Check if these TaxIDs are species."
   ]
  },
  {
   "cell_type": "code",
   "execution_count": 22,
   "metadata": {},
   "outputs": [
    {
     "data": {
      "text/plain": [
       "119"
      ]
     },
     "execution_count": 22,
     "metadata": {},
     "output_type": "execute_result"
    }
   ],
   "source": [
    "dfx = df_[df_['taxid'].apply(lambda x: dump[x]['rank'] == 'species')]\n",
    "dfx.shape[0]"
   ]
  },
  {
   "cell_type": "markdown",
   "metadata": {},
   "source": [
    "Add species TaxIDs."
   ]
  },
  {
   "cell_type": "code",
   "execution_count": 23,
   "metadata": {},
   "outputs": [],
   "source": [
    "for idx, val in dfx['taxid'].iteritems():\n",
    "    df.at[idx, 'sptid'] = val"
   ]
  },
  {
   "cell_type": "markdown",
   "metadata": {},
   "source": [
    "If not species, check if they are lower than species."
   ]
  },
  {
   "cell_type": "code",
   "execution_count": 24,
   "metadata": {},
   "outputs": [
    {
     "data": {
      "text/plain": [
       "19"
      ]
     },
     "execution_count": 24,
     "metadata": {},
     "output_type": "execute_result"
    }
   ],
   "source": [
    "dfx = df_[df_['taxid'].apply(lambda x: dump[x]['rank'] != 'species')]\n",
    "dfx.shape[0]"
   ]
  },
  {
   "cell_type": "code",
   "execution_count": 25,
   "metadata": {},
   "outputs": [
    {
     "data": {
      "text/plain": [
       "ID\n",
       "13647    strain\n",
       "2095     strain\n",
       "2099     strain\n",
       "1225     strain\n",
       "1254     strain\n",
       "Name: taxid, dtype: object"
      ]
     },
     "execution_count": 25,
     "metadata": {},
     "output_type": "execute_result"
    }
   ],
   "source": [
    "dfx['taxid'].apply(lambda x: dump[x]['rank']).head()"
   ]
  },
  {
   "cell_type": "markdown",
   "metadata": {},
   "source": [
    "Elevate ranks to species."
   ]
  },
  {
   "cell_type": "code",
   "execution_count": 26,
   "metadata": {},
   "outputs": [],
   "source": [
    "tids_ = dfx['taxid'].apply(get_species)"
   ]
  },
  {
   "cell_type": "code",
   "execution_count": 27,
   "metadata": {},
   "outputs": [],
   "source": [
    "for idx, val in tids_.iteritems():\n",
    "    df.at[idx, 'sptid'] = val"
   ]
  },
  {
   "cell_type": "markdown",
   "metadata": {},
   "source": [
    "Work on remaining records."
   ]
  },
  {
   "cell_type": "code",
   "execution_count": 28,
   "metadata": {},
   "outputs": [
    {
     "data": {
      "text/html": [
       "<div>\n",
       "<style scoped>\n",
       "    .dataframe tbody tr th:only-of-type {\n",
       "        vertical-align: middle;\n",
       "    }\n",
       "\n",
       "    .dataframe tbody tr th {\n",
       "        vertical-align: top;\n",
       "    }\n",
       "\n",
       "    .dataframe thead th {\n",
       "        text-align: right;\n",
       "    }\n",
       "</style>\n",
       "<table border=\"1\" class=\"dataframe\">\n",
       "  <thead>\n",
       "    <tr style=\"text-align: right;\">\n",
       "      <th></th>\n",
       "      <th>designation</th>\n",
       "      <th>strain</th>\n",
       "      <th>type_strain</th>\n",
       "      <th>species</th>\n",
       "      <th>shape</th>\n",
       "      <th>reference</th>\n",
       "      <th>taxid</th>\n",
       "      <th>length</th>\n",
       "      <th>width</th>\n",
       "      <th>volume</th>\n",
       "      <th>surface</th>\n",
       "      <th>sptid</th>\n",
       "    </tr>\n",
       "    <tr>\n",
       "      <th>ID</th>\n",
       "      <th></th>\n",
       "      <th></th>\n",
       "      <th></th>\n",
       "      <th></th>\n",
       "      <th></th>\n",
       "      <th></th>\n",
       "      <th></th>\n",
       "      <th></th>\n",
       "      <th></th>\n",
       "      <th></th>\n",
       "      <th></th>\n",
       "      <th></th>\n",
       "    </tr>\n",
       "  </thead>\n",
       "  <tbody>\n",
       "    <tr>\n",
       "      <th>134060</th>\n",
       "      <td>WS-MY22</td>\n",
       "      <td>KCTC 32381, CECT 8301</td>\n",
       "      <td>1</td>\n",
       "      <td>Algibacter wandonensis</td>\n",
       "      <td>rod-shaped</td>\n",
       "      <td>31156</td>\n",
       "      <td>1343161.0</td>\n",
       "      <td>3.300000</td>\n",
       "      <td>0.300000</td>\n",
       "      <td>0.226195</td>\n",
       "      <td>3.110177</td>\n",
       "      <td>NaN</td>\n",
       "    </tr>\n",
       "    <tr>\n",
       "      <th>140729</th>\n",
       "      <td>JSSK-8</td>\n",
       "      <td>KCTC 52763, NBRC 112764</td>\n",
       "      <td>1</td>\n",
       "      <td>Altererythrobacter aquaemixtae</td>\n",
       "      <td>rod-shaped</td>\n",
       "      <td>43507</td>\n",
       "      <td>NaN</td>\n",
       "      <td>0.387298</td>\n",
       "      <td>0.282843</td>\n",
       "      <td>0.018411</td>\n",
       "      <td>0.344144</td>\n",
       "      <td>NaN</td>\n",
       "    </tr>\n",
       "    <tr>\n",
       "      <th>140987</th>\n",
       "      <td>CPA5</td>\n",
       "      <td>CECT 9130, LMG 29519</td>\n",
       "      <td>1</td>\n",
       "      <td>Altererythrobacter halimionae</td>\n",
       "      <td>rod-shaped</td>\n",
       "      <td>43875</td>\n",
       "      <td>NaN</td>\n",
       "      <td>2.379160</td>\n",
       "      <td>0.692820</td>\n",
       "      <td>0.809860</td>\n",
       "      <td>5.178382</td>\n",
       "      <td>NaN</td>\n",
       "    </tr>\n",
       "    <tr>\n",
       "      <th>158561</th>\n",
       "      <td>C9-11</td>\n",
       "      <td>MCCC 1K03311, JCM 32056</td>\n",
       "      <td>1</td>\n",
       "      <td>Altererythrobacter mangrovi</td>\n",
       "      <td>rod-shaped</td>\n",
       "      <td>65258</td>\n",
       "      <td>NaN</td>\n",
       "      <td>1.232883</td>\n",
       "      <td>0.424264</td>\n",
       "      <td>0.154302</td>\n",
       "      <td>1.643266</td>\n",
       "      <td>NaN</td>\n",
       "    </tr>\n",
       "    <tr>\n",
       "      <th>140815</th>\n",
       "      <td>WW3</td>\n",
       "      <td>KCTC 42620, JCM 30975</td>\n",
       "      <td>1</td>\n",
       "      <td>Altererythrobacter rigui</td>\n",
       "      <td>rod-shaped</td>\n",
       "      <td>43603</td>\n",
       "      <td>NaN</td>\n",
       "      <td>0.604483</td>\n",
       "      <td>0.493559</td>\n",
       "      <td>0.084175</td>\n",
       "      <td>0.937287</td>\n",
       "      <td>NaN</td>\n",
       "    </tr>\n",
       "  </tbody>\n",
       "</table>\n",
       "</div>"
      ],
      "text/plain": [
       "       designation                   strain  type_strain  \\\n",
       "ID                                                         \n",
       "134060     WS-MY22    KCTC 32381, CECT 8301            1   \n",
       "140729      JSSK-8  KCTC 52763, NBRC 112764            1   \n",
       "140987        CPA5     CECT 9130, LMG 29519            1   \n",
       "158561       C9-11  MCCC 1K03311, JCM 32056            1   \n",
       "140815         WW3    KCTC 42620, JCM 30975            1   \n",
       "\n",
       "                               species       shape  reference      taxid  \\\n",
       "ID                                                                         \n",
       "134060          Algibacter wandonensis  rod-shaped      31156  1343161.0   \n",
       "140729  Altererythrobacter aquaemixtae  rod-shaped      43507        NaN   \n",
       "140987   Altererythrobacter halimionae  rod-shaped      43875        NaN   \n",
       "158561     Altererythrobacter mangrovi  rod-shaped      65258        NaN   \n",
       "140815        Altererythrobacter rigui  rod-shaped      43603        NaN   \n",
       "\n",
       "          length     width    volume   surface sptid  \n",
       "ID                                                    \n",
       "134060  3.300000  0.300000  0.226195  3.110177   NaN  \n",
       "140729  0.387298  0.282843  0.018411  0.344144   NaN  \n",
       "140987  2.379160  0.692820  0.809860  5.178382   NaN  \n",
       "158561  1.232883  0.424264  0.154302  1.643266   NaN  \n",
       "140815  0.604483  0.493559  0.084175  0.937287   NaN  "
      ]
     },
     "execution_count": 28,
     "metadata": {},
     "output_type": "execute_result"
    }
   ],
   "source": [
    "df_ = df[df['sptid'].isna()]\n",
    "df_.head()"
   ]
  },
  {
   "cell_type": "code",
   "execution_count": 29,
   "metadata": {},
   "outputs": [
    {
     "data": {
      "text/plain": [
       "22"
      ]
     },
     "execution_count": 29,
     "metadata": {},
     "output_type": "execute_result"
    }
   ],
   "source": [
    "df_.shape[0]"
   ]
  },
  {
   "cell_type": "markdown",
   "metadata": {},
   "source": [
    "### Manual curation"
   ]
  },
  {
   "cell_type": "markdown",
   "metadata": {},
   "source": [
    "Manually curate these records."
   ]
  },
  {
   "cell_type": "code",
   "execution_count": 30,
   "metadata": {},
   "outputs": [],
   "source": [
    "tidmap = {'134060': '221126',\n",
    "          '140729': '1958940',\n",
    "          '140987': '1926630',\n",
    "          '158561': '1982042',\n",
    "          '140815': '1708790',\n",
    "          '140743': '1476466',\n",
    "          '158655': '1912871',\n",
    "          '140702': '1904463',\n",
    "          '158725': '1983720',\n",
    "          '158610': '1707093',\n",
    "          '141013': '2036016',\n",
    "          '140739': '1505588',\n",
    "          '158534': '1967665',\n",
    "          '141131': '1462440',\n",
    "          '140758': '1850444',\n",
    "          '133146': '1542729',\n",
    "          '134303': '81932',\n",
    "          '140782': '1807134',\n",
    "          '134174': '323273',\n",
    "          '24597':  '1276936',\n",
    "          '1496':   '698769'}"
   ]
  },
  {
   "cell_type": "code",
   "execution_count": 31,
   "metadata": {},
   "outputs": [],
   "source": [
    "for key, val in tidmap.items():\n",
    "    df.at[int(key), 'sptid'] = val"
   ]
  },
  {
   "cell_type": "markdown",
   "metadata": {},
   "source": [
    "Note: one record: 158661 (TaxID = 2126556) is too new and the TaxID does not exist in the current record. So delete."
   ]
  },
  {
   "cell_type": "code",
   "execution_count": 32,
   "metadata": {},
   "outputs": [
    {
     "data": {
      "text/plain": [
       "4907"
      ]
     },
     "execution_count": 32,
     "metadata": {},
     "output_type": "execute_result"
    }
   ],
   "source": [
    "df = df.dropna(subset=['sptid'])\n",
    "df.shape[0]"
   ]
  },
  {
   "cell_type": "markdown",
   "metadata": {},
   "source": [
    "### Cell shape"
   ]
  },
  {
   "cell_type": "markdown",
   "metadata": {},
   "source": [
    "Check if cell shape is constant per species."
   ]
  },
  {
   "cell_type": "code",
   "execution_count": 33,
   "metadata": {},
   "outputs": [
    {
     "data": {
      "text/plain": [
       "sptid\n",
       "446660    2\n",
       "Name: shape, dtype: int64"
      ]
     },
     "execution_count": 33,
     "metadata": {},
     "output_type": "execute_result"
    }
   ],
   "source": [
    "s = df.groupby('sptid')['shape'].nunique()\n",
    "s[s > 1]"
   ]
  },
  {
   "cell_type": "code",
   "execution_count": 34,
   "metadata": {},
   "outputs": [
    {
     "data": {
      "text/html": [
       "<div>\n",
       "<style scoped>\n",
       "    .dataframe tbody tr th:only-of-type {\n",
       "        vertical-align: middle;\n",
       "    }\n",
       "\n",
       "    .dataframe tbody tr th {\n",
       "        vertical-align: top;\n",
       "    }\n",
       "\n",
       "    .dataframe thead th {\n",
       "        text-align: right;\n",
       "    }\n",
       "</style>\n",
       "<table border=\"1\" class=\"dataframe\">\n",
       "  <thead>\n",
       "    <tr style=\"text-align: right;\">\n",
       "      <th></th>\n",
       "      <th>designation</th>\n",
       "      <th>strain</th>\n",
       "      <th>type_strain</th>\n",
       "      <th>species</th>\n",
       "      <th>shape</th>\n",
       "      <th>reference</th>\n",
       "      <th>taxid</th>\n",
       "      <th>length</th>\n",
       "      <th>width</th>\n",
       "      <th>volume</th>\n",
       "      <th>surface</th>\n",
       "      <th>sptid</th>\n",
       "    </tr>\n",
       "    <tr>\n",
       "      <th>ID</th>\n",
       "      <th></th>\n",
       "      <th></th>\n",
       "      <th></th>\n",
       "      <th></th>\n",
       "      <th></th>\n",
       "      <th></th>\n",
       "      <th></th>\n",
       "      <th></th>\n",
       "      <th></th>\n",
       "      <th></th>\n",
       "      <th></th>\n",
       "      <th></th>\n",
       "    </tr>\n",
       "  </thead>\n",
       "  <tbody>\n",
       "    <tr>\n",
       "      <th>3073</th>\n",
       "      <td>FJC-B9</td>\n",
       "      <td>DSM 19450, CCUG 54925, JCM 14793, KCTC 15235</td>\n",
       "      <td>1</td>\n",
       "      <td>Adlercreutzia equolifaciens</td>\n",
       "      <td>ovoid-shaped</td>\n",
       "      <td>32379</td>\n",
       "      <td>446660.0</td>\n",
       "      <td>2.1</td>\n",
       "      <td>0.65</td>\n",
       "      <td>0.624948</td>\n",
       "      <td>4.288274</td>\n",
       "      <td>446660</td>\n",
       "    </tr>\n",
       "    <tr>\n",
       "      <th>3072</th>\n",
       "      <td>do03</td>\n",
       "      <td>DSM 18785, JCM 14811, AHU 1763</td>\n",
       "      <td>1</td>\n",
       "      <td>Adlercreutzia equolifaciens subsp. celatus</td>\n",
       "      <td>rod-shaped</td>\n",
       "      <td>32059</td>\n",
       "      <td>394340.0</td>\n",
       "      <td>2.5</td>\n",
       "      <td>0.45</td>\n",
       "      <td>0.373751</td>\n",
       "      <td>3.534292</td>\n",
       "      <td>446660</td>\n",
       "    </tr>\n",
       "  </tbody>\n",
       "</table>\n",
       "</div>"
      ],
      "text/plain": [
       "     designation                                        strain  type_strain  \\\n",
       "ID                                                                            \n",
       "3073      FJC-B9  DSM 19450, CCUG 54925, JCM 14793, KCTC 15235            1   \n",
       "3072        do03                DSM 18785, JCM 14811, AHU 1763            1   \n",
       "\n",
       "                                         species         shape  reference  \\\n",
       "ID                                                                          \n",
       "3073                 Adlercreutzia equolifaciens  ovoid-shaped      32379   \n",
       "3072  Adlercreutzia equolifaciens subsp. celatus    rod-shaped      32059   \n",
       "\n",
       "         taxid  length  width    volume   surface   sptid  \n",
       "ID                                                         \n",
       "3073  446660.0     2.1   0.65  0.624948  4.288274  446660  \n",
       "3072  394340.0     2.5   0.45  0.373751  3.534292  446660  "
      ]
     },
     "execution_count": 34,
     "metadata": {},
     "output_type": "execute_result"
    }
   ],
   "source": [
    "df.query('sptid == \"446660\"')"
   ]
  },
  {
   "cell_type": "markdown",
   "metadata": {},
   "source": [
    "Check other members of the genus."
   ]
  },
  {
   "cell_type": "code",
   "execution_count": 35,
   "metadata": {},
   "outputs": [
    {
     "data": {
      "text/html": [
       "<div>\n",
       "<style scoped>\n",
       "    .dataframe tbody tr th:only-of-type {\n",
       "        vertical-align: middle;\n",
       "    }\n",
       "\n",
       "    .dataframe tbody tr th {\n",
       "        vertical-align: top;\n",
       "    }\n",
       "\n",
       "    .dataframe thead th {\n",
       "        text-align: right;\n",
       "    }\n",
       "</style>\n",
       "<table border=\"1\" class=\"dataframe\">\n",
       "  <thead>\n",
       "    <tr style=\"text-align: right;\">\n",
       "      <th></th>\n",
       "      <th>designation</th>\n",
       "      <th>strain</th>\n",
       "      <th>type_strain</th>\n",
       "      <th>species</th>\n",
       "      <th>shape</th>\n",
       "      <th>reference</th>\n",
       "      <th>taxid</th>\n",
       "      <th>length</th>\n",
       "      <th>width</th>\n",
       "      <th>volume</th>\n",
       "      <th>surface</th>\n",
       "      <th>sptid</th>\n",
       "    </tr>\n",
       "    <tr>\n",
       "      <th>ID</th>\n",
       "      <th></th>\n",
       "      <th></th>\n",
       "      <th></th>\n",
       "      <th></th>\n",
       "      <th></th>\n",
       "      <th></th>\n",
       "      <th></th>\n",
       "      <th></th>\n",
       "      <th></th>\n",
       "      <th></th>\n",
       "      <th></th>\n",
       "      <th></th>\n",
       "    </tr>\n",
       "  </thead>\n",
       "  <tbody>\n",
       "    <tr>\n",
       "      <th>22982</th>\n",
       "      <td>NR06</td>\n",
       "      <td>DSM 22242, CCUG 57646, KCTC 15365</td>\n",
       "      <td>1</td>\n",
       "      <td>Adlercreutzia caecicola</td>\n",
       "      <td>rod-shaped</td>\n",
       "      <td>30824</td>\n",
       "      <td>747645.0</td>\n",
       "      <td>1.5</td>\n",
       "      <td>0.50</td>\n",
       "      <td>0.261799</td>\n",
       "      <td>2.356194</td>\n",
       "      <td>747645</td>\n",
       "    </tr>\n",
       "    <tr>\n",
       "      <th>3077</th>\n",
       "      <td>B7</td>\n",
       "      <td>DSM 21839, CCUG 56815</td>\n",
       "      <td>1</td>\n",
       "      <td>Adlercreutzia caecimuris</td>\n",
       "      <td>rod-shaped</td>\n",
       "      <td>29529</td>\n",
       "      <td>1235794.0</td>\n",
       "      <td>2.0</td>\n",
       "      <td>0.50</td>\n",
       "      <td>0.359974</td>\n",
       "      <td>3.141593</td>\n",
       "      <td>671266</td>\n",
       "    </tr>\n",
       "    <tr>\n",
       "      <th>3073</th>\n",
       "      <td>FJC-B9</td>\n",
       "      <td>DSM 19450, CCUG 54925, JCM 14793, KCTC 15235</td>\n",
       "      <td>1</td>\n",
       "      <td>Adlercreutzia equolifaciens</td>\n",
       "      <td>ovoid-shaped</td>\n",
       "      <td>32379</td>\n",
       "      <td>446660.0</td>\n",
       "      <td>2.1</td>\n",
       "      <td>0.65</td>\n",
       "      <td>0.624948</td>\n",
       "      <td>4.288274</td>\n",
       "      <td>446660</td>\n",
       "    </tr>\n",
       "    <tr>\n",
       "      <th>3072</th>\n",
       "      <td>do03</td>\n",
       "      <td>DSM 18785, JCM 14811, AHU 1763</td>\n",
       "      <td>1</td>\n",
       "      <td>Adlercreutzia equolifaciens subsp. celatus</td>\n",
       "      <td>rod-shaped</td>\n",
       "      <td>32059</td>\n",
       "      <td>394340.0</td>\n",
       "      <td>2.5</td>\n",
       "      <td>0.45</td>\n",
       "      <td>0.373751</td>\n",
       "      <td>3.534292</td>\n",
       "      <td>446660</td>\n",
       "    </tr>\n",
       "    <tr>\n",
       "      <th>3076</th>\n",
       "      <td>Mt1B8</td>\n",
       "      <td>DSM 19490, CCUG 54980</td>\n",
       "      <td>1</td>\n",
       "      <td>Adlercreutzia mucosicola</td>\n",
       "      <td>rod-shaped</td>\n",
       "      <td>28980</td>\n",
       "      <td>580026.0</td>\n",
       "      <td>2.0</td>\n",
       "      <td>0.50</td>\n",
       "      <td>0.359974</td>\n",
       "      <td>3.141593</td>\n",
       "      <td>580026</td>\n",
       "    </tr>\n",
       "  </tbody>\n",
       "</table>\n",
       "</div>"
      ],
      "text/plain": [
       "      designation                                        strain  type_strain  \\\n",
       "ID                                                                             \n",
       "22982        NR06             DSM 22242, CCUG 57646, KCTC 15365            1   \n",
       "3077           B7                         DSM 21839, CCUG 56815            1   \n",
       "3073       FJC-B9  DSM 19450, CCUG 54925, JCM 14793, KCTC 15235            1   \n",
       "3072         do03                DSM 18785, JCM 14811, AHU 1763            1   \n",
       "3076        Mt1B8                         DSM 19490, CCUG 54980            1   \n",
       "\n",
       "                                          species         shape  reference  \\\n",
       "ID                                                                           \n",
       "22982                     Adlercreutzia caecicola    rod-shaped      30824   \n",
       "3077                     Adlercreutzia caecimuris    rod-shaped      29529   \n",
       "3073                  Adlercreutzia equolifaciens  ovoid-shaped      32379   \n",
       "3072   Adlercreutzia equolifaciens subsp. celatus    rod-shaped      32059   \n",
       "3076                     Adlercreutzia mucosicola    rod-shaped      28980   \n",
       "\n",
       "           taxid  length  width    volume   surface   sptid  \n",
       "ID                                                           \n",
       "22982   747645.0     1.5   0.50  0.261799  2.356194  747645  \n",
       "3077   1235794.0     2.0   0.50  0.359974  3.141593  671266  \n",
       "3073    446660.0     2.1   0.65  0.624948  4.288274  446660  \n",
       "3072    394340.0     2.5   0.45  0.373751  3.534292  446660  \n",
       "3076    580026.0     2.0   0.50  0.359974  3.141593  580026  "
      ]
     },
     "execution_count": 35,
     "metadata": {},
     "output_type": "execute_result"
    }
   ],
   "source": [
    "df[df['species'].str.startswith('Adlercreutzia')]"
   ]
  },
  {
   "cell_type": "markdown",
   "metadata": {},
   "source": [
    "Manually assign it to be rod-shaped (according to majority voting)."
   ]
  },
  {
   "cell_type": "code",
   "execution_count": 36,
   "metadata": {},
   "outputs": [],
   "source": [
    "df.at[3073, 'shape'] = 'rod-shaped'"
   ]
  },
  {
   "cell_type": "code",
   "execution_count": 37,
   "metadata": {},
   "outputs": [],
   "source": [
    "shapes = dict(df[['sptid', 'shape']].drop_duplicates('sptid').values)"
   ]
  },
  {
   "cell_type": "markdown",
   "metadata": {},
   "source": [
    "### Mean cell size"
   ]
  },
  {
   "cell_type": "markdown",
   "metadata": {},
   "source": [
    "Check duplicate species."
   ]
  },
  {
   "cell_type": "code",
   "execution_count": 38,
   "metadata": {},
   "outputs": [
    {
     "data": {
      "text/plain": [
       "1    4847\n",
       "2      24\n",
       "3       4\n",
       "Name: sptid, dtype: int64"
      ]
     },
     "execution_count": 38,
     "metadata": {},
     "output_type": "execute_result"
    }
   ],
   "source": [
    "df['sptid'].value_counts().value_counts()"
   ]
  },
  {
   "cell_type": "markdown",
   "metadata": {},
   "source": [
    "Group organisms by species TaxID and calculate geometric mean per species."
   ]
  },
  {
   "cell_type": "code",
   "execution_count": 39,
   "metadata": {},
   "outputs": [],
   "source": [
    "cols = ['length', 'width', 'volume', 'surface']"
   ]
  },
  {
   "cell_type": "code",
   "execution_count": 40,
   "metadata": {},
   "outputs": [],
   "source": [
    "dfr = df.groupby('sptid')[cols].agg(gmean)"
   ]
  },
  {
   "cell_type": "markdown",
   "metadata": {},
   "source": [
    "Add shape and species name."
   ]
  },
  {
   "cell_type": "code",
   "execution_count": 41,
   "metadata": {},
   "outputs": [],
   "source": [
    "dfr['shape'] = dfr.index.map(shapes)"
   ]
  },
  {
   "cell_type": "code",
   "execution_count": 42,
   "metadata": {},
   "outputs": [],
   "source": [
    "dfr['species'] = dfr.index.to_series().apply(lambda x: dump[str(x)]['name'])"
   ]
  },
  {
   "cell_type": "markdown",
   "metadata": {},
   "source": [
    "Organize."
   ]
  },
  {
   "cell_type": "code",
   "execution_count": 43,
   "metadata": {},
   "outputs": [],
   "source": [
    "dfr = dfr.loc[sorted(dfr.index, key=int)]"
   ]
  },
  {
   "cell_type": "code",
   "execution_count": 44,
   "metadata": {},
   "outputs": [],
   "source": [
    "dfr.index.names = ['taxid']"
   ]
  },
  {
   "cell_type": "code",
   "execution_count": 45,
   "metadata": {},
   "outputs": [
    {
     "data": {
      "text/html": [
       "<div>\n",
       "<style scoped>\n",
       "    .dataframe tbody tr th:only-of-type {\n",
       "        vertical-align: middle;\n",
       "    }\n",
       "\n",
       "    .dataframe tbody tr th {\n",
       "        vertical-align: top;\n",
       "    }\n",
       "\n",
       "    .dataframe thead th {\n",
       "        text-align: right;\n",
       "    }\n",
       "</style>\n",
       "<table border=\"1\" class=\"dataframe\">\n",
       "  <thead>\n",
       "    <tr style=\"text-align: right;\">\n",
       "      <th></th>\n",
       "      <th>length</th>\n",
       "      <th>width</th>\n",
       "      <th>volume</th>\n",
       "      <th>surface</th>\n",
       "      <th>shape</th>\n",
       "      <th>species</th>\n",
       "    </tr>\n",
       "    <tr>\n",
       "      <th>taxid</th>\n",
       "      <th></th>\n",
       "      <th></th>\n",
       "      <th></th>\n",
       "      <th></th>\n",
       "      <th></th>\n",
       "      <th></th>\n",
       "    </tr>\n",
       "  </thead>\n",
       "  <tbody>\n",
       "    <tr>\n",
       "      <th>11</th>\n",
       "      <td>2.371708</td>\n",
       "      <td>1.060660</td>\n",
       "      <td>1.783187</td>\n",
       "      <td>7.902917</td>\n",
       "      <td>rod-shaped</td>\n",
       "      <td>Cellulomonas gilvus</td>\n",
       "    </tr>\n",
       "    <tr>\n",
       "      <th>14</th>\n",
       "      <td>10.000000</td>\n",
       "      <td>0.489898</td>\n",
       "      <td>1.854174</td>\n",
       "      <td>15.390598</td>\n",
       "      <td>rod-shaped</td>\n",
       "      <td>Dictyoglomus thermophilum</td>\n",
       "    </tr>\n",
       "    <tr>\n",
       "      <th>23</th>\n",
       "      <td>1.500000</td>\n",
       "      <td>0.700000</td>\n",
       "      <td>0.487470</td>\n",
       "      <td>3.298672</td>\n",
       "      <td>rod-shaped</td>\n",
       "      <td>Shewanella colwelliana</td>\n",
       "    </tr>\n",
       "    <tr>\n",
       "      <th>104</th>\n",
       "      <td>1.039230</td>\n",
       "      <td>0.346410</td>\n",
       "      <td>0.087062</td>\n",
       "      <td>1.130973</td>\n",
       "      <td>ring-shaped</td>\n",
       "      <td>Cyclobacterium marinum</td>\n",
       "    </tr>\n",
       "    <tr>\n",
       "      <th>148</th>\n",
       "      <td>67.082039</td>\n",
       "      <td>0.244949</td>\n",
       "      <td>3.157319</td>\n",
       "      <td>51.621635</td>\n",
       "      <td>NaN</td>\n",
       "      <td>Sediminispirochaeta bajacaliforniensis</td>\n",
       "    </tr>\n",
       "  </tbody>\n",
       "</table>\n",
       "</div>"
      ],
      "text/plain": [
       "          length     width    volume    surface        shape  \\\n",
       "taxid                                                          \n",
       "11      2.371708  1.060660  1.783187   7.902917   rod-shaped   \n",
       "14     10.000000  0.489898  1.854174  15.390598   rod-shaped   \n",
       "23      1.500000  0.700000  0.487470   3.298672   rod-shaped   \n",
       "104     1.039230  0.346410  0.087062   1.130973  ring-shaped   \n",
       "148    67.082039  0.244949  3.157319  51.621635          NaN   \n",
       "\n",
       "                                      species  \n",
       "taxid                                          \n",
       "11                        Cellulomonas gilvus  \n",
       "14                  Dictyoglomus thermophilum  \n",
       "23                     Shewanella colwelliana  \n",
       "104                    Cyclobacterium marinum  \n",
       "148    Sediminispirochaeta bajacaliforniensis  "
      ]
     },
     "execution_count": 45,
     "metadata": {},
     "output_type": "execute_result"
    }
   ],
   "source": [
    "dfr.head()"
   ]
  },
  {
   "cell_type": "markdown",
   "metadata": {},
   "source": [
    "Fill more ranks"
   ]
  },
  {
   "cell_type": "code",
   "execution_count": 46,
   "metadata": {},
   "outputs": [],
   "source": [
    "ranks = ['species', 'genus', 'family', 'order', 'class', 'phylum', 'superkingdom']"
   ]
  },
  {
   "cell_type": "code",
   "execution_count": 47,
   "metadata": {},
   "outputs": [],
   "source": [
    "res = {x: {} for x in ranks[1:]}"
   ]
  },
  {
   "cell_type": "code",
   "execution_count": 48,
   "metadata": {},
   "outputs": [],
   "source": [
    "rankset = set(ranks[1:])"
   ]
  },
  {
   "cell_type": "code",
   "execution_count": 49,
   "metadata": {},
   "outputs": [],
   "source": [
    "for tid in dfr.index.astype(str):\n",
    "    this = tid\n",
    "    while True:\n",
    "        rank = dump[this]['rank']\n",
    "        if rank in rankset:\n",
    "            res[rank][tid] = dump[this]['name']\n",
    "        parent = dump[this]['parent']\n",
    "        if this == parent:\n",
    "            break\n",
    "        this = parent"
   ]
  },
  {
   "cell_type": "code",
   "execution_count": 50,
   "metadata": {},
   "outputs": [],
   "source": [
    "for rank in ranks[1:]:\n",
    "    dfr[rank] = dfr.index.map(res[rank])"
   ]
  },
  {
   "cell_type": "code",
   "execution_count": 51,
   "metadata": {},
   "outputs": [
    {
     "data": {
      "text/html": [
       "<div>\n",
       "<style scoped>\n",
       "    .dataframe tbody tr th:only-of-type {\n",
       "        vertical-align: middle;\n",
       "    }\n",
       "\n",
       "    .dataframe tbody tr th {\n",
       "        vertical-align: top;\n",
       "    }\n",
       "\n",
       "    .dataframe thead th {\n",
       "        text-align: right;\n",
       "    }\n",
       "</style>\n",
       "<table border=\"1\" class=\"dataframe\">\n",
       "  <thead>\n",
       "    <tr style=\"text-align: right;\">\n",
       "      <th></th>\n",
       "      <th>length</th>\n",
       "      <th>width</th>\n",
       "      <th>volume</th>\n",
       "      <th>surface</th>\n",
       "      <th>shape</th>\n",
       "      <th>species</th>\n",
       "      <th>genus</th>\n",
       "      <th>family</th>\n",
       "      <th>order</th>\n",
       "      <th>class</th>\n",
       "      <th>phylum</th>\n",
       "      <th>superkingdom</th>\n",
       "    </tr>\n",
       "    <tr>\n",
       "      <th>taxid</th>\n",
       "      <th></th>\n",
       "      <th></th>\n",
       "      <th></th>\n",
       "      <th></th>\n",
       "      <th></th>\n",
       "      <th></th>\n",
       "      <th></th>\n",
       "      <th></th>\n",
       "      <th></th>\n",
       "      <th></th>\n",
       "      <th></th>\n",
       "      <th></th>\n",
       "    </tr>\n",
       "  </thead>\n",
       "  <tbody>\n",
       "    <tr>\n",
       "      <th>11</th>\n",
       "      <td>2.371708</td>\n",
       "      <td>1.060660</td>\n",
       "      <td>1.783187</td>\n",
       "      <td>7.902917</td>\n",
       "      <td>rod-shaped</td>\n",
       "      <td>Cellulomonas gilvus</td>\n",
       "      <td>Cellulomonas</td>\n",
       "      <td>Cellulomonadaceae</td>\n",
       "      <td>Micrococcales</td>\n",
       "      <td>Actinomycetia</td>\n",
       "      <td>Actinobacteria</td>\n",
       "      <td>Bacteria</td>\n",
       "    </tr>\n",
       "    <tr>\n",
       "      <th>14</th>\n",
       "      <td>10.000000</td>\n",
       "      <td>0.489898</td>\n",
       "      <td>1.854174</td>\n",
       "      <td>15.390598</td>\n",
       "      <td>rod-shaped</td>\n",
       "      <td>Dictyoglomus thermophilum</td>\n",
       "      <td>Dictyoglomus</td>\n",
       "      <td>Dictyoglomaceae</td>\n",
       "      <td>Dictyoglomales</td>\n",
       "      <td>Dictyoglomia</td>\n",
       "      <td>Dictyoglomi</td>\n",
       "      <td>Bacteria</td>\n",
       "    </tr>\n",
       "    <tr>\n",
       "      <th>23</th>\n",
       "      <td>1.500000</td>\n",
       "      <td>0.700000</td>\n",
       "      <td>0.487470</td>\n",
       "      <td>3.298672</td>\n",
       "      <td>rod-shaped</td>\n",
       "      <td>Shewanella colwelliana</td>\n",
       "      <td>Shewanella</td>\n",
       "      <td>Shewanellaceae</td>\n",
       "      <td>Alteromonadales</td>\n",
       "      <td>Gammaproteobacteria</td>\n",
       "      <td>Proteobacteria</td>\n",
       "      <td>Bacteria</td>\n",
       "    </tr>\n",
       "    <tr>\n",
       "      <th>104</th>\n",
       "      <td>1.039230</td>\n",
       "      <td>0.346410</td>\n",
       "      <td>0.087062</td>\n",
       "      <td>1.130973</td>\n",
       "      <td>ring-shaped</td>\n",
       "      <td>Cyclobacterium marinum</td>\n",
       "      <td>Cyclobacterium</td>\n",
       "      <td>Cyclobacteriaceae</td>\n",
       "      <td>Cytophagales</td>\n",
       "      <td>Cytophagia</td>\n",
       "      <td>Bacteroidetes</td>\n",
       "      <td>Bacteria</td>\n",
       "    </tr>\n",
       "    <tr>\n",
       "      <th>148</th>\n",
       "      <td>67.082039</td>\n",
       "      <td>0.244949</td>\n",
       "      <td>3.157319</td>\n",
       "      <td>51.621635</td>\n",
       "      <td>NaN</td>\n",
       "      <td>Sediminispirochaeta bajacaliforniensis</td>\n",
       "      <td>Sediminispirochaeta</td>\n",
       "      <td>Spirochaetaceae</td>\n",
       "      <td>Spirochaetales</td>\n",
       "      <td>Spirochaetia</td>\n",
       "      <td>Spirochaetes</td>\n",
       "      <td>Bacteria</td>\n",
       "    </tr>\n",
       "  </tbody>\n",
       "</table>\n",
       "</div>"
      ],
      "text/plain": [
       "          length     width    volume    surface        shape  \\\n",
       "taxid                                                          \n",
       "11      2.371708  1.060660  1.783187   7.902917   rod-shaped   \n",
       "14     10.000000  0.489898  1.854174  15.390598   rod-shaped   \n",
       "23      1.500000  0.700000  0.487470   3.298672   rod-shaped   \n",
       "104     1.039230  0.346410  0.087062   1.130973  ring-shaped   \n",
       "148    67.082039  0.244949  3.157319  51.621635          NaN   \n",
       "\n",
       "                                      species                genus  \\\n",
       "taxid                                                                \n",
       "11                        Cellulomonas gilvus         Cellulomonas   \n",
       "14                  Dictyoglomus thermophilum         Dictyoglomus   \n",
       "23                     Shewanella colwelliana           Shewanella   \n",
       "104                    Cyclobacterium marinum       Cyclobacterium   \n",
       "148    Sediminispirochaeta bajacaliforniensis  Sediminispirochaeta   \n",
       "\n",
       "                  family            order                class  \\\n",
       "taxid                                                            \n",
       "11     Cellulomonadaceae    Micrococcales        Actinomycetia   \n",
       "14       Dictyoglomaceae   Dictyoglomales         Dictyoglomia   \n",
       "23        Shewanellaceae  Alteromonadales  Gammaproteobacteria   \n",
       "104    Cyclobacteriaceae     Cytophagales           Cytophagia   \n",
       "148      Spirochaetaceae   Spirochaetales         Spirochaetia   \n",
       "\n",
       "               phylum superkingdom  \n",
       "taxid                               \n",
       "11     Actinobacteria     Bacteria  \n",
       "14        Dictyoglomi     Bacteria  \n",
       "23     Proteobacteria     Bacteria  \n",
       "104     Bacteroidetes     Bacteria  \n",
       "148      Spirochaetes     Bacteria  "
      ]
     },
     "execution_count": 51,
     "metadata": {},
     "output_type": "execute_result"
    }
   ],
   "source": [
    "dfr.head()"
   ]
  },
  {
   "cell_type": "markdown",
   "metadata": {},
   "source": [
    "Output"
   ]
  },
  {
   "cell_type": "code",
   "execution_count": 52,
   "metadata": {},
   "outputs": [],
   "source": [
    "dfr.to_csv('annot/species.tsv', sep='\\t')"
   ]
  },
  {
   "cell_type": "markdown",
   "metadata": {},
   "source": [
    "Statistics"
   ]
  },
  {
   "cell_type": "code",
   "execution_count": 53,
   "metadata": {},
   "outputs": [
    {
     "name": "stdout",
     "output_type": "stream",
     "text": [
      "species 4875\n",
      "genus 1665\n",
      "family 384\n",
      "order 160\n",
      "class 68\n",
      "phylum 32\n",
      "superkingdom 2\n"
     ]
    }
   ],
   "source": [
    "for rank in ranks:\n",
    "    print(rank, dfr[rank].nunique())"
   ]
  },
  {
   "cell_type": "code",
   "execution_count": 54,
   "metadata": {},
   "outputs": [
    {
     "data": {
      "text/html": [
       "<div>\n",
       "<style scoped>\n",
       "    .dataframe tbody tr th:only-of-type {\n",
       "        vertical-align: middle;\n",
       "    }\n",
       "\n",
       "    .dataframe tbody tr th {\n",
       "        vertical-align: top;\n",
       "    }\n",
       "\n",
       "    .dataframe thead th {\n",
       "        text-align: right;\n",
       "    }\n",
       "</style>\n",
       "<table border=\"1\" class=\"dataframe\">\n",
       "  <thead>\n",
       "    <tr style=\"text-align: right;\">\n",
       "      <th></th>\n",
       "      <th>length</th>\n",
       "      <th>width</th>\n",
       "      <th>volume</th>\n",
       "      <th>surface</th>\n",
       "      <th>shape</th>\n",
       "      <th>species</th>\n",
       "      <th>genus</th>\n",
       "      <th>family</th>\n",
       "      <th>order</th>\n",
       "      <th>class</th>\n",
       "      <th>phylum</th>\n",
       "      <th>superkingdom</th>\n",
       "    </tr>\n",
       "    <tr>\n",
       "      <th>taxid</th>\n",
       "      <th></th>\n",
       "      <th></th>\n",
       "      <th></th>\n",
       "      <th></th>\n",
       "      <th></th>\n",
       "      <th></th>\n",
       "      <th></th>\n",
       "      <th></th>\n",
       "      <th></th>\n",
       "      <th></th>\n",
       "      <th></th>\n",
       "      <th></th>\n",
       "    </tr>\n",
       "  </thead>\n",
       "  <tbody>\n",
       "    <tr>\n",
       "      <th>582514</th>\n",
       "      <td>3.427827</td>\n",
       "      <td>1.161895</td>\n",
       "      <td>3.223835</td>\n",
       "      <td>12.512258</td>\n",
       "      <td>rod-shaped</td>\n",
       "      <td>Rubidibacter lacunae</td>\n",
       "      <td>Rubidibacter</td>\n",
       "      <td>Aphanothecaceae</td>\n",
       "      <td>Chroococcales</td>\n",
       "      <td>NaN</td>\n",
       "      <td>Cyanobacteria</td>\n",
       "      <td>Bacteria</td>\n",
       "    </tr>\n",
       "  </tbody>\n",
       "</table>\n",
       "</div>"
      ],
      "text/plain": [
       "          length     width    volume    surface       shape  \\\n",
       "taxid                                                         \n",
       "582514  3.427827  1.161895  3.223835  12.512258  rod-shaped   \n",
       "\n",
       "                     species         genus           family          order  \\\n",
       "taxid                                                                        \n",
       "582514  Rubidibacter lacunae  Rubidibacter  Aphanothecaceae  Chroococcales   \n",
       "\n",
       "       class         phylum superkingdom  \n",
       "taxid                                     \n",
       "582514   NaN  Cyanobacteria     Bacteria  "
      ]
     },
     "execution_count": 54,
     "metadata": {},
     "output_type": "execute_result"
    }
   ],
   "source": [
    "dfr[dfr['phylum'] == 'Cyanobacteria']"
   ]
  },
  {
   "cell_type": "markdown",
   "metadata": {},
   "source": [
    "### Entire NCBI"
   ]
  },
  {
   "cell_type": "markdown",
   "metadata": {},
   "source": [
    "This table includes all non-duplicate genomes hosted at NCBI RefSeq and GenBank."
   ]
  },
  {
   "cell_type": "code",
   "execution_count": 55,
   "metadata": {},
   "outputs": [
    {
     "data": {
      "text/html": [
       "<div>\n",
       "<style scoped>\n",
       "    .dataframe tbody tr th:only-of-type {\n",
       "        vertical-align: middle;\n",
       "    }\n",
       "\n",
       "    .dataframe tbody tr th {\n",
       "        vertical-align: top;\n",
       "    }\n",
       "\n",
       "    .dataframe thead th {\n",
       "        text-align: right;\n",
       "    }\n",
       "</style>\n",
       "<table border=\"1\" class=\"dataframe\">\n",
       "  <thead>\n",
       "    <tr style=\"text-align: right;\">\n",
       "      <th></th>\n",
       "      <th>superkingdom</th>\n",
       "      <th>kingdom</th>\n",
       "      <th>phylum</th>\n",
       "      <th>class</th>\n",
       "      <th>order</th>\n",
       "      <th>family</th>\n",
       "      <th>genus</th>\n",
       "      <th>species</th>\n",
       "    </tr>\n",
       "    <tr>\n",
       "      <th>genome</th>\n",
       "      <th></th>\n",
       "      <th></th>\n",
       "      <th></th>\n",
       "      <th></th>\n",
       "      <th></th>\n",
       "      <th></th>\n",
       "      <th></th>\n",
       "      <th></th>\n",
       "    </tr>\n",
       "  </thead>\n",
       "  <tbody>\n",
       "    <tr>\n",
       "      <th>G000001985</th>\n",
       "      <td>Eukaryota</td>\n",
       "      <td>Fungi</td>\n",
       "      <td>Ascomycota</td>\n",
       "      <td>Eurotiomycetes</td>\n",
       "      <td>Eurotiales</td>\n",
       "      <td>Trichocomaceae</td>\n",
       "      <td>Talaromyces</td>\n",
       "      <td>Talaromyces marneffei</td>\n",
       "    </tr>\n",
       "    <tr>\n",
       "      <th>G000002415</th>\n",
       "      <td>Eukaryota</td>\n",
       "      <td>NaN</td>\n",
       "      <td>Apicomplexa</td>\n",
       "      <td>Aconoidasida</td>\n",
       "      <td>Haemosporida</td>\n",
       "      <td>Plasmodiidae</td>\n",
       "      <td>Plasmodium</td>\n",
       "      <td>Plasmodium vivax</td>\n",
       "    </tr>\n",
       "    <tr>\n",
       "      <th>G000002435</th>\n",
       "      <td>Eukaryota</td>\n",
       "      <td>NaN</td>\n",
       "      <td>Fornicata</td>\n",
       "      <td>NaN</td>\n",
       "      <td>Diplomonadida</td>\n",
       "      <td>Hexamitidae</td>\n",
       "      <td>Giardia</td>\n",
       "      <td>Giardia intestinalis</td>\n",
       "    </tr>\n",
       "    <tr>\n",
       "      <th>G000002445</th>\n",
       "      <td>Eukaryota</td>\n",
       "      <td>NaN</td>\n",
       "      <td>Euglenozoa</td>\n",
       "      <td>Kinetoplastea</td>\n",
       "      <td>Trypanosomatida</td>\n",
       "      <td>Trypanosomatidae</td>\n",
       "      <td>Trypanosoma</td>\n",
       "      <td>Trypanosoma brucei</td>\n",
       "    </tr>\n",
       "    <tr>\n",
       "      <th>G000002455</th>\n",
       "      <td>Eukaryota</td>\n",
       "      <td>NaN</td>\n",
       "      <td>Cercozoa</td>\n",
       "      <td>Chlorarachniophyceae</td>\n",
       "      <td>NaN</td>\n",
       "      <td>NaN</td>\n",
       "      <td>Bigelowiella</td>\n",
       "      <td>Bigelowiella natans</td>\n",
       "    </tr>\n",
       "  </tbody>\n",
       "</table>\n",
       "</div>"
      ],
      "text/plain": [
       "           superkingdom kingdom       phylum                 class  \\\n",
       "genome                                                               \n",
       "G000001985    Eukaryota   Fungi   Ascomycota        Eurotiomycetes   \n",
       "G000002415    Eukaryota     NaN  Apicomplexa          Aconoidasida   \n",
       "G000002435    Eukaryota     NaN    Fornicata                   NaN   \n",
       "G000002445    Eukaryota     NaN   Euglenozoa         Kinetoplastea   \n",
       "G000002455    Eukaryota     NaN     Cercozoa  Chlorarachniophyceae   \n",
       "\n",
       "                      order            family         genus  \\\n",
       "genome                                                        \n",
       "G000001985       Eurotiales    Trichocomaceae   Talaromyces   \n",
       "G000002415     Haemosporida      Plasmodiidae    Plasmodium   \n",
       "G000002435    Diplomonadida       Hexamitidae       Giardia   \n",
       "G000002445  Trypanosomatida  Trypanosomatidae   Trypanosoma   \n",
       "G000002455              NaN               NaN  Bigelowiella   \n",
       "\n",
       "                          species  \n",
       "genome                             \n",
       "G000001985  Talaromyces marneffei  \n",
       "G000002415       Plasmodium vivax  \n",
       "G000002435   Giardia intestinalis  \n",
       "G000002445     Trypanosoma brucei  \n",
       "G000002455    Bigelowiella natans  "
      ]
     },
     "execution_count": 55,
     "metadata": {},
     "output_type": "execute_result"
    }
   ],
   "source": [
    "dfa = pd.read_table('all_ranks.tsv.xz', index_col=0)\n",
    "dfa.head()"
   ]
  },
  {
   "cell_type": "code",
   "execution_count": 56,
   "metadata": {},
   "outputs": [
    {
     "data": {
      "text/plain": [
       "1114893"
      ]
     },
     "execution_count": 56,
     "metadata": {},
     "output_type": "execute_result"
    }
   ],
   "source": [
    "dfa.shape[0]"
   ]
  },
  {
   "cell_type": "code",
   "execution_count": 57,
   "metadata": {},
   "outputs": [],
   "source": [
    "proks = ['Bacteria', 'Archaea']"
   ]
  },
  {
   "cell_type": "code",
   "execution_count": 58,
   "metadata": {},
   "outputs": [
    {
     "data": {
      "text/plain": [
       "1063134"
      ]
     },
     "execution_count": 58,
     "metadata": {},
     "output_type": "execute_result"
    }
   ],
   "source": [
    "dfa.query('superkingdom == @proks', inplace=True)\n",
    "dfa.shape[0]"
   ]
  },
  {
   "cell_type": "code",
   "execution_count": 59,
   "metadata": {},
   "outputs": [
    {
     "name": "stdout",
     "output_type": "stream",
     "text": [
      "species 60407\n",
      "genus 3950\n",
      "family 673\n",
      "order 296\n",
      "class 139\n",
      "phylum 200\n",
      "superkingdom 2\n"
     ]
    }
   ],
   "source": [
    "for rank in ranks:\n",
    "    print(rank, dfa[rank].nunique())"
   ]
  },
  {
   "cell_type": "code",
   "execution_count": 60,
   "metadata": {},
   "outputs": [],
   "source": [
    "bins = [1, 10, 100, 1000, 10000, 100000, 1000000]"
   ]
  },
  {
   "cell_type": "code",
   "execution_count": 61,
   "metadata": {},
   "outputs": [
    {
     "data": {
      "image/png": "[encoded data removed]",
      "text/plain": [
       "<Figure size 432x288 with 1 Axes>"
      ]
     },
     "metadata": {
      "needs_background": "light"
     },
     "output_type": "display_data"
    },
    {
     "data": {
      "image/png": "[encoded data removed]",
      "text/plain": [
       "<Figure size 432x288 with 1 Axes>"
      ]
     },
     "metadata": {
      "needs_background": "light"
     },
     "output_type": "display_data"
    },
    {
     "data": {
      "image/png": "[encoded data removed]",
      "text/plain": [
       "<Figure size 432x288 with 1 Axes>"
      ]
     },
     "metadata": {
      "needs_background": "light"
     },
     "output_type": "display_data"
    },
    {
     "data": {
      "image/png": "[encoded data removed]",
      "text/plain": [
       "<Figure size 432x288 with 1 Axes>"
      ]
     },
     "metadata": {
      "needs_background": "light"
     },
     "output_type": "display_data"
    },
    {
     "data": {
      "image/png": "[encoded data removed]",
      "text/plain": [
       "<Figure size 432x288 with 1 Axes>"
      ]
     },
     "metadata": {
      "needs_background": "light"
     },
     "output_type": "display_data"
    },
    {
     "data": {
      "image/png": "[encoded data removed]",
      "text/plain": [
       "<Figure size 432x288 with 1 Axes>"
      ]
     },
     "metadata": {
      "needs_background": "light"
     },
     "output_type": "display_data"
    },
    {
     "data": {
      "image/png": "[encoded data removed]",
      "text/plain": [
       "<Figure size 432x288 with 1 Axes>"
      ]
     },
     "metadata": {
      "needs_background": "light"
     },
     "output_type": "display_data"
    }
   ],
   "source": [
    "for rank in ranks:\n",
    "    counts = dfa[rank].value_counts().rename('all').to_frame()\n",
    "    counts['sampled'] = counts.index.map(dfr[rank].value_counts()).fillna(0).astype(int)\n",
    "    plt.hist(counts.query('sampled != 0')['all'], bins=bins, alpha=0.5, log=True, label='Sampled')\n",
    "    plt.hist(counts.query('sampled == 0')['all'], bins=bins, alpha=0.5, log=True, label='Unampled')\n",
    "    plt.xscale('log')\n",
    "    plt.xlabel('Number of genomes')\n",
    "    plt.ylabel('Number of taxa')\n",
    "    plt.legend()\n",
    "    plt.title(rank.capitalize())\n",
    "    plt.show()"
   ]
  },
  {
   "cell_type": "markdown",
   "metadata": {},
   "source": [
    "Top 10 species"
   ]
  },
  {
   "cell_type": "code",
   "execution_count": 62,
   "metadata": {},
   "outputs": [],
   "source": [
    "rank = 'species'"
   ]
  },
  {
   "cell_type": "code",
   "execution_count": 63,
   "metadata": {},
   "outputs": [
    {
     "data": {
      "text/html": [
       "<div>\n",
       "<style scoped>\n",
       "    .dataframe tbody tr th:only-of-type {\n",
       "        vertical-align: middle;\n",
       "    }\n",
       "\n",
       "    .dataframe tbody tr th {\n",
       "        vertical-align: top;\n",
       "    }\n",
       "\n",
       "    .dataframe thead th {\n",
       "        text-align: right;\n",
       "    }\n",
       "</style>\n",
       "<table border=\"1\" class=\"dataframe\">\n",
       "  <thead>\n",
       "    <tr style=\"text-align: right;\">\n",
       "      <th></th>\n",
       "      <th>all</th>\n",
       "      <th>sampled</th>\n",
       "    </tr>\n",
       "  </thead>\n",
       "  <tbody>\n",
       "    <tr>\n",
       "      <th>Salmonella enterica</th>\n",
       "      <td>375417</td>\n",
       "      <td>1</td>\n",
       "    </tr>\n",
       "    <tr>\n",
       "      <th>Escherichia coli</th>\n",
       "      <td>142518</td>\n",
       "      <td>1</td>\n",
       "    </tr>\n",
       "    <tr>\n",
       "      <th>Campylobacter jejuni</th>\n",
       "      <td>48171</td>\n",
       "      <td>0</td>\n",
       "    </tr>\n",
       "    <tr>\n",
       "      <th>Listeria monocytogenes</th>\n",
       "      <td>44033</td>\n",
       "      <td>0</td>\n",
       "    </tr>\n",
       "    <tr>\n",
       "      <th>Staphylococcus aureus</th>\n",
       "      <td>25850</td>\n",
       "      <td>0</td>\n",
       "    </tr>\n",
       "    <tr>\n",
       "      <th>Streptococcus pneumoniae</th>\n",
       "      <td>22491</td>\n",
       "      <td>0</td>\n",
       "    </tr>\n",
       "    <tr>\n",
       "      <th>Campylobacter coli</th>\n",
       "      <td>19807</td>\n",
       "      <td>0</td>\n",
       "    </tr>\n",
       "    <tr>\n",
       "      <th>Klebsiella pneumoniae</th>\n",
       "      <td>16037</td>\n",
       "      <td>0</td>\n",
       "    </tr>\n",
       "    <tr>\n",
       "      <th>Enterococcus faecium</th>\n",
       "      <td>13070</td>\n",
       "      <td>0</td>\n",
       "    </tr>\n",
       "    <tr>\n",
       "      <th>Shigella sonnei</th>\n",
       "      <td>12267</td>\n",
       "      <td>0</td>\n",
       "    </tr>\n",
       "  </tbody>\n",
       "</table>\n",
       "</div>"
      ],
      "text/plain": [
       "                             all  sampled\n",
       "Salmonella enterica       375417        1\n",
       "Escherichia coli          142518        1\n",
       "Campylobacter jejuni       48171        0\n",
       "Listeria monocytogenes     44033        0\n",
       "Staphylococcus aureus      25850        0\n",
       "Streptococcus pneumoniae   22491        0\n",
       "Campylobacter coli         19807        0\n",
       "Klebsiella pneumoniae      16037        0\n",
       "Enterococcus faecium       13070        0\n",
       "Shigella sonnei            12267        0"
      ]
     },
     "execution_count": 63,
     "metadata": {},
     "output_type": "execute_result"
    }
   ],
   "source": [
    "counts = dfa[rank].value_counts().rename('all').to_frame()\n",
    "counts['sampled'] = counts.index.map(dfr[rank].value_counts()).fillna(0).astype(int)\n",
    "counts.sort_values('all', ascending=False).head(10)"
   ]
  },
  {
   "cell_type": "markdown",
   "metadata": {},
   "source": [
    "### Collapse to higher ranks"
   ]
  },
  {
   "cell_type": "code",
   "execution_count": 64,
   "metadata": {},
   "outputs": [
    {
     "data": {
      "text/html": [
       "<div>\n",
       "<style scoped>\n",
       "    .dataframe tbody tr th:only-of-type {\n",
       "        vertical-align: middle;\n",
       "    }\n",
       "\n",
       "    .dataframe tbody tr th {\n",
       "        vertical-align: top;\n",
       "    }\n",
       "\n",
       "    .dataframe thead th {\n",
       "        text-align: right;\n",
       "    }\n",
       "</style>\n",
       "<table border=\"1\" class=\"dataframe\">\n",
       "  <thead>\n",
       "    <tr style=\"text-align: right;\">\n",
       "      <th></th>\n",
       "      <th>designation</th>\n",
       "      <th>strain</th>\n",
       "      <th>type_strain</th>\n",
       "      <th>species</th>\n",
       "      <th>shape</th>\n",
       "      <th>reference</th>\n",
       "      <th>taxid</th>\n",
       "      <th>length</th>\n",
       "      <th>width</th>\n",
       "      <th>volume</th>\n",
       "      <th>surface</th>\n",
       "      <th>sptid</th>\n",
       "    </tr>\n",
       "    <tr>\n",
       "      <th>ID</th>\n",
       "      <th></th>\n",
       "      <th></th>\n",
       "      <th></th>\n",
       "      <th></th>\n",
       "      <th></th>\n",
       "      <th></th>\n",
       "      <th></th>\n",
       "      <th></th>\n",
       "      <th></th>\n",
       "      <th></th>\n",
       "      <th></th>\n",
       "      <th></th>\n",
       "    </tr>\n",
       "  </thead>\n",
       "  <tbody>\n",
       "    <tr>\n",
       "      <th>159837</th>\n",
       "      <td>OUC007</td>\n",
       "      <td>KCTC 52933, MCCC 1K03450, OUC007</td>\n",
       "      <td>1</td>\n",
       "      <td>Abyssibacter profundi</td>\n",
       "      <td>rod-shaped</td>\n",
       "      <td>66716</td>\n",
       "      <td>2182787.0</td>\n",
       "      <td>1.797220</td>\n",
       "      <td>0.489898</td>\n",
       "      <td>0.307987</td>\n",
       "      <td>2.766029</td>\n",
       "      <td>2182787</td>\n",
       "    </tr>\n",
       "    <tr>\n",
       "      <th>132478</th>\n",
       "      <td>L81</td>\n",
       "      <td>DSM 29592, JCM 30920</td>\n",
       "      <td>1</td>\n",
       "      <td>Abyssivirga alkaniphila</td>\n",
       "      <td>rod-shaped</td>\n",
       "      <td>43989</td>\n",
       "      <td>1675854.0</td>\n",
       "      <td>3.162278</td>\n",
       "      <td>0.500000</td>\n",
       "      <td>0.588187</td>\n",
       "      <td>4.967294</td>\n",
       "      <td>1675854</td>\n",
       "    </tr>\n",
       "    <tr>\n",
       "      <th>24718</th>\n",
       "      <td>FYK2218</td>\n",
       "      <td>DSM 28897, KCTC 12899, NBRC 101209</td>\n",
       "      <td>1</td>\n",
       "      <td>Acanthopleuribacter pedis</td>\n",
       "      <td>rod-shaped</td>\n",
       "      <td>32501</td>\n",
       "      <td>442870.0</td>\n",
       "      <td>3.358571</td>\n",
       "      <td>0.836660</td>\n",
       "      <td>1.693145</td>\n",
       "      <td>8.827819</td>\n",
       "      <td>442870</td>\n",
       "    </tr>\n",
       "    <tr>\n",
       "      <th>7517</th>\n",
       "      <td>CSC</td>\n",
       "      <td>DSM 14247, CCUG 49701, NBRC 107788, CIP 109141</td>\n",
       "      <td>1</td>\n",
       "      <td>Acaricomes phytoseiuli</td>\n",
       "      <td>coccus-shaped</td>\n",
       "      <td>31628</td>\n",
       "      <td>291968.0</td>\n",
       "      <td>1.224745</td>\n",
       "      <td>0.632456</td>\n",
       "      <td>0.318534</td>\n",
       "      <td>2.433467</td>\n",
       "      <td>291968</td>\n",
       "    </tr>\n",
       "    <tr>\n",
       "      <th>134101</th>\n",
       "      <td>Z7</td>\n",
       "      <td>JCM 12359, AS1.5012</td>\n",
       "      <td>1</td>\n",
       "      <td>Acetanaerobacterium elongatum</td>\n",
       "      <td>rod-shaped</td>\n",
       "      <td>31285</td>\n",
       "      <td>258515.0</td>\n",
       "      <td>6.000000</td>\n",
       "      <td>0.300000</td>\n",
       "      <td>0.417046</td>\n",
       "      <td>5.654867</td>\n",
       "      <td>258515</td>\n",
       "    </tr>\n",
       "  </tbody>\n",
       "</table>\n",
       "</div>"
      ],
      "text/plain": [
       "       designation                                          strain  \\\n",
       "ID                                                                   \n",
       "159837      OUC007                KCTC 52933, MCCC 1K03450, OUC007   \n",
       "132478         L81                            DSM 29592, JCM 30920   \n",
       "24718      FYK2218              DSM 28897, KCTC 12899, NBRC 101209   \n",
       "7517           CSC  DSM 14247, CCUG 49701, NBRC 107788, CIP 109141   \n",
       "134101          Z7                             JCM 12359, AS1.5012   \n",
       "\n",
       "        type_strain                        species          shape  reference  \\\n",
       "ID                                                                             \n",
       "159837            1          Abyssibacter profundi     rod-shaped      66716   \n",
       "132478            1        Abyssivirga alkaniphila     rod-shaped      43989   \n",
       "24718             1      Acanthopleuribacter pedis     rod-shaped      32501   \n",
       "7517              1         Acaricomes phytoseiuli  coccus-shaped      31628   \n",
       "134101            1  Acetanaerobacterium elongatum     rod-shaped      31285   \n",
       "\n",
       "            taxid    length     width    volume   surface    sptid  \n",
       "ID                                                                  \n",
       "159837  2182787.0  1.797220  0.489898  0.307987  2.766029  2182787  \n",
       "132478  1675854.0  3.162278  0.500000  0.588187  4.967294  1675854  \n",
       "24718    442870.0  3.358571  0.836660  1.693145  8.827819   442870  \n",
       "7517     291968.0  1.224745  0.632456  0.318534  2.433467   291968  \n",
       "134101   258515.0  6.000000  0.300000  0.417046  5.654867   258515  "
      ]
     },
     "execution_count": 64,
     "metadata": {},
     "output_type": "execute_result"
    }
   ],
   "source": [
    "df.head()"
   ]
  },
  {
   "cell_type": "code",
   "execution_count": 65,
   "metadata": {},
   "outputs": [],
   "source": [
    "def get_rank(tid, rank):\n",
    "    if tid == '1':\n",
    "        return None\n",
    "    if dump[tid]['rank'] == rank:\n",
    "        return tid\n",
    "    return get_rank(dump[tid]['parent'], rank)"
   ]
  },
  {
   "cell_type": "code",
   "execution_count": 66,
   "metadata": {},
   "outputs": [
    {
     "name": "stdout",
     "output_type": "stream",
     "text": [
      "genus: 1665\n",
      "family: 384\n",
      "order: 160\n",
      "class: 68\n",
      "phylum: 32\n",
      "superkingdom: 2\n"
     ]
    }
   ],
   "source": [
    "for rank in ranks[1:]:\n",
    "    dfr = df.copy().drop(columns=['taxid'])\n",
    "    dfr['taxid'] = dfr['sptid'].apply(lambda x: get_rank(x, rank))\n",
    "    dfr = dfr.dropna(subset=['taxid'])\n",
    "    dfr = dfr.groupby('taxid')[cols].agg(gmean)\n",
    "    dfr = dfr.loc[sorted(dfr.index, key=int)]\n",
    "    ranks_ = ranks[ranks.index(rank):]\n",
    "    res = {x: {} for x in ranks_}\n",
    "    rankset = set(ranks_)\n",
    "    for tid in dfr.index.astype(str):\n",
    "        this = tid\n",
    "        while True:\n",
    "            rank_ = dump[this]['rank']\n",
    "            if rank_ in rankset:\n",
    "                res[rank_][tid] = dump[this]['name']\n",
    "            parent = dump[this]['parent']\n",
    "            if this == parent:\n",
    "                break\n",
    "            this = parent\n",
    "    for rank_ in ranks_:\n",
    "        dfr[rank_] = dfr.index.map(res[rank_])\n",
    "    dfr.to_csv(f'annot/{rank}.tsv', sep='\\t')\n",
    "    print(f'{rank}: {dfr.shape[0]}')"
   ]
  },
  {
   "cell_type": "code",
   "execution_count": null,
   "metadata": {},
   "outputs": [],
   "source": []
  },
  {
   "cell_type": "code",
   "execution_count": null,
   "metadata": {},
   "outputs": [],
   "source": []
  },
  {
   "cell_type": "code",
   "execution_count": null,
   "metadata": {},
   "outputs": [],
   "source": []
  }
 ],
 "metadata": {
  "kernelspec": {
   "display_name": "Python 3",
   "language": "python",
   "name": "python3"
  },
  "language_info": {
   "codemirror_mode": {
    "name": "ipython",
    "version": 3
   },
   "file_extension": ".py",
   "mimetype": "text/x-python",
   "name": "python",
   "nbconvert_exporter": "python",
   "pygments_lexer": "ipython3",
   "version": "3.8.5"
  }
 },
 "nbformat": 4,
 "nbformat_minor": 5
}
