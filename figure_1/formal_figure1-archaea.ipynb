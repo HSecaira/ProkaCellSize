{
 "cells": [
  {
   "cell_type": "markdown",
   "metadata": {},
   "source": [
    "# Figure 1"
   ]
  },
  {
   "cell_type": "markdown",
   "metadata": {},
   "source": [
    "## Preparation"
   ]
  },
  {
   "cell_type": "markdown",
   "metadata": {
    "tags": []
   },
   "source": [
    "Imports"
   ]
  },
  {
   "cell_type": "code",
   "execution_count": 1,
   "metadata": {
    "tags": []
   },
   "outputs": [],
   "source": [
    "import numpy as np\n",
    "import pandas as pd\n",
    "import matplotlib.pyplot as plt"
   ]
  },
  {
   "cell_type": "code",
   "execution_count": 2,
   "metadata": {
    "tags": []
   },
   "outputs": [],
   "source": [
    "from scipy.stats import gaussian_kde, ttest_ind, mannwhitneyu"
   ]
  },
  {
   "cell_type": "markdown",
   "metadata": {},
   "source": [
    "Plot style"
   ]
  },
  {
   "cell_type": "code",
   "execution_count": 3,
   "metadata": {
    "tags": []
   },
   "outputs": [],
   "source": [
    "plt.rcParams.update({\n",
    "    'figure.autolayout': True,\n",
    "    'savefig.bbox': 'tight',\n",
    "    'svg.fonttype': 'none',\n",
    "    'font.sans-serif': 'Arial',\n",
    "    'font.size': 11,\n",
    "    'boxplot.medianprops.linewidth': 2,\n",
    "    'boxplot.flierprops.markeredgecolor': 'none',\n",
    "    'boxplot.flierprops.markersize': 5})"
   ]
  },
  {
   "cell_type": "markdown",
   "metadata": {},
   "source": [
    "Special character"
   ]
  },
  {
   "cell_type": "code",
   "execution_count": 4,
   "metadata": {
    "tags": []
   },
   "outputs": [
    {
     "data": {
      "text/plain": [
       "'μ'"
      ]
     },
     "execution_count": 4,
     "metadata": {},
     "output_type": "execute_result"
    }
   ],
   "source": [
    "mu = chr(956)\n",
    "mu"
   ]
  },
  {
   "cell_type": "markdown",
   "metadata": {},
   "source": [
    "Load data"
   ]
  },
  {
   "cell_type": "code",
   "execution_count": 5,
   "metadata": {
    "tags": []
   },
   "outputs": [
    {
     "data": {
      "text/html": [
       "<div>\n",
       "<style scoped>\n",
       "    .dataframe tbody tr th:only-of-type {\n",
       "        vertical-align: middle;\n",
       "    }\n",
       "\n",
       "    .dataframe tbody tr th {\n",
       "        vertical-align: top;\n",
       "    }\n",
       "\n",
       "    .dataframe thead th {\n",
       "        text-align: right;\n",
       "    }\n",
       "</style>\n",
       "<table border=\"1\" class=\"dataframe\">\n",
       "  <thead>\n",
       "    <tr style=\"text-align: right;\">\n",
       "      <th></th>\n",
       "      <th>length</th>\n",
       "      <th>width</th>\n",
       "      <th>volume</th>\n",
       "      <th>surface</th>\n",
       "      <th>shape</th>\n",
       "      <th>species</th>\n",
       "      <th>genus</th>\n",
       "      <th>family</th>\n",
       "      <th>order</th>\n",
       "      <th>class</th>\n",
       "      <th>...</th>\n",
       "      <th>rank</th>\n",
       "      <th>node</th>\n",
       "      <th>genome</th>\n",
       "      <th>gc</th>\n",
       "      <th>proteins</th>\n",
       "      <th>coding</th>\n",
       "      <th>rrnas</th>\n",
       "      <th>MILC</th>\n",
       "      <th>ENCprime</th>\n",
       "      <th>hash</th>\n",
       "    </tr>\n",
       "    <tr>\n",
       "      <th>taxid</th>\n",
       "      <th></th>\n",
       "      <th></th>\n",
       "      <th></th>\n",
       "      <th></th>\n",
       "      <th></th>\n",
       "      <th></th>\n",
       "      <th></th>\n",
       "      <th></th>\n",
       "      <th></th>\n",
       "      <th></th>\n",
       "      <th></th>\n",
       "      <th></th>\n",
       "      <th></th>\n",
       "      <th></th>\n",
       "      <th></th>\n",
       "      <th></th>\n",
       "      <th></th>\n",
       "      <th></th>\n",
       "      <th></th>\n",
       "      <th></th>\n",
       "      <th></th>\n",
       "    </tr>\n",
       "  </thead>\n",
       "  <tbody>\n",
       "    <tr>\n",
       "      <th>taxid11</th>\n",
       "      <td>2.371708</td>\n",
       "      <td>1.060660</td>\n",
       "      <td>1.783187</td>\n",
       "      <td>7.902917</td>\n",
       "      <td>rod-shaped</td>\n",
       "      <td>Cellulomonas gilvus</td>\n",
       "      <td>Cellulomonas</td>\n",
       "      <td>Cellulomonadaceae</td>\n",
       "      <td>Micrococcales</td>\n",
       "      <td>Actinomycetia</td>\n",
       "      <td>...</td>\n",
       "      <td>species</td>\n",
       "      <td>G000218545</td>\n",
       "      <td>3526441.0</td>\n",
       "      <td>73.81</td>\n",
       "      <td>3206.0</td>\n",
       "      <td>91.772782</td>\n",
       "      <td>2.0</td>\n",
       "      <td>-0.262005</td>\n",
       "      <td>0.100836</td>\n",
       "      <td>1.88</td>\n",
       "    </tr>\n",
       "    <tr>\n",
       "      <th>taxid14</th>\n",
       "      <td>10.000000</td>\n",
       "      <td>0.489898</td>\n",
       "      <td>1.854174</td>\n",
       "      <td>15.390598</td>\n",
       "      <td>rod-shaped</td>\n",
       "      <td>Dictyoglomus thermophilum</td>\n",
       "      <td>Dictyoglomus</td>\n",
       "      <td>Dictyoglomaceae</td>\n",
       "      <td>Dictyoglomales</td>\n",
       "      <td>Dictyoglomia</td>\n",
       "      <td>...</td>\n",
       "      <td>species</td>\n",
       "      <td>G000020965</td>\n",
       "      <td>1959987.0</td>\n",
       "      <td>33.74</td>\n",
       "      <td>1890.0</td>\n",
       "      <td>93.777255</td>\n",
       "      <td>2.0</td>\n",
       "      <td>-0.064429</td>\n",
       "      <td>0.030205</td>\n",
       "      <td>0.58</td>\n",
       "    </tr>\n",
       "    <tr>\n",
       "      <th>taxid23</th>\n",
       "      <td>1.500000</td>\n",
       "      <td>0.700000</td>\n",
       "      <td>0.487470</td>\n",
       "      <td>3.298672</td>\n",
       "      <td>rod-shaped</td>\n",
       "      <td>Shewanella colwelliana</td>\n",
       "      <td>Shewanella</td>\n",
       "      <td>Shewanellaceae</td>\n",
       "      <td>Alteromonadales</td>\n",
       "      <td>Gammaproteobacteria</td>\n",
       "      <td>...</td>\n",
       "      <td>species</td>\n",
       "      <td>G000518705</td>\n",
       "      <td>4575622.0</td>\n",
       "      <td>45.39</td>\n",
       "      <td>4094.0</td>\n",
       "      <td>87.383136</td>\n",
       "      <td>0.0</td>\n",
       "      <td>-0.653363</td>\n",
       "      <td>0.248987</td>\n",
       "      <td>1.25</td>\n",
       "    </tr>\n",
       "    <tr>\n",
       "      <th>taxid104</th>\n",
       "      <td>1.039230</td>\n",
       "      <td>0.346410</td>\n",
       "      <td>0.087062</td>\n",
       "      <td>1.130973</td>\n",
       "      <td>ring-shaped</td>\n",
       "      <td>Cyclobacterium marinum</td>\n",
       "      <td>Cyclobacterium</td>\n",
       "      <td>Cyclobacteriaceae</td>\n",
       "      <td>Cytophagales</td>\n",
       "      <td>Cytophagia</td>\n",
       "      <td>...</td>\n",
       "      <td>species</td>\n",
       "      <td>G000222485</td>\n",
       "      <td>6221273.0</td>\n",
       "      <td>38.15</td>\n",
       "      <td>5114.0</td>\n",
       "      <td>87.121317</td>\n",
       "      <td>3.0</td>\n",
       "      <td>-0.200638</td>\n",
       "      <td>0.102722</td>\n",
       "      <td>1.33</td>\n",
       "    </tr>\n",
       "    <tr>\n",
       "      <th>taxid114</th>\n",
       "      <td>2.049390</td>\n",
       "      <td>2.049390</td>\n",
       "      <td>4.506844</td>\n",
       "      <td>13.194689</td>\n",
       "      <td>spherical</td>\n",
       "      <td>Gemmata obscuriglobus</td>\n",
       "      <td>Gemmata</td>\n",
       "      <td>Gemmataceae</td>\n",
       "      <td>Gemmatales</td>\n",
       "      <td>Planctomycetia</td>\n",
       "      <td>...</td>\n",
       "      <td>species</td>\n",
       "      <td>G000171775</td>\n",
       "      <td>9161841.0</td>\n",
       "      <td>67.18</td>\n",
       "      <td>8067.0</td>\n",
       "      <td>84.083188</td>\n",
       "      <td>3.0</td>\n",
       "      <td>-0.154188</td>\n",
       "      <td>0.056476</td>\n",
       "      <td>1.00</td>\n",
       "    </tr>\n",
       "  </tbody>\n",
       "</table>\n",
       "<p>5 rows × 22 columns</p>\n",
       "</div>"
      ],
      "text/plain": [
       "             length     width    volume    surface        shape  \\\n",
       "taxid                                                             \n",
       "taxid11    2.371708  1.060660  1.783187   7.902917   rod-shaped   \n",
       "taxid14   10.000000  0.489898  1.854174  15.390598   rod-shaped   \n",
       "taxid23    1.500000  0.700000  0.487470   3.298672   rod-shaped   \n",
       "taxid104   1.039230  0.346410  0.087062   1.130973  ring-shaped   \n",
       "taxid114   2.049390  2.049390  4.506844  13.194689    spherical   \n",
       "\n",
       "                            species           genus             family  \\\n",
       "taxid                                                                    \n",
       "taxid11         Cellulomonas gilvus    Cellulomonas  Cellulomonadaceae   \n",
       "taxid14   Dictyoglomus thermophilum    Dictyoglomus    Dictyoglomaceae   \n",
       "taxid23      Shewanella colwelliana      Shewanella     Shewanellaceae   \n",
       "taxid104     Cyclobacterium marinum  Cyclobacterium  Cyclobacteriaceae   \n",
       "taxid114      Gemmata obscuriglobus         Gemmata        Gemmataceae   \n",
       "\n",
       "                    order                class  ...     rank        node  \\\n",
       "taxid                                           ...                        \n",
       "taxid11     Micrococcales        Actinomycetia  ...  species  G000218545   \n",
       "taxid14    Dictyoglomales         Dictyoglomia  ...  species  G000020965   \n",
       "taxid23   Alteromonadales  Gammaproteobacteria  ...  species  G000518705   \n",
       "taxid104     Cytophagales           Cytophagia  ...  species  G000222485   \n",
       "taxid114       Gemmatales       Planctomycetia  ...  species  G000171775   \n",
       "\n",
       "             genome     gc  proteins     coding  rrnas      MILC  ENCprime  \\\n",
       "taxid                                                                        \n",
       "taxid11   3526441.0  73.81    3206.0  91.772782    2.0 -0.262005  0.100836   \n",
       "taxid14   1959987.0  33.74    1890.0  93.777255    2.0 -0.064429  0.030205   \n",
       "taxid23   4575622.0  45.39    4094.0  87.383136    0.0 -0.653363  0.248987   \n",
       "taxid104  6221273.0  38.15    5114.0  87.121317    3.0 -0.200638  0.102722   \n",
       "taxid114  9161841.0  67.18    8067.0  84.083188    3.0 -0.154188  0.056476   \n",
       "\n",
       "          hash  \n",
       "taxid           \n",
       "taxid11   1.88  \n",
       "taxid14   0.58  \n",
       "taxid23   1.25  \n",
       "taxid104  1.33  \n",
       "taxid114  1.00  \n",
       "\n",
       "[5 rows x 22 columns]"
      ]
     },
     "execution_count": 5,
     "metadata": {},
     "output_type": "execute_result"
    }
   ],
   "source": [
    "df = pd.read_table('../phylogeny/place/fine_all.tsv', index_col = 0)\n",
    "df.head()"
   ]
  },
  {
   "cell_type": "code",
   "execution_count": 6,
   "metadata": {},
   "outputs": [],
   "source": [
    "df['log_length'] = np.log10(df['length'])\n",
    "df['log_width'] = np.log10(df['width'])\n",
    "df['log_volume'] = np.log10(df['volume'])\n",
    "df['log_surface'] = np.log10(df['surface'])\n",
    "df['vsratio'] = df['volume'] / df['surface']\n",
    "df['log_vsratio'] = np.log10(df['vsratio'])"
   ]
  },
  {
   "cell_type": "code",
   "execution_count": 7,
   "metadata": {},
   "outputs": [],
   "source": [
    "df_bac = df[df['kingdom'] == 'Bacteria']"
   ]
  },
  {
   "cell_type": "code",
   "execution_count": 8,
   "metadata": {},
   "outputs": [],
   "source": [
    "df_arch = df[df['kingdom'] == 'Archaea']"
   ]
  },
  {
   "cell_type": "code",
   "execution_count": 9,
   "metadata": {},
   "outputs": [
    {
     "data": {
      "text/plain": [
       "Ttest_indResult(statistic=-4.408536302704342, pvalue=1.060983588663239e-05)"
      ]
     },
     "execution_count": 9,
     "metadata": {},
     "output_type": "execute_result"
    }
   ],
   "source": [
    "ttest_ind(df_bac['log_vsratio'], df_arch['log_vsratio'])"
   ]
  },
  {
   "cell_type": "code",
   "execution_count": 10,
   "metadata": {},
   "outputs": [
    {
     "data": {
      "text/plain": [
       "MannwhitneyuResult(statistic=324195.5, pvalue=6.676956909722328e-10)"
      ]
     },
     "execution_count": 10,
     "metadata": {},
     "output_type": "execute_result"
    }
   ],
   "source": [
    "mannwhitneyu(df_bac['log_vsratio'], df_arch['log_vsratio'])"
   ]
  },
  {
   "cell_type": "code",
   "execution_count": 11,
   "metadata": {},
   "outputs": [
    {
     "data": {
      "text/plain": [
       "(5209, 28)"
      ]
     },
     "execution_count": 11,
     "metadata": {},
     "output_type": "execute_result"
    }
   ],
   "source": [
    "df_bac.shape"
   ]
  },
  {
   "cell_type": "code",
   "execution_count": 12,
   "metadata": {},
   "outputs": [
    {
     "data": {
      "text/plain": [
       "(171, 28)"
      ]
     },
     "execution_count": 12,
     "metadata": {},
     "output_type": "execute_result"
    }
   ],
   "source": [
    "df_arch.shape"
   ]
  },
  {
   "cell_type": "code",
   "execution_count": 13,
   "metadata": {},
   "outputs": [],
   "source": [
    "# sh_labels = ['Rods', 'Cocci', 'Spirals', 'Filaments']\n",
    "sh_labels = ['Bacteria', 'Archaea']\n",
    "# sh_colors = ['#456990', '#ef767a', '#49beaa', '#9d4edd']\n",
    "sh_colors = ['#ef767a', '#456990']"
   ]
  },
  {
   "cell_type": "code",
   "execution_count": 14,
   "metadata": {},
   "outputs": [],
   "source": [
    "sh_dats = [df_bac['log_vsratio'], df_arch['log_vsratio']]"
   ]
  },
  {
   "cell_type": "code",
   "execution_count": 15,
   "metadata": {},
   "outputs": [],
   "source": [
    "violin_args = dict(widths=0.8, showmedians=False, showextrema=False)\n",
    "box_args = dict(whis=None, showcaps=False, widths=0.06, patch_artist=True,\n",
    "                boxprops=dict(color='k', facecolor='k', alpha=0.8),\n",
    "                whiskerprops=dict(color='k', linewidth=1, alpha=0.8),\n",
    "                medianprops=dict(color='w', linewidth=2))"
   ]
  },
  {
   "cell_type": "code",
   "execution_count": 16,
   "metadata": {},
   "outputs": [
    {
     "data": {
      "image/png": "[encoded data removed]",
      "text/plain": [
       "<Figure size 288x288 with 1 Axes>"
      ]
     },
     "metadata": {
      "needs_background": "light"
     },
     "output_type": "display_data"
    }
   ],
   "source": [
    "plt.figure(figsize=(4, 4))\n",
    "sh_ticks = []\n",
    "for i, (dat_, label, color) in enumerate(zip(sh_dats, sh_labels, sh_colors)):\n",
    "    vlp = plt.violinplot(dat_, positions=[i], **violin_args)\n",
    "    vlp['bodies'][0].set_facecolor(color)\n",
    "    vlp['bodies'][0].set_edgecolor('k')\n",
    "    vlp['bodies'][0].set_alpha(0.5)\n",
    "    plt.boxplot(dat_, positions=[i], **box_args)\n",
    "    sh_ticks.append(f'{label}\\n(n = {dat_.shape[0]})')\n",
    "plt.xticks(np.arange(len(sh_dats)), sh_ticks)\n",
    "plt.ylabel(f'Log (volume-to-surface ratio, {mu}m)')\n",
    "# plt.ylim(-1.55, 1.5)\n",
    "# plt.savefig('fig1_inset.svg')\n",
    "plt.show()"
   ]
  },
  {
   "cell_type": "code",
   "execution_count": 17,
   "metadata": {},
   "outputs": [
    {
     "data": {
      "text/plain": [
       "-0.8905113428792305"
      ]
     },
     "execution_count": 17,
     "metadata": {},
     "output_type": "execute_result"
    }
   ],
   "source": [
    "np.mean(df_bac['log_vsratio'])"
   ]
  },
  {
   "cell_type": "code",
   "execution_count": 18,
   "metadata": {},
   "outputs": [
    {
     "data": {
      "text/plain": [
       "-0.8103829256166495"
      ]
     },
     "execution_count": 18,
     "metadata": {},
     "output_type": "execute_result"
    }
   ],
   "source": [
    "np.mean(df_arch['log_vsratio'])"
   ]
  },
  {
   "cell_type": "code",
   "execution_count": 19,
   "metadata": {},
   "outputs": [],
   "source": [
    "mu_bac, std_bac = np.mean(df_bac['log_vsratio']), np.std(df_bac['log_vsratio'])"
   ]
  },
  {
   "cell_type": "code",
   "execution_count": 20,
   "metadata": {},
   "outputs": [
    {
     "data": {
      "text/plain": [
       "0.22"
      ]
     },
     "execution_count": 20,
     "metadata": {},
     "output_type": "execute_result"
    }
   ],
   "source": [
    "round(10 ** (mu_bac + std_bac), 2)"
   ]
  },
  {
   "cell_type": "code",
   "execution_count": 21,
   "metadata": {},
   "outputs": [],
   "source": [
    "mu_arc, std_arc = np.mean(df_arch['log_surface']), np.std(df_arch['log_surface'])"
   ]
  },
  {
   "cell_type": "code",
   "execution_count": 22,
   "metadata": {},
   "outputs": [
    {
     "data": {
      "text/plain": [
       "12.19"
      ]
     },
     "execution_count": 22,
     "metadata": {},
     "output_type": "execute_result"
    }
   ],
   "source": [
    "round(10 ** (mu_arc + std_arc), 2)"
   ]
  },
  {
   "cell_type": "code",
   "execution_count": null,
   "metadata": {},
   "outputs": [],
   "source": []
  },
  {
   "cell_type": "markdown",
   "metadata": {},
   "source": [
    "Analyses"
   ]
  },
  {
   "cell_type": "code",
   "execution_count": 23,
   "metadata": {},
   "outputs": [
    {
     "data": {
      "text/html": [
       "<div>\n",
       "<style scoped>\n",
       "    .dataframe tbody tr th:only-of-type {\n",
       "        vertical-align: middle;\n",
       "    }\n",
       "\n",
       "    .dataframe tbody tr th {\n",
       "        vertical-align: top;\n",
       "    }\n",
       "\n",
       "    .dataframe thead th {\n",
       "        text-align: right;\n",
       "    }\n",
       "</style>\n",
       "<table border=\"1\" class=\"dataframe\">\n",
       "  <thead>\n",
       "    <tr style=\"text-align: right;\">\n",
       "      <th></th>\n",
       "      <th>length</th>\n",
       "      <th>width</th>\n",
       "      <th>volume</th>\n",
       "      <th>surface</th>\n",
       "      <th>shape</th>\n",
       "      <th>species</th>\n",
       "      <th>genus</th>\n",
       "      <th>family</th>\n",
       "      <th>order</th>\n",
       "      <th>class</th>\n",
       "      <th>...</th>\n",
       "      <th>rrnas</th>\n",
       "      <th>MILC</th>\n",
       "      <th>ENCprime</th>\n",
       "      <th>hash</th>\n",
       "      <th>log_length</th>\n",
       "      <th>log_width</th>\n",
       "      <th>log_volume</th>\n",
       "      <th>log_surface</th>\n",
       "      <th>vsratio</th>\n",
       "      <th>log_vsratio</th>\n",
       "    </tr>\n",
       "    <tr>\n",
       "      <th>taxid</th>\n",
       "      <th></th>\n",
       "      <th></th>\n",
       "      <th></th>\n",
       "      <th></th>\n",
       "      <th></th>\n",
       "      <th></th>\n",
       "      <th></th>\n",
       "      <th></th>\n",
       "      <th></th>\n",
       "      <th></th>\n",
       "      <th></th>\n",
       "      <th></th>\n",
       "      <th></th>\n",
       "      <th></th>\n",
       "      <th></th>\n",
       "      <th></th>\n",
       "      <th></th>\n",
       "      <th></th>\n",
       "      <th></th>\n",
       "      <th></th>\n",
       "      <th></th>\n",
       "    </tr>\n",
       "  </thead>\n",
       "  <tbody>\n",
       "    <tr>\n",
       "      <th>taxid2161</th>\n",
       "      <td>12.247449</td>\n",
       "      <td>0.707107</td>\n",
       "      <td>4.717002</td>\n",
       "      <td>27.206990</td>\n",
       "      <td>rod</td>\n",
       "      <td>Methanobacterium bryantii</td>\n",
       "      <td>Methanobacterium</td>\n",
       "      <td>Methanobacteriaceae</td>\n",
       "      <td>Methanobacteriales</td>\n",
       "      <td>Methanobacteria</td>\n",
       "      <td>...</td>\n",
       "      <td>1.0</td>\n",
       "      <td>-0.228116</td>\n",
       "      <td>0.102580</td>\n",
       "      <td>0.09</td>\n",
       "      <td>1.088046</td>\n",
       "      <td>-0.150515</td>\n",
       "      <td>0.673666</td>\n",
       "      <td>1.434681</td>\n",
       "      <td>0.173375</td>\n",
       "      <td>-0.761014</td>\n",
       "    </tr>\n",
       "    <tr>\n",
       "      <th>taxid2162</th>\n",
       "      <td>5.477226</td>\n",
       "      <td>0.565685</td>\n",
       "      <td>1.329186</td>\n",
       "      <td>9.733869</td>\n",
       "      <td>rod</td>\n",
       "      <td>Methanobacterium formicicum</td>\n",
       "      <td>Methanobacterium</td>\n",
       "      <td>Methanobacteriaceae</td>\n",
       "      <td>Methanobacteriales</td>\n",
       "      <td>Methanobacteria</td>\n",
       "      <td>...</td>\n",
       "      <td>2.0</td>\n",
       "      <td>-0.261580</td>\n",
       "      <td>0.119786</td>\n",
       "      <td>1.77</td>\n",
       "      <td>0.738561</td>\n",
       "      <td>-0.247425</td>\n",
       "      <td>0.123586</td>\n",
       "      <td>0.988285</td>\n",
       "      <td>0.136553</td>\n",
       "      <td>-0.864700</td>\n",
       "    </tr>\n",
       "    <tr>\n",
       "      <th>taxid2163</th>\n",
       "      <td>3.872983</td>\n",
       "      <td>0.632456</td>\n",
       "      <td>1.150503</td>\n",
       "      <td>7.695299</td>\n",
       "      <td>rod</td>\n",
       "      <td>Methanobacterium ivanovii</td>\n",
       "      <td>Methanobacterium</td>\n",
       "      <td>Methanobacteriaceae</td>\n",
       "      <td>Methanobacteriales</td>\n",
       "      <td>Methanobacteria</td>\n",
       "      <td>...</td>\n",
       "      <td>1.0</td>\n",
       "      <td>-0.228116</td>\n",
       "      <td>0.102580</td>\n",
       "      <td>0.68</td>\n",
       "      <td>0.588046</td>\n",
       "      <td>-0.198970</td>\n",
       "      <td>0.060888</td>\n",
       "      <td>0.886225</td>\n",
       "      <td>0.149507</td>\n",
       "      <td>-0.825338</td>\n",
       "    </tr>\n",
       "    <tr>\n",
       "      <th>taxid2171</th>\n",
       "      <td>3.535534</td>\n",
       "      <td>0.500000</td>\n",
       "      <td>0.661476</td>\n",
       "      <td>5.553604</td>\n",
       "      <td>rod</td>\n",
       "      <td>Methanobacterium palustre</td>\n",
       "      <td>Methanobacterium</td>\n",
       "      <td>Methanobacteriaceae</td>\n",
       "      <td>Methanobacteriales</td>\n",
       "      <td>Methanobacteria</td>\n",
       "      <td>...</td>\n",
       "      <td>1.0</td>\n",
       "      <td>-0.228116</td>\n",
       "      <td>0.102580</td>\n",
       "      <td>1.31</td>\n",
       "      <td>0.548455</td>\n",
       "      <td>-0.301030</td>\n",
       "      <td>-0.179486</td>\n",
       "      <td>0.744575</td>\n",
       "      <td>0.119107</td>\n",
       "      <td>-0.924061</td>\n",
       "    </tr>\n",
       "    <tr>\n",
       "      <th>taxid2173</th>\n",
       "      <td>1.000000</td>\n",
       "      <td>0.648074</td>\n",
       "      <td>0.258608</td>\n",
       "      <td>2.035985</td>\n",
       "      <td>rod</td>\n",
       "      <td>Methanobrevibacter smithii</td>\n",
       "      <td>Methanobrevibacter</td>\n",
       "      <td>Methanobacteriaceae</td>\n",
       "      <td>Methanobacteriales</td>\n",
       "      <td>Methanobacteria</td>\n",
       "      <td>...</td>\n",
       "      <td>1.0</td>\n",
       "      <td>-0.320990</td>\n",
       "      <td>0.134639</td>\n",
       "      <td>0.07</td>\n",
       "      <td>0.000000</td>\n",
       "      <td>-0.188375</td>\n",
       "      <td>-0.587358</td>\n",
       "      <td>0.308775</td>\n",
       "      <td>0.127019</td>\n",
       "      <td>-0.896133</td>\n",
       "    </tr>\n",
       "  </tbody>\n",
       "</table>\n",
       "<p>5 rows × 28 columns</p>\n",
       "</div>"
      ],
      "text/plain": [
       "              length     width    volume    surface shape  \\\n",
       "taxid                                                       \n",
       "taxid2161  12.247449  0.707107  4.717002  27.206990   rod   \n",
       "taxid2162   5.477226  0.565685  1.329186   9.733869   rod   \n",
       "taxid2163   3.872983  0.632456  1.150503   7.695299   rod   \n",
       "taxid2171   3.535534  0.500000  0.661476   5.553604   rod   \n",
       "taxid2173   1.000000  0.648074  0.258608   2.035985   rod   \n",
       "\n",
       "                               species               genus  \\\n",
       "taxid                                                        \n",
       "taxid2161    Methanobacterium bryantii    Methanobacterium   \n",
       "taxid2162  Methanobacterium formicicum    Methanobacterium   \n",
       "taxid2163    Methanobacterium ivanovii    Methanobacterium   \n",
       "taxid2171    Methanobacterium palustre    Methanobacterium   \n",
       "taxid2173   Methanobrevibacter smithii  Methanobrevibacter   \n",
       "\n",
       "                        family               order            class  ...  \\\n",
       "taxid                                                                ...   \n",
       "taxid2161  Methanobacteriaceae  Methanobacteriales  Methanobacteria  ...   \n",
       "taxid2162  Methanobacteriaceae  Methanobacteriales  Methanobacteria  ...   \n",
       "taxid2163  Methanobacteriaceae  Methanobacteriales  Methanobacteria  ...   \n",
       "taxid2171  Methanobacteriaceae  Methanobacteriales  Methanobacteria  ...   \n",
       "taxid2173  Methanobacteriaceae  Methanobacteriales  Methanobacteria  ...   \n",
       "\n",
       "          rrnas      MILC  ENCprime  hash  log_length  log_width  log_volume  \\\n",
       "taxid                                                                          \n",
       "taxid2161   1.0 -0.228116  0.102580  0.09    1.088046  -0.150515    0.673666   \n",
       "taxid2162   2.0 -0.261580  0.119786  1.77    0.738561  -0.247425    0.123586   \n",
       "taxid2163   1.0 -0.228116  0.102580  0.68    0.588046  -0.198970    0.060888   \n",
       "taxid2171   1.0 -0.228116  0.102580  1.31    0.548455  -0.301030   -0.179486   \n",
       "taxid2173   1.0 -0.320990  0.134639  0.07    0.000000  -0.188375   -0.587358   \n",
       "\n",
       "           log_surface   vsratio  log_vsratio  \n",
       "taxid                                          \n",
       "taxid2161     1.434681  0.173375    -0.761014  \n",
       "taxid2162     0.988285  0.136553    -0.864700  \n",
       "taxid2163     0.886225  0.149507    -0.825338  \n",
       "taxid2171     0.744575  0.119107    -0.924061  \n",
       "taxid2173     0.308775  0.127019    -0.896133  \n",
       "\n",
       "[5 rows x 28 columns]"
      ]
     },
     "execution_count": 23,
     "metadata": {},
     "output_type": "execute_result"
    }
   ],
   "source": [
    "df = df[df['kingdom'] == 'Archaea']\n",
    "df.head()"
   ]
  },
  {
   "cell_type": "markdown",
   "metadata": {},
   "source": [
    "Sample size (total number of species)"
   ]
  },
  {
   "cell_type": "code",
   "execution_count": 24,
   "metadata": {
    "tags": []
   },
   "outputs": [
    {
     "data": {
      "text/plain": [
       "171"
      ]
     },
     "execution_count": 24,
     "metadata": {},
     "output_type": "execute_result"
    }
   ],
   "source": [
    "n = df.shape[0]\n",
    "n"
   ]
  },
  {
   "cell_type": "markdown",
   "metadata": {},
   "source": [
    "Manipulate data"
   ]
  },
  {
   "cell_type": "code",
   "execution_count": 25,
   "metadata": {
    "tags": []
   },
   "outputs": [],
   "source": [
    "def ref_shape(s):\n",
    "    \"\"\"Reformat \"shape column\".\n",
    "    \"\"\"\n",
    "    if 'shaped' in s:\n",
    "        s = s.split('-')[0]\n",
    "    elif s == 'sphere/spheroid':\n",
    "        return 'sphere'\n",
    "    elif s == 'rods':\n",
    "        return 'rod'\n",
    "    elif '/' in s:\n",
    "        s = '-'.join(s.split('/'))\n",
    "    if s in ('ovoid', 'oval', 'ellipsoidal'):\n",
    "        return 'ovoid'\n",
    "    elif s == 'pear':\n",
    "        return 'sphere'\n",
    "    elif s in ('sphere', 'spherical'):\n",
    "        return 'sphere'\n",
    "    else:\n",
    "        return s"
   ]
  },
  {
   "cell_type": "code",
   "execution_count": 26,
   "metadata": {
    "tags": []
   },
   "outputs": [],
   "source": [
    "df['shape'] = df['shape'].fillna('').map(ref_shape)"
   ]
  },
  {
   "cell_type": "code",
   "execution_count": 27,
   "metadata": {
    "tags": []
   },
   "outputs": [],
   "source": [
    "df['log_length'] = np.log10(df['length'])\n",
    "df['log_width'] = np.log10(df['width'])\n",
    "df['log_volume'] = np.log10(df['volume'])\n",
    "df['log_surface'] = np.log10(df['surface'])\n",
    "df['vsratio'] = df['volume'] / df['surface']\n",
    "df['log_vsratio'] = np.log10(df['vsratio'])"
   ]
  },
  {
   "cell_type": "markdown",
   "metadata": {},
   "source": [
    "## Plotting"
   ]
  },
  {
   "cell_type": "code",
   "execution_count": 28,
   "metadata": {},
   "outputs": [],
   "source": [
    "xcol, ycol = 'log_length', 'log_width'"
   ]
  },
  {
   "cell_type": "code",
   "execution_count": 29,
   "metadata": {},
   "outputs": [],
   "source": [
    "x, y = df[xcol], df[ycol]"
   ]
  },
  {
   "cell_type": "markdown",
   "metadata": {},
   "source": [
    "Perform KDE"
   ]
  },
  {
   "cell_type": "code",
   "execution_count": 30,
   "metadata": {
    "tags": []
   },
   "outputs": [],
   "source": [
    "kernel = gaussian_kde(np.vstack([x, y]))"
   ]
  },
  {
   "cell_type": "markdown",
   "metadata": {},
   "source": [
    "Bandwidth"
   ]
  },
  {
   "cell_type": "code",
   "execution_count": 31,
   "metadata": {
    "tags": []
   },
   "outputs": [],
   "source": [
    "bw = np.sqrt(np.sqrt(np.prod(np.diag(kernel.covariance))))"
   ]
  },
  {
   "cell_type": "markdown",
   "metadata": {},
   "source": [
    "Plot range (200 x 200 grid, 3x bandwidth beyond extreme)"
   ]
  },
  {
   "cell_type": "code",
   "execution_count": 32,
   "metadata": {},
   "outputs": [],
   "source": [
    "cut = 3\n",
    "gridsize = 200"
   ]
  },
  {
   "cell_type": "code",
   "execution_count": 33,
   "metadata": {
    "tags": []
   },
   "outputs": [],
   "source": [
    "xmin = x.min() - bw * cut\n",
    "xmax = x.max() + bw * cut"
   ]
  },
  {
   "cell_type": "code",
   "execution_count": 34,
   "metadata": {
    "tags": []
   },
   "outputs": [],
   "source": [
    "ymin = y.min() - bw * cut\n",
    "ymax = y.max() + bw * cut"
   ]
  },
  {
   "cell_type": "code",
   "execution_count": 35,
   "metadata": {
    "tags": []
   },
   "outputs": [],
   "source": [
    "xran = np.linspace(xmin, xmax, gridsize)\n",
    "yran = np.linspace(ymin, ymax, gridsize)"
   ]
  },
  {
   "cell_type": "code",
   "execution_count": 36,
   "metadata": {
    "tags": []
   },
   "outputs": [],
   "source": [
    "X, Y = np.meshgrid(xran, yran)"
   ]
  },
  {
   "cell_type": "code",
   "execution_count": 37,
   "metadata": {
    "tags": []
   },
   "outputs": [],
   "source": [
    "xygrid = np.vstack([X.ravel(), Y.ravel()])"
   ]
  },
  {
   "cell_type": "markdown",
   "metadata": {},
   "source": [
    "Calculate probability density across the grid."
   ]
  },
  {
   "cell_type": "code",
   "execution_count": 38,
   "metadata": {
    "tags": []
   },
   "outputs": [],
   "source": [
    "probs = kernel(xygrid)"
   ]
  },
  {
   "cell_type": "code",
   "execution_count": 39,
   "metadata": {
    "tags": []
   },
   "outputs": [],
   "source": [
    "Z = probs.reshape(gridsize, gridsize)"
   ]
  },
  {
   "cell_type": "markdown",
   "metadata": {},
   "source": [
    "Contour above probability mass 0.1%."
   ]
  },
  {
   "cell_type": "code",
   "execution_count": 40,
   "metadata": {},
   "outputs": [],
   "source": [
    "thresh = 0.001"
   ]
  },
  {
   "cell_type": "code",
   "execution_count": 41,
   "metadata": {},
   "outputs": [],
   "source": [
    "probs_sorted = np.sort(probs.ravel())[::-1]\n",
    "unit_area = (xmax - xmin) * (ymax - ymin) / (gridsize - 1) ** 2\n",
    "idx = np.flatnonzero(np.cumsum(probs_sorted) >= (1 - thresh) / unit_area)[0]\n",
    "prob_th = probs_sorted[idx]"
   ]
  },
  {
   "cell_type": "markdown",
   "metadata": {},
   "source": [
    "Convert to species density."
   ]
  },
  {
   "cell_type": "code",
   "execution_count": 42,
   "metadata": {},
   "outputs": [],
   "source": [
    "Z *= (n / 1000)\n",
    "prob_th *= (n / 1000)"
   ]
  },
  {
   "cell_type": "code",
   "execution_count": 43,
   "metadata": {},
   "outputs": [],
   "source": [
    "# levels = np.linspace(prob_th, Z.max(), 8)\n",
    "levels = np.linspace(prob_th, Z.max(), 8)"
   ]
  },
  {
   "cell_type": "code",
   "execution_count": 44,
   "metadata": {
    "tags": []
   },
   "outputs": [
    {
     "data": {
      "image/png": "[encoded data removed]",
      "text/plain": [
       "<Figure size 432x288 with 2 Axes>"
      ]
     },
     "metadata": {
      "needs_background": "light"
     },
     "output_type": "display_data"
    }
   ],
   "source": [
    "plt.contourf(X, Y, Z, levels=levels, cmap='Reds')\n",
    "plt.xlim(-1.3, 4.2)\n",
    "plt.ylim(-1.3, 2.3)\n",
    "plt.colorbar();"
   ]
  },
  {
   "cell_type": "markdown",
   "metadata": {},
   "source": [
    "## V/S ratio"
   ]
  },
  {
   "cell_type": "markdown",
   "metadata": {},
   "source": [
    "Mask size space where length < width."
   ]
  },
  {
   "cell_type": "code",
   "execution_count": 45,
   "metadata": {
    "tags": []
   },
   "outputs": [],
   "source": [
    "mask = X < Y"
   ]
  },
  {
   "cell_type": "code",
   "execution_count": 46,
   "metadata": {
    "tags": []
   },
   "outputs": [],
   "source": [
    "X_masked = np.ma.masked_where(mask, X)\n",
    "Y_masked = np.ma.masked_where(mask, Y)"
   ]
  },
  {
   "cell_type": "code",
   "execution_count": 47,
   "metadata": {
    "tags": []
   },
   "outputs": [],
   "source": [
    "X_exp, Y_exp = 10 ** X_masked, 10 ** Y_masked"
   ]
  },
  {
   "cell_type": "markdown",
   "metadata": {},
   "source": [
    "Volume"
   ]
  },
  {
   "cell_type": "code",
   "execution_count": 48,
   "metadata": {
    "tags": []
   },
   "outputs": [],
   "source": [
    "V = np.pi * (Y_exp / 2) ** 2 * ((4 / 3) * (Y_exp / 2) + (X_exp - Y_exp))"
   ]
  },
  {
   "cell_type": "markdown",
   "metadata": {},
   "source": [
    "Surface area"
   ]
  },
  {
   "cell_type": "code",
   "execution_count": 49,
   "metadata": {
    "tags": []
   },
   "outputs": [],
   "source": [
    "S = 2 * np.pi * (Y_exp / 2) * (2 * (Y_exp / 2) + (X_exp - Y_exp))"
   ]
  },
  {
   "cell_type": "markdown",
   "metadata": {},
   "source": [
    "V/S ratio"
   ]
  },
  {
   "cell_type": "code",
   "execution_count": 50,
   "metadata": {
    "tags": []
   },
   "outputs": [],
   "source": [
    "W = np.log10(V / S)"
   ]
  },
  {
   "cell_type": "markdown",
   "metadata": {},
   "source": [
    "Contour plot"
   ]
  },
  {
   "cell_type": "code",
   "execution_count": 51,
   "metadata": {
    "tags": []
   },
   "outputs": [
    {
     "data": {
      "image/png": "[encoded data removed]",
      "text/plain": [
       "<Figure size 432x288 with 2 Axes>"
      ]
     },
     "metadata": {
      "needs_background": "light"
     },
     "output_type": "display_data"
    }
   ],
   "source": [
    "cs = plt.contour(X, Y, W, linestyles='dashed', levels=15)\n",
    "plt.clabel(cs, fontsize='small', colors='k')\n",
    "plt.colorbar(label=f'Log (Volume-to-surface ratio, {mu}m)');"
   ]
  },
  {
   "cell_type": "markdown",
   "metadata": {},
   "source": [
    "## Cell shapes"
   ]
  },
  {
   "cell_type": "code",
   "execution_count": 52,
   "metadata": {},
   "outputs": [
    {
     "data": {
      "text/plain": [
       "array(['rod', 'sphere', 'disk', 'triangular', 'coccus', 'ovoid', '',\n",
       "       'pleomorphic'], dtype=object)"
      ]
     },
     "execution_count": 52,
     "metadata": {},
     "output_type": "execute_result"
    }
   ],
   "source": [
    "df['shape'].unique()"
   ]
  },
  {
   "cell_type": "code",
   "execution_count": 53,
   "metadata": {},
   "outputs": [
    {
     "data": {
      "text/plain": [
       "rod            79\n",
       "sphere         49\n",
       "coccus         25\n",
       "disk            5\n",
       "                5\n",
       "ovoid           4\n",
       "pleomorphic     3\n",
       "triangular      1\n",
       "Name: shape, dtype: int64"
      ]
     },
     "execution_count": 53,
     "metadata": {},
     "output_type": "execute_result"
    }
   ],
   "source": [
    "df['shape'].value_counts()"
   ]
  },
  {
   "cell_type": "code",
   "execution_count": 54,
   "metadata": {},
   "outputs": [],
   "source": [
    "# sh_keys = [['rod'], ['coccus', 'sphere', 'ovoid'], ['helical', 'spiral', 'vibrio'], ['filament']]\n",
    "sh_keys = [['coccus', 'sphere', 'ovoid'], ['rod']]\n",
    "# sh_labels = ['Rods', 'Cocci', 'Spirals', 'Filaments']\n",
    "sh_labels = ['Cocci', 'Rods']\n",
    "# sh_colors = ['#456990', '#ef767a', '#49beaa', '#9d4edd']\n",
    "sh_colors = ['#ef767a', '#456990']"
   ]
  },
  {
   "cell_type": "code",
   "execution_count": 55,
   "metadata": {},
   "outputs": [],
   "source": [
    "sh_dats = [df.query('shape == @k')['log_vsratio'].values for k in sh_keys]"
   ]
  },
  {
   "cell_type": "code",
   "execution_count": 56,
   "metadata": {},
   "outputs": [],
   "source": [
    "violin_args = dict(widths=0.8, showmedians=False, showextrema=False)\n",
    "box_args = dict(whis=None, showcaps=False, widths=0.06, patch_artist=True,\n",
    "                boxprops=dict(color='k', facecolor='k', alpha=0.8),\n",
    "                whiskerprops=dict(color='k', linewidth=1, alpha=0.8),\n",
    "                medianprops=dict(color='w', linewidth=2))"
   ]
  },
  {
   "cell_type": "code",
   "execution_count": 57,
   "metadata": {},
   "outputs": [
    {
     "data": {
      "text/plain": [
       "(-1.55, 1.5)"
      ]
     },
     "execution_count": 57,
     "metadata": {},
     "output_type": "execute_result"
    },
    {
     "data": {
      "image/png": "[encoded data removed]",
      "text/plain": [
       "<Figure size 288x288 with 1 Axes>"
      ]
     },
     "metadata": {
      "needs_background": "light"
     },
     "output_type": "display_data"
    }
   ],
   "source": [
    "plt.figure(figsize=(4, 4))\n",
    "sh_ticks = []\n",
    "for i, (dat_, label, color) in enumerate(zip(sh_dats, sh_labels, sh_colors)):\n",
    "    vlp = plt.violinplot(dat_, positions=[i], **violin_args)\n",
    "    vlp['bodies'][0].set_facecolor(color)\n",
    "    vlp['bodies'][0].set_edgecolor('k')\n",
    "    vlp['bodies'][0].set_alpha(0.5)\n",
    "    plt.boxplot(dat_, positions=[i], **box_args)\n",
    "    sh_ticks.append(f'{label}\\n(n = {dat_.shape[0]})')\n",
    "plt.xticks(np.arange(len(sh_dats)), sh_ticks)\n",
    "plt.ylabel(f'Log (volume-to-surface ratio, {mu}m)')\n",
    "plt.ylim(-1.55, 1.5)\n",
    "# plt.savefig('fig1_inset.svg')"
   ]
  },
  {
   "cell_type": "markdown",
   "metadata": {},
   "source": [
    "Perform KDE on each shape."
   ]
  },
  {
   "cell_type": "code",
   "execution_count": 58,
   "metadata": {},
   "outputs": [],
   "source": [
    "sh_Zs = [gaussian_kde(df.query('shape == @k')[[xcol, ycol]].values.T)(\n",
    "    xygrid).reshape(gridsize, gridsize) for k in sh_keys]"
   ]
  },
  {
   "cell_type": "markdown",
   "metadata": {},
   "source": [
    "Determine contour threshold by shape fraction."
   ]
  },
  {
   "cell_type": "code",
   "execution_count": 59,
   "metadata": {},
   "outputs": [],
   "source": [
    "sh_fracs = [d.size / n for d in sh_dats]"
   ]
  },
  {
   "cell_type": "code",
   "execution_count": 60,
   "metadata": {},
   "outputs": [
    {
     "data": {
      "image/png": "[encoded data removed]",
      "text/plain": [
       "<Figure size 432x288 with 1 Axes>"
      ]
     },
     "metadata": {
      "needs_background": "light"
     },
     "output_type": "display_data"
    }
   ],
   "source": [
    "for Z_, label, color, frac in zip(sh_Zs, sh_labels, sh_colors, sh_fracs):\n",
    "    plt.contour(X, Y, Z_, levels=[0.001 / frac], colors=color)\n",
    "plt.xlim(-1.1, 4.2)\n",
    "plt.ylim(-1.1, 2.3)\n",
    "plt.show()"
   ]
  },
  {
   "cell_type": "markdown",
   "metadata": {},
   "source": [
    "## Species of interest"
   ]
  },
  {
   "cell_type": "code",
   "execution_count": 61,
   "metadata": {},
   "outputs": [],
   "source": [
    "species = {\n",
    "    'taxid562':   'E. coli',\n",
    "    'taxid1423':  'B. subtilis',\n",
    "    'taxid77094': 'E. fishelsoni',\n",
    "    'taxid90372': 'Ca. T. magnifica',\n",
    "    'taxid90373': 'T. namibiensis',\n",
    "    'taxid2096':  'M. gallisepticum',\n",
    "    'taxid2097':  'M. genitalium'\n",
    "}"
   ]
  },
  {
   "cell_type": "markdown",
   "metadata": {},
   "source": [
    "## Full plot"
   ]
  },
  {
   "cell_type": "code",
   "execution_count": 62,
   "metadata": {},
   "outputs": [],
   "source": [
    "from matplotlib.patches import Rectangle"
   ]
  },
  {
   "cell_type": "code",
   "execution_count": 63,
   "metadata": {},
   "outputs": [],
   "source": [
    "# plt.figure(figsize=(11, 7.5))\n",
    "# ax = plt.gca()\n",
    "\n",
    "# # contour plot\n",
    "# plt.contourf(X, Y, Z, levels=levels, cmap='Reds')\n",
    "# plt.xlabel(f'Log (Length, {mu}m)', fontsize = 'large', labelpad=10)\n",
    "# plt.ylabel(f'Log (Width, {mu}m)', fontsize = 'large', labelpad=10)\n",
    "# plt.tick_params(top = True, right = True, direction = 'in', which = 'both')\n",
    "# # plt.xlim(-1, 4.3)\n",
    "\n",
    "# # color bar\n",
    "# # cax = ax.inset_axes([0.7, 0.05, 0.04, 0.4])\n",
    "# # plt.colorbar(cax = cax, label='Species density (k)')\n",
    "# plt.colorbar().set_label(label='Species density (k)', size = 'large')\n",
    "\n",
    "# # # color bar frame\n",
    "# # ax.add_patch(Rectangle(\n",
    "# #     (0.68, 0.03), 0.15, 0.44, transform=ax.transAxes, zorder=3,\n",
    "# #     linewidth=0.75, edgecolor='k', facecolor='white'))\n",
    "\n",
    "# # v/s ratio\n",
    "# cs = plt.contour(X, Y, W, colors='grey', linestyles='dashed',\n",
    "#                  linewidths=1, levels=15)\n",
    "# plt.clabel(cs, colors='k', zorder=1)\n",
    "\n",
    "# # v/s ratio label\n",
    "# ax2 = ax.twinx()\n",
    "# ax2.set_yticks([])\n",
    "# ax2.set_ylabel(f'Log (Volume-to-surface ratio, {mu}m)',\n",
    "#                fontsize='large', color='grey', labelpad=10)\n",
    "\n",
    "# # diagonal line\n",
    "# dmin, dmax = max(xmin, ymin), min(xmax, ymax)\n",
    "# plt.plot([dmin, dmax], [dmin, dmax], color='grey', lw=3, ls='dashed', alpha=0.5)\n",
    "# plt.text(dmax * 0.75, dmax * 0.75, 'Length = width', color='grey',\n",
    "#          ha='center', va='bottom', rotation=45)\n",
    "\n",
    "# # shape ranges\n",
    "# for Z_, label, color, frac in zip(sh_Zs, sh_labels, sh_colors, sh_fracs):\n",
    "#     plt.contour(X, Y, Z_, levels=[0.001 / frac], colors=color)\n",
    "\n",
    "# # v/s ratio by shape (inset)\n",
    "# axin = ax.inset_axes([0.02, 0.68, 0.3, 0.3])\n",
    "# for i, (dat_, label, color) in enumerate(zip(sh_dats, sh_labels, sh_colors)):\n",
    "#     vlp = axin.violinplot(dat_, positions=[i], **violin_args)\n",
    "#     vlp['bodies'][0].set_facecolor(color)\n",
    "#     vlp['bodies'][0].set_edgecolor('k')\n",
    "#     vlp['bodies'][0].set_alpha(0.6)\n",
    "#     axin.boxplot(dat_, positions=[i], **box_args)\n",
    "# axin.set_xticks(ticks = np.arange(len(sh_dats)))\n",
    "# axin.set_xticklabels(sh_ticks, fontsize = 10.5)\n",
    "# axin.set_ylim(top=1.55)\n",
    "# axin.set_ylabel(f'Log (V/S ratio, {mu}m)', fontsize = 11)\n",
    "# axin.yaxis.set_label_position('right')\n",
    "# axin.yaxis.tick_right()\n",
    "# axin.tick_params(top = True, right = True, direction = 'in', which = 'both')\n",
    "\n",
    "# # # species of interest\n",
    "# # dfs = df.loc[species.keys()]\n",
    "# # plt.scatter(xcol, ycol, data=dfs, color='k')\n",
    "# # for key, value in species.items():\n",
    "# #     plt.text(*dfs.loc[key][[xcol, ycol]], value, style='italic', ha='center', va='bottom')\n",
    "    \n",
    "# plt.xlim(-1.1, 4.2)\n",
    "# plt.ylim(-1.1, 2.3)\n",
    "# plt.show()\n",
    "# # save\n",
    "# # plt.savefig('figures_all/fig1_density_alt2.svg')"
   ]
  },
  {
   "cell_type": "markdown",
   "metadata": {},
   "source": [
    "Probability of finding the most common V/S ratio"
   ]
  },
  {
   "cell_type": "code",
   "execution_count": 64,
   "metadata": {},
   "outputs": [],
   "source": [
    "from scipy.stats import norm"
   ]
  },
  {
   "cell_type": "code",
   "execution_count": 65,
   "metadata": {},
   "outputs": [],
   "source": [
    "array = df['log_vsratio']\n",
    "pdf = gaussian_kde(df['log_vsratio'])"
   ]
  },
  {
   "cell_type": "code",
   "execution_count": 66,
   "metadata": {},
   "outputs": [],
   "source": [
    "mean, std = np.mean(df['log_vsratio']), np.std(df['log_vsratio'])"
   ]
  },
  {
   "cell_type": "code",
   "execution_count": 67,
   "metadata": {},
   "outputs": [],
   "source": [
    "lower_bound, upper_bound = mean - std, mean + std"
   ]
  },
  {
   "cell_type": "code",
   "execution_count": 68,
   "metadata": {},
   "outputs": [],
   "source": [
    "probability = norm.cdf(upper_bound, loc=mean, scale=std) - norm.cdf(lower_bound, loc=mean, scale=std)"
   ]
  },
  {
   "cell_type": "code",
   "execution_count": 69,
   "metadata": {},
   "outputs": [
    {
     "data": {
      "text/plain": [
       "0.68"
      ]
     },
     "execution_count": 69,
     "metadata": {},
     "output_type": "execute_result"
    }
   ],
   "source": [
    "round(probability, 2)"
   ]
  },
  {
   "cell_type": "code",
   "execution_count": 70,
   "metadata": {},
   "outputs": [
    {
     "data": {
      "image/png": "[encoded data removed]",
      "text/plain": [
       "<Figure size 432x288 with 1 Axes>"
      ]
     },
     "metadata": {
      "needs_background": "light"
     },
     "output_type": "display_data"
    }
   ],
   "source": [
    "plt.figure()\n",
    "plt.hist(df['log_length'], density = True, bins = 'auto')\n",
    "plt.show()"
   ]
  },
  {
   "cell_type": "code",
   "execution_count": null,
   "metadata": {},
   "outputs": [],
   "source": []
  },
  {
   "cell_type": "code",
   "execution_count": null,
   "metadata": {},
   "outputs": [],
   "source": []
  },
  {
   "cell_type": "code",
   "execution_count": null,
   "metadata": {},
   "outputs": [],
   "source": []
  }
 ],
 "metadata": {
  "kernelspec": {
   "display_name": "Python 3",
   "language": "python",
   "name": "python3"
  },
  "language_info": {
   "codemirror_mode": {
    "name": "ipython",
    "version": 3
   },
   "file_extension": ".py",
   "mimetype": "text/x-python",
   "name": "python",
   "nbconvert_exporter": "python",
   "pygments_lexer": "ipython3",
   "version": "3.8.5"
  }
 },
 "nbformat": 4,
 "nbformat_minor": 4
}
